{
 "cells": [
  {
   "cell_type": "markdown",
   "metadata": {},
   "source": [
    "# Определение стоимости автомобилей"
   ]
  },
  {
   "cell_type": "markdown",
   "metadata": {},
   "source": [
    "В данном проекте разрабатывается приложение для привлечения новых клиентов для сервиса по продаже автомобилей с пробегом «Не бит, не крашен». Приложение позволяет быстро узнать рыночную стоимость своего автомобиля. Для построении модели используются исторические данные: технические характеристики, комплектации и цены автомобилей. Вам нужно построить модель для определения стоимости. \n",
    "\n",
    "Заказчику важны:\n",
    "- качество предсказания;\n",
    "- скорость предсказания;\n",
    "- время обучения.\n",
    "\n",
    "**Описание данных**\n",
    "Данные находятся в файле /datasets/autos.csv.\n",
    "\n",
    "Признаки\n",
    "\n",
    "    DateCrawled — дата скачивания анкеты из базы\n",
    "    VehicleType — тип автомобильного кузова\n",
    "    RegistrationYear — год регистрации автомобиля\n",
    "    Gearbox — тип коробки передач\n",
    "    Power — мощность (л. с.)\n",
    "    Model — модель автомобиля\n",
    "    Kilometer — пробег (км)\n",
    "    RegistrationMonth — месяц регистрации автомобиля\n",
    "    FuelType — тип топлива\n",
    "    Brand — марка автомобиля\n",
    "    NotRepaired — была машина в ремонте или нет\n",
    "    DateCreated — дата создания анкеты\n",
    "    NumberOfPictures — количество фотографий автомобиля\n",
    "    PostalCode — почтовый индекс владельца анкеты (пользователя)\n",
    "    LastSeen — дата последней активности пользователя\n",
    "\n",
    "Целевой признак\n",
    "\n",
    "    Price — цена (евро)"
   ]
  },
  {
   "cell_type": "markdown",
   "metadata": {},
   "source": [
    "## Подготовка данных"
   ]
  },
  {
   "cell_type": "code",
   "execution_count": 1,
   "metadata": {},
   "outputs": [],
   "source": [
    "import pandas as pd\n",
    "import numpy as np\n",
    "from sklearn.model_selection import train_test_split\n",
    "from sklearn.preprocessing import StandardScaler\n",
    "from sklearn.metrics import mean_squared_error\n",
    "\n",
    "from sklearn.model_selection import GridSearchCV\n",
    "from sklearn.model_selection import StratifiedKFold\n",
    "\n",
    "from sklearn.linear_model import LinearRegression\n",
    "from sklearn.dummy import DummyRegressor\n",
    "from sklearn.ensemble import RandomForestRegressor\n",
    "from sklearn.tree import DecisionTreeRegressor\n",
    "\n",
    "import lightgbm as lgb\n",
    "from sklearn.datasets import load_boston\n",
    "from sklearn.metrics import mean_squared_error\n",
    "from sklearn.model_selection import train_test_split\n",
    "import matplotlib.pyplot as plt\n",
    "from pandas import DataFrame\n",
    "\n",
    "from catboost import CatBoostRegressor\n",
    "from catboost import cv, Pool\n",
    "\n",
    "\n",
    "import time\n",
    "import seaborn as sns\n",
    "\n",
    "from fast_ml.model_development import train_valid_test_split\n",
    "from category_encoders.m_estimate import MEstimateEncoder\n",
    "\n"
   ]
  },
  {
   "cell_type": "code",
   "execution_count": 2,
   "metadata": {},
   "outputs": [],
   "source": [
    "data=pd.read_csv('/datasets/autos.csv')"
   ]
  },
  {
   "cell_type": "code",
   "execution_count": 3,
   "metadata": {},
   "outputs": [],
   "source": [
    "data_len=data.shape[0]"
   ]
  },
  {
   "cell_type": "markdown",
   "metadata": {},
   "source": [
    "### обзорная информация "
   ]
  },
  {
   "cell_type": "code",
   "execution_count": 4,
   "metadata": {},
   "outputs": [
    {
     "data": {
      "text/html": [
       "<div>\n",
       "<style scoped>\n",
       "    .dataframe tbody tr th:only-of-type {\n",
       "        vertical-align: middle;\n",
       "    }\n",
       "\n",
       "    .dataframe tbody tr th {\n",
       "        vertical-align: top;\n",
       "    }\n",
       "\n",
       "    .dataframe thead th {\n",
       "        text-align: right;\n",
       "    }\n",
       "</style>\n",
       "<table border=\"1\" class=\"dataframe\">\n",
       "  <thead>\n",
       "    <tr style=\"text-align: right;\">\n",
       "      <th></th>\n",
       "      <th>DateCrawled</th>\n",
       "      <th>Price</th>\n",
       "      <th>VehicleType</th>\n",
       "      <th>RegistrationYear</th>\n",
       "      <th>Gearbox</th>\n",
       "      <th>Power</th>\n",
       "      <th>Model</th>\n",
       "      <th>Kilometer</th>\n",
       "      <th>RegistrationMonth</th>\n",
       "      <th>FuelType</th>\n",
       "      <th>Brand</th>\n",
       "      <th>Repaired</th>\n",
       "      <th>DateCreated</th>\n",
       "      <th>NumberOfPictures</th>\n",
       "      <th>PostalCode</th>\n",
       "      <th>LastSeen</th>\n",
       "    </tr>\n",
       "  </thead>\n",
       "  <tbody>\n",
       "    <tr>\n",
       "      <th>0</th>\n",
       "      <td>2016-03-24 11:52:17</td>\n",
       "      <td>480</td>\n",
       "      <td>NaN</td>\n",
       "      <td>1993</td>\n",
       "      <td>manual</td>\n",
       "      <td>0</td>\n",
       "      <td>golf</td>\n",
       "      <td>150000</td>\n",
       "      <td>0</td>\n",
       "      <td>petrol</td>\n",
       "      <td>volkswagen</td>\n",
       "      <td>NaN</td>\n",
       "      <td>2016-03-24 00:00:00</td>\n",
       "      <td>0</td>\n",
       "      <td>70435</td>\n",
       "      <td>2016-04-07 03:16:57</td>\n",
       "    </tr>\n",
       "    <tr>\n",
       "      <th>1</th>\n",
       "      <td>2016-03-24 10:58:45</td>\n",
       "      <td>18300</td>\n",
       "      <td>coupe</td>\n",
       "      <td>2011</td>\n",
       "      <td>manual</td>\n",
       "      <td>190</td>\n",
       "      <td>NaN</td>\n",
       "      <td>125000</td>\n",
       "      <td>5</td>\n",
       "      <td>gasoline</td>\n",
       "      <td>audi</td>\n",
       "      <td>yes</td>\n",
       "      <td>2016-03-24 00:00:00</td>\n",
       "      <td>0</td>\n",
       "      <td>66954</td>\n",
       "      <td>2016-04-07 01:46:50</td>\n",
       "    </tr>\n",
       "    <tr>\n",
       "      <th>2</th>\n",
       "      <td>2016-03-14 12:52:21</td>\n",
       "      <td>9800</td>\n",
       "      <td>suv</td>\n",
       "      <td>2004</td>\n",
       "      <td>auto</td>\n",
       "      <td>163</td>\n",
       "      <td>grand</td>\n",
       "      <td>125000</td>\n",
       "      <td>8</td>\n",
       "      <td>gasoline</td>\n",
       "      <td>jeep</td>\n",
       "      <td>NaN</td>\n",
       "      <td>2016-03-14 00:00:00</td>\n",
       "      <td>0</td>\n",
       "      <td>90480</td>\n",
       "      <td>2016-04-05 12:47:46</td>\n",
       "    </tr>\n",
       "    <tr>\n",
       "      <th>3</th>\n",
       "      <td>2016-03-17 16:54:04</td>\n",
       "      <td>1500</td>\n",
       "      <td>small</td>\n",
       "      <td>2001</td>\n",
       "      <td>manual</td>\n",
       "      <td>75</td>\n",
       "      <td>golf</td>\n",
       "      <td>150000</td>\n",
       "      <td>6</td>\n",
       "      <td>petrol</td>\n",
       "      <td>volkswagen</td>\n",
       "      <td>no</td>\n",
       "      <td>2016-03-17 00:00:00</td>\n",
       "      <td>0</td>\n",
       "      <td>91074</td>\n",
       "      <td>2016-03-17 17:40:17</td>\n",
       "    </tr>\n",
       "    <tr>\n",
       "      <th>4</th>\n",
       "      <td>2016-03-31 17:25:20</td>\n",
       "      <td>3600</td>\n",
       "      <td>small</td>\n",
       "      <td>2008</td>\n",
       "      <td>manual</td>\n",
       "      <td>69</td>\n",
       "      <td>fabia</td>\n",
       "      <td>90000</td>\n",
       "      <td>7</td>\n",
       "      <td>gasoline</td>\n",
       "      <td>skoda</td>\n",
       "      <td>no</td>\n",
       "      <td>2016-03-31 00:00:00</td>\n",
       "      <td>0</td>\n",
       "      <td>60437</td>\n",
       "      <td>2016-04-06 10:17:21</td>\n",
       "    </tr>\n",
       "  </tbody>\n",
       "</table>\n",
       "</div>"
      ],
      "text/plain": [
       "           DateCrawled  Price VehicleType  RegistrationYear Gearbox  Power  \\\n",
       "0  2016-03-24 11:52:17    480         NaN              1993  manual      0   \n",
       "1  2016-03-24 10:58:45  18300       coupe              2011  manual    190   \n",
       "2  2016-03-14 12:52:21   9800         suv              2004    auto    163   \n",
       "3  2016-03-17 16:54:04   1500       small              2001  manual     75   \n",
       "4  2016-03-31 17:25:20   3600       small              2008  manual     69   \n",
       "\n",
       "   Model  Kilometer  RegistrationMonth  FuelType       Brand Repaired  \\\n",
       "0   golf     150000                  0    petrol  volkswagen      NaN   \n",
       "1    NaN     125000                  5  gasoline        audi      yes   \n",
       "2  grand     125000                  8  gasoline        jeep      NaN   \n",
       "3   golf     150000                  6    petrol  volkswagen       no   \n",
       "4  fabia      90000                  7  gasoline       skoda       no   \n",
       "\n",
       "           DateCreated  NumberOfPictures  PostalCode             LastSeen  \n",
       "0  2016-03-24 00:00:00                 0       70435  2016-04-07 03:16:57  \n",
       "1  2016-03-24 00:00:00                 0       66954  2016-04-07 01:46:50  \n",
       "2  2016-03-14 00:00:00                 0       90480  2016-04-05 12:47:46  \n",
       "3  2016-03-17 00:00:00                 0       91074  2016-03-17 17:40:17  \n",
       "4  2016-03-31 00:00:00                 0       60437  2016-04-06 10:17:21  "
      ]
     },
     "execution_count": 4,
     "metadata": {},
     "output_type": "execute_result"
    }
   ],
   "source": [
    "data.head()"
   ]
  },
  {
   "cell_type": "code",
   "execution_count": 5,
   "metadata": {},
   "outputs": [
    {
     "name": "stdout",
     "output_type": "stream",
     "text": [
      "<class 'pandas.core.frame.DataFrame'>\n",
      "RangeIndex: 354369 entries, 0 to 354368\n",
      "Data columns (total 16 columns):\n",
      " #   Column             Non-Null Count   Dtype \n",
      "---  ------             --------------   ----- \n",
      " 0   DateCrawled        354369 non-null  object\n",
      " 1   Price              354369 non-null  int64 \n",
      " 2   VehicleType        316879 non-null  object\n",
      " 3   RegistrationYear   354369 non-null  int64 \n",
      " 4   Gearbox            334536 non-null  object\n",
      " 5   Power              354369 non-null  int64 \n",
      " 6   Model              334664 non-null  object\n",
      " 7   Kilometer          354369 non-null  int64 \n",
      " 8   RegistrationMonth  354369 non-null  int64 \n",
      " 9   FuelType           321474 non-null  object\n",
      " 10  Brand              354369 non-null  object\n",
      " 11  Repaired           283215 non-null  object\n",
      " 12  DateCreated        354369 non-null  object\n",
      " 13  NumberOfPictures   354369 non-null  int64 \n",
      " 14  PostalCode         354369 non-null  int64 \n",
      " 15  LastSeen           354369 non-null  object\n",
      "dtypes: int64(7), object(9)\n",
      "memory usage: 43.3+ MB\n"
     ]
    }
   ],
   "source": [
    "data.info()"
   ]
  },
  {
   "cell_type": "code",
   "execution_count": 6,
   "metadata": {},
   "outputs": [
    {
     "data": {
      "text/html": [
       "<div>\n",
       "<style scoped>\n",
       "    .dataframe tbody tr th:only-of-type {\n",
       "        vertical-align: middle;\n",
       "    }\n",
       "\n",
       "    .dataframe tbody tr th {\n",
       "        vertical-align: top;\n",
       "    }\n",
       "\n",
       "    .dataframe thead th {\n",
       "        text-align: right;\n",
       "    }\n",
       "</style>\n",
       "<table border=\"1\" class=\"dataframe\">\n",
       "  <thead>\n",
       "    <tr style=\"text-align: right;\">\n",
       "      <th></th>\n",
       "      <th>Price</th>\n",
       "      <th>RegistrationYear</th>\n",
       "      <th>Power</th>\n",
       "      <th>Kilometer</th>\n",
       "      <th>RegistrationMonth</th>\n",
       "      <th>NumberOfPictures</th>\n",
       "      <th>PostalCode</th>\n",
       "    </tr>\n",
       "  </thead>\n",
       "  <tbody>\n",
       "    <tr>\n",
       "      <th>count</th>\n",
       "      <td>354369.000000</td>\n",
       "      <td>354369.000000</td>\n",
       "      <td>354369.000000</td>\n",
       "      <td>354369.000000</td>\n",
       "      <td>354369.000000</td>\n",
       "      <td>354369.0</td>\n",
       "      <td>354369.000000</td>\n",
       "    </tr>\n",
       "    <tr>\n",
       "      <th>mean</th>\n",
       "      <td>4416.656776</td>\n",
       "      <td>2004.234448</td>\n",
       "      <td>110.094337</td>\n",
       "      <td>128211.172535</td>\n",
       "      <td>5.714645</td>\n",
       "      <td>0.0</td>\n",
       "      <td>50508.689087</td>\n",
       "    </tr>\n",
       "    <tr>\n",
       "      <th>std</th>\n",
       "      <td>4514.158514</td>\n",
       "      <td>90.227958</td>\n",
       "      <td>189.850405</td>\n",
       "      <td>37905.341530</td>\n",
       "      <td>3.726421</td>\n",
       "      <td>0.0</td>\n",
       "      <td>25783.096248</td>\n",
       "    </tr>\n",
       "    <tr>\n",
       "      <th>min</th>\n",
       "      <td>0.000000</td>\n",
       "      <td>1000.000000</td>\n",
       "      <td>0.000000</td>\n",
       "      <td>5000.000000</td>\n",
       "      <td>0.000000</td>\n",
       "      <td>0.0</td>\n",
       "      <td>1067.000000</td>\n",
       "    </tr>\n",
       "    <tr>\n",
       "      <th>25%</th>\n",
       "      <td>1050.000000</td>\n",
       "      <td>1999.000000</td>\n",
       "      <td>69.000000</td>\n",
       "      <td>125000.000000</td>\n",
       "      <td>3.000000</td>\n",
       "      <td>0.0</td>\n",
       "      <td>30165.000000</td>\n",
       "    </tr>\n",
       "    <tr>\n",
       "      <th>50%</th>\n",
       "      <td>2700.000000</td>\n",
       "      <td>2003.000000</td>\n",
       "      <td>105.000000</td>\n",
       "      <td>150000.000000</td>\n",
       "      <td>6.000000</td>\n",
       "      <td>0.0</td>\n",
       "      <td>49413.000000</td>\n",
       "    </tr>\n",
       "    <tr>\n",
       "      <th>75%</th>\n",
       "      <td>6400.000000</td>\n",
       "      <td>2008.000000</td>\n",
       "      <td>143.000000</td>\n",
       "      <td>150000.000000</td>\n",
       "      <td>9.000000</td>\n",
       "      <td>0.0</td>\n",
       "      <td>71083.000000</td>\n",
       "    </tr>\n",
       "    <tr>\n",
       "      <th>max</th>\n",
       "      <td>20000.000000</td>\n",
       "      <td>9999.000000</td>\n",
       "      <td>20000.000000</td>\n",
       "      <td>150000.000000</td>\n",
       "      <td>12.000000</td>\n",
       "      <td>0.0</td>\n",
       "      <td>99998.000000</td>\n",
       "    </tr>\n",
       "  </tbody>\n",
       "</table>\n",
       "</div>"
      ],
      "text/plain": [
       "               Price  RegistrationYear          Power      Kilometer  \\\n",
       "count  354369.000000     354369.000000  354369.000000  354369.000000   \n",
       "mean     4416.656776       2004.234448     110.094337  128211.172535   \n",
       "std      4514.158514         90.227958     189.850405   37905.341530   \n",
       "min         0.000000       1000.000000       0.000000    5000.000000   \n",
       "25%      1050.000000       1999.000000      69.000000  125000.000000   \n",
       "50%      2700.000000       2003.000000     105.000000  150000.000000   \n",
       "75%      6400.000000       2008.000000     143.000000  150000.000000   \n",
       "max     20000.000000       9999.000000   20000.000000  150000.000000   \n",
       "\n",
       "       RegistrationMonth  NumberOfPictures     PostalCode  \n",
       "count      354369.000000          354369.0  354369.000000  \n",
       "mean            5.714645               0.0   50508.689087  \n",
       "std             3.726421               0.0   25783.096248  \n",
       "min             0.000000               0.0    1067.000000  \n",
       "25%             3.000000               0.0   30165.000000  \n",
       "50%             6.000000               0.0   49413.000000  \n",
       "75%             9.000000               0.0   71083.000000  \n",
       "max            12.000000               0.0   99998.000000  "
      ]
     },
     "execution_count": 6,
     "metadata": {},
     "output_type": "execute_result"
    }
   ],
   "source": [
    "data.describe()"
   ]
  },
  {
   "cell_type": "code",
   "execution_count": 7,
   "metadata": {},
   "outputs": [
    {
     "data": {
      "image/png": "[encoded data removed]",
      "text/plain": [
       "<Figure size 1080x1440 with 9 Axes>"
      ]
     },
     "metadata": {
      "needs_background": "light"
     },
     "output_type": "display_data"
    }
   ],
   "source": [
    "data.hist(figsize=(15,20),bins=30);"
   ]
  },
  {
   "cell_type": "markdown",
   "metadata": {},
   "source": [
    "###  Price"
   ]
  },
  {
   "cell_type": "code",
   "execution_count": 8,
   "metadata": {
    "scrolled": true
   },
   "outputs": [
    {
     "data": {
      "text/plain": [
       "<AxesSubplot:>"
      ]
     },
     "execution_count": 8,
     "metadata": {},
     "output_type": "execute_result"
    },
    {
     "data": {
      "image/png": "[encoded data removed]",
      "text/plain": [
       "<Figure size 432x288 with 1 Axes>"
      ]
     },
     "metadata": {
      "needs_background": "light"
     },
     "output_type": "display_data"
    }
   ],
   "source": [
    "data['Price'].plot(kind='box')"
   ]
  },
  {
   "cell_type": "code",
   "execution_count": 9,
   "metadata": {},
   "outputs": [
    {
     "data": {
      "text/plain": [
       "0.0345092262585045"
      ]
     },
     "execution_count": 9,
     "metadata": {},
     "output_type": "execute_result"
    }
   ],
   "source": [
    "(1-data.query('Price<20000 and Price > 1').shape[0]/data.shape[0])"
   ]
  },
  {
   "cell_type": "code",
   "execution_count": 10,
   "metadata": {},
   "outputs": [
    {
     "data": {
      "text/plain": [
       "0.04048040319553914"
      ]
     },
     "execution_count": 10,
     "metadata": {},
     "output_type": "execute_result"
    }
   ],
   "source": [
    "(1-data.query('Price>100').shape[0]/data.shape[0])"
   ]
  },
  {
   "cell_type": "code",
   "execution_count": 11,
   "metadata": {},
   "outputs": [],
   "source": [
    "data=data.query('Price > 100')"
   ]
  },
  {
   "cell_type": "markdown",
   "metadata": {},
   "source": [
    "### Power "
   ]
  },
  {
   "cell_type": "code",
   "execution_count": 12,
   "metadata": {},
   "outputs": [
    {
     "data": {
      "text/plain": [
       "<AxesSubplot:>"
      ]
     },
     "execution_count": 12,
     "metadata": {},
     "output_type": "execute_result"
    },
    {
     "data": {
      "image/png": "[encoded data removed]",
      "text/plain": [
       "<Figure size 432x288 with 1 Axes>"
      ]
     },
     "metadata": {
      "needs_background": "light"
     },
     "output_type": "display_data"
    }
   ],
   "source": [
    "data['Power'].plot(kind='box',logy=True)"
   ]
  },
  {
   "cell_type": "code",
   "execution_count": 13,
   "metadata": {},
   "outputs": [
    {
     "data": {
      "text/plain": [
       "0.001226384019951533"
      ]
     },
     "execution_count": 13,
     "metadata": {},
     "output_type": "execute_result"
    }
   ],
   "source": [
    "data.query('Power>500')['Power'].count()/data.shape[0]"
   ]
  },
  {
   "cell_type": "code",
   "execution_count": 14,
   "metadata": {},
   "outputs": [],
   "source": [
    "data=data.query('Power<500')"
   ]
  },
  {
   "cell_type": "markdown",
   "metadata": {},
   "source": [
    "###  RegistrationYear"
   ]
  },
  {
   "cell_type": "code",
   "execution_count": 15,
   "metadata": {},
   "outputs": [],
   "source": [
    "LOWEST_YEAR=1980"
   ]
  },
  {
   "cell_type": "code",
   "execution_count": 16,
   "metadata": {},
   "outputs": [],
   "source": [
    "for c in ['DateCreated','DateCrawled','LastSeen']:\n",
    "    data[c]=pd.to_datetime(data[c],format='%Y-%m-%d %H:%M:%S')"
   ]
  },
  {
   "cell_type": "code",
   "execution_count": 17,
   "metadata": {},
   "outputs": [
    {
     "name": "stdout",
     "output_type": "stream",
     "text": [
      "DateCreated -> [2016, 2015, 2014]\n",
      "DateCrawled -> [2016]\n",
      "LastSeen -> [2016]\n"
     ]
    }
   ],
   "source": [
    "for c in ['DateCreated','DateCrawled','LastSeen']:\n",
    "    print(c,'->', list(pd.DatetimeIndex(data[c]).year.unique()))"
   ]
  },
  {
   "cell_type": "code",
   "execution_count": 18,
   "metadata": {},
   "outputs": [],
   "source": [
    "data['DateCreated_year']=pd.DatetimeIndex(data[c]).year"
   ]
  },
  {
   "cell_type": "code",
   "execution_count": 19,
   "metadata": {},
   "outputs": [
    {
     "data": {
      "text/plain": [
       "0.04018010960888886"
      ]
     },
     "execution_count": 19,
     "metadata": {},
     "output_type": "execute_result"
    }
   ],
   "source": [
    "data.query('RegistrationYear>DateCreated_year')['RegistrationYear'].shape[0]/data.shape[0]"
   ]
  },
  {
   "cell_type": "code",
   "execution_count": 20,
   "metadata": {},
   "outputs": [],
   "source": [
    "query_limits='RegistrationYear<=2016 and RegistrationYear>=@LOWEST_YEAR and RegistrationYear<=DateCreated_year'"
   ]
  },
  {
   "cell_type": "code",
   "execution_count": 21,
   "metadata": {},
   "outputs": [
    {
     "data": {
      "text/plain": [
       "<AxesSubplot:>"
      ]
     },
     "execution_count": 21,
     "metadata": {},
     "output_type": "execute_result"
    },
    {
     "data": {
      "image/png": "[encoded data removed]",
      "text/plain": [
       "<Figure size 432x288 with 1 Axes>"
      ]
     },
     "metadata": {
      "needs_background": "light"
     },
     "output_type": "display_data"
    }
   ],
   "source": [
    "data.query(query_limits)['RegistrationYear'].hist(bins=30)"
   ]
  },
  {
   "cell_type": "code",
   "execution_count": 22,
   "metadata": {},
   "outputs": [
    {
     "data": {
      "text/plain": [
       "4.91473064543203"
      ]
     },
     "execution_count": 22,
     "metadata": {},
     "output_type": "execute_result"
    }
   ],
   "source": [
    "100-100*len(data.query(query_limits))/len(data)"
   ]
  },
  {
   "cell_type": "code",
   "execution_count": 23,
   "metadata": {},
   "outputs": [],
   "source": [
    "data=data.query(query_limits)"
   ]
  },
  {
   "cell_type": "code",
   "execution_count": 24,
   "metadata": {},
   "outputs": [],
   "source": [
    "data=data.drop(columns='DateCreated_year')"
   ]
  },
  {
   "cell_type": "markdown",
   "metadata": {},
   "source": [
    "### PostalCode"
   ]
  },
  {
   "cell_type": "code",
   "execution_count": 25,
   "metadata": {},
   "outputs": [
    {
     "data": {
      "text/plain": [
       "(8131,)"
      ]
     },
     "execution_count": 25,
     "metadata": {},
     "output_type": "execute_result"
    }
   ],
   "source": [
    "data['PostalCode'].unique().shape"
   ]
  },
  {
   "cell_type": "code",
   "execution_count": 26,
   "metadata": {},
   "outputs": [
    {
     "data": {
      "text/plain": [
       "PostalCode\n",
       "92549      1\n",
       "96196      1\n",
       "91362      1\n",
       "98678      1\n",
       "91369      1\n",
       "        ... \n",
       "32257    279\n",
       "44145    284\n",
       "66333    301\n",
       "65428    562\n",
       "10115    808\n",
       "Name: Price, Length: 8131, dtype: int64"
      ]
     },
     "execution_count": 26,
     "metadata": {},
     "output_type": "execute_result"
    }
   ],
   "source": [
    "data.groupby('PostalCode').count()['Price'].sort_values()"
   ]
  },
  {
   "cell_type": "code",
   "execution_count": 27,
   "metadata": {},
   "outputs": [],
   "source": [
    "# data['PostalCode']=data['PostalCode'].astype('object')"
   ]
  },
  {
   "cell_type": "markdown",
   "metadata": {},
   "source": [
    "Признак PostalCode по своей сути категориальный, но уникальных значенией очень много 8142, да и релевантость признака под вопросом. Поэтому этот признак будет удален. "
   ]
  },
  {
   "cell_type": "markdown",
   "metadata": {},
   "source": [
    "### Удаление признаков"
   ]
  },
  {
   "cell_type": "markdown",
   "metadata": {},
   "source": [
    "Удаляются признаки 'NumberOfPictures','DateCreated','LastSeen', 'DateCrawled'"
   ]
  },
  {
   "cell_type": "code",
   "execution_count": 28,
   "metadata": {},
   "outputs": [
    {
     "data": {
      "text/plain": [
       "0"
      ]
     },
     "execution_count": 28,
     "metadata": {},
     "output_type": "execute_result"
    }
   ],
   "source": [
    "data['NumberOfPictures'].sum()"
   ]
  },
  {
   "cell_type": "code",
   "execution_count": 29,
   "metadata": {},
   "outputs": [],
   "source": [
    "data=data.drop(columns=['DateCrawled','DateCreated','NumberOfPictures','LastSeen','PostalCode'])"
   ]
  },
  {
   "cell_type": "markdown",
   "metadata": {},
   "source": [
    "### RegistrationMonth"
   ]
  },
  {
   "cell_type": "code",
   "execution_count": 30,
   "metadata": {},
   "outputs": [
    {
     "data": {
      "text/plain": [
       "array([ 0,  5,  8,  6,  7, 10, 12, 11,  2,  3,  1,  4,  9])"
      ]
     },
     "execution_count": 30,
     "metadata": {},
     "output_type": "execute_result"
    }
   ],
   "source": [
    "data['RegistrationMonth'].unique()"
   ]
  },
  {
   "cell_type": "code",
   "execution_count": 31,
   "metadata": {},
   "outputs": [
    {
     "data": {
      "text/plain": [
       "array([1993, 2011, 2004, 2001, 2008, 1995, 2014, 1998, 2005, 2016, 2007,\n",
       "       2009, 2002, 1997, 1990, 1981, 2003, 1994, 1991, 1984, 2006, 1999,\n",
       "       2012, 2010, 2000, 1992, 2013, 1996, 1985, 1989, 2015, 1982, 1983,\n",
       "       1987, 1986, 1988, 1980])"
      ]
     },
     "execution_count": 31,
     "metadata": {},
     "output_type": "execute_result"
    }
   ],
   "source": [
    "data['RegistrationYear'].unique()"
   ]
  },
  {
   "cell_type": "markdown",
   "metadata": {},
   "source": [
    "### Категориальные признаки"
   ]
  },
  {
   "cell_type": "code",
   "execution_count": 32,
   "metadata": {},
   "outputs": [
    {
     "name": "stdout",
     "output_type": "stream",
     "text": [
      "Index(['VehicleType', 'Gearbox', 'Model', 'FuelType', 'Brand', 'Repaired'], dtype='object')\n"
     ]
    },
    {
     "data": {
      "text/plain": [
       "Index(['RegistrationYear', 'Power', 'Kilometer', 'RegistrationMonth'], dtype='object')"
      ]
     },
     "execution_count": 32,
     "metadata": {},
     "output_type": "execute_result"
    }
   ],
   "source": [
    "features_categorical=data.select_dtypes(exclude=['int64']).columns\n",
    "features_numerical=data.drop(['Price'],axis=1).select_dtypes(exclude=['object']).columns\n",
    "print(features_categorical)\n",
    "features_numerical\n"
   ]
  },
  {
   "cell_type": "code",
   "execution_count": 33,
   "metadata": {},
   "outputs": [
    {
     "data": {
      "text/html": [
       "<div>\n",
       "<style scoped>\n",
       "    .dataframe tbody tr th:only-of-type {\n",
       "        vertical-align: middle;\n",
       "    }\n",
       "\n",
       "    .dataframe tbody tr th {\n",
       "        vertical-align: top;\n",
       "    }\n",
       "\n",
       "    .dataframe thead th {\n",
       "        text-align: right;\n",
       "    }\n",
       "</style>\n",
       "<table border=\"1\" class=\"dataframe\">\n",
       "  <thead>\n",
       "    <tr style=\"text-align: right;\">\n",
       "      <th></th>\n",
       "      <th>RegistrationYear</th>\n",
       "      <th>Power</th>\n",
       "      <th>Kilometer</th>\n",
       "      <th>RegistrationMonth</th>\n",
       "    </tr>\n",
       "  </thead>\n",
       "  <tbody>\n",
       "    <tr>\n",
       "      <th>RegistrationYear</th>\n",
       "      <td>1.000000</td>\n",
       "      <td>0.142279</td>\n",
       "      <td>-0.327755</td>\n",
       "      <td>0.054942</td>\n",
       "    </tr>\n",
       "    <tr>\n",
       "      <th>Power</th>\n",
       "      <td>0.142279</td>\n",
       "      <td>1.000000</td>\n",
       "      <td>0.071270</td>\n",
       "      <td>0.103613</td>\n",
       "    </tr>\n",
       "    <tr>\n",
       "      <th>Kilometer</th>\n",
       "      <td>-0.327755</td>\n",
       "      <td>0.071270</td>\n",
       "      <td>1.000000</td>\n",
       "      <td>-0.008571</td>\n",
       "    </tr>\n",
       "    <tr>\n",
       "      <th>RegistrationMonth</th>\n",
       "      <td>0.054942</td>\n",
       "      <td>0.103613</td>\n",
       "      <td>-0.008571</td>\n",
       "      <td>1.000000</td>\n",
       "    </tr>\n",
       "  </tbody>\n",
       "</table>\n",
       "</div>"
      ],
      "text/plain": [
       "                   RegistrationYear     Power  Kilometer  RegistrationMonth\n",
       "RegistrationYear           1.000000  0.142279  -0.327755           0.054942\n",
       "Power                      0.142279  1.000000   0.071270           0.103613\n",
       "Kilometer                 -0.327755  0.071270   1.000000          -0.008571\n",
       "RegistrationMonth          0.054942  0.103613  -0.008571           1.000000"
      ]
     },
     "execution_count": 33,
     "metadata": {},
     "output_type": "execute_result"
    }
   ],
   "source": [
    "data[features_numerical].corr()"
   ]
  },
  {
   "cell_type": "code",
   "execution_count": 34,
   "metadata": {},
   "outputs": [
    {
     "data": {
      "text/plain": [
       "Kilometer           -0.366913\n",
       "RegistrationMonth    0.089272\n",
       "Power                0.497163\n",
       "RegistrationYear     0.544565\n",
       "Price                1.000000\n",
       "Name: Price, dtype: float64"
      ]
     },
     "execution_count": 34,
     "metadata": {},
     "output_type": "execute_result"
    }
   ],
   "source": [
    "features_numerical_all=data.select_dtypes(exclude=['object']).columns\n",
    "data[features_numerical_all].corr()['Price'].sort_values()"
   ]
  },
  {
   "cell_type": "markdown",
   "metadata": {},
   "source": [
    "### Пропуски"
   ]
  },
  {
   "cell_type": "code",
   "execution_count": 35,
   "metadata": {},
   "outputs": [
    {
     "data": {
      "text/plain": [
       "Price                 0.000000\n",
       "RegistrationYear      0.000000\n",
       "Power                 0.000000\n",
       "Kilometer             0.000000\n",
       "RegistrationMonth     0.000000\n",
       "Brand                 0.000000\n",
       "Gearbox               4.298474\n",
       "Model                 4.427004\n",
       "VehicleType           5.675138\n",
       "FuelType              6.883010\n",
       "Repaired             17.655366\n",
       "dtype: float64"
      ]
     },
     "execution_count": 35,
     "metadata": {},
     "output_type": "execute_result"
    }
   ],
   "source": [
    "(100 *data.isna().sum()/data.shape[0]).sort_values()"
   ]
  },
  {
   "cell_type": "code",
   "execution_count": 36,
   "metadata": {
    "scrolled": true
   },
   "outputs": [
    {
     "data": {
      "text/plain": [
       "[{'VehicleType': array([nan, 'coupe', 'suv', 'small', 'sedan', 'convertible', 'bus',\n",
       "         'wagon', 'other'], dtype=object)},\n",
       " {'Model': array(['golf', nan, 'grand', 'fabia', '3er', '2_reihe', 'c_max',\n",
       "         '3_reihe', 'passat', 'navara', 'polo', 'twingo', 'a_klasse',\n",
       "         'scirocco', '5er', 'arosa', 'other', 'civic', 'transporter',\n",
       "         'punto', 'e_klasse', 'clio', 'kadett', 'kangoo', 'one', 'fortwo',\n",
       "         '1er', 'b_klasse', 'signum', 'astra', 'a8', 'jetta', 'fiesta',\n",
       "         'c_klasse', 'micra', 'vito', 'sprinter', '156', 'escort',\n",
       "         'forester', 'xc_reihe', 'scenic', 'a4', 'ka', 'a1', 'insignia',\n",
       "         'combo', 'focus', 'tt', 'corsa', 'a6', 'jazz', 'omega', 'slk',\n",
       "         '7er', '80', '147', '100', 'z_reihe', 'sorento', 'v40', 'ibiza',\n",
       "         'mustang', 'eos', 'touran', 'getz', 'a3', 'almera', 'megane',\n",
       "         'lupo', 'r19', 'caddy', 'mondeo', 'cordoba', 'colt', 'impreza',\n",
       "         'vectra', 'berlingo', 'tiguan', 'sharan', '6_reihe', 'c4', 'panda',\n",
       "         'up', 'i_reihe', 'ceed', '5_reihe', 'yeti', 'octavia', 'zafira',\n",
       "         'mii', 'rx_reihe', '6er', 'modus', 'fox', 'matiz', 'beetle', 'c1',\n",
       "         'rio', 'touareg', 'logan', 'spider', 'cuore', 's_max', 'a2',\n",
       "         'galaxy', 'c3', 'viano', 's_klasse', '1_reihe', 'avensis',\n",
       "         'roomster', 'sl', 'santa', 'cooper', 'leon', '4_reihe', 'a5',\n",
       "         'sportage', 'laguna', 'ptcruiser', 'clk', 'primera', 'espace',\n",
       "         'x_reihe', 'exeo', '159', 'transit', 'juke', 'qashqai', 'carisma',\n",
       "         'accord', 'corolla', 'lanos', 'phaeton', 'verso', 'swift', 'rav',\n",
       "         'picanto', 'boxster', 'kalos', 'superb', 'stilo', 'alhambra',\n",
       "         'roadster', 'ypsilon', 'cayenne', 'galant', 'justy', '90',\n",
       "         'sirion', 'crossfire', 'agila', 'duster', 'v50', 'mx_reihe',\n",
       "         'meriva', 'c_reihe', 'v_klasse', 'm_klasse', 'yaris', 'c5', 'aygo',\n",
       "         'seicento', 'cc', 'carnival', 'fusion', '911', 'bora', 'forfour',\n",
       "         'cl', 'tigra', '300c', '500', 'cr_reihe', 'spark', 'v70', 'kuga',\n",
       "         'x_type', 'ducato', 's_type', 'x_trail', 'toledo', 'altea',\n",
       "         'voyager', 'calibra', 'bravo', 'antara', 'tucson', 'citigo',\n",
       "         'jimny', 'wrangler', 'lybra', 'q7', 'lancer', 'captiva',\n",
       "         'discovery', 'freelander', 'sandero', 'note', '900', 'cherokee',\n",
       "         'kaefer', 'clubman', 'samara', 'defender', 'cx_reihe', 'legacy',\n",
       "         'pajero', 'auris', 'c2', 'niva', 's60', 'm_reihe', 'nubira',\n",
       "         'vivaro', 'g_klasse', 'lodgy', '850', 'range_rover', '601', 'q3',\n",
       "         'serie_2', 'glk', 'charade', 'croma', 'outlander', 'doblo', 'musa',\n",
       "         'move', '9000', 'v60', '200', '145', 'b_max', 'range_rover_sport',\n",
       "         'aveo', 'terios', 'rangerover', 'q5', 'range_rover_evoque',\n",
       "         'materia', 'delta', 'gl', 'kalina', 'elefantino', 'i3', 'amarok',\n",
       "         'kappa'], dtype=object)},\n",
       " {'Gearbox': array(['manual', 'auto', nan], dtype=object)},\n",
       " {'FuelType': array(['petrol', 'gasoline', nan, 'lpg', 'other', 'hybrid', 'cng',\n",
       "         'electric'], dtype=object)},\n",
       " {'Repaired': array([nan, 'yes', 'no'], dtype=object)}]"
      ]
     },
     "execution_count": 36,
     "metadata": {},
     "output_type": "execute_result"
    }
   ],
   "source": [
    "[{i:data[i].unique()} for i in ['VehicleType','Model','Gearbox','FuelType','Repaired']]"
   ]
  },
  {
   "cell_type": "code",
   "execution_count": 37,
   "metadata": {},
   "outputs": [
    {
     "data": {
      "text/plain": [
       "0"
      ]
     },
     "execution_count": 37,
     "metadata": {},
     "output_type": "execute_result"
    }
   ],
   "source": [
    "data=data.fillna('unknown')\n",
    "data.isna().sum().sum()"
   ]
  },
  {
   "cell_type": "markdown",
   "metadata": {},
   "source": [
    "### Дубликаты"
   ]
  },
  {
   "cell_type": "code",
   "execution_count": 38,
   "metadata": {},
   "outputs": [],
   "source": [
    "data=data.drop_duplicates()"
   ]
  },
  {
   "cell_type": "code",
   "execution_count": 39,
   "metadata": {},
   "outputs": [
    {
     "data": {
      "text/plain": [
       "0.16000270904057634"
      ]
     },
     "execution_count": 39,
     "metadata": {},
     "output_type": "execute_result"
    }
   ],
   "source": [
    "1-data.shape[0]/data_len"
   ]
  },
  {
   "cell_type": "markdown",
   "metadata": {},
   "source": [
    "### Выводы"
   ]
  },
  {
   "cell_type": "markdown",
   "metadata": {},
   "source": [
    "\n",
    "\n",
    "Проведены предобработка данных:\n",
    "- Доля пропусков высокая 5-20 %. Пропуски только к категориальных признаках. Пропуски были заменены на строку 'unknown'. \n",
    "- Признак `NumberOfPictures` убран из данных посколько состоит только из нулей. \n",
    "- Признак PostalCode по своей сути категориальный, но уникальных значенией очень много 8142, да и релевантость признака под вопросом. Поэтому этот признак будет удален. \n",
    "- Созданы списки категориальных и числовых признаков\n",
    "- Удалены 1% данных с признаком RegistrationYear меньше чем 1980 и больше 2023 года\n",
    "- убраны дубликаты\n",
    "- исключены данные в которых дата регистрации машины позже чем заведена анкета или позже 2016 года когда была скачена анкета\n",
    "\n",
    "Суммарно 8.9% были рассмотрены как ошибочные и были удалены в предобработке"
   ]
  },
  {
   "cell_type": "markdown",
   "metadata": {},
   "source": [
    "## Обучение моделей"
   ]
  },
  {
   "cell_type": "code",
   "execution_count": 40,
   "metadata": {},
   "outputs": [],
   "source": [
    "fitting=True\n",
    "SEED=12345\n",
    "cv_fold = StratifiedKFold(n_splits=5, random_state=SEED,shuffle=True)"
   ]
  },
  {
   "cell_type": "code",
   "execution_count": 41,
   "metadata": {},
   "outputs": [],
   "source": [
    "timing_dict={}"
   ]
  },
  {
   "cell_type": "code",
   "execution_count": 42,
   "metadata": {},
   "outputs": [
    {
     "name": "stdout",
     "output_type": "stream",
     "text": [
      "<class 'pandas.core.frame.DataFrame'>\n",
      "Int64Index: 297669 entries, 0 to 354368\n",
      "Data columns (total 11 columns):\n",
      " #   Column             Non-Null Count   Dtype \n",
      "---  ------             --------------   ----- \n",
      " 0   Price              297669 non-null  int64 \n",
      " 1   VehicleType        297669 non-null  object\n",
      " 2   RegistrationYear   297669 non-null  int64 \n",
      " 3   Gearbox            297669 non-null  object\n",
      " 4   Power              297669 non-null  int64 \n",
      " 5   Model              297669 non-null  object\n",
      " 6   Kilometer          297669 non-null  int64 \n",
      " 7   RegistrationMonth  297669 non-null  int64 \n",
      " 8   FuelType           297669 non-null  object\n",
      " 9   Brand              297669 non-null  object\n",
      " 10  Repaired           297669 non-null  object\n",
      "dtypes: int64(5), object(6)\n",
      "memory usage: 27.3+ MB\n"
     ]
    }
   ],
   "source": [
    "data.info()"
   ]
  },
  {
   "cell_type": "code",
   "execution_count": 43,
   "metadata": {},
   "outputs": [
    {
     "data": {
      "text/plain": [
       "(297669, 10)"
      ]
     },
     "execution_count": 43,
     "metadata": {},
     "output_type": "execute_result"
    }
   ],
   "source": [
    "features = data.drop(['Price'],axis=1)  #'RowNumber'\n",
    "features.shape"
   ]
  },
  {
   "cell_type": "code",
   "execution_count": 44,
   "metadata": {},
   "outputs": [
    {
     "data": {
      "text/plain": [
       "(297669,)"
      ]
     },
     "execution_count": 44,
     "metadata": {},
     "output_type": "execute_result"
    }
   ],
   "source": [
    "target=data['Price']\n",
    "target.shape"
   ]
  },
  {
   "cell_type": "markdown",
   "metadata": {},
   "source": [
    "lf=list(features_categorical)\n",
    "features0=pd.get_dummies(features,drop_first=True,columns=lf)"
   ]
  },
  {
   "cell_type": "markdown",
   "metadata": {},
   "source": [
    "### One-hot encoding"
   ]
  },
  {
   "cell_type": "code",
   "execution_count": 45,
   "metadata": {},
   "outputs": [],
   "source": [
    "features_ohe=pd.get_dummies(features,drop_first=True,columns=list(features_categorical))"
   ]
  },
  {
   "cell_type": "code",
   "execution_count": 46,
   "metadata": {},
   "outputs": [
    {
     "data": {
      "text/plain": [
       "Index(['VehicleType', 'Gearbox', 'Model', 'FuelType', 'Brand', 'Repaired'], dtype='object')"
      ]
     },
     "execution_count": 46,
     "metadata": {},
     "output_type": "execute_result"
    }
   ],
   "source": [
    "features_categorical"
   ]
  },
  {
   "cell_type": "code",
   "execution_count": 47,
   "metadata": {},
   "outputs": [],
   "source": [
    "# from sklearn.preprocessing import OneHotEncoder\n",
    "# enc = OneHotEncoder(handle_unknown='ignore')\n",
    "## passing bridge-types-cat column (label encoded values of bridge_types)\n",
    "# enc_df = pd.DataFrame(enc.fit_transform(bridge_df[['Bridge_Types_Cat']]).toarray())\n"
   ]
  },
  {
   "cell_type": "code",
   "execution_count": 48,
   "metadata": {},
   "outputs": [],
   "source": [
    "features_ohe_train, features_ohe_test, target_train, target_test = train_test_split(\n",
    "    features_ohe, target, test_size=0.2, random_state=12345)\n",
    "\n",
    "#features_ohe_train, features_ohe_valid, target_train, target_valid = train_test_split(\n",
    "#    features_ohe_train, target_train, test_size=0.25, random_state=12345)"
   ]
  },
  {
   "cell_type": "markdown",
   "metadata": {},
   "source": [
    "### MEstimateEncoder"
   ]
  },
  {
   "cell_type": "code",
   "execution_count": 49,
   "metadata": {},
   "outputs": [],
   "source": [
    "#pip install fast_ml"
   ]
  },
  {
   "cell_type": "code",
   "execution_count": null,
   "metadata": {},
   "outputs": [],
   "source": []
  },
  {
   "cell_type": "code",
   "execution_count": 50,
   "metadata": {},
   "outputs": [],
   "source": [
    "X_train,y_train,X_valid,y_valid,X_test,y_test=train_valid_test_split(data,target='Price',\n",
    "                train_size=0.6,valid_size=0.2,test_size=0.2,random_state=12345)"
   ]
  },
  {
   "cell_type": "code",
   "execution_count": 51,
   "metadata": {},
   "outputs": [
    {
     "name": "stdout",
     "output_type": "stream",
     "text": [
      "VehicleType -> (9,)\n",
      "Gearbox -> (3,)\n",
      "Model -> (249,)\n",
      "FuelType -> (8,)\n",
      "Brand -> (40,)\n",
      "Repaired -> (3,)\n"
     ]
    }
   ],
   "source": [
    "for c in features_categorical:\n",
    "    print(c,'->',data[c].unique().shape)"
   ]
  },
  {
   "cell_type": "code",
   "execution_count": 52,
   "metadata": {},
   "outputs": [],
   "source": [
    "# pip install category_encoders"
   ]
  },
  {
   "cell_type": "code",
   "execution_count": null,
   "metadata": {},
   "outputs": [],
   "source": []
  },
  {
   "cell_type": "code",
   "execution_count": 53,
   "metadata": {},
   "outputs": [
    {
     "name": "stdout",
     "output_type": "stream",
     "text": [
      "CPU times: user 1.29 s, sys: 32.7 ms, total: 1.32 s\n",
      "Wall time: 1.32 s\n"
     ]
    }
   ],
   "source": [
    "%%time\n",
    "MEE_encoder = MEstimateEncoder()\n",
    "X_train_mee = MEE_encoder.fit_transform(X_train[features_categorical], y_train)\n",
    "X_valid_mee = MEE_encoder.transform(X_valid[features_categorical])\n",
    "X_test_mee = MEE_encoder.transform(X_test[features_categorical])"
   ]
  },
  {
   "cell_type": "code",
   "execution_count": 54,
   "metadata": {},
   "outputs": [],
   "source": [
    "X_train_mee=X_train[features_numerical].join(X_train_mee)\n",
    "X_valid_mee=X_valid[features_numerical].join(X_valid_mee)\n",
    "X_test_mee=X_test[features_numerical].join(X_test_mee)"
   ]
  },
  {
   "cell_type": "markdown",
   "metadata": {},
   "source": [
    "### Маштабирование"
   ]
  },
  {
   "cell_type": "code",
   "execution_count": 56,
   "metadata": {},
   "outputs": [],
   "source": [
    "scalar= StandardScaler()\n",
    "numeric=features_numerical\n",
    "scalar.fit(features_ohe_train[numeric])\n",
    "\n",
    "pd.options.mode.chained_assignment = None\n",
    "features_ohe_train[numeric]=scalar.transform(features_ohe_train[numeric])\n",
    "#features_ohe_valid[numeric]=scalar.transform(features_ohe_valid[numeric])\n",
    "features_ohe_test[numeric]=scalar.transform(features_ohe_test[numeric])"
   ]
  },
  {
   "cell_type": "code",
   "execution_count": 57,
   "metadata": {},
   "outputs": [],
   "source": [
    "scalar_mee= StandardScaler()\n",
    "pd.options.mode.chained_assignment = None\n",
    "#X_train_mee[features_numerical_] = scalar_mee.fit_transform(X_train_mee[features_numerical], y_train)\n",
    "#X_valid_mee[features_numerical_] = scalar_mee.transform(X_valid_mee[features_numerical])\n",
    "#X_test_mee[features_numerical_] = scalar_mee.transform(X_test_mee[features_numerical])\n",
    "X_train_mee = scalar_mee.fit_transform(X_train_mee, y_train)\n",
    "X_valid_mee = scalar_mee.transform(X_valid_mee)\n",
    "X_test_mee = scalar_mee.transform(X_test_mee)"
   ]
  },
  {
   "cell_type": "code",
   "execution_count": 58,
   "metadata": {},
   "outputs": [],
   "source": [
    "features_ohe_train, target_train = X_train_mee,y_train\n",
    "features_ohe_valid, target_valid = X_valid_mee, y_valid\n",
    "features_ohe_test, target_test   = X_test_mee, y_test"
   ]
  },
  {
   "cell_type": "markdown",
   "metadata": {},
   "source": [
    "### Dummy model"
   ]
  },
  {
   "cell_type": "code",
   "execution_count": 59,
   "metadata": {},
   "outputs": [],
   "source": [
    "model_dummy = DummyRegressor(strategy='mean')\n",
    "\n",
    "start=time.time()\n",
    "model_dummy.fit(features_ohe_train,target_train)\n",
    "time_fit=time.time()-start"
   ]
  },
  {
   "cell_type": "code",
   "execution_count": 60,
   "metadata": {},
   "outputs": [
    {
     "name": "stdout",
     "output_type": "stream",
     "text": [
      "RMSE for mean value 4521.339112503214\n"
     ]
    }
   ],
   "source": [
    "start=time.time()\n",
    "prediction_dummy = model_dummy.predict(features_ohe_test)\n",
    "time_predict=time.time()-start\n",
    "\n",
    "rmse=mean_squared_error(target_test,prediction_dummy, squared=False)\n",
    "print('RMSE for mean value', rmse)"
   ]
  },
  {
   "cell_type": "code",
   "execution_count": 61,
   "metadata": {},
   "outputs": [],
   "source": [
    "timing_dict['dummy']=[time_fit,time_predict,rmse]"
   ]
  },
  {
   "cell_type": "code",
   "execution_count": 62,
   "metadata": {},
   "outputs": [
    {
     "data": {
      "text/plain": [
       "{'dummy': [0.0007390975952148438, 0.00042510032653808594, 4521.339112503214]}"
      ]
     },
     "execution_count": 62,
     "metadata": {},
     "output_type": "execute_result"
    }
   ],
   "source": [
    "timing_dict"
   ]
  },
  {
   "cell_type": "markdown",
   "metadata": {},
   "source": [
    "### Linear model"
   ]
  },
  {
   "cell_type": "code",
   "execution_count": 63,
   "metadata": {},
   "outputs": [
    {
     "name": "stdout",
     "output_type": "stream",
     "text": [
      "CPU times: user 51.6 ms, sys: 3.43 ms, total: 55 ms\n",
      "Wall time: 32.8 ms\n"
     ]
    }
   ],
   "source": [
    "%%time \n",
    "model_lin=LinearRegression()\n",
    "start=time.time()\n",
    "model_lin.fit(features_ohe_train,target_train)\n",
    "time_fit=time.time()-start"
   ]
  },
  {
   "cell_type": "code",
   "execution_count": 64,
   "metadata": {},
   "outputs": [
    {
     "name": "stdout",
     "output_type": "stream",
     "text": [
      "RMSE for mean value 2703.4143376393777\n"
     ]
    }
   ],
   "source": [
    "start=time.time()\n",
    "prediction_lin = model_lin.predict(features_ohe_test)\n",
    "time_predict=time.time()-start\n",
    "rmse=mean_squared_error(target_test,prediction_lin, squared=False)\n",
    "print('RMSE for mean value', rmse)\n",
    "# RMSE for mean value 2535.389329557741"
   ]
  },
  {
   "cell_type": "code",
   "execution_count": 65,
   "metadata": {},
   "outputs": [],
   "source": [
    "timing_dict['linear']=[time_fit,time_predict,rmse]"
   ]
  },
  {
   "cell_type": "code",
   "execution_count": 66,
   "metadata": {},
   "outputs": [
    {
     "data": {
      "text/plain": [
       "{'dummy': [0.0007390975952148438, 0.00042510032653808594, 4521.339112503214],\n",
       " 'linear': [0.03273296356201172, 0.0018453598022460938, 2703.4143376393777]}"
      ]
     },
     "execution_count": 66,
     "metadata": {},
     "output_type": "execute_result"
    }
   ],
   "source": [
    "timing_dict"
   ]
  },
  {
   "cell_type": "markdown",
   "metadata": {},
   "source": [
    "### Decision tree "
   ]
  },
  {
   "cell_type": "code",
   "execution_count": 67,
   "metadata": {},
   "outputs": [
    {
     "name": "stdout",
     "output_type": "stream",
     "text": [
      "Количество моделей 4\n",
      "Fitting 5 folds for each of 4 candidates, totalling 20 fits\n",
      "[CV] END ....................max_depth=8, min_samples_leaf=2; total time=   0.3s\n",
      "[CV] END ....................max_depth=8, min_samples_leaf=2; total time=   0.3s\n",
      "[CV] END ....................max_depth=8, min_samples_leaf=2; total time=   0.3s\n",
      "[CV] END ....................max_depth=8, min_samples_leaf=2; total time=   0.3s\n",
      "[CV] END ....................max_depth=8, min_samples_leaf=2; total time=   0.3s\n",
      "[CV] END ....................max_depth=8, min_samples_leaf=5; total time=   0.3s\n",
      "[CV] END ....................max_depth=8, min_samples_leaf=5; total time=   0.3s\n",
      "[CV] END ....................max_depth=8, min_samples_leaf=5; total time=   0.3s\n",
      "[CV] END ....................max_depth=8, min_samples_leaf=5; total time=   0.3s\n",
      "[CV] END ....................max_depth=8, min_samples_leaf=5; total time=   0.3s\n",
      "[CV] END ...................max_depth=16, min_samples_leaf=2; total time=   0.5s\n",
      "[CV] END ...................max_depth=16, min_samples_leaf=2; total time=   0.5s\n",
      "[CV] END ...................max_depth=16, min_samples_leaf=2; total time=   0.6s\n",
      "[CV] END ...................max_depth=16, min_samples_leaf=2; total time=   0.5s\n",
      "[CV] END ...................max_depth=16, min_samples_leaf=2; total time=   0.5s\n",
      "[CV] END ...................max_depth=16, min_samples_leaf=5; total time=   0.5s\n",
      "[CV] END ...................max_depth=16, min_samples_leaf=5; total time=   0.5s\n",
      "[CV] END ...................max_depth=16, min_samples_leaf=5; total time=   0.5s\n",
      "[CV] END ...................max_depth=16, min_samples_leaf=5; total time=   0.5s\n",
      "[CV] END ...................max_depth=16, min_samples_leaf=5; total time=   0.5s\n",
      "{'max_depth': 16, 'min_samples_leaf': 5}\n",
      "лучший MSE = -3206876.6626871047\n",
      "time_fit= 8.748639583587646\n",
      "time_predict= 0.011056661605834961\n",
      "RMSE for mean value 1792.248352556963\n"
     ]
    }
   ],
   "source": [
    "if fitting:\n",
    "    start=time.time()\n",
    "    parameters_grid = { \n",
    "        'max_depth':[8,16],\n",
    "        #'criterion':['gini', 'entropy'],\n",
    "        'min_samples_leaf':[2,5]\n",
    "        }\n",
    "    print('Количество моделей', np.prod([len(i) for i in parameters_grid.values()]))\n",
    "    model = DecisionTreeRegressor(random_state=12345)\n",
    "    cv_tree = GridSearchCV(estimator=model, param_grid=parameters_grid , cv= cv_fold, scoring='neg_mean_squared_error',verbose=2)    \n",
    "    cv_tree.fit(features_ohe_train,target_train)\n",
    "    parameters=cv_tree.best_params_\n",
    "    print(parameters)\n",
    "    print('лучший MSE =',cv_tree.best_score_)\n",
    "    time_fit=time.time()-start\n",
    "    print('time_fit=',time_fit)\n",
    "    \n",
    "    start=time.time()\n",
    "    prediction_tree=cv_tree.best_estimator_.predict(features_ohe_test)\n",
    "    time_predict=time.time() - start\n",
    "    print('time_predict=',time_predict)\n",
    "    \n",
    "    rmse_tree=mean_squared_error(target_test,prediction_tree, squared=False)\n",
    "    print('RMSE for mean value', rmse_tree)\n",
    "    \n",
    "else:\n",
    "    parameters = {'max_depth': 16, 'min_samples_leaf': 2}\n",
    "    rmse_tree=np.sqrt(5180352.413150354)\n",
    "    print('лучший RMSE =', rmse_tree)\n",
    "    time_fit=159.6\n",
    "    time_predict=1.1"
   ]
  },
  {
   "cell_type": "code",
   "execution_count": 68,
   "metadata": {},
   "outputs": [],
   "source": [
    "timing_dict['tree']=[time_fit,time_predict,rmse_tree]"
   ]
  },
  {
   "cell_type": "code",
   "execution_count": 69,
   "metadata": {},
   "outputs": [
    {
     "data": {
      "text/plain": [
       "{'dummy': [0.0007390975952148438, 0.00042510032653808594, 4521.339112503214],\n",
       " 'linear': [0.03273296356201172, 0.0018453598022460938, 2703.4143376393777],\n",
       " 'tree': [8.748639583587646, 0.011056661605834961, 1792.248352556963]}"
      ]
     },
     "execution_count": 69,
     "metadata": {},
     "output_type": "execute_result"
    }
   ],
   "source": [
    "timing_dict"
   ]
  },
  {
   "cell_type": "markdown",
   "metadata": {},
   "source": [
    "### Random Forest"
   ]
  },
  {
   "cell_type": "code",
   "execution_count": 70,
   "metadata": {},
   "outputs": [
    {
     "name": "stdout",
     "output_type": "stream",
     "text": [
      "Количество моделей 2\n",
      "Fitting 5 folds for each of 2 candidates, totalling 10 fits\n",
      "time_fit= 50.79045128822327\n",
      "parameters= {'n_estimators': 12}\n",
      "best score= 2782545.3870820105\n",
      "time_predict= 0.3423783779144287\n",
      "RMSE for mean value 1792.248352556963\n",
      "CPU times: user 50.7 s, sys: 381 ms, total: 51.1 s\n",
      "Wall time: 51.1 s\n"
     ]
    }
   ],
   "source": [
    "%%time\n",
    "\n",
    "if fitting:\n",
    "    parameters_grid = {\n",
    "        'n_estimators': [8,12] #, \n",
    "#        'max_depth': [6,10], \n",
    "#        'min_samples_split': [2, 3]\n",
    "        }\n",
    "    print('Количество моделей', np.prod([len(i) for i in parameters_grid.values()]))\n",
    "    model = RandomForestRegressor(random_state=12345)\n",
    "    cv_forest = GridSearchCV(\n",
    "        estimator=model, \n",
    "        param_grid=parameters_grid , \n",
    "        #cv=False, \n",
    "        scoring='neg_mean_squared_error',\n",
    "        verbose=1)\n",
    "    time_fit=-time.time()\n",
    "    cv_forest.fit(features_ohe_train,target_train)\n",
    "    time_fit+=time.time()\n",
    "    print('time_fit=',time_fit)\n",
    "    \n",
    "    parameters=cv_forest.best_params_\n",
    "    \n",
    "    print('parameters=',parameters)\n",
    "    print('best score=',-cv_forest.best_score_)\n",
    "    \n",
    "    start=time.time()\n",
    "    prediction_forest=cv_forest.best_estimator_.predict(features_ohe_test)\n",
    "    time_predict=time.time() - start\n",
    "    print('time_predict=',time_predict)\n",
    "    \n",
    "    rmse_forest=mean_squared_error(target_test,prediction_forest, squared=False)\n",
    "    print('RMSE for mean value', rmse_tree)\n",
    "\n",
    "else:\n",
    "    parameters= {'n_estimators': 12}\n",
    "    time_fit= 865.688577413559\n",
    "    time_predict= 0.5902400016784668\n",
    "    rmse_forest= 2279.158454734247"
   ]
  },
  {
   "cell_type": "code",
   "execution_count": 71,
   "metadata": {},
   "outputs": [],
   "source": [
    "timing_dict['forest']=[time_fit,time_predict,rmse_forest]"
   ]
  },
  {
   "cell_type": "markdown",
   "metadata": {},
   "source": [
    "### LightGBM"
   ]
  },
  {
   "cell_type": "code",
   "execution_count": 72,
   "metadata": {},
   "outputs": [],
   "source": [
    "# defining parameters \n",
    "params = {\n",
    "    'task': 'train', \n",
    "    'boosting': 'gbdt',\n",
    "    'objective': 'regression',\n",
    "    'num_leaves': 10,\n",
    "    ###'learnnig_rage': 0.05,\n",
    "   ### 'categorical_feature':cat_features,\n",
    "    'metric': {'rmse'}, #''l2','l1'},\n",
    "    'verbose': -1\n",
    "}"
   ]
  },
  {
   "cell_type": "code",
   "execution_count": 73,
   "metadata": {},
   "outputs": [],
   "source": [
    "# laoding data\n",
    "lgb_train = lgb.Dataset(features_ohe_train, target_train)\n",
    "lgb_eval = lgb.Dataset(features_ohe_test, target_test, reference=lgb_train)"
   ]
  },
  {
   "cell_type": "code",
   "execution_count": 74,
   "metadata": {
    "scrolled": true
   },
   "outputs": [
    {
     "name": "stdout",
     "output_type": "stream",
     "text": [
      "[1]\tvalid_0's rmse: 4236.74\n",
      "Training until validation scores don't improve for 30 rounds\n",
      "[2]\tvalid_0's rmse: 3985.14\n",
      "[3]\tvalid_0's rmse: 3761.21\n",
      "[4]\tvalid_0's rmse: 3563.58\n",
      "[5]\tvalid_0's rmse: 3381.72\n",
      "[6]\tvalid_0's rmse: 3223.63\n",
      "[7]\tvalid_0's rmse: 3073.82\n",
      "[8]\tvalid_0's rmse: 2950.64\n",
      "[9]\tvalid_0's rmse: 2835.5\n",
      "[10]\tvalid_0's rmse: 2736.95\n",
      "[11]\tvalid_0's rmse: 2652.23\n",
      "[12]\tvalid_0's rmse: 2575.2\n",
      "[13]\tvalid_0's rmse: 2504.13\n",
      "[14]\tvalid_0's rmse: 2438.32\n",
      "[15]\tvalid_0's rmse: 2386.78\n",
      "[16]\tvalid_0's rmse: 2335.91\n",
      "[17]\tvalid_0's rmse: 2290.56\n",
      "[18]\tvalid_0's rmse: 2248.27\n",
      "[19]\tvalid_0's rmse: 2208.46\n",
      "[20]\tvalid_0's rmse: 2172.99\n",
      "[21]\tvalid_0's rmse: 2142.45\n",
      "[22]\tvalid_0's rmse: 2114.2\n",
      "[23]\tvalid_0's rmse: 2088.74\n",
      "[24]\tvalid_0's rmse: 2065.76\n",
      "[25]\tvalid_0's rmse: 2044.26\n",
      "[26]\tvalid_0's rmse: 2027.5\n",
      "[27]\tvalid_0's rmse: 2009.76\n",
      "[28]\tvalid_0's rmse: 1993.08\n",
      "[29]\tvalid_0's rmse: 1980.08\n",
      "[30]\tvalid_0's rmse: 1966.13\n",
      "[31]\tvalid_0's rmse: 1953.28\n",
      "[32]\tvalid_0's rmse: 1943.29\n",
      "[33]\tvalid_0's rmse: 1932.04\n",
      "[34]\tvalid_0's rmse: 1922.9\n",
      "[35]\tvalid_0's rmse: 1914.53\n",
      "[36]\tvalid_0's rmse: 1905.49\n",
      "[37]\tvalid_0's rmse: 1899.23\n",
      "[38]\tvalid_0's rmse: 1891.87\n",
      "[39]\tvalid_0's rmse: 1885.68\n",
      "[40]\tvalid_0's rmse: 1880.44\n",
      "[41]\tvalid_0's rmse: 1874.08\n",
      "[42]\tvalid_0's rmse: 1868.95\n",
      "[43]\tvalid_0's rmse: 1863.05\n",
      "[44]\tvalid_0's rmse: 1858.02\n",
      "[45]\tvalid_0's rmse: 1854.25\n",
      "[46]\tvalid_0's rmse: 1850.92\n",
      "[47]\tvalid_0's rmse: 1847.64\n",
      "[48]\tvalid_0's rmse: 1844.5\n",
      "[49]\tvalid_0's rmse: 1841.14\n",
      "[50]\tvalid_0's rmse: 1836.52\n",
      "[51]\tvalid_0's rmse: 1831.39\n",
      "[52]\tvalid_0's rmse: 1828.03\n",
      "[53]\tvalid_0's rmse: 1823.79\n",
      "[54]\tvalid_0's rmse: 1821.3\n",
      "[55]\tvalid_0's rmse: 1819.4\n",
      "[56]\tvalid_0's rmse: 1815.03\n",
      "[57]\tvalid_0's rmse: 1812.58\n",
      "[58]\tvalid_0's rmse: 1809.85\n",
      "[59]\tvalid_0's rmse: 1807.38\n",
      "[60]\tvalid_0's rmse: 1805.51\n",
      "[61]\tvalid_0's rmse: 1803.05\n",
      "[62]\tvalid_0's rmse: 1798.69\n",
      "[63]\tvalid_0's rmse: 1796.97\n",
      "[64]\tvalid_0's rmse: 1793.21\n",
      "[65]\tvalid_0's rmse: 1790.52\n",
      "[66]\tvalid_0's rmse: 1786.67\n",
      "[67]\tvalid_0's rmse: 1784.92\n",
      "[68]\tvalid_0's rmse: 1783.73\n",
      "[69]\tvalid_0's rmse: 1781.81\n",
      "[70]\tvalid_0's rmse: 1779.87\n",
      "[71]\tvalid_0's rmse: 1778.64\n",
      "[72]\tvalid_0's rmse: 1777.14\n",
      "[73]\tvalid_0's rmse: 1773.68\n",
      "[74]\tvalid_0's rmse: 1772.22\n",
      "[75]\tvalid_0's rmse: 1770.88\n",
      "[76]\tvalid_0's rmse: 1768.39\n",
      "[77]\tvalid_0's rmse: 1766.1\n",
      "[78]\tvalid_0's rmse: 1764.66\n",
      "[79]\tvalid_0's rmse: 1763.15\n",
      "[80]\tvalid_0's rmse: 1761.53\n",
      "[81]\tvalid_0's rmse: 1759.99\n",
      "[82]\tvalid_0's rmse: 1758.63\n",
      "[83]\tvalid_0's rmse: 1758.14\n",
      "[84]\tvalid_0's rmse: 1756.74\n",
      "[85]\tvalid_0's rmse: 1755.21\n",
      "[86]\tvalid_0's rmse: 1753.51\n",
      "[87]\tvalid_0's rmse: 1752.28\n",
      "[88]\tvalid_0's rmse: 1751.16\n",
      "[89]\tvalid_0's rmse: 1750.32\n",
      "[90]\tvalid_0's rmse: 1748.72\n",
      "[91]\tvalid_0's rmse: 1746.74\n",
      "[92]\tvalid_0's rmse: 1744.7\n",
      "[93]\tvalid_0's rmse: 1744.2\n",
      "[94]\tvalid_0's rmse: 1743.05\n",
      "[95]\tvalid_0's rmse: 1742.59\n",
      "[96]\tvalid_0's rmse: 1739.76\n",
      "[97]\tvalid_0's rmse: 1738.27\n",
      "[98]\tvalid_0's rmse: 1737.35\n",
      "[99]\tvalid_0's rmse: 1736.24\n",
      "[100]\tvalid_0's rmse: 1734.8\n",
      "Did not meet early stopping. Best iteration is:\n",
      "[100]\tvalid_0's rmse: 1734.8\n",
      "time_fit= 155.58512568473816\n"
     ]
    }
   ],
   "source": [
    "# fitting the model\n",
    "time_fit=-time.time()\n",
    "model = lgb.train(params,\n",
    "                 train_set=lgb_train,\n",
    "                 valid_sets=lgb_eval,\n",
    "                 early_stopping_rounds=30\n",
    "                #, categorical_feature=cat_features\n",
    "                 )\n",
    "time_fit+=time.time()\n",
    "print('time_fit=',time_fit)"
   ]
  },
  {
   "cell_type": "code",
   "execution_count": 75,
   "metadata": {},
   "outputs": [
    {
     "name": "stdout",
     "output_type": "stream",
     "text": [
      "RMSE: 1734.80\n"
     ]
    }
   ],
   "source": [
    "# prediction\n",
    "time_pred=-time.time()\n",
    "target_pred = model.predict(features_ohe_test)\n",
    "time_pred+=time.time()\n",
    "# accuracy check\n",
    "mse = mean_squared_error(target_test,target_pred)\n",
    "rmse = mse**(0.5)\n",
    "print(\"RMSE: %.2f\" % rmse)\n"
   ]
  },
  {
   "cell_type": "code",
   "execution_count": 76,
   "metadata": {},
   "outputs": [],
   "source": [
    "timing_dict['lightgbm']=[time_fit,time_pred,rmse]"
   ]
  },
  {
   "cell_type": "code",
   "execution_count": 77,
   "metadata": {},
   "outputs": [
    {
     "data": {
      "text/plain": [
       "{'dummy': [0.0007390975952148438, 0.00042510032653808594, 4521.339112503214],\n",
       " 'linear': [0.03273296356201172, 0.0018453598022460938, 2703.4143376393777],\n",
       " 'tree': [8.748639583587646, 0.011056661605834961, 1792.248352556963],\n",
       " 'forest': [50.79045128822327, 0.3423783779144287, 1653.2045292578284],\n",
       " 'lightgbm': [155.58512568473816, 0.3196563720703125, 1734.8027899685721]}"
      ]
     },
     "execution_count": 77,
     "metadata": {},
     "output_type": "execute_result"
    }
   ],
   "source": [
    "timing_dict"
   ]
  },
  {
   "cell_type": "code",
   "execution_count": 78,
   "metadata": {},
   "outputs": [
    {
     "data": {
      "text/plain": [
       "<AxesSubplot:title={'center':'Feature importance'}, xlabel='Feature importance', ylabel='Features'>"
      ]
     },
     "execution_count": 78,
     "metadata": {},
     "output_type": "execute_result"
    },
    {
     "data": {
      "image/png": "[encoded data removed]",
      "text/plain": [
       "<Figure size 864x2160 with 1 Axes>"
      ]
     },
     "metadata": {
      "needs_background": "light"
     },
     "output_type": "display_data"
    }
   ],
   "source": [
    "# plotting feature importance\n",
    "lgb.plot_importance(model, height=1.5,figsize=(12, 30)) "
   ]
  },
  {
   "cell_type": "markdown",
   "metadata": {},
   "source": [
    "### CatBoost"
   ]
  },
  {
   "cell_type": "code",
   "execution_count": 79,
   "metadata": {},
   "outputs": [],
   "source": [
    "train, test = train_test_split(data, train_size=0.8,random_state=2007)"
   ]
  },
  {
   "cell_type": "code",
   "execution_count": 80,
   "metadata": {},
   "outputs": [
    {
     "name": "stdout",
     "output_type": "stream",
     "text": [
      "['VehicleType', 'Gearbox', 'Model', 'FuelType', 'Brand', 'Repaired', 'RegistrationYear', 'Power', 'Kilometer', 'RegistrationMonth']\n",
      "['VehicleType', 'Gearbox', 'Model', 'FuelType', 'Brand', 'Repaired']\n"
     ]
    }
   ],
   "source": [
    "X=list(features_categorical)+list(features_numerical)\n",
    "print(X)\n",
    "cat_features=list(features_categorical)\n",
    "print(cat_features)\n",
    "y=['Price']"
   ]
  },
  {
   "cell_type": "code",
   "execution_count": 81,
   "metadata": {},
   "outputs": [],
   "source": [
    "train_data = Pool(data=train[X],\n",
    "                  label=train[y],\n",
    "                  cat_features=cat_features\n",
    "                 )\n",
    "test_data = Pool(data=test[X],\n",
    "                  label=test[y],\n",
    "                  cat_features=cat_features\n",
    "                 )"
   ]
  },
  {
   "cell_type": "code",
   "execution_count": 82,
   "metadata": {},
   "outputs": [],
   "source": [
    "params = {'cat_features': cat_features,\n",
    "              'eval_metric': 'RMSE',\n",
    "          'loss_function': 'RMSE',\n",
    "              'learning_rate': 1.0,\n",
    "              'random_seed': 12345,\n",
    "              'verbose':100}"
   ]
  },
  {
   "cell_type": "code",
   "execution_count": 83,
   "metadata": {},
   "outputs": [
    {
     "name": "stdout",
     "output_type": "stream",
     "text": [
      "Training on fold [0/5]\n",
      "\n",
      "bestTest = 1608.314382\n",
      "bestIteration = 198\n",
      "\n",
      "Training on fold [1/5]\n",
      "\n",
      "bestTest = 1597.123533\n",
      "bestIteration = 188\n",
      "\n",
      "Training on fold [2/5]\n",
      "\n",
      "bestTest = 1625.958198\n",
      "bestIteration = 115\n",
      "\n",
      "Training on fold [3/5]\n",
      "\n",
      "bestTest = 1632.776965\n",
      "bestIteration = 153\n",
      "\n",
      "Training on fold [4/5]\n",
      "\n",
      "bestTest = 1601.986389\n",
      "bestIteration = 180\n",
      "\n",
      "time_fit= 229.2287619113922\n"
     ]
    }
   ],
   "source": [
    "time_fit=-time.time()\n",
    "cv_data = cv(\n",
    "    params = params,\n",
    "    pool = train_data,\n",
    "    fold_count=5,\n",
    "    shuffle=True,\n",
    "    partition_random_seed=0,\n",
    "    stratified=False,\n",
    "    verbose=False,\n",
    "    early_stopping_rounds=20\n",
    ")\n",
    "time_fit+=time.time()\n",
    "print('time_fit=',time_fit)"
   ]
  },
  {
   "cell_type": "code",
   "execution_count": 84,
   "metadata": {},
   "outputs": [
    {
     "data": {
      "text/html": [
       "<div>\n",
       "<style scoped>\n",
       "    .dataframe tbody tr th:only-of-type {\n",
       "        vertical-align: middle;\n",
       "    }\n",
       "\n",
       "    .dataframe tbody tr th {\n",
       "        vertical-align: top;\n",
       "    }\n",
       "\n",
       "    .dataframe thead th {\n",
       "        text-align: right;\n",
       "    }\n",
       "</style>\n",
       "<table border=\"1\" class=\"dataframe\">\n",
       "  <thead>\n",
       "    <tr style=\"text-align: right;\">\n",
       "      <th></th>\n",
       "      <th>iterations</th>\n",
       "      <th>test-RMSE-mean</th>\n",
       "      <th>test-RMSE-std</th>\n",
       "      <th>train-RMSE-mean</th>\n",
       "      <th>train-RMSE-std</th>\n",
       "    </tr>\n",
       "  </thead>\n",
       "  <tbody>\n",
       "    <tr>\n",
       "      <th>0</th>\n",
       "      <td>0</td>\n",
       "      <td>2613.281717</td>\n",
       "      <td>29.133541</td>\n",
       "      <td>2611.276644</td>\n",
       "      <td>29.194773</td>\n",
       "    </tr>\n",
       "    <tr>\n",
       "      <th>1</th>\n",
       "      <td>1</td>\n",
       "      <td>2323.747448</td>\n",
       "      <td>42.561779</td>\n",
       "      <td>2320.788271</td>\n",
       "      <td>32.578386</td>\n",
       "    </tr>\n",
       "    <tr>\n",
       "      <th>2</th>\n",
       "      <td>2</td>\n",
       "      <td>2172.106585</td>\n",
       "      <td>36.174831</td>\n",
       "      <td>2169.060230</td>\n",
       "      <td>17.102920</td>\n",
       "    </tr>\n",
       "    <tr>\n",
       "      <th>3</th>\n",
       "      <td>3</td>\n",
       "      <td>2065.625043</td>\n",
       "      <td>39.398693</td>\n",
       "      <td>2062.545896</td>\n",
       "      <td>17.050450</td>\n",
       "    </tr>\n",
       "    <tr>\n",
       "      <th>4</th>\n",
       "      <td>4</td>\n",
       "      <td>2003.807508</td>\n",
       "      <td>37.712642</td>\n",
       "      <td>2001.309576</td>\n",
       "      <td>18.064887</td>\n",
       "    </tr>\n",
       "  </tbody>\n",
       "</table>\n",
       "</div>"
      ],
      "text/plain": [
       "   iterations  test-RMSE-mean  test-RMSE-std  train-RMSE-mean  train-RMSE-std\n",
       "0           0     2613.281717      29.133541      2611.276644       29.194773\n",
       "1           1     2323.747448      42.561779      2320.788271       32.578386\n",
       "2           2     2172.106585      36.174831      2169.060230       17.102920\n",
       "3           3     2065.625043      39.398693      2062.545896       17.050450\n",
       "4           4     2003.807508      37.712642      2001.309576       18.064887"
      ]
     },
     "execution_count": 84,
     "metadata": {},
     "output_type": "execute_result"
    }
   ],
   "source": [
    "cv_data.head()"
   ]
  },
  {
   "cell_type": "code",
   "execution_count": 85,
   "metadata": {},
   "outputs": [
    {
     "data": {
      "text/html": [
       "<div>\n",
       "<style scoped>\n",
       "    .dataframe tbody tr th:only-of-type {\n",
       "        vertical-align: middle;\n",
       "    }\n",
       "\n",
       "    .dataframe tbody tr th {\n",
       "        vertical-align: top;\n",
       "    }\n",
       "\n",
       "    .dataframe thead th {\n",
       "        text-align: right;\n",
       "    }\n",
       "</style>\n",
       "<table border=\"1\" class=\"dataframe\">\n",
       "  <thead>\n",
       "    <tr style=\"text-align: right;\">\n",
       "      <th></th>\n",
       "      <th>iterations</th>\n",
       "      <th>test-RMSE-mean</th>\n",
       "      <th>test-RMSE-std</th>\n",
       "      <th>train-RMSE-mean</th>\n",
       "      <th>train-RMSE-std</th>\n",
       "    </tr>\n",
       "  </thead>\n",
       "  <tbody>\n",
       "    <tr>\n",
       "      <th>218</th>\n",
       "      <td>218</td>\n",
       "      <td>1614.421926</td>\n",
       "      <td>15.068074</td>\n",
       "      <td>1496.23323</td>\n",
       "      <td>18.24361</td>\n",
       "    </tr>\n",
       "  </tbody>\n",
       "</table>\n",
       "</div>"
      ],
      "text/plain": [
       "     iterations  test-RMSE-mean  test-RMSE-std  train-RMSE-mean  \\\n",
       "218         218     1614.421926      15.068074       1496.23323   \n",
       "\n",
       "     train-RMSE-std  \n",
       "218        18.24361  "
      ]
     },
     "execution_count": 85,
     "metadata": {},
     "output_type": "execute_result"
    }
   ],
   "source": [
    "cv_data[cv_data['train-RMSE-mean'] == cv_data['train-RMSE-mean'].min()]"
   ]
  },
  {
   "cell_type": "code",
   "execution_count": 86,
   "metadata": {},
   "outputs": [
    {
     "name": "stdout",
     "output_type": "stream",
     "text": [
      "0:\tlearn: 2565.7650881\ttotal: 379ms\tremaining: 1m 57s\n",
      "100:\tlearn: 1562.4413300\ttotal: 27.7s\tremaining: 57.9s\n",
      "200:\tlearn: 1496.7640486\ttotal: 53.9s\tremaining: 29.7s\n",
      "300:\tlearn: 1455.9459699\ttotal: 1m 20s\tremaining: 2.95s\n",
      "311:\tlearn: 1452.3758702\ttotal: 1m 23s\tremaining: 0us\n"
     ]
    }
   ],
   "source": [
    "params = {'cat_features': cat_features,\n",
    "          'eval_metric': 'RMSE',\n",
    "          'loss_function': 'RMSE',\n",
    "          'learning_rate': 1,\n",
    "          'random_seed': 12345,\n",
    "          'verbose':100,\n",
    "          'iterations': 312}\n",
    "\n",
    "model = CatBoostRegressor(**params)\n",
    "time_fit=-time.time()\n",
    "model.fit(train_data)\n",
    "time_fit+=time.time()"
   ]
  },
  {
   "cell_type": "code",
   "execution_count": 87,
   "metadata": {},
   "outputs": [
    {
     "name": "stdout",
     "output_type": "stream",
     "text": [
      "1593.1126167655248\n"
     ]
    }
   ],
   "source": [
    "time_pred=-time.time()\n",
    "test['y_pred']= model.predict(test_data)\n",
    "time_pred+=time.time()\n",
    "rmse = mean_squared_error(test[y],test['y_pred'],squared=False)\n",
    "print(rmse)"
   ]
  },
  {
   "cell_type": "code",
   "execution_count": 88,
   "metadata": {},
   "outputs": [],
   "source": [
    "timing_dict['catboost']=[time_fit,time_pred,rmse]"
   ]
  },
  {
   "cell_type": "markdown",
   "metadata": {},
   "source": [
    "### Выводы"
   ]
  },
  {
   "cell_type": "markdown",
   "metadata": {},
   "source": [
    "Для 6 моделей изучено время которое требуется для обучения, время для предсказания и лучший RMSE критерий.\n",
    "Размер пространства гиперпараментров был ограничен 2-3 примерами. \n",
    "Рассмотрены три одиночные модели:\n",
    "- Модель среднего значения\n",
    "- Дерево решений \n",
    "- Линейная модель \n",
    "и три ансамбля моделей:\n",
    "- модель случайного леса (bagging)\n",
    "- LightGBM (boosting)\n",
    "- CatBoost (boosting)"
   ]
  },
  {
   "cell_type": "markdown",
   "metadata": {},
   "source": [
    "## Анализ моделей"
   ]
  },
  {
   "cell_type": "markdown",
   "metadata": {},
   "source": [
    "v0 results for timing_dict : {'dummy': [0.0018112659454345703, 0.003654003143310547, 4470.566916349361],\n",
    " 'linear': [98.24061679840088, 0.1301262378692627, 2535.389329557741],\n",
    " 'tree': [197.43936014175415, 1.2980849742889404, 2279.158454734247],\n",
    " 'forest': [847.1832025051117, 0.7429852485656738, 1612.0332956556335],\n",
    " 'lightgbm': [151.92277455329895, 0.6663196086883545, 1826.5733687031059],\n",
    " 'catboost': [114.11813306808472, 0.2679862976074219, 1611.0568085995894]}"
   ]
  },
  {
   "cell_type": "code",
   "execution_count": 89,
   "metadata": {},
   "outputs": [
    {
     "data": {
      "text/plain": [
       "{'dummy': [0.0007390975952148438, 0.00042510032653808594, 4521.339112503214],\n",
       " 'linear': [0.03273296356201172, 0.0018453598022460938, 2703.4143376393777],\n",
       " 'tree': [8.748639583587646, 0.011056661605834961, 1792.248352556963],\n",
       " 'forest': [50.79045128822327, 0.3423783779144287, 1653.2045292578284],\n",
       " 'lightgbm': [155.58512568473816, 0.3196563720703125, 1734.8027899685721],\n",
       " 'catboost': [89.15167570114136, 0.15301060676574707, 1593.1126167655248]}"
      ]
     },
     "execution_count": 89,
     "metadata": {},
     "output_type": "execute_result"
    }
   ],
   "source": [
    "timing_dict"
   ]
  },
  {
   "cell_type": "code",
   "execution_count": 90,
   "metadata": {},
   "outputs": [],
   "source": [
    "model_data=pd.DataFrame.from_dict(timing_dict).round(1).transpose().rename(columns={0:'Fit_time', 1:'Prediction_time',2:'RMSE'})"
   ]
  },
  {
   "cell_type": "code",
   "execution_count": 91,
   "metadata": {},
   "outputs": [],
   "source": [
    "model_data['name']=model_data.index"
   ]
  },
  {
   "cell_type": "code",
   "execution_count": 92,
   "metadata": {},
   "outputs": [],
   "source": [
    "model_data=model_data.sort_values(by='RMSE')"
   ]
  },
  {
   "cell_type": "code",
   "execution_count": 93,
   "metadata": {},
   "outputs": [
    {
     "data": {
      "text/plain": [
       "<seaborn.axisgrid.FacetGrid at 0x7f2b26334cd0>"
      ]
     },
     "execution_count": 93,
     "metadata": {},
     "output_type": "execute_result"
    },
    {
     "data": {
      "image/png": "[encoded data removed]",
      "text/plain": [
       "<Figure size 440.625x360 with 1 Axes>"
      ]
     },
     "metadata": {
      "needs_background": "light"
     },
     "output_type": "display_data"
    }
   ],
   "source": [
    "# Create a visualization\n",
    "sns.relplot(\n",
    "    data=model_data,\n",
    "    x=\"Fit_time\", y=\"RMSE\",\n",
    "    hue=\"name\", style=\"name\",s=300\n",
    ")"
   ]
  },
  {
   "cell_type": "code",
   "execution_count": 94,
   "metadata": {},
   "outputs": [
    {
     "data": {
      "image/png": "[encoded data removed]",
      "text/plain": [
       "<Figure size 432x288 with 1 Axes>"
      ]
     },
     "metadata": {
      "needs_background": "light"
     },
     "output_type": "display_data"
    }
   ],
   "source": [
    "model_data['Prediction_time*']=model_data['Prediction_time']*10000\n",
    "model_data['RMSE*']=model_data['RMSE']\n",
    "model_data['Fit_time*']=model_data['Fit_time']*10\n",
    "ax = model_data[['Prediction_time*','Fit_time*','RMSE*']].plot.bar(rot=0)"
   ]
  },
  {
   "cell_type": "markdown",
   "metadata": {},
   "source": [
    "### Выводы"
   ]
  },
  {
   "cell_type": "markdown",
   "metadata": {},
   "source": [
    "В проекте рассмотрены 6 моделей:\n",
    "- Модель среднего значения\n",
    "- Дерево решений \n",
    "- Линейная модель \n",
    "- модель случайного леса (bagging)\n",
    "- LightGBM (boosting)\n",
    "- CatBoost (boosting)\n",
    "\n",
    "Для каждой из моделей вычислено три характеристики:\n",
    "- время которое требуется для обучения, \n",
    "- время предсказания\n",
    "- RMSE критерий на тестовой выборке.\n",
    "\n",
    "\n",
    "Результаты представлены в сравнительной таблице и граффиках выше. \n",
    "Наилучшую точность удалось достич используя ансамбли моделей: \n",
    "- CatBoost\n",
    "- Random Forest\n",
    "- LightGBM\n",
    "\n",
    "Для 'ансамблей' использования стоит выбрать CatBoost посколько он дает самые быстрые предсказания, а другие харастеристики время обучения и точность сравнимы с моделью случайного леса и LightGBM.\n",
    "\n",
    "Простая модель  Desicion Tree показала несущественно ниже результат для метрики, но при этом она самая быстрая в обучении и в предсказании. поэтому ее следует выбрать для работы. \n"
   ]
  },
  {
   "cell_type": "code",
   "execution_count": null,
   "metadata": {},
   "outputs": [],
   "source": []
  }
 ],
 "metadata": {
  "ExecuteTimeLog": [
   {
    "duration": 415,
    "start_time": "2023-07-14T07:06:48.428Z"
   },
   {
    "duration": 1001,
    "start_time": "2023-07-14T07:07:21.218Z"
   },
   {
    "duration": 110,
    "start_time": "2023-07-14T07:07:28.346Z"
   },
   {
    "duration": 67,
    "start_time": "2023-07-14T07:07:43.627Z"
   },
   {
    "duration": 100,
    "start_time": "2023-07-14T07:07:49.958Z"
   },
   {
    "duration": 119,
    "start_time": "2023-07-14T07:08:26.628Z"
   },
   {
    "duration": 121,
    "start_time": "2023-07-14T07:08:44.790Z"
   },
   {
    "duration": 123,
    "start_time": "2023-07-14T07:08:56.998Z"
   },
   {
    "duration": 118,
    "start_time": "2023-07-14T07:09:12.655Z"
   },
   {
    "duration": 98,
    "start_time": "2023-07-14T07:11:23.765Z"
   },
   {
    "duration": 113,
    "start_time": "2023-07-14T07:11:27.111Z"
   },
   {
    "duration": 115,
    "start_time": "2023-07-14T07:11:38.653Z"
   },
   {
    "duration": 11,
    "start_time": "2023-07-14T07:12:01.709Z"
   },
   {
    "duration": 19,
    "start_time": "2023-07-14T07:12:04.252Z"
   },
   {
    "duration": 117,
    "start_time": "2023-07-14T07:12:10.367Z"
   },
   {
    "duration": 5,
    "start_time": "2023-07-14T07:16:50.917Z"
   },
   {
    "duration": 17,
    "start_time": "2023-07-14T07:17:01.165Z"
   },
   {
    "duration": 26,
    "start_time": "2023-07-14T07:17:33.206Z"
   },
   {
    "duration": 124,
    "start_time": "2023-07-14T07:17:51.240Z"
   },
   {
    "duration": 115,
    "start_time": "2023-07-14T07:18:05.015Z"
   },
   {
    "duration": 115,
    "start_time": "2023-07-14T07:18:07.592Z"
   },
   {
    "duration": 114,
    "start_time": "2023-07-14T07:20:16.184Z"
   },
   {
    "duration": 111,
    "start_time": "2023-07-14T07:20:18.720Z"
   },
   {
    "duration": 117,
    "start_time": "2023-07-14T07:21:11.168Z"
   },
   {
    "duration": 90,
    "start_time": "2023-07-14T07:21:14.946Z"
   },
   {
    "duration": 94,
    "start_time": "2023-07-14T07:21:35.854Z"
   },
   {
    "duration": 85,
    "start_time": "2023-07-14T07:21:45.404Z"
   },
   {
    "duration": 171,
    "start_time": "2023-07-14T07:22:39.223Z"
   },
   {
    "duration": 151,
    "start_time": "2023-07-14T07:22:43.345Z"
   },
   {
    "duration": 339,
    "start_time": "2023-07-14T07:22:57.599Z"
   },
   {
    "duration": 311,
    "start_time": "2023-07-14T07:23:05.505Z"
   },
   {
    "duration": 324,
    "start_time": "2023-07-14T07:23:11.621Z"
   },
   {
    "duration": 171,
    "start_time": "2023-07-14T07:26:06.785Z"
   },
   {
    "duration": 75,
    "start_time": "2023-07-14T07:26:17.704Z"
   },
   {
    "duration": 3,
    "start_time": "2023-07-14T07:26:31.561Z"
   },
   {
    "duration": 8,
    "start_time": "2023-07-14T07:27:31.484Z"
   },
   {
    "duration": 92,
    "start_time": "2023-07-14T07:27:38.686Z"
   },
   {
    "duration": 32,
    "start_time": "2023-07-14T07:29:54.366Z"
   },
   {
    "duration": 30,
    "start_time": "2023-07-14T07:30:59.957Z"
   },
   {
    "duration": 29,
    "start_time": "2023-07-14T07:31:14.433Z"
   },
   {
    "duration": 36,
    "start_time": "2023-07-14T07:31:21.700Z"
   },
   {
    "duration": 45,
    "start_time": "2023-07-14T07:32:23.229Z"
   },
   {
    "duration": 167,
    "start_time": "2023-07-14T07:33:21.013Z"
   },
   {
    "duration": 14,
    "start_time": "2023-07-14T07:33:23.477Z"
   },
   {
    "duration": 83,
    "start_time": "2023-07-14T07:33:37.017Z"
   },
   {
    "duration": 5,
    "start_time": "2023-07-14T07:34:37.465Z"
   },
   {
    "duration": 4,
    "start_time": "2023-07-14T07:34:47.729Z"
   },
   {
    "duration": 4,
    "start_time": "2023-07-14T07:35:27.304Z"
   },
   {
    "duration": 38,
    "start_time": "2023-07-14T07:37:05.441Z"
   },
   {
    "duration": 30,
    "start_time": "2023-07-14T07:37:16.101Z"
   },
   {
    "duration": 46,
    "start_time": "2023-07-14T07:37:17.468Z"
   },
   {
    "duration": 70,
    "start_time": "2023-07-14T07:37:20.529Z"
   },
   {
    "duration": 107,
    "start_time": "2023-07-14T07:37:21.039Z"
   },
   {
    "duration": 94,
    "start_time": "2023-07-14T07:37:21.758Z"
   },
   {
    "duration": 2217,
    "start_time": "2023-07-14T07:39:23.122Z"
   },
   {
    "duration": 0,
    "start_time": "2023-07-14T07:39:25.340Z"
   },
   {
    "duration": 342,
    "start_time": "2023-07-14T07:39:49.046Z"
   },
   {
    "duration": 731,
    "start_time": "2023-07-14T07:39:49.390Z"
   },
   {
    "duration": 108,
    "start_time": "2023-07-14T07:39:50.122Z"
   },
   {
    "duration": 96,
    "start_time": "2023-07-14T07:39:50.231Z"
   },
   {
    "duration": 3,
    "start_time": "2023-07-14T07:39:50.328Z"
   },
   {
    "duration": 61,
    "start_time": "2023-07-14T07:39:50.332Z"
   },
   {
    "duration": 45,
    "start_time": "2023-07-14T07:39:50.394Z"
   },
   {
    "duration": 77,
    "start_time": "2023-07-14T07:39:50.440Z"
   },
   {
    "duration": 101,
    "start_time": "2023-07-14T07:39:50.518Z"
   },
   {
    "duration": 97,
    "start_time": "2023-07-14T07:39:50.622Z"
   },
   {
    "duration": 17,
    "start_time": "2023-07-14T07:39:50.721Z"
   },
   {
    "duration": 273,
    "start_time": "2023-07-14T07:39:50.739Z"
   },
   {
    "duration": 166,
    "start_time": "2023-07-14T07:39:51.014Z"
   },
   {
    "duration": 4,
    "start_time": "2023-07-14T07:40:41.070Z"
   },
   {
    "duration": 6,
    "start_time": "2023-07-14T07:40:47.269Z"
   },
   {
    "duration": 6,
    "start_time": "2023-07-14T07:40:51.299Z"
   },
   {
    "duration": 5,
    "start_time": "2023-07-14T07:41:33.494Z"
   },
   {
    "duration": 65,
    "start_time": "2023-07-14T07:41:41.243Z"
   },
   {
    "duration": 9,
    "start_time": "2023-07-14T07:41:44.559Z"
   },
   {
    "duration": 7,
    "start_time": "2023-07-14T07:41:47.254Z"
   },
   {
    "duration": 4,
    "start_time": "2023-07-14T07:41:55.585Z"
   },
   {
    "duration": 7,
    "start_time": "2023-07-14T07:42:03.699Z"
   },
   {
    "duration": 155,
    "start_time": "2023-07-14T07:42:13.479Z"
   },
   {
    "duration": 134,
    "start_time": "2023-07-14T07:42:44.091Z"
   },
   {
    "duration": 141,
    "start_time": "2023-07-14T07:42:56.951Z"
   },
   {
    "duration": 54,
    "start_time": "2023-07-14T07:45:32.071Z"
   },
   {
    "duration": 54,
    "start_time": "2023-07-14T07:45:40.393Z"
   },
   {
    "duration": 53,
    "start_time": "2023-07-14T07:46:53.067Z"
   },
   {
    "duration": 2,
    "start_time": "2023-07-14T07:49:07.909Z"
   },
   {
    "duration": 5,
    "start_time": "2023-07-14T07:50:06.512Z"
   },
   {
    "duration": 13,
    "start_time": "2023-07-14T07:50:21.254Z"
   },
   {
    "duration": 16,
    "start_time": "2023-07-14T07:50:27.644Z"
   },
   {
    "duration": 111,
    "start_time": "2023-07-14T07:50:38.635Z"
   },
   {
    "duration": 120,
    "start_time": "2023-07-14T07:51:41.897Z"
   },
   {
    "duration": 2,
    "start_time": "2023-07-14T07:54:07.041Z"
   },
   {
    "duration": 124,
    "start_time": "2023-07-14T07:54:14.167Z"
   },
   {
    "duration": 12,
    "start_time": "2023-07-14T07:56:51.234Z"
   },
   {
    "duration": 1329,
    "start_time": "2023-07-14T07:57:38.745Z"
   },
   {
    "duration": 5,
    "start_time": "2023-07-14T07:57:51.304Z"
   },
   {
    "duration": 25,
    "start_time": "2023-07-14T07:57:59.626Z"
   },
   {
    "duration": 152,
    "start_time": "2023-07-14T07:58:39.301Z"
   },
   {
    "duration": 165,
    "start_time": "2023-07-14T07:58:59.459Z"
   },
   {
    "duration": 174,
    "start_time": "2023-07-14T07:59:05.273Z"
   },
   {
    "duration": 10,
    "start_time": "2023-07-14T08:01:34.964Z"
   },
   {
    "duration": 360,
    "start_time": "2023-07-14T08:01:44.538Z"
   },
   {
    "duration": 735,
    "start_time": "2023-07-14T08:01:44.900Z"
   },
   {
    "duration": 17,
    "start_time": "2023-07-14T08:01:45.637Z"
   },
   {
    "duration": 146,
    "start_time": "2023-07-14T08:01:45.655Z"
   },
   {
    "duration": 85,
    "start_time": "2023-07-14T08:01:45.803Z"
   },
   {
    "duration": 161,
    "start_time": "2023-07-14T08:01:45.899Z"
   },
   {
    "duration": 17,
    "start_time": "2023-07-14T08:01:46.061Z"
   },
   {
    "duration": 22,
    "start_time": "2023-07-14T08:01:46.079Z"
   },
   {
    "duration": 179,
    "start_time": "2023-07-14T08:01:46.102Z"
   },
   {
    "duration": 51,
    "start_time": "2023-07-14T08:01:46.283Z"
   },
   {
    "duration": 63,
    "start_time": "2023-07-14T08:01:46.335Z"
   },
   {
    "duration": 58,
    "start_time": "2023-07-14T08:01:46.400Z"
   },
   {
    "duration": 103,
    "start_time": "2023-07-14T08:01:46.459Z"
   },
   {
    "duration": 90,
    "start_time": "2023-07-14T08:01:46.563Z"
   },
   {
    "duration": 258,
    "start_time": "2023-07-14T08:01:46.654Z"
   },
   {
    "duration": 5,
    "start_time": "2023-07-14T08:06:35.514Z"
   },
   {
    "duration": 6,
    "start_time": "2023-07-14T08:06:40.954Z"
   },
   {
    "duration": 79,
    "start_time": "2023-07-14T08:06:50.872Z"
   },
   {
    "duration": 8,
    "start_time": "2023-07-14T08:06:56.814Z"
   },
   {
    "duration": 10,
    "start_time": "2023-07-14T08:07:05.893Z"
   },
   {
    "duration": 6,
    "start_time": "2023-07-14T08:07:11.472Z"
   },
   {
    "duration": 5,
    "start_time": "2023-07-14T08:07:23.577Z"
   },
   {
    "duration": 4,
    "start_time": "2023-07-14T08:07:27.993Z"
   },
   {
    "duration": 7,
    "start_time": "2023-07-14T08:07:33.876Z"
   },
   {
    "duration": 6,
    "start_time": "2023-07-14T08:07:38.423Z"
   },
   {
    "duration": 7,
    "start_time": "2023-07-14T08:08:05.449Z"
   },
   {
    "duration": 4,
    "start_time": "2023-07-14T08:08:09.587Z"
   },
   {
    "duration": 8,
    "start_time": "2023-07-14T08:09:17.802Z"
   },
   {
    "duration": 722,
    "start_time": "2023-07-14T08:09:30.757Z"
   },
   {
    "duration": 1,
    "start_time": "2023-07-14T08:11:01.598Z"
   },
   {
    "duration": 117,
    "start_time": "2023-07-14T08:11:03.751Z"
   },
   {
    "duration": 109,
    "start_time": "2023-07-14T08:11:37.510Z"
   },
   {
    "duration": 123,
    "start_time": "2023-07-14T08:11:46.104Z"
   },
   {
    "duration": 109,
    "start_time": "2023-07-14T08:11:53.841Z"
   },
   {
    "duration": 4224,
    "start_time": "2023-07-14T08:12:07.729Z"
   },
   {
    "duration": 131,
    "start_time": "2023-07-14T08:12:15.208Z"
   },
   {
    "duration": 199,
    "start_time": "2023-07-14T08:12:18.705Z"
   },
   {
    "duration": 332,
    "start_time": "2023-07-14T08:12:57.985Z"
   },
   {
    "duration": 207,
    "start_time": "2023-07-14T08:13:19.668Z"
   },
   {
    "duration": 183,
    "start_time": "2023-07-14T08:13:25.145Z"
   },
   {
    "duration": 199,
    "start_time": "2023-07-14T08:14:12.519Z"
   },
   {
    "duration": 13,
    "start_time": "2023-07-14T08:14:45.433Z"
   },
   {
    "duration": 187,
    "start_time": "2023-07-14T08:15:04.023Z"
   },
   {
    "duration": 231,
    "start_time": "2023-07-14T08:15:21.993Z"
   },
   {
    "duration": 28,
    "start_time": "2023-07-14T08:15:52.493Z"
   },
   {
    "duration": 11,
    "start_time": "2023-07-14T08:16:06.685Z"
   },
   {
    "duration": 25,
    "start_time": "2023-07-14T08:16:23.777Z"
   },
   {
    "duration": 975,
    "start_time": "2023-07-14T08:16:48.586Z"
   },
   {
    "duration": 211,
    "start_time": "2023-07-14T08:17:05.358Z"
   },
   {
    "duration": 196,
    "start_time": "2023-07-14T08:17:26.415Z"
   },
   {
    "duration": 248,
    "start_time": "2023-07-14T08:17:48.791Z"
   },
   {
    "duration": 21,
    "start_time": "2023-07-14T08:18:22.729Z"
   },
   {
    "duration": 274,
    "start_time": "2023-07-14T08:19:55.691Z"
   },
   {
    "duration": 247,
    "start_time": "2023-07-14T08:20:07.931Z"
   },
   {
    "duration": 20,
    "start_time": "2023-07-14T08:20:10.535Z"
   },
   {
    "duration": 195,
    "start_time": "2023-07-14T08:20:34.449Z"
   },
   {
    "duration": 11,
    "start_time": "2023-07-14T08:20:59.285Z"
   },
   {
    "duration": 11,
    "start_time": "2023-07-14T08:21:09.301Z"
   },
   {
    "duration": 8,
    "start_time": "2023-07-14T08:21:15.219Z"
   },
   {
    "duration": 10,
    "start_time": "2023-07-14T08:21:46.001Z"
   },
   {
    "duration": 8,
    "start_time": "2023-07-14T08:21:54.310Z"
   },
   {
    "duration": 22,
    "start_time": "2023-07-14T08:22:43.251Z"
   },
   {
    "duration": 9,
    "start_time": "2023-07-14T08:23:07.562Z"
   },
   {
    "duration": 16,
    "start_time": "2023-07-14T08:23:14.716Z"
   },
   {
    "duration": 6,
    "start_time": "2023-07-14T08:23:34.108Z"
   },
   {
    "duration": 357,
    "start_time": "2023-07-14T08:23:49.247Z"
   },
   {
    "duration": 727,
    "start_time": "2023-07-14T08:23:49.605Z"
   },
   {
    "duration": 22,
    "start_time": "2023-07-14T08:23:50.334Z"
   },
   {
    "duration": 138,
    "start_time": "2023-07-14T08:23:50.359Z"
   },
   {
    "duration": 90,
    "start_time": "2023-07-14T08:23:50.500Z"
   },
   {
    "duration": 549,
    "start_time": "2023-07-14T08:23:50.599Z"
   },
   {
    "duration": 8,
    "start_time": "2023-07-14T08:23:51.150Z"
   },
   {
    "duration": 69,
    "start_time": "2023-07-14T08:23:51.159Z"
   },
   {
    "duration": 170,
    "start_time": "2023-07-14T08:23:51.230Z"
   },
   {
    "duration": 18,
    "start_time": "2023-07-14T08:23:51.403Z"
   },
   {
    "duration": 28,
    "start_time": "2023-07-14T08:23:51.423Z"
   },
   {
    "duration": 137,
    "start_time": "2023-07-14T08:23:51.452Z"
   },
   {
    "duration": 36,
    "start_time": "2023-07-14T08:23:51.591Z"
   },
   {
    "duration": 53,
    "start_time": "2023-07-14T08:23:51.628Z"
   },
   {
    "duration": 72,
    "start_time": "2023-07-14T08:23:51.683Z"
   },
   {
    "duration": 90,
    "start_time": "2023-07-14T08:23:51.757Z"
   },
   {
    "duration": 86,
    "start_time": "2023-07-14T08:23:51.849Z"
   },
   {
    "duration": 216,
    "start_time": "2023-07-14T08:23:51.937Z"
   },
   {
    "duration": 368,
    "start_time": "2023-07-14T08:25:42.649Z"
   },
   {
    "duration": 747,
    "start_time": "2023-07-14T08:25:43.019Z"
   },
   {
    "duration": 19,
    "start_time": "2023-07-14T08:25:43.768Z"
   },
   {
    "duration": 129,
    "start_time": "2023-07-14T08:25:43.789Z"
   },
   {
    "duration": 108,
    "start_time": "2023-07-14T08:25:43.920Z"
   },
   {
    "duration": 14,
    "start_time": "2023-07-14T08:26:00.583Z"
   },
   {
    "duration": 571,
    "start_time": "2023-07-14T08:27:17.706Z"
   },
   {
    "duration": 2,
    "start_time": "2023-07-14T08:28:07.697Z"
   },
   {
    "duration": 3,
    "start_time": "2023-07-14T08:28:58.785Z"
   },
   {
    "duration": 246,
    "start_time": "2023-07-14T08:28:59.515Z"
   },
   {
    "duration": 13,
    "start_time": "2023-07-14T08:29:13.282Z"
   },
   {
    "duration": 52,
    "start_time": "2023-07-14T08:29:23.077Z"
   },
   {
    "duration": 55,
    "start_time": "2023-07-14T08:30:38.880Z"
   },
   {
    "duration": 3,
    "start_time": "2023-07-14T08:31:29.199Z"
   },
   {
    "duration": 3,
    "start_time": "2023-07-14T08:35:25.368Z"
   },
   {
    "duration": 2,
    "start_time": "2023-07-14T08:36:21.317Z"
   },
   {
    "duration": 2,
    "start_time": "2023-07-14T08:37:24.842Z"
   },
   {
    "duration": 178,
    "start_time": "2023-07-14T08:46:19.710Z"
   },
   {
    "duration": 47,
    "start_time": "2023-07-14T08:46:34.995Z"
   },
   {
    "duration": 6,
    "start_time": "2023-07-14T08:49:52.373Z"
   },
   {
    "duration": 13,
    "start_time": "2023-07-14T08:49:57.496Z"
   },
   {
    "duration": 79,
    "start_time": "2023-07-14T08:50:44.463Z"
   },
   {
    "duration": 47,
    "start_time": "2023-07-14T08:50:49.837Z"
   },
   {
    "duration": 80,
    "start_time": "2023-07-14T08:50:50.246Z"
   },
   {
    "duration": 83,
    "start_time": "2023-07-14T08:50:50.681Z"
   },
   {
    "duration": 5,
    "start_time": "2023-07-14T08:53:57.587Z"
   },
   {
    "duration": 10,
    "start_time": "2023-07-14T08:54:09.621Z"
   },
   {
    "duration": 6,
    "start_time": "2023-07-14T08:54:14.444Z"
   },
   {
    "duration": 6,
    "start_time": "2023-07-14T08:54:18.770Z"
   },
   {
    "duration": 12,
    "start_time": "2023-07-14T08:54:26.063Z"
   },
   {
    "duration": 7,
    "start_time": "2023-07-14T08:54:28.158Z"
   },
   {
    "duration": 31,
    "start_time": "2023-07-14T08:55:40.557Z"
   },
   {
    "duration": 2,
    "start_time": "2023-07-14T08:55:55.482Z"
   },
   {
    "duration": 382,
    "start_time": "2023-07-14T08:59:27.715Z"
   },
   {
    "duration": 723,
    "start_time": "2023-07-14T08:59:28.101Z"
   },
   {
    "duration": 24,
    "start_time": "2023-07-14T08:59:28.826Z"
   },
   {
    "duration": 125,
    "start_time": "2023-07-14T08:59:28.851Z"
   },
   {
    "duration": 105,
    "start_time": "2023-07-14T08:59:28.978Z"
   },
   {
    "duration": 29,
    "start_time": "2023-07-14T08:59:29.084Z"
   },
   {
    "duration": 21,
    "start_time": "2023-07-14T08:59:29.119Z"
   },
   {
    "duration": 560,
    "start_time": "2023-07-14T08:59:29.142Z"
   },
   {
    "duration": 22,
    "start_time": "2023-07-14T08:59:29.704Z"
   },
   {
    "duration": 22,
    "start_time": "2023-07-14T08:59:29.728Z"
   },
   {
    "duration": 39,
    "start_time": "2023-07-14T08:59:29.752Z"
   },
   {
    "duration": 4,
    "start_time": "2023-07-14T08:59:29.792Z"
   },
   {
    "duration": 43,
    "start_time": "2023-07-14T08:59:29.798Z"
   },
   {
    "duration": 182,
    "start_time": "2023-07-14T08:59:29.844Z"
   },
   {
    "duration": 4,
    "start_time": "2023-07-14T08:59:30.028Z"
   },
   {
    "duration": 33,
    "start_time": "2023-07-14T08:59:30.033Z"
   },
   {
    "duration": 68,
    "start_time": "2023-07-14T08:59:30.067Z"
   },
   {
    "duration": 54,
    "start_time": "2023-07-14T08:59:30.136Z"
   },
   {
    "duration": 45,
    "start_time": "2023-07-14T08:59:30.191Z"
   },
   {
    "duration": 62,
    "start_time": "2023-07-14T08:59:30.238Z"
   },
   {
    "duration": 76,
    "start_time": "2023-07-14T08:59:30.302Z"
   },
   {
    "duration": 107,
    "start_time": "2023-07-14T08:59:30.380Z"
   },
   {
    "duration": 178,
    "start_time": "2023-07-14T08:59:30.488Z"
   },
   {
    "duration": 20,
    "start_time": "2023-07-14T08:59:36.322Z"
   },
   {
    "duration": 8,
    "start_time": "2023-07-14T09:00:46.912Z"
   },
   {
    "duration": 5,
    "start_time": "2023-07-14T09:01:31.971Z"
   },
   {
    "duration": 4,
    "start_time": "2023-07-14T09:01:45.470Z"
   },
   {
    "duration": 90,
    "start_time": "2023-07-14T09:01:50.090Z"
   },
   {
    "duration": 10,
    "start_time": "2023-07-14T09:01:55.843Z"
   },
   {
    "duration": 4,
    "start_time": "2023-07-14T09:02:01.338Z"
   },
   {
    "duration": 6,
    "start_time": "2023-07-14T09:02:06.582Z"
   },
   {
    "duration": 8,
    "start_time": "2023-07-14T09:03:21.923Z"
   },
   {
    "duration": 13,
    "start_time": "2023-07-14T09:03:27.770Z"
   },
   {
    "duration": 77,
    "start_time": "2023-07-14T09:03:31.614Z"
   },
   {
    "duration": 9,
    "start_time": "2023-07-14T09:04:24.503Z"
   },
   {
    "duration": 65,
    "start_time": "2023-07-14T09:06:16.626Z"
   },
   {
    "duration": 262,
    "start_time": "2023-07-14T09:16:17.805Z"
   },
   {
    "duration": 244,
    "start_time": "2023-07-14T09:16:53.179Z"
   },
   {
    "duration": 218,
    "start_time": "2023-07-14T09:16:56.773Z"
   },
   {
    "duration": 227,
    "start_time": "2023-07-14T09:17:03.608Z"
   },
   {
    "duration": 205,
    "start_time": "2023-07-14T09:17:06.831Z"
   },
   {
    "duration": 256,
    "start_time": "2023-07-14T09:17:18.123Z"
   },
   {
    "duration": 216,
    "start_time": "2023-07-14T09:17:24.279Z"
   },
   {
    "duration": 226,
    "start_time": "2023-07-14T09:17:48.306Z"
   },
   {
    "duration": 158,
    "start_time": "2023-07-14T09:17:54.960Z"
   },
   {
    "duration": 245,
    "start_time": "2023-07-14T09:18:03.353Z"
   },
   {
    "duration": 194,
    "start_time": "2023-07-14T09:18:15.005Z"
   },
   {
    "duration": 167,
    "start_time": "2023-07-14T09:18:18.682Z"
   },
   {
    "duration": 136,
    "start_time": "2023-07-14T09:18:31.255Z"
   },
   {
    "duration": 15,
    "start_time": "2023-07-14T09:18:55.431Z"
   },
   {
    "duration": 8,
    "start_time": "2023-07-14T09:19:14.900Z"
   },
   {
    "duration": 7,
    "start_time": "2023-07-14T09:19:30.400Z"
   },
   {
    "duration": 330,
    "start_time": "2023-07-14T09:21:33.169Z"
   },
   {
    "duration": 128,
    "start_time": "2023-07-14T09:22:28.757Z"
   },
   {
    "duration": 5,
    "start_time": "2023-07-14T09:23:09.779Z"
   },
   {
    "duration": 5,
    "start_time": "2023-07-14T09:23:17.128Z"
   },
   {
    "duration": 7,
    "start_time": "2023-07-14T09:25:10.119Z"
   },
   {
    "duration": 6,
    "start_time": "2023-07-14T09:25:13.160Z"
   },
   {
    "duration": 5,
    "start_time": "2023-07-14T09:25:16.777Z"
   },
   {
    "duration": 5,
    "start_time": "2023-07-14T09:25:31.313Z"
   },
   {
    "duration": 5,
    "start_time": "2023-07-14T09:26:30.768Z"
   },
   {
    "duration": 208,
    "start_time": "2023-07-14T09:26:55.238Z"
   },
   {
    "duration": 43,
    "start_time": "2023-07-14T09:30:21.125Z"
   },
   {
    "duration": 73,
    "start_time": "2023-07-14T09:30:22.135Z"
   },
   {
    "duration": 100,
    "start_time": "2023-07-14T09:30:22.538Z"
   },
   {
    "duration": 213,
    "start_time": "2023-07-14T09:30:23.353Z"
   },
   {
    "duration": 69,
    "start_time": "2023-07-14T09:30:57.989Z"
   },
   {
    "duration": 469,
    "start_time": "2023-07-14T09:33:57.508Z"
   },
   {
    "duration": 697,
    "start_time": "2023-07-14T09:34:40.586Z"
   },
   {
    "duration": 746,
    "start_time": "2023-07-14T09:34:51.438Z"
   },
   {
    "duration": 825,
    "start_time": "2023-07-14T09:34:57.709Z"
   },
   {
    "duration": 6,
    "start_time": "2023-07-14T09:37:02.856Z"
   },
   {
    "duration": 7,
    "start_time": "2023-07-14T09:37:12.684Z"
   },
   {
    "duration": 128,
    "start_time": "2023-07-14T09:37:27.056Z"
   },
   {
    "duration": 158,
    "start_time": "2023-07-14T09:37:33.580Z"
   },
   {
    "duration": 213,
    "start_time": "2023-07-14T09:37:39.758Z"
   },
   {
    "duration": 102,
    "start_time": "2023-07-14T09:38:00.979Z"
   },
   {
    "duration": 123,
    "start_time": "2023-07-14T09:38:05.422Z"
   },
   {
    "duration": 94,
    "start_time": "2023-07-14T09:40:24.614Z"
   },
   {
    "duration": 323,
    "start_time": "2023-07-14T09:41:25.312Z"
   },
   {
    "duration": 6,
    "start_time": "2023-07-14T09:41:52.360Z"
   },
   {
    "duration": 18,
    "start_time": "2023-07-14T09:41:57.966Z"
   },
   {
    "duration": 7,
    "start_time": "2023-07-14T09:42:05.428Z"
   },
   {
    "duration": 7,
    "start_time": "2023-07-14T09:42:17.490Z"
   },
   {
    "duration": 7,
    "start_time": "2023-07-14T09:42:25.018Z"
   },
   {
    "duration": 8,
    "start_time": "2023-07-14T09:42:34.593Z"
   },
   {
    "duration": 25,
    "start_time": "2023-07-14T09:42:36.794Z"
   },
   {
    "duration": 10,
    "start_time": "2023-07-14T09:42:40.439Z"
   },
   {
    "duration": 8,
    "start_time": "2023-07-14T09:42:42.650Z"
   },
   {
    "duration": 8,
    "start_time": "2023-07-14T09:42:45.432Z"
   },
   {
    "duration": 8,
    "start_time": "2023-07-14T09:42:51.899Z"
   },
   {
    "duration": 6,
    "start_time": "2023-07-14T09:53:29.103Z"
   },
   {
    "duration": 5,
    "start_time": "2023-07-14T09:53:29.734Z"
   },
   {
    "duration": 27,
    "start_time": "2023-07-14T09:54:02.681Z"
   },
   {
    "duration": 18,
    "start_time": "2023-07-14T09:54:12.869Z"
   },
   {
    "duration": 17,
    "start_time": "2023-07-14T09:54:21.767Z"
   },
   {
    "duration": 33,
    "start_time": "2023-07-14T09:54:26.808Z"
   },
   {
    "duration": 27,
    "start_time": "2023-07-14T09:54:37.941Z"
   },
   {
    "duration": 29,
    "start_time": "2023-07-14T09:54:48.921Z"
   },
   {
    "duration": 28,
    "start_time": "2023-07-14T09:55:14.538Z"
   },
   {
    "duration": 27,
    "start_time": "2023-07-14T09:55:27.246Z"
   },
   {
    "duration": 27,
    "start_time": "2023-07-14T09:55:32.941Z"
   },
   {
    "duration": 26,
    "start_time": "2023-07-14T09:55:50.153Z"
   },
   {
    "duration": 7,
    "start_time": "2023-07-14T09:56:36.889Z"
   },
   {
    "duration": 436,
    "start_time": "2023-07-14T09:56:45.847Z"
   },
   {
    "duration": 803,
    "start_time": "2023-07-14T09:56:46.285Z"
   },
   {
    "duration": 2,
    "start_time": "2023-07-14T09:56:47.090Z"
   },
   {
    "duration": 19,
    "start_time": "2023-07-14T09:56:47.099Z"
   },
   {
    "duration": 128,
    "start_time": "2023-07-14T09:56:47.119Z"
   },
   {
    "duration": 102,
    "start_time": "2023-07-14T09:56:47.249Z"
   },
   {
    "duration": 1315,
    "start_time": "2023-07-14T09:56:47.353Z"
   },
   {
    "duration": 134,
    "start_time": "2023-07-14T09:56:48.670Z"
   },
   {
    "duration": 56,
    "start_time": "2023-07-14T09:56:48.806Z"
   },
   {
    "duration": 58,
    "start_time": "2023-07-14T09:56:48.865Z"
   },
   {
    "duration": 328,
    "start_time": "2023-07-14T09:56:48.925Z"
   },
   {
    "duration": 9,
    "start_time": "2023-07-14T09:56:49.255Z"
   },
   {
    "duration": 3,
    "start_time": "2023-07-14T09:56:49.265Z"
   },
   {
    "duration": 220,
    "start_time": "2023-07-14T09:56:49.270Z"
   },
   {
    "duration": 20,
    "start_time": "2023-07-14T09:56:49.494Z"
   },
   {
    "duration": 14,
    "start_time": "2023-07-14T09:56:49.516Z"
   },
   {
    "duration": 51,
    "start_time": "2023-07-14T09:56:49.532Z"
   },
   {
    "duration": 3,
    "start_time": "2023-07-14T09:56:49.585Z"
   },
   {
    "duration": 32,
    "start_time": "2023-07-14T09:56:49.589Z"
   },
   {
    "duration": 146,
    "start_time": "2023-07-14T09:56:49.623Z"
   },
   {
    "duration": 2,
    "start_time": "2023-07-14T09:56:49.771Z"
   },
   {
    "duration": 15,
    "start_time": "2023-07-14T09:56:49.774Z"
   },
   {
    "duration": 28,
    "start_time": "2023-07-14T09:56:49.791Z"
   },
   {
    "duration": 6,
    "start_time": "2023-07-14T09:56:49.821Z"
   },
   {
    "duration": 12,
    "start_time": "2023-07-14T09:56:49.828Z"
   },
   {
    "duration": 34,
    "start_time": "2023-07-14T09:56:49.842Z"
   },
   {
    "duration": 55,
    "start_time": "2023-07-14T09:56:49.878Z"
   },
   {
    "duration": 41,
    "start_time": "2023-07-14T09:56:49.936Z"
   },
   {
    "duration": 84,
    "start_time": "2023-07-14T09:56:49.979Z"
   },
   {
    "duration": 91,
    "start_time": "2023-07-14T09:56:50.065Z"
   },
   {
    "duration": 145,
    "start_time": "2023-07-14T09:56:50.158Z"
   },
   {
    "duration": 3,
    "start_time": "2023-07-14T09:56:50.304Z"
   },
   {
    "duration": 52,
    "start_time": "2023-07-14T09:56:50.308Z"
   },
   {
    "duration": 77,
    "start_time": "2023-07-14T09:57:59.460Z"
   },
   {
    "duration": 37,
    "start_time": "2023-07-14T09:58:08.423Z"
   },
   {
    "duration": 140,
    "start_time": "2023-07-14T09:59:23.550Z"
   },
   {
    "duration": 4,
    "start_time": "2023-07-14T09:59:24.090Z"
   },
   {
    "duration": 22,
    "start_time": "2023-07-14T09:59:26.031Z"
   },
   {
    "duration": 406,
    "start_time": "2023-07-14T09:59:35.826Z"
   },
   {
    "duration": 712,
    "start_time": "2023-07-14T09:59:36.234Z"
   },
   {
    "duration": 2,
    "start_time": "2023-07-14T09:59:36.948Z"
   },
   {
    "duration": 34,
    "start_time": "2023-07-14T09:59:36.952Z"
   },
   {
    "duration": 109,
    "start_time": "2023-07-14T09:59:36.987Z"
   },
   {
    "duration": 88,
    "start_time": "2023-07-14T09:59:37.099Z"
   },
   {
    "duration": 1307,
    "start_time": "2023-07-14T09:59:37.199Z"
   },
   {
    "duration": 136,
    "start_time": "2023-07-14T09:59:38.507Z"
   },
   {
    "duration": 61,
    "start_time": "2023-07-14T09:59:38.645Z"
   },
   {
    "duration": 40,
    "start_time": "2023-07-14T09:59:38.708Z"
   },
   {
    "duration": 340,
    "start_time": "2023-07-14T09:59:38.749Z"
   },
   {
    "duration": 9,
    "start_time": "2023-07-14T09:59:39.091Z"
   },
   {
    "duration": 68,
    "start_time": "2023-07-14T09:59:39.101Z"
   },
   {
    "duration": 2,
    "start_time": "2023-07-14T09:59:39.171Z"
   },
   {
    "duration": 207,
    "start_time": "2023-07-14T09:59:39.175Z"
   },
   {
    "duration": 15,
    "start_time": "2023-07-14T09:59:39.384Z"
   },
   {
    "duration": 9,
    "start_time": "2023-07-14T09:59:39.400Z"
   },
   {
    "duration": 52,
    "start_time": "2023-07-14T09:59:39.410Z"
   },
   {
    "duration": 4,
    "start_time": "2023-07-14T09:59:39.463Z"
   },
   {
    "duration": 45,
    "start_time": "2023-07-14T09:59:39.468Z"
   },
   {
    "duration": 158,
    "start_time": "2023-07-14T09:59:39.514Z"
   },
   {
    "duration": 2,
    "start_time": "2023-07-14T09:59:39.673Z"
   },
   {
    "duration": 17,
    "start_time": "2023-07-14T09:59:39.677Z"
   },
   {
    "duration": 35,
    "start_time": "2023-07-14T09:59:39.695Z"
   },
   {
    "duration": 5,
    "start_time": "2023-07-14T09:59:39.732Z"
   },
   {
    "duration": 5,
    "start_time": "2023-07-14T09:59:39.739Z"
   },
   {
    "duration": 23,
    "start_time": "2023-07-14T09:59:39.745Z"
   },
   {
    "duration": 61,
    "start_time": "2023-07-14T09:59:39.772Z"
   },
   {
    "duration": 40,
    "start_time": "2023-07-14T09:59:39.834Z"
   },
   {
    "duration": 76,
    "start_time": "2023-07-14T09:59:39.875Z"
   },
   {
    "duration": 83,
    "start_time": "2023-07-14T09:59:39.952Z"
   },
   {
    "duration": 142,
    "start_time": "2023-07-14T09:59:40.037Z"
   },
   {
    "duration": 4,
    "start_time": "2023-07-14T09:59:40.180Z"
   },
   {
    "duration": 51,
    "start_time": "2023-07-14T09:59:40.185Z"
   },
   {
    "duration": 18,
    "start_time": "2023-07-14T10:00:57.605Z"
   },
   {
    "duration": 19,
    "start_time": "2023-07-14T10:01:15.796Z"
   },
   {
    "duration": 76,
    "start_time": "2023-07-14T10:01:23.249Z"
   },
   {
    "duration": 3,
    "start_time": "2023-07-14T10:04:44.625Z"
   },
   {
    "duration": 395,
    "start_time": "2023-07-15T13:29:54.792Z"
   },
   {
    "duration": 1466,
    "start_time": "2023-07-15T13:29:55.190Z"
   },
   {
    "duration": 3,
    "start_time": "2023-07-15T13:29:56.658Z"
   },
   {
    "duration": 41,
    "start_time": "2023-07-15T13:29:56.663Z"
   },
   {
    "duration": 226,
    "start_time": "2023-07-15T13:29:56.707Z"
   },
   {
    "duration": 109,
    "start_time": "2023-07-15T13:29:56.935Z"
   },
   {
    "duration": 1957,
    "start_time": "2023-07-15T13:29:57.052Z"
   },
   {
    "duration": 169,
    "start_time": "2023-07-15T13:29:59.011Z"
   },
   {
    "duration": 88,
    "start_time": "2023-07-15T13:29:59.184Z"
   },
   {
    "duration": 51,
    "start_time": "2023-07-15T13:29:59.275Z"
   },
   {
    "duration": 414,
    "start_time": "2023-07-15T13:29:59.329Z"
   },
   {
    "duration": 16,
    "start_time": "2023-07-15T13:29:59.745Z"
   },
   {
    "duration": 94,
    "start_time": "2023-07-15T13:29:59.764Z"
   },
   {
    "duration": 3,
    "start_time": "2023-07-15T13:29:59.860Z"
   },
   {
    "duration": 275,
    "start_time": "2023-07-15T13:29:59.865Z"
   },
   {
    "duration": 17,
    "start_time": "2023-07-15T13:30:00.142Z"
   },
   {
    "duration": 25,
    "start_time": "2023-07-15T13:30:00.161Z"
   },
   {
    "duration": 74,
    "start_time": "2023-07-15T13:30:00.188Z"
   },
   {
    "duration": 5,
    "start_time": "2023-07-15T13:30:00.264Z"
   },
   {
    "duration": 47,
    "start_time": "2023-07-15T13:30:00.271Z"
   },
   {
    "duration": 211,
    "start_time": "2023-07-15T13:30:00.320Z"
   },
   {
    "duration": 3,
    "start_time": "2023-07-15T13:30:00.533Z"
   },
   {
    "duration": 33,
    "start_time": "2023-07-15T13:30:00.538Z"
   },
   {
    "duration": 76,
    "start_time": "2023-07-15T13:30:00.573Z"
   },
   {
    "duration": 21,
    "start_time": "2023-07-15T13:30:00.651Z"
   },
   {
    "duration": 21,
    "start_time": "2023-07-15T13:30:00.675Z"
   },
   {
    "duration": 45,
    "start_time": "2023-07-15T13:30:00.699Z"
   },
   {
    "duration": 72,
    "start_time": "2023-07-15T13:30:00.749Z"
   },
   {
    "duration": 76,
    "start_time": "2023-07-15T13:30:00.824Z"
   },
   {
    "duration": 95,
    "start_time": "2023-07-15T13:30:00.903Z"
   },
   {
    "duration": 116,
    "start_time": "2023-07-15T13:30:00.999Z"
   },
   {
    "duration": 229,
    "start_time": "2023-07-15T13:30:01.116Z"
   },
   {
    "duration": 8,
    "start_time": "2023-07-15T13:30:01.359Z"
   },
   {
    "duration": 121,
    "start_time": "2023-07-15T13:30:01.369Z"
   },
   {
    "duration": 4,
    "start_time": "2023-07-15T13:30:01.493Z"
   },
   {
    "duration": 43,
    "start_time": "2023-07-15T13:39:20.743Z"
   },
   {
    "duration": 4,
    "start_time": "2023-07-15T13:39:40.210Z"
   },
   {
    "duration": 1091,
    "start_time": "2023-07-15T13:41:33.234Z"
   },
   {
    "duration": 943,
    "start_time": "2023-07-15T13:43:30.250Z"
   },
   {
    "duration": 49,
    "start_time": "2023-07-15T13:43:36.653Z"
   },
   {
    "duration": 15,
    "start_time": "2023-07-15T13:43:58.108Z"
   },
   {
    "duration": 15,
    "start_time": "2023-07-15T13:44:09.188Z"
   },
   {
    "duration": 4,
    "start_time": "2023-07-15T13:44:36.179Z"
   },
   {
    "duration": 4,
    "start_time": "2023-07-15T13:44:46.259Z"
   },
   {
    "duration": 1319,
    "start_time": "2023-07-15T13:46:49.422Z"
   },
   {
    "duration": 893,
    "start_time": "2023-07-15T13:46:50.743Z"
   },
   {
    "duration": 2,
    "start_time": "2023-07-15T13:46:51.638Z"
   },
   {
    "duration": 34,
    "start_time": "2023-07-15T13:46:51.642Z"
   },
   {
    "duration": 133,
    "start_time": "2023-07-15T13:46:51.678Z"
   },
   {
    "duration": 110,
    "start_time": "2023-07-15T13:46:51.813Z"
   },
   {
    "duration": 1568,
    "start_time": "2023-07-15T13:46:51.924Z"
   },
   {
    "duration": 237,
    "start_time": "2023-07-15T13:46:53.494Z"
   },
   {
    "duration": 77,
    "start_time": "2023-07-15T13:46:53.734Z"
   },
   {
    "duration": 58,
    "start_time": "2023-07-15T13:46:53.813Z"
   },
   {
    "duration": 367,
    "start_time": "2023-07-15T13:46:53.873Z"
   },
   {
    "duration": 12,
    "start_time": "2023-07-15T13:46:54.242Z"
   },
   {
    "duration": 60,
    "start_time": "2023-07-15T13:46:54.256Z"
   },
   {
    "duration": 3,
    "start_time": "2023-07-15T13:46:54.319Z"
   },
   {
    "duration": 268,
    "start_time": "2023-07-15T13:46:54.323Z"
   },
   {
    "duration": 11,
    "start_time": "2023-07-15T13:46:54.593Z"
   },
   {
    "duration": 17,
    "start_time": "2023-07-15T13:46:54.606Z"
   },
   {
    "duration": 69,
    "start_time": "2023-07-15T13:46:54.625Z"
   },
   {
    "duration": 4,
    "start_time": "2023-07-15T13:46:54.696Z"
   },
   {
    "duration": 17,
    "start_time": "2023-07-15T13:46:54.702Z"
   },
   {
    "duration": 175,
    "start_time": "2023-07-15T13:46:54.720Z"
   },
   {
    "duration": 3,
    "start_time": "2023-07-15T13:46:54.897Z"
   },
   {
    "duration": 12,
    "start_time": "2023-07-15T13:46:54.902Z"
   },
   {
    "duration": 49,
    "start_time": "2023-07-15T13:46:54.916Z"
   },
   {
    "duration": 8,
    "start_time": "2023-07-15T13:46:54.967Z"
   },
   {
    "duration": 8,
    "start_time": "2023-07-15T13:46:54.978Z"
   },
   {
    "duration": 26,
    "start_time": "2023-07-15T13:46:54.988Z"
   },
   {
    "duration": 74,
    "start_time": "2023-07-15T13:46:55.015Z"
   },
   {
    "duration": 45,
    "start_time": "2023-07-15T13:46:55.091Z"
   },
   {
    "duration": 82,
    "start_time": "2023-07-15T13:46:55.137Z"
   },
   {
    "duration": 101,
    "start_time": "2023-07-15T13:46:55.221Z"
   },
   {
    "duration": 179,
    "start_time": "2023-07-15T13:46:55.324Z"
   },
   {
    "duration": 4,
    "start_time": "2023-07-15T13:46:55.505Z"
   },
   {
    "duration": 87,
    "start_time": "2023-07-15T13:46:55.510Z"
   },
   {
    "duration": 39,
    "start_time": "2023-07-15T13:46:55.599Z"
   },
   {
    "duration": 5,
    "start_time": "2023-07-15T13:46:55.651Z"
   },
   {
    "duration": 7,
    "start_time": "2023-07-15T13:46:55.657Z"
   },
   {
    "duration": 4,
    "start_time": "2023-07-15T13:46:57.710Z"
   },
   {
    "duration": 1229,
    "start_time": "2023-07-15T13:46:59.891Z"
   },
   {
    "duration": 116,
    "start_time": "2023-07-15T13:47:27.761Z"
   },
   {
    "duration": 3,
    "start_time": "2023-07-15T13:47:53.338Z"
   },
   {
    "duration": 19,
    "start_time": "2023-07-15T13:48:12.838Z"
   },
   {
    "duration": 1246,
    "start_time": "2023-07-15T13:50:11.995Z"
   },
   {
    "duration": 1065,
    "start_time": "2023-07-15T13:50:13.245Z"
   },
   {
    "duration": 3,
    "start_time": "2023-07-15T13:50:14.312Z"
   },
   {
    "duration": 51,
    "start_time": "2023-07-15T13:50:14.317Z"
   },
   {
    "duration": 154,
    "start_time": "2023-07-15T13:50:14.371Z"
   },
   {
    "duration": 139,
    "start_time": "2023-07-15T13:50:14.527Z"
   },
   {
    "duration": 1649,
    "start_time": "2023-07-15T13:50:14.669Z"
   },
   {
    "duration": 268,
    "start_time": "2023-07-15T13:50:16.320Z"
   },
   {
    "duration": 78,
    "start_time": "2023-07-15T13:50:16.590Z"
   },
   {
    "duration": 49,
    "start_time": "2023-07-15T13:50:16.670Z"
   },
   {
    "duration": 388,
    "start_time": "2023-07-15T13:50:16.721Z"
   },
   {
    "duration": 11,
    "start_time": "2023-07-15T13:50:17.110Z"
   },
   {
    "duration": 78,
    "start_time": "2023-07-15T13:50:17.123Z"
   },
   {
    "duration": 4,
    "start_time": "2023-07-15T13:50:17.206Z"
   },
   {
    "duration": 287,
    "start_time": "2023-07-15T13:50:17.211Z"
   },
   {
    "duration": 12,
    "start_time": "2023-07-15T13:50:17.500Z"
   },
   {
    "duration": 15,
    "start_time": "2023-07-15T13:50:17.514Z"
   },
   {
    "duration": 51,
    "start_time": "2023-07-15T13:50:17.552Z"
   },
   {
    "duration": 4,
    "start_time": "2023-07-15T13:50:17.605Z"
   },
   {
    "duration": 12,
    "start_time": "2023-07-15T13:50:17.611Z"
   },
   {
    "duration": 178,
    "start_time": "2023-07-15T13:50:17.625Z"
   },
   {
    "duration": 3,
    "start_time": "2023-07-15T13:50:17.804Z"
   },
   {
    "duration": 17,
    "start_time": "2023-07-15T13:50:17.809Z"
   },
   {
    "duration": 39,
    "start_time": "2023-07-15T13:50:17.828Z"
   },
   {
    "duration": 7,
    "start_time": "2023-07-15T13:50:17.869Z"
   },
   {
    "duration": 15,
    "start_time": "2023-07-15T13:50:17.878Z"
   },
   {
    "duration": 28,
    "start_time": "2023-07-15T13:50:17.895Z"
   },
   {
    "duration": 73,
    "start_time": "2023-07-15T13:50:17.926Z"
   },
   {
    "duration": 63,
    "start_time": "2023-07-15T13:50:18.001Z"
   },
   {
    "duration": 73,
    "start_time": "2023-07-15T13:50:18.066Z"
   },
   {
    "duration": 118,
    "start_time": "2023-07-15T13:50:18.152Z"
   },
   {
    "duration": 207,
    "start_time": "2023-07-15T13:50:18.272Z"
   },
   {
    "duration": 5,
    "start_time": "2023-07-15T13:50:18.481Z"
   },
   {
    "duration": 106,
    "start_time": "2023-07-15T13:50:18.488Z"
   },
   {
    "duration": 39,
    "start_time": "2023-07-15T13:50:18.595Z"
   },
   {
    "duration": 97,
    "start_time": "2023-07-15T13:50:18.636Z"
   },
   {
    "duration": 9,
    "start_time": "2023-07-15T13:50:18.735Z"
   },
   {
    "duration": 4,
    "start_time": "2023-07-15T13:50:34.818Z"
   },
   {
    "duration": 3,
    "start_time": "2023-07-15T13:50:36.810Z"
   },
   {
    "duration": 1106,
    "start_time": "2023-07-15T13:50:37.032Z"
   },
   {
    "duration": 42,
    "start_time": "2023-07-15T13:50:52.791Z"
   },
   {
    "duration": 4,
    "start_time": "2023-07-15T13:50:59.386Z"
   },
   {
    "duration": 1902,
    "start_time": "2023-07-15T13:51:11.891Z"
   },
   {
    "duration": 1027,
    "start_time": "2023-07-19T04:11:08.836Z"
   },
   {
    "duration": 2759,
    "start_time": "2023-07-19T04:11:13.873Z"
   },
   {
    "duration": 3,
    "start_time": "2023-07-19T04:11:16.633Z"
   },
   {
    "duration": 42,
    "start_time": "2023-07-19T04:11:16.638Z"
   },
   {
    "duration": 111,
    "start_time": "2023-07-19T04:15:03.817Z"
   },
   {
    "duration": 89,
    "start_time": "2023-07-19T04:15:04.162Z"
   },
   {
    "duration": 1369,
    "start_time": "2023-07-19T04:15:04.912Z"
   },
   {
    "duration": 188,
    "start_time": "2023-07-19T04:15:06.283Z"
   },
   {
    "duration": 76,
    "start_time": "2023-07-19T04:15:06.473Z"
   },
   {
    "duration": 39,
    "start_time": "2023-07-19T04:15:06.551Z"
   },
   {
    "duration": 285,
    "start_time": "2023-07-19T04:15:07.338Z"
   },
   {
    "duration": 9,
    "start_time": "2023-07-19T04:15:07.939Z"
   },
   {
    "duration": 49,
    "start_time": "2023-07-19T04:15:08.421Z"
   },
   {
    "duration": 2,
    "start_time": "2023-07-19T04:15:09.210Z"
   },
   {
    "duration": 192,
    "start_time": "2023-07-19T04:15:10.151Z"
   },
   {
    "duration": 9,
    "start_time": "2023-07-19T04:15:10.743Z"
   },
   {
    "duration": 13,
    "start_time": "2023-07-19T04:15:11.146Z"
   },
   {
    "duration": 40,
    "start_time": "2023-07-19T04:15:11.561Z"
   },
   {
    "duration": 4,
    "start_time": "2023-07-19T04:15:11.921Z"
   },
   {
    "duration": 6,
    "start_time": "2023-07-19T04:15:12.685Z"
   },
   {
    "duration": 124,
    "start_time": "2023-07-19T04:15:13.098Z"
   },
   {
    "duration": 2,
    "start_time": "2023-07-19T04:15:13.521Z"
   },
   {
    "duration": 4,
    "start_time": "2023-07-19T04:15:15.185Z"
   },
   {
    "duration": 22,
    "start_time": "2023-07-19T04:15:15.632Z"
   },
   {
    "duration": 5,
    "start_time": "2023-07-19T04:15:16.525Z"
   },
   {
    "duration": 5,
    "start_time": "2023-07-19T04:15:16.969Z"
   },
   {
    "duration": 22,
    "start_time": "2023-07-19T04:15:17.749Z"
   },
   {
    "duration": 42,
    "start_time": "2023-07-19T04:15:18.201Z"
   },
   {
    "duration": 37,
    "start_time": "2023-07-19T04:15:18.678Z"
   },
   {
    "duration": 68,
    "start_time": "2023-07-19T04:15:19.589Z"
   },
   {
    "duration": 72,
    "start_time": "2023-07-19T04:15:20.181Z"
   },
   {
    "duration": 123,
    "start_time": "2023-07-19T04:15:20.720Z"
   },
   {
    "duration": 4,
    "start_time": "2023-07-19T04:15:21.332Z"
   },
   {
    "duration": 61,
    "start_time": "2023-07-19T04:15:24.351Z"
   },
   {
    "duration": 31,
    "start_time": "2023-07-19T04:15:25.161Z"
   },
   {
    "duration": 4,
    "start_time": "2023-07-19T04:15:25.586Z"
   },
   {
    "duration": 2,
    "start_time": "2023-07-19T04:15:26.905Z"
   },
   {
    "duration": 648,
    "start_time": "2023-07-19T04:15:31.872Z"
   },
   {
    "duration": 4,
    "start_time": "2023-07-19T04:15:32.523Z"
   },
   {
    "duration": 1353,
    "start_time": "2023-07-19T04:15:32.809Z"
   },
   {
    "duration": 2,
    "start_time": "2023-07-19T04:15:34.961Z"
   },
   {
    "duration": 95,
    "start_time": "2023-07-19T04:15:37.158Z"
   },
   {
    "duration": 4,
    "start_time": "2023-07-19T04:15:43.410Z"
   },
   {
    "duration": 8,
    "start_time": "2023-07-19T04:17:23.730Z"
   },
   {
    "duration": 4,
    "start_time": "2023-07-19T04:17:46.831Z"
   },
   {
    "duration": 4,
    "start_time": "2023-07-19T04:18:04.532Z"
   },
   {
    "duration": 4,
    "start_time": "2023-07-19T04:20:17.540Z"
   },
   {
    "duration": 14,
    "start_time": "2023-07-19T04:21:50.657Z"
   },
   {
    "duration": 12,
    "start_time": "2023-07-19T04:22:03.211Z"
   },
   {
    "duration": 11,
    "start_time": "2023-07-19T04:22:20.938Z"
   },
   {
    "duration": 14,
    "start_time": "2023-07-19T04:22:52.579Z"
   },
   {
    "duration": 978,
    "start_time": "2023-07-19T04:23:04.144Z"
   },
   {
    "duration": 680,
    "start_time": "2023-07-19T04:23:05.124Z"
   },
   {
    "duration": 2,
    "start_time": "2023-07-19T04:23:05.806Z"
   },
   {
    "duration": 25,
    "start_time": "2023-07-19T04:23:05.810Z"
   },
   {
    "duration": 107,
    "start_time": "2023-07-19T04:23:05.837Z"
   },
   {
    "duration": 86,
    "start_time": "2023-07-19T04:23:05.946Z"
   },
   {
    "duration": 1196,
    "start_time": "2023-07-19T04:23:06.034Z"
   },
   {
    "duration": 188,
    "start_time": "2023-07-19T04:23:07.231Z"
   },
   {
    "duration": 52,
    "start_time": "2023-07-19T04:23:07.421Z"
   },
   {
    "duration": 51,
    "start_time": "2023-07-19T04:23:07.475Z"
   },
   {
    "duration": 296,
    "start_time": "2023-07-19T04:23:07.528Z"
   },
   {
    "duration": 8,
    "start_time": "2023-07-19T04:23:07.826Z"
   },
   {
    "duration": 64,
    "start_time": "2023-07-19T04:23:07.836Z"
   },
   {
    "duration": 2,
    "start_time": "2023-07-19T04:23:07.902Z"
   },
   {
    "duration": 208,
    "start_time": "2023-07-19T04:23:07.906Z"
   },
   {
    "duration": 8,
    "start_time": "2023-07-19T04:23:08.116Z"
   },
   {
    "duration": 27,
    "start_time": "2023-07-19T04:23:08.126Z"
   },
   {
    "duration": 48,
    "start_time": "2023-07-19T04:23:08.155Z"
   },
   {
    "duration": 4,
    "start_time": "2023-07-19T04:23:08.204Z"
   },
   {
    "duration": 21,
    "start_time": "2023-07-19T04:23:08.209Z"
   },
   {
    "duration": 140,
    "start_time": "2023-07-19T04:23:08.231Z"
   },
   {
    "duration": 2,
    "start_time": "2023-07-19T04:23:08.373Z"
   },
   {
    "duration": 29,
    "start_time": "2023-07-19T04:23:08.376Z"
   },
   {
    "duration": 49,
    "start_time": "2023-07-19T04:23:08.406Z"
   },
   {
    "duration": 31,
    "start_time": "2023-07-19T04:23:08.457Z"
   },
   {
    "duration": 13,
    "start_time": "2023-07-19T04:23:08.490Z"
   },
   {
    "duration": 29,
    "start_time": "2023-07-19T04:23:08.504Z"
   },
   {
    "duration": 50,
    "start_time": "2023-07-19T04:23:08.534Z"
   },
   {
    "duration": 39,
    "start_time": "2023-07-19T04:23:08.586Z"
   },
   {
    "duration": 62,
    "start_time": "2023-07-19T04:23:08.626Z"
   },
   {
    "duration": 78,
    "start_time": "2023-07-19T04:23:08.690Z"
   },
   {
    "duration": 125,
    "start_time": "2023-07-19T04:23:08.769Z"
   },
   {
    "duration": 3,
    "start_time": "2023-07-19T04:23:08.895Z"
   },
   {
    "duration": 66,
    "start_time": "2023-07-19T04:23:08.906Z"
   },
   {
    "duration": 34,
    "start_time": "2023-07-19T04:23:08.973Z"
   },
   {
    "duration": 3,
    "start_time": "2023-07-19T04:23:09.009Z"
   },
   {
    "duration": 655,
    "start_time": "2023-07-19T04:23:09.013Z"
   },
   {
    "duration": 3,
    "start_time": "2023-07-19T04:23:09.670Z"
   },
   {
    "duration": 642,
    "start_time": "2023-07-19T04:23:09.675Z"
   },
   {
    "duration": 584,
    "start_time": "2023-07-19T04:23:10.319Z"
   },
   {
    "duration": 4,
    "start_time": "2023-07-19T04:23:10.906Z"
   },
   {
    "duration": 4,
    "start_time": "2023-07-19T04:23:20.540Z"
   },
   {
    "duration": 4,
    "start_time": "2023-07-19T04:24:39.448Z"
   },
   {
    "duration": 522,
    "start_time": "2023-07-19T04:24:45.296Z"
   },
   {
    "duration": 4,
    "start_time": "2023-07-19T04:24:46.161Z"
   },
   {
    "duration": 635,
    "start_time": "2023-07-19T04:24:50.377Z"
   },
   {
    "duration": 629,
    "start_time": "2023-07-19T04:24:51.014Z"
   },
   {
    "duration": 4,
    "start_time": "2023-07-19T04:24:52.371Z"
   },
   {
    "duration": 102,
    "start_time": "2023-07-19T04:29:29.788Z"
   },
   {
    "duration": 3,
    "start_time": "2023-07-19T04:30:11.280Z"
   },
   {
    "duration": 13,
    "start_time": "2023-07-19T04:30:20.237Z"
   },
   {
    "duration": 53,
    "start_time": "2023-07-19T04:33:52.069Z"
   },
   {
    "duration": 1178,
    "start_time": "2023-07-19T04:34:04.302Z"
   },
   {
    "duration": 672,
    "start_time": "2023-07-19T04:34:05.482Z"
   },
   {
    "duration": 2,
    "start_time": "2023-07-19T04:34:06.156Z"
   },
   {
    "duration": 43,
    "start_time": "2023-07-19T04:34:06.159Z"
   },
   {
    "duration": 109,
    "start_time": "2023-07-19T04:34:06.204Z"
   },
   {
    "duration": 81,
    "start_time": "2023-07-19T04:34:06.314Z"
   },
   {
    "duration": 1197,
    "start_time": "2023-07-19T04:34:06.406Z"
   },
   {
    "duration": 188,
    "start_time": "2023-07-19T04:34:07.605Z"
   },
   {
    "duration": 58,
    "start_time": "2023-07-19T04:34:07.794Z"
   },
   {
    "duration": 37,
    "start_time": "2023-07-19T04:34:07.854Z"
   },
   {
    "duration": 329,
    "start_time": "2023-07-19T04:34:07.893Z"
   },
   {
    "duration": 8,
    "start_time": "2023-07-19T04:34:08.223Z"
   },
   {
    "duration": 66,
    "start_time": "2023-07-19T04:34:08.233Z"
   },
   {
    "duration": 2,
    "start_time": "2023-07-19T04:34:08.302Z"
   },
   {
    "duration": 211,
    "start_time": "2023-07-19T04:34:08.305Z"
   },
   {
    "duration": 8,
    "start_time": "2023-07-19T04:34:08.517Z"
   },
   {
    "duration": 12,
    "start_time": "2023-07-19T04:34:08.526Z"
   },
   {
    "duration": 40,
    "start_time": "2023-07-19T04:34:08.540Z"
   },
   {
    "duration": 3,
    "start_time": "2023-07-19T04:34:08.582Z"
   },
   {
    "duration": 21,
    "start_time": "2023-07-19T04:34:08.586Z"
   },
   {
    "duration": 136,
    "start_time": "2023-07-19T04:34:08.609Z"
   },
   {
    "duration": 2,
    "start_time": "2023-07-19T04:34:08.746Z"
   },
   {
    "duration": 10,
    "start_time": "2023-07-19T04:34:08.750Z"
   },
   {
    "duration": 44,
    "start_time": "2023-07-19T04:34:08.762Z"
   },
   {
    "duration": 9,
    "start_time": "2023-07-19T04:34:08.807Z"
   },
   {
    "duration": 6,
    "start_time": "2023-07-19T04:34:08.818Z"
   },
   {
    "duration": 141,
    "start_time": "2023-07-19T04:34:08.825Z"
   },
   {
    "duration": 9,
    "start_time": "2023-07-19T04:34:23.690Z"
   },
   {
    "duration": 22,
    "start_time": "2023-07-19T04:34:43.292Z"
   },
   {
    "duration": 32,
    "start_time": "2023-07-19T04:34:56.196Z"
   },
   {
    "duration": 29,
    "start_time": "2023-07-19T04:34:57.162Z"
   },
   {
    "duration": 2274,
    "start_time": "2023-07-19T04:34:57.450Z"
   },
   {
    "duration": 0,
    "start_time": "2023-07-19T04:34:59.726Z"
   },
   {
    "duration": 0,
    "start_time": "2023-07-19T04:34:59.727Z"
   },
   {
    "duration": 0,
    "start_time": "2023-07-19T04:34:59.728Z"
   },
   {
    "duration": 0,
    "start_time": "2023-07-19T04:34:59.729Z"
   },
   {
    "duration": 63,
    "start_time": "2023-07-19T04:35:00.199Z"
   },
   {
    "duration": 15,
    "start_time": "2023-07-19T04:35:00.942Z"
   },
   {
    "duration": 77,
    "start_time": "2023-07-19T04:35:00.959Z"
   },
   {
    "duration": 605,
    "start_time": "2023-07-19T04:35:01.242Z"
   },
   {
    "duration": 4,
    "start_time": "2023-07-19T04:35:01.849Z"
   },
   {
    "duration": 761,
    "start_time": "2023-07-19T04:35:01.894Z"
   },
   {
    "duration": 623,
    "start_time": "2023-07-19T04:35:02.658Z"
   },
   {
    "duration": 165,
    "start_time": "2023-07-19T04:35:03.283Z"
   },
   {
    "duration": 3,
    "start_time": "2023-07-19T04:35:06.360Z"
   },
   {
    "duration": 2,
    "start_time": "2023-07-19T04:35:23.223Z"
   },
   {
    "duration": 3,
    "start_time": "2023-07-19T04:38:45.254Z"
   },
   {
    "duration": 2,
    "start_time": "2023-07-19T04:38:59.133Z"
   },
   {
    "duration": 3,
    "start_time": "2023-07-19T04:38:59.532Z"
   },
   {
    "duration": 40,
    "start_time": "2023-07-19T04:41:12.270Z"
   },
   {
    "duration": 3,
    "start_time": "2023-07-19T04:41:46.646Z"
   },
   {
    "duration": 79,
    "start_time": "2023-07-19T04:41:50.412Z"
   },
   {
    "duration": 3,
    "start_time": "2023-07-19T04:42:17.222Z"
   },
   {
    "duration": 544561,
    "start_time": "2023-07-19T04:42:26.357Z"
   },
   {
    "duration": 124392,
    "start_time": "2023-07-19T04:51:59.675Z"
   },
   {
    "duration": 1407,
    "start_time": "2023-07-24T09:01:37.724Z"
   },
   {
    "duration": 1435,
    "start_time": "2023-07-24T09:01:39.134Z"
   },
   {
    "duration": 3,
    "start_time": "2023-07-24T09:01:40.575Z"
   },
   {
    "duration": 49,
    "start_time": "2023-07-24T09:01:40.580Z"
   },
   {
    "duration": 152,
    "start_time": "2023-07-24T09:01:40.631Z"
   },
   {
    "duration": 116,
    "start_time": "2023-07-24T09:01:40.785Z"
   },
   {
    "duration": 2019,
    "start_time": "2023-07-24T09:01:40.902Z"
   },
   {
    "duration": 169,
    "start_time": "2023-07-24T09:01:42.922Z"
   },
   {
    "duration": 91,
    "start_time": "2023-07-24T09:01:43.093Z"
   },
   {
    "duration": 77,
    "start_time": "2023-07-24T09:01:43.186Z"
   },
   {
    "duration": 464,
    "start_time": "2023-07-24T09:01:43.270Z"
   },
   {
    "duration": 29,
    "start_time": "2023-07-24T09:01:43.736Z"
   },
   {
    "duration": 125,
    "start_time": "2023-07-24T09:01:43.771Z"
   },
   {
    "duration": 3,
    "start_time": "2023-07-24T09:01:43.899Z"
   },
   {
    "duration": 291,
    "start_time": "2023-07-24T09:01:43.904Z"
   },
   {
    "duration": 10,
    "start_time": "2023-07-24T09:01:44.197Z"
   },
   {
    "duration": 34,
    "start_time": "2023-07-24T09:01:44.208Z"
   },
   {
    "duration": 78,
    "start_time": "2023-07-24T09:01:44.244Z"
   },
   {
    "duration": 5,
    "start_time": "2023-07-24T09:01:44.323Z"
   },
   {
    "duration": 19,
    "start_time": "2023-07-24T09:01:44.330Z"
   },
   {
    "duration": 187,
    "start_time": "2023-07-24T09:01:44.351Z"
   },
   {
    "duration": 16,
    "start_time": "2023-07-24T09:01:44.540Z"
   },
   {
    "duration": 24,
    "start_time": "2023-07-24T09:01:44.562Z"
   },
   {
    "duration": 44,
    "start_time": "2023-07-24T09:01:44.588Z"
   },
   {
    "duration": 10,
    "start_time": "2023-07-24T09:01:44.634Z"
   },
   {
    "duration": 36,
    "start_time": "2023-07-24T09:01:44.646Z"
   },
   {
    "duration": 58,
    "start_time": "2023-07-24T09:01:44.684Z"
   },
   {
    "duration": 42,
    "start_time": "2023-07-24T09:01:44.744Z"
   },
   {
    "duration": 7659,
    "start_time": "2023-07-24T09:01:44.789Z"
   },
   {
    "duration": 0,
    "start_time": "2023-07-24T09:01:52.450Z"
   },
   {
    "duration": 0,
    "start_time": "2023-07-24T09:01:52.453Z"
   },
   {
    "duration": 0,
    "start_time": "2023-07-24T09:01:52.454Z"
   },
   {
    "duration": 0,
    "start_time": "2023-07-24T09:01:52.459Z"
   },
   {
    "duration": 0,
    "start_time": "2023-07-24T09:01:52.460Z"
   },
   {
    "duration": 0,
    "start_time": "2023-07-24T09:01:52.462Z"
   },
   {
    "duration": 0,
    "start_time": "2023-07-24T09:01:52.463Z"
   },
   {
    "duration": 0,
    "start_time": "2023-07-24T09:01:52.465Z"
   },
   {
    "duration": 0,
    "start_time": "2023-07-24T09:01:52.466Z"
   },
   {
    "duration": 0,
    "start_time": "2023-07-24T09:01:52.468Z"
   },
   {
    "duration": 0,
    "start_time": "2023-07-24T09:01:52.469Z"
   },
   {
    "duration": 0,
    "start_time": "2023-07-24T09:01:52.470Z"
   },
   {
    "duration": 0,
    "start_time": "2023-07-24T09:01:52.472Z"
   },
   {
    "duration": 0,
    "start_time": "2023-07-24T09:01:52.473Z"
   },
   {
    "duration": 71,
    "start_time": "2023-07-24T09:03:09.050Z"
   },
   {
    "duration": 87,
    "start_time": "2023-07-24T09:03:13.541Z"
   },
   {
    "duration": 122,
    "start_time": "2023-07-24T09:03:13.872Z"
   },
   {
    "duration": 190,
    "start_time": "2023-07-24T09:03:14.648Z"
   },
   {
    "duration": 6,
    "start_time": "2023-07-24T09:03:15.113Z"
   },
   {
    "duration": 124,
    "start_time": "2023-07-24T09:03:16.568Z"
   },
   {
    "duration": 49,
    "start_time": "2023-07-24T09:03:16.868Z"
   },
   {
    "duration": 6,
    "start_time": "2023-07-24T09:03:17.200Z"
   },
   {
    "duration": 1281,
    "start_time": "2023-07-24T09:03:19.142Z"
   },
   {
    "duration": 757,
    "start_time": "2023-07-24T09:03:21.457Z"
   },
   {
    "duration": 4,
    "start_time": "2023-07-24T09:03:52.248Z"
   },
   {
    "duration": 4,
    "start_time": "2023-07-24T09:11:00.571Z"
   },
   {
    "duration": 3,
    "start_time": "2023-07-24T09:14:09.274Z"
   },
   {
    "duration": 15,
    "start_time": "2023-07-24T09:15:43.803Z"
   },
   {
    "duration": 19,
    "start_time": "2023-07-24T09:15:55.270Z"
   },
   {
    "duration": 11,
    "start_time": "2023-07-24T09:16:05.203Z"
   },
   {
    "duration": 259,
    "start_time": "2023-07-24T09:16:12.136Z"
   },
   {
    "duration": 6,
    "start_time": "2023-07-24T09:16:12.851Z"
   },
   {
    "duration": 4,
    "start_time": "2023-07-24T09:16:13.239Z"
   },
   {
    "duration": 14,
    "start_time": "2023-07-24T09:16:14.186Z"
   },
   {
    "duration": 14,
    "start_time": "2023-07-24T09:18:13.892Z"
   },
   {
    "duration": 6,
    "start_time": "2023-07-24T09:19:43.500Z"
   },
   {
    "duration": 17,
    "start_time": "2023-07-24T09:20:21.574Z"
   },
   {
    "duration": 60,
    "start_time": "2023-07-24T09:20:28.349Z"
   },
   {
    "duration": 35,
    "start_time": "2023-07-24T09:20:38.793Z"
   },
   {
    "duration": 27,
    "start_time": "2023-07-24T09:20:47.592Z"
   },
   {
    "duration": 137,
    "start_time": "2023-07-24T09:21:09.310Z"
   },
   {
    "duration": 8,
    "start_time": "2023-07-24T09:27:37.427Z"
   },
   {
    "duration": 4,
    "start_time": "2023-07-24T09:27:38.996Z"
   },
   {
    "duration": 7,
    "start_time": "2023-07-24T09:27:46.200Z"
   },
   {
    "duration": 48040,
    "start_time": "2023-07-24T09:27:55.841Z"
   },
   {
    "duration": 10,
    "start_time": "2023-07-24T09:30:01.052Z"
   },
   {
    "duration": 41884,
    "start_time": "2023-07-24T09:30:08.192Z"
   },
   {
    "duration": 0,
    "start_time": "2023-07-24T09:30:50.084Z"
   },
   {
    "duration": 36445,
    "start_time": "2023-07-24T09:33:12.518Z"
   },
   {
    "duration": 1176,
    "start_time": "2023-07-25T05:52:07.573Z"
   },
   {
    "duration": 2927,
    "start_time": "2023-07-25T05:52:08.751Z"
   },
   {
    "duration": 3,
    "start_time": "2023-07-25T05:52:11.680Z"
   },
   {
    "duration": 22,
    "start_time": "2023-07-25T05:52:11.685Z"
   },
   {
    "duration": 114,
    "start_time": "2023-07-25T05:52:11.708Z"
   },
   {
    "duration": 155,
    "start_time": "2023-07-25T05:52:11.824Z"
   },
   {
    "duration": 1753,
    "start_time": "2023-07-25T05:52:11.981Z"
   },
   {
    "duration": 151,
    "start_time": "2023-07-25T05:52:13.736Z"
   },
   {
    "duration": 94,
    "start_time": "2023-07-25T05:52:13.889Z"
   },
   {
    "duration": 60,
    "start_time": "2023-07-25T05:52:13.986Z"
   },
   {
    "duration": 379,
    "start_time": "2023-07-25T05:52:14.048Z"
   },
   {
    "duration": 10,
    "start_time": "2023-07-25T05:52:14.429Z"
   },
   {
    "duration": 76,
    "start_time": "2023-07-25T05:52:14.441Z"
   },
   {
    "duration": 3,
    "start_time": "2023-07-25T05:52:14.519Z"
   },
   {
    "duration": 265,
    "start_time": "2023-07-25T05:52:14.523Z"
   },
   {
    "duration": 11,
    "start_time": "2023-07-25T05:52:14.790Z"
   },
   {
    "duration": 32,
    "start_time": "2023-07-25T05:52:14.803Z"
   },
   {
    "duration": 60,
    "start_time": "2023-07-25T05:52:14.837Z"
   },
   {
    "duration": 4,
    "start_time": "2023-07-25T05:52:14.899Z"
   },
   {
    "duration": 10,
    "start_time": "2023-07-25T05:52:14.904Z"
   },
   {
    "duration": 169,
    "start_time": "2023-07-25T05:52:14.915Z"
   },
   {
    "duration": 3,
    "start_time": "2023-07-25T05:52:15.086Z"
   },
   {
    "duration": 34,
    "start_time": "2023-07-25T05:52:15.090Z"
   },
   {
    "duration": 31,
    "start_time": "2023-07-25T05:52:15.126Z"
   },
   {
    "duration": 6,
    "start_time": "2023-07-25T05:52:15.159Z"
   },
   {
    "duration": 16,
    "start_time": "2023-07-25T05:52:15.167Z"
   },
   {
    "duration": 51,
    "start_time": "2023-07-25T05:52:15.185Z"
   },
   {
    "duration": 52,
    "start_time": "2023-07-25T05:52:15.239Z"
   },
   {
    "duration": 53,
    "start_time": "2023-07-25T05:52:15.293Z"
   },
   {
    "duration": 66,
    "start_time": "2023-07-25T05:52:15.360Z"
   },
   {
    "duration": 92,
    "start_time": "2023-07-25T05:52:15.428Z"
   },
   {
    "duration": 151,
    "start_time": "2023-07-25T05:52:15.522Z"
   },
   {
    "duration": 4,
    "start_time": "2023-07-25T05:52:15.675Z"
   },
   {
    "duration": 88,
    "start_time": "2023-07-25T05:52:15.681Z"
   },
   {
    "duration": 41,
    "start_time": "2023-07-25T05:52:15.770Z"
   },
   {
    "duration": 4,
    "start_time": "2023-07-25T05:52:15.813Z"
   },
   {
    "duration": 1129,
    "start_time": "2023-07-25T05:52:15.818Z"
   },
   {
    "duration": 707,
    "start_time": "2023-07-25T05:52:16.949Z"
   },
   {
    "duration": 218,
    "start_time": "2023-07-25T05:52:17.659Z"
   },
   {
    "duration": 3,
    "start_time": "2023-07-25T05:52:17.879Z"
   },
   {
    "duration": 29,
    "start_time": "2023-07-25T05:52:17.883Z"
   },
   {
    "duration": 27,
    "start_time": "2023-07-25T05:52:17.914Z"
   },
   {
    "duration": 12,
    "start_time": "2023-07-25T05:52:17.943Z"
   },
   {
    "duration": 35,
    "start_time": "2023-07-25T05:52:17.957Z"
   },
   {
    "duration": 22671,
    "start_time": "2023-07-25T05:52:17.994Z"
   },
   {
    "duration": 24714,
    "start_time": "2023-07-25T05:59:25.246Z"
   },
   {
    "duration": 205,
    "start_time": "2023-07-25T05:59:49.963Z"
   },
   {
    "duration": 4,
    "start_time": "2023-07-25T06:05:24.343Z"
   },
   {
    "duration": 197,
    "start_time": "2023-07-25T06:05:32.434Z"
   },
   {
    "duration": 13,
    "start_time": "2023-07-25T06:05:50.246Z"
   },
   {
    "duration": 10,
    "start_time": "2023-07-25T06:06:21.736Z"
   },
   {
    "duration": 3,
    "start_time": "2023-07-25T06:06:23.098Z"
   },
   {
    "duration": 5,
    "start_time": "2023-07-25T06:06:23.345Z"
   },
   {
    "duration": 280285,
    "start_time": "2023-07-25T06:06:57.546Z"
   },
   {
    "duration": 5,
    "start_time": "2023-07-25T06:26:58.018Z"
   },
   {
    "duration": 4,
    "start_time": "2023-07-25T06:27:35.594Z"
   },
   {
    "duration": 10,
    "start_time": "2023-07-25T06:28:13.721Z"
   },
   {
    "duration": 10,
    "start_time": "2023-07-25T06:28:20.538Z"
   },
   {
    "duration": 11,
    "start_time": "2023-07-25T06:29:47.962Z"
   },
   {
    "duration": 1269,
    "start_time": "2023-07-25T06:30:03.558Z"
   },
   {
    "duration": 1050,
    "start_time": "2023-07-25T06:30:59.335Z"
   },
   {
    "duration": 1021,
    "start_time": "2023-07-25T06:31:35.793Z"
   },
   {
    "duration": 1040,
    "start_time": "2023-07-25T06:32:43.430Z"
   },
   {
    "duration": 3,
    "start_time": "2023-07-25T06:35:47.303Z"
   },
   {
    "duration": 4,
    "start_time": "2023-07-25T06:36:02.758Z"
   },
   {
    "duration": 5,
    "start_time": "2023-07-25T06:36:08.680Z"
   },
   {
    "duration": 3,
    "start_time": "2023-07-25T06:36:22.794Z"
   },
   {
    "duration": 2,
    "start_time": "2023-07-25T06:37:20.599Z"
   },
   {
    "duration": 4,
    "start_time": "2023-07-25T06:37:56.104Z"
   },
   {
    "duration": 6,
    "start_time": "2023-07-25T06:38:28.770Z"
   },
   {
    "duration": 6,
    "start_time": "2023-07-25T06:38:42.198Z"
   },
   {
    "duration": 3,
    "start_time": "2023-07-25T06:39:11.591Z"
   },
   {
    "duration": 5,
    "start_time": "2023-07-25T06:39:18.217Z"
   },
   {
    "duration": 6,
    "start_time": "2023-07-25T06:40:09.842Z"
   },
   {
    "duration": 3,
    "start_time": "2023-07-25T06:40:10.138Z"
   },
   {
    "duration": 4,
    "start_time": "2023-07-25T06:40:10.498Z"
   },
   {
    "duration": 4,
    "start_time": "2023-07-25T06:41:48.226Z"
   },
   {
    "duration": 3,
    "start_time": "2023-07-25T06:42:51.618Z"
   },
   {
    "duration": 4,
    "start_time": "2023-07-25T06:42:58.212Z"
   },
   {
    "duration": 4,
    "start_time": "2023-07-25T06:43:05.422Z"
   },
   {
    "duration": 3,
    "start_time": "2023-07-25T06:43:05.799Z"
   },
   {
    "duration": 6,
    "start_time": "2023-07-25T06:43:06.125Z"
   },
   {
    "duration": 3,
    "start_time": "2023-07-25T06:43:06.506Z"
   },
   {
    "duration": 4,
    "start_time": "2023-07-25T06:43:06.917Z"
   },
   {
    "duration": 25972,
    "start_time": "2023-07-25T06:43:07.795Z"
   },
   {
    "duration": 218,
    "start_time": "2023-07-25T06:43:33.769Z"
   },
   {
    "duration": 72,
    "start_time": "2023-07-25T06:43:33.989Z"
   },
   {
    "duration": 99,
    "start_time": "2023-07-25T06:43:34.064Z"
   },
   {
    "duration": 2,
    "start_time": "2023-07-25T06:47:27.671Z"
   },
   {
    "duration": 5,
    "start_time": "2023-07-25T06:47:28.659Z"
   },
   {
    "duration": 7,
    "start_time": "2023-07-25T06:49:09.825Z"
   },
   {
    "duration": 8,
    "start_time": "2023-07-25T06:50:18.306Z"
   },
   {
    "duration": 3,
    "start_time": "2023-07-25T06:50:23.034Z"
   },
   {
    "duration": 4,
    "start_time": "2023-07-25T06:50:23.656Z"
   },
   {
    "duration": 4,
    "start_time": "2023-07-25T06:51:13.597Z"
   },
   {
    "duration": 6,
    "start_time": "2023-07-25T06:51:14.255Z"
   },
   {
    "duration": 3,
    "start_time": "2023-07-25T06:51:55.637Z"
   },
   {
    "duration": 19245,
    "start_time": "2023-07-25T06:54:23.727Z"
   },
   {
    "duration": 3,
    "start_time": "2023-07-25T06:54:58.638Z"
   },
   {
    "duration": 5,
    "start_time": "2023-07-25T06:55:08.152Z"
   },
   {
    "duration": 5,
    "start_time": "2023-07-25T06:55:11.074Z"
   },
   {
    "duration": 3,
    "start_time": "2023-07-25T07:06:58.190Z"
   },
   {
    "duration": 34241,
    "start_time": "2023-07-25T07:07:14.536Z"
   },
   {
    "duration": 17,
    "start_time": "2023-07-25T07:10:17.896Z"
   },
   {
    "duration": 617,
    "start_time": "2023-07-25T07:10:52.963Z"
   },
   {
    "duration": 1676,
    "start_time": "2023-07-25T07:12:25.518Z"
   },
   {
    "duration": 1548,
    "start_time": "2023-07-25T07:12:49.721Z"
   },
   {
    "duration": 1678,
    "start_time": "2023-07-25T07:13:09.325Z"
   },
   {
    "duration": 1541,
    "start_time": "2023-07-25T07:14:29.143Z"
   },
   {
    "duration": 1504,
    "start_time": "2023-07-25T07:14:36.598Z"
   },
   {
    "duration": 1655,
    "start_time": "2023-07-25T07:14:50.681Z"
   },
   {
    "duration": 1873,
    "start_time": "2023-07-25T07:16:06.861Z"
   },
   {
    "duration": 8297,
    "start_time": "2023-07-25T07:18:04.869Z"
   },
   {
    "duration": 3,
    "start_time": "2023-07-25T07:18:23.874Z"
   },
   {
    "duration": 8457,
    "start_time": "2023-07-25T07:18:25.716Z"
   },
   {
    "duration": 11,
    "start_time": "2023-07-25T07:19:36.530Z"
   },
   {
    "duration": 620,
    "start_time": "2023-07-25T07:19:44.360Z"
   },
   {
    "duration": 3,
    "start_time": "2023-07-25T07:19:46.320Z"
   },
   {
    "duration": 4,
    "start_time": "2023-07-25T07:20:01.170Z"
   },
   {
    "duration": 5,
    "start_time": "2023-07-25T07:20:08.212Z"
   },
   {
    "duration": 54,
    "start_time": "2023-07-25T07:24:20.071Z"
   },
   {
    "duration": 4,
    "start_time": "2023-07-25T07:25:27.961Z"
   },
   {
    "duration": 24,
    "start_time": "2023-07-25T07:28:58.081Z"
   },
   {
    "duration": 8,
    "start_time": "2023-07-25T07:29:17.465Z"
   },
   {
    "duration": 3,
    "start_time": "2023-07-25T07:29:51.436Z"
   },
   {
    "duration": 4,
    "start_time": "2023-07-25T07:30:09.891Z"
   },
   {
    "duration": 6,
    "start_time": "2023-07-25T07:30:18.350Z"
   },
   {
    "duration": 1443,
    "start_time": "2023-07-25T07:37:54.390Z"
   },
   {
    "duration": 1026,
    "start_time": "2023-07-25T07:37:55.836Z"
   },
   {
    "duration": 3,
    "start_time": "2023-07-25T07:37:56.864Z"
   },
   {
    "duration": 31,
    "start_time": "2023-07-25T07:37:56.873Z"
   },
   {
    "duration": 178,
    "start_time": "2023-07-25T07:37:56.908Z"
   },
   {
    "duration": 181,
    "start_time": "2023-07-25T07:37:57.088Z"
   },
   {
    "duration": 1818,
    "start_time": "2023-07-25T07:37:57.270Z"
   },
   {
    "duration": 189,
    "start_time": "2023-07-25T07:37:59.091Z"
   },
   {
    "duration": 107,
    "start_time": "2023-07-25T07:37:59.282Z"
   },
   {
    "duration": 73,
    "start_time": "2023-07-25T07:37:59.392Z"
   },
   {
    "duration": 413,
    "start_time": "2023-07-25T07:37:59.467Z"
   },
   {
    "duration": 12,
    "start_time": "2023-07-25T07:37:59.882Z"
   },
   {
    "duration": 75,
    "start_time": "2023-07-25T07:37:59.896Z"
   },
   {
    "duration": 3,
    "start_time": "2023-07-25T07:37:59.982Z"
   },
   {
    "duration": 312,
    "start_time": "2023-07-25T07:37:59.987Z"
   },
   {
    "duration": 11,
    "start_time": "2023-07-25T07:38:00.301Z"
   },
   {
    "duration": 69,
    "start_time": "2023-07-25T07:38:00.313Z"
   },
   {
    "duration": 107,
    "start_time": "2023-07-25T07:38:00.387Z"
   },
   {
    "duration": 6,
    "start_time": "2023-07-25T07:38:00.496Z"
   },
   {
    "duration": 35,
    "start_time": "2023-07-25T07:38:00.504Z"
   },
   {
    "duration": 219,
    "start_time": "2023-07-25T07:38:00.541Z"
   },
   {
    "duration": 5,
    "start_time": "2023-07-25T07:38:00.772Z"
   },
   {
    "duration": 43,
    "start_time": "2023-07-25T07:38:00.779Z"
   },
   {
    "duration": 53,
    "start_time": "2023-07-25T07:38:00.824Z"
   },
   {
    "duration": 36,
    "start_time": "2023-07-25T07:38:00.879Z"
   },
   {
    "duration": 34,
    "start_time": "2023-07-25T07:38:00.917Z"
   },
   {
    "duration": 82,
    "start_time": "2023-07-25T07:38:00.953Z"
   },
   {
    "duration": 48,
    "start_time": "2023-07-25T07:38:01.036Z"
   },
   {
    "duration": 55,
    "start_time": "2023-07-25T07:38:01.086Z"
   },
   {
    "duration": 99,
    "start_time": "2023-07-25T07:38:01.142Z"
   },
   {
    "duration": 136,
    "start_time": "2023-07-25T07:38:01.243Z"
   },
   {
    "duration": 213,
    "start_time": "2023-07-25T07:38:01.381Z"
   },
   {
    "duration": 5,
    "start_time": "2023-07-25T07:38:01.596Z"
   },
   {
    "duration": 120,
    "start_time": "2023-07-25T07:38:01.603Z"
   },
   {
    "duration": 90,
    "start_time": "2023-07-25T07:38:01.725Z"
   },
   {
    "duration": 161,
    "start_time": "2023-07-25T07:38:01.817Z"
   },
   {
    "duration": 1357,
    "start_time": "2023-07-25T07:38:01.983Z"
   },
   {
    "duration": 471,
    "start_time": "2023-07-25T07:38:03.342Z"
   },
   {
    "duration": 302,
    "start_time": "2023-07-25T07:38:07.580Z"
   },
   {
    "duration": 301,
    "start_time": "2023-07-25T07:38:22.150Z"
   },
   {
    "duration": 4,
    "start_time": "2023-07-25T07:38:23.738Z"
   },
   {
    "duration": 16,
    "start_time": "2023-07-25T07:38:24.084Z"
   },
   {
    "duration": 3,
    "start_time": "2023-07-25T07:38:25.199Z"
   },
   {
    "duration": 3,
    "start_time": "2023-07-25T07:38:26.051Z"
   },
   {
    "duration": 15,
    "start_time": "2023-07-25T07:38:35.373Z"
   },
   {
    "duration": 5,
    "start_time": "2023-07-25T07:38:39.010Z"
   },
   {
    "duration": 4,
    "start_time": "2023-07-25T07:38:39.796Z"
   },
   {
    "duration": 4,
    "start_time": "2023-07-25T07:38:48.597Z"
   },
   {
    "duration": 5,
    "start_time": "2023-07-25T07:38:49.064Z"
   },
   {
    "duration": 6,
    "start_time": "2023-07-25T07:39:02.629Z"
   },
   {
    "duration": 6,
    "start_time": "2023-07-25T07:39:04.762Z"
   },
   {
    "duration": 5,
    "start_time": "2023-07-25T07:39:05.293Z"
   },
   {
    "duration": 56073,
    "start_time": "2023-07-25T07:39:09.841Z"
   },
   {
    "duration": 294,
    "start_time": "2023-07-25T07:40:05.917Z"
   },
   {
    "duration": 51,
    "start_time": "2023-07-25T07:40:06.215Z"
   },
   {
    "duration": 20,
    "start_time": "2023-07-25T07:40:06.271Z"
   },
   {
    "duration": 403079,
    "start_time": "2023-07-25T07:40:06.294Z"
   },
   {
    "duration": 9,
    "start_time": "2023-07-25T07:46:49.381Z"
   },
   {
    "duration": 17,
    "start_time": "2023-07-25T07:46:49.405Z"
   },
   {
    "duration": 61676,
    "start_time": "2023-07-25T07:47:43.707Z"
   },
   {
    "duration": 196,
    "start_time": "2023-07-25T07:48:45.388Z"
   },
   {
    "duration": 6,
    "start_time": "2023-07-25T07:48:45.660Z"
   },
   {
    "duration": 15,
    "start_time": "2023-07-25T07:48:45.669Z"
   },
   {
    "duration": 375,
    "start_time": "2023-07-25T07:49:53.092Z"
   },
   {
    "duration": 231,
    "start_time": "2023-07-25T07:49:53.743Z"
   },
   {
    "duration": 3,
    "start_time": "2023-07-25T07:49:55.293Z"
   },
   {
    "duration": 4,
    "start_time": "2023-07-25T07:49:56.848Z"
   },
   {
    "duration": 3,
    "start_time": "2023-07-25T07:50:04.783Z"
   },
   {
    "duration": 4,
    "start_time": "2023-07-25T07:50:05.413Z"
   },
   {
    "duration": 5,
    "start_time": "2023-07-25T07:50:06.481Z"
   },
   {
    "duration": 8,
    "start_time": "2023-07-25T07:50:09.213Z"
   },
   {
    "duration": 4,
    "start_time": "2023-07-25T07:50:10.881Z"
   },
   {
    "duration": 8,
    "start_time": "2023-07-25T07:50:11.274Z"
   },
   {
    "duration": 68660,
    "start_time": "2023-07-25T07:50:14.306Z"
   },
   {
    "duration": 194,
    "start_time": "2023-07-25T07:51:22.975Z"
   },
   {
    "duration": 464,
    "start_time": "2023-07-25T07:56:42.512Z"
   },
   {
    "duration": 150,
    "start_time": "2023-07-25T07:57:51.328Z"
   },
   {
    "duration": 4,
    "start_time": "2023-07-25T07:57:56.517Z"
   },
   {
    "duration": 4,
    "start_time": "2023-07-25T07:57:56.975Z"
   },
   {
    "duration": 2,
    "start_time": "2023-07-25T07:59:03.596Z"
   },
   {
    "duration": 13,
    "start_time": "2023-07-25T07:59:04.061Z"
   },
   {
    "duration": 3,
    "start_time": "2023-07-25T07:59:36.130Z"
   },
   {
    "duration": 8,
    "start_time": "2023-07-25T07:59:36.710Z"
   },
   {
    "duration": 3,
    "start_time": "2023-07-25T07:59:37.295Z"
   },
   {
    "duration": 4,
    "start_time": "2023-07-25T07:59:38.404Z"
   },
   {
    "duration": 63,
    "start_time": "2023-07-25T07:59:46.228Z"
   },
   {
    "duration": 5,
    "start_time": "2023-07-25T07:59:46.917Z"
   },
   {
    "duration": 86,
    "start_time": "2023-07-25T08:00:28.826Z"
   },
   {
    "duration": 5,
    "start_time": "2023-07-25T08:00:31.850Z"
   },
   {
    "duration": 83,
    "start_time": "2023-07-25T08:01:37.526Z"
   },
   {
    "duration": 3,
    "start_time": "2023-07-25T08:01:50.396Z"
   },
   {
    "duration": 80,
    "start_time": "2023-07-25T08:02:02.106Z"
   },
   {
    "duration": 5,
    "start_time": "2023-07-25T08:03:46.808Z"
   },
   {
    "duration": 86,
    "start_time": "2023-07-25T08:03:47.321Z"
   },
   {
    "duration": 35,
    "start_time": "2023-07-25T08:04:15.897Z"
   },
   {
    "duration": 13,
    "start_time": "2023-07-25T08:05:21.766Z"
   },
   {
    "duration": 4,
    "start_time": "2023-07-25T08:06:27.905Z"
   },
   {
    "duration": 34,
    "start_time": "2023-07-25T08:06:28.409Z"
   },
   {
    "duration": 31,
    "start_time": "2023-07-25T08:06:31.040Z"
   },
   {
    "duration": 4,
    "start_time": "2023-07-25T08:06:37.647Z"
   },
   {
    "duration": 79,
    "start_time": "2023-07-25T08:06:38.076Z"
   },
   {
    "duration": 4,
    "start_time": "2023-07-25T08:06:38.598Z"
   },
   {
    "duration": 4,
    "start_time": "2023-07-25T08:06:40.953Z"
   },
   {
    "duration": 30,
    "start_time": "2023-07-25T08:06:41.898Z"
   },
   {
    "duration": 26,
    "start_time": "2023-07-25T08:06:45.233Z"
   },
   {
    "duration": 42,
    "start_time": "2023-07-25T08:07:37.564Z"
   },
   {
    "duration": 4,
    "start_time": "2023-07-25T08:27:19.528Z"
   },
   {
    "duration": 4,
    "start_time": "2023-07-25T08:27:19.879Z"
   },
   {
    "duration": 4,
    "start_time": "2023-07-25T08:27:20.254Z"
   },
   {
    "duration": 301,
    "start_time": "2023-07-25T08:27:21.071Z"
   },
   {
    "duration": 292,
    "start_time": "2023-07-25T08:27:38.521Z"
   },
   {
    "duration": 4,
    "start_time": "2023-07-25T08:27:55.909Z"
   },
   {
    "duration": 4,
    "start_time": "2023-07-25T08:27:56.434Z"
   },
   {
    "duration": 4,
    "start_time": "2023-07-25T08:27:56.929Z"
   },
   {
    "duration": 87370,
    "start_time": "2023-07-25T08:27:57.420Z"
   },
   {
    "duration": 10,
    "start_time": "2023-07-25T08:29:27.757Z"
   },
   {
    "duration": 4,
    "start_time": "2023-07-25T08:29:28.173Z"
   },
   {
    "duration": 184084,
    "start_time": "2023-07-25T08:29:28.610Z"
   },
   {
    "duration": 657,
    "start_time": "2023-07-25T08:38:14.529Z"
   },
   {
    "duration": 3,
    "start_time": "2023-07-25T08:38:15.404Z"
   },
   {
    "duration": 6,
    "start_time": "2023-07-25T08:38:15.967Z"
   },
   {
    "duration": 153,
    "start_time": "2023-07-25T08:43:42.522Z"
   },
   {
    "duration": 77,
    "start_time": "2023-07-25T08:43:42.944Z"
   },
   {
    "duration": 4,
    "start_time": "2023-07-25T08:43:43.629Z"
   },
   {
    "duration": 296,
    "start_time": "2023-07-25T08:44:18.596Z"
   },
   {
    "duration": 422,
    "start_time": "2023-07-25T08:45:14.161Z"
   },
   {
    "duration": 4,
    "start_time": "2023-07-25T08:45:32.017Z"
   },
   {
    "duration": 1234,
    "start_time": "2023-07-25T09:03:57.555Z"
   },
   {
    "duration": 3295,
    "start_time": "2023-07-25T09:03:58.792Z"
   },
   {
    "duration": 3,
    "start_time": "2023-07-25T09:04:02.089Z"
   },
   {
    "duration": 79,
    "start_time": "2023-07-25T09:04:02.093Z"
   },
   {
    "duration": 216,
    "start_time": "2023-07-25T09:04:02.176Z"
   },
   {
    "duration": 188,
    "start_time": "2023-07-25T09:04:02.395Z"
   },
   {
    "duration": 1846,
    "start_time": "2023-07-25T09:04:02.585Z"
   },
   {
    "duration": 149,
    "start_time": "2023-07-25T09:04:04.434Z"
   },
   {
    "duration": 88,
    "start_time": "2023-07-25T09:04:04.584Z"
   },
   {
    "duration": 46,
    "start_time": "2023-07-25T09:04:04.674Z"
   },
   {
    "duration": 392,
    "start_time": "2023-07-25T09:04:04.721Z"
   },
   {
    "duration": 9,
    "start_time": "2023-07-25T09:04:05.115Z"
   },
   {
    "duration": 94,
    "start_time": "2023-07-25T09:04:05.126Z"
   },
   {
    "duration": 3,
    "start_time": "2023-07-25T09:04:05.224Z"
   },
   {
    "duration": 270,
    "start_time": "2023-07-25T09:04:05.228Z"
   },
   {
    "duration": 10,
    "start_time": "2023-07-25T09:04:05.500Z"
   },
   {
    "duration": 13,
    "start_time": "2023-07-25T09:04:05.511Z"
   },
   {
    "duration": 68,
    "start_time": "2023-07-25T09:04:05.526Z"
   },
   {
    "duration": 3,
    "start_time": "2023-07-25T09:04:05.596Z"
   },
   {
    "duration": 26,
    "start_time": "2023-07-25T09:04:05.601Z"
   },
   {
    "duration": 177,
    "start_time": "2023-07-25T09:04:05.629Z"
   },
   {
    "duration": 2,
    "start_time": "2023-07-25T09:04:05.808Z"
   },
   {
    "duration": 22,
    "start_time": "2023-07-25T09:04:05.812Z"
   },
   {
    "duration": 57,
    "start_time": "2023-07-25T09:04:05.836Z"
   },
   {
    "duration": 8,
    "start_time": "2023-07-25T09:04:05.896Z"
   },
   {
    "duration": 9,
    "start_time": "2023-07-25T09:04:05.906Z"
   },
   {
    "duration": 54,
    "start_time": "2023-07-25T09:04:05.917Z"
   },
   {
    "duration": 34,
    "start_time": "2023-07-25T09:04:05.974Z"
   },
   {
    "duration": 81,
    "start_time": "2023-07-25T09:04:06.010Z"
   },
   {
    "duration": 81,
    "start_time": "2023-07-25T09:04:06.093Z"
   },
   {
    "duration": 72,
    "start_time": "2023-07-25T09:04:06.176Z"
   },
   {
    "duration": 158,
    "start_time": "2023-07-25T09:04:06.250Z"
   },
   {
    "duration": 3,
    "start_time": "2023-07-25T09:04:06.410Z"
   },
   {
    "duration": 100,
    "start_time": "2023-07-25T09:04:06.415Z"
   },
   {
    "duration": 64,
    "start_time": "2023-07-25T09:04:06.518Z"
   },
   {
    "duration": 5,
    "start_time": "2023-07-25T09:04:06.584Z"
   },
   {
    "duration": 1131,
    "start_time": "2023-07-25T09:04:06.590Z"
   },
   {
    "duration": 504,
    "start_time": "2023-07-25T09:04:07.722Z"
   },
   {
    "duration": 250,
    "start_time": "2023-07-25T09:04:08.228Z"
   },
   {
    "duration": 6,
    "start_time": "2023-07-25T09:04:08.485Z"
   },
   {
    "duration": 6,
    "start_time": "2023-07-25T09:04:08.496Z"
   },
   {
    "duration": 4,
    "start_time": "2023-07-25T09:04:08.503Z"
   },
   {
    "duration": 13,
    "start_time": "2023-07-25T09:04:08.509Z"
   },
   {
    "duration": 21,
    "start_time": "2023-07-25T09:04:08.523Z"
   },
   {
    "duration": 9,
    "start_time": "2023-07-25T09:04:08.546Z"
   },
   {
    "duration": 12,
    "start_time": "2023-07-25T09:04:08.556Z"
   },
   {
    "duration": 18,
    "start_time": "2023-07-25T09:04:08.571Z"
   },
   {
    "duration": 65278,
    "start_time": "2023-07-25T09:04:08.591Z"
   },
   {
    "duration": 201,
    "start_time": "2023-07-25T09:05:13.872Z"
   },
   {
    "duration": 5,
    "start_time": "2023-07-25T09:05:14.079Z"
   },
   {
    "duration": 47,
    "start_time": "2023-07-25T09:05:14.161Z"
   },
   {
    "duration": 66,
    "start_time": "2023-07-25T09:05:14.210Z"
   },
   {
    "duration": 25,
    "start_time": "2023-07-25T09:05:14.279Z"
   },
   {
    "duration": 8,
    "start_time": "2023-07-25T09:05:14.306Z"
   },
   {
    "duration": 24,
    "start_time": "2023-07-25T09:05:14.316Z"
   },
   {
    "duration": 74,
    "start_time": "2023-07-25T09:05:14.342Z"
   },
   {
    "duration": 86,
    "start_time": "2023-07-25T09:05:14.417Z"
   },
   {
    "duration": 4,
    "start_time": "2023-07-25T09:05:14.505Z"
   },
   {
    "duration": 462,
    "start_time": "2023-07-25T09:05:14.511Z"
   },
   {
    "duration": 4,
    "start_time": "2023-07-25T09:05:14.975Z"
   },
   {
    "duration": 1298499,
    "start_time": "2023-07-25T09:05:14.980Z"
   },
   {
    "duration": 10,
    "start_time": "2023-07-25T09:26:53.480Z"
   },
   {
    "duration": 10,
    "start_time": "2023-07-25T09:28:28.519Z"
   },
   {
    "duration": 10,
    "start_time": "2023-07-25T09:29:18.135Z"
   },
   {
    "duration": 14,
    "start_time": "2023-07-25T09:29:39.073Z"
   },
   {
    "duration": 32646,
    "start_time": "2023-07-25T09:29:44.147Z"
   },
   {
    "duration": 278574,
    "start_time": "2023-07-25T09:35:15.968Z"
   },
   {
    "duration": 522,
    "start_time": "2023-07-25T09:39:54.544Z"
   },
   {
    "duration": 3,
    "start_time": "2023-07-25T09:39:55.068Z"
   },
   {
    "duration": 5,
    "start_time": "2023-07-25T09:40:24.297Z"
   },
   {
    "duration": 56,
    "start_time": "2023-07-25T09:41:03.412Z"
   },
   {
    "duration": 4,
    "start_time": "2023-07-25T09:41:03.775Z"
   },
   {
    "duration": 3,
    "start_time": "2023-07-25T09:41:04.242Z"
   },
   {
    "duration": 17808,
    "start_time": "2023-07-25T09:41:04.657Z"
   },
   {
    "duration": 615,
    "start_time": "2023-07-25T09:41:22.468Z"
   },
   {
    "duration": 2,
    "start_time": "2023-07-25T09:41:23.084Z"
   },
   {
    "duration": 70,
    "start_time": "2023-07-25T09:41:23.088Z"
   },
   {
    "duration": 1773,
    "start_time": "2023-07-25T09:41:23.160Z"
   },
   {
    "duration": 5,
    "start_time": "2023-07-25T09:42:58.407Z"
   },
   {
    "duration": 3,
    "start_time": "2023-07-25T09:44:43.813Z"
   },
   {
    "duration": 4,
    "start_time": "2023-07-25T09:47:25.185Z"
   },
   {
    "duration": 3,
    "start_time": "2023-07-25T09:47:31.278Z"
   },
   {
    "duration": 90,
    "start_time": "2023-07-25T09:51:35.390Z"
   },
   {
    "duration": 3,
    "start_time": "2023-07-25T09:52:12.622Z"
   },
   {
    "duration": 73,
    "start_time": "2023-07-25T09:52:13.657Z"
   },
   {
    "duration": 89,
    "start_time": "2023-07-25T09:52:30.662Z"
   },
   {
    "duration": 75,
    "start_time": "2023-07-25T09:52:56.894Z"
   },
   {
    "duration": 75,
    "start_time": "2023-07-25T09:53:03.693Z"
   },
   {
    "duration": 11,
    "start_time": "2023-07-25T09:54:06.823Z"
   },
   {
    "duration": 86,
    "start_time": "2023-07-25T09:54:07.344Z"
   },
   {
    "duration": 246469,
    "start_time": "2023-07-25T09:54:26.130Z"
   },
   {
    "duration": 983679,
    "start_time": "2023-07-25T09:58:58.131Z"
   },
   {
    "duration": 152,
    "start_time": "2023-07-25T10:59:00.693Z"
   },
   {
    "duration": 14232,
    "start_time": "2023-07-25T10:59:31.145Z"
   },
   {
    "duration": 104,
    "start_time": "2023-07-25T10:59:46.526Z"
   },
   {
    "duration": 21778,
    "start_time": "2023-07-25T11:02:23.830Z"
   },
   {
    "duration": 3,
    "start_time": "2023-07-25T11:03:09.831Z"
   },
   {
    "duration": 3,
    "start_time": "2023-07-25T11:30:11.504Z"
   },
   {
    "duration": 3,
    "start_time": "2023-07-25T11:30:12.534Z"
   },
   {
    "duration": 910609,
    "start_time": "2023-07-25T11:30:22.723Z"
   },
   {
    "duration": 78,
    "start_time": "2023-07-25T11:49:05.415Z"
   },
   {
    "duration": 707,
    "start_time": "2023-07-25T11:49:16.011Z"
   },
   {
    "duration": 3,
    "start_time": "2023-07-25T11:49:57.026Z"
   },
   {
    "duration": 4,
    "start_time": "2023-07-25T11:50:05.270Z"
   },
   {
    "duration": 11,
    "start_time": "2023-07-25T11:50:06.399Z"
   },
   {
    "duration": 48,
    "start_time": "2023-07-26T05:42:49.899Z"
   },
   {
    "duration": 1187,
    "start_time": "2023-07-26T05:44:13.351Z"
   },
   {
    "duration": 2903,
    "start_time": "2023-07-26T05:44:14.540Z"
   },
   {
    "duration": 3,
    "start_time": "2023-07-26T05:44:17.444Z"
   },
   {
    "duration": 21,
    "start_time": "2023-07-26T05:44:17.449Z"
   },
   {
    "duration": 129,
    "start_time": "2023-07-26T05:44:17.473Z"
   },
   {
    "duration": 96,
    "start_time": "2023-07-26T05:44:17.603Z"
   },
   {
    "duration": 1629,
    "start_time": "2023-07-26T05:44:17.701Z"
   },
   {
    "duration": 154,
    "start_time": "2023-07-26T05:44:19.332Z"
   },
   {
    "duration": 86,
    "start_time": "2023-07-26T05:44:19.488Z"
   },
   {
    "duration": 44,
    "start_time": "2023-07-26T05:44:19.578Z"
   },
   {
    "duration": 351,
    "start_time": "2023-07-26T05:44:19.624Z"
   },
   {
    "duration": 10,
    "start_time": "2023-07-26T05:44:19.977Z"
   },
   {
    "duration": 64,
    "start_time": "2023-07-26T05:44:19.989Z"
   },
   {
    "duration": 2,
    "start_time": "2023-07-26T05:44:20.055Z"
   },
   {
    "duration": 269,
    "start_time": "2023-07-26T05:44:20.059Z"
   },
   {
    "duration": 10,
    "start_time": "2023-07-26T05:44:20.330Z"
   },
   {
    "duration": 33,
    "start_time": "2023-07-26T05:44:20.342Z"
   },
   {
    "duration": 47,
    "start_time": "2023-07-26T05:44:20.377Z"
   },
   {
    "duration": 3,
    "start_time": "2023-07-26T05:44:20.426Z"
   },
   {
    "duration": 10,
    "start_time": "2023-07-26T05:44:20.431Z"
   },
   {
    "duration": 193,
    "start_time": "2023-07-26T05:44:20.442Z"
   },
   {
    "duration": 2,
    "start_time": "2023-07-26T05:44:20.637Z"
   },
   {
    "duration": 42,
    "start_time": "2023-07-26T05:44:20.640Z"
   },
   {
    "duration": 31,
    "start_time": "2023-07-26T05:44:20.684Z"
   },
   {
    "duration": 8,
    "start_time": "2023-07-26T05:44:20.717Z"
   },
   {
    "duration": 36,
    "start_time": "2023-07-26T05:44:20.727Z"
   },
   {
    "duration": 44,
    "start_time": "2023-07-26T05:44:20.765Z"
   },
   {
    "duration": 73,
    "start_time": "2023-07-26T05:44:20.813Z"
   },
   {
    "duration": 94,
    "start_time": "2023-07-26T05:44:20.888Z"
   },
   {
    "duration": 96,
    "start_time": "2023-07-26T05:44:20.983Z"
   },
   {
    "duration": 146,
    "start_time": "2023-07-26T05:44:21.080Z"
   },
   {
    "duration": 167,
    "start_time": "2023-07-26T05:44:21.227Z"
   },
   {
    "duration": 4,
    "start_time": "2023-07-26T05:44:21.396Z"
   },
   {
    "duration": 23,
    "start_time": "2023-07-26T05:44:21.401Z"
   },
   {
    "duration": 127,
    "start_time": "2023-07-26T05:44:21.426Z"
   },
   {
    "duration": 0,
    "start_time": "2023-07-26T05:44:21.555Z"
   },
   {
    "duration": 0,
    "start_time": "2023-07-26T05:44:21.556Z"
   },
   {
    "duration": 0,
    "start_time": "2023-07-26T05:44:21.557Z"
   },
   {
    "duration": 0,
    "start_time": "2023-07-26T05:44:21.558Z"
   },
   {
    "duration": 0,
    "start_time": "2023-07-26T05:44:21.559Z"
   },
   {
    "duration": 0,
    "start_time": "2023-07-26T05:44:21.560Z"
   },
   {
    "duration": 0,
    "start_time": "2023-07-26T05:44:21.561Z"
   },
   {
    "duration": 0,
    "start_time": "2023-07-26T05:44:21.562Z"
   },
   {
    "duration": 0,
    "start_time": "2023-07-26T05:44:21.574Z"
   },
   {
    "duration": 0,
    "start_time": "2023-07-26T05:44:21.575Z"
   },
   {
    "duration": 0,
    "start_time": "2023-07-26T05:44:21.576Z"
   },
   {
    "duration": 0,
    "start_time": "2023-07-26T05:44:21.577Z"
   },
   {
    "duration": 0,
    "start_time": "2023-07-26T05:44:21.578Z"
   },
   {
    "duration": 0,
    "start_time": "2023-07-26T05:44:21.579Z"
   },
   {
    "duration": 0,
    "start_time": "2023-07-26T05:44:21.580Z"
   },
   {
    "duration": 0,
    "start_time": "2023-07-26T05:44:21.581Z"
   },
   {
    "duration": 0,
    "start_time": "2023-07-26T05:44:21.582Z"
   },
   {
    "duration": 0,
    "start_time": "2023-07-26T05:44:21.583Z"
   },
   {
    "duration": 0,
    "start_time": "2023-07-26T05:44:21.584Z"
   },
   {
    "duration": 0,
    "start_time": "2023-07-26T05:44:21.585Z"
   },
   {
    "duration": 0,
    "start_time": "2023-07-26T05:44:21.585Z"
   },
   {
    "duration": 0,
    "start_time": "2023-07-26T05:44:21.586Z"
   },
   {
    "duration": 0,
    "start_time": "2023-07-26T05:44:21.587Z"
   },
   {
    "duration": 0,
    "start_time": "2023-07-26T05:44:21.588Z"
   },
   {
    "duration": 0,
    "start_time": "2023-07-26T05:44:21.589Z"
   },
   {
    "duration": 0,
    "start_time": "2023-07-26T05:44:21.590Z"
   },
   {
    "duration": 0,
    "start_time": "2023-07-26T05:44:21.591Z"
   },
   {
    "duration": 0,
    "start_time": "2023-07-26T05:44:21.593Z"
   },
   {
    "duration": 0,
    "start_time": "2023-07-26T05:44:21.594Z"
   },
   {
    "duration": 0,
    "start_time": "2023-07-26T05:44:21.596Z"
   },
   {
    "duration": 0,
    "start_time": "2023-07-26T05:44:21.597Z"
   },
   {
    "duration": 0,
    "start_time": "2023-07-26T05:44:21.598Z"
   },
   {
    "duration": 0,
    "start_time": "2023-07-26T05:44:21.600Z"
   },
   {
    "duration": 0,
    "start_time": "2023-07-26T05:44:21.601Z"
   },
   {
    "duration": 0,
    "start_time": "2023-07-26T05:44:21.602Z"
   },
   {
    "duration": 0,
    "start_time": "2023-07-26T05:44:21.603Z"
   },
   {
    "duration": 0,
    "start_time": "2023-07-26T05:44:21.605Z"
   },
   {
    "duration": 0,
    "start_time": "2023-07-26T05:44:21.606Z"
   },
   {
    "duration": 0,
    "start_time": "2023-07-26T05:44:21.607Z"
   },
   {
    "duration": 0,
    "start_time": "2023-07-26T05:44:21.608Z"
   },
   {
    "duration": 0,
    "start_time": "2023-07-26T05:44:21.674Z"
   },
   {
    "duration": 0,
    "start_time": "2023-07-26T05:44:21.676Z"
   },
   {
    "duration": 0,
    "start_time": "2023-07-26T05:44:21.677Z"
   },
   {
    "duration": 0,
    "start_time": "2023-07-26T05:44:21.678Z"
   },
   {
    "duration": 0,
    "start_time": "2023-07-26T05:44:21.679Z"
   },
   {
    "duration": 1101,
    "start_time": "2023-07-26T05:45:10.981Z"
   },
   {
    "duration": 772,
    "start_time": "2023-07-26T05:45:12.084Z"
   },
   {
    "duration": 3,
    "start_time": "2023-07-26T05:45:12.857Z"
   },
   {
    "duration": 76,
    "start_time": "2023-07-26T05:45:12.861Z"
   },
   {
    "duration": 135,
    "start_time": "2023-07-26T05:45:12.939Z"
   },
   {
    "duration": 88,
    "start_time": "2023-07-26T05:45:13.076Z"
   },
   {
    "duration": 1448,
    "start_time": "2023-07-26T05:45:13.175Z"
   },
   {
    "duration": 133,
    "start_time": "2023-07-26T05:45:14.624Z"
   },
   {
    "duration": 66,
    "start_time": "2023-07-26T05:45:14.759Z"
   },
   {
    "duration": 51,
    "start_time": "2023-07-26T05:45:14.826Z"
   },
   {
    "duration": 330,
    "start_time": "2023-07-26T05:45:14.878Z"
   },
   {
    "duration": 9,
    "start_time": "2023-07-26T05:45:15.210Z"
   },
   {
    "duration": 63,
    "start_time": "2023-07-26T05:45:15.220Z"
   },
   {
    "duration": 2,
    "start_time": "2023-07-26T05:45:15.286Z"
   },
   {
    "duration": 219,
    "start_time": "2023-07-26T05:45:15.290Z"
   },
   {
    "duration": 9,
    "start_time": "2023-07-26T05:45:15.511Z"
   },
   {
    "duration": 12,
    "start_time": "2023-07-26T05:45:15.522Z"
   },
   {
    "duration": 57,
    "start_time": "2023-07-26T05:45:15.536Z"
   },
   {
    "duration": 3,
    "start_time": "2023-07-26T05:45:15.595Z"
   },
   {
    "duration": 23,
    "start_time": "2023-07-26T05:45:15.600Z"
   },
   {
    "duration": 213,
    "start_time": "2023-07-26T05:45:15.624Z"
   },
   {
    "duration": 3,
    "start_time": "2023-07-26T05:45:15.838Z"
   },
   {
    "duration": 9,
    "start_time": "2023-07-26T05:45:15.842Z"
   },
   {
    "duration": 40,
    "start_time": "2023-07-26T05:45:15.852Z"
   },
   {
    "duration": 72,
    "start_time": "2023-07-26T05:45:15.893Z"
   },
   {
    "duration": 29,
    "start_time": "2023-07-26T05:45:15.966Z"
   },
   {
    "duration": 78,
    "start_time": "2023-07-26T05:45:15.996Z"
   },
   {
    "duration": 35,
    "start_time": "2023-07-26T05:45:16.076Z"
   },
   {
    "duration": 43,
    "start_time": "2023-07-26T05:45:16.112Z"
   },
   {
    "duration": 92,
    "start_time": "2023-07-26T05:45:16.156Z"
   },
   {
    "duration": 91,
    "start_time": "2023-07-26T05:45:16.250Z"
   },
   {
    "duration": 159,
    "start_time": "2023-07-26T05:45:16.343Z"
   },
   {
    "duration": 3,
    "start_time": "2023-07-26T05:45:16.504Z"
   },
   {
    "duration": 27,
    "start_time": "2023-07-26T05:45:16.509Z"
   },
   {
    "duration": 10,
    "start_time": "2023-07-26T05:45:16.538Z"
   },
   {
    "duration": 5,
    "start_time": "2023-07-26T05:45:16.549Z"
   },
   {
    "duration": 92,
    "start_time": "2023-07-26T05:45:16.555Z"
   },
   {
    "duration": 38,
    "start_time": "2023-07-26T05:45:16.649Z"
   },
   {
    "duration": 5,
    "start_time": "2023-07-26T05:45:16.689Z"
   },
   {
    "duration": 705,
    "start_time": "2023-07-26T05:45:16.695Z"
   },
   {
    "duration": 375,
    "start_time": "2023-07-26T05:45:17.405Z"
   },
   {
    "duration": 198,
    "start_time": "2023-07-26T05:45:17.782Z"
   },
   {
    "duration": 3,
    "start_time": "2023-07-26T05:45:17.982Z"
   },
   {
    "duration": 10,
    "start_time": "2023-07-26T05:45:17.987Z"
   },
   {
    "duration": 13,
    "start_time": "2023-07-26T05:45:17.998Z"
   },
   {
    "duration": 53,
    "start_time": "2023-07-26T05:45:18.012Z"
   },
   {
    "duration": 23611,
    "start_time": "2023-07-26T05:45:18.067Z"
   },
   {
    "duration": 195,
    "start_time": "2023-07-26T05:45:41.680Z"
   },
   {
    "duration": 92,
    "start_time": "2023-07-26T05:45:41.883Z"
   },
   {
    "duration": 37,
    "start_time": "2023-07-26T05:45:41.976Z"
   },
   {
    "duration": 28,
    "start_time": "2023-07-26T05:45:42.015Z"
   },
   {
    "duration": 4929,
    "start_time": "2023-07-26T05:45:42.045Z"
   },
   {
    "duration": 0,
    "start_time": "2023-07-26T05:45:46.976Z"
   },
   {
    "duration": 0,
    "start_time": "2023-07-26T05:45:46.977Z"
   },
   {
    "duration": 0,
    "start_time": "2023-07-26T05:45:46.978Z"
   },
   {
    "duration": 0,
    "start_time": "2023-07-26T05:45:46.979Z"
   },
   {
    "duration": 0,
    "start_time": "2023-07-26T05:45:46.980Z"
   },
   {
    "duration": 0,
    "start_time": "2023-07-26T05:45:46.981Z"
   },
   {
    "duration": 0,
    "start_time": "2023-07-26T05:45:46.982Z"
   },
   {
    "duration": 0,
    "start_time": "2023-07-26T05:45:46.983Z"
   },
   {
    "duration": 0,
    "start_time": "2023-07-26T05:45:46.984Z"
   },
   {
    "duration": 0,
    "start_time": "2023-07-26T05:45:46.984Z"
   },
   {
    "duration": 0,
    "start_time": "2023-07-26T05:45:46.985Z"
   },
   {
    "duration": 0,
    "start_time": "2023-07-26T05:45:46.986Z"
   },
   {
    "duration": 0,
    "start_time": "2023-07-26T05:45:46.987Z"
   },
   {
    "duration": 0,
    "start_time": "2023-07-26T05:45:46.987Z"
   },
   {
    "duration": 0,
    "start_time": "2023-07-26T05:45:46.988Z"
   },
   {
    "duration": 0,
    "start_time": "2023-07-26T05:45:46.989Z"
   },
   {
    "duration": 0,
    "start_time": "2023-07-26T05:45:46.990Z"
   },
   {
    "duration": 0,
    "start_time": "2023-07-26T05:45:46.991Z"
   },
   {
    "duration": 0,
    "start_time": "2023-07-26T05:45:46.992Z"
   },
   {
    "duration": 0,
    "start_time": "2023-07-26T05:45:46.993Z"
   },
   {
    "duration": 0,
    "start_time": "2023-07-26T05:45:46.994Z"
   },
   {
    "duration": 0,
    "start_time": "2023-07-26T05:45:46.995Z"
   },
   {
    "duration": 0,
    "start_time": "2023-07-26T05:45:46.995Z"
   },
   {
    "duration": 0,
    "start_time": "2023-07-26T05:45:46.996Z"
   },
   {
    "duration": 0,
    "start_time": "2023-07-26T05:45:46.997Z"
   },
   {
    "duration": 0,
    "start_time": "2023-07-26T05:45:46.998Z"
   },
   {
    "duration": 0,
    "start_time": "2023-07-26T05:45:46.999Z"
   },
   {
    "duration": 10942,
    "start_time": "2023-07-26T05:46:21.878Z"
   },
   {
    "duration": 2,
    "start_time": "2023-07-26T05:46:42.447Z"
   },
   {
    "duration": 159344,
    "start_time": "2023-07-26T05:46:42.451Z"
   },
   {
    "duration": 0,
    "start_time": "2023-07-26T05:49:21.797Z"
   },
   {
    "duration": 0,
    "start_time": "2023-07-26T05:49:21.798Z"
   },
   {
    "duration": 0,
    "start_time": "2023-07-26T05:49:21.799Z"
   },
   {
    "duration": 0,
    "start_time": "2023-07-26T05:49:21.800Z"
   },
   {
    "duration": 0,
    "start_time": "2023-07-26T05:49:21.801Z"
   },
   {
    "duration": 0,
    "start_time": "2023-07-26T05:49:21.801Z"
   },
   {
    "duration": 0,
    "start_time": "2023-07-26T05:49:21.802Z"
   },
   {
    "duration": 0,
    "start_time": "2023-07-26T05:49:21.803Z"
   },
   {
    "duration": 0,
    "start_time": "2023-07-26T05:49:21.804Z"
   },
   {
    "duration": 0,
    "start_time": "2023-07-26T05:49:21.804Z"
   },
   {
    "duration": 0,
    "start_time": "2023-07-26T05:49:21.805Z"
   },
   {
    "duration": 0,
    "start_time": "2023-07-26T05:49:21.806Z"
   },
   {
    "duration": 0,
    "start_time": "2023-07-26T05:49:21.807Z"
   },
   {
    "duration": 0,
    "start_time": "2023-07-26T05:49:21.808Z"
   },
   {
    "duration": 0,
    "start_time": "2023-07-26T05:49:21.809Z"
   },
   {
    "duration": 0,
    "start_time": "2023-07-26T05:49:21.810Z"
   },
   {
    "duration": 0,
    "start_time": "2023-07-26T05:49:21.811Z"
   },
   {
    "duration": 0,
    "start_time": "2023-07-26T05:49:21.812Z"
   },
   {
    "duration": 0,
    "start_time": "2023-07-26T05:49:21.814Z"
   },
   {
    "duration": 0,
    "start_time": "2023-07-26T05:49:21.814Z"
   },
   {
    "duration": 0,
    "start_time": "2023-07-26T05:49:21.815Z"
   },
   {
    "duration": 0,
    "start_time": "2023-07-26T05:49:21.816Z"
   },
   {
    "duration": 0,
    "start_time": "2023-07-26T05:49:21.817Z"
   },
   {
    "duration": 0,
    "start_time": "2023-07-26T05:49:21.818Z"
   },
   {
    "duration": 0,
    "start_time": "2023-07-26T05:49:21.819Z"
   },
   {
    "duration": 0,
    "start_time": "2023-07-26T05:49:21.820Z"
   },
   {
    "duration": 0,
    "start_time": "2023-07-26T05:49:21.821Z"
   },
   {
    "duration": 160767,
    "start_time": "2023-07-26T05:50:57.144Z"
   },
   {
    "duration": 3,
    "start_time": "2023-07-26T05:54:21.799Z"
   },
   {
    "duration": 4,
    "start_time": "2023-07-26T05:54:22.304Z"
   },
   {
    "duration": 3,
    "start_time": "2023-07-26T05:54:32.154Z"
   },
   {
    "duration": 3,
    "start_time": "2023-07-26T05:55:15.519Z"
   },
   {
    "duration": 866294,
    "start_time": "2023-07-26T05:55:15.524Z"
   },
   {
    "duration": 3,
    "start_time": "2023-07-26T06:09:41.820Z"
   },
   {
    "duration": 74,
    "start_time": "2023-07-26T06:09:41.824Z"
   },
   {
    "duration": 4,
    "start_time": "2023-07-26T06:09:41.899Z"
   },
   {
    "duration": 7,
    "start_time": "2023-07-26T06:09:41.904Z"
   },
   {
    "duration": 47783,
    "start_time": "2023-07-26T06:09:41.912Z"
   },
   {
    "duration": 677,
    "start_time": "2023-07-26T06:10:29.698Z"
   },
   {
    "duration": 3,
    "start_time": "2023-07-26T06:10:30.378Z"
   },
   {
    "duration": 39,
    "start_time": "2023-07-26T06:10:30.388Z"
   },
   {
    "duration": 1738,
    "start_time": "2023-07-26T06:10:30.429Z"
   },
   {
    "duration": 58,
    "start_time": "2023-07-26T06:10:32.169Z"
   },
   {
    "duration": 67,
    "start_time": "2023-07-26T06:10:32.229Z"
   },
   {
    "duration": 13,
    "start_time": "2023-07-26T06:10:32.298Z"
   },
   {
    "duration": 345,
    "start_time": "2023-07-26T06:10:32.312Z"
   },
   {
    "duration": 2,
    "start_time": "2023-07-26T06:10:32.659Z"
   },
   {
    "duration": 939382,
    "start_time": "2023-07-26T06:10:32.663Z"
   },
   {
    "duration": 0,
    "start_time": "2023-07-26T06:26:12.046Z"
   },
   {
    "duration": 0,
    "start_time": "2023-07-26T06:26:12.047Z"
   },
   {
    "duration": 0,
    "start_time": "2023-07-26T06:26:12.048Z"
   },
   {
    "duration": 0,
    "start_time": "2023-07-26T06:26:12.049Z"
   },
   {
    "duration": 0,
    "start_time": "2023-07-26T06:26:12.050Z"
   },
   {
    "duration": 0,
    "start_time": "2023-07-26T06:26:12.050Z"
   },
   {
    "duration": 0,
    "start_time": "2023-07-26T06:26:12.051Z"
   },
   {
    "duration": 5,
    "start_time": "2023-07-26T06:26:16.197Z"
   },
   {
    "duration": 305069,
    "start_time": "2023-07-26T06:26:16.965Z"
   },
   {
    "duration": 8,
    "start_time": "2023-07-26T06:33:37.299Z"
   },
   {
    "duration": 9,
    "start_time": "2023-07-26T06:33:41.853Z"
   },
   {
    "duration": 13126,
    "start_time": "2023-07-26T06:33:52.900Z"
   },
   {
    "duration": 0,
    "start_time": "2023-07-26T06:34:06.028Z"
   },
   {
    "duration": 89197,
    "start_time": "2023-07-26T06:34:22.764Z"
   },
   {
    "duration": 198,
    "start_time": "2023-07-26T06:35:51.963Z"
   },
   {
    "duration": 3,
    "start_time": "2023-07-26T06:35:52.163Z"
   },
   {
    "duration": 33,
    "start_time": "2023-07-26T06:35:52.167Z"
   },
   {
    "duration": 6,
    "start_time": "2023-07-26T06:47:38.185Z"
   },
   {
    "duration": 14,
    "start_time": "2023-07-26T06:47:39.412Z"
   },
   {
    "duration": 12,
    "start_time": "2023-07-26T06:48:00.295Z"
   },
   {
    "duration": 9,
    "start_time": "2023-07-26T06:48:11.858Z"
   },
   {
    "duration": 15,
    "start_time": "2023-07-26T06:49:14.179Z"
   },
   {
    "duration": 17,
    "start_time": "2023-07-26T06:49:18.365Z"
   },
   {
    "duration": 17,
    "start_time": "2023-07-26T06:49:48.723Z"
   },
   {
    "duration": 11,
    "start_time": "2023-07-26T06:50:19.779Z"
   },
   {
    "duration": 11,
    "start_time": "2023-07-26T06:50:27.394Z"
   },
   {
    "duration": 10,
    "start_time": "2023-07-26T06:50:34.284Z"
   },
   {
    "duration": 13,
    "start_time": "2023-07-26T06:51:12.348Z"
   },
   {
    "duration": 12,
    "start_time": "2023-07-26T06:51:17.422Z"
   },
   {
    "duration": 7,
    "start_time": "2023-07-26T06:51:46.505Z"
   },
   {
    "duration": 10,
    "start_time": "2023-07-26T06:51:52.584Z"
   },
   {
    "duration": 10,
    "start_time": "2023-07-26T06:52:00.082Z"
   },
   {
    "duration": 80552,
    "start_time": "2023-07-26T06:52:44.183Z"
   },
   {
    "duration": 174,
    "start_time": "2023-07-26T06:54:04.737Z"
   },
   {
    "duration": 2,
    "start_time": "2023-07-26T06:54:04.913Z"
   },
   {
    "duration": 16,
    "start_time": "2023-07-26T06:54:04.917Z"
   },
   {
    "duration": 11,
    "start_time": "2023-07-26T06:54:04.935Z"
   },
   {
    "duration": 13,
    "start_time": "2023-07-26T06:54:04.947Z"
   },
   {
    "duration": 5,
    "start_time": "2023-07-26T06:54:14.666Z"
   },
   {
    "duration": 57,
    "start_time": "2023-07-26T06:54:15.353Z"
   },
   {
    "duration": 9,
    "start_time": "2023-07-26T06:54:15.955Z"
   },
   {
    "duration": 7,
    "start_time": "2023-07-26T06:54:20.712Z"
   },
   {
    "duration": 9,
    "start_time": "2023-07-26T06:54:22.153Z"
   },
   {
    "duration": 82444,
    "start_time": "2023-07-26T06:54:34.509Z"
   },
   {
    "duration": 184,
    "start_time": "2023-07-26T06:55:56.955Z"
   },
   {
    "duration": 3,
    "start_time": "2023-07-26T06:55:57.140Z"
   },
   {
    "duration": 12,
    "start_time": "2023-07-26T06:55:57.145Z"
   },
   {
    "duration": 19,
    "start_time": "2023-07-26T06:55:57.159Z"
   },
   {
    "duration": 69,
    "start_time": "2023-07-26T06:56:27.198Z"
   },
   {
    "duration": 9,
    "start_time": "2023-07-26T06:56:27.639Z"
   },
   {
    "duration": 5,
    "start_time": "2023-07-26T06:56:32.083Z"
   },
   {
    "duration": 100,
    "start_time": "2023-07-26T06:56:32.722Z"
   },
   {
    "duration": 8,
    "start_time": "2023-07-26T06:56:36.919Z"
   },
   {
    "duration": 9,
    "start_time": "2023-07-26T06:56:37.421Z"
   },
   {
    "duration": 13,
    "start_time": "2023-07-26T06:57:48.867Z"
   },
   {
    "duration": 157,
    "start_time": "2023-07-26T06:59:38.720Z"
   },
   {
    "duration": 132,
    "start_time": "2023-07-26T06:59:45.588Z"
   },
   {
    "duration": 158,
    "start_time": "2023-07-26T06:59:50.040Z"
   },
   {
    "duration": 2173,
    "start_time": "2023-07-26T07:06:20.572Z"
   },
   {
    "duration": 17,
    "start_time": "2023-07-26T07:06:32.792Z"
   },
   {
    "duration": 8,
    "start_time": "2023-07-26T07:11:34.738Z"
   },
   {
    "duration": 13,
    "start_time": "2023-07-26T07:11:38.622Z"
   },
   {
    "duration": 194,
    "start_time": "2023-07-26T07:11:50.072Z"
   },
   {
    "duration": 3,
    "start_time": "2023-07-26T07:13:14.250Z"
   },
   {
    "duration": 9,
    "start_time": "2023-07-26T07:13:14.795Z"
   },
   {
    "duration": 172,
    "start_time": "2023-07-26T07:13:20.679Z"
   },
   {
    "duration": 1381,
    "start_time": "2023-07-26T07:13:31.626Z"
   },
   {
    "duration": 548,
    "start_time": "2023-07-26T07:14:10.101Z"
   },
   {
    "duration": 366,
    "start_time": "2023-07-26T07:14:52.133Z"
   },
   {
    "duration": 569,
    "start_time": "2023-07-26T07:14:57.823Z"
   },
   {
    "duration": 10,
    "start_time": "2023-07-26T07:15:02.751Z"
   },
   {
    "duration": 551,
    "start_time": "2023-07-26T07:15:08.434Z"
   },
   {
    "duration": 604,
    "start_time": "2023-07-26T07:18:15.562Z"
   },
   {
    "duration": 654,
    "start_time": "2023-07-26T07:18:22.439Z"
   },
   {
    "duration": 619,
    "start_time": "2023-07-26T07:18:28.887Z"
   },
   {
    "duration": 609,
    "start_time": "2023-07-26T07:18:34.916Z"
   },
   {
    "duration": 557,
    "start_time": "2023-07-26T07:18:41.770Z"
   },
   {
    "duration": 13,
    "start_time": "2023-07-26T07:27:00.536Z"
   },
   {
    "duration": 184,
    "start_time": "2023-07-26T07:27:53.425Z"
   },
   {
    "duration": 180,
    "start_time": "2023-07-26T07:28:21.217Z"
   },
   {
    "duration": 201,
    "start_time": "2023-07-26T07:28:56.008Z"
   },
   {
    "duration": 183,
    "start_time": "2023-07-26T07:29:15.359Z"
   },
   {
    "duration": 7,
    "start_time": "2023-07-26T07:29:56.111Z"
   },
   {
    "duration": 3,
    "start_time": "2023-07-26T07:29:56.688Z"
   },
   {
    "duration": 14,
    "start_time": "2023-07-26T07:29:57.090Z"
   },
   {
    "duration": 582,
    "start_time": "2023-07-26T07:29:58.484Z"
   },
   {
    "duration": 244,
    "start_time": "2023-07-26T07:30:00.416Z"
   },
   {
    "duration": 312,
    "start_time": "2023-07-26T07:30:35.142Z"
   },
   {
    "duration": 69,
    "start_time": "2023-07-26T07:31:08.590Z"
   },
   {
    "duration": 4,
    "start_time": "2023-07-26T07:36:14.389Z"
   },
   {
    "duration": 6,
    "start_time": "2023-07-26T07:36:14.846Z"
   },
   {
    "duration": 4,
    "start_time": "2023-07-26T07:36:15.214Z"
   },
   {
    "duration": 10,
    "start_time": "2023-07-26T07:36:15.599Z"
   },
   {
    "duration": 591,
    "start_time": "2023-07-26T07:36:16.049Z"
   },
   {
    "duration": 207,
    "start_time": "2023-07-26T07:36:16.643Z"
   },
   {
    "duration": 180,
    "start_time": "2023-07-26T07:36:50.765Z"
   },
   {
    "duration": 211,
    "start_time": "2023-07-26T07:36:59.343Z"
   },
   {
    "duration": 178,
    "start_time": "2023-07-26T07:37:11.158Z"
   },
   {
    "duration": 5,
    "start_time": "2023-07-26T07:38:39.492Z"
   },
   {
    "duration": 649,
    "start_time": "2023-07-26T07:38:41.361Z"
   },
   {
    "duration": 203,
    "start_time": "2023-07-26T07:38:43.039Z"
   },
   {
    "duration": 218,
    "start_time": "2023-07-26T07:39:35.597Z"
   },
   {
    "duration": 4,
    "start_time": "2023-07-26T07:40:15.165Z"
   },
   {
    "duration": 14,
    "start_time": "2023-07-26T07:40:15.517Z"
   },
   {
    "duration": 4,
    "start_time": "2023-07-26T07:40:15.850Z"
   },
   {
    "duration": 4,
    "start_time": "2023-07-26T07:40:16.239Z"
   },
   {
    "duration": 662,
    "start_time": "2023-07-26T07:40:16.561Z"
   },
   {
    "duration": 208,
    "start_time": "2023-07-26T07:40:17.225Z"
   },
   {
    "duration": 1329,
    "start_time": "2023-07-26T07:46:35.599Z"
   },
   {
    "duration": 3690,
    "start_time": "2023-07-26T07:46:36.930Z"
   },
   {
    "duration": 4,
    "start_time": "2023-07-26T07:46:40.627Z"
   },
   {
    "duration": 35,
    "start_time": "2023-07-26T07:46:40.634Z"
   },
   {
    "duration": 248,
    "start_time": "2023-07-26T07:46:40.671Z"
   },
   {
    "duration": 117,
    "start_time": "2023-07-26T07:46:40.922Z"
   },
   {
    "duration": 1777,
    "start_time": "2023-07-26T07:46:41.041Z"
   },
   {
    "duration": 196,
    "start_time": "2023-07-26T07:46:42.819Z"
   },
   {
    "duration": 72,
    "start_time": "2023-07-26T07:46:43.017Z"
   },
   {
    "duration": 45,
    "start_time": "2023-07-26T07:46:43.091Z"
   },
   {
    "duration": 412,
    "start_time": "2023-07-26T07:46:43.138Z"
   },
   {
    "duration": 25,
    "start_time": "2023-07-26T07:46:43.552Z"
   },
   {
    "duration": 69,
    "start_time": "2023-07-26T07:46:43.578Z"
   },
   {
    "duration": 3,
    "start_time": "2023-07-26T07:46:43.649Z"
   },
   {
    "duration": 308,
    "start_time": "2023-07-26T07:46:43.653Z"
   },
   {
    "duration": 20,
    "start_time": "2023-07-26T07:46:43.963Z"
   },
   {
    "duration": 29,
    "start_time": "2023-07-26T07:46:43.985Z"
   },
   {
    "duration": 48,
    "start_time": "2023-07-26T07:46:44.016Z"
   },
   {
    "duration": 4,
    "start_time": "2023-07-26T07:46:44.066Z"
   },
   {
    "duration": 25,
    "start_time": "2023-07-26T07:46:44.074Z"
   },
   {
    "duration": 237,
    "start_time": "2023-07-26T07:46:44.101Z"
   },
   {
    "duration": 2,
    "start_time": "2023-07-26T07:46:44.340Z"
   },
   {
    "duration": 43,
    "start_time": "2023-07-26T07:46:44.344Z"
   },
   {
    "duration": 42,
    "start_time": "2023-07-26T07:46:44.389Z"
   },
   {
    "duration": 8,
    "start_time": "2023-07-26T07:46:44.433Z"
   },
   {
    "duration": 12,
    "start_time": "2023-07-26T07:46:44.443Z"
   },
   {
    "duration": 83,
    "start_time": "2023-07-26T07:46:44.457Z"
   },
   {
    "duration": 49,
    "start_time": "2023-07-26T07:46:44.545Z"
   },
   {
    "duration": 72,
    "start_time": "2023-07-26T07:46:44.596Z"
   },
   {
    "duration": 137,
    "start_time": "2023-07-26T07:46:44.671Z"
   },
   {
    "duration": 129,
    "start_time": "2023-07-26T07:46:44.811Z"
   },
   {
    "duration": 214,
    "start_time": "2023-07-26T07:46:44.941Z"
   },
   {
    "duration": 4,
    "start_time": "2023-07-26T07:46:45.157Z"
   },
   {
    "duration": 28,
    "start_time": "2023-07-26T07:46:45.162Z"
   },
   {
    "duration": 21,
    "start_time": "2023-07-26T07:46:45.191Z"
   },
   {
    "duration": 43,
    "start_time": "2023-07-26T07:46:45.214Z"
   },
   {
    "duration": 147,
    "start_time": "2023-07-26T07:46:45.259Z"
   },
   {
    "duration": 48,
    "start_time": "2023-07-26T07:46:45.408Z"
   },
   {
    "duration": 5,
    "start_time": "2023-07-26T07:46:45.457Z"
   },
   {
    "duration": 980,
    "start_time": "2023-07-26T07:46:45.464Z"
   },
   {
    "duration": 441,
    "start_time": "2023-07-26T07:46:46.445Z"
   },
   {
    "duration": 253,
    "start_time": "2023-07-26T07:46:46.887Z"
   },
   {
    "duration": 3,
    "start_time": "2023-07-26T07:46:47.143Z"
   },
   {
    "duration": 9,
    "start_time": "2023-07-26T07:46:47.148Z"
   },
   {
    "duration": 19,
    "start_time": "2023-07-26T07:46:47.158Z"
   },
   {
    "duration": 16,
    "start_time": "2023-07-26T07:46:47.178Z"
   },
   {
    "duration": 50883,
    "start_time": "2023-07-26T07:46:47.198Z"
   },
   {
    "duration": 219,
    "start_time": "2023-07-26T07:47:38.083Z"
   },
   {
    "duration": 4,
    "start_time": "2023-07-26T07:47:38.373Z"
   },
   {
    "duration": 23,
    "start_time": "2023-07-26T07:47:38.379Z"
   },
   {
    "duration": 204297,
    "start_time": "2023-07-26T07:47:38.405Z"
   },
   {
    "duration": 6,
    "start_time": "2023-07-26T07:51:02.713Z"
   },
   {
    "duration": 80,
    "start_time": "2023-07-26T07:51:02.721Z"
   },
   {
    "duration": 36,
    "start_time": "2023-07-26T07:51:02.803Z"
   },
   {
    "duration": 891556,
    "start_time": "2023-07-26T07:51:02.841Z"
   },
   {
    "duration": 24,
    "start_time": "2023-07-26T08:05:54.404Z"
   },
   {
    "duration": 0,
    "start_time": "2023-07-26T08:05:54.434Z"
   },
   {
    "duration": 0,
    "start_time": "2023-07-26T08:05:54.439Z"
   },
   {
    "duration": 0,
    "start_time": "2023-07-26T08:05:54.440Z"
   },
   {
    "duration": 0,
    "start_time": "2023-07-26T08:05:54.445Z"
   },
   {
    "duration": 0,
    "start_time": "2023-07-26T08:05:54.447Z"
   },
   {
    "duration": 0,
    "start_time": "2023-07-26T08:05:54.449Z"
   },
   {
    "duration": 0,
    "start_time": "2023-07-26T08:05:54.450Z"
   },
   {
    "duration": 0,
    "start_time": "2023-07-26T08:05:54.452Z"
   },
   {
    "duration": 0,
    "start_time": "2023-07-26T08:05:54.453Z"
   },
   {
    "duration": 0,
    "start_time": "2023-07-26T08:05:54.454Z"
   },
   {
    "duration": 0,
    "start_time": "2023-07-26T08:05:54.456Z"
   },
   {
    "duration": 0,
    "start_time": "2023-07-26T08:05:54.458Z"
   },
   {
    "duration": 0,
    "start_time": "2023-07-26T08:05:54.478Z"
   },
   {
    "duration": 0,
    "start_time": "2023-07-26T08:05:54.479Z"
   },
   {
    "duration": 0,
    "start_time": "2023-07-26T08:05:54.480Z"
   },
   {
    "duration": 0,
    "start_time": "2023-07-26T08:05:54.482Z"
   },
   {
    "duration": 0,
    "start_time": "2023-07-26T08:05:54.483Z"
   },
   {
    "duration": 0,
    "start_time": "2023-07-26T08:05:54.484Z"
   },
   {
    "duration": 0,
    "start_time": "2023-07-26T08:05:54.489Z"
   },
   {
    "duration": 0,
    "start_time": "2023-07-26T08:05:54.490Z"
   },
   {
    "duration": 0,
    "start_time": "2023-07-26T08:05:54.491Z"
   },
   {
    "duration": 0,
    "start_time": "2023-07-26T08:05:54.493Z"
   },
   {
    "duration": 0,
    "start_time": "2023-07-26T08:05:54.500Z"
   },
   {
    "duration": 0,
    "start_time": "2023-07-26T08:05:54.502Z"
   },
   {
    "duration": 0,
    "start_time": "2023-07-26T08:05:54.503Z"
   },
   {
    "duration": 1727,
    "start_time": "2023-07-26T08:05:57.306Z"
   },
   {
    "duration": 1329,
    "start_time": "2023-07-26T08:05:59.076Z"
   },
   {
    "duration": 6,
    "start_time": "2023-07-26T08:06:00.407Z"
   },
   {
    "duration": 90,
    "start_time": "2023-07-26T08:06:00.414Z"
   },
   {
    "duration": 230,
    "start_time": "2023-07-26T08:06:00.507Z"
   },
   {
    "duration": 175,
    "start_time": "2023-07-26T08:06:00.739Z"
   },
   {
    "duration": 2378,
    "start_time": "2023-07-26T08:06:00.916Z"
   },
   {
    "duration": 170,
    "start_time": "2023-07-26T08:06:03.296Z"
   },
   {
    "duration": 79,
    "start_time": "2023-07-26T08:06:03.469Z"
   },
   {
    "duration": 73,
    "start_time": "2023-07-26T08:06:03.551Z"
   },
   {
    "duration": 538,
    "start_time": "2023-07-26T08:06:03.627Z"
   },
   {
    "duration": 20,
    "start_time": "2023-07-26T08:06:04.177Z"
   },
   {
    "duration": 84,
    "start_time": "2023-07-26T08:06:04.201Z"
   },
   {
    "duration": 4,
    "start_time": "2023-07-26T08:06:04.289Z"
   },
   {
    "duration": 327,
    "start_time": "2023-07-26T08:06:04.297Z"
   },
   {
    "duration": 17,
    "start_time": "2023-07-26T08:06:04.628Z"
   },
   {
    "duration": 14,
    "start_time": "2023-07-26T08:06:04.647Z"
   },
   {
    "duration": 64,
    "start_time": "2023-07-26T08:06:04.662Z"
   },
   {
    "duration": 17,
    "start_time": "2023-07-26T08:06:04.729Z"
   },
   {
    "duration": 81,
    "start_time": "2023-07-26T08:06:04.748Z"
   },
   {
    "duration": 253,
    "start_time": "2023-07-26T08:06:04.831Z"
   },
   {
    "duration": 2,
    "start_time": "2023-07-26T08:06:05.086Z"
   },
   {
    "duration": 34,
    "start_time": "2023-07-26T08:06:05.090Z"
   },
   {
    "duration": 52,
    "start_time": "2023-07-26T08:06:05.129Z"
   },
   {
    "duration": 9,
    "start_time": "2023-07-26T08:06:05.183Z"
   },
   {
    "duration": 14,
    "start_time": "2023-07-26T08:06:05.195Z"
   },
   {
    "duration": 49,
    "start_time": "2023-07-26T08:06:05.211Z"
   },
   {
    "duration": 71,
    "start_time": "2023-07-26T08:06:05.262Z"
   },
   {
    "duration": 61,
    "start_time": "2023-07-26T08:06:05.335Z"
   },
   {
    "duration": 127,
    "start_time": "2023-07-26T08:06:05.400Z"
   },
   {
    "duration": 173,
    "start_time": "2023-07-26T08:06:05.534Z"
   },
   {
    "duration": 330,
    "start_time": "2023-07-26T08:06:05.714Z"
   },
   {
    "duration": 6,
    "start_time": "2023-07-26T08:06:06.046Z"
   },
   {
    "duration": 16,
    "start_time": "2023-07-26T08:06:06.054Z"
   },
   {
    "duration": 25,
    "start_time": "2023-07-26T08:06:06.073Z"
   },
   {
    "duration": 24,
    "start_time": "2023-07-26T08:06:06.101Z"
   },
   {
    "duration": 221,
    "start_time": "2023-07-26T08:06:06.128Z"
   },
   {
    "duration": 64,
    "start_time": "2023-07-26T08:06:06.351Z"
   },
   {
    "duration": 12,
    "start_time": "2023-07-26T08:06:06.416Z"
   },
   {
    "duration": 1023,
    "start_time": "2023-07-26T08:06:06.434Z"
   },
   {
    "duration": 497,
    "start_time": "2023-07-26T08:06:07.463Z"
   },
   {
    "duration": 358,
    "start_time": "2023-07-26T08:06:07.963Z"
   },
   {
    "duration": 6,
    "start_time": "2023-07-26T08:06:08.322Z"
   },
   {
    "duration": 24,
    "start_time": "2023-07-26T08:06:08.330Z"
   },
   {
    "duration": 17,
    "start_time": "2023-07-26T08:06:08.356Z"
   },
   {
    "duration": 30,
    "start_time": "2023-07-26T08:06:08.381Z"
   },
   {
    "duration": 73472,
    "start_time": "2023-07-26T08:06:08.413Z"
   },
   {
    "duration": 240,
    "start_time": "2023-07-26T08:07:21.895Z"
   },
   {
    "duration": 6,
    "start_time": "2023-07-26T08:07:22.190Z"
   },
   {
    "duration": 37,
    "start_time": "2023-07-26T08:07:22.204Z"
   },
   {
    "duration": 201631,
    "start_time": "2023-07-26T08:07:22.243Z"
   },
   {
    "duration": 11,
    "start_time": "2023-07-26T08:10:43.880Z"
   },
   {
    "duration": 15,
    "start_time": "2023-07-26T08:10:43.902Z"
   },
   {
    "duration": 18,
    "start_time": "2023-07-26T08:10:43.919Z"
   },
   {
    "duration": 37852,
    "start_time": "2023-07-26T08:10:43.943Z"
   },
   {
    "duration": 28,
    "start_time": "2023-07-26T08:11:21.796Z"
   },
   {
    "duration": 0,
    "start_time": "2023-07-26T08:11:21.826Z"
   },
   {
    "duration": 0,
    "start_time": "2023-07-26T08:11:21.826Z"
   },
   {
    "duration": 0,
    "start_time": "2023-07-26T08:11:21.827Z"
   },
   {
    "duration": 0,
    "start_time": "2023-07-26T08:11:21.828Z"
   },
   {
    "duration": 0,
    "start_time": "2023-07-26T08:11:21.829Z"
   },
   {
    "duration": 0,
    "start_time": "2023-07-26T08:11:21.830Z"
   },
   {
    "duration": 0,
    "start_time": "2023-07-26T08:11:21.831Z"
   },
   {
    "duration": 0,
    "start_time": "2023-07-26T08:11:21.831Z"
   },
   {
    "duration": 0,
    "start_time": "2023-07-26T08:11:21.832Z"
   },
   {
    "duration": 1,
    "start_time": "2023-07-26T08:11:21.833Z"
   },
   {
    "duration": 0,
    "start_time": "2023-07-26T08:11:21.835Z"
   },
   {
    "duration": 0,
    "start_time": "2023-07-26T08:11:21.836Z"
   },
   {
    "duration": 0,
    "start_time": "2023-07-26T08:11:21.839Z"
   },
   {
    "duration": 0,
    "start_time": "2023-07-26T08:11:21.841Z"
   },
   {
    "duration": 0,
    "start_time": "2023-07-26T08:11:21.842Z"
   },
   {
    "duration": 0,
    "start_time": "2023-07-26T08:11:21.843Z"
   },
   {
    "duration": 0,
    "start_time": "2023-07-26T08:11:21.844Z"
   },
   {
    "duration": 0,
    "start_time": "2023-07-26T08:11:21.846Z"
   },
   {
    "duration": 0,
    "start_time": "2023-07-26T08:11:21.847Z"
   },
   {
    "duration": 0,
    "start_time": "2023-07-26T08:11:21.850Z"
   },
   {
    "duration": 0,
    "start_time": "2023-07-26T08:11:21.851Z"
   },
   {
    "duration": 0,
    "start_time": "2023-07-26T08:11:21.852Z"
   },
   {
    "duration": 0,
    "start_time": "2023-07-26T08:11:21.853Z"
   },
   {
    "duration": 0,
    "start_time": "2023-07-26T08:11:21.854Z"
   },
   {
    "duration": 0,
    "start_time": "2023-07-26T08:11:21.855Z"
   },
   {
    "duration": 15310,
    "start_time": "2023-07-26T08:11:36.258Z"
   },
   {
    "duration": 1546,
    "start_time": "2023-07-26T08:11:58.871Z"
   },
   {
    "duration": 1729,
    "start_time": "2023-07-26T08:12:00.424Z"
   },
   {
    "duration": 9,
    "start_time": "2023-07-26T08:12:02.157Z"
   },
   {
    "duration": 82,
    "start_time": "2023-07-26T08:12:02.169Z"
   },
   {
    "duration": 333,
    "start_time": "2023-07-26T08:12:02.252Z"
   },
   {
    "duration": 128,
    "start_time": "2023-07-26T08:12:02.590Z"
   },
   {
    "duration": 2185,
    "start_time": "2023-07-26T08:12:02.720Z"
   },
   {
    "duration": 185,
    "start_time": "2023-07-26T08:12:04.911Z"
   },
   {
    "duration": 78,
    "start_time": "2023-07-26T08:12:05.101Z"
   },
   {
    "duration": 147,
    "start_time": "2023-07-26T08:12:05.186Z"
   },
   {
    "duration": 525,
    "start_time": "2023-07-26T08:12:05.343Z"
   },
   {
    "duration": 28,
    "start_time": "2023-07-26T08:12:05.871Z"
   },
   {
    "duration": 126,
    "start_time": "2023-07-26T08:12:05.902Z"
   },
   {
    "duration": 5,
    "start_time": "2023-07-26T08:12:06.032Z"
   },
   {
    "duration": 372,
    "start_time": "2023-07-26T08:12:06.040Z"
   },
   {
    "duration": 14,
    "start_time": "2023-07-26T08:12:06.419Z"
   },
   {
    "duration": 56,
    "start_time": "2023-07-26T08:12:06.439Z"
   },
   {
    "duration": 112,
    "start_time": "2023-07-26T08:12:06.500Z"
   },
   {
    "duration": 11,
    "start_time": "2023-07-26T08:12:06.624Z"
   },
   {
    "duration": 70,
    "start_time": "2023-07-26T08:12:06.638Z"
   },
   {
    "duration": 315,
    "start_time": "2023-07-26T08:12:06.714Z"
   },
   {
    "duration": 5,
    "start_time": "2023-07-26T08:12:07.032Z"
   },
   {
    "duration": 64,
    "start_time": "2023-07-26T08:12:07.039Z"
   },
   {
    "duration": 47,
    "start_time": "2023-07-26T08:12:07.105Z"
   },
   {
    "duration": 8,
    "start_time": "2023-07-26T08:12:07.155Z"
   },
   {
    "duration": 164,
    "start_time": "2023-07-26T08:12:07.165Z"
   },
   {
    "duration": 69,
    "start_time": "2023-07-26T08:12:07.332Z"
   },
   {
    "duration": 80,
    "start_time": "2023-07-26T08:12:07.407Z"
   },
   {
    "duration": 67,
    "start_time": "2023-07-26T08:12:07.489Z"
   },
   {
    "duration": 161,
    "start_time": "2023-07-26T08:12:07.559Z"
   },
   {
    "duration": 162,
    "start_time": "2023-07-26T08:12:07.728Z"
   },
   {
    "duration": 316,
    "start_time": "2023-07-26T08:12:07.892Z"
   },
   {
    "duration": 5,
    "start_time": "2023-07-26T08:12:08.210Z"
   },
   {
    "duration": 10,
    "start_time": "2023-07-26T08:12:08.217Z"
   },
   {
    "duration": 21,
    "start_time": "2023-07-26T08:12:08.230Z"
   },
   {
    "duration": 19,
    "start_time": "2023-07-26T08:12:08.254Z"
   },
   {
    "duration": 168,
    "start_time": "2023-07-26T08:12:08.282Z"
   },
   {
    "duration": 57,
    "start_time": "2023-07-26T08:12:08.453Z"
   },
   {
    "duration": 13,
    "start_time": "2023-07-26T08:12:08.515Z"
   },
   {
    "duration": 1199,
    "start_time": "2023-07-26T08:12:08.531Z"
   },
   {
    "duration": 569,
    "start_time": "2023-07-26T08:12:09.733Z"
   },
   {
    "duration": 360,
    "start_time": "2023-07-26T08:12:10.303Z"
   },
   {
    "duration": 6,
    "start_time": "2023-07-26T08:12:10.666Z"
   },
   {
    "duration": 71,
    "start_time": "2023-07-26T08:12:10.682Z"
   },
   {
    "duration": 15,
    "start_time": "2023-07-26T08:12:10.762Z"
   },
   {
    "duration": 4,
    "start_time": "2023-07-26T08:12:10.780Z"
   },
   {
    "duration": 98297,
    "start_time": "2023-07-26T08:12:10.789Z"
   },
   {
    "duration": 191,
    "start_time": "2023-07-26T08:13:49.106Z"
   },
   {
    "duration": 47,
    "start_time": "2023-07-26T08:13:49.331Z"
   },
   {
    "duration": 8,
    "start_time": "2023-07-26T08:13:49.384Z"
   },
   {
    "duration": 198752,
    "start_time": "2023-07-26T08:13:49.398Z"
   },
   {
    "duration": 6,
    "start_time": "2023-07-26T08:17:08.155Z"
   },
   {
    "duration": 25,
    "start_time": "2023-07-26T08:17:08.164Z"
   },
   {
    "duration": 7,
    "start_time": "2023-07-26T08:17:08.196Z"
   },
   {
    "duration": 847963,
    "start_time": "2023-07-26T08:17:08.208Z"
   },
   {
    "duration": 7,
    "start_time": "2023-07-26T08:31:16.176Z"
   },
   {
    "duration": 128,
    "start_time": "2023-07-26T08:31:16.184Z"
   },
   {
    "duration": 11,
    "start_time": "2023-07-26T08:31:16.322Z"
   },
   {
    "duration": 10,
    "start_time": "2023-07-26T08:31:16.335Z"
   },
   {
    "duration": 151954,
    "start_time": "2023-07-26T08:31:16.347Z"
   },
   {
    "duration": 679,
    "start_time": "2023-07-26T08:33:48.312Z"
   },
   {
    "duration": 6,
    "start_time": "2023-07-26T08:33:49.000Z"
   },
   {
    "duration": 26,
    "start_time": "2023-07-26T08:33:49.013Z"
   },
   {
    "duration": 2535,
    "start_time": "2023-07-26T08:33:49.041Z"
   },
   {
    "duration": 128,
    "start_time": "2023-07-26T08:33:51.593Z"
   },
   {
    "duration": 118,
    "start_time": "2023-07-26T08:33:51.732Z"
   },
   {
    "duration": 10,
    "start_time": "2023-07-26T08:33:51.858Z"
   },
   {
    "duration": 586,
    "start_time": "2023-07-26T08:33:51.871Z"
   },
   {
    "duration": 5,
    "start_time": "2023-07-26T08:33:52.459Z"
   },
   {
    "duration": 379514,
    "start_time": "2023-07-26T08:33:52.466Z"
   },
   {
    "duration": 14,
    "start_time": "2023-07-26T08:40:11.982Z"
   },
   {
    "duration": 15,
    "start_time": "2023-07-26T08:40:11.998Z"
   },
   {
    "duration": 114141,
    "start_time": "2023-07-26T08:40:12.015Z"
   },
   {
    "duration": 276,
    "start_time": "2023-07-26T08:42:06.158Z"
   },
   {
    "duration": 3,
    "start_time": "2023-07-26T08:42:06.437Z"
   },
   {
    "duration": 17,
    "start_time": "2023-07-26T08:42:06.443Z"
   },
   {
    "duration": 47,
    "start_time": "2023-07-26T08:42:06.462Z"
   },
   {
    "duration": 17,
    "start_time": "2023-07-26T08:42:06.511Z"
   },
   {
    "duration": 16,
    "start_time": "2023-07-26T08:42:06.531Z"
   },
   {
    "duration": 216,
    "start_time": "2023-07-26T08:42:06.549Z"
   },
   {
    "duration": 0,
    "start_time": "2023-07-26T08:42:06.766Z"
   },
   {
    "duration": 43,
    "start_time": "2023-07-26T08:47:57.742Z"
   },
   {
    "duration": 485,
    "start_time": "2023-07-26T08:47:58.170Z"
   },
   {
    "duration": 220,
    "start_time": "2023-07-26T08:48:05.740Z"
   },
   {
    "duration": 44,
    "start_time": "2023-07-27T05:49:47.256Z"
   },
   {
    "duration": 2710,
    "start_time": "2023-07-27T05:49:55.416Z"
   },
   {
    "duration": 1013,
    "start_time": "2023-07-27T05:49:58.128Z"
   },
   {
    "duration": 2,
    "start_time": "2023-07-27T05:49:59.143Z"
   },
   {
    "duration": 22,
    "start_time": "2023-07-27T05:49:59.147Z"
   },
   {
    "duration": 123,
    "start_time": "2023-07-27T05:49:59.171Z"
   },
   {
    "duration": 101,
    "start_time": "2023-07-27T05:49:59.296Z"
   },
   {
    "duration": 1821,
    "start_time": "2023-07-27T05:49:59.399Z"
   },
   {
    "duration": 139,
    "start_time": "2023-07-27T05:50:01.222Z"
   },
   {
    "duration": 82,
    "start_time": "2023-07-27T05:50:01.363Z"
   },
   {
    "duration": 54,
    "start_time": "2023-07-27T05:50:03.088Z"
   },
   {
    "duration": 58,
    "start_time": "2023-07-27T05:50:03.483Z"
   },
   {
    "duration": 45,
    "start_time": "2023-07-27T05:57:21.432Z"
   },
   {
    "duration": 39,
    "start_time": "2023-07-27T05:57:26.187Z"
   },
   {
    "duration": 45,
    "start_time": "2023-07-27T05:57:29.678Z"
   },
   {
    "duration": 46,
    "start_time": "2023-07-27T05:57:56.642Z"
   },
   {
    "duration": 44,
    "start_time": "2023-07-27T05:57:57.182Z"
   },
   {
    "duration": 34,
    "start_time": "2023-07-27T05:57:57.788Z"
   },
   {
    "duration": 58,
    "start_time": "2023-07-27T05:59:23.136Z"
   },
   {
    "duration": 43,
    "start_time": "2023-07-27T06:02:24.266Z"
   },
   {
    "duration": 325,
    "start_time": "2023-07-27T06:02:24.311Z"
   },
   {
    "duration": 9,
    "start_time": "2023-07-27T06:02:24.637Z"
   },
   {
    "duration": 59,
    "start_time": "2023-07-27T06:02:24.648Z"
   },
   {
    "duration": 2,
    "start_time": "2023-07-27T06:02:24.709Z"
   },
   {
    "duration": 222,
    "start_time": "2023-07-27T06:02:24.713Z"
   },
   {
    "duration": 9,
    "start_time": "2023-07-27T06:02:24.937Z"
   },
   {
    "duration": 59,
    "start_time": "2023-07-27T06:02:24.948Z"
   },
   {
    "duration": 46,
    "start_time": "2023-07-27T06:02:25.010Z"
   },
   {
    "duration": 203,
    "start_time": "2023-07-27T06:02:50.115Z"
   },
   {
    "duration": 17,
    "start_time": "2023-07-27T06:03:03.161Z"
   },
   {
    "duration": 18,
    "start_time": "2023-07-27T06:03:10.219Z"
   },
   {
    "duration": 42,
    "start_time": "2023-07-27T06:03:17.415Z"
   },
   {
    "duration": 14,
    "start_time": "2023-07-27T06:03:52.336Z"
   },
   {
    "duration": 105,
    "start_time": "2023-07-27T06:04:23.025Z"
   },
   {
    "duration": 86,
    "start_time": "2023-07-27T06:04:29.486Z"
   },
   {
    "duration": 6,
    "start_time": "2023-07-27T06:06:35.018Z"
   },
   {
    "duration": 111,
    "start_time": "2023-07-27T06:06:45.744Z"
   },
   {
    "duration": 272,
    "start_time": "2023-07-27T06:11:59.860Z"
   },
   {
    "duration": 89,
    "start_time": "2023-07-27T06:12:07.462Z"
   },
   {
    "duration": 9,
    "start_time": "2023-07-27T06:12:28.314Z"
   },
   {
    "duration": 154,
    "start_time": "2023-07-27T06:12:46.398Z"
   },
   {
    "duration": 76,
    "start_time": "2023-07-27T06:13:46.615Z"
   },
   {
    "duration": 5,
    "start_time": "2023-07-27T06:17:06.517Z"
   },
   {
    "duration": 10,
    "start_time": "2023-07-27T06:17:15.901Z"
   },
   {
    "duration": 1140,
    "start_time": "2023-07-27T06:17:44.952Z"
   },
   {
    "duration": 740,
    "start_time": "2023-07-27T06:17:46.094Z"
   },
   {
    "duration": 3,
    "start_time": "2023-07-27T06:17:46.836Z"
   },
   {
    "duration": 22,
    "start_time": "2023-07-27T06:17:46.840Z"
   },
   {
    "duration": 134,
    "start_time": "2023-07-27T06:17:46.864Z"
   },
   {
    "duration": 103,
    "start_time": "2023-07-27T06:17:47.001Z"
   },
   {
    "duration": 1475,
    "start_time": "2023-07-27T06:17:47.106Z"
   },
   {
    "duration": 139,
    "start_time": "2023-07-27T06:17:48.582Z"
   },
   {
    "duration": 63,
    "start_time": "2023-07-27T06:17:48.722Z"
   },
   {
    "duration": 63,
    "start_time": "2023-07-27T06:17:48.787Z"
   },
   {
    "duration": 32,
    "start_time": "2023-07-27T06:17:48.852Z"
   },
   {
    "duration": 326,
    "start_time": "2023-07-27T06:17:48.885Z"
   },
   {
    "duration": 9,
    "start_time": "2023-07-27T06:17:49.212Z"
   },
   {
    "duration": 51,
    "start_time": "2023-07-27T06:17:49.231Z"
   },
   {
    "duration": 2,
    "start_time": "2023-07-27T06:17:49.284Z"
   },
   {
    "duration": 209,
    "start_time": "2023-07-27T06:17:49.287Z"
   },
   {
    "duration": 117,
    "start_time": "2023-07-27T06:17:53.490Z"
   },
   {
    "duration": 83,
    "start_time": "2023-07-27T06:18:11.736Z"
   },
   {
    "duration": 9,
    "start_time": "2023-07-27T06:18:47.749Z"
   },
   {
    "duration": 34,
    "start_time": "2023-07-27T06:18:52.889Z"
   },
   {
    "duration": 28,
    "start_time": "2023-07-27T06:19:36.952Z"
   },
   {
    "duration": 31,
    "start_time": "2023-07-27T06:19:43.856Z"
   },
   {
    "duration": 31,
    "start_time": "2023-07-27T06:20:08.260Z"
   },
   {
    "duration": 34,
    "start_time": "2023-07-27T06:20:18.719Z"
   },
   {
    "duration": 88,
    "start_time": "2023-07-27T06:20:59.352Z"
   },
   {
    "duration": 89,
    "start_time": "2023-07-27T06:21:11.399Z"
   },
   {
    "duration": 92,
    "start_time": "2023-07-27T06:21:22.022Z"
   },
   {
    "duration": 29,
    "start_time": "2023-07-27T06:22:45.876Z"
   },
   {
    "duration": 239,
    "start_time": "2023-07-27T06:23:12.561Z"
   },
   {
    "duration": 171,
    "start_time": "2023-07-27T06:23:37.998Z"
   },
   {
    "duration": 14,
    "start_time": "2023-07-27T06:23:42.173Z"
   },
   {
    "duration": 16,
    "start_time": "2023-07-27T06:23:51.329Z"
   },
   {
    "duration": 23,
    "start_time": "2023-07-27T06:24:13.869Z"
   },
   {
    "duration": 18,
    "start_time": "2023-07-27T06:24:17.186Z"
   },
   {
    "duration": 120,
    "start_time": "2023-07-27T06:25:33.783Z"
   },
   {
    "duration": 198,
    "start_time": "2023-07-27T06:25:45.361Z"
   },
   {
    "duration": 3,
    "start_time": "2023-07-27T06:26:22.159Z"
   },
   {
    "duration": 204,
    "start_time": "2023-07-27T06:26:23.996Z"
   },
   {
    "duration": 33,
    "start_time": "2023-07-27T06:27:09.570Z"
   },
   {
    "duration": 31,
    "start_time": "2023-07-27T06:28:20.181Z"
   },
   {
    "duration": 30,
    "start_time": "2023-07-27T06:29:10.084Z"
   },
   {
    "duration": 37,
    "start_time": "2023-07-27T06:29:15.781Z"
   },
   {
    "duration": 52,
    "start_time": "2023-07-27T06:29:56.316Z"
   },
   {
    "duration": 49,
    "start_time": "2023-07-27T06:30:47.852Z"
   },
   {
    "duration": 38,
    "start_time": "2023-07-27T06:30:54.958Z"
   },
   {
    "duration": 4,
    "start_time": "2023-07-27T06:33:01.493Z"
   },
   {
    "duration": 2,
    "start_time": "2023-07-27T06:34:09.664Z"
   },
   {
    "duration": 225,
    "start_time": "2023-07-27T06:34:37.131Z"
   },
   {
    "duration": 236,
    "start_time": "2023-07-27T06:34:42.228Z"
   },
   {
    "duration": 11,
    "start_time": "2023-07-27T06:34:54.403Z"
   },
   {
    "duration": 12,
    "start_time": "2023-07-27T06:34:56.528Z"
   },
   {
    "duration": 217,
    "start_time": "2023-07-27T06:35:11.180Z"
   },
   {
    "duration": 4,
    "start_time": "2023-07-27T06:36:50.145Z"
   },
   {
    "duration": 9,
    "start_time": "2023-07-27T07:00:22.353Z"
   },
   {
    "duration": 1145,
    "start_time": "2023-07-27T07:01:01.368Z"
   },
   {
    "duration": 782,
    "start_time": "2023-07-27T07:01:02.514Z"
   },
   {
    "duration": 2,
    "start_time": "2023-07-27T07:01:03.298Z"
   },
   {
    "duration": 29,
    "start_time": "2023-07-27T07:01:03.303Z"
   },
   {
    "duration": 158,
    "start_time": "2023-07-27T07:01:03.334Z"
   },
   {
    "duration": 90,
    "start_time": "2023-07-27T07:01:03.494Z"
   },
   {
    "duration": 1499,
    "start_time": "2023-07-27T07:01:03.586Z"
   },
   {
    "duration": 133,
    "start_time": "2023-07-27T07:01:05.087Z"
   },
   {
    "duration": 56,
    "start_time": "2023-07-27T07:01:05.231Z"
   },
   {
    "duration": 62,
    "start_time": "2023-07-27T07:01:05.289Z"
   },
   {
    "duration": 32,
    "start_time": "2023-07-27T07:01:05.352Z"
   },
   {
    "duration": 327,
    "start_time": "2023-07-27T07:01:05.386Z"
   },
   {
    "duration": 21,
    "start_time": "2023-07-27T07:01:05.715Z"
   },
   {
    "duration": 159,
    "start_time": "2023-07-27T07:01:05.737Z"
   },
   {
    "duration": 9,
    "start_time": "2023-07-27T07:01:05.898Z"
   },
   {
    "duration": 229,
    "start_time": "2023-07-27T07:01:05.908Z"
   },
   {
    "duration": 94,
    "start_time": "2023-07-27T07:01:06.139Z"
   },
   {
    "duration": 29,
    "start_time": "2023-07-27T07:01:06.235Z"
   },
   {
    "duration": 34,
    "start_time": "2023-07-27T07:01:06.265Z"
   },
   {
    "duration": 3,
    "start_time": "2023-07-27T07:01:06.301Z"
   },
   {
    "duration": 215,
    "start_time": "2023-07-27T07:01:06.305Z"
   },
   {
    "duration": 37,
    "start_time": "2023-07-27T07:01:06.521Z"
   },
   {
    "duration": 27,
    "start_time": "2023-07-27T07:01:06.560Z"
   },
   {
    "duration": 19,
    "start_time": "2023-07-27T07:01:06.589Z"
   },
   {
    "duration": 24,
    "start_time": "2023-07-27T07:01:06.609Z"
   },
   {
    "duration": 109,
    "start_time": "2023-07-27T07:01:06.634Z"
   },
   {
    "duration": 2,
    "start_time": "2023-07-27T07:01:06.745Z"
   },
   {
    "duration": 13,
    "start_time": "2023-07-27T07:01:06.750Z"
   },
   {
    "duration": 20,
    "start_time": "2023-07-27T07:01:06.765Z"
   },
   {
    "duration": 6,
    "start_time": "2023-07-27T07:01:06.786Z"
   },
   {
    "duration": 8,
    "start_time": "2023-07-27T07:01:06.793Z"
   },
   {
    "duration": 53,
    "start_time": "2023-07-27T07:01:06.803Z"
   },
   {
    "duration": 29,
    "start_time": "2023-07-27T07:01:06.857Z"
   },
   {
    "duration": 54,
    "start_time": "2023-07-27T07:01:06.888Z"
   },
   {
    "duration": 70,
    "start_time": "2023-07-27T07:01:06.943Z"
   },
   {
    "duration": 99,
    "start_time": "2023-07-27T07:01:07.015Z"
   },
   {
    "duration": 144,
    "start_time": "2023-07-27T07:01:07.116Z"
   },
   {
    "duration": 163,
    "start_time": "2023-07-27T07:01:07.261Z"
   },
   {
    "duration": 3,
    "start_time": "2023-07-27T07:01:07.426Z"
   },
   {
    "duration": 8,
    "start_time": "2023-07-27T07:01:07.432Z"
   },
   {
    "duration": 15,
    "start_time": "2023-07-27T07:01:07.442Z"
   },
   {
    "duration": 72,
    "start_time": "2023-07-27T07:01:07.459Z"
   },
   {
    "duration": 14,
    "start_time": "2023-07-27T07:01:07.533Z"
   },
   {
    "duration": 629,
    "start_time": "2023-07-27T07:01:07.549Z"
   },
   {
    "duration": 4,
    "start_time": "2023-07-27T07:01:10.471Z"
   },
   {
    "duration": 98,
    "start_time": "2023-07-27T07:58:29.125Z"
   },
   {
    "duration": 3371,
    "start_time": "2023-07-27T07:58:40.564Z"
   },
   {
    "duration": 1405,
    "start_time": "2023-07-27T07:59:02.282Z"
   },
   {
    "duration": 108,
    "start_time": "2023-07-27T08:02:31.557Z"
   },
   {
    "duration": 3,
    "start_time": "2023-07-27T08:02:37.912Z"
   },
   {
    "duration": 746,
    "start_time": "2023-07-27T08:02:37.921Z"
   },
   {
    "duration": 2,
    "start_time": "2023-07-27T08:02:38.669Z"
   },
   {
    "duration": 23,
    "start_time": "2023-07-27T08:02:38.673Z"
   },
   {
    "duration": 148,
    "start_time": "2023-07-27T08:02:38.698Z"
   },
   {
    "duration": 95,
    "start_time": "2023-07-27T08:02:38.849Z"
   },
   {
    "duration": 1173,
    "start_time": "2023-07-27T08:02:38.946Z"
   },
   {
    "duration": 134,
    "start_time": "2023-07-27T08:02:40.120Z"
   },
   {
    "duration": 54,
    "start_time": "2023-07-27T08:02:40.255Z"
   },
   {
    "duration": 61,
    "start_time": "2023-07-27T08:02:40.311Z"
   },
   {
    "duration": 31,
    "start_time": "2023-07-27T08:02:40.374Z"
   },
   {
    "duration": 332,
    "start_time": "2023-07-27T08:02:40.407Z"
   },
   {
    "duration": 8,
    "start_time": "2023-07-27T08:02:40.741Z"
   },
   {
    "duration": 49,
    "start_time": "2023-07-27T08:02:40.751Z"
   },
   {
    "duration": 2,
    "start_time": "2023-07-27T08:02:40.803Z"
   },
   {
    "duration": 208,
    "start_time": "2023-07-27T08:02:40.807Z"
   },
   {
    "duration": 91,
    "start_time": "2023-07-27T08:02:41.017Z"
   },
   {
    "duration": 41,
    "start_time": "2023-07-27T08:02:41.109Z"
   },
   {
    "duration": 35,
    "start_time": "2023-07-27T08:02:41.151Z"
   },
   {
    "duration": 2,
    "start_time": "2023-07-27T08:02:41.188Z"
   },
   {
    "duration": 208,
    "start_time": "2023-07-27T08:02:41.192Z"
   },
   {
    "duration": 32,
    "start_time": "2023-07-27T08:02:41.401Z"
   },
   {
    "duration": 32,
    "start_time": "2023-07-27T08:02:41.434Z"
   },
   {
    "duration": 18,
    "start_time": "2023-07-27T08:02:41.468Z"
   },
   {
    "duration": 6,
    "start_time": "2023-07-27T08:02:41.488Z"
   },
   {
    "duration": 117,
    "start_time": "2023-07-27T08:02:41.496Z"
   },
   {
    "duration": 2,
    "start_time": "2023-07-27T08:02:41.615Z"
   },
   {
    "duration": 13,
    "start_time": "2023-07-27T08:02:41.619Z"
   },
   {
    "duration": 18,
    "start_time": "2023-07-27T08:02:41.634Z"
   },
   {
    "duration": 7,
    "start_time": "2023-07-27T08:02:41.653Z"
   },
   {
    "duration": 10,
    "start_time": "2023-07-27T08:02:41.662Z"
   },
   {
    "duration": 38,
    "start_time": "2023-07-27T08:02:41.673Z"
   },
   {
    "duration": 31,
    "start_time": "2023-07-27T08:02:41.731Z"
   },
   {
    "duration": 42,
    "start_time": "2023-07-27T08:02:41.764Z"
   },
   {
    "duration": 86,
    "start_time": "2023-07-27T08:02:41.808Z"
   },
   {
    "duration": 103,
    "start_time": "2023-07-27T08:02:41.895Z"
   },
   {
    "duration": 154,
    "start_time": "2023-07-27T08:02:41.999Z"
   },
   {
    "duration": 162,
    "start_time": "2023-07-27T08:02:42.154Z"
   },
   {
    "duration": 3,
    "start_time": "2023-07-27T08:02:42.318Z"
   },
   {
    "duration": 9,
    "start_time": "2023-07-27T08:02:42.323Z"
   },
   {
    "duration": 5,
    "start_time": "2023-07-27T08:02:42.333Z"
   },
   {
    "duration": 68,
    "start_time": "2023-07-27T08:02:42.341Z"
   },
   {
    "duration": 30,
    "start_time": "2023-07-27T08:02:42.411Z"
   },
   {
    "duration": 4,
    "start_time": "2023-07-27T08:02:42.443Z"
   },
   {
    "duration": 593,
    "start_time": "2023-07-27T08:02:42.448Z"
   },
   {
    "duration": 4,
    "start_time": "2023-07-27T08:02:43.042Z"
   },
   {
    "duration": 55,
    "start_time": "2023-07-27T08:02:43.048Z"
   },
   {
    "duration": 285,
    "start_time": "2023-07-27T08:02:43.105Z"
   },
   {
    "duration": 10,
    "start_time": "2023-07-27T08:02:43.392Z"
   },
   {
    "duration": 0,
    "start_time": "2023-07-27T08:02:43.405Z"
   },
   {
    "duration": 0,
    "start_time": "2023-07-27T08:02:43.406Z"
   },
   {
    "duration": 0,
    "start_time": "2023-07-27T08:02:43.407Z"
   },
   {
    "duration": 3,
    "start_time": "2023-07-27T08:02:45.649Z"
   },
   {
    "duration": 120,
    "start_time": "2023-07-27T08:02:46.045Z"
   },
   {
    "duration": 120,
    "start_time": "2023-07-27T08:03:33.440Z"
   },
   {
    "duration": 3,
    "start_time": "2023-07-27T08:04:23.220Z"
   },
   {
    "duration": 4,
    "start_time": "2023-07-27T08:05:56.796Z"
   },
   {
    "duration": 9,
    "start_time": "2023-07-27T08:06:30.600Z"
   },
   {
    "duration": 86,
    "start_time": "2023-07-27T08:06:38.040Z"
   },
   {
    "duration": 22,
    "start_time": "2023-07-27T08:06:48.810Z"
   },
   {
    "duration": 22,
    "start_time": "2023-07-27T08:06:57.089Z"
   },
   {
    "duration": 96,
    "start_time": "2023-07-27T08:07:02.321Z"
   },
   {
    "duration": 101,
    "start_time": "2023-07-27T08:07:16.744Z"
   },
   {
    "duration": 416,
    "start_time": "2023-07-27T08:08:25.029Z"
   },
   {
    "duration": 9,
    "start_time": "2023-07-27T08:09:42.964Z"
   },
   {
    "duration": 10,
    "start_time": "2023-07-27T08:09:53.146Z"
   },
   {
    "duration": 11,
    "start_time": "2023-07-27T08:09:57.031Z"
   },
   {
    "duration": 2718,
    "start_time": "2023-07-27T08:10:39.265Z"
   },
   {
    "duration": 1043,
    "start_time": "2023-07-27T08:11:05.088Z"
   },
   {
    "duration": 801,
    "start_time": "2023-07-27T08:11:06.133Z"
   },
   {
    "duration": 2,
    "start_time": "2023-07-27T08:11:06.935Z"
   },
   {
    "duration": 32,
    "start_time": "2023-07-27T08:11:06.939Z"
   },
   {
    "duration": 160,
    "start_time": "2023-07-27T08:11:06.973Z"
   },
   {
    "duration": 89,
    "start_time": "2023-07-27T08:11:07.135Z"
   },
   {
    "duration": 1590,
    "start_time": "2023-07-27T08:11:07.231Z"
   },
   {
    "duration": 137,
    "start_time": "2023-07-27T08:11:08.823Z"
   },
   {
    "duration": 58,
    "start_time": "2023-07-27T08:11:08.962Z"
   },
   {
    "duration": 47,
    "start_time": "2023-07-27T08:11:09.033Z"
   },
   {
    "duration": 31,
    "start_time": "2023-07-27T08:11:09.082Z"
   },
   {
    "duration": 336,
    "start_time": "2023-07-27T08:11:09.115Z"
   },
   {
    "duration": 8,
    "start_time": "2023-07-27T08:11:09.453Z"
   },
   {
    "duration": 68,
    "start_time": "2023-07-27T08:11:09.462Z"
   },
   {
    "duration": 2,
    "start_time": "2023-07-27T08:11:09.532Z"
   },
   {
    "duration": 215,
    "start_time": "2023-07-27T08:11:09.535Z"
   },
   {
    "duration": 94,
    "start_time": "2023-07-27T08:11:09.752Z"
   },
   {
    "duration": 28,
    "start_time": "2023-07-27T08:11:09.848Z"
   },
   {
    "duration": 33,
    "start_time": "2023-07-27T08:11:09.878Z"
   },
   {
    "duration": 19,
    "start_time": "2023-07-27T08:11:09.913Z"
   },
   {
    "duration": 199,
    "start_time": "2023-07-27T08:11:09.934Z"
   },
   {
    "duration": 27,
    "start_time": "2023-07-27T08:11:10.135Z"
   },
   {
    "duration": 106,
    "start_time": "2023-07-27T08:11:10.164Z"
   },
   {
    "duration": 111,
    "start_time": "2023-07-27T08:11:10.272Z"
   },
   {
    "duration": 13,
    "start_time": "2023-07-27T08:11:10.385Z"
   },
   {
    "duration": 110,
    "start_time": "2023-07-27T08:11:10.399Z"
   },
   {
    "duration": 2,
    "start_time": "2023-07-27T08:11:10.511Z"
   },
   {
    "duration": 43,
    "start_time": "2023-07-27T08:11:10.516Z"
   },
   {
    "duration": 34,
    "start_time": "2023-07-27T08:11:10.561Z"
   },
   {
    "duration": 19,
    "start_time": "2023-07-27T08:11:10.597Z"
   },
   {
    "duration": 12,
    "start_time": "2023-07-27T08:11:10.618Z"
   },
   {
    "duration": 41,
    "start_time": "2023-07-27T08:11:10.631Z"
   },
   {
    "duration": 30,
    "start_time": "2023-07-27T08:11:10.674Z"
   },
   {
    "duration": 65,
    "start_time": "2023-07-27T08:11:10.705Z"
   },
   {
    "duration": 69,
    "start_time": "2023-07-27T08:11:10.771Z"
   },
   {
    "duration": 76,
    "start_time": "2023-07-27T08:11:10.842Z"
   },
   {
    "duration": 187,
    "start_time": "2023-07-27T08:11:10.920Z"
   },
   {
    "duration": 163,
    "start_time": "2023-07-27T08:11:11.108Z"
   },
   {
    "duration": 3,
    "start_time": "2023-07-27T08:11:11.273Z"
   },
   {
    "duration": 35,
    "start_time": "2023-07-27T08:11:11.277Z"
   },
   {
    "duration": 30,
    "start_time": "2023-07-27T08:11:11.313Z"
   },
   {
    "duration": 74,
    "start_time": "2023-07-27T08:11:11.345Z"
   },
   {
    "duration": 14,
    "start_time": "2023-07-27T08:11:11.420Z"
   },
   {
    "duration": 4,
    "start_time": "2023-07-27T08:11:11.435Z"
   },
   {
    "duration": 578,
    "start_time": "2023-07-27T08:11:11.440Z"
   },
   {
    "duration": 4,
    "start_time": "2023-07-27T08:11:12.019Z"
   },
   {
    "duration": 12,
    "start_time": "2023-07-27T08:11:12.024Z"
   },
   {
    "duration": 341,
    "start_time": "2023-07-27T08:11:12.037Z"
   },
   {
    "duration": 2,
    "start_time": "2023-07-27T08:11:12.380Z"
   },
   {
    "duration": 77,
    "start_time": "2023-07-27T08:11:12.383Z"
   },
   {
    "duration": 119,
    "start_time": "2023-07-27T08:11:12.462Z"
   },
   {
    "duration": 95,
    "start_time": "2023-07-27T08:11:12.582Z"
   },
   {
    "duration": 94,
    "start_time": "2023-07-27T08:11:15.641Z"
   },
   {
    "duration": 2,
    "start_time": "2023-07-27T08:11:16.165Z"
   },
   {
    "duration": 87,
    "start_time": "2023-07-27T08:11:17.683Z"
   },
   {
    "duration": 241,
    "start_time": "2023-07-27T08:11:19.004Z"
   },
   {
    "duration": 1158,
    "start_time": "2023-07-27T08:11:43.382Z"
   },
   {
    "duration": 1304,
    "start_time": "2023-07-27T08:12:03.844Z"
   },
   {
    "duration": 5,
    "start_time": "2023-07-27T08:12:17.990Z"
   },
   {
    "duration": 14,
    "start_time": "2023-07-27T08:12:24.921Z"
   },
   {
    "duration": 19,
    "start_time": "2023-07-27T08:33:10.393Z"
   },
   {
    "duration": 129,
    "start_time": "2023-07-27T08:33:56.271Z"
   },
   {
    "duration": 97,
    "start_time": "2023-07-27T08:33:56.722Z"
   },
   {
    "duration": 5,
    "start_time": "2023-07-27T08:33:57.148Z"
   },
   {
    "duration": 1456,
    "start_time": "2023-07-27T08:33:57.953Z"
   },
   {
    "duration": 2,
    "start_time": "2023-07-27T08:33:59.411Z"
   },
   {
    "duration": 189,
    "start_time": "2023-07-27T08:33:59.710Z"
   },
   {
    "duration": 32,
    "start_time": "2023-07-27T08:34:00.189Z"
   },
   {
    "duration": 11,
    "start_time": "2023-07-27T08:34:16.017Z"
   },
   {
    "duration": 5,
    "start_time": "2023-07-27T08:34:21.728Z"
   },
   {
    "duration": 5,
    "start_time": "2023-07-27T08:34:28.397Z"
   },
   {
    "duration": 9,
    "start_time": "2023-07-27T08:34:34.153Z"
   },
   {
    "duration": 3,
    "start_time": "2023-07-27T08:34:37.868Z"
   },
   {
    "duration": 5,
    "start_time": "2023-07-27T08:34:40.719Z"
   },
   {
    "duration": 3,
    "start_time": "2023-07-27T08:37:43.634Z"
   },
   {
    "duration": 10,
    "start_time": "2023-07-27T08:37:47.999Z"
   },
   {
    "duration": 1927,
    "start_time": "2023-07-27T08:37:59.991Z"
   },
   {
    "duration": 775,
    "start_time": "2023-07-27T08:38:01.920Z"
   },
   {
    "duration": 3,
    "start_time": "2023-07-27T08:38:02.696Z"
   },
   {
    "duration": 100,
    "start_time": "2023-07-27T08:38:02.701Z"
   },
   {
    "duration": 132,
    "start_time": "2023-07-27T08:38:02.803Z"
   },
   {
    "duration": 96,
    "start_time": "2023-07-27T08:38:02.937Z"
   },
   {
    "duration": 1152,
    "start_time": "2023-07-27T08:38:03.035Z"
   },
   {
    "duration": 142,
    "start_time": "2023-07-27T08:38:04.189Z"
   },
   {
    "duration": 60,
    "start_time": "2023-07-27T08:38:04.333Z"
   },
   {
    "duration": 66,
    "start_time": "2023-07-27T08:38:04.397Z"
   },
   {
    "duration": 33,
    "start_time": "2023-07-27T08:38:04.464Z"
   },
   {
    "duration": 481,
    "start_time": "2023-07-27T08:38:04.499Z"
   },
   {
    "duration": 9,
    "start_time": "2023-07-27T08:38:04.981Z"
   },
   {
    "duration": 62,
    "start_time": "2023-07-27T08:38:04.992Z"
   },
   {
    "duration": 3,
    "start_time": "2023-07-27T08:38:05.055Z"
   },
   {
    "duration": 200,
    "start_time": "2023-07-27T08:38:05.059Z"
   },
   {
    "duration": 94,
    "start_time": "2023-07-27T08:38:05.260Z"
   },
   {
    "duration": 30,
    "start_time": "2023-07-27T08:38:05.356Z"
   },
   {
    "duration": 46,
    "start_time": "2023-07-27T08:38:05.388Z"
   },
   {
    "duration": 2,
    "start_time": "2023-07-27T08:38:05.436Z"
   },
   {
    "duration": 207,
    "start_time": "2023-07-27T08:38:05.440Z"
   },
   {
    "duration": 34,
    "start_time": "2023-07-27T08:38:05.649Z"
   },
   {
    "duration": 28,
    "start_time": "2023-07-27T08:38:05.685Z"
   },
   {
    "duration": 35,
    "start_time": "2023-07-27T08:38:05.715Z"
   },
   {
    "duration": 7,
    "start_time": "2023-07-27T08:38:05.751Z"
   },
   {
    "duration": 120,
    "start_time": "2023-07-27T08:38:05.760Z"
   },
   {
    "duration": 2,
    "start_time": "2023-07-27T08:38:05.881Z"
   },
   {
    "duration": 13,
    "start_time": "2023-07-27T08:38:05.886Z"
   },
   {
    "duration": 28,
    "start_time": "2023-07-27T08:38:05.900Z"
   },
   {
    "duration": 10,
    "start_time": "2023-07-27T08:38:05.930Z"
   },
   {
    "duration": 19,
    "start_time": "2023-07-27T08:38:05.942Z"
   },
   {
    "duration": 37,
    "start_time": "2023-07-27T08:38:05.963Z"
   },
   {
    "duration": 38,
    "start_time": "2023-07-27T08:38:06.002Z"
   },
   {
    "duration": 40,
    "start_time": "2023-07-27T08:38:06.042Z"
   },
   {
    "duration": 82,
    "start_time": "2023-07-27T08:38:06.084Z"
   },
   {
    "duration": 83,
    "start_time": "2023-07-27T08:38:06.168Z"
   },
   {
    "duration": 150,
    "start_time": "2023-07-27T08:38:06.252Z"
   },
   {
    "duration": 173,
    "start_time": "2023-07-27T08:38:06.404Z"
   },
   {
    "duration": 4,
    "start_time": "2023-07-27T08:38:06.579Z"
   },
   {
    "duration": 8,
    "start_time": "2023-07-27T08:38:06.584Z"
   },
   {
    "duration": 8,
    "start_time": "2023-07-27T08:38:06.593Z"
   },
   {
    "duration": 74,
    "start_time": "2023-07-27T08:38:06.603Z"
   },
   {
    "duration": 13,
    "start_time": "2023-07-27T08:38:06.679Z"
   },
   {
    "duration": 4,
    "start_time": "2023-07-27T08:38:06.693Z"
   },
   {
    "duration": 552,
    "start_time": "2023-07-27T08:38:06.698Z"
   },
   {
    "duration": 3,
    "start_time": "2023-07-27T08:38:07.252Z"
   },
   {
    "duration": 32,
    "start_time": "2023-07-27T08:38:07.256Z"
   },
   {
    "duration": 337,
    "start_time": "2023-07-27T08:38:07.289Z"
   },
   {
    "duration": 2,
    "start_time": "2023-07-27T08:38:07.631Z"
   },
   {
    "duration": 129,
    "start_time": "2023-07-27T08:38:07.635Z"
   },
   {
    "duration": 99,
    "start_time": "2023-07-27T08:38:07.765Z"
   },
   {
    "duration": 2,
    "start_time": "2023-07-27T08:38:07.866Z"
   },
   {
    "duration": 1210,
    "start_time": "2023-07-27T08:38:07.870Z"
   },
   {
    "duration": 2,
    "start_time": "2023-07-27T08:38:09.083Z"
   },
   {
    "duration": 170,
    "start_time": "2023-07-27T08:38:09.086Z"
   },
   {
    "duration": 29,
    "start_time": "2023-07-27T08:38:09.258Z"
   },
   {
    "duration": 3,
    "start_time": "2023-07-27T08:38:09.288Z"
   },
   {
    "duration": 4,
    "start_time": "2023-07-27T08:38:13.767Z"
   },
   {
    "duration": 6,
    "start_time": "2023-07-27T08:38:24.586Z"
   },
   {
    "duration": 2,
    "start_time": "2023-07-27T08:38:29.201Z"
   },
   {
    "duration": 6,
    "start_time": "2023-07-27T08:38:29.662Z"
   },
   {
    "duration": 22,
    "start_time": "2023-07-27T08:38:44.001Z"
   },
   {
    "duration": 12,
    "start_time": "2023-07-27T08:39:00.988Z"
   },
   {
    "duration": 117,
    "start_time": "2023-07-27T08:40:13.827Z"
   },
   {
    "duration": 1759,
    "start_time": "2023-07-27T08:40:32.193Z"
   },
   {
    "duration": 783,
    "start_time": "2023-07-27T08:40:33.954Z"
   },
   {
    "duration": 3,
    "start_time": "2023-07-27T08:40:34.740Z"
   },
   {
    "duration": 108,
    "start_time": "2023-07-27T08:40:34.745Z"
   },
   {
    "duration": 130,
    "start_time": "2023-07-27T08:40:34.854Z"
   },
   {
    "duration": 91,
    "start_time": "2023-07-27T08:40:34.986Z"
   },
   {
    "duration": 1079,
    "start_time": "2023-07-27T08:40:35.078Z"
   },
   {
    "duration": 129,
    "start_time": "2023-07-27T08:40:36.159Z"
   },
   {
    "duration": 59,
    "start_time": "2023-07-27T08:40:36.289Z"
   },
   {
    "duration": 47,
    "start_time": "2023-07-27T08:40:36.350Z"
   },
   {
    "duration": 43,
    "start_time": "2023-07-27T08:40:36.399Z"
   },
   {
    "duration": 426,
    "start_time": "2023-07-27T08:40:36.444Z"
   },
   {
    "duration": 9,
    "start_time": "2023-07-27T08:40:36.872Z"
   },
   {
    "duration": 65,
    "start_time": "2023-07-27T08:40:36.883Z"
   },
   {
    "duration": 3,
    "start_time": "2023-07-27T08:40:36.950Z"
   },
   {
    "duration": 204,
    "start_time": "2023-07-27T08:40:36.955Z"
   },
   {
    "duration": 89,
    "start_time": "2023-07-27T08:40:37.161Z"
   },
   {
    "duration": 29,
    "start_time": "2023-07-27T08:40:37.252Z"
   },
   {
    "duration": 49,
    "start_time": "2023-07-27T08:40:37.282Z"
   },
   {
    "duration": 2,
    "start_time": "2023-07-27T08:40:37.333Z"
   },
   {
    "duration": 196,
    "start_time": "2023-07-27T08:40:37.337Z"
   },
   {
    "duration": 28,
    "start_time": "2023-07-27T08:40:37.535Z"
   },
   {
    "duration": 28,
    "start_time": "2023-07-27T08:40:37.564Z"
   },
   {
    "duration": 44,
    "start_time": "2023-07-27T08:40:37.593Z"
   },
   {
    "duration": 7,
    "start_time": "2023-07-27T08:40:37.639Z"
   },
   {
    "duration": 125,
    "start_time": "2023-07-27T08:40:37.647Z"
   },
   {
    "duration": 3,
    "start_time": "2023-07-27T08:40:37.773Z"
   },
   {
    "duration": 5,
    "start_time": "2023-07-27T08:40:37.781Z"
   },
   {
    "duration": 22,
    "start_time": "2023-07-27T08:40:37.787Z"
   },
   {
    "duration": 23,
    "start_time": "2023-07-27T08:40:37.810Z"
   },
   {
    "duration": 12,
    "start_time": "2023-07-27T08:40:37.834Z"
   },
   {
    "duration": 38,
    "start_time": "2023-07-27T08:40:37.848Z"
   },
   {
    "duration": 50,
    "start_time": "2023-07-27T08:40:37.888Z"
   },
   {
    "duration": 42,
    "start_time": "2023-07-27T08:40:37.940Z"
   },
   {
    "duration": 93,
    "start_time": "2023-07-27T08:40:37.984Z"
   },
   {
    "duration": 82,
    "start_time": "2023-07-27T08:40:38.079Z"
   },
   {
    "duration": 150,
    "start_time": "2023-07-27T08:40:38.163Z"
   },
   {
    "duration": 165,
    "start_time": "2023-07-27T08:40:38.314Z"
   },
   {
    "duration": 4,
    "start_time": "2023-07-27T08:40:38.480Z"
   },
   {
    "duration": 7,
    "start_time": "2023-07-27T08:40:38.485Z"
   },
   {
    "duration": 9,
    "start_time": "2023-07-27T08:40:38.494Z"
   },
   {
    "duration": 74,
    "start_time": "2023-07-27T08:40:38.504Z"
   },
   {
    "duration": 17,
    "start_time": "2023-07-27T08:40:38.579Z"
   },
   {
    "duration": 4,
    "start_time": "2023-07-27T08:40:38.597Z"
   },
   {
    "duration": 537,
    "start_time": "2023-07-27T08:40:38.602Z"
   },
   {
    "duration": 3,
    "start_time": "2023-07-27T08:40:39.141Z"
   },
   {
    "duration": 17,
    "start_time": "2023-07-27T08:40:39.146Z"
   },
   {
    "duration": 334,
    "start_time": "2023-07-27T08:40:39.164Z"
   },
   {
    "duration": 2,
    "start_time": "2023-07-27T08:40:39.500Z"
   },
   {
    "duration": 119,
    "start_time": "2023-07-27T08:40:39.503Z"
   },
   {
    "duration": 89,
    "start_time": "2023-07-27T08:40:39.624Z"
   },
   {
    "duration": 3,
    "start_time": "2023-07-27T08:40:39.714Z"
   },
   {
    "duration": 1204,
    "start_time": "2023-07-27T08:40:39.718Z"
   },
   {
    "duration": 7,
    "start_time": "2023-07-27T08:40:40.924Z"
   },
   {
    "duration": 166,
    "start_time": "2023-07-27T08:40:40.933Z"
   },
   {
    "duration": 132,
    "start_time": "2023-07-27T08:40:42.367Z"
   },
   {
    "duration": 12,
    "start_time": "2023-07-27T08:41:22.758Z"
   },
   {
    "duration": 13,
    "start_time": "2023-07-27T08:46:30.181Z"
   },
   {
    "duration": 4,
    "start_time": "2023-07-27T08:46:34.639Z"
   },
   {
    "duration": 12,
    "start_time": "2023-07-27T08:46:38.072Z"
   },
   {
    "duration": 13,
    "start_time": "2023-07-27T08:46:54.708Z"
   },
   {
    "duration": 36,
    "start_time": "2023-07-27T08:48:51.847Z"
   },
   {
    "duration": 54,
    "start_time": "2023-07-27T08:49:32.164Z"
   },
   {
    "duration": 54,
    "start_time": "2023-07-27T08:49:43.738Z"
   },
   {
    "duration": 7,
    "start_time": "2023-07-27T08:51:35.863Z"
   },
   {
    "duration": 7,
    "start_time": "2023-07-27T08:51:41.612Z"
   },
   {
    "duration": 11,
    "start_time": "2023-07-27T08:51:58.926Z"
   },
   {
    "duration": 16,
    "start_time": "2023-07-27T08:52:26.920Z"
   },
   {
    "duration": 37,
    "start_time": "2023-07-27T08:52:34.860Z"
   },
   {
    "duration": 70,
    "start_time": "2023-07-27T08:53:28.418Z"
   },
   {
    "duration": 343,
    "start_time": "2023-07-27T08:53:34.659Z"
   },
   {
    "duration": 14,
    "start_time": "2023-07-27T08:53:36.166Z"
   },
   {
    "duration": 198,
    "start_time": "2023-07-27T08:53:39.448Z"
   },
   {
    "duration": 2002,
    "start_time": "2023-07-27T08:55:07.718Z"
   },
   {
    "duration": 798,
    "start_time": "2023-07-27T08:55:09.721Z"
   },
   {
    "duration": 2,
    "start_time": "2023-07-27T08:55:10.521Z"
   },
   {
    "duration": 110,
    "start_time": "2023-07-27T08:55:10.533Z"
   },
   {
    "duration": 146,
    "start_time": "2023-07-27T08:55:10.644Z"
   },
   {
    "duration": 100,
    "start_time": "2023-07-27T08:55:10.792Z"
   },
   {
    "duration": 1191,
    "start_time": "2023-07-27T08:55:10.894Z"
   },
   {
    "duration": 153,
    "start_time": "2023-07-27T08:55:12.086Z"
   },
   {
    "duration": 59,
    "start_time": "2023-07-27T08:55:12.242Z"
   },
   {
    "duration": 78,
    "start_time": "2023-07-27T08:55:12.303Z"
   },
   {
    "duration": 32,
    "start_time": "2023-07-27T08:55:12.382Z"
   },
   {
    "duration": 488,
    "start_time": "2023-07-27T08:55:12.416Z"
   },
   {
    "duration": 8,
    "start_time": "2023-07-27T08:55:12.907Z"
   },
   {
    "duration": 74,
    "start_time": "2023-07-27T08:55:12.917Z"
   },
   {
    "duration": 2,
    "start_time": "2023-07-27T08:55:12.993Z"
   },
   {
    "duration": 215,
    "start_time": "2023-07-27T08:55:12.997Z"
   },
   {
    "duration": 97,
    "start_time": "2023-07-27T08:55:13.214Z"
   },
   {
    "duration": 45,
    "start_time": "2023-07-27T08:55:13.313Z"
   },
   {
    "duration": 37,
    "start_time": "2023-07-27T08:55:13.360Z"
   },
   {
    "duration": 3,
    "start_time": "2023-07-27T08:55:13.398Z"
   },
   {
    "duration": 237,
    "start_time": "2023-07-27T08:55:13.402Z"
   },
   {
    "duration": 42,
    "start_time": "2023-07-27T08:55:13.641Z"
   },
   {
    "duration": 48,
    "start_time": "2023-07-27T08:55:13.685Z"
   },
   {
    "duration": 23,
    "start_time": "2023-07-27T08:55:13.735Z"
   },
   {
    "duration": 12,
    "start_time": "2023-07-27T08:55:13.759Z"
   },
   {
    "duration": 116,
    "start_time": "2023-07-27T08:55:13.772Z"
   },
   {
    "duration": 2,
    "start_time": "2023-07-27T08:55:13.891Z"
   },
   {
    "duration": 57,
    "start_time": "2023-07-27T08:55:13.895Z"
   },
   {
    "duration": 20,
    "start_time": "2023-07-27T08:55:13.954Z"
   },
   {
    "duration": 5,
    "start_time": "2023-07-27T08:55:13.976Z"
   },
   {
    "duration": 6,
    "start_time": "2023-07-27T08:55:13.982Z"
   },
   {
    "duration": 40,
    "start_time": "2023-07-27T08:55:13.990Z"
   },
   {
    "duration": 36,
    "start_time": "2023-07-27T08:55:14.032Z"
   },
   {
    "duration": 41,
    "start_time": "2023-07-27T08:55:14.070Z"
   },
   {
    "duration": 84,
    "start_time": "2023-07-27T08:55:14.113Z"
   },
   {
    "duration": 107,
    "start_time": "2023-07-27T08:55:14.198Z"
   },
   {
    "duration": 186,
    "start_time": "2023-07-27T08:55:14.307Z"
   },
   {
    "duration": 233,
    "start_time": "2023-07-27T08:55:14.495Z"
   },
   {
    "duration": 5,
    "start_time": "2023-07-27T08:55:14.732Z"
   },
   {
    "duration": 54,
    "start_time": "2023-07-27T08:55:14.745Z"
   },
   {
    "duration": 7,
    "start_time": "2023-07-27T08:55:14.802Z"
   },
   {
    "duration": 113,
    "start_time": "2023-07-27T08:55:14.811Z"
   },
   {
    "duration": 23,
    "start_time": "2023-07-27T08:55:14.926Z"
   },
   {
    "duration": 21,
    "start_time": "2023-07-27T08:55:14.950Z"
   },
   {
    "duration": 671,
    "start_time": "2023-07-27T08:55:14.973Z"
   },
   {
    "duration": 5,
    "start_time": "2023-07-27T08:55:15.646Z"
   },
   {
    "duration": 10,
    "start_time": "2023-07-27T08:55:15.653Z"
   },
   {
    "duration": 390,
    "start_time": "2023-07-27T08:55:15.665Z"
   },
   {
    "duration": 2,
    "start_time": "2023-07-27T08:55:16.057Z"
   },
   {
    "duration": 130,
    "start_time": "2023-07-27T08:55:16.061Z"
   },
   {
    "duration": 163,
    "start_time": "2023-07-27T08:55:16.193Z"
   },
   {
    "duration": 2,
    "start_time": "2023-07-27T08:55:16.358Z"
   },
   {
    "duration": 1685,
    "start_time": "2023-07-27T08:55:16.361Z"
   },
   {
    "duration": 39,
    "start_time": "2023-07-27T08:55:18.048Z"
   },
   {
    "duration": 2,
    "start_time": "2023-07-27T08:55:18.089Z"
   },
   {
    "duration": 212,
    "start_time": "2023-07-27T08:55:18.095Z"
   },
   {
    "duration": 64,
    "start_time": "2023-07-27T08:55:19.188Z"
   },
   {
    "duration": 3,
    "start_time": "2023-07-27T08:55:20.586Z"
   },
   {
    "duration": 3,
    "start_time": "2023-07-27T08:55:26.860Z"
   },
   {
    "duration": 3,
    "start_time": "2023-07-27T08:55:29.065Z"
   },
   {
    "duration": 8,
    "start_time": "2023-07-27T08:55:30.644Z"
   },
   {
    "duration": 5,
    "start_time": "2023-07-27T08:55:33.858Z"
   },
   {
    "duration": 5,
    "start_time": "2023-07-27T08:55:35.129Z"
   },
   {
    "duration": 38,
    "start_time": "2023-07-27T08:55:38.181Z"
   },
   {
    "duration": 10,
    "start_time": "2023-07-27T08:55:39.155Z"
   },
   {
    "duration": 3,
    "start_time": "2023-07-27T08:55:43.257Z"
   },
   {
    "duration": 4,
    "start_time": "2023-07-27T08:55:43.645Z"
   },
   {
    "duration": 159,
    "start_time": "2023-07-27T08:55:44.992Z"
   },
   {
    "duration": 20,
    "start_time": "2023-07-27T08:56:08.647Z"
   },
   {
    "duration": 16,
    "start_time": "2023-07-27T08:56:57.556Z"
   },
   {
    "duration": 1854,
    "start_time": "2023-07-27T08:57:09.432Z"
   },
   {
    "duration": 976,
    "start_time": "2023-07-27T08:57:11.289Z"
   },
   {
    "duration": 4,
    "start_time": "2023-07-27T08:57:12.268Z"
   },
   {
    "duration": 120,
    "start_time": "2023-07-27T08:57:12.273Z"
   },
   {
    "duration": 212,
    "start_time": "2023-07-27T08:57:12.396Z"
   },
   {
    "duration": 100,
    "start_time": "2023-07-27T08:57:12.609Z"
   },
   {
    "duration": 1401,
    "start_time": "2023-07-27T08:57:12.711Z"
   },
   {
    "duration": 204,
    "start_time": "2023-07-27T08:57:14.114Z"
   },
   {
    "duration": 66,
    "start_time": "2023-07-27T08:57:14.319Z"
   },
   {
    "duration": 67,
    "start_time": "2023-07-27T08:57:14.387Z"
   },
   {
    "duration": 41,
    "start_time": "2023-07-27T08:57:14.465Z"
   },
   {
    "duration": 660,
    "start_time": "2023-07-27T08:57:14.508Z"
   },
   {
    "duration": 11,
    "start_time": "2023-07-27T08:57:15.175Z"
   },
   {
    "duration": 67,
    "start_time": "2023-07-27T08:57:15.191Z"
   },
   {
    "duration": 4,
    "start_time": "2023-07-27T08:57:15.263Z"
   },
   {
    "duration": 263,
    "start_time": "2023-07-27T08:57:15.269Z"
   },
   {
    "duration": 132,
    "start_time": "2023-07-27T08:57:15.539Z"
   },
   {
    "duration": 33,
    "start_time": "2023-07-27T08:57:15.673Z"
   },
   {
    "duration": 39,
    "start_time": "2023-07-27T08:57:15.707Z"
   },
   {
    "duration": 2,
    "start_time": "2023-07-27T08:57:15.747Z"
   },
   {
    "duration": 225,
    "start_time": "2023-07-27T08:57:15.751Z"
   },
   {
    "duration": 41,
    "start_time": "2023-07-27T08:57:15.978Z"
   },
   {
    "duration": 49,
    "start_time": "2023-07-27T08:57:16.021Z"
   },
   {
    "duration": 21,
    "start_time": "2023-07-27T08:57:16.073Z"
   },
   {
    "duration": 7,
    "start_time": "2023-07-27T08:57:16.096Z"
   },
   {
    "duration": 172,
    "start_time": "2023-07-27T08:57:16.105Z"
   },
   {
    "duration": 54,
    "start_time": "2023-07-27T08:57:16.280Z"
   },
   {
    "duration": 41,
    "start_time": "2023-07-27T08:57:16.336Z"
   },
   {
    "duration": 24,
    "start_time": "2023-07-27T08:57:16.379Z"
   },
   {
    "duration": 40,
    "start_time": "2023-07-27T08:57:16.405Z"
   },
   {
    "duration": 26,
    "start_time": "2023-07-27T08:57:16.447Z"
   },
   {
    "duration": 38,
    "start_time": "2023-07-27T08:57:16.475Z"
   },
   {
    "duration": 36,
    "start_time": "2023-07-27T08:57:16.515Z"
   },
   {
    "duration": 101,
    "start_time": "2023-07-27T08:57:16.552Z"
   },
   {
    "duration": 202,
    "start_time": "2023-07-27T08:57:16.667Z"
   },
   {
    "duration": 108,
    "start_time": "2023-07-27T08:57:16.871Z"
   },
   {
    "duration": 211,
    "start_time": "2023-07-27T08:57:16.981Z"
   },
   {
    "duration": 196,
    "start_time": "2023-07-27T08:57:17.193Z"
   },
   {
    "duration": 4,
    "start_time": "2023-07-27T08:57:17.390Z"
   },
   {
    "duration": 20,
    "start_time": "2023-07-27T08:57:17.396Z"
   },
   {
    "duration": 8,
    "start_time": "2023-07-27T08:57:17.421Z"
   },
   {
    "duration": 130,
    "start_time": "2023-07-27T08:57:17.430Z"
   },
   {
    "duration": 25,
    "start_time": "2023-07-27T08:57:17.562Z"
   },
   {
    "duration": 7,
    "start_time": "2023-07-27T08:57:17.590Z"
   },
   {
    "duration": 749,
    "start_time": "2023-07-27T08:57:17.598Z"
   },
   {
    "duration": 8,
    "start_time": "2023-07-27T08:57:18.348Z"
   },
   {
    "duration": 32,
    "start_time": "2023-07-27T08:57:18.358Z"
   },
   {
    "duration": 360,
    "start_time": "2023-07-27T08:57:18.392Z"
   },
   {
    "duration": 2,
    "start_time": "2023-07-27T08:57:18.759Z"
   },
   {
    "duration": 151,
    "start_time": "2023-07-27T08:57:18.770Z"
   },
   {
    "duration": 123,
    "start_time": "2023-07-27T08:57:18.923Z"
   },
   {
    "duration": 12,
    "start_time": "2023-07-27T08:57:19.050Z"
   },
   {
    "duration": 1711,
    "start_time": "2023-07-27T08:57:19.068Z"
   },
   {
    "duration": 36,
    "start_time": "2023-07-27T08:57:20.780Z"
   },
   {
    "duration": 20,
    "start_time": "2023-07-27T08:57:20.817Z"
   },
   {
    "duration": 257,
    "start_time": "2023-07-27T08:57:20.840Z"
   },
   {
    "duration": 78,
    "start_time": "2023-07-27T08:57:21.098Z"
   },
   {
    "duration": 4,
    "start_time": "2023-07-27T08:57:21.180Z"
   },
   {
    "duration": 38,
    "start_time": "2023-07-27T08:57:21.186Z"
   },
   {
    "duration": 48,
    "start_time": "2023-07-27T08:57:21.226Z"
   },
   {
    "duration": 12,
    "start_time": "2023-07-27T08:57:21.275Z"
   },
   {
    "duration": 26,
    "start_time": "2023-07-27T08:57:21.289Z"
   },
   {
    "duration": 96,
    "start_time": "2023-07-27T08:57:21.316Z"
   },
   {
    "duration": 57,
    "start_time": "2023-07-27T08:57:21.414Z"
   },
   {
    "duration": 160,
    "start_time": "2023-07-27T08:57:21.473Z"
   },
   {
    "duration": 7,
    "start_time": "2023-07-27T08:57:21.635Z"
   },
   {
    "duration": 8280,
    "start_time": "2023-07-27T08:57:21.644Z"
   },
   {
    "duration": 4,
    "start_time": "2023-07-27T08:57:29.931Z"
   },
   {
    "duration": 17,
    "start_time": "2023-07-27T08:57:29.936Z"
   },
   {
    "duration": 51588,
    "start_time": "2023-07-27T08:57:47.918Z"
   },
   {
    "duration": 3,
    "start_time": "2023-07-27T08:58:39.508Z"
   },
   {
    "duration": 40,
    "start_time": "2023-07-27T08:58:39.513Z"
   },
   {
    "duration": 7,
    "start_time": "2023-07-27T08:58:39.556Z"
   },
   {
    "duration": 161572,
    "start_time": "2023-07-27T08:58:39.565Z"
   },
   {
    "duration": 321,
    "start_time": "2023-07-27T09:01:21.138Z"
   },
   {
    "duration": 4,
    "start_time": "2023-07-27T09:01:21.461Z"
   },
   {
    "duration": 69,
    "start_time": "2023-07-27T09:01:21.467Z"
   },
   {
    "duration": 366,
    "start_time": "2023-07-27T09:01:21.540Z"
   },
   {
    "duration": 76,
    "start_time": "2023-07-27T09:01:21.910Z"
   },
   {
    "duration": 8,
    "start_time": "2023-07-27T09:01:21.987Z"
   },
   {
    "duration": 395,
    "start_time": "2023-07-27T09:01:21.997Z"
   },
   {
    "duration": 3,
    "start_time": "2023-07-27T09:01:22.393Z"
   },
   {
    "duration": 191,
    "start_time": "2023-07-27T09:01:22.397Z"
   },
   {
    "duration": 0,
    "start_time": "2023-07-27T09:01:22.589Z"
   },
   {
    "duration": 0,
    "start_time": "2023-07-27T09:01:22.591Z"
   },
   {
    "duration": 0,
    "start_time": "2023-07-27T09:01:22.593Z"
   },
   {
    "duration": 0,
    "start_time": "2023-07-27T09:01:22.594Z"
   },
   {
    "duration": 0,
    "start_time": "2023-07-27T09:01:22.596Z"
   },
   {
    "duration": 0,
    "start_time": "2023-07-27T09:01:22.597Z"
   },
   {
    "duration": 0,
    "start_time": "2023-07-27T09:01:22.598Z"
   },
   {
    "duration": 0,
    "start_time": "2023-07-27T09:01:22.599Z"
   },
   {
    "duration": 0,
    "start_time": "2023-07-27T09:01:22.601Z"
   },
   {
    "duration": 5,
    "start_time": "2023-07-27T09:04:09.383Z"
   },
   {
    "duration": 5,
    "start_time": "2023-07-27T09:04:18.798Z"
   },
   {
    "duration": 365,
    "start_time": "2023-07-27T09:04:19.079Z"
   },
   {
    "duration": 10,
    "start_time": "2023-07-27T09:04:19.453Z"
   },
   {
    "duration": 227345,
    "start_time": "2023-07-27T09:04:19.716Z"
   },
   {
    "duration": 12,
    "start_time": "2023-07-27T09:08:07.064Z"
   },
   {
    "duration": 25,
    "start_time": "2023-07-27T09:08:07.078Z"
   },
   {
    "duration": 76869,
    "start_time": "2023-07-27T09:08:07.106Z"
   },
   {
    "duration": 193,
    "start_time": "2023-07-27T09:09:23.977Z"
   },
   {
    "duration": 4,
    "start_time": "2023-07-27T09:09:24.172Z"
   },
   {
    "duration": 23,
    "start_time": "2023-07-27T09:09:24.178Z"
   },
   {
    "duration": 12,
    "start_time": "2023-07-27T09:09:24.203Z"
   },
   {
    "duration": 15,
    "start_time": "2023-07-27T09:09:24.217Z"
   },
   {
    "duration": 11,
    "start_time": "2023-07-27T09:09:24.235Z"
   },
   {
    "duration": 752,
    "start_time": "2023-07-27T09:09:24.249Z"
   },
   {
    "duration": 264,
    "start_time": "2023-07-27T09:09:25.003Z"
   },
   {
    "duration": 170,
    "start_time": "2023-07-27T09:11:50.689Z"
   },
   {
    "duration": 151,
    "start_time": "2023-07-27T09:12:28.012Z"
   },
   {
    "duration": 184,
    "start_time": "2023-07-27T09:12:42.254Z"
   },
   {
    "duration": 164,
    "start_time": "2023-07-27T09:12:55.266Z"
   },
   {
    "duration": 178,
    "start_time": "2023-07-27T09:13:24.389Z"
   },
   {
    "duration": 2504,
    "start_time": "2023-07-27T09:17:38.694Z"
   },
   {
    "duration": 974,
    "start_time": "2023-07-27T09:17:41.200Z"
   },
   {
    "duration": 2,
    "start_time": "2023-07-27T09:17:42.176Z"
   },
   {
    "duration": 92,
    "start_time": "2023-07-27T09:17:42.180Z"
   },
   {
    "duration": 138,
    "start_time": "2023-07-27T09:17:42.274Z"
   },
   {
    "duration": 96,
    "start_time": "2023-07-27T09:17:42.414Z"
   },
   {
    "duration": 1199,
    "start_time": "2023-07-27T09:17:42.511Z"
   },
   {
    "duration": 148,
    "start_time": "2023-07-27T09:17:43.712Z"
   },
   {
    "duration": 57,
    "start_time": "2023-07-27T09:17:43.861Z"
   },
   {
    "duration": 64,
    "start_time": "2023-07-27T09:17:43.920Z"
   },
   {
    "duration": 56,
    "start_time": "2023-07-27T09:17:43.987Z"
   },
   {
    "duration": 447,
    "start_time": "2023-07-27T09:17:44.045Z"
   },
   {
    "duration": 10,
    "start_time": "2023-07-27T09:17:44.494Z"
   },
   {
    "duration": 77,
    "start_time": "2023-07-27T09:17:44.506Z"
   },
   {
    "duration": 3,
    "start_time": "2023-07-27T09:17:44.586Z"
   },
   {
    "duration": 272,
    "start_time": "2023-07-27T09:17:44.591Z"
   },
   {
    "duration": 117,
    "start_time": "2023-07-27T09:17:44.865Z"
   },
   {
    "duration": 31,
    "start_time": "2023-07-27T09:17:44.984Z"
   },
   {
    "duration": 49,
    "start_time": "2023-07-27T09:17:45.017Z"
   },
   {
    "duration": 26,
    "start_time": "2023-07-27T09:17:45.068Z"
   },
   {
    "duration": 217,
    "start_time": "2023-07-27T09:17:45.095Z"
   },
   {
    "duration": 40,
    "start_time": "2023-07-27T09:17:45.314Z"
   },
   {
    "duration": 92,
    "start_time": "2023-07-27T09:17:45.356Z"
   },
   {
    "duration": 30,
    "start_time": "2023-07-27T09:17:45.450Z"
   },
   {
    "duration": 27,
    "start_time": "2023-07-27T09:17:45.481Z"
   },
   {
    "duration": 118,
    "start_time": "2023-07-27T09:17:45.510Z"
   },
   {
    "duration": 14,
    "start_time": "2023-07-27T09:17:45.629Z"
   },
   {
    "duration": 48,
    "start_time": "2023-07-27T09:17:45.646Z"
   },
   {
    "duration": 40,
    "start_time": "2023-07-27T09:17:45.695Z"
   },
   {
    "duration": 23,
    "start_time": "2023-07-27T09:17:45.737Z"
   },
   {
    "duration": 25,
    "start_time": "2023-07-27T09:17:45.762Z"
   },
   {
    "duration": 49,
    "start_time": "2023-07-27T09:17:45.788Z"
   },
   {
    "duration": 39,
    "start_time": "2023-07-27T09:17:45.846Z"
   },
   {
    "duration": 62,
    "start_time": "2023-07-27T09:17:45.887Z"
   },
   {
    "duration": 73,
    "start_time": "2023-07-27T09:17:45.950Z"
   },
   {
    "duration": 104,
    "start_time": "2023-07-27T09:17:46.025Z"
   },
   {
    "duration": 178,
    "start_time": "2023-07-27T09:17:46.134Z"
   },
   {
    "duration": 185,
    "start_time": "2023-07-27T09:17:46.314Z"
   },
   {
    "duration": 4,
    "start_time": "2023-07-27T09:17:46.501Z"
   },
   {
    "duration": 7,
    "start_time": "2023-07-27T09:17:46.506Z"
   },
   {
    "duration": 3,
    "start_time": "2023-07-27T09:17:46.517Z"
   },
   {
    "duration": 109,
    "start_time": "2023-07-27T09:17:46.521Z"
   },
   {
    "duration": 20,
    "start_time": "2023-07-27T09:17:46.631Z"
   },
   {
    "duration": 12,
    "start_time": "2023-07-27T09:17:46.653Z"
   },
   {
    "duration": 573,
    "start_time": "2023-07-27T09:17:46.667Z"
   },
   {
    "duration": 5,
    "start_time": "2023-07-27T09:17:47.244Z"
   },
   {
    "duration": 15,
    "start_time": "2023-07-27T09:17:47.250Z"
   },
   {
    "duration": 357,
    "start_time": "2023-07-27T09:17:47.267Z"
   },
   {
    "duration": 3,
    "start_time": "2023-07-27T09:17:47.625Z"
   },
   {
    "duration": 148,
    "start_time": "2023-07-27T09:17:47.635Z"
   },
   {
    "duration": 104,
    "start_time": "2023-07-27T09:17:47.785Z"
   },
   {
    "duration": 3,
    "start_time": "2023-07-27T09:17:47.890Z"
   },
   {
    "duration": 1344,
    "start_time": "2023-07-27T09:17:47.894Z"
   },
   {
    "duration": 41,
    "start_time": "2023-07-27T09:17:49.240Z"
   },
   {
    "duration": 42,
    "start_time": "2023-07-27T09:17:49.283Z"
   },
   {
    "duration": 421,
    "start_time": "2023-07-27T09:17:49.327Z"
   },
   {
    "duration": 63,
    "start_time": "2023-07-27T09:17:49.749Z"
   },
   {
    "duration": 3,
    "start_time": "2023-07-27T09:17:49.813Z"
   },
   {
    "duration": 11,
    "start_time": "2023-07-27T09:17:49.817Z"
   },
   {
    "duration": 60,
    "start_time": "2023-07-27T09:17:49.829Z"
   },
   {
    "duration": 15,
    "start_time": "2023-07-27T09:17:49.891Z"
   },
   {
    "duration": 9,
    "start_time": "2023-07-27T09:17:49.908Z"
   },
   {
    "duration": 71,
    "start_time": "2023-07-27T09:17:49.918Z"
   },
   {
    "duration": 53,
    "start_time": "2023-07-27T09:17:49.991Z"
   },
   {
    "duration": 125,
    "start_time": "2023-07-27T09:17:50.045Z"
   },
   {
    "duration": 30,
    "start_time": "2023-07-27T09:17:50.172Z"
   },
   {
    "duration": 8775,
    "start_time": "2023-07-27T09:17:50.204Z"
   },
   {
    "duration": 3,
    "start_time": "2023-07-27T09:17:58.980Z"
   },
   {
    "duration": 31,
    "start_time": "2023-07-27T09:17:58.984Z"
   },
   {
    "duration": 51167,
    "start_time": "2023-07-27T09:17:59.016Z"
   },
   {
    "duration": 3,
    "start_time": "2023-07-27T09:18:50.185Z"
   },
   {
    "duration": 85,
    "start_time": "2023-07-27T09:18:50.190Z"
   },
   {
    "duration": 74,
    "start_time": "2023-07-27T09:18:50.277Z"
   },
   {
    "duration": 155680,
    "start_time": "2023-07-27T09:18:50.353Z"
   },
   {
    "duration": 325,
    "start_time": "2023-07-27T09:21:26.036Z"
   },
   {
    "duration": 3,
    "start_time": "2023-07-27T09:21:26.364Z"
   },
   {
    "duration": 20,
    "start_time": "2023-07-27T09:21:26.370Z"
   },
   {
    "duration": 320,
    "start_time": "2023-07-27T09:21:26.391Z"
   },
   {
    "duration": 65,
    "start_time": "2023-07-27T09:21:26.713Z"
   },
   {
    "duration": 4,
    "start_time": "2023-07-27T09:21:26.780Z"
   },
   {
    "duration": 326,
    "start_time": "2023-07-27T09:21:26.786Z"
   },
   {
    "duration": 3,
    "start_time": "2023-07-27T09:21:27.114Z"
   },
   {
    "duration": 229248,
    "start_time": "2023-07-27T09:21:27.118Z"
   },
   {
    "duration": 12,
    "start_time": "2023-07-27T09:25:16.368Z"
   },
   {
    "duration": 20,
    "start_time": "2023-07-27T09:25:16.382Z"
   },
   {
    "duration": 89162,
    "start_time": "2023-07-27T09:25:16.404Z"
   },
   {
    "duration": 159,
    "start_time": "2023-07-27T09:26:45.568Z"
   },
   {
    "duration": 5,
    "start_time": "2023-07-27T09:26:45.728Z"
   },
   {
    "duration": 40,
    "start_time": "2023-07-27T09:26:45.734Z"
   },
   {
    "duration": 22,
    "start_time": "2023-07-27T09:26:45.775Z"
   },
   {
    "duration": 9,
    "start_time": "2023-07-27T09:26:45.798Z"
   },
   {
    "duration": 7,
    "start_time": "2023-07-27T09:26:45.808Z"
   },
   {
    "duration": 501,
    "start_time": "2023-07-27T09:26:45.816Z"
   },
   {
    "duration": 172,
    "start_time": "2023-07-27T09:26:46.319Z"
   }
  ],
  "kernelspec": {
   "display_name": "Python 3 (ipykernel)",
   "language": "python",
   "name": "python3"
  },
  "language_info": {
   "codemirror_mode": {
    "name": "ipython",
    "version": 3
   },
   "file_extension": ".py",
   "mimetype": "text/x-python",
   "name": "python",
   "nbconvert_exporter": "python",
   "pygments_lexer": "ipython3",
   "version": "3.11.5"
  },
  "toc": {
   "base_numbering": 1,
   "nav_menu": {},
   "number_sections": true,
   "sideBar": true,
   "skip_h1_title": true,
   "title_cell": "Table of Contents",
   "title_sidebar": "Contents",
   "toc_cell": false,
   "toc_position": {},
   "toc_section_display": true,
   "toc_window_display": true
  }
 },
 "nbformat": 4,
 "nbformat_minor": 4
}
