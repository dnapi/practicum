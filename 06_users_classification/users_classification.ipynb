{
 "cells": [
  {
   "cell_type": "markdown",
   "metadata": {},
   "source": [
    "# Рекомендация тарифов"
   ]
  },
  {
   "cell_type": "markdown",
   "metadata": {},
   "source": [
    "В вашем распоряжении данные о поведении клиентов, которые уже перешли на эти тарифы (из проекта курса «Статистический анализ данных»). Нужно построить модель для задачи классификации, которая выберет подходящий тариф. Предобработка данных не понадобится — вы её уже сделали.\n",
    "\n",
    "Постройте модель с максимально большим значением *accuracy*. Чтобы сдать проект успешно, нужно довести долю правильных ответов по крайней мере до 0.75. Проверьте *accuracy* на тестовой выборке самостоятельно."
   ]
  },
  {
   "cell_type": "markdown",
   "metadata": {},
   "source": [
    "## Описание проекта\n",
    "<a id=\"id_description\"></a>\n",
    "\n",
    "Оператор мобильной связи «Мегалайн» выяснил: многие клиенты пользуются архивными тарифами. Они хотят построить систему, способную проанализировать поведение клиентов и предложить пользователям новый тариф: «Смарт» или «Ультра».\n",
    "\n",
    "В вашем распоряжении данные о поведении клиентов, которые уже перешли на эти тарифы (из проекта курса «Статистический анализ данных»). Нужно построить модель для задачи классификации, которая выберет подходящий тариф. Предобработка данных не понадобится — вы её уже сделали.\n",
    "\n",
    "Постройте модель с максимально большим значением accuracy. Чтобы сдать проект успешно, нужно довести долю правильных ответов по крайней мере до 0.75. Проверьте accuracy на тестовой выборке самостоятельно.\n",
    "\n",
    "**Цель**\n",
    "\n",
    "Построить модель для задачи классификации, которая выберет подходящий тариф для клиентов\n",
    "\n",
    "**Инструкция по выполнению проекта**\n",
    "\n",
    "   - Откройте файл с данными и изучите его. Путь к файлу: `datasets/users_behavior.csv`.\n",
    "   - Разделите исходные данные на обучающую, валидационную и тестовую выборки.\n",
    "   - Исследуйте качество разных моделей, меняя гиперпараметры. Кратко напишите выводы исследования.\n",
    "   - Проверьте качество модели на тестовой выборке.\n",
    "   - Дополнительное задание: проверьте модели на вменяемость. Ничего страшного, если не получится: эти данные сложнее тех, с которыми вы работали раньше. В следующем курсе подробнее об этом расскажем.\n",
    "\n",
    "**Описание данных**\n",
    "\n",
    "Каждый объект в наборе данных — это информация о поведении одного пользователя за месяц. Известно:\n",
    "\n",
    "    сalls — количество звонков,\n",
    "    minutes — суммарная длительность звонков в минутах,\n",
    "    messages — количество sms-сообщений,\n",
    "    mb_used — израсходованный интернет-трафик в Мб,\n",
    "    is_ultra — каким тарифом пользовался в течение месяца («Ультра» — 1, «Смарт» — 0).\n"
   ]
  },
  {
   "cell_type": "markdown",
   "metadata": {},
   "source": [
    "## Откройте и изучите файл"
   ]
  },
  {
   "cell_type": "code",
   "execution_count": 1,
   "metadata": {},
   "outputs": [],
   "source": [
    "from sklearn.tree import DecisionTreeClassifier\n",
    "from sklearn.ensemble import RandomForestClassifier\n",
    "from sklearn.linear_model import LogisticRegression\n",
    "\n",
    "from sklearn.metrics import accuracy_score\n",
    "from sklearn.model_selection import train_test_split\n",
    "from sklearn.model_selection import GridSearchCV\n",
    "\n",
    "import pandas as pd\n",
    "\n",
    "import numpy as np\n",
    "import matplotlib.pyplot as plt\n",
    "import seaborn as sns"
   ]
  },
  {
   "cell_type": "code",
   "execution_count": 2,
   "metadata": {},
   "outputs": [],
   "source": [
    "df=pd.read_csv('/datasets/users_behavior.csv')"
   ]
  },
  {
   "cell_type": "code",
   "execution_count": 3,
   "metadata": {},
   "outputs": [
    {
     "data": {
      "text/html": [
       "<div>\n",
       "<style scoped>\n",
       "    .dataframe tbody tr th:only-of-type {\n",
       "        vertical-align: middle;\n",
       "    }\n",
       "\n",
       "    .dataframe tbody tr th {\n",
       "        vertical-align: top;\n",
       "    }\n",
       "\n",
       "    .dataframe thead th {\n",
       "        text-align: right;\n",
       "    }\n",
       "</style>\n",
       "<table border=\"1\" class=\"dataframe\">\n",
       "  <thead>\n",
       "    <tr style=\"text-align: right;\">\n",
       "      <th></th>\n",
       "      <th>calls</th>\n",
       "      <th>minutes</th>\n",
       "      <th>messages</th>\n",
       "      <th>mb_used</th>\n",
       "      <th>is_ultra</th>\n",
       "    </tr>\n",
       "  </thead>\n",
       "  <tbody>\n",
       "    <tr>\n",
       "      <th>0</th>\n",
       "      <td>40.0</td>\n",
       "      <td>311.90</td>\n",
       "      <td>83.0</td>\n",
       "      <td>19915.42</td>\n",
       "      <td>0</td>\n",
       "    </tr>\n",
       "    <tr>\n",
       "      <th>1</th>\n",
       "      <td>85.0</td>\n",
       "      <td>516.75</td>\n",
       "      <td>56.0</td>\n",
       "      <td>22696.96</td>\n",
       "      <td>0</td>\n",
       "    </tr>\n",
       "    <tr>\n",
       "      <th>2</th>\n",
       "      <td>77.0</td>\n",
       "      <td>467.66</td>\n",
       "      <td>86.0</td>\n",
       "      <td>21060.45</td>\n",
       "      <td>0</td>\n",
       "    </tr>\n",
       "    <tr>\n",
       "      <th>3</th>\n",
       "      <td>106.0</td>\n",
       "      <td>745.53</td>\n",
       "      <td>81.0</td>\n",
       "      <td>8437.39</td>\n",
       "      <td>1</td>\n",
       "    </tr>\n",
       "    <tr>\n",
       "      <th>4</th>\n",
       "      <td>66.0</td>\n",
       "      <td>418.74</td>\n",
       "      <td>1.0</td>\n",
       "      <td>14502.75</td>\n",
       "      <td>0</td>\n",
       "    </tr>\n",
       "  </tbody>\n",
       "</table>\n",
       "</div>"
      ],
      "text/plain": [
       "   calls  minutes  messages   mb_used  is_ultra\n",
       "0   40.0   311.90      83.0  19915.42         0\n",
       "1   85.0   516.75      56.0  22696.96         0\n",
       "2   77.0   467.66      86.0  21060.45         0\n",
       "3  106.0   745.53      81.0   8437.39         1\n",
       "4   66.0   418.74       1.0  14502.75         0"
      ]
     },
     "execution_count": 3,
     "metadata": {},
     "output_type": "execute_result"
    }
   ],
   "source": [
    "df.head()"
   ]
  },
  {
   "cell_type": "code",
   "execution_count": 4,
   "metadata": {},
   "outputs": [
    {
     "name": "stdout",
     "output_type": "stream",
     "text": [
      "<class 'pandas.core.frame.DataFrame'>\n",
      "RangeIndex: 3214 entries, 0 to 3213\n",
      "Data columns (total 5 columns):\n",
      " #   Column    Non-Null Count  Dtype  \n",
      "---  ------    --------------  -----  \n",
      " 0   calls     3214 non-null   float64\n",
      " 1   minutes   3214 non-null   float64\n",
      " 2   messages  3214 non-null   float64\n",
      " 3   mb_used   3214 non-null   float64\n",
      " 4   is_ultra  3214 non-null   int64  \n",
      "dtypes: float64(4), int64(1)\n",
      "memory usage: 125.7 KB\n"
     ]
    }
   ],
   "source": [
    "df.info()"
   ]
  },
  {
   "cell_type": "code",
   "execution_count": 5,
   "metadata": {},
   "outputs": [
    {
     "data": {
      "text/html": [
       "<div>\n",
       "<style scoped>\n",
       "    .dataframe tbody tr th:only-of-type {\n",
       "        vertical-align: middle;\n",
       "    }\n",
       "\n",
       "    .dataframe tbody tr th {\n",
       "        vertical-align: top;\n",
       "    }\n",
       "\n",
       "    .dataframe thead th {\n",
       "        text-align: right;\n",
       "    }\n",
       "</style>\n",
       "<table border=\"1\" class=\"dataframe\">\n",
       "  <thead>\n",
       "    <tr style=\"text-align: right;\">\n",
       "      <th></th>\n",
       "      <th>calls</th>\n",
       "      <th>minutes</th>\n",
       "      <th>messages</th>\n",
       "      <th>mb_used</th>\n",
       "      <th>is_ultra</th>\n",
       "    </tr>\n",
       "  </thead>\n",
       "  <tbody>\n",
       "    <tr>\n",
       "      <th>count</th>\n",
       "      <td>3214.000000</td>\n",
       "      <td>3214.000000</td>\n",
       "      <td>3214.000000</td>\n",
       "      <td>3214.000000</td>\n",
       "      <td>3214.000000</td>\n",
       "    </tr>\n",
       "    <tr>\n",
       "      <th>mean</th>\n",
       "      <td>63.038892</td>\n",
       "      <td>438.208787</td>\n",
       "      <td>38.281269</td>\n",
       "      <td>17207.673836</td>\n",
       "      <td>0.306472</td>\n",
       "    </tr>\n",
       "    <tr>\n",
       "      <th>std</th>\n",
       "      <td>33.236368</td>\n",
       "      <td>234.569872</td>\n",
       "      <td>36.148326</td>\n",
       "      <td>7570.968246</td>\n",
       "      <td>0.461100</td>\n",
       "    </tr>\n",
       "    <tr>\n",
       "      <th>min</th>\n",
       "      <td>0.000000</td>\n",
       "      <td>0.000000</td>\n",
       "      <td>0.000000</td>\n",
       "      <td>0.000000</td>\n",
       "      <td>0.000000</td>\n",
       "    </tr>\n",
       "    <tr>\n",
       "      <th>25%</th>\n",
       "      <td>40.000000</td>\n",
       "      <td>274.575000</td>\n",
       "      <td>9.000000</td>\n",
       "      <td>12491.902500</td>\n",
       "      <td>0.000000</td>\n",
       "    </tr>\n",
       "    <tr>\n",
       "      <th>50%</th>\n",
       "      <td>62.000000</td>\n",
       "      <td>430.600000</td>\n",
       "      <td>30.000000</td>\n",
       "      <td>16943.235000</td>\n",
       "      <td>0.000000</td>\n",
       "    </tr>\n",
       "    <tr>\n",
       "      <th>75%</th>\n",
       "      <td>82.000000</td>\n",
       "      <td>571.927500</td>\n",
       "      <td>57.000000</td>\n",
       "      <td>21424.700000</td>\n",
       "      <td>1.000000</td>\n",
       "    </tr>\n",
       "    <tr>\n",
       "      <th>max</th>\n",
       "      <td>244.000000</td>\n",
       "      <td>1632.060000</td>\n",
       "      <td>224.000000</td>\n",
       "      <td>49745.730000</td>\n",
       "      <td>1.000000</td>\n",
       "    </tr>\n",
       "  </tbody>\n",
       "</table>\n",
       "</div>"
      ],
      "text/plain": [
       "             calls      minutes     messages       mb_used     is_ultra\n",
       "count  3214.000000  3214.000000  3214.000000   3214.000000  3214.000000\n",
       "mean     63.038892   438.208787    38.281269  17207.673836     0.306472\n",
       "std      33.236368   234.569872    36.148326   7570.968246     0.461100\n",
       "min       0.000000     0.000000     0.000000      0.000000     0.000000\n",
       "25%      40.000000   274.575000     9.000000  12491.902500     0.000000\n",
       "50%      62.000000   430.600000    30.000000  16943.235000     0.000000\n",
       "75%      82.000000   571.927500    57.000000  21424.700000     1.000000\n",
       "max     244.000000  1632.060000   224.000000  49745.730000     1.000000"
      ]
     },
     "execution_count": 5,
     "metadata": {},
     "output_type": "execute_result"
    }
   ],
   "source": [
    "df.describe()"
   ]
  },
  {
   "cell_type": "markdown",
   "metadata": {},
   "source": [
    "## Разбейте данные на выборки"
   ]
  },
  {
   "cell_type": "code",
   "execution_count": 6,
   "metadata": {},
   "outputs": [],
   "source": [
    "features=df.drop(columns=['is_ultra'])\n",
    "target=df['is_ultra']"
   ]
  },
  {
   "cell_type": "code",
   "execution_count": 7,
   "metadata": {},
   "outputs": [],
   "source": [
    "features_train, features_test, target_train, target_test = train_test_split(\n",
    "    features,target, test_size=0.2, random_state=12345)\n",
    "features_train, features_valid, target_train, target_valid = train_test_split(\n",
    "    features_train,target_train, test_size=0.25, random_state=12345)"
   ]
  },
  {
   "cell_type": "code",
   "execution_count": 8,
   "metadata": {},
   "outputs": [
    {
     "data": {
      "text/plain": [
       "[3214, 1928, 643, 643]"
      ]
     },
     "execution_count": 8,
     "metadata": {},
     "output_type": "execute_result"
    }
   ],
   "source": [
    "list(map(len,(features,features_train,features_valid,features_test)))"
   ]
  },
  {
   "cell_type": "code",
   "execution_count": 9,
   "metadata": {},
   "outputs": [
    {
     "data": {
      "text/plain": [
       "Index(['calls', 'minutes', 'messages', 'mb_used', 'is_ultra'], dtype='object')"
      ]
     },
     "execution_count": 9,
     "metadata": {},
     "output_type": "execute_result"
    }
   ],
   "source": [
    "df.columns"
   ]
  },
  {
   "cell_type": "markdown",
   "metadata": {},
   "source": [
    "В исходных данных всего 3214 записи. Мы сделали выборки со следущими размерами:\n",
    "- 1928 записей для обучения\n",
    "- 643 записей для валидации\n",
    "- 643 записи для тестирования\n",
    "\n",
    "Целевой признак (тариф) задан в колонке 'is_ultra' поэтому мы ее записываем в таблицу `target`,  а из данных данных по признакам `features` мы убираем эту колонку. \n",
    "\n",
    "И так, по признакам кол-во звонков 'calls', длительности разговоров 'minutes', кол-ву сообщений 'messages', и количество трафика интернет 'mb_used', мы строим модели предсказывающие целевой признак - тариф 'is_ultra`."
   ]
  },
  {
   "cell_type": "markdown",
   "metadata": {},
   "source": [
    "## Исследуйте модели"
   ]
  },
  {
   "cell_type": "markdown",
   "metadata": {},
   "source": [
    "Рассмотрим три модели : 'Решающее дерево', 'Случайный лес' и 'Логическая регресия' с произвольно выбранными параметрами"
   ]
  },
  {
   "cell_type": "code",
   "execution_count": 10,
   "metadata": {},
   "outputs": [],
   "source": [
    "model_1 = DecisionTreeClassifier(random_state=12345, max_depth=5)\n",
    "model_2 = RandomForestClassifier(random_state=12345, n_estimators=10, max_depth=5)\n",
    "model_3 = LogisticRegression(random_state=12345, solver='lbfgs', max_iter=800) \n",
    "models=[model_1,model_2,model_3]"
   ]
  },
  {
   "cell_type": "code",
   "execution_count": 11,
   "metadata": {},
   "outputs": [],
   "source": [
    "for m in models:\n",
    "    m.fit(features_train,target_train)\n",
    "predictions=[]\n",
    "scores=[]\n",
    "for m in models:\n",
    "    predictions.append(m.predict(features_test))\n",
    "    scores.append(m.score(features_valid,target_valid))"
   ]
  },
  {
   "cell_type": "markdown",
   "metadata": {},
   "source": [
    "Доля правильных ответов составляет для тех моделей дана в следущем списке:"
   ]
  },
  {
   "cell_type": "code",
   "execution_count": 12,
   "metadata": {},
   "outputs": [
    {
     "data": {
      "text/plain": [
       "[0.7589424572317263, 0.7776049766718507, 0.7262830482115086]"
      ]
     },
     "execution_count": 12,
     "metadata": {},
     "output_type": "execute_result"
    }
   ],
   "source": [
    "scores"
   ]
  },
  {
   "cell_type": "markdown",
   "metadata": {},
   "source": [
    "Далее рассмотрим детально каждую можель по отдельности:"
   ]
  },
  {
   "cell_type": "markdown",
   "metadata": {},
   "source": [
    "### Дерево решений - Decision Tree   "
   ]
  },
  {
   "cell_type": "code",
   "execution_count": 13,
   "metadata": {},
   "outputs": [
    {
     "name": "stdout",
     "output_type": "stream",
     "text": [
      "Кол-во моделей равно  444\n"
     ]
    }
   ],
   "source": [
    "depth_list=range(1,38)\n",
    "criterion_list=['gini', 'entropy']  #, 'log_loss']\n",
    "min_samples_leaf_list=range(1,7)\n",
    "hyperpareter_list=[(c,d,m) for c in criterion_list for d in depth_list for m in min_samples_leaf_list]\n",
    "#print(len(criterion_list),len(depth_list),len(min_samples_leaf_list))\n",
    "print('Кол-во моделей равно ', len(hyperpareter_list))"
   ]
  },
  {
   "cell_type": "code",
   "execution_count": 14,
   "metadata": {},
   "outputs": [],
   "source": [
    "predictions=[]\n",
    "scores=[]\n",
    "for criterion, depth, leaf in hyperpareter_list:\n",
    "    model = DecisionTreeClassifier(random_state=12345, max_depth=depth,criterion=criterion,min_samples_leaf=leaf)\n",
    "    model.fit(features_train,target_train)\n",
    "    predictions.append(model.predict(features_test))\n",
    "    scores.append(model.score(features_valid,target_valid))"
   ]
  },
  {
   "cell_type": "code",
   "execution_count": 15,
   "metadata": {},
   "outputs": [
    {
     "name": "stdout",
     "output_type": "stream",
     "text": [
      "Best criteria, depth, min_samples_leaf are ('entropy', 8, 6)\n",
      "Best score value 0.7931570762052877\n"
     ]
    }
   ],
   "source": [
    "print('Best criteria, depth, min_samples_leaf are', hyperpareter_list[scores.index(max(scores))])\n",
    "print('Best score value', max(scores))"
   ]
  },
  {
   "cell_type": "markdown",
   "metadata": {},
   "source": [
    "Мы расмотрели 444 моделей варьируя три гиперпараметра - максимальную глубину деревьев, критерий и минимальное число ветвлений."
   ]
  },
  {
   "cell_type": "markdown",
   "metadata": {},
   "source": [
    "### Random Forest"
   ]
  },
  {
   "cell_type": "code",
   "execution_count": 16,
   "metadata": {},
   "outputs": [],
   "source": [
    "n_est_list=list(range(1,5))+list(range(5,41,2))\n",
    "depth_list=range(1,26,2)\n",
    "hyperpareter_list=[(est,depth) for est in n_est_list for depth in depth_list]"
   ]
  },
  {
   "cell_type": "code",
   "execution_count": 17,
   "metadata": {},
   "outputs": [
    {
     "data": {
      "text/plain": [
       "{'criterion': 'gini',\n",
       " 'max_depth': 9,\n",
       " 'max_features': 'auto',\n",
       " 'n_estimators': 35}"
      ]
     },
     "execution_count": 17,
     "metadata": {},
     "output_type": "execute_result"
    }
   ],
   "source": [
    "parameters_grid = { \n",
    "    'n_estimators': [1,5,35],  #n_est_list\n",
    "    'max_features': ['auto', 'sqrt', 'log2'],\n",
    "    'max_depth' : [1,3,9,12],  #depth_list,\n",
    "    'criterion' :['gini', 'entropy']\n",
    "}\n",
    "\n",
    "model = RandomForestClassifier(random_state=12345)\n",
    "cv_forest = GridSearchCV(estimator=model, param_grid=parameters_grid , cv= 5)\n",
    "cv_forest.fit(features_train,target_train)\n",
    "cv_forest.best_params_"
   ]
  },
  {
   "cell_type": "code",
   "execution_count": 18,
   "metadata": {},
   "outputs": [],
   "source": [
    "best_param_forest={'criterion': 'gini',\n",
    "     'max_depth': 9,\n",
    "     'max_features': 'auto',\n",
    "     'n_estimators': 35};"
   ]
  },
  {
   "cell_type": "code",
   "execution_count": 19,
   "metadata": {},
   "outputs": [
    {
     "name": "stdout",
     "output_type": "stream",
     "text": [
      "Точность модели на обучающей выборке составляет:  0.7947122861586314\n"
     ]
    }
   ],
   "source": [
    "model_forest = RandomForestClassifier(random_state=12345,**best_param_forest) #**p)\n",
    "model_forest.fit(features_train,target_train)\n",
    "print('Точность модели на обучающей выборке составляет: ', model_forest.score(features_test,target_test))"
   ]
  },
  {
   "cell_type": "code",
   "execution_count": 20,
   "metadata": {},
   "outputs": [],
   "source": [
    "predictions=[]\n",
    "scores=[]\n",
    "for est, depth in hyperpareter_list:\n",
    "    model = RandomForestClassifier(random_state=12345,\n",
    "                                   n_estimators=est, max_depth=depth,\n",
    "                                   criterion='gini', \n",
    "                                   max_features='auto')\n",
    "    model.fit(features_train,target_train)\n",
    "    predictions.append(model.predict(features_test))\n",
    "    scores.append(model.score(features_valid,target_valid))"
   ]
  },
  {
   "cell_type": "code",
   "execution_count": 21,
   "metadata": {},
   "outputs": [],
   "source": [
    "H=np.reshape(scores, (len(n_est_list), len(depth_list)))"
   ]
  },
  {
   "cell_type": "code",
   "execution_count": 22,
   "metadata": {},
   "outputs": [
    {
     "data": {
      "image/png": "[encoded data removed]",
      "text/plain": [
       "<Figure size 1800x720 with 2 Axes>"
      ]
     },
     "metadata": {},
     "output_type": "display_data"
    }
   ],
   "source": [
    "sns.set(font_scale=2.1)\n",
    "fig, ax = plt.subplots(figsize=(25,10)) \n",
    "sns.heatmap(H, annot=True,  annot_kws={\"size\": 20}, yticklabels=list(n_est_list),xticklabels=list(depth_list))\n",
    "plt.ylabel('кол-во деревьев');\n",
    "plt.xlabel('максимальная глубина');\n",
    "ax.set_title('Точность модели на валидационной выборке в зависимости от гиперпараметров');"
   ]
  },
  {
   "cell_type": "markdown",
   "metadata": {},
   "source": [
    "И так мы рассмотрели четырехпараметрическое множество моделей варьируя глубину, кол-во деревьев, критерий оценки и максимальное кол-во празнаков. Оптимальные значения даны ниже"
   ]
  },
  {
   "cell_type": "code",
   "execution_count": 23,
   "metadata": {},
   "outputs": [
    {
     "data": {
      "text/plain": [
       "{'criterion': 'gini',\n",
       " 'max_depth': 9,\n",
       " 'max_features': 'auto',\n",
       " 'n_estimators': 35}"
      ]
     },
     "execution_count": 23,
     "metadata": {},
     "output_type": "execute_result"
    }
   ],
   "source": [
    "cv_forest.best_params_"
   ]
  },
  {
   "cell_type": "code",
   "execution_count": 24,
   "metadata": {},
   "outputs": [
    {
     "name": "stdout",
     "output_type": "stream",
     "text": [
      "Точность модели на обучающей выборке составляет:  0.7947122861586314\n"
     ]
    }
   ],
   "source": [
    "model_forest = RandomForestClassifier(random_state=12345,**cv_forest.best_params_) #**p)\n",
    "model_forest.fit(features_train,target_train)\n",
    "print('Точность модели на обучающей выборке составляет: ', model_forest.score(features_test,target_test))"
   ]
  },
  {
   "cell_type": "markdown",
   "metadata": {},
   "source": [
    "### Logistic Regression"
   ]
  },
  {
   "cell_type": "code",
   "execution_count": 25,
   "metadata": {},
   "outputs": [
    {
     "name": "stdout",
     "output_type": "stream",
     "text": [
      "5 15\n"
     ]
    }
   ],
   "source": [
    "solver_list=['newton-cg',\n",
    "             'lbfgs', 'liblinear', 'sag', 'saga']\n",
    "max_iter_list=list(range(1,101,10))+list(range(200,1001,200)) #+list(range(2000,10001,1000))\n",
    "hyperpareter_list=[(s,m) for s in solver_list for m in max_iter_list]\n",
    "print(len(solver_list),len(max_iter_list))"
   ]
  },
  {
   "cell_type": "markdown",
   "metadata": {},
   "source": [
    "{'lbfgs':['l2', None],'liblinear':['l1', 'l2'], 'newton-cg':['l2', None],'newton-cholesky':['l2', None],\n",
    "'sag':['l2', None],'saga':['elasticnet', 'l1', 'l2', None]}"
   ]
  },
  {
   "cell_type": "code",
   "execution_count": 26,
   "metadata": {},
   "outputs": [
    {
     "data": {
      "text/plain": [
       "75"
      ]
     },
     "execution_count": 26,
     "metadata": {},
     "output_type": "execute_result"
    }
   ],
   "source": [
    "len(hyperpareter_list)"
   ]
  },
  {
   "cell_type": "markdown",
   "metadata": {},
   "source": [
    "pip install optuna/ import optuna/from sklearn.model_selection import cross_val_score"
   ]
  },
  {
   "cell_type": "code",
   "execution_count": 27,
   "metadata": {},
   "outputs": [],
   "source": [
    "import warnings\n",
    "warnings.filterwarnings('ignore')\n",
    "#warnings.filterwarnings('always')"
   ]
  },
  {
   "cell_type": "code",
   "execution_count": 28,
   "metadata": {},
   "outputs": [
    {
     "data": {
      "text/plain": [
       "{'C': 0.1, 'max_iter': 51, 'solver': 'newton-cg'}"
      ]
     },
     "execution_count": 28,
     "metadata": {},
     "output_type": "execute_result"
    }
   ],
   "source": [
    "parameters_grid = {\n",
    "    'solver' : solver_list,\n",
    "    'max_iter' : max_iter_list,\n",
    "    #'penalty': ['l1','l2'], 'C': [0.001,0.01,0.1,1,10,100,1000]\n",
    "    #'penalty': ['l1','l2'], \n",
    "    'C': [0.1,1,10]\n",
    "}\n",
    "\n",
    "model = LogisticRegression(random_state=12345)\n",
    "cv_log_reg = GridSearchCV(estimator=model, param_grid=parameters_grid , cv= 5)\n",
    "cv_log_reg.fit(features_train,target_train)\n",
    "cv_log_reg.best_params_"
   ]
  },
  {
   "cell_type": "code",
   "execution_count": 30,
   "metadata": {},
   "outputs": [],
   "source": [
    "best_params_log_reg={'C': 0.1, 'max_iter': 51, 'solver': 'newton-cg'}"
   ]
  },
  {
   "cell_type": "code",
   "execution_count": 31,
   "metadata": {},
   "outputs": [
    {
     "name": "stdout",
     "output_type": "stream",
     "text": [
      "Точность модели на обучающей выборке составляет:  0.7510373443983402\n",
      "Точность модели на валидационной выборке составляет:  0.7278382581648523\n",
      "Точность модели на тестовой выборке составляет:  0.76049766718507\n"
     ]
    }
   ],
   "source": [
    "model_log_reg = LogisticRegression(random_state=12345,**cv_log_reg.best_params_) #**p)\n",
    "model_log_reg.fit(features_train,target_train)\n",
    "print('Точность модели на обучающей выборке составляет: ', model_log_reg.score(features_train,target_train))\n",
    "print('Точность модели на валидационной выборке составляет: ',model_log_reg.score(features_valid,target_valid))\n",
    "print('Точность модели на тестовой выборке составляет: ',model_log_reg.score(features_test,target_test))"
   ]
  },
  {
   "cell_type": "code",
   "execution_count": 32,
   "metadata": {},
   "outputs": [],
   "source": [
    "predictions=[]\n",
    "scores=[]\n",
    "for solver, m_i in hyperpareter_list:\n",
    "    model = LogisticRegression(random_state=12345, C=0.1, solver=solver, max_iter=m_i) \n",
    "    model.fit(features_train,target_train)\n",
    "    predictions.append(model.predict(features_test))\n",
    "    scores.append(model.score(features_valid,target_valid))"
   ]
  },
  {
   "cell_type": "code",
   "execution_count": 33,
   "metadata": {},
   "outputs": [],
   "source": [
    "H=np.reshape(scores, (len(solver_list),len(max_iter_list)))"
   ]
  },
  {
   "cell_type": "code",
   "execution_count": 34,
   "metadata": {},
   "outputs": [
    {
     "data": {
      "image/png": "[encoded data removed]",
      "text/plain": [
       "<Figure size 2160x504 with 2 Axes>"
      ]
     },
     "metadata": {},
     "output_type": "display_data"
    }
   ],
   "source": [
    "sns.set(font_scale=2.1)\n",
    "fig, ax = plt.subplots(figsize=(30,7)) \n",
    "sns.heatmap(H, annot=True,  annot_kws={\"size\": 20}, yticklabels=solver_list,xticklabels=max_iter_list, linewidths=.5)\n",
    "plt.ylabel('solver');\n",
    "plt.xlabel('Максимальное число итераций');\n",
    "ax.set_title('Точность модели на валидационной выборке в зависимости от гиперпараметров')\n",
    "plt.show()"
   ]
  },
  {
   "cell_type": "code",
   "execution_count": 35,
   "metadata": {},
   "outputs": [
    {
     "data": {
      "text/plain": [
       "{'C': 0.1, 'max_iter': 51, 'solver': 'newton-cg'}"
      ]
     },
     "execution_count": 35,
     "metadata": {},
     "output_type": "execute_result"
    }
   ],
   "source": [
    "cv_log_reg.best_params_"
   ]
  },
  {
   "cell_type": "markdown",
   "metadata": {},
   "source": [
    "Мы проварьировали тип решателя 'solver', максимальное кол-во итераций и обратную силу регулизации. Наиточнейший результат показал решатель 'newton-cg' c максимальным числом итераций 51. В целом модели 'newton-cg' и 'lbfgs' показывают схожие результаты с кол-вом макс. итераций выше 71. Параметр обратной силы регулязации `C` равен 0.1."
   ]
  },
  {
   "cell_type": "markdown",
   "metadata": {},
   "source": [
    "## Проверьте модель на тестовой выборке"
   ]
  },
  {
   "cell_type": "code",
   "execution_count": 36,
   "metadata": {},
   "outputs": [],
   "source": [
    "model = DecisionTreeClassifier(random_state=12345,criterion = 'entropy', max_depth=8, min_samples_leaf= 7)\n",
    "model.fit(features_train,target_train)\n",
    "predictions.append(model.predict(features_test))\n",
    "model_1_score=model.score(features_test,target_test)"
   ]
  },
  {
   "cell_type": "code",
   "execution_count": 37,
   "metadata": {},
   "outputs": [],
   "source": [
    "model = RandomForestClassifier(random_state=12345, **best_param_forest) \n",
    "model.fit(features_train,target_train)\n",
    "predictions.append(model.predict(features_test))\n",
    "model_2_score=model.score(features_test,target_test)"
   ]
  },
  {
   "cell_type": "code",
   "execution_count": 38,
   "metadata": {},
   "outputs": [],
   "source": [
    "model = LogisticRegression(random_state=12345, **best_params_log_reg) \n",
    "model.fit(features_train,target_train)\n",
    "predictions.append(model.predict(features_test))\n",
    "model_3_score = model.score(features_test,target_test)"
   ]
  },
  {
   "cell_type": "code",
   "execution_count": 39,
   "metadata": {},
   "outputs": [
    {
     "name": "stdout",
     "output_type": "stream",
     "text": [
      "Доля правильных результатов для отобранных моделей :\n",
      "Решающее дерево: 0.7853810264385692\n",
      "Случайный лес: 0.7947122861586314\n",
      "Логическая регресиия: 0.76049766718507\n"
     ]
    }
   ],
   "source": [
    "print('Доля правильных результатов для отобранных моделей :')\n",
    "print('Решающее дерево:', model_1_score)\n",
    "print('Случайный лес:', model_2_score)\n",
    "print('Логическая регресиия:', model_3_score)"
   ]
  },
  {
   "cell_type": "markdown",
   "metadata": {},
   "source": [
    "Выводы: \n",
    "- мы разбили данные на три части: тестовую, валидационную и на тренивовочную выборку\n",
    "- рассмотрели три класа моделей\n",
    "- для каждой модели мы проварьвовали гиперпараметры и наши опитимальный. \n",
    "- получили три модели который предсказывают результат с точностью 75 -79%"
   ]
  },
  {
   "cell_type": "markdown",
   "metadata": {},
   "source": [
    "## (бонус) Проверьте модели на адекватность"
   ]
  },
  {
   "cell_type": "code",
   "execution_count": 40,
   "metadata": {},
   "outputs": [
    {
     "data": {
      "text/plain": [
       "0.693528313627878"
      ]
     },
     "execution_count": 40,
     "metadata": {},
     "output_type": "execute_result"
    }
   ],
   "source": [
    "1-df['is_ultra'].mean()"
   ]
  },
  {
   "cell_type": "code",
   "execution_count": 41,
   "metadata": {},
   "outputs": [
    {
     "data": {
      "text/plain": [
       "0.6951788491446345"
      ]
     },
     "execution_count": 41,
     "metadata": {},
     "output_type": "execute_result"
    }
   ],
   "source": [
    "1-target_test.mean()"
   ]
  },
  {
   "cell_type": "markdown",
   "metadata": {},
   "source": [
    "Доля тарифа 'Смарт' в данных составляет ~70%. Таким образом наипростейшая адекватная модель будет всегда предсказывать наиболее частый результат бинарной классификации с точностью ~70%. Т.е. любая модель с меньшей точностью заведома не адекватна. *Построенные модели адекватны поскольку их точность выше 70% и составляет ~76-80% .*"
   ]
  },
  {
   "cell_type": "markdown",
   "metadata": {},
   "source": [
    "Спасибо за ссылки и замечания!"
   ]
  },
  {
   "cell_type": "markdown",
   "metadata": {},
   "source": [
    "## Чек-лист готовности проекта"
   ]
  },
  {
   "cell_type": "markdown",
   "metadata": {},
   "source": [
    "Поставьте 'x' в выполненных пунктах. Далее нажмите Shift+Enter."
   ]
  },
  {
   "cell_type": "markdown",
   "metadata": {},
   "source": [
    "- [x] Jupyter Notebook открыт\n",
    "- [x] Весь код исполняется без ошибок\n",
    "- [x] Ячейки с кодом расположены в порядке исполнения\n",
    "- [x] Выполнено задание 1: данные загружены и изучены\n",
    "- [x] Выполнено задание 2: данные разбиты на три выборки\n",
    "- [x] Выполнено задание 3: проведено исследование моделей\n",
    "    - [x] Рассмотрено больше одной модели\n",
    "    - [x] Рассмотрено хотя бы 3 значения гипепараметров для какой-нибудь модели\n",
    "    - [x] Написаны выводы по результатам исследования\n",
    "- [x] Выполнено задание 3: Проведено тестирование\n",
    "- [x] Удалось достичь accuracy не меньше 0.75\n"
   ]
  }
 ],
 "metadata": {
  "ExecuteTimeLog": [
   {
    "duration": 406,
    "start_time": "2023-05-08T12:27:53.896Z"
   },
   {
    "duration": 60,
    "start_time": "2023-05-08T12:27:54.593Z"
   },
   {
    "duration": 17,
    "start_time": "2023-05-08T12:28:00.074Z"
   },
   {
    "duration": 12,
    "start_time": "2023-05-08T12:30:47.009Z"
   },
   {
    "duration": 10,
    "start_time": "2023-05-08T12:31:01.002Z"
   },
   {
    "duration": 24,
    "start_time": "2023-05-08T12:31:04.506Z"
   },
   {
    "duration": 989,
    "start_time": "2023-05-09T05:06:57.264Z"
   },
   {
    "duration": 166,
    "start_time": "2023-05-09T05:06:59.345Z"
   },
   {
    "duration": 96,
    "start_time": "2023-05-09T05:09:11.316Z"
   },
   {
    "duration": 118,
    "start_time": "2023-05-09T05:09:15.966Z"
   },
   {
    "duration": 18,
    "start_time": "2023-05-09T05:09:16.086Z"
   },
   {
    "duration": 28,
    "start_time": "2023-05-09T05:09:16.105Z"
   },
   {
    "duration": 34,
    "start_time": "2023-05-09T05:09:16.135Z"
   },
   {
    "duration": 9,
    "start_time": "2023-05-09T05:09:17.595Z"
   },
   {
    "duration": 4,
    "start_time": "2023-05-09T05:10:04.030Z"
   },
   {
    "duration": 359,
    "start_time": "2023-05-09T05:11:55.248Z"
   },
   {
    "duration": 98,
    "start_time": "2023-05-09T05:11:57.792Z"
   },
   {
    "duration": 196,
    "start_time": "2023-05-09T05:12:00.808Z"
   },
   {
    "duration": 102,
    "start_time": "2023-05-09T05:12:06.672Z"
   },
   {
    "duration": 11,
    "start_time": "2023-05-09T05:12:15.310Z"
   },
   {
    "duration": 6,
    "start_time": "2023-05-09T05:12:34.099Z"
   },
   {
    "duration": 10,
    "start_time": "2023-05-09T05:12:45.301Z"
   },
   {
    "duration": 5,
    "start_time": "2023-05-09T05:12:49.768Z"
   },
   {
    "duration": 7,
    "start_time": "2023-05-09T05:13:35.487Z"
   },
   {
    "duration": 4,
    "start_time": "2023-05-09T05:13:45.751Z"
   },
   {
    "duration": 7,
    "start_time": "2023-05-09T05:13:46.142Z"
   },
   {
    "duration": 3,
    "start_time": "2023-05-09T05:14:04.597Z"
   },
   {
    "duration": 4,
    "start_time": "2023-05-09T05:23:33.024Z"
   },
   {
    "duration": 3,
    "start_time": "2023-05-09T05:24:36.074Z"
   },
   {
    "duration": 4,
    "start_time": "2023-05-09T05:24:40.887Z"
   },
   {
    "duration": 7,
    "start_time": "2023-05-09T05:26:23.133Z"
   },
   {
    "duration": 6,
    "start_time": "2023-05-09T05:26:26.698Z"
   },
   {
    "duration": 4,
    "start_time": "2023-05-09T05:26:27.651Z"
   },
   {
    "duration": 8,
    "start_time": "2023-05-09T05:26:29.282Z"
   },
   {
    "duration": 4,
    "start_time": "2023-05-09T05:26:29.575Z"
   },
   {
    "duration": 4,
    "start_time": "2023-05-09T05:26:31.452Z"
   },
   {
    "duration": 7,
    "start_time": "2023-05-09T05:26:31.804Z"
   },
   {
    "duration": 4,
    "start_time": "2023-05-09T05:26:32.599Z"
   },
   {
    "duration": 9,
    "start_time": "2023-05-09T05:26:38.670Z"
   },
   {
    "duration": 13,
    "start_time": "2023-05-09T05:26:39.580Z"
   },
   {
    "duration": 8,
    "start_time": "2023-05-09T05:26:55.573Z"
   },
   {
    "duration": 5,
    "start_time": "2023-05-09T05:26:56.229Z"
   },
   {
    "duration": 9,
    "start_time": "2023-05-09T05:29:45.800Z"
   },
   {
    "duration": 3,
    "start_time": "2023-05-09T05:29:59.975Z"
   },
   {
    "duration": 10,
    "start_time": "2023-05-09T05:30:09.495Z"
   },
   {
    "duration": 11,
    "start_time": "2023-05-09T05:30:26.827Z"
   },
   {
    "duration": 3,
    "start_time": "2023-05-09T05:30:33.476Z"
   },
   {
    "duration": 3,
    "start_time": "2023-05-09T05:31:00.184Z"
   },
   {
    "duration": 52,
    "start_time": "2023-05-09T05:31:27.770Z"
   },
   {
    "duration": 66,
    "start_time": "2023-05-09T05:33:58.915Z"
   },
   {
    "duration": 59,
    "start_time": "2023-05-09T05:34:05.208Z"
   },
   {
    "duration": 4,
    "start_time": "2023-05-09T05:34:08.840Z"
   },
   {
    "duration": 6,
    "start_time": "2023-05-09T05:35:37.500Z"
   },
   {
    "duration": 7,
    "start_time": "2023-05-09T05:35:49.022Z"
   },
   {
    "duration": 4,
    "start_time": "2023-05-09T05:36:01.601Z"
   },
   {
    "duration": 70,
    "start_time": "2023-05-09T05:36:01.957Z"
   },
   {
    "duration": 4,
    "start_time": "2023-05-09T05:36:02.831Z"
   },
   {
    "duration": 3,
    "start_time": "2023-05-09T05:40:30.535Z"
   },
   {
    "duration": 58,
    "start_time": "2023-05-09T05:40:30.912Z"
   },
   {
    "duration": 3,
    "start_time": "2023-05-09T05:40:31.293Z"
   },
   {
    "duration": 95,
    "start_time": "2023-05-09T05:45:42.641Z"
   },
   {
    "duration": 4,
    "start_time": "2023-05-09T05:46:46.791Z"
   },
   {
    "duration": 4,
    "start_time": "2023-05-09T05:46:49.988Z"
   },
   {
    "duration": 5,
    "start_time": "2023-05-09T05:50:05.591Z"
   },
   {
    "duration": 86,
    "start_time": "2023-05-09T05:50:05.948Z"
   },
   {
    "duration": 4,
    "start_time": "2023-05-09T05:50:06.318Z"
   },
   {
    "duration": 46,
    "start_time": "2023-05-09T15:58:24.363Z"
   },
   {
    "duration": 1009,
    "start_time": "2023-05-09T15:58:40.542Z"
   },
   {
    "duration": 128,
    "start_time": "2023-05-09T15:58:41.553Z"
   },
   {
    "duration": 15,
    "start_time": "2023-05-09T15:58:41.682Z"
   },
   {
    "duration": 11,
    "start_time": "2023-05-09T15:58:41.698Z"
   },
   {
    "duration": 17,
    "start_time": "2023-05-09T15:58:41.710Z"
   },
   {
    "duration": 3,
    "start_time": "2023-05-09T15:58:41.728Z"
   },
   {
    "duration": 8,
    "start_time": "2023-05-09T15:58:41.732Z"
   },
   {
    "duration": 5,
    "start_time": "2023-05-09T15:58:41.741Z"
   },
   {
    "duration": 4,
    "start_time": "2023-05-09T15:58:41.747Z"
   },
   {
    "duration": 54,
    "start_time": "2023-05-09T15:58:41.753Z"
   },
   {
    "duration": 4,
    "start_time": "2023-05-09T15:58:41.808Z"
   },
   {
    "duration": 95,
    "start_time": "2023-05-09T15:58:43.248Z"
   },
   {
    "duration": 12,
    "start_time": "2023-05-09T15:58:52.038Z"
   },
   {
    "duration": 30,
    "start_time": "2023-05-09T15:59:17.679Z"
   },
   {
    "duration": 3,
    "start_time": "2023-05-09T15:59:27.958Z"
   },
   {
    "duration": 30,
    "start_time": "2023-05-09T16:00:43.404Z"
   },
   {
    "duration": 3,
    "start_time": "2023-05-09T16:00:44.234Z"
   },
   {
    "duration": 30,
    "start_time": "2023-05-09T16:00:48.518Z"
   },
   {
    "duration": 3,
    "start_time": "2023-05-09T16:00:49.026Z"
   },
   {
    "duration": 60,
    "start_time": "2023-05-09T16:00:59.848Z"
   },
   {
    "duration": 3,
    "start_time": "2023-05-09T16:01:00.414Z"
   },
   {
    "duration": 41,
    "start_time": "2023-05-09T16:01:36.001Z"
   },
   {
    "duration": 3,
    "start_time": "2023-05-09T16:01:36.844Z"
   },
   {
    "duration": 6,
    "start_time": "2023-05-09T16:03:47.454Z"
   },
   {
    "duration": 2,
    "start_time": "2023-05-09T16:04:11.003Z"
   },
   {
    "duration": 10858,
    "start_time": "2023-05-09T16:04:36.134Z"
   },
   {
    "duration": 4,
    "start_time": "2023-05-09T16:04:54.093Z"
   },
   {
    "duration": 3,
    "start_time": "2023-05-09T16:06:25.301Z"
   },
   {
    "duration": 7,
    "start_time": "2023-05-09T16:06:45.868Z"
   },
   {
    "duration": 2,
    "start_time": "2023-05-09T16:07:01.306Z"
   },
   {
    "duration": 4,
    "start_time": "2023-05-09T16:07:01.648Z"
   },
   {
    "duration": 9,
    "start_time": "2023-05-09T16:08:35.288Z"
   },
   {
    "duration": 362,
    "start_time": "2023-05-09T16:09:09.698Z"
   },
   {
    "duration": 5,
    "start_time": "2023-05-09T16:09:10.062Z"
   },
   {
    "duration": 28,
    "start_time": "2023-05-09T16:09:10.351Z"
   },
   {
    "duration": 3,
    "start_time": "2023-05-09T16:09:17.204Z"
   },
   {
    "duration": 94,
    "start_time": "2023-05-09T16:09:17.686Z"
   },
   {
    "duration": 94,
    "start_time": "2023-05-09T16:09:25.065Z"
   },
   {
    "duration": 106,
    "start_time": "2023-05-09T16:10:05.626Z"
   },
   {
    "duration": 180,
    "start_time": "2023-05-09T16:10:28.863Z"
   },
   {
    "duration": 90,
    "start_time": "2023-05-09T16:12:01.169Z"
   },
   {
    "duration": 168,
    "start_time": "2023-05-09T16:12:12.465Z"
   },
   {
    "duration": 4,
    "start_time": "2023-05-09T16:13:50.403Z"
   },
   {
    "duration": 162,
    "start_time": "2023-05-09T16:13:55.857Z"
   },
   {
    "duration": 200,
    "start_time": "2023-05-09T16:14:09.031Z"
   },
   {
    "duration": 162,
    "start_time": "2023-05-09T16:14:20.253Z"
   },
   {
    "duration": 165,
    "start_time": "2023-05-09T16:16:23.600Z"
   },
   {
    "duration": 162,
    "start_time": "2023-05-09T16:16:33.350Z"
   },
   {
    "duration": 276,
    "start_time": "2023-05-09T16:16:50.811Z"
   },
   {
    "duration": 52,
    "start_time": "2023-05-09T16:19:57.572Z"
   },
   {
    "duration": 39,
    "start_time": "2023-05-09T16:20:07.689Z"
   },
   {
    "duration": 197,
    "start_time": "2023-05-09T16:20:10.172Z"
   },
   {
    "duration": 3,
    "start_time": "2023-05-09T16:20:41.634Z"
   },
   {
    "duration": 2,
    "start_time": "2023-05-09T16:21:00.254Z"
   },
   {
    "duration": 211,
    "start_time": "2023-05-09T16:21:00.726Z"
   },
   {
    "duration": 238,
    "start_time": "2023-05-09T16:21:08.446Z"
   },
   {
    "duration": 67,
    "start_time": "2023-05-09T16:23:12.915Z"
   },
   {
    "duration": 3,
    "start_time": "2023-05-09T16:23:31.712Z"
   },
   {
    "duration": 11515,
    "start_time": "2023-05-09T16:23:32.230Z"
   },
   {
    "duration": 3,
    "start_time": "2023-05-09T16:23:43.747Z"
   },
   {
    "duration": 3,
    "start_time": "2023-05-09T16:23:47.746Z"
   },
   {
    "duration": 58,
    "start_time": "2023-05-09T16:23:53.388Z"
   },
   {
    "duration": 4,
    "start_time": "2023-05-09T16:24:05.408Z"
   },
   {
    "duration": 4,
    "start_time": "2023-05-09T16:24:24.655Z"
   },
   {
    "duration": 7,
    "start_time": "2023-05-09T16:24:31.670Z"
   },
   {
    "duration": 91,
    "start_time": "2023-05-09T16:25:10.903Z"
   },
   {
    "duration": 90,
    "start_time": "2023-05-09T16:28:26.363Z"
   },
   {
    "duration": 93,
    "start_time": "2023-05-09T16:28:31.635Z"
   },
   {
    "duration": 3,
    "start_time": "2023-05-09T16:28:48.795Z"
   },
   {
    "duration": 6732,
    "start_time": "2023-05-09T16:28:49.245Z"
   },
   {
    "duration": 3,
    "start_time": "2023-05-09T16:28:55.986Z"
   },
   {
    "duration": 17,
    "start_time": "2023-05-09T16:28:55.991Z"
   },
   {
    "duration": 4,
    "start_time": "2023-05-09T16:28:56.010Z"
   },
   {
    "duration": 3,
    "start_time": "2023-05-09T16:29:03.359Z"
   },
   {
    "duration": 3,
    "start_time": "2023-05-09T16:29:10.903Z"
   },
   {
    "duration": 60,
    "start_time": "2023-05-09T16:29:16.943Z"
   },
   {
    "duration": 4,
    "start_time": "2023-05-09T16:29:24.146Z"
   },
   {
    "duration": 94,
    "start_time": "2023-05-09T16:31:00.201Z"
   },
   {
    "duration": 92,
    "start_time": "2023-05-09T16:31:19.268Z"
   },
   {
    "duration": 117,
    "start_time": "2023-05-09T16:31:27.440Z"
   },
   {
    "duration": 105,
    "start_time": "2023-05-09T16:31:45.804Z"
   },
   {
    "duration": 3,
    "start_time": "2023-05-09T16:32:02.135Z"
   },
   {
    "duration": 3,
    "start_time": "2023-05-09T16:32:02.605Z"
   },
   {
    "duration": 193,
    "start_time": "2023-05-09T16:32:08.729Z"
   },
   {
    "duration": 109,
    "start_time": "2023-05-09T16:32:49.392Z"
   },
   {
    "duration": 105,
    "start_time": "2023-05-09T16:34:08.546Z"
   },
   {
    "duration": 102,
    "start_time": "2023-05-09T16:34:15.421Z"
   },
   {
    "duration": 91,
    "start_time": "2023-05-09T16:35:24.266Z"
   },
   {
    "duration": 3,
    "start_time": "2023-05-09T16:35:56.058Z"
   },
   {
    "duration": 3,
    "start_time": "2023-05-09T16:35:56.914Z"
   },
   {
    "duration": 4,
    "start_time": "2023-05-09T16:35:57.411Z"
   },
   {
    "duration": 105,
    "start_time": "2023-05-09T16:35:57.823Z"
   },
   {
    "duration": 97,
    "start_time": "2023-05-09T16:36:04.112Z"
   },
   {
    "duration": 8,
    "start_time": "2023-05-09T16:37:05.700Z"
   },
   {
    "duration": 49,
    "start_time": "2023-05-09T16:37:29.583Z"
   },
   {
    "duration": 533,
    "start_time": "2023-05-09T16:37:31.490Z"
   },
   {
    "duration": 503,
    "start_time": "2023-05-09T16:43:22.058Z"
   },
   {
    "duration": 506,
    "start_time": "2023-05-09T16:46:37.448Z"
   },
   {
    "duration": 392,
    "start_time": "2023-05-09T16:46:43.691Z"
   },
   {
    "duration": 123,
    "start_time": "2023-05-09T16:56:04.600Z"
   },
   {
    "duration": 4,
    "start_time": "2023-05-09T16:56:10.413Z"
   },
   {
    "duration": 437,
    "start_time": "2023-05-09T16:56:22.785Z"
   },
   {
    "duration": 4,
    "start_time": "2023-05-09T16:56:23.386Z"
   },
   {
    "duration": 5,
    "start_time": "2023-05-09T16:58:56.665Z"
   },
   {
    "duration": 3,
    "start_time": "2023-05-09T16:59:33.496Z"
   },
   {
    "duration": 10,
    "start_time": "2023-05-09T16:59:42.836Z"
   },
   {
    "duration": 8,
    "start_time": "2023-05-09T16:59:46.913Z"
   },
   {
    "duration": 3,
    "start_time": "2023-05-09T16:59:53.027Z"
   },
   {
    "duration": 4,
    "start_time": "2023-05-09T17:00:19.787Z"
   },
   {
    "duration": 3,
    "start_time": "2023-05-09T17:00:23.462Z"
   },
   {
    "duration": 3085,
    "start_time": "2023-05-09T17:00:47.017Z"
   },
   {
    "duration": 4,
    "start_time": "2023-05-09T17:00:53.933Z"
   },
   {
    "duration": 2,
    "start_time": "2023-05-09T17:02:15.721Z"
   },
   {
    "duration": 304,
    "start_time": "2023-05-09T17:02:26.099Z"
   },
   {
    "duration": 46,
    "start_time": "2023-05-09T17:02:59.794Z"
   },
   {
    "duration": 278,
    "start_time": "2023-05-09T17:03:11.613Z"
   },
   {
    "duration": 213,
    "start_time": "2023-05-09T17:03:42.630Z"
   },
   {
    "duration": 4,
    "start_time": "2023-05-09T17:04:15.138Z"
   },
   {
    "duration": 3,
    "start_time": "2023-05-09T17:04:19.364Z"
   },
   {
    "duration": 14490,
    "start_time": "2023-05-09T17:04:21.094Z"
   },
   {
    "duration": 3,
    "start_time": "2023-05-09T17:04:48.017Z"
   },
   {
    "duration": 497,
    "start_time": "2023-05-09T17:04:48.734Z"
   },
   {
    "duration": 3,
    "start_time": "2023-05-09T17:05:22.117Z"
   },
   {
    "duration": 3,
    "start_time": "2023-05-09T17:05:22.542Z"
   },
   {
    "duration": 9080,
    "start_time": "2023-05-09T17:05:23.272Z"
   },
   {
    "duration": 2,
    "start_time": "2023-05-09T17:05:32.354Z"
   },
   {
    "duration": 638,
    "start_time": "2023-05-09T17:05:32.358Z"
   },
   {
    "duration": 4,
    "start_time": "2023-05-09T17:06:10.825Z"
   },
   {
    "duration": 4,
    "start_time": "2023-05-09T17:06:16.108Z"
   },
   {
    "duration": 3,
    "start_time": "2023-05-09T17:06:16.687Z"
   },
   {
    "duration": 4156,
    "start_time": "2023-05-09T17:06:17.049Z"
   },
   {
    "duration": 3,
    "start_time": "2023-05-09T17:06:21.206Z"
   },
   {
    "duration": 384,
    "start_time": "2023-05-09T17:06:21.210Z"
   },
   {
    "duration": 36,
    "start_time": "2023-05-09T17:10:49.985Z"
   },
   {
    "duration": 24,
    "start_time": "2023-05-09T17:11:00.788Z"
   },
   {
    "duration": 38,
    "start_time": "2023-05-09T17:11:27.290Z"
   },
   {
    "duration": 50,
    "start_time": "2023-05-09T17:11:29.002Z"
   },
   {
    "duration": 25,
    "start_time": "2023-05-09T17:11:31.018Z"
   },
   {
    "duration": 3,
    "start_time": "2023-05-09T17:12:18.818Z"
   },
   {
    "duration": 99,
    "start_time": "2023-05-09T17:12:49.565Z"
   },
   {
    "duration": 3,
    "start_time": "2023-05-09T17:13:12.208Z"
   },
   {
    "duration": 2711,
    "start_time": "2023-05-09T17:13:13.030Z"
   },
   {
    "duration": 4,
    "start_time": "2023-05-09T17:13:15.743Z"
   },
   {
    "duration": 10,
    "start_time": "2023-05-09T17:13:15.749Z"
   },
   {
    "duration": 2,
    "start_time": "2023-05-09T17:13:17.824Z"
   },
   {
    "duration": 3,
    "start_time": "2023-05-09T17:13:20.605Z"
   },
   {
    "duration": 339,
    "start_time": "2023-05-09T17:13:53.103Z"
   },
   {
    "duration": 16,
    "start_time": "2023-05-09T17:14:08.194Z"
   },
   {
    "duration": 3,
    "start_time": "2023-05-09T17:17:48.402Z"
   },
   {
    "duration": 3153,
    "start_time": "2023-05-09T17:17:48.931Z"
   },
   {
    "duration": 3,
    "start_time": "2023-05-09T17:17:52.086Z"
   },
   {
    "duration": 4,
    "start_time": "2023-05-09T17:17:53.441Z"
   },
   {
    "duration": 2,
    "start_time": "2023-05-09T17:17:53.944Z"
   },
   {
    "duration": 2,
    "start_time": "2023-05-09T17:17:54.430Z"
   },
   {
    "duration": 352,
    "start_time": "2023-05-09T17:17:54.839Z"
   },
   {
    "duration": 3134,
    "start_time": "2023-05-09T17:18:41.302Z"
   },
   {
    "duration": 3,
    "start_time": "2023-05-09T17:18:44.438Z"
   },
   {
    "duration": 10,
    "start_time": "2023-05-09T17:18:44.443Z"
   },
   {
    "duration": 4,
    "start_time": "2023-05-09T17:18:44.454Z"
   },
   {
    "duration": 5,
    "start_time": "2023-05-09T17:18:44.459Z"
   },
   {
    "duration": 350,
    "start_time": "2023-05-09T17:18:44.465Z"
   },
   {
    "duration": 3093,
    "start_time": "2023-05-09T17:18:53.001Z"
   },
   {
    "duration": 3,
    "start_time": "2023-05-09T17:18:56.096Z"
   },
   {
    "duration": 6,
    "start_time": "2023-05-09T17:18:56.100Z"
   },
   {
    "duration": 3,
    "start_time": "2023-05-09T17:18:56.108Z"
   },
   {
    "duration": 4,
    "start_time": "2023-05-09T17:18:56.112Z"
   },
   {
    "duration": 412,
    "start_time": "2023-05-09T17:18:56.117Z"
   },
   {
    "duration": 3184,
    "start_time": "2023-05-09T17:19:05.464Z"
   },
   {
    "duration": 3,
    "start_time": "2023-05-09T17:19:08.650Z"
   },
   {
    "duration": 4,
    "start_time": "2023-05-09T17:19:08.654Z"
   },
   {
    "duration": 12,
    "start_time": "2023-05-09T17:19:08.660Z"
   },
   {
    "duration": 2,
    "start_time": "2023-05-09T17:19:08.673Z"
   },
   {
    "duration": 361,
    "start_time": "2023-05-09T17:19:08.676Z"
   },
   {
    "duration": 3171,
    "start_time": "2023-05-09T17:19:15.345Z"
   },
   {
    "duration": 3,
    "start_time": "2023-05-09T17:19:18.517Z"
   },
   {
    "duration": 8,
    "start_time": "2023-05-09T17:19:18.521Z"
   },
   {
    "duration": 5,
    "start_time": "2023-05-09T17:19:18.531Z"
   },
   {
    "duration": 5,
    "start_time": "2023-05-09T17:19:18.537Z"
   },
   {
    "duration": 362,
    "start_time": "2023-05-09T17:19:18.544Z"
   },
   {
    "duration": 3020,
    "start_time": "2023-05-09T17:19:47.156Z"
   },
   {
    "duration": 3,
    "start_time": "2023-05-09T17:19:50.178Z"
   },
   {
    "duration": 6,
    "start_time": "2023-05-09T17:19:50.182Z"
   },
   {
    "duration": 4,
    "start_time": "2023-05-09T17:19:50.189Z"
   },
   {
    "duration": 9,
    "start_time": "2023-05-09T17:19:50.194Z"
   },
   {
    "duration": 3154,
    "start_time": "2023-05-09T17:20:08.400Z"
   },
   {
    "duration": 3,
    "start_time": "2023-05-09T17:20:11.556Z"
   },
   {
    "duration": 11,
    "start_time": "2023-05-09T17:20:11.561Z"
   },
   {
    "duration": 2,
    "start_time": "2023-05-09T17:20:11.574Z"
   },
   {
    "duration": 11,
    "start_time": "2023-05-09T17:20:11.577Z"
   },
   {
    "duration": 3,
    "start_time": "2023-05-09T17:20:17.529Z"
   },
   {
    "duration": 4,
    "start_time": "2023-05-09T17:20:17.999Z"
   },
   {
    "duration": 4172,
    "start_time": "2023-05-09T17:20:18.376Z"
   },
   {
    "duration": 3,
    "start_time": "2023-05-09T17:20:22.549Z"
   },
   {
    "duration": 506,
    "start_time": "2023-05-09T17:20:22.553Z"
   },
   {
    "duration": 152,
    "start_time": "2023-05-09T17:21:11.110Z"
   },
   {
    "duration": 151,
    "start_time": "2023-05-09T17:21:38.898Z"
   },
   {
    "duration": 9,
    "start_time": "2023-05-09T17:23:22.731Z"
   },
   {
    "duration": 4,
    "start_time": "2023-05-09T17:24:02.965Z"
   },
   {
    "duration": 3399,
    "start_time": "2023-05-09T17:24:05.092Z"
   },
   {
    "duration": 3,
    "start_time": "2023-05-09T17:24:08.492Z"
   },
   {
    "duration": 5,
    "start_time": "2023-05-09T17:24:08.496Z"
   },
   {
    "duration": 2,
    "start_time": "2023-05-09T17:24:08.597Z"
   },
   {
    "duration": 3,
    "start_time": "2023-05-09T17:24:10.442Z"
   },
   {
    "duration": 428,
    "start_time": "2023-05-09T17:24:14.462Z"
   },
   {
    "duration": 4,
    "start_time": "2023-05-09T17:24:49.256Z"
   },
   {
    "duration": 16805,
    "start_time": "2023-05-09T17:24:49.801Z"
   },
   {
    "duration": 4,
    "start_time": "2023-05-09T17:25:06.607Z"
   },
   {
    "duration": 5,
    "start_time": "2023-05-09T17:25:06.612Z"
   },
   {
    "duration": 5,
    "start_time": "2023-05-09T17:25:06.618Z"
   },
   {
    "duration": 6,
    "start_time": "2023-05-09T17:25:06.624Z"
   },
   {
    "duration": 1167,
    "start_time": "2023-05-09T17:25:06.631Z"
   },
   {
    "duration": 16,
    "start_time": "2023-05-09T17:25:07.800Z"
   },
   {
    "duration": 3,
    "start_time": "2023-05-09T17:25:39.079Z"
   },
   {
    "duration": 19080,
    "start_time": "2023-05-09T17:25:39.640Z"
   },
   {
    "duration": 3,
    "start_time": "2023-05-09T17:25:58.722Z"
   },
   {
    "duration": 12,
    "start_time": "2023-05-09T17:25:58.726Z"
   },
   {
    "duration": 32,
    "start_time": "2023-05-09T17:25:58.740Z"
   },
   {
    "duration": 6,
    "start_time": "2023-05-09T17:25:58.774Z"
   },
   {
    "duration": 1133,
    "start_time": "2023-05-09T17:25:58.782Z"
   },
   {
    "duration": 14,
    "start_time": "2023-05-09T17:26:18.164Z"
   },
   {
    "duration": 3,
    "start_time": "2023-05-09T17:27:00.897Z"
   },
   {
    "duration": 40,
    "start_time": "2023-05-09T17:27:03.801Z"
   },
   {
    "duration": 3,
    "start_time": "2023-05-09T17:27:04.204Z"
   },
   {
    "duration": 4,
    "start_time": "2023-05-09T17:27:18.945Z"
   },
   {
    "duration": 48,
    "start_time": "2023-05-09T17:27:19.523Z"
   },
   {
    "duration": 3,
    "start_time": "2023-05-09T17:27:20.240Z"
   },
   {
    "duration": 372,
    "start_time": "2023-05-09T17:27:44.522Z"
   },
   {
    "duration": 3,
    "start_time": "2023-05-09T17:27:45.122Z"
   },
   {
    "duration": 201,
    "start_time": "2023-05-09T17:29:05.978Z"
   },
   {
    "duration": 4,
    "start_time": "2023-05-09T17:29:07.030Z"
   },
   {
    "duration": 4,
    "start_time": "2023-05-09T17:30:59.260Z"
   },
   {
    "duration": 3,
    "start_time": "2023-05-09T17:31:05.498Z"
   },
   {
    "duration": 4,
    "start_time": "2023-05-09T17:31:11.048Z"
   },
   {
    "duration": 4,
    "start_time": "2023-05-09T17:31:34.776Z"
   },
   {
    "duration": 3,
    "start_time": "2023-05-09T17:32:05.995Z"
   },
   {
    "duration": 3,
    "start_time": "2023-05-09T17:32:20.948Z"
   },
   {
    "duration": 3,
    "start_time": "2023-05-09T17:32:45.175Z"
   },
   {
    "duration": 45,
    "start_time": "2023-05-09T17:32:49.857Z"
   },
   {
    "duration": 187,
    "start_time": "2023-05-09T17:33:00.234Z"
   },
   {
    "duration": 4,
    "start_time": "2023-05-09T17:33:01.126Z"
   },
   {
    "duration": 3,
    "start_time": "2023-05-09T17:33:17.746Z"
   },
   {
    "duration": 3,
    "start_time": "2023-05-09T17:33:38.723Z"
   },
   {
    "duration": 18981,
    "start_time": "2023-05-09T17:33:39.680Z"
   },
   {
    "duration": 9,
    "start_time": "2023-05-09T17:33:58.663Z"
   },
   {
    "duration": 3,
    "start_time": "2023-05-09T17:33:58.673Z"
   },
   {
    "duration": 3,
    "start_time": "2023-05-09T17:33:58.678Z"
   },
   {
    "duration": 3,
    "start_time": "2023-05-09T17:34:22.337Z"
   },
   {
    "duration": 19178,
    "start_time": "2023-05-09T17:34:22.810Z"
   },
   {
    "duration": 2,
    "start_time": "2023-05-09T17:34:41.990Z"
   },
   {
    "duration": 1135,
    "start_time": "2023-05-09T17:34:41.993Z"
   },
   {
    "duration": 14,
    "start_time": "2023-05-09T17:34:43.130Z"
   },
   {
    "duration": 13,
    "start_time": "2023-05-09T17:34:45.302Z"
   },
   {
    "duration": 3,
    "start_time": "2023-05-09T17:37:03.281Z"
   },
   {
    "duration": 7,
    "start_time": "2023-05-09T17:37:39.533Z"
   },
   {
    "duration": 14,
    "start_time": "2023-05-09T17:38:09.501Z"
   },
   {
    "duration": 3,
    "start_time": "2023-05-09T17:38:17.674Z"
   },
   {
    "duration": 4,
    "start_time": "2023-05-09T17:38:19.524Z"
   },
   {
    "duration": 4178,
    "start_time": "2023-05-09T17:38:20.489Z"
   },
   {
    "duration": 2,
    "start_time": "2023-05-09T17:38:37.050Z"
   },
   {
    "duration": 8,
    "start_time": "2023-05-09T17:39:38.812Z"
   },
   {
    "duration": 7,
    "start_time": "2023-05-09T17:39:45.866Z"
   },
   {
    "duration": 3,
    "start_time": "2023-05-09T17:42:14.515Z"
   },
   {
    "duration": 4131,
    "start_time": "2023-05-09T17:42:16.707Z"
   },
   {
    "duration": 3,
    "start_time": "2023-05-09T17:42:20.841Z"
   },
   {
    "duration": 386,
    "start_time": "2023-05-09T17:42:20.845Z"
   },
   {
    "duration": 3,
    "start_time": "2023-05-09T17:42:49.122Z"
   },
   {
    "duration": 4,
    "start_time": "2023-05-09T17:43:37.227Z"
   },
   {
    "duration": 5,
    "start_time": "2023-05-09T17:43:43.841Z"
   },
   {
    "duration": 3,
    "start_time": "2023-05-09T17:43:44.580Z"
   },
   {
    "duration": 2,
    "start_time": "2023-05-09T17:43:45.121Z"
   },
   {
    "duration": 3,
    "start_time": "2023-05-09T17:43:45.694Z"
   },
   {
    "duration": 5037,
    "start_time": "2023-05-09T17:43:46.222Z"
   },
   {
    "duration": 2,
    "start_time": "2023-05-09T17:43:51.261Z"
   },
   {
    "duration": 607,
    "start_time": "2023-05-09T17:43:51.265Z"
   },
   {
    "duration": 5,
    "start_time": "2023-05-09T17:44:01.296Z"
   },
   {
    "duration": 4,
    "start_time": "2023-05-09T17:44:51.221Z"
   },
   {
    "duration": 3,
    "start_time": "2023-05-09T17:44:51.766Z"
   },
   {
    "duration": 2,
    "start_time": "2023-05-09T17:44:52.249Z"
   },
   {
    "duration": 3,
    "start_time": "2023-05-09T17:44:52.697Z"
   },
   {
    "duration": 5952,
    "start_time": "2023-05-09T17:44:53.060Z"
   },
   {
    "duration": 3,
    "start_time": "2023-05-09T17:44:59.013Z"
   },
   {
    "duration": 963,
    "start_time": "2023-05-09T17:44:59.017Z"
   },
   {
    "duration": 3,
    "start_time": "2023-05-09T17:44:59.982Z"
   },
   {
    "duration": 1032,
    "start_time": "2023-05-09T17:46:07.498Z"
   },
   {
    "duration": 977,
    "start_time": "2023-05-09T17:46:13.635Z"
   },
   {
    "duration": 1013,
    "start_time": "2023-05-09T17:46:22.861Z"
   },
   {
    "duration": 1024,
    "start_time": "2023-05-09T17:46:29.167Z"
   },
   {
    "duration": 922,
    "start_time": "2023-05-09T17:46:50.260Z"
   },
   {
    "duration": 952,
    "start_time": "2023-05-09T17:47:39.121Z"
   },
   {
    "duration": 1244,
    "start_time": "2023-05-09T17:48:39.703Z"
   },
   {
    "duration": 4,
    "start_time": "2023-05-09T17:49:14.255Z"
   },
   {
    "duration": 4,
    "start_time": "2023-05-09T17:49:14.606Z"
   },
   {
    "duration": 2,
    "start_time": "2023-05-09T17:49:15.047Z"
   },
   {
    "duration": 3,
    "start_time": "2023-05-09T17:49:15.412Z"
   },
   {
    "duration": 2515,
    "start_time": "2023-05-09T17:49:15.761Z"
   },
   {
    "duration": 2,
    "start_time": "2023-05-09T17:49:18.278Z"
   },
   {
    "duration": 686,
    "start_time": "2023-05-09T17:49:18.282Z"
   },
   {
    "duration": 3,
    "start_time": "2023-05-09T17:49:18.971Z"
   },
   {
    "duration": 737,
    "start_time": "2023-05-09T17:49:52.561Z"
   },
   {
    "duration": 686,
    "start_time": "2023-05-09T17:49:58.276Z"
   },
   {
    "duration": 5,
    "start_time": "2023-05-09T17:50:12.977Z"
   },
   {
    "duration": 3,
    "start_time": "2023-05-09T17:51:04.231Z"
   },
   {
    "duration": 11,
    "start_time": "2023-05-09T17:51:48.012Z"
   },
   {
    "duration": 4,
    "start_time": "2023-05-09T17:52:42.143Z"
   },
   {
    "duration": 4,
    "start_time": "2023-05-09T17:52:43.184Z"
   },
   {
    "duration": 3,
    "start_time": "2023-05-09T17:52:43.545Z"
   },
   {
    "duration": 3,
    "start_time": "2023-05-09T17:52:43.905Z"
   },
   {
    "duration": 2607,
    "start_time": "2023-05-09T17:52:44.277Z"
   },
   {
    "duration": 2,
    "start_time": "2023-05-09T17:52:46.886Z"
   },
   {
    "duration": 715,
    "start_time": "2023-05-09T17:52:46.889Z"
   },
   {
    "duration": 3,
    "start_time": "2023-05-09T17:52:47.606Z"
   },
   {
    "duration": 10,
    "start_time": "2023-05-09T17:52:47.610Z"
   },
   {
    "duration": 712,
    "start_time": "2023-05-09T17:53:28.485Z"
   },
   {
    "duration": 3,
    "start_time": "2023-05-09T17:53:47.127Z"
   },
   {
    "duration": 19141,
    "start_time": "2023-05-09T17:53:47.531Z"
   },
   {
    "duration": 3,
    "start_time": "2023-05-09T17:54:06.674Z"
   },
   {
    "duration": 1240,
    "start_time": "2023-05-09T17:54:06.678Z"
   },
   {
    "duration": 2,
    "start_time": "2023-05-09T17:54:51.000Z"
   },
   {
    "duration": 3666,
    "start_time": "2023-05-09T17:54:54.445Z"
   },
   {
    "duration": 2,
    "start_time": "2023-05-09T17:54:58.113Z"
   },
   {
    "duration": 762,
    "start_time": "2023-05-09T17:54:58.116Z"
   },
   {
    "duration": 4,
    "start_time": "2023-05-09T17:54:58.879Z"
   },
   {
    "duration": 21,
    "start_time": "2023-05-09T17:54:58.885Z"
   },
   {
    "duration": 4,
    "start_time": "2023-05-09T17:55:15.535Z"
   },
   {
    "duration": 14,
    "start_time": "2023-05-09T17:55:16.122Z"
   },
   {
    "duration": 14,
    "start_time": "2023-05-09T17:55:34.627Z"
   },
   {
    "duration": 16,
    "start_time": "2023-05-09T17:56:18.347Z"
   },
   {
    "duration": 13,
    "start_time": "2023-05-09T17:56:19.969Z"
   },
   {
    "duration": 149,
    "start_time": "2023-05-09T17:56:20.612Z"
   },
   {
    "duration": 188,
    "start_time": "2023-05-09T17:57:02.269Z"
   },
   {
    "duration": 3,
    "start_time": "2023-05-09T17:57:05.156Z"
   },
   {
    "duration": 3,
    "start_time": "2023-05-09T17:57:17.715Z"
   },
   {
    "duration": 12,
    "start_time": "2023-05-09T17:57:35.437Z"
   },
   {
    "duration": 3,
    "start_time": "2023-05-09T17:57:53.398Z"
   },
   {
    "duration": 21616,
    "start_time": "2023-05-09T17:57:53.812Z"
   },
   {
    "duration": 2,
    "start_time": "2023-05-09T17:58:15.430Z"
   },
   {
    "duration": 1591,
    "start_time": "2023-05-09T17:58:15.434Z"
   },
   {
    "duration": 5,
    "start_time": "2023-05-09T17:58:17.027Z"
   },
   {
    "duration": 4,
    "start_time": "2023-05-09T17:59:05.969Z"
   },
   {
    "duration": 17740,
    "start_time": "2023-05-09T17:59:06.524Z"
   },
   {
    "duration": 6,
    "start_time": "2023-05-09T17:59:24.266Z"
   },
   {
    "duration": 1344,
    "start_time": "2023-05-09T17:59:24.274Z"
   },
   {
    "duration": 4,
    "start_time": "2023-05-09T17:59:25.620Z"
   },
   {
    "duration": 1589,
    "start_time": "2023-05-09T18:00:19.307Z"
   },
   {
    "duration": 5,
    "start_time": "2023-05-09T18:00:24.368Z"
   },
   {
    "duration": 41,
    "start_time": "2023-05-09T18:00:37.186Z"
   },
   {
    "duration": 3,
    "start_time": "2023-05-09T18:00:50.736Z"
   },
   {
    "duration": 3,
    "start_time": "2023-05-09T18:00:51.702Z"
   },
   {
    "duration": 2,
    "start_time": "2023-05-09T18:00:52.116Z"
   },
   {
    "duration": 2,
    "start_time": "2023-05-09T18:00:52.898Z"
   },
   {
    "duration": 2551,
    "start_time": "2023-05-09T18:00:56.128Z"
   },
   {
    "duration": 3,
    "start_time": "2023-05-09T18:00:59.317Z"
   },
   {
    "duration": 708,
    "start_time": "2023-05-09T18:01:00.152Z"
   },
   {
    "duration": 4,
    "start_time": "2023-05-09T18:01:06.073Z"
   },
   {
    "duration": 4,
    "start_time": "2023-05-09T18:01:21.020Z"
   },
   {
    "duration": 4,
    "start_time": "2023-05-09T18:01:21.604Z"
   },
   {
    "duration": 2,
    "start_time": "2023-05-09T18:01:22.022Z"
   },
   {
    "duration": 2,
    "start_time": "2023-05-09T18:01:22.387Z"
   },
   {
    "duration": 10061,
    "start_time": "2023-05-09T18:01:22.766Z"
   },
   {
    "duration": 2,
    "start_time": "2023-05-09T18:01:32.829Z"
   },
   {
    "duration": 956,
    "start_time": "2023-05-09T18:01:32.832Z"
   },
   {
    "duration": 4,
    "start_time": "2023-05-09T18:01:33.789Z"
   },
   {
    "duration": 14,
    "start_time": "2023-05-09T18:01:33.794Z"
   },
   {
    "duration": 4,
    "start_time": "2023-05-09T18:01:48.619Z"
   },
   {
    "duration": 50,
    "start_time": "2023-05-09T18:01:58.939Z"
   },
   {
    "duration": 5,
    "start_time": "2023-05-09T18:03:00.640Z"
   },
   {
    "duration": 4,
    "start_time": "2023-05-09T18:03:01.200Z"
   },
   {
    "duration": 3,
    "start_time": "2023-05-09T18:03:01.607Z"
   },
   {
    "duration": 2,
    "start_time": "2023-05-09T18:03:02.010Z"
   },
   {
    "duration": 8568,
    "start_time": "2023-05-09T18:03:02.349Z"
   },
   {
    "duration": 2,
    "start_time": "2023-05-09T18:03:10.919Z"
   },
   {
    "duration": 879,
    "start_time": "2023-05-09T18:03:10.922Z"
   },
   {
    "duration": 3,
    "start_time": "2023-05-09T18:03:11.803Z"
   },
   {
    "duration": 4,
    "start_time": "2023-05-09T18:03:15.969Z"
   },
   {
    "duration": 56,
    "start_time": "2023-05-09T18:03:27.977Z"
   },
   {
    "duration": 4,
    "start_time": "2023-05-09T18:04:27.277Z"
   },
   {
    "duration": 4,
    "start_time": "2023-05-09T18:04:28.004Z"
   },
   {
    "duration": 3,
    "start_time": "2023-05-09T18:04:28.380Z"
   },
   {
    "duration": 2,
    "start_time": "2023-05-09T18:04:28.808Z"
   },
   {
    "duration": 9216,
    "start_time": "2023-05-09T18:04:29.131Z"
   },
   {
    "duration": 3,
    "start_time": "2023-05-09T18:04:38.348Z"
   },
   {
    "duration": 1044,
    "start_time": "2023-05-09T18:04:38.352Z"
   },
   {
    "duration": 3,
    "start_time": "2023-05-09T18:04:39.398Z"
   },
   {
    "duration": 3,
    "start_time": "2023-05-09T18:04:44.175Z"
   },
   {
    "duration": 41,
    "start_time": "2023-05-09T18:04:50.122Z"
   },
   {
    "duration": 12,
    "start_time": "2023-05-09T18:09:02.254Z"
   },
   {
    "duration": 11,
    "start_time": "2023-05-09T18:09:22.804Z"
   },
   {
    "duration": 4,
    "start_time": "2023-05-09T18:09:32.063Z"
   },
   {
    "duration": 3,
    "start_time": "2023-05-09T18:09:32.446Z"
   },
   {
    "duration": 2,
    "start_time": "2023-05-09T18:09:32.835Z"
   },
   {
    "duration": 2,
    "start_time": "2023-05-09T18:09:33.155Z"
   },
   {
    "duration": 45,
    "start_time": "2023-05-09T18:09:33.503Z"
   },
   {
    "duration": 10,
    "start_time": "2023-05-09T18:09:33.830Z"
   },
   {
    "duration": 10,
    "start_time": "2023-05-09T18:09:43.562Z"
   },
   {
    "duration": 7223,
    "start_time": "2023-05-09T18:10:45.061Z"
   },
   {
    "duration": 2,
    "start_time": "2023-05-09T18:10:52.286Z"
   },
   {
    "duration": 958,
    "start_time": "2023-05-09T18:10:52.290Z"
   },
   {
    "duration": 3,
    "start_time": "2023-05-09T18:10:53.249Z"
   },
   {
    "duration": 7188,
    "start_time": "2023-05-09T18:11:07.484Z"
   },
   {
    "duration": 2,
    "start_time": "2023-05-09T18:11:14.674Z"
   },
   {
    "duration": 1084,
    "start_time": "2023-05-09T18:11:14.678Z"
   },
   {
    "duration": 3,
    "start_time": "2023-05-09T18:11:15.927Z"
   },
   {
    "duration": 23,
    "start_time": "2023-05-09T18:11:40.327Z"
   },
   {
    "duration": 7251,
    "start_time": "2023-05-09T18:11:50.340Z"
   },
   {
    "duration": 3,
    "start_time": "2023-05-09T18:11:57.592Z"
   },
   {
    "duration": 933,
    "start_time": "2023-05-09T18:11:57.596Z"
   },
   {
    "duration": 4,
    "start_time": "2023-05-09T18:11:58.530Z"
   },
   {
    "duration": 30,
    "start_time": "2023-05-09T18:12:00.708Z"
   },
   {
    "duration": 21,
    "start_time": "2023-05-09T18:12:11.303Z"
   },
   {
    "duration": 4,
    "start_time": "2023-05-09T18:15:00.992Z"
   },
   {
    "duration": 4,
    "start_time": "2023-05-09T18:15:21.772Z"
   },
   {
    "duration": 5,
    "start_time": "2023-05-09T18:15:41.355Z"
   },
   {
    "duration": 4,
    "start_time": "2023-05-09T18:15:42.798Z"
   },
   {
    "duration": 3,
    "start_time": "2023-05-09T18:15:43.477Z"
   },
   {
    "duration": 2,
    "start_time": "2023-05-09T18:15:43.871Z"
   },
   {
    "duration": 2,
    "start_time": "2023-05-09T18:15:44.236Z"
   },
   {
    "duration": 1612,
    "start_time": "2023-05-09T18:15:44.814Z"
   },
   {
    "duration": 0,
    "start_time": "2023-05-09T18:15:46.428Z"
   },
   {
    "duration": 1507,
    "start_time": "2023-05-09T18:18:09.110Z"
   },
   {
    "duration": 3,
    "start_time": "2023-05-09T18:18:19.350Z"
   },
   {
    "duration": 4,
    "start_time": "2023-05-09T18:18:20.773Z"
   },
   {
    "duration": 3,
    "start_time": "2023-05-09T18:18:21.257Z"
   },
   {
    "duration": 2,
    "start_time": "2023-05-09T18:18:21.702Z"
   },
   {
    "duration": 8911,
    "start_time": "2023-05-09T18:18:22.199Z"
   },
   {
    "duration": 1101,
    "start_time": "2023-05-09T18:18:33.971Z"
   },
   {
    "duration": 5,
    "start_time": "2023-05-09T18:18:35.073Z"
   },
   {
    "duration": 9055,
    "start_time": "2023-05-09T18:18:43.835Z"
   },
   {
    "duration": 3,
    "start_time": "2023-05-09T18:18:52.892Z"
   },
   {
    "duration": 1064,
    "start_time": "2023-05-09T18:18:52.897Z"
   },
   {
    "duration": 10,
    "start_time": "2023-05-09T18:18:53.963Z"
   },
   {
    "duration": 21,
    "start_time": "2023-05-09T18:18:55.782Z"
   },
   {
    "duration": 47,
    "start_time": "2023-05-09T18:19:01.951Z"
   },
   {
    "duration": 4,
    "start_time": "2023-05-09T18:20:10.155Z"
   },
   {
    "duration": 3,
    "start_time": "2023-05-09T18:20:12.080Z"
   },
   {
    "duration": 2,
    "start_time": "2023-05-09T18:20:12.601Z"
   },
   {
    "duration": 2,
    "start_time": "2023-05-09T18:20:13.004Z"
   },
   {
    "duration": 9704,
    "start_time": "2023-05-09T18:20:13.360Z"
   },
   {
    "duration": 6,
    "start_time": "2023-05-09T18:20:23.066Z"
   },
   {
    "duration": 1360,
    "start_time": "2023-05-09T18:20:23.074Z"
   },
   {
    "duration": 4,
    "start_time": "2023-05-09T18:20:24.437Z"
   },
   {
    "duration": 4,
    "start_time": "2023-05-09T18:20:33.706Z"
   },
   {
    "duration": 22,
    "start_time": "2023-05-09T18:20:38.532Z"
   },
   {
    "duration": 41,
    "start_time": "2023-05-09T18:20:40.705Z"
   },
   {
    "duration": 4,
    "start_time": "2023-05-09T18:21:53.682Z"
   },
   {
    "duration": 4,
    "start_time": "2023-05-09T18:21:54.931Z"
   },
   {
    "duration": 3,
    "start_time": "2023-05-09T18:21:55.422Z"
   },
   {
    "duration": 2,
    "start_time": "2023-05-09T18:21:55.863Z"
   },
   {
    "duration": 12001,
    "start_time": "2023-05-09T18:21:56.173Z"
   },
   {
    "duration": 3,
    "start_time": "2023-05-09T18:22:08.176Z"
   },
   {
    "duration": 1383,
    "start_time": "2023-05-09T18:22:08.181Z"
   },
   {
    "duration": 7,
    "start_time": "2023-05-09T18:22:09.566Z"
   },
   {
    "duration": 4,
    "start_time": "2023-05-09T18:22:13.467Z"
   },
   {
    "duration": 22,
    "start_time": "2023-05-09T18:22:14.105Z"
   },
   {
    "duration": 44,
    "start_time": "2023-05-09T18:22:16.941Z"
   },
   {
    "duration": 45,
    "start_time": "2023-05-09T18:22:20.903Z"
   },
   {
    "duration": 56,
    "start_time": "2023-05-09T18:22:23.935Z"
   },
   {
    "duration": 64,
    "start_time": "2023-05-09T18:22:26.067Z"
   },
   {
    "duration": 4,
    "start_time": "2023-05-09T18:22:54.029Z"
   },
   {
    "duration": 3,
    "start_time": "2023-05-09T18:22:57.158Z"
   },
   {
    "duration": 5,
    "start_time": "2023-05-09T18:22:57.965Z"
   },
   {
    "duration": 3,
    "start_time": "2023-05-09T18:22:58.304Z"
   },
   {
    "duration": 3,
    "start_time": "2023-05-09T18:22:58.769Z"
   },
   {
    "duration": 12279,
    "start_time": "2023-05-09T18:22:59.160Z"
   },
   {
    "duration": 3,
    "start_time": "2023-05-09T18:23:11.441Z"
   },
   {
    "duration": 1030,
    "start_time": "2023-05-09T18:23:11.445Z"
   },
   {
    "duration": 4,
    "start_time": "2023-05-09T18:23:12.476Z"
   },
   {
    "duration": 4,
    "start_time": "2023-05-09T18:23:20.408Z"
   },
   {
    "duration": 18,
    "start_time": "2023-05-09T18:23:34.699Z"
   },
   {
    "duration": 45,
    "start_time": "2023-05-09T18:23:37.999Z"
   },
   {
    "duration": 4,
    "start_time": "2023-05-09T18:24:03.712Z"
   },
   {
    "duration": 3,
    "start_time": "2023-05-09T18:24:05.212Z"
   },
   {
    "duration": 2,
    "start_time": "2023-05-09T18:24:05.555Z"
   },
   {
    "duration": 4,
    "start_time": "2023-05-09T18:24:05.959Z"
   },
   {
    "duration": 11304,
    "start_time": "2023-05-09T18:24:06.341Z"
   },
   {
    "duration": 2,
    "start_time": "2023-05-09T18:24:17.646Z"
   },
   {
    "duration": 778,
    "start_time": "2023-05-09T18:24:17.650Z"
   },
   {
    "duration": 3,
    "start_time": "2023-05-09T18:24:18.430Z"
   },
   {
    "duration": 58,
    "start_time": "2023-05-09T18:24:29.619Z"
   },
   {
    "duration": 3,
    "start_time": "2023-05-09T18:24:36.782Z"
   },
   {
    "duration": 61,
    "start_time": "2023-05-09T18:24:37.339Z"
   },
   {
    "duration": 3,
    "start_time": "2023-05-09T18:25:03.145Z"
   },
   {
    "duration": 3,
    "start_time": "2023-05-09T18:25:14.239Z"
   },
   {
    "duration": 51,
    "start_time": "2023-05-09T18:25:27.513Z"
   },
   {
    "duration": 53,
    "start_time": "2023-05-09T18:25:58.877Z"
   },
   {
    "duration": 12,
    "start_time": "2023-05-09T18:30:19.928Z"
   },
   {
    "duration": 804,
    "start_time": "2023-05-09T18:30:38.568Z"
   },
   {
    "duration": 4,
    "start_time": "2023-05-09T18:30:44.822Z"
   },
   {
    "duration": 4,
    "start_time": "2023-05-09T18:31:06.906Z"
   },
   {
    "duration": 4,
    "start_time": "2023-05-09T18:32:37.459Z"
   },
   {
    "duration": 4,
    "start_time": "2023-05-09T18:33:42.412Z"
   },
   {
    "duration": 4,
    "start_time": "2023-05-09T18:36:12.266Z"
   },
   {
    "duration": 54,
    "start_time": "2023-05-09T18:36:14.155Z"
   },
   {
    "duration": 5,
    "start_time": "2023-05-09T18:36:16.255Z"
   },
   {
    "duration": 45,
    "start_time": "2023-05-13T11:56:15.176Z"
   },
   {
    "duration": 1748,
    "start_time": "2023-05-13T11:56:30.528Z"
   },
   {
    "duration": 66,
    "start_time": "2023-05-13T11:56:32.279Z"
   },
   {
    "duration": 19,
    "start_time": "2023-05-13T11:56:32.346Z"
   },
   {
    "duration": 47,
    "start_time": "2023-05-13T11:56:32.367Z"
   },
   {
    "duration": 30,
    "start_time": "2023-05-13T11:56:32.415Z"
   },
   {
    "duration": 3,
    "start_time": "2023-05-13T11:56:32.447Z"
   },
   {
    "duration": 22,
    "start_time": "2023-05-13T11:56:32.452Z"
   },
   {
    "duration": 5,
    "start_time": "2023-05-13T11:56:32.476Z"
   },
   {
    "duration": 3,
    "start_time": "2023-05-13T11:56:41.568Z"
   },
   {
    "duration": 3,
    "start_time": "2023-05-13T12:01:39.577Z"
   },
   {
    "duration": 62,
    "start_time": "2023-05-13T12:01:40.048Z"
   },
   {
    "duration": 4,
    "start_time": "2023-05-13T12:01:41.401Z"
   },
   {
    "duration": 3,
    "start_time": "2023-05-13T12:05:40.428Z"
   },
   {
    "duration": 70,
    "start_time": "2023-05-13T12:05:41.091Z"
   },
   {
    "duration": 3,
    "start_time": "2023-05-13T12:05:41.918Z"
   },
   {
    "duration": 3,
    "start_time": "2023-05-13T12:06:02.334Z"
   },
   {
    "duration": 78,
    "start_time": "2023-05-13T12:06:02.870Z"
   },
   {
    "duration": 4,
    "start_time": "2023-05-13T12:06:03.376Z"
   },
   {
    "duration": 3,
    "start_time": "2023-05-13T12:08:15.607Z"
   },
   {
    "duration": 74,
    "start_time": "2023-05-13T12:08:16.593Z"
   },
   {
    "duration": 3,
    "start_time": "2023-05-13T12:08:17.814Z"
   },
   {
    "duration": 4,
    "start_time": "2023-05-13T12:11:34.867Z"
   },
   {
    "duration": 5,
    "start_time": "2023-05-13T12:13:44.125Z"
   },
   {
    "duration": 408,
    "start_time": "2023-05-13T12:15:45.558Z"
   },
   {
    "duration": 4,
    "start_time": "2023-05-13T12:15:47.264Z"
   },
   {
    "duration": 391,
    "start_time": "2023-05-13T12:15:53.129Z"
   },
   {
    "duration": 4,
    "start_time": "2023-05-13T12:15:54.138Z"
   },
   {
    "duration": 4,
    "start_time": "2023-05-13T12:18:31.804Z"
   },
   {
    "duration": 115,
    "start_time": "2023-05-13T12:19:37.544Z"
   },
   {
    "duration": 3,
    "start_time": "2023-05-13T12:19:41.150Z"
   },
   {
    "duration": 18736,
    "start_time": "2023-05-13T12:19:41.512Z"
   },
   {
    "duration": 8,
    "start_time": "2023-05-13T12:20:00.249Z"
   },
   {
    "duration": 1800,
    "start_time": "2023-05-13T12:20:00.259Z"
   },
   {
    "duration": 4,
    "start_time": "2023-05-13T12:20:02.061Z"
   },
   {
    "duration": 3,
    "start_time": "2023-05-13T12:20:40.212Z"
   },
   {
    "duration": 3,
    "start_time": "2023-05-13T12:22:50.545Z"
   },
   {
    "duration": 4,
    "start_time": "2023-05-13T12:24:42.071Z"
   },
   {
    "duration": 5,
    "start_time": "2023-05-13T12:26:37.764Z"
   },
   {
    "duration": 4,
    "start_time": "2023-05-13T12:29:27.310Z"
   },
   {
    "duration": 6,
    "start_time": "2023-05-13T12:29:31.834Z"
   },
   {
    "duration": 6,
    "start_time": "2023-05-13T12:29:33.706Z"
   },
   {
    "duration": 2,
    "start_time": "2023-05-13T12:29:37.910Z"
   },
   {
    "duration": 3,
    "start_time": "2023-05-13T12:29:38.422Z"
   },
   {
    "duration": 13645,
    "start_time": "2023-05-13T12:29:39.106Z"
   },
   {
    "duration": 4,
    "start_time": "2023-05-13T12:29:52.753Z"
   },
   {
    "duration": 1061,
    "start_time": "2023-05-13T12:29:52.759Z"
   },
   {
    "duration": 3,
    "start_time": "2023-05-13T12:29:53.822Z"
   },
   {
    "duration": 74,
    "start_time": "2023-05-13T12:29:56.258Z"
   },
   {
    "duration": 14,
    "start_time": "2023-05-13T12:38:07.612Z"
   },
   {
    "duration": 41,
    "start_time": "2023-05-13T12:38:08.151Z"
   },
   {
    "duration": 71,
    "start_time": "2023-05-13T12:38:10.039Z"
   },
   {
    "duration": 14,
    "start_time": "2023-05-13T12:38:58.326Z"
   },
   {
    "duration": 43,
    "start_time": "2023-05-13T12:39:07.096Z"
   },
   {
    "duration": 71,
    "start_time": "2023-05-13T12:39:15.359Z"
   },
   {
    "duration": 10,
    "start_time": "2023-05-13T12:40:59.301Z"
   },
   {
    "duration": 4,
    "start_time": "2023-05-13T12:41:11.630Z"
   },
   {
    "duration": 70,
    "start_time": "2023-05-13T12:42:21.717Z"
   },
   {
    "duration": 4,
    "start_time": "2023-05-13T12:43:07.509Z"
   },
   {
    "duration": 5,
    "start_time": "2023-05-13T13:29:31.484Z"
   },
   {
    "duration": 12,
    "start_time": "2023-05-14T06:56:14.810Z"
   },
   {
    "duration": 64,
    "start_time": "2023-05-14T06:57:35.814Z"
   },
   {
    "duration": 1914,
    "start_time": "2023-05-14T06:57:52.288Z"
   },
   {
    "duration": 159,
    "start_time": "2023-05-14T06:57:54.203Z"
   },
   {
    "duration": 16,
    "start_time": "2023-05-14T06:57:54.363Z"
   },
   {
    "duration": 15,
    "start_time": "2023-05-14T06:57:54.381Z"
   },
   {
    "duration": 41,
    "start_time": "2023-05-14T06:57:54.399Z"
   },
   {
    "duration": 4,
    "start_time": "2023-05-14T06:57:54.442Z"
   },
   {
    "duration": 14,
    "start_time": "2023-05-14T06:57:54.448Z"
   },
   {
    "duration": 27,
    "start_time": "2023-05-14T06:57:54.464Z"
   },
   {
    "duration": 15,
    "start_time": "2023-05-14T06:57:54.493Z"
   },
   {
    "duration": 18,
    "start_time": "2023-05-14T06:57:54.511Z"
   },
   {
    "duration": 150,
    "start_time": "2023-05-14T06:57:54.531Z"
   },
   {
    "duration": 5,
    "start_time": "2023-05-14T06:57:54.683Z"
   },
   {
    "duration": 80,
    "start_time": "2023-05-14T06:57:54.689Z"
   },
   {
    "duration": 0,
    "start_time": "2023-05-14T06:57:54.772Z"
   },
   {
    "duration": 6,
    "start_time": "2023-05-14T06:57:59.402Z"
   },
   {
    "duration": 7,
    "start_time": "2023-05-14T06:58:06.537Z"
   },
   {
    "duration": 616,
    "start_time": "2023-05-14T06:58:13.597Z"
   },
   {
    "duration": 67,
    "start_time": "2023-05-14T07:01:09.835Z"
   },
   {
    "duration": 775,
    "start_time": "2023-05-14T07:01:31.554Z"
   },
   {
    "duration": 3,
    "start_time": "2023-05-14T07:02:20.652Z"
   },
   {
    "duration": 5,
    "start_time": "2023-05-14T07:03:58.030Z"
   },
   {
    "duration": 4,
    "start_time": "2023-05-14T07:03:58.594Z"
   },
   {
    "duration": 489,
    "start_time": "2023-05-14T07:03:59.268Z"
   },
   {
    "duration": 4,
    "start_time": "2023-05-14T07:04:02.995Z"
   },
   {
    "duration": 6,
    "start_time": "2023-05-14T07:04:26.761Z"
   },
   {
    "duration": 5,
    "start_time": "2023-05-14T07:05:02.215Z"
   },
   {
    "duration": 4,
    "start_time": "2023-05-14T07:05:23.219Z"
   },
   {
    "duration": 4,
    "start_time": "2023-05-14T07:05:24.081Z"
   },
   {
    "duration": 1215,
    "start_time": "2023-05-14T07:05:24.516Z"
   },
   {
    "duration": 5,
    "start_time": "2023-05-14T07:05:25.734Z"
   },
   {
    "duration": 23,
    "start_time": "2023-05-14T07:05:25.742Z"
   },
   {
    "duration": 4,
    "start_time": "2023-05-14T07:05:28.679Z"
   },
   {
    "duration": 4,
    "start_time": "2023-05-14T07:05:33.780Z"
   },
   {
    "duration": 4,
    "start_time": "2023-05-14T07:05:34.144Z"
   },
   {
    "duration": 1138,
    "start_time": "2023-05-14T07:05:34.561Z"
   },
   {
    "duration": 5,
    "start_time": "2023-05-14T07:10:07.521Z"
   },
   {
    "duration": 4,
    "start_time": "2023-05-14T07:10:16.813Z"
   },
   {
    "duration": 4,
    "start_time": "2023-05-14T07:10:18.241Z"
   },
   {
    "duration": 20,
    "start_time": "2023-05-14T07:10:41.612Z"
   },
   {
    "duration": 6,
    "start_time": "2023-05-14T07:11:00.478Z"
   },
   {
    "duration": 3,
    "start_time": "2023-05-14T07:11:00.939Z"
   },
   {
    "duration": 4441,
    "start_time": "2023-05-14T07:11:01.338Z"
   },
   {
    "duration": 6,
    "start_time": "2023-05-14T07:11:05.781Z"
   },
   {
    "duration": 3,
    "start_time": "2023-05-14T07:11:24.438Z"
   },
   {
    "duration": 19703,
    "start_time": "2023-05-14T07:11:24.446Z"
   },
   {
    "duration": 2,
    "start_time": "2023-05-14T07:11:44.151Z"
   },
   {
    "duration": 1942,
    "start_time": "2023-05-14T07:11:44.156Z"
   },
   {
    "duration": 4,
    "start_time": "2023-05-14T07:11:46.100Z"
   },
   {
    "duration": 21,
    "start_time": "2023-05-14T07:11:46.105Z"
   },
   {
    "duration": 30,
    "start_time": "2023-05-14T07:11:46.128Z"
   },
   {
    "duration": 36,
    "start_time": "2023-05-14T07:11:46.160Z"
   },
   {
    "duration": 21,
    "start_time": "2023-05-14T07:11:46.198Z"
   },
   {
    "duration": 14806,
    "start_time": "2023-05-14T07:11:46.220Z"
   },
   {
    "duration": 5,
    "start_time": "2023-05-14T07:12:01.031Z"
   },
   {
    "duration": 1342,
    "start_time": "2023-05-14T07:12:01.041Z"
   },
   {
    "duration": 4,
    "start_time": "2023-05-14T07:12:02.385Z"
   },
   {
    "duration": 44,
    "start_time": "2023-05-14T07:12:02.390Z"
   },
   {
    "duration": 60,
    "start_time": "2023-05-14T07:12:02.440Z"
   },
   {
    "duration": 92,
    "start_time": "2023-05-14T07:12:02.503Z"
   },
   {
    "duration": 4,
    "start_time": "2023-05-14T07:12:02.597Z"
   },
   {
    "duration": 4,
    "start_time": "2023-05-14T07:14:16.684Z"
   },
   {
    "duration": 5,
    "start_time": "2023-05-14T07:14:33.481Z"
   },
   {
    "duration": 6,
    "start_time": "2023-05-14T07:14:33.937Z"
   },
   {
    "duration": 4577,
    "start_time": "2023-05-14T07:14:34.362Z"
   },
   {
    "duration": 5,
    "start_time": "2023-05-14T07:14:47.326Z"
   },
   {
    "duration": 12,
    "start_time": "2023-05-14T07:15:31.625Z"
   },
   {
    "duration": 13,
    "start_time": "2023-05-14T07:15:46.665Z"
   },
   {
    "duration": 3,
    "start_time": "2023-05-14T07:15:49.289Z"
   },
   {
    "duration": 4041,
    "start_time": "2023-05-14T07:16:15.523Z"
   },
   {
    "duration": 4,
    "start_time": "2023-05-14T07:16:23.397Z"
   },
   {
    "duration": 74,
    "start_time": "2023-05-14T07:17:14.787Z"
   },
   {
    "duration": 4,
    "start_time": "2023-05-14T07:17:23.386Z"
   },
   {
    "duration": 4728,
    "start_time": "2023-05-14T07:17:26.170Z"
   },
   {
    "duration": 3,
    "start_time": "2023-05-14T07:17:30.900Z"
   },
   {
    "duration": 5,
    "start_time": "2023-05-14T07:18:40.450Z"
   },
   {
    "duration": 16486,
    "start_time": "2023-05-14T07:18:41.414Z"
   },
   {
    "duration": 4,
    "start_time": "2023-05-14T07:18:57.903Z"
   },
   {
    "duration": 15,
    "start_time": "2023-05-14T07:19:39.262Z"
   },
   {
    "duration": 5,
    "start_time": "2023-05-14T07:19:41.574Z"
   },
   {
    "duration": 4,
    "start_time": "2023-05-14T07:20:32.714Z"
   },
   {
    "duration": 4964,
    "start_time": "2023-05-14T07:20:33.187Z"
   },
   {
    "duration": 4,
    "start_time": "2023-05-14T07:20:38.152Z"
   },
   {
    "duration": 16,
    "start_time": "2023-05-14T07:20:51.785Z"
   },
   {
    "duration": 48,
    "start_time": "2023-05-14T07:20:52.492Z"
   },
   {
    "duration": 88,
    "start_time": "2023-05-14T07:20:52.894Z"
   },
   {
    "duration": 4,
    "start_time": "2023-05-14T07:20:53.809Z"
   },
   {
    "duration": 4,
    "start_time": "2023-05-14T07:21:35.010Z"
   },
   {
    "duration": 22507,
    "start_time": "2023-05-14T07:21:35.518Z"
   },
   {
    "duration": 5,
    "start_time": "2023-05-14T07:21:58.030Z"
   },
   {
    "duration": 2049,
    "start_time": "2023-05-14T07:21:58.038Z"
   },
   {
    "duration": 6,
    "start_time": "2023-05-14T07:22:00.089Z"
   },
   {
    "duration": 52,
    "start_time": "2023-05-15T04:30:04.486Z"
   },
   {
    "duration": 3,
    "start_time": "2023-05-15T04:30:06.930Z"
   },
   {
    "duration": 6,
    "start_time": "2023-05-15T04:30:07.269Z"
   },
   {
    "duration": 1511,
    "start_time": "2023-05-15T04:30:16.523Z"
   },
   {
    "duration": 66,
    "start_time": "2023-05-15T04:30:18.036Z"
   },
   {
    "duration": 14,
    "start_time": "2023-05-15T04:30:18.104Z"
   },
   {
    "duration": 10,
    "start_time": "2023-05-15T04:30:18.120Z"
   },
   {
    "duration": 20,
    "start_time": "2023-05-15T04:30:18.131Z"
   },
   {
    "duration": 3,
    "start_time": "2023-05-15T04:30:18.152Z"
   },
   {
    "duration": 6,
    "start_time": "2023-05-15T04:30:18.156Z"
   },
   {
    "duration": 4,
    "start_time": "2023-05-15T04:30:18.163Z"
   },
   {
    "duration": 5,
    "start_time": "2023-05-15T04:30:18.168Z"
   },
   {
    "duration": 3,
    "start_time": "2023-05-15T04:30:18.175Z"
   },
   {
    "duration": 101,
    "start_time": "2023-05-15T04:30:18.180Z"
   },
   {
    "duration": 4,
    "start_time": "2023-05-15T04:30:18.282Z"
   },
   {
    "duration": 5,
    "start_time": "2023-05-15T04:30:18.287Z"
   },
   {
    "duration": 4510,
    "start_time": "2023-05-15T04:30:18.294Z"
   },
   {
    "duration": 4,
    "start_time": "2023-05-15T04:30:22.806Z"
   },
   {
    "duration": 4,
    "start_time": "2023-05-15T04:30:22.819Z"
   },
   {
    "duration": 110,
    "start_time": "2023-05-15T04:30:22.826Z"
   },
   {
    "duration": 3,
    "start_time": "2023-05-15T04:31:14.726Z"
   },
   {
    "duration": 13,
    "start_time": "2023-05-15T04:31:19.759Z"
   },
   {
    "duration": 10,
    "start_time": "2023-05-15T04:31:33.353Z"
   },
   {
    "duration": 474690,
    "start_time": "2023-05-15T04:31:50.161Z"
   },
   {
    "duration": 3,
    "start_time": "2023-05-15T04:50:55.308Z"
   },
   {
    "duration": 2,
    "start_time": "2023-05-15T04:51:04.808Z"
   },
   {
    "duration": 122,
    "start_time": "2023-05-15T04:51:38.960Z"
   },
   {
    "duration": 114,
    "start_time": "2023-05-15T04:51:45.126Z"
   },
   {
    "duration": 4,
    "start_time": "2023-05-15T05:39:26.052Z"
   },
   {
    "duration": 1328,
    "start_time": "2023-05-15T05:40:35.260Z"
   },
   {
    "duration": 29,
    "start_time": "2023-05-15T05:40:36.590Z"
   },
   {
    "duration": 14,
    "start_time": "2023-05-15T05:40:36.621Z"
   },
   {
    "duration": 12,
    "start_time": "2023-05-15T05:40:36.637Z"
   },
   {
    "duration": 26,
    "start_time": "2023-05-15T05:40:36.651Z"
   },
   {
    "duration": 3,
    "start_time": "2023-05-15T05:40:36.679Z"
   },
   {
    "duration": 9,
    "start_time": "2023-05-15T05:40:36.683Z"
   },
   {
    "duration": 6,
    "start_time": "2023-05-15T05:40:36.693Z"
   },
   {
    "duration": 6,
    "start_time": "2023-05-15T05:40:36.701Z"
   },
   {
    "duration": 5,
    "start_time": "2023-05-15T05:40:36.710Z"
   },
   {
    "duration": 107,
    "start_time": "2023-05-15T05:40:36.716Z"
   },
   {
    "duration": 3,
    "start_time": "2023-05-15T05:40:36.825Z"
   },
   {
    "duration": 11,
    "start_time": "2023-05-15T05:40:36.829Z"
   },
   {
    "duration": 4704,
    "start_time": "2023-05-15T05:40:36.850Z"
   },
   {
    "duration": 3,
    "start_time": "2023-05-15T05:40:41.556Z"
   },
   {
    "duration": 4,
    "start_time": "2023-05-15T05:40:41.561Z"
   },
   {
    "duration": 137,
    "start_time": "2023-05-15T05:40:41.567Z"
   },
   {
    "duration": 13299,
    "start_time": "2023-05-15T05:40:58.116Z"
   },
   {
    "duration": 3,
    "start_time": "2023-05-15T05:41:11.416Z"
   },
   {
    "duration": 2,
    "start_time": "2023-05-15T05:41:18.035Z"
   },
   {
    "duration": 125,
    "start_time": "2023-05-15T05:41:18.369Z"
   },
   {
    "duration": 118,
    "start_time": "2023-05-15T05:41:32.057Z"
   },
   {
    "duration": 111,
    "start_time": "2023-05-15T05:42:07.062Z"
   },
   {
    "duration": 114,
    "start_time": "2023-05-15T05:42:43.293Z"
   },
   {
    "duration": 236,
    "start_time": "2023-05-15T05:45:34.726Z"
   },
   {
    "duration": 3,
    "start_time": "2023-05-15T05:45:43.914Z"
   },
   {
    "duration": 36,
    "start_time": "2023-05-15T05:45:43.919Z"
   },
   {
    "duration": 10,
    "start_time": "2023-05-15T05:45:43.957Z"
   },
   {
    "duration": 13,
    "start_time": "2023-05-15T05:45:43.968Z"
   },
   {
    "duration": 22,
    "start_time": "2023-05-15T05:45:43.982Z"
   },
   {
    "duration": 4,
    "start_time": "2023-05-15T05:45:44.005Z"
   },
   {
    "duration": 7,
    "start_time": "2023-05-15T05:45:44.010Z"
   },
   {
    "duration": 4,
    "start_time": "2023-05-15T05:45:44.018Z"
   },
   {
    "duration": 5,
    "start_time": "2023-05-15T05:45:44.051Z"
   },
   {
    "duration": 5,
    "start_time": "2023-05-15T05:45:44.058Z"
   },
   {
    "duration": 126,
    "start_time": "2023-05-15T05:45:44.066Z"
   },
   {
    "duration": 5,
    "start_time": "2023-05-15T05:45:44.195Z"
   },
   {
    "duration": 15,
    "start_time": "2023-05-15T05:45:44.202Z"
   },
   {
    "duration": 4767,
    "start_time": "2023-05-15T05:45:44.219Z"
   },
   {
    "duration": 5,
    "start_time": "2023-05-15T05:45:48.987Z"
   },
   {
    "duration": 5,
    "start_time": "2023-05-15T05:45:48.993Z"
   },
   {
    "duration": 13265,
    "start_time": "2023-05-15T05:45:48.999Z"
   },
   {
    "duration": 3,
    "start_time": "2023-05-15T05:46:02.265Z"
   },
   {
    "duration": 146,
    "start_time": "2023-05-15T05:46:02.269Z"
   },
   {
    "duration": 19067,
    "start_time": "2023-05-15T05:46:02.417Z"
   },
   {
    "duration": 3,
    "start_time": "2023-05-15T05:46:21.486Z"
   },
   {
    "duration": 1817,
    "start_time": "2023-05-15T05:46:21.491Z"
   },
   {
    "duration": 73,
    "start_time": "2023-05-15T05:48:00.084Z"
   },
   {
    "duration": 19188,
    "start_time": "2023-05-15T05:48:12.954Z"
   },
   {
    "duration": 7,
    "start_time": "2023-05-15T05:48:32.144Z"
   },
   {
    "duration": 1618,
    "start_time": "2023-05-15T05:48:35.195Z"
   },
   {
    "duration": 1791,
    "start_time": "2023-05-15T05:49:05.659Z"
   },
   {
    "duration": 3,
    "start_time": "2023-05-15T05:49:42.781Z"
   },
   {
    "duration": 12930,
    "start_time": "2023-05-15T05:49:42.786Z"
   },
   {
    "duration": 109,
    "start_time": "2023-05-15T05:50:08.908Z"
   },
   {
    "duration": 18551,
    "start_time": "2023-05-15T05:50:10.568Z"
   },
   {
    "duration": 3,
    "start_time": "2023-05-15T05:50:29.121Z"
   },
   {
    "duration": 1632,
    "start_time": "2023-05-15T05:50:29.125Z"
   },
   {
    "duration": 10,
    "start_time": "2023-05-15T05:50:57.356Z"
   },
   {
    "duration": 3,
    "start_time": "2023-05-15T05:51:06.079Z"
   },
   {
    "duration": 5,
    "start_time": "2023-05-15T05:53:18.483Z"
   },
   {
    "duration": 1773,
    "start_time": "2023-05-15T05:53:49.971Z"
   },
   {
    "duration": 104,
    "start_time": "2023-05-15T05:54:17.522Z"
   },
   {
    "duration": 3,
    "start_time": "2023-05-15T05:54:37.754Z"
   },
   {
    "duration": 10,
    "start_time": "2023-05-15T06:12:15.646Z"
   },
   {
    "duration": 12,
    "start_time": "2023-05-15T06:12:30.869Z"
   },
   {
    "duration": 4152,
    "start_time": "2023-05-15T06:12:42.785Z"
   },
   {
    "duration": 226,
    "start_time": "2023-05-15T06:12:51.220Z"
   },
   {
    "duration": 62,
    "start_time": "2023-05-15T06:12:52.298Z"
   },
   {
    "duration": 35,
    "start_time": "2023-05-15T06:14:37.603Z"
   },
   {
    "duration": 3,
    "start_time": "2023-05-15T06:15:14.025Z"
   },
   {
    "duration": 25,
    "start_time": "2023-05-15T06:15:15.771Z"
   },
   {
    "duration": 5,
    "start_time": "2023-05-15T06:15:47.581Z"
   },
   {
    "duration": 5,
    "start_time": "2023-05-15T06:15:51.268Z"
   },
   {
    "duration": 25,
    "start_time": "2023-05-15T06:15:55.705Z"
   },
   {
    "duration": 23,
    "start_time": "2023-05-15T06:16:18.619Z"
   },
   {
    "duration": 22,
    "start_time": "2023-05-15T06:18:12.673Z"
   },
   {
    "duration": 6,
    "start_time": "2023-05-15T06:18:32.506Z"
   },
   {
    "duration": 12693,
    "start_time": "2023-05-15T06:18:34.781Z"
   },
   {
    "duration": 250,
    "start_time": "2023-05-15T06:19:24.624Z"
   },
   {
    "duration": 3,
    "start_time": "2023-05-15T06:20:24.759Z"
   },
   {
    "duration": 210,
    "start_time": "2023-05-15T06:20:24.763Z"
   },
   {
    "duration": 906,
    "start_time": "2023-05-15T06:21:32.879Z"
   },
   {
    "duration": 111,
    "start_time": "2023-05-15T06:34:31.623Z"
   },
   {
    "duration": 180,
    "start_time": "2023-05-15T06:34:47.989Z"
   },
   {
    "duration": 198,
    "start_time": "2023-05-15T06:35:00.903Z"
   },
   {
    "duration": 192,
    "start_time": "2023-05-15T06:35:14.914Z"
   },
   {
    "duration": 183,
    "start_time": "2023-05-15T06:35:22.739Z"
   },
   {
    "duration": 17,
    "start_time": "2023-05-15T06:41:44.739Z"
   },
   {
    "duration": 5,
    "start_time": "2023-05-15T06:41:49.706Z"
   },
   {
    "duration": 4,
    "start_time": "2023-05-15T06:41:51.345Z"
   },
   {
    "duration": 66441,
    "start_time": "2023-05-15T06:41:52.761Z"
   },
   {
    "duration": 1669,
    "start_time": "2023-05-15T06:43:22.585Z"
   },
   {
    "duration": 44,
    "start_time": "2023-05-15T06:43:24.256Z"
   },
   {
    "duration": 14,
    "start_time": "2023-05-15T06:43:24.302Z"
   },
   {
    "duration": 11,
    "start_time": "2023-05-15T06:43:24.319Z"
   },
   {
    "duration": 24,
    "start_time": "2023-05-15T06:43:24.332Z"
   },
   {
    "duration": 3,
    "start_time": "2023-05-15T06:43:24.358Z"
   },
   {
    "duration": 10,
    "start_time": "2023-05-15T06:43:24.363Z"
   },
   {
    "duration": 5,
    "start_time": "2023-05-15T06:43:24.375Z"
   },
   {
    "duration": 6,
    "start_time": "2023-05-15T06:43:24.381Z"
   },
   {
    "duration": 4,
    "start_time": "2023-05-15T06:43:24.390Z"
   },
   {
    "duration": 108,
    "start_time": "2023-05-15T06:43:24.396Z"
   },
   {
    "duration": 5,
    "start_time": "2023-05-15T06:43:24.506Z"
   },
   {
    "duration": 5,
    "start_time": "2023-05-15T06:43:24.513Z"
   },
   {
    "duration": 4751,
    "start_time": "2023-05-15T06:43:24.520Z"
   },
   {
    "duration": 4,
    "start_time": "2023-05-15T06:43:29.273Z"
   },
   {
    "duration": 6,
    "start_time": "2023-05-15T06:43:29.279Z"
   },
   {
    "duration": 13170,
    "start_time": "2023-05-15T06:43:29.286Z"
   },
   {
    "duration": 140,
    "start_time": "2023-05-15T06:43:42.458Z"
   },
   {
    "duration": 20076,
    "start_time": "2023-05-15T06:43:42.599Z"
   },
   {
    "duration": 3,
    "start_time": "2023-05-15T06:44:02.677Z"
   },
   {
    "duration": 1967,
    "start_time": "2023-05-15T06:44:02.681Z"
   },
   {
    "duration": 5,
    "start_time": "2023-05-15T06:44:04.649Z"
   },
   {
    "duration": 135,
    "start_time": "2023-05-15T06:44:04.655Z"
   },
   {
    "duration": 4,
    "start_time": "2023-05-15T06:44:04.791Z"
   },
   {
    "duration": 8,
    "start_time": "2023-05-15T06:44:04.797Z"
   },
   {
    "duration": 3,
    "start_time": "2023-05-15T06:45:57.997Z"
   },
   {
    "duration": 124,
    "start_time": "2023-05-15T06:47:01.077Z"
   },
   {
    "duration": 9500,
    "start_time": "2023-05-15T06:47:01.202Z"
   },
   {
    "duration": 352328,
    "start_time": "2023-05-15T06:47:13.501Z"
   },
   {
    "duration": 4,
    "start_time": "2023-05-15T06:54:40.784Z"
   },
   {
    "duration": 4,
    "start_time": "2023-05-15T06:54:44.360Z"
   },
   {
    "duration": 3,
    "start_time": "2023-05-15T06:54:47.209Z"
   },
   {
    "duration": 3,
    "start_time": "2023-05-15T06:55:42.547Z"
   },
   {
    "duration": 0,
    "start_time": "2023-05-15T07:01:16.085Z"
   },
   {
    "duration": 12361,
    "start_time": "2023-05-15T07:01:25.232Z"
   },
   {
    "duration": 189109,
    "start_time": "2023-05-15T07:01:38.855Z"
   },
   {
    "duration": 136,
    "start_time": "2023-05-15T07:07:06.185Z"
   },
   {
    "duration": 4,
    "start_time": "2023-05-15T07:07:14.959Z"
   },
   {
    "duration": 3,
    "start_time": "2023-05-15T07:08:10.155Z"
   },
   {
    "duration": 187232,
    "start_time": "2023-05-15T07:08:14.351Z"
   },
   {
    "duration": 3,
    "start_time": "2023-05-15T07:11:21.585Z"
   },
   {
    "duration": 5,
    "start_time": "2023-05-15T07:11:40.760Z"
   },
   {
    "duration": 4,
    "start_time": "2023-05-15T07:11:59.264Z"
   },
   {
    "duration": 129,
    "start_time": "2023-05-15T07:12:39.980Z"
   },
   {
    "duration": 201,
    "start_time": "2023-05-15T07:13:06.926Z"
   },
   {
    "duration": 13914,
    "start_time": "2023-05-15T07:13:10.853Z"
   },
   {
    "duration": 3,
    "start_time": "2023-05-15T07:13:26.203Z"
   },
   {
    "duration": 962,
    "start_time": "2023-05-15T07:13:26.736Z"
   },
   {
    "duration": 5,
    "start_time": "2023-05-15T07:14:15.680Z"
   },
   {
    "duration": 3,
    "start_time": "2023-05-15T07:14:17.343Z"
   },
   {
    "duration": 999,
    "start_time": "2023-05-15T07:16:06.030Z"
   },
   {
    "duration": 3405,
    "start_time": "2023-05-15T07:16:17.391Z"
   },
   {
    "duration": 3,
    "start_time": "2023-05-15T07:16:20.798Z"
   },
   {
    "duration": 722,
    "start_time": "2023-05-15T07:16:20.803Z"
   },
   {
    "duration": 131,
    "start_time": "2023-05-15T07:18:01.901Z"
   },
   {
    "duration": 3,
    "start_time": "2023-05-15T07:18:25.995Z"
   },
   {
    "duration": 111,
    "start_time": "2023-05-15T07:18:26.523Z"
   },
   {
    "duration": 123,
    "start_time": "2023-05-15T07:18:59.047Z"
   },
   {
    "duration": 117,
    "start_time": "2023-05-15T07:19:16.681Z"
   },
   {
    "duration": 3,
    "start_time": "2023-05-15T07:19:40.207Z"
   },
   {
    "duration": 123,
    "start_time": "2023-05-15T07:19:41.961Z"
   },
   {
    "duration": 3,
    "start_time": "2023-05-15T07:19:46.029Z"
   },
   {
    "duration": 126,
    "start_time": "2023-05-15T07:19:46.410Z"
   },
   {
    "duration": 728,
    "start_time": "2023-05-15T07:20:58.782Z"
   },
   {
    "duration": 5,
    "start_time": "2023-05-15T07:21:31.608Z"
   },
   {
    "duration": 3313,
    "start_time": "2023-05-15T07:21:36.878Z"
   },
   {
    "duration": 2,
    "start_time": "2023-05-15T07:21:40.193Z"
   },
   {
    "duration": 746,
    "start_time": "2023-05-15T07:21:40.197Z"
   },
   {
    "duration": 4,
    "start_time": "2023-05-15T07:21:41.116Z"
   },
   {
    "duration": 3,
    "start_time": "2023-05-15T07:22:13.309Z"
   },
   {
    "duration": 4,
    "start_time": "2023-05-15T07:25:09.076Z"
   },
   {
    "duration": 4,
    "start_time": "2023-05-15T07:25:16.035Z"
   },
   {
    "duration": 15,
    "start_time": "2023-05-15T07:28:19.499Z"
   },
   {
    "duration": 129,
    "start_time": "2023-05-15T07:28:19.935Z"
   },
   {
    "duration": 116,
    "start_time": "2023-05-15T07:28:20.328Z"
   },
   {
    "duration": 3,
    "start_time": "2023-05-15T07:28:20.829Z"
   },
   {
    "duration": 2,
    "start_time": "2023-05-15T07:29:03.425Z"
   },
   {
    "duration": 114,
    "start_time": "2023-05-15T07:29:16.040Z"
   },
   {
    "duration": 164,
    "start_time": "2023-05-15T07:33:06.869Z"
   },
   {
    "duration": 814,
    "start_time": "2023-05-15T07:33:48.460Z"
   },
   {
    "duration": 1678,
    "start_time": "2023-05-15T07:34:06.161Z"
   },
   {
    "duration": 26,
    "start_time": "2023-05-15T07:34:07.841Z"
   },
   {
    "duration": 12,
    "start_time": "2023-05-15T07:34:07.869Z"
   },
   {
    "duration": 23,
    "start_time": "2023-05-15T07:34:07.883Z"
   },
   {
    "duration": 31,
    "start_time": "2023-05-15T07:34:07.907Z"
   },
   {
    "duration": 3,
    "start_time": "2023-05-15T07:34:07.940Z"
   },
   {
    "duration": 14,
    "start_time": "2023-05-15T07:34:07.944Z"
   },
   {
    "duration": 10,
    "start_time": "2023-05-15T07:34:07.959Z"
   },
   {
    "duration": 10,
    "start_time": "2023-05-15T07:34:07.970Z"
   },
   {
    "duration": 10,
    "start_time": "2023-05-15T07:34:07.982Z"
   },
   {
    "duration": 84,
    "start_time": "2023-05-15T07:34:07.994Z"
   },
   {
    "duration": 4,
    "start_time": "2023-05-15T07:34:08.079Z"
   },
   {
    "duration": 60,
    "start_time": "2023-05-15T07:34:08.084Z"
   },
   {
    "duration": 4547,
    "start_time": "2023-05-15T07:34:08.146Z"
   },
   {
    "duration": 3,
    "start_time": "2023-05-15T07:34:12.695Z"
   },
   {
    "duration": 12,
    "start_time": "2023-05-15T07:34:12.700Z"
   },
   {
    "duration": 6,
    "start_time": "2023-05-15T07:34:12.713Z"
   },
   {
    "duration": 12795,
    "start_time": "2023-05-15T07:34:12.720Z"
   },
   {
    "duration": 3,
    "start_time": "2023-05-15T07:34:25.517Z"
   },
   {
    "duration": 115,
    "start_time": "2023-05-15T07:34:25.521Z"
   },
   {
    "duration": 18187,
    "start_time": "2023-05-15T07:34:25.638Z"
   },
   {
    "duration": 3,
    "start_time": "2023-05-15T07:34:43.826Z"
   },
   {
    "duration": 1850,
    "start_time": "2023-05-15T07:34:43.830Z"
   },
   {
    "duration": 4,
    "start_time": "2023-05-15T07:34:45.681Z"
   },
   {
    "duration": 120,
    "start_time": "2023-05-15T07:34:45.687Z"
   },
   {
    "duration": 4,
    "start_time": "2023-05-15T07:34:45.809Z"
   },
   {
    "duration": 9,
    "start_time": "2023-05-15T07:34:45.815Z"
   },
   {
    "duration": 2,
    "start_time": "2023-05-15T07:34:45.829Z"
   },
   {
    "duration": 39262,
    "start_time": "2023-05-15T07:34:45.833Z"
   },
   {
    "duration": 3,
    "start_time": "2023-05-15T07:35:25.097Z"
   },
   {
    "duration": 4,
    "start_time": "2023-05-15T07:35:25.102Z"
   },
   {
    "duration": 136,
    "start_time": "2023-05-15T07:35:25.107Z"
   },
   {
    "duration": 3190,
    "start_time": "2023-05-15T07:35:25.245Z"
   },
   {
    "duration": 3,
    "start_time": "2023-05-15T07:35:28.436Z"
   },
   {
    "duration": 728,
    "start_time": "2023-05-15T07:35:28.441Z"
   },
   {
    "duration": 4,
    "start_time": "2023-05-15T07:35:29.171Z"
   },
   {
    "duration": 23,
    "start_time": "2023-05-15T07:35:29.176Z"
   },
   {
    "duration": 117,
    "start_time": "2023-05-15T07:35:29.201Z"
   },
   {
    "duration": 121,
    "start_time": "2023-05-15T07:35:29.319Z"
   },
   {
    "duration": 4,
    "start_time": "2023-05-15T07:35:29.442Z"
   },
   {
    "duration": 4,
    "start_time": "2023-05-15T07:35:29.450Z"
   },
   {
    "duration": 5,
    "start_time": "2023-05-15T07:35:29.456Z"
   },
   {
    "duration": 1466,
    "start_time": "2023-05-15T07:35:46.438Z"
   },
   {
    "duration": 27,
    "start_time": "2023-05-15T07:35:47.906Z"
   },
   {
    "duration": 12,
    "start_time": "2023-05-15T07:35:47.934Z"
   },
   {
    "duration": 11,
    "start_time": "2023-05-15T07:35:47.948Z"
   },
   {
    "duration": 27,
    "start_time": "2023-05-15T07:35:47.961Z"
   },
   {
    "duration": 3,
    "start_time": "2023-05-15T07:35:47.990Z"
   },
   {
    "duration": 15,
    "start_time": "2023-05-15T07:35:47.994Z"
   },
   {
    "duration": 4,
    "start_time": "2023-05-15T07:35:48.011Z"
   },
   {
    "duration": 11,
    "start_time": "2023-05-15T07:35:48.016Z"
   },
   {
    "duration": 22,
    "start_time": "2023-05-15T07:35:48.029Z"
   },
   {
    "duration": 76,
    "start_time": "2023-05-15T07:35:48.053Z"
   },
   {
    "duration": 4,
    "start_time": "2023-05-15T07:35:48.130Z"
   },
   {
    "duration": 15,
    "start_time": "2023-05-15T07:35:48.135Z"
   },
   {
    "duration": 4575,
    "start_time": "2023-05-15T07:35:48.151Z"
   },
   {
    "duration": 3,
    "start_time": "2023-05-15T07:35:52.728Z"
   },
   {
    "duration": 5,
    "start_time": "2023-05-15T07:35:52.733Z"
   },
   {
    "duration": 12680,
    "start_time": "2023-05-15T07:35:52.740Z"
   },
   {
    "duration": 3,
    "start_time": "2023-05-15T07:36:05.421Z"
   },
   {
    "duration": 114,
    "start_time": "2023-05-15T07:36:05.425Z"
   },
   {
    "duration": 18362,
    "start_time": "2023-05-15T07:36:05.540Z"
   },
   {
    "duration": 3,
    "start_time": "2023-05-15T07:36:23.903Z"
   },
   {
    "duration": 1792,
    "start_time": "2023-05-15T07:36:23.907Z"
   },
   {
    "duration": 4,
    "start_time": "2023-05-15T07:36:25.701Z"
   },
   {
    "duration": 118,
    "start_time": "2023-05-15T07:36:25.706Z"
   },
   {
    "duration": 4,
    "start_time": "2023-05-15T07:36:25.826Z"
   },
   {
    "duration": 5,
    "start_time": "2023-05-15T07:36:25.832Z"
   },
   {
    "duration": 3,
    "start_time": "2023-05-15T07:36:25.850Z"
   },
   {
    "duration": 38540,
    "start_time": "2023-05-15T07:36:25.857Z"
   },
   {
    "duration": 3,
    "start_time": "2023-05-15T07:37:04.399Z"
   },
   {
    "duration": 3,
    "start_time": "2023-05-15T07:37:04.404Z"
   },
   {
    "duration": 128,
    "start_time": "2023-05-15T07:37:04.409Z"
   },
   {
    "duration": 3177,
    "start_time": "2023-05-15T07:37:04.539Z"
   },
   {
    "duration": 3,
    "start_time": "2023-05-15T07:37:07.717Z"
   },
   {
    "duration": 748,
    "start_time": "2023-05-15T07:37:07.721Z"
   },
   {
    "duration": 4,
    "start_time": "2023-05-15T07:37:08.471Z"
   },
   {
    "duration": 15,
    "start_time": "2023-05-15T07:37:08.477Z"
   },
   {
    "duration": 128,
    "start_time": "2023-05-15T07:37:08.493Z"
   },
   {
    "duration": 119,
    "start_time": "2023-05-15T07:37:08.623Z"
   },
   {
    "duration": 7,
    "start_time": "2023-05-15T07:37:08.744Z"
   },
   {
    "duration": 8,
    "start_time": "2023-05-15T07:37:08.752Z"
   },
   {
    "duration": 5,
    "start_time": "2023-05-15T07:37:08.761Z"
   }
  ],
  "kernelspec": {
   "display_name": "Python 3 (ipykernel)",
   "language": "python",
   "name": "python3"
  },
  "language_info": {
   "codemirror_mode": {
    "name": "ipython",
    "version": 3
   },
   "file_extension": ".py",
   "mimetype": "text/x-python",
   "name": "python",
   "nbconvert_exporter": "python",
   "pygments_lexer": "ipython3",
   "version": "3.11.3"
  },
  "toc": {
   "base_numbering": 1,
   "nav_menu": {},
   "number_sections": true,
   "sideBar": true,
   "skip_h1_title": true,
   "title_cell": "Table of Contents",
   "title_sidebar": "Contents",
   "toc_cell": false,
   "toc_position": {},
   "toc_section_display": true,
   "toc_window_display": false
  }
 },
 "nbformat": 4,
 "nbformat_minor": 2
}
