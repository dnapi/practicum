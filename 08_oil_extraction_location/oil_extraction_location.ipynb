{
 "cells": [
  {
   "cell_type": "markdown",
   "metadata": {},
   "source": [
    "# Выбор локации для скважины"
   ]
  },
  {
   "cell_type": "markdown",
   "metadata": {},
   "source": [
    "Добывающей компании «ГлавРосГосНефть» нужно решить, где бурить новую скважину.\n",
    "\n",
    "Предоставлены пробы нефти в трёх регионах: в каждом 10 000 месторождений, где измерили качество нефти и объём её запасов. Необходимо построить модель машинного обучения, которая поможет определить регион, где добыча принесёт наибольшую прибыль. Проанализируйте возможную прибыль и риски техникой *Bootstrap.*\n",
    "\n",
    "Шаги для выбора локации:\n",
    "\n",
    "- В избранном регионе ищут месторождения, для каждого определяют значения признаков;\n",
    "- Строят модель и оценивают объём запасов;\n",
    "- Выбирают месторождения с самым высокими оценками значений. Количество месторождений зависит от бюджета компании и стоимости разработки одной скважины;\n",
    "- Прибыль равна суммарной прибыли отобранных месторождений."
   ]
  },
  {
   "cell_type": "markdown",
   "metadata": {},
   "source": [
    "## Загрузка и подготовка данных"
   ]
  },
  {
   "cell_type": "code",
   "execution_count": 1,
   "metadata": {},
   "outputs": [],
   "source": [
    "import pandas as pd\n",
    "from sklearn.preprocessing import StandardScaler\n",
    "from sklearn.model_selection import train_test_split\n",
    "from sklearn.linear_model import LinearRegression\n",
    "from sklearn.metrics import mean_squared_error\n",
    "import numpy as np"
   ]
  },
  {
   "cell_type": "markdown",
   "metadata": {},
   "source": [
    "### Загрузка из изучение данных"
   ]
  },
  {
   "cell_type": "code",
   "execution_count": 2,
   "metadata": {},
   "outputs": [],
   "source": [
    "data=[0,0,0]\n",
    "data[0] = pd.read_csv('/datasets/geo_data_0.csv')\n",
    "data[1] = pd.read_csv('/datasets/geo_data_1.csv')\n",
    "data[2] = pd.read_csv('/datasets/geo_data_2.csv')"
   ]
  },
  {
   "cell_type": "code",
   "execution_count": 3,
   "metadata": {},
   "outputs": [
    {
     "data": {
      "text/plain": [
       "{(100000, 5)}"
      ]
     },
     "execution_count": 3,
     "metadata": {},
     "output_type": "execute_result"
    }
   ],
   "source": [
    "{d.shape for d in data}"
   ]
  },
  {
   "cell_type": "code",
   "execution_count": 4,
   "metadata": {},
   "outputs": [
    {
     "data": {
      "text/plain": [
       "[['id', 'f0', 'f1', 'f2', 'product'],\n",
       " ['id', 'f0', 'f1', 'f2', 'product'],\n",
       " ['id', 'f0', 'f1', 'f2', 'product']]"
      ]
     },
     "execution_count": 4,
     "metadata": {},
     "output_type": "execute_result"
    }
   ],
   "source": [
    "[list(d.columns) for d in data]"
   ]
  },
  {
   "cell_type": "code",
   "execution_count": 5,
   "metadata": {},
   "outputs": [
    {
     "data": {
      "text/plain": [
       "RangeIndex(start=0, stop=100000, step=1)"
      ]
     },
     "execution_count": 5,
     "metadata": {},
     "output_type": "execute_result"
    }
   ],
   "source": [
    "data[0].index"
   ]
  },
  {
   "cell_type": "code",
   "execution_count": 9,
   "metadata": {},
   "outputs": [
    {
     "data": {
      "text/plain": [
       "[0, 0, 0]"
      ]
     },
     "execution_count": 9,
     "metadata": {},
     "output_type": "execute_result"
    }
   ],
   "source": [
    "[data[i].duplicated().sum() for i in [0,1,2]]"
   ]
  },
  {
   "cell_type": "code",
   "execution_count": 6,
   "metadata": {},
   "outputs": [
    {
     "name": "stdout",
     "output_type": "stream",
     "text": [
      "<class 'pandas.core.frame.DataFrame'>\n",
      "RangeIndex: 100000 entries, 0 to 99999\n",
      "Data columns (total 5 columns):\n",
      " #   Column   Non-Null Count   Dtype  \n",
      "---  ------   --------------   -----  \n",
      " 0   id       100000 non-null  object \n",
      " 1   f0       100000 non-null  float64\n",
      " 2   f1       100000 non-null  float64\n",
      " 3   f2       100000 non-null  float64\n",
      " 4   product  100000 non-null  float64\n",
      "dtypes: float64(4), object(1)\n",
      "memory usage: 3.8+ MB\n",
      "None\n",
      "<class 'pandas.core.frame.DataFrame'>\n",
      "RangeIndex: 100000 entries, 0 to 99999\n",
      "Data columns (total 5 columns):\n",
      " #   Column   Non-Null Count   Dtype  \n",
      "---  ------   --------------   -----  \n",
      " 0   id       100000 non-null  object \n",
      " 1   f0       100000 non-null  float64\n",
      " 2   f1       100000 non-null  float64\n",
      " 3   f2       100000 non-null  float64\n",
      " 4   product  100000 non-null  float64\n",
      "dtypes: float64(4), object(1)\n",
      "memory usage: 3.8+ MB\n",
      "None\n",
      "<class 'pandas.core.frame.DataFrame'>\n",
      "RangeIndex: 100000 entries, 0 to 99999\n",
      "Data columns (total 5 columns):\n",
      " #   Column   Non-Null Count   Dtype  \n",
      "---  ------   --------------   -----  \n",
      " 0   id       100000 non-null  object \n",
      " 1   f0       100000 non-null  float64\n",
      " 2   f1       100000 non-null  float64\n",
      " 3   f2       100000 non-null  float64\n",
      " 4   product  100000 non-null  float64\n",
      "dtypes: float64(4), object(1)\n",
      "memory usage: 3.8+ MB\n",
      "None\n"
     ]
    }
   ],
   "source": [
    "for d in data:\n",
    "    print(d.info())"
   ]
  },
  {
   "cell_type": "code",
   "execution_count": 7,
   "metadata": {},
   "outputs": [
    {
     "name": "stdout",
     "output_type": "stream",
     "text": [
      "                  f0             f1             f2        product\n",
      "count  100000.000000  100000.000000  100000.000000  100000.000000\n",
      "mean        0.500419       0.250143       2.502647      92.500000\n",
      "std         0.871832       0.504433       3.248248      44.288691\n",
      "min        -1.408605      -0.848218     -12.088328       0.000000\n",
      "25%        -0.072580      -0.200881       0.287748      56.497507\n",
      "50%         0.502360       0.250252       2.515969      91.849972\n",
      "75%         1.073581       0.700646       4.715088     128.564089\n",
      "max         2.362331       1.343769      16.003790     185.364347\n",
      "                  f0             f1             f2        product\n",
      "count  100000.000000  100000.000000  100000.000000  100000.000000\n",
      "mean        1.141296      -4.796579       2.494541      68.825000\n",
      "std         8.965932       5.119872       1.703572      45.944423\n",
      "min       -31.609576     -26.358598      -0.018144       0.000000\n",
      "25%        -6.298551      -8.267985       1.000021      26.953261\n",
      "50%         1.153055      -4.813172       2.011479      57.085625\n",
      "75%         8.621015      -1.332816       3.999904     107.813044\n",
      "max        29.421755      18.734063       5.019721     137.945408\n",
      "                  f0             f1             f2        product\n",
      "count  100000.000000  100000.000000  100000.000000  100000.000000\n",
      "mean        0.002023      -0.002081       2.495128      95.000000\n",
      "std         1.732045       1.730417       3.473445      44.749921\n",
      "min        -8.760004      -7.084020     -11.970335       0.000000\n",
      "25%        -1.162288      -1.174820       0.130359      59.450441\n",
      "50%         0.009424      -0.009482       2.484236      94.925613\n",
      "75%         1.158535       1.163678       4.858794     130.595027\n",
      "max         7.238262       7.844801      16.739402     190.029838\n"
     ]
    }
   ],
   "source": [
    "for d in data:\n",
    "    print(d.describe())"
   ]
  },
  {
   "cell_type": "markdown",
   "metadata": {},
   "source": [
    "### Разделение признаков "
   ]
  },
  {
   "cell_type": "code",
   "execution_count": 8,
   "metadata": {},
   "outputs": [],
   "source": [
    "features_train = [None]*len(data)\n",
    "features_valid = [None]*len(data)\n",
    "target_train = [None]*len(data)\n",
    "target_valid = [None]*len(data)\n",
    "for i in range(len(data)):\n",
    "    f=data[i].drop(columns=['product','id'])\n",
    "    t=data[i]['product']\n",
    "    features_train[i], features_valid[i], target_train[i], target_valid[i] = train_test_split(\n",
    "        f,t,test_size=0.25,random_state=12345)"
   ]
  },
  {
   "cell_type": "markdown",
   "metadata": {},
   "source": [
    "### Маштабирование признаков "
   ]
  },
  {
   "cell_type": "code",
   "execution_count": 9,
   "metadata": {},
   "outputs": [],
   "source": [
    "for i in range(len(data)):\n",
    "    scaler = StandardScaler()\n",
    "    scaler.fit(features_train[i])\n",
    "    features_train[i] = scaler.transform(features_train[i])\n",
    "    features_valid[i] = scaler.transform(features_valid[i])"
   ]
  },
  {
   "cell_type": "markdown",
   "metadata": {},
   "source": [
    "### Выводы"
   ]
  },
  {
   "cell_type": "markdown",
   "metadata": {},
   "source": [
    " В этом разделе мы загрузили, исследовали и подготовили данные. Исследование данных не выявило никаких аномалий (пропусков, не соответствий типов, дубликатов), но было обнаружено что числовые признаки имеют разный масштаб. Поэтому в подготовку данных вошло не только стандартная разбивка на тренировочные и валидационные данные, но и маштабирование (не целевых) числовых признаков.  "
   ]
  },
  {
   "cell_type": "markdown",
   "metadata": {},
   "source": [
    "## Обучение и проверка модели"
   ]
  },
  {
   "cell_type": "code",
   "execution_count": 10,
   "metadata": {},
   "outputs": [
    {
     "name": "stdout",
     "output_type": "stream",
     "text": [
      "Регион 0\n",
      "Предсказания запаса сырья 92.59256778438035\n",
      "RMSE метрика 37.5794217150813\n",
      "\n",
      "Регион 1\n",
      "Предсказания запаса сырья 68.728546895446\n",
      "RMSE метрика 0.893099286775617\n",
      "\n",
      "Регион 2\n",
      "Предсказания запаса сырья 94.96504596800489\n",
      "RMSE метрика 40.02970873393434\n",
      "\n"
     ]
    }
   ],
   "source": [
    "model = [None]*len(data)\n",
    "prediction_valid = [None]*len(data)\n",
    "rmse = [None]*len(data)\n",
    "mean_product = [None]*len(data)\n",
    "for i in range(len(data)):\n",
    "    model[i]=LinearRegression()\n",
    "    model[i].fit(features_train[i],target_train[i])\n",
    "    prediction_valid[i] = model[i].predict(features_valid[i])\n",
    "    rmse[i] = mean_squared_error(target_valid[i], prediction_valid[i], squared = False)\n",
    "    mean_product[i] = prediction_valid[i].mean()\n",
    "    print('Регион',i)\n",
    "    print('Предсказания запаса сырья', mean_product[i])\n",
    "    print('RMSE метрика', rmse[i],end='\\n\\n')"
   ]
  },
  {
   "cell_type": "markdown",
   "metadata": {},
   "source": [
    "Построенная модель на данных Регион 1 имеет наименьшее значение предсказания среднего запаса сырья в скважинах но точность модели существенно выше чем в регионе 0 и 2. "
   ]
  },
  {
   "cell_type": "markdown",
   "metadata": {},
   "source": [
    "## Подготовка к расчёту прибыли"
   ]
  },
  {
   "cell_type": "code",
   "execution_count": 11,
   "metadata": {},
   "outputs": [],
   "source": [
    "number_to_explore =500\n",
    "number_to_select = 200\n",
    "revenue_per_barrel = 450\n",
    "budget_well_dev=10**10\n",
    "alpha_threshold=0.025"
   ]
  },
  {
   "cell_type": "markdown",
   "metadata": {},
   "source": [
    "Достаточный объем сырья для безубыточной разработки новой скаважины составляет"
   ]
  },
  {
   "cell_type": "code",
   "execution_count": 12,
   "metadata": {},
   "outputs": [
    {
     "name": "stdout",
     "output_type": "stream",
     "text": [
      "111,111.11 баррель\n"
     ]
    }
   ],
   "source": [
    "min_oil_reserve = budget_well_dev/number_to_select/revenue_per_barrel\n",
    "print(f'{min_oil_reserve:,.2f} баррель')"
   ]
  },
  {
   "cell_type": "code",
   "execution_count": 13,
   "metadata": {},
   "outputs": [
    {
     "name": "stdout",
     "output_type": "stream",
     "text": [
      "Среднии доходности скважин по регионам\n",
      "Регион 0 : 41,666,655.50  руб.\n",
      "Регион 1 : 30,927,846.10  руб.\n",
      "Регион 2 : 42,734,270.69  руб.\n"
     ]
    }
   ],
   "source": [
    "print('Среднии доходности скважин по регионам')\n",
    "for i in range(len(data)):\n",
    "    print(f'Регион {i} : {mean_product[i]*1000*revenue_per_barrel:,.2f}  руб.')"
   ]
  },
  {
   "cell_type": "markdown",
   "metadata": {},
   "source": [
    "Достаточный объем сырья, для безубыточной разработки,  привышает средний уровень объема сырья. Т.е. требуется отбор лучших скважин и проверка доходности такого отбора и риск убытка."
   ]
  },
  {
   "cell_type": "markdown",
   "metadata": {},
   "source": [
    "## Расчёт прибыли и рисков "
   ]
  },
  {
   "cell_type": "code",
   "execution_count": 14,
   "metadata": {},
   "outputs": [],
   "source": [
    "def revenue(target, predicted, count):\n",
    "    probs_sorted = predicted.sort_values(ascending=False)\n",
    "    selected = target[probs_sorted.index][:count]\n",
    "    return revenue_per_barrel *  1000 * selected.sum()  - budget_well_dev "
   ]
  },
  {
   "cell_type": "code",
   "execution_count": 15,
   "metadata": {},
   "outputs": [
    {
     "name": "stdout",
     "output_type": "stream",
     "text": [
      "Прибыль на основе предсказаний 200 лучших скважин\n",
      "Регион 0:  3,320,826,043.14\n",
      "Регион 1:  2,415,086,696.68\n",
      "Регион 2:  2,710,349,963.60\n"
     ]
    }
   ],
   "source": [
    "print(f'Прибыль на основе предсказаний {number_to_select} лучших скважин')\n",
    "for i in range(len(data)):\n",
    "    pred=pd.Series(data=prediction_valid[i],index=target_valid[i].index)\n",
    "    print('Регион',i,end=':  ')\n",
    "    print(f'{revenue(target_valid[i], pred, number_to_select):,.2f}')"
   ]
  },
  {
   "cell_type": "markdown",
   "metadata": {},
   "source": [
    "## Расчет рисков и прибыли для каждого региона"
   ]
  },
  {
   "cell_type": "code",
   "execution_count": 18,
   "metadata": {},
   "outputs": [
    {
     "name": "stdout",
     "output_type": "stream",
     "text": [
      "Регион 0\n",
      "   p-value для положительной доходсти = риск убытков = 0.06\n",
      "   Среднее значение прибыли  425,938,526.91\n",
      "   95% интервал прибыли  (-102,090,094.84, 947,976,353.36) \n",
      "\n",
      "Регион 1\n",
      "   p-value для положительной доходсти = риск убытков = 0.003\n",
      "   Среднее значение прибыли  518,259,493.70\n",
      "   95% интервал прибыли  (128,123,231.43, 953,612,982.07) \n",
      "\n",
      "Регион 2\n",
      "   p-value для положительной доходсти = риск убытков = 0.062\n",
      "   Среднее значение прибыли  420,194,005.34\n",
      "   95% интервал прибыли  (-115,852,609.16, 989,629,939.84) \n",
      "\n"
     ]
    }
   ],
   "source": [
    "state = np.random.RandomState(12345)\n",
    "revenue_list=[None]*3\n",
    "for i in range(len(data)):\n",
    "    revenue_list[i]=[]\n",
    "    for j in range(1000):\n",
    "        prediction=pd.Series(data=prediction_valid[i],index=target_valid[i].index)\n",
    "        target_subsample = target_valid[i].sample(n=500,replace=True,random_state=state)\n",
    "        prediction_subsample = prediction[target_subsample.index]\n",
    "        rev = revenue(target_subsample,prediction_subsample,200)\n",
    "        revenue_list[i].append(rev)\n",
    "        #subsample.quantile(0.99)\n",
    "    values=pd.Series(revenue_list[i])\n",
    "    neg=values<=0 #10**7\n",
    "    p_value=neg.mean()\n",
    "    lower = values.quantile(0.025) # < напишите код здесь >\n",
    "    higher = values.quantile(0.975)\n",
    "    #print(p_value,values.mean())\n",
    "    print('Регион',i)\n",
    "    print(f'   p-value для положительной доходсти = риск убытков = {p_value}')\n",
    "    print(f'   Среднее значение прибыли  {values.mean():,.2f}' )  #- 10**7\n",
    "    print(f'   95% интервал прибыли  ({lower:,.2f}, {higher:,.2f}) ')  #- 10**7\n",
    "    print()"
   ]
  },
  {
   "cell_type": "markdown",
   "metadata": {},
   "source": [
    "## Выводы"
   ]
  },
  {
   "cell_type": "markdown",
   "metadata": {},
   "source": [
    "Проведенно исследование данных по запасам скважин в трех регионах. Для каждого региона построена модель предсказания запаса. На основе построенных моделей проведен расчет риска убыточности и 95% доверительного интервала для прибыли. \n",
    "\n",
    "Не смотря на то, что среднее значение запасов сырья в регионе 1 самое низкое, среднее значение прибыли в этом регионе самое высокое. Также в регионе 1 самый низкий уровень риска убытко 0.3%, что ниже ниже порога 2.5%. В регионах 0 и 2 риск убытков состовляе прим. 6%.\n",
    "\n",
    "Рекомендуем Регион 1 для разработки. "
   ]
  },
  {
   "cell_type": "markdown",
   "metadata": {},
   "source": [
    "## Чек-лист готовности проекта"
   ]
  },
  {
   "cell_type": "markdown",
   "metadata": {},
   "source": [
    "Поставьте 'x' в выполненных пунктах. Далее нажмите Shift+Enter."
   ]
  },
  {
   "cell_type": "markdown",
   "metadata": {},
   "source": [
    "- [x]  Jupyter Notebook открыт\n",
    "- [x]  Весь код выполняется без ошибок\n",
    "- [x]  Ячейки с кодом расположены в порядке исполнения\n",
    "- [x]  Выполнен шаг 1: данные подготовлены\n",
    "- [x]  Выполнен шаг 2: модели обучены и проверены\n",
    "    - [x]  Данные корректно разбиты на обучающую и валидационную выборки\n",
    "    - [x]  Модели обучены, предсказания сделаны\n",
    "    - [x]  Предсказания и правильные ответы на валидационной выборке сохранены\n",
    "    - [x]  На экране напечатаны результаты\n",
    "    - [x]  Сделаны выводы\n",
    "- [x]  Выполнен шаг 3: проведена подготовка к расчёту прибыли\n",
    "    - [x]  Для всех ключевых значений созданы константы Python\n",
    "    - [x]  Посчитано минимальное среднее количество продукта в месторождениях региона, достаточное для разработки\n",
    "    - [x]  По предыдущему пункту сделаны выводы\n",
    "    - [x]  Написана функция расчёта прибыли\n",
    "- [x]  Выполнен шаг 4: посчитаны риски и прибыль\n",
    "    - [x]  Проведена процедура *Bootstrap*\n",
    "    - [x]  Все параметры бутстрепа соответствуют условию\n",
    "    - [x]  Найдены все нужные величины\n",
    "    - [x]  Предложен регион для разработки месторождения\n",
    "    - [x]  Выбор региона обоснован"
   ]
  },
  {
   "cell_type": "code",
   "execution_count": null,
   "metadata": {},
   "outputs": [],
   "source": []
  }
 ],
 "metadata": {
  "ExecuteTimeLog": [
   {
    "duration": 62,
    "start_time": "2023-06-08T13:15:05.326Z"
   },
   {
    "duration": 466,
    "start_time": "2023-06-08T13:15:18.803Z"
   },
   {
    "duration": 894,
    "start_time": "2023-06-08T13:15:19.271Z"
   },
   {
    "duration": 1288,
    "start_time": "2023-06-08T13:15:46.118Z"
   },
   {
    "duration": 9,
    "start_time": "2023-06-08T13:16:29.128Z"
   },
   {
    "duration": 29,
    "start_time": "2023-06-08T13:16:35.447Z"
   },
   {
    "duration": 7,
    "start_time": "2023-06-08T13:16:43.616Z"
   },
   {
    "duration": 7,
    "start_time": "2023-06-08T13:16:50.212Z"
   },
   {
    "duration": 7,
    "start_time": "2023-06-08T13:16:51.551Z"
   },
   {
    "duration": 7,
    "start_time": "2023-06-08T13:16:54.983Z"
   },
   {
    "duration": 8,
    "start_time": "2023-06-08T13:16:57.488Z"
   },
   {
    "duration": 5,
    "start_time": "2023-06-08T13:17:04.027Z"
   },
   {
    "duration": 9,
    "start_time": "2023-06-08T13:17:20.952Z"
   },
   {
    "duration": 4,
    "start_time": "2023-06-08T13:17:27.441Z"
   },
   {
    "duration": 1144,
    "start_time": "2023-06-09T05:47:59.522Z"
   },
   {
    "duration": 3,
    "start_time": "2023-06-09T05:48:01.553Z"
   },
   {
    "duration": 1956,
    "start_time": "2023-06-09T05:48:01.878Z"
   },
   {
    "duration": 8,
    "start_time": "2023-06-09T05:48:03.836Z"
   },
   {
    "duration": 22,
    "start_time": "2023-06-09T05:48:03.846Z"
   },
   {
    "duration": 19,
    "start_time": "2023-06-09T05:48:03.870Z"
   },
   {
    "duration": 93,
    "start_time": "2023-06-09T05:48:15.948Z"
   },
   {
    "duration": 11,
    "start_time": "2023-06-09T05:48:20.048Z"
   },
   {
    "duration": 15,
    "start_time": "2023-06-09T05:48:26.009Z"
   },
   {
    "duration": 12,
    "start_time": "2023-06-09T05:48:43.939Z"
   },
   {
    "duration": 9,
    "start_time": "2023-06-09T05:48:46.737Z"
   },
   {
    "duration": 36,
    "start_time": "2023-06-09T05:48:50.177Z"
   },
   {
    "duration": 364,
    "start_time": "2023-06-09T05:51:41.595Z"
   },
   {
    "duration": 4,
    "start_time": "2023-06-09T05:51:47.437Z"
   },
   {
    "duration": 5,
    "start_time": "2023-06-09T05:52:19.983Z"
   },
   {
    "duration": 5,
    "start_time": "2023-06-09T05:53:12.870Z"
   },
   {
    "duration": 16,
    "start_time": "2023-06-09T05:53:26.825Z"
   },
   {
    "duration": 5,
    "start_time": "2023-06-09T05:53:44.463Z"
   },
   {
    "duration": 5,
    "start_time": "2023-06-09T05:53:57.140Z"
   },
   {
    "duration": 4,
    "start_time": "2023-06-09T05:54:03.250Z"
   },
   {
    "duration": 12,
    "start_time": "2023-06-09T05:54:07.938Z"
   },
   {
    "duration": 4,
    "start_time": "2023-06-09T05:54:11.702Z"
   },
   {
    "duration": 6,
    "start_time": "2023-06-09T05:54:32.122Z"
   },
   {
    "duration": 5,
    "start_time": "2023-06-09T05:54:37.208Z"
   },
   {
    "duration": 13,
    "start_time": "2023-06-09T05:54:44.939Z"
   },
   {
    "duration": 4,
    "start_time": "2023-06-09T05:54:56.212Z"
   },
   {
    "duration": 13,
    "start_time": "2023-06-09T05:54:58.570Z"
   },
   {
    "duration": 5,
    "start_time": "2023-06-09T05:55:02.444Z"
   },
   {
    "duration": 6,
    "start_time": "2023-06-09T05:55:06.438Z"
   },
   {
    "duration": 5,
    "start_time": "2023-06-09T05:55:13.604Z"
   },
   {
    "duration": 6,
    "start_time": "2023-06-09T05:55:23.444Z"
   },
   {
    "duration": 21,
    "start_time": "2023-06-09T05:55:29.498Z"
   },
   {
    "duration": 15,
    "start_time": "2023-06-09T05:55:35.036Z"
   },
   {
    "duration": 15,
    "start_time": "2023-06-09T05:55:36.688Z"
   },
   {
    "duration": 38,
    "start_time": "2023-06-09T05:55:56.637Z"
   },
   {
    "duration": 38,
    "start_time": "2023-06-09T05:55:59.801Z"
   },
   {
    "duration": 38,
    "start_time": "2023-06-09T05:56:22.697Z"
   },
   {
    "duration": 42,
    "start_time": "2023-06-09T06:06:44.502Z"
   },
   {
    "duration": 80,
    "start_time": "2023-06-09T06:07:06.750Z"
   },
   {
    "duration": 92,
    "start_time": "2023-06-09T06:07:12.439Z"
   },
   {
    "duration": 9,
    "start_time": "2023-06-09T06:14:15.346Z"
   },
   {
    "duration": 10,
    "start_time": "2023-06-09T06:14:22.954Z"
   },
   {
    "duration": 13,
    "start_time": "2023-06-09T06:14:35.522Z"
   },
   {
    "duration": 4,
    "start_time": "2023-06-09T06:14:38.416Z"
   },
   {
    "duration": 10,
    "start_time": "2023-06-09T06:15:22.990Z"
   },
   {
    "duration": 14,
    "start_time": "2023-06-09T06:15:27.540Z"
   },
   {
    "duration": 15,
    "start_time": "2023-06-09T06:15:43.801Z"
   },
   {
    "duration": 18,
    "start_time": "2023-06-09T06:17:06.789Z"
   },
   {
    "duration": 18,
    "start_time": "2023-06-09T06:18:28.619Z"
   },
   {
    "duration": 19,
    "start_time": "2023-06-09T06:22:17.253Z"
   },
   {
    "duration": 3,
    "start_time": "2023-06-09T06:22:28.764Z"
   },
   {
    "duration": 6,
    "start_time": "2023-06-09T06:22:47.221Z"
   },
   {
    "duration": 738,
    "start_time": "2023-06-09T06:22:47.868Z"
   },
   {
    "duration": 5,
    "start_time": "2023-06-09T06:22:48.608Z"
   },
   {
    "duration": 8,
    "start_time": "2023-06-09T06:22:48.615Z"
   },
   {
    "duration": 4,
    "start_time": "2023-06-09T06:22:48.751Z"
   },
   {
    "duration": 45,
    "start_time": "2023-06-09T06:22:49.070Z"
   },
   {
    "duration": 94,
    "start_time": "2023-06-09T06:22:49.369Z"
   },
   {
    "duration": 16,
    "start_time": "2023-06-09T06:22:50.080Z"
   },
   {
    "duration": 9,
    "start_time": "2023-06-09T06:25:20.564Z"
   },
   {
    "duration": 12,
    "start_time": "2023-06-09T06:25:23.046Z"
   },
   {
    "duration": 9,
    "start_time": "2023-06-09T06:25:39.718Z"
   },
   {
    "duration": 3,
    "start_time": "2023-06-09T06:25:58.078Z"
   },
   {
    "duration": 4,
    "start_time": "2023-06-09T06:26:05.226Z"
   },
   {
    "duration": 4,
    "start_time": "2023-06-09T06:26:07.402Z"
   },
   {
    "duration": 82,
    "start_time": "2023-06-09T06:27:13.206Z"
   },
   {
    "duration": 21,
    "start_time": "2023-06-09T06:27:38.670Z"
   },
   {
    "duration": 9,
    "start_time": "2023-06-09T06:27:49.543Z"
   },
   {
    "duration": 9,
    "start_time": "2023-06-09T06:27:52.686Z"
   },
   {
    "duration": 4,
    "start_time": "2023-06-09T06:28:05.835Z"
   },
   {
    "duration": 4,
    "start_time": "2023-06-09T06:28:20.181Z"
   },
   {
    "duration": 4,
    "start_time": "2023-06-09T06:28:26.991Z"
   },
   {
    "duration": 2,
    "start_time": "2023-06-09T06:28:29.419Z"
   },
   {
    "duration": 29,
    "start_time": "2023-06-09T06:28:49.224Z"
   },
   {
    "duration": 78,
    "start_time": "2023-06-09T06:28:49.719Z"
   },
   {
    "duration": 4,
    "start_time": "2023-06-09T06:28:53.112Z"
   },
   {
    "duration": 5,
    "start_time": "2023-06-09T06:28:58.610Z"
   },
   {
    "duration": 4,
    "start_time": "2023-06-09T06:29:25.252Z"
   },
   {
    "duration": 5,
    "start_time": "2023-06-09T06:29:37.084Z"
   },
   {
    "duration": 4,
    "start_time": "2023-06-09T06:29:50.600Z"
   },
   {
    "duration": 16,
    "start_time": "2023-06-09T06:30:06.543Z"
   },
   {
    "duration": 9,
    "start_time": "2023-06-09T06:30:13.292Z"
   },
   {
    "duration": 64,
    "start_time": "2023-06-09T06:41:53.385Z"
   },
   {
    "duration": 8,
    "start_time": "2023-06-09T06:41:54.178Z"
   },
   {
    "duration": 5,
    "start_time": "2023-06-09T06:41:54.820Z"
   },
   {
    "duration": 4,
    "start_time": "2023-06-09T06:41:55.896Z"
   },
   {
    "duration": 3,
    "start_time": "2023-06-09T06:43:37.188Z"
   },
   {
    "duration": 3,
    "start_time": "2023-06-09T06:43:41.643Z"
   },
   {
    "duration": 5,
    "start_time": "2023-06-09T06:43:44.131Z"
   },
   {
    "duration": 5,
    "start_time": "2023-06-09T06:43:46.885Z"
   },
   {
    "duration": 69,
    "start_time": "2023-06-09T06:44:26.176Z"
   },
   {
    "duration": 8,
    "start_time": "2023-06-09T06:44:26.617Z"
   },
   {
    "duration": 4,
    "start_time": "2023-06-09T06:44:27.123Z"
   },
   {
    "duration": 4,
    "start_time": "2023-06-09T06:44:27.654Z"
   },
   {
    "duration": 5,
    "start_time": "2023-06-09T06:44:38.391Z"
   },
   {
    "duration": 4,
    "start_time": "2023-06-09T06:46:17.108Z"
   },
   {
    "duration": 11,
    "start_time": "2023-06-09T06:46:55.541Z"
   },
   {
    "duration": 12,
    "start_time": "2023-06-09T06:46:59.159Z"
   },
   {
    "duration": 11,
    "start_time": "2023-06-09T06:47:06.962Z"
   },
   {
    "duration": 12,
    "start_time": "2023-06-09T06:47:09.110Z"
   },
   {
    "duration": 10,
    "start_time": "2023-06-09T06:47:11.879Z"
   },
   {
    "duration": 11,
    "start_time": "2023-06-09T06:47:19.530Z"
   },
   {
    "duration": 67,
    "start_time": "2023-06-09T06:49:00.852Z"
   },
   {
    "duration": 10,
    "start_time": "2023-06-09T06:49:01.255Z"
   },
   {
    "duration": 4,
    "start_time": "2023-06-09T06:49:01.736Z"
   },
   {
    "duration": 9,
    "start_time": "2023-06-09T06:49:03.625Z"
   },
   {
    "duration": 11,
    "start_time": "2023-06-09T06:49:06.865Z"
   },
   {
    "duration": 4,
    "start_time": "2023-06-09T06:49:10.505Z"
   },
   {
    "duration": 84,
    "start_time": "2023-06-09T06:49:58.649Z"
   },
   {
    "duration": 10,
    "start_time": "2023-06-09T06:49:59.302Z"
   },
   {
    "duration": 5,
    "start_time": "2023-06-09T06:49:59.649Z"
   },
   {
    "duration": 4,
    "start_time": "2023-06-09T06:49:59.982Z"
   },
   {
    "duration": 46,
    "start_time": "2023-06-09T06:53:45.798Z"
   },
   {
    "duration": 35,
    "start_time": "2023-06-09T06:53:57.498Z"
   },
   {
    "duration": 11,
    "start_time": "2023-06-09T06:54:23.133Z"
   },
   {
    "duration": 6,
    "start_time": "2023-06-09T06:54:27.404Z"
   },
   {
    "duration": 12,
    "start_time": "2023-06-09T06:54:32.890Z"
   },
   {
    "duration": 40,
    "start_time": "2023-06-09T06:55:50.307Z"
   },
   {
    "duration": 9,
    "start_time": "2023-06-09T06:55:51.695Z"
   },
   {
    "duration": 25,
    "start_time": "2023-06-09T06:55:55.921Z"
   },
   {
    "duration": 26,
    "start_time": "2023-06-09T06:57:42.426Z"
   },
   {
    "duration": 20,
    "start_time": "2023-06-09T06:58:06.185Z"
   },
   {
    "duration": 20,
    "start_time": "2023-06-09T06:58:10.867Z"
   },
   {
    "duration": 11,
    "start_time": "2023-06-09T06:58:43.914Z"
   },
   {
    "duration": 10,
    "start_time": "2023-06-09T06:58:51.112Z"
   },
   {
    "duration": 17,
    "start_time": "2023-06-09T07:02:01.669Z"
   },
   {
    "duration": 20,
    "start_time": "2023-06-09T07:03:28.927Z"
   },
   {
    "duration": 11,
    "start_time": "2023-06-09T07:03:51.391Z"
   },
   {
    "duration": 63,
    "start_time": "2023-06-09T07:04:00.404Z"
   },
   {
    "duration": 72,
    "start_time": "2023-06-09T07:08:08.988Z"
   },
   {
    "duration": 94,
    "start_time": "2023-06-09T07:08:24.371Z"
   },
   {
    "duration": 55,
    "start_time": "2023-06-09T07:08:40.609Z"
   },
   {
    "duration": 184,
    "start_time": "2023-06-09T07:08:47.174Z"
   },
   {
    "duration": 110,
    "start_time": "2023-06-09T07:08:51.353Z"
   },
   {
    "duration": 201,
    "start_time": "2023-06-09T07:09:50.856Z"
   },
   {
    "duration": 4,
    "start_time": "2023-06-09T07:17:35.618Z"
   },
   {
    "duration": 4,
    "start_time": "2023-06-09T07:19:42.919Z"
   },
   {
    "duration": 4,
    "start_time": "2023-06-09T07:19:56.382Z"
   },
   {
    "duration": 4,
    "start_time": "2023-06-09T07:19:58.500Z"
   },
   {
    "duration": 103,
    "start_time": "2023-06-09T07:20:07.626Z"
   },
   {
    "duration": 5,
    "start_time": "2023-06-09T07:20:09.518Z"
   },
   {
    "duration": 5,
    "start_time": "2023-06-09T07:21:58.844Z"
   },
   {
    "duration": 4,
    "start_time": "2023-06-09T07:22:09.282Z"
   },
   {
    "duration": 4,
    "start_time": "2023-06-09T07:22:23.431Z"
   },
   {
    "duration": 4,
    "start_time": "2023-06-09T07:24:18.418Z"
   },
   {
    "duration": 4,
    "start_time": "2023-06-09T07:26:17.160Z"
   },
   {
    "duration": 4,
    "start_time": "2023-06-09T07:27:11.098Z"
   },
   {
    "duration": 4,
    "start_time": "2023-06-09T07:27:45.110Z"
   },
   {
    "duration": 5,
    "start_time": "2023-06-09T07:27:48.921Z"
   },
   {
    "duration": 5,
    "start_time": "2023-06-09T07:29:37.963Z"
   },
   {
    "duration": 5,
    "start_time": "2023-06-09T07:33:04.820Z"
   },
   {
    "duration": 9,
    "start_time": "2023-06-09T07:33:12.327Z"
   },
   {
    "duration": 5,
    "start_time": "2023-06-09T07:33:16.513Z"
   },
   {
    "duration": 5,
    "start_time": "2023-06-09T07:33:41.213Z"
   },
   {
    "duration": 5,
    "start_time": "2023-06-09T07:35:05.209Z"
   },
   {
    "duration": 3,
    "start_time": "2023-06-09T07:46:53.800Z"
   },
   {
    "duration": 3,
    "start_time": "2023-06-09T07:49:26.465Z"
   },
   {
    "duration": 4,
    "start_time": "2023-06-09T07:50:35.841Z"
   },
   {
    "duration": 14,
    "start_time": "2023-06-09T07:51:53.859Z"
   },
   {
    "duration": 3,
    "start_time": "2023-06-09T07:51:57.086Z"
   },
   {
    "duration": 14,
    "start_time": "2023-06-09T07:51:57.381Z"
   },
   {
    "duration": 14,
    "start_time": "2023-06-09T07:52:34.667Z"
   },
   {
    "duration": 5,
    "start_time": "2023-06-09T07:52:44.641Z"
   },
   {
    "duration": 7,
    "start_time": "2023-06-09T07:53:02.862Z"
   },
   {
    "duration": 3,
    "start_time": "2023-06-09T07:53:41.961Z"
   },
   {
    "duration": 6,
    "start_time": "2023-06-09T07:53:42.792Z"
   },
   {
    "duration": 15,
    "start_time": "2023-06-09T07:53:43.374Z"
   },
   {
    "duration": 4,
    "start_time": "2023-06-09T07:53:58.552Z"
   },
   {
    "duration": 8,
    "start_time": "2023-06-09T07:53:59.023Z"
   },
   {
    "duration": 27,
    "start_time": "2023-06-09T07:53:59.473Z"
   },
   {
    "duration": 13,
    "start_time": "2023-06-09T07:56:05.250Z"
   },
   {
    "duration": 4,
    "start_time": "2023-06-09T07:56:08.119Z"
   },
   {
    "duration": 3,
    "start_time": "2023-06-09T07:56:10.058Z"
   },
   {
    "duration": 6,
    "start_time": "2023-06-09T07:56:10.472Z"
   },
   {
    "duration": 37,
    "start_time": "2023-06-09T07:56:49.554Z"
   },
   {
    "duration": 32,
    "start_time": "2023-06-09T08:00:06.461Z"
   },
   {
    "duration": 5,
    "start_time": "2023-06-09T08:01:01.959Z"
   },
   {
    "duration": 7,
    "start_time": "2023-06-09T08:01:19.572Z"
   },
   {
    "duration": 5,
    "start_time": "2023-06-09T08:01:32.693Z"
   },
   {
    "duration": 108,
    "start_time": "2023-06-09T08:02:39.300Z"
   },
   {
    "duration": 6,
    "start_time": "2023-06-09T08:02:52.367Z"
   },
   {
    "duration": 3,
    "start_time": "2023-06-09T08:03:54.436Z"
   },
   {
    "duration": 32,
    "start_time": "2023-06-09T08:03:59.038Z"
   },
   {
    "duration": 20,
    "start_time": "2023-06-09T08:05:50.703Z"
   },
   {
    "duration": 21,
    "start_time": "2023-06-09T08:05:54.191Z"
   },
   {
    "duration": 3,
    "start_time": "2023-06-09T08:06:33.680Z"
   },
   {
    "duration": 20,
    "start_time": "2023-06-09T08:07:06.088Z"
   },
   {
    "duration": 4,
    "start_time": "2023-06-09T08:13:34.006Z"
   },
   {
    "duration": 4,
    "start_time": "2023-06-09T08:13:39.521Z"
   },
   {
    "duration": 4,
    "start_time": "2023-06-09T08:13:45.942Z"
   },
   {
    "duration": 4,
    "start_time": "2023-06-09T08:13:46.362Z"
   },
   {
    "duration": 9,
    "start_time": "2023-06-09T08:13:57.040Z"
   },
   {
    "duration": 3,
    "start_time": "2023-06-09T08:14:12.142Z"
   },
   {
    "duration": 4,
    "start_time": "2023-06-09T08:14:17.897Z"
   },
   {
    "duration": 3,
    "start_time": "2023-06-09T08:14:43.693Z"
   },
   {
    "duration": 9,
    "start_time": "2023-06-09T08:14:44.395Z"
   },
   {
    "duration": 3,
    "start_time": "2023-06-09T08:14:47.763Z"
   },
   {
    "duration": 9,
    "start_time": "2023-06-09T08:14:48.286Z"
   },
   {
    "duration": 3,
    "start_time": "2023-06-09T08:14:57.203Z"
   },
   {
    "duration": 4,
    "start_time": "2023-06-09T08:14:58.386Z"
   },
   {
    "duration": 3,
    "start_time": "2023-06-09T08:15:12.218Z"
   },
   {
    "duration": 3,
    "start_time": "2023-06-09T08:15:28.733Z"
   },
   {
    "duration": 3,
    "start_time": "2023-06-09T08:15:34.872Z"
   },
   {
    "duration": 12,
    "start_time": "2023-06-09T08:22:28.266Z"
   },
   {
    "duration": 5,
    "start_time": "2023-06-09T08:25:41.912Z"
   },
   {
    "duration": 22,
    "start_time": "2023-06-09T08:25:45.455Z"
   },
   {
    "duration": 23,
    "start_time": "2023-06-09T08:26:10.079Z"
   },
   {
    "duration": 11,
    "start_time": "2023-06-09T08:34:15.446Z"
   },
   {
    "duration": 11,
    "start_time": "2023-06-09T08:34:21.196Z"
   },
   {
    "duration": 2,
    "start_time": "2023-06-09T08:34:34.253Z"
   },
   {
    "duration": 5,
    "start_time": "2023-06-09T08:34:34.597Z"
   },
   {
    "duration": 3,
    "start_time": "2023-06-09T08:34:44.395Z"
   },
   {
    "duration": 1597,
    "start_time": "2023-06-09T08:34:59.812Z"
   },
   {
    "duration": 1542,
    "start_time": "2023-06-09T08:35:32.457Z"
   },
   {
    "duration": 1686,
    "start_time": "2023-06-09T08:36:24.154Z"
   },
   {
    "duration": 4771,
    "start_time": "2023-06-09T08:36:50.010Z"
   },
   {
    "duration": 4661,
    "start_time": "2023-06-09T08:38:09.453Z"
   },
   {
    "duration": 4885,
    "start_time": "2023-06-09T08:44:17.355Z"
   },
   {
    "duration": 4550,
    "start_time": "2023-06-09T08:51:38.988Z"
   },
   {
    "duration": 4545,
    "start_time": "2023-06-09T08:51:52.678Z"
   },
   {
    "duration": 4816,
    "start_time": "2023-06-09T08:52:57.328Z"
   },
   {
    "duration": 4664,
    "start_time": "2023-06-09T08:56:59.304Z"
   },
   {
    "duration": 4739,
    "start_time": "2023-06-09T08:57:16.532Z"
   },
   {
    "duration": 1097,
    "start_time": "2023-06-11T04:48:14.714Z"
   },
   {
    "duration": 1648,
    "start_time": "2023-06-11T04:48:15.813Z"
   },
   {
    "duration": 9,
    "start_time": "2023-06-11T04:48:17.462Z"
   },
   {
    "duration": 6,
    "start_time": "2023-06-11T04:48:17.473Z"
   },
   {
    "duration": 8,
    "start_time": "2023-06-11T04:48:17.481Z"
   },
   {
    "duration": 45,
    "start_time": "2023-06-11T04:48:17.491Z"
   },
   {
    "duration": 106,
    "start_time": "2023-06-11T04:48:17.538Z"
   },
   {
    "duration": 47,
    "start_time": "2023-06-11T04:48:17.646Z"
   },
   {
    "duration": 30,
    "start_time": "2023-06-11T04:48:17.695Z"
   },
   {
    "duration": 134,
    "start_time": "2023-06-11T04:48:17.726Z"
   },
   {
    "duration": 5,
    "start_time": "2023-06-11T04:48:17.861Z"
   },
   {
    "duration": 8,
    "start_time": "2023-06-11T04:48:17.957Z"
   },
   {
    "duration": 3,
    "start_time": "2023-06-11T04:55:23.896Z"
   },
   {
    "duration": 4,
    "start_time": "2023-06-11T04:55:47.141Z"
   },
   {
    "duration": 4,
    "start_time": "2023-06-11T04:56:41.142Z"
   },
   {
    "duration": 4,
    "start_time": "2023-06-11T04:57:17.257Z"
   },
   {
    "duration": 4,
    "start_time": "2023-06-11T04:58:08.197Z"
   },
   {
    "duration": 3,
    "start_time": "2023-06-11T04:59:32.395Z"
   },
   {
    "duration": 4,
    "start_time": "2023-06-11T04:59:38.016Z"
   },
   {
    "duration": 96,
    "start_time": "2023-06-11T05:04:00.540Z"
   },
   {
    "duration": 3,
    "start_time": "2023-06-11T05:04:16.557Z"
   },
   {
    "duration": 4,
    "start_time": "2023-06-11T05:04:26.217Z"
   },
   {
    "duration": 9,
    "start_time": "2023-06-11T05:04:32.663Z"
   },
   {
    "duration": 4,
    "start_time": "2023-06-11T05:04:36.610Z"
   },
   {
    "duration": 3,
    "start_time": "2023-06-11T05:04:53.867Z"
   },
   {
    "duration": 4,
    "start_time": "2023-06-11T05:05:03.572Z"
   },
   {
    "duration": 3,
    "start_time": "2023-06-11T05:05:17.369Z"
   },
   {
    "duration": 4,
    "start_time": "2023-06-11T05:05:21.438Z"
   },
   {
    "duration": 6,
    "start_time": "2023-06-11T05:07:25.622Z"
   },
   {
    "duration": 6,
    "start_time": "2023-06-11T05:07:46.782Z"
   },
   {
    "duration": 4,
    "start_time": "2023-06-11T05:08:46.382Z"
   },
   {
    "duration": 4,
    "start_time": "2023-06-11T05:09:17.960Z"
   },
   {
    "duration": 5,
    "start_time": "2023-06-11T05:10:00.738Z"
   },
   {
    "duration": 3,
    "start_time": "2023-06-11T05:10:16.722Z"
   },
   {
    "duration": 21,
    "start_time": "2023-06-11T05:10:46.433Z"
   },
   {
    "duration": 4,
    "start_time": "2023-06-11T05:19:44.126Z"
   },
   {
    "duration": 23,
    "start_time": "2023-06-11T05:19:44.940Z"
   },
   {
    "duration": 94,
    "start_time": "2023-06-11T05:21:07.093Z"
   },
   {
    "duration": 21,
    "start_time": "2023-06-11T05:21:26.623Z"
   },
   {
    "duration": 3,
    "start_time": "2023-06-11T05:24:00.580Z"
   },
   {
    "duration": 5,
    "start_time": "2023-06-11T05:25:53.519Z"
   },
   {
    "duration": 3,
    "start_time": "2023-06-11T05:26:22.294Z"
   },
   {
    "duration": 5,
    "start_time": "2023-06-11T05:26:26.791Z"
   },
   {
    "duration": 4,
    "start_time": "2023-06-11T05:26:56.280Z"
   },
   {
    "duration": 25,
    "start_time": "2023-06-11T05:26:56.737Z"
   },
   {
    "duration": 1477,
    "start_time": "2023-06-11T05:28:19.940Z"
   },
   {
    "duration": 1234,
    "start_time": "2023-06-11T05:28:34.530Z"
   },
   {
    "duration": 378,
    "start_time": "2023-06-11T05:28:35.769Z"
   },
   {
    "duration": 24,
    "start_time": "2023-06-11T05:28:36.149Z"
   },
   {
    "duration": 4,
    "start_time": "2023-06-11T05:28:36.176Z"
   },
   {
    "duration": 18,
    "start_time": "2023-06-11T05:28:36.182Z"
   },
   {
    "duration": 35,
    "start_time": "2023-06-11T05:28:36.202Z"
   },
   {
    "duration": 94,
    "start_time": "2023-06-11T05:28:36.239Z"
   },
   {
    "duration": 46,
    "start_time": "2023-06-11T05:28:36.334Z"
   },
   {
    "duration": 25,
    "start_time": "2023-06-11T05:28:36.381Z"
   },
   {
    "duration": 149,
    "start_time": "2023-06-11T05:28:36.408Z"
   },
   {
    "duration": 3,
    "start_time": "2023-06-11T05:28:36.559Z"
   },
   {
    "duration": 7,
    "start_time": "2023-06-11T05:28:36.563Z"
   },
   {
    "duration": 8,
    "start_time": "2023-06-11T05:28:36.657Z"
   },
   {
    "duration": 21,
    "start_time": "2023-06-11T05:28:36.669Z"
   },
   {
    "duration": 26,
    "start_time": "2023-06-11T05:28:36.693Z"
   },
   {
    "duration": 1629,
    "start_time": "2023-06-11T05:28:36.721Z"
   },
   {
    "duration": 4406,
    "start_time": "2023-06-11T05:28:57.073Z"
   },
   {
    "duration": 4,
    "start_time": "2023-06-11T05:37:01.651Z"
   },
   {
    "duration": 24,
    "start_time": "2023-06-11T05:37:02.151Z"
   },
   {
    "duration": 7,
    "start_time": "2023-06-11T05:37:08.363Z"
   },
   {
    "duration": 21,
    "start_time": "2023-06-11T05:37:08.730Z"
   },
   {
    "duration": 4294,
    "start_time": "2023-06-11T05:37:09.700Z"
   },
   {
    "duration": 3,
    "start_time": "2023-06-11T05:37:30.141Z"
   },
   {
    "duration": 21,
    "start_time": "2023-06-11T05:37:30.514Z"
   },
   {
    "duration": 4311,
    "start_time": "2023-06-11T05:37:31.823Z"
   },
   {
    "duration": 1182,
    "start_time": "2023-06-11T05:39:00.805Z"
   },
   {
    "duration": 387,
    "start_time": "2023-06-11T05:39:01.989Z"
   },
   {
    "duration": 9,
    "start_time": "2023-06-11T05:39:02.378Z"
   },
   {
    "duration": 32,
    "start_time": "2023-06-11T05:39:02.390Z"
   },
   {
    "duration": 47,
    "start_time": "2023-06-11T05:39:02.424Z"
   },
   {
    "duration": 48,
    "start_time": "2023-06-11T05:39:02.473Z"
   },
   {
    "duration": 102,
    "start_time": "2023-06-11T05:39:02.523Z"
   },
   {
    "duration": 47,
    "start_time": "2023-06-11T05:39:02.627Z"
   },
   {
    "duration": 28,
    "start_time": "2023-06-11T05:39:02.676Z"
   },
   {
    "duration": 69,
    "start_time": "2023-06-11T05:39:02.707Z"
   },
   {
    "duration": 3,
    "start_time": "2023-06-11T05:39:02.857Z"
   },
   {
    "duration": 99,
    "start_time": "2023-06-11T05:39:02.861Z"
   },
   {
    "duration": 40,
    "start_time": "2023-06-11T05:39:02.967Z"
   },
   {
    "duration": 35,
    "start_time": "2023-06-11T05:39:03.009Z"
   },
   {
    "duration": 43,
    "start_time": "2023-06-11T05:39:03.046Z"
   },
   {
    "duration": 4347,
    "start_time": "2023-06-11T05:39:03.090Z"
   },
   {
    "duration": 3,
    "start_time": "2023-06-11T06:49:12.022Z"
   },
   {
    "duration": 24,
    "start_time": "2023-06-11T06:49:12.444Z"
   },
   {
    "duration": 4264,
    "start_time": "2023-06-11T06:50:09.533Z"
   },
   {
    "duration": 4287,
    "start_time": "2023-06-11T06:51:08.941Z"
   },
   {
    "duration": 86,
    "start_time": "2023-06-11T06:52:01.619Z"
   },
   {
    "duration": 5061,
    "start_time": "2023-06-11T06:52:15.453Z"
   },
   {
    "duration": 4768,
    "start_time": "2023-06-11T06:52:23.298Z"
   },
   {
    "duration": 1108,
    "start_time": "2023-06-12T08:34:45.401Z"
   },
   {
    "duration": 1868,
    "start_time": "2023-06-12T08:34:46.511Z"
   },
   {
    "duration": 10,
    "start_time": "2023-06-12T08:34:48.380Z"
   },
   {
    "duration": 7,
    "start_time": "2023-06-12T08:34:48.392Z"
   },
   {
    "duration": 5,
    "start_time": "2023-06-12T08:34:48.401Z"
   },
   {
    "duration": 41,
    "start_time": "2023-06-12T08:34:48.408Z"
   },
   {
    "duration": 119,
    "start_time": "2023-06-12T08:34:48.474Z"
   },
   {
    "duration": 40,
    "start_time": "2023-06-12T08:34:48.598Z"
   },
   {
    "duration": 33,
    "start_time": "2023-06-12T08:34:48.640Z"
   },
   {
    "duration": 89,
    "start_time": "2023-06-12T08:34:48.677Z"
   },
   {
    "duration": 3,
    "start_time": "2023-06-12T08:34:48.774Z"
   },
   {
    "duration": 78,
    "start_time": "2023-06-12T08:34:48.778Z"
   },
   {
    "duration": 8,
    "start_time": "2023-06-12T08:34:48.857Z"
   },
   {
    "duration": 10,
    "start_time": "2023-06-12T08:34:48.866Z"
   },
   {
    "duration": 93,
    "start_time": "2023-06-12T08:34:48.877Z"
   },
   {
    "duration": 4457,
    "start_time": "2023-06-12T08:34:48.972Z"
   },
   {
    "duration": 4560,
    "start_time": "2023-06-12T08:35:26.976Z"
   },
   {
    "duration": 4457,
    "start_time": "2023-06-12T08:39:21.421Z"
   },
   {
    "duration": 1127,
    "start_time": "2023-06-12T11:12:39.874Z"
   },
   {
    "duration": 677,
    "start_time": "2023-06-12T11:12:41.002Z"
   },
   {
    "duration": 7,
    "start_time": "2023-06-12T11:12:41.681Z"
   },
   {
    "duration": 3,
    "start_time": "2023-06-12T11:12:41.863Z"
   },
   {
    "duration": 3,
    "start_time": "2023-06-12T11:12:42.225Z"
   },
   {
    "duration": 12,
    "start_time": "2023-06-12T11:12:45.826Z"
   },
   {
    "duration": 37,
    "start_time": "2023-06-12T11:12:53.050Z"
   },
   {
    "duration": 34,
    "start_time": "2023-06-12T11:12:58.276Z"
   },
   {
    "duration": 96,
    "start_time": "2023-06-12T11:13:18.931Z"
   },
   {
    "duration": 68,
    "start_time": "2023-06-12T11:18:28.248Z"
   }
  ],
  "kernelspec": {
   "display_name": "Python 3 (ipykernel)",
   "language": "python",
   "name": "python3"
  },
  "language_info": {
   "codemirror_mode": {
    "name": "ipython",
    "version": 3
   },
   "file_extension": ".py",
   "mimetype": "text/x-python",
   "name": "python",
   "nbconvert_exporter": "python",
   "pygments_lexer": "ipython3",
   "version": "3.11.5"
  },
  "toc": {
   "base_numbering": 1,
   "nav_menu": {},
   "number_sections": true,
   "sideBar": true,
   "skip_h1_title": true,
   "title_cell": "Table of Contents",
   "title_sidebar": "Contents",
   "toc_cell": false,
   "toc_position": {},
   "toc_section_display": true,
   "toc_window_display": false
  }
 },
 "nbformat": 4,
 "nbformat_minor": 4
}
