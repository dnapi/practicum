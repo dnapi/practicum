{
 "cells": [
  {
   "cell_type": "markdown",
   "metadata": {
    "toc": true
   },
   "source": [
    "<h1>Содержание<span class=\"tocSkip\"></span></h1>\n",
    "<div class=\"toc\"><ul class=\"toc-item\"><li><span><a href=\"#Подготовка-данных\" data-toc-modified-id=\"Подготовка-данных-1\"><span class=\"toc-item-num\">1&nbsp;&nbsp;</span>Подготовка данных</a></span></li><li><span><a href=\"#Исследование-задачи\" data-toc-modified-id=\"Исследование-задачи-2\"><span class=\"toc-item-num\">2&nbsp;&nbsp;</span>Исследование задачи</a></span><ul class=\"toc-item\"><li><span><a href=\"#Баланс-классов\" data-toc-modified-id=\"Баланс-классов-2.1\"><span class=\"toc-item-num\">2.1&nbsp;&nbsp;</span>Баланс классов</a></span></li><li><span><a href=\"#Выделение-данных-по-признакам.-Нерелевантрые-признаки.-Целевой-признак.\" data-toc-modified-id=\"Выделение-данных-по-признакам.-Нерелевантрые-признаки.-Целевой-признак.-2.2\"><span class=\"toc-item-num\">2.2&nbsp;&nbsp;</span>Выделение данных по признакам. Нерелевантрые признаки. Целевой признак.</a></span></li><li><span><a href=\"#One-hot-incoding-для-категориальных-признаков\" data-toc-modified-id=\"One-hot-incoding-для-категориальных-признаков-2.3\"><span class=\"toc-item-num\">2.3&nbsp;&nbsp;</span>One-hot incoding для категориальных признаков</a></span></li><li><span><a href=\"#Маштабирование-численных-признаков.\" data-toc-modified-id=\"Маштабирование-численных-признаков.-2.4\"><span class=\"toc-item-num\">2.4&nbsp;&nbsp;</span>Маштабирование численных признаков.</a></span></li><li><span><a href=\"#Модели-без-учета-дисбаланса\" data-toc-modified-id=\"Модели-без-учета-дисбаланса-2.5\"><span class=\"toc-item-num\">2.5&nbsp;&nbsp;</span>Модели без учета дисбаланса</a></span><ul class=\"toc-item\"><li><span><a href=\"#DecisionTreeClassifier\" data-toc-modified-id=\"DecisionTreeClassifier-2.5.1\"><span class=\"toc-item-num\">2.5.1&nbsp;&nbsp;</span>DecisionTreeClassifier</a></span></li><li><span><a href=\"#RandomForestClassifier\" data-toc-modified-id=\"RandomForestClassifier-2.5.2\"><span class=\"toc-item-num\">2.5.2&nbsp;&nbsp;</span>RandomForestClassifier</a></span></li><li><span><a href=\"#LogisticRegression\" data-toc-modified-id=\"LogisticRegression-2.5.3\"><span class=\"toc-item-num\">2.5.3&nbsp;&nbsp;</span>LogisticRegression</a></span></li></ul></li><li><span><a href=\"#Выводы\" data-toc-modified-id=\"Выводы-2.6\"><span class=\"toc-item-num\">2.6&nbsp;&nbsp;</span>Выводы</a></span></li></ul></li><li><span><a href=\"#Борьба-с-дисбалансом\" data-toc-modified-id=\"Борьба-с-дисбалансом-3\"><span class=\"toc-item-num\">3&nbsp;&nbsp;</span>Борьба с дисбалансом</a></span><ul class=\"toc-item\"><li><span><a href=\"#Upsampling--data\" data-toc-modified-id=\"Upsampling--data-3.1\"><span class=\"toc-item-num\">3.1&nbsp;&nbsp;</span>Upsampling  data</a></span></li><li><span><a href=\"#PCA-on-upsampling--data\" data-toc-modified-id=\"PCA-on-upsampling--data-3.2\"><span class=\"toc-item-num\">3.2&nbsp;&nbsp;</span>PCA on upsampling  data</a></span></li><li><span><a href=\"#DecisionTreeClassifier\" data-toc-modified-id=\"DecisionTreeClassifier-3.3\"><span class=\"toc-item-num\">3.3&nbsp;&nbsp;</span>DecisionTreeClassifier</a></span></li><li><span><a href=\"#RandomForestClassifier\" data-toc-modified-id=\"RandomForestClassifier-3.4\"><span class=\"toc-item-num\">3.4&nbsp;&nbsp;</span>RandomForestClassifier</a></span></li><li><span><a href=\"#LogisticRegression\" data-toc-modified-id=\"LogisticRegression-3.5\"><span class=\"toc-item-num\">3.5&nbsp;&nbsp;</span>LogisticRegression</a></span></li><li><span><a href=\"#Выводы\" data-toc-modified-id=\"Выводы-3.6\"><span class=\"toc-item-num\">3.6&nbsp;&nbsp;</span>Выводы</a></span></li></ul></li><li><span><a href=\"#Тестирование-модели\" data-toc-modified-id=\"Тестирование-модели-4\"><span class=\"toc-item-num\">4&nbsp;&nbsp;</span>Тестирование модели</a></span></li><li><span><a href=\"#Чек-лист-готовности-проекта\" data-toc-modified-id=\"Чек-лист-готовности-проекта-5\"><span class=\"toc-item-num\">5&nbsp;&nbsp;</span>Чек-лист готовности проекта</a></span></li></ul></div>"
   ]
  },
  {
   "cell_type": "markdown",
   "metadata": {},
   "source": [
    "# Отток клиентов"
   ]
  },
  {
   "cell_type": "markdown",
   "metadata": {},
   "source": [
    "Из «Бета-Банка» стали уходить клиенты. Каждый месяц. Немного, но заметно. Банковские маркетологи посчитали: сохранять текущих клиентов дешевле, чем привлекать новых.\n",
    "\n",
    "Нужно спрогнозировать, уйдёт клиент из банка в ближайшее время или нет. Вам предоставлены исторические данные о поведении клиентов и расторжении договоров с банком. \n",
    "\n",
    "Производится построение модели с предельно большим значением *F1*-меры. Целевой уровень метрики 0.59.\n",
    "Дополнительно рассматривается метрика   *AUC-ROC*.\n",
    "\n",
    "Источник данных: [https://www.kaggle.com/barelydedicated/bank-customer-churn-modeling](https://www.kaggle.com/barelydedicated/bank-customer-churn-modeling)\n",
    "\n",
    "**Описание данных**\n",
    "\n",
    "Признаки\n",
    "\n",
    "    RowNumber — индекс строки в данных\n",
    "    CustomerId — уникальный идентификатор клиента\n",
    "    Surname — фамилия\n",
    "    CreditScore — кредитный рейтинг\n",
    "    Geography — страна проживания\n",
    "    Gender — пол\n",
    "    Age — возраст\n",
    "    Tenure — сколько лет человек является клиентом банка\n",
    "    Balance — баланс на счёте\n",
    "    NumOfProducts — количество продуктов банка, используемых клиентом\n",
    "    HasCrCard — наличие кредитной карты\n",
    "    IsActiveMember — активность клиента\n",
    "    EstimatedSalary — предполагаемая зарплата\n",
    "\n",
    "Целевой признак\n",
    "\n",
    "    Exited — факт ухода клиента"
   ]
  },
  {
   "cell_type": "markdown",
   "metadata": {},
   "source": [
    "## Подготовка данных"
   ]
  },
  {
   "cell_type": "code",
   "execution_count": 1,
   "metadata": {},
   "outputs": [],
   "source": [
    "import pandas as pd\n",
    "import numpy as np\n",
    "import matplotlib.pyplot as plt\n",
    "import seaborn as sns\n",
    "\n",
    "from sklearn.metrics import f1_score\n",
    "from sklearn.metrics import roc_auc_score \n",
    "from sklearn.preprocessing import StandardScaler\n",
    "from sklearn.model_selection import train_test_split\n",
    "from sklearn.model_selection import GridSearchCV\n",
    "from sklearn.model_selection import StratifiedKFold\n",
    "\n",
    "from sklearn.tree import DecisionTreeClassifier\n",
    "from sklearn.ensemble import RandomForestClassifier\n",
    "from sklearn.linear_model import LogisticRegression\n",
    "\n",
    "from sklearn.utils import shuffle"
   ]
  },
  {
   "cell_type": "code",
   "execution_count": 2,
   "metadata": {},
   "outputs": [],
   "source": [
    "SEED=12345\n",
    "cv = StratifiedKFold(n_splits=5, random_state=SEED,shuffle=True)\n",
    "\n",
    "fitting=False"
   ]
  },
  {
   "cell_type": "code",
   "execution_count": 3,
   "metadata": {},
   "outputs": [],
   "source": [
    "data=pd.read_csv('/datasets/Churn.csv')"
   ]
  },
  {
   "cell_type": "code",
   "execution_count": 4,
   "metadata": {},
   "outputs": [
    {
     "data": {
      "text/html": [
       "<div>\n",
       "<style scoped>\n",
       "    .dataframe tbody tr th:only-of-type {\n",
       "        vertical-align: middle;\n",
       "    }\n",
       "\n",
       "    .dataframe tbody tr th {\n",
       "        vertical-align: top;\n",
       "    }\n",
       "\n",
       "    .dataframe thead th {\n",
       "        text-align: right;\n",
       "    }\n",
       "</style>\n",
       "<table border=\"1\" class=\"dataframe\">\n",
       "  <thead>\n",
       "    <tr style=\"text-align: right;\">\n",
       "      <th></th>\n",
       "      <th>RowNumber</th>\n",
       "      <th>CustomerId</th>\n",
       "      <th>Surname</th>\n",
       "      <th>CreditScore</th>\n",
       "      <th>Geography</th>\n",
       "      <th>Gender</th>\n",
       "      <th>Age</th>\n",
       "      <th>Tenure</th>\n",
       "      <th>Balance</th>\n",
       "      <th>NumOfProducts</th>\n",
       "      <th>HasCrCard</th>\n",
       "      <th>IsActiveMember</th>\n",
       "      <th>EstimatedSalary</th>\n",
       "      <th>Exited</th>\n",
       "    </tr>\n",
       "  </thead>\n",
       "  <tbody>\n",
       "    <tr>\n",
       "      <th>0</th>\n",
       "      <td>1</td>\n",
       "      <td>15634602</td>\n",
       "      <td>Hargrave</td>\n",
       "      <td>619</td>\n",
       "      <td>France</td>\n",
       "      <td>Female</td>\n",
       "      <td>42</td>\n",
       "      <td>2.0</td>\n",
       "      <td>0.00</td>\n",
       "      <td>1</td>\n",
       "      <td>1</td>\n",
       "      <td>1</td>\n",
       "      <td>101348.88</td>\n",
       "      <td>1</td>\n",
       "    </tr>\n",
       "    <tr>\n",
       "      <th>1</th>\n",
       "      <td>2</td>\n",
       "      <td>15647311</td>\n",
       "      <td>Hill</td>\n",
       "      <td>608</td>\n",
       "      <td>Spain</td>\n",
       "      <td>Female</td>\n",
       "      <td>41</td>\n",
       "      <td>1.0</td>\n",
       "      <td>83807.86</td>\n",
       "      <td>1</td>\n",
       "      <td>0</td>\n",
       "      <td>1</td>\n",
       "      <td>112542.58</td>\n",
       "      <td>0</td>\n",
       "    </tr>\n",
       "    <tr>\n",
       "      <th>2</th>\n",
       "      <td>3</td>\n",
       "      <td>15619304</td>\n",
       "      <td>Onio</td>\n",
       "      <td>502</td>\n",
       "      <td>France</td>\n",
       "      <td>Female</td>\n",
       "      <td>42</td>\n",
       "      <td>8.0</td>\n",
       "      <td>159660.80</td>\n",
       "      <td>3</td>\n",
       "      <td>1</td>\n",
       "      <td>0</td>\n",
       "      <td>113931.57</td>\n",
       "      <td>1</td>\n",
       "    </tr>\n",
       "    <tr>\n",
       "      <th>3</th>\n",
       "      <td>4</td>\n",
       "      <td>15701354</td>\n",
       "      <td>Boni</td>\n",
       "      <td>699</td>\n",
       "      <td>France</td>\n",
       "      <td>Female</td>\n",
       "      <td>39</td>\n",
       "      <td>1.0</td>\n",
       "      <td>0.00</td>\n",
       "      <td>2</td>\n",
       "      <td>0</td>\n",
       "      <td>0</td>\n",
       "      <td>93826.63</td>\n",
       "      <td>0</td>\n",
       "    </tr>\n",
       "    <tr>\n",
       "      <th>4</th>\n",
       "      <td>5</td>\n",
       "      <td>15737888</td>\n",
       "      <td>Mitchell</td>\n",
       "      <td>850</td>\n",
       "      <td>Spain</td>\n",
       "      <td>Female</td>\n",
       "      <td>43</td>\n",
       "      <td>2.0</td>\n",
       "      <td>125510.82</td>\n",
       "      <td>1</td>\n",
       "      <td>1</td>\n",
       "      <td>1</td>\n",
       "      <td>79084.10</td>\n",
       "      <td>0</td>\n",
       "    </tr>\n",
       "  </tbody>\n",
       "</table>\n",
       "</div>"
      ],
      "text/plain": [
       "   RowNumber  CustomerId   Surname  CreditScore Geography  Gender  Age  \\\n",
       "0          1    15634602  Hargrave          619    France  Female   42   \n",
       "1          2    15647311      Hill          608     Spain  Female   41   \n",
       "2          3    15619304      Onio          502    France  Female   42   \n",
       "3          4    15701354      Boni          699    France  Female   39   \n",
       "4          5    15737888  Mitchell          850     Spain  Female   43   \n",
       "\n",
       "   Tenure    Balance  NumOfProducts  HasCrCard  IsActiveMember  \\\n",
       "0     2.0       0.00              1          1               1   \n",
       "1     1.0   83807.86              1          0               1   \n",
       "2     8.0  159660.80              3          1               0   \n",
       "3     1.0       0.00              2          0               0   \n",
       "4     2.0  125510.82              1          1               1   \n",
       "\n",
       "   EstimatedSalary  Exited  \n",
       "0        101348.88       1  \n",
       "1        112542.58       0  \n",
       "2        113931.57       1  \n",
       "3         93826.63       0  \n",
       "4         79084.10       0  "
      ]
     },
     "execution_count": 4,
     "metadata": {},
     "output_type": "execute_result"
    }
   ],
   "source": [
    "data.head(5)"
   ]
  },
  {
   "cell_type": "code",
   "execution_count": 5,
   "metadata": {},
   "outputs": [
    {
     "name": "stdout",
     "output_type": "stream",
     "text": [
      "<class 'pandas.core.frame.DataFrame'>\n",
      "RangeIndex: 10000 entries, 0 to 9999\n",
      "Data columns (total 14 columns):\n",
      " #   Column           Non-Null Count  Dtype  \n",
      "---  ------           --------------  -----  \n",
      " 0   RowNumber        10000 non-null  int64  \n",
      " 1   CustomerId       10000 non-null  int64  \n",
      " 2   Surname          10000 non-null  object \n",
      " 3   CreditScore      10000 non-null  int64  \n",
      " 4   Geography        10000 non-null  object \n",
      " 5   Gender           10000 non-null  object \n",
      " 6   Age              10000 non-null  int64  \n",
      " 7   Tenure           9091 non-null   float64\n",
      " 8   Balance          10000 non-null  float64\n",
      " 9   NumOfProducts    10000 non-null  int64  \n",
      " 10  HasCrCard        10000 non-null  int64  \n",
      " 11  IsActiveMember   10000 non-null  int64  \n",
      " 12  EstimatedSalary  10000 non-null  float64\n",
      " 13  Exited           10000 non-null  int64  \n",
      "dtypes: float64(3), int64(8), object(3)\n",
      "memory usage: 1.1+ MB\n"
     ]
    }
   ],
   "source": [
    "data.info()"
   ]
  },
  {
   "cell_type": "code",
   "execution_count": 6,
   "metadata": {},
   "outputs": [
    {
     "data": {
      "text/html": [
       "<div>\n",
       "<style scoped>\n",
       "    .dataframe tbody tr th:only-of-type {\n",
       "        vertical-align: middle;\n",
       "    }\n",
       "\n",
       "    .dataframe tbody tr th {\n",
       "        vertical-align: top;\n",
       "    }\n",
       "\n",
       "    .dataframe thead th {\n",
       "        text-align: right;\n",
       "    }\n",
       "</style>\n",
       "<table border=\"1\" class=\"dataframe\">\n",
       "  <thead>\n",
       "    <tr style=\"text-align: right;\">\n",
       "      <th></th>\n",
       "      <th>RowNumber</th>\n",
       "      <th>CustomerId</th>\n",
       "      <th>CreditScore</th>\n",
       "      <th>Age</th>\n",
       "      <th>Tenure</th>\n",
       "      <th>Balance</th>\n",
       "      <th>NumOfProducts</th>\n",
       "      <th>HasCrCard</th>\n",
       "      <th>IsActiveMember</th>\n",
       "      <th>EstimatedSalary</th>\n",
       "      <th>Exited</th>\n",
       "    </tr>\n",
       "  </thead>\n",
       "  <tbody>\n",
       "    <tr>\n",
       "      <th>count</th>\n",
       "      <td>10000.00000</td>\n",
       "      <td>1.000000e+04</td>\n",
       "      <td>10000.000000</td>\n",
       "      <td>10000.000000</td>\n",
       "      <td>9091.000000</td>\n",
       "      <td>10000.000000</td>\n",
       "      <td>10000.000000</td>\n",
       "      <td>10000.00000</td>\n",
       "      <td>10000.000000</td>\n",
       "      <td>10000.000000</td>\n",
       "      <td>10000.000000</td>\n",
       "    </tr>\n",
       "    <tr>\n",
       "      <th>mean</th>\n",
       "      <td>5000.50000</td>\n",
       "      <td>1.569094e+07</td>\n",
       "      <td>650.528800</td>\n",
       "      <td>38.921800</td>\n",
       "      <td>4.997690</td>\n",
       "      <td>76485.889288</td>\n",
       "      <td>1.530200</td>\n",
       "      <td>0.70550</td>\n",
       "      <td>0.515100</td>\n",
       "      <td>100090.239881</td>\n",
       "      <td>0.203700</td>\n",
       "    </tr>\n",
       "    <tr>\n",
       "      <th>std</th>\n",
       "      <td>2886.89568</td>\n",
       "      <td>7.193619e+04</td>\n",
       "      <td>96.653299</td>\n",
       "      <td>10.487806</td>\n",
       "      <td>2.894723</td>\n",
       "      <td>62397.405202</td>\n",
       "      <td>0.581654</td>\n",
       "      <td>0.45584</td>\n",
       "      <td>0.499797</td>\n",
       "      <td>57510.492818</td>\n",
       "      <td>0.402769</td>\n",
       "    </tr>\n",
       "    <tr>\n",
       "      <th>min</th>\n",
       "      <td>1.00000</td>\n",
       "      <td>1.556570e+07</td>\n",
       "      <td>350.000000</td>\n",
       "      <td>18.000000</td>\n",
       "      <td>0.000000</td>\n",
       "      <td>0.000000</td>\n",
       "      <td>1.000000</td>\n",
       "      <td>0.00000</td>\n",
       "      <td>0.000000</td>\n",
       "      <td>11.580000</td>\n",
       "      <td>0.000000</td>\n",
       "    </tr>\n",
       "    <tr>\n",
       "      <th>25%</th>\n",
       "      <td>2500.75000</td>\n",
       "      <td>1.562853e+07</td>\n",
       "      <td>584.000000</td>\n",
       "      <td>32.000000</td>\n",
       "      <td>2.000000</td>\n",
       "      <td>0.000000</td>\n",
       "      <td>1.000000</td>\n",
       "      <td>0.00000</td>\n",
       "      <td>0.000000</td>\n",
       "      <td>51002.110000</td>\n",
       "      <td>0.000000</td>\n",
       "    </tr>\n",
       "    <tr>\n",
       "      <th>50%</th>\n",
       "      <td>5000.50000</td>\n",
       "      <td>1.569074e+07</td>\n",
       "      <td>652.000000</td>\n",
       "      <td>37.000000</td>\n",
       "      <td>5.000000</td>\n",
       "      <td>97198.540000</td>\n",
       "      <td>1.000000</td>\n",
       "      <td>1.00000</td>\n",
       "      <td>1.000000</td>\n",
       "      <td>100193.915000</td>\n",
       "      <td>0.000000</td>\n",
       "    </tr>\n",
       "    <tr>\n",
       "      <th>75%</th>\n",
       "      <td>7500.25000</td>\n",
       "      <td>1.575323e+07</td>\n",
       "      <td>718.000000</td>\n",
       "      <td>44.000000</td>\n",
       "      <td>7.000000</td>\n",
       "      <td>127644.240000</td>\n",
       "      <td>2.000000</td>\n",
       "      <td>1.00000</td>\n",
       "      <td>1.000000</td>\n",
       "      <td>149388.247500</td>\n",
       "      <td>0.000000</td>\n",
       "    </tr>\n",
       "    <tr>\n",
       "      <th>max</th>\n",
       "      <td>10000.00000</td>\n",
       "      <td>1.581569e+07</td>\n",
       "      <td>850.000000</td>\n",
       "      <td>92.000000</td>\n",
       "      <td>10.000000</td>\n",
       "      <td>250898.090000</td>\n",
       "      <td>4.000000</td>\n",
       "      <td>1.00000</td>\n",
       "      <td>1.000000</td>\n",
       "      <td>199992.480000</td>\n",
       "      <td>1.000000</td>\n",
       "    </tr>\n",
       "  </tbody>\n",
       "</table>\n",
       "</div>"
      ],
      "text/plain": [
       "         RowNumber    CustomerId   CreditScore           Age       Tenure  \\\n",
       "count  10000.00000  1.000000e+04  10000.000000  10000.000000  9091.000000   \n",
       "mean    5000.50000  1.569094e+07    650.528800     38.921800     4.997690   \n",
       "std     2886.89568  7.193619e+04     96.653299     10.487806     2.894723   \n",
       "min        1.00000  1.556570e+07    350.000000     18.000000     0.000000   \n",
       "25%     2500.75000  1.562853e+07    584.000000     32.000000     2.000000   \n",
       "50%     5000.50000  1.569074e+07    652.000000     37.000000     5.000000   \n",
       "75%     7500.25000  1.575323e+07    718.000000     44.000000     7.000000   \n",
       "max    10000.00000  1.581569e+07    850.000000     92.000000    10.000000   \n",
       "\n",
       "             Balance  NumOfProducts    HasCrCard  IsActiveMember  \\\n",
       "count   10000.000000   10000.000000  10000.00000    10000.000000   \n",
       "mean    76485.889288       1.530200      0.70550        0.515100   \n",
       "std     62397.405202       0.581654      0.45584        0.499797   \n",
       "min         0.000000       1.000000      0.00000        0.000000   \n",
       "25%         0.000000       1.000000      0.00000        0.000000   \n",
       "50%     97198.540000       1.000000      1.00000        1.000000   \n",
       "75%    127644.240000       2.000000      1.00000        1.000000   \n",
       "max    250898.090000       4.000000      1.00000        1.000000   \n",
       "\n",
       "       EstimatedSalary        Exited  \n",
       "count     10000.000000  10000.000000  \n",
       "mean     100090.239881      0.203700  \n",
       "std       57510.492818      0.402769  \n",
       "min          11.580000      0.000000  \n",
       "25%       51002.110000      0.000000  \n",
       "50%      100193.915000      0.000000  \n",
       "75%      149388.247500      0.000000  \n",
       "max      199992.480000      1.000000  "
      ]
     },
     "execution_count": 6,
     "metadata": {},
     "output_type": "execute_result"
    }
   ],
   "source": [
    "data.describe()"
   ]
  },
  {
   "cell_type": "code",
   "execution_count": 7,
   "metadata": {},
   "outputs": [
    {
     "data": {
      "text/plain": [
       "0"
      ]
     },
     "execution_count": 7,
     "metadata": {},
     "output_type": "execute_result"
    }
   ],
   "source": [
    "data.duplicated().sum()"
   ]
  },
  {
   "cell_type": "code",
   "execution_count": 8,
   "metadata": {},
   "outputs": [
    {
     "data": {
      "image/png": "[encoded data removed]",
      "text/plain": [
       "<Figure size 432x288 with 2 Axes>"
      ]
     },
     "metadata": {
      "needs_background": "light"
     },
     "output_type": "display_data"
    }
   ],
   "source": [
    "sns.heatmap(data.corr())\n",
    "#plt.xlabel('Threshold')\n",
    "#plt.ylabel('F1 score')\n",
    "plt.title('Correlation matrix of features and label');"
   ]
  },
  {
   "cell_type": "code",
   "execution_count": 9,
   "metadata": {},
   "outputs": [
    {
     "data": {
      "text/plain": [
       "IsActiveMember    -0.156128\n",
       "NumOfProducts     -0.047820\n",
       "CreditScore       -0.027094\n",
       "Tenure            -0.016761\n",
       "RowNumber         -0.016571\n",
       "HasCrCard         -0.007138\n",
       "CustomerId        -0.006248\n",
       "EstimatedSalary    0.012097\n",
       "Balance            0.118533\n",
       "Age                0.285323\n",
       "Exited             1.000000\n",
       "Name: Exited, dtype: float64"
      ]
     },
     "execution_count": 9,
     "metadata": {},
     "output_type": "execute_result"
    }
   ],
   "source": [
    "data.corr()['Exited'].sort_values()"
   ]
  },
  {
   "cell_type": "code",
   "execution_count": 10,
   "metadata": {},
   "outputs": [
    {
     "data": {
      "text/plain": [
       "array([1, 0])"
      ]
     },
     "execution_count": 10,
     "metadata": {},
     "output_type": "execute_result"
    }
   ],
   "source": [
    "data['IsActiveMember'].unique()\n",
    "data['HasCrCard'].unique()"
   ]
  },
  {
   "cell_type": "code",
   "execution_count": 11,
   "metadata": {},
   "outputs": [
    {
     "data": {
      "text/plain": [
       "array(['Female', 'Male'], dtype=object)"
      ]
     },
     "execution_count": 11,
     "metadata": {},
     "output_type": "execute_result"
    }
   ],
   "source": [
    "data['Gender'].unique()"
   ]
  },
  {
   "cell_type": "code",
   "execution_count": 12,
   "metadata": {},
   "outputs": [
    {
     "data": {
      "text/plain": [
       "array(['France', 'Spain', 'Germany'], dtype=object)"
      ]
     },
     "execution_count": 12,
     "metadata": {},
     "output_type": "execute_result"
    }
   ],
   "source": [
    "data['Geography'].unique()"
   ]
  },
  {
   "cell_type": "code",
   "execution_count": 13,
   "metadata": {},
   "outputs": [
    {
     "name": "stdout",
     "output_type": "stream",
     "text": [
      "[1 3 2 4]\n"
     ]
    },
    {
     "data": {
      "text/plain": [
       "array([ 2.,  1.,  8.,  7.,  4.,  6.,  3., 10.,  5.,  9.,  0., nan])"
      ]
     },
     "execution_count": 13,
     "metadata": {},
     "output_type": "execute_result"
    }
   ],
   "source": [
    "print(data['NumOfProducts'].unique())\n",
    "data['Tenure'].unique()"
   ]
  },
  {
   "cell_type": "code",
   "execution_count": 14,
   "metadata": {},
   "outputs": [],
   "source": [
    "data.loc[data['Tenure'].isna(),'Tenure']=0"
   ]
  },
  {
   "cell_type": "code",
   "execution_count": 15,
   "metadata": {},
   "outputs": [
    {
     "data": {
      "text/plain": [
       "0"
      ]
     },
     "execution_count": 15,
     "metadata": {},
     "output_type": "execute_result"
    }
   ],
   "source": [
    "data['Tenure'].isna().sum()"
   ]
  },
  {
   "cell_type": "markdown",
   "metadata": {},
   "source": [
    "Кол-во пропусков в столпце Tenure примерно 10%. \n",
    "Есть несколько способов обработки пропусков\n",
    "- Заменить пропуски в Tenure нулями. \n",
    "- заменить пропуски медианной\n",
    "- удалать строки с пропусками. \n",
    "- удалить столбец Tenure, посколько корреляция целевого признака с этим признаком очень мальенькая.\n",
    "\n",
    "Мы выбрали первый способ посколько возможно отсутвие данных связано с тем что это данные по новым клиентам. Также такой вариант сохраняет данные о других признаках."
   ]
  },
  {
   "cell_type": "markdown",
   "metadata": {},
   "source": [
    "**Выводы по подготовке данных.**\n",
    "Мы изучили данные на наличее пропусков, дубликатов и проверили корректность типов данных. Дубликатов не найдено, а найденные пропуски в столбце Tenure заменяны на нули. Так же мы рассмотрели корреляции целевого между признаками. Выявлены признаки с низкой корреляции:\n",
    "- Tenure          \n",
    "- RowNumber       \n",
    "- HasCrCard       \n",
    "- CustomerId \n",
    "\n",
    "Признаки обозначенные столбцами 'RowNumber','Surname','CustomerId' не релевантны и будут удалены в следущем разделе. Признак Tenure релевантный поэтому мы его оставим. "
   ]
  },
  {
   "cell_type": "markdown",
   "metadata": {},
   "source": [
    "## Исследование задачи"
   ]
  },
  {
   "cell_type": "markdown",
   "metadata": {},
   "source": [
    "### Баланс классов"
   ]
  },
  {
   "cell_type": "code",
   "execution_count": 16,
   "metadata": {},
   "outputs": [
    {
     "name": "stdout",
     "output_type": "stream",
     "text": [
      "Доля потерянных клиентов составляет 0.2037\n"
     ]
    }
   ],
   "source": [
    "print('Доля потерянных клиентов составляет',data['Exited'].mean())"
   ]
  },
  {
   "cell_type": "code",
   "execution_count": 17,
   "metadata": {},
   "outputs": [
    {
     "data": {
      "image/png": "[encoded data removed]",
      "text/plain": [
       "<Figure size 432x288 with 1 Axes>"
      ]
     },
     "metadata": {
      "needs_background": "light"
     },
     "output_type": "display_data"
    }
   ],
   "source": [
    "ticks_label = ['отрицательный (0)','положительный (1)']\n",
    "plt.bar(ticks_label,data.groupby('Exited')['Exited'].count()) \n",
    "plt.xlabel('Классы');\n",
    "plt.ylabel('Кол-во');\n",
    "plt.title('Количество данных по ушедшим и оставшимся клиентам');"
   ]
  },
  {
   "cell_type": "code",
   "execution_count": 18,
   "metadata": {},
   "outputs": [
    {
     "data": {
      "text/html": [
       "<div>\n",
       "<style scoped>\n",
       "    .dataframe tbody tr th:only-of-type {\n",
       "        vertical-align: middle;\n",
       "    }\n",
       "\n",
       "    .dataframe tbody tr th {\n",
       "        vertical-align: top;\n",
       "    }\n",
       "\n",
       "    .dataframe thead th {\n",
       "        text-align: right;\n",
       "    }\n",
       "</style>\n",
       "<table border=\"1\" class=\"dataframe\">\n",
       "  <thead>\n",
       "    <tr style=\"text-align: right;\">\n",
       "      <th></th>\n",
       "      <th>RowNumber</th>\n",
       "      <th>CustomerId</th>\n",
       "      <th>Surname</th>\n",
       "      <th>CreditScore</th>\n",
       "      <th>Geography</th>\n",
       "      <th>Gender</th>\n",
       "      <th>Age</th>\n",
       "      <th>Tenure</th>\n",
       "      <th>Balance</th>\n",
       "      <th>NumOfProducts</th>\n",
       "      <th>HasCrCard</th>\n",
       "      <th>IsActiveMember</th>\n",
       "      <th>EstimatedSalary</th>\n",
       "      <th>Exited</th>\n",
       "    </tr>\n",
       "  </thead>\n",
       "  <tbody>\n",
       "    <tr>\n",
       "      <th>0</th>\n",
       "      <td>1</td>\n",
       "      <td>15634602</td>\n",
       "      <td>Hargrave</td>\n",
       "      <td>619</td>\n",
       "      <td>France</td>\n",
       "      <td>Female</td>\n",
       "      <td>42</td>\n",
       "      <td>2.0</td>\n",
       "      <td>0.00</td>\n",
       "      <td>1</td>\n",
       "      <td>1</td>\n",
       "      <td>1</td>\n",
       "      <td>101348.88</td>\n",
       "      <td>1</td>\n",
       "    </tr>\n",
       "    <tr>\n",
       "      <th>2</th>\n",
       "      <td>3</td>\n",
       "      <td>15619304</td>\n",
       "      <td>Onio</td>\n",
       "      <td>502</td>\n",
       "      <td>France</td>\n",
       "      <td>Female</td>\n",
       "      <td>42</td>\n",
       "      <td>8.0</td>\n",
       "      <td>159660.80</td>\n",
       "      <td>3</td>\n",
       "      <td>1</td>\n",
       "      <td>0</td>\n",
       "      <td>113931.57</td>\n",
       "      <td>1</td>\n",
       "    </tr>\n",
       "    <tr>\n",
       "      <th>5</th>\n",
       "      <td>6</td>\n",
       "      <td>15574012</td>\n",
       "      <td>Chu</td>\n",
       "      <td>645</td>\n",
       "      <td>Spain</td>\n",
       "      <td>Male</td>\n",
       "      <td>44</td>\n",
       "      <td>8.0</td>\n",
       "      <td>113755.78</td>\n",
       "      <td>2</td>\n",
       "      <td>1</td>\n",
       "      <td>0</td>\n",
       "      <td>149756.71</td>\n",
       "      <td>1</td>\n",
       "    </tr>\n",
       "    <tr>\n",
       "      <th>7</th>\n",
       "      <td>8</td>\n",
       "      <td>15656148</td>\n",
       "      <td>Obinna</td>\n",
       "      <td>376</td>\n",
       "      <td>Germany</td>\n",
       "      <td>Female</td>\n",
       "      <td>29</td>\n",
       "      <td>4.0</td>\n",
       "      <td>115046.74</td>\n",
       "      <td>4</td>\n",
       "      <td>1</td>\n",
       "      <td>0</td>\n",
       "      <td>119346.88</td>\n",
       "      <td>1</td>\n",
       "    </tr>\n",
       "    <tr>\n",
       "      <th>16</th>\n",
       "      <td>17</td>\n",
       "      <td>15737452</td>\n",
       "      <td>Romeo</td>\n",
       "      <td>653</td>\n",
       "      <td>Germany</td>\n",
       "      <td>Male</td>\n",
       "      <td>58</td>\n",
       "      <td>1.0</td>\n",
       "      <td>132602.88</td>\n",
       "      <td>1</td>\n",
       "      <td>1</td>\n",
       "      <td>0</td>\n",
       "      <td>5097.67</td>\n",
       "      <td>1</td>\n",
       "    </tr>\n",
       "  </tbody>\n",
       "</table>\n",
       "</div>"
      ],
      "text/plain": [
       "    RowNumber  CustomerId   Surname  CreditScore Geography  Gender  Age  \\\n",
       "0           1    15634602  Hargrave          619    France  Female   42   \n",
       "2           3    15619304      Onio          502    France  Female   42   \n",
       "5           6    15574012       Chu          645     Spain    Male   44   \n",
       "7           8    15656148    Obinna          376   Germany  Female   29   \n",
       "16         17    15737452     Romeo          653   Germany    Male   58   \n",
       "\n",
       "    Tenure    Balance  NumOfProducts  HasCrCard  IsActiveMember  \\\n",
       "0      2.0       0.00              1          1               1   \n",
       "2      8.0  159660.80              3          1               0   \n",
       "5      8.0  113755.78              2          1               0   \n",
       "7      4.0  115046.74              4          1               0   \n",
       "16     1.0  132602.88              1          1               0   \n",
       "\n",
       "    EstimatedSalary  Exited  \n",
       "0         101348.88       1  \n",
       "2         113931.57       1  \n",
       "5         149756.71       1  \n",
       "7         119346.88       1  \n",
       "16          5097.67       1  "
      ]
     },
     "execution_count": 18,
     "metadata": {},
     "output_type": "execute_result"
    }
   ],
   "source": [
    "data[data['Exited']==1].head(5)"
   ]
  },
  {
   "cell_type": "markdown",
   "metadata": {},
   "source": [
    "### Выделение данных по признакам. Нерелевантрые признаки. Целевой признак."
   ]
  },
  {
   "cell_type": "code",
   "execution_count": 19,
   "metadata": {},
   "outputs": [
    {
     "data": {
      "text/plain": [
       "Index(['RowNumber', 'CustomerId', 'Surname', 'CreditScore', 'Geography',\n",
       "       'Gender', 'Age', 'Tenure', 'Balance', 'NumOfProducts', 'HasCrCard',\n",
       "       'IsActiveMember', 'EstimatedSalary', 'Exited'],\n",
       "      dtype='object')"
      ]
     },
     "execution_count": 19,
     "metadata": {},
     "output_type": "execute_result"
    }
   ],
   "source": [
    "data.columns"
   ]
  },
  {
   "cell_type": "code",
   "execution_count": 20,
   "metadata": {},
   "outputs": [
    {
     "data": {
      "text/plain": [
       "(10000, 10)"
      ]
     },
     "execution_count": 20,
     "metadata": {},
     "output_type": "execute_result"
    }
   ],
   "source": [
    "features = data.drop(['Exited','RowNumber','Surname','CustomerId'],axis=1)  #'RowNumber'\n",
    "features.shape"
   ]
  },
  {
   "cell_type": "markdown",
   "metadata": {},
   "source": [
    "Признаки 'RowNumber','Surname','CustomerId' убраны как не релевантные."
   ]
  },
  {
   "cell_type": "code",
   "execution_count": 21,
   "metadata": {},
   "outputs": [
    {
     "data": {
      "text/plain": [
       "(10000,)"
      ]
     },
     "execution_count": 21,
     "metadata": {},
     "output_type": "execute_result"
    }
   ],
   "source": [
    "target=data['Exited']\n",
    "target.shape"
   ]
  },
  {
   "cell_type": "code",
   "execution_count": 22,
   "metadata": {},
   "outputs": [],
   "source": [
    "numeric=features.describe().columns.drop(['HasCrCard', 'IsActiveMember']).tolist()"
   ]
  },
  {
   "cell_type": "markdown",
   "metadata": {},
   "source": [
    "Создан список `numeric` численных признаков"
   ]
  },
  {
   "cell_type": "markdown",
   "metadata": {},
   "source": [
    "### One-hot incoding для категориальных признаков "
   ]
  },
  {
   "cell_type": "code",
   "execution_count": 23,
   "metadata": {},
   "outputs": [],
   "source": [
    "features=pd.get_dummies(features,drop_first=True,columns=['Geography','Gender'])\n",
    "\n",
    "features_train, features_test, target_train, target_test = train_test_split(\n",
    "    features, target, test_size=0.2, random_state=12345)\n",
    "\n",
    "features_train, features_valid, target_train, target_valid = train_test_split(\n",
    "    features_train, target_train, test_size=0.25, random_state=12345)"
   ]
  },
  {
   "cell_type": "markdown",
   "metadata": {},
   "source": [
    "### Маштабирование численных признаков. "
   ]
  },
  {
   "cell_type": "code",
   "execution_count": 24,
   "metadata": {},
   "outputs": [
    {
     "name": "stdout",
     "output_type": "stream",
     "text": [
      "['CreditScore', 'Age', 'Tenure', 'Balance', 'NumOfProducts', 'EstimatedSalary']\n"
     ]
    }
   ],
   "source": [
    "print(numeric)"
   ]
  },
  {
   "cell_type": "markdown",
   "metadata": {},
   "source": [
    "Создан список `numeric` численных признаков"
   ]
  },
  {
   "cell_type": "code",
   "execution_count": 25,
   "metadata": {},
   "outputs": [],
   "source": [
    "scalar= StandardScaler()\n",
    "scalar.fit(features_train[numeric])\n",
    "\n",
    "pd.options.mode.chained_assignment = None\n",
    "features_train[numeric]=scalar.transform(features_train[numeric])\n",
    "features_valid[numeric]=scalar.transform(features_valid[numeric])\n",
    "features_test[numeric]=scalar.transform(features_test[numeric])"
   ]
  },
  {
   "cell_type": "code",
   "execution_count": 26,
   "metadata": {},
   "outputs": [
    {
     "data": {
      "text/html": [
       "<div>\n",
       "<style scoped>\n",
       "    .dataframe tbody tr th:only-of-type {\n",
       "        vertical-align: middle;\n",
       "    }\n",
       "\n",
       "    .dataframe tbody tr th {\n",
       "        vertical-align: top;\n",
       "    }\n",
       "\n",
       "    .dataframe thead th {\n",
       "        text-align: right;\n",
       "    }\n",
       "</style>\n",
       "<table border=\"1\" class=\"dataframe\">\n",
       "  <thead>\n",
       "    <tr style=\"text-align: right;\">\n",
       "      <th></th>\n",
       "      <th>CreditScore</th>\n",
       "      <th>Age</th>\n",
       "      <th>Tenure</th>\n",
       "      <th>Balance</th>\n",
       "      <th>NumOfProducts</th>\n",
       "      <th>HasCrCard</th>\n",
       "      <th>IsActiveMember</th>\n",
       "      <th>EstimatedSalary</th>\n",
       "      <th>Geography_Germany</th>\n",
       "      <th>Geography_Spain</th>\n",
       "      <th>Gender_Male</th>\n",
       "    </tr>\n",
       "  </thead>\n",
       "  <tbody>\n",
       "    <tr>\n",
       "      <th>count</th>\n",
       "      <td>6.000000e+03</td>\n",
       "      <td>6.000000e+03</td>\n",
       "      <td>6.000000e+03</td>\n",
       "      <td>6.000000e+03</td>\n",
       "      <td>6.000000e+03</td>\n",
       "      <td>6000.000000</td>\n",
       "      <td>6000.000000</td>\n",
       "      <td>6.000000e+03</td>\n",
       "      <td>6000.000000</td>\n",
       "      <td>6000.000000</td>\n",
       "      <td>6000.000000</td>\n",
       "    </tr>\n",
       "    <tr>\n",
       "      <th>mean</th>\n",
       "      <td>5.509667e-16</td>\n",
       "      <td>2.178998e-16</td>\n",
       "      <td>1.219765e-16</td>\n",
       "      <td>-4.500104e-17</td>\n",
       "      <td>-2.202682e-16</td>\n",
       "      <td>0.706167</td>\n",
       "      <td>0.516000</td>\n",
       "      <td>-1.598721e-16</td>\n",
       "      <td>0.251167</td>\n",
       "      <td>0.249667</td>\n",
       "      <td>0.549000</td>\n",
       "    </tr>\n",
       "    <tr>\n",
       "      <th>std</th>\n",
       "      <td>1.000083e+00</td>\n",
       "      <td>1.000083e+00</td>\n",
       "      <td>1.000083e+00</td>\n",
       "      <td>1.000083e+00</td>\n",
       "      <td>1.000083e+00</td>\n",
       "      <td>0.455554</td>\n",
       "      <td>0.499786</td>\n",
       "      <td>1.000083e+00</td>\n",
       "      <td>0.433720</td>\n",
       "      <td>0.432856</td>\n",
       "      <td>0.497635</td>\n",
       "    </tr>\n",
       "    <tr>\n",
       "      <th>min</th>\n",
       "      <td>-3.114997e+00</td>\n",
       "      <td>-1.986811e+00</td>\n",
       "      <td>-1.451074e+00</td>\n",
       "      <td>-1.232442e+00</td>\n",
       "      <td>-8.969086e-01</td>\n",
       "      <td>0.000000</td>\n",
       "      <td>0.000000</td>\n",
       "      <td>-1.737997e+00</td>\n",
       "      <td>0.000000</td>\n",
       "      <td>0.000000</td>\n",
       "      <td>0.000000</td>\n",
       "    </tr>\n",
       "    <tr>\n",
       "      <th>25%</th>\n",
       "      <td>-7.013566e-01</td>\n",
       "      <td>-6.506906e-01</td>\n",
       "      <td>-8.126081e-01</td>\n",
       "      <td>-1.232442e+00</td>\n",
       "      <td>-8.969086e-01</td>\n",
       "      <td>0.000000</td>\n",
       "      <td>0.000000</td>\n",
       "      <td>-8.556310e-01</td>\n",
       "      <td>0.000000</td>\n",
       "      <td>0.000000</td>\n",
       "      <td>0.000000</td>\n",
       "    </tr>\n",
       "    <tr>\n",
       "      <th>50%</th>\n",
       "      <td>1.035768e-02</td>\n",
       "      <td>-1.735048e-01</td>\n",
       "      <td>-1.741417e-01</td>\n",
       "      <td>3.249510e-01</td>\n",
       "      <td>-8.969086e-01</td>\n",
       "      <td>1.000000</td>\n",
       "      <td>1.000000</td>\n",
       "      <td>-1.600318e-03</td>\n",
       "      <td>0.000000</td>\n",
       "      <td>0.000000</td>\n",
       "      <td>1.000000</td>\n",
       "    </tr>\n",
       "    <tr>\n",
       "      <th>75%</th>\n",
       "      <td>6.808132e-01</td>\n",
       "      <td>4.945554e-01</td>\n",
       "      <td>7.835579e-01</td>\n",
       "      <td>8.194438e-01</td>\n",
       "      <td>8.169295e-01</td>\n",
       "      <td>1.000000</td>\n",
       "      <td>1.000000</td>\n",
       "      <td>8.492677e-01</td>\n",
       "      <td>1.000000</td>\n",
       "      <td>0.000000</td>\n",
       "      <td>1.000000</td>\n",
       "    </tr>\n",
       "    <tr>\n",
       "      <th>max</th>\n",
       "      <td>2.042354e+00</td>\n",
       "      <td>5.075539e+00</td>\n",
       "      <td>1.741257e+00</td>\n",
       "      <td>2.793587e+00</td>\n",
       "      <td>4.244606e+00</td>\n",
       "      <td>1.000000</td>\n",
       "      <td>1.000000</td>\n",
       "      <td>1.741012e+00</td>\n",
       "      <td>1.000000</td>\n",
       "      <td>1.000000</td>\n",
       "      <td>1.000000</td>\n",
       "    </tr>\n",
       "  </tbody>\n",
       "</table>\n",
       "</div>"
      ],
      "text/plain": [
       "        CreditScore           Age        Tenure       Balance  NumOfProducts  \\\n",
       "count  6.000000e+03  6.000000e+03  6.000000e+03  6.000000e+03   6.000000e+03   \n",
       "mean   5.509667e-16  2.178998e-16  1.219765e-16 -4.500104e-17  -2.202682e-16   \n",
       "std    1.000083e+00  1.000083e+00  1.000083e+00  1.000083e+00   1.000083e+00   \n",
       "min   -3.114997e+00 -1.986811e+00 -1.451074e+00 -1.232442e+00  -8.969086e-01   \n",
       "25%   -7.013566e-01 -6.506906e-01 -8.126081e-01 -1.232442e+00  -8.969086e-01   \n",
       "50%    1.035768e-02 -1.735048e-01 -1.741417e-01  3.249510e-01  -8.969086e-01   \n",
       "75%    6.808132e-01  4.945554e-01  7.835579e-01  8.194438e-01   8.169295e-01   \n",
       "max    2.042354e+00  5.075539e+00  1.741257e+00  2.793587e+00   4.244606e+00   \n",
       "\n",
       "         HasCrCard  IsActiveMember  EstimatedSalary  Geography_Germany  \\\n",
       "count  6000.000000     6000.000000     6.000000e+03        6000.000000   \n",
       "mean      0.706167        0.516000    -1.598721e-16           0.251167   \n",
       "std       0.455554        0.499786     1.000083e+00           0.433720   \n",
       "min       0.000000        0.000000    -1.737997e+00           0.000000   \n",
       "25%       0.000000        0.000000    -8.556310e-01           0.000000   \n",
       "50%       1.000000        1.000000    -1.600318e-03           0.000000   \n",
       "75%       1.000000        1.000000     8.492677e-01           1.000000   \n",
       "max       1.000000        1.000000     1.741012e+00           1.000000   \n",
       "\n",
       "       Geography_Spain  Gender_Male  \n",
       "count      6000.000000  6000.000000  \n",
       "mean          0.249667     0.549000  \n",
       "std           0.432856     0.497635  \n",
       "min           0.000000     0.000000  \n",
       "25%           0.000000     0.000000  \n",
       "50%           0.000000     1.000000  \n",
       "75%           0.000000     1.000000  \n",
       "max           1.000000     1.000000  "
      ]
     },
     "execution_count": 26,
     "metadata": {},
     "output_type": "execute_result"
    }
   ],
   "source": [
    "features_train.describe()"
   ]
  },
  {
   "cell_type": "markdown",
   "metadata": {},
   "source": [
    "### Модели без учета дисбаланса"
   ]
  },
  {
   "cell_type": "markdown",
   "metadata": {},
   "source": [
    "#### DecisionTreeClassifier"
   ]
  },
  {
   "cell_type": "code",
   "execution_count": 27,
   "metadata": {},
   "outputs": [
    {
     "name": "stdout",
     "output_type": "stream",
     "text": [
      "best f1 score on validaiton set= 0.5588555593620983\n",
      "CPU times: user 1.1 ms, sys: 0 ns, total: 1.1 ms\n",
      "Wall time: 597 µs\n"
     ]
    }
   ],
   "source": [
    "%%time\n",
    "\n",
    "if fitting:\n",
    "    parameters_grid = { \n",
    "        'max_depth':list(range(8,16,2)),\n",
    "        'criterion':['gini', 'entropy'],\n",
    "        'min_samples_leaf':list(range(2,7))\n",
    "        }\n",
    "    print('Количество моделей', np.prod([len(i) for i in parameters_grid.values()]))\n",
    "    model = DecisionTreeClassifier(random_state=12345)\n",
    "    cv_tree = GridSearchCV(estimator=model, param_grid=parameters_grid , cv= cv, scoring='f1')\n",
    "    cv_tree.fit(features_train,target_train)\n",
    "    parameters=cv_tree.best_params_\n",
    "    print(parameters)\n",
    "    print('лучший f1 score без балансировки на (кросс) валидационной выборке=',cv_tree.best_score_)\n",
    "    \n",
    "else:\n",
    "    parameters = {'criterion': 'entropy', 'max_depth': 10, 'min_samples_leaf': 5}\n",
    "    print('best f1 score on validaiton set=',0.5588555593620983)"
   ]
  },
  {
   "cell_type": "code",
   "execution_count": 28,
   "metadata": {},
   "outputs": [
    {
     "name": "stdout",
     "output_type": "stream",
     "text": [
      "f1 score без балансировки на валид. выборке 0.5264797507788161\n",
      "ROC AUC без балансировки  на валид. выборке: 0.765557072668287\n",
      "\n"
     ]
    }
   ],
   "source": [
    "model = DecisionTreeClassifier(random_state=12345,**parameters)#,class_weight='balanced')\n",
    "model.fit(features_train,target_train)\n",
    "prediction_valid=model.predict(features_valid)\n",
    "probs=model.predict_proba(features_valid)[:,1]\n",
    "print('f1 score без балансировки на валид. выборке', f1_score(target_valid,prediction_valid))\n",
    "print('ROC AUC без балансировки  на валид. выборке:',roc_auc_score(target_valid,probs))\n",
    "print()"
   ]
  },
  {
   "cell_type": "code",
   "execution_count": 29,
   "metadata": {},
   "outputs": [
    {
     "name": "stdout",
     "output_type": "stream",
     "text": [
      "f1 score без балансировки на тест. выборке 0.5264663805436337\n",
      "ROC AUC без балансировки  на тест. выборке: 0.7846371214478517\n",
      "\n"
     ]
    }
   ],
   "source": [
    "model = DecisionTreeClassifier(random_state=12345,**parameters)#,class_weight='balanced')\n",
    "model.fit(features_train,target_train)\n",
    "prediction_test=model.predict(features_test)\n",
    "probs=model.predict_proba(features_test)[:,1]\n",
    "print('f1 score без балансировки на тест. выборке', f1_score(target_test,prediction_test))\n",
    "print('ROC AUC без балансировки  на тест. выборке:',roc_auc_score(target_test,probs))\n",
    "print()"
   ]
  },
  {
   "cell_type": "markdown",
   "metadata": {},
   "source": [
    "#### RandomForestClassifier"
   ]
  },
  {
   "cell_type": "code",
   "execution_count": 30,
   "metadata": {},
   "outputs": [
    {
     "name": "stdout",
     "output_type": "stream",
     "text": [
      "9\n",
      "Количество моделей 54\n",
      "лучший f1 score без балансировки на валидационной выборке= 0.5824455428337925\n",
      "CPU times: user 1.49 ms, sys: 0 ns, total: 1.49 ms\n",
      "Wall time: 839 µs\n"
     ]
    }
   ],
   "source": [
    "%%time\n",
    "\n",
    "n_est_list=list(range(60,90,10))\n",
    "depth_list=range(8,14,2)\n",
    "print(len(n_est_list)*len(depth_list))\n",
    "\n",
    "parameters_grid = { \n",
    "    'n_estimators': n_est_list,\n",
    "    'max_features': ['auto', 'sqrt', 'log2'],\n",
    "    'max_depth' : depth_list,\n",
    "    'criterion' :['gini', 'entropy']\n",
    "}\n",
    "print('Количество моделей', np.prod([len(i) for i in parameters_grid.values()]))\n",
    "\n",
    "#if False: \n",
    "if fitting:\n",
    "    model = RandomForestClassifier(random_state=12345)\n",
    "    cv_forest = GridSearchCV(estimator=model, param_grid=parameters_grid , cv= cv, scoring='f1')\n",
    "    cv_forest.fit(features_train,target_train)\n",
    "    parameters=cv_forest.best_params_\n",
    "    print(parameters)\n",
    "    print('лучший f1 score без балансировки на валидационной выборке=',cv_forest.best_score_)\n",
    "else:\n",
    "    parameters={'criterion': 'entropy', 'max_depth': 12, 'max_features': 'auto', 'n_estimators': 80}\n",
    "    print('лучший f1 score без балансировки на валидационной выборке=',0.5824455428337925)"
   ]
  },
  {
   "cell_type": "code",
   "execution_count": 31,
   "metadata": {},
   "outputs": [
    {
     "name": "stdout",
     "output_type": "stream",
     "text": [
      "Валидация\n",
      "F1 score без балансировки 0.5454545454545455\n",
      "ROC AUC без балансировки: 0.849610328093731\n"
     ]
    }
   ],
   "source": [
    "model = RandomForestClassifier(random_state=12345,**parameters)#,class_weight='balanced')\n",
    "model.fit(features_train,target_train)\n",
    "prediction=model.predict(features_valid)\n",
    "probs=model.predict_proba(features_valid)[:,1]\n",
    "print('Валидация')\n",
    "print('F1 score без балансировки', f1_score(target_valid,prediction))\n",
    "print('ROC AUC без балансировки:',roc_auc_score(target_valid,probs))"
   ]
  },
  {
   "cell_type": "code",
   "execution_count": 32,
   "metadata": {},
   "outputs": [
    {
     "name": "stdout",
     "output_type": "stream",
     "text": [
      "Тестовая выборка\n",
      "F1 score без балансировки 0.5620328849028401\n",
      "ROC AUC без балансировки: 0.867837080951835\n"
     ]
    }
   ],
   "source": [
    "model = RandomForestClassifier(random_state=12345,**parameters)#,class_weight='balanced')\n",
    "model.fit(features_train,target_train)\n",
    "prediction_test=model.predict(features_test)\n",
    "probs=model.predict_proba(features_test)[:,1]\n",
    "print('Тестовая выборка')\n",
    "print('F1 score без балансировки', f1_score(target_test,prediction_test))\n",
    "print('ROC AUC без балансировки:',roc_auc_score(target_test,probs))"
   ]
  },
  {
   "cell_type": "markdown",
   "metadata": {},
   "source": [
    "#### LogisticRegression"
   ]
  },
  {
   "cell_type": "code",
   "execution_count": 33,
   "metadata": {},
   "outputs": [],
   "source": [
    "import warnings\n",
    "warnings.filterwarnings('ignore')\n",
    "#warnings.filterwarnings('always')"
   ]
  },
  {
   "cell_type": "code",
   "execution_count": 34,
   "metadata": {},
   "outputs": [
    {
     "name": "stdout",
     "output_type": "stream",
     "text": [
      "лучший f1 score без балансировки на валидационной выборке= 0.3110670988697672\n",
      "CPU times: user 368 µs, sys: 0 ns, total: 368 µs\n",
      "Wall time: 255 µs\n"
     ]
    }
   ],
   "source": [
    "%%time \n",
    "if fitting:\n",
    "    solver_list=['newton-cg',\n",
    "             'lbfgs', 'sag', 'saga']\n",
    "    #solver_list=['liblinear']\n",
    "    max_iter_list=list(range(10,121,20))\n",
    "    parameters_grid = {\n",
    "        'solver' :  solver_list,  #['liblinear'],\n",
    "        'max_iter' : max_iter_list,\n",
    "        'C': [0.1]\n",
    "        #'C': [0.1,1,10]\n",
    "    }\n",
    "    #parameters_grid = {'C': [0.01, 0.1, 1, 2, 10, 100], 'penalty': ['l1', 'l2']}\n",
    "    print('Количество моделей', np.prod([len(i) for i in parameters_grid.values()]))\n",
    "\n",
    "    model = LogisticRegression(random_state=12345)\n",
    "    cv_log_reg = GridSearchCV(estimator=model, param_grid=parameters_grid , cv= cv, scoring='f1')\n",
    "    cv_log_reg.fit(features_train,target_train)\n",
    "    parameters=cv_log_reg.best_params_\n",
    "    print('лучший f1 score без балансировки на валидационной выборке=',cv_log_reg.best_score_)\n",
    "    print(parameters)\n",
    "else:\n",
    "    parameters ={'C': 0.1, 'max_iter': 10, 'solver': 'lbfgs'}\n",
    "    print('лучший f1 score без балансировки на валидационной выборке=',0.3110670988697672)"
   ]
  },
  {
   "cell_type": "code",
   "execution_count": 35,
   "metadata": {},
   "outputs": [
    {
     "name": "stdout",
     "output_type": "stream",
     "text": [
      "Валидационная выборка\n",
      "F1 score без балансировки 0.29714285714285715\n",
      "ROC AUC без балансировки: 0.7713294305210938\n"
     ]
    }
   ],
   "source": [
    "print('Валидационная выборка')\n",
    "model_log_reg = LogisticRegression(random_state=12345,**parameters)\n",
    "model_log_reg.fit(features_train,target_train)\n",
    "prediction=model_log_reg.predict(features_valid)\n",
    "probs=model_log_reg.predict_proba(features_valid)[:,1]\n",
    "print('F1 score без балансировки', f1_score(target_valid,prediction))\n",
    "print('ROC AUC без балансировки:',roc_auc_score(target_valid,probs))"
   ]
  },
  {
   "cell_type": "code",
   "execution_count": 36,
   "metadata": {},
   "outputs": [
    {
     "name": "stdout",
     "output_type": "stream",
     "text": [
      "Тестовая выборка\n",
      "F1 score без балансировки 0.2887700534759358\n",
      "ROC AUC без балансировки: 0.7594968369931111\n"
     ]
    }
   ],
   "source": [
    "print('Тестовая выборка')\n",
    "model_log_reg = LogisticRegression(random_state=12345,**parameters)\n",
    "model_log_reg.fit(features_train,target_train)\n",
    "prediction_test=model_log_reg.predict(features_test)\n",
    "probs=model_log_reg.predict_proba(features_test)[:,1]\n",
    "print('F1 score без балансировки', f1_score(target_test,prediction_test))\n",
    "print('ROC AUC без балансировки:',roc_auc_score(target_test,probs))"
   ]
  },
  {
   "cell_type": "markdown",
   "metadata": {},
   "source": [
    "### Выводы"
   ]
  },
  {
   "cell_type": "markdown",
   "metadata": {},
   "source": [
    "Признаки 'RowNumber','Surname','CustomerId' убраны как не релевантные."
   ]
  },
  {
   "cell_type": "markdown",
   "metadata": {},
   "source": [
    "Исследование балласов классов показывает что доля потерянных клиентов составляет 0.2037. Таким образом сильный имеется сильный дисбаланс данных по целевому признаку."
   ]
  },
  {
   "cell_type": "markdown",
   "metadata": {},
   "source": [
    "Рассмотрены, обучены три модели с подбором гиперпараметров:  \n",
    "- DecisionTreeClassifier \n",
    "- RandomRorestClassifier\n",
    "- LogisticRegression\n",
    "\n",
    "Получены следущие разультаты для F1-меры и ROC AUR\n"
   ]
  },
  {
   "cell_type": "markdown",
   "metadata": {},
   "source": [
    "DecisionTreeClassifier:\n",
    "- F1 score без балансировки 0.53\n",
    "- ROC AUC без балансировки: 0.78"
   ]
  },
  {
   "cell_type": "markdown",
   "metadata": {},
   "source": [
    "RandomRorestClassifier \n",
    "- F1 score без балансировки 0.56\n",
    "- ROC AUC без балансировки: 0.87"
   ]
  },
  {
   "cell_type": "markdown",
   "metadata": {},
   "source": [
    "LogisticRegression\n",
    "- F1 score без балансировки 0.29\n",
    "- ROC AUC без балансировки: 0.76"
   ]
  },
  {
   "cell_type": "markdown",
   "metadata": {},
   "source": [
    "Модель RandomRorestClassifier показала наилучшии результат среди рассмотреных моделей. F1-мера равна 0.53, что ниже целевого порога метрики. Требуется балансировка классов. "
   ]
  },
  {
   "cell_type": "markdown",
   "metadata": {},
   "source": [
    "## Борьба с дисбалансом"
   ]
  },
  {
   "cell_type": "markdown",
   "metadata": {},
   "source": [
    "### Upsampling  data"
   ]
  },
  {
   "cell_type": "code",
   "execution_count": 37,
   "metadata": {},
   "outputs": [
    {
     "data": {
      "text/plain": [
       "3.909180166912126"
      ]
     },
     "execution_count": 37,
     "metadata": {},
     "output_type": "execute_result"
    }
   ],
   "source": [
    "ones=target.mean()\n",
    "1/ones-1"
   ]
  },
  {
   "cell_type": "code",
   "execution_count": 38,
   "metadata": {},
   "outputs": [],
   "source": [
    "def upsample(features, target, repeat):\n",
    "    features_zeros = features[target == 0]\n",
    "    features_ones = features[target == 1]\n",
    "    target_zeros = target[target == 0]\n",
    "    target_ones = target[target == 1]\n",
    "\n",
    "    features_upsampled = pd.concat([features_zeros] + [features_ones] * repeat)\n",
    "    target_upsampled = pd.concat([target_zeros] + [target_ones] * repeat)\n",
    "    \n",
    "    features_upsampled, target_upsampled = shuffle(\n",
    "        features_upsampled, target_upsampled, random_state=12345)\n",
    "    \n",
    "    return features_upsampled, target_upsampled"
   ]
  },
  {
   "cell_type": "code",
   "execution_count": 39,
   "metadata": {},
   "outputs": [
    {
     "data": {
      "text/plain": [
       "0.20316666666666666"
      ]
     },
     "execution_count": 39,
     "metadata": {},
     "output_type": "execute_result"
    }
   ],
   "source": [
    "target_train.mean()"
   ]
  },
  {
   "cell_type": "code",
   "execution_count": 40,
   "metadata": {},
   "outputs": [],
   "source": [
    "features_upsampled, target_upsampled = upsample(features_train, target_train, 4)\n",
    "#features_upsampled, target_upsampled = upsample(features_test, target_test, 4)"
   ]
  },
  {
   "cell_type": "code",
   "execution_count": 41,
   "metadata": {},
   "outputs": [
    {
     "data": {
      "text/plain": [
       "0.5049187118152635"
      ]
     },
     "execution_count": 41,
     "metadata": {},
     "output_type": "execute_result"
    }
   ],
   "source": [
    "target_upsampled.mean()"
   ]
  },
  {
   "cell_type": "code",
   "execution_count": 42,
   "metadata": {},
   "outputs": [
    {
     "data": {
      "text/plain": [
       "0.2037"
      ]
     },
     "execution_count": 42,
     "metadata": {},
     "output_type": "execute_result"
    }
   ],
   "source": [
    "target.mean()"
   ]
  },
  {
   "cell_type": "markdown",
   "metadata": {},
   "source": [
    "### PCA on upsampling  data"
   ]
  },
  {
   "cell_type": "code",
   "execution_count": 43,
   "metadata": {},
   "outputs": [],
   "source": [
    "from sklearn import decomposition\n",
    "pca = decomposition.PCA(n_components=5)\n",
    "pca.fit(features_train)\n",
    "features_train_dec=pca.transform(features_upsampled)\n",
    "features_test_dec=pca.transform(features_test)\n",
    "features_valid_dec=pca.transform(features_valid)"
   ]
  },
  {
   "cell_type": "markdown",
   "metadata": {},
   "source": [
    "### DecisionTreeClassifier "
   ]
  },
  {
   "cell_type": "code",
   "execution_count": 44,
   "metadata": {
    "scrolled": true
   },
   "outputs": [
    {
     "name": "stdout",
     "output_type": "stream",
     "text": [
      "лучший f1 score cо встроенной балансировкой на валидационной выборке= 0.9363520280956525\n",
      "CPU times: user 925 µs, sys: 359 µs, total: 1.28 ms\n",
      "Wall time: 188 µs\n"
     ]
    }
   ],
   "source": [
    "%%time\n",
    "\n",
    "if fitting:\n",
    "    parameters_grid = { \n",
    "        'max_depth':list(range(1,38,2)),\n",
    "        'criterion':['gini', 'entropy'],\n",
    "        'min_samples_leaf':list(range(1,7))\n",
    "        }\n",
    "    print('Количество моделей', np.prod([len(i) for i in parameters_grid.values()]))\n",
    "    model = DecisionTreeClassifier(random_state=12345,class_weight='balanced')\n",
    "    cv_tree = GridSearchCV(estimator=model, param_grid=parameters_grid , cv= cv, scoring='f1')\n",
    "    cv_tree.fit(features_upsampled,target_upsampled)\n",
    "    parameters=cv_tree.best_params_\n",
    "    print(parameters)\n",
    "    print('лучший f1 score cо встроенной балансировкой на валидационной выборке =',cv_tree.best_score_)\n",
    "    \n",
    "else:\n",
    "    parameters = {'criterion': 'gini', 'max_depth': 25, 'min_samples_leaf': 1}\n",
    "    print('лучший f1 score cо встроенной балансировкой на валидационной выборке=', 0.9363520280956525)"
   ]
  },
  {
   "cell_type": "code",
   "execution_count": 45,
   "metadata": {},
   "outputs": [
    {
     "name": "stdout",
     "output_type": "stream",
     "text": [
      "Валидационная выборка\n",
      "F1 score для upsampling 0.4613368283093054\n",
      "ROC AUC  для upsampling: 0.6641565427208524\n",
      "Тестовая выборка\n",
      "F1 score для upsampling 0.4845605700712589\n",
      "ROC AUC  для upsampling: 0.6718065838781189\n"
     ]
    }
   ],
   "source": [
    "parameters = {'criterion': 'gini', 'max_depth': 25, 'min_samples_leaf': 1}\n",
    "model = DecisionTreeClassifier(random_state=12345,**parameters)\n",
    "model.fit(features_upsampled,target_upsampled)\n",
    "\n",
    "print('Валидационная выборка')\n",
    "prediction=model.predict(features_valid)\n",
    "probs=model.predict_proba(features_valid)[:,1]\n",
    "print('F1 score для upsampling', f1_score(target_valid,prediction))\n",
    "print('ROC AUC  для upsampling:',roc_auc_score(target_valid,probs))\n",
    "\n",
    "print('Тестовая выборка')\n",
    "prediction=model.predict(features_test)\n",
    "probs=model.predict_proba(features_test)[:,1]\n",
    "print('F1 score для upsampling', f1_score(target_test,prediction))\n",
    "print('ROC AUC  для upsampling:',roc_auc_score(target_test,probs))"
   ]
  },
  {
   "cell_type": "code",
   "execution_count": 46,
   "metadata": {},
   "outputs": [
    {
     "name": "stdout",
     "output_type": "stream",
     "text": [
      "лучший f1 score cо встроенной балансировкой на валидационной выборке= 0.5708236519747192\n",
      "CPU times: user 146 µs, sys: 56 µs, total: 202 µs\n",
      "Wall time: 121 µs\n"
     ]
    }
   ],
   "source": [
    "%%time\n",
    "\n",
    "if fitting:\n",
    "    parameters_grid = { \n",
    "        'max_depth':list(range(1,38,2)),\n",
    "        'criterion':['gini', 'entropy'],\n",
    "        'min_samples_leaf':list(range(1,7))\n",
    "        }\n",
    "    print('Количество моделей', np.prod([len(i) for i in parameters_grid.values()]))\n",
    "    model = DecisionTreeClassifier(random_state=12345,class_weight='balanced')\n",
    "    cv_tree = GridSearchCV(estimator=model, param_grid=parameters_grid , cv= cv, scoring='f1')\n",
    "    cv_tree.fit(features_train,target_train)\n",
    "    parameters=cv_tree.best_params_\n",
    "    print(parameters)\n",
    "    print('лучший f1 score cо встроенной балансировкой на валидационной выборке=',cv_tree.best_score_)\n",
    "    \n",
    "else:\n",
    "    parameters = {'criterion': 'entropy', 'max_depth': 7, 'min_samples_leaf': 6}\n",
    "    print('лучший f1 score cо встроенной балансировкой на валидационной выборке=',0.5708236519747192)"
   ]
  },
  {
   "cell_type": "code",
   "execution_count": 47,
   "metadata": {},
   "outputs": [
    {
     "name": "stdout",
     "output_type": "stream",
     "text": [
      "F1 score c встроенной балансировкой 0.5697786333012512\n",
      "ROC AUC c встроенной балансировки: 0.8305900791424198\n",
      "\n",
      "Валидационная выборка\n",
      "F1 score для upsampling 0.5734549138804458\n",
      "ROC AUC  для upsampling: 0.8314428589821639\n",
      "Тестовая выборка\n",
      "F1 score для upsampling 0.615686274509804\n",
      "ROC AUC  для upsampling: 0.8437419510444846\n"
     ]
    }
   ],
   "source": [
    "parameters = {'criterion': 'entropy', 'max_depth': 7, 'min_samples_leaf': 6}\n",
    "model = DecisionTreeClassifier(random_state=12345,**parameters,class_weight='balanced')\n",
    "model.fit(features_train,target_train)\n",
    "prediction=model.predict(features_valid)\n",
    "probs=model.predict_proba(features_valid)[:,1]\n",
    "print('F1 score c встроенной балансировкой', f1_score(target_valid,prediction))\n",
    "print('ROC AUC c встроенной балансировки:',roc_auc_score(target_valid,probs))\n",
    "print()\n",
    "\n",
    "\n",
    "model = DecisionTreeClassifier(random_state=12345,**parameters)\n",
    "model.fit(features_upsampled,target_upsampled)\n",
    "\n",
    "print('Валидационная выборка')\n",
    "prediction=model.predict(features_valid)\n",
    "probs=model.predict_proba(features_valid)[:,1]\n",
    "print('F1 score для upsampling', f1_score(target_valid,prediction))\n",
    "print('ROC AUC  для upsampling:',roc_auc_score(target_valid,probs))\n",
    "\n",
    "print('Тестовая выборка')\n",
    "prediction=model.predict(features_test)\n",
    "probs=model.predict_proba(features_test)[:,1]\n",
    "print('F1 score для upsampling', f1_score(target_test,prediction))\n",
    "print('ROC AUC  для upsampling:',roc_auc_score(target_test,probs))"
   ]
  },
  {
   "cell_type": "code",
   "execution_count": 48,
   "metadata": {},
   "outputs": [
    {
     "name": "stdout",
     "output_type": "stream",
     "text": [
      "Оптимальный порог: 0.3\n",
      "F1 score после для оптимального порога: 0.5667090216010165\n"
     ]
    }
   ],
   "source": [
    "parameters = {'criterion': 'entropy', 'max_depth': 7, 'min_samples_leaf': 6}\n",
    "model = DecisionTreeClassifier(random_state=12345,**parameters)\n",
    "model.fit(features_train,target_train)\n",
    "prediction=model.predict(features_train)\n",
    "probs=model.predict_proba(features_train)[:,1]\n",
    "f1_score_list=[]\n",
    "roc_auc_score_list=[]\n",
    "thr_list=np.arange(0.01,0.99,0.01)\n",
    "for thr in thr_list:\n",
    "    predictions=(probs>thr).astype('int')\n",
    "    f1_score_list.append(f1_score(target_train,predictions))\n",
    "    roc_auc_score_list.append(roc_auc_score(target_train,predictions))\n",
    "    #print(f1_score(target_test,predictions))\n",
    "    \n",
    "    \n",
    "threshold=thr_list[np.argmax(f1_score_list)]\n",
    "print('Оптимальный порог:', threshold)\n",
    "\n",
    "probs=model.predict_proba(features_valid)[:,1]\n",
    "predictions=(probs>=threshold).astype('int')\n",
    "print('F1 score после для оптимального порога:', f1_score(target_valid,predictions))"
   ]
  },
  {
   "cell_type": "code",
   "execution_count": 49,
   "metadata": {},
   "outputs": [
    {
     "data": {
      "image/png": "[encoded data removed]",
      "text/plain": [
       "<Figure size 432x432 with 1 Axes>"
      ]
     },
     "metadata": {
      "needs_background": "light"
     },
     "output_type": "display_data"
    }
   ],
   "source": [
    "plt.figure(figsize=(6, 6))\n",
    "plt.step(thr_list, f1_score_list, where='post')\n",
    "plt.xlabel('Threshold')\n",
    "plt.ylabel('F1 score')\n",
    "plt.ylim([0.0, 1.0])\n",
    "plt.xlim([0.0, 1.0])\n",
    "plt.title('ROC_AUC score dependency on threshold')\n",
    "plt.show()"
   ]
  },
  {
   "cell_type": "code",
   "execution_count": 50,
   "metadata": {},
   "outputs": [
    {
     "name": "stdout",
     "output_type": "stream",
     "text": [
      "F1 score после для оптимального порога: 0.49144254278728605\n"
     ]
    }
   ],
   "source": [
    "model = DecisionTreeClassifier(random_state=12345,**parameters)\n",
    "model.fit(features_train,target_train)\n",
    "\n",
    "probs=model_log_reg.predict_proba(features_valid)[:,1]\n",
    "predictions=(probs>=0.3).astype('int')\n",
    "print('F1 score после для оптимального порога:', f1_score(target_valid,predictions))"
   ]
  },
  {
   "cell_type": "markdown",
   "metadata": {},
   "source": [
    "### RandomForestClassifier"
   ]
  },
  {
   "cell_type": "code",
   "execution_count": 51,
   "metadata": {},
   "outputs": [
    {
     "name": "stdout",
     "output_type": "stream",
     "text": [
      "20\n",
      "лучший f1 score cо встроенной балансировкой на валидационной выборке= 0.6144121277824393\n",
      "CPU times: user 0 ns, sys: 6.6 ms, total: 6.6 ms\n",
      "Wall time: 1.07 ms\n"
     ]
    }
   ],
   "source": [
    "%%time\n",
    "\n",
    "n_est_list=list(range(80,130,10))\n",
    "depth_list=range(8,16,2)\n",
    "print(len(n_est_list)*len(depth_list))\n",
    "\n",
    "parameters_grid = { \n",
    "    'n_estimators': n_est_list,\n",
    "    'max_features': ['auto', 'sqrt', 'log2'],\n",
    "    'max_depth' : depth_list,\n",
    "    'criterion' :['gini', 'entropy']\n",
    "}\n",
    "\n",
    "if fitting:\n",
    "    model = RandomForestClassifier(random_state=12345,class_weight='balanced')\n",
    "    cv_forest = GridSearchCV(estimator=model, param_grid=parameters_grid , cv= cv, scoring='f1')\n",
    "    cv_forest.fit(features_train,target_train)\n",
    "    parameters=cv_forest.best_params_\n",
    "    print(parameters)\n",
    "    print('лучший f1 score cо встроенной балансировкой на валидационной выборке=',cv_forest.best_score_)\n",
    "else:\n",
    "    parameters={'criterion': 'gini', 'max_depth': 8, 'max_features': 'auto', 'n_estimators': 100}\n",
    "    print('лучший f1 score cо встроенной балансировкой на валидационной выборке=',0.6144121277824393)"
   ]
  },
  {
   "cell_type": "code",
   "execution_count": 52,
   "metadata": {},
   "outputs": [
    {
     "name": "stdout",
     "output_type": "stream",
     "text": [
      "f1 score c балансировкой 0.5860465116279069\n",
      "ROC AUC c балансировки: 0.8535491695529781\n",
      "\n"
     ]
    }
   ],
   "source": [
    "parameters={'criterion': 'gini', 'max_depth': 8, 'max_features': 'auto', 'n_estimators': 100}\n",
    "model = RandomForestClassifier(random_state=12345,**parameters,class_weight='balanced')\n",
    "model.fit(features_train,target_train)\n",
    "prediction_valid=model.predict(features_valid)\n",
    "probs=model.predict_proba(features_valid)[:,1]\n",
    "print('f1 score c балансировкой', f1_score(target_valid,prediction_valid))\n",
    "print('ROC AUC c балансировки:',roc_auc_score(target_valid,probs))\n",
    "print()"
   ]
  },
  {
   "cell_type": "code",
   "execution_count": 53,
   "metadata": {},
   "outputs": [
    {
     "name": "stdout",
     "output_type": "stream",
     "text": [
      "f1 score для upsampling 0.5834230355220668\n",
      "ROC AUC  для upsampling: 0.8536365933948904\n"
     ]
    }
   ],
   "source": [
    "parameters={'criterion': 'gini', 'max_depth': 8, 'max_features': 'auto', 'n_estimators': 100}\n",
    "\n",
    "model = RandomForestClassifier(random_state=12345,**parameters)\n",
    "model.fit(features_upsampled,target_upsampled)\n",
    "prediction=model.predict(features_valid)\n",
    "probs=model.predict_proba(features_valid)[:,1]\n",
    "print('f1 score для upsampling', f1_score(target_valid,prediction))\n",
    "print('ROC AUC  для upsampling:',roc_auc_score(target_valid,probs))"
   ]
  },
  {
   "cell_type": "code",
   "execution_count": 54,
   "metadata": {},
   "outputs": [
    {
     "name": "stdout",
     "output_type": "stream",
     "text": [
      "f1 score без балансировки 0.6385477843032569\n",
      "ROC AUC : 0.9173447535268724\n",
      "\n",
      "Оптимальный порог: 0.29400000000000015\n",
      "Валидация:F1 score после для оптимального порога: 0.6112531969309463\n",
      "Тест: F1 score после для оптимального порога: 0.6329411764705882\n"
     ]
    }
   ],
   "source": [
    "parameters={'criterion': 'gini', 'max_depth': 8, 'max_features': 'auto', 'n_estimators': 100}\n",
    "model = RandomForestClassifier(random_state=12345,**parameters) # ,class_weight='balanced')\n",
    "model.fit(features_train,target_train)\n",
    "prediction=model.predict(features_train)\n",
    "probs=model.predict_proba(features_train)[:,1]\n",
    "print('f1 score без балансировки', f1_score(target_train,prediction))\n",
    "print('ROC AUC :',roc_auc_score(target_train,probs))\n",
    "print()\n",
    "\n",
    "f1_score_list=[]\n",
    "thr_list=np.arange(0.1,0.9,0.001)\n",
    "for thr in thr_list:\n",
    "    predictions=(probs>thr).astype('int')\n",
    "    f1_score_list.append(f1_score(target_train,predictions))\n",
    "    \n",
    "    \n",
    "threshold=thr_list[np.argmax(f1_score_list)]\n",
    "print('Оптимальный порог:', threshold)\n",
    "\n",
    "probs_test=model.predict_proba(features_valid)[:,1]\n",
    "predictions=(probs_test>threshold).astype('int')\n",
    "print('Валидация:F1 score после для оптимального порога:', f1_score(target_valid,predictions))\n",
    "\n",
    "probs_test=model.predict_proba(features_test)[:,1]\n",
    "predictions=(probs_test>threshold).astype('int')\n",
    "print('Тест: F1 score после для оптимального порога:', f1_score(target_test,predictions))"
   ]
  },
  {
   "cell_type": "code",
   "execution_count": 55,
   "metadata": {},
   "outputs": [
    {
     "data": {
      "image/png": "[encoded data removed]",
      "text/plain": [
       "<Figure size 432x432 with 1 Axes>"
      ]
     },
     "metadata": {
      "needs_background": "light"
     },
     "output_type": "display_data"
    }
   ],
   "source": [
    "plt.figure(figsize=(6, 6))\n",
    "plt.step(thr_list, f1_score_list, where='post')\n",
    "plt.xlabel('Threshold')\n",
    "plt.ylabel('F1 score')\n",
    "plt.ylim([0.0, 1.0])\n",
    "plt.xlim([0.0, 1.0])\n",
    "plt.title('F1 score dependency on threshold')\n",
    "plt.show()"
   ]
  },
  {
   "cell_type": "markdown",
   "metadata": {},
   "source": [
    "### LogisticRegression"
   ]
  },
  {
   "cell_type": "code",
   "execution_count": 56,
   "metadata": {},
   "outputs": [],
   "source": [
    "import warnings\n",
    "warnings.filterwarnings('ignore')\n",
    "#warnings.filterwarnings('always')"
   ]
  },
  {
   "cell_type": "code",
   "execution_count": 57,
   "metadata": {},
   "outputs": [
    {
     "name": "stdout",
     "output_type": "stream",
     "text": [
      "лучший f1 score cо встроенной балансировкой на валидационной выборке= 0.4903851598463896\n",
      "CPU times: user 88 µs, sys: 18 µs, total: 106 µs\n",
      "Wall time: 110 µs\n"
     ]
    }
   ],
   "source": [
    "%%time \n",
    "if fitting:\n",
    "    solver_list=['newton-cg',\n",
    "             'lbfgs', 'sag', 'saga']\n",
    "    #solver_list=['liblinear']\n",
    "    max_iter_list=list(range(10,121,20)) #+list(range(200,1001,200)) +list(range(2000,10001,500))\n",
    "    parameters_grid = {\n",
    "        'solver' :  solver_list,  #['liblinear'],\n",
    "        'max_iter' : max_iter_list,\n",
    "        'C': [0.1]\n",
    "        #'C': [0.1,1,10]\n",
    "    }\n",
    "    #parameters_grid = {'C': [0.01, 0.1, 1, 2, 10, 100], 'penalty': ['l1', 'l2']}\n",
    "    print('Объем сетки', np.prod([len(i) for i in parameters_grid.values()]))\n",
    "\n",
    "    model = LogisticRegression(random_state=12345, class_weight='balanced')\n",
    "    cv_log_reg = GridSearchCV(estimator=model, param_grid=parameters_grid , cv= cv, scoring='f1')\n",
    "    cv_log_reg.fit(features_train,target_train)\n",
    "    parameters=cv_log_reg.best_params_\n",
    "    print('лучший f1 score cо встроенной балансировкой на валидационной выборке=',cv_log_reg.best_score_)\n",
    "    print(parameters)\n",
    "else:\n",
    "    parameters ={'C': 0.1, 'max_iter': 10, 'solver': 'saga'}\n",
    "    print('лучший f1 score cо встроенной балансировкой на валидационной выборке=',0.4903851598463896)"
   ]
  },
  {
   "cell_type": "code",
   "execution_count": 58,
   "metadata": {},
   "outputs": [
    {
     "name": "stdout",
     "output_type": "stream",
     "text": [
      "f1 score со встроенной балансировкой 0.5021132713440405\n",
      "ROC AUC со встроенной балансировкой: 0.7649697545375638\n",
      "\n",
      "f1 score для upsampling 0.47964601769911513\n",
      "ROC AUC  для upsampling: 0.49910748205029576\n"
     ]
    }
   ],
   "source": [
    "parameters ={'C': 0.1, 'max_iter': 10, 'solver': 'saga'}\n",
    "model_log_reg = LogisticRegression(random_state=12345,**parameters, class_weight='balanced')\n",
    "model_log_reg.fit(features_train,target_train)\n",
    "prediction_test=model_log_reg.predict(features_test)\n",
    "probs=model_log_reg.predict_proba(features_test)[:,1]\n",
    "print('f1 score со встроенной балансировкой', f1_score(target_test,prediction_test))\n",
    "print('ROC AUC со встроенной балансировкой:',roc_auc_score(target_test,probs))\n",
    "print()\n",
    "\n",
    "model_log_reg = LogisticRegression(random_state=12345,**parameters)\n",
    "model_log_reg.fit(features_upsampled,target_upsampled)\n",
    "prediction=model_log_reg.predict(features_valid)\n",
    "print('f1 score для upsampling', f1_score(target_valid,prediction))\n",
    "print('ROC AUC  для upsampling:',roc_auc_score(target_valid,probs))"
   ]
  },
  {
   "cell_type": "code",
   "execution_count": null,
   "metadata": {},
   "outputs": [],
   "source": [
    "%%time \n",
    "if fitting:\n",
    "    #solver_list=['newton-cg',\n",
    "     #        'lbfgs', 'sag', 'saga']\n",
    "    solver_list=['liblinear']\n",
    "    #solver_list=['newton-cg']\n",
    "    max_iter_list=list(range(10,121,20)) +list(range(200,1001,200)) +list(range(2000,5001,500))\n",
    "    parameters_grid = {\n",
    "        'solver' :  solver_list,  #['liblinear'],\n",
    "        'max_iter' : max_iter_list,\n",
    "        #'C': [0.1]\n",
    "        'C': [0.1,1,10]\n",
    "    }\n",
    "    #parameters_grid = {'C': [0.01, 0.1, 1, 2, 10, 100], 'penalty': ['l1', 'l2']}\n",
    "    print('Объем сетки', np.prod([len(i) for i in parameters_grid.values()]))\n",
    "\n",
    "    model = LogisticRegression(random_state=12345, class_weight='balanced')\n",
    "    cv_log_reg = GridSearchCV(estimator=model, param_grid=parameters_grid , cv= cv, scoring='f1')\n",
    "    cv_log_reg.fit(features_train_dec,target_upsampled)\n",
    "    parameters=cv_log_reg.best_params_\n",
    "    print('лучший f1 score cо встроенной балансировкой на валидационной выборке=',cv_log_reg.best_score_)\n",
    "    print(parameters)\n",
    "else:\n",
    "    parameters = {'C': 0.1, 'max_iter': 10, 'solver': 'liblinear'}\n",
    "\n",
    "    print('лучший f1 score cо встроенной балансировкой на валидационной выборке=',0.4903851598463896)"
   ]
  },
  {
   "cell_type": "code",
   "execution_count": 59,
   "metadata": {},
   "outputs": [
    {
     "ename": "NameError",
     "evalue": "name 'cv_log_reg' is not defined",
     "output_type": "error",
     "traceback": [
      "\u001b[0;31m---------------------------------------------------------------------------\u001b[0m",
      "\u001b[0;31mNameError\u001b[0m                                 Traceback (most recent call last)",
      "\u001b[0;32m<timed exec>\u001b[0m in \u001b[0;36m<module>\u001b[0;34m\u001b[0m\n",
      "\u001b[0;31mNameError\u001b[0m: name 'cv_log_reg' is not defined"
     ]
    }
   ],
   "source": []
  },
  {
   "cell_type": "code",
   "execution_count": 60,
   "metadata": {},
   "outputs": [
    {
     "name": "stdout",
     "output_type": "stream",
     "text": [
      "f1 score для 5-компонетной PCA 0.46017699115044247\n",
      "ROC AUC  для 5-компонетной PCA: 0.7335384879490208\n"
     ]
    }
   ],
   "source": [
    "model_log_reg = LogisticRegression(random_state=12345,**parameters)\n",
    "model_log_reg.fit(features_train_dec,target_upsampled)\n",
    "prediction=model_log_reg.predict(features_valid_dec)\n",
    "probs=model_log_reg.predict_proba(features_valid_dec)[:,1]\n",
    "print('f1 score для 5-компонетной PCA', f1_score(target_valid,prediction))\n",
    "print('ROC AUC  для 5-компонетной PCA:',roc_auc_score(target_valid,probs))"
   ]
  },
  {
   "cell_type": "code",
   "execution_count": 61,
   "metadata": {},
   "outputs": [
    {
     "name": "stdout",
     "output_type": "stream",
     "text": [
      "Оптимальный порог: 0.53\n",
      "F1 score после для оптимального порога: 0.5071942446043165\n"
     ]
    }
   ],
   "source": [
    "model_log_reg = LogisticRegression(random_state=12345,**parameters, class_weight='balanced')\n",
    "model_log_reg.fit(features_train,target_train)\n",
    "probs=model_log_reg.predict_proba(features_train)[:,1]\n",
    "f1_score_list=[]\n",
    "roc_auc_score_list=[]\n",
    "thr_list=np.arange(0.01,0.99,0.01)\n",
    "for thr in thr_list:\n",
    "    predictions=(probs>thr).astype('int')\n",
    "    f1_score_list.append(f1_score(target_train,predictions))\n",
    "    roc_auc_score_list.append(roc_auc_score(target_train,predictions))\n",
    "    #print(f1_score(target_test,predictions))\n",
    "    \n",
    "    \n",
    "threshold=thr_list[np.argmax(f1_score_list)]\n",
    "print('Оптимальный порог:', threshold)\n",
    "\n",
    "probs_test=model_log_reg.predict_proba(features_test)[:,1]\n",
    "predictions=(probs_test>threshold).astype('int')\n",
    "print('F1 score после для оптимального порога:', f1_score(target_test,predictions))"
   ]
  },
  {
   "cell_type": "code",
   "execution_count": 62,
   "metadata": {},
   "outputs": [
    {
     "name": "stdout",
     "output_type": "stream",
     "text": [
      "Оптимальный порог: 0.53\n",
      "F1 score после для оптимального порога: 0.5071942446043165\n"
     ]
    }
   ],
   "source": [
    "model_log_reg = LogisticRegression(random_state=12345,**parameters, class_weight='balanced')\n",
    "model_log_reg.fit(features_train,target_train)\n",
    "probs=model_log_reg.predict_proba(features_train)[:,1]\n",
    "f1_score_list=[]\n",
    "roc_auc_score_list=[]\n",
    "thr_list=np.arange(0.01,0.99,0.01)\n",
    "for thr in thr_list:\n",
    "    predictions=(probs>thr).astype('int')\n",
    "    f1_score_list.append(f1_score(target_train,predictions))\n",
    "    roc_auc_score_list.append(roc_auc_score(target_train,predictions))\n",
    "    #print(f1_score(target_test,predictions))\n",
    "    \n",
    "    \n",
    "threshold=thr_list[np.argmax(f1_score_list)]\n",
    "print('Оптимальный порог:', threshold)\n",
    "\n",
    "probs_test=model_log_reg.predict_proba(features_test)[:,1]\n",
    "predictions=(probs_test>threshold).astype('int')\n",
    "print('F1 score после для оптимального порога:', f1_score(target_test,predictions))"
   ]
  },
  {
   "cell_type": "code",
   "execution_count": 63,
   "metadata": {},
   "outputs": [
    {
     "data": {
      "image/png": "[encoded data removed]",
      "text/plain": [
       "<Figure size 432x432 with 1 Axes>"
      ]
     },
     "metadata": {
      "needs_background": "light"
     },
     "output_type": "display_data"
    }
   ],
   "source": [
    "plt.figure(figsize=(6, 6))\n",
    "plt.step(thr_list, f1_score_list, where='post')\n",
    "plt.xlabel('Threshold')\n",
    "plt.ylabel('F1 score')\n",
    "plt.ylim([0.0, 1.0])\n",
    "plt.xlim([0.0, 1.0])\n",
    "plt.title('ROC_AUC score dependency on threshold')\n",
    "plt.show()"
   ]
  },
  {
   "cell_type": "markdown",
   "metadata": {},
   "source": [
    "<div class=\"alert alert-success\">\n",
    "✔️❌ Нужен вывод/заключение по шагу"
   ]
  },
  {
   "cell_type": "markdown",
   "metadata": {},
   "source": [
    "<div class=\"alert alert-success\">\n",
    "<b>Комментарий ревьюера v2</b>    <br>\n",
    "✔️ Отлично"
   ]
  },
  {
   "cell_type": "markdown",
   "metadata": {},
   "source": [
    "###  Выводы"
   ]
  },
  {
   "cell_type": "markdown",
   "metadata": {},
   "source": [
    "Мы рассмотрели три модели \n",
    "- дерево решений\n",
    "- случайный лес\n",
    "- и логическую регрессию\n",
    "\n",
    "Целевые показатели F1 метрики удалось достичь для модели 'дерева решений' и модели 'случайный лес'.\n",
    "\n",
    "Для каждой из модели были пременены следущее методы борьбы с дисбалансом:\n",
    "- upsampling \n",
    "- встроенная балансировка\n",
    "- подбор порога критерия\n",
    "\n",
    "Для всех моделей встроенная балансировка показала лучшее результаты\n",
    ", следущей по эффективности идет upsampling с меньшей но сравнимой по величине метрикой F1, "
   ]
  },
  {
   "cell_type": "markdown",
   "metadata": {},
   "source": [
    "Исходя из проведенных исследований выбираем модель 'случайного леса' со встроенной балансировкой классов."
   ]
  },
  {
   "cell_type": "markdown",
   "metadata": {},
   "source": [
    "## Тестирование модели"
   ]
  },
  {
   "cell_type": "code",
   "execution_count": 68,
   "metadata": {},
   "outputs": [
    {
     "name": "stdout",
     "output_type": "stream",
     "text": [
      "Выбранная модель - \"случайный лес\" c встроенной балансировкой классов\n",
      "f1 score: 0.6516129032258065\n",
      "ROC AUC: 0.8699780100674289\n"
     ]
    }
   ],
   "source": [
    "#parameters={'criterion': 'entropy', 'max_depth': 10, 'max_features': 'auto', 'n_estimators': 90}\n",
    "parameters={'criterion': 'gini', 'max_depth': 8, 'max_features': 'auto', 'n_estimators': 100}\n",
    "\n",
    "#print('RandomForestClassifier\\n')\n",
    "print('Выбранная модель - \"случайный лес\" c встроенной балансировкой классов')\n",
    "model = RandomForestClassifier(random_state=12345,**parameters,class_weight='balanced')\n",
    "model.fit(features_train,target_train)\n",
    "prediction_test=model.predict(features_test)\n",
    "probs=model.predict_proba(features_test)[:,1]\n",
    "print('f1 score:', f1_score(target_test,prediction_test))\n",
    "print('ROC AUC:',roc_auc_score(target_test,probs))"
   ]
  },
  {
   "cell_type": "markdown",
   "metadata": {},
   "source": [
    "В проекте был проанализирован набор данных с информацией о клиентах банка.\n",
    "\n",
    "На этапе предобработки:\n",
    "   - Пропуски в колонке 'Tenure' были заменены на нули.\n",
    "   - Аномалий и дубликатов не обнаружено.\n",
    "   - Колонки 'Geography' и 'Gender' преобразованы методом One-hot-encoding к чиловому типу 1/0.\n",
    "\n",
    "Анализ данных показал сильный дисбаланс классов целевого признака -- отрицательного класса примерно в 4 раза больше, чем положительного.\n",
    "\n",
    "Данные были сбалансированны upsampling, встроенной балансировкой моделью, и подпором порога \n",
    "\n",
    "Рассмотрены три модели модели: \"дерево решений\", \"случайный лес\" и \"логическая регрессия\", которое были обучены на новых тренировочных данных с кросс валидацией.\n",
    "\n",
    "Выевлено, что балансировка классов повышает точность предсказаний.\n",
    "\n",
    "Целевое значение F1 метрики 0.59 достигнуто моделью \"дерево решений\", \"случайный лес\".\n",
    "\n",
    "На тестовой выборки лучшия метрику показала  модель \"случайный лес\" изпользую upsampling данных - достигнутая F1-метрика равна  0.65"
   ]
  },
  {
   "cell_type": "markdown",
   "metadata": {},
   "source": [
    "## Чек-лист готовности проекта"
   ]
  },
  {
   "cell_type": "markdown",
   "metadata": {},
   "source": [
    "Поставьте 'x' в выполненных пунктах. Далее нажмите Shift+Enter."
   ]
  },
  {
   "cell_type": "markdown",
   "metadata": {},
   "source": [
    "- [x]  Jupyter Notebook открыт\n",
    "- [x]  Весь код выполняется без ошибок\n",
    "- [x]  Ячейки с кодом расположены в порядке исполнения\n",
    "- [x]  Выполнен шаг 1: данные подготовлены\n",
    "- [x]  Выполнен шаг 2: задача исследована\n",
    "    - [x]  Исследован баланс классов\n",
    "    - [x]  Изучены модели без учёта дисбаланса\n",
    "    - [x]  Написаны выводы по результатам исследования\n",
    "- [x]  Выполнен шаг 3: учтён дисбаланс\n",
    "    - [x]  Применено несколько способов борьбы с дисбалансом\n",
    "    - [x]  Написаны выводы по результатам исследования\n",
    "- [x]  Выполнен шаг 4: проведено тестирование\n",
    "- [x]  Удалось достичь *F1*-меры не менее 0.59\n",
    "- [x]  Исследована метрика *AUC-ROC*"
   ]
  },
  {
   "cell_type": "code",
   "execution_count": null,
   "metadata": {},
   "outputs": [],
   "source": []
  }
 ],
 "metadata": {
  "ExecuteTimeLog": [
   {
    "duration": 50,
    "start_time": "2023-05-22T11:03:45.699Z"
   },
   {
    "duration": 1136,
    "start_time": "2023-05-22T11:03:47.666Z"
   },
   {
    "duration": 171,
    "start_time": "2023-05-22T11:03:48.805Z"
   },
   {
    "duration": 17,
    "start_time": "2023-05-22T11:03:53.750Z"
   },
   {
    "duration": 47,
    "start_time": "2023-05-22T11:04:07.001Z"
   },
   {
    "duration": 18,
    "start_time": "2023-05-22T11:04:55.971Z"
   },
   {
    "duration": 13,
    "start_time": "2023-05-22T11:06:39.240Z"
   },
   {
    "duration": 98,
    "start_time": "2023-05-22T11:06:48.127Z"
   },
   {
    "duration": 11,
    "start_time": "2023-05-22T11:06:49.964Z"
   },
   {
    "duration": 39,
    "start_time": "2023-05-22T11:07:03.027Z"
   },
   {
    "duration": 40,
    "start_time": "2023-05-24T17:18:57.312Z"
   },
   {
    "duration": 6,
    "start_time": "2023-05-24T17:18:59.919Z"
   },
   {
    "duration": 6,
    "start_time": "2023-05-24T17:19:07.581Z"
   },
   {
    "duration": 6,
    "start_time": "2023-05-24T17:19:09.841Z"
   },
   {
    "duration": 956,
    "start_time": "2023-05-24T17:19:18.859Z"
   },
   {
    "duration": 354,
    "start_time": "2023-05-24T17:19:19.816Z"
   },
   {
    "duration": 16,
    "start_time": "2023-05-24T17:19:20.172Z"
   },
   {
    "duration": 19,
    "start_time": "2023-05-24T17:19:20.190Z"
   },
   {
    "duration": 34,
    "start_time": "2023-05-24T17:19:20.210Z"
   },
   {
    "duration": 88,
    "start_time": "2023-05-24T17:19:20.245Z"
   },
   {
    "duration": 6,
    "start_time": "2023-05-24T17:19:26.885Z"
   },
   {
    "duration": 23,
    "start_time": "2023-05-24T17:19:32.549Z"
   },
   {
    "duration": 6,
    "start_time": "2023-05-24T17:20:59.118Z"
   },
   {
    "duration": 4,
    "start_time": "2023-05-24T17:21:07.423Z"
   },
   {
    "duration": 5,
    "start_time": "2023-05-24T17:21:25.505Z"
   },
   {
    "duration": 4,
    "start_time": "2023-05-24T17:21:30.117Z"
   },
   {
    "duration": 27,
    "start_time": "2023-05-24T17:24:46.250Z"
   },
   {
    "duration": 8,
    "start_time": "2023-05-24T17:25:57.847Z"
   },
   {
    "duration": 4,
    "start_time": "2023-05-24T17:26:02.195Z"
   },
   {
    "duration": 13,
    "start_time": "2023-05-24T17:26:22.255Z"
   },
   {
    "duration": 11,
    "start_time": "2023-05-24T17:26:29.304Z"
   },
   {
    "duration": 12,
    "start_time": "2023-05-24T17:26:34.163Z"
   },
   {
    "duration": 5,
    "start_time": "2023-05-24T17:26:49.198Z"
   },
   {
    "duration": 4,
    "start_time": "2023-05-24T17:27:01.018Z"
   },
   {
    "duration": 5,
    "start_time": "2023-05-24T17:27:08.188Z"
   },
   {
    "duration": 6,
    "start_time": "2023-05-24T17:27:59.414Z"
   },
   {
    "duration": 11,
    "start_time": "2023-05-24T17:28:22.781Z"
   },
   {
    "duration": 5,
    "start_time": "2023-05-24T17:28:26.951Z"
   },
   {
    "duration": 5,
    "start_time": "2023-05-24T17:28:39.711Z"
   },
   {
    "duration": 3,
    "start_time": "2023-05-24T17:29:09.251Z"
   },
   {
    "duration": 5,
    "start_time": "2023-05-24T17:29:11.563Z"
   },
   {
    "duration": 3,
    "start_time": "2023-05-24T17:29:12.966Z"
   },
   {
    "duration": 28,
    "start_time": "2023-05-24T17:30:57.217Z"
   },
   {
    "duration": 33,
    "start_time": "2023-05-24T17:31:28.084Z"
   },
   {
    "duration": 31,
    "start_time": "2023-05-24T17:31:35.366Z"
   },
   {
    "duration": 28,
    "start_time": "2023-05-24T17:31:41.255Z"
   },
   {
    "duration": 27,
    "start_time": "2023-05-24T17:31:48.780Z"
   },
   {
    "duration": 9,
    "start_time": "2023-05-24T17:43:43.904Z"
   },
   {
    "duration": 11,
    "start_time": "2023-05-24T17:45:29.216Z"
   },
   {
    "duration": 3,
    "start_time": "2023-05-24T17:45:38.406Z"
   },
   {
    "duration": 37,
    "start_time": "2023-05-24T17:45:39.646Z"
   },
   {
    "duration": 7,
    "start_time": "2023-05-24T17:45:43.049Z"
   },
   {
    "duration": 13,
    "start_time": "2023-05-24T17:51:46.188Z"
   },
   {
    "duration": 8,
    "start_time": "2023-05-24T17:52:27.097Z"
   },
   {
    "duration": 10,
    "start_time": "2023-05-24T17:53:40.750Z"
   },
   {
    "duration": 9,
    "start_time": "2023-05-24T17:53:53.487Z"
   },
   {
    "duration": 9,
    "start_time": "2023-05-24T17:53:54.900Z"
   },
   {
    "duration": 8,
    "start_time": "2023-05-24T17:53:56.554Z"
   },
   {
    "duration": 4,
    "start_time": "2023-05-24T17:54:00.874Z"
   },
   {
    "duration": 5,
    "start_time": "2023-05-24T17:54:17.336Z"
   },
   {
    "duration": 4,
    "start_time": "2023-05-24T17:54:53.488Z"
   },
   {
    "duration": 5,
    "start_time": "2023-05-24T17:55:49.798Z"
   },
   {
    "duration": 11,
    "start_time": "2023-05-24T17:57:42.508Z"
   },
   {
    "duration": 10,
    "start_time": "2023-05-24T18:01:23.192Z"
   },
   {
    "duration": 14,
    "start_time": "2023-05-24T18:01:49.030Z"
   },
   {
    "duration": 10,
    "start_time": "2023-05-24T18:01:56.922Z"
   },
   {
    "duration": 11,
    "start_time": "2023-05-24T18:01:57.430Z"
   },
   {
    "duration": 7,
    "start_time": "2023-05-24T18:02:18.238Z"
   },
   {
    "duration": 10,
    "start_time": "2023-05-24T18:02:31.856Z"
   },
   {
    "duration": 4,
    "start_time": "2023-05-24T18:02:38.818Z"
   },
   {
    "duration": 4,
    "start_time": "2023-05-24T18:03:15.342Z"
   },
   {
    "duration": 11,
    "start_time": "2023-05-24T18:03:46.424Z"
   },
   {
    "duration": 4,
    "start_time": "2023-05-24T18:03:50.476Z"
   },
   {
    "duration": 10,
    "start_time": "2023-05-24T18:04:09.142Z"
   },
   {
    "duration": 13,
    "start_time": "2023-05-24T18:04:31.761Z"
   },
   {
    "duration": 28,
    "start_time": "2023-05-24T18:04:55.785Z"
   },
   {
    "duration": 35,
    "start_time": "2023-05-24T18:05:33.460Z"
   },
   {
    "duration": 5,
    "start_time": "2023-05-24T18:05:37.224Z"
   },
   {
    "duration": 4,
    "start_time": "2023-05-24T18:05:38.030Z"
   },
   {
    "duration": 28,
    "start_time": "2023-05-24T18:05:43.562Z"
   },
   {
    "duration": 23,
    "start_time": "2023-05-24T18:05:55.147Z"
   },
   {
    "duration": 4,
    "start_time": "2023-05-24T18:05:59.419Z"
   },
   {
    "duration": 3,
    "start_time": "2023-05-24T18:06:05.942Z"
   },
   {
    "duration": 15,
    "start_time": "2023-05-24T18:06:09.725Z"
   },
   {
    "duration": 1055,
    "start_time": "2023-05-24T18:06:36.677Z"
   },
   {
    "duration": 41,
    "start_time": "2023-05-24T18:06:37.734Z"
   },
   {
    "duration": 17,
    "start_time": "2023-05-24T18:06:37.777Z"
   },
   {
    "duration": 10,
    "start_time": "2023-05-24T18:06:37.796Z"
   },
   {
    "duration": 60,
    "start_time": "2023-05-24T18:06:37.809Z"
   },
   {
    "duration": 5,
    "start_time": "2023-05-24T18:06:37.870Z"
   },
   {
    "duration": 11,
    "start_time": "2023-05-24T18:06:37.876Z"
   },
   {
    "duration": 10,
    "start_time": "2023-05-24T18:06:37.888Z"
   },
   {
    "duration": 14,
    "start_time": "2023-05-24T18:06:37.900Z"
   },
   {
    "duration": 8,
    "start_time": "2023-05-24T18:06:37.915Z"
   },
   {
    "duration": 12,
    "start_time": "2023-05-24T18:06:37.925Z"
   },
   {
    "duration": 5,
    "start_time": "2023-05-24T18:06:37.939Z"
   },
   {
    "duration": 22,
    "start_time": "2023-05-24T18:06:37.946Z"
   },
   {
    "duration": 13,
    "start_time": "2023-05-24T18:06:37.971Z"
   },
   {
    "duration": 3,
    "start_time": "2023-05-24T18:06:37.985Z"
   },
   {
    "duration": 105,
    "start_time": "2023-05-24T18:06:37.990Z"
   },
   {
    "duration": 0,
    "start_time": "2023-05-24T18:06:38.107Z"
   },
   {
    "duration": 0,
    "start_time": "2023-05-24T18:06:38.109Z"
   },
   {
    "duration": 0,
    "start_time": "2023-05-24T18:06:38.110Z"
   },
   {
    "duration": 31,
    "start_time": "2023-05-24T18:08:18.753Z"
   },
   {
    "duration": 31,
    "start_time": "2023-05-24T18:08:29.774Z"
   },
   {
    "duration": 26,
    "start_time": "2023-05-24T18:08:35.815Z"
   },
   {
    "duration": 6,
    "start_time": "2023-05-24T18:08:47.746Z"
   },
   {
    "duration": 4,
    "start_time": "2023-05-24T18:08:48.282Z"
   },
   {
    "duration": 26,
    "start_time": "2023-05-24T18:08:48.737Z"
   },
   {
    "duration": 12,
    "start_time": "2023-05-24T18:08:57.324Z"
   },
   {
    "duration": 4,
    "start_time": "2023-05-24T18:08:57.734Z"
   },
   {
    "duration": 15,
    "start_time": "2023-05-24T18:08:59.075Z"
   },
   {
    "duration": 26,
    "start_time": "2023-05-24T18:09:18.426Z"
   },
   {
    "duration": 8,
    "start_time": "2023-05-24T18:09:20.960Z"
   },
   {
    "duration": 14,
    "start_time": "2023-05-24T18:09:31.714Z"
   },
   {
    "duration": 43,
    "start_time": "2023-05-24T18:09:39.335Z"
   },
   {
    "duration": 6,
    "start_time": "2023-05-24T18:11:16.728Z"
   },
   {
    "duration": 4,
    "start_time": "2023-05-24T18:11:21.295Z"
   },
   {
    "duration": 4,
    "start_time": "2023-05-24T18:11:29.893Z"
   },
   {
    "duration": 19,
    "start_time": "2023-05-24T18:17:28.463Z"
   },
   {
    "duration": 4,
    "start_time": "2023-05-24T18:17:39.032Z"
   },
   {
    "duration": 7,
    "start_time": "2023-05-24T18:18:04.877Z"
   },
   {
    "duration": 5,
    "start_time": "2023-05-24T18:18:05.237Z"
   },
   {
    "duration": 31,
    "start_time": "2023-05-24T18:18:05.563Z"
   },
   {
    "duration": 5,
    "start_time": "2023-05-24T18:18:07.386Z"
   },
   {
    "duration": 15,
    "start_time": "2023-05-24T18:18:08.367Z"
   },
   {
    "duration": 17,
    "start_time": "2023-05-24T18:18:20.002Z"
   },
   {
    "duration": 7,
    "start_time": "2023-05-24T18:18:27.892Z"
   },
   {
    "duration": 5,
    "start_time": "2023-05-24T18:18:28.223Z"
   },
   {
    "duration": 47,
    "start_time": "2023-05-24T18:18:28.575Z"
   },
   {
    "duration": 6,
    "start_time": "2023-05-24T18:18:31.089Z"
   },
   {
    "duration": 14,
    "start_time": "2023-05-24T18:18:31.901Z"
   },
   {
    "duration": 4,
    "start_time": "2023-05-24T18:18:40.687Z"
   },
   {
    "duration": 24,
    "start_time": "2023-05-24T18:18:45.109Z"
   },
   {
    "duration": 22,
    "start_time": "2023-05-24T18:19:15.636Z"
   },
   {
    "duration": 64,
    "start_time": "2023-05-24T18:19:24.638Z"
   },
   {
    "duration": 11,
    "start_time": "2023-05-24T18:19:41.033Z"
   },
   {
    "duration": 12,
    "start_time": "2023-05-24T18:20:43.329Z"
   },
   {
    "duration": 59,
    "start_time": "2023-05-24T18:20:50.902Z"
   },
   {
    "duration": 4,
    "start_time": "2023-05-24T18:20:57.410Z"
   },
   {
    "duration": 95,
    "start_time": "2023-05-24T18:21:15.189Z"
   },
   {
    "duration": 99,
    "start_time": "2023-05-24T18:22:06.653Z"
   },
   {
    "duration": 99,
    "start_time": "2023-05-24T18:23:20.790Z"
   },
   {
    "duration": 17,
    "start_time": "2023-05-24T18:23:22.836Z"
   },
   {
    "duration": 8,
    "start_time": "2023-05-24T18:30:27.350Z"
   },
   {
    "duration": 8,
    "start_time": "2023-05-24T18:30:31.894Z"
   },
   {
    "duration": 9,
    "start_time": "2023-05-24T18:30:35.122Z"
   },
   {
    "duration": 6,
    "start_time": "2023-05-24T18:30:40.461Z"
   },
   {
    "duration": 8,
    "start_time": "2023-05-24T18:33:54.521Z"
   },
   {
    "duration": 7,
    "start_time": "2023-05-24T18:34:07.372Z"
   },
   {
    "duration": 4,
    "start_time": "2023-05-24T18:36:19.476Z"
   },
   {
    "duration": 7,
    "start_time": "2023-05-24T18:36:25.871Z"
   },
   {
    "duration": 46,
    "start_time": "2023-05-24T18:36:32.627Z"
   },
   {
    "duration": 4,
    "start_time": "2023-05-24T18:37:42.379Z"
   },
   {
    "duration": 68,
    "start_time": "2023-05-24T18:37:50.643Z"
   },
   {
    "duration": 450492,
    "start_time": "2023-05-24T18:38:04.353Z"
   },
   {
    "duration": 4,
    "start_time": "2023-05-24T18:45:34.847Z"
   },
   {
    "duration": 422,
    "start_time": "2023-05-24T18:47:33.646Z"
   },
   {
    "duration": 340,
    "start_time": "2023-05-24T18:47:47.039Z"
   },
   {
    "duration": 35,
    "start_time": "2023-05-24T18:55:05.998Z"
   },
   {
    "duration": 16,
    "start_time": "2023-05-24T18:55:29.643Z"
   },
   {
    "duration": 16,
    "start_time": "2023-05-24T18:55:35.152Z"
   },
   {
    "duration": 29,
    "start_time": "2023-05-24T18:55:43.100Z"
   },
   {
    "duration": 7,
    "start_time": "2023-05-24T18:56:08.104Z"
   },
   {
    "duration": 12,
    "start_time": "2023-05-24T18:57:45.766Z"
   },
   {
    "duration": 4,
    "start_time": "2023-05-24T18:58:00.502Z"
   },
   {
    "duration": 24,
    "start_time": "2023-05-24T18:58:19.534Z"
   },
   {
    "duration": 17,
    "start_time": "2023-05-24T18:59:38.124Z"
   },
   {
    "duration": 17,
    "start_time": "2023-05-24T18:59:40.352Z"
   },
   {
    "duration": 13,
    "start_time": "2023-05-24T18:59:40.726Z"
   },
   {
    "duration": 4,
    "start_time": "2023-05-24T19:00:46.165Z"
   },
   {
    "duration": 131,
    "start_time": "2023-05-24T19:01:10.720Z"
   },
   {
    "duration": 23,
    "start_time": "2023-05-24T19:01:20.901Z"
   },
   {
    "duration": 1111,
    "start_time": "2023-05-25T11:22:54.744Z"
   },
   {
    "duration": 150,
    "start_time": "2023-05-25T11:22:55.857Z"
   },
   {
    "duration": 19,
    "start_time": "2023-05-25T11:22:56.009Z"
   },
   {
    "duration": 17,
    "start_time": "2023-05-25T11:22:56.030Z"
   },
   {
    "duration": 38,
    "start_time": "2023-05-25T11:22:56.049Z"
   },
   {
    "duration": 4,
    "start_time": "2023-05-25T11:22:56.089Z"
   },
   {
    "duration": 10,
    "start_time": "2023-05-25T11:22:56.094Z"
   },
   {
    "duration": 6,
    "start_time": "2023-05-25T11:22:56.105Z"
   },
   {
    "duration": 4,
    "start_time": "2023-05-25T11:22:56.112Z"
   },
   {
    "duration": 5,
    "start_time": "2023-05-25T11:22:56.119Z"
   },
   {
    "duration": 6,
    "start_time": "2023-05-25T11:22:56.125Z"
   },
   {
    "duration": 6,
    "start_time": "2023-05-25T11:22:56.132Z"
   },
   {
    "duration": 36,
    "start_time": "2023-05-25T11:22:56.140Z"
   },
   {
    "duration": 23,
    "start_time": "2023-05-25T11:22:56.178Z"
   },
   {
    "duration": 13,
    "start_time": "2023-05-25T11:22:56.203Z"
   },
   {
    "duration": 4,
    "start_time": "2023-05-25T11:22:56.218Z"
   },
   {
    "duration": 22,
    "start_time": "2023-05-25T11:22:56.224Z"
   },
   {
    "duration": 45,
    "start_time": "2023-05-25T11:22:56.274Z"
   },
   {
    "duration": 95,
    "start_time": "2023-05-25T11:22:56.321Z"
   },
   {
    "duration": 5,
    "start_time": "2023-05-25T11:22:56.418Z"
   },
   {
    "duration": 20,
    "start_time": "2023-05-25T11:22:56.424Z"
   },
   {
    "duration": 5,
    "start_time": "2023-05-25T11:22:56.445Z"
   },
   {
    "duration": 5,
    "start_time": "2023-05-25T11:22:56.452Z"
   },
   {
    "duration": 756366,
    "start_time": "2023-05-25T11:22:56.459Z"
   },
   {
    "duration": 11,
    "start_time": "2023-05-25T11:35:32.827Z"
   },
   {
    "duration": 0,
    "start_time": "2023-05-25T11:35:32.840Z"
   },
   {
    "duration": 0,
    "start_time": "2023-05-25T11:35:32.842Z"
   },
   {
    "duration": 0,
    "start_time": "2023-05-25T11:35:32.843Z"
   },
   {
    "duration": 0,
    "start_time": "2023-05-25T11:35:32.845Z"
   },
   {
    "duration": 0,
    "start_time": "2023-05-25T11:35:32.846Z"
   },
   {
    "duration": 199117,
    "start_time": "2023-05-25T11:36:00.520Z"
   },
   {
    "duration": 368,
    "start_time": "2023-05-25T11:39:27.057Z"
   },
   {
    "duration": 27,
    "start_time": "2023-05-25T11:39:34.176Z"
   },
   {
    "duration": 4,
    "start_time": "2023-05-25T11:39:34.650Z"
   },
   {
    "duration": 141,
    "start_time": "2023-05-25T11:40:10.349Z"
   },
   {
    "duration": 10,
    "start_time": "2023-05-25T11:40:42.868Z"
   },
   {
    "duration": 9,
    "start_time": "2023-05-25T11:41:01.036Z"
   },
   {
    "duration": 348,
    "start_time": "2023-05-25T11:41:20.220Z"
   },
   {
    "duration": 231,
    "start_time": "2023-05-25T11:41:21.016Z"
   },
   {
    "duration": 187,
    "start_time": "2023-05-25T11:41:53.925Z"
   },
   {
    "duration": 9,
    "start_time": "2023-05-25T11:41:54.572Z"
   },
   {
    "duration": 129,
    "start_time": "2023-05-25T11:41:56.176Z"
   },
   {
    "duration": 365500,
    "start_time": "2023-05-25T11:42:54.619Z"
   },
   {
    "duration": 424,
    "start_time": "2023-05-25T11:49:00.121Z"
   },
   {
    "duration": 32,
    "start_time": "2023-05-25T11:49:00.547Z"
   },
   {
    "duration": 28,
    "start_time": "2023-05-25T11:49:00.586Z"
   },
   {
    "duration": 205,
    "start_time": "2023-05-25T11:49:00.616Z"
   },
   {
    "duration": 3,
    "start_time": "2023-05-25T11:49:00.822Z"
   },
   {
    "duration": 191,
    "start_time": "2023-05-25T11:49:00.827Z"
   },
   {
    "duration": 364,
    "start_time": "2023-05-25T11:51:59.386Z"
   },
   {
    "duration": 23,
    "start_time": "2023-05-25T11:52:05.403Z"
   },
   {
    "duration": 4,
    "start_time": "2023-05-25T11:52:07.003Z"
   },
   {
    "duration": 123,
    "start_time": "2023-05-25T11:52:36.183Z"
   },
   {
    "duration": 3,
    "start_time": "2023-05-25T11:52:36.719Z"
   },
   {
    "duration": 119,
    "start_time": "2023-05-25T11:52:37.118Z"
   },
   {
    "duration": 5,
    "start_time": "2023-05-25T11:53:06.859Z"
   },
   {
    "duration": 4,
    "start_time": "2023-05-25T11:53:10.612Z"
   },
   {
    "duration": 160,
    "start_time": "2023-05-25T11:54:21.209Z"
   },
   {
    "duration": 3,
    "start_time": "2023-05-25T11:54:23.276Z"
   },
   {
    "duration": 105,
    "start_time": "2023-05-25T11:54:23.837Z"
   },
   {
    "duration": 121,
    "start_time": "2023-05-25T11:54:39.176Z"
   },
   {
    "duration": 14,
    "start_time": "2023-05-25T11:54:49.401Z"
   },
   {
    "duration": 132,
    "start_time": "2023-05-25T11:55:03.818Z"
   },
   {
    "duration": 264,
    "start_time": "2023-05-25T11:55:41.411Z"
   },
   {
    "duration": 2,
    "start_time": "2023-05-25T11:55:41.831Z"
   },
   {
    "duration": 128,
    "start_time": "2023-05-25T11:55:42.175Z"
   },
   {
    "duration": 104,
    "start_time": "2023-05-25T12:01:28.492Z"
   },
   {
    "duration": 6,
    "start_time": "2023-05-25T12:01:28.937Z"
   },
   {
    "duration": 4,
    "start_time": "2023-05-25T12:01:29.319Z"
   },
   {
    "duration": 7,
    "start_time": "2023-05-25T12:01:33.114Z"
   },
   {
    "duration": 5,
    "start_time": "2023-05-25T12:01:34.660Z"
   },
   {
    "duration": 6,
    "start_time": "2023-05-25T12:01:35.075Z"
   },
   {
    "duration": 4,
    "start_time": "2023-05-25T12:02:42.366Z"
   },
   {
    "duration": 4,
    "start_time": "2023-05-25T12:02:58.239Z"
   },
   {
    "duration": 138948,
    "start_time": "2023-05-25T12:03:05.231Z"
   },
   {
    "duration": 21,
    "start_time": "2023-05-25T12:08:14.834Z"
   },
   {
    "duration": 27,
    "start_time": "2023-05-25T12:10:14.091Z"
   },
   {
    "duration": 21,
    "start_time": "2023-05-25T12:10:49.138Z"
   },
   {
    "duration": 6,
    "start_time": "2023-05-25T12:10:50.429Z"
   },
   {
    "duration": 8,
    "start_time": "2023-05-25T12:11:03.250Z"
   },
   {
    "duration": 6,
    "start_time": "2023-05-25T12:11:21.225Z"
   },
   {
    "duration": 376,
    "start_time": "2023-05-25T12:12:39.735Z"
   },
   {
    "duration": 2,
    "start_time": "2023-05-25T12:12:40.989Z"
   },
   {
    "duration": 131,
    "start_time": "2023-05-25T12:12:41.542Z"
   },
   {
    "duration": 120,
    "start_time": "2023-05-25T12:12:45.472Z"
   },
   {
    "duration": 17,
    "start_time": "2023-05-25T12:12:58.390Z"
   },
   {
    "duration": 10,
    "start_time": "2023-05-25T12:13:02.960Z"
   },
   {
    "duration": 4,
    "start_time": "2023-05-25T12:17:59.118Z"
   },
   {
    "duration": 4,
    "start_time": "2023-05-25T12:18:02.996Z"
   },
   {
    "duration": 35832,
    "start_time": "2023-05-25T12:18:04.286Z"
   },
   {
    "duration": 0,
    "start_time": "2023-05-25T12:18:40.120Z"
   },
   {
    "duration": 0,
    "start_time": "2023-05-25T12:18:40.122Z"
   },
   {
    "duration": 3,
    "start_time": "2023-05-25T12:18:42.374Z"
   },
   {
    "duration": 3,
    "start_time": "2023-05-25T12:18:43.027Z"
   },
   {
    "duration": 174683,
    "start_time": "2023-05-25T12:18:44.098Z"
   },
   {
    "duration": 23,
    "start_time": "2023-05-25T12:21:40.424Z"
   },
   {
    "duration": 7,
    "start_time": "2023-05-25T12:21:41.083Z"
   },
   {
    "duration": 6,
    "start_time": "2023-05-25T12:21:41.631Z"
   },
   {
    "duration": 8,
    "start_time": "2023-05-25T12:21:42.437Z"
   },
   {
    "duration": 9,
    "start_time": "2023-05-25T12:22:06.164Z"
   },
   {
    "duration": 8,
    "start_time": "2023-05-25T12:22:20.199Z"
   },
   {
    "duration": 380637,
    "start_time": "2023-05-25T12:25:34.296Z"
   },
   {
    "duration": 863,
    "start_time": "2023-05-25T12:31:54.935Z"
   },
   {
    "duration": 291,
    "start_time": "2023-05-25T12:31:55.800Z"
   },
   {
    "duration": 2,
    "start_time": "2023-05-25T12:31:56.093Z"
   },
   {
    "duration": 121,
    "start_time": "2023-05-25T12:31:56.097Z"
   },
   {
    "duration": 136,
    "start_time": "2023-05-25T12:31:56.220Z"
   },
   {
    "duration": 4,
    "start_time": "2023-05-25T12:31:56.358Z"
   },
   {
    "duration": 885,
    "start_time": "2023-05-25T13:04:51.007Z"
   },
   {
    "duration": 284,
    "start_time": "2023-05-25T13:04:53.403Z"
   },
   {
    "duration": 125,
    "start_time": "2023-05-25T13:04:56.472Z"
   },
   {
    "duration": 118,
    "start_time": "2023-05-25T13:04:59.350Z"
   },
   {
    "duration": 1107,
    "start_time": "2023-05-26T06:43:30.770Z"
   },
   {
    "duration": 76,
    "start_time": "2023-05-26T06:43:31.879Z"
   },
   {
    "duration": 18,
    "start_time": "2023-05-26T06:43:31.957Z"
   },
   {
    "duration": 14,
    "start_time": "2023-05-26T06:43:32.089Z"
   },
   {
    "duration": 36,
    "start_time": "2023-05-26T06:43:32.638Z"
   },
   {
    "duration": 5,
    "start_time": "2023-05-26T06:43:33.095Z"
   },
   {
    "duration": 6,
    "start_time": "2023-05-26T06:43:33.645Z"
   },
   {
    "duration": 6,
    "start_time": "2023-05-26T06:43:34.146Z"
   },
   {
    "duration": 4,
    "start_time": "2023-05-26T06:43:34.633Z"
   },
   {
    "duration": 4,
    "start_time": "2023-05-26T06:43:35.004Z"
   },
   {
    "duration": 4,
    "start_time": "2023-05-26T06:43:35.933Z"
   },
   {
    "duration": 5,
    "start_time": "2023-05-26T06:43:36.498Z"
   },
   {
    "duration": 4,
    "start_time": "2023-05-26T06:43:36.969Z"
   },
   {
    "duration": 20,
    "start_time": "2023-05-26T06:43:37.413Z"
   },
   {
    "duration": 11,
    "start_time": "2023-05-26T06:43:39.169Z"
   },
   {
    "duration": 3,
    "start_time": "2023-05-26T06:43:39.991Z"
   },
   {
    "duration": 16,
    "start_time": "2023-05-26T06:43:40.562Z"
   },
   {
    "duration": 34,
    "start_time": "2023-05-26T06:43:44.855Z"
   },
   {
    "duration": 80,
    "start_time": "2023-05-26T06:43:45.592Z"
   },
   {
    "duration": 5,
    "start_time": "2023-05-26T06:43:46.284Z"
   },
   {
    "duration": 101,
    "start_time": "2023-05-26T06:43:46.729Z"
   },
   {
    "duration": 5,
    "start_time": "2023-05-26T06:43:47.128Z"
   },
   {
    "duration": 5,
    "start_time": "2023-05-26T06:44:08.067Z"
   },
   {
    "duration": 4,
    "start_time": "2023-05-26T06:44:11.328Z"
   },
   {
    "duration": 4,
    "start_time": "2023-05-26T06:44:12.002Z"
   },
   {
    "duration": 3,
    "start_time": "2023-05-26T06:44:12.422Z"
   },
   {
    "duration": 11050,
    "start_time": "2023-05-26T06:44:14.377Z"
   },
   {
    "duration": 8,
    "start_time": "2023-05-26T06:44:25.429Z"
   },
   {
    "duration": 0,
    "start_time": "2023-05-26T06:44:25.438Z"
   },
   {
    "duration": 0,
    "start_time": "2023-05-26T06:44:25.439Z"
   },
   {
    "duration": 0,
    "start_time": "2023-05-26T06:44:25.440Z"
   },
   {
    "duration": 0,
    "start_time": "2023-05-26T06:44:25.441Z"
   },
   {
    "duration": 2,
    "start_time": "2023-05-26T06:44:32.763Z"
   },
   {
    "duration": 3,
    "start_time": "2023-05-26T06:44:36.647Z"
   },
   {
    "duration": 11,
    "start_time": "2023-05-26T06:44:44.340Z"
   },
   {
    "duration": 4781,
    "start_time": "2023-05-26T06:44:58.204Z"
   },
   {
    "duration": 19,
    "start_time": "2023-05-26T06:45:09.675Z"
   },
   {
    "duration": 6,
    "start_time": "2023-05-26T06:45:10.247Z"
   },
   {
    "duration": 5,
    "start_time": "2023-05-26T06:45:11.027Z"
   },
   {
    "duration": 6,
    "start_time": "2023-05-26T06:45:12.195Z"
   },
   {
    "duration": 2,
    "start_time": "2023-05-26T06:45:26.290Z"
   },
   {
    "duration": 3,
    "start_time": "2023-05-26T06:45:26.691Z"
   },
   {
    "duration": 4968,
    "start_time": "2023-05-26T06:45:35.124Z"
   },
   {
    "duration": 21,
    "start_time": "2023-05-26T06:45:55.525Z"
   },
   {
    "duration": 6,
    "start_time": "2023-05-26T06:45:55.885Z"
   },
   {
    "duration": 6,
    "start_time": "2023-05-26T06:45:56.286Z"
   },
   {
    "duration": 7,
    "start_time": "2023-05-26T06:45:56.796Z"
   },
   {
    "duration": 333,
    "start_time": "2023-05-26T06:45:57.228Z"
   },
   {
    "duration": 385,
    "start_time": "2023-05-26T06:45:58.103Z"
   },
   {
    "duration": 117,
    "start_time": "2023-05-26T06:45:58.873Z"
   },
   {
    "duration": 98,
    "start_time": "2023-05-26T06:45:59.900Z"
   },
   {
    "duration": 4939,
    "start_time": "2023-05-26T06:46:15.949Z"
   },
   {
    "duration": 19,
    "start_time": "2023-05-26T06:46:24.917Z"
   },
   {
    "duration": 6,
    "start_time": "2023-05-26T06:46:25.838Z"
   },
   {
    "duration": 6,
    "start_time": "2023-05-26T06:46:26.441Z"
   },
   {
    "duration": 6,
    "start_time": "2023-05-26T06:46:26.949Z"
   },
   {
    "duration": 386,
    "start_time": "2023-05-26T06:46:27.601Z"
   },
   {
    "duration": 21,
    "start_time": "2023-05-26T06:46:57.374Z"
   },
   {
    "duration": 6,
    "start_time": "2023-05-26T06:46:58.266Z"
   },
   {
    "duration": 6,
    "start_time": "2023-05-26T06:46:58.909Z"
   },
   {
    "duration": 6,
    "start_time": "2023-05-26T06:47:00.202Z"
   },
   {
    "duration": 19,
    "start_time": "2023-05-26T06:47:30.112Z"
   },
   {
    "duration": 5,
    "start_time": "2023-05-26T06:47:30.557Z"
   },
   {
    "duration": 5,
    "start_time": "2023-05-26T06:47:31.117Z"
   },
   {
    "duration": 10,
    "start_time": "2023-05-26T06:47:31.674Z"
   },
   {
    "duration": 388,
    "start_time": "2023-05-26T06:47:32.466Z"
   },
   {
    "duration": 4,
    "start_time": "2023-05-26T06:51:17.753Z"
   },
   {
    "duration": 34,
    "start_time": "2023-05-26T06:51:43.204Z"
   },
   {
    "duration": 4,
    "start_time": "2023-05-26T06:52:36.374Z"
   },
   {
    "duration": 361719,
    "start_time": "2023-05-26T06:53:58.648Z"
   },
   {
    "duration": 860,
    "start_time": "2023-05-26T07:10:42.044Z"
   },
   {
    "duration": 241,
    "start_time": "2023-05-26T07:10:43.909Z"
   },
   {
    "duration": 2,
    "start_time": "2023-05-26T07:10:44.654Z"
   },
   {
    "duration": 115,
    "start_time": "2023-05-26T07:10:45.043Z"
   },
   {
    "duration": 103,
    "start_time": "2023-05-26T07:10:53.112Z"
   },
   {
    "duration": 4,
    "start_time": "2023-05-26T07:10:53.512Z"
   },
   {
    "duration": 3,
    "start_time": "2023-05-26T07:16:58.516Z"
   },
   {
    "duration": 5,
    "start_time": "2023-05-26T07:22:03.022Z"
   },
   {
    "duration": 65,
    "start_time": "2023-05-26T07:22:52.749Z"
   },
   {
    "duration": 3,
    "start_time": "2023-05-26T07:22:58.037Z"
   },
   {
    "duration": 360,
    "start_time": "2023-05-26T07:24:03.896Z"
   },
   {
    "duration": 3174,
    "start_time": "2023-05-26T07:24:15.243Z"
   },
   {
    "duration": 6,
    "start_time": "2023-05-26T07:24:33.396Z"
   },
   {
    "duration": 17,
    "start_time": "2023-05-26T07:24:40.447Z"
   },
   {
    "duration": 19,
    "start_time": "2023-05-26T07:24:56.244Z"
   },
   {
    "duration": 21,
    "start_time": "2023-05-26T07:25:01.096Z"
   },
   {
    "duration": 287936,
    "start_time": "2023-05-26T07:30:22.621Z"
   },
   {
    "duration": 634,
    "start_time": "2023-05-26T07:35:10.558Z"
   },
   {
    "duration": 229,
    "start_time": "2023-05-26T07:35:11.194Z"
   },
   {
    "duration": 4,
    "start_time": "2023-05-26T07:35:48.353Z"
   },
   {
    "duration": 16,
    "start_time": "2023-05-26T07:36:16.745Z"
   },
   {
    "duration": 10,
    "start_time": "2023-05-26T07:36:38.515Z"
   },
   {
    "duration": 4,
    "start_time": "2023-05-26T07:42:10.096Z"
   },
   {
    "duration": 9,
    "start_time": "2023-05-26T07:42:45.837Z"
   },
   {
    "duration": 3,
    "start_time": "2023-05-26T07:42:56.863Z"
   },
   {
    "duration": 48,
    "start_time": "2023-05-27T04:57:33.163Z"
   },
   {
    "duration": 1124,
    "start_time": "2023-05-27T04:58:56.827Z"
   },
   {
    "duration": 155,
    "start_time": "2023-05-27T04:58:57.953Z"
   },
   {
    "duration": 21,
    "start_time": "2023-05-27T04:58:58.110Z"
   },
   {
    "duration": 13,
    "start_time": "2023-05-27T04:58:58.133Z"
   },
   {
    "duration": 40,
    "start_time": "2023-05-27T04:58:58.148Z"
   },
   {
    "duration": 5,
    "start_time": "2023-05-27T04:58:58.190Z"
   },
   {
    "duration": 7,
    "start_time": "2023-05-27T04:58:58.196Z"
   },
   {
    "duration": 13,
    "start_time": "2023-05-27T04:58:58.204Z"
   },
   {
    "duration": 11,
    "start_time": "2023-05-27T04:58:58.219Z"
   },
   {
    "duration": 4,
    "start_time": "2023-05-27T04:58:58.252Z"
   },
   {
    "duration": 5,
    "start_time": "2023-05-27T04:58:58.259Z"
   },
   {
    "duration": 6,
    "start_time": "2023-05-27T04:58:58.266Z"
   },
   {
    "duration": 29,
    "start_time": "2023-05-27T04:58:58.274Z"
   },
   {
    "duration": 4,
    "start_time": "2023-05-27T04:58:58.305Z"
   },
   {
    "duration": 7,
    "start_time": "2023-05-27T04:58:58.311Z"
   },
   {
    "duration": 4,
    "start_time": "2023-05-27T04:58:58.351Z"
   },
   {
    "duration": 24,
    "start_time": "2023-05-27T04:58:58.356Z"
   },
   {
    "duration": 10,
    "start_time": "2023-05-27T04:58:58.382Z"
   },
   {
    "duration": 3,
    "start_time": "2023-05-27T04:58:58.393Z"
   },
   {
    "duration": 20,
    "start_time": "2023-05-27T04:58:58.397Z"
   },
   {
    "duration": 62,
    "start_time": "2023-05-27T04:58:58.419Z"
   },
   {
    "duration": 84,
    "start_time": "2023-05-27T04:58:58.483Z"
   },
   {
    "duration": 6,
    "start_time": "2023-05-27T04:58:58.568Z"
   },
   {
    "duration": 5,
    "start_time": "2023-05-27T04:58:58.575Z"
   },
   {
    "duration": 8,
    "start_time": "2023-05-27T04:58:58.581Z"
   },
   {
    "duration": 20,
    "start_time": "2023-05-27T04:58:58.590Z"
   },
   {
    "duration": 10,
    "start_time": "2023-05-27T04:58:58.612Z"
   },
   {
    "duration": 4,
    "start_time": "2023-05-27T04:59:08.995Z"
   },
   {
    "duration": 4,
    "start_time": "2023-05-27T04:59:28.291Z"
   },
   {
    "duration": 4,
    "start_time": "2023-05-27T04:59:36.170Z"
   },
   {
    "duration": 4,
    "start_time": "2023-05-27T05:00:22.156Z"
   },
   {
    "duration": 4,
    "start_time": "2023-05-27T05:00:22.581Z"
   },
   {
    "duration": 11,
    "start_time": "2023-05-27T05:00:23.368Z"
   },
   {
    "duration": 6,
    "start_time": "2023-05-27T05:00:24.098Z"
   },
   {
    "duration": 196,
    "start_time": "2023-05-27T05:03:00.920Z"
   },
   {
    "duration": 3,
    "start_time": "2023-05-27T05:03:04.512Z"
   },
   {
    "duration": 5,
    "start_time": "2023-05-27T05:03:04.820Z"
   },
   {
    "duration": 5,
    "start_time": "2023-05-27T05:03:22.296Z"
   },
   {
    "duration": 4,
    "start_time": "2023-05-27T05:03:22.633Z"
   },
   {
    "duration": 4,
    "start_time": "2023-05-27T05:03:23.032Z"
   },
   {
    "duration": 10,
    "start_time": "2023-05-27T05:03:23.465Z"
   },
   {
    "duration": 4,
    "start_time": "2023-05-27T05:03:23.991Z"
   },
   {
    "duration": 2,
    "start_time": "2023-05-27T05:03:25.206Z"
   },
   {
    "duration": 5,
    "start_time": "2023-05-27T05:03:25.667Z"
   },
   {
    "duration": 4,
    "start_time": "2023-05-27T05:04:09.993Z"
   },
   {
    "duration": 271665,
    "start_time": "2023-05-27T05:04:10.437Z"
   },
   {
    "duration": 11378,
    "start_time": "2023-05-27T05:08:55.220Z"
   },
   {
    "duration": 18848,
    "start_time": "2023-05-27T05:09:20.219Z"
   },
   {
    "duration": 5,
    "start_time": "2023-05-27T05:09:54.305Z"
   },
   {
    "duration": 1009,
    "start_time": "2023-05-27T05:10:22.012Z"
   },
   {
    "duration": 276,
    "start_time": "2023-05-27T05:10:42.035Z"
   },
   {
    "duration": 415,
    "start_time": "2023-05-27T05:10:42.558Z"
   },
   {
    "duration": 131,
    "start_time": "2023-05-27T05:10:43.838Z"
   },
   {
    "duration": 187,
    "start_time": "2023-05-27T05:10:51.898Z"
   },
   {
    "duration": 131,
    "start_time": "2023-05-27T05:10:53.248Z"
   },
   {
    "duration": 5,
    "start_time": "2023-05-27T05:10:53.689Z"
   },
   {
    "duration": 6429,
    "start_time": "2023-05-27T05:12:57.129Z"
   },
   {
    "duration": 112404,
    "start_time": "2023-05-27T05:13:13.348Z"
   },
   {
    "duration": 4,
    "start_time": "2023-05-27T05:15:05.754Z"
   },
   {
    "duration": 4,
    "start_time": "2023-05-27T05:17:02.905Z"
   },
   {
    "duration": 970,
    "start_time": "2023-05-27T05:17:05.237Z"
   },
   {
    "duration": 978,
    "start_time": "2023-05-27T05:17:27.399Z"
   },
   {
    "duration": 6,
    "start_time": "2023-05-27T05:19:47.086Z"
   },
   {
    "duration": 4,
    "start_time": "2023-05-27T05:20:32.190Z"
   },
   {
    "duration": 30,
    "start_time": "2023-05-27T05:20:34.272Z"
   },
   {
    "duration": 17,
    "start_time": "2023-05-27T05:20:40.179Z"
   },
   {
    "duration": 20,
    "start_time": "2023-05-27T05:22:17.385Z"
   },
   {
    "duration": 1023,
    "start_time": "2023-05-27T05:22:38.604Z"
   },
   {
    "duration": 39,
    "start_time": "2023-05-27T05:22:39.629Z"
   },
   {
    "duration": 20,
    "start_time": "2023-05-27T05:22:39.669Z"
   },
   {
    "duration": 13,
    "start_time": "2023-05-27T05:22:39.691Z"
   },
   {
    "duration": 54,
    "start_time": "2023-05-27T05:22:39.705Z"
   },
   {
    "duration": 4,
    "start_time": "2023-05-27T05:22:39.761Z"
   },
   {
    "duration": 5,
    "start_time": "2023-05-27T05:22:39.767Z"
   },
   {
    "duration": 4,
    "start_time": "2023-05-27T05:22:39.774Z"
   },
   {
    "duration": 5,
    "start_time": "2023-05-27T05:22:39.780Z"
   },
   {
    "duration": 4,
    "start_time": "2023-05-27T05:22:39.788Z"
   },
   {
    "duration": 7,
    "start_time": "2023-05-27T05:22:39.793Z"
   },
   {
    "duration": 4,
    "start_time": "2023-05-27T05:22:39.802Z"
   },
   {
    "duration": 22,
    "start_time": "2023-05-27T05:22:39.850Z"
   },
   {
    "duration": 4,
    "start_time": "2023-05-27T05:22:39.874Z"
   },
   {
    "duration": 5,
    "start_time": "2023-05-27T05:22:39.880Z"
   },
   {
    "duration": 4,
    "start_time": "2023-05-27T05:22:39.887Z"
   },
   {
    "duration": 25,
    "start_time": "2023-05-27T05:22:39.892Z"
   },
   {
    "duration": 13,
    "start_time": "2023-05-27T05:22:41.094Z"
   },
   {
    "duration": 3,
    "start_time": "2023-05-27T05:22:47.154Z"
   },
   {
    "duration": 19,
    "start_time": "2023-05-27T05:22:49.177Z"
   },
   {
    "duration": 101,
    "start_time": "2023-05-27T05:23:15.497Z"
   },
   {
    "duration": 4,
    "start_time": "2023-05-27T05:23:15.991Z"
   },
   {
    "duration": 24,
    "start_time": "2023-05-27T05:23:18.273Z"
   },
   {
    "duration": 43,
    "start_time": "2023-05-27T05:23:18.858Z"
   },
   {
    "duration": 92,
    "start_time": "2023-05-27T05:23:31.939Z"
   },
   {
    "duration": 6,
    "start_time": "2023-05-27T05:23:32.556Z"
   },
   {
    "duration": 6,
    "start_time": "2023-05-27T05:23:33.815Z"
   },
   {
    "duration": 5,
    "start_time": "2023-05-27T05:23:35.100Z"
   },
   {
    "duration": 4,
    "start_time": "2023-05-27T05:23:35.965Z"
   },
   {
    "duration": 291,
    "start_time": "2023-05-27T05:24:02.656Z"
   },
   {
    "duration": 7,
    "start_time": "2023-05-27T05:24:03.277Z"
   },
   {
    "duration": 6,
    "start_time": "2023-05-27T05:24:06.270Z"
   },
   {
    "duration": 6,
    "start_time": "2023-05-27T05:24:07.019Z"
   },
   {
    "duration": 9,
    "start_time": "2023-05-27T05:28:41.405Z"
   },
   {
    "duration": 2,
    "start_time": "2023-05-27T05:28:42.580Z"
   },
   {
    "duration": 8,
    "start_time": "2023-05-27T05:28:43.403Z"
   },
   {
    "duration": 3,
    "start_time": "2023-05-27T05:29:12.418Z"
   },
   {
    "duration": 13,
    "start_time": "2023-05-27T05:29:48.820Z"
   },
   {
    "duration": 12,
    "start_time": "2023-05-27T05:30:08.680Z"
   },
   {
    "duration": 2,
    "start_time": "2023-05-27T05:30:27.040Z"
   },
   {
    "duration": 2,
    "start_time": "2023-05-27T05:30:28.619Z"
   },
   {
    "duration": 5973,
    "start_time": "2023-05-27T05:30:28.972Z"
   },
   {
    "duration": 3,
    "start_time": "2023-05-27T05:30:38.331Z"
   },
   {
    "duration": 9,
    "start_time": "2023-05-27T05:32:58.531Z"
   },
   {
    "duration": 50169,
    "start_time": "2023-05-27T05:33:31.901Z"
   },
   {
    "duration": 9,
    "start_time": "2023-05-27T05:39:40.114Z"
   },
   {
    "duration": 457,
    "start_time": "2023-05-27T05:39:51.726Z"
   },
   {
    "duration": 17,
    "start_time": "2023-05-27T05:45:16.569Z"
   },
   {
    "duration": 1164,
    "start_time": "2023-05-27T05:45:26.366Z"
   },
   {
    "duration": 63,
    "start_time": "2023-05-27T05:45:27.532Z"
   },
   {
    "duration": 20,
    "start_time": "2023-05-27T05:45:27.596Z"
   },
   {
    "duration": 13,
    "start_time": "2023-05-27T05:45:27.618Z"
   },
   {
    "duration": 67,
    "start_time": "2023-05-27T05:45:27.634Z"
   },
   {
    "duration": 5,
    "start_time": "2023-05-27T05:45:27.703Z"
   },
   {
    "duration": 5,
    "start_time": "2023-05-27T05:45:27.710Z"
   },
   {
    "duration": 5,
    "start_time": "2023-05-27T05:45:27.716Z"
   },
   {
    "duration": 33,
    "start_time": "2023-05-27T05:45:27.723Z"
   },
   {
    "duration": 5,
    "start_time": "2023-05-27T05:45:27.758Z"
   },
   {
    "duration": 6,
    "start_time": "2023-05-27T05:45:27.766Z"
   },
   {
    "duration": 6,
    "start_time": "2023-05-27T05:45:27.774Z"
   },
   {
    "duration": 22,
    "start_time": "2023-05-27T05:45:27.782Z"
   },
   {
    "duration": 3,
    "start_time": "2023-05-27T05:45:27.806Z"
   },
   {
    "duration": 44,
    "start_time": "2023-05-27T05:45:27.811Z"
   },
   {
    "duration": 10,
    "start_time": "2023-05-27T05:45:27.858Z"
   },
   {
    "duration": 29,
    "start_time": "2023-05-27T05:45:27.870Z"
   },
   {
    "duration": 12,
    "start_time": "2023-05-27T05:45:27.901Z"
   },
   {
    "duration": 118,
    "start_time": "2023-05-27T05:45:33.170Z"
   },
   {
    "duration": 6,
    "start_time": "2023-05-27T05:46:48.307Z"
   },
   {
    "duration": 6,
    "start_time": "2023-05-27T05:46:48.836Z"
   },
   {
    "duration": 6,
    "start_time": "2023-05-27T05:46:49.824Z"
   },
   {
    "duration": 41,
    "start_time": "2023-05-27T05:46:50.310Z"
   },
   {
    "duration": 12,
    "start_time": "2023-05-27T05:46:52.331Z"
   },
   {
    "duration": 5,
    "start_time": "2023-05-27T05:46:57.476Z"
   },
   {
    "duration": 19,
    "start_time": "2023-05-27T05:46:58.079Z"
   },
   {
    "duration": 65,
    "start_time": "2023-05-27T05:46:58.745Z"
   },
   {
    "duration": 348,
    "start_time": "2023-05-27T05:47:02.576Z"
   },
   {
    "duration": 8,
    "start_time": "2023-05-27T05:47:03.464Z"
   },
   {
    "duration": 23,
    "start_time": "2023-05-27T05:47:39.678Z"
   },
   {
    "duration": 25,
    "start_time": "2023-05-27T05:48:20.195Z"
   },
   {
    "duration": 70,
    "start_time": "2023-05-27T05:48:21.153Z"
   },
   {
    "duration": 328,
    "start_time": "2023-05-27T05:48:22.492Z"
   },
   {
    "duration": 7,
    "start_time": "2023-05-27T05:48:23.213Z"
   },
   {
    "duration": 23,
    "start_time": "2023-05-27T05:48:24.097Z"
   },
   {
    "duration": 20,
    "start_time": "2023-05-27T05:48:42.894Z"
   },
   {
    "duration": 6,
    "start_time": "2023-05-27T05:48:48.415Z"
   },
   {
    "duration": 5,
    "start_time": "2023-05-27T05:48:49.346Z"
   },
   {
    "duration": 30,
    "start_time": "2023-05-27T05:48:51.148Z"
   },
   {
    "duration": 12,
    "start_time": "2023-05-27T05:48:53.570Z"
   },
   {
    "duration": 5,
    "start_time": "2023-05-27T05:48:54.748Z"
   },
   {
    "duration": 25,
    "start_time": "2023-05-27T05:48:55.203Z"
   },
   {
    "duration": 43,
    "start_time": "2023-05-27T05:48:55.697Z"
   },
   {
    "duration": 317,
    "start_time": "2023-05-27T05:48:56.182Z"
   },
   {
    "duration": 7,
    "start_time": "2023-05-27T05:48:56.718Z"
   },
   {
    "duration": 27,
    "start_time": "2023-05-27T05:48:57.245Z"
   },
   {
    "duration": 2,
    "start_time": "2023-05-27T05:49:15.943Z"
   },
   {
    "duration": 2,
    "start_time": "2023-05-27T05:49:19.111Z"
   },
   {
    "duration": 3,
    "start_time": "2023-05-27T05:50:34.344Z"
   },
   {
    "duration": 4,
    "start_time": "2023-05-27T05:50:34.949Z"
   },
   {
    "duration": 3,
    "start_time": "2023-05-27T05:50:36.003Z"
   },
   {
    "duration": 376918,
    "start_time": "2023-05-27T05:50:38.968Z"
   },
   {
    "duration": 5,
    "start_time": "2023-05-27T05:57:42.523Z"
   },
   {
    "duration": 4,
    "start_time": "2023-05-27T05:57:46.792Z"
   },
   {
    "duration": 833,
    "start_time": "2023-05-27T05:58:09.686Z"
   },
   {
    "duration": 858,
    "start_time": "2023-05-27T05:58:50.511Z"
   },
   {
    "duration": 103,
    "start_time": "2023-05-27T06:00:01.384Z"
   },
   {
    "duration": 78,
    "start_time": "2023-05-27T06:00:10.413Z"
   },
   {
    "duration": 1753,
    "start_time": "2023-05-27T06:00:26.035Z"
   },
   {
    "duration": 4,
    "start_time": "2023-05-27T06:05:21.373Z"
   },
   {
    "duration": 4,
    "start_time": "2023-05-27T06:05:21.917Z"
   },
   {
    "duration": 16,
    "start_time": "2023-05-27T06:05:22.439Z"
   },
   {
    "duration": 5,
    "start_time": "2023-05-27T06:05:24.528Z"
   },
   {
    "duration": 1113,
    "start_time": "2023-05-27T06:05:41.592Z"
   },
   {
    "duration": 1189,
    "start_time": "2023-05-27T06:05:59.398Z"
   },
   {
    "duration": 353,
    "start_time": "2023-05-27T06:14:52.032Z"
   },
   {
    "duration": 402,
    "start_time": "2023-05-27T06:14:52.856Z"
   },
   {
    "duration": 147,
    "start_time": "2023-05-27T06:14:53.329Z"
   },
   {
    "duration": 118,
    "start_time": "2023-05-27T06:14:53.882Z"
   },
   {
    "duration": 100,
    "start_time": "2023-05-27T06:16:09.426Z"
   },
   {
    "duration": 175,
    "start_time": "2023-05-27T06:16:30.110Z"
   },
   {
    "duration": 3,
    "start_time": "2023-05-27T06:16:32.829Z"
   },
   {
    "duration": 130,
    "start_time": "2023-05-27T06:16:33.604Z"
   },
   {
    "duration": 1063,
    "start_time": "2023-05-27T06:17:06.782Z"
   },
   {
    "duration": 12,
    "start_time": "2023-05-27T06:17:07.848Z"
   },
   {
    "duration": 138,
    "start_time": "2023-05-27T06:17:08.118Z"
   },
   {
    "duration": 5,
    "start_time": "2023-05-27T06:17:15.637Z"
   },
   {
    "duration": 138,
    "start_time": "2023-05-27T06:19:13.444Z"
   },
   {
    "duration": 18,
    "start_time": "2023-05-27T06:19:48.052Z"
   },
   {
    "duration": 5,
    "start_time": "2023-05-27T06:19:54.426Z"
   },
   {
    "duration": 4,
    "start_time": "2023-05-27T06:20:54.612Z"
   },
   {
    "duration": 4,
    "start_time": "2023-05-27T06:21:07.109Z"
   },
   {
    "duration": 18,
    "start_time": "2023-05-27T06:22:20.198Z"
   },
   {
    "duration": 2522,
    "start_time": "2023-05-27T06:22:35.492Z"
   },
   {
    "duration": 4,
    "start_time": "2023-05-27T06:22:39.286Z"
   },
   {
    "duration": 3,
    "start_time": "2023-05-27T06:22:46.641Z"
   },
   {
    "duration": 144,
    "start_time": "2023-05-27T06:22:47.268Z"
   },
   {
    "duration": 4,
    "start_time": "2023-05-27T06:24:40.226Z"
   },
   {
    "duration": 4,
    "start_time": "2023-05-27T06:24:49.684Z"
   },
   {
    "duration": 53,
    "start_time": "2023-05-27T06:26:02.973Z"
   },
   {
    "duration": 746,
    "start_time": "2023-05-27T06:26:49.172Z"
   },
   {
    "duration": 2096,
    "start_time": "2023-05-27T06:26:49.921Z"
   },
   {
    "duration": 49,
    "start_time": "2023-05-27T06:26:55.989Z"
   },
   {
    "duration": 48,
    "start_time": "2023-05-27T06:27:18.831Z"
   },
   {
    "duration": 796,
    "start_time": "2023-05-27T06:28:57.543Z"
   },
   {
    "duration": 1707,
    "start_time": "2023-05-27T06:29:58.241Z"
   },
   {
    "duration": 50,
    "start_time": "2023-05-27T06:31:02.754Z"
   },
   {
    "duration": 845,
    "start_time": "2023-05-27T06:31:34.918Z"
   },
   {
    "duration": 833,
    "start_time": "2023-05-27T06:31:54.618Z"
   },
   {
    "duration": 820,
    "start_time": "2023-05-27T06:33:39.956Z"
   },
   {
    "duration": 881,
    "start_time": "2023-05-27T06:35:10.941Z"
   },
   {
    "duration": 870,
    "start_time": "2023-05-27T06:35:31.343Z"
   },
   {
    "duration": 3115,
    "start_time": "2023-05-27T06:35:52.809Z"
   },
   {
    "duration": 3138,
    "start_time": "2023-05-27T06:36:32.822Z"
   },
   {
    "duration": 48,
    "start_time": "2023-05-27T06:36:47.922Z"
   },
   {
    "duration": 3,
    "start_time": "2023-05-27T06:36:49.393Z"
   },
   {
    "duration": 125,
    "start_time": "2023-05-27T06:36:49.716Z"
   },
   {
    "duration": 3120,
    "start_time": "2023-05-27T06:37:31.899Z"
   },
   {
    "duration": 3,
    "start_time": "2023-05-27T06:37:35.021Z"
   },
   {
    "duration": 141,
    "start_time": "2023-05-27T06:37:35.025Z"
   },
   {
    "duration": 3128,
    "start_time": "2023-05-27T06:38:06.166Z"
   },
   {
    "duration": 3,
    "start_time": "2023-05-27T06:39:09.892Z"
   },
   {
    "duration": 359337,
    "start_time": "2023-05-27T06:41:53.676Z"
   },
   {
    "duration": 3,
    "start_time": "2023-05-27T06:47:53.015Z"
   },
   {
    "duration": 5,
    "start_time": "2023-05-27T06:48:51.037Z"
   },
   {
    "duration": 1698,
    "start_time": "2023-05-27T06:48:55.463Z"
   },
   {
    "duration": 3036,
    "start_time": "2023-05-27T06:48:57.163Z"
   },
   {
    "duration": 127,
    "start_time": "2023-05-27T06:49:00.201Z"
   },
   {
    "duration": 4,
    "start_time": "2023-05-27T06:49:00.330Z"
   },
   {
    "duration": 48,
    "start_time": "2023-05-27T06:51:58.767Z"
   },
   {
    "duration": 40,
    "start_time": "2023-05-27T06:52:19.547Z"
   },
   {
    "duration": 15104,
    "start_time": "2023-05-27T06:52:37.847Z"
   },
   {
    "duration": 2,
    "start_time": "2023-05-27T06:54:02.753Z"
   },
   {
    "duration": 15835,
    "start_time": "2023-05-27T06:54:05.616Z"
   },
   {
    "duration": 23,
    "start_time": "2023-05-27T06:54:28.778Z"
   },
   {
    "duration": 6,
    "start_time": "2023-05-27T06:54:30.067Z"
   },
   {
    "duration": 5,
    "start_time": "2023-05-27T06:54:34.338Z"
   },
   {
    "duration": 9,
    "start_time": "2023-05-27T06:54:39.122Z"
   },
   {
    "duration": 366,
    "start_time": "2023-05-27T06:54:41.790Z"
   },
   {
    "duration": 3,
    "start_time": "2023-05-27T06:54:42.483Z"
   },
   {
    "duration": 114,
    "start_time": "2023-05-27T06:54:43.040Z"
   },
   {
    "duration": 38728,
    "start_time": "2023-05-27T06:55:40.824Z"
   },
   {
    "duration": 23,
    "start_time": "2023-05-27T06:56:22.092Z"
   },
   {
    "duration": 6,
    "start_time": "2023-05-27T06:56:25.341Z"
   },
   {
    "duration": 6,
    "start_time": "2023-05-27T06:56:27.105Z"
   },
   {
    "duration": 10,
    "start_time": "2023-05-27T06:57:01.196Z"
   },
   {
    "duration": 72924,
    "start_time": "2023-05-27T06:57:08.827Z"
   },
   {
    "duration": 28,
    "start_time": "2023-05-27T06:59:32.397Z"
   },
   {
    "duration": 7,
    "start_time": "2023-05-27T06:59:33.174Z"
   },
   {
    "duration": 6,
    "start_time": "2023-05-27T06:59:34.412Z"
   },
   {
    "duration": 15,
    "start_time": "2023-05-27T06:59:35.173Z"
   },
   {
    "duration": 395,
    "start_time": "2023-05-27T06:59:36.057Z"
   },
   {
    "duration": 3,
    "start_time": "2023-05-27T06:59:36.458Z"
   },
   {
    "duration": 116,
    "start_time": "2023-05-27T06:59:37.361Z"
   },
   {
    "duration": 652333,
    "start_time": "2023-05-27T07:00:08.938Z"
   },
   {
    "duration": 11,
    "start_time": "2023-05-27T07:11:01.273Z"
   },
   {
    "duration": 0,
    "start_time": "2023-05-27T07:11:01.286Z"
   },
   {
    "duration": 187908,
    "start_time": "2023-05-27T07:11:26.387Z"
   },
   {
    "duration": 9,
    "start_time": "2023-05-27T07:14:34.297Z"
   },
   {
    "duration": 54,
    "start_time": "2023-05-27T07:14:34.934Z"
   },
   {
    "duration": 403,
    "start_time": "2023-05-27T07:14:42.125Z"
   },
   {
    "duration": 1430,
    "start_time": "2023-05-27T07:15:49.970Z"
   },
   {
    "duration": 2,
    "start_time": "2023-05-27T07:15:51.403Z"
   },
   {
    "duration": 55,
    "start_time": "2023-05-27T07:15:51.406Z"
   },
   {
    "duration": 17,
    "start_time": "2023-05-27T07:15:51.463Z"
   },
   {
    "duration": 14,
    "start_time": "2023-05-27T07:15:51.483Z"
   },
   {
    "duration": 55,
    "start_time": "2023-05-27T07:15:51.499Z"
   },
   {
    "duration": 398,
    "start_time": "2023-05-27T07:15:51.556Z"
   },
   {
    "duration": 5,
    "start_time": "2023-05-27T07:15:51.956Z"
   },
   {
    "duration": 6,
    "start_time": "2023-05-27T07:15:51.962Z"
   },
   {
    "duration": 8,
    "start_time": "2023-05-27T07:15:51.970Z"
   },
   {
    "duration": 24,
    "start_time": "2023-05-27T07:15:51.979Z"
   },
   {
    "duration": 5,
    "start_time": "2023-05-27T07:15:52.005Z"
   },
   {
    "duration": 19,
    "start_time": "2023-05-27T07:15:52.012Z"
   },
   {
    "duration": 9,
    "start_time": "2023-05-27T07:15:52.033Z"
   },
   {
    "duration": 24,
    "start_time": "2023-05-27T07:15:52.043Z"
   },
   {
    "duration": 4,
    "start_time": "2023-05-27T07:15:52.068Z"
   },
   {
    "duration": 13,
    "start_time": "2023-05-27T07:15:52.073Z"
   },
   {
    "duration": 11,
    "start_time": "2023-05-27T07:15:52.088Z"
   },
   {
    "duration": 24,
    "start_time": "2023-05-27T07:15:52.101Z"
   },
   {
    "duration": 23,
    "start_time": "2023-05-27T07:15:52.127Z"
   },
   {
    "duration": 3,
    "start_time": "2023-05-27T07:15:52.151Z"
   },
   {
    "duration": 33,
    "start_time": "2023-05-27T07:15:52.155Z"
   },
   {
    "duration": 48,
    "start_time": "2023-05-27T07:15:52.190Z"
   },
   {
    "duration": 302,
    "start_time": "2023-05-27T07:15:52.239Z"
   },
   {
    "duration": 8,
    "start_time": "2023-05-27T07:15:52.543Z"
   },
   {
    "duration": 23,
    "start_time": "2023-05-27T07:15:52.553Z"
   },
   {
    "duration": 4,
    "start_time": "2023-05-27T07:15:52.578Z"
   },
   {
    "duration": 13,
    "start_time": "2023-05-27T07:15:52.584Z"
   },
   {
    "duration": 8,
    "start_time": "2023-05-27T07:15:52.599Z"
   },
   {
    "duration": 3,
    "start_time": "2023-05-27T07:16:44.079Z"
   },
   {
    "duration": 3,
    "start_time": "2023-05-27T07:16:44.594Z"
   },
   {
    "duration": 8,
    "start_time": "2023-05-27T07:16:56.604Z"
   },
   {
    "duration": 7,
    "start_time": "2023-05-27T07:17:08.255Z"
   },
   {
    "duration": 395,
    "start_time": "2023-05-27T07:17:20.651Z"
   },
   {
    "duration": 114,
    "start_time": "2023-05-27T07:18:06.234Z"
   },
   {
    "duration": 111,
    "start_time": "2023-05-27T07:18:32.335Z"
   },
   {
    "duration": 26441,
    "start_time": "2023-05-27T07:18:57.210Z"
   },
   {
    "duration": 25,
    "start_time": "2023-05-27T07:19:23.653Z"
   },
   {
    "duration": 21,
    "start_time": "2023-05-27T07:19:37.381Z"
   },
   {
    "duration": 6,
    "start_time": "2023-05-27T07:19:37.955Z"
   },
   {
    "duration": 6,
    "start_time": "2023-05-27T07:19:39.218Z"
   },
   {
    "duration": 12,
    "start_time": "2023-05-27T07:21:57.011Z"
   },
   {
    "duration": 366,
    "start_time": "2023-05-27T07:21:58.001Z"
   },
   {
    "duration": 3,
    "start_time": "2023-05-27T07:22:00.106Z"
   },
   {
    "duration": 127,
    "start_time": "2023-05-27T07:22:00.413Z"
   },
   {
    "duration": 9,
    "start_time": "2023-05-27T07:22:51.596Z"
   },
   {
    "duration": 4,
    "start_time": "2023-05-27T07:22:58.436Z"
   },
   {
    "duration": 4,
    "start_time": "2023-05-27T07:22:58.846Z"
   },
   {
    "duration": 4,
    "start_time": "2023-05-27T07:22:59.460Z"
   },
   {
    "duration": 10,
    "start_time": "2023-05-27T07:22:59.899Z"
   },
   {
    "duration": 5,
    "start_time": "2023-05-27T07:23:00.883Z"
   },
   {
    "duration": 32,
    "start_time": "2023-05-27T07:23:09.796Z"
   },
   {
    "duration": 10,
    "start_time": "2023-05-27T07:23:10.806Z"
   },
   {
    "duration": 30,
    "start_time": "2023-05-27T07:24:12.757Z"
   },
   {
    "duration": 35,
    "start_time": "2023-05-27T07:24:32.590Z"
   },
   {
    "duration": 92,
    "start_time": "2023-05-27T07:24:55.960Z"
   },
   {
    "duration": 71,
    "start_time": "2023-05-27T07:25:29.281Z"
   },
   {
    "duration": 37,
    "start_time": "2023-05-27T07:25:49.940Z"
   },
   {
    "duration": 73,
    "start_time": "2023-05-27T07:26:50.140Z"
   },
   {
    "duration": 31055,
    "start_time": "2023-05-27T07:27:15.607Z"
   },
   {
    "duration": 6868,
    "start_time": "2023-05-27T07:29:59.492Z"
   },
   {
    "duration": 7441,
    "start_time": "2023-05-27T07:30:16.619Z"
   },
   {
    "duration": 164,
    "start_time": "2023-05-27T07:30:32.587Z"
   },
   {
    "duration": 146,
    "start_time": "2023-05-27T07:30:40.610Z"
   },
   {
    "duration": 131,
    "start_time": "2023-05-27T07:30:42.126Z"
   },
   {
    "duration": 5,
    "start_time": "2023-05-27T07:31:10.488Z"
   },
   {
    "duration": 9078,
    "start_time": "2023-05-27T07:31:34.287Z"
   },
   {
    "duration": 4,
    "start_time": "2023-05-27T07:31:51.632Z"
   },
   {
    "duration": 5,
    "start_time": "2023-05-27T07:32:06.388Z"
   },
   {
    "duration": 8270,
    "start_time": "2023-05-27T07:32:20.985Z"
   },
   {
    "duration": 3,
    "start_time": "2023-05-27T07:32:46.498Z"
   },
   {
    "duration": 4,
    "start_time": "2023-05-27T07:32:51.329Z"
   },
   {
    "duration": 4,
    "start_time": "2023-05-27T07:32:55.143Z"
   },
   {
    "duration": 5,
    "start_time": "2023-05-27T07:33:00.320Z"
   },
   {
    "duration": 4,
    "start_time": "2023-05-27T07:34:19.100Z"
   },
   {
    "duration": 8321,
    "start_time": "2023-05-27T07:34:26.028Z"
   },
   {
    "duration": 4301,
    "start_time": "2023-05-27T07:34:45.772Z"
   },
   {
    "duration": 30844,
    "start_time": "2023-05-27T07:35:19.514Z"
   },
   {
    "duration": 311,
    "start_time": "2023-05-27T07:35:59.142Z"
   },
   {
    "duration": 324,
    "start_time": "2023-05-27T07:36:01.526Z"
   },
   {
    "duration": 401,
    "start_time": "2023-05-27T07:36:02.851Z"
   },
   {
    "duration": 9,
    "start_time": "2023-05-27T07:41:33.071Z"
   },
   {
    "duration": 3,
    "start_time": "2023-05-27T07:41:36.446Z"
   },
   {
    "duration": 36,
    "start_time": "2023-05-27T07:41:36.765Z"
   },
   {
    "duration": 11,
    "start_time": "2023-05-27T07:45:36.792Z"
   },
   {
    "duration": 9,
    "start_time": "2023-05-27T07:45:42.142Z"
   },
   {
    "duration": 530,
    "start_time": "2023-05-27T07:45:49.127Z"
   },
   {
    "duration": 7,
    "start_time": "2023-05-27T07:45:51.059Z"
   },
   {
    "duration": 4,
    "start_time": "2023-05-27T07:46:17.685Z"
   },
   {
    "duration": 10,
    "start_time": "2023-05-27T07:46:42.745Z"
   },
   {
    "duration": 14,
    "start_time": "2023-05-27T07:47:04.386Z"
   },
   {
    "duration": 15,
    "start_time": "2023-05-27T07:47:12.729Z"
   },
   {
    "duration": 20,
    "start_time": "2023-05-27T07:48:14.144Z"
   },
   {
    "duration": 15,
    "start_time": "2023-05-27T07:48:23.524Z"
   },
   {
    "duration": 14,
    "start_time": "2023-05-27T07:48:29.130Z"
   },
   {
    "duration": 13,
    "start_time": "2023-05-27T07:48:32.103Z"
   },
   {
    "duration": 143,
    "start_time": "2023-05-27T07:48:44.807Z"
   },
   {
    "duration": 115,
    "start_time": "2023-05-27T07:48:50.136Z"
   },
   {
    "duration": 501,
    "start_time": "2023-05-27T07:49:04.949Z"
   },
   {
    "duration": 4,
    "start_time": "2023-05-27T07:49:06.082Z"
   },
   {
    "duration": 337,
    "start_time": "2023-05-27T07:49:10.216Z"
   },
   {
    "duration": 6,
    "start_time": "2023-05-27T07:49:10.713Z"
   },
   {
    "duration": 181,
    "start_time": "2023-05-27T07:49:18.578Z"
   },
   {
    "duration": 758,
    "start_time": "2023-05-27T07:49:46.096Z"
   },
   {
    "duration": 410,
    "start_time": "2023-05-27T07:49:46.858Z"
   },
   {
    "duration": 662,
    "start_time": "2023-05-27T07:49:53.696Z"
   },
   {
    "duration": 393,
    "start_time": "2023-05-27T07:49:54.360Z"
   },
   {
    "duration": 690,
    "start_time": "2023-05-27T07:49:58.261Z"
   },
   {
    "duration": 397,
    "start_time": "2023-05-27T07:49:58.954Z"
   },
   {
    "duration": 930,
    "start_time": "2023-05-27T07:50:06.024Z"
   },
   {
    "duration": 302,
    "start_time": "2023-05-27T07:50:06.956Z"
   },
   {
    "duration": 655,
    "start_time": "2023-05-27T07:50:20.198Z"
   },
   {
    "duration": 300,
    "start_time": "2023-05-27T07:50:20.951Z"
   },
   {
    "duration": 567,
    "start_time": "2023-05-27T07:50:24.186Z"
   },
   {
    "duration": 306,
    "start_time": "2023-05-27T07:50:24.756Z"
   },
   {
    "duration": 740,
    "start_time": "2023-05-27T07:50:34.613Z"
   },
   {
    "duration": 304,
    "start_time": "2023-05-27T07:50:35.356Z"
   },
   {
    "duration": 333,
    "start_time": "2023-05-27T07:51:32.324Z"
   },
   {
    "duration": 740,
    "start_time": "2023-05-27T07:51:41.114Z"
   },
   {
    "duration": 664,
    "start_time": "2023-05-27T07:51:43.290Z"
   },
   {
    "duration": 754,
    "start_time": "2023-05-27T07:51:44.504Z"
   },
   {
    "duration": 13558,
    "start_time": "2023-05-27T07:52:02.099Z"
   },
   {
    "duration": 155,
    "start_time": "2023-05-27T07:52:23.704Z"
   },
   {
    "duration": 25550,
    "start_time": "2023-05-27T07:55:04.706Z"
   },
   {
    "duration": 30102,
    "start_time": "2023-05-27T07:55:35.256Z"
   },
   {
    "duration": 391,
    "start_time": "2023-05-27T07:56:05.360Z"
   },
   {
    "duration": 206,
    "start_time": "2023-05-27T07:56:15.551Z"
   },
   {
    "duration": 702,
    "start_time": "2023-05-27T07:56:32.348Z"
   },
   {
    "duration": 25618,
    "start_time": "2023-05-27T07:56:33.053Z"
   },
   {
    "duration": 378,
    "start_time": "2023-05-27T07:57:02.380Z"
   },
   {
    "duration": 1638,
    "start_time": "2023-05-27T07:57:50.593Z"
   },
   {
    "duration": 17,
    "start_time": "2023-05-27T07:58:02.217Z"
   },
   {
    "duration": 935,
    "start_time": "2023-05-27T07:58:13.222Z"
   },
   {
    "duration": 1818,
    "start_time": "2023-05-27T07:58:17.622Z"
   },
   {
    "duration": 16,
    "start_time": "2023-05-27T07:58:21.075Z"
   },
   {
    "duration": 33475,
    "start_time": "2023-05-27T07:58:25.281Z"
   },
   {
    "duration": 18,
    "start_time": "2023-05-27T07:58:58.759Z"
   },
   {
    "duration": 59,
    "start_time": "2023-05-27T08:00:47.405Z"
   },
   {
    "duration": 105870,
    "start_time": "2023-05-27T08:01:00.280Z"
   },
   {
    "duration": 201,
    "start_time": "2023-05-27T08:18:52.355Z"
   },
   {
    "duration": 807,
    "start_time": "2023-05-27T08:20:02.698Z"
   },
   {
    "duration": 2,
    "start_time": "2023-05-27T08:20:03.508Z"
   },
   {
    "duration": 136,
    "start_time": "2023-05-27T08:20:03.829Z"
   },
   {
    "duration": 824,
    "start_time": "2023-05-27T08:20:27.358Z"
   },
   {
    "duration": 3,
    "start_time": "2023-05-27T08:20:28.186Z"
   },
   {
    "duration": 165,
    "start_time": "2023-05-27T08:20:28.229Z"
   },
   {
    "duration": 987,
    "start_time": "2023-05-27T08:20:51.819Z"
   },
   {
    "duration": 1539,
    "start_time": "2023-05-27T08:21:35.810Z"
   },
   {
    "duration": 3,
    "start_time": "2023-05-27T08:21:47.319Z"
   },
   {
    "duration": 177,
    "start_time": "2023-05-27T08:21:47.662Z"
   },
   {
    "duration": 1417,
    "start_time": "2023-05-27T08:22:15.841Z"
   },
   {
    "duration": 211,
    "start_time": "2023-05-27T08:22:54.445Z"
   },
   {
    "duration": 23,
    "start_time": "2023-05-27T08:22:56.835Z"
   },
   {
    "duration": 535,
    "start_time": "2023-05-27T08:23:06.917Z"
   },
   {
    "duration": 545,
    "start_time": "2023-05-27T08:23:08.007Z"
   },
   {
    "duration": 3,
    "start_time": "2023-05-27T08:36:19.612Z"
   },
   {
    "duration": 101,
    "start_time": "2023-05-27T08:41:02.720Z"
   },
   {
    "duration": 5,
    "start_time": "2023-05-27T08:41:33.837Z"
   },
   {
    "duration": 7347,
    "start_time": "2023-05-27T08:41:49.814Z"
   },
   {
    "duration": 34791,
    "start_time": "2023-05-27T08:44:00.051Z"
   },
   {
    "duration": 71,
    "start_time": "2023-05-27T08:45:05.789Z"
   },
   {
    "duration": 79,
    "start_time": "2023-05-27T08:47:32.658Z"
   },
   {
    "duration": 84,
    "start_time": "2023-05-27T08:47:46.978Z"
   },
   {
    "duration": 112,
    "start_time": "2023-05-27T08:47:55.995Z"
   },
   {
    "duration": 154,
    "start_time": "2023-05-27T08:48:14.149Z"
   },
   {
    "duration": 6,
    "start_time": "2023-05-27T09:19:12.139Z"
   },
   {
    "duration": 4,
    "start_time": "2023-05-27T09:19:12.590Z"
   },
   {
    "duration": 52,
    "start_time": "2023-05-27T09:19:13.850Z"
   },
   {
    "duration": 1485,
    "start_time": "2023-05-27T09:19:21.882Z"
   },
   {
    "duration": 3,
    "start_time": "2023-05-27T09:19:23.370Z"
   },
   {
    "duration": 50,
    "start_time": "2023-05-27T09:19:23.375Z"
   },
   {
    "duration": 22,
    "start_time": "2023-05-27T09:19:23.428Z"
   },
   {
    "duration": 16,
    "start_time": "2023-05-27T09:19:23.452Z"
   },
   {
    "duration": 43,
    "start_time": "2023-05-27T09:19:23.470Z"
   },
   {
    "duration": 449,
    "start_time": "2023-05-27T09:19:23.515Z"
   },
   {
    "duration": 5,
    "start_time": "2023-05-27T09:19:23.966Z"
   },
   {
    "duration": 9,
    "start_time": "2023-05-27T09:19:23.973Z"
   },
   {
    "duration": 6,
    "start_time": "2023-05-27T09:19:23.986Z"
   },
   {
    "duration": 8,
    "start_time": "2023-05-27T09:19:23.993Z"
   },
   {
    "duration": 3,
    "start_time": "2023-05-27T09:19:24.003Z"
   },
   {
    "duration": 45,
    "start_time": "2023-05-27T09:19:24.008Z"
   },
   {
    "duration": 6,
    "start_time": "2023-05-27T09:19:24.061Z"
   },
   {
    "duration": 27,
    "start_time": "2023-05-27T09:19:24.069Z"
   },
   {
    "duration": 4,
    "start_time": "2023-05-27T09:19:24.098Z"
   },
   {
    "duration": 11,
    "start_time": "2023-05-27T09:19:24.104Z"
   },
   {
    "duration": 7,
    "start_time": "2023-05-27T09:19:24.117Z"
   },
   {
    "duration": 56,
    "start_time": "2023-05-27T09:19:24.126Z"
   },
   {
    "duration": 18,
    "start_time": "2023-05-27T09:19:24.185Z"
   },
   {
    "duration": 4,
    "start_time": "2023-05-27T09:19:24.205Z"
   },
   {
    "duration": 67,
    "start_time": "2023-05-27T09:19:24.212Z"
   },
   {
    "duration": 76,
    "start_time": "2023-05-27T09:19:24.282Z"
   },
   {
    "duration": 306,
    "start_time": "2023-05-27T09:19:24.360Z"
   },
   {
    "duration": 7,
    "start_time": "2023-05-27T09:19:24.668Z"
   },
   {
    "duration": 28,
    "start_time": "2023-05-27T09:19:24.677Z"
   },
   {
    "duration": 5,
    "start_time": "2023-05-27T09:19:24.707Z"
   },
   {
    "duration": 16,
    "start_time": "2023-05-27T09:19:24.717Z"
   },
   {
    "duration": 6,
    "start_time": "2023-05-27T09:19:24.751Z"
   },
   {
    "duration": 21,
    "start_time": "2023-05-27T09:19:24.759Z"
   },
   {
    "duration": 13,
    "start_time": "2023-05-27T09:19:24.781Z"
   },
   {
    "duration": 16,
    "start_time": "2023-05-27T09:19:24.796Z"
   },
   {
    "duration": 22,
    "start_time": "2023-05-27T09:19:24.813Z"
   },
   {
    "duration": 5,
    "start_time": "2023-05-27T09:19:24.837Z"
   },
   {
    "duration": 20,
    "start_time": "2023-05-27T09:19:24.844Z"
   },
   {
    "duration": 10,
    "start_time": "2023-05-27T09:19:24.866Z"
   },
   {
    "duration": 35720,
    "start_time": "2023-05-27T09:19:24.878Z"
   },
   {
    "duration": 125,
    "start_time": "2023-05-27T09:20:00.601Z"
   },
   {
    "duration": 3,
    "start_time": "2023-05-27T09:20:00.729Z"
   },
   {
    "duration": 411464,
    "start_time": "2023-05-27T09:20:00.734Z"
   },
   {
    "duration": 2858,
    "start_time": "2023-05-27T09:26:52.201Z"
   },
   {
    "duration": 3150,
    "start_time": "2023-05-27T09:26:55.063Z"
   },
   {
    "duration": 186,
    "start_time": "2023-05-27T09:26:58.215Z"
   },
   {
    "duration": 3,
    "start_time": "2023-05-27T09:26:58.403Z"
   },
   {
    "duration": 4,
    "start_time": "2023-05-27T09:26:58.408Z"
   },
   {
    "duration": 5,
    "start_time": "2023-05-27T09:26:58.414Z"
   },
   {
    "duration": 143,
    "start_time": "2023-05-27T09:26:58.420Z"
   },
   {
    "duration": 0,
    "start_time": "2023-05-27T09:26:58.565Z"
   },
   {
    "duration": 0,
    "start_time": "2023-05-27T09:26:58.566Z"
   },
   {
    "duration": 0,
    "start_time": "2023-05-27T09:26:58.568Z"
   },
   {
    "duration": 0,
    "start_time": "2023-05-27T09:26:58.569Z"
   },
   {
    "duration": 0,
    "start_time": "2023-05-27T09:26:58.572Z"
   },
   {
    "duration": 0,
    "start_time": "2023-05-27T09:26:58.574Z"
   },
   {
    "duration": 1,
    "start_time": "2023-05-27T09:26:58.575Z"
   },
   {
    "duration": 0,
    "start_time": "2023-05-27T09:26:58.577Z"
   },
   {
    "duration": 0,
    "start_time": "2023-05-27T09:26:58.578Z"
   },
   {
    "duration": 0,
    "start_time": "2023-05-27T09:26:58.579Z"
   },
   {
    "duration": 0,
    "start_time": "2023-05-27T09:26:58.581Z"
   },
   {
    "duration": 4,
    "start_time": "2023-05-27T09:29:20.818Z"
   },
   {
    "duration": 27351,
    "start_time": "2023-05-27T09:29:27.613Z"
   },
   {
    "duration": 502,
    "start_time": "2023-05-27T09:29:55.050Z"
   },
   {
    "duration": 0,
    "start_time": "2023-05-27T09:29:55.554Z"
   },
   {
    "duration": 0,
    "start_time": "2023-05-27T09:29:55.555Z"
   },
   {
    "duration": 0,
    "start_time": "2023-05-27T09:29:55.556Z"
   },
   {
    "duration": 0,
    "start_time": "2023-05-27T09:29:55.557Z"
   },
   {
    "duration": 0,
    "start_time": "2023-05-27T09:29:55.558Z"
   },
   {
    "duration": 0,
    "start_time": "2023-05-27T09:29:55.559Z"
   },
   {
    "duration": 0,
    "start_time": "2023-05-27T09:29:55.561Z"
   },
   {
    "duration": 0,
    "start_time": "2023-05-27T09:29:55.562Z"
   },
   {
    "duration": 0,
    "start_time": "2023-05-27T09:29:55.563Z"
   },
   {
    "duration": 314,
    "start_time": "2023-05-27T09:30:38.739Z"
   },
   {
    "duration": 237,
    "start_time": "2023-05-27T09:30:49.216Z"
   },
   {
    "duration": 417,
    "start_time": "2023-05-27T09:30:49.633Z"
   },
   {
    "duration": 1508,
    "start_time": "2023-05-27T09:30:50.053Z"
   },
   {
    "duration": 2044,
    "start_time": "2023-05-27T09:30:51.564Z"
   },
   {
    "duration": 21,
    "start_time": "2023-05-27T09:30:53.609Z"
   },
   {
    "duration": 121,
    "start_time": "2023-05-27T09:30:53.633Z"
   },
   {
    "duration": 516,
    "start_time": "2023-05-27T09:30:53.756Z"
   },
   {
    "duration": 3,
    "start_time": "2023-05-27T09:30:54.274Z"
   },
   {
    "duration": 295,
    "start_time": "2023-05-27T09:30:54.280Z"
   },
   {
    "duration": 52,
    "start_time": "2023-06-02T08:46:01.516Z"
   },
   {
    "duration": 1650,
    "start_time": "2023-06-02T08:47:13.016Z"
   },
   {
    "duration": 3,
    "start_time": "2023-06-02T08:47:14.668Z"
   },
   {
    "duration": 107,
    "start_time": "2023-06-02T08:47:14.672Z"
   },
   {
    "duration": 19,
    "start_time": "2023-06-02T08:47:14.781Z"
   },
   {
    "duration": 25,
    "start_time": "2023-06-02T08:47:14.802Z"
   },
   {
    "duration": 51,
    "start_time": "2023-06-02T08:47:14.829Z"
   },
   {
    "duration": 40,
    "start_time": "2023-06-02T08:47:27.292Z"
   },
   {
    "duration": 459,
    "start_time": "2023-06-02T08:47:27.672Z"
   },
   {
    "duration": 434,
    "start_time": "2023-06-02T08:48:06.959Z"
   },
   {
    "duration": 372,
    "start_time": "2023-06-02T08:48:11.710Z"
   },
   {
    "duration": 494,
    "start_time": "2023-06-02T08:51:18.173Z"
   },
   {
    "duration": 4,
    "start_time": "2023-06-02T08:51:55.666Z"
   },
   {
    "duration": 23,
    "start_time": "2023-06-02T08:51:57.949Z"
   },
   {
    "duration": 14,
    "start_time": "2023-06-02T08:52:09.345Z"
   },
   {
    "duration": 4,
    "start_time": "2023-06-02T08:52:14.051Z"
   },
   {
    "duration": 6,
    "start_time": "2023-06-02T08:52:15.360Z"
   },
   {
    "duration": 108,
    "start_time": "2023-06-02T08:52:48.050Z"
   },
   {
    "duration": 8,
    "start_time": "2023-06-02T08:52:48.514Z"
   },
   {
    "duration": 3,
    "start_time": "2023-06-02T08:52:56.851Z"
   },
   {
    "duration": 17,
    "start_time": "2023-06-02T08:52:56.856Z"
   },
   {
    "duration": 60,
    "start_time": "2023-06-02T08:52:56.875Z"
   },
   {
    "duration": 12,
    "start_time": "2023-06-02T08:52:56.937Z"
   },
   {
    "duration": 13,
    "start_time": "2023-06-02T08:52:56.951Z"
   },
   {
    "duration": 48,
    "start_time": "2023-06-02T08:52:56.966Z"
   },
   {
    "duration": 393,
    "start_time": "2023-06-02T08:52:57.016Z"
   },
   {
    "duration": 5,
    "start_time": "2023-06-02T08:52:57.411Z"
   },
   {
    "duration": 9,
    "start_time": "2023-06-02T08:52:57.417Z"
   },
   {
    "duration": 5,
    "start_time": "2023-06-02T08:52:57.428Z"
   },
   {
    "duration": 7,
    "start_time": "2023-06-02T08:52:57.435Z"
   },
   {
    "duration": 5,
    "start_time": "2023-06-02T08:52:57.443Z"
   },
   {
    "duration": 29,
    "start_time": "2023-06-02T08:52:57.450Z"
   },
   {
    "duration": 16,
    "start_time": "2023-06-02T08:52:57.481Z"
   },
   {
    "duration": 21,
    "start_time": "2023-06-02T08:52:57.499Z"
   },
   {
    "duration": 4,
    "start_time": "2023-06-02T08:52:57.522Z"
   },
   {
    "duration": 17,
    "start_time": "2023-06-02T08:52:57.527Z"
   },
   {
    "duration": 11,
    "start_time": "2023-06-02T08:52:57.545Z"
   },
   {
    "duration": 35,
    "start_time": "2023-06-02T08:52:57.558Z"
   },
   {
    "duration": 12,
    "start_time": "2023-06-02T08:52:58.790Z"
   },
   {
    "duration": 8,
    "start_time": "2023-06-02T08:52:59.882Z"
   },
   {
    "duration": 34,
    "start_time": "2023-06-02T08:53:13.190Z"
   },
   {
    "duration": 44,
    "start_time": "2023-06-02T08:53:14.011Z"
   },
   {
    "duration": 271,
    "start_time": "2023-06-02T08:55:24.996Z"
   },
   {
    "duration": 6,
    "start_time": "2023-06-02T08:55:25.500Z"
   },
   {
    "duration": 23,
    "start_time": "2023-06-02T08:55:26.169Z"
   },
   {
    "duration": 5,
    "start_time": "2023-06-02T08:55:26.895Z"
   },
   {
    "duration": 5,
    "start_time": "2023-06-02T08:55:27.466Z"
   },
   {
    "duration": 5,
    "start_time": "2023-06-02T08:55:28.404Z"
   },
   {
    "duration": 2,
    "start_time": "2023-06-02T09:02:30.118Z"
   },
   {
    "duration": 32,
    "start_time": "2023-06-02T09:05:10.950Z"
   },
   {
    "duration": 30,
    "start_time": "2023-06-02T09:05:24.021Z"
   },
   {
    "duration": 1472,
    "start_time": "2023-06-02T09:05:46.276Z"
   },
   {
    "duration": 4,
    "start_time": "2023-06-02T09:05:47.750Z"
   },
   {
    "duration": 51,
    "start_time": "2023-06-02T09:05:47.756Z"
   },
   {
    "duration": 19,
    "start_time": "2023-06-02T09:05:47.810Z"
   },
   {
    "duration": 17,
    "start_time": "2023-06-02T09:05:47.831Z"
   },
   {
    "duration": 45,
    "start_time": "2023-06-02T09:05:47.850Z"
   },
   {
    "duration": 405,
    "start_time": "2023-06-02T09:05:47.897Z"
   },
   {
    "duration": 6,
    "start_time": "2023-06-02T09:05:48.304Z"
   },
   {
    "duration": 13,
    "start_time": "2023-06-02T09:05:48.312Z"
   },
   {
    "duration": 11,
    "start_time": "2023-06-02T09:05:48.328Z"
   },
   {
    "duration": 14,
    "start_time": "2023-06-02T09:05:48.340Z"
   },
   {
    "duration": 4,
    "start_time": "2023-06-02T09:05:48.356Z"
   },
   {
    "duration": 17,
    "start_time": "2023-06-02T09:05:48.362Z"
   },
   {
    "duration": 6,
    "start_time": "2023-06-02T09:05:48.380Z"
   },
   {
    "duration": 17,
    "start_time": "2023-06-02T09:05:48.388Z"
   },
   {
    "duration": 5,
    "start_time": "2023-06-02T09:05:48.406Z"
   },
   {
    "duration": 10,
    "start_time": "2023-06-02T09:05:48.413Z"
   },
   {
    "duration": 24,
    "start_time": "2023-06-02T09:05:48.425Z"
   },
   {
    "duration": 48,
    "start_time": "2023-06-02T09:05:48.451Z"
   },
   {
    "duration": 16,
    "start_time": "2023-06-02T09:05:48.501Z"
   },
   {
    "duration": 4,
    "start_time": "2023-06-02T09:05:50.783Z"
   },
   {
    "duration": 3,
    "start_time": "2023-06-02T09:06:34.018Z"
   },
   {
    "duration": 36,
    "start_time": "2023-06-02T09:06:37.267Z"
   },
   {
    "duration": 48,
    "start_time": "2023-06-02T09:06:38.139Z"
   },
   {
    "duration": 114,
    "start_time": "2023-06-02T09:10:23.605Z"
   },
   {
    "duration": 2,
    "start_time": "2023-06-02T09:10:32.310Z"
   },
   {
    "duration": 6299,
    "start_time": "2023-06-02T09:12:23.098Z"
   },
   {
    "duration": 58,
    "start_time": "2023-06-02T09:14:00.224Z"
   },
   {
    "duration": 35885,
    "start_time": "2023-06-02T09:14:31.953Z"
   },
   {
    "duration": 3,
    "start_time": "2023-06-02T09:15:13.749Z"
   },
   {
    "duration": 6226,
    "start_time": "2023-06-02T09:15:17.815Z"
   },
   {
    "duration": 45,
    "start_time": "2023-06-02T09:16:03.114Z"
   },
   {
    "duration": 24046,
    "start_time": "2023-06-02T09:17:46.256Z"
   },
   {
    "duration": 125162,
    "start_time": "2023-06-02T09:18:17.193Z"
   },
   {
    "duration": 3,
    "start_time": "2023-06-02T09:20:22.357Z"
   },
   {
    "duration": 35803,
    "start_time": "2023-06-02T09:21:11.081Z"
   },
   {
    "duration": 12,
    "start_time": "2023-06-02T09:22:02.201Z"
   },
   {
    "duration": 6,
    "start_time": "2023-06-02T09:22:22.572Z"
   },
   {
    "duration": 524,
    "start_time": "2023-06-02T09:22:24.520Z"
   },
   {
    "duration": 4667,
    "start_time": "2023-06-02T09:22:30.373Z"
   },
   {
    "duration": 3,
    "start_time": "2023-06-02T09:22:50.890Z"
   },
   {
    "duration": 39823,
    "start_time": "2023-06-02T09:22:55.254Z"
   },
   {
    "duration": 703,
    "start_time": "2023-06-02T09:23:35.080Z"
   },
   {
    "duration": 516,
    "start_time": "2023-06-02T09:23:43.460Z"
   },
   {
    "duration": 2,
    "start_time": "2023-06-02T09:24:19.375Z"
   },
   {
    "duration": 4,
    "start_time": "2023-06-02T09:24:57.265Z"
   },
   {
    "duration": 6,
    "start_time": "2023-06-02T09:25:11.498Z"
   },
   {
    "duration": 49,
    "start_time": "2023-06-02T09:25:12.385Z"
   },
   {
    "duration": 6,
    "start_time": "2023-06-02T09:25:13.861Z"
   },
   {
    "duration": 532,
    "start_time": "2023-06-02T09:25:14.511Z"
   },
   {
    "duration": 3,
    "start_time": "2023-06-02T09:25:15.709Z"
   },
   {
    "duration": 5,
    "start_time": "2023-06-02T09:25:16.212Z"
   },
   {
    "duration": 79,
    "start_time": "2023-06-02T09:25:16.699Z"
   },
   {
    "duration": 64,
    "start_time": "2023-06-02T09:27:00.562Z"
   },
   {
    "duration": 43,
    "start_time": "2023-06-02T09:27:15.380Z"
   },
   {
    "duration": 54,
    "start_time": "2023-06-02T09:33:33.253Z"
   },
   {
    "duration": 5,
    "start_time": "2023-06-02T09:36:57.959Z"
   },
   {
    "duration": 47,
    "start_time": "2023-06-02T09:37:02.268Z"
   },
   {
    "duration": 42,
    "start_time": "2023-06-02T09:37:14.050Z"
   },
   {
    "duration": 44,
    "start_time": "2023-06-02T09:37:17.193Z"
   },
   {
    "duration": 6,
    "start_time": "2023-06-02T09:37:20.298Z"
   },
   {
    "duration": 1481,
    "start_time": "2023-06-02T09:37:21.058Z"
   },
   {
    "duration": 6,
    "start_time": "2023-06-02T09:37:31.684Z"
   },
   {
    "duration": 4,
    "start_time": "2023-06-02T09:37:32.453Z"
   },
   {
    "duration": 4,
    "start_time": "2023-06-02T09:37:33.071Z"
   },
   {
    "duration": 12,
    "start_time": "2023-06-02T09:37:33.594Z"
   },
   {
    "duration": 5,
    "start_time": "2023-06-02T09:37:34.365Z"
   },
   {
    "duration": 6,
    "start_time": "2023-06-02T09:37:34.798Z"
   },
   {
    "duration": 7,
    "start_time": "2023-06-02T09:37:35.870Z"
   },
   {
    "duration": 49,
    "start_time": "2023-06-02T09:37:36.873Z"
   },
   {
    "duration": 6,
    "start_time": "2023-06-02T09:37:41.557Z"
   },
   {
    "duration": 2455,
    "start_time": "2023-06-02T09:37:42.149Z"
   },
   {
    "duration": 2615,
    "start_time": "2023-06-02T09:38:21.690Z"
   },
   {
    "duration": 3137,
    "start_time": "2023-06-02T09:38:38.903Z"
   },
   {
    "duration": 134,
    "start_time": "2023-06-02T09:38:42.042Z"
   },
   {
    "duration": 3,
    "start_time": "2023-06-02T09:39:03.609Z"
   },
   {
    "duration": 6,
    "start_time": "2023-06-02T09:39:05.885Z"
   },
   {
    "duration": 34,
    "start_time": "2023-06-02T09:39:06.865Z"
   },
   {
    "duration": 77,
    "start_time": "2023-06-02T09:39:08.400Z"
   },
   {
    "duration": 38,
    "start_time": "2023-06-02T09:39:09.310Z"
   },
   {
    "duration": 14,
    "start_time": "2023-06-02T09:40:06.996Z"
   },
   {
    "duration": 6,
    "start_time": "2023-06-02T09:40:12.153Z"
   },
   {
    "duration": 1800,
    "start_time": "2023-06-02T09:40:12.581Z"
   },
   {
    "duration": 3255,
    "start_time": "2023-06-02T09:40:14.384Z"
   },
   {
    "duration": 173,
    "start_time": "2023-06-02T09:40:17.641Z"
   },
   {
    "duration": 6,
    "start_time": "2023-06-02T09:42:51.480Z"
   },
   {
    "duration": 294,
    "start_time": "2023-06-02T09:42:52.093Z"
   },
   {
    "duration": 87,
    "start_time": "2023-06-02T09:42:56.193Z"
   },
   {
    "duration": 908,
    "start_time": "2023-06-02T09:43:02.769Z"
   },
   {
    "duration": 97,
    "start_time": "2023-06-02T09:43:03.680Z"
   },
   {
    "duration": 22,
    "start_time": "2023-06-02T09:43:04.887Z"
   },
   {
    "duration": 32,
    "start_time": "2023-06-02T09:43:28.457Z"
   },
   {
    "duration": 412,
    "start_time": "2023-06-02T09:43:46.821Z"
   },
   {
    "duration": 3,
    "start_time": "2023-06-02T09:43:47.378Z"
   },
   {
    "duration": 127,
    "start_time": "2023-06-02T09:43:48.253Z"
   },
   {
    "duration": 6,
    "start_time": "2023-06-02T09:45:21.561Z"
   },
   {
    "duration": 15,
    "start_time": "2023-06-02T11:06:29.408Z"
   },
   {
    "duration": 7,
    "start_time": "2023-06-02T11:06:35.192Z"
   },
   {
    "duration": 1837,
    "start_time": "2023-06-02T11:06:35.654Z"
   },
   {
    "duration": 16,
    "start_time": "2023-06-02T11:06:40.403Z"
   },
   {
    "duration": 5,
    "start_time": "2023-06-02T11:06:42.519Z"
   },
   {
    "duration": 1771,
    "start_time": "2023-06-02T11:06:42.991Z"
   },
   {
    "duration": 156,
    "start_time": "2023-06-02T11:07:09.362Z"
   },
   {
    "duration": 133,
    "start_time": "2023-06-02T11:07:39.854Z"
   },
   {
    "duration": 299,
    "start_time": "2023-06-02T11:10:04.723Z"
   },
   {
    "duration": 5,
    "start_time": "2023-06-02T11:10:32.969Z"
   },
   {
    "duration": 129,
    "start_time": "2023-06-02T11:10:33.572Z"
   },
   {
    "duration": 342,
    "start_time": "2023-06-02T11:10:36.373Z"
   },
   {
    "duration": 133,
    "start_time": "2023-06-02T11:10:43.366Z"
   },
   {
    "duration": 417,
    "start_time": "2023-06-02T11:11:17.499Z"
   },
   {
    "duration": 148,
    "start_time": "2023-06-02T11:11:18.995Z"
   },
   {
    "duration": 327,
    "start_time": "2023-06-02T11:12:03.764Z"
   },
   {
    "duration": 176,
    "start_time": "2023-06-02T11:12:04.355Z"
   },
   {
    "duration": 73,
    "start_time": "2023-06-02T11:12:58.215Z"
   },
   {
    "duration": 69,
    "start_time": "2023-06-02T11:13:35.294Z"
   },
   {
    "duration": 689,
    "start_time": "2023-06-02T11:13:50.278Z"
   },
   {
    "duration": 145,
    "start_time": "2023-06-02T11:13:53.520Z"
   },
   {
    "duration": 7,
    "start_time": "2023-06-02T11:14:53.614Z"
   },
   {
    "duration": 145,
    "start_time": "2023-06-02T11:14:59.530Z"
   },
   {
    "duration": 5,
    "start_time": "2023-06-02T11:15:34.970Z"
   },
   {
    "duration": 1860,
    "start_time": "2023-06-02T11:15:36.965Z"
   },
   {
    "duration": 2709,
    "start_time": "2023-06-02T11:15:52.465Z"
   },
   {
    "duration": 3599,
    "start_time": "2023-06-02T11:16:32.671Z"
   },
   {
    "duration": 7,
    "start_time": "2023-06-02T11:17:12.713Z"
   },
   {
    "duration": 2978,
    "start_time": "2023-06-02T11:17:13.392Z"
   },
   {
    "duration": 4013,
    "start_time": "2023-06-02T11:17:16.377Z"
   },
   {
    "duration": 154,
    "start_time": "2023-06-02T11:17:20.401Z"
   },
   {
    "duration": 23,
    "start_time": "2023-06-02T11:17:27.267Z"
   },
   {
    "duration": 6,
    "start_time": "2023-06-02T11:18:15.665Z"
   },
   {
    "duration": 150,
    "start_time": "2023-06-02T11:18:16.464Z"
   },
   {
    "duration": 701,
    "start_time": "2023-06-02T11:18:18.073Z"
   },
   {
    "duration": 138,
    "start_time": "2023-06-02T11:18:19.114Z"
   },
   {
    "duration": 11,
    "start_time": "2023-06-02T11:18:31.800Z"
   },
   {
    "duration": 163,
    "start_time": "2023-06-02T11:18:32.429Z"
   },
   {
    "duration": 699,
    "start_time": "2023-06-02T11:18:33.050Z"
   },
   {
    "duration": 189,
    "start_time": "2023-06-02T11:18:34.062Z"
   },
   {
    "duration": 628,
    "start_time": "2023-06-02T11:19:02.486Z"
   },
   {
    "duration": 178,
    "start_time": "2023-06-02T11:19:03.944Z"
   },
   {
    "duration": 805,
    "start_time": "2023-06-02T11:19:33.809Z"
   },
   {
    "duration": 8,
    "start_time": "2023-06-02T11:27:35.538Z"
   },
   {
    "duration": 27,
    "start_time": "2023-06-02T11:27:36.305Z"
   },
   {
    "duration": 99,
    "start_time": "2023-06-02T11:27:37.110Z"
   },
   {
    "duration": 2081,
    "start_time": "2023-06-02T11:30:04.702Z"
   },
   {
    "duration": 2033,
    "start_time": "2023-06-02T11:30:34.896Z"
   },
   {
    "duration": 6,
    "start_time": "2023-06-02T11:30:58.609Z"
   },
   {
    "duration": 6,
    "start_time": "2023-06-02T11:30:59.559Z"
   },
   {
    "duration": 322,
    "start_time": "2023-06-02T11:31:00.703Z"
   },
   {
    "duration": 287,
    "start_time": "2023-06-02T11:31:07.707Z"
   },
   {
    "duration": 12,
    "start_time": "2023-06-02T11:31:10.909Z"
   },
   {
    "duration": 65,
    "start_time": "2023-06-02T11:31:20.264Z"
   },
   {
    "duration": 482,
    "start_time": "2023-06-02T11:31:23.553Z"
   },
   {
    "duration": 3,
    "start_time": "2023-06-02T11:31:26.841Z"
   },
   {
    "duration": 177,
    "start_time": "2023-06-02T11:31:27.347Z"
   },
   {
    "duration": 1286,
    "start_time": "2023-06-02T11:32:39.841Z"
   },
   {
    "duration": 4,
    "start_time": "2023-06-02T11:32:47.019Z"
   },
   {
    "duration": 13,
    "start_time": "2023-06-02T11:32:47.410Z"
   },
   {
    "duration": 235,
    "start_time": "2023-06-02T11:32:47.848Z"
   },
   {
    "duration": 9,
    "start_time": "2023-06-02T11:32:48.273Z"
   },
   {
    "duration": 41,
    "start_time": "2023-06-02T11:32:48.710Z"
   },
   {
    "duration": 143,
    "start_time": "2023-06-02T11:32:49.202Z"
   },
   {
    "duration": 4,
    "start_time": "2023-06-02T11:33:11.643Z"
   },
   {
    "duration": 6,
    "start_time": "2023-06-02T11:33:12.543Z"
   },
   {
    "duration": 413,
    "start_time": "2023-06-02T11:33:14.402Z"
   },
   {
    "duration": 8,
    "start_time": "2023-06-02T11:33:15.867Z"
   },
   {
    "duration": 26,
    "start_time": "2023-06-02T11:35:41.763Z"
   },
   {
    "duration": 4,
    "start_time": "2023-06-02T11:36:22.237Z"
   },
   {
    "duration": 5,
    "start_time": "2023-06-02T11:36:40.765Z"
   },
   {
    "duration": 7,
    "start_time": "2023-06-02T11:36:47.412Z"
   },
   {
    "duration": 20,
    "start_time": "2023-06-02T11:37:30.242Z"
   },
   {
    "duration": 25,
    "start_time": "2023-06-02T11:37:37.311Z"
   },
   {
    "duration": 3,
    "start_time": "2023-06-02T12:42:48.957Z"
   },
   {
    "duration": 17,
    "start_time": "2023-06-02T12:42:49.499Z"
   },
   {
    "duration": 471,
    "start_time": "2023-06-02T12:42:50.320Z"
   },
   {
    "duration": 6,
    "start_time": "2023-06-02T12:42:52.661Z"
   },
   {
    "duration": 5,
    "start_time": "2023-06-02T12:42:53.665Z"
   },
   {
    "duration": 27,
    "start_time": "2023-06-02T12:42:57.065Z"
   },
   {
    "duration": 182,
    "start_time": "2023-06-02T12:42:58.806Z"
   },
   {
    "duration": 973,
    "start_time": "2023-06-02T12:43:39.024Z"
   },
   {
    "duration": 210,
    "start_time": "2023-06-02T12:43:50.205Z"
   },
   {
    "duration": 767,
    "start_time": "2023-06-02T12:44:36.121Z"
   },
   {
    "duration": 144,
    "start_time": "2023-06-02T12:44:37.001Z"
   },
   {
    "duration": 719,
    "start_time": "2023-06-02T12:45:22.008Z"
   },
   {
    "duration": 219,
    "start_time": "2023-06-02T12:45:22.804Z"
   },
   {
    "duration": 164,
    "start_time": "2023-06-02T12:46:07.663Z"
   },
   {
    "duration": 12,
    "start_time": "2023-06-02T12:46:34.024Z"
   },
   {
    "duration": 326,
    "start_time": "2023-06-02T12:46:34.579Z"
   },
   {
    "duration": 14,
    "start_time": "2023-06-02T12:46:39.037Z"
   },
   {
    "duration": 16,
    "start_time": "2023-06-02T12:46:40.024Z"
   },
   {
    "duration": 28,
    "start_time": "2023-06-02T12:46:40.790Z"
   },
   {
    "duration": 65,
    "start_time": "2023-06-02T12:46:41.467Z"
   },
   {
    "duration": 970,
    "start_time": "2023-06-02T12:46:45.256Z"
   },
   {
    "duration": 512,
    "start_time": "2023-06-02T12:46:46.233Z"
   },
   {
    "duration": 31,
    "start_time": "2023-06-02T12:47:43.103Z"
   },
   {
    "duration": 39,
    "start_time": "2023-06-02T12:47:55.868Z"
   },
   {
    "duration": 950,
    "start_time": "2023-06-02T12:48:06.564Z"
   },
   {
    "duration": 25,
    "start_time": "2023-06-02T12:48:42.813Z"
   },
   {
    "duration": 832,
    "start_time": "2023-06-02T12:48:45.174Z"
   },
   {
    "duration": 13,
    "start_time": "2023-06-02T12:51:47.925Z"
   },
   {
    "duration": 53,
    "start_time": "2023-06-02T12:52:38.666Z"
   },
   {
    "duration": 57,
    "start_time": "2023-06-02T12:53:25.162Z"
   },
   {
    "duration": 50,
    "start_time": "2023-06-02T12:53:57.806Z"
   },
   {
    "duration": 828,
    "start_time": "2023-06-02T12:54:58.380Z"
   },
   {
    "duration": 1834,
    "start_time": "2023-06-02T18:45:24.570Z"
   },
   {
    "duration": 187,
    "start_time": "2023-06-02T18:45:29.140Z"
   },
   {
    "duration": 19,
    "start_time": "2023-06-02T18:45:30.101Z"
   },
   {
    "duration": 47,
    "start_time": "2023-06-04T09:39:31.815Z"
   },
   {
    "duration": 1526,
    "start_time": "2023-06-04T09:39:38.165Z"
   },
   {
    "duration": 3,
    "start_time": "2023-06-04T09:39:39.693Z"
   },
   {
    "duration": 98,
    "start_time": "2023-06-04T09:39:39.697Z"
   },
   {
    "duration": 17,
    "start_time": "2023-06-04T09:39:39.797Z"
   },
   {
    "duration": 23,
    "start_time": "2023-06-04T09:39:39.816Z"
   },
   {
    "duration": 48,
    "start_time": "2023-06-04T09:39:39.841Z"
   },
   {
    "duration": 471,
    "start_time": "2023-06-04T09:39:39.891Z"
   },
   {
    "duration": 802,
    "start_time": "2023-06-04T09:39:42.925Z"
   },
   {
    "duration": 20,
    "start_time": "2023-06-04T09:39:50.197Z"
   },
   {
    "duration": 11,
    "start_time": "2023-06-04T09:40:01.408Z"
   },
   {
    "duration": 9,
    "start_time": "2023-06-04T09:40:18.152Z"
   },
   {
    "duration": 45,
    "start_time": "2023-06-04T09:47:36.267Z"
   },
   {
    "duration": 22,
    "start_time": "2023-06-04T09:49:00.985Z"
   },
   {
    "duration": 12,
    "start_time": "2023-06-04T09:49:28.905Z"
   },
   {
    "duration": 11,
    "start_time": "2023-06-04T09:49:34.926Z"
   },
   {
    "duration": 11,
    "start_time": "2023-06-04T09:49:38.709Z"
   },
   {
    "duration": 12,
    "start_time": "2023-06-04T09:49:41.458Z"
   },
   {
    "duration": 11,
    "start_time": "2023-06-04T09:49:53.394Z"
   },
   {
    "duration": 10,
    "start_time": "2023-06-04T09:49:58.403Z"
   },
   {
    "duration": 46,
    "start_time": "2023-06-04T09:56:42.734Z"
   },
   {
    "duration": 5,
    "start_time": "2023-06-04T09:56:44.974Z"
   },
   {
    "duration": 6,
    "start_time": "2023-06-04T09:56:55.909Z"
   },
   {
    "duration": 4,
    "start_time": "2023-06-04T09:57:16.893Z"
   },
   {
    "duration": 3,
    "start_time": "2023-06-04T09:57:23.048Z"
   },
   {
    "duration": 5,
    "start_time": "2023-06-04T09:57:30.128Z"
   },
   {
    "duration": 14,
    "start_time": "2023-06-04T09:58:34.890Z"
   },
   {
    "duration": 9,
    "start_time": "2023-06-04T09:58:42.222Z"
   },
   {
    "duration": 11,
    "start_time": "2023-06-04T09:58:54.625Z"
   },
   {
    "duration": 6,
    "start_time": "2023-06-04T09:59:33.010Z"
   },
   {
    "duration": 6,
    "start_time": "2023-06-04T09:59:39.134Z"
   },
   {
    "duration": 5,
    "start_time": "2023-06-04T10:00:30.328Z"
   },
   {
    "duration": 95,
    "start_time": "2023-06-04T10:01:04.149Z"
   },
   {
    "duration": 5,
    "start_time": "2023-06-04T10:01:54.121Z"
   },
   {
    "duration": 4,
    "start_time": "2023-06-04T10:02:25.543Z"
   },
   {
    "duration": 13,
    "start_time": "2023-06-04T10:02:33.113Z"
   },
   {
    "duration": 4,
    "start_time": "2023-06-04T10:02:36.498Z"
   },
   {
    "duration": 113,
    "start_time": "2023-06-04T10:03:37.386Z"
   },
   {
    "duration": 120,
    "start_time": "2023-06-04T10:04:31.158Z"
   },
   {
    "duration": 109,
    "start_time": "2023-06-04T10:05:05.564Z"
   },
   {
    "duration": 107,
    "start_time": "2023-06-04T10:06:31.280Z"
   },
   {
    "duration": 119,
    "start_time": "2023-06-04T10:07:03.695Z"
   },
   {
    "duration": 6,
    "start_time": "2023-06-04T10:11:30.838Z"
   },
   {
    "duration": 1308,
    "start_time": "2023-06-04T10:12:45.886Z"
   },
   {
    "duration": 2,
    "start_time": "2023-06-04T10:12:47.196Z"
   },
   {
    "duration": 60,
    "start_time": "2023-06-04T10:12:47.200Z"
   },
   {
    "duration": 20,
    "start_time": "2023-06-04T10:12:47.262Z"
   },
   {
    "duration": 29,
    "start_time": "2023-06-04T10:12:47.285Z"
   },
   {
    "duration": 53,
    "start_time": "2023-06-04T10:12:47.316Z"
   },
   {
    "duration": 13,
    "start_time": "2023-06-04T10:12:47.371Z"
   },
   {
    "duration": 430,
    "start_time": "2023-06-04T10:12:47.385Z"
   },
   {
    "duration": 14,
    "start_time": "2023-06-04T10:12:47.817Z"
   },
   {
    "duration": 9,
    "start_time": "2023-06-04T10:12:47.832Z"
   },
   {
    "duration": 16,
    "start_time": "2023-06-04T10:12:47.842Z"
   },
   {
    "duration": 7,
    "start_time": "2023-06-04T10:12:47.859Z"
   },
   {
    "duration": 8,
    "start_time": "2023-06-04T10:12:47.867Z"
   },
   {
    "duration": 4,
    "start_time": "2023-06-04T10:12:47.877Z"
   },
   {
    "duration": 26,
    "start_time": "2023-06-04T10:12:47.882Z"
   },
   {
    "duration": 6,
    "start_time": "2023-06-04T10:12:47.910Z"
   },
   {
    "duration": 122,
    "start_time": "2023-06-04T10:12:47.924Z"
   },
   {
    "duration": 13,
    "start_time": "2023-06-04T10:12:48.048Z"
   },
   {
    "duration": 4,
    "start_time": "2023-06-04T10:12:48.063Z"
   },
   {
    "duration": 7,
    "start_time": "2023-06-04T10:12:48.068Z"
   },
   {
    "duration": 127,
    "start_time": "2023-06-04T10:12:48.076Z"
   },
   {
    "duration": 0,
    "start_time": "2023-06-04T10:12:48.204Z"
   },
   {
    "duration": 0,
    "start_time": "2023-06-04T10:12:48.206Z"
   },
   {
    "duration": 0,
    "start_time": "2023-06-04T10:12:48.206Z"
   },
   {
    "duration": 0,
    "start_time": "2023-06-04T10:12:48.208Z"
   },
   {
    "duration": 0,
    "start_time": "2023-06-04T10:12:48.209Z"
   },
   {
    "duration": 0,
    "start_time": "2023-06-04T10:12:48.210Z"
   },
   {
    "duration": 0,
    "start_time": "2023-06-04T10:12:48.211Z"
   },
   {
    "duration": 62,
    "start_time": "2023-06-04T10:13:01.822Z"
   },
   {
    "duration": 4,
    "start_time": "2023-06-04T10:13:35.502Z"
   },
   {
    "duration": 21,
    "start_time": "2023-06-04T10:13:36.430Z"
   },
   {
    "duration": 11,
    "start_time": "2023-06-04T10:13:37.481Z"
   },
   {
    "duration": 4,
    "start_time": "2023-06-04T10:13:38.572Z"
   },
   {
    "duration": 24,
    "start_time": "2023-06-04T10:13:39.297Z"
   },
   {
    "duration": 38,
    "start_time": "2023-06-04T10:13:40.014Z"
   },
   {
    "duration": 5652,
    "start_time": "2023-06-04T10:13:41.198Z"
   },
   {
    "duration": 47,
    "start_time": "2023-06-04T10:13:46.851Z"
   },
   {
    "duration": 109918,
    "start_time": "2023-06-04T10:13:52.344Z"
   },
   {
    "duration": 1655,
    "start_time": "2023-06-04T10:32:44.680Z"
   },
   {
    "duration": 3,
    "start_time": "2023-06-04T10:32:46.336Z"
   },
   {
    "duration": 44,
    "start_time": "2023-06-04T10:32:46.340Z"
   },
   {
    "duration": 15,
    "start_time": "2023-06-04T10:32:46.386Z"
   },
   {
    "duration": 12,
    "start_time": "2023-06-04T10:32:46.403Z"
   },
   {
    "duration": 60,
    "start_time": "2023-06-04T10:32:46.417Z"
   },
   {
    "duration": 10,
    "start_time": "2023-06-04T10:32:46.478Z"
   },
   {
    "duration": 437,
    "start_time": "2023-06-04T10:32:46.490Z"
   },
   {
    "duration": 10,
    "start_time": "2023-06-04T10:32:46.929Z"
   },
   {
    "duration": 5,
    "start_time": "2023-06-04T10:32:46.941Z"
   },
   {
    "duration": 9,
    "start_time": "2023-06-04T10:32:46.948Z"
   },
   {
    "duration": 6,
    "start_time": "2023-06-04T10:32:46.958Z"
   },
   {
    "duration": 10,
    "start_time": "2023-06-04T10:32:46.966Z"
   },
   {
    "duration": 6,
    "start_time": "2023-06-04T10:32:46.977Z"
   },
   {
    "duration": 8,
    "start_time": "2023-06-04T10:32:46.984Z"
   },
   {
    "duration": 32,
    "start_time": "2023-06-04T10:32:46.993Z"
   },
   {
    "duration": 137,
    "start_time": "2023-06-04T10:32:47.027Z"
   },
   {
    "duration": 17,
    "start_time": "2023-06-04T10:32:47.165Z"
   },
   {
    "duration": 4,
    "start_time": "2023-06-04T10:32:47.183Z"
   },
   {
    "duration": 8,
    "start_time": "2023-06-04T10:32:47.188Z"
   },
   {
    "duration": 29,
    "start_time": "2023-06-04T10:32:47.197Z"
   },
   {
    "duration": 23,
    "start_time": "2023-06-04T10:32:47.227Z"
   },
   {
    "duration": 10,
    "start_time": "2023-06-04T10:32:47.252Z"
   },
   {
    "duration": 3,
    "start_time": "2023-06-04T10:32:47.264Z"
   },
   {
    "duration": 32,
    "start_time": "2023-06-04T10:32:47.269Z"
   },
   {
    "duration": 57,
    "start_time": "2023-06-04T10:32:47.302Z"
   },
   {
    "duration": 5873,
    "start_time": "2023-06-04T10:32:47.361Z"
   },
   {
    "duration": 49,
    "start_time": "2023-06-04T10:32:53.238Z"
   },
   {
    "duration": 46514,
    "start_time": "2023-06-04T10:32:53.289Z"
   },
   {
    "duration": 831,
    "start_time": "2023-06-04T10:33:39.806Z"
   },
   {
    "duration": 3,
    "start_time": "2023-06-04T10:33:40.639Z"
   },
   {
    "duration": 34590,
    "start_time": "2023-06-04T10:33:40.643Z"
   },
   {
    "duration": 503,
    "start_time": "2023-06-04T10:34:15.234Z"
   },
   {
    "duration": 88,
    "start_time": "2023-06-04T10:34:15.739Z"
   },
   {
    "duration": 96,
    "start_time": "2023-06-04T10:34:15.829Z"
   },
   {
    "duration": 6,
    "start_time": "2023-06-04T10:34:15.926Z"
   },
   {
    "duration": 13,
    "start_time": "2023-06-04T10:34:15.933Z"
   },
   {
    "duration": 5,
    "start_time": "2023-06-04T10:34:15.947Z"
   },
   {
    "duration": 7,
    "start_time": "2023-06-04T10:34:15.953Z"
   },
   {
    "duration": 964,
    "start_time": "2023-06-04T10:34:15.961Z"
   },
   {
    "duration": 10366,
    "start_time": "2023-06-04T10:34:16.927Z"
   },
   {
    "duration": 13,
    "start_time": "2023-06-04T10:34:27.294Z"
   },
   {
    "duration": 0,
    "start_time": "2023-06-04T10:34:27.309Z"
   },
   {
    "duration": 0,
    "start_time": "2023-06-04T10:34:27.309Z"
   },
   {
    "duration": 0,
    "start_time": "2023-06-04T10:34:27.310Z"
   },
   {
    "duration": 0,
    "start_time": "2023-06-04T10:34:27.311Z"
   },
   {
    "duration": 0,
    "start_time": "2023-06-04T10:34:27.312Z"
   },
   {
    "duration": 0,
    "start_time": "2023-06-04T10:34:27.313Z"
   },
   {
    "duration": 0,
    "start_time": "2023-06-04T10:34:27.314Z"
   },
   {
    "duration": 0,
    "start_time": "2023-06-04T10:34:27.316Z"
   },
   {
    "duration": 0,
    "start_time": "2023-06-04T10:34:27.317Z"
   },
   {
    "duration": 0,
    "start_time": "2023-06-04T10:34:27.318Z"
   },
   {
    "duration": 0,
    "start_time": "2023-06-04T10:34:27.319Z"
   },
   {
    "duration": 0,
    "start_time": "2023-06-04T10:34:27.320Z"
   },
   {
    "duration": 0,
    "start_time": "2023-06-04T10:34:27.321Z"
   },
   {
    "duration": 0,
    "start_time": "2023-06-04T10:34:27.322Z"
   },
   {
    "duration": 0,
    "start_time": "2023-06-04T10:34:27.323Z"
   },
   {
    "duration": 0,
    "start_time": "2023-06-04T10:34:27.324Z"
   },
   {
    "duration": 0,
    "start_time": "2023-06-04T10:34:27.325Z"
   },
   {
    "duration": 5437,
    "start_time": "2023-06-04T10:34:29.661Z"
   },
   {
    "duration": 110531,
    "start_time": "2023-06-04T10:35:13.431Z"
   },
   {
    "duration": 572,
    "start_time": "2023-06-04T10:37:03.964Z"
   },
   {
    "duration": 4,
    "start_time": "2023-06-04T10:37:04.538Z"
   },
   {
    "duration": 48787,
    "start_time": "2023-06-04T10:37:04.544Z"
   },
   {
    "duration": 93,
    "start_time": "2023-06-04T10:37:53.333Z"
   },
   {
    "duration": 97,
    "start_time": "2023-06-04T10:37:53.428Z"
   },
   {
    "duration": 28,
    "start_time": "2023-06-04T10:37:53.526Z"
   },
   {
    "duration": 27,
    "start_time": "2023-06-04T10:37:53.556Z"
   },
   {
    "duration": 49,
    "start_time": "2023-06-04T10:37:53.585Z"
   },
   {
    "duration": 14,
    "start_time": "2023-06-04T10:37:53.636Z"
   },
   {
    "duration": 7,
    "start_time": "2023-06-04T10:37:53.651Z"
   },
   {
    "duration": 777,
    "start_time": "2023-06-04T10:37:53.659Z"
   },
   {
    "duration": 33228,
    "start_time": "2023-06-04T10:37:54.526Z"
   },
   {
    "duration": 117,
    "start_time": "2023-06-04T10:38:27.755Z"
   },
   {
    "duration": 550,
    "start_time": "2023-06-04T10:38:27.874Z"
   },
   {
    "duration": 207,
    "start_time": "2023-06-04T10:38:28.427Z"
   },
   {
    "duration": 362933,
    "start_time": "2023-06-04T10:38:28.636Z"
   },
   {
    "duration": 2324,
    "start_time": "2023-06-04T10:44:31.571Z"
   },
   {
    "duration": 2778,
    "start_time": "2023-06-04T10:44:33.897Z"
   },
   {
    "duration": 115,
    "start_time": "2023-06-04T10:44:36.676Z"
   },
   {
    "duration": 3,
    "start_time": "2023-06-04T10:44:36.792Z"
   },
   {
    "duration": 35635,
    "start_time": "2023-06-04T10:44:36.796Z"
   },
   {
    "duration": 1293,
    "start_time": "2023-06-04T10:45:12.435Z"
   },
   {
    "duration": 124,
    "start_time": "2023-06-04T10:45:13.732Z"
   },
   {
    "duration": 4,
    "start_time": "2023-06-04T10:45:13.858Z"
   },
   {
    "duration": 366,
    "start_time": "2023-06-04T10:45:13.864Z"
   },
   {
    "duration": 956,
    "start_time": "2023-06-04T10:45:14.325Z"
   },
   {
    "duration": 1031,
    "start_time": "2023-06-04T10:45:15.328Z"
   },
   {
    "duration": 265,
    "start_time": "2023-06-04T10:45:16.361Z"
   },
   {
    "duration": 38,
    "start_time": "2023-06-04T10:45:16.627Z"
   },
   {
    "duration": 636,
    "start_time": "2023-06-04T10:45:16.666Z"
   },
   {
    "duration": 1311,
    "start_time": "2023-06-04T10:49:59.130Z"
   },
   {
    "duration": 4,
    "start_time": "2023-06-04T10:50:00.442Z"
   },
   {
    "duration": 52,
    "start_time": "2023-06-04T10:50:00.447Z"
   },
   {
    "duration": 44,
    "start_time": "2023-06-04T10:50:00.501Z"
   },
   {
    "duration": 40,
    "start_time": "2023-06-04T10:50:00.546Z"
   },
   {
    "duration": 56,
    "start_time": "2023-06-04T10:50:00.587Z"
   },
   {
    "duration": 87,
    "start_time": "2023-06-04T10:50:00.645Z"
   },
   {
    "duration": 463,
    "start_time": "2023-06-04T10:50:00.734Z"
   },
   {
    "duration": 11,
    "start_time": "2023-06-04T10:50:01.199Z"
   },
   {
    "duration": 24,
    "start_time": "2023-06-04T10:50:01.212Z"
   },
   {
    "duration": 35,
    "start_time": "2023-06-04T10:50:01.237Z"
   },
   {
    "duration": 33,
    "start_time": "2023-06-04T10:50:01.274Z"
   },
   {
    "duration": 29,
    "start_time": "2023-06-04T10:50:01.309Z"
   },
   {
    "duration": 30,
    "start_time": "2023-06-04T10:50:01.339Z"
   },
   {
    "duration": 50,
    "start_time": "2023-06-04T10:50:01.371Z"
   },
   {
    "duration": 41,
    "start_time": "2023-06-04T10:50:01.423Z"
   },
   {
    "duration": 143,
    "start_time": "2023-06-04T10:50:01.465Z"
   },
   {
    "duration": 22,
    "start_time": "2023-06-04T10:50:01.610Z"
   },
   {
    "duration": 8,
    "start_time": "2023-06-04T10:50:01.634Z"
   },
   {
    "duration": 72,
    "start_time": "2023-06-04T10:50:01.644Z"
   },
   {
    "duration": 34,
    "start_time": "2023-06-04T10:50:01.717Z"
   },
   {
    "duration": 60,
    "start_time": "2023-06-04T10:50:01.753Z"
   },
   {
    "duration": 12,
    "start_time": "2023-06-04T10:50:01.815Z"
   },
   {
    "duration": 23,
    "start_time": "2023-06-04T10:50:01.829Z"
   },
   {
    "duration": 52,
    "start_time": "2023-06-04T10:50:01.854Z"
   },
   {
    "duration": 68,
    "start_time": "2023-06-04T10:50:01.908Z"
   },
   {
    "duration": 6688,
    "start_time": "2023-06-04T10:50:01.978Z"
   },
   {
    "duration": 40,
    "start_time": "2023-06-04T10:50:08.670Z"
   },
   {
    "duration": 113301,
    "start_time": "2023-06-04T10:50:08.712Z"
   },
   {
    "duration": 516,
    "start_time": "2023-06-04T10:52:02.014Z"
   },
   {
    "duration": 2,
    "start_time": "2023-06-04T10:52:02.532Z"
   },
   {
    "duration": 40091,
    "start_time": "2023-06-04T10:52:02.536Z"
   },
   {
    "duration": 100,
    "start_time": "2023-06-04T10:52:42.629Z"
   },
   {
    "duration": 94,
    "start_time": "2023-06-04T10:52:42.732Z"
   },
   {
    "duration": 4,
    "start_time": "2023-06-04T10:52:42.828Z"
   },
   {
    "duration": 6,
    "start_time": "2023-06-04T10:52:42.834Z"
   },
   {
    "duration": 12,
    "start_time": "2023-06-04T10:52:42.842Z"
   },
   {
    "duration": 4,
    "start_time": "2023-06-04T10:52:42.856Z"
   },
   {
    "duration": 6,
    "start_time": "2023-06-04T10:52:42.861Z"
   },
   {
    "duration": 656,
    "start_time": "2023-06-04T10:52:42.869Z"
   },
   {
    "duration": 33501,
    "start_time": "2023-06-04T10:52:43.527Z"
   },
   {
    "duration": 99,
    "start_time": "2023-06-04T10:53:17.029Z"
   },
   {
    "duration": 503,
    "start_time": "2023-06-04T10:53:17.130Z"
   },
   {
    "duration": 197,
    "start_time": "2023-06-04T10:53:17.724Z"
   },
   {
    "duration": 363862,
    "start_time": "2023-06-04T10:53:17.924Z"
   },
   {
    "duration": 2398,
    "start_time": "2023-06-04T10:59:21.787Z"
   },
   {
    "duration": 2970,
    "start_time": "2023-06-04T10:59:24.186Z"
   },
   {
    "duration": 116,
    "start_time": "2023-06-04T10:59:27.158Z"
   },
   {
    "duration": 3,
    "start_time": "2023-06-04T10:59:27.276Z"
   },
   {
    "duration": 49651,
    "start_time": "2023-06-04T10:59:27.281Z"
   },
   {
    "duration": 1393,
    "start_time": "2023-06-04T11:00:16.934Z"
   },
   {
    "duration": 186,
    "start_time": "2023-06-04T11:00:18.424Z"
   },
   {
    "duration": 5,
    "start_time": "2023-06-04T11:00:18.611Z"
   },
   {
    "duration": 408,
    "start_time": "2023-06-04T11:00:18.617Z"
   },
   {
    "duration": 1007,
    "start_time": "2023-06-04T11:00:19.028Z"
   },
   {
    "duration": 1186,
    "start_time": "2023-06-04T11:00:20.038Z"
   },
   {
    "duration": 203,
    "start_time": "2023-06-04T11:00:21.227Z"
   },
   {
    "duration": 38,
    "start_time": "2023-06-04T11:00:21.431Z"
   },
   {
    "duration": 666,
    "start_time": "2023-06-04T11:00:21.471Z"
   },
   {
    "duration": 5,
    "start_time": "2023-06-04T11:12:12.290Z"
   },
   {
    "duration": 6,
    "start_time": "2023-06-04T11:12:16.533Z"
   },
   {
    "duration": 82,
    "start_time": "2023-06-04T11:12:21.127Z"
   },
   {
    "duration": 60,
    "start_time": "2023-06-04T11:13:05.034Z"
   },
   {
    "duration": 12,
    "start_time": "2023-06-04T11:14:08.186Z"
   },
   {
    "duration": 1938,
    "start_time": "2023-06-04T11:14:27.975Z"
   },
   {
    "duration": 2285,
    "start_time": "2023-06-04T11:14:40.763Z"
   },
   {
    "duration": 4,
    "start_time": "2023-06-04T11:14:59.123Z"
   },
   {
    "duration": 14,
    "start_time": "2023-06-04T11:14:59.942Z"
   },
   {
    "duration": 600,
    "start_time": "2023-06-04T11:15:22.929Z"
   },
   {
    "duration": 571,
    "start_time": "2023-06-04T11:15:27.254Z"
   },
   {
    "duration": 101,
    "start_time": "2023-06-04T11:15:28.246Z"
   },
   {
    "duration": 117,
    "start_time": "2023-06-04T11:17:02.589Z"
   },
   {
    "duration": 118,
    "start_time": "2023-06-04T11:17:59.829Z"
   },
   {
    "duration": 9,
    "start_time": "2023-06-04T11:18:25.897Z"
   },
   {
    "duration": 199,
    "start_time": "2023-06-04T11:18:39.243Z"
   },
   {
    "duration": 110,
    "start_time": "2023-06-04T11:19:09.995Z"
   },
   {
    "duration": 52,
    "start_time": "2023-06-05T07:26:38.858Z"
   },
   {
    "duration": 1631,
    "start_time": "2023-06-05T07:27:05.974Z"
   },
   {
    "duration": 2,
    "start_time": "2023-06-05T07:27:07.608Z"
   },
   {
    "duration": 84,
    "start_time": "2023-06-05T07:27:07.612Z"
   },
   {
    "duration": 17,
    "start_time": "2023-06-05T07:27:07.698Z"
   },
   {
    "duration": 14,
    "start_time": "2023-06-05T07:27:07.717Z"
   },
   {
    "duration": 41,
    "start_time": "2023-06-05T07:27:07.732Z"
   },
   {
    "duration": 11,
    "start_time": "2023-06-05T07:27:07.978Z"
   },
   {
    "duration": 468,
    "start_time": "2023-06-05T07:27:08.438Z"
   },
   {
    "duration": 9,
    "start_time": "2023-06-05T07:27:09.089Z"
   },
   {
    "duration": 4,
    "start_time": "2023-06-05T07:27:09.471Z"
   },
   {
    "duration": 5,
    "start_time": "2023-06-05T07:27:09.811Z"
   },
   {
    "duration": 77,
    "start_time": "2023-06-05T07:27:21.560Z"
   },
   {
    "duration": 1423,
    "start_time": "2023-06-05T07:27:35.194Z"
   },
   {
    "duration": 3,
    "start_time": "2023-06-05T07:27:36.619Z"
   },
   {
    "duration": 48,
    "start_time": "2023-06-05T07:27:36.624Z"
   },
   {
    "duration": 18,
    "start_time": "2023-06-05T07:27:36.674Z"
   },
   {
    "duration": 20,
    "start_time": "2023-06-05T07:27:36.693Z"
   },
   {
    "duration": 39,
    "start_time": "2023-06-05T07:27:36.715Z"
   },
   {
    "duration": 11,
    "start_time": "2023-06-05T07:27:36.756Z"
   },
   {
    "duration": 423,
    "start_time": "2023-06-05T07:27:36.768Z"
   },
   {
    "duration": 10,
    "start_time": "2023-06-05T07:27:37.193Z"
   },
   {
    "duration": 4,
    "start_time": "2023-06-05T07:27:37.206Z"
   },
   {
    "duration": 25,
    "start_time": "2023-06-05T07:27:37.212Z"
   },
   {
    "duration": 40,
    "start_time": "2023-06-05T07:27:37.241Z"
   },
   {
    "duration": 8,
    "start_time": "2023-06-05T07:27:37.282Z"
   },
   {
    "duration": 19,
    "start_time": "2023-06-05T07:27:37.292Z"
   },
   {
    "duration": 10,
    "start_time": "2023-06-05T07:27:37.313Z"
   },
   {
    "duration": 8,
    "start_time": "2023-06-05T07:27:37.324Z"
   },
   {
    "duration": 125,
    "start_time": "2023-06-05T07:27:37.334Z"
   },
   {
    "duration": 15,
    "start_time": "2023-06-05T07:27:37.461Z"
   },
   {
    "duration": 4,
    "start_time": "2023-06-05T07:27:37.478Z"
   },
   {
    "duration": 13,
    "start_time": "2023-06-05T07:27:37.483Z"
   },
   {
    "duration": 16,
    "start_time": "2023-06-05T07:27:37.498Z"
   },
   {
    "duration": 32,
    "start_time": "2023-06-05T07:27:37.516Z"
   },
   {
    "duration": 12,
    "start_time": "2023-06-05T07:27:37.550Z"
   },
   {
    "duration": 8,
    "start_time": "2023-06-05T07:27:37.563Z"
   },
   {
    "duration": 25,
    "start_time": "2023-06-05T07:27:37.573Z"
   },
   {
    "duration": 57,
    "start_time": "2023-06-05T07:27:37.600Z"
   },
   {
    "duration": 5653,
    "start_time": "2023-06-05T07:27:37.659Z"
   },
   {
    "duration": 52,
    "start_time": "2023-06-05T07:27:43.317Z"
   },
   {
    "duration": 20808,
    "start_time": "2023-06-05T07:27:43.371Z"
   },
   {
    "duration": 728,
    "start_time": "2023-06-05T07:28:04.181Z"
   },
   {
    "duration": 3,
    "start_time": "2023-06-05T07:28:04.911Z"
   },
   {
    "duration": 32831,
    "start_time": "2023-06-05T07:28:04.915Z"
   },
   {
    "duration": 94,
    "start_time": "2023-06-05T07:28:37.748Z"
   },
   {
    "duration": 98,
    "start_time": "2023-06-05T07:28:37.844Z"
   },
   {
    "duration": 4,
    "start_time": "2023-06-05T07:28:37.944Z"
   },
   {
    "duration": 23,
    "start_time": "2023-06-05T07:28:37.949Z"
   },
   {
    "duration": 15,
    "start_time": "2023-06-05T07:28:37.973Z"
   },
   {
    "duration": 4,
    "start_time": "2023-06-05T07:28:37.990Z"
   },
   {
    "duration": 15,
    "start_time": "2023-06-05T07:28:37.995Z"
   },
   {
    "duration": 534,
    "start_time": "2023-06-05T07:28:38.011Z"
   },
   {
    "duration": 118,
    "start_time": "2023-06-05T07:29:12.192Z"
   },
   {
    "duration": 531,
    "start_time": "2023-06-05T07:29:12.312Z"
   },
   {
    "duration": 212,
    "start_time": "2023-06-05T07:29:12.848Z"
   },
   {
    "duration": 382481,
    "start_time": "2023-06-05T07:29:13.062Z"
   },
   {
    "duration": 2421,
    "start_time": "2023-06-05T07:35:35.544Z"
   },
   {
    "duration": 2960,
    "start_time": "2023-06-05T07:35:37.966Z"
   },
   {
    "duration": 122,
    "start_time": "2023-06-05T07:35:40.928Z"
   },
   {
    "duration": 3,
    "start_time": "2023-06-05T07:35:41.051Z"
   },
   {
    "duration": 31394,
    "start_time": "2023-06-05T07:35:41.056Z"
   },
   {
    "duration": 1091,
    "start_time": "2023-06-05T07:36:12.452Z"
   },
   {
    "duration": 2445,
    "start_time": "2023-06-05T07:36:13.545Z"
   },
   {
    "duration": 4,
    "start_time": "2023-06-05T07:36:15.993Z"
   },
   {
    "duration": 37,
    "start_time": "2023-06-05T07:36:15.999Z"
   },
   {
    "duration": 626,
    "start_time": "2023-06-05T07:36:16.038Z"
   },
   {
    "duration": 785,
    "start_time": "2023-06-05T07:36:16.666Z"
   },
   {
    "duration": 298,
    "start_time": "2023-06-05T07:36:17.453Z"
   },
   {
    "duration": 718,
    "start_time": "2023-06-05T07:36:17.879Z"
   },
   {
    "duration": 122,
    "start_time": "2023-06-05T07:36:18.602Z"
   },
   {
    "duration": 34298,
    "start_time": "2023-06-05T07:36:18.726Z"
   },
   {
    "duration": 475,
    "start_time": "2023-06-05T07:36:53.026Z"
   },
   {
    "duration": 117,
    "start_time": "2023-06-05T07:36:53.503Z"
   },
   {
    "duration": 492,
    "start_time": "2023-06-05T07:40:24.104Z"
   },
   {
    "duration": 125,
    "start_time": "2023-06-05T07:40:25.583Z"
   },
   {
    "duration": 10,
    "start_time": "2023-06-05T07:40:26.278Z"
   },
   {
    "duration": 8,
    "start_time": "2023-06-05T07:40:45.187Z"
   },
   {
    "duration": 13,
    "start_time": "2023-06-05T07:42:40.821Z"
   },
   {
    "duration": 49402,
    "start_time": "2023-06-05T07:44:33.076Z"
   },
   {
    "duration": 19140,
    "start_time": "2023-06-05T07:45:54.681Z"
   },
   {
    "duration": 76,
    "start_time": "2023-06-05T07:47:33.912Z"
   },
   {
    "duration": 14688,
    "start_time": "2023-06-05T07:47:49.501Z"
   },
   {
    "duration": 76,
    "start_time": "2023-06-05T07:48:55.110Z"
   },
   {
    "duration": 63,
    "start_time": "2023-06-05T07:49:21.135Z"
   },
   {
    "duration": 6292,
    "start_time": "2023-06-05T07:52:47.284Z"
   },
   {
    "duration": 40,
    "start_time": "2023-06-05T07:52:53.578Z"
   },
   {
    "duration": 123780,
    "start_time": "2023-06-05T07:52:53.620Z"
   },
   {
    "duration": 596,
    "start_time": "2023-06-05T07:54:57.403Z"
   },
   {
    "duration": 3,
    "start_time": "2023-06-05T07:54:58.002Z"
   },
   {
    "duration": 8468,
    "start_time": "2023-06-05T07:54:58.007Z"
   },
   {
    "duration": 14,
    "start_time": "2023-06-05T07:55:06.477Z"
   },
   {
    "duration": 0,
    "start_time": "2023-06-05T07:55:06.494Z"
   },
   {
    "duration": 0,
    "start_time": "2023-06-05T07:55:06.496Z"
   },
   {
    "duration": 13,
    "start_time": "2023-06-05T07:55:08.548Z"
   },
   {
    "duration": 9,
    "start_time": "2023-06-05T07:55:09.072Z"
   },
   {
    "duration": 1466,
    "start_time": "2023-06-05T07:55:42.707Z"
   },
   {
    "duration": 5,
    "start_time": "2023-06-05T07:55:44.175Z"
   },
   {
    "duration": 61,
    "start_time": "2023-06-05T07:55:44.182Z"
   },
   {
    "duration": 19,
    "start_time": "2023-06-05T07:55:44.245Z"
   },
   {
    "duration": 21,
    "start_time": "2023-06-05T07:55:44.266Z"
   },
   {
    "duration": 62,
    "start_time": "2023-06-05T07:55:44.288Z"
   },
   {
    "duration": 13,
    "start_time": "2023-06-05T07:55:44.351Z"
   },
   {
    "duration": 411,
    "start_time": "2023-06-05T07:55:44.366Z"
   },
   {
    "duration": 11,
    "start_time": "2023-06-05T07:55:44.779Z"
   },
   {
    "duration": 5,
    "start_time": "2023-06-05T07:55:44.793Z"
   },
   {
    "duration": 12,
    "start_time": "2023-06-05T07:55:44.799Z"
   },
   {
    "duration": 8,
    "start_time": "2023-06-05T07:55:44.813Z"
   },
   {
    "duration": 6,
    "start_time": "2023-06-05T07:55:44.843Z"
   },
   {
    "duration": 6,
    "start_time": "2023-06-05T07:55:44.850Z"
   },
   {
    "duration": 6,
    "start_time": "2023-06-05T07:55:44.858Z"
   },
   {
    "duration": 5,
    "start_time": "2023-06-05T07:55:44.866Z"
   },
   {
    "duration": 145,
    "start_time": "2023-06-05T07:55:44.873Z"
   },
   {
    "duration": 28,
    "start_time": "2023-06-05T07:55:45.020Z"
   },
   {
    "duration": 49,
    "start_time": "2023-06-05T07:55:45.050Z"
   },
   {
    "duration": 51,
    "start_time": "2023-06-05T07:55:45.101Z"
   },
   {
    "duration": 44,
    "start_time": "2023-06-05T07:55:45.153Z"
   },
   {
    "duration": 52,
    "start_time": "2023-06-05T07:55:45.199Z"
   },
   {
    "duration": 31,
    "start_time": "2023-06-05T07:55:45.253Z"
   },
   {
    "duration": 54,
    "start_time": "2023-06-05T07:55:45.286Z"
   },
   {
    "duration": 58,
    "start_time": "2023-06-05T07:55:45.343Z"
   },
   {
    "duration": 78,
    "start_time": "2023-06-05T07:55:45.404Z"
   },
   {
    "duration": 6398,
    "start_time": "2023-06-05T07:55:45.484Z"
   },
   {
    "duration": 59,
    "start_time": "2023-06-05T07:55:51.887Z"
   },
   {
    "duration": 127918,
    "start_time": "2023-06-05T07:55:51.949Z"
   },
   {
    "duration": 655,
    "start_time": "2023-06-05T07:57:59.869Z"
   },
   {
    "duration": 2,
    "start_time": "2023-06-05T07:58:00.526Z"
   },
   {
    "duration": 40615,
    "start_time": "2023-06-05T07:58:00.530Z"
   },
   {
    "duration": 97,
    "start_time": "2023-06-05T07:58:41.147Z"
   },
   {
    "duration": 94,
    "start_time": "2023-06-05T07:58:41.249Z"
   },
   {
    "duration": 4,
    "start_time": "2023-06-05T07:58:41.345Z"
   },
   {
    "duration": 14,
    "start_time": "2023-06-05T07:58:41.351Z"
   },
   {
    "duration": 18,
    "start_time": "2023-06-05T07:58:41.366Z"
   },
   {
    "duration": 6,
    "start_time": "2023-06-05T07:58:41.386Z"
   },
   {
    "duration": 14,
    "start_time": "2023-06-05T07:58:41.394Z"
   },
   {
    "duration": 15,
    "start_time": "2023-06-05T07:58:41.410Z"
   },
   {
    "duration": 625,
    "start_time": "2023-06-05T07:58:41.426Z"
   },
   {
    "duration": 245,
    "start_time": "2023-06-05T07:58:42.053Z"
   },
   {
    "duration": 51,
    "start_time": "2023-06-05T07:59:15.355Z"
   },
   {
    "duration": 33,
    "start_time": "2023-06-05T08:00:00.279Z"
   },
   {
    "duration": 38,
    "start_time": "2023-06-05T08:00:07.062Z"
   },
   {
    "duration": 38,
    "start_time": "2023-06-05T08:00:35.664Z"
   },
   {
    "duration": 59,
    "start_time": "2023-06-05T08:00:48.050Z"
   },
   {
    "duration": 42,
    "start_time": "2023-06-05T08:01:00.661Z"
   },
   {
    "duration": 43,
    "start_time": "2023-06-05T08:02:11.942Z"
   },
   {
    "duration": 42,
    "start_time": "2023-06-05T08:02:23.051Z"
   },
   {
    "duration": 40,
    "start_time": "2023-06-05T08:02:42.973Z"
   },
   {
    "duration": 482,
    "start_time": "2023-06-05T08:04:21.297Z"
   },
   {
    "duration": 130,
    "start_time": "2023-06-05T08:04:24.709Z"
   },
   {
    "duration": 26,
    "start_time": "2023-06-05T08:04:28.416Z"
   },
   {
    "duration": 47,
    "start_time": "2023-06-05T08:05:31.403Z"
   },
   {
    "duration": 2162,
    "start_time": "2023-06-05T08:10:31.979Z"
   },
   {
    "duration": 1629,
    "start_time": "2023-06-05T08:11:53.056Z"
   },
   {
    "duration": 75,
    "start_time": "2023-06-05T08:14:44.475Z"
   },
   {
    "duration": 1579,
    "start_time": "2023-06-05T08:14:49.876Z"
   },
   {
    "duration": 892,
    "start_time": "2023-06-05T08:15:04.142Z"
   },
   {
    "duration": 939,
    "start_time": "2023-06-05T08:15:16.719Z"
   },
   {
    "duration": 977,
    "start_time": "2023-06-05T08:15:22.856Z"
   },
   {
    "duration": 949,
    "start_time": "2023-06-05T08:15:32.799Z"
   },
   {
    "duration": 956,
    "start_time": "2023-06-05T08:18:39.193Z"
   },
   {
    "duration": 993,
    "start_time": "2023-06-05T08:23:04.462Z"
   },
   {
    "duration": 2946,
    "start_time": "2023-06-05T08:23:50.160Z"
   },
   {
    "duration": 3172,
    "start_time": "2023-06-05T08:23:58.936Z"
   },
   {
    "duration": 119,
    "start_time": "2023-06-05T08:24:06.852Z"
   },
   {
    "duration": 3129,
    "start_time": "2023-06-05T08:25:16.366Z"
   },
   {
    "duration": 126,
    "start_time": "2023-06-05T08:25:21.928Z"
   },
   {
    "duration": 111,
    "start_time": "2023-06-05T08:26:23.121Z"
   },
   {
    "duration": 48,
    "start_time": "2023-06-05T08:26:51.268Z"
   },
   {
    "duration": 42,
    "start_time": "2023-06-05T08:27:19.010Z"
   },
   {
    "duration": 1957,
    "start_time": "2023-06-05T08:37:47.393Z"
   },
   {
    "duration": 3,
    "start_time": "2023-06-05T08:37:49.353Z"
   },
   {
    "duration": 95,
    "start_time": "2023-06-05T08:37:49.358Z"
   },
   {
    "duration": 22,
    "start_time": "2023-06-05T08:37:49.455Z"
   },
   {
    "duration": 47,
    "start_time": "2023-06-05T08:37:49.479Z"
   },
   {
    "duration": 88,
    "start_time": "2023-06-05T08:37:49.529Z"
   },
   {
    "duration": 25,
    "start_time": "2023-06-05T08:37:49.620Z"
   },
   {
    "duration": 505,
    "start_time": "2023-06-05T08:37:49.648Z"
   },
   {
    "duration": 14,
    "start_time": "2023-06-05T08:37:50.155Z"
   },
   {
    "duration": 34,
    "start_time": "2023-06-05T08:37:50.174Z"
   },
   {
    "duration": 41,
    "start_time": "2023-06-05T08:37:50.210Z"
   },
   {
    "duration": 53,
    "start_time": "2023-06-05T08:37:50.254Z"
   },
   {
    "duration": 44,
    "start_time": "2023-06-05T08:37:50.310Z"
   },
   {
    "duration": 56,
    "start_time": "2023-06-05T08:37:50.357Z"
   },
   {
    "duration": 22,
    "start_time": "2023-06-05T08:37:50.416Z"
   },
   {
    "duration": 37,
    "start_time": "2023-06-05T08:37:50.441Z"
   },
   {
    "duration": 202,
    "start_time": "2023-06-05T08:37:50.480Z"
   },
   {
    "duration": 23,
    "start_time": "2023-06-05T08:37:50.684Z"
   },
   {
    "duration": 40,
    "start_time": "2023-06-05T08:37:50.711Z"
   },
   {
    "duration": 41,
    "start_time": "2023-06-05T08:37:50.753Z"
   },
   {
    "duration": 30,
    "start_time": "2023-06-05T08:37:50.796Z"
   },
   {
    "duration": 130,
    "start_time": "2023-06-05T08:37:50.829Z"
   },
   {
    "duration": 63,
    "start_time": "2023-06-05T08:37:50.961Z"
   },
   {
    "duration": 60,
    "start_time": "2023-06-05T08:37:51.026Z"
   },
   {
    "duration": 49,
    "start_time": "2023-06-05T08:37:51.088Z"
   },
   {
    "duration": 66,
    "start_time": "2023-06-05T08:37:51.139Z"
   },
   {
    "duration": 5300,
    "start_time": "2023-06-05T08:37:51.207Z"
   },
   {
    "duration": 55,
    "start_time": "2023-06-05T08:37:56.512Z"
   },
   {
    "duration": 51629,
    "start_time": "2023-06-05T08:37:56.569Z"
   },
   {
    "duration": 802,
    "start_time": "2023-06-05T08:38:48.200Z"
   },
   {
    "duration": 3,
    "start_time": "2023-06-05T08:38:49.004Z"
   },
   {
    "duration": 5570,
    "start_time": "2023-06-05T08:38:49.009Z"
   },
   {
    "duration": 15,
    "start_time": "2023-06-05T08:38:54.581Z"
   },
   {
    "duration": 0,
    "start_time": "2023-06-05T08:38:54.598Z"
   },
   {
    "duration": 0,
    "start_time": "2023-06-05T08:38:54.600Z"
   },
   {
    "duration": 0,
    "start_time": "2023-06-05T08:38:54.601Z"
   },
   {
    "duration": 0,
    "start_time": "2023-06-05T08:38:54.602Z"
   },
   {
    "duration": 0,
    "start_time": "2023-06-05T08:38:54.603Z"
   },
   {
    "duration": 0,
    "start_time": "2023-06-05T08:38:54.605Z"
   },
   {
    "duration": 0,
    "start_time": "2023-06-05T08:38:54.605Z"
   },
   {
    "duration": 0,
    "start_time": "2023-06-05T08:38:54.606Z"
   },
   {
    "duration": 0,
    "start_time": "2023-06-05T08:38:54.607Z"
   },
   {
    "duration": 0,
    "start_time": "2023-06-05T08:38:54.609Z"
   },
   {
    "duration": 0,
    "start_time": "2023-06-05T08:38:54.609Z"
   },
   {
    "duration": 0,
    "start_time": "2023-06-05T08:38:54.610Z"
   },
   {
    "duration": 0,
    "start_time": "2023-06-05T08:38:54.611Z"
   },
   {
    "duration": 0,
    "start_time": "2023-06-05T08:38:54.612Z"
   },
   {
    "duration": 0,
    "start_time": "2023-06-05T08:38:54.613Z"
   },
   {
    "duration": 0,
    "start_time": "2023-06-05T08:38:54.642Z"
   },
   {
    "duration": 0,
    "start_time": "2023-06-05T08:38:54.644Z"
   },
   {
    "duration": 0,
    "start_time": "2023-06-05T08:38:54.645Z"
   },
   {
    "duration": 0,
    "start_time": "2023-06-05T08:38:54.647Z"
   },
   {
    "duration": 0,
    "start_time": "2023-06-05T08:38:54.648Z"
   },
   {
    "duration": 0,
    "start_time": "2023-06-05T08:38:54.649Z"
   },
   {
    "duration": 0,
    "start_time": "2023-06-05T08:38:54.650Z"
   },
   {
    "duration": 0,
    "start_time": "2023-06-05T08:38:54.651Z"
   },
   {
    "duration": 0,
    "start_time": "2023-06-05T08:38:54.652Z"
   },
   {
    "duration": 0,
    "start_time": "2023-06-05T08:38:54.655Z"
   },
   {
    "duration": 0,
    "start_time": "2023-06-05T08:38:54.656Z"
   },
   {
    "duration": 0,
    "start_time": "2023-06-05T08:38:54.657Z"
   },
   {
    "duration": 0,
    "start_time": "2023-06-05T08:38:54.658Z"
   },
   {
    "duration": 0,
    "start_time": "2023-06-05T08:38:54.659Z"
   },
   {
    "duration": 0,
    "start_time": "2023-06-05T08:38:54.665Z"
   },
   {
    "duration": 0,
    "start_time": "2023-06-05T08:38:54.666Z"
   },
   {
    "duration": 4753,
    "start_time": "2023-06-05T08:38:56.829Z"
   },
   {
    "duration": 60,
    "start_time": "2023-06-05T08:39:01.584Z"
   },
   {
    "duration": 47,
    "start_time": "2023-06-05T08:39:24.136Z"
   },
   {
    "duration": 4757,
    "start_time": "2023-06-05T08:40:07.159Z"
   },
   {
    "duration": 42,
    "start_time": "2023-06-05T08:40:11.918Z"
   },
   {
    "duration": 97152,
    "start_time": "2023-06-05T08:40:16.038Z"
   },
   {
    "duration": 13,
    "start_time": "2023-06-05T08:42:12.619Z"
   },
   {
    "duration": 13,
    "start_time": "2023-06-05T08:42:17.010Z"
   },
   {
    "duration": 13,
    "start_time": "2023-06-05T08:42:17.474Z"
   },
   {
    "duration": 598,
    "start_time": "2023-06-05T08:43:04.817Z"
   },
   {
    "duration": 630,
    "start_time": "2023-06-05T08:43:46.576Z"
   },
   {
    "duration": 630,
    "start_time": "2023-06-05T08:44:23.459Z"
   },
   {
    "duration": 583,
    "start_time": "2023-06-05T08:44:40.530Z"
   },
   {
    "duration": 4664,
    "start_time": "2023-06-05T08:44:51.025Z"
   },
   {
    "duration": 36,
    "start_time": "2023-06-05T08:44:55.691Z"
   },
   {
    "duration": 47,
    "start_time": "2023-06-05T08:44:55.729Z"
   },
   {
    "duration": 3,
    "start_time": "2023-06-05T08:46:19.953Z"
   },
   {
    "duration": 37345,
    "start_time": "2023-06-05T08:46:23.905Z"
   },
   {
    "duration": 367,
    "start_time": "2023-06-05T08:48:04.876Z"
   },
   {
    "duration": 45,
    "start_time": "2023-06-05T08:48:06.107Z"
   },
   {
    "duration": 5,
    "start_time": "2023-06-05T08:48:56.538Z"
   },
   {
    "duration": 4,
    "start_time": "2023-06-05T08:48:56.853Z"
   },
   {
    "duration": 4,
    "start_time": "2023-06-05T08:48:57.798Z"
   },
   {
    "duration": 14,
    "start_time": "2023-06-05T08:48:58.226Z"
   },
   {
    "duration": 7,
    "start_time": "2023-06-05T08:48:58.659Z"
   },
   {
    "duration": 5,
    "start_time": "2023-06-05T08:48:59.301Z"
   },
   {
    "duration": 5,
    "start_time": "2023-06-05T08:48:59.605Z"
   },
   {
    "duration": 10,
    "start_time": "2023-06-05T08:49:13.849Z"
   },
   {
    "duration": 7,
    "start_time": "2023-06-05T08:49:19.473Z"
   },
   {
    "duration": 5,
    "start_time": "2023-06-05T08:49:19.756Z"
   },
   {
    "duration": 530,
    "start_time": "2023-06-05T08:49:20.720Z"
   },
   {
    "duration": 30194,
    "start_time": "2023-06-05T08:49:22.278Z"
   },
   {
    "duration": 39,
    "start_time": "2023-06-05T08:49:56.262Z"
   },
   {
    "duration": 52,
    "start_time": "2023-06-05T08:51:06.011Z"
   },
   {
    "duration": 44,
    "start_time": "2023-06-05T08:51:58.957Z"
   },
   {
    "duration": 1512,
    "start_time": "2023-06-05T08:52:20.065Z"
   },
   {
    "duration": 3,
    "start_time": "2023-06-05T08:52:21.580Z"
   },
   {
    "duration": 63,
    "start_time": "2023-06-05T08:52:21.585Z"
   },
   {
    "duration": 17,
    "start_time": "2023-06-05T08:52:21.650Z"
   },
   {
    "duration": 22,
    "start_time": "2023-06-05T08:52:21.670Z"
   },
   {
    "duration": 56,
    "start_time": "2023-06-05T08:52:21.694Z"
   },
   {
    "duration": 16,
    "start_time": "2023-06-05T08:52:21.752Z"
   },
   {
    "duration": 424,
    "start_time": "2023-06-05T08:52:21.770Z"
   },
   {
    "duration": 10,
    "start_time": "2023-06-05T08:52:22.196Z"
   },
   {
    "duration": 28,
    "start_time": "2023-06-05T08:52:22.208Z"
   },
   {
    "duration": 15,
    "start_time": "2023-06-05T08:52:22.237Z"
   },
   {
    "duration": 10,
    "start_time": "2023-06-05T08:52:22.254Z"
   },
   {
    "duration": 19,
    "start_time": "2023-06-05T08:52:22.265Z"
   },
   {
    "duration": 27,
    "start_time": "2023-06-05T08:52:22.288Z"
   },
   {
    "duration": 26,
    "start_time": "2023-06-05T08:52:22.317Z"
   },
   {
    "duration": 13,
    "start_time": "2023-06-05T08:52:22.345Z"
   },
   {
    "duration": 176,
    "start_time": "2023-06-05T08:52:22.360Z"
   },
   {
    "duration": 17,
    "start_time": "2023-06-05T08:52:22.538Z"
   },
   {
    "duration": 11,
    "start_time": "2023-06-05T08:52:22.557Z"
   },
   {
    "duration": 28,
    "start_time": "2023-06-05T08:52:22.569Z"
   },
   {
    "duration": 18,
    "start_time": "2023-06-05T08:52:22.599Z"
   },
   {
    "duration": 32,
    "start_time": "2023-06-05T08:52:22.618Z"
   },
   {
    "duration": 18,
    "start_time": "2023-06-05T08:52:22.652Z"
   },
   {
    "duration": 4,
    "start_time": "2023-06-05T08:52:22.672Z"
   },
   {
    "duration": 26,
    "start_time": "2023-06-05T08:52:22.678Z"
   },
   {
    "duration": 68,
    "start_time": "2023-06-05T08:52:22.706Z"
   },
   {
    "duration": 5121,
    "start_time": "2023-06-05T08:52:22.776Z"
   },
   {
    "duration": 45,
    "start_time": "2023-06-05T08:52:27.899Z"
   },
   {
    "duration": 38,
    "start_time": "2023-06-05T08:52:27.946Z"
   },
   {
    "duration": 71,
    "start_time": "2023-06-05T08:52:27.986Z"
   },
   {
    "duration": 0,
    "start_time": "2023-06-05T08:52:28.059Z"
   },
   {
    "duration": 0,
    "start_time": "2023-06-05T08:52:28.060Z"
   },
   {
    "duration": 0,
    "start_time": "2023-06-05T08:52:28.062Z"
   },
   {
    "duration": 0,
    "start_time": "2023-06-05T08:52:28.063Z"
   },
   {
    "duration": 0,
    "start_time": "2023-06-05T08:52:28.064Z"
   },
   {
    "duration": 0,
    "start_time": "2023-06-05T08:52:28.065Z"
   },
   {
    "duration": 0,
    "start_time": "2023-06-05T08:52:28.066Z"
   },
   {
    "duration": 0,
    "start_time": "2023-06-05T08:52:28.067Z"
   },
   {
    "duration": 0,
    "start_time": "2023-06-05T08:52:28.068Z"
   },
   {
    "duration": 0,
    "start_time": "2023-06-05T08:52:28.072Z"
   },
   {
    "duration": 0,
    "start_time": "2023-06-05T08:52:28.073Z"
   },
   {
    "duration": 0,
    "start_time": "2023-06-05T08:52:28.074Z"
   },
   {
    "duration": 0,
    "start_time": "2023-06-05T08:52:28.076Z"
   },
   {
    "duration": 0,
    "start_time": "2023-06-05T08:52:28.078Z"
   },
   {
    "duration": 0,
    "start_time": "2023-06-05T08:52:28.079Z"
   },
   {
    "duration": 0,
    "start_time": "2023-06-05T08:52:28.080Z"
   },
   {
    "duration": 0,
    "start_time": "2023-06-05T08:52:28.082Z"
   },
   {
    "duration": 0,
    "start_time": "2023-06-05T08:52:28.084Z"
   },
   {
    "duration": 0,
    "start_time": "2023-06-05T08:52:28.086Z"
   },
   {
    "duration": 0,
    "start_time": "2023-06-05T08:52:28.088Z"
   },
   {
    "duration": 0,
    "start_time": "2023-06-05T08:52:28.089Z"
   },
   {
    "duration": 0,
    "start_time": "2023-06-05T08:52:28.091Z"
   },
   {
    "duration": 0,
    "start_time": "2023-06-05T08:52:28.093Z"
   },
   {
    "duration": 0,
    "start_time": "2023-06-05T08:52:28.094Z"
   },
   {
    "duration": 0,
    "start_time": "2023-06-05T08:52:28.095Z"
   },
   {
    "duration": 0,
    "start_time": "2023-06-05T08:52:28.096Z"
   },
   {
    "duration": 0,
    "start_time": "2023-06-05T08:52:28.097Z"
   },
   {
    "duration": 0,
    "start_time": "2023-06-05T08:52:28.143Z"
   },
   {
    "duration": 0,
    "start_time": "2023-06-05T08:52:28.144Z"
   },
   {
    "duration": 0,
    "start_time": "2023-06-05T08:52:28.145Z"
   },
   {
    "duration": 0,
    "start_time": "2023-06-05T08:52:28.147Z"
   },
   {
    "duration": 0,
    "start_time": "2023-06-05T08:52:28.148Z"
   },
   {
    "duration": 0,
    "start_time": "2023-06-05T08:52:28.149Z"
   },
   {
    "duration": 0,
    "start_time": "2023-06-05T08:52:28.149Z"
   },
   {
    "duration": 4925,
    "start_time": "2023-06-05T08:53:21.468Z"
   },
   {
    "duration": 9309,
    "start_time": "2023-06-05T08:53:48.076Z"
   },
   {
    "duration": 1648,
    "start_time": "2023-06-05T08:54:02.045Z"
   },
   {
    "duration": 3,
    "start_time": "2023-06-05T08:54:03.695Z"
   },
   {
    "duration": 58,
    "start_time": "2023-06-05T08:54:03.699Z"
   },
   {
    "duration": 16,
    "start_time": "2023-06-05T08:54:03.758Z"
   },
   {
    "duration": 21,
    "start_time": "2023-06-05T08:54:03.776Z"
   },
   {
    "duration": 56,
    "start_time": "2023-06-05T08:54:03.799Z"
   },
   {
    "duration": 11,
    "start_time": "2023-06-05T08:54:03.857Z"
   },
   {
    "duration": 425,
    "start_time": "2023-06-05T08:54:03.870Z"
   },
   {
    "duration": 10,
    "start_time": "2023-06-05T08:54:04.298Z"
   },
   {
    "duration": 26,
    "start_time": "2023-06-05T08:54:04.309Z"
   },
   {
    "duration": 7,
    "start_time": "2023-06-05T08:54:04.337Z"
   },
   {
    "duration": 34,
    "start_time": "2023-06-05T08:54:04.346Z"
   },
   {
    "duration": 11,
    "start_time": "2023-06-05T08:54:04.382Z"
   },
   {
    "duration": 14,
    "start_time": "2023-06-05T08:54:04.398Z"
   },
   {
    "duration": 17,
    "start_time": "2023-06-05T08:54:04.414Z"
   },
   {
    "duration": 5,
    "start_time": "2023-06-05T08:54:04.433Z"
   },
   {
    "duration": 140,
    "start_time": "2023-06-05T08:54:04.440Z"
   },
   {
    "duration": 17,
    "start_time": "2023-06-05T08:54:04.582Z"
   },
   {
    "duration": 5,
    "start_time": "2023-06-05T08:54:04.601Z"
   },
   {
    "duration": 54,
    "start_time": "2023-06-05T08:54:04.607Z"
   },
   {
    "duration": 15,
    "start_time": "2023-06-05T08:54:04.662Z"
   },
   {
    "duration": 26,
    "start_time": "2023-06-05T08:54:04.678Z"
   },
   {
    "duration": 13,
    "start_time": "2023-06-05T08:54:04.706Z"
   },
   {
    "duration": 11,
    "start_time": "2023-06-05T08:54:04.722Z"
   },
   {
    "duration": 37,
    "start_time": "2023-06-05T08:54:04.734Z"
   },
   {
    "duration": 41,
    "start_time": "2023-06-05T08:54:04.773Z"
   },
   {
    "duration": 5906,
    "start_time": "2023-06-05T08:54:04.816Z"
   },
   {
    "duration": 41,
    "start_time": "2023-06-05T08:54:10.724Z"
   },
   {
    "duration": 36,
    "start_time": "2023-06-05T08:54:10.767Z"
   },
   {
    "duration": 96619,
    "start_time": "2023-06-05T08:54:10.804Z"
   },
   {
    "duration": 668,
    "start_time": "2023-06-05T08:55:47.424Z"
   },
   {
    "duration": 732,
    "start_time": "2023-06-05T08:55:48.094Z"
   },
   {
    "duration": 3,
    "start_time": "2023-06-05T08:55:48.828Z"
   },
   {
    "duration": 35700,
    "start_time": "2023-06-05T08:55:48.842Z"
   },
   {
    "duration": 309,
    "start_time": "2023-06-05T08:56:24.544Z"
   },
   {
    "duration": 288,
    "start_time": "2023-06-05T08:56:24.855Z"
   },
   {
    "duration": 98,
    "start_time": "2023-06-05T08:56:25.145Z"
   },
   {
    "duration": 10,
    "start_time": "2023-06-05T08:56:25.245Z"
   },
   {
    "duration": 7,
    "start_time": "2023-06-05T08:56:25.257Z"
   },
   {
    "duration": 12,
    "start_time": "2023-06-05T08:56:25.265Z"
   },
   {
    "duration": 4,
    "start_time": "2023-06-05T08:56:25.282Z"
   },
   {
    "duration": 6,
    "start_time": "2023-06-05T08:56:25.288Z"
   },
   {
    "duration": 1447,
    "start_time": "2023-06-05T08:56:25.296Z"
   },
   {
    "duration": 28088,
    "start_time": "2023-06-05T08:56:26.745Z"
   },
   {
    "duration": 48,
    "start_time": "2023-06-05T08:56:54.835Z"
   },
   {
    "duration": 446,
    "start_time": "2023-06-05T08:56:54.884Z"
   },
   {
    "duration": 132,
    "start_time": "2023-06-05T08:56:55.332Z"
   },
   {
    "duration": 81,
    "start_time": "2023-06-05T08:56:55.465Z"
   },
   {
    "duration": 336366,
    "start_time": "2023-06-05T08:56:55.547Z"
   },
   {
    "duration": 1079,
    "start_time": "2023-06-05T09:02:31.914Z"
   },
   {
    "duration": 0,
    "start_time": "2023-06-05T09:02:32.996Z"
   },
   {
    "duration": 0,
    "start_time": "2023-06-05T09:02:32.998Z"
   },
   {
    "duration": 0,
    "start_time": "2023-06-05T09:02:33.001Z"
   },
   {
    "duration": 0,
    "start_time": "2023-06-05T09:02:33.002Z"
   },
   {
    "duration": 0,
    "start_time": "2023-06-05T09:02:33.004Z"
   },
   {
    "duration": 0,
    "start_time": "2023-06-05T09:02:33.005Z"
   },
   {
    "duration": 0,
    "start_time": "2023-06-05T09:02:33.007Z"
   },
   {
    "duration": 0,
    "start_time": "2023-06-05T09:02:33.009Z"
   },
   {
    "duration": 0,
    "start_time": "2023-06-05T09:02:33.010Z"
   },
   {
    "duration": 0,
    "start_time": "2023-06-05T09:02:33.042Z"
   },
   {
    "duration": 0,
    "start_time": "2023-06-05T09:02:33.044Z"
   },
   {
    "duration": 0,
    "start_time": "2023-06-05T09:02:33.046Z"
   },
   {
    "duration": 0,
    "start_time": "2023-06-05T09:02:33.048Z"
   },
   {
    "duration": 0,
    "start_time": "2023-06-05T09:02:33.050Z"
   },
   {
    "duration": 0,
    "start_time": "2023-06-05T09:02:33.052Z"
   },
   {
    "duration": 5,
    "start_time": "2023-06-05T09:09:50.501Z"
   },
   {
    "duration": 4,
    "start_time": "2023-06-05T09:09:50.930Z"
   },
   {
    "duration": 5,
    "start_time": "2023-06-05T09:09:54.884Z"
   },
   {
    "duration": 12,
    "start_time": "2023-06-05T09:09:55.429Z"
   },
   {
    "duration": 5,
    "start_time": "2023-06-05T09:09:56.327Z"
   },
   {
    "duration": 5,
    "start_time": "2023-06-05T09:09:56.685Z"
   },
   {
    "duration": 7,
    "start_time": "2023-06-05T09:10:06.150Z"
   },
   {
    "duration": 5,
    "start_time": "2023-06-05T09:10:06.448Z"
   },
   {
    "duration": 700,
    "start_time": "2023-06-05T09:10:07.444Z"
   },
   {
    "duration": 27283,
    "start_time": "2023-06-05T09:10:08.599Z"
   },
   {
    "duration": 405,
    "start_time": "2023-06-05T09:11:16.964Z"
   },
   {
    "duration": 116,
    "start_time": "2023-06-05T09:11:17.602Z"
   },
   {
    "duration": 72,
    "start_time": "2023-06-05T09:11:18.708Z"
   },
   {
    "duration": 55,
    "start_time": "2023-06-05T09:11:43.486Z"
   },
   {
    "duration": 55,
    "start_time": "2023-06-05T09:11:51.431Z"
   },
   {
    "duration": 5,
    "start_time": "2023-06-05T09:13:03.704Z"
   },
   {
    "duration": 38,
    "start_time": "2023-06-05T09:13:51.917Z"
   },
   {
    "duration": 1636,
    "start_time": "2023-06-05T09:14:00.647Z"
   },
   {
    "duration": 3,
    "start_time": "2023-06-05T09:14:02.286Z"
   },
   {
    "duration": 99,
    "start_time": "2023-06-05T09:14:02.291Z"
   },
   {
    "duration": 65,
    "start_time": "2023-06-05T09:14:02.392Z"
   },
   {
    "duration": 65,
    "start_time": "2023-06-05T09:14:02.461Z"
   },
   {
    "duration": 170,
    "start_time": "2023-06-05T09:14:02.528Z"
   },
   {
    "duration": 42,
    "start_time": "2023-06-05T09:14:02.700Z"
   },
   {
    "duration": 481,
    "start_time": "2023-06-05T09:14:02.745Z"
   },
   {
    "duration": 20,
    "start_time": "2023-06-05T09:14:03.228Z"
   },
   {
    "duration": 49,
    "start_time": "2023-06-05T09:14:03.250Z"
   },
   {
    "duration": 61,
    "start_time": "2023-06-05T09:14:03.301Z"
   },
   {
    "duration": 85,
    "start_time": "2023-06-05T09:14:03.364Z"
   },
   {
    "duration": 114,
    "start_time": "2023-06-05T09:14:03.450Z"
   },
   {
    "duration": 52,
    "start_time": "2023-06-05T09:14:03.568Z"
   },
   {
    "duration": 44,
    "start_time": "2023-06-05T09:14:03.622Z"
   },
   {
    "duration": 66,
    "start_time": "2023-06-05T09:14:03.668Z"
   },
   {
    "duration": 175,
    "start_time": "2023-06-05T09:14:03.736Z"
   },
   {
    "duration": 16,
    "start_time": "2023-06-05T09:14:03.913Z"
   },
   {
    "duration": 24,
    "start_time": "2023-06-05T09:14:03.931Z"
   },
   {
    "duration": 44,
    "start_time": "2023-06-05T09:14:03.957Z"
   },
   {
    "duration": 48,
    "start_time": "2023-06-05T09:14:04.003Z"
   },
   {
    "duration": 33,
    "start_time": "2023-06-05T09:14:04.053Z"
   },
   {
    "duration": 16,
    "start_time": "2023-06-05T09:14:04.088Z"
   },
   {
    "duration": 38,
    "start_time": "2023-06-05T09:14:04.107Z"
   },
   {
    "duration": 68,
    "start_time": "2023-06-05T09:14:04.147Z"
   },
   {
    "duration": 49,
    "start_time": "2023-06-05T09:14:04.218Z"
   },
   {
    "duration": 5026,
    "start_time": "2023-06-05T09:14:04.269Z"
   },
   {
    "duration": 60,
    "start_time": "2023-06-05T09:14:09.297Z"
   },
   {
    "duration": 39,
    "start_time": "2023-06-05T09:14:09.359Z"
   },
   {
    "duration": 97673,
    "start_time": "2023-06-05T09:14:09.400Z"
   },
   {
    "duration": 684,
    "start_time": "2023-06-05T09:15:47.076Z"
   },
   {
    "duration": 697,
    "start_time": "2023-06-05T09:15:47.762Z"
   },
   {
    "duration": 4,
    "start_time": "2023-06-05T09:15:48.461Z"
   },
   {
    "duration": 30681,
    "start_time": "2023-06-05T09:15:48.467Z"
   },
   {
    "duration": 593,
    "start_time": "2023-06-05T09:16:19.150Z"
   },
   {
    "duration": 211,
    "start_time": "2023-06-05T09:16:19.745Z"
   },
   {
    "duration": 92,
    "start_time": "2023-06-05T09:16:19.957Z"
   },
   {
    "duration": 91,
    "start_time": "2023-06-05T09:16:20.051Z"
   },
   {
    "duration": 32,
    "start_time": "2023-06-05T09:16:20.144Z"
   },
   {
    "duration": 60,
    "start_time": "2023-06-05T09:16:20.178Z"
   },
   {
    "duration": 15,
    "start_time": "2023-06-05T09:16:20.243Z"
   },
   {
    "duration": 29,
    "start_time": "2023-06-05T09:16:20.260Z"
   },
   {
    "duration": 560,
    "start_time": "2023-06-05T09:16:20.290Z"
   },
   {
    "duration": 27935,
    "start_time": "2023-06-05T09:16:20.852Z"
   },
   {
    "duration": 55,
    "start_time": "2023-06-05T09:16:48.789Z"
   },
   {
    "duration": 461,
    "start_time": "2023-06-05T09:16:48.846Z"
   },
   {
    "duration": 123,
    "start_time": "2023-06-05T09:16:49.309Z"
   },
   {
    "duration": 297,
    "start_time": "2023-06-05T09:16:49.434Z"
   },
   {
    "duration": 0,
    "start_time": "2023-06-05T09:16:49.742Z"
   },
   {
    "duration": 0,
    "start_time": "2023-06-05T09:16:49.743Z"
   },
   {
    "duration": 0,
    "start_time": "2023-06-05T09:16:49.745Z"
   },
   {
    "duration": 0,
    "start_time": "2023-06-05T09:16:49.746Z"
   },
   {
    "duration": 0,
    "start_time": "2023-06-05T09:16:49.748Z"
   },
   {
    "duration": 0,
    "start_time": "2023-06-05T09:16:49.749Z"
   },
   {
    "duration": 0,
    "start_time": "2023-06-05T09:16:49.751Z"
   },
   {
    "duration": 0,
    "start_time": "2023-06-05T09:16:49.752Z"
   },
   {
    "duration": 0,
    "start_time": "2023-06-05T09:16:49.754Z"
   },
   {
    "duration": 0,
    "start_time": "2023-06-05T09:16:49.755Z"
   },
   {
    "duration": 0,
    "start_time": "2023-06-05T09:16:49.756Z"
   },
   {
    "duration": 0,
    "start_time": "2023-06-05T09:16:49.758Z"
   },
   {
    "duration": 0,
    "start_time": "2023-06-05T09:16:49.759Z"
   },
   {
    "duration": 0,
    "start_time": "2023-06-05T09:16:49.760Z"
   },
   {
    "duration": 0,
    "start_time": "2023-06-05T09:16:49.761Z"
   },
   {
    "duration": 0,
    "start_time": "2023-06-05T09:16:49.763Z"
   },
   {
    "duration": 60,
    "start_time": "2023-06-05T09:17:55.081Z"
   },
   {
    "duration": 31,
    "start_time": "2023-06-05T09:18:05.777Z"
   },
   {
    "duration": 314255,
    "start_time": "2023-06-05T09:18:38.650Z"
   },
   {
    "duration": 759,
    "start_time": "2023-06-05T09:23:52.907Z"
   },
   {
    "duration": 1,
    "start_time": "2023-06-05T09:23:53.668Z"
   },
   {
    "duration": 0,
    "start_time": "2023-06-05T09:23:53.670Z"
   },
   {
    "duration": 0,
    "start_time": "2023-06-05T09:23:53.671Z"
   },
   {
    "duration": 786,
    "start_time": "2023-06-05T09:24:52.358Z"
   },
   {
    "duration": 840,
    "start_time": "2023-06-05T09:25:53.804Z"
   },
   {
    "duration": 2407,
    "start_time": "2023-06-05T09:25:59.568Z"
   },
   {
    "duration": 44,
    "start_time": "2023-06-05T09:26:01.977Z"
   },
   {
    "duration": 129,
    "start_time": "2023-06-05T09:26:02.069Z"
   },
   {
    "duration": 2406,
    "start_time": "2023-06-05T09:27:11.570Z"
   },
   {
    "duration": 155,
    "start_time": "2023-06-05T09:27:28.196Z"
   },
   {
    "duration": 2,
    "start_time": "2023-06-05T09:28:27.261Z"
   },
   {
    "duration": 27645,
    "start_time": "2023-06-05T09:28:27.505Z"
   },
   {
    "duration": 321,
    "start_time": "2023-06-05T09:29:06.230Z"
   },
   {
    "duration": 2155,
    "start_time": "2023-06-05T09:30:05.671Z"
   },
   {
    "duration": 15,
    "start_time": "2023-06-05T09:30:10.019Z"
   },
   {
    "duration": 21,
    "start_time": "2023-06-05T09:31:13.266Z"
   },
   {
    "duration": 10,
    "start_time": "2023-06-05T09:31:22.759Z"
   },
   {
    "duration": 22,
    "start_time": "2023-06-05T09:31:24.964Z"
   },
   {
    "duration": 621,
    "start_time": "2023-06-05T09:32:35.329Z"
   },
   {
    "duration": 12,
    "start_time": "2023-06-05T09:37:47.886Z"
   },
   {
    "duration": 20,
    "start_time": "2023-06-05T09:38:27.215Z"
   },
   {
    "duration": 749,
    "start_time": "2023-06-05T09:38:45.699Z"
   },
   {
    "duration": 28,
    "start_time": "2023-06-05T09:39:26.821Z"
   },
   {
    "duration": 19,
    "start_time": "2023-06-05T09:39:42.918Z"
   },
   {
    "duration": 548,
    "start_time": "2023-06-05T09:39:53.299Z"
   },
   {
    "duration": 584,
    "start_time": "2023-06-05T09:39:55.367Z"
   },
   {
    "duration": 156,
    "start_time": "2023-06-05T09:39:58.164Z"
   },
   {
    "duration": 46,
    "start_time": "2023-06-05T09:43:25.210Z"
   },
   {
    "duration": 36310,
    "start_time": "2023-06-05T17:34:08.944Z"
   },
   {
    "duration": 45,
    "start_time": "2023-06-06T07:42:50.299Z"
   },
   {
    "duration": 1790,
    "start_time": "2023-06-06T07:42:56.801Z"
   },
   {
    "duration": 6,
    "start_time": "2023-06-06T07:42:58.595Z"
   },
   {
    "duration": 169,
    "start_time": "2023-06-06T07:42:58.604Z"
   },
   {
    "duration": 27,
    "start_time": "2023-06-06T07:42:58.775Z"
   },
   {
    "duration": 15,
    "start_time": "2023-06-06T07:42:58.804Z"
   },
   {
    "duration": 37,
    "start_time": "2023-06-06T07:42:58.821Z"
   },
   {
    "duration": 36,
    "start_time": "2023-06-06T07:42:58.859Z"
   },
   {
    "duration": 418,
    "start_time": "2023-06-06T07:42:58.901Z"
   },
   {
    "duration": 10,
    "start_time": "2023-06-06T07:42:59.321Z"
   },
   {
    "duration": 4,
    "start_time": "2023-06-06T07:42:59.333Z"
   },
   {
    "duration": 7,
    "start_time": "2023-06-06T07:42:59.338Z"
   },
   {
    "duration": 6,
    "start_time": "2023-06-06T07:42:59.347Z"
   },
   {
    "duration": 5,
    "start_time": "2023-06-06T07:42:59.355Z"
   },
   {
    "duration": 10,
    "start_time": "2023-06-06T07:42:59.377Z"
   },
   {
    "duration": 12,
    "start_time": "2023-06-06T07:42:59.389Z"
   },
   {
    "duration": 4,
    "start_time": "2023-06-06T07:42:59.405Z"
   },
   {
    "duration": 129,
    "start_time": "2023-06-06T07:42:59.410Z"
   },
   {
    "duration": 15,
    "start_time": "2023-06-06T07:42:59.541Z"
   },
   {
    "duration": 4,
    "start_time": "2023-06-06T07:42:59.557Z"
   },
   {
    "duration": 29,
    "start_time": "2023-06-06T07:42:59.562Z"
   },
   {
    "duration": 12,
    "start_time": "2023-06-06T07:42:59.593Z"
   },
   {
    "duration": 23,
    "start_time": "2023-06-06T07:42:59.608Z"
   },
   {
    "duration": 12,
    "start_time": "2023-06-06T07:42:59.632Z"
   },
   {
    "duration": 3,
    "start_time": "2023-06-06T07:42:59.646Z"
   },
   {
    "duration": 54,
    "start_time": "2023-06-06T07:42:59.651Z"
   },
   {
    "duration": 41,
    "start_time": "2023-06-06T07:42:59.707Z"
   },
   {
    "duration": 4877,
    "start_time": "2023-06-06T07:42:59.750Z"
   },
   {
    "duration": 55,
    "start_time": "2023-06-06T07:43:04.631Z"
   },
   {
    "duration": 45,
    "start_time": "2023-06-06T07:43:04.688Z"
   },
   {
    "duration": 100955,
    "start_time": "2023-06-06T07:43:04.735Z"
   },
   {
    "duration": 695,
    "start_time": "2023-06-06T07:44:45.697Z"
   },
   {
    "duration": 656,
    "start_time": "2023-06-06T07:44:46.394Z"
   },
   {
    "duration": 3,
    "start_time": "2023-06-06T07:44:47.052Z"
   },
   {
    "duration": 46829,
    "start_time": "2023-06-06T07:44:47.056Z"
   },
   {
    "duration": 210,
    "start_time": "2023-06-06T07:45:33.893Z"
   },
   {
    "duration": 383,
    "start_time": "2023-06-06T07:45:34.106Z"
   },
   {
    "duration": 10,
    "start_time": "2023-06-06T07:45:34.492Z"
   },
   {
    "duration": 86,
    "start_time": "2023-06-06T07:45:34.505Z"
   },
   {
    "duration": 22,
    "start_time": "2023-06-06T07:45:34.593Z"
   },
   {
    "duration": 24,
    "start_time": "2023-06-06T07:45:34.617Z"
   },
   {
    "duration": 14,
    "start_time": "2023-06-06T07:45:34.643Z"
   },
   {
    "duration": 22,
    "start_time": "2023-06-06T07:45:34.658Z"
   },
   {
    "duration": 932,
    "start_time": "2023-06-06T07:45:34.682Z"
   },
   {
    "duration": 37761,
    "start_time": "2023-06-06T07:45:35.679Z"
   },
   {
    "duration": 55,
    "start_time": "2023-06-06T07:46:13.441Z"
   },
   {
    "duration": 72,
    "start_time": "2023-06-06T07:46:37.584Z"
   },
   {
    "duration": 39536,
    "start_time": "2023-06-06T07:58:54.406Z"
   },
   {
    "duration": 71,
    "start_time": "2023-06-06T08:00:54.105Z"
   },
   {
    "duration": 33,
    "start_time": "2023-06-06T08:02:16.339Z"
   },
   {
    "duration": 635,
    "start_time": "2023-06-06T08:07:49.173Z"
   },
   {
    "duration": 557,
    "start_time": "2023-06-06T08:08:54.402Z"
   },
   {
    "duration": 692,
    "start_time": "2023-06-06T08:10:00.006Z"
   },
   {
    "duration": 657,
    "start_time": "2023-06-06T08:10:19.660Z"
   },
   {
    "duration": 1883,
    "start_time": "2023-06-06T08:10:48.724Z"
   },
   {
    "duration": 53,
    "start_time": "2023-06-06T08:10:50.990Z"
   },
   {
    "duration": 151,
    "start_time": "2023-06-06T08:10:52.116Z"
   },
   {
    "duration": 42,
    "start_time": "2023-06-06T08:11:23.441Z"
   },
   {
    "duration": 18,
    "start_time": "2023-06-06T08:18:44.119Z"
   },
   {
    "duration": 13,
    "start_time": "2023-06-06T08:19:25.697Z"
   },
   {
    "duration": 56,
    "start_time": "2023-06-06T08:19:36.378Z"
   },
   {
    "duration": 453,
    "start_time": "2023-06-06T08:20:46.966Z"
   },
   {
    "duration": 698,
    "start_time": "2023-06-06T08:21:54.966Z"
   },
   {
    "duration": 2836,
    "start_time": "2023-06-06T08:22:16.002Z"
   },
   {
    "duration": 392,
    "start_time": "2023-06-06T08:24:47.312Z"
   },
   {
    "duration": 4164,
    "start_time": "2023-06-06T08:25:00.963Z"
   },
   {
    "duration": 164,
    "start_time": "2023-06-06T08:25:05.129Z"
   },
   {
    "duration": 100,
    "start_time": "2023-06-06T08:27:10.412Z"
   },
   {
    "duration": 97,
    "start_time": "2023-06-06T08:27:52.632Z"
   },
   {
    "duration": 104,
    "start_time": "2023-06-06T08:28:04.295Z"
   },
   {
    "duration": 98,
    "start_time": "2023-06-06T08:28:13.299Z"
   },
   {
    "duration": 1487,
    "start_time": "2023-06-06T08:28:50.458Z"
   },
   {
    "duration": 1639,
    "start_time": "2023-06-06T08:30:25.404Z"
   },
   {
    "duration": 1687,
    "start_time": "2023-06-06T08:30:47.436Z"
   },
   {
    "duration": 1210,
    "start_time": "2023-06-06T08:31:47.709Z"
   },
   {
    "duration": 1538,
    "start_time": "2023-06-06T08:32:40.274Z"
   },
   {
    "duration": 2,
    "start_time": "2023-06-06T08:32:41.814Z"
   },
   {
    "duration": 40,
    "start_time": "2023-06-06T08:32:41.818Z"
   },
   {
    "duration": 16,
    "start_time": "2023-06-06T08:32:41.860Z"
   },
   {
    "duration": 19,
    "start_time": "2023-06-06T08:32:41.878Z"
   },
   {
    "duration": 40,
    "start_time": "2023-06-06T08:32:41.899Z"
   },
   {
    "duration": 10,
    "start_time": "2023-06-06T08:32:41.941Z"
   },
   {
    "duration": 419,
    "start_time": "2023-06-06T08:32:41.953Z"
   },
   {
    "duration": 18,
    "start_time": "2023-06-06T08:32:42.373Z"
   },
   {
    "duration": 5,
    "start_time": "2023-06-06T08:32:42.392Z"
   },
   {
    "duration": 14,
    "start_time": "2023-06-06T08:32:42.398Z"
   },
   {
    "duration": 6,
    "start_time": "2023-06-06T08:32:42.413Z"
   },
   {
    "duration": 14,
    "start_time": "2023-06-06T08:32:42.420Z"
   },
   {
    "duration": 8,
    "start_time": "2023-06-06T08:32:42.437Z"
   },
   {
    "duration": 5,
    "start_time": "2023-06-06T08:32:42.446Z"
   },
   {
    "duration": 5,
    "start_time": "2023-06-06T08:32:42.453Z"
   },
   {
    "duration": 134,
    "start_time": "2023-06-06T08:32:42.459Z"
   },
   {
    "duration": 15,
    "start_time": "2023-06-06T08:32:42.595Z"
   },
   {
    "duration": 5,
    "start_time": "2023-06-06T08:32:42.611Z"
   },
   {
    "duration": 8,
    "start_time": "2023-06-06T08:32:42.617Z"
   },
   {
    "duration": 5,
    "start_time": "2023-06-06T08:32:42.626Z"
   },
   {
    "duration": 49,
    "start_time": "2023-06-06T08:32:42.632Z"
   },
   {
    "duration": 20,
    "start_time": "2023-06-06T08:32:42.682Z"
   },
   {
    "duration": 34,
    "start_time": "2023-06-06T08:32:42.704Z"
   },
   {
    "duration": 29,
    "start_time": "2023-06-06T08:32:42.740Z"
   },
   {
    "duration": 45,
    "start_time": "2023-06-06T08:32:42.771Z"
   },
   {
    "duration": 4675,
    "start_time": "2023-06-06T08:32:42.818Z"
   },
   {
    "duration": 38,
    "start_time": "2023-06-06T08:32:47.495Z"
   },
   {
    "duration": 58,
    "start_time": "2023-06-06T08:32:47.535Z"
   },
   {
    "duration": 98773,
    "start_time": "2023-06-06T08:32:47.594Z"
   },
   {
    "duration": 703,
    "start_time": "2023-06-06T08:34:26.370Z"
   },
   {
    "duration": 725,
    "start_time": "2023-06-06T08:34:27.078Z"
   },
   {
    "duration": 3,
    "start_time": "2023-06-06T08:34:27.805Z"
   },
   {
    "duration": 73075,
    "start_time": "2023-06-06T08:34:27.810Z"
   },
   {
    "duration": 500,
    "start_time": "2023-06-06T08:35:40.890Z"
   },
   {
    "duration": 202,
    "start_time": "2023-06-06T08:35:41.398Z"
   },
   {
    "duration": 13,
    "start_time": "2023-06-06T08:35:41.680Z"
   },
   {
    "duration": 98,
    "start_time": "2023-06-06T08:35:41.697Z"
   },
   {
    "duration": 24,
    "start_time": "2023-06-06T08:35:41.797Z"
   },
   {
    "duration": 17,
    "start_time": "2023-06-06T08:35:41.823Z"
   },
   {
    "duration": 4,
    "start_time": "2023-06-06T08:35:41.844Z"
   },
   {
    "duration": 6,
    "start_time": "2023-06-06T08:35:41.849Z"
   },
   {
    "duration": 2046,
    "start_time": "2023-06-06T08:35:41.856Z"
   },
   {
    "duration": 36565,
    "start_time": "2023-06-06T08:35:43.979Z"
   },
   {
    "duration": 118,
    "start_time": "2023-06-06T08:36:20.545Z"
   },
   {
    "duration": 0,
    "start_time": "2023-06-06T08:36:20.664Z"
   },
   {
    "duration": 0,
    "start_time": "2023-06-06T08:36:20.666Z"
   },
   {
    "duration": 0,
    "start_time": "2023-06-06T08:36:20.667Z"
   },
   {
    "duration": 0,
    "start_time": "2023-06-06T08:36:20.668Z"
   },
   {
    "duration": 0,
    "start_time": "2023-06-06T08:36:20.679Z"
   },
   {
    "duration": 0,
    "start_time": "2023-06-06T08:36:20.682Z"
   },
   {
    "duration": 0,
    "start_time": "2023-06-06T08:36:20.683Z"
   },
   {
    "duration": 0,
    "start_time": "2023-06-06T08:36:20.684Z"
   },
   {
    "duration": 0,
    "start_time": "2023-06-06T08:36:20.693Z"
   },
   {
    "duration": 0,
    "start_time": "2023-06-06T08:36:20.694Z"
   },
   {
    "duration": 0,
    "start_time": "2023-06-06T08:36:20.695Z"
   },
   {
    "duration": 0,
    "start_time": "2023-06-06T08:36:20.697Z"
   },
   {
    "duration": 0,
    "start_time": "2023-06-06T08:36:20.698Z"
   },
   {
    "duration": 0,
    "start_time": "2023-06-06T08:36:20.699Z"
   },
   {
    "duration": 0,
    "start_time": "2023-06-06T08:36:20.700Z"
   },
   {
    "duration": 0,
    "start_time": "2023-06-06T08:36:20.701Z"
   },
   {
    "duration": 0,
    "start_time": "2023-06-06T08:36:20.702Z"
   },
   {
    "duration": 1,
    "start_time": "2023-06-06T08:36:20.703Z"
   },
   {
    "duration": 0,
    "start_time": "2023-06-06T08:36:20.705Z"
   },
   {
    "duration": 0,
    "start_time": "2023-06-06T08:36:20.707Z"
   },
   {
    "duration": 36664,
    "start_time": "2023-06-06T08:37:28.135Z"
   },
   {
    "duration": 58,
    "start_time": "2023-06-06T08:38:04.802Z"
   },
   {
    "duration": 27870,
    "start_time": "2023-06-06T08:38:04.862Z"
   },
   {
    "duration": 90,
    "start_time": "2023-06-06T08:38:32.734Z"
   },
   {
    "duration": 383,
    "start_time": "2023-06-06T08:38:32.825Z"
   },
   {
    "duration": 124,
    "start_time": "2023-06-06T08:38:33.209Z"
   },
   {
    "duration": 53,
    "start_time": "2023-06-06T08:38:33.335Z"
   },
   {
    "duration": 352444,
    "start_time": "2023-06-06T08:38:33.393Z"
   },
   {
    "duration": 630,
    "start_time": "2023-06-06T08:44:25.839Z"
   },
   {
    "duration": 863,
    "start_time": "2023-06-06T08:44:26.471Z"
   },
   {
    "duration": 2775,
    "start_time": "2023-06-06T08:44:27.336Z"
   },
   {
    "duration": 131,
    "start_time": "2023-06-06T08:44:30.112Z"
   },
   {
    "duration": 2,
    "start_time": "2023-06-06T08:44:30.245Z"
   },
   {
    "duration": 97458,
    "start_time": "2023-06-06T08:44:30.249Z"
   },
   {
    "duration": 371,
    "start_time": "2023-06-06T08:46:07.715Z"
   },
   {
    "duration": 22582,
    "start_time": "2023-06-06T08:46:08.097Z"
   },
   {
    "duration": 120,
    "start_time": "2023-06-06T08:46:30.685Z"
   },
   {
    "duration": 620,
    "start_time": "2023-06-06T08:46:30.881Z"
   },
   {
    "duration": 887,
    "start_time": "2023-06-06T08:46:31.503Z"
   },
   {
    "duration": 236,
    "start_time": "2023-06-06T08:46:32.392Z"
   },
   {
    "duration": 1404,
    "start_time": "2023-06-06T08:46:32.631Z"
   },
   {
    "duration": 1746,
    "start_time": "2023-06-06T09:44:08.713Z"
   },
   {
    "duration": 3,
    "start_time": "2023-06-06T09:44:10.461Z"
   },
   {
    "duration": 64,
    "start_time": "2023-06-06T09:44:10.465Z"
   },
   {
    "duration": 17,
    "start_time": "2023-06-06T09:44:10.531Z"
   },
   {
    "duration": 19,
    "start_time": "2023-06-06T09:44:10.550Z"
   },
   {
    "duration": 48,
    "start_time": "2023-06-06T09:44:10.571Z"
   },
   {
    "duration": 11,
    "start_time": "2023-06-06T09:44:10.621Z"
   },
   {
    "duration": 460,
    "start_time": "2023-06-06T09:44:10.634Z"
   },
   {
    "duration": 16,
    "start_time": "2023-06-06T09:44:11.098Z"
   },
   {
    "duration": 4,
    "start_time": "2023-06-06T09:44:11.117Z"
   },
   {
    "duration": 6,
    "start_time": "2023-06-06T09:44:11.123Z"
   },
   {
    "duration": 5,
    "start_time": "2023-06-06T09:44:11.131Z"
   },
   {
    "duration": 6,
    "start_time": "2023-06-06T09:44:11.138Z"
   },
   {
    "duration": 5,
    "start_time": "2023-06-06T09:44:11.145Z"
   },
   {
    "duration": 36,
    "start_time": "2023-06-06T09:44:11.151Z"
   },
   {
    "duration": 6,
    "start_time": "2023-06-06T09:44:11.189Z"
   },
   {
    "duration": 130,
    "start_time": "2023-06-06T09:44:11.199Z"
   },
   {
    "duration": 15,
    "start_time": "2023-06-06T09:44:11.331Z"
   },
   {
    "duration": 5,
    "start_time": "2023-06-06T09:44:11.347Z"
   },
   {
    "duration": 6,
    "start_time": "2023-06-06T09:44:11.354Z"
   },
   {
    "duration": 22,
    "start_time": "2023-06-06T09:44:11.382Z"
   },
   {
    "duration": 24,
    "start_time": "2023-06-06T09:44:11.405Z"
   },
   {
    "duration": 12,
    "start_time": "2023-06-06T09:44:11.431Z"
   },
   {
    "duration": 3,
    "start_time": "2023-06-06T09:44:11.444Z"
   },
   {
    "duration": 43,
    "start_time": "2023-06-06T09:44:11.448Z"
   },
   {
    "duration": 51,
    "start_time": "2023-06-06T09:44:11.498Z"
   },
   {
    "duration": 4842,
    "start_time": "2023-06-06T09:44:11.551Z"
   },
   {
    "duration": 35,
    "start_time": "2023-06-06T09:44:16.406Z"
   },
   {
    "duration": 46,
    "start_time": "2023-06-06T09:44:16.443Z"
   },
   {
    "duration": 100603,
    "start_time": "2023-06-06T09:44:16.494Z"
   },
   {
    "duration": 675,
    "start_time": "2023-06-06T09:45:57.101Z"
   },
   {
    "duration": 614,
    "start_time": "2023-06-06T09:45:57.781Z"
   },
   {
    "duration": 3,
    "start_time": "2023-06-06T09:45:58.400Z"
   },
   {
    "duration": 57482,
    "start_time": "2023-06-06T09:45:58.406Z"
   },
   {
    "duration": 199,
    "start_time": "2023-06-06T09:46:55.891Z"
   },
   {
    "duration": 211,
    "start_time": "2023-06-06T09:46:56.100Z"
   },
   {
    "duration": 20,
    "start_time": "2023-06-06T09:46:56.386Z"
   },
   {
    "duration": 75,
    "start_time": "2023-06-06T09:46:56.410Z"
   },
   {
    "duration": 13,
    "start_time": "2023-06-06T09:46:56.490Z"
   },
   {
    "duration": 14,
    "start_time": "2023-06-06T09:46:56.506Z"
   },
   {
    "duration": 15,
    "start_time": "2023-06-06T09:46:56.522Z"
   },
   {
    "duration": 13,
    "start_time": "2023-06-06T09:46:56.539Z"
   },
   {
    "duration": 934,
    "start_time": "2023-06-06T09:46:56.553Z"
   },
   {
    "duration": 38804,
    "start_time": "2023-06-06T09:46:57.491Z"
   },
   {
    "duration": 61,
    "start_time": "2023-06-06T09:47:36.299Z"
   },
   {
    "duration": 29095,
    "start_time": "2023-06-06T09:47:36.362Z"
   },
   {
    "duration": 101,
    "start_time": "2023-06-06T09:48:05.459Z"
   },
   {
    "duration": 485,
    "start_time": "2023-06-06T09:48:05.565Z"
   },
   {
    "duration": 134,
    "start_time": "2023-06-06T09:48:06.052Z"
   },
   {
    "duration": 94,
    "start_time": "2023-06-06T09:48:06.188Z"
   },
   {
    "duration": 342687,
    "start_time": "2023-06-06T09:48:06.285Z"
   },
   {
    "duration": 558,
    "start_time": "2023-06-06T09:53:48.974Z"
   },
   {
    "duration": 757,
    "start_time": "2023-06-06T09:53:49.534Z"
   },
   {
    "duration": 2327,
    "start_time": "2023-06-06T09:53:50.292Z"
   },
   {
    "duration": 131,
    "start_time": "2023-06-06T09:53:52.620Z"
   },
   {
    "duration": 3,
    "start_time": "2023-06-06T09:53:52.753Z"
   },
   {
    "duration": 49439,
    "start_time": "2023-06-06T09:53:52.758Z"
   },
   {
    "duration": 300,
    "start_time": "2023-06-06T09:54:42.199Z"
   },
   {
    "duration": 20791,
    "start_time": "2023-06-06T09:54:42.501Z"
   },
   {
    "duration": 185,
    "start_time": "2023-06-06T09:55:03.294Z"
   },
   {
    "duration": 704,
    "start_time": "2023-06-06T09:55:03.481Z"
   },
   {
    "duration": 694,
    "start_time": "2023-06-06T09:55:04.193Z"
   },
   {
    "duration": 209,
    "start_time": "2023-06-06T09:55:04.889Z"
   },
   {
    "duration": 1303,
    "start_time": "2023-06-06T09:55:05.100Z"
   },
   {
    "duration": 1513,
    "start_time": "2023-06-06T09:55:31.219Z"
   },
   {
    "duration": 3,
    "start_time": "2023-06-06T09:55:32.735Z"
   },
   {
    "duration": 82,
    "start_time": "2023-06-06T09:55:32.739Z"
   },
   {
    "duration": 18,
    "start_time": "2023-06-06T09:55:32.823Z"
   },
   {
    "duration": 32,
    "start_time": "2023-06-06T09:55:32.843Z"
   },
   {
    "duration": 50,
    "start_time": "2023-06-06T09:55:32.881Z"
   },
   {
    "duration": 12,
    "start_time": "2023-06-06T09:55:32.933Z"
   },
   {
    "duration": 442,
    "start_time": "2023-06-06T09:55:32.947Z"
   },
   {
    "duration": 10,
    "start_time": "2023-06-06T09:55:33.395Z"
   },
   {
    "duration": 5,
    "start_time": "2023-06-06T09:55:33.407Z"
   },
   {
    "duration": 20,
    "start_time": "2023-06-06T09:55:33.413Z"
   },
   {
    "duration": 6,
    "start_time": "2023-06-06T09:55:33.435Z"
   },
   {
    "duration": 17,
    "start_time": "2023-06-06T09:55:33.442Z"
   },
   {
    "duration": 7,
    "start_time": "2023-06-06T09:55:33.461Z"
   },
   {
    "duration": 5,
    "start_time": "2023-06-06T09:55:33.470Z"
   },
   {
    "duration": 17,
    "start_time": "2023-06-06T09:55:33.476Z"
   },
   {
    "duration": 116,
    "start_time": "2023-06-06T09:55:33.494Z"
   },
   {
    "duration": 15,
    "start_time": "2023-06-06T09:55:33.611Z"
   },
   {
    "duration": 3,
    "start_time": "2023-06-06T09:55:33.628Z"
   },
   {
    "duration": 6,
    "start_time": "2023-06-06T09:55:33.633Z"
   },
   {
    "duration": 4,
    "start_time": "2023-06-06T09:55:33.641Z"
   },
   {
    "duration": 33,
    "start_time": "2023-06-06T09:55:33.678Z"
   },
   {
    "duration": 14,
    "start_time": "2023-06-06T09:55:33.713Z"
   },
   {
    "duration": 3,
    "start_time": "2023-06-06T09:55:33.729Z"
   },
   {
    "duration": 47,
    "start_time": "2023-06-06T09:55:33.734Z"
   },
   {
    "duration": 48,
    "start_time": "2023-06-06T09:55:33.785Z"
   },
   {
    "duration": 5,
    "start_time": "2023-06-06T09:55:33.835Z"
   },
   {
    "duration": 55,
    "start_time": "2023-06-06T09:55:33.843Z"
   },
   {
    "duration": 39,
    "start_time": "2023-06-06T09:55:33.900Z"
   },
   {
    "duration": 6,
    "start_time": "2023-06-06T09:55:33.941Z"
   },
   {
    "duration": 660,
    "start_time": "2023-06-06T09:55:33.948Z"
   },
   {
    "duration": 702,
    "start_time": "2023-06-06T09:55:34.610Z"
   },
   {
    "duration": 2,
    "start_time": "2023-06-06T09:55:35.314Z"
   },
   {
    "duration": 10,
    "start_time": "2023-06-06T09:55:35.318Z"
   },
   {
    "duration": 560,
    "start_time": "2023-06-06T09:55:35.330Z"
   },
   {
    "duration": 288,
    "start_time": "2023-06-06T09:55:35.893Z"
   },
   {
    "duration": 6,
    "start_time": "2023-06-06T09:55:36.183Z"
   },
   {
    "duration": 90,
    "start_time": "2023-06-06T09:55:36.191Z"
   },
   {
    "duration": 13,
    "start_time": "2023-06-06T09:55:36.284Z"
   },
   {
    "duration": 11,
    "start_time": "2023-06-06T09:55:36.298Z"
   },
   {
    "duration": 4,
    "start_time": "2023-06-06T09:55:36.311Z"
   },
   {
    "duration": 6,
    "start_time": "2023-06-06T09:55:36.316Z"
   },
   {
    "duration": 1055,
    "start_time": "2023-06-06T09:55:36.324Z"
   },
   {
    "duration": 10,
    "start_time": "2023-06-06T09:55:37.386Z"
   },
   {
    "duration": 164,
    "start_time": "2023-06-06T09:55:37.400Z"
   },
   {
    "duration": 6,
    "start_time": "2023-06-06T09:55:37.566Z"
   },
   {
    "duration": 93,
    "start_time": "2023-06-06T09:55:37.574Z"
   },
   {
    "duration": 445,
    "start_time": "2023-06-06T09:55:37.669Z"
   },
   {
    "duration": 124,
    "start_time": "2023-06-06T09:55:38.115Z"
   },
   {
    "duration": 136,
    "start_time": "2023-06-06T09:55:38.241Z"
   },
   {
    "duration": 6,
    "start_time": "2023-06-06T09:55:38.388Z"
   },
   {
    "duration": 718,
    "start_time": "2023-06-06T09:55:38.396Z"
   },
   {
    "duration": 790,
    "start_time": "2023-06-06T09:55:39.116Z"
   },
   {
    "duration": 2590,
    "start_time": "2023-06-06T09:55:39.907Z"
   },
   {
    "duration": 127,
    "start_time": "2023-06-06T09:55:42.499Z"
   },
   {
    "duration": 4,
    "start_time": "2023-06-06T09:55:42.628Z"
   },
   {
    "duration": 14,
    "start_time": "2023-06-06T09:55:42.634Z"
   },
   {
    "duration": 245,
    "start_time": "2023-06-06T09:55:42.651Z"
   },
   {
    "duration": 313,
    "start_time": "2023-06-06T09:55:42.901Z"
   },
   {
    "duration": 17,
    "start_time": "2023-06-06T09:55:43.216Z"
   },
   {
    "duration": 655,
    "start_time": "2023-06-06T09:55:43.235Z"
   },
   {
    "duration": 685,
    "start_time": "2023-06-06T09:55:43.898Z"
   },
   {
    "duration": 212,
    "start_time": "2023-06-06T09:55:44.586Z"
   },
   {
    "duration": 1291,
    "start_time": "2023-06-06T09:55:44.800Z"
   },
   {
    "duration": 50,
    "start_time": "2023-06-06T11:24:57.574Z"
   },
   {
    "duration": 1841,
    "start_time": "2023-06-06T11:25:06.745Z"
   },
   {
    "duration": 3,
    "start_time": "2023-06-06T11:25:08.588Z"
   },
   {
    "duration": 146,
    "start_time": "2023-06-06T11:25:08.593Z"
   },
   {
    "duration": 20,
    "start_time": "2023-06-06T11:25:08.741Z"
   },
   {
    "duration": 16,
    "start_time": "2023-06-06T11:25:08.763Z"
   },
   {
    "duration": 42,
    "start_time": "2023-06-06T11:25:08.781Z"
   },
   {
    "duration": 39,
    "start_time": "2023-06-06T11:25:08.825Z"
   },
   {
    "duration": 468,
    "start_time": "2023-06-06T11:25:08.866Z"
   },
   {
    "duration": 17,
    "start_time": "2023-06-06T11:25:09.336Z"
   },
   {
    "duration": 4,
    "start_time": "2023-06-06T11:25:09.355Z"
   },
   {
    "duration": 6,
    "start_time": "2023-06-06T11:25:09.361Z"
   },
   {
    "duration": 5,
    "start_time": "2023-06-06T11:25:09.369Z"
   },
   {
    "duration": 7,
    "start_time": "2023-06-06T11:25:09.375Z"
   },
   {
    "duration": 4,
    "start_time": "2023-06-06T11:25:09.384Z"
   },
   {
    "duration": 4,
    "start_time": "2023-06-06T11:25:09.389Z"
   },
   {
    "duration": 4,
    "start_time": "2023-06-06T11:25:09.395Z"
   },
   {
    "duration": 153,
    "start_time": "2023-06-06T11:25:09.400Z"
   },
   {
    "duration": 16,
    "start_time": "2023-06-06T11:25:09.555Z"
   },
   {
    "duration": 4,
    "start_time": "2023-06-06T11:25:09.573Z"
   },
   {
    "duration": 7,
    "start_time": "2023-06-06T11:25:09.578Z"
   },
   {
    "duration": 5,
    "start_time": "2023-06-06T11:25:09.586Z"
   },
   {
    "duration": 31,
    "start_time": "2023-06-06T11:25:09.592Z"
   },
   {
    "duration": 39,
    "start_time": "2023-06-06T11:25:09.625Z"
   },
   {
    "duration": 3,
    "start_time": "2023-06-06T11:25:09.665Z"
   },
   {
    "duration": 29,
    "start_time": "2023-06-06T11:25:09.671Z"
   },
   {
    "duration": 63,
    "start_time": "2023-06-06T11:25:09.701Z"
   },
   {
    "duration": 6,
    "start_time": "2023-06-06T11:25:09.766Z"
   },
   {
    "duration": 45,
    "start_time": "2023-06-06T11:25:09.775Z"
   },
   {
    "duration": 49,
    "start_time": "2023-06-06T11:25:09.822Z"
   },
   {
    "duration": 6,
    "start_time": "2023-06-06T11:25:09.873Z"
   },
   {
    "duration": 645,
    "start_time": "2023-06-06T11:25:09.880Z"
   },
   {
    "duration": 626,
    "start_time": "2023-06-06T11:25:10.527Z"
   },
   {
    "duration": 3,
    "start_time": "2023-06-06T11:25:11.155Z"
   },
   {
    "duration": 13,
    "start_time": "2023-06-06T11:25:11.160Z"
   },
   {
    "duration": 281,
    "start_time": "2023-06-06T11:25:11.175Z"
   },
   {
    "duration": 296,
    "start_time": "2023-06-06T11:25:11.458Z"
   },
   {
    "duration": 5,
    "start_time": "2023-06-06T11:25:11.756Z"
   },
   {
    "duration": 103,
    "start_time": "2023-06-06T11:25:11.762Z"
   },
   {
    "duration": 15,
    "start_time": "2023-06-06T11:25:11.866Z"
   },
   {
    "duration": 13,
    "start_time": "2023-06-06T11:25:11.882Z"
   },
   {
    "duration": 4,
    "start_time": "2023-06-06T11:25:11.896Z"
   },
   {
    "duration": 6,
    "start_time": "2023-06-06T11:25:11.901Z"
   },
   {
    "duration": 442,
    "start_time": "2023-06-06T11:25:11.908Z"
   },
   {
    "duration": 8,
    "start_time": "2023-06-06T11:25:12.352Z"
   },
   {
    "duration": 156,
    "start_time": "2023-06-06T11:25:12.361Z"
   },
   {
    "duration": 6,
    "start_time": "2023-06-06T11:25:12.519Z"
   },
   {
    "duration": 85,
    "start_time": "2023-06-06T11:25:12.527Z"
   },
   {
    "duration": 418,
    "start_time": "2023-06-06T11:25:12.613Z"
   },
   {
    "duration": 126,
    "start_time": "2023-06-06T11:25:13.033Z"
   },
   {
    "duration": 29,
    "start_time": "2023-06-06T11:25:13.161Z"
   },
   {
    "duration": 63,
    "start_time": "2023-06-06T11:25:13.192Z"
   },
   {
    "duration": 707,
    "start_time": "2023-06-06T11:25:13.257Z"
   },
   {
    "duration": 768,
    "start_time": "2023-06-06T11:25:13.965Z"
   },
   {
    "duration": 2391,
    "start_time": "2023-06-06T11:25:14.735Z"
   },
   {
    "duration": 130,
    "start_time": "2023-06-06T11:25:17.127Z"
   },
   {
    "duration": 2,
    "start_time": "2023-06-06T11:25:17.259Z"
   },
   {
    "duration": 15,
    "start_time": "2023-06-06T11:25:17.263Z"
   },
   {
    "duration": 188,
    "start_time": "2023-06-06T11:25:17.280Z"
   },
   {
    "duration": 325,
    "start_time": "2023-06-06T11:25:17.470Z"
   },
   {
    "duration": 21,
    "start_time": "2023-06-06T11:25:17.796Z"
   },
   {
    "duration": 701,
    "start_time": "2023-06-06T11:25:17.850Z"
   },
   {
    "duration": 751,
    "start_time": "2023-06-06T11:25:18.553Z"
   },
   {
    "duration": 254,
    "start_time": "2023-06-06T11:25:19.306Z"
   },
   {
    "duration": 552,
    "start_time": "2023-06-06T11:25:19.562Z"
   },
   {
    "duration": 552,
    "start_time": "2023-06-06T11:27:00.882Z"
   },
   {
    "duration": 537,
    "start_time": "2023-06-06T11:27:15.340Z"
   },
   {
    "duration": 543,
    "start_time": "2023-06-06T11:27:51.193Z"
   },
   {
    "duration": 543,
    "start_time": "2023-06-06T11:28:43.188Z"
   }
  ],
  "kernelspec": {
   "display_name": "Python 3 (ipykernel)",
   "language": "python",
   "name": "python3"
  },
  "language_info": {
   "codemirror_mode": {
    "name": "ipython",
    "version": 3
   },
   "file_extension": ".py",
   "mimetype": "text/x-python",
   "name": "python",
   "nbconvert_exporter": "python",
   "pygments_lexer": "ipython3",
   "version": "3.11.5"
  },
  "toc": {
   "base_numbering": 1,
   "nav_menu": {},
   "number_sections": true,
   "sideBar": true,
   "skip_h1_title": true,
   "title_cell": "Содержание",
   "title_sidebar": "Contents",
   "toc_cell": true,
   "toc_position": {
    "height": "calc(100% - 180px)",
    "left": "10px",
    "top": "150px",
    "width": "258px"
   },
   "toc_section_display": true,
   "toc_window_display": true
  }
 },
 "nbformat": 4,
 "nbformat_minor": 4
}
