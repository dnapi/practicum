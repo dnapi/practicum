{
 "cells": [
  {
   "cell_type": "markdown",
   "metadata": {},
   "source": [
    "# Проект для «Викишоп» c BERT "
   ]
  },
  {
   "cell_type": "markdown",
   "metadata": {},
   "source": [
    "Интернет-магазин «Викишоп» запускает новый сервис. Теперь пользователи могут редактировать и дополнять описания товаров, как в вики-сообществах. То есть клиенты предлагают свои правки и комментируют изменения других. Магазину нужен инструмент, который будет искать токсичные комментарии и отправлять их на модерацию. \n",
    "\n",
    "В проекте обучается модель классифицикации комментариев интернет-магазина «Викишоп»  на позитивные и негативные. В распоряжении набор данных с разметкой о токсичности правок.\n",
    "\n",
    "Целевое значением метрики качества *F1* - не меньше 0.75. \n",
    "\n",
    "В проекта используются три модели \n",
    "- частотный анализ TF-IDF + logistic regression\n",
    "- частотный анализ TF-IDF + CatBoost\n",
    "- *BERT* + logistic regression \n",
    "\n",
    "\n",
    "**Описание данных**\n",
    "\n",
    "Данные находятся в файле `toxic_comments.csv`. Столбец *text* в нём содержит текст комментария, а *toxic* — целевой признак.m"
   ]
  },
  {
   "cell_type": "markdown",
   "metadata": {},
   "source": [
    "## Подготовка"
   ]
  },
  {
   "cell_type": "code",
   "execution_count": 35,
   "metadata": {
    "colab": {
     "base_uri": "https://localhost:8080/"
    },
    "execution": {
     "iopub.execute_input": "2023-08-04T16:18:01.592665Z",
     "iopub.status.busy": "2023-08-04T16:18:01.591631Z",
     "iopub.status.idle": "2023-08-04T16:18:01.597276Z",
     "shell.execute_reply": "2023-08-04T16:18:01.596127Z",
     "shell.execute_reply.started": "2023-08-04T16:18:01.592630Z"
    },
    "id": "A0BOZ7k2klF1",
    "outputId": "13915d08-9175-4deb-91a3-706e388d39b4"
   },
   "outputs": [],
   "source": [
    "# !pip install transformers\n",
    "# !pip install catboost"
   ]
  },
  {
   "cell_type": "code",
   "execution_count": 36,
   "metadata": {
    "execution": {
     "iopub.execute_input": "2023-08-04T16:18:01.598941Z",
     "iopub.status.busy": "2023-08-04T16:18:01.598563Z",
     "iopub.status.idle": "2023-08-04T16:18:01.609813Z",
     "shell.execute_reply": "2023-08-04T16:18:01.608629Z",
     "shell.execute_reply.started": "2023-08-04T16:18:01.598901Z"
    },
    "id": "L-4E0Cyoi2xI"
   },
   "outputs": [],
   "source": [
    "import pandas as pd\n",
    "import numpy as np\n",
    "from sklearn.model_selection import train_test_split\n",
    "#from fast_ml.model_development import train_valid_test_split"
   ]
  },
  {
   "cell_type": "code",
   "execution_count": 37,
   "metadata": {
    "execution": {
     "iopub.execute_input": "2023-08-04T16:18:01.611648Z",
     "iopub.status.busy": "2023-08-04T16:18:01.611276Z",
     "iopub.status.idle": "2023-08-04T16:18:01.626072Z",
     "shell.execute_reply": "2023-08-04T16:18:01.624944Z",
     "shell.execute_reply.started": "2023-08-04T16:18:01.611617Z"
    },
    "id": "BQUeYr-UkQUM"
   },
   "outputs": [],
   "source": [
    "import nltk\n",
    "from nltk.corpus import stopwords\n",
    "from sklearn.feature_extraction.text import TfidfVectorizer\n",
    "\n",
    "import torch\n",
    "import transformers\n",
    "\n",
    "from tqdm import notebook\n",
    "from tqdm.notebook import tqdm\n",
    "\n",
    "from sklearn.preprocessing import StandardScaler\n",
    "from sklearn.linear_model import LogisticRegression\n",
    "from sklearn.model_selection import cross_val_score\n",
    "from sklearn.model_selection import train_test_split\n",
    "from sklearn.metrics import f1_score\n",
    "\n",
    "\n",
    "from catboost import CatBoostClassifier\n",
    "from catboost import cv, Pool\n",
    "\n",
    "\n",
    "import re\n",
    "import spacy\n",
    "import time"
   ]
  },
  {
   "cell_type": "code",
   "execution_count": 38,
   "metadata": {
    "execution": {
     "iopub.execute_input": "2023-08-04T16:18:01.627900Z",
     "iopub.status.busy": "2023-08-04T16:18:01.627561Z",
     "iopub.status.idle": "2023-08-04T16:18:08.215753Z",
     "shell.execute_reply": "2023-08-04T16:18:08.214437Z",
     "shell.execute_reply.started": "2023-08-04T16:18:01.627871Z"
    },
    "id": "78u2qX3JlWRL"
   },
   "outputs": [],
   "source": [
    "try:\n",
    "    data = pd.read_csv('toxic_comments.csv',index_col=[0])\n",
    "except:\n",
    "    data=pd.read_csv('https://code.s3.yandex.net/datasets/toxic_comments.csv',index_col=[0])"
   ]
  },
  {
   "cell_type": "code",
   "execution_count": 39,
   "metadata": {
    "colab": {
     "base_uri": "https://localhost:8080/"
    },
    "execution": {
     "iopub.execute_input": "2023-08-04T16:18:08.218107Z",
     "iopub.status.busy": "2023-08-04T16:18:08.217166Z",
     "iopub.status.idle": "2023-08-04T16:18:08.225821Z",
     "shell.execute_reply": "2023-08-04T16:18:08.224724Z",
     "shell.execute_reply.started": "2023-08-04T16:18:08.218062Z"
    },
    "id": "rROkDM9Li7Gp",
    "outputId": "dca416b4-dfb8-4a46-d2cf-ade10b6ae669"
   },
   "outputs": [
    {
     "data": {
      "text/plain": [
       "159292"
      ]
     },
     "execution_count": 39,
     "metadata": {},
     "output_type": "execute_result"
    }
   ],
   "source": [
    "full_data_length=data.shape[0]\n",
    "full_data_length"
   ]
  },
  {
   "cell_type": "markdown",
   "metadata": {
    "id": "vrGM-qCBlDUK"
   },
   "source": [
    "### Сleaning"
   ]
  },
  {
   "cell_type": "code",
   "execution_count": 40,
   "metadata": {
    "execution": {
     "iopub.execute_input": "2023-08-04T16:18:08.237876Z",
     "iopub.status.busy": "2023-08-04T16:18:08.237516Z",
     "iopub.status.idle": "2023-08-04T16:18:08.244064Z",
     "shell.execute_reply": "2023-08-04T16:18:08.242829Z",
     "shell.execute_reply.started": "2023-08-04T16:18:08.237847Z"
    },
    "id": "WaiPMdRZr1qb"
   },
   "outputs": [],
   "source": [
    "def clear_text(text):\n",
    "    # only letters\n",
    "    t = re.sub(r\"[^a-zA-Z ]\", ' ', text)\n",
    "    # no one letter words\n",
    "    t = re.sub(r'\\s+[a-zA-Z]\\s+', ' ', t)\n",
    "    t = re.sub(r'\\^[a-zA-Z]\\s+', ' ', t)\n",
    "    t = t.lower()\n",
    "    t =' '.join(t.split())\n",
    "    return t"
   ]
  },
  {
   "cell_type": "code",
   "execution_count": 41,
   "metadata": {
    "colab": {
     "base_uri": "https://localhost:8080/",
     "height": 49,
     "referenced_widgets": [
      "06432810bc5b42eca98604cd4b1ecf07",
      "401056defbc64a7c88c2997a7968e18c",
      "54808e006a564d73a5e8385241235c10",
      "a2dee35085ac48208611d3cc216d46be",
      "d3297fb5e6d74beba90f0cf0b0c7a0a2",
      "3adc4cf807cc47bfb9606141475ae94f",
      "3aa260b5fe9445c5b62b478511917e12",
      "a73d20a0593d43f0884f028893b2d040",
      "2660d6252d4641b7ab19874f5820f857",
      "0946364df29e44b08b2417d8c85c5a37",
      "7e8e69cd08764b7a8221ca1e625bb839"
     ]
    },
    "execution": {
     "iopub.execute_input": "2023-08-04T16:18:08.245834Z",
     "iopub.status.busy": "2023-08-04T16:18:08.245455Z",
     "iopub.status.idle": "2023-08-04T16:18:20.720717Z",
     "shell.execute_reply": "2023-08-04T16:18:20.719515Z",
     "shell.execute_reply.started": "2023-08-04T16:18:08.245805Z"
    },
    "id": "39aO3AoBqCAc",
    "outputId": "0dee76a3-fd17-4d0d-e120-d4d5582266c2"
   },
   "outputs": [
    {
     "data": {
      "application/vnd.jupyter.widget-view+json": {
       "model_id": "6a8cece101614db4a78c3b25e8c0babe",
       "version_major": 2,
       "version_minor": 0
      },
      "text/plain": [
       "  0%|          | 0/159292 [00:00<?, ?it/s]"
      ]
     },
     "metadata": {},
     "output_type": "display_data"
    }
   ],
   "source": [
    "tqdm.pandas()\n",
    "\n",
    "data['clean_text'] = data['text'].progress_apply(lambda x: clear_text(x))"
   ]
  },
  {
   "cell_type": "markdown",
   "metadata": {
    "id": "PjLzTrfftyI3"
   },
   "source": [
    "### Lemmatization"
   ]
  },
  {
   "cell_type": "code",
   "execution_count": 42,
   "metadata": {
    "execution": {
     "iopub.execute_input": "2023-08-04T16:18:20.722319Z",
     "iopub.status.busy": "2023-08-04T16:18:20.721973Z",
     "iopub.status.idle": "2023-08-04T16:18:21.879188Z",
     "shell.execute_reply": "2023-08-04T16:18:21.877951Z",
     "shell.execute_reply.started": "2023-08-04T16:18:20.722289Z"
    },
    "id": "WhJMgPPcudRL"
   },
   "outputs": [],
   "source": [
    "nlp = spacy.load('en_core_web_sm', disable=['parser', 'ner'])\n",
    "def lemmatize(text):\n",
    "    iter = nlp(text)\n",
    "    lemma = \" \".join([token.lemma_ for token in iter])\n",
    "    return lemma"
   ]
  },
  {
   "cell_type": "code",
   "execution_count": 43,
   "metadata": {
    "execution": {
     "iopub.execute_input": "2023-08-04T16:18:21.881254Z",
     "iopub.status.busy": "2023-08-04T16:18:21.880916Z",
     "iopub.status.idle": "2023-08-04T16:18:21.885599Z",
     "shell.execute_reply": "2023-08-04T16:18:21.884602Z",
     "shell.execute_reply.started": "2023-08-04T16:18:21.881224Z"
    },
    "id": "dxre7cSExJXw"
   },
   "outputs": [],
   "source": [
    "#data.to_csv('tweets_lemm.csv')\n",
    "#data = pd.read_csv('tweets_lemm.csv', index_col=0)"
   ]
  },
  {
   "cell_type": "code",
   "execution_count": 44,
   "metadata": {
    "execution": {
     "iopub.execute_input": "2023-08-04T16:18:21.887300Z",
     "iopub.status.busy": "2023-08-04T16:18:21.886958Z",
     "iopub.status.idle": "2023-08-04T16:18:21.898313Z",
     "shell.execute_reply": "2023-08-04T16:18:21.897106Z",
     "shell.execute_reply.started": "2023-08-04T16:18:21.887269Z"
    },
    "id": "6RQuogMZxpPs"
   },
   "outputs": [],
   "source": [
    "#try:\n",
    "#    data = pd.read_csv('tweets_lemm.csv',index_col=[0])\n",
    "#except:\n",
    "#    data['lemma'] = data['clean_text'].progress_apply(lambda x: lemmatize(x))"
   ]
  },
  {
   "cell_type": "code",
   "execution_count": 45,
   "metadata": {
    "execution": {
     "iopub.execute_input": "2023-08-04T16:18:21.900997Z",
     "iopub.status.busy": "2023-08-04T16:18:21.899991Z",
     "iopub.status.idle": "2023-08-04T16:18:22.062635Z",
     "shell.execute_reply": "2023-08-04T16:18:22.061499Z",
     "shell.execute_reply.started": "2023-08-04T16:18:21.900950Z"
    },
    "id": "ibsJLcLtIhaH"
   },
   "outputs": [],
   "source": [
    "data=data.dropna()"
   ]
  },
  {
   "cell_type": "markdown",
   "metadata": {
    "id": "cEiSov3NlKgG"
   },
   "source": [
    "### Stopwords"
   ]
  },
  {
   "cell_type": "code",
   "execution_count": 46,
   "metadata": {
    "colab": {
     "base_uri": "https://localhost:8080/"
    },
    "execution": {
     "iopub.execute_input": "2023-08-04T16:18:22.064880Z",
     "iopub.status.busy": "2023-08-04T16:18:22.064438Z",
     "iopub.status.idle": "2023-08-04T16:18:22.072018Z",
     "shell.execute_reply": "2023-08-04T16:18:22.070816Z",
     "shell.execute_reply.started": "2023-08-04T16:18:22.064838Z"
    },
    "id": "p0b61YSfyycb",
    "outputId": "7d785284-9514-4061-b140-05828d80fbcf"
   },
   "outputs": [
    {
     "name": "stdout",
     "output_type": "stream",
     "text": [
      "[nltk_data] Downloading package stopwords to /usr/share/nltk_data...\n",
      "[nltk_data]   Package stopwords is already up-to-date!\n"
     ]
    }
   ],
   "source": [
    "import nltk\n",
    "from nltk.corpus import stopwords\n",
    "nltk.download('stopwords')\n",
    "\n",
    "stop_words = set(stopwords.words('english'))"
   ]
  },
  {
   "cell_type": "code",
   "execution_count": 47,
   "metadata": {
    "execution": {
     "iopub.execute_input": "2023-08-04T16:18:22.074606Z",
     "iopub.status.busy": "2023-08-04T16:18:22.073817Z",
     "iopub.status.idle": "2023-08-04T16:18:22.085473Z",
     "shell.execute_reply": "2023-08-04T16:18:22.084220Z",
     "shell.execute_reply.started": "2023-08-04T16:18:22.074565Z"
    },
    "id": "OkV-LesVk-_S"
   },
   "outputs": [],
   "source": [
    "def remove_stopwords(text):\n",
    "  words=text.split()\n",
    "  filtered_words = [w for w in words if w not in stopwords.words('english')]\n",
    "  return ' '.join(filtered_words)"
   ]
  },
  {
   "cell_type": "code",
   "execution_count": 48,
   "metadata": {
    "colab": {
     "base_uri": "https://localhost:8080/",
     "height": 49,
     "referenced_widgets": [
      "609080d27e054f4cb561c5930a4d237e",
      "2be2e1535da943819b260d151e79552b",
      "9b3189ca9a2143caab4efeb7e4460d40",
      "a09e66fbbf884b9da6921eeb8a2daf21",
      "8f48701fb8b6431fbecc9835a0438d11",
      "7efd627fe88446f59c5e8854b66c5f51",
      "81e7802f60a64c20aa7e4f0bec5a5897",
      "4addadc47df146bb893b31b2e6b10f16",
      "8fae921a82794ce58827725649ab2c1f",
      "ee72fe8548b047e4ba0f44418ceed93f",
      "d03d1b8aabf340079a0527e665fbd3a0"
     ]
    },
    "execution": {
     "iopub.execute_input": "2023-08-04T16:18:22.087636Z",
     "iopub.status.busy": "2023-08-04T16:18:22.087009Z",
     "iopub.status.idle": "2023-08-04T16:18:22.098674Z",
     "shell.execute_reply": "2023-08-04T16:18:22.097428Z",
     "shell.execute_reply.started": "2023-08-04T16:18:22.087603Z"
    },
    "id": "zgOwNN5yDnC2",
    "outputId": "62ba82e0-6b86-496d-f9b7-33ac4a13d853"
   },
   "outputs": [],
   "source": [
    "#data['no_stopwords'] = data['lemma'].progress_apply(lambda x: remove_stopwords(x))"
   ]
  },
  {
   "cell_type": "code",
   "execution_count": 49,
   "metadata": {
    "execution": {
     "iopub.execute_input": "2023-08-04T16:18:22.100379Z",
     "iopub.status.busy": "2023-08-04T16:18:22.100022Z",
     "iopub.status.idle": "2023-08-04T16:18:22.111043Z",
     "shell.execute_reply": "2023-08-04T16:18:22.109904Z",
     "shell.execute_reply.started": "2023-08-04T16:18:22.100327Z"
    },
    "id": "1dQdUf5NJ5Z9"
   },
   "outputs": [],
   "source": [
    "#data.to_csv('tweets_no_stop.csv')"
   ]
  },
  {
   "cell_type": "code",
   "execution_count": 50,
   "metadata": {
    "execution": {
     "iopub.execute_input": "2023-08-04T16:18:22.112860Z",
     "iopub.status.busy": "2023-08-04T16:18:22.112503Z",
     "iopub.status.idle": "2023-08-04T16:18:25.668633Z",
     "shell.execute_reply": "2023-08-04T16:18:25.667122Z",
     "shell.execute_reply.started": "2023-08-04T16:18:22.112831Z"
    },
    "id": "ua4mhy2YOLZ8"
   },
   "outputs": [],
   "source": [
    "try:\n",
    "    data = pd.read_csv('/kaggle/input/tweets/tweets_no_stop.csv',index_col=[0])\n",
    "except:\n",
    "    data['no_stopwords'] = data['lemma'].progress_apply(lambda x: remove_stopwords(x))"
   ]
  },
  {
   "cell_type": "markdown",
   "metadata": {
    "id": "qAu3FwelO2Q9"
   },
   "source": [
    "### Stopwords и TF-IDF"
   ]
  },
  {
   "cell_type": "code",
   "execution_count": 51,
   "metadata": {
    "colab": {
     "base_uri": "https://localhost:8080/"
    },
    "execution": {
     "iopub.execute_input": "2023-08-04T16:18:25.670988Z",
     "iopub.status.busy": "2023-08-04T16:18:25.670497Z",
     "iopub.status.idle": "2023-08-04T16:18:25.681534Z",
     "shell.execute_reply": "2023-08-04T16:18:25.680419Z",
     "shell.execute_reply.started": "2023-08-04T16:18:25.670944Z"
    },
    "id": "K8EyEISPWSPb",
    "outputId": "0b990213-3d7c-4578-ff6d-b77396a60933"
   },
   "outputs": [],
   "source": [
    "count_tf_idf = TfidfVectorizer(stop_words=list(stop_words))"
   ]
  },
  {
   "cell_type": "code",
   "execution_count": 52,
   "metadata": {
    "execution": {
     "iopub.execute_input": "2023-08-04T16:18:25.683253Z",
     "iopub.status.busy": "2023-08-04T16:18:25.682850Z",
     "iopub.status.idle": "2023-08-04T16:18:25.735008Z",
     "shell.execute_reply": "2023-08-04T16:18:25.733825Z",
     "shell.execute_reply.started": "2023-08-04T16:18:25.683155Z"
    },
    "id": "YLuMQvyTRtA-"
   },
   "outputs": [],
   "source": [
    "data=data[['no_stopwords','toxic','text']]"
   ]
  },
  {
   "cell_type": "code",
   "execution_count": 53,
   "metadata": {
    "execution": {
     "iopub.execute_input": "2023-08-04T16:18:25.737045Z",
     "iopub.status.busy": "2023-08-04T16:18:25.736603Z",
     "iopub.status.idle": "2023-08-04T16:18:25.742756Z",
     "shell.execute_reply": "2023-08-04T16:18:25.741392Z",
     "shell.execute_reply.started": "2023-08-04T16:18:25.737004Z"
    },
    "id": "Mx-9pTDhSJ2v"
   },
   "outputs": [],
   "source": [
    "X, y='no_stopwords', 'toxic'"
   ]
  },
  {
   "cell_type": "code",
   "execution_count": 54,
   "metadata": {
    "execution": {
     "iopub.execute_input": "2023-08-04T16:18:25.744960Z",
     "iopub.status.busy": "2023-08-04T16:18:25.744538Z",
     "iopub.status.idle": "2023-08-04T16:18:25.785566Z",
     "shell.execute_reply": "2023-08-04T16:18:25.784116Z",
     "shell.execute_reply.started": "2023-08-04T16:18:25.744928Z"
    }
   },
   "outputs": [
    {
     "data": {
      "text/html": [
       "<div>\n",
       "<style scoped>\n",
       "    .dataframe tbody tr th:only-of-type {\n",
       "        vertical-align: middle;\n",
       "    }\n",
       "\n",
       "    .dataframe tbody tr th {\n",
       "        vertical-align: top;\n",
       "    }\n",
       "\n",
       "    .dataframe thead th {\n",
       "        text-align: right;\n",
       "    }\n",
       "</style>\n",
       "<table border=\"1\" class=\"dataframe\">\n",
       "  <thead>\n",
       "    <tr style=\"text-align: right;\">\n",
       "      <th></th>\n",
       "      <th>no_stopwords</th>\n",
       "      <th>toxic</th>\n",
       "      <th>text</th>\n",
       "    </tr>\n",
       "  </thead>\n",
       "  <tbody>\n",
       "    <tr>\n",
       "      <th>2091</th>\n",
       "      <td>NaN</td>\n",
       "      <td>0</td>\n",
       "      <td>No, it doesn´t.80.228.65.162</td>\n",
       "    </tr>\n",
       "    <tr>\n",
       "      <th>2400</th>\n",
       "      <td>NaN</td>\n",
       "      <td>0</td>\n",
       "      <td>Here, here and here.</td>\n",
       "    </tr>\n",
       "    <tr>\n",
       "      <th>3983</th>\n",
       "      <td>NaN</td>\n",
       "      <td>0</td>\n",
       "      <td>From here\\n\\nFrom here 160.80.2.8</td>\n",
       "    </tr>\n",
       "    <tr>\n",
       "      <th>8837</th>\n",
       "      <td>NaN</td>\n",
       "      <td>0</td>\n",
       "      <td>What is I 78.146.102.144</td>\n",
       "    </tr>\n",
       "    <tr>\n",
       "      <th>9386</th>\n",
       "      <td>NaN</td>\n",
       "      <td>0</td>\n",
       "      <td>They do too.  their ... -</td>\n",
       "    </tr>\n",
       "  </tbody>\n",
       "</table>\n",
       "</div>"
      ],
      "text/plain": [
       "     no_stopwords  toxic                               text\n",
       "2091          NaN      0       No, it doesn´t.80.228.65.162\n",
       "2400          NaN      0               Here, here and here.\n",
       "3983          NaN      0  From here\\n\\nFrom here 160.80.2.8\n",
       "8837          NaN      0           What is I 78.146.102.144\n",
       "9386          NaN      0          They do too.  their ... -"
      ]
     },
     "execution_count": 54,
     "metadata": {},
     "output_type": "execute_result"
    }
   ],
   "source": [
    "data[data[X].isna()].head(5)"
   ]
  },
  {
   "cell_type": "code",
   "execution_count": 55,
   "metadata": {
    "execution": {
     "iopub.execute_input": "2023-08-04T16:18:25.787336Z",
     "iopub.status.busy": "2023-08-04T16:18:25.786989Z",
     "iopub.status.idle": "2023-08-04T16:18:25.930309Z",
     "shell.execute_reply": "2023-08-04T16:18:25.929153Z",
     "shell.execute_reply.started": "2023-08-04T16:18:25.787298Z"
    }
   },
   "outputs": [],
   "source": [
    "data=data.dropna()"
   ]
  },
  {
   "cell_type": "code",
   "execution_count": 56,
   "metadata": {
    "execution": {
     "iopub.execute_input": "2023-08-04T16:18:25.932112Z",
     "iopub.status.busy": "2023-08-04T16:18:25.931770Z",
     "iopub.status.idle": "2023-08-04T16:18:25.938947Z",
     "shell.execute_reply": "2023-08-04T16:18:25.937817Z",
     "shell.execute_reply.started": "2023-08-04T16:18:25.932082Z"
    }
   },
   "outputs": [
    {
     "name": "stdout",
     "output_type": "stream",
     "text": [
      "Доля удаленных из анализа сообщений состовляет: 0.00039550008788891144\n"
     ]
    }
   ],
   "source": [
    "print('Доля удаленных из анализа сообщений состовляет:',1-data.shape[0]/full_data_length)"
   ]
  },
  {
   "cell_type": "markdown",
   "metadata": {
    "id": "E0i7BR4ewXLF"
   },
   "source": [
    "### Balance and sets"
   ]
  },
  {
   "cell_type": "code",
   "execution_count": 57,
   "metadata": {
    "colab": {
     "base_uri": "https://localhost:8080/"
    },
    "execution": {
     "iopub.execute_input": "2023-08-04T16:18:25.940950Z",
     "iopub.status.busy": "2023-08-04T16:18:25.940554Z",
     "iopub.status.idle": "2023-08-04T16:18:25.950442Z",
     "shell.execute_reply": "2023-08-04T16:18:25.949248Z",
     "shell.execute_reply.started": "2023-08-04T16:18:25.940905Z"
    },
    "id": "NP8UxRHollgz",
    "outputId": "eaa433c8-b78b-4156-f0ec-c9867941eb76"
   },
   "outputs": [
    {
     "name": "stdout",
     "output_type": "stream",
     "text": [
      "Дисбаланс классов, доля токсичных сообщений состовляет: 10.0 %\n"
     ]
    }
   ],
   "source": [
    "print('Дисбаланс классов, доля токсичных сообщений состовляет:',100*data['toxic'].mean().round(1),'%')"
   ]
  },
  {
   "cell_type": "code",
   "execution_count": 58,
   "metadata": {
    "execution": {
     "iopub.execute_input": "2023-08-04T16:18:25.952496Z",
     "iopub.status.busy": "2023-08-04T16:18:25.952099Z",
     "iopub.status.idle": "2023-08-04T16:18:26.166839Z",
     "shell.execute_reply": "2023-08-04T16:18:26.165588Z",
     "shell.execute_reply.started": "2023-08-04T16:18:25.952465Z"
    },
    "id": "kqvia-WVRW3_"
   },
   "outputs": [],
   "source": [
    "train_valid, test = train_test_split(data, test_size=0.2, random_state=12345, stratify=data[y])\n",
    "train, valid  = train_test_split(train_valid, test_size=0.2, random_state=12345, stratify=train_valid[y])"
   ]
  },
  {
   "cell_type": "code",
   "execution_count": 59,
   "metadata": {
    "colab": {
     "base_uri": "https://localhost:8080/"
    },
    "execution": {
     "iopub.execute_input": "2023-08-04T16:18:26.168804Z",
     "iopub.status.busy": "2023-08-04T16:18:26.168477Z",
     "iopub.status.idle": "2023-08-04T16:18:26.177821Z",
     "shell.execute_reply": "2023-08-04T16:18:26.176651Z",
     "shell.execute_reply.started": "2023-08-04T16:18:26.168775Z"
    },
    "id": "t0zeZbDDSF4G",
    "outputId": "4f103ab5-0b91-4551-cad6-1845c18cd23b"
   },
   "outputs": [
    {
     "name": "stdout",
     "output_type": "stream",
     "text": [
      "0.10164621652810815 (127383, 3)\n",
      "0.10164269032245403 (101906, 3)\n",
      "0.1016603210739098 (25477, 3)\n",
      "0.10164541857690133 (31846, 3)\n"
     ]
    }
   ],
   "source": [
    "# Dispalance in sets in their size\n",
    "print(train_valid[y].mean(),train_valid.shape)\n",
    "print(train[y].mean(),train.shape)\n",
    "print(valid[y].mean(),valid.shape)\n",
    "print(test[y].mean(),test.shape)"
   ]
  },
  {
   "cell_type": "markdown",
   "metadata": {
    "id": "qAu3FwelO2Q9"
   },
   "source": [
    "### TF-IDF "
   ]
  },
  {
   "cell_type": "code",
   "execution_count": 60,
   "metadata": {
    "execution": {
     "iopub.execute_input": "2023-08-04T16:18:26.179164Z",
     "iopub.status.busy": "2023-08-04T16:18:26.178840Z",
     "iopub.status.idle": "2023-08-04T16:18:42.200234Z",
     "shell.execute_reply": "2023-08-04T16:18:42.198869Z",
     "shell.execute_reply.started": "2023-08-04T16:18:26.179136Z"
    },
    "id": "6_lpngWXRMtZ"
   },
   "outputs": [],
   "source": [
    "#Создадим матрицу cо значениями TF-IDF\n",
    "#count_tf_idf = TfidfVectorizer(min_df=1,stop_words=list(stopwords))\n",
    "#count_tf_idf\n",
    "tf_idf_train_valid = count_tf_idf.fit_transform(train_valid[X])\n",
    "tf_idf_train = count_tf_idf.transform(train[X])\n",
    "tf_idf_valid = count_tf_idf.transform(valid[X])\n",
    "tf_idf_test = count_tf_idf.transform(test[X])"
   ]
  },
  {
   "cell_type": "code",
   "execution_count": 61,
   "metadata": {
    "colab": {
     "base_uri": "https://localhost:8080/"
    },
    "execution": {
     "iopub.execute_input": "2023-08-04T16:18:42.202023Z",
     "iopub.status.busy": "2023-08-04T16:18:42.201676Z",
     "iopub.status.idle": "2023-08-04T16:18:42.208984Z",
     "shell.execute_reply": "2023-08-04T16:18:42.207977Z",
     "shell.execute_reply.started": "2023-08-04T16:18:42.201991Z"
    },
    "id": "Dlwj3YpJTwDr",
    "outputId": "cafc2319-798a-4567-ad95-8f6ccf3cc013"
   },
   "outputs": [
    {
     "data": {
      "text/plain": [
       "(101906, 132838)"
      ]
     },
     "execution_count": 61,
     "metadata": {},
     "output_type": "execute_result"
    }
   ],
   "source": [
    "tf_idf_train.shape"
   ]
  },
  {
   "cell_type": "markdown",
   "metadata": {},
   "source": [
    "### Выводы"
   ]
  },
  {
   "cell_type": "markdown",
   "metadata": {},
   "source": [
    "Выводы\n",
    "\n",
    "Процесс предобработки состоял из следущих этапов:\n",
    "- чистка текста ( оставили только слова, убрали символы и слова из одной буквы)\n",
    "- лемматизация (привели слова к основаной форме )\n",
    "- убрали стоп слова\n",
    "- посчитали метрики TF-IDF для ее последущего использования как признак для обучения\n",
    "\n",
    "\n",
    "Наблюдается дисбаланс классов: доля токсичных сообщений состовляет: 10 %, нетоксичные сообщения 90 %"
   ]
  },
  {
   "cell_type": "markdown",
   "metadata": {},
   "source": [
    "## Обучение"
   ]
  },
  {
   "cell_type": "markdown",
   "metadata": {
    "id": "8O6CqJOiW941"
   },
   "source": [
    "### LogisticRegression"
   ]
  },
  {
   "cell_type": "code",
   "execution_count": 62,
   "metadata": {
    "colab": {
     "base_uri": "https://localhost:8080/",
     "height": 111
    },
    "execution": {
     "iopub.execute_input": "2023-08-04T16:18:42.211125Z",
     "iopub.status.busy": "2023-08-04T16:18:42.210721Z",
     "iopub.status.idle": "2023-08-04T16:18:51.145235Z",
     "shell.execute_reply": "2023-08-04T16:18:51.144038Z",
     "shell.execute_reply.started": "2023-08-04T16:18:42.211094Z"
    },
    "id": "r8Ola-wkZu5U",
    "outputId": "8726c1ca-3fe6-41ba-f5b3-4b40009959c3"
   },
   "outputs": [
    {
     "name": "stdout",
     "output_type": "stream",
     "text": [
      "CPU times: user 17.1 s, sys: 17.4 s, total: 34.5 s\n",
      "Wall time: 8.92 s\n"
     ]
    },
    {
     "data": {
      "text/html": [
       "<style>#sk-container-id-2 {color: black;background-color: white;}#sk-container-id-2 pre{padding: 0;}#sk-container-id-2 div.sk-toggleable {background-color: white;}#sk-container-id-2 label.sk-toggleable__label {cursor: pointer;display: block;width: 100%;margin-bottom: 0;padding: 0.3em;box-sizing: border-box;text-align: center;}#sk-container-id-2 label.sk-toggleable__label-arrow:before {content: \"▸\";float: left;margin-right: 0.25em;color: #696969;}#sk-container-id-2 label.sk-toggleable__label-arrow:hover:before {color: black;}#sk-container-id-2 div.sk-estimator:hover label.sk-toggleable__label-arrow:before {color: black;}#sk-container-id-2 div.sk-toggleable__content {max-height: 0;max-width: 0;overflow: hidden;text-align: left;background-color: #f0f8ff;}#sk-container-id-2 div.sk-toggleable__content pre {margin: 0.2em;color: black;border-radius: 0.25em;background-color: #f0f8ff;}#sk-container-id-2 input.sk-toggleable__control:checked~div.sk-toggleable__content {max-height: 200px;max-width: 100%;overflow: auto;}#sk-container-id-2 input.sk-toggleable__control:checked~label.sk-toggleable__label-arrow:before {content: \"▾\";}#sk-container-id-2 div.sk-estimator input.sk-toggleable__control:checked~label.sk-toggleable__label {background-color: #d4ebff;}#sk-container-id-2 div.sk-label input.sk-toggleable__control:checked~label.sk-toggleable__label {background-color: #d4ebff;}#sk-container-id-2 input.sk-hidden--visually {border: 0;clip: rect(1px 1px 1px 1px);clip: rect(1px, 1px, 1px, 1px);height: 1px;margin: -1px;overflow: hidden;padding: 0;position: absolute;width: 1px;}#sk-container-id-2 div.sk-estimator {font-family: monospace;background-color: #f0f8ff;border: 1px dotted black;border-radius: 0.25em;box-sizing: border-box;margin-bottom: 0.5em;}#sk-container-id-2 div.sk-estimator:hover {background-color: #d4ebff;}#sk-container-id-2 div.sk-parallel-item::after {content: \"\";width: 100%;border-bottom: 1px solid gray;flex-grow: 1;}#sk-container-id-2 div.sk-label:hover label.sk-toggleable__label {background-color: #d4ebff;}#sk-container-id-2 div.sk-serial::before {content: \"\";position: absolute;border-left: 1px solid gray;box-sizing: border-box;top: 0;bottom: 0;left: 50%;z-index: 0;}#sk-container-id-2 div.sk-serial {display: flex;flex-direction: column;align-items: center;background-color: white;padding-right: 0.2em;padding-left: 0.2em;position: relative;}#sk-container-id-2 div.sk-item {position: relative;z-index: 1;}#sk-container-id-2 div.sk-parallel {display: flex;align-items: stretch;justify-content: center;background-color: white;position: relative;}#sk-container-id-2 div.sk-item::before, #sk-container-id-2 div.sk-parallel-item::before {content: \"\";position: absolute;border-left: 1px solid gray;box-sizing: border-box;top: 0;bottom: 0;left: 50%;z-index: -1;}#sk-container-id-2 div.sk-parallel-item {display: flex;flex-direction: column;z-index: 1;position: relative;background-color: white;}#sk-container-id-2 div.sk-parallel-item:first-child::after {align-self: flex-end;width: 50%;}#sk-container-id-2 div.sk-parallel-item:last-child::after {align-self: flex-start;width: 50%;}#sk-container-id-2 div.sk-parallel-item:only-child::after {width: 0;}#sk-container-id-2 div.sk-dashed-wrapped {border: 1px dashed gray;margin: 0 0.4em 0.5em 0.4em;box-sizing: border-box;padding-bottom: 0.4em;background-color: white;}#sk-container-id-2 div.sk-label label {font-family: monospace;font-weight: bold;display: inline-block;line-height: 1.2em;}#sk-container-id-2 div.sk-label-container {text-align: center;}#sk-container-id-2 div.sk-container {/* jupyter's `normalize.less` sets `[hidden] { display: none; }` but bootstrap.min.css set `[hidden] { display: none !important; }` so we also need the `!important` here to be able to override the default hidden behavior on the sphinx rendered scikit-learn.org. See: https://github.com/scikit-learn/scikit-learn/issues/21755 */display: inline-block !important;position: relative;}#sk-container-id-2 div.sk-text-repr-fallback {display: none;}</style><div id=\"sk-container-id-2\" class=\"sk-top-container\"><div class=\"sk-text-repr-fallback\"><pre>LogisticRegression()</pre><b>In a Jupyter environment, please rerun this cell to show the HTML representation or trust the notebook. <br />On GitHub, the HTML representation is unable to render, please try loading this page with nbviewer.org.</b></div><div class=\"sk-container\" hidden><div class=\"sk-item\"><div class=\"sk-estimator sk-toggleable\"><input class=\"sk-toggleable__control sk-hidden--visually\" id=\"sk-estimator-id-2\" type=\"checkbox\" checked><label for=\"sk-estimator-id-2\" class=\"sk-toggleable__label sk-toggleable__label-arrow\">LogisticRegression</label><div class=\"sk-toggleable__content\"><pre>LogisticRegression()</pre></div></div></div></div></div>"
      ],
      "text/plain": [
       "LogisticRegression()"
      ]
     },
     "execution_count": 62,
     "metadata": {},
     "output_type": "execute_result"
    }
   ],
   "source": [
    "%%time\n",
    "\n",
    "model=LogisticRegression()\n",
    "model.fit(tf_idf_train,train[y])"
   ]
  },
  {
   "cell_type": "code",
   "execution_count": 63,
   "metadata": {
    "colab": {
     "base_uri": "https://localhost:8080/"
    },
    "execution": {
     "iopub.execute_input": "2023-08-04T16:18:51.148765Z",
     "iopub.status.busy": "2023-08-04T16:18:51.146999Z",
     "iopub.status.idle": "2023-08-04T16:18:51.218966Z",
     "shell.execute_reply": "2023-08-04T16:18:51.215399Z",
     "shell.execute_reply.started": "2023-08-04T16:18:51.148715Z"
    },
    "id": "Yu93cYtyaFzr",
    "outputId": "4172db02-553b-44a8-bcd3-b3319cd189fe"
   },
   "outputs": [
    {
     "data": {
      "text/plain": [
       "0.714115686741252"
      ]
     },
     "execution_count": 63,
     "metadata": {},
     "output_type": "execute_result"
    }
   ],
   "source": [
    "prediction=model.predict(tf_idf_valid)\n",
    "\n",
    "f1_score(valid[y], prediction)"
   ]
  },
  {
   "cell_type": "code",
   "execution_count": 64,
   "metadata": {
    "execution": {
     "iopub.execute_input": "2023-08-04T16:18:51.221096Z",
     "iopub.status.busy": "2023-08-04T16:18:51.220641Z",
     "iopub.status.idle": "2023-08-04T16:18:51.249866Z",
     "shell.execute_reply": "2023-08-04T16:18:51.248883Z",
     "shell.execute_reply.started": "2023-08-04T16:18:51.221028Z"
    },
    "id": "_2BuXZ6eX-T7"
   },
   "outputs": [],
   "source": [
    "predition_prob=model.predict_proba(tf_idf_valid)\n",
    "predition_prob_test=model.predict_proba(tf_idf_test)"
   ]
  },
  {
   "cell_type": "code",
   "execution_count": 65,
   "metadata": {
    "colab": {
     "base_uri": "https://localhost:8080/"
    },
    "execution": {
     "iopub.execute_input": "2023-08-04T16:18:51.252009Z",
     "iopub.status.busy": "2023-08-04T16:18:51.251568Z",
     "iopub.status.idle": "2023-08-04T16:18:54.727958Z",
     "shell.execute_reply": "2023-08-04T16:18:54.726676Z",
     "shell.execute_reply.started": "2023-08-04T16:18:51.251966Z"
    },
    "id": "IWFc4tIvYNRt",
    "outputId": "2a2222eb-8f67-4e81-cd6f-3002674ee73e"
   },
   "outputs": [
    {
     "name": "stdout",
     "output_type": "stream",
     "text": [
      "validation: best_score= 0.778119237861094\n",
      "best_score= 0.262\n"
     ]
    }
   ],
   "source": [
    "best_thr=0\n",
    "best_score=0\n",
    "for i in range(150,500):\n",
    "    thr=i/1000\n",
    "    pred=(predition_prob[:,1]>thr).astype('int')\n",
    "    score=f1_score(valid[y], pred)\n",
    "    if score>best_score:\n",
    "        best_score=score\n",
    "        best_thr=thr\n",
    "print('validation: best_score=',best_score)\n",
    "print('best_score=',best_thr)"
   ]
  },
  {
   "cell_type": "code",
   "execution_count": 66,
   "metadata": {
    "colab": {
     "base_uri": "https://localhost:8080/"
    },
    "execution": {
     "iopub.execute_input": "2023-08-04T16:18:54.730019Z",
     "iopub.status.busy": "2023-08-04T16:18:54.729681Z",
     "iopub.status.idle": "2023-08-04T16:18:54.752012Z",
     "shell.execute_reply": "2023-08-04T16:18:54.750817Z",
     "shell.execute_reply.started": "2023-08-04T16:18:54.729991Z"
    },
    "id": "cZ7PFIDHYD4d",
    "outputId": "c4c65900-f741-4e06-916e-a7f86d1a1c62"
   },
   "outputs": [
    {
     "name": "stdout",
     "output_type": "stream",
     "text": [
      "test set score: 0.7814102564102564\n"
     ]
    }
   ],
   "source": [
    "prediction_test=(predition_prob_test[:,1]>best_thr).astype('int')\n",
    "print('test set score:',f1_score(test[y], prediction_test))"
   ]
  },
  {
   "cell_type": "markdown",
   "metadata": {
    "id": "J77fQHogeN2T"
   },
   "source": [
    "### CatBoost"
   ]
  },
  {
   "cell_type": "code",
   "execution_count": 67,
   "metadata": {
    "execution": {
     "iopub.execute_input": "2023-08-04T16:18:54.753719Z",
     "iopub.status.busy": "2023-08-04T16:18:54.753340Z",
     "iopub.status.idle": "2023-08-04T16:19:10.223856Z",
     "shell.execute_reply": "2023-08-04T16:19:10.222688Z",
     "shell.execute_reply.started": "2023-08-04T16:18:54.753688Z"
    }
   },
   "outputs": [],
   "source": [
    "tf_idf_test = count_tf_idf.fit_transform(test[X])\n",
    "tf_idf_train_valid = count_tf_idf.transform(train_valid[X])\n",
    "tf_idf_valid = count_tf_idf.transform(valid[X])\n",
    "tf_idf_train = count_tf_idf.transform(train[X])"
   ]
  },
  {
   "cell_type": "code",
   "execution_count": 68,
   "metadata": {
    "execution": {
     "iopub.execute_input": "2023-08-04T16:19:10.225808Z",
     "iopub.status.busy": "2023-08-04T16:19:10.225462Z",
     "iopub.status.idle": "2023-08-04T16:19:11.035689Z",
     "shell.execute_reply": "2023-08-04T16:19:11.034536Z",
     "shell.execute_reply.started": "2023-08-04T16:19:10.225779Z"
    },
    "id": "m6abvYTCfIMU"
   },
   "outputs": [],
   "source": [
    "train_valid_data = Pool(data=tf_idf_train_valid,\n",
    "                  label=train_valid[y]\n",
    "                 )\n",
    "train_data = Pool(data=tf_idf_train,\n",
    "                  label=train[y]\n",
    "                 )\n",
    "valid_data = Pool(data=tf_idf_valid,\n",
    "                  label=valid[y]\n",
    "                 )\n",
    "test_data = Pool(data=tf_idf_test,\n",
    "                  label=test[y]\n",
    "                 )"
   ]
  },
  {
   "cell_type": "code",
   "execution_count": null,
   "metadata": {
    "execution": {
     "iopub.execute_input": "2023-08-04T16:11:09.495322Z",
     "iopub.status.busy": "2023-08-04T16:11:09.494912Z",
     "iopub.status.idle": "2023-08-04T16:11:09.501778Z",
     "shell.execute_reply": "2023-08-04T16:11:09.500606Z",
     "shell.execute_reply.started": "2023-08-04T16:11:09.495267Z"
    }
   },
   "outputs": [],
   "source": [
    "### start_time=time.time()\n",
    "rate=0.2 #0.25\n",
    "params = {'eval_metric': 'F1',\n",
    "          'loss_function': 'Logloss',\n",
    "              'learning_rate': rate,\n",
    "              'random_seed': 12345,\n",
    "              'verbose':100,\n",
    "          'iterations': 500  #300\n",
    "          #,  'task_type':\"GPU\"\n",
    "             # ,'devices':'0:1'\n",
    "             } # test -> \n",
    "\n",
    "model = CatBoostClassifier(**params)"
   ]
  },
  {
   "cell_type": "code",
   "execution_count": null,
   "metadata": {
    "execution": {
     "iopub.execute_input": "2023-08-04T16:11:18.382011Z",
     "iopub.status.busy": "2023-08-04T16:11:18.381637Z"
    }
   },
   "outputs": [],
   "source": [
    "%%time\n",
    "model.fit(train_data)"
   ]
  },
  {
   "cell_type": "code",
   "execution_count": 74,
   "metadata": {
    "execution": {
     "iopub.execute_input": "2023-08-04T16:09:12.073920Z",
     "iopub.status.busy": "2023-08-04T16:09:12.073510Z",
     "iopub.status.idle": "2023-08-04T16:09:12.256003Z",
     "shell.execute_reply": "2023-08-04T16:09:12.254866Z",
     "shell.execute_reply.started": "2023-08-04T16:09:12.073886Z"
    }
   },
   "outputs": [
    {
     "name": "stdout",
     "output_type": "stream",
     "text": [
      "for rate= 0.25 score= 0.7472278796107716  model.best_iteration_=  None  calc time 464.0869896411896\n"
     ]
    }
   ],
   "source": [
    "prediction=model.predict(valid_data)\n",
    "score=f1_score(valid[y], prediction)\n",
    "print('for rate=',rate ,\n",
    "          'score=', score, \n",
    "          ' model.best_iteration_= ',model.best_iteration_,\n",
    "          ' calc time', time.time()-start_time)"
   ]
  },
  {
   "cell_type": "code",
   "execution_count": 76,
   "metadata": {
    "execution": {
     "iopub.execute_input": "2023-08-04T16:10:17.041646Z",
     "iopub.status.busy": "2023-08-04T16:10:17.041210Z",
     "iopub.status.idle": "2023-08-04T16:10:17.268465Z",
     "shell.execute_reply": "2023-08-04T16:10:17.267327Z",
     "shell.execute_reply.started": "2023-08-04T16:10:17.041612Z"
    }
   },
   "outputs": [
    {
     "data": {
      "text/plain": [
       "0.7403476669716377"
      ]
     },
     "execution_count": 76,
     "metadata": {},
     "output_type": "execute_result"
    }
   ],
   "source": [
    "prediction=model.predict(test_data)\n",
    "score=f1_score(test[y], prediction)\n",
    "score"
   ]
  },
  {
   "cell_type": "code",
   "execution_count": 82,
   "metadata": {
    "colab": {
     "base_uri": "https://localhost:8080/"
    },
    "execution": {
     "iopub.execute_input": "2023-08-04T17:02:25.205382Z",
     "iopub.status.busy": "2023-08-04T17:02:25.204917Z",
     "iopub.status.idle": "2023-08-04T17:15:17.234148Z",
     "shell.execute_reply": "2023-08-04T17:15:17.232873Z",
     "shell.execute_reply.started": "2023-08-04T17:02:25.205331Z"
    },
    "id": "RwGGd_EKhfho",
    "outputId": "c13c8c7c-23e7-4407-b934-cef618d17180"
   },
   "outputs": [
    {
     "name": "stdout",
     "output_type": "stream",
     "text": [
      "0:\tlearn: 0.4691124\ttotal: 1.07s\tremaining: 17m 45s\n",
      "50:\tlearn: 0.6824441\ttotal: 41.2s\tremaining: 12m 46s\n",
      "100:\tlearn: 0.7283135\ttotal: 1m 20s\tremaining: 11m 53s\n",
      "150:\tlearn: 0.7542138\ttotal: 1m 58s\tremaining: 11m 6s\n",
      "200:\tlearn: 0.7734166\ttotal: 2m 36s\tremaining: 10m 23s\n",
      "250:\tlearn: 0.7855576\ttotal: 3m 15s\tremaining: 9m 43s\n",
      "300:\tlearn: 0.7956017\ttotal: 3m 54s\tremaining: 9m 4s\n",
      "350:\tlearn: 0.8080752\ttotal: 4m 33s\tremaining: 8m 24s\n",
      "400:\tlearn: 0.8153567\ttotal: 5m 11s\tremaining: 7m 45s\n",
      "450:\tlearn: 0.8209765\ttotal: 5m 49s\tremaining: 7m 5s\n",
      "500:\tlearn: 0.8236323\ttotal: 6m 27s\tremaining: 6m 25s\n",
      "550:\tlearn: 0.8255909\ttotal: 7m 4s\tremaining: 5m 46s\n",
      "600:\tlearn: 0.8273644\ttotal: 7m 42s\tremaining: 5m 6s\n",
      "650:\tlearn: 0.8288965\ttotal: 8m 20s\tremaining: 4m 28s\n",
      "700:\tlearn: 0.8301805\ttotal: 8m 58s\tremaining: 3m 49s\n",
      "750:\tlearn: 0.8340379\ttotal: 9m 35s\tremaining: 3m 10s\n",
      "800:\tlearn: 0.8372647\ttotal: 10m 13s\tremaining: 2m 32s\n",
      "850:\tlearn: 0.8386922\ttotal: 10m 51s\tremaining: 1m 54s\n",
      "900:\tlearn: 0.8422471\ttotal: 11m 30s\tremaining: 1m 15s\n",
      "950:\tlearn: 0.8448870\ttotal: 12m 8s\tremaining: 37.5s\n",
      "999:\tlearn: 0.8484295\ttotal: 12m 46s\tremaining: 0us\n",
      "CPU times: user 47min 15s, sys: 15.7 s, total: 47min 30s\n",
      "Wall time: 12min 52s\n"
     ]
    },
    {
     "data": {
      "text/plain": [
       "<catboost.core.CatBoostClassifier at 0x79c97e50e5c0>"
      ]
     },
     "execution_count": 82,
     "metadata": {},
     "output_type": "execute_result"
    }
   ],
   "source": [
    "%%time\n",
    "\n",
    "params = {'eval_metric': 'F1',\n",
    "          'loss_function': 'Logloss',\n",
    "              'learning_rate': 1,\n",
    "              'random_seed': 12345,\n",
    "              'verbose':50,\n",
    "          'iterations': 300}  # test -> 0.765\n",
    "\n",
    "params = {'eval_metric': 'F1',\n",
    "          'loss_function': 'Logloss',\n",
    "              'learning_rate': 0.2,\n",
    "              'random_seed': 12345,\n",
    "              'verbose':50,\n",
    "          'iterations': 1000} # test -> 0.769\n",
    "\n",
    "model = CatBoostClassifier(**params)\n",
    "model.fit(train_data)\n"
   ]
  },
  {
   "cell_type": "code",
   "execution_count": 83,
   "metadata": {
    "execution": {
     "iopub.execute_input": "2023-08-04T17:15:17.237664Z",
     "iopub.status.busy": "2023-08-04T17:15:17.236630Z",
     "iopub.status.idle": "2023-08-04T17:15:17.244052Z",
     "shell.execute_reply": "2023-08-04T17:15:17.242555Z",
     "shell.execute_reply.started": "2023-08-04T17:15:17.237594Z"
    }
   },
   "outputs": [],
   "source": [
    "model.best_iteration_"
   ]
  },
  {
   "cell_type": "code",
   "execution_count": 84,
   "metadata": {
    "execution": {
     "iopub.execute_input": "2023-08-04T17:15:17.245767Z",
     "iopub.status.busy": "2023-08-04T17:15:17.245294Z",
     "iopub.status.idle": "2023-08-04T17:15:17.621235Z",
     "shell.execute_reply": "2023-08-04T17:15:17.620396Z",
     "shell.execute_reply.started": "2023-08-04T17:15:17.245723Z"
    }
   },
   "outputs": [
    {
     "data": {
      "text/plain": [
       "0.7581512002866355"
      ]
     },
     "execution_count": 84,
     "metadata": {},
     "output_type": "execute_result"
    }
   ],
   "source": [
    "prediction=model.predict(test_data)\n",
    "score=f1_score(test[y], prediction)\n",
    "score"
   ]
  },
  {
   "cell_type": "code",
   "execution_count": 85,
   "metadata": {
    "execution": {
     "iopub.execute_input": "2023-08-04T17:15:17.624770Z",
     "iopub.status.busy": "2023-08-04T17:15:17.623652Z",
     "iopub.status.idle": "2023-08-04T17:15:17.912580Z",
     "shell.execute_reply": "2023-08-04T17:15:17.911433Z",
     "shell.execute_reply.started": "2023-08-04T17:15:17.624719Z"
    }
   },
   "outputs": [
    {
     "data": {
      "text/plain": [
       "0.7566125805734608"
      ]
     },
     "execution_count": 85,
     "metadata": {},
     "output_type": "execute_result"
    }
   ],
   "source": [
    "prediction=model.predict(valid_data)\n",
    "score=f1_score(valid[y], prediction)\n",
    "score"
   ]
  },
  {
   "cell_type": "markdown",
   "metadata": {
    "id": "njHGokppaWXt"
   },
   "source": [
    "### (Distil) BERT model + logistic regression"
   ]
  },
  {
   "cell_type": "code",
   "execution_count": 5,
   "metadata": {
    "execution": {
     "iopub.execute_input": "2023-08-04T13:30:49.399199Z",
     "iopub.status.busy": "2023-08-04T13:30:49.398708Z",
     "iopub.status.idle": "2023-08-04T13:30:49.405051Z",
     "shell.execute_reply": "2023-08-04T13:30:49.403876Z",
     "shell.execute_reply.started": "2023-08-04T13:30:49.399157Z"
    }
   },
   "outputs": [],
   "source": [
    "# Select the device for training (use GPU if you have one)\n",
    "#device = torch.device('cpu')\n",
    "device = torch.device('cuda:0')"
   ]
  },
  {
   "cell_type": "code",
   "execution_count": 6,
   "metadata": {
    "execution": {
     "iopub.execute_input": "2023-08-04T13:30:49.815615Z",
     "iopub.status.busy": "2023-08-04T13:30:49.815109Z",
     "iopub.status.idle": "2023-08-04T13:30:49.827363Z",
     "shell.execute_reply": "2023-08-04T13:30:49.825914Z",
     "shell.execute_reply.started": "2023-08-04T13:30:49.815575Z"
    }
   },
   "outputs": [
    {
     "data": {
      "text/plain": [
       "True"
      ]
     },
     "execution_count": 6,
     "metadata": {},
     "output_type": "execute_result"
    }
   ],
   "source": [
    "torch.cuda.is_available()"
   ]
  },
  {
   "cell_type": "code",
   "execution_count": 7,
   "metadata": {
    "execution": {
     "iopub.execute_input": "2023-08-04T13:30:50.306691Z",
     "iopub.status.busy": "2023-08-04T13:30:50.306043Z",
     "iopub.status.idle": "2023-08-04T13:30:50.315856Z",
     "shell.execute_reply": "2023-08-04T13:30:50.314413Z",
     "shell.execute_reply.started": "2023-08-04T13:30:50.306647Z"
    }
   },
   "outputs": [],
   "source": [
    "#model_class, tokenizer_class, pretrained_weights = (transformers.BertModel, transformers.BertTokenizer, 'bert-base-uncased')\n",
    "\n",
    "#tokenizer = tokenizer_class.from_pretrained(pretrained_weights)\n",
    "#model = model_class.from_pretrained(pretrained_weights).to(device)"
   ]
  },
  {
   "cell_type": "code",
   "execution_count": 8,
   "metadata": {
    "execution": {
     "iopub.execute_input": "2023-08-04T13:30:51.313408Z",
     "iopub.status.busy": "2023-08-04T13:30:51.312959Z",
     "iopub.status.idle": "2023-08-04T13:31:00.831374Z",
     "shell.execute_reply": "2023-08-04T13:31:00.830229Z",
     "shell.execute_reply.started": "2023-08-04T13:30:51.313373Z"
    }
   },
   "outputs": [
    {
     "data": {
      "application/vnd.jupyter.widget-view+json": {
       "model_id": "c237a60f146e404bba5697e2f5aba023",
       "version_major": 2,
       "version_minor": 0
      },
      "text/plain": [
       "Downloading (…)solve/main/vocab.txt:   0%|          | 0.00/232k [00:00<?, ?B/s]"
      ]
     },
     "metadata": {},
     "output_type": "display_data"
    },
    {
     "data": {
      "application/vnd.jupyter.widget-view+json": {
       "model_id": "b7691819e8b644d48cc01974e50d19db",
       "version_major": 2,
       "version_minor": 0
      },
      "text/plain": [
       "Downloading (…)okenizer_config.json:   0%|          | 0.00/28.0 [00:00<?, ?B/s]"
      ]
     },
     "metadata": {},
     "output_type": "display_data"
    },
    {
     "data": {
      "application/vnd.jupyter.widget-view+json": {
       "model_id": "f0c8c66afcd1450f811e5fd6c4821385",
       "version_major": 2,
       "version_minor": 0
      },
      "text/plain": [
       "Downloading (…)lve/main/config.json:   0%|          | 0.00/483 [00:00<?, ?B/s]"
      ]
     },
     "metadata": {},
     "output_type": "display_data"
    },
    {
     "data": {
      "application/vnd.jupyter.widget-view+json": {
       "model_id": "d4190cc67d9540509d8230335b92c75e",
       "version_major": 2,
       "version_minor": 0
      },
      "text/plain": [
       "Downloading model.safetensors:   0%|          | 0.00/268M [00:00<?, ?B/s]"
      ]
     },
     "metadata": {},
     "output_type": "display_data"
    },
    {
     "name": "stderr",
     "output_type": "stream",
     "text": [
      "Some weights of the model checkpoint at distilbert-base-uncased were not used when initializing DistilBertModel: ['vocab_transform.bias', 'vocab_layer_norm.bias', 'vocab_transform.weight', 'vocab_layer_norm.weight', 'vocab_projector.bias']\n",
      "- This IS expected if you are initializing DistilBertModel from the checkpoint of a model trained on another task or with another architecture (e.g. initializing a BertForSequenceClassification model from a BertForPreTraining model).\n",
      "- This IS NOT expected if you are initializing DistilBertModel from the checkpoint of a model that you expect to be exactly identical (initializing a BertForSequenceClassification model from a BertForSequenceClassification model).\n"
     ]
    }
   ],
   "source": [
    "from transformers import DistilBertTokenizer, DistilBertModel\n",
    "tokenizer = DistilBertTokenizer.from_pretrained('distilbert-base-uncased')\n",
    "model = DistilBertModel.from_pretrained(\"distilbert-base-uncased\").to(device)\n",
    "\n",
    "#text = \"Replace me by any text you'd like.\"\n",
    "#encoded_input = tokenizer(text, return_tensors='pt')\n",
    "#output = model(**encoded_input)"
   ]
  },
  {
   "cell_type": "code",
   "execution_count": 9,
   "metadata": {
    "execution": {
     "iopub.execute_input": "2023-08-04T13:31:00.833888Z",
     "iopub.status.busy": "2023-08-04T13:31:00.833562Z",
     "iopub.status.idle": "2023-08-04T13:31:06.104827Z",
     "shell.execute_reply": "2023-08-04T13:31:06.102742Z",
     "shell.execute_reply.started": "2023-08-04T13:31:00.833860Z"
    }
   },
   "outputs": [],
   "source": [
    "try:\n",
    "    data_all = pd.read_csv('toxic_comments.csv',index_col=[0])\n",
    "except:\n",
    "    data_all=pd.read_csv('https://code.s3.yandex.net/datasets/toxic_comments.csv',index_col=[0])"
   ]
  },
  {
   "cell_type": "code",
   "execution_count": 17,
   "metadata": {
    "execution": {
     "iopub.execute_input": "2023-08-04T13:35:43.959658Z",
     "iopub.status.busy": "2023-08-04T13:35:43.959251Z",
     "iopub.status.idle": "2023-08-04T13:35:44.900184Z",
     "shell.execute_reply": "2023-08-04T13:35:44.898979Z",
     "shell.execute_reply.started": "2023-08-04T13:35:43.959626Z"
    }
   },
   "outputs": [
    {
     "data": {
      "text/plain": [
       "text     1969\n",
       "toxic    1969\n",
       "dtype: int64"
      ]
     },
     "execution_count": 17,
     "metadata": {},
     "output_type": "execute_result"
    }
   ],
   "source": [
    "long_subset=data_all[(np.array([len(s.split()) for s in data_all[X]])>512)]\n",
    "long_subset.count()"
   ]
  },
  {
   "cell_type": "code",
   "execution_count": 18,
   "metadata": {
    "execution": {
     "iopub.execute_input": "2023-08-04T13:35:58.123491Z",
     "iopub.status.busy": "2023-08-04T13:35:58.123060Z",
     "iopub.status.idle": "2023-08-04T13:35:58.133189Z",
     "shell.execute_reply": "2023-08-04T13:35:58.132021Z",
     "shell.execute_reply.started": "2023-08-04T13:35:58.123459Z"
    }
   },
   "outputs": [
    {
     "data": {
      "text/plain": [
       "(159292, 2)"
      ]
     },
     "execution_count": 18,
     "metadata": {},
     "output_type": "execute_result"
    }
   ],
   "source": [
    "data_all.shape"
   ]
  },
  {
   "cell_type": "code",
   "execution_count": 97,
   "metadata": {
    "execution": {
     "iopub.execute_input": "2023-08-04T13:49:33.768642Z",
     "iopub.status.busy": "2023-08-04T13:49:33.768228Z",
     "iopub.status.idle": "2023-08-04T13:49:33.791678Z",
     "shell.execute_reply": "2023-08-04T13:49:33.790513Z",
     "shell.execute_reply.started": "2023-08-04T13:49:33.768612Z"
    },
    "id": "sQQ_OVj6-Dtz"
   },
   "outputs": [
    {
     "name": "stdout",
     "output_type": "stream",
     "text": [
      "DATA_SIZE= 159292\n"
     ]
    }
   ],
   "source": [
    "# full set settings\n",
    "DATA_SIZE=data_all.shape[0]\n",
    "BERT_SAMPLES = DATA_SIZE\n",
    "BATCH_SIZE = 100\n",
    "data_sample=data_all\n",
    "\n",
    "# test settings\n",
    "#DATA_SIZE=data_all.shape[0]\n",
    "#BERT_SAMPLES = (DATA_SIZE//200)*2\n",
    "#BATCH_SIZE = 100\n",
    "#data_sample=data_all.groupby('toxic', group_keys=False).apply(lambda x: x.sample(min(len(x), BERT_SAMPLES//2)))\n",
    "\n",
    "print('DATA_SIZE=',len(data_sample))\n",
    "X='text'\n",
    "y='toxic'\n",
    "data_sample=data_sample[[X,y]].reset_index()"
   ]
  },
  {
   "cell_type": "code",
   "execution_count": 98,
   "metadata": {
    "execution": {
     "iopub.execute_input": "2023-08-04T13:49:35.630829Z",
     "iopub.status.busy": "2023-08-04T13:49:35.630015Z",
     "iopub.status.idle": "2023-08-04T13:57:48.756720Z",
     "shell.execute_reply": "2023-08-04T13:57:48.755504Z",
     "shell.execute_reply.started": "2023-08-04T13:49:35.630772Z"
    }
   },
   "outputs": [
    {
     "data": {
      "application/vnd.jupyter.widget-view+json": {
       "model_id": "0619f8c2b6ad48dab5eb0b6de325e8ee",
       "version_major": 2,
       "version_minor": 0
      },
      "text/plain": [
       "  0%|          | 0/159292 [00:00<?, ?it/s]"
      ]
     },
     "metadata": {},
     "output_type": "display_data"
    }
   ],
   "source": [
    "tqdm.pandas()\n",
    "\n",
    "tokenized = data_sample[X].progress_apply(lambda x: tokenizer.encode(x, add_special_tokens=True, padding='max_length', truncation=True))"
   ]
  },
  {
   "cell_type": "code",
   "execution_count": 99,
   "metadata": {
    "execution": {
     "iopub.execute_input": "2023-08-04T13:57:48.759677Z",
     "iopub.status.busy": "2023-08-04T13:57:48.758821Z",
     "iopub.status.idle": "2023-08-04T13:57:48.767280Z",
     "shell.execute_reply": "2023-08-04T13:57:48.766231Z",
     "shell.execute_reply.started": "2023-08-04T13:57:48.759640Z"
    }
   },
   "outputs": [
    {
     "data": {
      "text/plain": [
       "(159292, 3)"
      ]
     },
     "execution_count": 99,
     "metadata": {},
     "output_type": "execute_result"
    }
   ],
   "source": [
    "data_sample.shape"
   ]
  },
  {
   "cell_type": "code",
   "execution_count": 100,
   "metadata": {
    "execution": {
     "iopub.execute_input": "2023-08-04T13:57:48.770424Z",
     "iopub.status.busy": "2023-08-04T13:57:48.768793Z",
     "iopub.status.idle": "2023-08-04T13:57:48.781821Z",
     "shell.execute_reply": "2023-08-04T13:57:48.780611Z",
     "shell.execute_reply.started": "2023-08-04T13:57:48.770386Z"
    }
   },
   "outputs": [
    {
     "data": {
      "text/plain": [
       "(159292,)"
      ]
     },
     "execution_count": 100,
     "metadata": {},
     "output_type": "execute_result"
    }
   ],
   "source": [
    "tokenized.index.shape"
   ]
  },
  {
   "cell_type": "code",
   "execution_count": 101,
   "metadata": {
    "execution": {
     "iopub.execute_input": "2023-08-04T13:57:48.785369Z",
     "iopub.status.busy": "2023-08-04T13:57:48.784944Z",
     "iopub.status.idle": "2023-08-04T13:57:48.790511Z",
     "shell.execute_reply": "2023-08-04T13:57:48.789488Z",
     "shell.execute_reply.started": "2023-08-04T13:57:48.785327Z"
    }
   },
   "outputs": [],
   "source": [
    "BERT_SAMPLES=len(tokenized)"
   ]
  },
  {
   "cell_type": "code",
   "execution_count": 102,
   "metadata": {
    "execution": {
     "iopub.execute_input": "2023-08-04T13:57:48.793341Z",
     "iopub.status.busy": "2023-08-04T13:57:48.792544Z",
     "iopub.status.idle": "2023-08-04T13:57:53.470158Z",
     "shell.execute_reply": "2023-08-04T13:57:53.469155Z",
     "shell.execute_reply.started": "2023-08-04T13:57:48.793286Z"
    }
   },
   "outputs": [],
   "source": [
    "tokens = []\n",
    "target = []\n",
    "for i in range(len(tokenized)):\n",
    "    if len(tokenized[i]) <= 512:\n",
    "        tokens.append(tokenized[i])\n",
    "        target.append(data_sample['toxic'][i])\n",
    "tokens = (pd.Series(tokens)).head(BERT_SAMPLES)\n",
    "target = (pd.Series(target)).head(BERT_SAMPLES)"
   ]
  },
  {
   "cell_type": "code",
   "execution_count": 103,
   "metadata": {
    "execution": {
     "iopub.execute_input": "2023-08-04T13:57:53.472327Z",
     "iopub.status.busy": "2023-08-04T13:57:53.471614Z",
     "iopub.status.idle": "2023-08-04T13:58:07.339931Z",
     "shell.execute_reply": "2023-08-04T13:58:07.338736Z",
     "shell.execute_reply.started": "2023-08-04T13:57:53.472268Z"
    }
   },
   "outputs": [
    {
     "data": {
      "application/vnd.jupyter.widget-view+json": {
       "model_id": "f9d05fbcefa94e99bcce436ef0b28faf",
       "version_major": 2,
       "version_minor": 0
      },
      "text/plain": [
       "  0%|          | 0/159292 [00:00<?, ?it/s]"
      ]
     },
     "metadata": {},
     "output_type": "display_data"
    },
    {
     "data": {
      "application/vnd.jupyter.widget-view+json": {
       "model_id": "0db36050408b42a28683fdd3a9f5ad4c",
       "version_major": 2,
       "version_minor": 0
      },
      "text/plain": [
       "  0%|          | 0/159292 [00:00<?, ?it/s]"
      ]
     },
     "metadata": {},
     "output_type": "display_data"
    }
   ],
   "source": [
    "max_len = 0\n",
    "for i in tqdm(tokens.values):\n",
    "    if len(i) > max_len:\n",
    "        max_len = len(i)\n",
    "\n",
    "padded = np.array([i + [0]*(max_len - len(i)) for i in tqdm(tokens.values)])\n",
    "attention_mask = np.where(padded != 0, 1, 0)"
   ]
  },
  {
   "cell_type": "code",
   "execution_count": 104,
   "metadata": {
    "execution": {
     "iopub.execute_input": "2023-08-04T13:58:07.342664Z",
     "iopub.status.busy": "2023-08-04T13:58:07.341521Z",
     "iopub.status.idle": "2023-08-04T13:58:07.352788Z",
     "shell.execute_reply": "2023-08-04T13:58:07.351724Z",
     "shell.execute_reply.started": "2023-08-04T13:58:07.342624Z"
    }
   },
   "outputs": [
    {
     "data": {
      "text/plain": [
       "(159292, 512)"
      ]
     },
     "metadata": {},
     "output_type": "display_data"
    },
    {
     "data": {
      "text/plain": [
       "(159292, 512)"
      ]
     },
     "metadata": {},
     "output_type": "display_data"
    }
   ],
   "source": [
    "display(padded.shape, attention_mask.shape)\n"
   ]
  },
  {
   "cell_type": "code",
   "execution_count": 105,
   "metadata": {
    "execution": {
     "iopub.execute_input": "2023-08-04T13:58:07.355323Z",
     "iopub.status.busy": "2023-08-04T13:58:07.354382Z",
     "iopub.status.idle": "2023-08-04T13:58:07.366251Z",
     "shell.execute_reply": "2023-08-04T13:58:07.365207Z",
     "shell.execute_reply.started": "2023-08-04T13:58:07.355263Z"
    }
   },
   "outputs": [
    {
     "data": {
      "text/plain": [
       "1592"
      ]
     },
     "execution_count": 105,
     "metadata": {},
     "output_type": "execute_result"
    }
   ],
   "source": [
    "batch_size = BATCH_SIZE\n",
    "embeddings = []\n",
    "num_of_batches=padded.shape[0] // batch_size\n",
    "num_of_batches"
   ]
  },
  {
   "cell_type": "code",
   "execution_count": 106,
   "metadata": {
    "execution": {
     "iopub.execute_input": "2023-08-04T13:58:07.368494Z",
     "iopub.status.busy": "2023-08-04T13:58:07.367646Z",
     "iopub.status.idle": "2023-08-04T13:58:07.374100Z",
     "shell.execute_reply": "2023-08-04T13:58:07.373127Z",
     "shell.execute_reply.started": "2023-08-04T13:58:07.368456Z"
    }
   },
   "outputs": [
    {
     "name": "stdout",
     "output_type": "stream",
     "text": [
      "estimaiton of calculation duration, in min 79.6\n"
     ]
    }
   ],
   "source": [
    "print('estimaiton of calculation duration, in min',num_of_batches*3/60)"
   ]
  },
  {
   "cell_type": "code",
   "execution_count": 107,
   "metadata": {
    "execution": {
     "iopub.execute_input": "2023-08-04T13:58:07.378478Z",
     "iopub.status.busy": "2023-08-04T13:58:07.377514Z",
     "iopub.status.idle": "2023-08-04T14:40:56.941768Z",
     "shell.execute_reply": "2023-08-04T14:40:56.940587Z",
     "shell.execute_reply.started": "2023-08-04T13:58:07.378439Z"
    }
   },
   "outputs": [
    {
     "name": "stdout",
     "output_type": "stream",
     "text": [
      "starting i = 100 / 1593\n",
      "everage time per batch= 1.609344344139099\n",
      "starting i = 200 / 1593\n",
      "everage time per batch= 1.6109972870349885\n",
      "starting i = 300 / 1593\n",
      "everage time per batch= 1.6092165740331015\n",
      "starting i = 400 / 1593\n",
      "everage time per batch= 1.6083427864313125\n",
      "starting i = 500 / 1593\n",
      "everage time per batch= 1.6086905508041383\n",
      "starting i = 600 / 1593\n",
      "everage time per batch= 1.610033076206843\n",
      "starting i = 700 / 1593\n",
      "everage time per batch= 1.6095545772143773\n",
      "starting i = 800 / 1593\n",
      "everage time per batch= 1.6095227658748628\n",
      "starting i = 900 / 1593\n",
      "everage time per batch= 1.6099046823713514\n",
      "starting i = 1000 / 1593\n",
      "everage time per batch= 1.6103076775074006\n",
      "starting i = 1100 / 1593\n",
      "everage time per batch= 1.610702857320959\n",
      "starting i = 1200 / 1593\n",
      "everage time per batch= 1.6110158067941667\n",
      "starting i = 1300 / 1593\n",
      "everage time per batch= 1.6113205302678621\n",
      "starting i = 1400 / 1593\n",
      "everage time per batch= 1.6116161847114563\n",
      "starting i = 1500 / 1593\n",
      "everage time per batch= 1.6118255049387613\n"
     ]
    }
   ],
   "source": [
    "start_time=-time.time()\n",
    "for i in range(num_of_batches+1):\n",
    "    if not((i+1)%100):\n",
    "        print('starting i =',i+1,'/',num_of_batches+1)\n",
    "        calculation_time=start_time+time.time()\n",
    "        print('everage time per batch=',calculation_time/(i+1))\n",
    "    #torch.from_numpy(img).float().to(device)\n",
    "    #batch = torch.tensor(pad,device=device)\n",
    "    #attention_mask_batch = torch.from_numpy(att).to(device)\n",
    "    pad=padded[batch_size*i:batch_size*(i+1)]\n",
    "    batch = torch.from_numpy(pad).float().to(device)\n",
    "    att=attention_mask[batch_size*i:batch_size*(i+1)]\n",
    "    attention_mask_batch = torch.tensor(att).to(device)\n",
    "    with torch.no_grad():\n",
    "        batch_embeddings = model(batch.to(torch.int64), attention_mask=attention_mask_batch)\n",
    "    \n",
    "    embeddings.append(batch_embeddings[0][:,0,:].cpu().numpy())\n",
    "features_bert = np.concatenate(embeddings)"
   ]
  },
  {
   "cell_type": "code",
   "execution_count": 109,
   "metadata": {
    "execution": {
     "iopub.execute_input": "2023-08-04T14:43:07.361163Z",
     "iopub.status.busy": "2023-08-04T14:43:07.358112Z",
     "iopub.status.idle": "2023-08-04T14:43:07.374765Z",
     "shell.execute_reply": "2023-08-04T14:43:07.373205Z",
     "shell.execute_reply.started": "2023-08-04T14:43:07.361120Z"
    }
   },
   "outputs": [
    {
     "data": {
      "text/plain": [
       "(159292, 768)"
      ]
     },
     "execution_count": 109,
     "metadata": {},
     "output_type": "execute_result"
    }
   ],
   "source": [
    "features_bert.shape"
   ]
  },
  {
   "cell_type": "code",
   "execution_count": 108,
   "metadata": {
    "execution": {
     "iopub.execute_input": "2023-08-04T14:40:56.944078Z",
     "iopub.status.busy": "2023-08-04T14:40:56.943645Z",
     "iopub.status.idle": "2023-08-04T14:43:07.346847Z",
     "shell.execute_reply": "2023-08-04T14:43:07.345422Z",
     "shell.execute_reply.started": "2023-08-04T14:40:56.944037Z"
    }
   },
   "outputs": [],
   "source": [
    "from numpy import savetxt\n",
    "# save to csv file\n",
    "savetxt('features_bert_dist.csv', features_bert, delimiter=',')"
   ]
  },
  {
   "cell_type": "code",
   "execution_count": 110,
   "metadata": {
    "execution": {
     "iopub.execute_input": "2023-08-04T14:44:07.586090Z",
     "iopub.status.busy": "2023-08-04T14:44:07.585676Z",
     "iopub.status.idle": "2023-08-04T14:44:07.592853Z",
     "shell.execute_reply": "2023-08-04T14:44:07.591693Z",
     "shell.execute_reply.started": "2023-08-04T14:44:07.586060Z"
    }
   },
   "outputs": [
    {
     "data": {
      "text/plain": [
       "159292"
      ]
     },
     "execution_count": 110,
     "metadata": {},
     "output_type": "execute_result"
    }
   ],
   "source": [
    "len(data_sample['toxic'])"
   ]
  },
  {
   "cell_type": "code",
   "execution_count": 111,
   "metadata": {
    "execution": {
     "iopub.execute_input": "2023-08-04T14:44:08.901870Z",
     "iopub.status.busy": "2023-08-04T14:44:08.901437Z",
     "iopub.status.idle": "2023-08-04T14:44:08.910743Z",
     "shell.execute_reply": "2023-08-04T14:44:08.909397Z",
     "shell.execute_reply.started": "2023-08-04T14:44:08.901835Z"
    }
   },
   "outputs": [
    {
     "data": {
      "text/plain": [
       "159292"
      ]
     },
     "execution_count": 111,
     "metadata": {},
     "output_type": "execute_result"
    }
   ],
   "source": [
    "y_data=data_sample['toxic'].iloc[:len(features_bert)]\n",
    "len(y_data)"
   ]
  },
  {
   "cell_type": "code",
   "execution_count": 112,
   "metadata": {
    "execution": {
     "iopub.execute_input": "2023-08-04T14:44:09.776363Z",
     "iopub.status.busy": "2023-08-04T14:44:09.775099Z",
     "iopub.status.idle": "2023-08-04T14:44:11.459982Z",
     "shell.execute_reply": "2023-08-04T14:44:11.458770Z",
     "shell.execute_reply.started": "2023-08-04T14:44:09.776291Z"
    }
   },
   "outputs": [],
   "source": [
    "features_train_valid, features_test, target_train_valid, target_test = train_test_split(features_bert,y_data, test_size=0.2, random_state=12345, stratify=y_data) \n",
    "features_train, features_valid, target_train, target_valid = train_test_split(features_train_valid, target_train_valid, test_size=0.2, random_state=12345, stratify=target_train_valid)"
   ]
  },
  {
   "cell_type": "code",
   "execution_count": 120,
   "metadata": {
    "colab": {
     "base_uri": "https://localhost:8080/",
     "height": 111
    },
    "execution": {
     "iopub.execute_input": "2023-08-04T14:45:46.114111Z",
     "iopub.status.busy": "2023-08-04T14:45:46.113721Z",
     "iopub.status.idle": "2023-08-04T14:46:11.521975Z",
     "shell.execute_reply": "2023-08-04T14:46:11.520453Z",
     "shell.execute_reply.started": "2023-08-04T14:45:46.114080Z"
    },
    "id": "r8Ola-wkZu5U",
    "outputId": "8726c1ca-3fe6-41ba-f5b3-4b40009959c3"
   },
   "outputs": [
    {
     "name": "stdout",
     "output_type": "stream",
     "text": [
      "CPU times: user 44.6 s, sys: 2.32 s, total: 46.9 s\n",
      "Wall time: 25.4 s\n"
     ]
    },
    {
     "name": "stderr",
     "output_type": "stream",
     "text": [
      "/opt/conda/lib/python3.10/site-packages/sklearn/linear_model/_logistic.py:458: ConvergenceWarning: lbfgs failed to converge (status=1):\n",
      "STOP: TOTAL NO. of ITERATIONS REACHED LIMIT.\n",
      "\n",
      "Increase the number of iterations (max_iter) or scale the data as shown in:\n",
      "    https://scikit-learn.org/stable/modules/preprocessing.html\n",
      "Please also refer to the documentation for alternative solver options:\n",
      "    https://scikit-learn.org/stable/modules/linear_model.html#logistic-regression\n",
      "  n_iter_i = _check_optimize_result(\n"
     ]
    },
    {
     "data": {
      "text/html": [
       "<style>#sk-container-id-4 {color: black;background-color: white;}#sk-container-id-4 pre{padding: 0;}#sk-container-id-4 div.sk-toggleable {background-color: white;}#sk-container-id-4 label.sk-toggleable__label {cursor: pointer;display: block;width: 100%;margin-bottom: 0;padding: 0.3em;box-sizing: border-box;text-align: center;}#sk-container-id-4 label.sk-toggleable__label-arrow:before {content: \"▸\";float: left;margin-right: 0.25em;color: #696969;}#sk-container-id-4 label.sk-toggleable__label-arrow:hover:before {color: black;}#sk-container-id-4 div.sk-estimator:hover label.sk-toggleable__label-arrow:before {color: black;}#sk-container-id-4 div.sk-toggleable__content {max-height: 0;max-width: 0;overflow: hidden;text-align: left;background-color: #f0f8ff;}#sk-container-id-4 div.sk-toggleable__content pre {margin: 0.2em;color: black;border-radius: 0.25em;background-color: #f0f8ff;}#sk-container-id-4 input.sk-toggleable__control:checked~div.sk-toggleable__content {max-height: 200px;max-width: 100%;overflow: auto;}#sk-container-id-4 input.sk-toggleable__control:checked~label.sk-toggleable__label-arrow:before {content: \"▾\";}#sk-container-id-4 div.sk-estimator input.sk-toggleable__control:checked~label.sk-toggleable__label {background-color: #d4ebff;}#sk-container-id-4 div.sk-label input.sk-toggleable__control:checked~label.sk-toggleable__label {background-color: #d4ebff;}#sk-container-id-4 input.sk-hidden--visually {border: 0;clip: rect(1px 1px 1px 1px);clip: rect(1px, 1px, 1px, 1px);height: 1px;margin: -1px;overflow: hidden;padding: 0;position: absolute;width: 1px;}#sk-container-id-4 div.sk-estimator {font-family: monospace;background-color: #f0f8ff;border: 1px dotted black;border-radius: 0.25em;box-sizing: border-box;margin-bottom: 0.5em;}#sk-container-id-4 div.sk-estimator:hover {background-color: #d4ebff;}#sk-container-id-4 div.sk-parallel-item::after {content: \"\";width: 100%;border-bottom: 1px solid gray;flex-grow: 1;}#sk-container-id-4 div.sk-label:hover label.sk-toggleable__label {background-color: #d4ebff;}#sk-container-id-4 div.sk-serial::before {content: \"\";position: absolute;border-left: 1px solid gray;box-sizing: border-box;top: 0;bottom: 0;left: 50%;z-index: 0;}#sk-container-id-4 div.sk-serial {display: flex;flex-direction: column;align-items: center;background-color: white;padding-right: 0.2em;padding-left: 0.2em;position: relative;}#sk-container-id-4 div.sk-item {position: relative;z-index: 1;}#sk-container-id-4 div.sk-parallel {display: flex;align-items: stretch;justify-content: center;background-color: white;position: relative;}#sk-container-id-4 div.sk-item::before, #sk-container-id-4 div.sk-parallel-item::before {content: \"\";position: absolute;border-left: 1px solid gray;box-sizing: border-box;top: 0;bottom: 0;left: 50%;z-index: -1;}#sk-container-id-4 div.sk-parallel-item {display: flex;flex-direction: column;z-index: 1;position: relative;background-color: white;}#sk-container-id-4 div.sk-parallel-item:first-child::after {align-self: flex-end;width: 50%;}#sk-container-id-4 div.sk-parallel-item:last-child::after {align-self: flex-start;width: 50%;}#sk-container-id-4 div.sk-parallel-item:only-child::after {width: 0;}#sk-container-id-4 div.sk-dashed-wrapped {border: 1px dashed gray;margin: 0 0.4em 0.5em 0.4em;box-sizing: border-box;padding-bottom: 0.4em;background-color: white;}#sk-container-id-4 div.sk-label label {font-family: monospace;font-weight: bold;display: inline-block;line-height: 1.2em;}#sk-container-id-4 div.sk-label-container {text-align: center;}#sk-container-id-4 div.sk-container {/* jupyter's `normalize.less` sets `[hidden] { display: none; }` but bootstrap.min.css set `[hidden] { display: none !important; }` so we also need the `!important` here to be able to override the default hidden behavior on the sphinx rendered scikit-learn.org. See: https://github.com/scikit-learn/scikit-learn/issues/21755 */display: inline-block !important;position: relative;}#sk-container-id-4 div.sk-text-repr-fallback {display: none;}</style><div id=\"sk-container-id-4\" class=\"sk-top-container\"><div class=\"sk-text-repr-fallback\"><pre>LogisticRegression(class_weight=&#x27;balanced&#x27;, max_iter=200, random_state=12345)</pre><b>In a Jupyter environment, please rerun this cell to show the HTML representation or trust the notebook. <br />On GitHub, the HTML representation is unable to render, please try loading this page with nbviewer.org.</b></div><div class=\"sk-container\" hidden><div class=\"sk-item\"><div class=\"sk-estimator sk-toggleable\"><input class=\"sk-toggleable__control sk-hidden--visually\" id=\"sk-estimator-id-4\" type=\"checkbox\" checked><label for=\"sk-estimator-id-4\" class=\"sk-toggleable__label sk-toggleable__label-arrow\">LogisticRegression</label><div class=\"sk-toggleable__content\"><pre>LogisticRegression(class_weight=&#x27;balanced&#x27;, max_iter=200, random_state=12345)</pre></div></div></div></div></div>"
      ],
      "text/plain": [
       "LogisticRegression(class_weight='balanced', max_iter=200, random_state=12345)"
      ]
     },
     "execution_count": 120,
     "metadata": {},
     "output_type": "execute_result"
    }
   ],
   "source": [
    "%%time\n",
    "\n",
    "model_lin=LogisticRegression(solver='lbfgs', max_iter=200,random_state=12345, penalty='l2', class_weight='balanced')\n",
    "#model_lin=LogisticRegression(solver='liblinear', max_iter=100,random_state=12345, penalty='l2', class_weight='balanced')\n",
    "model_lin.fit(features_train,target_train)"
   ]
  },
  {
   "cell_type": "code",
   "execution_count": 121,
   "metadata": {
    "execution": {
     "iopub.execute_input": "2023-08-04T14:46:11.531891Z",
     "iopub.status.busy": "2023-08-04T14:46:11.527462Z",
     "iopub.status.idle": "2023-08-04T14:46:11.665586Z",
     "shell.execute_reply": "2023-08-04T14:46:11.664160Z",
     "shell.execute_reply.started": "2023-08-04T14:46:11.531834Z"
    }
   },
   "outputs": [
    {
     "data": {
      "text/plain": [
       "0.6664758906853627"
      ]
     },
     "execution_count": 121,
     "metadata": {},
     "output_type": "execute_result"
    }
   ],
   "source": [
    "prediction=model_lin.predict(features_valid)\n",
    "f1_score(target_valid, prediction)"
   ]
  },
  {
   "cell_type": "code",
   "execution_count": 122,
   "metadata": {
    "execution": {
     "iopub.execute_input": "2023-08-04T14:46:11.675803Z",
     "iopub.status.busy": "2023-08-04T14:46:11.672194Z",
     "iopub.status.idle": "2023-08-04T14:46:11.828881Z",
     "shell.execute_reply": "2023-08-04T14:46:11.827360Z",
     "shell.execute_reply.started": "2023-08-04T14:46:11.675749Z"
    }
   },
   "outputs": [
    {
     "data": {
      "text/plain": [
       "0.668832675794848"
      ]
     },
     "execution_count": 122,
     "metadata": {},
     "output_type": "execute_result"
    }
   ],
   "source": [
    "prediction=model_lin.predict(features_test)\n",
    "f1_score(target_test, prediction)"
   ]
  },
  {
   "cell_type": "code",
   "execution_count": 123,
   "metadata": {
    "execution": {
     "iopub.execute_input": "2023-08-04T14:46:11.840936Z",
     "iopub.status.busy": "2023-08-04T14:46:11.837325Z",
     "iopub.status.idle": "2023-08-04T14:46:12.064448Z",
     "shell.execute_reply": "2023-08-04T14:46:12.062728Z",
     "shell.execute_reply.started": "2023-08-04T14:46:11.840880Z"
    },
    "id": "_2BuXZ6eX-T7"
   },
   "outputs": [],
   "source": [
    "predition_prob=model_lin.predict_proba(features_valid)\n",
    "predition_prob_test=model_lin.predict_proba(features_test)"
   ]
  },
  {
   "cell_type": "code",
   "execution_count": 124,
   "metadata": {
    "colab": {
     "base_uri": "https://localhost:8080/"
    },
    "execution": {
     "iopub.execute_input": "2023-08-04T14:46:12.075950Z",
     "iopub.status.busy": "2023-08-04T14:46:12.072029Z",
     "iopub.status.idle": "2023-08-04T14:46:13.140877Z",
     "shell.execute_reply": "2023-08-04T14:46:13.139641Z",
     "shell.execute_reply.started": "2023-08-04T14:46:12.075890Z"
    },
    "id": "IWFc4tIvYNRt",
    "outputId": "2a2222eb-8f67-4e81-cd6f-3002674ee73e"
   },
   "outputs": [
    {
     "name": "stdout",
     "output_type": "stream",
     "text": [
      "validation: best_score= 0.752406623026569\n",
      "best threshold= 0.84\n"
     ]
    }
   ],
   "source": [
    "best_thr=0\n",
    "best_score=0\n",
    "for i in range(1,100):\n",
    "    thr=i/100\n",
    "    pred=(predition_prob[:,1]>thr).astype('int')\n",
    "    score=f1_score(target_valid, pred)\n",
    "    if score>best_score:\n",
    "        best_score=score\n",
    "        best_thr=thr\n",
    "print('validation: best_score=',best_score)\n",
    "print('best threshold=',best_thr)"
   ]
  },
  {
   "cell_type": "code",
   "execution_count": 125,
   "metadata": {
    "colab": {
     "base_uri": "https://localhost:8080/"
    },
    "execution": {
     "iopub.execute_input": "2023-08-04T14:46:13.143234Z",
     "iopub.status.busy": "2023-08-04T14:46:13.142817Z",
     "iopub.status.idle": "2023-08-04T14:46:13.167454Z",
     "shell.execute_reply": "2023-08-04T14:46:13.166524Z",
     "shell.execute_reply.started": "2023-08-04T14:46:13.143196Z"
    },
    "id": "cZ7PFIDHYD4d",
    "outputId": "c4c65900-f741-4e06-916e-a7f86d1a1c62"
   },
   "outputs": [
    {
     "name": "stdout",
     "output_type": "stream",
     "text": [
      "test set score: 0.7567651632970451\n"
     ]
    }
   ],
   "source": [
    "prediction_test=(predition_prob_test[:,1]>best_thr).astype('int')\n",
    "print('test set score:',f1_score(target_test, prediction_test))"
   ]
  },
  {
   "cell_type": "markdown",
   "metadata": {
    "id": "njHGokppaWXt"
   },
   "source": [
    "### BERT model + logistic regression on cleaned data"
   ]
  },
  {
   "cell_type": "code",
   "execution_count": 12,
   "metadata": {
    "execution": {
     "iopub.execute_input": "2023-08-04T09:11:05.959493Z",
     "iopub.status.busy": "2023-08-04T09:11:05.959109Z",
     "iopub.status.idle": "2023-08-04T09:11:05.964135Z",
     "shell.execute_reply": "2023-08-04T09:11:05.963199Z",
     "shell.execute_reply.started": "2023-08-04T09:11:05.959462Z"
    }
   },
   "outputs": [],
   "source": [
    "# Select the device for training (use GPU if you have one)\n",
    "#device = torch.device('cpu')\n",
    "device = torch.device('cuda:0')"
   ]
  },
  {
   "cell_type": "code",
   "execution_count": 13,
   "metadata": {
    "execution": {
     "iopub.execute_input": "2023-08-04T09:11:08.019339Z",
     "iopub.status.busy": "2023-08-04T09:11:08.018899Z",
     "iopub.status.idle": "2023-08-04T09:11:08.026333Z",
     "shell.execute_reply": "2023-08-04T09:11:08.025080Z",
     "shell.execute_reply.started": "2023-08-04T09:11:08.019306Z"
    }
   },
   "outputs": [
    {
     "data": {
      "text/plain": [
       "True"
      ]
     },
     "execution_count": 13,
     "metadata": {},
     "output_type": "execute_result"
    }
   ],
   "source": [
    "torch.cuda.is_available()"
   ]
  },
  {
   "cell_type": "code",
   "execution_count": 14,
   "metadata": {
    "execution": {
     "iopub.execute_input": "2023-08-04T09:11:14.117181Z",
     "iopub.status.busy": "2023-08-04T09:11:14.116457Z",
     "iopub.status.idle": "2023-08-04T09:11:18.634953Z",
     "shell.execute_reply": "2023-08-04T09:11:18.633916Z",
     "shell.execute_reply.started": "2023-08-04T09:11:14.117146Z"
    },
    "id": "sQQ_OVj6-Dtz"
   },
   "outputs": [
    {
     "name": "stderr",
     "output_type": "stream",
     "text": [
      "Some weights of the model checkpoint at bert-base-uncased were not used when initializing BertModel: ['cls.seq_relationship.weight', 'cls.seq_relationship.bias', 'cls.predictions.bias', 'cls.predictions.transform.dense.bias', 'cls.predictions.transform.LayerNorm.weight', 'cls.predictions.transform.LayerNorm.bias', 'cls.predictions.transform.dense.weight']\n",
      "- This IS expected if you are initializing BertModel from the checkpoint of a model trained on another task or with another architecture (e.g. initializing a BertForSequenceClassification model from a BertForPreTraining model).\n",
      "- This IS NOT expected if you are initializing BertModel from the checkpoint of a model that you expect to be exactly identical (initializing a BertForSequenceClassification model from a BertForSequenceClassification model).\n"
     ]
    }
   ],
   "source": [
    "model_class, tokenizer_class, pretrained_weights = (transformers.BertModel, transformers.BertTokenizer, 'bert-base-uncased')\n",
    "\n",
    "# Загрузка предобученной модели/токенизатора\n",
    "tokenizer = tokenizer_class.from_pretrained(pretrained_weights)\n",
    "model = model_class.from_pretrained(pretrained_weights).to(device)"
   ]
  },
  {
   "cell_type": "code",
   "execution_count": 17,
   "metadata": {
    "execution": {
     "iopub.execute_input": "2023-08-04T09:12:52.682236Z",
     "iopub.status.busy": "2023-08-04T09:12:52.681808Z",
     "iopub.status.idle": "2023-08-04T09:12:52.981483Z",
     "shell.execute_reply": "2023-08-04T09:12:52.980350Z",
     "shell.execute_reply.started": "2023-08-04T09:12:52.682201Z"
    }
   },
   "outputs": [
    {
     "name": "stdout",
     "output_type": "stream",
     "text": [
      "DATA_SIZE= 159281\n"
     ]
    }
   ],
   "source": [
    "data_bert=data.copy()\n",
    "data_bert=data_bert.fillna('none')\n",
    "#DATA_SIZE=400\n",
    "\n",
    "DATA_SIZE=data_bert.shape[0]\n",
    "BERT_SAMPLES = DATA_SIZE\n",
    "BATCH_SIZE = 100\n",
    "\n",
    "# test settings\n",
    "#DATA_SIZE=data_bert.shape[0]\n",
    "#BERT_SAMPLES = (DATA_SIZE//200)*2\n",
    "#BATCH_SIZE = 100\n",
    "\n",
    "# test set\n",
    "#data_sample=data_bert.groupby('toxic', group_keys=False).apply(lambda x: x.sample(min(len(x), BERT_SAMPLES//2)))\n",
    "# full set\n",
    "data_sample=data_bert\n",
    "print('DATA_SIZE=',len(data_sample))\n",
    "X='no_stopwords'\n",
    "y='toxic'\n",
    "data_sample=data_sample[[X,y]].reset_index()"
   ]
  },
  {
   "cell_type": "code",
   "execution_count": 18,
   "metadata": {
    "execution": {
     "iopub.execute_input": "2023-08-04T09:12:57.177852Z",
     "iopub.status.busy": "2023-08-04T09:12:57.177481Z",
     "iopub.status.idle": "2023-08-04T09:12:57.185558Z",
     "shell.execute_reply": "2023-08-04T09:12:57.184374Z",
     "shell.execute_reply.started": "2023-08-04T09:12:57.177820Z"
    }
   },
   "outputs": [
    {
     "data": {
      "text/plain": [
       "0.10161287284735782"
      ]
     },
     "execution_count": 18,
     "metadata": {},
     "output_type": "execute_result"
    }
   ],
   "source": [
    "data_sample['toxic'].mean()"
   ]
  },
  {
   "cell_type": "code",
   "execution_count": 19,
   "metadata": {
    "execution": {
     "iopub.execute_input": "2023-08-04T09:13:03.462211Z",
     "iopub.status.busy": "2023-08-04T09:13:03.461806Z",
     "iopub.status.idle": "2023-08-04T09:13:03.468670Z",
     "shell.execute_reply": "2023-08-04T09:13:03.467742Z",
     "shell.execute_reply.started": "2023-08-04T09:13:03.462178Z"
    }
   },
   "outputs": [
    {
     "data": {
      "text/plain": [
       "(159281, 3)"
      ]
     },
     "execution_count": 19,
     "metadata": {},
     "output_type": "execute_result"
    }
   ],
   "source": [
    "data_sample.shape"
   ]
  },
  {
   "cell_type": "code",
   "execution_count": 20,
   "metadata": {
    "execution": {
     "iopub.execute_input": "2023-08-04T09:13:04.191318Z",
     "iopub.status.busy": "2023-08-04T09:13:04.190132Z",
     "iopub.status.idle": "2023-08-04T09:13:04.603644Z",
     "shell.execute_reply": "2023-08-04T09:13:04.602350Z",
     "shell.execute_reply.started": "2023-08-04T09:13:04.191274Z"
    }
   },
   "outputs": [],
   "source": [
    "long_subset=data_bert[(np.array([len(s.split()) for s in data_bert[X]])>512)]"
   ]
  },
  {
   "cell_type": "code",
   "execution_count": 21,
   "metadata": {
    "execution": {
     "iopub.execute_input": "2023-08-04T09:13:08.173012Z",
     "iopub.status.busy": "2023-08-04T09:13:08.172610Z",
     "iopub.status.idle": "2023-08-04T09:17:55.875162Z",
     "shell.execute_reply": "2023-08-04T09:17:55.873929Z",
     "shell.execute_reply.started": "2023-08-04T09:13:08.172968Z"
    }
   },
   "outputs": [
    {
     "data": {
      "application/vnd.jupyter.widget-view+json": {
       "model_id": "02c77b63a72c4e0faad82d75efe69dae",
       "version_major": 2,
       "version_minor": 0
      },
      "text/plain": [
       "  0%|          | 0/159281 [00:00<?, ?it/s]"
      ]
     },
     "metadata": {},
     "output_type": "display_data"
    }
   ],
   "source": [
    "tqdm.pandas()\n",
    "\n",
    "#tokenized = dat_sampl[X].progress_apply(lambda x: tokenizer.encode(x, add_special_tokens=True))\n",
    "tokenized = data_sample[X].progress_apply(lambda x: tokenizer.encode(x, add_special_tokens=True, padding='max_length', truncation=True))\n",
    "#tokenized = long_subset[X].progress_apply(lambda x: tokenizer.encode(x, add_special_tokens=True, padding='max_length', truncation=True))\n",
    "#tokenized = data_bert[X].progress_apply(lambda x: tokenizer.encode(x, add_special_tokens=True, padding='max_length', truncation=True))"
   ]
  },
  {
   "cell_type": "code",
   "execution_count": 22,
   "metadata": {
    "execution": {
     "iopub.execute_input": "2023-08-04T09:17:55.878096Z",
     "iopub.status.busy": "2023-08-04T09:17:55.877668Z",
     "iopub.status.idle": "2023-08-04T09:17:55.885335Z",
     "shell.execute_reply": "2023-08-04T09:17:55.884134Z",
     "shell.execute_reply.started": "2023-08-04T09:17:55.878045Z"
    }
   },
   "outputs": [
    {
     "data": {
      "text/plain": [
       "(159281, 3)"
      ]
     },
     "execution_count": 22,
     "metadata": {},
     "output_type": "execute_result"
    }
   ],
   "source": [
    "data_sample.shape"
   ]
  },
  {
   "cell_type": "code",
   "execution_count": 23,
   "metadata": {
    "execution": {
     "iopub.execute_input": "2023-08-04T09:17:55.887414Z",
     "iopub.status.busy": "2023-08-04T09:17:55.887033Z",
     "iopub.status.idle": "2023-08-04T09:17:55.902432Z",
     "shell.execute_reply": "2023-08-04T09:17:55.901302Z",
     "shell.execute_reply.started": "2023-08-04T09:17:55.887381Z"
    }
   },
   "outputs": [
    {
     "data": {
      "text/plain": [
       "(159281,)"
      ]
     },
     "execution_count": 23,
     "metadata": {},
     "output_type": "execute_result"
    }
   ],
   "source": [
    "tokenized.index.shape"
   ]
  },
  {
   "cell_type": "code",
   "execution_count": 24,
   "metadata": {
    "execution": {
     "iopub.execute_input": "2023-08-04T09:17:55.906235Z",
     "iopub.status.busy": "2023-08-04T09:17:55.905812Z",
     "iopub.status.idle": "2023-08-04T09:17:55.914805Z",
     "shell.execute_reply": "2023-08-04T09:17:55.913754Z",
     "shell.execute_reply.started": "2023-08-04T09:17:55.906200Z"
    }
   },
   "outputs": [],
   "source": [
    "BERT_SAMPLES=len(tokenized)"
   ]
  },
  {
   "cell_type": "code",
   "execution_count": 25,
   "metadata": {
    "execution": {
     "iopub.execute_input": "2023-08-04T09:17:55.917800Z",
     "iopub.status.busy": "2023-08-04T09:17:55.916941Z",
     "iopub.status.idle": "2023-08-04T09:18:00.239399Z",
     "shell.execute_reply": "2023-08-04T09:18:00.238245Z",
     "shell.execute_reply.started": "2023-08-04T09:17:55.917762Z"
    }
   },
   "outputs": [],
   "source": [
    "tokens = []\n",
    "target = []\n",
    "for i in range(len(tokenized)):\n",
    "    if len(tokenized[i]) <= 512:\n",
    "        tokens.append(tokenized[i])\n",
    "        target.append(data_sample['toxic'][i])\n",
    "tokens = (pd.Series(tokens)).head(BERT_SAMPLES)\n",
    "target = (pd.Series(target)).head(BERT_SAMPLES)"
   ]
  },
  {
   "cell_type": "code",
   "execution_count": 26,
   "metadata": {
    "execution": {
     "iopub.execute_input": "2023-08-04T09:18:00.241655Z",
     "iopub.status.busy": "2023-08-04T09:18:00.240941Z",
     "iopub.status.idle": "2023-08-04T09:18:14.701046Z",
     "shell.execute_reply": "2023-08-04T09:18:14.699750Z",
     "shell.execute_reply.started": "2023-08-04T09:18:00.241617Z"
    }
   },
   "outputs": [
    {
     "data": {
      "application/vnd.jupyter.widget-view+json": {
       "model_id": "ef2637a6fca449349d54ebd5a3fb8b62",
       "version_major": 2,
       "version_minor": 0
      },
      "text/plain": [
       "  0%|          | 0/159281 [00:01<?, ?it/s]"
      ]
     },
     "metadata": {},
     "output_type": "display_data"
    },
    {
     "data": {
      "application/vnd.jupyter.widget-view+json": {
       "model_id": "2f92a2baeb574198beefae42234282c1",
       "version_major": 2,
       "version_minor": 0
      },
      "text/plain": [
       "  0%|          | 0/159281 [00:00<?, ?it/s]"
      ]
     },
     "metadata": {},
     "output_type": "display_data"
    }
   ],
   "source": [
    "max_len = 0\n",
    "for i in tqdm(tokens.values):\n",
    "    if len(i) > max_len:\n",
    "        max_len = len(i)\n",
    "\n",
    "padded = np.array([i + [0]*(max_len - len(i)) for i in tqdm(tokens.values)])\n",
    "attention_mask = np.where(padded != 0, 1, 0)"
   ]
  },
  {
   "cell_type": "code",
   "execution_count": 27,
   "metadata": {
    "execution": {
     "iopub.execute_input": "2023-08-04T09:18:14.703354Z",
     "iopub.status.busy": "2023-08-04T09:18:14.702912Z",
     "iopub.status.idle": "2023-08-04T09:18:14.713107Z",
     "shell.execute_reply": "2023-08-04T09:18:14.712126Z",
     "shell.execute_reply.started": "2023-08-04T09:18:14.703313Z"
    }
   },
   "outputs": [
    {
     "data": {
      "text/plain": [
       "(159281, 512)"
      ]
     },
     "metadata": {},
     "output_type": "display_data"
    },
    {
     "data": {
      "text/plain": [
       "(159281, 512)"
      ]
     },
     "metadata": {},
     "output_type": "display_data"
    }
   ],
   "source": [
    "display(padded.shape, attention_mask.shape)\n"
   ]
  },
  {
   "cell_type": "code",
   "execution_count": 28,
   "metadata": {
    "execution": {
     "iopub.execute_input": "2023-08-04T09:18:14.715735Z",
     "iopub.status.busy": "2023-08-04T09:18:14.714632Z",
     "iopub.status.idle": "2023-08-04T09:18:14.721095Z",
     "shell.execute_reply": "2023-08-04T09:18:14.720129Z",
     "shell.execute_reply.started": "2023-08-04T09:18:14.715692Z"
    }
   },
   "outputs": [],
   "source": [
    "#https://www.kaggle.com/code/atulanandjha/distilbert-on-gpu-tutorial-classification-problem"
   ]
  },
  {
   "cell_type": "code",
   "execution_count": null,
   "metadata": {},
   "outputs": [],
   "source": [
    "# one batch example\n",
    "#%time \n",
    "\n",
    "#input_ids = torch.tensor(padded).to(device)  \n",
    "#attention_mask_t = torch.tensor(attention_mask).to(device)\n",
    "#\n",
    "#with torch.no_grad():\n",
    "#        last_hidden_states = model(input_ids, attention_mask=attention_mask_t)# .to(device)        "
   ]
  },
  {
   "cell_type": "code",
   "execution_count": 30,
   "metadata": {
    "execution": {
     "iopub.execute_input": "2023-08-04T09:18:43.398242Z",
     "iopub.status.busy": "2023-08-04T09:18:43.397827Z",
     "iopub.status.idle": "2023-08-04T09:18:43.406462Z",
     "shell.execute_reply": "2023-08-04T09:18:43.405405Z",
     "shell.execute_reply.started": "2023-08-04T09:18:43.398208Z"
    }
   },
   "outputs": [
    {
     "data": {
      "text/plain": [
       "1592"
      ]
     },
     "execution_count": 30,
     "metadata": {},
     "output_type": "execute_result"
    }
   ],
   "source": [
    "batch_size = BATCH_SIZE\n",
    "embeddings = []\n",
    "num_of_batches=padded.shape[0] // batch_size\n",
    "num_of_batches"
   ]
  },
  {
   "cell_type": "code",
   "execution_count": 31,
   "metadata": {
    "execution": {
     "iopub.execute_input": "2023-08-04T09:18:47.037594Z",
     "iopub.status.busy": "2023-08-04T09:18:47.037177Z",
     "iopub.status.idle": "2023-08-04T09:18:47.043917Z",
     "shell.execute_reply": "2023-08-04T09:18:47.042864Z",
     "shell.execute_reply.started": "2023-08-04T09:18:47.037548Z"
    }
   },
   "outputs": [
    {
     "name": "stdout",
     "output_type": "stream",
     "text": [
      "estimaiton of calculation duration, in min 79.6\n"
     ]
    }
   ],
   "source": [
    "print('estimaiton of calculation duration, in min',num_of_batches*3/60)"
   ]
  },
  {
   "cell_type": "code",
   "execution_count": 34,
   "metadata": {
    "execution": {
     "iopub.execute_input": "2023-08-04T09:19:46.024744Z",
     "iopub.status.busy": "2023-08-04T09:19:46.023972Z",
     "iopub.status.idle": "2023-08-04T10:38:41.900694Z",
     "shell.execute_reply": "2023-08-04T10:38:41.899495Z",
     "shell.execute_reply.started": "2023-08-04T09:19:46.024706Z"
    }
   },
   "outputs": [
    {
     "name": "stdout",
     "output_type": "stream",
     "text": [
      "starting i = 100 / 1593\n",
      "everage time ber batch= 2.963857488632202\n",
      "starting i = 200 / 1593\n",
      "everage time ber batch= 2.967119460105896\n",
      "starting i = 300 / 1593\n",
      "everage time ber batch= 2.968395978609721\n",
      "starting i = 400 / 1593\n",
      "everage time ber batch= 2.9693312203884124\n",
      "starting i = 500 / 1593\n",
      "everage time ber batch= 2.969329417705536\n",
      "starting i = 600 / 1593\n",
      "everage time ber batch= 2.9696555324395497\n",
      "starting i = 700 / 1593\n",
      "everage time ber batch= 2.970000205039978\n",
      "starting i = 800 / 1593\n",
      "everage time ber batch= 2.9703501117229463\n",
      "starting i = 900 / 1593\n",
      "everage time ber batch= 2.970766903029548\n",
      "starting i = 1000 / 1593\n",
      "everage time ber batch= 2.9709809548854826\n",
      "starting i = 1100 / 1593\n",
      "everage time ber batch= 2.9709358113462274\n",
      "starting i = 1200 / 1593\n",
      "everage time ber batch= 2.9711649388074877\n",
      "starting i = 1300 / 1593\n",
      "everage time ber batch= 2.971395261287689\n",
      "starting i = 1400 / 1593\n",
      "everage time ber batch= 2.971281086206436\n",
      "starting i = 1500 / 1593\n",
      "everage time ber batch= 2.971327922185262\n"
     ]
    }
   ],
   "source": [
    "start_time=-time.time()\n",
    "for i in range(num_of_batches+1):\n",
    "    if not((i+1)%100):\n",
    "        print('starting i =',i+1,'/',num_of_batches+1)\n",
    "        calculation_time=start_time+time.time()\n",
    "        print('everage time per batch=',calculation_time/(i+1))\n",
    "    #torch.from_numpy(img).float().to(device)\n",
    "    #batch = torch.tensor(pad,device=device)\n",
    "    #attention_mask_batch = torch.from_numpy(att).to(device)\n",
    "    pad=padded[batch_size*i:batch_size*(i+1)]\n",
    "    batch = torch.from_numpy(pad).float().to(device)\n",
    "    att=attention_mask[batch_size*i:batch_size*(i+1)]\n",
    "    attention_mask_batch = torch.tensor(att).to(device)\n",
    "    with torch.no_grad():\n",
    "        batch_embeddings = model(batch.to(torch.int64), attention_mask=attention_mask_batch)\n",
    "    \n",
    "    embeddings.append(batch_embeddings[0][:,0,:].cpu().numpy())\n",
    "features_bert = np.concatenate(embeddings)"
   ]
  },
  {
   "cell_type": "code",
   "execution_count": 37,
   "metadata": {
    "execution": {
     "iopub.execute_input": "2023-08-04T10:59:56.826321Z",
     "iopub.status.busy": "2023-08-04T10:59:56.825385Z",
     "iopub.status.idle": "2023-08-04T10:59:56.834275Z",
     "shell.execute_reply": "2023-08-04T10:59:56.833084Z",
     "shell.execute_reply.started": "2023-08-04T10:59:56.826269Z"
    }
   },
   "outputs": [
    {
     "data": {
      "text/plain": [
       "(159281, 768)"
      ]
     },
     "execution_count": 37,
     "metadata": {},
     "output_type": "execute_result"
    }
   ],
   "source": [
    "features_bert.shape"
   ]
  },
  {
   "cell_type": "code",
   "execution_count": 38,
   "metadata": {
    "execution": {
     "iopub.execute_input": "2023-08-04T10:59:57.889177Z",
     "iopub.status.busy": "2023-08-04T10:59:57.888088Z",
     "iopub.status.idle": "2023-08-04T10:59:57.895643Z",
     "shell.execute_reply": "2023-08-04T10:59:57.894599Z",
     "shell.execute_reply.started": "2023-08-04T10:59:57.889131Z"
    }
   },
   "outputs": [
    {
     "data": {
      "text/plain": [
       "numpy.ndarray"
      ]
     },
     "execution_count": 38,
     "metadata": {},
     "output_type": "execute_result"
    }
   ],
   "source": [
    "type(features_bert)"
   ]
  },
  {
   "cell_type": "code",
   "execution_count": 39,
   "metadata": {
    "execution": {
     "iopub.execute_input": "2023-08-04T11:02:35.442568Z",
     "iopub.status.busy": "2023-08-04T11:02:35.442127Z",
     "iopub.status.idle": "2023-08-04T11:04:34.510041Z",
     "shell.execute_reply": "2023-08-04T11:04:34.508602Z",
     "shell.execute_reply.started": "2023-08-04T11:02:35.442533Z"
    }
   },
   "outputs": [],
   "source": [
    "from numpy import savetxt\n",
    "# save to csv file\n",
    "savetxt('features_bert.csv', features_bert, delimiter=',')"
   ]
  },
  {
   "cell_type": "code",
   "execution_count": 41,
   "metadata": {
    "execution": {
     "iopub.execute_input": "2023-08-04T11:22:12.974416Z",
     "iopub.status.busy": "2023-08-04T11:22:12.973708Z",
     "iopub.status.idle": "2023-08-04T11:22:12.981652Z",
     "shell.execute_reply": "2023-08-04T11:22:12.980577Z",
     "shell.execute_reply.started": "2023-08-04T11:22:12.974373Z"
    }
   },
   "outputs": [
    {
     "data": {
      "text/plain": [
       "159281"
      ]
     },
     "execution_count": 41,
     "metadata": {},
     "output_type": "execute_result"
    }
   ],
   "source": [
    "len(data_sample['toxic'])"
   ]
  },
  {
   "cell_type": "code",
   "execution_count": 42,
   "metadata": {
    "execution": {
     "iopub.execute_input": "2023-08-04T11:22:13.369880Z",
     "iopub.status.busy": "2023-08-04T11:22:13.369497Z",
     "iopub.status.idle": "2023-08-04T11:22:13.377903Z",
     "shell.execute_reply": "2023-08-04T11:22:13.376662Z",
     "shell.execute_reply.started": "2023-08-04T11:22:13.369848Z"
    }
   },
   "outputs": [
    {
     "data": {
      "text/plain": [
       "159281"
      ]
     },
     "execution_count": 42,
     "metadata": {},
     "output_type": "execute_result"
    }
   ],
   "source": [
    "y_data=data_sample['toxic'].iloc[:len(features_bert)]\n",
    "len(y_data)"
   ]
  },
  {
   "cell_type": "code",
   "execution_count": 43,
   "metadata": {
    "execution": {
     "iopub.execute_input": "2023-08-04T11:22:14.858759Z",
     "iopub.status.busy": "2023-08-04T11:22:14.857596Z",
     "iopub.status.idle": "2023-08-04T11:22:16.091852Z",
     "shell.execute_reply": "2023-08-04T11:22:16.090789Z",
     "shell.execute_reply.started": "2023-08-04T11:22:14.858713Z"
    }
   },
   "outputs": [],
   "source": [
    "features_train_valid, features_test, target_train_valid, target_test = train_test_split(features_bert,y_data, test_size=0.2, random_state=12345, stratify=y_data) \n",
    "features_train, features_valid, target_train, target_valid = train_test_split(features_train_valid, target_train_valid, test_size=0.2, random_state=12345, stratify=target_train_valid)"
   ]
  },
  {
   "cell_type": "code",
   "execution_count": 92,
   "metadata": {
    "execution": {
     "iopub.execute_input": "2023-08-04T12:01:29.115269Z",
     "iopub.status.busy": "2023-08-04T12:01:29.114849Z",
     "iopub.status.idle": "2023-08-04T12:01:29.522037Z",
     "shell.execute_reply": "2023-08-04T12:01:29.520959Z",
     "shell.execute_reply.started": "2023-08-04T12:01:29.115236Z"
    }
   },
   "outputs": [],
   "source": [
    "from sklearn.preprocessing import StandardScaler\n",
    "from sklearn import decomposition"
   ]
  },
  {
   "cell_type": "code",
   "execution_count": 99,
   "metadata": {
    "execution": {
     "iopub.execute_input": "2023-08-04T12:04:50.042099Z",
     "iopub.status.busy": "2023-08-04T12:04:50.041669Z",
     "iopub.status.idle": "2023-08-04T12:04:56.912597Z",
     "shell.execute_reply": "2023-08-04T12:04:56.911541Z",
     "shell.execute_reply.started": "2023-08-04T12:04:50.042040Z"
    }
   },
   "outputs": [
    {
     "name": "stdout",
     "output_type": "stream",
     "text": [
      "CPU times: user 8.59 s, sys: 2.07 s, total: 10.7 s\n",
      "Wall time: 6.86 s\n"
     ]
    }
   ],
   "source": [
    "%%time \n",
    "use_pca=True\n",
    "if use_pca:\n",
    "    pca = decomposition.PCA(n_components=100)\n",
    "    features_train_dec=pca.fit_transform(features_train)\n",
    "    features_test_dec=pca.transform(features_test)\n",
    "    features_valid_dec=pca.transform(features_valid)"
   ]
  },
  {
   "cell_type": "code",
   "execution_count": 100,
   "metadata": {
    "execution": {
     "iopub.execute_input": "2023-08-04T12:04:58.540925Z",
     "iopub.status.busy": "2023-08-04T12:04:58.540515Z",
     "iopub.status.idle": "2023-08-04T12:04:58.548232Z",
     "shell.execute_reply": "2023-08-04T12:04:58.546925Z",
     "shell.execute_reply.started": "2023-08-04T12:04:58.540891Z"
    }
   },
   "outputs": [
    {
     "data": {
      "text/plain": [
       "(101939, 768)"
      ]
     },
     "execution_count": 100,
     "metadata": {},
     "output_type": "execute_result"
    }
   ],
   "source": [
    "features_train.shape"
   ]
  },
  {
   "cell_type": "code",
   "execution_count": 101,
   "metadata": {
    "execution": {
     "iopub.execute_input": "2023-08-04T12:07:31.172791Z",
     "iopub.status.busy": "2023-08-04T12:07:31.171975Z",
     "iopub.status.idle": "2023-08-04T12:10:16.541334Z",
     "shell.execute_reply": "2023-08-04T12:10:16.539919Z",
     "shell.execute_reply.started": "2023-08-04T12:07:31.172735Z"
    }
   },
   "outputs": [
    {
     "name": "stdout",
     "output_type": "stream",
     "text": [
      "n= 100 ; f1= 0.5763157894736841\n",
      "n= 200 ; f1= 0.5868869936034116\n",
      "n= 300 ; f1= 0.5924538399785924\n",
      "n= 400 ; f1= 0.5949705724986624\n",
      "n= 500 ; f1= 0.5977691170541595\n",
      "n= 600 ; f1= 0.602246582758154\n",
      "n= 700 ; f1= 0.6021245125722737\n"
     ]
    }
   ],
   "source": [
    "model_lin=LogisticRegression(solver='lbfgs', max_iter=200,random_state=12345, penalty='l2', class_weight='balanced')\n",
    "for n in range(100,701,100):\n",
    "    pca = decomposition.PCA(n_components=n)\n",
    "    f=pca.fit_transform(features_train)\n",
    "    v=pca.transform(features_valid)\n",
    "    model_lin.fit(f,target_train)\n",
    "    prediction=model_lin.predict(v)\n",
    "    print('n=',n,'; f1=',f1_score(target_valid, prediction))\n",
    "    "
   ]
  },
  {
   "cell_type": "code",
   "execution_count": 72,
   "metadata": {
    "execution": {
     "iopub.execute_input": "2023-08-04T11:43:31.658133Z",
     "iopub.status.busy": "2023-08-04T11:43:31.657704Z",
     "iopub.status.idle": "2023-08-04T11:43:34.489942Z",
     "shell.execute_reply": "2023-08-04T11:43:34.488791Z",
     "shell.execute_reply.started": "2023-08-04T11:43:31.658084Z"
    }
   },
   "outputs": [],
   "source": [
    "use_scaler=True\n",
    "if use_scaler:\n",
    "    scalar= StandardScaler()\n",
    "    pd.options.mode.chained_assignment = None\n",
    "    features_train_valid_norm=scalar.fit_transform(features_train_valid)\n",
    "    features_train_norm=scalar.transform(features_train)\n",
    "    features_valid_norm=scalar.transform(features_valid)\n",
    "    features_test_norm=scalar.transform(features_test)\n",
    "else:\n",
    "    features_train_valid_norm=features_train_valid\n",
    "    features_train_norm=features_train\n",
    "    features_valid_norm=features_valid\n",
    "    features_test_norm=features_test"
   ]
  },
  {
   "cell_type": "code",
   "execution_count": 88,
   "metadata": {
    "colab": {
     "base_uri": "https://localhost:8080/",
     "height": 111
    },
    "execution": {
     "iopub.execute_input": "2023-08-04T12:00:23.490244Z",
     "iopub.status.busy": "2023-08-04T12:00:23.489406Z",
     "iopub.status.idle": "2023-08-04T12:00:49.461914Z",
     "shell.execute_reply": "2023-08-04T12:00:49.456427Z",
     "shell.execute_reply.started": "2023-08-04T12:00:23.490205Z"
    },
    "id": "r8Ola-wkZu5U",
    "outputId": "8726c1ca-3fe6-41ba-f5b3-4b40009959c3"
   },
   "outputs": [
    {
     "name": "stdout",
     "output_type": "stream",
     "text": [
      "CPU times: user 43 s, sys: 2.7 s, total: 45.7 s\n",
      "Wall time: 26 s\n"
     ]
    },
    {
     "name": "stderr",
     "output_type": "stream",
     "text": [
      "/opt/conda/lib/python3.10/site-packages/sklearn/linear_model/_logistic.py:458: ConvergenceWarning: lbfgs failed to converge (status=1):\n",
      "STOP: TOTAL NO. of ITERATIONS REACHED LIMIT.\n",
      "\n",
      "Increase the number of iterations (max_iter) or scale the data as shown in:\n",
      "    https://scikit-learn.org/stable/modules/preprocessing.html\n",
      "Please also refer to the documentation for alternative solver options:\n",
      "    https://scikit-learn.org/stable/modules/linear_model.html#logistic-regression\n",
      "  n_iter_i = _check_optimize_result(\n"
     ]
    },
    {
     "data": {
      "text/html": [
       "<style>#sk-container-id-7 {color: black;background-color: white;}#sk-container-id-7 pre{padding: 0;}#sk-container-id-7 div.sk-toggleable {background-color: white;}#sk-container-id-7 label.sk-toggleable__label {cursor: pointer;display: block;width: 100%;margin-bottom: 0;padding: 0.3em;box-sizing: border-box;text-align: center;}#sk-container-id-7 label.sk-toggleable__label-arrow:before {content: \"▸\";float: left;margin-right: 0.25em;color: #696969;}#sk-container-id-7 label.sk-toggleable__label-arrow:hover:before {color: black;}#sk-container-id-7 div.sk-estimator:hover label.sk-toggleable__label-arrow:before {color: black;}#sk-container-id-7 div.sk-toggleable__content {max-height: 0;max-width: 0;overflow: hidden;text-align: left;background-color: #f0f8ff;}#sk-container-id-7 div.sk-toggleable__content pre {margin: 0.2em;color: black;border-radius: 0.25em;background-color: #f0f8ff;}#sk-container-id-7 input.sk-toggleable__control:checked~div.sk-toggleable__content {max-height: 200px;max-width: 100%;overflow: auto;}#sk-container-id-7 input.sk-toggleable__control:checked~label.sk-toggleable__label-arrow:before {content: \"▾\";}#sk-container-id-7 div.sk-estimator input.sk-toggleable__control:checked~label.sk-toggleable__label {background-color: #d4ebff;}#sk-container-id-7 div.sk-label input.sk-toggleable__control:checked~label.sk-toggleable__label {background-color: #d4ebff;}#sk-container-id-7 input.sk-hidden--visually {border: 0;clip: rect(1px 1px 1px 1px);clip: rect(1px, 1px, 1px, 1px);height: 1px;margin: -1px;overflow: hidden;padding: 0;position: absolute;width: 1px;}#sk-container-id-7 div.sk-estimator {font-family: monospace;background-color: #f0f8ff;border: 1px dotted black;border-radius: 0.25em;box-sizing: border-box;margin-bottom: 0.5em;}#sk-container-id-7 div.sk-estimator:hover {background-color: #d4ebff;}#sk-container-id-7 div.sk-parallel-item::after {content: \"\";width: 100%;border-bottom: 1px solid gray;flex-grow: 1;}#sk-container-id-7 div.sk-label:hover label.sk-toggleable__label {background-color: #d4ebff;}#sk-container-id-7 div.sk-serial::before {content: \"\";position: absolute;border-left: 1px solid gray;box-sizing: border-box;top: 0;bottom: 0;left: 50%;z-index: 0;}#sk-container-id-7 div.sk-serial {display: flex;flex-direction: column;align-items: center;background-color: white;padding-right: 0.2em;padding-left: 0.2em;position: relative;}#sk-container-id-7 div.sk-item {position: relative;z-index: 1;}#sk-container-id-7 div.sk-parallel {display: flex;align-items: stretch;justify-content: center;background-color: white;position: relative;}#sk-container-id-7 div.sk-item::before, #sk-container-id-7 div.sk-parallel-item::before {content: \"\";position: absolute;border-left: 1px solid gray;box-sizing: border-box;top: 0;bottom: 0;left: 50%;z-index: -1;}#sk-container-id-7 div.sk-parallel-item {display: flex;flex-direction: column;z-index: 1;position: relative;background-color: white;}#sk-container-id-7 div.sk-parallel-item:first-child::after {align-self: flex-end;width: 50%;}#sk-container-id-7 div.sk-parallel-item:last-child::after {align-self: flex-start;width: 50%;}#sk-container-id-7 div.sk-parallel-item:only-child::after {width: 0;}#sk-container-id-7 div.sk-dashed-wrapped {border: 1px dashed gray;margin: 0 0.4em 0.5em 0.4em;box-sizing: border-box;padding-bottom: 0.4em;background-color: white;}#sk-container-id-7 div.sk-label label {font-family: monospace;font-weight: bold;display: inline-block;line-height: 1.2em;}#sk-container-id-7 div.sk-label-container {text-align: center;}#sk-container-id-7 div.sk-container {/* jupyter's `normalize.less` sets `[hidden] { display: none; }` but bootstrap.min.css set `[hidden] { display: none !important; }` so we also need the `!important` here to be able to override the default hidden behavior on the sphinx rendered scikit-learn.org. See: https://github.com/scikit-learn/scikit-learn/issues/21755 */display: inline-block !important;position: relative;}#sk-container-id-7 div.sk-text-repr-fallback {display: none;}</style><div id=\"sk-container-id-7\" class=\"sk-top-container\"><div class=\"sk-text-repr-fallback\"><pre>LogisticRegression(class_weight=&#x27;balanced&#x27;, max_iter=200, random_state=12345)</pre><b>In a Jupyter environment, please rerun this cell to show the HTML representation or trust the notebook. <br />On GitHub, the HTML representation is unable to render, please try loading this page with nbviewer.org.</b></div><div class=\"sk-container\" hidden><div class=\"sk-item\"><div class=\"sk-estimator sk-toggleable\"><input class=\"sk-toggleable__control sk-hidden--visually\" id=\"sk-estimator-id-7\" type=\"checkbox\" checked><label for=\"sk-estimator-id-7\" class=\"sk-toggleable__label sk-toggleable__label-arrow\">LogisticRegression</label><div class=\"sk-toggleable__content\"><pre>LogisticRegression(class_weight=&#x27;balanced&#x27;, max_iter=200, random_state=12345)</pre></div></div></div></div></div>"
      ],
      "text/plain": [
       "LogisticRegression(class_weight='balanced', max_iter=200, random_state=12345)"
      ]
     },
     "execution_count": 88,
     "metadata": {},
     "output_type": "execute_result"
    }
   ],
   "source": [
    "%%time\n",
    "\n",
    "model_lin=LogisticRegression(solver='lbfgs', max_iter=200,random_state=12345, penalty='l2', class_weight='balanced')\n",
    "#model_lin=LogisticRegression(solver='liblinear', max_iter=100,random_state=12345, penalty='l2', class_weight='balanced')\n",
    "model_lin.fit(features_train_norm,target_train)"
   ]
  },
  {
   "cell_type": "code",
   "execution_count": 89,
   "metadata": {
    "execution": {
     "iopub.execute_input": "2023-08-04T12:00:53.512911Z",
     "iopub.status.busy": "2023-08-04T12:00:53.512513Z",
     "iopub.status.idle": "2023-08-04T12:00:53.684448Z",
     "shell.execute_reply": "2023-08-04T12:00:53.679507Z",
     "shell.execute_reply.started": "2023-08-04T12:00:53.512880Z"
    }
   },
   "outputs": [
    {
     "data": {
      "text/plain": [
       "0.5998651382333109"
      ]
     },
     "execution_count": 89,
     "metadata": {},
     "output_type": "execute_result"
    }
   ],
   "source": [
    "prediction=model_lin.predict(features_valid_norm)\n",
    "f1_score(target_valid, prediction)"
   ]
  },
  {
   "cell_type": "code",
   "execution_count": 81,
   "metadata": {
    "colab": {
     "base_uri": "https://localhost:8080/"
    },
    "execution": {
     "iopub.execute_input": "2023-08-04T11:51:15.152295Z",
     "iopub.status.busy": "2023-08-04T11:51:15.151859Z",
     "iopub.status.idle": "2023-08-04T11:51:15.253105Z",
     "shell.execute_reply": "2023-08-04T11:51:15.251582Z",
     "shell.execute_reply.started": "2023-08-04T11:51:15.152262Z"
    },
    "id": "Yu93cYtyaFzr",
    "outputId": "4172db02-553b-44a8-bcd3-b3319cd189fe"
   },
   "outputs": [
    {
     "data": {
      "text/plain": [
       "0.6001348617666892"
      ]
     },
     "execution_count": 81,
     "metadata": {},
     "output_type": "execute_result"
    }
   ],
   "source": [
    "prediction=model_lin.predict(features_valid_norm)\n",
    "f1_score(target_valid, prediction)"
   ]
  },
  {
   "cell_type": "code",
   "execution_count": 82,
   "metadata": {
    "execution": {
     "iopub.execute_input": "2023-08-04T11:51:16.709246Z",
     "iopub.status.busy": "2023-08-04T11:51:16.708752Z",
     "iopub.status.idle": "2023-08-04T11:51:16.861921Z",
     "shell.execute_reply": "2023-08-04T11:51:16.860926Z",
     "shell.execute_reply.started": "2023-08-04T11:51:16.709208Z"
    }
   },
   "outputs": [
    {
     "data": {
      "text/plain": [
       "0.6019793459552496"
      ]
     },
     "execution_count": 82,
     "metadata": {},
     "output_type": "execute_result"
    }
   ],
   "source": [
    "prediction=model_lin.predict(features_test_norm)\n",
    "f1_score(target_test, prediction)"
   ]
  },
  {
   "cell_type": "code",
   "execution_count": 83,
   "metadata": {
    "execution": {
     "iopub.execute_input": "2023-08-04T11:51:17.661016Z",
     "iopub.status.busy": "2023-08-04T11:51:17.660652Z",
     "iopub.status.idle": "2023-08-04T11:51:17.848875Z",
     "shell.execute_reply": "2023-08-04T11:51:17.847152Z",
     "shell.execute_reply.started": "2023-08-04T11:51:17.660985Z"
    },
    "id": "_2BuXZ6eX-T7"
   },
   "outputs": [],
   "source": [
    "predition_prob=model_lin.predict_proba(features_valid_norm)\n",
    "predition_prob_test=model_lin.predict_proba(features_test_norm)"
   ]
  },
  {
   "cell_type": "code",
   "execution_count": 84,
   "metadata": {
    "colab": {
     "base_uri": "https://localhost:8080/"
    },
    "execution": {
     "iopub.execute_input": "2023-08-04T11:51:23.022868Z",
     "iopub.status.busy": "2023-08-04T11:51:23.021908Z",
     "iopub.status.idle": "2023-08-04T11:51:23.982031Z",
     "shell.execute_reply": "2023-08-04T11:51:23.980777Z",
     "shell.execute_reply.started": "2023-08-04T11:51:23.022832Z"
    },
    "id": "IWFc4tIvYNRt",
    "outputId": "2a2222eb-8f67-4e81-cd6f-3002674ee73e"
   },
   "outputs": [
    {
     "name": "stdout",
     "output_type": "stream",
     "text": [
      "validation: best_score= 0.6932333793647663\n",
      "best threshold= 0.83\n"
     ]
    }
   ],
   "source": [
    "best_thr=0\n",
    "best_score=0\n",
    "for i in range(1,100):\n",
    "    thr=i/100\n",
    "    pred=(predition_prob[:,1]>thr).astype('int')\n",
    "    score=f1_score(target_valid, pred)\n",
    "    if score>best_score:\n",
    "        best_score=score\n",
    "        best_thr=thr\n",
    "print('validation: best_score=',best_score)\n",
    "print('best threshold=',best_thr)"
   ]
  },
  {
   "cell_type": "code",
   "execution_count": 85,
   "metadata": {
    "colab": {
     "base_uri": "https://localhost:8080/"
    },
    "execution": {
     "iopub.execute_input": "2023-08-04T11:51:23.984981Z",
     "iopub.status.busy": "2023-08-04T11:51:23.984122Z",
     "iopub.status.idle": "2023-08-04T11:51:24.006331Z",
     "shell.execute_reply": "2023-08-04T11:51:24.004943Z",
     "shell.execute_reply.started": "2023-08-04T11:51:23.984939Z"
    },
    "id": "cZ7PFIDHYD4d",
    "outputId": "c4c65900-f741-4e06-916e-a7f86d1a1c62"
   },
   "outputs": [
    {
     "name": "stdout",
     "output_type": "stream",
     "text": [
      "test set score: 0.6997167138810199\n"
     ]
    }
   ],
   "source": [
    "prediction_test=(predition_prob_test[:,1]>best_thr).astype('int')\n",
    "print('test set score:',f1_score(target_test, prediction_test))"
   ]
  },
  {
   "cell_type": "markdown",
   "metadata": {},
   "source": [
    "### CatBoost"
   ]
  },
  {
   "cell_type": "code",
   "execution_count": 104,
   "metadata": {
    "execution": {
     "iopub.execute_input": "2023-08-04T12:13:22.142997Z",
     "iopub.status.busy": "2023-08-04T12:13:22.142648Z",
     "iopub.status.idle": "2023-08-04T12:13:31.277860Z",
     "shell.execute_reply": "2023-08-04T12:13:31.276763Z",
     "shell.execute_reply.started": "2023-08-04T12:13:22.142970Z"
    }
   },
   "outputs": [
    {
     "name": "stdout",
     "output_type": "stream",
     "text": [
      "CPU times: user 8.96 s, sys: 165 ms, total: 9.12 s\n",
      "Wall time: 9.11 s\n"
     ]
    }
   ],
   "source": [
    "%%time\n",
    "train_valid_data = Pool(data=features_train_valid,\n",
    "                  label=target_train_valid\n",
    "                 )\n",
    "train_data = Pool(data=features_train,\n",
    "                  label=target_train\n",
    "                 )\n",
    "valid_data = Pool(data=features_valid,\n",
    "                  label=target_valid\n",
    "                 )\n",
    "test_data = Pool(data=features_test,\n",
    "                  label=target_test\n",
    "                 )"
   ]
  },
  {
   "cell_type": "code",
   "execution_count": 118,
   "metadata": {
    "execution": {
     "iopub.execute_input": "2023-08-04T12:35:44.117496Z",
     "iopub.status.busy": "2023-08-04T12:35:44.117091Z",
     "iopub.status.idle": "2023-08-04T12:35:44.122688Z",
     "shell.execute_reply": "2023-08-04T12:35:44.121569Z",
     "shell.execute_reply.started": "2023-08-04T12:35:44.117465Z"
    },
    "id": "PAOT1Zkrf8ek"
   },
   "outputs": [],
   "source": [
    "params = {'eval_metric': 'F1',\n",
    "          'loss_function': 'Logloss',\n",
    "              'learning_rate': 0.05,\n",
    "              'random_seed': 12345,\n",
    "              'verbose':100}"
   ]
  },
  {
   "cell_type": "code",
   "execution_count": null,
   "metadata": {},
   "outputs": [],
   "source": [
    "%%time\n",
    "cv_data = cv(\n",
    "    params = params,\n",
    "    pool = train_data,\n",
    "    fold_count=3,\n",
    "    shuffle=True,\n",
    "    partition_random_seed=0,\n",
    "    stratified=True,\n",
    "    verbose=50,\n",
    "    early_stopping_rounds=20\n",
    ")"
   ]
  },
  {
   "cell_type": "code",
   "execution_count": 111,
   "metadata": {
    "execution": {
     "iopub.execute_input": "2023-08-04T12:29:27.665683Z",
     "iopub.status.busy": "2023-08-04T12:29:27.665009Z",
     "iopub.status.idle": "2023-08-04T12:29:27.704057Z",
     "shell.execute_reply": "2023-08-04T12:29:27.702891Z",
     "shell.execute_reply.started": "2023-08-04T12:29:27.665646Z"
    }
   },
   "outputs": [
    {
     "data": {
      "text/html": [
       "<div>\n",
       "<style scoped>\n",
       "    .dataframe tbody tr th:only-of-type {\n",
       "        vertical-align: middle;\n",
       "    }\n",
       "\n",
       "    .dataframe tbody tr th {\n",
       "        vertical-align: top;\n",
       "    }\n",
       "\n",
       "    .dataframe thead th {\n",
       "        text-align: right;\n",
       "    }\n",
       "</style>\n",
       "<table border=\"1\" class=\"dataframe\">\n",
       "  <thead>\n",
       "    <tr style=\"text-align: right;\">\n",
       "      <th></th>\n",
       "      <th>iterations</th>\n",
       "      <th>test-F1-mean</th>\n",
       "      <th>test-F1-std</th>\n",
       "      <th>train-F1-mean</th>\n",
       "      <th>train-F1-std</th>\n",
       "      <th>test-Logloss-mean</th>\n",
       "      <th>test-Logloss-std</th>\n",
       "      <th>train-Logloss-mean</th>\n",
       "      <th>train-Logloss-std</th>\n",
       "    </tr>\n",
       "  </thead>\n",
       "  <tbody>\n",
       "    <tr>\n",
       "      <th>0</th>\n",
       "      <td>0</td>\n",
       "      <td>0.297363</td>\n",
       "      <td>0.024913</td>\n",
       "      <td>0.298578</td>\n",
       "      <td>0.042514</td>\n",
       "      <td>0.454869</td>\n",
       "      <td>0.006194</td>\n",
       "      <td>0.454276</td>\n",
       "      <td>0.005791</td>\n",
       "    </tr>\n",
       "    <tr>\n",
       "      <th>1</th>\n",
       "      <td>1</td>\n",
       "      <td>0.382409</td>\n",
       "      <td>0.008908</td>\n",
       "      <td>0.384345</td>\n",
       "      <td>0.010206</td>\n",
       "      <td>0.337901</td>\n",
       "      <td>0.002512</td>\n",
       "      <td>0.337172</td>\n",
       "      <td>0.001577</td>\n",
       "    </tr>\n",
       "    <tr>\n",
       "      <th>2</th>\n",
       "      <td>2</td>\n",
       "      <td>0.397161</td>\n",
       "      <td>0.008830</td>\n",
       "      <td>0.398214</td>\n",
       "      <td>0.000814</td>\n",
       "      <td>0.279702</td>\n",
       "      <td>0.000546</td>\n",
       "      <td>0.278434</td>\n",
       "      <td>0.001642</td>\n",
       "    </tr>\n",
       "    <tr>\n",
       "      <th>3</th>\n",
       "      <td>3</td>\n",
       "      <td>0.412977</td>\n",
       "      <td>0.004740</td>\n",
       "      <td>0.418067</td>\n",
       "      <td>0.001049</td>\n",
       "      <td>0.248891</td>\n",
       "      <td>0.001034</td>\n",
       "      <td>0.247482</td>\n",
       "      <td>0.001695</td>\n",
       "    </tr>\n",
       "    <tr>\n",
       "      <th>4</th>\n",
       "      <td>4</td>\n",
       "      <td>0.437561</td>\n",
       "      <td>0.009633</td>\n",
       "      <td>0.442204</td>\n",
       "      <td>0.005164</td>\n",
       "      <td>0.230168</td>\n",
       "      <td>0.001166</td>\n",
       "      <td>0.228219</td>\n",
       "      <td>0.001111</td>\n",
       "    </tr>\n",
       "  </tbody>\n",
       "</table>\n",
       "</div>"
      ],
      "text/plain": [
       "   iterations  test-F1-mean  test-F1-std  train-F1-mean  train-F1-std  \\\n",
       "0           0      0.297363     0.024913       0.298578      0.042514   \n",
       "1           1      0.382409     0.008908       0.384345      0.010206   \n",
       "2           2      0.397161     0.008830       0.398214      0.000814   \n",
       "3           3      0.412977     0.004740       0.418067      0.001049   \n",
       "4           4      0.437561     0.009633       0.442204      0.005164   \n",
       "\n",
       "   test-Logloss-mean  test-Logloss-std  train-Logloss-mean  train-Logloss-std  \n",
       "0           0.454869          0.006194            0.454276           0.005791  \n",
       "1           0.337901          0.002512            0.337172           0.001577  \n",
       "2           0.279702          0.000546            0.278434           0.001642  \n",
       "3           0.248891          0.001034            0.247482           0.001695  \n",
       "4           0.230168          0.001166            0.228219           0.001111  "
      ]
     },
     "execution_count": 111,
     "metadata": {},
     "output_type": "execute_result"
    }
   ],
   "source": [
    "cv_data.head()"
   ]
  },
  {
   "cell_type": "code",
   "execution_count": 114,
   "metadata": {
    "execution": {
     "iopub.execute_input": "2023-08-04T12:31:48.891967Z",
     "iopub.status.busy": "2023-08-04T12:31:48.891557Z",
     "iopub.status.idle": "2023-08-04T12:31:48.909996Z",
     "shell.execute_reply": "2023-08-04T12:31:48.908733Z",
     "shell.execute_reply.started": "2023-08-04T12:31:48.891935Z"
    }
   },
   "outputs": [
    {
     "data": {
      "text/html": [
       "<div>\n",
       "<style scoped>\n",
       "    .dataframe tbody tr th:only-of-type {\n",
       "        vertical-align: middle;\n",
       "    }\n",
       "\n",
       "    .dataframe tbody tr th {\n",
       "        vertical-align: top;\n",
       "    }\n",
       "\n",
       "    .dataframe thead th {\n",
       "        text-align: right;\n",
       "    }\n",
       "</style>\n",
       "<table border=\"1\" class=\"dataframe\">\n",
       "  <thead>\n",
       "    <tr style=\"text-align: right;\">\n",
       "      <th></th>\n",
       "      <th>iterations</th>\n",
       "      <th>test-F1-mean</th>\n",
       "      <th>test-F1-std</th>\n",
       "      <th>train-F1-mean</th>\n",
       "      <th>train-F1-std</th>\n",
       "      <th>test-Logloss-mean</th>\n",
       "      <th>test-Logloss-std</th>\n",
       "      <th>train-Logloss-mean</th>\n",
       "      <th>train-Logloss-std</th>\n",
       "    </tr>\n",
       "  </thead>\n",
       "  <tbody>\n",
       "    <tr>\n",
       "      <th>155</th>\n",
       "      <td>155</td>\n",
       "      <td>0.648197</td>\n",
       "      <td>0.004679</td>\n",
       "      <td>0.800733</td>\n",
       "      <td>0.001011</td>\n",
       "      <td>0.162707</td>\n",
       "      <td>0.002198</td>\n",
       "      <td>0.103998</td>\n",
       "      <td>0.001324</td>\n",
       "    </tr>\n",
       "  </tbody>\n",
       "</table>\n",
       "</div>"
      ],
      "text/plain": [
       "     iterations  test-F1-mean  test-F1-std  train-F1-mean  train-F1-std  \\\n",
       "155         155      0.648197     0.004679       0.800733      0.001011   \n",
       "\n",
       "     test-Logloss-mean  test-Logloss-std  train-Logloss-mean  \\\n",
       "155           0.162707          0.002198            0.103998   \n",
       "\n",
       "     train-Logloss-std  \n",
       "155           0.001324  "
      ]
     },
     "execution_count": 114,
     "metadata": {},
     "output_type": "execute_result"
    }
   ],
   "source": [
    "cv_data[cv_data['test-F1-mean'] == cv_data['test-F1-mean'].max()]"
   ]
  },
  {
   "cell_type": "code",
   "execution_count": 113,
   "metadata": {
    "execution": {
     "iopub.execute_input": "2023-08-04T12:31:24.112120Z",
     "iopub.status.busy": "2023-08-04T12:31:24.111706Z",
     "iopub.status.idle": "2023-08-04T12:31:24.130266Z",
     "shell.execute_reply": "2023-08-04T12:31:24.128354Z",
     "shell.execute_reply.started": "2023-08-04T12:31:24.112057Z"
    }
   },
   "outputs": [
    {
     "data": {
      "text/html": [
       "<div>\n",
       "<style scoped>\n",
       "    .dataframe tbody tr th:only-of-type {\n",
       "        vertical-align: middle;\n",
       "    }\n",
       "\n",
       "    .dataframe tbody tr th {\n",
       "        vertical-align: top;\n",
       "    }\n",
       "\n",
       "    .dataframe thead th {\n",
       "        text-align: right;\n",
       "    }\n",
       "</style>\n",
       "<table border=\"1\" class=\"dataframe\">\n",
       "  <thead>\n",
       "    <tr style=\"text-align: right;\">\n",
       "      <th></th>\n",
       "      <th>iterations</th>\n",
       "      <th>test-F1-mean</th>\n",
       "      <th>test-F1-std</th>\n",
       "      <th>train-F1-mean</th>\n",
       "      <th>train-F1-std</th>\n",
       "      <th>test-Logloss-mean</th>\n",
       "      <th>test-Logloss-std</th>\n",
       "      <th>train-Logloss-mean</th>\n",
       "      <th>train-Logloss-std</th>\n",
       "    </tr>\n",
       "  </thead>\n",
       "  <tbody>\n",
       "    <tr>\n",
       "      <th>184</th>\n",
       "      <td>184</td>\n",
       "      <td>0.647549</td>\n",
       "      <td>0.003435</td>\n",
       "      <td>0.820591</td>\n",
       "      <td>0.004122</td>\n",
       "      <td>0.162748</td>\n",
       "      <td>0.002192</td>\n",
       "      <td>0.096784</td>\n",
       "      <td>0.002681</td>\n",
       "    </tr>\n",
       "  </tbody>\n",
       "</table>\n",
       "</div>"
      ],
      "text/plain": [
       "     iterations  test-F1-mean  test-F1-std  train-F1-mean  train-F1-std  \\\n",
       "184         184      0.647549     0.003435       0.820591      0.004122   \n",
       "\n",
       "     test-Logloss-mean  test-Logloss-std  train-Logloss-mean  \\\n",
       "184           0.162748          0.002192            0.096784   \n",
       "\n",
       "     train-Logloss-std  \n",
       "184           0.002681  "
      ]
     },
     "execution_count": 113,
     "metadata": {},
     "output_type": "execute_result"
    }
   ],
   "source": [
    "cv_data[cv_data['train-F1-mean'] == cv_data['train-F1-mean'].max()]"
   ]
  },
  {
   "cell_type": "code",
   "execution_count": 127,
   "metadata": {
    "colab": {
     "base_uri": "https://localhost:8080/"
    },
    "execution": {
     "iopub.execute_input": "2023-08-04T12:47:12.051694Z",
     "iopub.status.busy": "2023-08-04T12:47:12.051256Z",
     "iopub.status.idle": "2023-08-04T12:48:17.769599Z",
     "shell.execute_reply": "2023-08-04T12:48:17.768628Z",
     "shell.execute_reply.started": "2023-08-04T12:47:12.051661Z"
    },
    "id": "RwGGd_EKhfho",
    "outputId": "c13c8c7c-23e7-4407-b934-cef618d17180"
   },
   "outputs": [
    {
     "name": "stderr",
     "output_type": "stream",
     "text": [
      "Warning: less than 75% gpu memory available for training. Free: 9973.75 Total: 15109.75\n"
     ]
    },
    {
     "name": "stdout",
     "output_type": "stream",
     "text": [
      "0:\tlearn: 0.4333942\ttotal: 140ms\tremaining: 1m 9s\n",
      "50:\tlearn: 0.5253857\ttotal: 6.64s\tremaining: 58.5s\n",
      "100:\tlearn: 0.5948537\ttotal: 12s\tremaining: 47.3s\n",
      "150:\tlearn: 0.6264898\ttotal: 17.4s\tremaining: 40.2s\n",
      "200:\tlearn: 0.6445446\ttotal: 22.7s\tremaining: 33.7s\n",
      "250:\tlearn: 0.6570986\ttotal: 28.2s\tremaining: 27.9s\n",
      "300:\tlearn: 0.6666667\ttotal: 34.4s\tremaining: 22.7s\n",
      "350:\tlearn: 0.6751991\ttotal: 40.5s\tremaining: 17.2s\n",
      "400:\tlearn: 0.6846488\ttotal: 46.1s\tremaining: 11.4s\n",
      "450:\tlearn: 0.6932601\ttotal: 51.9s\tremaining: 5.64s\n",
      "499:\tlearn: 0.7012987\ttotal: 57.2s\tremaining: 0us\n",
      "CPU times: user 1min 34s, sys: 23.1 s, total: 1min 58s\n",
      "Wall time: 1min 5s\n"
     ]
    },
    {
     "data": {
      "text/plain": [
       "<catboost.core.CatBoostClassifier at 0x7cddacaa5780>"
      ]
     },
     "execution_count": 127,
     "metadata": {},
     "output_type": "execute_result"
    }
   ],
   "source": [
    "%%time\n",
    "\n",
    "params = {'eval_metric': 'F1',\n",
    "          'loss_function': 'Logloss',\n",
    "              'learning_rate': 1,\n",
    "              'random_seed': 12345,\n",
    "              'verbose':50,\n",
    "          'iterations': 300}  # test -> \n",
    "\n",
    "params = {'eval_metric': 'F1',\n",
    "          'loss_function': 'Logloss',\n",
    "              'learning_rate': 0.05,\n",
    "              'random_seed': 12345,\n",
    "              'verbose':50,\n",
    "          'iterations': 500,\n",
    "            'task_type':\"GPU\",\n",
    "            'devices':'0:1'} # test -> \n",
    "\n",
    "model = CatBoostClassifier(**params)\n",
    "model.fit(train_data)\n"
   ]
  },
  {
   "cell_type": "code",
   "execution_count": 129,
   "metadata": {
    "execution": {
     "iopub.execute_input": "2023-08-04T12:48:17.833578Z",
     "iopub.status.busy": "2023-08-04T12:48:17.829991Z",
     "iopub.status.idle": "2023-08-04T12:48:18.251107Z",
     "shell.execute_reply": "2023-08-04T12:48:18.250144Z",
     "shell.execute_reply.started": "2023-08-04T12:48:17.833541Z"
    }
   },
   "outputs": [
    {
     "data": {
      "text/plain": [
       "0.6467735919433047"
      ]
     },
     "execution_count": 129,
     "metadata": {},
     "output_type": "execute_result"
    }
   ],
   "source": [
    "prediction=model.predict(test_data)\n",
    "score=f1_score(target_test, prediction)\n",
    "score"
   ]
  },
  {
   "cell_type": "code",
   "execution_count": 130,
   "metadata": {
    "execution": {
     "iopub.execute_input": "2023-08-04T12:48:18.258007Z",
     "iopub.status.busy": "2023-08-04T12:48:18.255576Z",
     "iopub.status.idle": "2023-08-04T12:48:18.595014Z",
     "shell.execute_reply": "2023-08-04T12:48:18.594042Z",
     "shell.execute_reply.started": "2023-08-04T12:48:18.257953Z"
    }
   },
   "outputs": [
    {
     "data": {
      "text/plain": [
       "0.6442194490228397"
      ]
     },
     "execution_count": 130,
     "metadata": {},
     "output_type": "execute_result"
    }
   ],
   "source": [
    "prediction=model.predict(valid_data)\n",
    "score=f1_score(target_valid, prediction)\n",
    "score"
   ]
  },
  {
   "cell_type": "code",
   "execution_count": null,
   "metadata": {},
   "outputs": [],
   "source": [
    "%%time\n",
    "score_list_1000=[]\n",
    "#for r in [0.01,0.02,0.03,0.04,0.05,0.1,0,15,0.2,0.25,0.3]:\n",
    "for r in [0.15,0.2,0.25,0.3]:\n",
    "    start_time=time.time()\n",
    "    params = {'eval_metric': 'F1',\n",
    "          'loss_function': 'Logloss',\n",
    "              'learning_rate': r,\n",
    "              'random_seed': 12345,\n",
    "              'verbose':0,\n",
    "          'iterations': 1000,\n",
    "            'task_type':\"GPU\"\n",
    "             # ,'devices':'0:1'\n",
    "             } # test -> \n",
    "\n",
    "    model = CatBoostClassifier(**params)\n",
    "    model.fit(train_data)\n",
    "    prediction=model.predict(valid_data)\n",
    "    score=f1_score(target_valid, prediction)\n",
    "    print('for rate=',r ,'score=', score, ' iteration time', time.time()-start_time)\n",
    "    score_list_1000.append([r,score])    "
   ]
  },
  {
   "cell_type": "code",
   "execution_count": 136,
   "metadata": {
    "execution": {
     "iopub.execute_input": "2023-08-04T13:20:21.203812Z",
     "iopub.status.busy": "2023-08-04T13:20:21.200955Z",
     "iopub.status.idle": "2023-08-04T13:20:21.223460Z",
     "shell.execute_reply": "2023-08-04T13:20:21.222324Z",
     "shell.execute_reply.started": "2023-08-04T13:20:21.203772Z"
    }
   },
   "outputs": [
    {
     "data": {
      "text/plain": [
       "[[0.01, 0.6175115207373272],\n",
       " [0.02, 0.6385998107852413],\n",
       " [0.03, 0.6439802863177658],\n",
       " [0.04, 0.6503382318637743],\n",
       " [0.05, 0.6573686657368666],\n",
       " [0.1, 0.6632864715372205]]"
      ]
     },
     "execution_count": 136,
     "metadata": {},
     "output_type": "execute_result"
    }
   ],
   "source": [
    "score_list_1000"
   ]
  },
  {
   "cell_type": "code",
   "execution_count": 106,
   "metadata": {
    "colab": {
     "base_uri": "https://localhost:8080/"
    },
    "execution": {
     "iopub.execute_input": "2023-08-04T12:14:47.848734Z",
     "iopub.status.busy": "2023-08-04T12:14:47.848338Z",
     "iopub.status.idle": "2023-08-04T12:20:04.706672Z",
     "shell.execute_reply": "2023-08-04T12:20:04.705637Z",
     "shell.execute_reply.started": "2023-08-04T12:14:47.848702Z"
    },
    "id": "RwGGd_EKhfho",
    "outputId": "c13c8c7c-23e7-4407-b934-cef618d17180"
   },
   "outputs": [
    {
     "name": "stdout",
     "output_type": "stream",
     "text": [
      "0:\tlearn: 0.4064386\ttotal: 764ms\tremaining: 6m 21s\n",
      "50:\tlearn: 0.6559394\ttotal: 35.2s\tremaining: 5m 9s\n",
      "100:\tlearn: 0.7148682\ttotal: 1m 5s\tremaining: 4m 19s\n",
      "150:\tlearn: 0.7562285\ttotal: 1m 36s\tremaining: 3m 42s\n",
      "200:\tlearn: 0.7916319\ttotal: 2m 6s\tremaining: 3m 7s\n",
      "250:\tlearn: 0.8247840\ttotal: 2m 37s\tremaining: 2m 35s\n",
      "300:\tlearn: 0.8507124\ttotal: 3m 7s\tremaining: 2m 3s\n",
      "350:\tlearn: 0.8710605\ttotal: 3m 36s\tremaining: 1m 31s\n",
      "400:\tlearn: 0.8912735\ttotal: 4m 6s\tremaining: 1m\n",
      "450:\tlearn: 0.9079748\ttotal: 4m 37s\tremaining: 30.2s\n",
      "499:\tlearn: 0.9227048\ttotal: 5m 7s\tremaining: 0us\n",
      "CPU times: user 10min 1s, sys: 2.57 s, total: 10min 4s\n",
      "Wall time: 5min 16s\n"
     ]
    },
    {
     "data": {
      "text/plain": [
       "<catboost.core.CatBoostClassifier at 0x7cdd9a035330>"
      ]
     },
     "execution_count": 106,
     "metadata": {},
     "output_type": "execute_result"
    }
   ],
   "source": [
    "%%time\n",
    "\n",
    "params = {'eval_metric': 'F1',\n",
    "          'loss_function': 'Logloss',\n",
    "              'learning_rate': 1,\n",
    "              'random_seed': 12345,\n",
    "              'verbose':50,\n",
    "          'iterations': 300}  # test -> \n",
    "\n",
    "params = {'eval_metric': 'F1',\n",
    "          'loss_function': 'Logloss',\n",
    "              'learning_rate': 0.1,\n",
    "              'random_seed': 12345,\n",
    "              'verbose':50,\n",
    "          'iterations': 300} # test -> \n",
    "\n",
    "model = CatBoostClassifier(**params)\n",
    "model.fit(train_data)\n"
   ]
  },
  {
   "cell_type": "code",
   "execution_count": null,
   "metadata": {
    "id": "PAOT1Zkrf8ek"
   },
   "outputs": [],
   "source": [
    "params = {'eval_metric': 'F1',\n",
    "          'loss_function': 'Logloss',\n",
    "              'learning_rate': 0.25,\n",
    "              'random_seed': 12345,\n",
    "              'verbose':100}"
   ]
  },
  {
   "cell_type": "code",
   "execution_count": null,
   "metadata": {
    "colab": {
     "base_uri": "https://localhost:8080/",
     "height": 573
    },
    "id": "URS3PODAgt9O",
    "outputId": "84891225-aeea-4c30-9b3e-686e9c6c4eac"
   },
   "outputs": [],
   "source": [
    "cv_data = cv(\n",
    "    params = params,\n",
    "    pool = train_data,\n",
    "    fold_count=5,\n",
    "    shuffle=True,\n",
    "    partition_random_seed=0,\n",
    "    stratified=True,\n",
    "    verbose=50,\n",
    "    early_stopping_rounds=20\n",
    ")"
   ]
  },
  {
   "cell_type": "code",
   "execution_count": null,
   "metadata": {
    "colab": {
     "base_uri": "https://localhost:8080/"
    },
    "id": "RwGGd_EKhfho",
    "outputId": "c13c8c7c-23e7-4407-b934-cef618d17180"
   },
   "outputs": [],
   "source": [
    "%%time\n",
    "\n",
    "params = {'eval_metric': 'F1',\n",
    "          'loss_function': 'Logloss',\n",
    "              'learning_rate': 1,\n",
    "              'random_seed': 12345,\n",
    "              'verbose':50,\n",
    "          'iterations': 300}  # test -> 0.765\n",
    "\n",
    "params = {'eval_metric': 'F1',\n",
    "          'loss_function': 'Logloss',\n",
    "              'learning_rate': 0.25,\n",
    "              'random_seed': 12345,\n",
    "              'verbose':50,\n",
    "          'iterations': 500} # test -> 0.769\n",
    "\n",
    "model = CatBoostClassifier(**params)\n",
    "model.fit(train_data)\n"
   ]
  },
  {
   "cell_type": "code",
   "execution_count": null,
   "metadata": {},
   "outputs": [],
   "source": [
    "prediction=model.predict(test_data)\n",
    "score=f1_score(test[y], prediction)\n",
    "score"
   ]
  },
  {
   "cell_type": "code",
   "execution_count": null,
   "metadata": {
    "colab": {
     "base_uri": "https://localhost:8080/"
    },
    "id": "RwGGd_EKhfho",
    "outputId": "c13c8c7c-23e7-4407-b934-cef618d17180"
   },
   "outputs": [],
   "source": [
    "%%time\n",
    "\n",
    "params = {'eval_metric': 'F1',\n",
    "          'loss_function': 'Logloss',\n",
    "              'learning_rate': 1,\n",
    "              'random_seed': 12345,\n",
    "              'verbose':50,\n",
    "          'iterations': 300}  # test -> 0.765\n",
    "\n",
    "params = {'eval_metric': 'F1',\n",
    "          'loss_function': 'Logloss',\n",
    "              'learning_rate': 0.25,\n",
    "              'random_seed': 12345,\n",
    "              'verbose':50,\n",
    "          'iterations': 500} # test -> 0.769\n",
    "\n",
    "model = CatBoostClassifier(**params)\n",
    "model.fit(train_data)\n"
   ]
  },
  {
   "cell_type": "code",
   "execution_count": 107,
   "metadata": {
    "execution": {
     "iopub.execute_input": "2023-08-04T12:22:47.725668Z",
     "iopub.status.busy": "2023-08-04T12:22:47.725247Z",
     "iopub.status.idle": "2023-08-04T12:22:47.916045Z",
     "shell.execute_reply": "2023-08-04T12:22:47.915022Z",
     "shell.execute_reply.started": "2023-08-04T12:22:47.725635Z"
    }
   },
   "outputs": [
    {
     "data": {
      "text/plain": [
       "0.6562641338760742"
      ]
     },
     "execution_count": 107,
     "metadata": {},
     "output_type": "execute_result"
    }
   ],
   "source": [
    "prediction=model.predict(valid_data)\n",
    "score=f1_score(target_valid, prediction)\n",
    "score"
   ]
  },
  {
   "cell_type": "code",
   "execution_count": 109,
   "metadata": {
    "execution": {
     "iopub.execute_input": "2023-08-04T12:23:03.076708Z",
     "iopub.status.busy": "2023-08-04T12:23:03.076202Z",
     "iopub.status.idle": "2023-08-04T12:23:03.369353Z",
     "shell.execute_reply": "2023-08-04T12:23:03.368115Z",
     "shell.execute_reply.started": "2023-08-04T12:23:03.076669Z"
    }
   },
   "outputs": [
    {
     "data": {
      "text/plain": [
       "0.6698027863216935"
      ]
     },
     "execution_count": 109,
     "metadata": {},
     "output_type": "execute_result"
    }
   ],
   "source": [
    "prediction=model.predict(test_data)\n",
    "score=f1_score(target_test, prediction)\n",
    "score"
   ]
  },
  {
   "cell_type": "markdown",
   "metadata": {},
   "source": [
    "### Выводы по обучению моделей"
   ]
  },
  {
   "cell_type": "markdown",
   "metadata": {},
   "source": [
    "Выводы\n",
    "\n",
    "Построены и обучены следущие модели :\n",
    "\n",
    "В проекта используются пять моделей \n",
    "- частотный анализ TF-IDF + logistic regression   (F1 на тестовой выборке 0.78)\n",
    "- частотный анализ TF-IDF + CatBoost (F1 на тестовой выборке 0.757)\n",
    "- *BERT* + logistic regression на исходных данных  (F1 на тестовой выборке 0.757)\n",
    "- *BERT* + logistic regression на данных после предобработки очистки, лемматизации, без стоп-слов  (F1 на тестовой выборке 0.7)\n",
    "- *BERT* + CatBoost на данных после предобработки очистки, лемматизации, без стоп-слов  (F1 на тестовой выборке 0.67)\n",
    "\n",
    "Дисбаланс классов для логической регрессии решался подбором порога вероятности. "
   ]
  },
  {
   "cell_type": "markdown",
   "metadata": {},
   "source": [
    "## Выводы"
   ]
  },
  {
   "cell_type": "markdown",
   "metadata": {},
   "source": [
    "Наблюдается дисбаланс классов: доля токсичных сообщений состовляет: 10 %, нетоксичные сообщения 90 \n",
    "\n",
    "Для обоих способов векторицазии токенизированых фраз логическая регрессия работает достаточно хорошо и гораздо быстрее чем CatBoost. \n",
    "Частотные признаки TF-IDF показали немного лучше чем BERT. \n",
    "В случаи использования BERT предобработка фраз привела к ухучшению метрики, поэтому в работе использовались исходные сообщения.  Частотный анализ строился после предобработки текста(чистка текста, лемматизация,  убрали стоп слова)\n",
    "\n",
    "Предлагаем две модели с метрикой F1 выше целевой 0.75:\n",
    "- TF-IDF + logistic regression (0.78)\n",
    "- BERT + logistic regression  (0.757)\n",
    "  \n",
    "Модель TF-IDF + logistic regression (0.78) более быстра в исспользовании."
   ]
  }
 ],
 "metadata": {
  "colab": {
   "gpuType": "T4",
   "provenance": [],
   "toc_visible": true
  },
  "kernelspec": {
   "display_name": "Python 3 (ipykernel)",
   "language": "python",
   "name": "python3"
  },
  "language_info": {
   "codemirror_mode": {
    "name": "ipython",
    "version": 3
   },
   "file_extension": ".py",
   "mimetype": "text/x-python",
   "name": "python",
   "nbconvert_exporter": "python",
   "pygments_lexer": "ipython3",
   "version": "3.11.5"
  },
  "widgets": {
   "application/vnd.jupyter.widget-state+json": {
    "0004e9317fd34545a1b00d3e5d729af4": {
     "model_module": "@jupyter-widgets/base",
     "model_module_version": "1.2.0",
     "model_name": "LayoutModel",
     "state": {
      "_model_module": "@jupyter-widgets/base",
      "_model_module_version": "1.2.0",
      "_model_name": "LayoutModel",
      "_view_count": null,
      "_view_module": "@jupyter-widgets/base",
      "_view_module_version": "1.2.0",
      "_view_name": "LayoutView",
      "align_content": null,
      "align_items": null,
      "align_self": null,
      "border": null,
      "bottom": null,
      "display": null,
      "flex": null,
      "flex_flow": null,
      "grid_area": null,
      "grid_auto_columns": null,
      "grid_auto_flow": null,
      "grid_auto_rows": null,
      "grid_column": null,
      "grid_gap": null,
      "grid_row": null,
      "grid_template_areas": null,
      "grid_template_columns": null,
      "grid_template_rows": null,
      "height": null,
      "justify_content": null,
      "justify_items": null,
      "left": null,
      "margin": null,
      "max_height": null,
      "max_width": null,
      "min_height": null,
      "min_width": null,
      "object_fit": null,
      "object_position": null,
      "order": null,
      "overflow": null,
      "overflow_x": null,
      "overflow_y": null,
      "padding": null,
      "right": null,
      "top": null,
      "visibility": null,
      "width": null
     }
    },
    "000ffb1c14e24eb8a6fda516561554c2": {
     "model_module": "@jupyter-widgets/base",
     "model_module_version": "1.2.0",
     "model_name": "LayoutModel",
     "state": {
      "_model_module": "@jupyter-widgets/base",
      "_model_module_version": "1.2.0",
      "_model_name": "LayoutModel",
      "_view_count": null,
      "_view_module": "@jupyter-widgets/base",
      "_view_module_version": "1.2.0",
      "_view_name": "LayoutView",
      "align_content": null,
      "align_items": null,
      "align_self": null,
      "border": null,
      "bottom": null,
      "display": null,
      "flex": null,
      "flex_flow": null,
      "grid_area": null,
      "grid_auto_columns": null,
      "grid_auto_flow": null,
      "grid_auto_rows": null,
      "grid_column": null,
      "grid_gap": null,
      "grid_row": null,
      "grid_template_areas": null,
      "grid_template_columns": null,
      "grid_template_rows": null,
      "height": null,
      "justify_content": null,
      "justify_items": null,
      "left": null,
      "margin": null,
      "max_height": null,
      "max_width": null,
      "min_height": null,
      "min_width": null,
      "object_fit": null,
      "object_position": null,
      "order": null,
      "overflow": null,
      "overflow_x": null,
      "overflow_y": null,
      "padding": null,
      "right": null,
      "top": null,
      "visibility": null,
      "width": null
     }
    },
    "01d121b85cd44ee8b34e48acf6d4a3f3": {
     "model_module": "@jupyter-widgets/controls",
     "model_module_version": "1.5.0",
     "model_name": "HBoxModel",
     "state": {
      "_dom_classes": [],
      "_model_module": "@jupyter-widgets/controls",
      "_model_module_version": "1.5.0",
      "_model_name": "HBoxModel",
      "_view_count": null,
      "_view_module": "@jupyter-widgets/controls",
      "_view_module_version": "1.5.0",
      "_view_name": "HBoxView",
      "box_style": "",
      "children": [
       "IPY_MODEL_e21c26b6261d4622a272420a0269175e",
       "IPY_MODEL_1d701eb7dfe5409fbf2db956c0777bd7",
       "IPY_MODEL_d4ce2da5214d463fbf97aa87b78566be"
      ],
      "layout": "IPY_MODEL_cf407e4e162e444d98257f1743947413"
     }
    },
    "02e83481410c471f9541f460e13c7e8f": {
     "model_module": "@jupyter-widgets/controls",
     "model_module_version": "1.5.0",
     "model_name": "FloatProgressModel",
     "state": {
      "_dom_classes": [],
      "_model_module": "@jupyter-widgets/controls",
      "_model_module_version": "1.5.0",
      "_model_name": "FloatProgressModel",
      "_view_count": null,
      "_view_module": "@jupyter-widgets/controls",
      "_view_module_version": "1.5.0",
      "_view_name": "ProgressView",
      "bar_style": "success",
      "description": "",
      "description_tooltip": null,
      "layout": "IPY_MODEL_0dd4c55565744f438cd6e1b30b08e311",
      "max": 570,
      "min": 0,
      "orientation": "horizontal",
      "style": "IPY_MODEL_8a9b37c5b99b42548400af5bbd5799e9",
      "value": 570
     }
    },
    "032b1ea99ca0495f812e84bfdc1a1d24": {
     "model_module": "@jupyter-widgets/base",
     "model_module_version": "1.2.0",
     "model_name": "LayoutModel",
     "state": {
      "_model_module": "@jupyter-widgets/base",
      "_model_module_version": "1.2.0",
      "_model_name": "LayoutModel",
      "_view_count": null,
      "_view_module": "@jupyter-widgets/base",
      "_view_module_version": "1.2.0",
      "_view_name": "LayoutView",
      "align_content": null,
      "align_items": null,
      "align_self": null,
      "border": null,
      "bottom": null,
      "display": null,
      "flex": null,
      "flex_flow": null,
      "grid_area": null,
      "grid_auto_columns": null,
      "grid_auto_flow": null,
      "grid_auto_rows": null,
      "grid_column": null,
      "grid_gap": null,
      "grid_row": null,
      "grid_template_areas": null,
      "grid_template_columns": null,
      "grid_template_rows": null,
      "height": null,
      "justify_content": null,
      "justify_items": null,
      "left": null,
      "margin": null,
      "max_height": null,
      "max_width": null,
      "min_height": null,
      "min_width": null,
      "object_fit": null,
      "object_position": null,
      "order": null,
      "overflow": null,
      "overflow_x": null,
      "overflow_y": null,
      "padding": null,
      "right": null,
      "top": null,
      "visibility": null,
      "width": null
     }
    },
    "06432810bc5b42eca98604cd4b1ecf07": {
     "model_module": "@jupyter-widgets/controls",
     "model_module_version": "1.5.0",
     "model_name": "HBoxModel",
     "state": {
      "_dom_classes": [],
      "_model_module": "@jupyter-widgets/controls",
      "_model_module_version": "1.5.0",
      "_model_name": "HBoxModel",
      "_view_count": null,
      "_view_module": "@jupyter-widgets/controls",
      "_view_module_version": "1.5.0",
      "_view_name": "HBoxView",
      "box_style": "",
      "children": [
       "IPY_MODEL_401056defbc64a7c88c2997a7968e18c",
       "IPY_MODEL_54808e006a564d73a5e8385241235c10",
       "IPY_MODEL_a2dee35085ac48208611d3cc216d46be"
      ],
      "layout": "IPY_MODEL_d3297fb5e6d74beba90f0cf0b0c7a0a2"
     }
    },
    "0935250530ee49c18e58169e8a1079fc": {
     "model_module": "@jupyter-widgets/controls",
     "model_module_version": "1.5.0",
     "model_name": "DescriptionStyleModel",
     "state": {
      "_model_module": "@jupyter-widgets/controls",
      "_model_module_version": "1.5.0",
      "_model_name": "DescriptionStyleModel",
      "_view_count": null,
      "_view_module": "@jupyter-widgets/base",
      "_view_module_version": "1.2.0",
      "_view_name": "StyleView",
      "description_width": ""
     }
    },
    "0946364df29e44b08b2417d8c85c5a37": {
     "model_module": "@jupyter-widgets/base",
     "model_module_version": "1.2.0",
     "model_name": "LayoutModel",
     "state": {
      "_model_module": "@jupyter-widgets/base",
      "_model_module_version": "1.2.0",
      "_model_name": "LayoutModel",
      "_view_count": null,
      "_view_module": "@jupyter-widgets/base",
      "_view_module_version": "1.2.0",
      "_view_name": "LayoutView",
      "align_content": null,
      "align_items": null,
      "align_self": null,
      "border": null,
      "bottom": null,
      "display": null,
      "flex": null,
      "flex_flow": null,
      "grid_area": null,
      "grid_auto_columns": null,
      "grid_auto_flow": null,
      "grid_auto_rows": null,
      "grid_column": null,
      "grid_gap": null,
      "grid_row": null,
      "grid_template_areas": null,
      "grid_template_columns": null,
      "grid_template_rows": null,
      "height": null,
      "justify_content": null,
      "justify_items": null,
      "left": null,
      "margin": null,
      "max_height": null,
      "max_width": null,
      "min_height": null,
      "min_width": null,
      "object_fit": null,
      "object_position": null,
      "order": null,
      "overflow": null,
      "overflow_x": null,
      "overflow_y": null,
      "padding": null,
      "right": null,
      "top": null,
      "visibility": null,
      "width": null
     }
    },
    "0d10cd79acc4421a95dc1b1c9dc858c8": {
     "model_module": "@jupyter-widgets/base",
     "model_module_version": "1.2.0",
     "model_name": "LayoutModel",
     "state": {
      "_model_module": "@jupyter-widgets/base",
      "_model_module_version": "1.2.0",
      "_model_name": "LayoutModel",
      "_view_count": null,
      "_view_module": "@jupyter-widgets/base",
      "_view_module_version": "1.2.0",
      "_view_name": "LayoutView",
      "align_content": null,
      "align_items": null,
      "align_self": null,
      "border": null,
      "bottom": null,
      "display": null,
      "flex": null,
      "flex_flow": null,
      "grid_area": null,
      "grid_auto_columns": null,
      "grid_auto_flow": null,
      "grid_auto_rows": null,
      "grid_column": null,
      "grid_gap": null,
      "grid_row": null,
      "grid_template_areas": null,
      "grid_template_columns": null,
      "grid_template_rows": null,
      "height": null,
      "justify_content": null,
      "justify_items": null,
      "left": null,
      "margin": null,
      "max_height": null,
      "max_width": null,
      "min_height": null,
      "min_width": null,
      "object_fit": null,
      "object_position": null,
      "order": null,
      "overflow": null,
      "overflow_x": null,
      "overflow_y": null,
      "padding": null,
      "right": null,
      "top": null,
      "visibility": null,
      "width": null
     }
    },
    "0dd4c55565744f438cd6e1b30b08e311": {
     "model_module": "@jupyter-widgets/base",
     "model_module_version": "1.2.0",
     "model_name": "LayoutModel",
     "state": {
      "_model_module": "@jupyter-widgets/base",
      "_model_module_version": "1.2.0",
      "_model_name": "LayoutModel",
      "_view_count": null,
      "_view_module": "@jupyter-widgets/base",
      "_view_module_version": "1.2.0",
      "_view_name": "LayoutView",
      "align_content": null,
      "align_items": null,
      "align_self": null,
      "border": null,
      "bottom": null,
      "display": null,
      "flex": null,
      "flex_flow": null,
      "grid_area": null,
      "grid_auto_columns": null,
      "grid_auto_flow": null,
      "grid_auto_rows": null,
      "grid_column": null,
      "grid_gap": null,
      "grid_row": null,
      "grid_template_areas": null,
      "grid_template_columns": null,
      "grid_template_rows": null,
      "height": null,
      "justify_content": null,
      "justify_items": null,
      "left": null,
      "margin": null,
      "max_height": null,
      "max_width": null,
      "min_height": null,
      "min_width": null,
      "object_fit": null,
      "object_position": null,
      "order": null,
      "overflow": null,
      "overflow_x": null,
      "overflow_y": null,
      "padding": null,
      "right": null,
      "top": null,
      "visibility": null,
      "width": null
     }
    },
    "0f5f18e666894eef913b60466b0c36fd": {
     "model_module": "@jupyter-widgets/controls",
     "model_module_version": "1.5.0",
     "model_name": "HBoxModel",
     "state": {
      "_dom_classes": [],
      "_model_module": "@jupyter-widgets/controls",
      "_model_module_version": "1.5.0",
      "_model_name": "HBoxModel",
      "_view_count": null,
      "_view_module": "@jupyter-widgets/controls",
      "_view_module_version": "1.5.0",
      "_view_name": "HBoxView",
      "box_style": "",
      "children": [
       "IPY_MODEL_dab9ba5c07ba4792947a05d04c8e19ce",
       "IPY_MODEL_afcd69b4da534755a48ace7734929a2c",
       "IPY_MODEL_cb603e5a97354063a5f7a966e2bbdcd7"
      ],
      "layout": "IPY_MODEL_7937baf6793c49ef8d0fa2e8fde34937"
     }
    },
    "109236648a9947fc96734da66ed28104": {
     "model_module": "@jupyter-widgets/controls",
     "model_module_version": "1.5.0",
     "model_name": "ProgressStyleModel",
     "state": {
      "_model_module": "@jupyter-widgets/controls",
      "_model_module_version": "1.5.0",
      "_model_name": "ProgressStyleModel",
      "_view_count": null,
      "_view_module": "@jupyter-widgets/base",
      "_view_module_version": "1.2.0",
      "_view_name": "StyleView",
      "bar_color": null,
      "description_width": ""
     }
    },
    "10c76a532a8a4ff1a69d66bc773eadb6": {
     "model_module": "@jupyter-widgets/base",
     "model_module_version": "1.2.0",
     "model_name": "LayoutModel",
     "state": {
      "_model_module": "@jupyter-widgets/base",
      "_model_module_version": "1.2.0",
      "_model_name": "LayoutModel",
      "_view_count": null,
      "_view_module": "@jupyter-widgets/base",
      "_view_module_version": "1.2.0",
      "_view_name": "LayoutView",
      "align_content": null,
      "align_items": null,
      "align_self": null,
      "border": null,
      "bottom": null,
      "display": null,
      "flex": null,
      "flex_flow": null,
      "grid_area": null,
      "grid_auto_columns": null,
      "grid_auto_flow": null,
      "grid_auto_rows": null,
      "grid_column": null,
      "grid_gap": null,
      "grid_row": null,
      "grid_template_areas": null,
      "grid_template_columns": null,
      "grid_template_rows": null,
      "height": null,
      "justify_content": null,
      "justify_items": null,
      "left": null,
      "margin": null,
      "max_height": null,
      "max_width": null,
      "min_height": null,
      "min_width": null,
      "object_fit": null,
      "object_position": null,
      "order": null,
      "overflow": null,
      "overflow_x": null,
      "overflow_y": null,
      "padding": null,
      "right": null,
      "top": null,
      "visibility": null,
      "width": null
     }
    },
    "1c028f54a0674750a65eb03e3d46e16e": {
     "model_module": "@jupyter-widgets/controls",
     "model_module_version": "1.5.0",
     "model_name": "DescriptionStyleModel",
     "state": {
      "_model_module": "@jupyter-widgets/controls",
      "_model_module_version": "1.5.0",
      "_model_name": "DescriptionStyleModel",
      "_view_count": null,
      "_view_module": "@jupyter-widgets/base",
      "_view_module_version": "1.2.0",
      "_view_name": "StyleView",
      "description_width": ""
     }
    },
    "1d400cff44ae43cb9553fab0cff7d608": {
     "model_module": "@jupyter-widgets/controls",
     "model_module_version": "1.5.0",
     "model_name": "FloatProgressModel",
     "state": {
      "_dom_classes": [],
      "_model_module": "@jupyter-widgets/controls",
      "_model_module_version": "1.5.0",
      "_model_name": "FloatProgressModel",
      "_view_count": null,
      "_view_module": "@jupyter-widgets/controls",
      "_view_module_version": "1.5.0",
      "_view_name": "ProgressView",
      "bar_style": "success",
      "description": "",
      "description_tooltip": null,
      "layout": "IPY_MODEL_10c76a532a8a4ff1a69d66bc773eadb6",
      "max": 231508,
      "min": 0,
      "orientation": "horizontal",
      "style": "IPY_MODEL_57e1d15aab174edcaf3cbaddf0614bd1",
      "value": 231508
     }
    },
    "1d701eb7dfe5409fbf2db956c0777bd7": {
     "model_module": "@jupyter-widgets/controls",
     "model_module_version": "1.5.0",
     "model_name": "FloatProgressModel",
     "state": {
      "_dom_classes": [],
      "_model_module": "@jupyter-widgets/controls",
      "_model_module_version": "1.5.0",
      "_model_name": "FloatProgressModel",
      "_view_count": null,
      "_view_module": "@jupyter-widgets/controls",
      "_view_module_version": "1.5.0",
      "_view_name": "ProgressView",
      "bar_style": "success",
      "description": "",
      "description_tooltip": null,
      "layout": "IPY_MODEL_000ffb1c14e24eb8a6fda516561554c2",
      "max": 28,
      "min": 0,
      "orientation": "horizontal",
      "style": "IPY_MODEL_109236648a9947fc96734da66ed28104",
      "value": 28
     }
    },
    "252a570eadd54ec3ba75e0fd9377c8ac": {
     "model_module": "@jupyter-widgets/controls",
     "model_module_version": "1.5.0",
     "model_name": "ProgressStyleModel",
     "state": {
      "_model_module": "@jupyter-widgets/controls",
      "_model_module_version": "1.5.0",
      "_model_name": "ProgressStyleModel",
      "_view_count": null,
      "_view_module": "@jupyter-widgets/base",
      "_view_module_version": "1.2.0",
      "_view_name": "StyleView",
      "bar_color": null,
      "description_width": ""
     }
    },
    "2660d6252d4641b7ab19874f5820f857": {
     "model_module": "@jupyter-widgets/controls",
     "model_module_version": "1.5.0",
     "model_name": "ProgressStyleModel",
     "state": {
      "_model_module": "@jupyter-widgets/controls",
      "_model_module_version": "1.5.0",
      "_model_name": "ProgressStyleModel",
      "_view_count": null,
      "_view_module": "@jupyter-widgets/base",
      "_view_module_version": "1.2.0",
      "_view_name": "StyleView",
      "bar_color": null,
      "description_width": ""
     }
    },
    "288cd6c6d54d47fe9a92612958880f67": {
     "model_module": "@jupyter-widgets/base",
     "model_module_version": "1.2.0",
     "model_name": "LayoutModel",
     "state": {
      "_model_module": "@jupyter-widgets/base",
      "_model_module_version": "1.2.0",
      "_model_name": "LayoutModel",
      "_view_count": null,
      "_view_module": "@jupyter-widgets/base",
      "_view_module_version": "1.2.0",
      "_view_name": "LayoutView",
      "align_content": null,
      "align_items": null,
      "align_self": null,
      "border": null,
      "bottom": null,
      "display": null,
      "flex": null,
      "flex_flow": null,
      "grid_area": null,
      "grid_auto_columns": null,
      "grid_auto_flow": null,
      "grid_auto_rows": null,
      "grid_column": null,
      "grid_gap": null,
      "grid_row": null,
      "grid_template_areas": null,
      "grid_template_columns": null,
      "grid_template_rows": null,
      "height": null,
      "justify_content": null,
      "justify_items": null,
      "left": null,
      "margin": null,
      "max_height": null,
      "max_width": null,
      "min_height": null,
      "min_width": null,
      "object_fit": null,
      "object_position": null,
      "order": null,
      "overflow": null,
      "overflow_x": null,
      "overflow_y": null,
      "padding": null,
      "right": null,
      "top": null,
      "visibility": null,
      "width": null
     }
    },
    "29f9a7aa1a064de19d0b2bf9f6a4bdaf": {
     "model_module": "@jupyter-widgets/base",
     "model_module_version": "1.2.0",
     "model_name": "LayoutModel",
     "state": {
      "_model_module": "@jupyter-widgets/base",
      "_model_module_version": "1.2.0",
      "_model_name": "LayoutModel",
      "_view_count": null,
      "_view_module": "@jupyter-widgets/base",
      "_view_module_version": "1.2.0",
      "_view_name": "LayoutView",
      "align_content": null,
      "align_items": null,
      "align_self": null,
      "border": null,
      "bottom": null,
      "display": null,
      "flex": null,
      "flex_flow": null,
      "grid_area": null,
      "grid_auto_columns": null,
      "grid_auto_flow": null,
      "grid_auto_rows": null,
      "grid_column": null,
      "grid_gap": null,
      "grid_row": null,
      "grid_template_areas": null,
      "grid_template_columns": null,
      "grid_template_rows": null,
      "height": null,
      "justify_content": null,
      "justify_items": null,
      "left": null,
      "margin": null,
      "max_height": null,
      "max_width": null,
      "min_height": null,
      "min_width": null,
      "object_fit": null,
      "object_position": null,
      "order": null,
      "overflow": null,
      "overflow_x": null,
      "overflow_y": null,
      "padding": null,
      "right": null,
      "top": null,
      "visibility": null,
      "width": null
     }
    },
    "2be2e1535da943819b260d151e79552b": {
     "model_module": "@jupyter-widgets/controls",
     "model_module_version": "1.5.0",
     "model_name": "HTMLModel",
     "state": {
      "_dom_classes": [],
      "_model_module": "@jupyter-widgets/controls",
      "_model_module_version": "1.5.0",
      "_model_name": "HTMLModel",
      "_view_count": null,
      "_view_module": "@jupyter-widgets/controls",
      "_view_module_version": "1.5.0",
      "_view_name": "HTMLView",
      "description": "",
      "description_tooltip": null,
      "layout": "IPY_MODEL_7efd627fe88446f59c5e8854b66c5f51",
      "placeholder": "​",
      "style": "IPY_MODEL_81e7802f60a64c20aa7e4f0bec5a5897",
      "value": "100%"
     }
    },
    "35753a88a6d844d5a1281cc0d7257510": {
     "model_module": "@jupyter-widgets/controls",
     "model_module_version": "1.5.0",
     "model_name": "DescriptionStyleModel",
     "state": {
      "_model_module": "@jupyter-widgets/controls",
      "_model_module_version": "1.5.0",
      "_model_name": "DescriptionStyleModel",
      "_view_count": null,
      "_view_module": "@jupyter-widgets/base",
      "_view_module_version": "1.2.0",
      "_view_name": "StyleView",
      "description_width": ""
     }
    },
    "3748bafe7d624fc2ae4eb0551ff85010": {
     "model_module": "@jupyter-widgets/controls",
     "model_module_version": "1.5.0",
     "model_name": "HTMLModel",
     "state": {
      "_dom_classes": [],
      "_model_module": "@jupyter-widgets/controls",
      "_model_module_version": "1.5.0",
      "_model_name": "HTMLModel",
      "_view_count": null,
      "_view_module": "@jupyter-widgets/controls",
      "_view_module_version": "1.5.0",
      "_view_name": "HTMLView",
      "description": "",
      "description_tooltip": null,
      "layout": "IPY_MODEL_67f3f2d307a9411d9fa7f21930e5a7da",
      "placeholder": "​",
      "style": "IPY_MODEL_f40d781339cc4c9ca1596bebeb0ec6f9",
      "value": "Downloading (…)lve/main/config.json: 100%"
     }
    },
    "3aa260b5fe9445c5b62b478511917e12": {
     "model_module": "@jupyter-widgets/controls",
     "model_module_version": "1.5.0",
     "model_name": "DescriptionStyleModel",
     "state": {
      "_model_module": "@jupyter-widgets/controls",
      "_model_module_version": "1.5.0",
      "_model_name": "DescriptionStyleModel",
      "_view_count": null,
      "_view_module": "@jupyter-widgets/base",
      "_view_module_version": "1.2.0",
      "_view_name": "StyleView",
      "description_width": ""
     }
    },
    "3adc4cf807cc47bfb9606141475ae94f": {
     "model_module": "@jupyter-widgets/base",
     "model_module_version": "1.2.0",
     "model_name": "LayoutModel",
     "state": {
      "_model_module": "@jupyter-widgets/base",
      "_model_module_version": "1.2.0",
      "_model_name": "LayoutModel",
      "_view_count": null,
      "_view_module": "@jupyter-widgets/base",
      "_view_module_version": "1.2.0",
      "_view_name": "LayoutView",
      "align_content": null,
      "align_items": null,
      "align_self": null,
      "border": null,
      "bottom": null,
      "display": null,
      "flex": null,
      "flex_flow": null,
      "grid_area": null,
      "grid_auto_columns": null,
      "grid_auto_flow": null,
      "grid_auto_rows": null,
      "grid_column": null,
      "grid_gap": null,
      "grid_row": null,
      "grid_template_areas": null,
      "grid_template_columns": null,
      "grid_template_rows": null,
      "height": null,
      "justify_content": null,
      "justify_items": null,
      "left": null,
      "margin": null,
      "max_height": null,
      "max_width": null,
      "min_height": null,
      "min_width": null,
      "object_fit": null,
      "object_position": null,
      "order": null,
      "overflow": null,
      "overflow_x": null,
      "overflow_y": null,
      "padding": null,
      "right": null,
      "top": null,
      "visibility": null,
      "width": null
     }
    },
    "401056defbc64a7c88c2997a7968e18c": {
     "model_module": "@jupyter-widgets/controls",
     "model_module_version": "1.5.0",
     "model_name": "HTMLModel",
     "state": {
      "_dom_classes": [],
      "_model_module": "@jupyter-widgets/controls",
      "_model_module_version": "1.5.0",
      "_model_name": "HTMLModel",
      "_view_count": null,
      "_view_module": "@jupyter-widgets/controls",
      "_view_module_version": "1.5.0",
      "_view_name": "HTMLView",
      "description": "",
      "description_tooltip": null,
      "layout": "IPY_MODEL_3adc4cf807cc47bfb9606141475ae94f",
      "placeholder": "​",
      "style": "IPY_MODEL_3aa260b5fe9445c5b62b478511917e12",
      "value": "100%"
     }
    },
    "45d9f881a2894bebb0ab981f2ba954b2": {
     "model_module": "@jupyter-widgets/base",
     "model_module_version": "1.2.0",
     "model_name": "LayoutModel",
     "state": {
      "_model_module": "@jupyter-widgets/base",
      "_model_module_version": "1.2.0",
      "_model_name": "LayoutModel",
      "_view_count": null,
      "_view_module": "@jupyter-widgets/base",
      "_view_module_version": "1.2.0",
      "_view_name": "LayoutView",
      "align_content": null,
      "align_items": null,
      "align_self": null,
      "border": null,
      "bottom": null,
      "display": null,
      "flex": null,
      "flex_flow": null,
      "grid_area": null,
      "grid_auto_columns": null,
      "grid_auto_flow": null,
      "grid_auto_rows": null,
      "grid_column": null,
      "grid_gap": null,
      "grid_row": null,
      "grid_template_areas": null,
      "grid_template_columns": null,
      "grid_template_rows": null,
      "height": null,
      "justify_content": null,
      "justify_items": null,
      "left": null,
      "margin": null,
      "max_height": null,
      "max_width": null,
      "min_height": null,
      "min_width": null,
      "object_fit": null,
      "object_position": null,
      "order": null,
      "overflow": null,
      "overflow_x": null,
      "overflow_y": null,
      "padding": null,
      "right": null,
      "top": null,
      "visibility": null,
      "width": null
     }
    },
    "4addadc47df146bb893b31b2e6b10f16": {
     "model_module": "@jupyter-widgets/base",
     "model_module_version": "1.2.0",
     "model_name": "LayoutModel",
     "state": {
      "_model_module": "@jupyter-widgets/base",
      "_model_module_version": "1.2.0",
      "_model_name": "LayoutModel",
      "_view_count": null,
      "_view_module": "@jupyter-widgets/base",
      "_view_module_version": "1.2.0",
      "_view_name": "LayoutView",
      "align_content": null,
      "align_items": null,
      "align_self": null,
      "border": null,
      "bottom": null,
      "display": null,
      "flex": null,
      "flex_flow": null,
      "grid_area": null,
      "grid_auto_columns": null,
      "grid_auto_flow": null,
      "grid_auto_rows": null,
      "grid_column": null,
      "grid_gap": null,
      "grid_row": null,
      "grid_template_areas": null,
      "grid_template_columns": null,
      "grid_template_rows": null,
      "height": null,
      "justify_content": null,
      "justify_items": null,
      "left": null,
      "margin": null,
      "max_height": null,
      "max_width": null,
      "min_height": null,
      "min_width": null,
      "object_fit": null,
      "object_position": null,
      "order": null,
      "overflow": null,
      "overflow_x": null,
      "overflow_y": null,
      "padding": null,
      "right": null,
      "top": null,
      "visibility": null,
      "width": null
     }
    },
    "4eb7607d02854114a27ee7db9f2ee784": {
     "model_module": "@jupyter-widgets/base",
     "model_module_version": "1.2.0",
     "model_name": "LayoutModel",
     "state": {
      "_model_module": "@jupyter-widgets/base",
      "_model_module_version": "1.2.0",
      "_model_name": "LayoutModel",
      "_view_count": null,
      "_view_module": "@jupyter-widgets/base",
      "_view_module_version": "1.2.0",
      "_view_name": "LayoutView",
      "align_content": null,
      "align_items": null,
      "align_self": null,
      "border": null,
      "bottom": null,
      "display": null,
      "flex": null,
      "flex_flow": null,
      "grid_area": null,
      "grid_auto_columns": null,
      "grid_auto_flow": null,
      "grid_auto_rows": null,
      "grid_column": null,
      "grid_gap": null,
      "grid_row": null,
      "grid_template_areas": null,
      "grid_template_columns": null,
      "grid_template_rows": null,
      "height": null,
      "justify_content": null,
      "justify_items": null,
      "left": null,
      "margin": null,
      "max_height": null,
      "max_width": null,
      "min_height": null,
      "min_width": null,
      "object_fit": null,
      "object_position": null,
      "order": null,
      "overflow": null,
      "overflow_x": null,
      "overflow_y": null,
      "padding": null,
      "right": null,
      "top": null,
      "visibility": null,
      "width": null
     }
    },
    "5066ec9acddc41a5a544edc062c7a67d": {
     "model_module": "@jupyter-widgets/base",
     "model_module_version": "1.2.0",
     "model_name": "LayoutModel",
     "state": {
      "_model_module": "@jupyter-widgets/base",
      "_model_module_version": "1.2.0",
      "_model_name": "LayoutModel",
      "_view_count": null,
      "_view_module": "@jupyter-widgets/base",
      "_view_module_version": "1.2.0",
      "_view_name": "LayoutView",
      "align_content": null,
      "align_items": null,
      "align_self": null,
      "border": null,
      "bottom": null,
      "display": null,
      "flex": null,
      "flex_flow": null,
      "grid_area": null,
      "grid_auto_columns": null,
      "grid_auto_flow": null,
      "grid_auto_rows": null,
      "grid_column": null,
      "grid_gap": null,
      "grid_row": null,
      "grid_template_areas": null,
      "grid_template_columns": null,
      "grid_template_rows": null,
      "height": null,
      "justify_content": null,
      "justify_items": null,
      "left": null,
      "margin": null,
      "max_height": null,
      "max_width": null,
      "min_height": null,
      "min_width": null,
      "object_fit": null,
      "object_position": null,
      "order": null,
      "overflow": null,
      "overflow_x": null,
      "overflow_y": null,
      "padding": null,
      "right": null,
      "top": null,
      "visibility": null,
      "width": null
     }
    },
    "54808e006a564d73a5e8385241235c10": {
     "model_module": "@jupyter-widgets/controls",
     "model_module_version": "1.5.0",
     "model_name": "FloatProgressModel",
     "state": {
      "_dom_classes": [],
      "_model_module": "@jupyter-widgets/controls",
      "_model_module_version": "1.5.0",
      "_model_name": "FloatProgressModel",
      "_view_count": null,
      "_view_module": "@jupyter-widgets/controls",
      "_view_module_version": "1.5.0",
      "_view_name": "ProgressView",
      "bar_style": "success",
      "description": "",
      "description_tooltip": null,
      "layout": "IPY_MODEL_a73d20a0593d43f0884f028893b2d040",
      "max": 159292,
      "min": 0,
      "orientation": "horizontal",
      "style": "IPY_MODEL_2660d6252d4641b7ab19874f5820f857",
      "value": 159292
     }
    },
    "559efdf34cce4f2fad43a35e83c60ef9": {
     "model_module": "@jupyter-widgets/controls",
     "model_module_version": "1.5.0",
     "model_name": "HBoxModel",
     "state": {
      "_dom_classes": [],
      "_model_module": "@jupyter-widgets/controls",
      "_model_module_version": "1.5.0",
      "_model_name": "HBoxModel",
      "_view_count": null,
      "_view_module": "@jupyter-widgets/controls",
      "_view_module_version": "1.5.0",
      "_view_name": "HBoxView",
      "box_style": "",
      "children": [
       "IPY_MODEL_ab0bf2de91a74b8abad8624ec0c29c13",
       "IPY_MODEL_b5d8b0e98b6c434297a07fad52644689",
       "IPY_MODEL_e59d80f209af40898f2aeab6f724c3d5"
      ],
      "layout": "IPY_MODEL_a098626195a84cca887feb2b87ce1eed"
     }
    },
    "57e1d15aab174edcaf3cbaddf0614bd1": {
     "model_module": "@jupyter-widgets/controls",
     "model_module_version": "1.5.0",
     "model_name": "ProgressStyleModel",
     "state": {
      "_model_module": "@jupyter-widgets/controls",
      "_model_module_version": "1.5.0",
      "_model_name": "ProgressStyleModel",
      "_view_count": null,
      "_view_module": "@jupyter-widgets/base",
      "_view_module_version": "1.2.0",
      "_view_name": "StyleView",
      "bar_color": null,
      "description_width": ""
     }
    },
    "594d6ff086204722afbe84ff2eff5eca": {
     "model_module": "@jupyter-widgets/base",
     "model_module_version": "1.2.0",
     "model_name": "LayoutModel",
     "state": {
      "_model_module": "@jupyter-widgets/base",
      "_model_module_version": "1.2.0",
      "_model_name": "LayoutModel",
      "_view_count": null,
      "_view_module": "@jupyter-widgets/base",
      "_view_module_version": "1.2.0",
      "_view_name": "LayoutView",
      "align_content": null,
      "align_items": null,
      "align_self": null,
      "border": null,
      "bottom": null,
      "display": null,
      "flex": null,
      "flex_flow": null,
      "grid_area": null,
      "grid_auto_columns": null,
      "grid_auto_flow": null,
      "grid_auto_rows": null,
      "grid_column": null,
      "grid_gap": null,
      "grid_row": null,
      "grid_template_areas": null,
      "grid_template_columns": null,
      "grid_template_rows": null,
      "height": null,
      "justify_content": null,
      "justify_items": null,
      "left": null,
      "margin": null,
      "max_height": null,
      "max_width": null,
      "min_height": null,
      "min_width": null,
      "object_fit": null,
      "object_position": null,
      "order": null,
      "overflow": null,
      "overflow_x": null,
      "overflow_y": null,
      "padding": null,
      "right": null,
      "top": null,
      "visibility": null,
      "width": null
     }
    },
    "5a8a6dbd9a024de3bb83090d8c8afb08": {
     "model_module": "@jupyter-widgets/controls",
     "model_module_version": "1.5.0",
     "model_name": "FloatProgressModel",
     "state": {
      "_dom_classes": [],
      "_model_module": "@jupyter-widgets/controls",
      "_model_module_version": "1.5.0",
      "_model_name": "FloatProgressModel",
      "_view_count": null,
      "_view_module": "@jupyter-widgets/controls",
      "_view_module_version": "1.5.0",
      "_view_name": "ProgressView",
      "bar_style": "danger",
      "description": "",
      "description_tooltip": null,
      "layout": "IPY_MODEL_5066ec9acddc41a5a544edc062c7a67d",
      "max": 4,
      "min": 0,
      "orientation": "horizontal",
      "style": "IPY_MODEL_91d92ef1c8204176a0f47d579e4509b3",
      "value": 0
     }
    },
    "5c80f28a8c334099b0db92dc1388d850": {
     "model_module": "@jupyter-widgets/base",
     "model_module_version": "1.2.0",
     "model_name": "LayoutModel",
     "state": {
      "_model_module": "@jupyter-widgets/base",
      "_model_module_version": "1.2.0",
      "_model_name": "LayoutModel",
      "_view_count": null,
      "_view_module": "@jupyter-widgets/base",
      "_view_module_version": "1.2.0",
      "_view_name": "LayoutView",
      "align_content": null,
      "align_items": null,
      "align_self": null,
      "border": null,
      "bottom": null,
      "display": null,
      "flex": null,
      "flex_flow": null,
      "grid_area": null,
      "grid_auto_columns": null,
      "grid_auto_flow": null,
      "grid_auto_rows": null,
      "grid_column": null,
      "grid_gap": null,
      "grid_row": null,
      "grid_template_areas": null,
      "grid_template_columns": null,
      "grid_template_rows": null,
      "height": null,
      "justify_content": null,
      "justify_items": null,
      "left": null,
      "margin": null,
      "max_height": null,
      "max_width": null,
      "min_height": null,
      "min_width": null,
      "object_fit": null,
      "object_position": null,
      "order": null,
      "overflow": null,
      "overflow_x": null,
      "overflow_y": null,
      "padding": null,
      "right": null,
      "top": null,
      "visibility": null,
      "width": null
     }
    },
    "5fdd98a92cba433c9865b58178add8c1": {
     "model_module": "@jupyter-widgets/base",
     "model_module_version": "1.2.0",
     "model_name": "LayoutModel",
     "state": {
      "_model_module": "@jupyter-widgets/base",
      "_model_module_version": "1.2.0",
      "_model_name": "LayoutModel",
      "_view_count": null,
      "_view_module": "@jupyter-widgets/base",
      "_view_module_version": "1.2.0",
      "_view_name": "LayoutView",
      "align_content": null,
      "align_items": null,
      "align_self": null,
      "border": null,
      "bottom": null,
      "display": null,
      "flex": null,
      "flex_flow": null,
      "grid_area": null,
      "grid_auto_columns": null,
      "grid_auto_flow": null,
      "grid_auto_rows": null,
      "grid_column": null,
      "grid_gap": null,
      "grid_row": null,
      "grid_template_areas": null,
      "grid_template_columns": null,
      "grid_template_rows": null,
      "height": null,
      "justify_content": null,
      "justify_items": null,
      "left": null,
      "margin": null,
      "max_height": null,
      "max_width": null,
      "min_height": null,
      "min_width": null,
      "object_fit": null,
      "object_position": null,
      "order": null,
      "overflow": null,
      "overflow_x": null,
      "overflow_y": null,
      "padding": null,
      "right": null,
      "top": null,
      "visibility": null,
      "width": null
     }
    },
    "60581490fd494244ba02cffe8b2c9025": {
     "model_module": "@jupyter-widgets/controls",
     "model_module_version": "1.5.0",
     "model_name": "HBoxModel",
     "state": {
      "_dom_classes": [],
      "_model_module": "@jupyter-widgets/controls",
      "_model_module_version": "1.5.0",
      "_model_name": "HBoxModel",
      "_view_count": null,
      "_view_module": "@jupyter-widgets/controls",
      "_view_module_version": "1.5.0",
      "_view_name": "HBoxView",
      "box_style": "",
      "children": [
       "IPY_MODEL_b2d60d93eef74c82bb86378d35a749d8",
       "IPY_MODEL_9ccba3badc5441e780559315abb20e37",
       "IPY_MODEL_ab77662415794e5ba96b0340ae9cbb62"
      ],
      "layout": "IPY_MODEL_0d10cd79acc4421a95dc1b1c9dc858c8"
     }
    },
    "609080d27e054f4cb561c5930a4d237e": {
     "model_module": "@jupyter-widgets/controls",
     "model_module_version": "1.5.0",
     "model_name": "HBoxModel",
     "state": {
      "_dom_classes": [],
      "_model_module": "@jupyter-widgets/controls",
      "_model_module_version": "1.5.0",
      "_model_name": "HBoxModel",
      "_view_count": null,
      "_view_module": "@jupyter-widgets/controls",
      "_view_module_version": "1.5.0",
      "_view_name": "HBoxView",
      "box_style": "",
      "children": [
       "IPY_MODEL_2be2e1535da943819b260d151e79552b",
       "IPY_MODEL_9b3189ca9a2143caab4efeb7e4460d40",
       "IPY_MODEL_a09e66fbbf884b9da6921eeb8a2daf21"
      ],
      "layout": "IPY_MODEL_8f48701fb8b6431fbecc9835a0438d11"
     }
    },
    "634f6ea83ff94bdfba1a38472a332f6a": {
     "model_module": "@jupyter-widgets/controls",
     "model_module_version": "1.5.0",
     "model_name": "DescriptionStyleModel",
     "state": {
      "_model_module": "@jupyter-widgets/controls",
      "_model_module_version": "1.5.0",
      "_model_name": "DescriptionStyleModel",
      "_view_count": null,
      "_view_module": "@jupyter-widgets/base",
      "_view_module_version": "1.2.0",
      "_view_name": "StyleView",
      "description_width": ""
     }
    },
    "67ebe58c8cc34fe1af0fbb86f100b51c": {
     "model_module": "@jupyter-widgets/controls",
     "model_module_version": "1.5.0",
     "model_name": "DescriptionStyleModel",
     "state": {
      "_model_module": "@jupyter-widgets/controls",
      "_model_module_version": "1.5.0",
      "_model_name": "DescriptionStyleModel",
      "_view_count": null,
      "_view_module": "@jupyter-widgets/base",
      "_view_module_version": "1.2.0",
      "_view_name": "StyleView",
      "description_width": ""
     }
    },
    "67f3f2d307a9411d9fa7f21930e5a7da": {
     "model_module": "@jupyter-widgets/base",
     "model_module_version": "1.2.0",
     "model_name": "LayoutModel",
     "state": {
      "_model_module": "@jupyter-widgets/base",
      "_model_module_version": "1.2.0",
      "_model_name": "LayoutModel",
      "_view_count": null,
      "_view_module": "@jupyter-widgets/base",
      "_view_module_version": "1.2.0",
      "_view_name": "LayoutView",
      "align_content": null,
      "align_items": null,
      "align_self": null,
      "border": null,
      "bottom": null,
      "display": null,
      "flex": null,
      "flex_flow": null,
      "grid_area": null,
      "grid_auto_columns": null,
      "grid_auto_flow": null,
      "grid_auto_rows": null,
      "grid_column": null,
      "grid_gap": null,
      "grid_row": null,
      "grid_template_areas": null,
      "grid_template_columns": null,
      "grid_template_rows": null,
      "height": null,
      "justify_content": null,
      "justify_items": null,
      "left": null,
      "margin": null,
      "max_height": null,
      "max_width": null,
      "min_height": null,
      "min_width": null,
      "object_fit": null,
      "object_position": null,
      "order": null,
      "overflow": null,
      "overflow_x": null,
      "overflow_y": null,
      "padding": null,
      "right": null,
      "top": null,
      "visibility": null,
      "width": null
     }
    },
    "688a496078134f55bb6bce04a51ede85": {
     "model_module": "@jupyter-widgets/base",
     "model_module_version": "1.2.0",
     "model_name": "LayoutModel",
     "state": {
      "_model_module": "@jupyter-widgets/base",
      "_model_module_version": "1.2.0",
      "_model_name": "LayoutModel",
      "_view_count": null,
      "_view_module": "@jupyter-widgets/base",
      "_view_module_version": "1.2.0",
      "_view_name": "LayoutView",
      "align_content": null,
      "align_items": null,
      "align_self": null,
      "border": null,
      "bottom": null,
      "display": null,
      "flex": null,
      "flex_flow": null,
      "grid_area": null,
      "grid_auto_columns": null,
      "grid_auto_flow": null,
      "grid_auto_rows": null,
      "grid_column": null,
      "grid_gap": null,
      "grid_row": null,
      "grid_template_areas": null,
      "grid_template_columns": null,
      "grid_template_rows": null,
      "height": null,
      "justify_content": null,
      "justify_items": null,
      "left": null,
      "margin": null,
      "max_height": null,
      "max_width": null,
      "min_height": null,
      "min_width": null,
      "object_fit": null,
      "object_position": null,
      "order": null,
      "overflow": null,
      "overflow_x": null,
      "overflow_y": null,
      "padding": null,
      "right": null,
      "top": null,
      "visibility": null,
      "width": null
     }
    },
    "714e404b352a4a32a286a21b8ed802c1": {
     "model_module": "@jupyter-widgets/controls",
     "model_module_version": "1.5.0",
     "model_name": "HTMLModel",
     "state": {
      "_dom_classes": [],
      "_model_module": "@jupyter-widgets/controls",
      "_model_module_version": "1.5.0",
      "_model_name": "HTMLModel",
      "_view_count": null,
      "_view_module": "@jupyter-widgets/controls",
      "_view_module_version": "1.5.0",
      "_view_name": "HTMLView",
      "description": "",
      "description_tooltip": null,
      "layout": "IPY_MODEL_29f9a7aa1a064de19d0b2bf9f6a4bdaf",
      "placeholder": "​",
      "style": "IPY_MODEL_7ed6d656b8df4592b0d9b77e42d9ea51",
      "value": " 0/4 [00:00&lt;?, ?it/s]"
     }
    },
    "7554dd30dd49434fb0a9ef2809fbe766": {
     "model_module": "@jupyter-widgets/controls",
     "model_module_version": "1.5.0",
     "model_name": "HBoxModel",
     "state": {
      "_dom_classes": [],
      "_model_module": "@jupyter-widgets/controls",
      "_model_module_version": "1.5.0",
      "_model_name": "HBoxModel",
      "_view_count": null,
      "_view_module": "@jupyter-widgets/controls",
      "_view_module_version": "1.5.0",
      "_view_name": "HBoxView",
      "box_style": "",
      "children": [
       "IPY_MODEL_3748bafe7d624fc2ae4eb0551ff85010",
       "IPY_MODEL_02e83481410c471f9541f460e13c7e8f",
       "IPY_MODEL_ef2ef68455a144908118f8d677633911"
      ],
      "layout": "IPY_MODEL_288cd6c6d54d47fe9a92612958880f67"
     }
    },
    "7842fad5cc7d4342abc729bd60a802dd": {
     "model_module": "@jupyter-widgets/base",
     "model_module_version": "1.2.0",
     "model_name": "LayoutModel",
     "state": {
      "_model_module": "@jupyter-widgets/base",
      "_model_module_version": "1.2.0",
      "_model_name": "LayoutModel",
      "_view_count": null,
      "_view_module": "@jupyter-widgets/base",
      "_view_module_version": "1.2.0",
      "_view_name": "LayoutView",
      "align_content": null,
      "align_items": null,
      "align_self": null,
      "border": null,
      "bottom": null,
      "display": null,
      "flex": null,
      "flex_flow": null,
      "grid_area": null,
      "grid_auto_columns": null,
      "grid_auto_flow": null,
      "grid_auto_rows": null,
      "grid_column": null,
      "grid_gap": null,
      "grid_row": null,
      "grid_template_areas": null,
      "grid_template_columns": null,
      "grid_template_rows": null,
      "height": null,
      "justify_content": null,
      "justify_items": null,
      "left": null,
      "margin": null,
      "max_height": null,
      "max_width": null,
      "min_height": null,
      "min_width": null,
      "object_fit": null,
      "object_position": null,
      "order": null,
      "overflow": null,
      "overflow_x": null,
      "overflow_y": null,
      "padding": null,
      "right": null,
      "top": null,
      "visibility": null,
      "width": null
     }
    },
    "7937baf6793c49ef8d0fa2e8fde34937": {
     "model_module": "@jupyter-widgets/base",
     "model_module_version": "1.2.0",
     "model_name": "LayoutModel",
     "state": {
      "_model_module": "@jupyter-widgets/base",
      "_model_module_version": "1.2.0",
      "_model_name": "LayoutModel",
      "_view_count": null,
      "_view_module": "@jupyter-widgets/base",
      "_view_module_version": "1.2.0",
      "_view_name": "LayoutView",
      "align_content": null,
      "align_items": null,
      "align_self": null,
      "border": null,
      "bottom": null,
      "display": null,
      "flex": null,
      "flex_flow": null,
      "grid_area": null,
      "grid_auto_columns": null,
      "grid_auto_flow": null,
      "grid_auto_rows": null,
      "grid_column": null,
      "grid_gap": null,
      "grid_row": null,
      "grid_template_areas": null,
      "grid_template_columns": null,
      "grid_template_rows": null,
      "height": null,
      "justify_content": null,
      "justify_items": null,
      "left": null,
      "margin": null,
      "max_height": null,
      "max_width": null,
      "min_height": null,
      "min_width": null,
      "object_fit": null,
      "object_position": null,
      "order": null,
      "overflow": null,
      "overflow_x": null,
      "overflow_y": null,
      "padding": null,
      "right": null,
      "top": null,
      "visibility": null,
      "width": null
     }
    },
    "7bc2dc85f04d416aab7ead4927ac72ee": {
     "model_module": "@jupyter-widgets/base",
     "model_module_version": "1.2.0",
     "model_name": "LayoutModel",
     "state": {
      "_model_module": "@jupyter-widgets/base",
      "_model_module_version": "1.2.0",
      "_model_name": "LayoutModel",
      "_view_count": null,
      "_view_module": "@jupyter-widgets/base",
      "_view_module_version": "1.2.0",
      "_view_name": "LayoutView",
      "align_content": null,
      "align_items": null,
      "align_self": null,
      "border": null,
      "bottom": null,
      "display": null,
      "flex": null,
      "flex_flow": null,
      "grid_area": null,
      "grid_auto_columns": null,
      "grid_auto_flow": null,
      "grid_auto_rows": null,
      "grid_column": null,
      "grid_gap": null,
      "grid_row": null,
      "grid_template_areas": null,
      "grid_template_columns": null,
      "grid_template_rows": null,
      "height": null,
      "justify_content": null,
      "justify_items": null,
      "left": null,
      "margin": null,
      "max_height": null,
      "max_width": null,
      "min_height": null,
      "min_width": null,
      "object_fit": null,
      "object_position": null,
      "order": null,
      "overflow": null,
      "overflow_x": null,
      "overflow_y": null,
      "padding": null,
      "right": null,
      "top": null,
      "visibility": null,
      "width": null
     }
    },
    "7e8e69cd08764b7a8221ca1e625bb839": {
     "model_module": "@jupyter-widgets/controls",
     "model_module_version": "1.5.0",
     "model_name": "DescriptionStyleModel",
     "state": {
      "_model_module": "@jupyter-widgets/controls",
      "_model_module_version": "1.5.0",
      "_model_name": "DescriptionStyleModel",
      "_view_count": null,
      "_view_module": "@jupyter-widgets/base",
      "_view_module_version": "1.2.0",
      "_view_name": "StyleView",
      "description_width": ""
     }
    },
    "7ed6d656b8df4592b0d9b77e42d9ea51": {
     "model_module": "@jupyter-widgets/controls",
     "model_module_version": "1.5.0",
     "model_name": "DescriptionStyleModel",
     "state": {
      "_model_module": "@jupyter-widgets/controls",
      "_model_module_version": "1.5.0",
      "_model_name": "DescriptionStyleModel",
      "_view_count": null,
      "_view_module": "@jupyter-widgets/base",
      "_view_module_version": "1.2.0",
      "_view_name": "StyleView",
      "description_width": ""
     }
    },
    "7efd627fe88446f59c5e8854b66c5f51": {
     "model_module": "@jupyter-widgets/base",
     "model_module_version": "1.2.0",
     "model_name": "LayoutModel",
     "state": {
      "_model_module": "@jupyter-widgets/base",
      "_model_module_version": "1.2.0",
      "_model_name": "LayoutModel",
      "_view_count": null,
      "_view_module": "@jupyter-widgets/base",
      "_view_module_version": "1.2.0",
      "_view_name": "LayoutView",
      "align_content": null,
      "align_items": null,
      "align_self": null,
      "border": null,
      "bottom": null,
      "display": null,
      "flex": null,
      "flex_flow": null,
      "grid_area": null,
      "grid_auto_columns": null,
      "grid_auto_flow": null,
      "grid_auto_rows": null,
      "grid_column": null,
      "grid_gap": null,
      "grid_row": null,
      "grid_template_areas": null,
      "grid_template_columns": null,
      "grid_template_rows": null,
      "height": null,
      "justify_content": null,
      "justify_items": null,
      "left": null,
      "margin": null,
      "max_height": null,
      "max_width": null,
      "min_height": null,
      "min_width": null,
      "object_fit": null,
      "object_position": null,
      "order": null,
      "overflow": null,
      "overflow_x": null,
      "overflow_y": null,
      "padding": null,
      "right": null,
      "top": null,
      "visibility": null,
      "width": null
     }
    },
    "81d0f98d55e54709a9277110b704260c": {
     "model_module": "@jupyter-widgets/controls",
     "model_module_version": "1.5.0",
     "model_name": "ProgressStyleModel",
     "state": {
      "_model_module": "@jupyter-widgets/controls",
      "_model_module_version": "1.5.0",
      "_model_name": "ProgressStyleModel",
      "_view_count": null,
      "_view_module": "@jupyter-widgets/base",
      "_view_module_version": "1.2.0",
      "_view_name": "StyleView",
      "bar_color": null,
      "description_width": ""
     }
    },
    "81e7802f60a64c20aa7e4f0bec5a5897": {
     "model_module": "@jupyter-widgets/controls",
     "model_module_version": "1.5.0",
     "model_name": "DescriptionStyleModel",
     "state": {
      "_model_module": "@jupyter-widgets/controls",
      "_model_module_version": "1.5.0",
      "_model_name": "DescriptionStyleModel",
      "_view_count": null,
      "_view_module": "@jupyter-widgets/base",
      "_view_module_version": "1.2.0",
      "_view_name": "StyleView",
      "description_width": ""
     }
    },
    "83f7c5b0ddff4e30b195738fb7762162": {
     "model_module": "@jupyter-widgets/base",
     "model_module_version": "1.2.0",
     "model_name": "LayoutModel",
     "state": {
      "_model_module": "@jupyter-widgets/base",
      "_model_module_version": "1.2.0",
      "_model_name": "LayoutModel",
      "_view_count": null,
      "_view_module": "@jupyter-widgets/base",
      "_view_module_version": "1.2.0",
      "_view_name": "LayoutView",
      "align_content": null,
      "align_items": null,
      "align_self": null,
      "border": null,
      "bottom": null,
      "display": null,
      "flex": null,
      "flex_flow": null,
      "grid_area": null,
      "grid_auto_columns": null,
      "grid_auto_flow": null,
      "grid_auto_rows": null,
      "grid_column": null,
      "grid_gap": null,
      "grid_row": null,
      "grid_template_areas": null,
      "grid_template_columns": null,
      "grid_template_rows": null,
      "height": null,
      "justify_content": null,
      "justify_items": null,
      "left": null,
      "margin": null,
      "max_height": null,
      "max_width": null,
      "min_height": null,
      "min_width": null,
      "object_fit": null,
      "object_position": null,
      "order": null,
      "overflow": null,
      "overflow_x": null,
      "overflow_y": null,
      "padding": null,
      "right": null,
      "top": null,
      "visibility": null,
      "width": null
     }
    },
    "866becb4a8a4404a80b27b05c109b992": {
     "model_module": "@jupyter-widgets/controls",
     "model_module_version": "1.5.0",
     "model_name": "DescriptionStyleModel",
     "state": {
      "_model_module": "@jupyter-widgets/controls",
      "_model_module_version": "1.5.0",
      "_model_name": "DescriptionStyleModel",
      "_view_count": null,
      "_view_module": "@jupyter-widgets/base",
      "_view_module_version": "1.2.0",
      "_view_name": "StyleView",
      "description_width": ""
     }
    },
    "88124cfb81bb47f0a309ccfed489f086": {
     "model_module": "@jupyter-widgets/controls",
     "model_module_version": "1.5.0",
     "model_name": "HBoxModel",
     "state": {
      "_dom_classes": [],
      "_model_module": "@jupyter-widgets/controls",
      "_model_module_version": "1.5.0",
      "_model_name": "HBoxModel",
      "_view_count": null,
      "_view_module": "@jupyter-widgets/controls",
      "_view_module_version": "1.5.0",
      "_view_name": "HBoxView",
      "box_style": "",
      "children": [
       "IPY_MODEL_9fd5a00de3f349aca3d263f3ae8f03a4",
       "IPY_MODEL_1d400cff44ae43cb9553fab0cff7d608",
       "IPY_MODEL_e99b838301e340af86240f24af875f73"
      ],
      "layout": "IPY_MODEL_688a496078134f55bb6bce04a51ede85"
     }
    },
    "8a9b37c5b99b42548400af5bbd5799e9": {
     "model_module": "@jupyter-widgets/controls",
     "model_module_version": "1.5.0",
     "model_name": "ProgressStyleModel",
     "state": {
      "_model_module": "@jupyter-widgets/controls",
      "_model_module_version": "1.5.0",
      "_model_name": "ProgressStyleModel",
      "_view_count": null,
      "_view_module": "@jupyter-widgets/base",
      "_view_module_version": "1.2.0",
      "_view_name": "StyleView",
      "bar_color": null,
      "description_width": ""
     }
    },
    "8b64021a273049b6820b728fbef25cfb": {
     "model_module": "@jupyter-widgets/base",
     "model_module_version": "1.2.0",
     "model_name": "LayoutModel",
     "state": {
      "_model_module": "@jupyter-widgets/base",
      "_model_module_version": "1.2.0",
      "_model_name": "LayoutModel",
      "_view_count": null,
      "_view_module": "@jupyter-widgets/base",
      "_view_module_version": "1.2.0",
      "_view_name": "LayoutView",
      "align_content": null,
      "align_items": null,
      "align_self": null,
      "border": null,
      "bottom": null,
      "display": null,
      "flex": null,
      "flex_flow": null,
      "grid_area": null,
      "grid_auto_columns": null,
      "grid_auto_flow": null,
      "grid_auto_rows": null,
      "grid_column": null,
      "grid_gap": null,
      "grid_row": null,
      "grid_template_areas": null,
      "grid_template_columns": null,
      "grid_template_rows": null,
      "height": null,
      "justify_content": null,
      "justify_items": null,
      "left": null,
      "margin": null,
      "max_height": null,
      "max_width": null,
      "min_height": null,
      "min_width": null,
      "object_fit": null,
      "object_position": null,
      "order": null,
      "overflow": null,
      "overflow_x": null,
      "overflow_y": null,
      "padding": null,
      "right": null,
      "top": null,
      "visibility": null,
      "width": null
     }
    },
    "8f48701fb8b6431fbecc9835a0438d11": {
     "model_module": "@jupyter-widgets/base",
     "model_module_version": "1.2.0",
     "model_name": "LayoutModel",
     "state": {
      "_model_module": "@jupyter-widgets/base",
      "_model_module_version": "1.2.0",
      "_model_name": "LayoutModel",
      "_view_count": null,
      "_view_module": "@jupyter-widgets/base",
      "_view_module_version": "1.2.0",
      "_view_name": "LayoutView",
      "align_content": null,
      "align_items": null,
      "align_self": null,
      "border": null,
      "bottom": null,
      "display": null,
      "flex": null,
      "flex_flow": null,
      "grid_area": null,
      "grid_auto_columns": null,
      "grid_auto_flow": null,
      "grid_auto_rows": null,
      "grid_column": null,
      "grid_gap": null,
      "grid_row": null,
      "grid_template_areas": null,
      "grid_template_columns": null,
      "grid_template_rows": null,
      "height": null,
      "justify_content": null,
      "justify_items": null,
      "left": null,
      "margin": null,
      "max_height": null,
      "max_width": null,
      "min_height": null,
      "min_width": null,
      "object_fit": null,
      "object_position": null,
      "order": null,
      "overflow": null,
      "overflow_x": null,
      "overflow_y": null,
      "padding": null,
      "right": null,
      "top": null,
      "visibility": null,
      "width": null
     }
    },
    "8fae921a82794ce58827725649ab2c1f": {
     "model_module": "@jupyter-widgets/controls",
     "model_module_version": "1.5.0",
     "model_name": "ProgressStyleModel",
     "state": {
      "_model_module": "@jupyter-widgets/controls",
      "_model_module_version": "1.5.0",
      "_model_name": "ProgressStyleModel",
      "_view_count": null,
      "_view_module": "@jupyter-widgets/base",
      "_view_module_version": "1.2.0",
      "_view_name": "StyleView",
      "bar_color": null,
      "description_width": ""
     }
    },
    "91d92ef1c8204176a0f47d579e4509b3": {
     "model_module": "@jupyter-widgets/controls",
     "model_module_version": "1.5.0",
     "model_name": "ProgressStyleModel",
     "state": {
      "_model_module": "@jupyter-widgets/controls",
      "_model_module_version": "1.5.0",
      "_model_name": "ProgressStyleModel",
      "_view_count": null,
      "_view_module": "@jupyter-widgets/base",
      "_view_module_version": "1.2.0",
      "_view_name": "StyleView",
      "bar_color": null,
      "description_width": ""
     }
    },
    "9a7c9424b7ed4da5905ad86fdbdc2e74": {
     "model_module": "@jupyter-widgets/controls",
     "model_module_version": "1.5.0",
     "model_name": "HBoxModel",
     "state": {
      "_dom_classes": [],
      "_model_module": "@jupyter-widgets/controls",
      "_model_module_version": "1.5.0",
      "_model_name": "HBoxModel",
      "_view_count": null,
      "_view_module": "@jupyter-widgets/controls",
      "_view_module_version": "1.5.0",
      "_view_name": "HBoxView",
      "box_style": "",
      "children": [
       "IPY_MODEL_ab4b25fb1a2a48099685d207b85a7dd2",
       "IPY_MODEL_5a8a6dbd9a024de3bb83090d8c8afb08",
       "IPY_MODEL_714e404b352a4a32a286a21b8ed802c1"
      ],
      "layout": "IPY_MODEL_83f7c5b0ddff4e30b195738fb7762162"
     }
    },
    "9b3189ca9a2143caab4efeb7e4460d40": {
     "model_module": "@jupyter-widgets/controls",
     "model_module_version": "1.5.0",
     "model_name": "FloatProgressModel",
     "state": {
      "_dom_classes": [],
      "_model_module": "@jupyter-widgets/controls",
      "_model_module_version": "1.5.0",
      "_model_name": "FloatProgressModel",
      "_view_count": null,
      "_view_module": "@jupyter-widgets/controls",
      "_view_module_version": "1.5.0",
      "_view_name": "ProgressView",
      "bar_style": "success",
      "description": "",
      "description_tooltip": null,
      "layout": "IPY_MODEL_4addadc47df146bb893b31b2e6b10f16",
      "max": 159281,
      "min": 0,
      "orientation": "horizontal",
      "style": "IPY_MODEL_8fae921a82794ce58827725649ab2c1f",
      "value": 159281
     }
    },
    "9c51787754cd41ecaa6904a2ddc21c72": {
     "model_module": "@jupyter-widgets/base",
     "model_module_version": "1.2.0",
     "model_name": "LayoutModel",
     "state": {
      "_model_module": "@jupyter-widgets/base",
      "_model_module_version": "1.2.0",
      "_model_name": "LayoutModel",
      "_view_count": null,
      "_view_module": "@jupyter-widgets/base",
      "_view_module_version": "1.2.0",
      "_view_name": "LayoutView",
      "align_content": null,
      "align_items": null,
      "align_self": null,
      "border": null,
      "bottom": null,
      "display": null,
      "flex": null,
      "flex_flow": null,
      "grid_area": null,
      "grid_auto_columns": null,
      "grid_auto_flow": null,
      "grid_auto_rows": null,
      "grid_column": null,
      "grid_gap": null,
      "grid_row": null,
      "grid_template_areas": null,
      "grid_template_columns": null,
      "grid_template_rows": null,
      "height": null,
      "justify_content": null,
      "justify_items": null,
      "left": null,
      "margin": null,
      "max_height": null,
      "max_width": null,
      "min_height": null,
      "min_width": null,
      "object_fit": null,
      "object_position": null,
      "order": null,
      "overflow": null,
      "overflow_x": null,
      "overflow_y": null,
      "padding": null,
      "right": null,
      "top": null,
      "visibility": null,
      "width": null
     }
    },
    "9ccba3badc5441e780559315abb20e37": {
     "model_module": "@jupyter-widgets/controls",
     "model_module_version": "1.5.0",
     "model_name": "FloatProgressModel",
     "state": {
      "_dom_classes": [],
      "_model_module": "@jupyter-widgets/controls",
      "_model_module_version": "1.5.0",
      "_model_name": "FloatProgressModel",
      "_view_count": null,
      "_view_module": "@jupyter-widgets/controls",
      "_view_module_version": "1.5.0",
      "_view_name": "ProgressView",
      "bar_style": "success",
      "description": "",
      "description_tooltip": null,
      "layout": "IPY_MODEL_4eb7607d02854114a27ee7db9f2ee784",
      "max": 159292,
      "min": 0,
      "orientation": "horizontal",
      "style": "IPY_MODEL_81d0f98d55e54709a9277110b704260c",
      "value": 159292
     }
    },
    "9fd5a00de3f349aca3d263f3ae8f03a4": {
     "model_module": "@jupyter-widgets/controls",
     "model_module_version": "1.5.0",
     "model_name": "HTMLModel",
     "state": {
      "_dom_classes": [],
      "_model_module": "@jupyter-widgets/controls",
      "_model_module_version": "1.5.0",
      "_model_name": "HTMLModel",
      "_view_count": null,
      "_view_module": "@jupyter-widgets/controls",
      "_view_module_version": "1.5.0",
      "_view_name": "HTMLView",
      "description": "",
      "description_tooltip": null,
      "layout": "IPY_MODEL_9c51787754cd41ecaa6904a2ddc21c72",
      "placeholder": "​",
      "style": "IPY_MODEL_ea01e6b09cc64c9c8f16900945c16d7a",
      "value": "Downloading (…)solve/main/vocab.txt: 100%"
     }
    },
    "a098626195a84cca887feb2b87ce1eed": {
     "model_module": "@jupyter-widgets/base",
     "model_module_version": "1.2.0",
     "model_name": "LayoutModel",
     "state": {
      "_model_module": "@jupyter-widgets/base",
      "_model_module_version": "1.2.0",
      "_model_name": "LayoutModel",
      "_view_count": null,
      "_view_module": "@jupyter-widgets/base",
      "_view_module_version": "1.2.0",
      "_view_name": "LayoutView",
      "align_content": null,
      "align_items": null,
      "align_self": null,
      "border": null,
      "bottom": null,
      "display": null,
      "flex": null,
      "flex_flow": null,
      "grid_area": null,
      "grid_auto_columns": null,
      "grid_auto_flow": null,
      "grid_auto_rows": null,
      "grid_column": null,
      "grid_gap": null,
      "grid_row": null,
      "grid_template_areas": null,
      "grid_template_columns": null,
      "grid_template_rows": null,
      "height": null,
      "justify_content": null,
      "justify_items": null,
      "left": null,
      "margin": null,
      "max_height": null,
      "max_width": null,
      "min_height": null,
      "min_width": null,
      "object_fit": null,
      "object_position": null,
      "order": null,
      "overflow": null,
      "overflow_x": null,
      "overflow_y": null,
      "padding": null,
      "right": null,
      "top": null,
      "visibility": null,
      "width": null
     }
    },
    "a09e66fbbf884b9da6921eeb8a2daf21": {
     "model_module": "@jupyter-widgets/controls",
     "model_module_version": "1.5.0",
     "model_name": "HTMLModel",
     "state": {
      "_dom_classes": [],
      "_model_module": "@jupyter-widgets/controls",
      "_model_module_version": "1.5.0",
      "_model_name": "HTMLModel",
      "_view_count": null,
      "_view_module": "@jupyter-widgets/controls",
      "_view_module_version": "1.5.0",
      "_view_name": "HTMLView",
      "description": "",
      "description_tooltip": null,
      "layout": "IPY_MODEL_ee72fe8548b047e4ba0f44418ceed93f",
      "placeholder": "​",
      "style": "IPY_MODEL_d03d1b8aabf340079a0527e665fbd3a0",
      "value": " 159281/159281 [21:23&lt;00:00, 144.06it/s]"
     }
    },
    "a2dee35085ac48208611d3cc216d46be": {
     "model_module": "@jupyter-widgets/controls",
     "model_module_version": "1.5.0",
     "model_name": "HTMLModel",
     "state": {
      "_dom_classes": [],
      "_model_module": "@jupyter-widgets/controls",
      "_model_module_version": "1.5.0",
      "_model_name": "HTMLModel",
      "_view_count": null,
      "_view_module": "@jupyter-widgets/controls",
      "_view_module_version": "1.5.0",
      "_view_name": "HTMLView",
      "description": "",
      "description_tooltip": null,
      "layout": "IPY_MODEL_0946364df29e44b08b2417d8c85c5a37",
      "placeholder": "​",
      "style": "IPY_MODEL_7e8e69cd08764b7a8221ca1e625bb839",
      "value": " 159292/159292 [00:14&lt;00:00, 14696.54it/s]"
     }
    },
    "a73d20a0593d43f0884f028893b2d040": {
     "model_module": "@jupyter-widgets/base",
     "model_module_version": "1.2.0",
     "model_name": "LayoutModel",
     "state": {
      "_model_module": "@jupyter-widgets/base",
      "_model_module_version": "1.2.0",
      "_model_name": "LayoutModel",
      "_view_count": null,
      "_view_module": "@jupyter-widgets/base",
      "_view_module_version": "1.2.0",
      "_view_name": "LayoutView",
      "align_content": null,
      "align_items": null,
      "align_self": null,
      "border": null,
      "bottom": null,
      "display": null,
      "flex": null,
      "flex_flow": null,
      "grid_area": null,
      "grid_auto_columns": null,
      "grid_auto_flow": null,
      "grid_auto_rows": null,
      "grid_column": null,
      "grid_gap": null,
      "grid_row": null,
      "grid_template_areas": null,
      "grid_template_columns": null,
      "grid_template_rows": null,
      "height": null,
      "justify_content": null,
      "justify_items": null,
      "left": null,
      "margin": null,
      "max_height": null,
      "max_width": null,
      "min_height": null,
      "min_width": null,
      "object_fit": null,
      "object_position": null,
      "order": null,
      "overflow": null,
      "overflow_x": null,
      "overflow_y": null,
      "padding": null,
      "right": null,
      "top": null,
      "visibility": null,
      "width": null
     }
    },
    "ab0bf2de91a74b8abad8624ec0c29c13": {
     "model_module": "@jupyter-widgets/controls",
     "model_module_version": "1.5.0",
     "model_name": "HTMLModel",
     "state": {
      "_dom_classes": [],
      "_model_module": "@jupyter-widgets/controls",
      "_model_module_version": "1.5.0",
      "_model_name": "HTMLModel",
      "_view_count": null,
      "_view_module": "@jupyter-widgets/controls",
      "_view_module_version": "1.5.0",
      "_view_name": "HTMLView",
      "description": "",
      "description_tooltip": null,
      "layout": "IPY_MODEL_45d9f881a2894bebb0ab981f2ba954b2",
      "placeholder": "​",
      "style": "IPY_MODEL_e185ac5ea2bc4d12b8857daa69c8bdae",
      "value": "Downloading model.safetensors: 100%"
     }
    },
    "ab4b25fb1a2a48099685d207b85a7dd2": {
     "model_module": "@jupyter-widgets/controls",
     "model_module_version": "1.5.0",
     "model_name": "HTMLModel",
     "state": {
      "_dom_classes": [],
      "_model_module": "@jupyter-widgets/controls",
      "_model_module_version": "1.5.0",
      "_model_name": "HTMLModel",
      "_view_count": null,
      "_view_module": "@jupyter-widgets/controls",
      "_view_module_version": "1.5.0",
      "_view_name": "HTMLView",
      "description": "",
      "description_tooltip": null,
      "layout": "IPY_MODEL_5c80f28a8c334099b0db92dc1388d850",
      "placeholder": "​",
      "style": "IPY_MODEL_866becb4a8a4404a80b27b05c109b992",
      "value": "  0%"
     }
    },
    "ab77662415794e5ba96b0340ae9cbb62": {
     "model_module": "@jupyter-widgets/controls",
     "model_module_version": "1.5.0",
     "model_name": "HTMLModel",
     "state": {
      "_dom_classes": [],
      "_model_module": "@jupyter-widgets/controls",
      "_model_module_version": "1.5.0",
      "_model_name": "HTMLModel",
      "_view_count": null,
      "_view_module": "@jupyter-widgets/controls",
      "_view_module_version": "1.5.0",
      "_view_name": "HTMLView",
      "description": "",
      "description_tooltip": null,
      "layout": "IPY_MODEL_e9ea8d2849c144e39922b65a86e99952",
      "placeholder": "​",
      "style": "IPY_MODEL_e91003f6d0c74288a108b5cd256090db",
      "value": " 159292/159292 [24:16&lt;00:00, 85.50it/s]"
     }
    },
    "afcd69b4da534755a48ace7734929a2c": {
     "model_module": "@jupyter-widgets/controls",
     "model_module_version": "1.5.0",
     "model_name": "FloatProgressModel",
     "state": {
      "_dom_classes": [],
      "_model_module": "@jupyter-widgets/controls",
      "_model_module_version": "1.5.0",
      "_model_name": "FloatProgressModel",
      "_view_count": null,
      "_view_module": "@jupyter-widgets/controls",
      "_view_module_version": "1.5.0",
      "_view_name": "ProgressView",
      "bar_style": "success",
      "description": "",
      "description_tooltip": null,
      "layout": "IPY_MODEL_5fdd98a92cba433c9865b58178add8c1",
      "max": 159292,
      "min": 0,
      "orientation": "horizontal",
      "style": "IPY_MODEL_252a570eadd54ec3ba75e0fd9377c8ac",
      "value": 159292
     }
    },
    "b18630b4014f44eb994c250cfbf9cb03": {
     "model_module": "@jupyter-widgets/base",
     "model_module_version": "1.2.0",
     "model_name": "LayoutModel",
     "state": {
      "_model_module": "@jupyter-widgets/base",
      "_model_module_version": "1.2.0",
      "_model_name": "LayoutModel",
      "_view_count": null,
      "_view_module": "@jupyter-widgets/base",
      "_view_module_version": "1.2.0",
      "_view_name": "LayoutView",
      "align_content": null,
      "align_items": null,
      "align_self": null,
      "border": null,
      "bottom": null,
      "display": null,
      "flex": null,
      "flex_flow": null,
      "grid_area": null,
      "grid_auto_columns": null,
      "grid_auto_flow": null,
      "grid_auto_rows": null,
      "grid_column": null,
      "grid_gap": null,
      "grid_row": null,
      "grid_template_areas": null,
      "grid_template_columns": null,
      "grid_template_rows": null,
      "height": null,
      "justify_content": null,
      "justify_items": null,
      "left": null,
      "margin": null,
      "max_height": null,
      "max_width": null,
      "min_height": null,
      "min_width": null,
      "object_fit": null,
      "object_position": null,
      "order": null,
      "overflow": null,
      "overflow_x": null,
      "overflow_y": null,
      "padding": null,
      "right": null,
      "top": null,
      "visibility": null,
      "width": null
     }
    },
    "b2d60d93eef74c82bb86378d35a749d8": {
     "model_module": "@jupyter-widgets/controls",
     "model_module_version": "1.5.0",
     "model_name": "HTMLModel",
     "state": {
      "_dom_classes": [],
      "_model_module": "@jupyter-widgets/controls",
      "_model_module_version": "1.5.0",
      "_model_name": "HTMLModel",
      "_view_count": null,
      "_view_module": "@jupyter-widgets/controls",
      "_view_module_version": "1.5.0",
      "_view_name": "HTMLView",
      "description": "",
      "description_tooltip": null,
      "layout": "IPY_MODEL_fea947c9b697477694f3f3b795f9ef4e",
      "placeholder": "​",
      "style": "IPY_MODEL_d0f7a7b8da194565bf9edf409f16eb36",
      "value": "100%"
     }
    },
    "b5d8b0e98b6c434297a07fad52644689": {
     "model_module": "@jupyter-widgets/controls",
     "model_module_version": "1.5.0",
     "model_name": "FloatProgressModel",
     "state": {
      "_dom_classes": [],
      "_model_module": "@jupyter-widgets/controls",
      "_model_module_version": "1.5.0",
      "_model_name": "FloatProgressModel",
      "_view_count": null,
      "_view_module": "@jupyter-widgets/controls",
      "_view_module_version": "1.5.0",
      "_view_name": "ProgressView",
      "bar_style": "success",
      "description": "",
      "description_tooltip": null,
      "layout": "IPY_MODEL_7bc2dc85f04d416aab7ead4927ac72ee",
      "max": 440449768,
      "min": 0,
      "orientation": "horizontal",
      "style": "IPY_MODEL_d4934289542249f39befd2d822859777",
      "value": 440449768
     }
    },
    "caecbf775bb5462689bae9547b4afb36": {
     "model_module": "@jupyter-widgets/controls",
     "model_module_version": "1.5.0",
     "model_name": "DescriptionStyleModel",
     "state": {
      "_model_module": "@jupyter-widgets/controls",
      "_model_module_version": "1.5.0",
      "_model_name": "DescriptionStyleModel",
      "_view_count": null,
      "_view_module": "@jupyter-widgets/base",
      "_view_module_version": "1.2.0",
      "_view_name": "StyleView",
      "description_width": ""
     }
    },
    "cb603e5a97354063a5f7a966e2bbdcd7": {
     "model_module": "@jupyter-widgets/controls",
     "model_module_version": "1.5.0",
     "model_name": "HTMLModel",
     "state": {
      "_dom_classes": [],
      "_model_module": "@jupyter-widgets/controls",
      "_model_module_version": "1.5.0",
      "_model_name": "HTMLModel",
      "_view_count": null,
      "_view_module": "@jupyter-widgets/controls",
      "_view_module_version": "1.5.0",
      "_view_name": "HTMLView",
      "description": "",
      "description_tooltip": null,
      "layout": "IPY_MODEL_0004e9317fd34545a1b00d3e5d729af4",
      "placeholder": "​",
      "style": "IPY_MODEL_caecbf775bb5462689bae9547b4afb36",
      "value": " 159292/159292 [00:00&lt;00:00, 548581.63it/s]"
     }
    },
    "cf407e4e162e444d98257f1743947413": {
     "model_module": "@jupyter-widgets/base",
     "model_module_version": "1.2.0",
     "model_name": "LayoutModel",
     "state": {
      "_model_module": "@jupyter-widgets/base",
      "_model_module_version": "1.2.0",
      "_model_name": "LayoutModel",
      "_view_count": null,
      "_view_module": "@jupyter-widgets/base",
      "_view_module_version": "1.2.0",
      "_view_name": "LayoutView",
      "align_content": null,
      "align_items": null,
      "align_self": null,
      "border": null,
      "bottom": null,
      "display": null,
      "flex": null,
      "flex_flow": null,
      "grid_area": null,
      "grid_auto_columns": null,
      "grid_auto_flow": null,
      "grid_auto_rows": null,
      "grid_column": null,
      "grid_gap": null,
      "grid_row": null,
      "grid_template_areas": null,
      "grid_template_columns": null,
      "grid_template_rows": null,
      "height": null,
      "justify_content": null,
      "justify_items": null,
      "left": null,
      "margin": null,
      "max_height": null,
      "max_width": null,
      "min_height": null,
      "min_width": null,
      "object_fit": null,
      "object_position": null,
      "order": null,
      "overflow": null,
      "overflow_x": null,
      "overflow_y": null,
      "padding": null,
      "right": null,
      "top": null,
      "visibility": null,
      "width": null
     }
    },
    "d03d1b8aabf340079a0527e665fbd3a0": {
     "model_module": "@jupyter-widgets/controls",
     "model_module_version": "1.5.0",
     "model_name": "DescriptionStyleModel",
     "state": {
      "_model_module": "@jupyter-widgets/controls",
      "_model_module_version": "1.5.0",
      "_model_name": "DescriptionStyleModel",
      "_view_count": null,
      "_view_module": "@jupyter-widgets/base",
      "_view_module_version": "1.2.0",
      "_view_name": "StyleView",
      "description_width": ""
     }
    },
    "d0f7a7b8da194565bf9edf409f16eb36": {
     "model_module": "@jupyter-widgets/controls",
     "model_module_version": "1.5.0",
     "model_name": "DescriptionStyleModel",
     "state": {
      "_model_module": "@jupyter-widgets/controls",
      "_model_module_version": "1.5.0",
      "_model_name": "DescriptionStyleModel",
      "_view_count": null,
      "_view_module": "@jupyter-widgets/base",
      "_view_module_version": "1.2.0",
      "_view_name": "StyleView",
      "description_width": ""
     }
    },
    "d3297fb5e6d74beba90f0cf0b0c7a0a2": {
     "model_module": "@jupyter-widgets/base",
     "model_module_version": "1.2.0",
     "model_name": "LayoutModel",
     "state": {
      "_model_module": "@jupyter-widgets/base",
      "_model_module_version": "1.2.0",
      "_model_name": "LayoutModel",
      "_view_count": null,
      "_view_module": "@jupyter-widgets/base",
      "_view_module_version": "1.2.0",
      "_view_name": "LayoutView",
      "align_content": null,
      "align_items": null,
      "align_self": null,
      "border": null,
      "bottom": null,
      "display": null,
      "flex": null,
      "flex_flow": null,
      "grid_area": null,
      "grid_auto_columns": null,
      "grid_auto_flow": null,
      "grid_auto_rows": null,
      "grid_column": null,
      "grid_gap": null,
      "grid_row": null,
      "grid_template_areas": null,
      "grid_template_columns": null,
      "grid_template_rows": null,
      "height": null,
      "justify_content": null,
      "justify_items": null,
      "left": null,
      "margin": null,
      "max_height": null,
      "max_width": null,
      "min_height": null,
      "min_width": null,
      "object_fit": null,
      "object_position": null,
      "order": null,
      "overflow": null,
      "overflow_x": null,
      "overflow_y": null,
      "padding": null,
      "right": null,
      "top": null,
      "visibility": null,
      "width": null
     }
    },
    "d4934289542249f39befd2d822859777": {
     "model_module": "@jupyter-widgets/controls",
     "model_module_version": "1.5.0",
     "model_name": "ProgressStyleModel",
     "state": {
      "_model_module": "@jupyter-widgets/controls",
      "_model_module_version": "1.5.0",
      "_model_name": "ProgressStyleModel",
      "_view_count": null,
      "_view_module": "@jupyter-widgets/base",
      "_view_module_version": "1.2.0",
      "_view_name": "StyleView",
      "bar_color": null,
      "description_width": ""
     }
    },
    "d4ce2da5214d463fbf97aa87b78566be": {
     "model_module": "@jupyter-widgets/controls",
     "model_module_version": "1.5.0",
     "model_name": "HTMLModel",
     "state": {
      "_dom_classes": [],
      "_model_module": "@jupyter-widgets/controls",
      "_model_module_version": "1.5.0",
      "_model_name": "HTMLModel",
      "_view_count": null,
      "_view_module": "@jupyter-widgets/controls",
      "_view_module_version": "1.5.0",
      "_view_name": "HTMLView",
      "description": "",
      "description_tooltip": null,
      "layout": "IPY_MODEL_b18630b4014f44eb994c250cfbf9cb03",
      "placeholder": "​",
      "style": "IPY_MODEL_35753a88a6d844d5a1281cc0d7257510",
      "value": " 28.0/28.0 [00:00&lt;00:00, 995B/s]"
     }
    },
    "dab9ba5c07ba4792947a05d04c8e19ce": {
     "model_module": "@jupyter-widgets/controls",
     "model_module_version": "1.5.0",
     "model_name": "HTMLModel",
     "state": {
      "_dom_classes": [],
      "_model_module": "@jupyter-widgets/controls",
      "_model_module_version": "1.5.0",
      "_model_name": "HTMLModel",
      "_view_count": null,
      "_view_module": "@jupyter-widgets/controls",
      "_view_module_version": "1.5.0",
      "_view_name": "HTMLView",
      "description": "",
      "description_tooltip": null,
      "layout": "IPY_MODEL_ed059c5733d146ecafbf78ffe3e9ac97",
      "placeholder": "​",
      "style": "IPY_MODEL_dfc2a2ee2f744e0089274ed4fdb87cd7",
      "value": "100%"
     }
    },
    "dfc2a2ee2f744e0089274ed4fdb87cd7": {
     "model_module": "@jupyter-widgets/controls",
     "model_module_version": "1.5.0",
     "model_name": "DescriptionStyleModel",
     "state": {
      "_model_module": "@jupyter-widgets/controls",
      "_model_module_version": "1.5.0",
      "_model_name": "DescriptionStyleModel",
      "_view_count": null,
      "_view_module": "@jupyter-widgets/base",
      "_view_module_version": "1.2.0",
      "_view_name": "StyleView",
      "description_width": ""
     }
    },
    "e185ac5ea2bc4d12b8857daa69c8bdae": {
     "model_module": "@jupyter-widgets/controls",
     "model_module_version": "1.5.0",
     "model_name": "DescriptionStyleModel",
     "state": {
      "_model_module": "@jupyter-widgets/controls",
      "_model_module_version": "1.5.0",
      "_model_name": "DescriptionStyleModel",
      "_view_count": null,
      "_view_module": "@jupyter-widgets/base",
      "_view_module_version": "1.2.0",
      "_view_name": "StyleView",
      "description_width": ""
     }
    },
    "e21c26b6261d4622a272420a0269175e": {
     "model_module": "@jupyter-widgets/controls",
     "model_module_version": "1.5.0",
     "model_name": "HTMLModel",
     "state": {
      "_dom_classes": [],
      "_model_module": "@jupyter-widgets/controls",
      "_model_module_version": "1.5.0",
      "_model_name": "HTMLModel",
      "_view_count": null,
      "_view_module": "@jupyter-widgets/controls",
      "_view_module_version": "1.5.0",
      "_view_name": "HTMLView",
      "description": "",
      "description_tooltip": null,
      "layout": "IPY_MODEL_594d6ff086204722afbe84ff2eff5eca",
      "placeholder": "​",
      "style": "IPY_MODEL_634f6ea83ff94bdfba1a38472a332f6a",
      "value": "Downloading (…)okenizer_config.json: 100%"
     }
    },
    "e59d80f209af40898f2aeab6f724c3d5": {
     "model_module": "@jupyter-widgets/controls",
     "model_module_version": "1.5.0",
     "model_name": "HTMLModel",
     "state": {
      "_dom_classes": [],
      "_model_module": "@jupyter-widgets/controls",
      "_model_module_version": "1.5.0",
      "_model_name": "HTMLModel",
      "_view_count": null,
      "_view_module": "@jupyter-widgets/controls",
      "_view_module_version": "1.5.0",
      "_view_name": "HTMLView",
      "description": "",
      "description_tooltip": null,
      "layout": "IPY_MODEL_7842fad5cc7d4342abc729bd60a802dd",
      "placeholder": "​",
      "style": "IPY_MODEL_67ebe58c8cc34fe1af0fbb86f100b51c",
      "value": " 440M/440M [00:02&lt;00:00, 202MB/s]"
     }
    },
    "e91003f6d0c74288a108b5cd256090db": {
     "model_module": "@jupyter-widgets/controls",
     "model_module_version": "1.5.0",
     "model_name": "DescriptionStyleModel",
     "state": {
      "_model_module": "@jupyter-widgets/controls",
      "_model_module_version": "1.5.0",
      "_model_name": "DescriptionStyleModel",
      "_view_count": null,
      "_view_module": "@jupyter-widgets/base",
      "_view_module_version": "1.2.0",
      "_view_name": "StyleView",
      "description_width": ""
     }
    },
    "e99b838301e340af86240f24af875f73": {
     "model_module": "@jupyter-widgets/controls",
     "model_module_version": "1.5.0",
     "model_name": "HTMLModel",
     "state": {
      "_dom_classes": [],
      "_model_module": "@jupyter-widgets/controls",
      "_model_module_version": "1.5.0",
      "_model_name": "HTMLModel",
      "_view_count": null,
      "_view_module": "@jupyter-widgets/controls",
      "_view_module_version": "1.5.0",
      "_view_name": "HTMLView",
      "description": "",
      "description_tooltip": null,
      "layout": "IPY_MODEL_032b1ea99ca0495f812e84bfdc1a1d24",
      "placeholder": "​",
      "style": "IPY_MODEL_1c028f54a0674750a65eb03e3d46e16e",
      "value": " 232k/232k [00:00&lt;00:00, 491kB/s]"
     }
    },
    "e9ea8d2849c144e39922b65a86e99952": {
     "model_module": "@jupyter-widgets/base",
     "model_module_version": "1.2.0",
     "model_name": "LayoutModel",
     "state": {
      "_model_module": "@jupyter-widgets/base",
      "_model_module_version": "1.2.0",
      "_model_name": "LayoutModel",
      "_view_count": null,
      "_view_module": "@jupyter-widgets/base",
      "_view_module_version": "1.2.0",
      "_view_name": "LayoutView",
      "align_content": null,
      "align_items": null,
      "align_self": null,
      "border": null,
      "bottom": null,
      "display": null,
      "flex": null,
      "flex_flow": null,
      "grid_area": null,
      "grid_auto_columns": null,
      "grid_auto_flow": null,
      "grid_auto_rows": null,
      "grid_column": null,
      "grid_gap": null,
      "grid_row": null,
      "grid_template_areas": null,
      "grid_template_columns": null,
      "grid_template_rows": null,
      "height": null,
      "justify_content": null,
      "justify_items": null,
      "left": null,
      "margin": null,
      "max_height": null,
      "max_width": null,
      "min_height": null,
      "min_width": null,
      "object_fit": null,
      "object_position": null,
      "order": null,
      "overflow": null,
      "overflow_x": null,
      "overflow_y": null,
      "padding": null,
      "right": null,
      "top": null,
      "visibility": null,
      "width": null
     }
    },
    "ea01e6b09cc64c9c8f16900945c16d7a": {
     "model_module": "@jupyter-widgets/controls",
     "model_module_version": "1.5.0",
     "model_name": "DescriptionStyleModel",
     "state": {
      "_model_module": "@jupyter-widgets/controls",
      "_model_module_version": "1.5.0",
      "_model_name": "DescriptionStyleModel",
      "_view_count": null,
      "_view_module": "@jupyter-widgets/base",
      "_view_module_version": "1.2.0",
      "_view_name": "StyleView",
      "description_width": ""
     }
    },
    "ed059c5733d146ecafbf78ffe3e9ac97": {
     "model_module": "@jupyter-widgets/base",
     "model_module_version": "1.2.0",
     "model_name": "LayoutModel",
     "state": {
      "_model_module": "@jupyter-widgets/base",
      "_model_module_version": "1.2.0",
      "_model_name": "LayoutModel",
      "_view_count": null,
      "_view_module": "@jupyter-widgets/base",
      "_view_module_version": "1.2.0",
      "_view_name": "LayoutView",
      "align_content": null,
      "align_items": null,
      "align_self": null,
      "border": null,
      "bottom": null,
      "display": null,
      "flex": null,
      "flex_flow": null,
      "grid_area": null,
      "grid_auto_columns": null,
      "grid_auto_flow": null,
      "grid_auto_rows": null,
      "grid_column": null,
      "grid_gap": null,
      "grid_row": null,
      "grid_template_areas": null,
      "grid_template_columns": null,
      "grid_template_rows": null,
      "height": null,
      "justify_content": null,
      "justify_items": null,
      "left": null,
      "margin": null,
      "max_height": null,
      "max_width": null,
      "min_height": null,
      "min_width": null,
      "object_fit": null,
      "object_position": null,
      "order": null,
      "overflow": null,
      "overflow_x": null,
      "overflow_y": null,
      "padding": null,
      "right": null,
      "top": null,
      "visibility": null,
      "width": null
     }
    },
    "ee72fe8548b047e4ba0f44418ceed93f": {
     "model_module": "@jupyter-widgets/base",
     "model_module_version": "1.2.0",
     "model_name": "LayoutModel",
     "state": {
      "_model_module": "@jupyter-widgets/base",
      "_model_module_version": "1.2.0",
      "_model_name": "LayoutModel",
      "_view_count": null,
      "_view_module": "@jupyter-widgets/base",
      "_view_module_version": "1.2.0",
      "_view_name": "LayoutView",
      "align_content": null,
      "align_items": null,
      "align_self": null,
      "border": null,
      "bottom": null,
      "display": null,
      "flex": null,
      "flex_flow": null,
      "grid_area": null,
      "grid_auto_columns": null,
      "grid_auto_flow": null,
      "grid_auto_rows": null,
      "grid_column": null,
      "grid_gap": null,
      "grid_row": null,
      "grid_template_areas": null,
      "grid_template_columns": null,
      "grid_template_rows": null,
      "height": null,
      "justify_content": null,
      "justify_items": null,
      "left": null,
      "margin": null,
      "max_height": null,
      "max_width": null,
      "min_height": null,
      "min_width": null,
      "object_fit": null,
      "object_position": null,
      "order": null,
      "overflow": null,
      "overflow_x": null,
      "overflow_y": null,
      "padding": null,
      "right": null,
      "top": null,
      "visibility": null,
      "width": null
     }
    },
    "ef2ef68455a144908118f8d677633911": {
     "model_module": "@jupyter-widgets/controls",
     "model_module_version": "1.5.0",
     "model_name": "HTMLModel",
     "state": {
      "_dom_classes": [],
      "_model_module": "@jupyter-widgets/controls",
      "_model_module_version": "1.5.0",
      "_model_name": "HTMLModel",
      "_view_count": null,
      "_view_module": "@jupyter-widgets/controls",
      "_view_module_version": "1.5.0",
      "_view_name": "HTMLView",
      "description": "",
      "description_tooltip": null,
      "layout": "IPY_MODEL_8b64021a273049b6820b728fbef25cfb",
      "placeholder": "​",
      "style": "IPY_MODEL_0935250530ee49c18e58169e8a1079fc",
      "value": " 570/570 [00:00&lt;00:00, 18.2kB/s]"
     }
    },
    "f40d781339cc4c9ca1596bebeb0ec6f9": {
     "model_module": "@jupyter-widgets/controls",
     "model_module_version": "1.5.0",
     "model_name": "DescriptionStyleModel",
     "state": {
      "_model_module": "@jupyter-widgets/controls",
      "_model_module_version": "1.5.0",
      "_model_name": "DescriptionStyleModel",
      "_view_count": null,
      "_view_module": "@jupyter-widgets/base",
      "_view_module_version": "1.2.0",
      "_view_name": "StyleView",
      "description_width": ""
     }
    },
    "fea947c9b697477694f3f3b795f9ef4e": {
     "model_module": "@jupyter-widgets/base",
     "model_module_version": "1.2.0",
     "model_name": "LayoutModel",
     "state": {
      "_model_module": "@jupyter-widgets/base",
      "_model_module_version": "1.2.0",
      "_model_name": "LayoutModel",
      "_view_count": null,
      "_view_module": "@jupyter-widgets/base",
      "_view_module_version": "1.2.0",
      "_view_name": "LayoutView",
      "align_content": null,
      "align_items": null,
      "align_self": null,
      "border": null,
      "bottom": null,
      "display": null,
      "flex": null,
      "flex_flow": null,
      "grid_area": null,
      "grid_auto_columns": null,
      "grid_auto_flow": null,
      "grid_auto_rows": null,
      "grid_column": null,
      "grid_gap": null,
      "grid_row": null,
      "grid_template_areas": null,
      "grid_template_columns": null,
      "grid_template_rows": null,
      "height": null,
      "justify_content": null,
      "justify_items": null,
      "left": null,
      "margin": null,
      "max_height": null,
      "max_width": null,
      "min_height": null,
      "min_width": null,
      "object_fit": null,
      "object_position": null,
      "order": null,
      "overflow": null,
      "overflow_x": null,
      "overflow_y": null,
      "padding": null,
      "right": null,
      "top": null,
      "visibility": null,
      "width": null
     }
    }
   }
  }
 },
 "nbformat": 4,
 "nbformat_minor": 4
}
