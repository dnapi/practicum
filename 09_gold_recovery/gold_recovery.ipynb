{
 "cells": [
  {
   "cell_type": "markdown",
   "metadata": {
    "toc": true
   },
   "source": [
    "<h1>Содержание<span class=\"tocSkip\"></span></h1>\n",
    "<div class=\"toc\"><ul class=\"toc-item\"><li><span><a href=\"#Подготовка-данных\" data-toc-modified-id=\"Подготовка-данных-1\"><span class=\"toc-item-num\">1&nbsp;&nbsp;</span>Подготовка данных</a></span><ul class=\"toc-item\"><li><span><a href=\"#Открываем-и-изучаем-файлы\" data-toc-modified-id=\"Открываем-и-изучаем-файлы-1.1\"><span class=\"toc-item-num\">1.1&nbsp;&nbsp;</span>Открываем и изучаем файлы</a></span></li><li><span><a href=\"#Проверяем-расчет-эффективности-обогащения\" data-toc-modified-id=\"Проверяем-расчет-эффективности-обогащения-1.2\"><span class=\"toc-item-num\">1.2&nbsp;&nbsp;</span>Проверяем расчет эффективности обогащения</a></span></li><li><span><a href=\"#Анализируем-отличия-набора-признаков-в-тестовом-выборке-от-других-выборок\" data-toc-modified-id=\"Анализируем-отличия-набора-признаков-в-тестовом-выборке-от-других-выборок-1.3\"><span class=\"toc-item-num\">1.3&nbsp;&nbsp;</span>Анализируем отличия набора признаков в тестовом выборке от других выборок</a></span></li><li><span><a href=\"#Предобработка-данных\" data-toc-modified-id=\"Предобработка-данных-1.4\"><span class=\"toc-item-num\">1.4&nbsp;&nbsp;</span>Предобработка данных</a></span></li><li><span><a href=\"#Выводы\" data-toc-modified-id=\"Выводы-1.5\"><span class=\"toc-item-num\">1.5&nbsp;&nbsp;</span>Выводы</a></span></li></ul></li><li><span><a href=\"#Анализ-данных\" data-toc-modified-id=\"Анализ-данных-2\"><span class=\"toc-item-num\">2&nbsp;&nbsp;</span>Анализ данных</a></span><ul class=\"toc-item\"><li><span><a href=\"#Концентрация-металлов-(Au,-Ag,-Pb)-на-различных-этапах\" data-toc-modified-id=\"Концентрация-металлов-(Au,-Ag,-Pb)-на-различных-этапах-2.1\"><span class=\"toc-item-num\">2.1&nbsp;&nbsp;</span>Концентрация металлов (Au, Ag, Pb) на различных этапах</a></span></li><li><span><a href=\"#Распределения-размеров-гранул-исходного-сырья\" data-toc-modified-id=\"Распределения-размеров-гранул-исходного-сырья-2.2\"><span class=\"toc-item-num\">2.2&nbsp;&nbsp;</span>Распределения размеров гранул исходного сырья</a></span></li><li><span><a href=\"#Суммарная-концентрация-металлов-на-разных-стадиях\" data-toc-modified-id=\"Суммарная-концентрация-металлов-на-разных-стадиях-2.3\"><span class=\"toc-item-num\">2.3&nbsp;&nbsp;</span>Суммарная концентрация металлов на разных стадиях</a></span></li><li><span><a href=\"#Корреляции-между-целевым-признаком-и-другими-признаками\" data-toc-modified-id=\"Корреляции-между-целевым-признаком-и-другими-признаками-2.4\"><span class=\"toc-item-num\">2.4&nbsp;&nbsp;</span>Корреляции между целевым признаком и другими признаками</a></span></li><li><span><a href=\"#Выводы\" data-toc-modified-id=\"Выводы-2.5\"><span class=\"toc-item-num\">2.5&nbsp;&nbsp;</span>Выводы</a></span></li></ul></li><li><span><a href=\"#Модель\" data-toc-modified-id=\"Модель-3\"><span class=\"toc-item-num\">3&nbsp;&nbsp;</span>Модель</a></span><ul class=\"toc-item\"><li><span><a href=\"#Напишим-функцию-для-вычисления-sMAPE\" data-toc-modified-id=\"Напишим-функцию-для-вычисления-sMAPE-3.1\"><span class=\"toc-item-num\">3.1&nbsp;&nbsp;</span>Напишим функцию для вычисления sMAPE</a></span></li><li><span><a href=\"#Обучение-моделей\" data-toc-modified-id=\"Обучение-моделей-3.2\"><span class=\"toc-item-num\">3.2&nbsp;&nbsp;</span>Обучение моделей</a></span><ul class=\"toc-item\"><li><span><a href=\"#Маштабирование\" data-toc-modified-id=\"Маштабирование-3.2.1\"><span class=\"toc-item-num\">3.2.1&nbsp;&nbsp;</span>Маштабирование</a></span></li><li><span><a href=\"#Dummy-model\" data-toc-modified-id=\"Dummy-model-3.2.2\"><span class=\"toc-item-num\">3.2.2&nbsp;&nbsp;</span>Dummy model</a></span></li><li><span><a href=\"#Линейная-модель\" data-toc-modified-id=\"Линейная-модель-3.2.3\"><span class=\"toc-item-num\">3.2.3&nbsp;&nbsp;</span>Линейная модель</a></span></li><li><span><a href=\"#Случайный-лес\" data-toc-modified-id=\"Случайный-лес-3.2.4\"><span class=\"toc-item-num\">3.2.4&nbsp;&nbsp;</span>Случайный лес</a></span></li><li><span><a href=\"#Дерево-решений\" data-toc-modified-id=\"Дерево-решений-3.2.5\"><span class=\"toc-item-num\">3.2.5&nbsp;&nbsp;</span>Дерево решений</a></span></li><li><span><a href=\"#catboost\" data-toc-modified-id=\"catboost-3.2.6\"><span class=\"toc-item-num\">3.2.6&nbsp;&nbsp;</span>catboost</a></span></li></ul></li><li><span><a href=\"#Оценка-качества-качества-кросс-валидацией\" data-toc-modified-id=\"Оценка-качества-качества-кросс-валидацией-3.3\"><span class=\"toc-item-num\">3.3&nbsp;&nbsp;</span>Оценка качества качества кросс-валидацией</a></span></li></ul></li><li><span><a href=\"#Общий-вывод-по-проекту\" data-toc-modified-id=\"Общий-вывод-по-проекту-4\"><span class=\"toc-item-num\">4&nbsp;&nbsp;</span>Общий вывод по проекту</a></span></li><li><span><a href=\"#Чек-лист-готовности-проекта\" data-toc-modified-id=\"Чек-лист-готовности-проекта-5\"><span class=\"toc-item-num\">5&nbsp;&nbsp;</span>Чек-лист готовности проекта</a></span></li></ul></div>"
   ]
  },
  {
   "cell_type": "markdown",
   "metadata": {},
   "source": [
    "# Восстановление золота из руды"
   ]
  },
  {
   "cell_type": "markdown",
   "metadata": {},
   "source": [
    "В работе подгатавливается прототип модели машинного обучения для компании «Цифры». Компания разрабатывает решения для эффективной работы промышленных предприятий.\n",
    "\n",
    "Модель должна предсказать коэффициент восстановления золота из золотосодержащей руды. Используйте данные с параметрами добычи и очистки. \n",
    "\n",
    "Модель поможет оптимизировать производство, чтобы не запускать предприятие с убыточными характеристиками.\n",
    "\n",
    "Необходимо :\n",
    "1. Подготовить данные;\n",
    "2. Провести исследовательский анализ данных;\n",
    "3. Построить и обучить модель.\n",
    "\n",
    "Проект использует  библиотеки *pandas*, *matplotlib*, *GridSearchCV*, *numpy*, *seaborn* и *sklearn* "
   ]
  },
  {
   "cell_type": "markdown",
   "metadata": {},
   "source": [
    "## Подготовка данных"
   ]
  },
  {
   "cell_type": "code",
   "execution_count": null,
   "metadata": {},
   "outputs": [],
   "source": [
    "import pandas as pd\n",
    "from sklearn.metrics import mean_absolute_error\n",
    "from sklearn.model_selection import train_test_split\n",
    "from sklearn.preprocessing import StandardScaler\n",
    "\n",
    "import seaborn as sns\n",
    "import matplotlib.pyplot as plt\n",
    "    \n",
    "from sklearn.linear_model import LinearRegression\n",
    "from sklearn.tree import DecisionTreeRegressor\n",
    "\n",
    "from sklearn.ensemble import RandomForestRegressor\n",
    "\n",
    "from sklearn.model_selection import GridSearchCV\n",
    "\n",
    "#from sklearn.metrics import mean_squared_error\n",
    "import numpy as np\n",
    "\n",
    "from sklearn.metrics import mean_absolute_error, make_scorer\n",
    "from sklearn.model_selection import cross_val_score, KFold"
   ]
  },
  {
   "cell_type": "code",
   "execution_count": 2,
   "metadata": {},
   "outputs": [],
   "source": [
    "fitting=False"
   ]
  },
  {
   "cell_type": "markdown",
   "metadata": {},
   "source": [
    "###  Открываем и изучаем файлы"
   ]
  },
  {
   "cell_type": "code",
   "execution_count": 3,
   "metadata": {},
   "outputs": [],
   "source": [
    "data_train=pd.read_csv('/datasets/gold_industry_train.csv') # — обучающая выборка;\n",
    "data_test=pd.read_csv('/datasets/gold_industry_test.csv') # — тестовая выборка;\n",
    "data_full=pd.read_csv('/datasets/gold_industry_full.csv') # — исходные данные."
   ]
  },
  {
   "cell_type": "code",
   "execution_count": 4,
   "metadata": {},
   "outputs": [
    {
     "data": {
      "text/plain": [
       "[(14579, 87), (4860, 53), (19439, 87)]"
      ]
     },
     "execution_count": 4,
     "metadata": {},
     "output_type": "execute_result"
    }
   ],
   "source": [
    "[data_train.shape,data_test.shape,data_full.shape]"
   ]
  },
  {
   "cell_type": "code",
   "execution_count": 5,
   "metadata": {},
   "outputs": [
    {
     "data": {
      "text/plain": [
       "19439"
      ]
     },
     "execution_count": 5,
     "metadata": {},
     "output_type": "execute_result"
    }
   ],
   "source": [
    "data_train.shape[0]+data_test.shape[0]"
   ]
  },
  {
   "cell_type": "code",
   "execution_count": 6,
   "metadata": {
    "scrolled": true
   },
   "outputs": [
    {
     "name": "stdout",
     "output_type": "stream",
     "text": [
      "<class 'pandas.core.frame.DataFrame'>\n",
      "RangeIndex: 14579 entries, 0 to 14578\n",
      "Data columns (total 87 columns):\n",
      " #   Column                                              Non-Null Count  Dtype  \n",
      "---  ------                                              --------------  -----  \n",
      " 0   date                                                14579 non-null  object \n",
      " 1   rougher.input.feed_au                               14579 non-null  float64\n",
      " 2   rougher.input.feed_ag                               14579 non-null  float64\n",
      " 3   rougher.input.feed_pb                               14507 non-null  float64\n",
      " 4   rougher.input.feed_sol                              14502 non-null  float64\n",
      " 5   rougher.input.feed_rate                             14572 non-null  float64\n",
      " 6   rougher.input.feed_size                             14478 non-null  float64\n",
      " 7   rougher.input.floatbank10_sulfate                   14548 non-null  float64\n",
      " 8   rougher.input.floatbank10_xanthate                  14572 non-null  float64\n",
      " 9   rougher.state.floatbank10_a_air                     14579 non-null  float64\n",
      " 10  rougher.state.floatbank10_a_level                   14579 non-null  float64\n",
      " 11  rougher.state.floatbank10_b_air                     14579 non-null  float64\n",
      " 12  rougher.state.floatbank10_b_level                   14579 non-null  float64\n",
      " 13  rougher.state.floatbank10_c_air                     14579 non-null  float64\n",
      " 14  rougher.state.floatbank10_c_level                   14579 non-null  float64\n",
      " 15  rougher.state.floatbank10_d_air                     14579 non-null  float64\n",
      " 16  rougher.state.floatbank10_d_level                   14579 non-null  float64\n",
      " 17  rougher.state.floatbank10_e_air                     14150 non-null  float64\n",
      " 18  rougher.state.floatbank10_e_level                   14579 non-null  float64\n",
      " 19  rougher.state.floatbank10_f_air                     14579 non-null  float64\n",
      " 20  rougher.state.floatbank10_f_level                   14579 non-null  float64\n",
      " 21  rougher.input.floatbank11_sulfate                   14543 non-null  float64\n",
      " 22  rougher.input.floatbank11_xanthate                  14172 non-null  float64\n",
      " 23  rougher.calculation.sulfate_to_au_concentrate       14578 non-null  float64\n",
      " 24  rougher.calculation.floatbank10_sulfate_to_au_feed  14578 non-null  float64\n",
      " 25  rougher.calculation.floatbank11_sulfate_to_au_feed  14578 non-null  float64\n",
      " 26  rougher.calculation.au_pb_ratio                     14579 non-null  float64\n",
      " 27  rougher.output.concentrate_au                       14579 non-null  float64\n",
      " 28  rougher.output.concentrate_ag                       14579 non-null  float64\n",
      " 29  rougher.output.concentrate_pb                       14579 non-null  float64\n",
      " 30  rougher.output.concentrate_sol                      14561 non-null  float64\n",
      " 31  rougher.output.recovery                             14579 non-null  float64\n",
      " 32  rougher.output.tail_au                              14579 non-null  float64\n",
      " 33  rougher.output.tail_ag                              14578 non-null  float64\n",
      " 34  rougher.output.tail_pb                              14579 non-null  float64\n",
      " 35  rougher.output.tail_sol                             14579 non-null  float64\n",
      " 36  primary_cleaner.input.sulfate                       14556 non-null  float64\n",
      " 37  primary_cleaner.input.depressant                    14551 non-null  float64\n",
      " 38  primary_cleaner.input.feed_size                     14579 non-null  float64\n",
      " 39  primary_cleaner.input.xanthate                      14518 non-null  float64\n",
      " 40  primary_cleaner.state.floatbank8_a_air              14576 non-null  float64\n",
      " 41  primary_cleaner.state.floatbank8_a_level            14579 non-null  float64\n",
      " 42  primary_cleaner.state.floatbank8_b_air              14576 non-null  float64\n",
      " 43  primary_cleaner.state.floatbank8_b_level            14579 non-null  float64\n",
      " 44  primary_cleaner.state.floatbank8_c_air              14579 non-null  float64\n",
      " 45  primary_cleaner.state.floatbank8_c_level            14579 non-null  float64\n",
      " 46  primary_cleaner.state.floatbank8_d_air              14578 non-null  float64\n",
      " 47  primary_cleaner.state.floatbank8_d_level            14579 non-null  float64\n",
      " 48  primary_cleaner.output.concentrate_au               14579 non-null  float64\n",
      " 49  primary_cleaner.output.concentrate_ag               14579 non-null  float64\n",
      " 50  primary_cleaner.output.concentrate_pb               14491 non-null  float64\n",
      " 51  primary_cleaner.output.concentrate_sol              14314 non-null  float64\n",
      " 52  primary_cleaner.output.tail_au                      14579 non-null  float64\n",
      " 53  primary_cleaner.output.tail_ag                      14575 non-null  float64\n",
      " 54  primary_cleaner.output.tail_pb                      14573 non-null  float64\n",
      " 55  primary_cleaner.output.tail_sol                     14534 non-null  float64\n",
      " 56  secondary_cleaner.state.floatbank2_a_air            14485 non-null  float64\n",
      " 57  secondary_cleaner.state.floatbank2_a_level          14579 non-null  float64\n",
      " 58  secondary_cleaner.state.floatbank2_b_air            14557 non-null  float64\n",
      " 59  secondary_cleaner.state.floatbank2_b_level          14579 non-null  float64\n",
      " 60  secondary_cleaner.state.floatbank3_a_air            14567 non-null  float64\n",
      " 61  secondary_cleaner.state.floatbank3_a_level          14579 non-null  float64\n",
      " 62  secondary_cleaner.state.floatbank3_b_air            14579 non-null  float64\n",
      " 63  secondary_cleaner.state.floatbank3_b_level          14579 non-null  float64\n",
      " 64  secondary_cleaner.state.floatbank4_a_air            14574 non-null  float64\n",
      " 65  secondary_cleaner.state.floatbank4_a_level          14579 non-null  float64\n",
      " 66  secondary_cleaner.state.floatbank4_b_air            14579 non-null  float64\n",
      " 67  secondary_cleaner.state.floatbank4_b_level          14579 non-null  float64\n",
      " 68  secondary_cleaner.state.floatbank5_a_air            14579 non-null  float64\n",
      " 69  secondary_cleaner.state.floatbank5_a_level          14579 non-null  float64\n",
      " 70  secondary_cleaner.state.floatbank5_b_air            14579 non-null  float64\n",
      " 71  secondary_cleaner.state.floatbank5_b_level          14579 non-null  float64\n",
      " 72  secondary_cleaner.state.floatbank6_a_air            14578 non-null  float64\n",
      " 73  secondary_cleaner.state.floatbank6_a_level          14579 non-null  float64\n",
      " 74  secondary_cleaner.output.tail_au                    14579 non-null  float64\n",
      " 75  secondary_cleaner.output.tail_ag                    14578 non-null  float64\n",
      " 76  secondary_cleaner.output.tail_pb                    14575 non-null  float64\n",
      " 77  secondary_cleaner.output.tail_sol                   13659 non-null  float64\n",
      " 78  final.output.concentrate_au                         14579 non-null  float64\n",
      " 79  final.output.concentrate_ag                         14578 non-null  float64\n",
      " 80  final.output.concentrate_pb                         14578 non-null  float64\n",
      " 81  final.output.concentrate_sol                        14387 non-null  float64\n",
      " 82  final.output.recovery                               14579 non-null  float64\n",
      " 83  final.output.tail_au                                14579 non-null  float64\n",
      " 84  final.output.tail_ag                                14578 non-null  float64\n",
      " 85  final.output.tail_pb                                14504 non-null  float64\n",
      " 86  final.output.tail_sol                               14574 non-null  float64\n",
      "dtypes: float64(86), object(1)\n",
      "memory usage: 9.7+ MB\n"
     ]
    }
   ],
   "source": [
    "data_train.info()"
   ]
  },
  {
   "cell_type": "markdown",
   "metadata": {},
   "source": [
    "###  Проверяем расчет эффективности обогащения"
   ]
  },
  {
   "cell_type": "markdown",
   "metadata": {},
   "source": [
    "Рассчитаем эффективность обогащения `rougher.output.recovery` и вычислим MAE между расчётами и значением признака.\n",
    "\n",
    "recovery = $\\frac{C(F-T)}{F(C-T)}$ * 100%\n",
    "\n",
    "где C — доля золота в концентрате после флотации/очистки;\n",
    "    F — доля золота в сырье/концентрате до флотации/очистки;\n",
    "    T — доля золота в отвальных хвостах после флотации/очистки."
   ]
  },
  {
   "cell_type": "code",
   "execution_count": 7,
   "metadata": {},
   "outputs": [],
   "source": [
    "def recovery_rougher_au(data):\n",
    "    f=data['rougher.input.feed_au']\n",
    "    t=data['rougher.output.tail_au']\n",
    "    c=data['rougher.output.concentrate_au']\n",
    "    return 100*c*(f-t)/f/(c-t)"
   ]
  },
  {
   "cell_type": "markdown",
   "metadata": {},
   "source": [
    "MAE между нашим расчётом эффективности обогащения и значением признака из данных крайне мало:"
   ]
  },
  {
   "cell_type": "code",
   "execution_count": 8,
   "metadata": {},
   "outputs": [
    {
     "data": {
      "text/plain": [
       "1.186859559576921e-14"
      ]
     },
     "execution_count": 8,
     "metadata": {},
     "output_type": "execute_result"
    }
   ],
   "source": [
    "mean_absolute_error(data_train['rougher.output.recovery'],recovery_rougher_au(data_train))"
   ]
  },
  {
   "cell_type": "markdown",
   "metadata": {},
   "source": [
    "###  Анализируем отличия набора признаков в тестовом выборке от других выборок"
   ]
  },
  {
   "cell_type": "markdown",
   "metadata": {},
   "source": [
    "Общие признаки в обучающей и тестовой выборке, см. ниже"
   ]
  },
  {
   "cell_type": "code",
   "execution_count": 9,
   "metadata": {
    "scrolled": true
   },
   "outputs": [
    {
     "name": "stdout",
     "output_type": "stream",
     "text": [
      "Кол-во столбцов 53\n",
      "date\n",
      "rougher.input.feed_au\n",
      "rougher.input.feed_ag\n",
      "rougher.input.feed_pb\n",
      "rougher.input.feed_sol\n",
      "rougher.input.feed_rate\n",
      "rougher.input.feed_size\n",
      "rougher.input.floatbank10_sulfate\n",
      "rougher.input.floatbank10_xanthate\n",
      "rougher.state.floatbank10_a_air\n",
      "rougher.state.floatbank10_a_level\n",
      "rougher.state.floatbank10_b_air\n",
      "rougher.state.floatbank10_b_level\n",
      "rougher.state.floatbank10_c_air\n",
      "rougher.state.floatbank10_c_level\n",
      "rougher.state.floatbank10_d_air\n",
      "rougher.state.floatbank10_d_level\n",
      "rougher.state.floatbank10_e_air\n",
      "rougher.state.floatbank10_e_level\n",
      "rougher.state.floatbank10_f_air\n",
      "rougher.state.floatbank10_f_level\n",
      "rougher.input.floatbank11_sulfate\n",
      "rougher.input.floatbank11_xanthate\n",
      "primary_cleaner.input.sulfate\n",
      "primary_cleaner.input.depressant\n",
      "primary_cleaner.input.feed_size\n",
      "primary_cleaner.input.xanthate\n",
      "primary_cleaner.state.floatbank8_a_air\n",
      "primary_cleaner.state.floatbank8_a_level\n",
      "primary_cleaner.state.floatbank8_b_air\n",
      "primary_cleaner.state.floatbank8_b_level\n",
      "primary_cleaner.state.floatbank8_c_air\n",
      "primary_cleaner.state.floatbank8_c_level\n",
      "primary_cleaner.state.floatbank8_d_air\n",
      "primary_cleaner.state.floatbank8_d_level\n",
      "secondary_cleaner.state.floatbank2_a_air\n",
      "secondary_cleaner.state.floatbank2_a_level\n",
      "secondary_cleaner.state.floatbank2_b_air\n",
      "secondary_cleaner.state.floatbank2_b_level\n",
      "secondary_cleaner.state.floatbank3_a_air\n",
      "secondary_cleaner.state.floatbank3_a_level\n",
      "secondary_cleaner.state.floatbank3_b_air\n",
      "secondary_cleaner.state.floatbank3_b_level\n",
      "secondary_cleaner.state.floatbank4_a_air\n",
      "secondary_cleaner.state.floatbank4_a_level\n",
      "secondary_cleaner.state.floatbank4_b_air\n",
      "secondary_cleaner.state.floatbank4_b_level\n",
      "secondary_cleaner.state.floatbank5_a_air\n",
      "secondary_cleaner.state.floatbank5_a_level\n",
      "secondary_cleaner.state.floatbank5_b_air\n",
      "secondary_cleaner.state.floatbank5_b_level\n",
      "secondary_cleaner.state.floatbank6_a_air\n",
      "secondary_cleaner.state.floatbank6_a_level\n"
     ]
    }
   ],
   "source": [
    "inter=list(data_train.columns.intersection(data_test.columns))\n",
    "print('Кол-во столбцов',len(inter))\n",
    "print(*inter,sep='\\n')"
   ]
  },
  {
   "cell_type": "markdown",
   "metadata": {},
   "source": [
    "признаки в обучающем наборе которых нет в тестовом наборе, см. ниже"
   ]
  },
  {
   "cell_type": "code",
   "execution_count": 10,
   "metadata": {},
   "outputs": [
    {
     "name": "stdout",
     "output_type": "stream",
     "text": [
      "34\n",
      "final.output.concentrate_ag\n",
      "final.output.concentrate_au\n",
      "final.output.concentrate_pb\n",
      "final.output.concentrate_sol\n",
      "final.output.recovery\n",
      "final.output.tail_ag\n",
      "final.output.tail_au\n",
      "final.output.tail_pb\n",
      "final.output.tail_sol\n",
      "primary_cleaner.output.concentrate_ag\n",
      "primary_cleaner.output.concentrate_au\n",
      "primary_cleaner.output.concentrate_pb\n",
      "primary_cleaner.output.concentrate_sol\n",
      "primary_cleaner.output.tail_ag\n",
      "primary_cleaner.output.tail_au\n",
      "primary_cleaner.output.tail_pb\n",
      "primary_cleaner.output.tail_sol\n",
      "rougher.calculation.au_pb_ratio\n",
      "rougher.calculation.floatbank10_sulfate_to_au_feed\n",
      "rougher.calculation.floatbank11_sulfate_to_au_feed\n",
      "rougher.calculation.sulfate_to_au_concentrate\n",
      "rougher.output.concentrate_ag\n",
      "rougher.output.concentrate_au\n",
      "rougher.output.concentrate_pb\n",
      "rougher.output.concentrate_sol\n",
      "rougher.output.recovery\n",
      "rougher.output.tail_ag\n",
      "rougher.output.tail_au\n",
      "rougher.output.tail_pb\n",
      "rougher.output.tail_sol\n",
      "secondary_cleaner.output.tail_ag\n",
      "secondary_cleaner.output.tail_au\n",
      "secondary_cleaner.output.tail_pb\n",
      "secondary_cleaner.output.tail_sol\n"
     ]
    }
   ],
   "source": [
    "diff=list(data_train.columns.difference(data_test.columns))\n",
    "print(len(diff))\n",
    "print(*diff,sep='\\n')"
   ]
  },
  {
   "cell_type": "markdown",
   "metadata": {},
   "source": [
    "В тренировочной выборке все признаки из тестовой выборки есть:"
   ]
  },
  {
   "cell_type": "code",
   "execution_count": 11,
   "metadata": {},
   "outputs": [
    {
     "data": {
      "text/plain": [
       "0"
      ]
     },
     "execution_count": 11,
     "metadata": {},
     "output_type": "execute_result"
    }
   ],
   "source": [
    "(data_train.columns.intersection(data_test.columns)!=data_test.columns).sum()"
   ]
  },
  {
   "cell_type": "markdown",
   "metadata": {},
   "source": [
    "### Предобработка данных"
   ]
  },
  {
   "cell_type": "markdown",
   "metadata": {},
   "source": [
    "Пропуски данных во временных редах заменям предыдущими значениями"
   ]
  },
  {
   "cell_type": "code",
   "execution_count": 12,
   "metadata": {},
   "outputs": [],
   "source": [
    "data_train = data_train.fillna(method='ffill')\n",
    "data_test = data_test.fillna(method='ffill')\n",
    "data_full = data_full.fillna(method='ffill')"
   ]
  },
  {
   "cell_type": "code",
   "execution_count": 13,
   "metadata": {},
   "outputs": [],
   "source": [
    "labels=['rougher.output.recovery','final.output.recovery']"
   ]
  },
  {
   "cell_type": "code",
   "execution_count": 14,
   "metadata": {},
   "outputs": [],
   "source": [
    "features=list(data_test.columns.drop('date'))"
   ]
  },
  {
   "cell_type": "markdown",
   "metadata": {},
   "source": [
    "Для целевого признака 'rougher.output.recovery' релевантны  только признаки этапа 'rougher'\n",
    "\n",
    "Для целевого признака 'final.output.recovery' релевантны признаки всех этапов. "
   ]
  },
  {
   "cell_type": "code",
   "execution_count": 15,
   "metadata": {},
   "outputs": [
    {
     "data": {
      "text/plain": [
       "52"
      ]
     },
     "execution_count": 15,
     "metadata": {},
     "output_type": "execute_result"
    }
   ],
   "source": [
    "len(features)"
   ]
  },
  {
   "cell_type": "code",
   "execution_count": 16,
   "metadata": {},
   "outputs": [
    {
     "data": {
      "text/plain": [
       "(0,)"
      ]
     },
     "execution_count": 16,
     "metadata": {},
     "output_type": "execute_result"
    }
   ],
   "source": [
    "data_test.filter(like=\"rougher\").columns.difference(\n",
    "    data_test.columns.drop('date')[:22]).shape"
   ]
  },
  {
   "cell_type": "code",
   "execution_count": 17,
   "metadata": {},
   "outputs": [],
   "source": [
    "features_rougher=features[:22]\n",
    "features_final=features"
   ]
  },
  {
   "cell_type": "code",
   "execution_count": 18,
   "metadata": {},
   "outputs": [
    {
     "data": {
      "text/html": [
       "<div>\n",
       "<style scoped>\n",
       "    .dataframe tbody tr th:only-of-type {\n",
       "        vertical-align: middle;\n",
       "    }\n",
       "\n",
       "    .dataframe tbody tr th {\n",
       "        vertical-align: top;\n",
       "    }\n",
       "\n",
       "    .dataframe thead th {\n",
       "        text-align: right;\n",
       "    }\n",
       "</style>\n",
       "<table border=\"1\" class=\"dataframe\">\n",
       "  <thead>\n",
       "    <tr style=\"text-align: right;\">\n",
       "      <th></th>\n",
       "      <th>rougher.input.feed_au</th>\n",
       "      <th>rougher.input.feed_ag</th>\n",
       "      <th>rougher.input.feed_pb</th>\n",
       "      <th>rougher.input.feed_sol</th>\n",
       "      <th>rougher.input.feed_rate</th>\n",
       "      <th>rougher.input.feed_size</th>\n",
       "      <th>rougher.input.floatbank10_sulfate</th>\n",
       "      <th>rougher.input.floatbank10_xanthate</th>\n",
       "      <th>rougher.state.floatbank10_a_air</th>\n",
       "      <th>rougher.state.floatbank10_a_level</th>\n",
       "      <th>...</th>\n",
       "      <th>rougher.state.floatbank10_c_air</th>\n",
       "      <th>rougher.state.floatbank10_c_level</th>\n",
       "      <th>rougher.state.floatbank10_d_air</th>\n",
       "      <th>rougher.state.floatbank10_d_level</th>\n",
       "      <th>rougher.state.floatbank10_e_air</th>\n",
       "      <th>rougher.state.floatbank10_e_level</th>\n",
       "      <th>rougher.state.floatbank10_f_air</th>\n",
       "      <th>rougher.state.floatbank10_f_level</th>\n",
       "      <th>rougher.input.floatbank11_sulfate</th>\n",
       "      <th>rougher.input.floatbank11_xanthate</th>\n",
       "    </tr>\n",
       "  </thead>\n",
       "  <tbody>\n",
       "    <tr>\n",
       "      <th>count</th>\n",
       "      <td>14579.000000</td>\n",
       "      <td>14579.000000</td>\n",
       "      <td>14579.000000</td>\n",
       "      <td>14579.000000</td>\n",
       "      <td>14579.000000</td>\n",
       "      <td>14579.000000</td>\n",
       "      <td>14579.000000</td>\n",
       "      <td>14579.000000</td>\n",
       "      <td>14579.000000</td>\n",
       "      <td>14579.000000</td>\n",
       "      <td>...</td>\n",
       "      <td>14579.000000</td>\n",
       "      <td>14579.000000</td>\n",
       "      <td>14579.000000</td>\n",
       "      <td>14579.000000</td>\n",
       "      <td>14579.000000</td>\n",
       "      <td>14579.000000</td>\n",
       "      <td>14579.000000</td>\n",
       "      <td>14579.000000</td>\n",
       "      <td>14579.000000</td>\n",
       "      <td>14579.000000</td>\n",
       "    </tr>\n",
       "    <tr>\n",
       "      <th>mean</th>\n",
       "      <td>8.352941</td>\n",
       "      <td>8.877460</td>\n",
       "      <td>3.592094</td>\n",
       "      <td>36.545646</td>\n",
       "      <td>474.284502</td>\n",
       "      <td>59.070865</td>\n",
       "      <td>12.406554</td>\n",
       "      <td>5.993247</td>\n",
       "      <td>1104.208278</td>\n",
       "      <td>-379.367166</td>\n",
       "      <td>...</td>\n",
       "      <td>1302.745258</td>\n",
       "      <td>-465.988660</td>\n",
       "      <td>1214.062375</td>\n",
       "      <td>-466.526202</td>\n",
       "      <td>1077.402291</td>\n",
       "      <td>-464.228268</td>\n",
       "      <td>1025.775819</td>\n",
       "      <td>-464.549373</td>\n",
       "      <td>12.093194</td>\n",
       "      <td>5.962211</td>\n",
       "    </tr>\n",
       "    <tr>\n",
       "      <th>std</th>\n",
       "      <td>1.934376</td>\n",
       "      <td>1.922536</td>\n",
       "      <td>1.068227</td>\n",
       "      <td>5.221540</td>\n",
       "      <td>108.540067</td>\n",
       "      <td>22.903811</td>\n",
       "      <td>3.460023</td>\n",
       "      <td>1.155053</td>\n",
       "      <td>162.235606</td>\n",
       "      <td>94.652311</td>\n",
       "      <td>...</td>\n",
       "      <td>209.728859</td>\n",
       "      <td>55.261827</td>\n",
       "      <td>210.056163</td>\n",
       "      <td>55.701015</td>\n",
       "      <td>177.782042</td>\n",
       "      <td>59.132193</td>\n",
       "      <td>169.680255</td>\n",
       "      <td>59.622879</td>\n",
       "      <td>3.936742</td>\n",
       "      <td>1.225105</td>\n",
       "    </tr>\n",
       "    <tr>\n",
       "      <th>min</th>\n",
       "      <td>0.010000</td>\n",
       "      <td>0.010000</td>\n",
       "      <td>0.010000</td>\n",
       "      <td>0.010000</td>\n",
       "      <td>0.002986</td>\n",
       "      <td>0.049194</td>\n",
       "      <td>0.001083</td>\n",
       "      <td>0.000568</td>\n",
       "      <td>-0.042069</td>\n",
       "      <td>-657.949759</td>\n",
       "      <td>...</td>\n",
       "      <td>-0.056636</td>\n",
       "      <td>-647.544439</td>\n",
       "      <td>-0.992219</td>\n",
       "      <td>-648.390665</td>\n",
       "      <td>-1.982295</td>\n",
       "      <td>-649.443911</td>\n",
       "      <td>-2.593390</td>\n",
       "      <td>-649.949283</td>\n",
       "      <td>0.000077</td>\n",
       "      <td>0.000290</td>\n",
       "    </tr>\n",
       "    <tr>\n",
       "      <th>25%</th>\n",
       "      <td>6.932996</td>\n",
       "      <td>7.341922</td>\n",
       "      <td>2.868687</td>\n",
       "      <td>34.076253</td>\n",
       "      <td>411.020607</td>\n",
       "      <td>47.322462</td>\n",
       "      <td>10.002228</td>\n",
       "      <td>5.303563</td>\n",
       "      <td>999.644856</td>\n",
       "      <td>-499.861797</td>\n",
       "      <td>...</td>\n",
       "      <td>1150.739645</td>\n",
       "      <td>-500.214580</td>\n",
       "      <td>1060.476511</td>\n",
       "      <td>-500.369461</td>\n",
       "      <td>996.752246</td>\n",
       "      <td>-500.220652</td>\n",
       "      <td>900.713144</td>\n",
       "      <td>-500.518102</td>\n",
       "      <td>9.999554</td>\n",
       "      <td>5.301094</td>\n",
       "    </tr>\n",
       "    <tr>\n",
       "      <th>50%</th>\n",
       "      <td>8.225284</td>\n",
       "      <td>8.715859</td>\n",
       "      <td>3.524599</td>\n",
       "      <td>37.091668</td>\n",
       "      <td>498.144696</td>\n",
       "      <td>54.464259</td>\n",
       "      <td>12.003079</td>\n",
       "      <td>6.003001</td>\n",
       "      <td>1000.982624</td>\n",
       "      <td>-300.314199</td>\n",
       "      <td>...</td>\n",
       "      <td>1300.639429</td>\n",
       "      <td>-499.693772</td>\n",
       "      <td>1202.656040</td>\n",
       "      <td>-499.511621</td>\n",
       "      <td>1049.767982</td>\n",
       "      <td>-499.640275</td>\n",
       "      <td>999.870453</td>\n",
       "      <td>-499.451154</td>\n",
       "      <td>12.000739</td>\n",
       "      <td>6.003439</td>\n",
       "    </tr>\n",
       "    <tr>\n",
       "      <th>75%</th>\n",
       "      <td>9.832210</td>\n",
       "      <td>10.255843</td>\n",
       "      <td>4.253958</td>\n",
       "      <td>39.885734</td>\n",
       "      <td>549.576867</td>\n",
       "      <td>64.469177</td>\n",
       "      <td>14.917931</td>\n",
       "      <td>6.796563</td>\n",
       "      <td>1292.663971</td>\n",
       "      <td>-299.989315</td>\n",
       "      <td>...</td>\n",
       "      <td>1450.429812</td>\n",
       "      <td>-400.793268</td>\n",
       "      <td>1387.579519</td>\n",
       "      <td>-401.231087</td>\n",
       "      <td>1199.291235</td>\n",
       "      <td>-400.842206</td>\n",
       "      <td>1099.789243</td>\n",
       "      <td>-401.190552</td>\n",
       "      <td>14.827159</td>\n",
       "      <td>6.799110</td>\n",
       "    </tr>\n",
       "    <tr>\n",
       "      <th>max</th>\n",
       "      <td>13.731330</td>\n",
       "      <td>14.596026</td>\n",
       "      <td>7.052325</td>\n",
       "      <td>53.475325</td>\n",
       "      <td>717.508837</td>\n",
       "      <td>484.967466</td>\n",
       "      <td>36.118275</td>\n",
       "      <td>9.703448</td>\n",
       "      <td>1512.299531</td>\n",
       "      <td>-273.776101</td>\n",
       "      <td>...</td>\n",
       "      <td>2499.129174</td>\n",
       "      <td>-292.155509</td>\n",
       "      <td>1817.199290</td>\n",
       "      <td>-76.397327</td>\n",
       "      <td>1922.636637</td>\n",
       "      <td>-139.753025</td>\n",
       "      <td>1706.307502</td>\n",
       "      <td>-191.718480</td>\n",
       "      <td>37.980648</td>\n",
       "      <td>9.698407</td>\n",
       "    </tr>\n",
       "  </tbody>\n",
       "</table>\n",
       "<p>8 rows × 22 columns</p>\n",
       "</div>"
      ],
      "text/plain": [
       "       rougher.input.feed_au  rougher.input.feed_ag  rougher.input.feed_pb  \\\n",
       "count           14579.000000           14579.000000           14579.000000   \n",
       "mean                8.352941               8.877460               3.592094   \n",
       "std                 1.934376               1.922536               1.068227   \n",
       "min                 0.010000               0.010000               0.010000   \n",
       "25%                 6.932996               7.341922               2.868687   \n",
       "50%                 8.225284               8.715859               3.524599   \n",
       "75%                 9.832210              10.255843               4.253958   \n",
       "max                13.731330              14.596026               7.052325   \n",
       "\n",
       "       rougher.input.feed_sol  rougher.input.feed_rate  \\\n",
       "count            14579.000000             14579.000000   \n",
       "mean                36.545646               474.284502   \n",
       "std                  5.221540               108.540067   \n",
       "min                  0.010000                 0.002986   \n",
       "25%                 34.076253               411.020607   \n",
       "50%                 37.091668               498.144696   \n",
       "75%                 39.885734               549.576867   \n",
       "max                 53.475325               717.508837   \n",
       "\n",
       "       rougher.input.feed_size  rougher.input.floatbank10_sulfate  \\\n",
       "count             14579.000000                       14579.000000   \n",
       "mean                 59.070865                          12.406554   \n",
       "std                  22.903811                           3.460023   \n",
       "min                   0.049194                           0.001083   \n",
       "25%                  47.322462                          10.002228   \n",
       "50%                  54.464259                          12.003079   \n",
       "75%                  64.469177                          14.917931   \n",
       "max                 484.967466                          36.118275   \n",
       "\n",
       "       rougher.input.floatbank10_xanthate  rougher.state.floatbank10_a_air  \\\n",
       "count                        14579.000000                     14579.000000   \n",
       "mean                             5.993247                      1104.208278   \n",
       "std                              1.155053                       162.235606   \n",
       "min                              0.000568                        -0.042069   \n",
       "25%                              5.303563                       999.644856   \n",
       "50%                              6.003001                      1000.982624   \n",
       "75%                              6.796563                      1292.663971   \n",
       "max                              9.703448                      1512.299531   \n",
       "\n",
       "       rougher.state.floatbank10_a_level  ...  \\\n",
       "count                       14579.000000  ...   \n",
       "mean                         -379.367166  ...   \n",
       "std                            94.652311  ...   \n",
       "min                          -657.949759  ...   \n",
       "25%                          -499.861797  ...   \n",
       "50%                          -300.314199  ...   \n",
       "75%                          -299.989315  ...   \n",
       "max                          -273.776101  ...   \n",
       "\n",
       "       rougher.state.floatbank10_c_air  rougher.state.floatbank10_c_level  \\\n",
       "count                     14579.000000                       14579.000000   \n",
       "mean                       1302.745258                        -465.988660   \n",
       "std                         209.728859                          55.261827   \n",
       "min                          -0.056636                        -647.544439   \n",
       "25%                        1150.739645                        -500.214580   \n",
       "50%                        1300.639429                        -499.693772   \n",
       "75%                        1450.429812                        -400.793268   \n",
       "max                        2499.129174                        -292.155509   \n",
       "\n",
       "       rougher.state.floatbank10_d_air  rougher.state.floatbank10_d_level  \\\n",
       "count                     14579.000000                       14579.000000   \n",
       "mean                       1214.062375                        -466.526202   \n",
       "std                         210.056163                          55.701015   \n",
       "min                          -0.992219                        -648.390665   \n",
       "25%                        1060.476511                        -500.369461   \n",
       "50%                        1202.656040                        -499.511621   \n",
       "75%                        1387.579519                        -401.231087   \n",
       "max                        1817.199290                         -76.397327   \n",
       "\n",
       "       rougher.state.floatbank10_e_air  rougher.state.floatbank10_e_level  \\\n",
       "count                     14579.000000                       14579.000000   \n",
       "mean                       1077.402291                        -464.228268   \n",
       "std                         177.782042                          59.132193   \n",
       "min                          -1.982295                        -649.443911   \n",
       "25%                         996.752246                        -500.220652   \n",
       "50%                        1049.767982                        -499.640275   \n",
       "75%                        1199.291235                        -400.842206   \n",
       "max                        1922.636637                        -139.753025   \n",
       "\n",
       "       rougher.state.floatbank10_f_air  rougher.state.floatbank10_f_level  \\\n",
       "count                     14579.000000                       14579.000000   \n",
       "mean                       1025.775819                        -464.549373   \n",
       "std                         169.680255                          59.622879   \n",
       "min                          -2.593390                        -649.949283   \n",
       "25%                         900.713144                        -500.518102   \n",
       "50%                         999.870453                        -499.451154   \n",
       "75%                        1099.789243                        -401.190552   \n",
       "max                        1706.307502                        -191.718480   \n",
       "\n",
       "       rougher.input.floatbank11_sulfate  rougher.input.floatbank11_xanthate  \n",
       "count                       14579.000000                        14579.000000  \n",
       "mean                           12.093194                            5.962211  \n",
       "std                             3.936742                            1.225105  \n",
       "min                             0.000077                            0.000290  \n",
       "25%                             9.999554                            5.301094  \n",
       "50%                            12.000739                            6.003439  \n",
       "75%                            14.827159                            6.799110  \n",
       "max                            37.980648                            9.698407  \n",
       "\n",
       "[8 rows x 22 columns]"
      ]
     },
     "execution_count": 18,
     "metadata": {},
     "output_type": "execute_result"
    }
   ],
   "source": [
    "data_train[features_rougher].describe()"
   ]
  },
  {
   "cell_type": "markdown",
   "metadata": {},
   "source": [
    "### Выводы"
   ]
  },
  {
   "cell_type": "markdown",
   "metadata": {},
   "source": [
    "Анализ данных показал что есть пропуски, которые мы заполнили предыщим по времени значением. Проверка показала что эффективнотсь обагащения расчитана правильно. "
   ]
  },
  {
   "cell_type": "markdown",
   "metadata": {},
   "source": [
    "34 признака в обучающем наборе отсутсвуют в тестовом наборе. Эти признаки представлены типом параметра 'output' и 'calculation' и связаны с целевыми признаками. \n",
    "\n",
    "53 признака общие в наборах и имеют тип параметра 'input' и 'state'. Эти признаки будут использоваться для прогнозирования целевых . (возможно за исключением столбца  'data')"
   ]
  },
  {
   "cell_type": "markdown",
   "metadata": {},
   "source": [
    "В тестовую выборку не входят:\n",
    "- расчетные характеристики,\n",
    "- параметры продукта,\n",
    "- параметры финального продукта.\n",
    "\n",
    "Эти признаки связаны с целевым и их использование приведет к утечке целевого признака.\n",
    "При обучении модели эти признаки не будут использоваться."
   ]
  },
  {
   "cell_type": "markdown",
   "metadata": {},
   "source": [
    "## Анализ данных"
   ]
  },
  {
   "cell_type": "markdown",
   "metadata": {},
   "source": [
    "### Концентрация металлов (Au, Ag, Pb) на различных этапах"
   ]
  },
  {
   "cell_type": "markdown",
   "metadata": {},
   "source": [
    "Смотрим, как меняется концентрация металлов (Au, Ag, Pb) на различных этапах: в сырье, в черновом концентрате, в концентрате после первой очистки и в финальном концентрате. Изучаем особенности  распределения "
   ]
  },
  {
   "cell_type": "code",
   "execution_count": 19,
   "metadata": {},
   "outputs": [],
   "source": [
    "def data_plots(data,element):\n",
    "    columns_element = [\n",
    "        f'rougher.input.feed_{element.lower()}',\n",
    "        f'rougher.output.concentrate_{element.lower()}',\n",
    "        f'primary_cleaner.output.concentrate_{element.lower()}',\n",
    "        f'final.output.concentrate_{element.lower()}']\n",
    "    concentrate_element = data[columns_element]\n",
    "    concentrate_element.boxplot(grid=True)\n",
    "    \n",
    "    plt.title(f'{element}')\n",
    "    plt.xlabel(\"Этап\")\n",
    "    plt.ylabel(\"Концентрация, %\")\n",
    "    plt.xticks([1,2,3,4],['сырье','флотация','первый','второй/итоговый'],size=10)"
   ]
  },
  {
   "cell_type": "code",
   "execution_count": 20,
   "metadata": {},
   "outputs": [
    {
     "data": {
      "image/png": "[encoded data removed]",
      "text/plain": [
       "<Figure size 432x288 with 1 Axes>"
      ]
     },
     "metadata": {
      "needs_background": "light"
     },
     "output_type": "display_data"
    }
   ],
   "source": [
    "data_plots(data_train,'Au')"
   ]
  },
  {
   "cell_type": "code",
   "execution_count": 21,
   "metadata": {},
   "outputs": [
    {
     "data": {
      "image/png": "[encoded data removed]",
      "text/plain": [
       "<Figure size 432x288 with 1 Axes>"
      ]
     },
     "metadata": {
      "needs_background": "light"
     },
     "output_type": "display_data"
    }
   ],
   "source": [
    "data_plots(data_train,'Ag')"
   ]
  },
  {
   "cell_type": "code",
   "execution_count": 22,
   "metadata": {},
   "outputs": [
    {
     "data": {
      "image/png": "[encoded data removed]",
      "text/plain": [
       "<Figure size 432x288 with 1 Axes>"
      ]
     },
     "metadata": {
      "needs_background": "light"
     },
     "output_type": "display_data"
    }
   ],
   "source": [
    "data_plots(data_train,'Pb')"
   ]
  },
  {
   "cell_type": "markdown",
   "metadata": {},
   "source": [
    "**Вывод.** Анализ данных показал, что\n",
    "- концентация золота растет на каждем этапе обработки\n",
    "- концентрация ртути увеличивается после флотации и падает на следущих этапах\n",
    "- концентрация свинца увеличивается после флотации и первичной обработки\n",
    "- суммарная концентрация металов увеличивается после каждого этапа очистки"
   ]
  },
  {
   "cell_type": "markdown",
   "metadata": {},
   "source": [
    "### Распределения размеров гранул исходного сырья"
   ]
  },
  {
   "cell_type": "markdown",
   "metadata": {},
   "source": [
    "Сравниваем распределения размеров гранул исходного сырья на обучающей и тестовой выборках. Если распределения сильно отличаются друг от друга, оценка модели будет неправильной."
   ]
  },
  {
   "cell_type": "code",
   "execution_count": 23,
   "metadata": {},
   "outputs": [
    {
     "data": {
      "text/plain": [
       "0         55.486599\n",
       "1         57.278666\n",
       "2         57.510649\n",
       "3         57.792734\n",
       "4         56.047189\n",
       "            ...    \n",
       "14574     85.247019\n",
       "14575     83.860651\n",
       "14576     85.718304\n",
       "14577    119.499241\n",
       "14578    122.262690\n",
       "Name: rougher.input.feed_size, Length: 14579, dtype: float64"
      ]
     },
     "execution_count": 23,
     "metadata": {},
     "output_type": "execute_result"
    }
   ],
   "source": [
    "data_train['rougher.input.feed_size']"
   ]
  },
  {
   "cell_type": "code",
   "execution_count": 24,
   "metadata": {},
   "outputs": [
    {
     "name": "stdout",
     "output_type": "stream",
     "text": [
      "Характеричтики распределения размера по выборкам \n"
     ]
    },
    {
     "data": {
      "text/html": [
       "<div>\n",
       "<style scoped>\n",
       "    .dataframe tbody tr th:only-of-type {\n",
       "        vertical-align: middle;\n",
       "    }\n",
       "\n",
       "    .dataframe tbody tr th {\n",
       "        vertical-align: top;\n",
       "    }\n",
       "\n",
       "    .dataframe thead th {\n",
       "        text-align: right;\n",
       "    }\n",
       "</style>\n",
       "<table border=\"1\" class=\"dataframe\">\n",
       "  <thead>\n",
       "    <tr style=\"text-align: right;\">\n",
       "      <th></th>\n",
       "      <th>train_set</th>\n",
       "      <th>test_set</th>\n",
       "      <th>full_set</th>\n",
       "    </tr>\n",
       "  </thead>\n",
       "  <tbody>\n",
       "    <tr>\n",
       "      <th>count</th>\n",
       "      <td>14579.000000</td>\n",
       "      <td>4860.000000</td>\n",
       "      <td>19439.000000</td>\n",
       "    </tr>\n",
       "    <tr>\n",
       "      <th>mean</th>\n",
       "      <td>59.070865</td>\n",
       "      <td>59.136150</td>\n",
       "      <td>59.087187</td>\n",
       "    </tr>\n",
       "    <tr>\n",
       "      <th>std</th>\n",
       "      <td>22.903811</td>\n",
       "      <td>19.512497</td>\n",
       "      <td>22.104305</td>\n",
       "    </tr>\n",
       "    <tr>\n",
       "      <th>min</th>\n",
       "      <td>0.049194</td>\n",
       "      <td>0.046369</td>\n",
       "      <td>0.046369</td>\n",
       "    </tr>\n",
       "    <tr>\n",
       "      <th>25%</th>\n",
       "      <td>47.322462</td>\n",
       "      <td>47.610795</td>\n",
       "      <td>47.485797</td>\n",
       "    </tr>\n",
       "    <tr>\n",
       "      <th>50%</th>\n",
       "      <td>54.464259</td>\n",
       "      <td>55.461058</td>\n",
       "      <td>54.734792</td>\n",
       "    </tr>\n",
       "    <tr>\n",
       "      <th>75%</th>\n",
       "      <td>64.469177</td>\n",
       "      <td>66.538910</td>\n",
       "      <td>64.992522</td>\n",
       "    </tr>\n",
       "    <tr>\n",
       "      <th>max</th>\n",
       "      <td>484.967466</td>\n",
       "      <td>363.989699</td>\n",
       "      <td>484.967466</td>\n",
       "    </tr>\n",
       "  </tbody>\n",
       "</table>\n",
       "</div>"
      ],
      "text/plain": [
       "          train_set     test_set      full_set\n",
       "count  14579.000000  4860.000000  19439.000000\n",
       "mean      59.070865    59.136150     59.087187\n",
       "std       22.903811    19.512497     22.104305\n",
       "min        0.049194     0.046369      0.046369\n",
       "25%       47.322462    47.610795     47.485797\n",
       "50%       54.464259    55.461058     54.734792\n",
       "75%       64.469177    66.538910     64.992522\n",
       "max      484.967466   363.989699    484.967466"
      ]
     },
     "execution_count": 24,
     "metadata": {},
     "output_type": "execute_result"
    }
   ],
   "source": [
    "print('Характеричтики распределения размера по выборкам ')\n",
    "pd.concat({\n",
    "    'train_set': data_train['rougher.input.feed_size'].describe(), \n",
    "    'test_set':data_test['rougher.input.feed_size'].describe(),\n",
    "    'full_set': data_full['rougher.input.feed_size'].describe()},axis=1)"
   ]
  },
  {
   "cell_type": "code",
   "execution_count": 25,
   "metadata": {},
   "outputs": [
    {
     "name": "stderr",
     "output_type": "stream",
     "text": [
      "/opt/conda/lib/python3.9/site-packages/seaborn/distributions.py:2557: FutureWarning: `distplot` is a deprecated function and will be removed in a future version. Please adapt your code to use either `displot` (a figure-level function with similar flexibility) or `histplot` (an axes-level function for histograms).\n",
      "  warnings.warn(msg, FutureWarning)\n",
      "/opt/conda/lib/python3.9/site-packages/seaborn/distributions.py:2557: FutureWarning: `distplot` is a deprecated function and will be removed in a future version. Please adapt your code to use either `displot` (a figure-level function with similar flexibility) or `histplot` (an axes-level function for histograms).\n",
      "  warnings.warn(msg, FutureWarning)\n",
      "/opt/conda/lib/python3.9/site-packages/seaborn/distributions.py:2557: FutureWarning: `distplot` is a deprecated function and will be removed in a future version. Please adapt your code to use either `displot` (a figure-level function with similar flexibility) or `histplot` (an axes-level function for histograms).\n",
      "  warnings.warn(msg, FutureWarning)\n"
     ]
    },
    {
     "data": {
      "text/plain": [
       "<matplotlib.legend.Legend at 0x7f627a658eb0>"
      ]
     },
     "execution_count": 25,
     "metadata": {},
     "output_type": "execute_result"
    },
    {
     "data": {
      "image/png": "[encoded data removed]",
      "text/plain": [
       "<Figure size 432x288 with 1 Axes>"
      ]
     },
     "metadata": {
      "needs_background": "light"
     },
     "output_type": "display_data"
    }
   ],
   "source": [
    "sns.distplot(data_train['rougher.input.feed_size'], color = 'red', label='train_set').set_xlim(-100,150)\n",
    "sns.distplot(data_test['rougher.input.feed_size'], color = 'blue', label='test_set')\n",
    "sns.distplot(data_full['rougher.input.feed_size'], color = 'green', label='full_set')\n",
    "plt.legend()"
   ]
  },
  {
   "cell_type": "markdown",
   "metadata": {},
   "source": [
    "**Вывод** Представленный выше граффик демонстрирует, что полный набор данных, тестовая и тренировочная выборка имеют близкие распределения размера гранул в сырья, что представляет нам возможность построить модели для предсказания эффективности обогащения руды. "
   ]
  },
  {
   "cell_type": "markdown",
   "metadata": {},
   "source": [
    "### Суммарная концентрация металлов на разных стадиях"
   ]
  },
  {
   "cell_type": "markdown",
   "metadata": {},
   "source": [
    "Исследуем суммарную концентрацию металлов на разных стадиях: в сырье, в черновом концентрате, в концентрате после первой очистки и в финальном концентрате."
   ]
  },
  {
   "cell_type": "code",
   "execution_count": 26,
   "metadata": {},
   "outputs": [],
   "source": [
    "def data_boxplot(stage,data=data_train):\n",
    "    sns.boxplot(x=data[[stage+'_au',stage+'_ag',stage+'_pb']].sum(axis=1))"
   ]
  },
  {
   "cell_type": "code",
   "execution_count": 27,
   "metadata": {},
   "outputs": [
    {
     "name": "stdout",
     "output_type": "stream",
     "text": [
      "Этап сырьё\n",
      "count    14579.000000\n",
      "mean        20.822495\n",
      "std          4.473493\n",
      "min          0.030000\n",
      "25%         17.437178\n",
      "50%         20.391557\n",
      "75%         23.958572\n",
      "max         33.324268\n",
      "dtype: float64\n",
      "Этап флотация\n",
      "count    14579.000000\n",
      "mean        39.160677\n",
      "std          7.612800\n",
      "min          0.000000\n",
      "25%         38.408945\n",
      "50%         40.387044\n",
      "75%         42.448805\n",
      "max         55.568687\n",
      "dtype: float64\n",
      "Этап первичный\n",
      "count    14579.000000\n",
      "mean        50.207766\n",
      "std          8.083385\n",
      "min          0.000000\n",
      "25%         50.038413\n",
      "50%         51.884783\n",
      "75%         53.355726\n",
      "max         60.269003\n",
      "dtype: float64\n",
      "Этап финальный\n",
      "count    14579.000000\n",
      "mean        59.095246\n",
      "std          6.610075\n",
      "min          0.000000\n",
      "25%         59.274984\n",
      "50%         60.283034\n",
      "75%         61.068067\n",
      "max         64.968881\n",
      "dtype: float64\n"
     ]
    }
   ],
   "source": [
    "stages_list=['rougher.input.feed','rougher.output.concentrate','primary_cleaner.output.concentrate','final.output.concentrate']\n",
    "for i,stage in enumerate(stages_list):\n",
    "    print('Этап '+['сырьё','флотация','первичный','финальный'][i])\n",
    "    print(data_train[[stage+'_au',stage+'_ag',stage+'_pb']].sum(axis=1).describe())"
   ]
  },
  {
   "cell_type": "code",
   "execution_count": 28,
   "metadata": {},
   "outputs": [
    {
     "data": {
      "image/png": "[encoded data removed]",
      "text/plain": [
       "<Figure size 936x360 with 4 Axes>"
      ]
     },
     "metadata": {
      "needs_background": "light"
     },
     "output_type": "display_data"
    }
   ],
   "source": [
    "plt.subplots(4,1, figsize=(13,5))\n",
    "x_max=70\n",
    "\n",
    "plt.subplot(4,1,1)\n",
    "plt.xlim(0, x_max)\n",
    "data_boxplot('rougher.input.feed')\n",
    "plt.subplot(4,1,2)\n",
    "plt.xlim(0, x_max)\n",
    "data_boxplot('rougher.output.concentrate')\n",
    "plt.subplot(4,1,3)\n",
    "plt.xlim(0, x_max)\n",
    "data_boxplot('primary_cleaner.output.concentrate')\n",
    "plt.subplot(4,1,4)\n",
    "plt.xlim(0, x_max)\n",
    "data_boxplot('final.output.concentrate')"
   ]
  },
  {
   "cell_type": "code",
   "execution_count": 29,
   "metadata": {},
   "outputs": [],
   "source": [
    "#stage=\n",
    "#dat_sum=data_train[[stage+'_au',stage+'_ag',stage+'_pb']].sum(axis=1)\n",
    "def data_sum(stage):\n",
    "    dat_sum=data_train[[stage+'_au',stage+'_ag',stage+'_pb']].sum(axis=1)\n",
    "    return dat_sum"
   ]
  },
  {
   "cell_type": "code",
   "execution_count": 30,
   "metadata": {},
   "outputs": [],
   "source": [
    "threshold_list=[data_sum(s).quantile(q=0.03) for s in stages_list]"
   ]
  },
  {
   "cell_type": "code",
   "execution_count": 31,
   "metadata": {},
   "outputs": [
    {
     "name": "stdout",
     "output_type": "stream",
     "text": [
      "Пороги минимальных конценраций, на каждом этапе\n"
     ]
    },
    {
     "data": {
      "text/plain": [
       "rougher.input.feed                    13.703674\n",
       "rougher.output.concentrate            17.289482\n",
       "primary_cleaner.output.concentrate    28.886381\n",
       "final.output.concentrate              48.900814\n",
       "dtype: float64"
      ]
     },
     "execution_count": 31,
     "metadata": {},
     "output_type": "execute_result"
    }
   ],
   "source": [
    "print('Пороги минимальных конценраций, на каждом этапе')\n",
    "pd.Series(threshold_list,index = stages_list)"
   ]
  },
  {
   "cell_type": "markdown",
   "metadata": {},
   "source": [
    "Отбрасываем выбросы в руде и предполагаем что концентрация не должна уменьшаться. "
   ]
  },
  {
   "cell_type": "code",
   "execution_count": 32,
   "metadata": {},
   "outputs": [],
   "source": [
    "threshold_list=[threshold_list[0],threshold_list[0],threshold_list[0],threshold_list[0]]"
   ]
  },
  {
   "cell_type": "code",
   "execution_count": 33,
   "metadata": {},
   "outputs": [
    {
     "name": "stdout",
     "output_type": "stream",
     "text": [
      "Пороги минимальных конценраций, на каждом этапе\n"
     ]
    },
    {
     "data": {
      "text/plain": [
       "rougher.input.feed                    13.703674\n",
       "rougher.output.concentrate            13.703674\n",
       "primary_cleaner.output.concentrate    13.703674\n",
       "final.output.concentrate              13.703674\n",
       "dtype: float64"
      ]
     },
     "execution_count": 33,
     "metadata": {},
     "output_type": "execute_result"
    }
   ],
   "source": [
    "print('Пороги минимальных конценраций, на каждом этапе')\n",
    "pd.Series(threshold_list,index = stages_list)"
   ]
  },
  {
   "cell_type": "code",
   "execution_count": 34,
   "metadata": {},
   "outputs": [
    {
     "name": "stdout",
     "output_type": "stream",
     "text": [
      "14579\n"
     ]
    }
   ],
   "source": [
    "original_length=data_train.shape[0]\n",
    "print(original_length)"
   ]
  },
  {
   "cell_type": "code",
   "execution_count": 35,
   "metadata": {},
   "outputs": [
    {
     "data": {
      "text/plain": [
       "numpy.float64"
      ]
     },
     "execution_count": 35,
     "metadata": {},
     "output_type": "execute_result"
    }
   ],
   "source": [
    "type(threshold_list[0])"
   ]
  },
  {
   "cell_type": "code",
   "execution_count": 36,
   "metadata": {},
   "outputs": [
    {
     "name": "stdout",
     "output_type": "stream",
     "text": [
      "Доля аномальных записей 0.07696001097468963\n"
     ]
    }
   ],
   "source": [
    "data_sum_if=data_sum(stages_list[0]).copy().astype('bool')\n",
    "for i,thr in enumerate(threshold_list):\n",
    "    data_sum_if=data_sum_if & (data_sum(stages_list[i])>thr)\n",
    "    \n",
    "print('Доля аномальных записей',1-data_sum_if.sum()/original_length )"
   ]
  },
  {
   "cell_type": "code",
   "execution_count": 37,
   "metadata": {},
   "outputs": [],
   "source": [
    "data_train=data_train[data_sum_if]"
   ]
  },
  {
   "cell_type": "markdown",
   "metadata": {},
   "source": [
    "<a id=\"id:clean\"></a>"
   ]
  },
  {
   "cell_type": "code",
   "execution_count": 38,
   "metadata": {},
   "outputs": [
    {
     "data": {
      "image/png": "[encoded data removed]",
      "text/plain": [
       "<Figure size 936x360 with 4 Axes>"
      ]
     },
     "metadata": {
      "needs_background": "light"
     },
     "output_type": "display_data"
    }
   ],
   "source": [
    "data_train_clean=data_train\n",
    "plt.subplots(4,1, figsize=(13,5))\n",
    "x_max=70\n",
    "\n",
    "plt.subplot(4,1,1)\n",
    "plt.xlim(0, x_max)\n",
    "data_boxplot('rougher.input.feed',data_train_clean)\n",
    "plt.subplot(4,1,2)\n",
    "plt.xlim(0, x_max)\n",
    "data_boxplot('rougher.output.concentrate',data_train_clean)\n",
    "plt.subplot(4,1,3)\n",
    "plt.xlim(0, x_max)\n",
    "data_boxplot('primary_cleaner.output.concentrate',data_train_clean)\n",
    "plt.subplot(4,1,4)\n",
    "plt.xlim(0, x_max)\n",
    "data_boxplot('final.output.concentrate',data_train_clean)"
   ]
  },
  {
   "cell_type": "markdown",
   "metadata": {},
   "source": [
    "### Корреляции между целевым признаком и другими признаками"
   ]
  },
  {
   "cell_type": "code",
   "execution_count": 39,
   "metadata": {},
   "outputs": [
    {
     "data": {
      "text/plain": [
       "rougher.input.feed_size               0.057889\n",
       "rougher.input.floatbank11_sulfate     0.084773\n",
       "rougher.input.feed_rate               0.089362\n",
       "rougher.input.floatbank10_sulfate     0.104980\n",
       "rougher.state.floatbank10_f_level     0.140876\n",
       "rougher.state.floatbank10_e_level     0.146129\n",
       "rougher.state.floatbank10_d_level     0.162480\n",
       "rougher.state.floatbank10_c_level     0.169640\n",
       "rougher.state.floatbank10_b_level     0.171976\n",
       "rougher.state.floatbank10_f_air       0.178625\n",
       "rougher.state.floatbank10_e_air       0.241964\n",
       "rougher.state.floatbank10_b_air       0.273593\n",
       "rougher.input.floatbank11_xanthate    0.300855\n",
       "rougher.state.floatbank10_a_level     0.305492\n",
       "rougher.state.floatbank10_d_air       0.323278\n",
       "rougher.state.floatbank10_c_air       0.325157\n",
       "rougher.input.feed_sol                0.333871\n",
       "rougher.input.floatbank10_xanthate    0.340454\n",
       "rougher.state.floatbank10_a_air       0.384755\n",
       "rougher.input.feed_pb                 0.398032\n",
       "rougher.input.feed_ag                 0.441839\n",
       "rougher.input.feed_au                 0.446786\n",
       "rougher.output.recovery               1.000000\n",
       "Name: rougher.output.recovery, dtype: float64"
      ]
     },
     "execution_count": 39,
     "metadata": {},
     "output_type": "execute_result"
    }
   ],
   "source": [
    "data_train[features_rougher+labels[:1]].corr()['rougher.output.recovery'].abs().sort_values()"
   ]
  },
  {
   "cell_type": "code",
   "execution_count": 40,
   "metadata": {},
   "outputs": [
    {
     "data": {
      "text/plain": [
       "secondary_cleaner.state.floatbank4_a_level    0.015990\n",
       "secondary_cleaner.state.floatbank5_b_level    0.017644\n",
       "primary_cleaner.input.feed_size               0.020168\n",
       "primary_cleaner.state.floatbank8_c_level      0.022905\n",
       "primary_cleaner.state.floatbank8_b_level      0.023026\n",
       "primary_cleaner.state.floatbank8_a_level      0.023124\n",
       "primary_cleaner.state.floatbank8_d_level      0.023684\n",
       "secondary_cleaner.state.floatbank4_b_level    0.032893\n",
       "secondary_cleaner.state.floatbank3_a_level    0.042265\n",
       "secondary_cleaner.state.floatbank6_a_level    0.051842\n",
       "secondary_cleaner.state.floatbank5_a_level    0.056469\n",
       "secondary_cleaner.state.floatbank3_b_air      0.060384\n",
       "secondary_cleaner.state.floatbank2_a_level    0.077210\n",
       "secondary_cleaner.state.floatbank2_b_level    0.087327\n",
       "primary_cleaner.state.floatbank8_d_air        0.098261\n",
       "secondary_cleaner.state.floatbank3_b_level    0.115782\n",
       "secondary_cleaner.state.floatbank2_a_air      0.145901\n",
       "secondary_cleaner.state.floatbank5_a_air      0.162254\n",
       "primary_cleaner.state.floatbank8_a_air        0.164150\n",
       "secondary_cleaner.state.floatbank6_a_air      0.170128\n",
       "secondary_cleaner.state.floatbank5_b_air      0.179131\n",
       "primary_cleaner.state.floatbank8_c_air        0.180069\n",
       "secondary_cleaner.state.floatbank2_b_air      0.186092\n",
       "primary_cleaner.input.depressant              0.191594\n",
       "primary_cleaner.state.floatbank8_b_air        0.195086\n",
       "secondary_cleaner.state.floatbank3_a_air      0.226152\n",
       "primary_cleaner.input.xanthate                0.259769\n",
       "secondary_cleaner.state.floatbank4_a_air      0.336410\n",
       "secondary_cleaner.state.floatbank4_b_air      0.358259\n",
       "primary_cleaner.input.sulfate                 0.496794\n",
       "rougher.output.recovery                       1.000000\n",
       "Name: rougher.output.recovery, dtype: float64"
      ]
     },
     "execution_count": 40,
     "metadata": {},
     "output_type": "execute_result"
    }
   ],
   "source": [
    "data_train[features[22:]+labels[:1]].corr()['rougher.output.recovery'].abs().sort_values()"
   ]
  },
  {
   "cell_type": "code",
   "execution_count": 41,
   "metadata": {},
   "outputs": [
    {
     "data": {
      "text/plain": [
       "secondary_cleaner.state.floatbank5_a_level    0.004639\n",
       "secondary_cleaner.state.floatbank3_a_level    0.009558\n",
       "secondary_cleaner.state.floatbank2_a_level    0.010214\n",
       "secondary_cleaner.state.floatbank5_b_level    0.011719\n",
       "secondary_cleaner.state.floatbank6_a_level    0.017497\n",
       "secondary_cleaner.state.floatbank2_b_level    0.023714\n",
       "primary_cleaner.state.floatbank8_b_level      0.024859\n",
       "secondary_cleaner.state.floatbank4_a_level    0.026442\n",
       "primary_cleaner.state.floatbank8_c_level      0.035418\n",
       "secondary_cleaner.state.floatbank3_b_level    0.036483\n",
       "primary_cleaner.state.floatbank8_a_level      0.038761\n",
       "rougher.input.floatbank11_sulfate             0.044811\n",
       "rougher.input.floatbank10_sulfate             0.047128\n",
       "primary_cleaner.state.floatbank8_d_level      0.047715\n",
       "secondary_cleaner.state.floatbank6_a_air      0.052724\n",
       "rougher.input.feed_size                       0.053122\n",
       "primary_cleaner.input.feed_size               0.056399\n",
       "secondary_cleaner.state.floatbank5_b_air      0.061950\n",
       "secondary_cleaner.state.floatbank5_a_air      0.065230\n",
       "secondary_cleaner.state.floatbank4_b_level    0.066346\n",
       "rougher.state.floatbank10_f_level             0.067356\n",
       "primary_cleaner.state.floatbank8_d_air        0.068509\n",
       "secondary_cleaner.state.floatbank3_b_air      0.070635\n",
       "rougher.state.floatbank10_e_level             0.075910\n",
       "rougher.state.floatbank10_b_level             0.085756\n",
       "rougher.state.floatbank10_d_level             0.085954\n",
       "rougher.state.floatbank10_a_level             0.087604\n",
       "rougher.state.floatbank10_f_air               0.091614\n",
       "rougher.state.floatbank10_c_level             0.093173\n",
       "secondary_cleaner.state.floatbank2_a_air      0.120786\n",
       "rougher.state.floatbank10_e_air               0.123977\n",
       "rougher.state.floatbank10_b_air               0.142692\n",
       "primary_cleaner.state.floatbank8_c_air        0.143851\n",
       "secondary_cleaner.state.floatbank2_b_air      0.146906\n",
       "rougher.input.feed_rate                       0.153266\n",
       "primary_cleaner.state.floatbank8_a_air        0.154248\n",
       "primary_cleaner.input.depressant              0.163869\n",
       "rougher.input.feed_pb                         0.167110\n",
       "secondary_cleaner.state.floatbank3_a_air      0.168149\n",
       "rougher.state.floatbank10_d_air               0.173592\n",
       "primary_cleaner.state.floatbank8_b_air        0.175459\n",
       "rougher.state.floatbank10_c_air               0.185683\n",
       "secondary_cleaner.state.floatbank4_b_air      0.199336\n",
       "secondary_cleaner.state.floatbank4_a_air      0.208012\n",
       "rougher.state.floatbank10_a_air               0.232041\n",
       "primary_cleaner.input.xanthate                0.239778\n",
       "rougher.input.feed_sol                        0.240821\n",
       "rougher.input.floatbank11_xanthate            0.313425\n",
       "rougher.input.feed_au                         0.329351\n",
       "rougher.input.feed_ag                         0.332576\n",
       "rougher.input.floatbank10_xanthate            0.345422\n",
       "primary_cleaner.input.sulfate                 0.371625\n",
       "rougher.output.recovery                       0.616430\n",
       "final.output.recovery                         1.000000\n",
       "Name: final.output.recovery, dtype: float64"
      ]
     },
     "execution_count": 41,
     "metadata": {},
     "output_type": "execute_result"
    }
   ],
   "source": [
    "data_train[features_final+labels].corr()['final.output.recovery'].abs().sort_values()"
   ]
  },
  {
   "cell_type": "markdown",
   "metadata": {},
   "source": [
    "### Выводы"
   ]
  },
  {
   "cell_type": "markdown",
   "metadata": {},
   "source": [
    "Анализ данных показал, что\n",
    "- концентация золота растет на каждем этапе обработки\n",
    "- концентрация ртути увеличивается после флотации и падает на следущих этапах\n",
    "- концентрация свинца увеличивается после флотации и первичной обработки\n",
    "- суммартая концентрация металов увеличивается после каждого этапа очистки\n",
    "\n",
    "Выявленна аномалия в суммарной концентрации металов в тестовых данных по всем этапам очистки. Концетрацию в руде ниже 3% кварталя считаем аномальной, пороговая концентрация составляет 13.7. Также после флотации, первичной и вторичной обработки концентация не должна падать, все данные с концентрацией ниже чем пороговой убрали из данных. Такая чистка убирает 7.7% от всех данных. "
   ]
  },
  {
   "cell_type": "markdown",
   "metadata": {},
   "source": [
    "## Модель"
   ]
  },
  {
   "cell_type": "markdown",
   "metadata": {},
   "source": [
    "### Напишим функцию для вычисления sMAPE"
   ]
  },
  {
   "cell_type": "markdown",
   "metadata": {},
   "source": [
    "$$\\text{sMaPE} = \\frac 1N \\sum_{i=1}^N\\frac{|y_i-\\hat y_i|}{(|y_i|+|\\hat y_i|)/2}*100\\%$$"
   ]
  },
  {
   "cell_type": "markdown",
   "metadata": {},
   "source": [
    "def smape_final(target,prediction):\n",
    "    N = len(target)\n",
    "    for_sum = np.abs(target - prediction) / ((np.abs(target) + np.abs(prediction))/2)\n",
    "    smape_list = np.sum(for_sum) * 100 / N\n",
    "    final_smape = 0.25*smape_list[0] + 0.75*smape_list[1]\n",
    "    return final_smape"
   ]
  },
  {
   "cell_type": "code",
   "execution_count": 42,
   "metadata": {},
   "outputs": [],
   "source": [
    "def smape(target,prediction):\n",
    "    N = len(target)\n",
    "    for_sum = np.abs(target - prediction) / ((np.abs(target) + np.abs(prediction))/2)\n",
    "    smape = np.sum(for_sum) * 100 / N\n",
    "    return smape"
   ]
  },
  {
   "cell_type": "code",
   "execution_count": 43,
   "metadata": {},
   "outputs": [],
   "source": [
    "def smape_final(smape_raf,smape_fin):\n",
    "    return 0.25*smape_raf+0.75*smape_fin"
   ]
  },
  {
   "cell_type": "code",
   "execution_count": 44,
   "metadata": {},
   "outputs": [],
   "source": [
    "# разбиение на подвыборки для кросс-валидации\n",
    "kf = KFold(n_splits=5, shuffle=True, random_state=0)\n",
    "\n",
    "# подготовим метрику для дальнейшего использования\n",
    "smape_score = make_scorer(smape, greater_is_better=False)"
   ]
  },
  {
   "cell_type": "markdown",
   "metadata": {},
   "source": [
    "### Обучение моделей"
   ]
  },
  {
   "cell_type": "markdown",
   "metadata": {},
   "source": [
    "#### Маштабирование"
   ]
  },
  {
   "cell_type": "code",
   "execution_count": 45,
   "metadata": {},
   "outputs": [],
   "source": [
    "scaler = StandardScaler()\n",
    "scaler.fit(data_train[features])\n",
    "data_train_scaled=data_train[features].copy()\n",
    "data_train_scaled[features] = scaler.transform(data_train[features])"
   ]
  },
  {
   "cell_type": "code",
   "execution_count": 46,
   "metadata": {},
   "outputs": [],
   "source": [
    "data_test_scaled=data_test[features].copy()\n",
    "data_test_scaled[features] = scaler.transform(data_test[features])"
   ]
  },
  {
   "cell_type": "code",
   "execution_count": 47,
   "metadata": {},
   "outputs": [],
   "source": [
    "data_test=data_test.merge(data_full[['date']+labels], on='date')"
   ]
  },
  {
   "cell_type": "markdown",
   "metadata": {},
   "source": [
    "#### Dummy model"
   ]
  },
  {
   "cell_type": "code",
   "execution_count": 48,
   "metadata": {},
   "outputs": [],
   "source": [
    "from sklearn.dummy import DummyRegressor"
   ]
  },
  {
   "cell_type": "code",
   "execution_count": 49,
   "metadata": {},
   "outputs": [
    {
     "name": "stdout",
     "output_type": "stream",
     "text": [
      "smape для rougher 88212.85786886857\n"
     ]
    }
   ],
   "source": [
    "model_dummy = DummyRegressor(strategy='mean')\n",
    "\n",
    "model_dummy.fit(data_train_scaled[features_rougher],data_train[[labels[0]]])\n",
    "prediction_dummy = model_dummy.predict(data_train_scaled[features_rougher])\n",
    "\n",
    "smape_raf=smape(data_train[labels[:1]].to_numpy(),prediction_dummy)\n",
    "print('smape для rougher', smape_raf)"
   ]
  },
  {
   "cell_type": "markdown",
   "metadata": {},
   "source": [
    "При использовании самостоятельного кода ответ получается тотже  \n",
    "`\n",
    "prediction_dummy=np.full(data_train[labels[0]].shape ,data_train[labels[0]].mean())\n",
    "smape(data_train[labels[:1]].to_numpy(),prediction_dummy)\n",
    "`\n",
    "\n",
    "88212.85786886857"
   ]
  },
  {
   "cell_type": "code",
   "execution_count": 50,
   "metadata": {},
   "outputs": [
    {
     "name": "stdout",
     "output_type": "stream",
     "text": [
      "smape для финальной стадии 310232.3091136484\n"
     ]
    }
   ],
   "source": [
    "model_dummy = DummyRegressor(strategy='mean')\n",
    "\n",
    "model_dummy.fit(data_train_scaled[features_final],data_train[[labels[1]]])\n",
    "prediction_dummy = model_dummy.predict(data_train_scaled[features_final])\n",
    "\n",
    "smape_fin=smape(data_train[labels[:1]].to_numpy(),prediction_dummy)\n",
    "print('smape для финальной стадии', smape_fin)"
   ]
  },
  {
   "cell_type": "code",
   "execution_count": 51,
   "metadata": {},
   "outputs": [
    {
     "name": "stdout",
     "output_type": "stream",
     "text": [
      "Итоговое значение smape для Dummy regressor 143717.72068006353\n"
     ]
    }
   ],
   "source": [
    "print('Итоговое значение smape для Dummy regressor', smape_final(smape_fin,smape_raf))"
   ]
  },
  {
   "cell_type": "markdown",
   "metadata": {},
   "source": [
    "#### Линейная модель"
   ]
  },
  {
   "cell_type": "code",
   "execution_count": 52,
   "metadata": {},
   "outputs": [],
   "source": [
    "linear_rougher=LinearRegression()\n",
    "linear_final=LinearRegression()\n",
    "#linear_rougher.fit(data_train_scaled[features_rougher],data_train[[labels[0]]])\n",
    "#linear_final.fit(data_train_scaled[features_final],data_train[[labels[1]]])"
   ]
  },
  {
   "cell_type": "code",
   "execution_count": 53,
   "metadata": {},
   "outputs": [],
   "source": [
    "#prediction_rougher=linear_rougher.predict(data_train_scaled[features_rougher])\n",
    "#prediction_final=linear_final.predict(data_train_scaled[features_final])"
   ]
  },
  {
   "cell_type": "code",
   "execution_count": 54,
   "metadata": {},
   "outputs": [
    {
     "name": "stdout",
     "output_type": "stream",
     "text": [
      "Final smape= 6.699695845627518\n"
     ]
    }
   ],
   "source": [
    "scores_rougher = - cross_val_score(linear_rougher,\n",
    "                             data_train_scaled[features_rougher],data_train[[labels[0]]],\n",
    "                             cv=kf,\n",
    "                             scoring=smape_score)\n",
    "\n",
    "scores_final = - cross_val_score(linear_final,\n",
    "                             data_train_scaled[features_final],data_train[[labels[1]]],\n",
    "                             cv=kf,\n",
    "                             scoring=smape_score)\n",
    "\n",
    "\n",
    "#print(np.mean(scores_rougher))\n",
    "#print(np.mean(scores_final))\n",
    "print('Final smape=',0.25*np.mean(scores_rougher)+0.75*np.mean(scores_final))"
   ]
  },
  {
   "cell_type": "markdown",
   "metadata": {},
   "source": [
    "#### Случайный лес"
   ]
  },
  {
   "cell_type": "code",
   "execution_count": 55,
   "metadata": {},
   "outputs": [
    {
     "name": "stdout",
     "output_type": "stream",
     "text": [
      "CPU times: user 3 µs, sys: 5 µs, total: 8 µs\n",
      "Wall time: 7.87 µs\n"
     ]
    }
   ],
   "source": [
    "%%time\n",
    "\n",
    "if fitting:\n",
    "    parameters_grid = {\n",
    "        'n_estimators': list(range(8,14,2)), \n",
    "        'max_depth': [6,10], \n",
    "        'min_samples_split': [2, 3]\n",
    "        }# обучение\n",
    "    print('Количество моделей', np.prod([len(i) for i in parameters_grid.values()]))\n",
    "    model_rougher = RandomForestRegressor(random_state=12345) \n",
    "    model_final = RandomForestRegressor(random_state=12345)\n",
    "    cv_forest_rougher = GridSearchCV(\n",
    "        estimator=model_rougher, \n",
    "        param_grid=parameters_grid , \n",
    "        cv= kf, \n",
    "        scoring=smape_score,\n",
    "        verbose=1)\n",
    "    cv_forest_final = GridSearchCV(\n",
    "        estimator=model_final, \n",
    "        param_grid=parameters_grid , \n",
    "        cv= kf, \n",
    "        scoring=smape_score,\n",
    "        verbose=1)\n",
    "    cv_forest_final.fit(data_train_scaled[features_final],data_train[labels[1]])\n",
    "    cv_forest_rougher.fit(data_train_scaled[features_rougher],data_train[labels[0]])\n",
    "    \n",
    "    parameters_rougher=cv_forest_rougher.best_params_\n",
    "    parameters_final=cv_forest_final.best_params_\n",
    "    \n",
    "    print('parameters_rougher=',parameters_rougher)\n",
    "    print('parameters_final=',parameters_final)\n",
    "    print('best score for rougher=',-cv_forest_rougher.best_score_)\n",
    "    print('best score for final=',-cv_forest_final.best_score_)\n",
    "    \n",
    "else:\n",
    "    parameters_rougher= {'max_depth': 10, 'min_samples_split': 2, 'n_estimators': 12} #8}\n",
    "    parameters_final= {'max_depth': 10, 'min_samples_split': 3, 'n_estimators': 12}"
   ]
  },
  {
   "cell_type": "code",
   "execution_count": 56,
   "metadata": {},
   "outputs": [
    {
     "name": "stdout",
     "output_type": "stream",
     "text": [
      "mean(scores_rougher)= 3.062083635056326\n",
      "np.mean(scores_final)= 6.055712302883766\n",
      "Итоговый smape= [5.28288647 5.3306345  5.28054394 5.43503696 5.20742382]\n",
      "Средний итоговый smape= 5.307305135926906\n",
      "CPU times: user 26.4 s, sys: 0 ns, total: 26.4 s\n",
      "Wall time: 26.4 s\n"
     ]
    }
   ],
   "source": [
    "%%time \n",
    "model_rougher = RandomForestRegressor(random_state=12345,**parameters_rougher) \n",
    "model_final = RandomForestRegressor(random_state=12345,**parameters_final)\n",
    "\n",
    "scores_rougher = - cross_val_score(model_rougher,\n",
    "                             data_train_scaled[features_rougher],data_train[labels[0]],\n",
    "                             cv=kf,\n",
    "                             scoring=smape_score)\n",
    "\n",
    "scores_final = - cross_val_score(model_final,\n",
    "                             data_train_scaled[features_final],data_train[labels[1]],\n",
    "                             cv=kf,\n",
    "                             scoring=smape_score)\n",
    "\n",
    "\n",
    "print('mean(scores_rougher)=',np.mean(scores_rougher))\n",
    "print('np.mean(scores_final)=',np.mean(scores_final))\n",
    "print('Итоговый smape=',0.25*scores_rougher+0.75*scores_final)\n",
    "print('Средний итоговый smape=',0.25*np.mean(scores_rougher)+0.75*np.mean(scores_final))"
   ]
  },
  {
   "cell_type": "markdown",
   "metadata": {},
   "source": [
    "#### Дерево решений"
   ]
  },
  {
   "cell_type": "code",
   "execution_count": 57,
   "metadata": {},
   "outputs": [
    {
     "name": "stdout",
     "output_type": "stream",
     "text": [
      "CPU times: user 4 µs, sys: 0 ns, total: 4 µs\n",
      "Wall time: 6.44 µs\n"
     ]
    }
   ],
   "source": [
    "%%time\n",
    "\n",
    "if fitting:\n",
    "    parameters_grid = {\n",
    "        'max_depth': list(range(10,30,2))\n",
    "        }\n",
    "    print('Количество моделей', np.prod([len(i) for i in parameters_grid.values()]))\n",
    "    model_tree_rougher = DecisionTreeRegressor(random_state=12345)\n",
    "    model_tree_final = DecisionTreeRegressor(random_state=12345)\n",
    "    cv_tree_rougher = GridSearchCV(estimator=model_tree_rougher, \n",
    "        param_grid=parameters_grid , \n",
    "        cv= kf, \n",
    "        scoring=smape_score,\n",
    "        verbose=1)\n",
    "    cv_tree_final = GridSearchCV(estimator=model_tree_final, \n",
    "        param_grid=parameters_grid , \n",
    "        cv= kf, \n",
    "        scoring=smape_score,\n",
    "        verbose=1)\n",
    "    cv_tree_rougher.fit(data_train_scaled[features_rougher],data_train[labels[0]])\n",
    "    cv_tree_final.fit(data_train_scaled[features_final],data_train[labels[1]])\n",
    "    \n",
    "    parameters_rougher=cv_tree_rougher.best_params_\n",
    "    parameters_final=cv_tree_final.best_params_\n",
    "    \n",
    "    print('parameters_rougher=',parameters_rougher)\n",
    "    print('parameters_final=',parameters_final)\n",
    "    print('best score for rougher=',cv_tree_rougher.best_score_)\n",
    "    print('best score for final=',cv_tree_final.best_score_)\n",
    "    \n",
    "else:\n",
    "    parameters_rougher= {'max_depth': 22}\n",
    "    parameters_final= {'max_depth': 10} #12}"
   ]
  },
  {
   "cell_type": "code",
   "execution_count": 58,
   "metadata": {},
   "outputs": [
    {
     "name": "stdout",
     "output_type": "stream",
     "text": [
      "mean(scores_rougher)= 3.560552942274591\n",
      "np.mean(scores_final)= 6.830428319833084\n",
      "Итоговый smape= [5.93978031 6.08542759 6.0536353  6.0947235  5.89123068]\n",
      "Средний итоговый smape= 6.012959475443461\n",
      "CPU times: user 3.97 s, sys: 0 ns, total: 3.97 s\n",
      "Wall time: 3.98 s\n"
     ]
    }
   ],
   "source": [
    "%%time \n",
    "model_tree_rougher = DecisionTreeRegressor(random_state=12345,**parameters_rougher) \n",
    "model_tree_final = DecisionTreeRegressor(random_state=12345,**parameters_final)\n",
    "\n",
    "scores_rougher = - cross_val_score(model_tree_rougher,\n",
    "                             data_train_scaled[features_rougher],data_train[labels[0]],\n",
    "                             cv=kf,\n",
    "                             scoring=smape_score)\n",
    "\n",
    "scores_final = - cross_val_score(model_tree_final,\n",
    "                             data_train_scaled[features_final],data_train[labels[1]],\n",
    "                             cv=kf,\n",
    "                             scoring=smape_score)\n",
    "\n",
    "\n",
    "print('mean(scores_rougher)=',np.mean(scores_rougher))\n",
    "print('np.mean(scores_final)=',np.mean(scores_final))\n",
    "print('Итоговый smape=',0.25*scores_rougher+0.75*scores_final)\n",
    "print('Средний итоговый smape=',0.25*np.mean(scores_rougher)+0.75*np.mean(scores_final))"
   ]
  },
  {
   "cell_type": "markdown",
   "metadata": {},
   "source": [
    "#### catboost"
   ]
  },
  {
   "cell_type": "markdown",
   "metadata": {},
   "source": [
    "Catboost не получилось настроить . "
   ]
  },
  {
   "cell_type": "markdown",
   "metadata": {},
   "source": [
    "from catboost import CatBoostRegressor\n",
    "from catboost import Pool, cv\n",
    "\n",
    "class smape_loss(object):\n",
    "    def get_final_error(self, error, weight):\n",
    "        return error\n",
    "\n",
    "    def is_max_optimal(self):\n",
    "        # the larger metric value the better\n",
    "        return False\n",
    "\n",
    "    def evaluate(self, approxes, target, weight):\n",
    "        assert len(approxes) == 1\n",
    "        assert len(target) == len(approxes[0])\n",
    "        preds = np.array(approxes[0])\n",
    "        target = np.array(target)\n",
    "        return smape(target,preds) , 1\n",
    "    \n",
    "model_rougher = CatBoostRegressor(iterations=1000,\n",
    "                          learning_rate=1,\n",
    "                          depth=2,  verbose=False) #,loss_function=smape_loss)\n",
    "model_final = CatBoostRegressor(iterations=1000,\n",
    "                          learning_rate=1,\n",
    "                          depth=2,  verbose=False) #,loss_function=smape_loss)\n",
    "\n",
    "\n",
    "model_rougher.fit(data_train_scaled[features_rougher],data_train[labels[0]])\n",
    "model_final.fit(data_train_scaled[features_final],data_train[labels[1]])\n",
    "\n",
    "preds_rougher = model_rougher.predict(data_train_scaled[features_rougher])\n",
    "preds_final   = model_final.predict(data_train_scaled[features_final])\n",
    "\n",
    "(0.25*smape(preds_rougher,data_train[labels[0]]) + 0.75*smape(preds_final,data_train[labels[1]]))\n",
    "\n",
    "scores_rougher = cross_val_score(model_rougher,\n",
    "                             data_train_scaled[features_rougher],data_train[labels[0]],\n",
    "                             cv=kf,\n",
    "                             scoring=smape_score)"
   ]
  },
  {
   "cell_type": "markdown",
   "metadata": {},
   "source": [
    "### Оценка качества качества кросс-валидацией"
   ]
  },
  {
   "cell_type": "markdown",
   "metadata": {},
   "source": [
    "Наименьшй средний итоговый smape показала модель случайного леса : 5.3"
   ]
  },
  {
   "cell_type": "code",
   "execution_count": 59,
   "metadata": {},
   "outputs": [
    {
     "data": {
      "text/plain": [
       "RandomForestRegressor(max_depth=10, min_samples_split=3, n_estimators=12,\n",
       "                      random_state=12345)"
      ]
     },
     "execution_count": 59,
     "metadata": {},
     "output_type": "execute_result"
    }
   ],
   "source": [
    "model_rougher.fit(data_train_scaled[features_rougher],data_train[labels[0]])\n",
    "model_final.fit(data_train_scaled[features_final],data_train[labels[1]])"
   ]
  },
  {
   "cell_type": "code",
   "execution_count": 60,
   "metadata": {},
   "outputs": [],
   "source": [
    "predict_rougher=model_rougher.predict(data_test_scaled[features_rougher])\n",
    "predict_final=model_final.predict(data_test_scaled[features_final])"
   ]
  },
  {
   "cell_type": "code",
   "execution_count": 61,
   "metadata": {},
   "outputs": [
    {
     "name": "stdout",
     "output_type": "stream",
     "text": [
      "Итоговый smape для тестовых данных 6.002520829941347\n"
     ]
    }
   ],
   "source": [
    "raf=smape(data_test[labels[0]],predict_rougher)\n",
    "fin=smape(data_test[labels[1]],predict_final)\n",
    "final_smape=0.25*raf+0.75*fin\n",
    "print('Итоговый smape для тестовых данных',final_smape)"
   ]
  },
  {
   "cell_type": "markdown",
   "metadata": {},
   "source": [
    "## Общий вывод по проекту"
   ]
  },
  {
   "cell_type": "markdown",
   "metadata": {},
   "source": [
    "Были изученные данные обогащения золота. \n",
    "Выявленна аномалия в суммарной концентрации металов в тестовых данных по всем этапам очистки. Ошибочными были приняты данных в которых суммарная концентрация 13.7, что является  3% квартелем для данных по сырью. Доля аномалий составила 7.7% от всех данных.\n",
    "Обнаруженные пропуски были заменяны прыдущими по времени значениями. Проведеная проверка верности расчета эффективности обогащения не выявила ошибок. Размер граннул и его распределение во всех выборках  одинаково, что позволяет строить модели. Мы рассмотрели 3 модели:\n",
    "- линейная модель \n",
    "- решающее дерево\n",
    "- случайный лес \n",
    "\n",
    "Для последних двух моделей мы провели поиск оптимальнаых гиперпараметров. для всех моделей мы проводили кроссвалидащию. Моделью с наилучшей метрикой оказалась моделью случайного леса с значением итоговой smape для тестовой выборке:\n",
    "\n",
    "Итоговое sMAPE = 6.0 для тестовой выборки"
   ]
  }
 ],
 "metadata": {
  "ExecuteTimeLog": [
   {
    "duration": 51,
    "start_time": "2023-06-13T07:24:28.631Z"
   },
   {
    "duration": 422,
    "start_time": "2023-06-13T07:24:31.270Z"
   },
   {
    "duration": 72,
    "start_time": "2023-06-13T07:24:31.694Z"
   },
   {
    "duration": 74,
    "start_time": "2023-06-13T07:24:44.962Z"
   },
   {
    "duration": 1188,
    "start_time": "2023-06-13T07:25:02.742Z"
   },
   {
    "duration": 2195,
    "start_time": "2023-06-13T07:40:48.714Z"
   },
   {
    "duration": 774,
    "start_time": "2023-06-13T07:41:07.710Z"
   },
   {
    "duration": 11,
    "start_time": "2023-06-13T07:44:58.072Z"
   },
   {
    "duration": 9,
    "start_time": "2023-06-13T07:45:22.759Z"
   },
   {
    "duration": 795,
    "start_time": "2023-06-13T07:45:30.116Z"
   },
   {
    "duration": 8,
    "start_time": "2023-06-13T07:45:30.913Z"
   },
   {
    "duration": 80,
    "start_time": "2023-06-13T07:45:41.329Z"
   },
   {
    "duration": 4,
    "start_time": "2023-06-13T07:45:44.971Z"
   },
   {
    "duration": 4,
    "start_time": "2023-06-13T07:46:16.795Z"
   },
   {
    "duration": 6,
    "start_time": "2023-06-13T07:54:48.510Z"
   },
   {
    "duration": 19,
    "start_time": "2023-06-13T07:55:00.403Z"
   },
   {
    "duration": 15,
    "start_time": "2023-06-13T07:55:10.113Z"
   },
   {
    "duration": 4,
    "start_time": "2023-06-13T07:58:39.427Z"
   },
   {
    "duration": 4,
    "start_time": "2023-06-13T07:59:07.467Z"
   },
   {
    "duration": 2,
    "start_time": "2023-06-13T08:20:42.500Z"
   },
   {
    "duration": 6,
    "start_time": "2023-06-13T08:20:51.092Z"
   },
   {
    "duration": 6,
    "start_time": "2023-06-13T08:24:03.774Z"
   },
   {
    "duration": 5,
    "start_time": "2023-06-13T08:25:46.871Z"
   },
   {
    "duration": 5,
    "start_time": "2023-06-13T08:25:49.301Z"
   },
   {
    "duration": 5,
    "start_time": "2023-06-13T08:27:17.048Z"
   },
   {
    "duration": 4,
    "start_time": "2023-06-13T08:28:46.850Z"
   },
   {
    "duration": 90,
    "start_time": "2023-06-13T08:28:57.305Z"
   },
   {
    "duration": 4,
    "start_time": "2023-06-13T08:29:00.009Z"
   },
   {
    "duration": 8,
    "start_time": "2023-06-13T08:29:34.460Z"
   },
   {
    "duration": 7,
    "start_time": "2023-06-13T08:29:43.609Z"
   },
   {
    "duration": 7,
    "start_time": "2023-06-13T08:30:16.685Z"
   },
   {
    "duration": 10,
    "start_time": "2023-06-13T08:58:54.340Z"
   },
   {
    "duration": 8,
    "start_time": "2023-06-13T08:59:20.924Z"
   },
   {
    "duration": 4,
    "start_time": "2023-06-13T09:11:09.078Z"
   },
   {
    "duration": 6,
    "start_time": "2023-06-13T09:11:15.189Z"
   },
   {
    "duration": 42,
    "start_time": "2023-06-13T09:11:23.985Z"
   },
   {
    "duration": 10,
    "start_time": "2023-06-13T09:13:34.635Z"
   },
   {
    "duration": 10,
    "start_time": "2023-06-13T09:14:27.657Z"
   },
   {
    "duration": 16,
    "start_time": "2023-06-13T09:14:34.159Z"
   },
   {
    "duration": 11,
    "start_time": "2023-06-13T09:14:38.325Z"
   },
   {
    "duration": 6,
    "start_time": "2023-06-13T09:14:47.730Z"
   },
   {
    "duration": 9,
    "start_time": "2023-06-13T09:14:53.940Z"
   },
   {
    "duration": 27,
    "start_time": "2023-06-13T09:15:09.147Z"
   },
   {
    "duration": 4,
    "start_time": "2023-06-13T09:19:03.517Z"
   },
   {
    "duration": 81,
    "start_time": "2023-06-13T09:20:12.082Z"
   },
   {
    "duration": 29,
    "start_time": "2023-06-13T09:20:18.028Z"
   },
   {
    "duration": 5,
    "start_time": "2023-06-13T09:20:43.784Z"
   },
   {
    "duration": 115,
    "start_time": "2023-06-13T09:20:46.157Z"
   },
   {
    "duration": 4,
    "start_time": "2023-06-13T09:21:58.412Z"
   },
   {
    "duration": 6,
    "start_time": "2023-06-13T09:21:58.790Z"
   },
   {
    "duration": 112,
    "start_time": "2023-06-13T09:22:02.232Z"
   },
   {
    "duration": 138,
    "start_time": "2023-06-13T09:22:16.322Z"
   },
   {
    "duration": 2,
    "start_time": "2023-06-13T09:28:53.422Z"
   },
   {
    "duration": 5,
    "start_time": "2023-06-13T09:28:53.939Z"
   },
   {
    "duration": 115,
    "start_time": "2023-06-13T09:28:54.600Z"
   },
   {
    "duration": 92,
    "start_time": "2023-06-13T09:29:10.899Z"
   },
   {
    "duration": 115,
    "start_time": "2023-06-13T09:29:15.818Z"
   },
   {
    "duration": 113,
    "start_time": "2023-06-13T09:29:27.217Z"
   },
   {
    "duration": 6,
    "start_time": "2023-06-13T09:32:05.503Z"
   },
   {
    "duration": 18,
    "start_time": "2023-06-13T09:32:15.677Z"
   },
   {
    "duration": 5,
    "start_time": "2023-06-13T09:32:19.693Z"
   },
   {
    "duration": 5,
    "start_time": "2023-06-13T09:32:24.114Z"
   },
   {
    "duration": 4,
    "start_time": "2023-06-13T09:32:28.957Z"
   },
   {
    "duration": 6,
    "start_time": "2023-06-13T09:32:52.698Z"
   },
   {
    "duration": 5,
    "start_time": "2023-06-13T09:32:59.095Z"
   },
   {
    "duration": 2,
    "start_time": "2023-06-13T09:34:13.640Z"
   },
   {
    "duration": 9,
    "start_time": "2023-06-13T09:34:32.301Z"
   },
   {
    "duration": 3,
    "start_time": "2023-06-13T09:34:36.629Z"
   },
   {
    "duration": 3,
    "start_time": "2023-06-13T09:34:37.045Z"
   },
   {
    "duration": 3,
    "start_time": "2023-06-13T09:34:37.549Z"
   },
   {
    "duration": 7,
    "start_time": "2023-06-13T09:34:38.239Z"
   },
   {
    "duration": 43,
    "start_time": "2023-06-13T09:34:56.464Z"
   },
   {
    "duration": 2,
    "start_time": "2023-06-13T09:41:59.880Z"
   },
   {
    "duration": 42,
    "start_time": "2023-06-13T09:42:00.680Z"
   },
   {
    "duration": 3,
    "start_time": "2023-06-13T09:42:02.718Z"
   },
   {
    "duration": 26,
    "start_time": "2023-06-13T09:42:03.148Z"
   },
   {
    "duration": 110,
    "start_time": "2023-06-13T09:42:03.790Z"
   },
   {
    "duration": 4,
    "start_time": "2023-06-13T09:49:58.401Z"
   },
   {
    "duration": 38,
    "start_time": "2023-06-13T09:49:58.818Z"
   },
   {
    "duration": 120,
    "start_time": "2023-06-13T09:49:59.291Z"
   },
   {
    "duration": 30,
    "start_time": "2023-06-13T09:50:32.891Z"
   },
   {
    "duration": 5,
    "start_time": "2023-06-13T11:31:00.541Z"
   },
   {
    "duration": 6,
    "start_time": "2023-06-13T11:31:07.796Z"
   },
   {
    "duration": 5,
    "start_time": "2023-06-13T11:31:10.190Z"
   },
   {
    "duration": 3,
    "start_time": "2023-06-13T11:34:45.254Z"
   },
   {
    "duration": 9,
    "start_time": "2023-06-13T11:34:58.511Z"
   },
   {
    "duration": 7,
    "start_time": "2023-06-13T11:35:03.115Z"
   },
   {
    "duration": 4,
    "start_time": "2023-06-13T11:35:46.048Z"
   },
   {
    "duration": 6,
    "start_time": "2023-06-13T11:35:47.496Z"
   },
   {
    "duration": 3,
    "start_time": "2023-06-13T11:35:59.614Z"
   },
   {
    "duration": 7,
    "start_time": "2023-06-13T11:36:00.825Z"
   },
   {
    "duration": 3,
    "start_time": "2023-06-13T11:37:45.000Z"
   },
   {
    "duration": 6,
    "start_time": "2023-06-13T11:37:45.592Z"
   },
   {
    "duration": 5,
    "start_time": "2023-06-13T11:37:47.731Z"
   },
   {
    "duration": 3,
    "start_time": "2023-06-13T11:38:58.900Z"
   },
   {
    "duration": 7,
    "start_time": "2023-06-13T11:38:59.483Z"
   },
   {
    "duration": 5,
    "start_time": "2023-06-13T11:39:01.527Z"
   },
   {
    "duration": 3,
    "start_time": "2023-06-13T11:39:13.356Z"
   },
   {
    "duration": 5,
    "start_time": "2023-06-13T11:39:13.857Z"
   },
   {
    "duration": 4,
    "start_time": "2023-06-13T11:39:15.707Z"
   },
   {
    "duration": 7,
    "start_time": "2023-06-13T11:41:32.032Z"
   },
   {
    "duration": 692,
    "start_time": "2023-06-13T11:41:37.946Z"
   },
   {
    "duration": 59,
    "start_time": "2023-06-13T11:41:43.031Z"
   },
   {
    "duration": 9,
    "start_time": "2023-06-13T11:42:01.744Z"
   },
   {
    "duration": 13,
    "start_time": "2023-06-13T11:42:14.824Z"
   },
   {
    "duration": 7,
    "start_time": "2023-06-13T11:42:47.820Z"
   },
   {
    "duration": 7,
    "start_time": "2023-06-13T11:42:51.450Z"
   },
   {
    "duration": 3,
    "start_time": "2023-06-13T11:57:02.787Z"
   },
   {
    "duration": 7,
    "start_time": "2023-06-13T11:57:03.721Z"
   },
   {
    "duration": 85,
    "start_time": "2023-06-13T11:58:48.317Z"
   },
   {
    "duration": 7,
    "start_time": "2023-06-13T11:58:51.012Z"
   },
   {
    "duration": 2,
    "start_time": "2023-06-13T12:03:21.552Z"
   },
   {
    "duration": 3,
    "start_time": "2023-06-13T12:07:21.217Z"
   },
   {
    "duration": 3,
    "start_time": "2023-06-13T12:10:15.391Z"
   },
   {
    "duration": 119,
    "start_time": "2023-06-13T12:10:31.804Z"
   },
   {
    "duration": 26,
    "start_time": "2023-06-13T12:11:28.606Z"
   },
   {
    "duration": 92,
    "start_time": "2023-06-13T12:11:39.433Z"
   },
   {
    "duration": 3,
    "start_time": "2023-06-13T12:14:18.360Z"
   },
   {
    "duration": 5,
    "start_time": "2023-06-13T12:17:11.746Z"
   },
   {
    "duration": 3,
    "start_time": "2023-06-13T12:17:16.106Z"
   },
   {
    "duration": 4,
    "start_time": "2023-06-13T12:17:37.504Z"
   },
   {
    "duration": 3,
    "start_time": "2023-06-13T12:21:18.907Z"
   },
   {
    "duration": 3,
    "start_time": "2023-06-13T12:21:31.414Z"
   },
   {
    "duration": 4,
    "start_time": "2023-06-13T12:21:31.855Z"
   },
   {
    "duration": 4,
    "start_time": "2023-06-13T12:21:33.090Z"
   },
   {
    "duration": 2,
    "start_time": "2023-06-13T12:21:35.603Z"
   },
   {
    "duration": 11,
    "start_time": "2023-06-13T12:27:19.002Z"
   },
   {
    "duration": 7,
    "start_time": "2023-06-13T12:27:20.535Z"
   },
   {
    "duration": 25,
    "start_time": "2023-06-13T12:28:56.936Z"
   },
   {
    "duration": 964,
    "start_time": "2023-06-13T12:28:57.600Z"
   },
   {
    "duration": 4,
    "start_time": "2023-06-13T12:28:58.566Z"
   },
   {
    "duration": 18,
    "start_time": "2023-06-13T12:28:58.575Z"
   },
   {
    "duration": 7,
    "start_time": "2023-06-13T12:28:59.093Z"
   },
   {
    "duration": 8,
    "start_time": "2023-06-13T12:28:59.821Z"
   },
   {
    "duration": 8,
    "start_time": "2023-06-13T12:29:01.404Z"
   },
   {
    "duration": 7,
    "start_time": "2023-06-13T12:29:02.148Z"
   },
   {
    "duration": 12,
    "start_time": "2023-06-13T12:52:13.996Z"
   },
   {
    "duration": 144,
    "start_time": "2023-06-13T12:52:42.091Z"
   },
   {
    "duration": 10,
    "start_time": "2023-06-13T12:52:43.319Z"
   },
   {
    "duration": 5,
    "start_time": "2023-06-13T12:52:50.094Z"
   },
   {
    "duration": 4,
    "start_time": "2023-06-13T12:52:58.738Z"
   },
   {
    "duration": 5,
    "start_time": "2023-06-13T13:01:39.051Z"
   },
   {
    "duration": 5,
    "start_time": "2023-06-13T13:01:47.589Z"
   },
   {
    "duration": 6,
    "start_time": "2023-06-13T13:02:01.637Z"
   },
   {
    "duration": 5,
    "start_time": "2023-06-13T13:02:49.219Z"
   },
   {
    "duration": 2,
    "start_time": "2023-06-13T13:07:04.851Z"
   },
   {
    "duration": 4,
    "start_time": "2023-06-13T13:07:07.722Z"
   },
   {
    "duration": 12,
    "start_time": "2023-06-13T13:11:15.105Z"
   },
   {
    "duration": 3,
    "start_time": "2023-06-13T13:12:28.507Z"
   },
   {
    "duration": 51,
    "start_time": "2023-06-13T13:12:49.198Z"
   },
   {
    "duration": 146,
    "start_time": "2023-06-13T13:13:14.066Z"
   },
   {
    "duration": 1229,
    "start_time": "2023-06-14T06:15:18.121Z"
   },
   {
    "duration": 1410,
    "start_time": "2023-06-14T06:15:19.353Z"
   },
   {
    "duration": 9,
    "start_time": "2023-06-14T06:15:20.766Z"
   },
   {
    "duration": 14,
    "start_time": "2023-06-14T06:15:20.777Z"
   },
   {
    "duration": 4,
    "start_time": "2023-06-14T06:15:20.794Z"
   },
   {
    "duration": 13,
    "start_time": "2023-06-14T06:15:20.800Z"
   },
   {
    "duration": 25,
    "start_time": "2023-06-14T06:15:20.815Z"
   },
   {
    "duration": 8,
    "start_time": "2023-06-14T06:15:20.842Z"
   },
   {
    "duration": 25,
    "start_time": "2023-06-14T06:15:20.852Z"
   },
   {
    "duration": 16,
    "start_time": "2023-06-14T06:15:20.879Z"
   },
   {
    "duration": 11,
    "start_time": "2023-06-14T06:15:20.896Z"
   },
   {
    "duration": 160,
    "start_time": "2023-06-14T06:15:20.908Z"
   },
   {
    "duration": 8,
    "start_time": "2023-06-14T06:15:21.073Z"
   },
   {
    "duration": 10,
    "start_time": "2023-06-14T06:15:21.084Z"
   },
   {
    "duration": 145,
    "start_time": "2023-06-14T06:15:21.096Z"
   },
   {
    "duration": 38,
    "start_time": "2023-06-14T06:15:21.245Z"
   },
   {
    "duration": 135,
    "start_time": "2023-06-14T06:15:21.284Z"
   },
   {
    "duration": 57,
    "start_time": "2023-06-14T06:16:06.525Z"
   },
   {
    "duration": 31,
    "start_time": "2023-06-14T06:16:39.827Z"
   },
   {
    "duration": 55,
    "start_time": "2023-06-14T06:16:46.717Z"
   },
   {
    "duration": 116,
    "start_time": "2023-06-14T06:16:53.372Z"
   },
   {
    "duration": 2,
    "start_time": "2023-06-14T06:23:37.258Z"
   },
   {
    "duration": 5,
    "start_time": "2023-06-14T06:27:45.188Z"
   },
   {
    "duration": 6,
    "start_time": "2023-06-14T06:30:22.587Z"
   },
   {
    "duration": 633,
    "start_time": "2023-06-14T06:31:03.399Z"
   },
   {
    "duration": 4,
    "start_time": "2023-06-14T06:31:48.257Z"
   },
   {
    "duration": 5,
    "start_time": "2023-06-14T06:31:51.968Z"
   },
   {
    "duration": 2680,
    "start_time": "2023-06-14T06:32:13.215Z"
   },
   {
    "duration": 122,
    "start_time": "2023-06-14T06:32:27.957Z"
   },
   {
    "duration": 143,
    "start_time": "2023-06-14T06:35:36.885Z"
   },
   {
    "duration": 119,
    "start_time": "2023-06-14T06:38:53.214Z"
   },
   {
    "duration": 143,
    "start_time": "2023-06-14T06:39:02.909Z"
   },
   {
    "duration": 1203,
    "start_time": "2023-06-14T06:41:18.266Z"
   },
   {
    "duration": 816,
    "start_time": "2023-06-14T06:41:19.471Z"
   },
   {
    "duration": 9,
    "start_time": "2023-06-14T06:41:20.289Z"
   },
   {
    "duration": 19,
    "start_time": "2023-06-14T06:41:20.299Z"
   },
   {
    "duration": 6,
    "start_time": "2023-06-14T06:41:20.321Z"
   },
   {
    "duration": 22,
    "start_time": "2023-06-14T06:41:20.329Z"
   },
   {
    "duration": 22,
    "start_time": "2023-06-14T06:41:20.353Z"
   },
   {
    "duration": 31,
    "start_time": "2023-06-14T06:41:20.377Z"
   },
   {
    "duration": 18,
    "start_time": "2023-06-14T06:41:20.409Z"
   },
   {
    "duration": 6,
    "start_time": "2023-06-14T06:41:20.429Z"
   },
   {
    "duration": 6,
    "start_time": "2023-06-14T06:41:20.437Z"
   },
   {
    "duration": 169,
    "start_time": "2023-06-14T06:41:20.444Z"
   },
   {
    "duration": 4,
    "start_time": "2023-06-14T06:41:20.615Z"
   },
   {
    "duration": 5,
    "start_time": "2023-06-14T06:41:20.621Z"
   },
   {
    "duration": 104,
    "start_time": "2023-06-14T06:41:20.628Z"
   },
   {
    "duration": 11,
    "start_time": "2023-06-14T06:41:20.734Z"
   },
   {
    "duration": 20,
    "start_time": "2023-06-14T06:41:20.752Z"
   },
   {
    "duration": 559,
    "start_time": "2023-06-14T06:41:20.773Z"
   },
   {
    "duration": 36,
    "start_time": "2023-06-14T06:41:24.713Z"
   },
   {
    "duration": 68,
    "start_time": "2023-06-14T06:41:25.840Z"
   },
   {
    "duration": 6,
    "start_time": "2023-06-14T06:41:29.218Z"
   },
   {
    "duration": 135,
    "start_time": "2023-06-14T06:41:29.738Z"
   },
   {
    "duration": 131,
    "start_time": "2023-06-14T06:41:55.101Z"
   },
   {
    "duration": 140,
    "start_time": "2023-06-14T06:42:02.461Z"
   },
   {
    "duration": 134,
    "start_time": "2023-06-14T06:42:09.836Z"
   },
   {
    "duration": 11,
    "start_time": "2023-06-14T06:45:11.413Z"
   },
   {
    "duration": 175,
    "start_time": "2023-06-14T06:45:23.892Z"
   },
   {
    "duration": 22,
    "start_time": "2023-06-14T06:45:24.281Z"
   },
   {
    "duration": 27,
    "start_time": "2023-06-14T06:46:18.373Z"
   },
   {
    "duration": 165,
    "start_time": "2023-06-14T06:46:46.945Z"
   },
   {
    "duration": 3,
    "start_time": "2023-06-14T06:50:03.024Z"
   },
   {
    "duration": 67,
    "start_time": "2023-06-14T06:50:20.014Z"
   },
   {
    "duration": 3,
    "start_time": "2023-06-14T06:50:22.321Z"
   },
   {
    "duration": 56,
    "start_time": "2023-06-14T06:50:22.557Z"
   },
   {
    "duration": 87,
    "start_time": "2023-06-14T06:50:39.939Z"
   },
   {
    "duration": 69,
    "start_time": "2023-06-14T06:50:43.505Z"
   },
   {
    "duration": 137,
    "start_time": "2023-06-14T06:50:46.823Z"
   },
   {
    "duration": 176,
    "start_time": "2023-06-14T06:51:08.517Z"
   },
   {
    "duration": 157,
    "start_time": "2023-06-14T06:51:27.483Z"
   },
   {
    "duration": 140,
    "start_time": "2023-06-14T06:51:30.959Z"
   },
   {
    "duration": 13,
    "start_time": "2023-06-14T06:53:38.505Z"
   },
   {
    "duration": 24,
    "start_time": "2023-06-14T06:53:49.997Z"
   },
   {
    "duration": 13,
    "start_time": "2023-06-14T06:54:03.962Z"
   },
   {
    "duration": 244,
    "start_time": "2023-06-14T06:54:22.271Z"
   },
   {
    "duration": 18,
    "start_time": "2023-06-14T06:54:29.716Z"
   },
   {
    "duration": 158,
    "start_time": "2023-06-14T06:54:52.934Z"
   },
   {
    "duration": 101,
    "start_time": "2023-06-14T06:58:07.931Z"
   },
   {
    "duration": 4,
    "start_time": "2023-06-14T07:03:41.413Z"
   },
   {
    "duration": 7,
    "start_time": "2023-06-14T07:05:21.380Z"
   },
   {
    "duration": 21,
    "start_time": "2023-06-14T07:05:25.060Z"
   },
   {
    "duration": 45,
    "start_time": "2023-06-14T07:06:02.261Z"
   },
   {
    "duration": 5,
    "start_time": "2023-06-14T07:06:37.638Z"
   },
   {
    "duration": 22,
    "start_time": "2023-06-14T07:06:38.459Z"
   },
   {
    "duration": 18,
    "start_time": "2023-06-14T07:10:26.058Z"
   },
   {
    "duration": 16,
    "start_time": "2023-06-14T07:11:17.420Z"
   },
   {
    "duration": 23,
    "start_time": "2023-06-14T07:11:47.422Z"
   },
   {
    "duration": 1304,
    "start_time": "2023-06-14T07:11:53.230Z"
   },
   {
    "duration": 794,
    "start_time": "2023-06-14T07:11:54.535Z"
   },
   {
    "duration": 25,
    "start_time": "2023-06-14T07:11:55.331Z"
   },
   {
    "duration": 18,
    "start_time": "2023-06-14T07:11:55.358Z"
   },
   {
    "duration": 11,
    "start_time": "2023-06-14T07:11:55.379Z"
   },
   {
    "duration": 30,
    "start_time": "2023-06-14T07:11:55.393Z"
   },
   {
    "duration": 28,
    "start_time": "2023-06-14T07:11:55.425Z"
   },
   {
    "duration": 19,
    "start_time": "2023-06-14T07:11:55.457Z"
   },
   {
    "duration": 28,
    "start_time": "2023-06-14T07:11:55.478Z"
   },
   {
    "duration": 18,
    "start_time": "2023-06-14T07:11:55.507Z"
   },
   {
    "duration": 10,
    "start_time": "2023-06-14T07:11:55.528Z"
   },
   {
    "duration": 155,
    "start_time": "2023-06-14T07:11:55.540Z"
   },
   {
    "duration": 5,
    "start_time": "2023-06-14T07:11:55.697Z"
   },
   {
    "duration": 22,
    "start_time": "2023-06-14T07:11:55.704Z"
   },
   {
    "duration": 96,
    "start_time": "2023-06-14T07:11:55.728Z"
   },
   {
    "duration": 121,
    "start_time": "2023-06-14T07:11:55.826Z"
   },
   {
    "duration": 0,
    "start_time": "2023-06-14T07:11:55.949Z"
   },
   {
    "duration": 16,
    "start_time": "2023-06-14T07:12:03.336Z"
   },
   {
    "duration": 395,
    "start_time": "2023-06-14T07:12:21.097Z"
   },
   {
    "duration": 30,
    "start_time": "2023-06-14T07:12:29.610Z"
   },
   {
    "duration": 14,
    "start_time": "2023-06-14T07:13:08.766Z"
   },
   {
    "duration": 5,
    "start_time": "2023-06-14T07:13:15.658Z"
   },
   {
    "duration": 246,
    "start_time": "2023-06-14T07:13:16.082Z"
   },
   {
    "duration": 4,
    "start_time": "2023-06-14T07:13:49.357Z"
   },
   {
    "duration": 195,
    "start_time": "2023-06-14T07:13:51.163Z"
   },
   {
    "duration": 208,
    "start_time": "2023-06-14T07:14:10.626Z"
   },
   {
    "duration": 280,
    "start_time": "2023-06-14T07:14:54.482Z"
   },
   {
    "duration": 4,
    "start_time": "2023-06-14T07:15:45.601Z"
   },
   {
    "duration": 237,
    "start_time": "2023-06-14T07:15:46.058Z"
   },
   {
    "duration": 206,
    "start_time": "2023-06-14T07:15:47.862Z"
   },
   {
    "duration": 188,
    "start_time": "2023-06-14T07:15:48.741Z"
   },
   {
    "duration": 5,
    "start_time": "2023-06-14T07:18:13.609Z"
   },
   {
    "duration": 8,
    "start_time": "2023-06-14T07:19:15.861Z"
   },
   {
    "duration": 15,
    "start_time": "2023-06-14T07:19:30.181Z"
   },
   {
    "duration": 11,
    "start_time": "2023-06-14T07:19:34.740Z"
   },
   {
    "duration": 6,
    "start_time": "2023-06-14T07:19:39.393Z"
   },
   {
    "duration": 7,
    "start_time": "2023-06-14T07:20:37.059Z"
   },
   {
    "duration": 6,
    "start_time": "2023-06-14T07:20:41.022Z"
   },
   {
    "duration": 814,
    "start_time": "2023-06-14T07:22:25.296Z"
   },
   {
    "duration": 788,
    "start_time": "2023-06-14T07:23:09.540Z"
   },
   {
    "duration": 869,
    "start_time": "2023-06-14T07:25:09.567Z"
   },
   {
    "duration": 1096,
    "start_time": "2023-06-14T07:25:19.362Z"
   },
   {
    "duration": 1042,
    "start_time": "2023-06-14T07:25:41.627Z"
   },
   {
    "duration": 1246,
    "start_time": "2023-06-14T07:26:00.539Z"
   },
   {
    "duration": 577,
    "start_time": "2023-06-14T07:27:34.742Z"
   },
   {
    "duration": 1070,
    "start_time": "2023-06-14T07:27:41.515Z"
   },
   {
    "duration": 1105,
    "start_time": "2023-06-14T07:27:54.367Z"
   },
   {
    "duration": 1926,
    "start_time": "2023-06-14T07:30:02.269Z"
   },
   {
    "duration": 961,
    "start_time": "2023-06-14T07:30:04.198Z"
   },
   {
    "duration": 14,
    "start_time": "2023-06-14T07:30:05.165Z"
   },
   {
    "duration": 104,
    "start_time": "2023-06-14T07:30:05.182Z"
   },
   {
    "duration": 4,
    "start_time": "2023-06-14T07:30:05.522Z"
   },
   {
    "duration": 10,
    "start_time": "2023-06-14T07:30:05.965Z"
   },
   {
    "duration": 14,
    "start_time": "2023-06-14T07:30:07.005Z"
   },
   {
    "duration": 11,
    "start_time": "2023-06-14T07:30:07.984Z"
   },
   {
    "duration": 17,
    "start_time": "2023-06-14T07:30:09.142Z"
   },
   {
    "duration": 3,
    "start_time": "2023-06-14T07:30:11.664Z"
   },
   {
    "duration": 4,
    "start_time": "2023-06-14T07:30:12.692Z"
   },
   {
    "duration": 12,
    "start_time": "2023-06-14T07:30:14.535Z"
   },
   {
    "duration": 3,
    "start_time": "2023-06-14T07:30:14.975Z"
   },
   {
    "duration": 121,
    "start_time": "2023-06-14T07:30:15.378Z"
   },
   {
    "duration": 9,
    "start_time": "2023-06-14T07:30:18.583Z"
   },
   {
    "duration": 303,
    "start_time": "2023-06-14T07:30:19.095Z"
   },
   {
    "duration": 303,
    "start_time": "2023-06-14T07:30:19.761Z"
   },
   {
    "duration": 269,
    "start_time": "2023-06-14T07:30:20.456Z"
   },
   {
    "duration": 7,
    "start_time": "2023-06-14T07:30:22.914Z"
   },
   {
    "duration": 8,
    "start_time": "2023-06-14T07:30:23.543Z"
   },
   {
    "duration": 1232,
    "start_time": "2023-06-14T07:30:24.943Z"
   },
   {
    "duration": 130,
    "start_time": "2023-06-14T07:33:39.058Z"
   },
   {
    "duration": 171,
    "start_time": "2023-06-14T07:33:59.014Z"
   },
   {
    "duration": 15,
    "start_time": "2023-06-14T07:34:02.762Z"
   },
   {
    "duration": 28,
    "start_time": "2023-06-14T07:34:18.164Z"
   },
   {
    "duration": 22,
    "start_time": "2023-06-14T07:35:08.910Z"
   },
   {
    "duration": 32,
    "start_time": "2023-06-14T07:35:14.524Z"
   },
   {
    "duration": 26,
    "start_time": "2023-06-14T07:35:20.230Z"
   },
   {
    "duration": 7,
    "start_time": "2023-06-14T07:36:07.225Z"
   },
   {
    "duration": 10,
    "start_time": "2023-06-14T07:37:04.242Z"
   },
   {
    "duration": 17,
    "start_time": "2023-06-14T07:37:08.711Z"
   },
   {
    "duration": 9,
    "start_time": "2023-06-14T07:37:38.094Z"
   },
   {
    "duration": 23,
    "start_time": "2023-06-14T07:39:00.045Z"
   },
   {
    "duration": 25,
    "start_time": "2023-06-14T07:39:23.440Z"
   },
   {
    "duration": 40,
    "start_time": "2023-06-14T07:39:31.629Z"
   },
   {
    "duration": 25,
    "start_time": "2023-06-14T07:39:55.920Z"
   },
   {
    "duration": 20,
    "start_time": "2023-06-14T07:40:12.009Z"
   },
   {
    "duration": 31,
    "start_time": "2023-06-14T07:41:12.290Z"
   },
   {
    "duration": 1112,
    "start_time": "2023-06-14T07:41:47.960Z"
   },
   {
    "duration": 5,
    "start_time": "2023-06-14T07:44:56.797Z"
   },
   {
    "duration": 25,
    "start_time": "2023-06-14T07:50:18.438Z"
   },
   {
    "duration": 10,
    "start_time": "2023-06-14T07:50:25.915Z"
   },
   {
    "duration": 12,
    "start_time": "2023-06-14T07:50:33.433Z"
   },
   {
    "duration": 14,
    "start_time": "2023-06-14T07:50:45.384Z"
   },
   {
    "duration": 106,
    "start_time": "2023-06-14T07:51:35.309Z"
   },
   {
    "duration": 7,
    "start_time": "2023-06-14T07:53:08.265Z"
   },
   {
    "duration": 124,
    "start_time": "2023-06-14T07:53:17.993Z"
   },
   {
    "duration": 24,
    "start_time": "2023-06-14T07:53:37.684Z"
   },
   {
    "duration": 28,
    "start_time": "2023-06-14T07:54:11.566Z"
   },
   {
    "duration": 17,
    "start_time": "2023-06-14T07:54:41.717Z"
   },
   {
    "duration": 11,
    "start_time": "2023-06-14T07:55:00.173Z"
   },
   {
    "duration": 107,
    "start_time": "2023-06-14T07:55:00.900Z"
   },
   {
    "duration": 106,
    "start_time": "2023-06-14T07:55:05.225Z"
   },
   {
    "duration": 143,
    "start_time": "2023-06-14T07:55:40.517Z"
   },
   {
    "duration": 10,
    "start_time": "2023-06-14T07:56:13.603Z"
   },
   {
    "duration": 266,
    "start_time": "2023-06-14T07:56:17.671Z"
   },
   {
    "duration": 324,
    "start_time": "2023-06-14T07:56:57.732Z"
   },
   {
    "duration": 293,
    "start_time": "2023-06-14T07:57:11.391Z"
   },
   {
    "duration": 325,
    "start_time": "2023-06-14T07:58:05.285Z"
   },
   {
    "duration": 312,
    "start_time": "2023-06-14T07:59:49.501Z"
   },
   {
    "duration": 299,
    "start_time": "2023-06-14T08:00:04.778Z"
   },
   {
    "duration": 419,
    "start_time": "2023-06-14T08:00:13.400Z"
   },
   {
    "duration": 325,
    "start_time": "2023-06-14T08:00:23.038Z"
   },
   {
    "duration": 339,
    "start_time": "2023-06-14T08:01:18.176Z"
   },
   {
    "duration": 327,
    "start_time": "2023-06-14T08:01:26.940Z"
   },
   {
    "duration": 415,
    "start_time": "2023-06-14T08:01:44.998Z"
   },
   {
    "duration": 598,
    "start_time": "2023-06-14T08:02:18.503Z"
   },
   {
    "duration": 3,
    "start_time": "2023-06-14T08:02:55.312Z"
   },
   {
    "duration": 405,
    "start_time": "2023-06-14T08:02:58.967Z"
   },
   {
    "duration": 20,
    "start_time": "2023-06-14T08:06:51.569Z"
   },
   {
    "duration": 12,
    "start_time": "2023-06-14T08:06:58.697Z"
   },
   {
    "duration": 31,
    "start_time": "2023-06-14T08:07:08.926Z"
   },
   {
    "duration": 10,
    "start_time": "2023-06-14T08:07:52.473Z"
   },
   {
    "duration": 38,
    "start_time": "2023-06-14T08:07:52.929Z"
   },
   {
    "duration": 383,
    "start_time": "2023-06-14T08:07:58.672Z"
   },
   {
    "duration": 30,
    "start_time": "2023-06-14T08:08:12.806Z"
   },
   {
    "duration": 50,
    "start_time": "2023-06-14T08:08:13.484Z"
   },
   {
    "duration": 157,
    "start_time": "2023-06-14T08:08:13.936Z"
   },
   {
    "duration": 4,
    "start_time": "2023-06-14T08:08:30.784Z"
   },
   {
    "duration": 8,
    "start_time": "2023-06-14T10:31:05.165Z"
   },
   {
    "duration": 867,
    "start_time": "2023-06-14T10:31:05.959Z"
   },
   {
    "duration": 4,
    "start_time": "2023-06-14T10:31:08.085Z"
   },
   {
    "duration": 4,
    "start_time": "2023-06-14T10:31:08.781Z"
   },
   {
    "duration": 3,
    "start_time": "2023-06-14T10:31:09.802Z"
   },
   {
    "duration": 9,
    "start_time": "2023-06-14T10:31:10.526Z"
   },
   {
    "duration": 10,
    "start_time": "2023-06-14T10:31:12.667Z"
   },
   {
    "duration": 98,
    "start_time": "2023-06-14T10:36:59.875Z"
   },
   {
    "duration": 5,
    "start_time": "2023-06-14T10:38:20.687Z"
   },
   {
    "duration": 131,
    "start_time": "2023-06-14T10:39:12.291Z"
   },
   {
    "duration": 3,
    "start_time": "2023-06-14T11:43:41.498Z"
   },
   {
    "duration": 5,
    "start_time": "2023-06-14T11:44:54.169Z"
   },
   {
    "duration": 141,
    "start_time": "2023-06-14T11:44:54.661Z"
   },
   {
    "duration": 182,
    "start_time": "2023-06-14T11:44:58.217Z"
   },
   {
    "duration": 15,
    "start_time": "2023-06-14T11:46:57.869Z"
   },
   {
    "duration": 8,
    "start_time": "2023-06-14T11:47:04.176Z"
   },
   {
    "duration": 27,
    "start_time": "2023-06-14T11:47:14.877Z"
   },
   {
    "duration": 27,
    "start_time": "2023-06-14T11:47:39.374Z"
   },
   {
    "duration": 1753,
    "start_time": "2023-06-14T11:50:19.493Z"
   },
   {
    "duration": 954,
    "start_time": "2023-06-14T11:50:21.248Z"
   },
   {
    "duration": 14,
    "start_time": "2023-06-14T11:50:22.204Z"
   },
   {
    "duration": 71,
    "start_time": "2023-06-14T11:50:22.220Z"
   },
   {
    "duration": 9,
    "start_time": "2023-06-14T11:50:22.294Z"
   },
   {
    "duration": 19,
    "start_time": "2023-06-14T11:50:22.305Z"
   },
   {
    "duration": 12,
    "start_time": "2023-06-14T11:50:22.326Z"
   },
   {
    "duration": 28,
    "start_time": "2023-06-14T11:50:22.339Z"
   },
   {
    "duration": 37,
    "start_time": "2023-06-14T11:50:22.368Z"
   },
   {
    "duration": 12,
    "start_time": "2023-06-14T11:50:22.406Z"
   },
   {
    "duration": 10,
    "start_time": "2023-06-14T11:50:22.419Z"
   },
   {
    "duration": 71,
    "start_time": "2023-06-14T11:50:22.431Z"
   },
   {
    "duration": 14,
    "start_time": "2023-06-14T11:50:22.504Z"
   },
   {
    "duration": 109,
    "start_time": "2023-06-14T11:50:22.520Z"
   },
   {
    "duration": 5,
    "start_time": "2023-06-14T11:50:22.631Z"
   },
   {
    "duration": 281,
    "start_time": "2023-06-14T11:50:22.638Z"
   },
   {
    "duration": 339,
    "start_time": "2023-06-14T11:50:22.924Z"
   },
   {
    "duration": 356,
    "start_time": "2023-06-14T11:50:23.270Z"
   },
   {
    "duration": 23,
    "start_time": "2023-06-14T11:50:23.631Z"
   },
   {
    "duration": 59,
    "start_time": "2023-06-14T11:50:23.660Z"
   },
   {
    "duration": 1145,
    "start_time": "2023-06-14T11:50:23.721Z"
   },
   {
    "duration": 5,
    "start_time": "2023-06-14T11:50:24.868Z"
   },
   {
    "duration": 45,
    "start_time": "2023-06-14T11:50:24.874Z"
   },
   {
    "duration": 451,
    "start_time": "2023-06-14T11:50:24.920Z"
   },
   {
    "duration": 41,
    "start_time": "2023-06-14T11:50:25.374Z"
   },
   {
    "duration": 66,
    "start_time": "2023-06-14T11:50:25.418Z"
   },
   {
    "duration": 140,
    "start_time": "2023-06-14T11:50:25.493Z"
   },
   {
    "duration": 218,
    "start_time": "2023-06-14T11:50:38.086Z"
   },
   {
    "duration": 58,
    "start_time": "2023-06-14T11:50:46.244Z"
   },
   {
    "duration": 5,
    "start_time": "2023-06-14T11:50:47.933Z"
   },
   {
    "duration": 26,
    "start_time": "2023-06-14T11:50:48.770Z"
   },
   {
    "duration": 45,
    "start_time": "2023-06-14T11:51:09.628Z"
   },
   {
    "duration": 129,
    "start_time": "2023-06-14T11:51:16.280Z"
   },
   {
    "duration": 6,
    "start_time": "2023-06-14T11:51:34.284Z"
   },
   {
    "duration": 6,
    "start_time": "2023-06-14T11:51:54.986Z"
   },
   {
    "duration": 27,
    "start_time": "2023-06-14T11:52:12.774Z"
   },
   {
    "duration": 12,
    "start_time": "2023-06-14T11:52:42.636Z"
   },
   {
    "duration": 4,
    "start_time": "2023-06-14T11:52:52.085Z"
   },
   {
    "duration": 17,
    "start_time": "2023-06-14T11:53:07.513Z"
   },
   {
    "duration": 7,
    "start_time": "2023-06-14T11:53:12.315Z"
   },
   {
    "duration": 6,
    "start_time": "2023-06-14T11:53:38.773Z"
   },
   {
    "duration": 14,
    "start_time": "2023-06-14T11:54:12.890Z"
   },
   {
    "duration": 11,
    "start_time": "2023-06-14T11:54:24.291Z"
   },
   {
    "duration": 229,
    "start_time": "2023-06-14T11:54:32.343Z"
   },
   {
    "duration": 12,
    "start_time": "2023-06-14T11:54:35.694Z"
   },
   {
    "duration": 24,
    "start_time": "2023-06-14T11:54:43.595Z"
   },
   {
    "duration": 1637,
    "start_time": "2023-06-18T06:46:19.080Z"
   },
   {
    "duration": 3229,
    "start_time": "2023-06-18T06:46:20.720Z"
   },
   {
    "duration": 6,
    "start_time": "2023-06-18T06:46:23.951Z"
   },
   {
    "duration": 28,
    "start_time": "2023-06-18T06:46:23.958Z"
   },
   {
    "duration": 69,
    "start_time": "2023-06-18T06:46:23.988Z"
   },
   {
    "duration": 3,
    "start_time": "2023-06-18T06:46:26.518Z"
   },
   {
    "duration": 9,
    "start_time": "2023-06-18T06:46:27.208Z"
   },
   {
    "duration": 10,
    "start_time": "2023-06-18T06:46:28.970Z"
   },
   {
    "duration": 8,
    "start_time": "2023-06-18T06:46:30.324Z"
   },
   {
    "duration": 6,
    "start_time": "2023-06-18T06:46:31.364Z"
   },
   {
    "duration": 3,
    "start_time": "2023-06-18T06:46:32.564Z"
   },
   {
    "duration": 3,
    "start_time": "2023-06-18T06:46:33.364Z"
   },
   {
    "duration": 3,
    "start_time": "2023-06-18T06:46:34.398Z"
   },
   {
    "duration": 2,
    "start_time": "2023-06-18T06:46:34.836Z"
   },
   {
    "duration": 80,
    "start_time": "2023-06-18T06:46:35.228Z"
   },
   {
    "duration": 3,
    "start_time": "2023-06-18T06:46:44.921Z"
   },
   {
    "duration": 198,
    "start_time": "2023-06-18T06:46:45.693Z"
   },
   {
    "duration": 174,
    "start_time": "2023-06-18T06:46:46.806Z"
   },
   {
    "duration": 180,
    "start_time": "2023-06-18T06:46:47.236Z"
   },
   {
    "duration": 6,
    "start_time": "2023-06-18T06:46:48.426Z"
   },
   {
    "duration": 20,
    "start_time": "2023-06-18T06:46:48.808Z"
   },
   {
    "duration": 959,
    "start_time": "2023-06-18T06:46:49.226Z"
   },
   {
    "duration": 4,
    "start_time": "2023-06-18T06:46:51.118Z"
   },
   {
    "duration": 24,
    "start_time": "2023-06-18T06:46:51.576Z"
   },
   {
    "duration": 361,
    "start_time": "2023-06-18T06:46:52.273Z"
   },
   {
    "duration": 33,
    "start_time": "2023-06-18T06:46:53.174Z"
   },
   {
    "duration": 48,
    "start_time": "2023-06-18T06:46:53.780Z"
   },
   {
    "duration": 112,
    "start_time": "2023-06-18T06:46:54.190Z"
   },
   {
    "duration": 34,
    "start_time": "2023-06-18T06:46:59.284Z"
   },
   {
    "duration": 4,
    "start_time": "2023-06-18T06:47:00.004Z"
   },
   {
    "duration": 5,
    "start_time": "2023-06-18T06:47:00.383Z"
   },
   {
    "duration": 6,
    "start_time": "2023-06-18T06:47:01.000Z"
   },
   {
    "duration": 15,
    "start_time": "2023-06-18T06:47:01.476Z"
   },
   {
    "duration": 4,
    "start_time": "2023-06-18T06:48:39.178Z"
   },
   {
    "duration": 16,
    "start_time": "2023-06-18T06:49:35.088Z"
   },
   {
    "duration": 16,
    "start_time": "2023-06-18T06:50:01.138Z"
   },
   {
    "duration": 11,
    "start_time": "2023-06-18T06:53:48.751Z"
   },
   {
    "duration": 16,
    "start_time": "2023-06-18T06:54:19.184Z"
   },
   {
    "duration": 25,
    "start_time": "2023-06-18T06:55:58.457Z"
   },
   {
    "duration": 3,
    "start_time": "2023-06-18T06:55:58.740Z"
   },
   {
    "duration": 4,
    "start_time": "2023-06-18T06:55:59.074Z"
   },
   {
    "duration": 4,
    "start_time": "2023-06-18T06:55:59.998Z"
   },
   {
    "duration": 3,
    "start_time": "2023-06-18T06:56:00.572Z"
   },
   {
    "duration": 77,
    "start_time": "2023-06-18T06:56:00.864Z"
   },
   {
    "duration": 4,
    "start_time": "2023-06-18T06:56:03.076Z"
   },
   {
    "duration": 174,
    "start_time": "2023-06-18T06:56:03.378Z"
   },
   {
    "duration": 166,
    "start_time": "2023-06-18T06:56:03.731Z"
   },
   {
    "duration": 185,
    "start_time": "2023-06-18T06:56:04.224Z"
   },
   {
    "duration": 8,
    "start_time": "2023-06-18T06:56:06.397Z"
   },
   {
    "duration": 172,
    "start_time": "2023-06-18T06:56:10.789Z"
   },
   {
    "duration": 289,
    "start_time": "2023-06-18T06:56:11.113Z"
   },
   {
    "duration": 7,
    "start_time": "2023-06-18T06:56:12.491Z"
   },
   {
    "duration": 19,
    "start_time": "2023-06-18T06:56:12.620Z"
   },
   {
    "duration": 828,
    "start_time": "2023-06-18T06:56:12.961Z"
   },
   {
    "duration": 3,
    "start_time": "2023-06-18T06:56:14.517Z"
   },
   {
    "duration": 23,
    "start_time": "2023-06-18T06:56:14.872Z"
   },
   {
    "duration": 346,
    "start_time": "2023-06-18T06:56:15.292Z"
   },
   {
    "duration": 27,
    "start_time": "2023-06-18T06:56:30.211Z"
   },
   {
    "duration": 52,
    "start_time": "2023-06-18T06:56:31.220Z"
   },
   {
    "duration": 115,
    "start_time": "2023-06-18T06:56:31.746Z"
   },
   {
    "duration": 29,
    "start_time": "2023-06-18T06:56:35.915Z"
   },
   {
    "duration": 4,
    "start_time": "2023-06-18T06:56:36.696Z"
   },
   {
    "duration": 6,
    "start_time": "2023-06-18T06:56:37.136Z"
   },
   {
    "duration": 6,
    "start_time": "2023-06-18T06:56:37.539Z"
   },
   {
    "duration": 12,
    "start_time": "2023-06-18T06:56:38.000Z"
   },
   {
    "duration": 13,
    "start_time": "2023-06-18T06:56:38.472Z"
   },
   {
    "duration": 19,
    "start_time": "2023-06-18T06:56:38.881Z"
   },
   {
    "duration": 310,
    "start_time": "2023-06-18T07:01:29.725Z"
   },
   {
    "duration": 17,
    "start_time": "2023-06-18T07:01:46.326Z"
   },
   {
    "duration": 17,
    "start_time": "2023-06-18T07:01:49.637Z"
   },
   {
    "duration": 10,
    "start_time": "2023-06-18T07:02:20.450Z"
   },
   {
    "duration": 4,
    "start_time": "2023-06-18T07:03:53.388Z"
   },
   {
    "duration": 4,
    "start_time": "2023-06-18T07:04:41.775Z"
   },
   {
    "duration": 4,
    "start_time": "2023-06-18T07:04:44.803Z"
   },
   {
    "duration": 5,
    "start_time": "2023-06-18T07:04:46.605Z"
   },
   {
    "duration": 21,
    "start_time": "2023-06-18T07:05:00.811Z"
   },
   {
    "duration": 3,
    "start_time": "2023-06-18T07:05:10.702Z"
   },
   {
    "duration": 5,
    "start_time": "2023-06-18T07:05:14.494Z"
   },
   {
    "duration": 26,
    "start_time": "2023-06-18T07:05:15.531Z"
   },
   {
    "duration": 21,
    "start_time": "2023-06-18T07:05:16.100Z"
   },
   {
    "duration": 7,
    "start_time": "2023-06-18T07:05:16.401Z"
   },
   {
    "duration": 9,
    "start_time": "2023-06-18T07:05:17.811Z"
   },
   {
    "duration": 5,
    "start_time": "2023-06-18T07:06:11.464Z"
   },
   {
    "duration": 4,
    "start_time": "2023-06-18T07:06:17.742Z"
   },
   {
    "duration": 5,
    "start_time": "2023-06-18T07:06:22.410Z"
   },
   {
    "duration": 10,
    "start_time": "2023-06-18T07:06:33.488Z"
   },
   {
    "duration": 5,
    "start_time": "2023-06-18T07:07:45.745Z"
   },
   {
    "duration": 6,
    "start_time": "2023-06-18T07:07:54.276Z"
   },
   {
    "duration": 92,
    "start_time": "2023-06-18T07:08:29.051Z"
   },
   {
    "duration": 3,
    "start_time": "2023-06-18T07:08:53.793Z"
   },
   {
    "duration": 6,
    "start_time": "2023-06-18T07:09:09.028Z"
   },
   {
    "duration": 4,
    "start_time": "2023-06-18T08:16:53.151Z"
   },
   {
    "duration": 10,
    "start_time": "2023-06-18T08:16:56.124Z"
   },
   {
    "duration": 4,
    "start_time": "2023-06-18T08:17:55.286Z"
   },
   {
    "duration": 5,
    "start_time": "2023-06-18T08:18:06.804Z"
   },
   {
    "duration": 3,
    "start_time": "2023-06-18T08:18:07.348Z"
   },
   {
    "duration": 10,
    "start_time": "2023-06-18T09:48:11.171Z"
   },
   {
    "duration": 3,
    "start_time": "2023-06-18T09:48:49.285Z"
   },
   {
    "duration": 18,
    "start_time": "2023-06-18T09:48:49.673Z"
   },
   {
    "duration": 15,
    "start_time": "2023-06-18T09:49:10.778Z"
   },
   {
    "duration": 3740,
    "start_time": "2023-06-18T09:49:33.072Z"
   },
   {
    "duration": 21,
    "start_time": "2023-06-18T09:50:19.105Z"
   },
   {
    "duration": 2567,
    "start_time": "2023-06-18T09:50:36.240Z"
   },
   {
    "duration": 8,
    "start_time": "2023-06-18T09:51:00.608Z"
   },
   {
    "duration": 43,
    "start_time": "2023-06-18T16:31:09.262Z"
   },
   {
    "duration": 1631,
    "start_time": "2023-06-18T16:31:43.277Z"
   },
   {
    "duration": 1378,
    "start_time": "2023-06-18T16:31:58.740Z"
   },
   {
    "duration": 3406,
    "start_time": "2023-06-18T16:32:00.120Z"
   },
   {
    "duration": 7,
    "start_time": "2023-06-18T16:32:03.531Z"
   },
   {
    "duration": 14,
    "start_time": "2023-06-18T16:32:03.539Z"
   },
   {
    "duration": 28,
    "start_time": "2023-06-18T16:32:03.555Z"
   },
   {
    "duration": 4,
    "start_time": "2023-06-18T16:32:03.585Z"
   },
   {
    "duration": 26,
    "start_time": "2023-06-18T16:32:03.591Z"
   },
   {
    "duration": 12,
    "start_time": "2023-06-18T16:32:03.620Z"
   },
   {
    "duration": 35,
    "start_time": "2023-06-18T16:32:03.636Z"
   },
   {
    "duration": 6,
    "start_time": "2023-06-18T16:32:03.673Z"
   },
   {
    "duration": 29,
    "start_time": "2023-06-18T16:32:03.681Z"
   },
   {
    "duration": 3,
    "start_time": "2023-06-18T16:32:03.712Z"
   },
   {
    "duration": 7,
    "start_time": "2023-06-18T16:32:03.717Z"
   },
   {
    "duration": 14,
    "start_time": "2023-06-18T16:32:03.725Z"
   },
   {
    "duration": 3,
    "start_time": "2023-06-18T16:32:03.771Z"
   },
   {
    "duration": 91,
    "start_time": "2023-06-18T16:32:03.777Z"
   },
   {
    "duration": 5,
    "start_time": "2023-06-18T16:32:03.870Z"
   },
   {
    "duration": 283,
    "start_time": "2023-06-18T16:32:03.877Z"
   },
   {
    "duration": 195,
    "start_time": "2023-06-18T16:32:04.162Z"
   },
   {
    "duration": 227,
    "start_time": "2023-06-18T16:32:04.358Z"
   },
   {
    "duration": 8,
    "start_time": "2023-06-18T16:32:04.587Z"
   },
   {
    "duration": 22,
    "start_time": "2023-06-18T16:32:04.596Z"
   },
   {
    "duration": 1146,
    "start_time": "2023-06-18T16:32:04.620Z"
   },
   {
    "duration": 3,
    "start_time": "2023-06-18T16:32:05.768Z"
   },
   {
    "duration": 42,
    "start_time": "2023-06-18T16:32:05.773Z"
   },
   {
    "duration": 326,
    "start_time": "2023-06-18T16:32:05.817Z"
   },
   {
    "duration": 38,
    "start_time": "2023-06-18T16:32:06.148Z"
   },
   {
    "duration": 39,
    "start_time": "2023-06-18T16:32:06.188Z"
   },
   {
    "duration": 115,
    "start_time": "2023-06-18T16:32:06.229Z"
   },
   {
    "duration": 4,
    "start_time": "2023-06-18T16:32:06.345Z"
   },
   {
    "duration": 18,
    "start_time": "2023-06-18T16:32:06.350Z"
   },
   {
    "duration": 31,
    "start_time": "2023-06-18T16:32:06.369Z"
   },
   {
    "duration": 4,
    "start_time": "2023-06-18T16:32:06.401Z"
   },
   {
    "duration": 2408,
    "start_time": "2023-06-18T16:32:06.406Z"
   },
   {
    "duration": 8,
    "start_time": "2023-06-18T16:32:08.816Z"
   },
   {
    "duration": 152,
    "start_time": "2023-06-18T16:32:08.826Z"
   },
   {
    "duration": 187,
    "start_time": "2023-06-18T16:32:08.980Z"
   },
   {
    "duration": 191,
    "start_time": "2023-06-18T16:32:09.170Z"
   },
   {
    "duration": 1,
    "start_time": "2023-06-18T16:32:09.368Z"
   },
   {
    "duration": 0,
    "start_time": "2023-06-18T16:32:09.369Z"
   },
   {
    "duration": 0,
    "start_time": "2023-06-18T16:32:09.370Z"
   },
   {
    "duration": 0,
    "start_time": "2023-06-18T16:32:09.372Z"
   },
   {
    "duration": 0,
    "start_time": "2023-06-18T16:32:09.373Z"
   },
   {
    "duration": 2333,
    "start_time": "2023-06-18T16:32:47.136Z"
   },
   {
    "duration": 8,
    "start_time": "2023-06-18T16:32:50.930Z"
   },
   {
    "duration": 4,
    "start_time": "2023-06-18T16:34:56.883Z"
   },
   {
    "duration": 4,
    "start_time": "2023-06-18T16:35:58.734Z"
   },
   {
    "duration": 8,
    "start_time": "2023-06-18T16:36:02.086Z"
   },
   {
    "duration": 5,
    "start_time": "2023-06-18T16:36:10.999Z"
   },
   {
    "duration": 4,
    "start_time": "2023-06-18T16:36:31.984Z"
   },
   {
    "duration": 4,
    "start_time": "2023-06-18T16:36:41.012Z"
   },
   {
    "duration": 5,
    "start_time": "2023-06-18T16:36:52.511Z"
   },
   {
    "duration": 2459,
    "start_time": "2023-06-18T16:37:20.005Z"
   },
   {
    "duration": 21,
    "start_time": "2023-06-18T16:37:53.094Z"
   },
   {
    "duration": 7,
    "start_time": "2023-06-18T16:37:53.892Z"
   },
   {
    "duration": 11,
    "start_time": "2023-06-18T16:37:54.392Z"
   },
   {
    "duration": 147,
    "start_time": "2023-06-18T16:38:25.011Z"
   },
   {
    "duration": 381,
    "start_time": "2023-06-18T16:38:28.791Z"
   },
   {
    "duration": 174,
    "start_time": "2023-06-18T16:38:40.295Z"
   },
   {
    "duration": 3,
    "start_time": "2023-06-18T16:39:56.632Z"
   },
   {
    "duration": 961,
    "start_time": "2023-06-18T16:40:01.809Z"
   },
   {
    "duration": 1021,
    "start_time": "2023-06-18T16:40:23.054Z"
   },
   {
    "duration": 318,
    "start_time": "2023-06-18T16:41:23.975Z"
   },
   {
    "duration": 78,
    "start_time": "2023-06-18T16:42:20.897Z"
   },
   {
    "duration": 2604,
    "start_time": "2023-06-18T16:43:31.586Z"
   },
   {
    "duration": 3478,
    "start_time": "2023-06-18T16:44:26.098Z"
   },
   {
    "duration": 1480,
    "start_time": "2023-06-18T16:45:58.296Z"
   },
   {
    "duration": 788,
    "start_time": "2023-06-18T16:45:59.778Z"
   },
   {
    "duration": 9,
    "start_time": "2023-06-18T16:46:00.568Z"
   },
   {
    "duration": 16,
    "start_time": "2023-06-18T16:46:00.579Z"
   },
   {
    "duration": 35,
    "start_time": "2023-06-18T16:46:00.598Z"
   },
   {
    "duration": 11,
    "start_time": "2023-06-18T16:46:00.635Z"
   },
   {
    "duration": 50,
    "start_time": "2023-06-18T16:46:00.648Z"
   },
   {
    "duration": 28,
    "start_time": "2023-06-18T16:46:00.700Z"
   },
   {
    "duration": 36,
    "start_time": "2023-06-18T16:46:00.730Z"
   },
   {
    "duration": 24,
    "start_time": "2023-06-18T16:46:00.768Z"
   },
   {
    "duration": 63,
    "start_time": "2023-06-18T16:46:00.794Z"
   },
   {
    "duration": 3,
    "start_time": "2023-06-18T16:46:00.859Z"
   },
   {
    "duration": 35,
    "start_time": "2023-06-18T16:46:00.864Z"
   },
   {
    "duration": 22,
    "start_time": "2023-06-18T16:46:00.902Z"
   },
   {
    "duration": 33,
    "start_time": "2023-06-18T16:46:00.925Z"
   },
   {
    "duration": 117,
    "start_time": "2023-06-18T16:46:00.960Z"
   },
   {
    "duration": 6,
    "start_time": "2023-06-18T16:46:01.081Z"
   },
   {
    "duration": 227,
    "start_time": "2023-06-18T16:46:01.089Z"
   },
   {
    "duration": 199,
    "start_time": "2023-06-18T16:46:01.317Z"
   },
   {
    "duration": 209,
    "start_time": "2023-06-18T16:46:01.518Z"
   },
   {
    "duration": 7,
    "start_time": "2023-06-18T16:46:01.729Z"
   },
   {
    "duration": 39,
    "start_time": "2023-06-18T16:46:01.738Z"
   },
   {
    "duration": 1061,
    "start_time": "2023-06-18T16:46:01.787Z"
   },
   {
    "duration": 2,
    "start_time": "2023-06-18T16:46:02.850Z"
   },
   {
    "duration": 88,
    "start_time": "2023-06-18T16:46:02.854Z"
   },
   {
    "duration": 400,
    "start_time": "2023-06-18T16:46:02.944Z"
   },
   {
    "duration": 61,
    "start_time": "2023-06-18T16:46:03.345Z"
   },
   {
    "duration": 41,
    "start_time": "2023-06-18T16:46:03.410Z"
   },
   {
    "duration": 124,
    "start_time": "2023-06-18T16:46:03.453Z"
   },
   {
    "duration": 5,
    "start_time": "2023-06-18T16:46:03.579Z"
   },
   {
    "duration": 8,
    "start_time": "2023-06-18T16:46:03.586Z"
   },
   {
    "duration": 140,
    "start_time": "2023-06-18T16:46:03.595Z"
   },
   {
    "duration": 0,
    "start_time": "2023-06-18T16:46:03.737Z"
   },
   {
    "duration": 0,
    "start_time": "2023-06-18T16:46:03.738Z"
   },
   {
    "duration": 0,
    "start_time": "2023-06-18T16:46:03.739Z"
   },
   {
    "duration": 0,
    "start_time": "2023-06-18T16:46:03.740Z"
   },
   {
    "duration": 0,
    "start_time": "2023-06-18T16:46:03.741Z"
   },
   {
    "duration": 0,
    "start_time": "2023-06-18T16:46:03.743Z"
   },
   {
    "duration": 0,
    "start_time": "2023-06-18T16:46:03.744Z"
   },
   {
    "duration": 0,
    "start_time": "2023-06-18T16:46:03.745Z"
   },
   {
    "duration": 0,
    "start_time": "2023-06-18T16:46:03.746Z"
   },
   {
    "duration": 0,
    "start_time": "2023-06-18T16:46:03.747Z"
   },
   {
    "duration": 0,
    "start_time": "2023-06-18T16:46:03.768Z"
   },
   {
    "duration": 31,
    "start_time": "2023-06-18T16:46:26.893Z"
   },
   {
    "duration": 10,
    "start_time": "2023-06-18T16:46:27.988Z"
   },
   {
    "duration": 2471,
    "start_time": "2023-06-18T16:46:28.285Z"
   },
   {
    "duration": 2510,
    "start_time": "2023-06-18T16:46:30.758Z"
   },
   {
    "duration": 4,
    "start_time": "2023-06-18T16:46:33.270Z"
   },
   {
    "duration": 3,
    "start_time": "2023-06-18T16:46:33.582Z"
   },
   {
    "duration": 3657,
    "start_time": "2023-06-18T16:46:34.012Z"
   },
   {
    "duration": 3,
    "start_time": "2023-06-18T16:56:21.495Z"
   },
   {
    "duration": 109,
    "start_time": "2023-06-18T16:56:21.981Z"
   },
   {
    "duration": 128,
    "start_time": "2023-06-18T16:56:55.628Z"
   },
   {
    "duration": 118,
    "start_time": "2023-06-18T16:57:01.294Z"
   },
   {
    "duration": 4,
    "start_time": "2023-06-18T16:57:42.955Z"
   },
   {
    "duration": 6733,
    "start_time": "2023-06-18T16:57:47.902Z"
   },
   {
    "duration": 4,
    "start_time": "2023-06-18T16:59:55.090Z"
   },
   {
    "duration": 4,
    "start_time": "2023-06-18T17:00:21.760Z"
   },
   {
    "duration": 5,
    "start_time": "2023-06-18T17:00:56.196Z"
   },
   {
    "duration": 0,
    "start_time": "2023-06-18T17:01:36.908Z"
   },
   {
    "duration": 1516,
    "start_time": "2023-06-18T17:03:15.924Z"
   },
   {
    "duration": 811,
    "start_time": "2023-06-18T17:03:17.442Z"
   },
   {
    "duration": 7,
    "start_time": "2023-06-18T17:03:18.255Z"
   },
   {
    "duration": 19,
    "start_time": "2023-06-18T17:03:18.267Z"
   },
   {
    "duration": 22,
    "start_time": "2023-06-18T17:03:18.288Z"
   },
   {
    "duration": 3,
    "start_time": "2023-06-18T17:03:18.312Z"
   },
   {
    "duration": 10,
    "start_time": "2023-06-18T17:03:18.317Z"
   },
   {
    "duration": 47,
    "start_time": "2023-06-18T17:03:18.328Z"
   },
   {
    "duration": 27,
    "start_time": "2023-06-18T17:03:18.376Z"
   },
   {
    "duration": 4,
    "start_time": "2023-06-18T17:03:18.405Z"
   },
   {
    "duration": 24,
    "start_time": "2023-06-18T17:03:18.411Z"
   },
   {
    "duration": 3,
    "start_time": "2023-06-18T17:03:18.437Z"
   },
   {
    "duration": 6,
    "start_time": "2023-06-18T17:03:18.441Z"
   },
   {
    "duration": 21,
    "start_time": "2023-06-18T17:03:18.448Z"
   },
   {
    "duration": 3,
    "start_time": "2023-06-18T17:03:18.471Z"
   },
   {
    "duration": 126,
    "start_time": "2023-06-18T17:03:18.476Z"
   },
   {
    "duration": 5,
    "start_time": "2023-06-18T17:03:18.603Z"
   },
   {
    "duration": 201,
    "start_time": "2023-06-18T17:03:18.610Z"
   },
   {
    "duration": 192,
    "start_time": "2023-06-18T17:03:18.812Z"
   },
   {
    "duration": 206,
    "start_time": "2023-06-18T17:03:19.006Z"
   },
   {
    "duration": 6,
    "start_time": "2023-06-18T17:03:19.213Z"
   },
   {
    "duration": 17,
    "start_time": "2023-06-18T17:03:19.221Z"
   },
   {
    "duration": 1059,
    "start_time": "2023-06-18T17:03:19.240Z"
   },
   {
    "duration": 5,
    "start_time": "2023-06-18T17:03:20.304Z"
   },
   {
    "duration": 26,
    "start_time": "2023-06-18T17:03:20.311Z"
   },
   {
    "duration": 414,
    "start_time": "2023-06-18T17:03:20.339Z"
   },
   {
    "duration": 42,
    "start_time": "2023-06-18T17:03:20.755Z"
   },
   {
    "duration": 43,
    "start_time": "2023-06-18T17:03:20.801Z"
   },
   {
    "duration": 168,
    "start_time": "2023-06-18T17:03:20.846Z"
   },
   {
    "duration": 4,
    "start_time": "2023-06-18T17:03:21.015Z"
   },
   {
    "duration": 6,
    "start_time": "2023-06-18T17:03:21.020Z"
   },
   {
    "duration": 51,
    "start_time": "2023-06-18T17:03:21.028Z"
   },
   {
    "duration": 3,
    "start_time": "2023-06-18T17:03:21.081Z"
   },
   {
    "duration": 7376,
    "start_time": "2023-06-18T17:03:21.086Z"
   },
   {
    "duration": 5303,
    "start_time": "2023-06-18T17:03:28.464Z"
   },
   {
    "duration": 3,
    "start_time": "2023-06-18T17:03:33.769Z"
   },
   {
    "duration": 9,
    "start_time": "2023-06-18T17:03:33.774Z"
   },
   {
    "duration": 3400,
    "start_time": "2023-06-18T17:03:33.784Z"
   },
   {
    "duration": 5,
    "start_time": "2023-06-18T17:03:37.186Z"
   },
   {
    "duration": 6930,
    "start_time": "2023-06-18T17:03:37.268Z"
   },
   {
    "duration": 7671,
    "start_time": "2023-06-18T17:03:58.656Z"
   },
   {
    "duration": 7,
    "start_time": "2023-06-18T17:04:07.725Z"
   },
   {
    "duration": 6958,
    "start_time": "2023-06-18T17:04:35.963Z"
   },
   {
    "duration": 11,
    "start_time": "2023-06-18T17:06:19.314Z"
   },
   {
    "duration": 10,
    "start_time": "2023-06-18T17:06:32.648Z"
   },
   {
    "duration": 10,
    "start_time": "2023-06-18T17:07:37.521Z"
   },
   {
    "duration": 40,
    "start_time": "2023-06-18T17:07:40.458Z"
   },
   {
    "duration": 15446,
    "start_time": "2023-06-18T17:07:45.655Z"
   },
   {
    "duration": 120387,
    "start_time": "2023-06-18T17:09:30.790Z"
   },
   {
    "duration": 240407,
    "start_time": "2023-06-18T17:11:58.437Z"
   },
   {
    "duration": 4,
    "start_time": "2023-06-18T17:16:06.900Z"
   },
   {
    "duration": 26,
    "start_time": "2023-06-18T17:16:08.120Z"
   },
   {
    "duration": 3,
    "start_time": "2023-06-18T17:16:08.830Z"
   },
   {
    "duration": 67,
    "start_time": "2023-06-18T17:16:19.849Z"
   },
   {
    "duration": 3255,
    "start_time": "2023-06-18T17:16:26.511Z"
   },
   {
    "duration": 3332,
    "start_time": "2023-06-18T17:16:29.768Z"
   },
   {
    "duration": 8,
    "start_time": "2023-06-18T17:16:33.103Z"
   },
   {
    "duration": 6,
    "start_time": "2023-06-18T17:16:33.113Z"
   },
   {
    "duration": 32,
    "start_time": "2023-06-18T17:16:33.121Z"
   },
   {
    "duration": 6,
    "start_time": "2023-06-18T17:16:33.155Z"
   },
   {
    "duration": 9,
    "start_time": "2023-06-18T17:16:33.163Z"
   },
   {
    "duration": 10,
    "start_time": "2023-06-18T17:16:33.174Z"
   },
   {
    "duration": 8,
    "start_time": "2023-06-18T17:16:33.186Z"
   },
   {
    "duration": 6,
    "start_time": "2023-06-18T17:16:33.197Z"
   },
   {
    "duration": 68,
    "start_time": "2023-06-18T17:16:33.205Z"
   },
   {
    "duration": 3,
    "start_time": "2023-06-18T17:16:33.275Z"
   },
   {
    "duration": 6,
    "start_time": "2023-06-18T17:16:33.281Z"
   },
   {
    "duration": 6,
    "start_time": "2023-06-18T17:16:33.289Z"
   },
   {
    "duration": 4,
    "start_time": "2023-06-18T17:16:33.297Z"
   },
   {
    "duration": 129,
    "start_time": "2023-06-18T17:16:33.303Z"
   },
   {
    "duration": 5,
    "start_time": "2023-06-18T17:16:33.434Z"
   },
   {
    "duration": 188,
    "start_time": "2023-06-18T17:16:33.441Z"
   },
   {
    "duration": 174,
    "start_time": "2023-06-18T17:16:33.631Z"
   },
   {
    "duration": 284,
    "start_time": "2023-06-18T17:16:33.807Z"
   },
   {
    "duration": 8,
    "start_time": "2023-06-18T17:16:34.093Z"
   },
   {
    "duration": 24,
    "start_time": "2023-06-18T17:16:34.103Z"
   },
   {
    "duration": 1164,
    "start_time": "2023-06-18T17:16:34.129Z"
   },
   {
    "duration": 3,
    "start_time": "2023-06-18T17:16:35.295Z"
   },
   {
    "duration": 32,
    "start_time": "2023-06-18T17:16:35.299Z"
   },
   {
    "duration": 328,
    "start_time": "2023-06-18T17:16:35.333Z"
   },
   {
    "duration": 27,
    "start_time": "2023-06-18T17:16:35.663Z"
   },
   {
    "duration": 39,
    "start_time": "2023-06-18T17:16:35.693Z"
   },
   {
    "duration": 129,
    "start_time": "2023-06-18T17:16:35.733Z"
   },
   {
    "duration": 4,
    "start_time": "2023-06-18T17:16:35.867Z"
   },
   {
    "duration": 7,
    "start_time": "2023-06-18T17:16:35.873Z"
   },
   {
    "duration": 31,
    "start_time": "2023-06-18T17:16:35.881Z"
   },
   {
    "duration": 3,
    "start_time": "2023-06-18T17:16:35.914Z"
   },
   {
    "duration": 4342,
    "start_time": "2023-06-18T17:16:35.918Z"
   },
   {
    "duration": 3753,
    "start_time": "2023-06-18T17:16:40.262Z"
   },
   {
    "duration": 1604,
    "start_time": "2023-06-18T17:16:47.083Z"
   },
   {
    "duration": 794,
    "start_time": "2023-06-18T17:16:48.693Z"
   },
   {
    "duration": 6,
    "start_time": "2023-06-18T17:16:49.489Z"
   },
   {
    "duration": 12,
    "start_time": "2023-06-18T17:16:49.497Z"
   },
   {
    "duration": 28,
    "start_time": "2023-06-18T17:16:49.510Z"
   },
   {
    "duration": 16,
    "start_time": "2023-06-18T17:16:49.539Z"
   },
   {
    "duration": 14,
    "start_time": "2023-06-18T17:16:49.556Z"
   },
   {
    "duration": 29,
    "start_time": "2023-06-18T17:16:49.571Z"
   },
   {
    "duration": 16,
    "start_time": "2023-06-18T17:16:49.601Z"
   },
   {
    "duration": 13,
    "start_time": "2023-06-18T17:16:49.620Z"
   },
   {
    "duration": 29,
    "start_time": "2023-06-18T17:16:49.634Z"
   },
   {
    "duration": 3,
    "start_time": "2023-06-18T17:16:49.665Z"
   },
   {
    "duration": 6,
    "start_time": "2023-06-18T17:16:49.670Z"
   },
   {
    "duration": 11,
    "start_time": "2023-06-18T17:16:49.678Z"
   },
   {
    "duration": 9,
    "start_time": "2023-06-18T17:16:49.691Z"
   },
   {
    "duration": 85,
    "start_time": "2023-06-18T17:16:49.702Z"
   },
   {
    "duration": 4,
    "start_time": "2023-06-18T17:16:49.789Z"
   },
   {
    "duration": 180,
    "start_time": "2023-06-18T17:16:49.795Z"
   },
   {
    "duration": 169,
    "start_time": "2023-06-18T17:16:49.977Z"
   },
   {
    "duration": 174,
    "start_time": "2023-06-18T17:16:50.148Z"
   },
   {
    "duration": 7,
    "start_time": "2023-06-18T17:16:50.324Z"
   },
   {
    "duration": 20,
    "start_time": "2023-06-18T17:16:50.332Z"
   },
   {
    "duration": 1011,
    "start_time": "2023-06-18T17:16:50.369Z"
   },
   {
    "duration": 3,
    "start_time": "2023-06-18T17:16:51.382Z"
   },
   {
    "duration": 30,
    "start_time": "2023-06-18T17:16:51.387Z"
   },
   {
    "duration": 328,
    "start_time": "2023-06-18T17:16:51.418Z"
   },
   {
    "duration": 35,
    "start_time": "2023-06-18T17:16:51.748Z"
   },
   {
    "duration": 52,
    "start_time": "2023-06-18T17:16:51.787Z"
   },
   {
    "duration": 113,
    "start_time": "2023-06-18T17:16:51.841Z"
   },
   {
    "duration": 12,
    "start_time": "2023-06-18T17:16:51.956Z"
   },
   {
    "duration": 4,
    "start_time": "2023-06-18T17:16:51.969Z"
   },
   {
    "duration": 29,
    "start_time": "2023-06-18T17:16:51.974Z"
   },
   {
    "duration": 5,
    "start_time": "2023-06-18T17:16:52.005Z"
   },
   {
    "duration": 3624,
    "start_time": "2023-06-18T17:16:52.011Z"
   },
   {
    "duration": 3340,
    "start_time": "2023-06-18T17:16:55.637Z"
   },
   {
    "duration": 3,
    "start_time": "2023-06-18T17:16:58.979Z"
   },
   {
    "duration": 4,
    "start_time": "2023-06-18T17:16:58.983Z"
   },
   {
    "duration": 3088,
    "start_time": "2023-06-18T17:16:58.989Z"
   },
   {
    "duration": 4,
    "start_time": "2023-06-18T17:17:02.079Z"
   },
   {
    "duration": 1568,
    "start_time": "2023-06-18T17:18:13.677Z"
   },
   {
    "duration": 858,
    "start_time": "2023-06-18T17:18:15.247Z"
   },
   {
    "duration": 7,
    "start_time": "2023-06-18T17:18:16.107Z"
   },
   {
    "duration": 16,
    "start_time": "2023-06-18T17:18:16.116Z"
   },
   {
    "duration": 45,
    "start_time": "2023-06-18T17:18:16.135Z"
   },
   {
    "duration": 5,
    "start_time": "2023-06-18T17:18:16.183Z"
   },
   {
    "duration": 43,
    "start_time": "2023-06-18T17:18:16.190Z"
   },
   {
    "duration": 14,
    "start_time": "2023-06-18T17:18:16.235Z"
   },
   {
    "duration": 7,
    "start_time": "2023-06-18T17:18:16.251Z"
   },
   {
    "duration": 6,
    "start_time": "2023-06-18T17:18:16.259Z"
   },
   {
    "duration": 38,
    "start_time": "2023-06-18T17:18:16.266Z"
   },
   {
    "duration": 3,
    "start_time": "2023-06-18T17:18:16.306Z"
   },
   {
    "duration": 6,
    "start_time": "2023-06-18T17:18:16.312Z"
   },
   {
    "duration": 4,
    "start_time": "2023-06-18T17:18:16.322Z"
   },
   {
    "duration": 3,
    "start_time": "2023-06-18T17:18:16.327Z"
   },
   {
    "duration": 72,
    "start_time": "2023-06-18T17:18:16.369Z"
   },
   {
    "duration": 4,
    "start_time": "2023-06-18T17:18:16.442Z"
   },
   {
    "duration": 182,
    "start_time": "2023-06-18T17:18:16.467Z"
   },
   {
    "duration": 172,
    "start_time": "2023-06-18T17:18:16.651Z"
   },
   {
    "duration": 195,
    "start_time": "2023-06-18T17:18:16.825Z"
   },
   {
    "duration": 6,
    "start_time": "2023-06-18T17:18:17.022Z"
   },
   {
    "duration": 32,
    "start_time": "2023-06-18T17:18:17.030Z"
   },
   {
    "duration": 907,
    "start_time": "2023-06-18T17:18:17.069Z"
   },
   {
    "duration": 3,
    "start_time": "2023-06-18T17:18:17.978Z"
   },
   {
    "duration": 22,
    "start_time": "2023-06-18T17:18:17.983Z"
   },
   {
    "duration": 349,
    "start_time": "2023-06-18T17:18:18.006Z"
   },
   {
    "duration": 38,
    "start_time": "2023-06-18T17:18:18.357Z"
   },
   {
    "duration": 71,
    "start_time": "2023-06-18T17:18:18.397Z"
   },
   {
    "duration": 105,
    "start_time": "2023-06-18T17:18:18.470Z"
   },
   {
    "duration": 3,
    "start_time": "2023-06-18T17:18:18.577Z"
   },
   {
    "duration": 10,
    "start_time": "2023-06-18T17:18:18.581Z"
   },
   {
    "duration": 32,
    "start_time": "2023-06-18T17:18:18.593Z"
   },
   {
    "duration": 3,
    "start_time": "2023-06-18T17:18:18.627Z"
   },
   {
    "duration": 3526,
    "start_time": "2023-06-18T17:18:18.631Z"
   },
   {
    "duration": 3117,
    "start_time": "2023-06-18T17:18:22.159Z"
   },
   {
    "duration": 4,
    "start_time": "2023-06-18T17:18:25.278Z"
   },
   {
    "duration": 9,
    "start_time": "2023-06-18T17:18:25.283Z"
   },
   {
    "duration": 2485,
    "start_time": "2023-06-18T17:18:25.295Z"
   },
   {
    "duration": 86,
    "start_time": "2023-06-18T17:18:27.783Z"
   },
   {
    "duration": 5,
    "start_time": "2023-06-18T17:18:28.797Z"
   },
   {
    "duration": 6,
    "start_time": "2023-06-18T17:18:56.607Z"
   },
   {
    "duration": 5,
    "start_time": "2023-06-18T17:18:57.615Z"
   },
   {
    "duration": 3,
    "start_time": "2023-06-18T17:19:19.289Z"
   },
   {
    "duration": 84447,
    "start_time": "2023-06-18T17:19:23.651Z"
   },
   {
    "duration": 1490,
    "start_time": "2023-06-18T17:21:11.600Z"
   },
   {
    "duration": 825,
    "start_time": "2023-06-18T17:21:13.092Z"
   },
   {
    "duration": 6,
    "start_time": "2023-06-18T17:21:13.919Z"
   },
   {
    "duration": 4,
    "start_time": "2023-06-18T17:21:13.928Z"
   },
   {
    "duration": 46,
    "start_time": "2023-06-18T17:21:13.934Z"
   },
   {
    "duration": 6,
    "start_time": "2023-06-18T17:21:13.982Z"
   },
   {
    "duration": 9,
    "start_time": "2023-06-18T17:21:13.990Z"
   },
   {
    "duration": 16,
    "start_time": "2023-06-18T17:21:14.001Z"
   },
   {
    "duration": 19,
    "start_time": "2023-06-18T17:21:14.020Z"
   },
   {
    "duration": 31,
    "start_time": "2023-06-18T17:21:14.043Z"
   },
   {
    "duration": 35,
    "start_time": "2023-06-18T17:21:14.076Z"
   },
   {
    "duration": 6,
    "start_time": "2023-06-18T17:21:14.113Z"
   },
   {
    "duration": 16,
    "start_time": "2023-06-18T17:21:14.121Z"
   },
   {
    "duration": 15,
    "start_time": "2023-06-18T17:21:14.139Z"
   },
   {
    "duration": 12,
    "start_time": "2023-06-18T17:21:14.156Z"
   },
   {
    "duration": 116,
    "start_time": "2023-06-18T17:21:14.172Z"
   },
   {
    "duration": 5,
    "start_time": "2023-06-18T17:21:14.291Z"
   },
   {
    "duration": 218,
    "start_time": "2023-06-18T17:21:14.298Z"
   },
   {
    "duration": 171,
    "start_time": "2023-06-18T17:21:14.518Z"
   },
   {
    "duration": 185,
    "start_time": "2023-06-18T17:21:14.691Z"
   },
   {
    "duration": 6,
    "start_time": "2023-06-18T17:21:14.877Z"
   },
   {
    "duration": 18,
    "start_time": "2023-06-18T17:21:14.884Z"
   },
   {
    "duration": 1002,
    "start_time": "2023-06-18T17:21:14.904Z"
   },
   {
    "duration": 2,
    "start_time": "2023-06-18T17:21:15.908Z"
   },
   {
    "duration": 29,
    "start_time": "2023-06-18T17:21:15.912Z"
   },
   {
    "duration": 358,
    "start_time": "2023-06-18T17:21:15.942Z"
   },
   {
    "duration": 26,
    "start_time": "2023-06-18T17:21:16.302Z"
   },
   {
    "duration": 56,
    "start_time": "2023-06-18T17:21:16.332Z"
   },
   {
    "duration": 112,
    "start_time": "2023-06-18T17:21:16.390Z"
   },
   {
    "duration": 4,
    "start_time": "2023-06-18T17:21:16.503Z"
   },
   {
    "duration": 15,
    "start_time": "2023-06-18T17:21:16.508Z"
   },
   {
    "duration": 44,
    "start_time": "2023-06-18T17:21:16.524Z"
   },
   {
    "duration": 2,
    "start_time": "2023-06-18T17:21:16.570Z"
   },
   {
    "duration": 5938,
    "start_time": "2023-06-18T17:21:16.573Z"
   },
   {
    "duration": 4505,
    "start_time": "2023-06-18T17:21:22.515Z"
   },
   {
    "duration": 3,
    "start_time": "2023-06-18T17:21:27.022Z"
   },
   {
    "duration": 16,
    "start_time": "2023-06-18T17:21:27.027Z"
   },
   {
    "duration": 4235,
    "start_time": "2023-06-18T17:21:27.045Z"
   },
   {
    "duration": 6,
    "start_time": "2023-06-18T17:21:31.376Z"
   },
   {
    "duration": 783680,
    "start_time": "2023-06-18T17:21:31.386Z"
   },
   {
    "duration": 2,
    "start_time": "2023-06-18T18:02:59.528Z"
   },
   {
    "duration": 3,
    "start_time": "2023-06-18T18:03:11.248Z"
   },
   {
    "duration": 250,
    "start_time": "2023-06-18T18:03:55.849Z"
   },
   {
    "duration": 538554,
    "start_time": "2023-06-18T18:04:51.465Z"
   },
   {
    "duration": 1603,
    "start_time": "2023-06-18T18:14:03.818Z"
   },
   {
    "duration": 3905,
    "start_time": "2023-06-18T18:14:05.423Z"
   },
   {
    "duration": 7,
    "start_time": "2023-06-18T18:14:09.330Z"
   },
   {
    "duration": 7,
    "start_time": "2023-06-18T18:14:09.339Z"
   },
   {
    "duration": 18,
    "start_time": "2023-06-18T18:14:09.347Z"
   },
   {
    "duration": 8,
    "start_time": "2023-06-18T18:14:09.367Z"
   },
   {
    "duration": 15,
    "start_time": "2023-06-18T18:14:09.377Z"
   },
   {
    "duration": 22,
    "start_time": "2023-06-18T18:14:09.394Z"
   },
   {
    "duration": 12,
    "start_time": "2023-06-18T18:14:09.418Z"
   },
   {
    "duration": 21,
    "start_time": "2023-06-18T18:14:09.433Z"
   },
   {
    "duration": 57,
    "start_time": "2023-06-18T18:14:09.455Z"
   },
   {
    "duration": 3,
    "start_time": "2023-06-18T18:14:09.514Z"
   },
   {
    "duration": 14,
    "start_time": "2023-06-18T18:14:09.518Z"
   },
   {
    "duration": 10,
    "start_time": "2023-06-18T18:14:09.533Z"
   },
   {
    "duration": 4,
    "start_time": "2023-06-18T18:14:09.544Z"
   },
   {
    "duration": 100,
    "start_time": "2023-06-18T18:14:09.550Z"
   },
   {
    "duration": 5,
    "start_time": "2023-06-18T18:14:09.651Z"
   },
   {
    "duration": 219,
    "start_time": "2023-06-18T18:14:09.657Z"
   },
   {
    "duration": 186,
    "start_time": "2023-06-18T18:14:09.878Z"
   },
   {
    "duration": 212,
    "start_time": "2023-06-18T18:14:10.066Z"
   },
   {
    "duration": 9,
    "start_time": "2023-06-18T18:14:10.280Z"
   },
   {
    "duration": 24,
    "start_time": "2023-06-18T18:14:10.291Z"
   },
   {
    "duration": 1020,
    "start_time": "2023-06-18T18:14:10.317Z"
   },
   {
    "duration": 4,
    "start_time": "2023-06-18T18:14:11.338Z"
   },
   {
    "duration": 48,
    "start_time": "2023-06-18T18:14:11.344Z"
   },
   {
    "duration": 379,
    "start_time": "2023-06-18T18:14:11.395Z"
   },
   {
    "duration": 39,
    "start_time": "2023-06-18T18:14:11.776Z"
   },
   {
    "duration": 52,
    "start_time": "2023-06-18T18:14:11.823Z"
   },
   {
    "duration": 135,
    "start_time": "2023-06-18T18:14:11.884Z"
   },
   {
    "duration": 3,
    "start_time": "2023-06-18T18:14:12.021Z"
   },
   {
    "duration": 14,
    "start_time": "2023-06-18T18:14:12.025Z"
   },
   {
    "duration": 46,
    "start_time": "2023-06-18T18:14:12.041Z"
   },
   {
    "duration": 9,
    "start_time": "2023-06-18T18:14:12.089Z"
   },
   {
    "duration": 6614,
    "start_time": "2023-06-18T18:14:12.106Z"
   },
   {
    "duration": 4190,
    "start_time": "2023-06-18T18:14:18.721Z"
   },
   {
    "duration": 2,
    "start_time": "2023-06-18T18:14:22.913Z"
   },
   {
    "duration": 2,
    "start_time": "2023-06-18T18:14:22.923Z"
   },
   {
    "duration": 3159,
    "start_time": "2023-06-18T18:14:22.927Z"
   },
   {
    "duration": 3,
    "start_time": "2023-06-18T18:14:26.088Z"
   },
   {
    "duration": 638262,
    "start_time": "2023-06-18T18:14:26.167Z"
   },
   {
    "duration": 1735,
    "start_time": "2023-06-19T07:25:51.112Z"
   },
   {
    "duration": 3128,
    "start_time": "2023-06-19T07:25:52.850Z"
   },
   {
    "duration": 7,
    "start_time": "2023-06-19T07:25:55.980Z"
   },
   {
    "duration": 9,
    "start_time": "2023-06-19T07:25:55.990Z"
   },
   {
    "duration": 22,
    "start_time": "2023-06-19T07:25:56.001Z"
   },
   {
    "duration": 4,
    "start_time": "2023-06-19T07:25:56.025Z"
   },
   {
    "duration": 20,
    "start_time": "2023-06-19T07:25:56.031Z"
   },
   {
    "duration": 36,
    "start_time": "2023-06-19T07:25:56.052Z"
   },
   {
    "duration": 22,
    "start_time": "2023-06-19T07:25:56.089Z"
   },
   {
    "duration": 21,
    "start_time": "2023-06-19T07:25:56.113Z"
   },
   {
    "duration": 33,
    "start_time": "2023-06-19T07:25:56.136Z"
   },
   {
    "duration": 2,
    "start_time": "2023-06-19T07:25:56.171Z"
   },
   {
    "duration": 14,
    "start_time": "2023-06-19T07:25:56.175Z"
   },
   {
    "duration": 12,
    "start_time": "2023-06-19T07:25:56.191Z"
   },
   {
    "duration": 3,
    "start_time": "2023-06-19T07:25:56.205Z"
   },
   {
    "duration": 99,
    "start_time": "2023-06-19T07:25:56.209Z"
   },
   {
    "duration": 5,
    "start_time": "2023-06-19T07:25:56.310Z"
   },
   {
    "duration": 212,
    "start_time": "2023-06-19T07:25:56.317Z"
   },
   {
    "duration": 193,
    "start_time": "2023-06-19T07:25:56.531Z"
   },
   {
    "duration": 278,
    "start_time": "2023-06-19T07:25:56.726Z"
   },
   {
    "duration": 7,
    "start_time": "2023-06-19T07:25:57.005Z"
   },
   {
    "duration": 27,
    "start_time": "2023-06-19T07:25:57.014Z"
   },
   {
    "duration": 869,
    "start_time": "2023-06-19T07:25:57.056Z"
   },
   {
    "duration": 3,
    "start_time": "2023-06-19T07:25:57.927Z"
   },
   {
    "duration": 37,
    "start_time": "2023-06-19T07:25:57.931Z"
   },
   {
    "duration": 390,
    "start_time": "2023-06-19T07:25:57.969Z"
   },
   {
    "duration": 43,
    "start_time": "2023-06-19T07:25:58.361Z"
   },
   {
    "duration": 64,
    "start_time": "2023-06-19T07:25:58.408Z"
   },
   {
    "duration": 135,
    "start_time": "2023-06-19T07:25:58.473Z"
   },
   {
    "duration": 3,
    "start_time": "2023-06-19T07:25:58.610Z"
   },
   {
    "duration": 8,
    "start_time": "2023-06-19T07:25:58.614Z"
   },
   {
    "duration": 43,
    "start_time": "2023-06-19T07:25:58.624Z"
   },
   {
    "duration": 3,
    "start_time": "2023-06-19T07:25:58.668Z"
   },
   {
    "duration": 2382,
    "start_time": "2023-06-19T07:25:58.673Z"
   },
   {
    "duration": 2422,
    "start_time": "2023-06-19T07:26:01.057Z"
   },
   {
    "duration": 2,
    "start_time": "2023-06-19T07:26:03.481Z"
   },
   {
    "duration": 42,
    "start_time": "2023-06-19T07:26:03.485Z"
   },
   {
    "duration": 2228,
    "start_time": "2023-06-19T07:26:03.529Z"
   },
   {
    "duration": 3,
    "start_time": "2023-06-19T07:26:05.759Z"
   },
   {
    "duration": 59915,
    "start_time": "2023-06-19T07:26:05.764Z"
   },
   {
    "duration": 107,
    "start_time": "2023-06-19T07:27:05.680Z"
   },
   {
    "duration": 0,
    "start_time": "2023-06-19T07:27:05.788Z"
   },
   {
    "duration": 0,
    "start_time": "2023-06-19T07:27:05.790Z"
   },
   {
    "duration": 0,
    "start_time": "2023-06-19T07:27:05.791Z"
   },
   {
    "duration": 0,
    "start_time": "2023-06-19T07:27:05.792Z"
   },
   {
    "duration": 0,
    "start_time": "2023-06-19T07:27:05.793Z"
   },
   {
    "duration": 0,
    "start_time": "2023-06-19T07:27:05.794Z"
   },
   {
    "duration": 0,
    "start_time": "2023-06-19T07:27:05.795Z"
   },
   {
    "duration": 0,
    "start_time": "2023-06-19T07:27:05.796Z"
   },
   {
    "duration": 0,
    "start_time": "2023-06-19T07:27:05.797Z"
   },
   {
    "duration": 151327,
    "start_time": "2023-06-19T07:27:11.743Z"
   },
   {
    "duration": 5455,
    "start_time": "2023-06-19T07:34:32.603Z"
   },
   {
    "duration": 5274,
    "start_time": "2023-06-19T07:35:17.731Z"
   },
   {
    "duration": 1453,
    "start_time": "2023-06-19T07:39:12.340Z"
   },
   {
    "duration": 795,
    "start_time": "2023-06-19T07:39:13.795Z"
   },
   {
    "duration": 5,
    "start_time": "2023-06-19T07:39:14.592Z"
   },
   {
    "duration": 10,
    "start_time": "2023-06-19T07:39:14.599Z"
   },
   {
    "duration": 28,
    "start_time": "2023-06-19T07:39:14.612Z"
   },
   {
    "duration": 16,
    "start_time": "2023-06-19T07:39:14.641Z"
   },
   {
    "duration": 27,
    "start_time": "2023-06-19T07:39:14.659Z"
   },
   {
    "duration": 10,
    "start_time": "2023-06-19T07:39:14.688Z"
   },
   {
    "duration": 10,
    "start_time": "2023-06-19T07:39:14.700Z"
   },
   {
    "duration": 18,
    "start_time": "2023-06-19T07:39:14.711Z"
   },
   {
    "duration": 38,
    "start_time": "2023-06-19T07:39:14.731Z"
   },
   {
    "duration": 2,
    "start_time": "2023-06-19T07:39:14.771Z"
   },
   {
    "duration": 22,
    "start_time": "2023-06-19T07:39:14.774Z"
   },
   {
    "duration": 13,
    "start_time": "2023-06-19T07:39:14.799Z"
   },
   {
    "duration": 20,
    "start_time": "2023-06-19T07:39:14.814Z"
   },
   {
    "duration": 122,
    "start_time": "2023-06-19T07:39:14.835Z"
   },
   {
    "duration": 4,
    "start_time": "2023-06-19T07:39:14.959Z"
   },
   {
    "duration": 260,
    "start_time": "2023-06-19T07:39:14.965Z"
   },
   {
    "duration": 199,
    "start_time": "2023-06-19T07:39:15.227Z"
   },
   {
    "duration": 200,
    "start_time": "2023-06-19T07:39:15.428Z"
   },
   {
    "duration": 6,
    "start_time": "2023-06-19T07:39:15.629Z"
   },
   {
    "duration": 35,
    "start_time": "2023-06-19T07:39:15.637Z"
   },
   {
    "duration": 962,
    "start_time": "2023-06-19T07:39:15.674Z"
   },
   {
    "duration": 3,
    "start_time": "2023-06-19T07:39:16.638Z"
   },
   {
    "duration": 38,
    "start_time": "2023-06-19T07:39:16.643Z"
   },
   {
    "duration": 392,
    "start_time": "2023-06-19T07:39:16.683Z"
   },
   {
    "duration": 26,
    "start_time": "2023-06-19T07:39:17.077Z"
   },
   {
    "duration": 58,
    "start_time": "2023-06-19T07:39:17.105Z"
   },
   {
    "duration": 115,
    "start_time": "2023-06-19T07:39:17.165Z"
   },
   {
    "duration": 4,
    "start_time": "2023-06-19T07:39:17.282Z"
   },
   {
    "duration": 18,
    "start_time": "2023-06-19T07:39:17.288Z"
   },
   {
    "duration": 43,
    "start_time": "2023-06-19T07:39:17.308Z"
   },
   {
    "duration": 3,
    "start_time": "2023-06-19T07:39:17.354Z"
   },
   {
    "duration": 2464,
    "start_time": "2023-06-19T07:39:17.358Z"
   },
   {
    "duration": 2411,
    "start_time": "2023-06-19T07:39:19.823Z"
   },
   {
    "duration": 3,
    "start_time": "2023-06-19T07:39:22.236Z"
   },
   {
    "duration": 11,
    "start_time": "2023-06-19T07:39:22.241Z"
   },
   {
    "duration": 3003,
    "start_time": "2023-06-19T07:39:22.254Z"
   },
   {
    "duration": 4,
    "start_time": "2023-06-19T07:39:25.259Z"
   },
   {
    "duration": 59703,
    "start_time": "2023-06-19T07:39:25.265Z"
   },
   {
    "duration": 107,
    "start_time": "2023-06-19T07:40:24.971Z"
   },
   {
    "duration": 0,
    "start_time": "2023-06-19T07:40:25.079Z"
   },
   {
    "duration": 0,
    "start_time": "2023-06-19T07:40:25.081Z"
   },
   {
    "duration": 0,
    "start_time": "2023-06-19T07:40:25.082Z"
   },
   {
    "duration": 0,
    "start_time": "2023-06-19T07:40:25.083Z"
   },
   {
    "duration": 0,
    "start_time": "2023-06-19T07:40:25.083Z"
   },
   {
    "duration": 0,
    "start_time": "2023-06-19T07:40:25.084Z"
   },
   {
    "duration": 0,
    "start_time": "2023-06-19T07:40:25.086Z"
   },
   {
    "duration": 0,
    "start_time": "2023-06-19T07:40:25.086Z"
   },
   {
    "duration": 0,
    "start_time": "2023-06-19T07:40:25.087Z"
   },
   {
    "duration": 181365,
    "start_time": "2023-06-19T07:41:31.449Z"
   },
   {
    "duration": 3,
    "start_time": "2023-06-19T07:46:26.076Z"
   },
   {
    "duration": 16461,
    "start_time": "2023-06-19T07:48:17.807Z"
   },
   {
    "duration": 16562,
    "start_time": "2023-06-19T07:49:06.705Z"
   },
   {
    "duration": 16823,
    "start_time": "2023-06-19T07:49:51.060Z"
   },
   {
    "duration": 16819,
    "start_time": "2023-06-19T07:50:46.208Z"
   },
   {
    "duration": 38,
    "start_time": "2023-06-19T07:53:54.833Z"
   },
   {
    "duration": 6,
    "start_time": "2023-06-19T07:54:35.065Z"
   },
   {
    "duration": 6,
    "start_time": "2023-06-19T07:54:40.494Z"
   },
   {
    "duration": 6,
    "start_time": "2023-06-19T07:54:43.339Z"
   },
   {
    "duration": 7,
    "start_time": "2023-06-19T07:55:47.237Z"
   },
   {
    "duration": 4,
    "start_time": "2023-06-19T07:56:01.071Z"
   },
   {
    "duration": 5,
    "start_time": "2023-06-19T07:56:12.906Z"
   },
   {
    "duration": 12,
    "start_time": "2023-06-19T07:57:03.015Z"
   },
   {
    "duration": 6,
    "start_time": "2023-06-19T07:57:08.108Z"
   },
   {
    "duration": 7,
    "start_time": "2023-06-19T07:57:16.260Z"
   },
   {
    "duration": 6,
    "start_time": "2023-06-19T07:57:27.170Z"
   },
   {
    "duration": 6,
    "start_time": "2023-06-19T07:57:38.272Z"
   },
   {
    "duration": 3,
    "start_time": "2023-06-19T07:57:39.807Z"
   },
   {
    "duration": 5,
    "start_time": "2023-06-19T07:57:51.105Z"
   },
   {
    "duration": 6,
    "start_time": "2023-06-19T07:57:51.417Z"
   },
   {
    "duration": 3,
    "start_time": "2023-06-19T07:57:51.756Z"
   },
   {
    "duration": 2,
    "start_time": "2023-06-19T07:58:17.944Z"
   },
   {
    "duration": 1377,
    "start_time": "2023-06-19T07:59:12.170Z"
   },
   {
    "duration": 613,
    "start_time": "2023-06-19T08:03:58.320Z"
   },
   {
    "duration": 3059,
    "start_time": "2023-06-19T08:04:20.617Z"
   },
   {
    "duration": 1190,
    "start_time": "2023-06-19T08:05:01.829Z"
   },
   {
    "duration": 3084,
    "start_time": "2023-06-19T08:05:07.296Z"
   },
   {
    "duration": 920,
    "start_time": "2023-06-19T08:05:25.559Z"
   },
   {
    "duration": 3350,
    "start_time": "2023-06-19T08:05:39.298Z"
   },
   {
    "duration": 16922,
    "start_time": "2023-06-19T08:06:40.144Z"
   },
   {
    "duration": 4,
    "start_time": "2023-06-19T08:06:57.068Z"
   },
   {
    "duration": 1231,
    "start_time": "2023-06-19T08:07:54.230Z"
   },
   {
    "duration": 14,
    "start_time": "2023-06-19T08:09:49.797Z"
   },
   {
    "duration": 4120,
    "start_time": "2023-06-19T08:10:01.093Z"
   },
   {
    "duration": 16539,
    "start_time": "2023-06-19T08:10:14.360Z"
   },
   {
    "duration": 6,
    "start_time": "2023-06-19T08:10:30.901Z"
   },
   {
    "duration": 4,
    "start_time": "2023-06-19T08:14:26.843Z"
   },
   {
    "duration": 1137,
    "start_time": "2023-06-19T08:14:34.546Z"
   },
   {
    "duration": 3,
    "start_time": "2023-06-19T08:25:42.204Z"
   },
   {
    "duration": 4,
    "start_time": "2023-06-19T08:25:42.615Z"
   },
   {
    "duration": 922,
    "start_time": "2023-06-19T08:25:42.966Z"
   },
   {
    "duration": 4,
    "start_time": "2023-06-19T08:30:59.588Z"
   },
   {
    "duration": 1747,
    "start_time": "2023-06-19T08:31:00.181Z"
   },
   {
    "duration": 4,
    "start_time": "2023-06-19T08:32:34.428Z"
   },
   {
    "duration": 2402,
    "start_time": "2023-06-19T08:32:34.840Z"
   },
   {
    "duration": 8503,
    "start_time": "2023-06-19T08:33:10.604Z"
   },
   {
    "duration": 16,
    "start_time": "2023-06-19T08:33:24.042Z"
   },
   {
    "duration": 2514,
    "start_time": "2023-06-19T08:52:11.311Z"
   },
   {
    "duration": 2496,
    "start_time": "2023-06-19T08:52:37.656Z"
   },
   {
    "duration": 10,
    "start_time": "2023-06-19T08:55:37.117Z"
   },
   {
    "duration": 2131,
    "start_time": "2023-06-19T08:55:45.876Z"
   },
   {
    "duration": 1615,
    "start_time": "2023-06-19T08:56:46.156Z"
   },
   {
    "duration": 16,
    "start_time": "2023-06-19T08:57:12.126Z"
   },
   {
    "duration": 1657,
    "start_time": "2023-06-19T08:57:12.910Z"
   },
   {
    "duration": 1595,
    "start_time": "2023-06-19T08:57:30.018Z"
   },
   {
    "duration": 1560,
    "start_time": "2023-06-19T09:07:10.711Z"
   },
   {
    "duration": 1547,
    "start_time": "2023-06-19T09:07:34.335Z"
   },
   {
    "duration": 750,
    "start_time": "2023-06-19T09:07:35.884Z"
   },
   {
    "duration": 5,
    "start_time": "2023-06-19T09:07:36.636Z"
   },
   {
    "duration": 19,
    "start_time": "2023-06-19T09:07:36.643Z"
   },
   {
    "duration": 41,
    "start_time": "2023-06-19T09:07:36.663Z"
   },
   {
    "duration": 4,
    "start_time": "2023-06-19T09:07:36.706Z"
   },
   {
    "duration": 12,
    "start_time": "2023-06-19T09:07:36.712Z"
   },
   {
    "duration": 27,
    "start_time": "2023-06-19T09:07:36.726Z"
   },
   {
    "duration": 20,
    "start_time": "2023-06-19T09:07:36.755Z"
   },
   {
    "duration": 18,
    "start_time": "2023-06-19T09:07:36.778Z"
   },
   {
    "duration": 46,
    "start_time": "2023-06-19T09:07:36.797Z"
   },
   {
    "duration": 3,
    "start_time": "2023-06-19T09:07:36.844Z"
   },
   {
    "duration": 26,
    "start_time": "2023-06-19T09:07:36.849Z"
   },
   {
    "duration": 25,
    "start_time": "2023-06-19T09:07:36.877Z"
   },
   {
    "duration": 26,
    "start_time": "2023-06-19T09:07:36.903Z"
   },
   {
    "duration": 50,
    "start_time": "2023-06-19T09:07:36.930Z"
   },
   {
    "duration": 101,
    "start_time": "2023-06-19T09:07:36.982Z"
   },
   {
    "duration": 4,
    "start_time": "2023-06-19T09:07:37.085Z"
   },
   {
    "duration": 220,
    "start_time": "2023-06-19T09:07:37.090Z"
   },
   {
    "duration": 193,
    "start_time": "2023-06-19T09:07:37.311Z"
   },
   {
    "duration": 198,
    "start_time": "2023-06-19T09:07:37.506Z"
   },
   {
    "duration": 6,
    "start_time": "2023-06-19T09:07:37.706Z"
   },
   {
    "duration": 20,
    "start_time": "2023-06-19T09:07:37.713Z"
   },
   {
    "duration": 971,
    "start_time": "2023-06-19T09:07:37.734Z"
   },
   {
    "duration": 3,
    "start_time": "2023-06-19T09:07:38.707Z"
   },
   {
    "duration": 35,
    "start_time": "2023-06-19T09:07:38.712Z"
   },
   {
    "duration": 352,
    "start_time": "2023-06-19T09:07:38.749Z"
   },
   {
    "duration": 26,
    "start_time": "2023-06-19T09:07:39.106Z"
   },
   {
    "duration": 59,
    "start_time": "2023-06-19T09:07:39.134Z"
   },
   {
    "duration": 118,
    "start_time": "2023-06-19T09:07:39.195Z"
   },
   {
    "duration": 4,
    "start_time": "2023-06-19T09:07:39.314Z"
   },
   {
    "duration": 16,
    "start_time": "2023-06-19T09:07:39.320Z"
   },
   {
    "duration": 40,
    "start_time": "2023-06-19T09:07:39.338Z"
   },
   {
    "duration": 3,
    "start_time": "2023-06-19T09:07:39.380Z"
   },
   {
    "duration": 2423,
    "start_time": "2023-06-19T09:07:39.385Z"
   },
   {
    "duration": 2483,
    "start_time": "2023-06-19T09:07:41.810Z"
   },
   {
    "duration": 4,
    "start_time": "2023-06-19T09:07:44.295Z"
   },
   {
    "duration": 19,
    "start_time": "2023-06-19T09:07:44.300Z"
   },
   {
    "duration": 2937,
    "start_time": "2023-06-19T09:07:44.321Z"
   },
   {
    "duration": 6,
    "start_time": "2023-06-19T09:07:47.264Z"
   },
   {
    "duration": 148,
    "start_time": "2023-06-19T09:07:47.272Z"
   },
   {
    "duration": 0,
    "start_time": "2023-06-19T09:07:47.423Z"
   },
   {
    "duration": 63,
    "start_time": "2023-06-19T09:08:30.937Z"
   },
   {
    "duration": 194587,
    "start_time": "2023-06-19T09:08:51.801Z"
   },
   {
    "duration": 222,
    "start_time": "2023-06-19T09:22:46.987Z"
   },
   {
    "duration": 99,
    "start_time": "2023-06-19T09:27:26.096Z"
   },
   {
    "duration": 4,
    "start_time": "2023-06-19T09:27:38.427Z"
   },
   {
    "duration": 138,
    "start_time": "2023-06-19T09:27:50.253Z"
   },
   {
    "duration": 120,
    "start_time": "2023-06-19T09:28:11.721Z"
   },
   {
    "duration": 12164,
    "start_time": "2023-06-19T09:29:06.548Z"
   },
   {
    "duration": 33341,
    "start_time": "2023-06-19T09:29:39.029Z"
   },
   {
    "duration": 4796,
    "start_time": "2023-06-19T09:32:52.672Z"
   },
   {
    "duration": 4707,
    "start_time": "2023-06-19T09:33:23.901Z"
   },
   {
    "duration": 58439,
    "start_time": "2023-06-19T09:34:49.542Z"
   },
   {
    "duration": 5278,
    "start_time": "2023-06-19T09:36:28.496Z"
   },
   {
    "duration": 27,
    "start_time": "2023-06-19T09:37:40.294Z"
   },
   {
    "duration": 29,
    "start_time": "2023-06-19T09:37:49.599Z"
   },
   {
    "duration": 4,
    "start_time": "2023-06-19T09:38:07.444Z"
   },
   {
    "duration": 4,
    "start_time": "2023-06-19T09:38:19.902Z"
   },
   {
    "duration": 6,
    "start_time": "2023-06-19T09:38:32.199Z"
   },
   {
    "duration": 5,
    "start_time": "2023-06-19T09:39:05.104Z"
   },
   {
    "duration": 7,
    "start_time": "2023-06-19T09:39:24.546Z"
   },
   {
    "duration": 6,
    "start_time": "2023-06-19T09:39:39.135Z"
   },
   {
    "duration": 8,
    "start_time": "2023-06-19T09:39:54.818Z"
   },
   {
    "duration": 31,
    "start_time": "2023-06-19T09:41:16.551Z"
   },
   {
    "duration": 50,
    "start_time": "2023-06-19T09:41:22.803Z"
   },
   {
    "duration": 23,
    "start_time": "2023-06-19T09:41:28.804Z"
   },
   {
    "duration": 45,
    "start_time": "2023-06-19T09:41:34.653Z"
   },
   {
    "duration": 19,
    "start_time": "2023-06-19T09:41:57.340Z"
   },
   {
    "duration": 4,
    "start_time": "2023-06-19T09:42:06.451Z"
   },
   {
    "duration": 13,
    "start_time": "2023-06-19T09:42:27.001Z"
   },
   {
    "duration": 15,
    "start_time": "2023-06-19T09:42:36.522Z"
   },
   {
    "duration": 10,
    "start_time": "2023-06-19T09:43:38.202Z"
   },
   {
    "duration": 6,
    "start_time": "2023-06-19T09:43:47.751Z"
   },
   {
    "duration": 9,
    "start_time": "2023-06-19T09:43:56.919Z"
   },
   {
    "duration": 10,
    "start_time": "2023-06-19T09:44:02.914Z"
   },
   {
    "duration": 11,
    "start_time": "2023-06-19T09:44:11.268Z"
   },
   {
    "duration": 4,
    "start_time": "2023-06-19T09:44:23.509Z"
   },
   {
    "duration": 9,
    "start_time": "2023-06-19T09:44:35.609Z"
   },
   {
    "duration": 10,
    "start_time": "2023-06-19T09:44:39.398Z"
   },
   {
    "duration": 4,
    "start_time": "2023-06-19T09:44:57.240Z"
   },
   {
    "duration": 27,
    "start_time": "2023-06-19T09:44:57.250Z"
   },
   {
    "duration": 934,
    "start_time": "2023-06-19T09:44:57.279Z"
   },
   {
    "duration": 5,
    "start_time": "2023-06-19T09:44:58.215Z"
   },
   {
    "duration": 11,
    "start_time": "2023-06-19T09:44:58.221Z"
   },
   {
    "duration": 42,
    "start_time": "2023-06-19T09:44:58.234Z"
   },
   {
    "duration": 9,
    "start_time": "2023-06-19T09:44:58.286Z"
   },
   {
    "duration": 13,
    "start_time": "2023-06-19T09:44:58.299Z"
   },
   {
    "duration": 25,
    "start_time": "2023-06-19T09:44:58.315Z"
   },
   {
    "duration": 11,
    "start_time": "2023-06-19T09:44:58.342Z"
   },
   {
    "duration": 10,
    "start_time": "2023-06-19T09:44:58.355Z"
   },
   {
    "duration": 30,
    "start_time": "2023-06-19T09:44:58.368Z"
   },
   {
    "duration": 6,
    "start_time": "2023-06-19T09:44:58.401Z"
   },
   {
    "duration": 5,
    "start_time": "2023-06-19T09:44:58.408Z"
   },
   {
    "duration": 9,
    "start_time": "2023-06-19T09:44:58.415Z"
   },
   {
    "duration": 10,
    "start_time": "2023-06-19T09:44:58.426Z"
   },
   {
    "duration": 35,
    "start_time": "2023-06-19T09:44:58.438Z"
   },
   {
    "duration": 99,
    "start_time": "2023-06-19T09:44:58.475Z"
   },
   {
    "duration": 16,
    "start_time": "2023-06-19T09:44:58.576Z"
   },
   {
    "duration": 213,
    "start_time": "2023-06-19T09:44:58.596Z"
   },
   {
    "duration": 202,
    "start_time": "2023-06-19T09:44:58.811Z"
   },
   {
    "duration": 214,
    "start_time": "2023-06-19T09:44:59.015Z"
   },
   {
    "duration": 6,
    "start_time": "2023-06-19T09:44:59.231Z"
   },
   {
    "duration": 37,
    "start_time": "2023-06-19T09:44:59.239Z"
   },
   {
    "duration": 1024,
    "start_time": "2023-06-19T09:44:59.278Z"
   },
   {
    "duration": 3,
    "start_time": "2023-06-19T09:45:00.304Z"
   },
   {
    "duration": 79,
    "start_time": "2023-06-19T09:45:00.309Z"
   },
   {
    "duration": 650,
    "start_time": "2023-06-19T09:45:00.390Z"
   },
   {
    "duration": 43,
    "start_time": "2023-06-19T09:45:01.043Z"
   },
   {
    "duration": 47,
    "start_time": "2023-06-19T09:45:01.095Z"
   },
   {
    "duration": 150,
    "start_time": "2023-06-19T09:45:01.143Z"
   },
   {
    "duration": 5,
    "start_time": "2023-06-19T09:45:01.295Z"
   },
   {
    "duration": 84,
    "start_time": "2023-06-19T09:45:01.302Z"
   },
   {
    "duration": 113,
    "start_time": "2023-06-19T09:45:01.388Z"
   },
   {
    "duration": 10,
    "start_time": "2023-06-19T09:46:28.444Z"
   },
   {
    "duration": 5,
    "start_time": "2023-06-19T09:46:32.342Z"
   },
   {
    "duration": 5,
    "start_time": "2023-06-19T09:46:37.913Z"
   },
   {
    "duration": 11,
    "start_time": "2023-06-19T09:47:02.699Z"
   },
   {
    "duration": 14,
    "start_time": "2023-06-19T09:47:21.427Z"
   },
   {
    "duration": 2,
    "start_time": "2023-06-19T09:47:22.898Z"
   },
   {
    "duration": 3337,
    "start_time": "2023-06-19T09:47:23.198Z"
   },
   {
    "duration": 2630,
    "start_time": "2023-06-19T09:47:26.538Z"
   },
   {
    "duration": 2,
    "start_time": "2023-06-19T09:47:29.171Z"
   },
   {
    "duration": 6,
    "start_time": "2023-06-19T09:47:29.175Z"
   },
   {
    "duration": 43,
    "start_time": "2023-06-19T09:48:41.534Z"
   },
   {
    "duration": 28,
    "start_time": "2023-06-19T09:48:59.692Z"
   },
   {
    "duration": 66476,
    "start_time": "2023-06-19T09:49:10.430Z"
   },
   {
    "duration": 5458,
    "start_time": "2023-06-19T09:50:16.909Z"
   },
   {
    "duration": 5509,
    "start_time": "2023-06-19T09:50:31.452Z"
   },
   {
    "duration": 1381,
    "start_time": "2023-06-19T09:51:53.748Z"
   },
   {
    "duration": 12,
    "start_time": "2023-06-19T09:52:02.800Z"
   },
   {
    "duration": 14,
    "start_time": "2023-06-19T09:52:13.904Z"
   },
   {
    "duration": 16,
    "start_time": "2023-06-19T09:53:18.778Z"
   },
   {
    "duration": 10,
    "start_time": "2023-06-19T09:54:08.400Z"
   },
   {
    "duration": 7,
    "start_time": "2023-06-19T09:54:31.402Z"
   },
   {
    "duration": 7,
    "start_time": "2023-06-19T09:55:58.232Z"
   },
   {
    "duration": 62051,
    "start_time": "2023-06-19T09:56:42.058Z"
   },
   {
    "duration": 5594,
    "start_time": "2023-06-19T09:57:44.111Z"
   },
   {
    "duration": 1340,
    "start_time": "2023-06-19T09:57:49.707Z"
   },
   {
    "duration": 19,
    "start_time": "2023-06-19T09:57:51.056Z"
   },
   {
    "duration": 23,
    "start_time": "2023-06-19T09:57:51.079Z"
   },
   {
    "duration": 6,
    "start_time": "2023-06-19T09:58:37.344Z"
   },
   {
    "duration": 18778,
    "start_time": "2023-06-19T09:58:40.507Z"
   },
   {
    "duration": 4587,
    "start_time": "2023-06-19T09:58:59.296Z"
   },
   {
    "duration": 25,
    "start_time": "2023-06-19T09:59:03.886Z"
   },
   {
    "duration": 9,
    "start_time": "2023-06-19T09:59:03.913Z"
   },
   {
    "duration": 19695,
    "start_time": "2023-06-19T09:59:37.661Z"
   },
   {
    "duration": 18889,
    "start_time": "2023-06-19T10:01:08.531Z"
   },
   {
    "duration": 4937,
    "start_time": "2023-06-19T10:01:27.422Z"
   },
   {
    "duration": 30,
    "start_time": "2023-06-19T10:01:32.360Z"
   },
   {
    "duration": 10,
    "start_time": "2023-06-19T10:01:32.393Z"
   },
   {
    "duration": 11,
    "start_time": "2023-06-19T10:01:32.404Z"
   },
   {
    "duration": 8,
    "start_time": "2023-06-19T10:01:49.802Z"
   },
   {
    "duration": 18760,
    "start_time": "2023-06-19T10:02:06.094Z"
   },
   {
    "duration": 21,
    "start_time": "2023-06-19T10:10:10.919Z"
   },
   {
    "duration": 7,
    "start_time": "2023-06-19T10:10:11.380Z"
   },
   {
    "duration": 4450,
    "start_time": "2023-06-19T10:10:12.222Z"
   },
   {
    "duration": 19322,
    "start_time": "2023-06-19T10:10:16.675Z"
   },
   {
    "duration": 4,
    "start_time": "2023-06-19T10:10:36.000Z"
   },
   {
    "duration": 4274,
    "start_time": "2023-06-19T10:11:22.621Z"
   },
   {
    "duration": 4246,
    "start_time": "2023-06-19T10:12:08.889Z"
   },
   {
    "duration": 1635,
    "start_time": "2023-06-19T10:12:23.989Z"
   },
   {
    "duration": 7,
    "start_time": "2023-06-19T10:12:40.397Z"
   },
   {
    "duration": 4111,
    "start_time": "2023-06-19T10:12:56.932Z"
   },
   {
    "duration": 7,
    "start_time": "2023-06-19T10:13:01.791Z"
   },
   {
    "duration": 1481,
    "start_time": "2023-06-19T10:13:10.702Z"
   },
   {
    "duration": 10339,
    "start_time": "2023-06-19T10:14:42.623Z"
   },
   {
    "duration": 6,
    "start_time": "2023-06-19T10:15:14.749Z"
   },
   {
    "duration": 6,
    "start_time": "2023-06-19T10:15:25.488Z"
   },
   {
    "duration": 109,
    "start_time": "2023-06-19T10:15:58.896Z"
   },
   {
    "duration": 116,
    "start_time": "2023-06-19T10:16:02.873Z"
   },
   {
    "duration": 8,
    "start_time": "2023-06-19T10:16:06.236Z"
   },
   {
    "duration": 7,
    "start_time": "2023-06-19T10:16:12.695Z"
   },
   {
    "duration": 1723,
    "start_time": "2023-06-19T10:18:13.495Z"
   },
   {
    "duration": 3,
    "start_time": "2023-06-19T10:18:15.220Z"
   },
   {
    "duration": 925,
    "start_time": "2023-06-19T10:18:15.225Z"
   },
   {
    "duration": 16,
    "start_time": "2023-06-19T10:18:16.152Z"
   },
   {
    "duration": 22,
    "start_time": "2023-06-19T10:18:16.172Z"
   },
   {
    "duration": 30,
    "start_time": "2023-06-19T10:18:16.196Z"
   },
   {
    "duration": 4,
    "start_time": "2023-06-19T10:18:16.228Z"
   },
   {
    "duration": 23,
    "start_time": "2023-06-19T10:18:16.234Z"
   },
   {
    "duration": 23,
    "start_time": "2023-06-19T10:18:16.258Z"
   },
   {
    "duration": 8,
    "start_time": "2023-06-19T10:18:16.289Z"
   },
   {
    "duration": 6,
    "start_time": "2023-06-19T10:18:16.299Z"
   },
   {
    "duration": 28,
    "start_time": "2023-06-19T10:18:16.307Z"
   },
   {
    "duration": 3,
    "start_time": "2023-06-19T10:18:16.337Z"
   },
   {
    "duration": 39,
    "start_time": "2023-06-19T10:18:16.343Z"
   },
   {
    "duration": 5,
    "start_time": "2023-06-19T10:18:16.384Z"
   },
   {
    "duration": 8,
    "start_time": "2023-06-19T10:18:16.395Z"
   },
   {
    "duration": 14,
    "start_time": "2023-06-19T10:18:16.405Z"
   },
   {
    "duration": 144,
    "start_time": "2023-06-19T10:18:16.422Z"
   },
   {
    "duration": 10,
    "start_time": "2023-06-19T10:18:16.568Z"
   },
   {
    "duration": 266,
    "start_time": "2023-06-19T10:18:16.588Z"
   },
   {
    "duration": 216,
    "start_time": "2023-06-19T10:18:16.857Z"
   },
   {
    "duration": 248,
    "start_time": "2023-06-19T10:18:17.086Z"
   },
   {
    "duration": 6,
    "start_time": "2023-06-19T10:18:17.336Z"
   },
   {
    "duration": 40,
    "start_time": "2023-06-19T10:18:17.344Z"
   },
   {
    "duration": 1084,
    "start_time": "2023-06-19T10:18:17.393Z"
   },
   {
    "duration": 3,
    "start_time": "2023-06-19T10:18:18.479Z"
   },
   {
    "duration": 33,
    "start_time": "2023-06-19T10:18:18.487Z"
   },
   {
    "duration": 470,
    "start_time": "2023-06-19T10:18:18.522Z"
   },
   {
    "duration": 32,
    "start_time": "2023-06-19T10:18:18.996Z"
   },
   {
    "duration": 66,
    "start_time": "2023-06-19T10:18:19.030Z"
   },
   {
    "duration": 145,
    "start_time": "2023-06-19T10:18:19.098Z"
   },
   {
    "duration": 17,
    "start_time": "2023-06-19T10:18:19.245Z"
   },
   {
    "duration": 22,
    "start_time": "2023-06-19T10:18:19.267Z"
   },
   {
    "duration": 34,
    "start_time": "2023-06-19T10:18:19.295Z"
   },
   {
    "duration": 14,
    "start_time": "2023-06-19T10:18:19.331Z"
   },
   {
    "duration": 31,
    "start_time": "2023-06-19T10:18:19.348Z"
   },
   {
    "duration": 8,
    "start_time": "2023-06-19T10:18:19.382Z"
   },
   {
    "duration": 2526,
    "start_time": "2023-06-19T10:18:19.393Z"
   },
   {
    "duration": 2534,
    "start_time": "2023-06-19T10:18:21.921Z"
   },
   {
    "duration": 11,
    "start_time": "2023-06-19T10:18:24.457Z"
   },
   {
    "duration": 8,
    "start_time": "2023-06-19T10:18:24.478Z"
   },
   {
    "duration": 6204,
    "start_time": "2023-06-19T10:18:24.488Z"
   },
   {
    "duration": 201941,
    "start_time": "2023-06-19T10:18:30.698Z"
   },
   {
    "duration": 17710,
    "start_time": "2023-06-19T10:21:52.641Z"
   },
   {
    "duration": 60241,
    "start_time": "2023-06-19T10:22:10.352Z"
   },
   {
    "duration": 5040,
    "start_time": "2023-06-19T10:23:10.594Z"
   },
   {
    "duration": 42,
    "start_time": "2023-06-19T10:23:15.636Z"
   },
   {
    "duration": 5,
    "start_time": "2023-06-19T10:23:15.683Z"
   },
   {
    "duration": 9900,
    "start_time": "2023-06-19T10:23:15.690Z"
   },
   {
    "duration": 9,
    "start_time": "2023-06-19T10:23:25.592Z"
   },
   {
    "duration": 19019,
    "start_time": "2023-06-19T10:23:25.603Z"
   },
   {
    "duration": 4,
    "start_time": "2023-06-19T10:23:44.624Z"
   },
   {
    "duration": 151,
    "start_time": "2023-06-19T10:23:44.629Z"
   },
   {
    "duration": 0,
    "start_time": "2023-06-19T10:23:44.782Z"
   },
   {
    "duration": 0,
    "start_time": "2023-06-19T10:23:44.783Z"
   },
   {
    "duration": 0,
    "start_time": "2023-06-19T10:23:44.784Z"
   },
   {
    "duration": 0,
    "start_time": "2023-06-19T10:23:44.785Z"
   },
   {
    "duration": 0,
    "start_time": "2023-06-19T10:23:44.791Z"
   },
   {
    "duration": 0,
    "start_time": "2023-06-19T10:23:44.792Z"
   },
   {
    "duration": 0,
    "start_time": "2023-06-19T10:23:44.793Z"
   },
   {
    "duration": 1838,
    "start_time": "2023-06-19T10:47:16.996Z"
   },
   {
    "duration": 0,
    "start_time": "2023-06-19T10:47:18.836Z"
   },
   {
    "duration": 0,
    "start_time": "2023-06-19T10:47:18.837Z"
   },
   {
    "duration": 1775,
    "start_time": "2023-06-19T10:48:19.385Z"
   },
   {
    "duration": 18,
    "start_time": "2023-06-19T10:48:33.949Z"
   },
   {
    "duration": 1618,
    "start_time": "2023-06-19T10:49:19.898Z"
   },
   {
    "duration": 2182,
    "start_time": "2023-06-19T10:49:27.153Z"
   },
   {
    "duration": 1554,
    "start_time": "2023-06-19T10:49:29.337Z"
   },
   {
    "duration": 1599,
    "start_time": "2023-06-19T10:51:14.194Z"
   },
   {
    "duration": 1623,
    "start_time": "2023-06-19T10:53:15.129Z"
   },
   {
    "duration": 5,
    "start_time": "2023-06-19T10:53:16.754Z"
   },
   {
    "duration": 844,
    "start_time": "2023-06-19T10:53:16.761Z"
   },
   {
    "duration": 5,
    "start_time": "2023-06-19T10:53:17.606Z"
   },
   {
    "duration": 11,
    "start_time": "2023-06-19T10:53:17.656Z"
   },
   {
    "duration": 24,
    "start_time": "2023-06-19T10:53:17.668Z"
   },
   {
    "duration": 3,
    "start_time": "2023-06-19T10:53:17.694Z"
   },
   {
    "duration": 14,
    "start_time": "2023-06-19T10:53:17.699Z"
   },
   {
    "duration": 46,
    "start_time": "2023-06-19T10:53:17.716Z"
   },
   {
    "duration": 17,
    "start_time": "2023-06-19T10:53:17.768Z"
   },
   {
    "duration": 8,
    "start_time": "2023-06-19T10:53:17.787Z"
   },
   {
    "duration": 28,
    "start_time": "2023-06-19T10:53:17.796Z"
   },
   {
    "duration": 3,
    "start_time": "2023-06-19T10:53:17.825Z"
   },
   {
    "duration": 30,
    "start_time": "2023-06-19T10:53:17.831Z"
   },
   {
    "duration": 28,
    "start_time": "2023-06-19T10:53:17.862Z"
   },
   {
    "duration": 7,
    "start_time": "2023-06-19T10:53:17.892Z"
   },
   {
    "duration": 20,
    "start_time": "2023-06-19T10:53:17.900Z"
   },
   {
    "duration": 99,
    "start_time": "2023-06-19T10:53:17.922Z"
   },
   {
    "duration": 4,
    "start_time": "2023-06-19T10:53:18.023Z"
   },
   {
    "duration": 243,
    "start_time": "2023-06-19T10:53:18.029Z"
   },
   {
    "duration": 204,
    "start_time": "2023-06-19T10:53:18.274Z"
   },
   {
    "duration": 195,
    "start_time": "2023-06-19T10:53:18.480Z"
   },
   {
    "duration": 8,
    "start_time": "2023-06-19T10:53:18.678Z"
   },
   {
    "duration": 19,
    "start_time": "2023-06-19T10:53:18.688Z"
   },
   {
    "duration": 1015,
    "start_time": "2023-06-19T10:53:18.709Z"
   },
   {
    "duration": 4,
    "start_time": "2023-06-19T10:53:19.725Z"
   },
   {
    "duration": 32,
    "start_time": "2023-06-19T10:53:19.730Z"
   },
   {
    "duration": 379,
    "start_time": "2023-06-19T10:53:19.764Z"
   },
   {
    "duration": 41,
    "start_time": "2023-06-19T10:53:20.145Z"
   },
   {
    "duration": 39,
    "start_time": "2023-06-19T10:53:20.188Z"
   },
   {
    "duration": 144,
    "start_time": "2023-06-19T10:53:20.229Z"
   },
   {
    "duration": 8,
    "start_time": "2023-06-19T10:53:20.374Z"
   },
   {
    "duration": 6,
    "start_time": "2023-06-19T10:53:20.384Z"
   },
   {
    "duration": 50,
    "start_time": "2023-06-19T10:53:20.391Z"
   },
   {
    "duration": 10,
    "start_time": "2023-06-19T10:53:20.443Z"
   },
   {
    "duration": 30,
    "start_time": "2023-06-19T10:53:20.455Z"
   },
   {
    "duration": 12,
    "start_time": "2023-06-19T10:53:20.488Z"
   },
   {
    "duration": 2533,
    "start_time": "2023-06-19T10:53:20.504Z"
   },
   {
    "duration": 2434,
    "start_time": "2023-06-19T10:53:23.039Z"
   },
   {
    "duration": 4,
    "start_time": "2023-06-19T10:53:25.475Z"
   },
   {
    "duration": 11,
    "start_time": "2023-06-19T10:53:25.485Z"
   },
   {
    "duration": 2992,
    "start_time": "2023-06-19T10:53:25.497Z"
   },
   {
    "duration": 264007,
    "start_time": "2023-06-19T10:53:28.491Z"
   },
   {
    "duration": 105,
    "start_time": "2023-06-19T10:57:52.501Z"
   },
   {
    "duration": 60626,
    "start_time": "2023-06-19T10:57:52.608Z"
   },
   {
    "duration": 108,
    "start_time": "2023-06-19T10:58:53.235Z"
   },
   {
    "duration": 2,
    "start_time": "2023-06-19T10:58:53.346Z"
   },
   {
    "duration": 10,
    "start_time": "2023-06-19T10:58:53.349Z"
   },
   {
    "duration": 1979,
    "start_time": "2023-06-19T10:58:53.364Z"
   },
   {
    "duration": 15,
    "start_time": "2023-06-19T10:58:55.344Z"
   },
   {
    "duration": 10,
    "start_time": "2023-06-19T10:58:55.363Z"
   },
   {
    "duration": 16,
    "start_time": "2023-06-19T10:58:55.380Z"
   },
   {
    "duration": 253328,
    "start_time": "2023-06-19T10:58:59.801Z"
   },
   {
    "duration": 25419,
    "start_time": "2023-06-19T11:03:13.131Z"
   },
   {
    "duration": 24458,
    "start_time": "2023-06-19T11:06:37.544Z"
   },
   {
    "duration": 56599,
    "start_time": "2023-06-19T11:07:15.881Z"
   },
   {
    "duration": 4870,
    "start_time": "2023-06-19T11:08:12.482Z"
   },
   {
    "duration": 4810,
    "start_time": "2023-06-19T11:08:21.431Z"
   },
   {
    "duration": 1192,
    "start_time": "2023-06-19T11:08:49.739Z"
   },
   {
    "duration": 10,
    "start_time": "2023-06-19T11:08:50.932Z"
   },
   {
    "duration": 9,
    "start_time": "2023-06-19T11:08:51.279Z"
   },
   {
    "duration": 6612,
    "start_time": "2023-06-19T11:09:41.112Z"
   },
   {
    "duration": 23,
    "start_time": "2023-06-19T11:09:54.113Z"
   },
   {
    "duration": 12,
    "start_time": "2023-06-19T11:09:55.257Z"
   },
   {
    "duration": 2016,
    "start_time": "2023-06-19T12:36:56.514Z"
   },
   {
    "duration": 3,
    "start_time": "2023-06-19T12:36:58.532Z"
   },
   {
    "duration": 2142,
    "start_time": "2023-06-19T12:36:58.537Z"
   },
   {
    "duration": 6,
    "start_time": "2023-06-19T12:37:00.681Z"
   },
   {
    "duration": 39,
    "start_time": "2023-06-19T12:37:00.689Z"
   },
   {
    "duration": 55,
    "start_time": "2023-06-19T12:37:00.729Z"
   },
   {
    "duration": 38,
    "start_time": "2023-06-19T12:37:00.786Z"
   },
   {
    "duration": 44,
    "start_time": "2023-06-19T12:37:00.826Z"
   },
   {
    "duration": 67,
    "start_time": "2023-06-19T12:37:00.872Z"
   },
   {
    "duration": 55,
    "start_time": "2023-06-19T12:37:00.941Z"
   },
   {
    "duration": 47,
    "start_time": "2023-06-19T12:37:00.998Z"
   },
   {
    "duration": 95,
    "start_time": "2023-06-19T12:37:01.046Z"
   },
   {
    "duration": 36,
    "start_time": "2023-06-19T12:37:01.142Z"
   },
   {
    "duration": 114,
    "start_time": "2023-06-19T12:37:01.181Z"
   },
   {
    "duration": 65,
    "start_time": "2023-06-19T12:37:01.297Z"
   },
   {
    "duration": 25,
    "start_time": "2023-06-19T12:37:01.364Z"
   },
   {
    "duration": 50,
    "start_time": "2023-06-19T12:37:01.390Z"
   },
   {
    "duration": 130,
    "start_time": "2023-06-19T12:37:01.441Z"
   },
   {
    "duration": 4,
    "start_time": "2023-06-19T12:37:01.573Z"
   },
   {
    "duration": 226,
    "start_time": "2023-06-19T12:37:01.579Z"
   },
   {
    "duration": 191,
    "start_time": "2023-06-19T12:37:01.807Z"
   },
   {
    "duration": 273,
    "start_time": "2023-06-19T12:37:02.000Z"
   },
   {
    "duration": 7,
    "start_time": "2023-06-19T12:37:02.275Z"
   },
   {
    "duration": 610,
    "start_time": "2023-06-19T12:37:02.283Z"
   },
   {
    "duration": 1287,
    "start_time": "2023-06-19T12:37:02.895Z"
   },
   {
    "duration": 4,
    "start_time": "2023-06-19T12:37:04.184Z"
   },
   {
    "duration": 71,
    "start_time": "2023-06-19T12:37:04.189Z"
   },
   {
    "duration": 421,
    "start_time": "2023-06-19T12:37:04.263Z"
   },
   {
    "duration": 27,
    "start_time": "2023-06-19T12:37:04.685Z"
   },
   {
    "duration": 153,
    "start_time": "2023-06-19T12:37:04.714Z"
   },
   {
    "duration": 120,
    "start_time": "2023-06-19T12:37:04.869Z"
   },
   {
    "duration": 4,
    "start_time": "2023-06-19T12:37:04.991Z"
   },
   {
    "duration": 89,
    "start_time": "2023-06-19T12:37:04.996Z"
   },
   {
    "duration": 64,
    "start_time": "2023-06-19T12:37:05.087Z"
   },
   {
    "duration": 9,
    "start_time": "2023-06-19T12:37:05.153Z"
   },
   {
    "duration": 34,
    "start_time": "2023-06-19T12:37:05.164Z"
   },
   {
    "duration": 32,
    "start_time": "2023-06-19T12:37:05.200Z"
   },
   {
    "duration": 2464,
    "start_time": "2023-06-19T12:37:05.233Z"
   },
   {
    "duration": 2419,
    "start_time": "2023-06-19T12:37:07.698Z"
   },
   {
    "duration": 4,
    "start_time": "2023-06-19T12:37:10.119Z"
   },
   {
    "duration": 21,
    "start_time": "2023-06-19T12:37:10.128Z"
   },
   {
    "duration": 2703,
    "start_time": "2023-06-19T12:37:10.151Z"
   },
   {
    "duration": 96,
    "start_time": "2023-06-19T12:37:12.857Z"
   },
   {
    "duration": 25675,
    "start_time": "2023-06-19T12:37:12.956Z"
   },
   {
    "duration": 7,
    "start_time": "2023-06-19T12:37:38.634Z"
   },
   {
    "duration": 5308,
    "start_time": "2023-06-19T12:37:38.654Z"
   },
   {
    "duration": 3,
    "start_time": "2023-06-19T12:37:43.963Z"
   },
   {
    "duration": 22,
    "start_time": "2023-06-19T12:37:43.968Z"
   },
   {
    "duration": 1393,
    "start_time": "2023-06-19T12:37:43.992Z"
   },
   {
    "duration": 11,
    "start_time": "2023-06-19T12:37:45.386Z"
   },
   {
    "duration": 26,
    "start_time": "2023-06-19T12:37:45.398Z"
   },
   {
    "duration": 6908,
    "start_time": "2023-06-19T12:37:45.426Z"
   },
   {
    "duration": 31,
    "start_time": "2023-06-19T12:37:52.337Z"
   },
   {
    "duration": 22,
    "start_time": "2023-06-19T12:37:52.371Z"
   },
   {
    "duration": 7013,
    "start_time": "2023-06-19T12:40:09.158Z"
   },
   {
    "duration": 18,
    "start_time": "2023-06-19T12:40:16.173Z"
   },
   {
    "duration": 11,
    "start_time": "2023-06-19T12:40:16.193Z"
   },
   {
    "duration": 9,
    "start_time": "2023-06-19T12:40:40.845Z"
   },
   {
    "duration": 9,
    "start_time": "2023-06-19T12:41:00.466Z"
   },
   {
    "duration": 10,
    "start_time": "2023-06-19T12:41:28.578Z"
   },
   {
    "duration": 8,
    "start_time": "2023-06-19T12:42:04.800Z"
   },
   {
    "duration": 3,
    "start_time": "2023-06-19T12:46:42.802Z"
   },
   {
    "duration": 1520,
    "start_time": "2023-06-19T12:54:55.125Z"
   },
   {
    "duration": 3,
    "start_time": "2023-06-19T12:54:56.647Z"
   },
   {
    "duration": 832,
    "start_time": "2023-06-19T12:54:56.654Z"
   },
   {
    "duration": 6,
    "start_time": "2023-06-19T12:54:57.487Z"
   },
   {
    "duration": 167,
    "start_time": "2023-06-19T12:54:57.496Z"
   },
   {
    "duration": 72,
    "start_time": "2023-06-19T12:54:57.665Z"
   },
   {
    "duration": 40,
    "start_time": "2023-06-19T12:54:57.739Z"
   },
   {
    "duration": 78,
    "start_time": "2023-06-19T12:54:57.781Z"
   },
   {
    "duration": 44,
    "start_time": "2023-06-19T12:54:57.861Z"
   },
   {
    "duration": 65,
    "start_time": "2023-06-19T12:54:57.907Z"
   },
   {
    "duration": 25,
    "start_time": "2023-06-19T12:54:57.974Z"
   },
   {
    "duration": 92,
    "start_time": "2023-06-19T12:54:58.000Z"
   },
   {
    "duration": 14,
    "start_time": "2023-06-19T12:54:58.093Z"
   },
   {
    "duration": 13,
    "start_time": "2023-06-19T12:54:58.110Z"
   },
   {
    "duration": 10,
    "start_time": "2023-06-19T12:54:58.125Z"
   },
   {
    "duration": 12,
    "start_time": "2023-06-19T12:54:58.137Z"
   },
   {
    "duration": 23,
    "start_time": "2023-06-19T12:54:58.151Z"
   },
   {
    "duration": 105,
    "start_time": "2023-06-19T12:54:58.176Z"
   },
   {
    "duration": 4,
    "start_time": "2023-06-19T12:54:58.283Z"
   },
   {
    "duration": 200,
    "start_time": "2023-06-19T12:54:58.289Z"
   },
   {
    "duration": 193,
    "start_time": "2023-06-19T12:54:58.490Z"
   },
   {
    "duration": 236,
    "start_time": "2023-06-19T12:54:58.685Z"
   },
   {
    "duration": 7,
    "start_time": "2023-06-19T12:54:58.923Z"
   },
   {
    "duration": 56,
    "start_time": "2023-06-19T12:54:58.932Z"
   },
   {
    "duration": 1021,
    "start_time": "2023-06-19T12:54:58.990Z"
   },
   {
    "duration": 4,
    "start_time": "2023-06-19T12:55:00.013Z"
   },
   {
    "duration": 67,
    "start_time": "2023-06-19T12:55:00.019Z"
   },
   {
    "duration": 391,
    "start_time": "2023-06-19T12:55:00.088Z"
   },
   {
    "duration": 28,
    "start_time": "2023-06-19T12:55:00.481Z"
   },
   {
    "duration": 98,
    "start_time": "2023-06-19T12:55:00.510Z"
   },
   {
    "duration": 115,
    "start_time": "2023-06-19T12:55:00.609Z"
   },
   {
    "duration": 3,
    "start_time": "2023-06-19T12:55:00.726Z"
   },
   {
    "duration": 47,
    "start_time": "2023-06-19T12:55:00.731Z"
   },
   {
    "duration": 154,
    "start_time": "2023-06-19T12:55:00.780Z"
   },
   {
    "duration": 109,
    "start_time": "2023-06-19T12:55:00.935Z"
   },
   {
    "duration": 80,
    "start_time": "2023-06-19T12:55:01.046Z"
   },
   {
    "duration": 42,
    "start_time": "2023-06-19T12:55:01.128Z"
   },
   {
    "duration": 2515,
    "start_time": "2023-06-19T12:55:01.171Z"
   },
   {
    "duration": 2382,
    "start_time": "2023-06-19T12:55:03.688Z"
   },
   {
    "duration": 3,
    "start_time": "2023-06-19T12:55:06.072Z"
   },
   {
    "duration": 205,
    "start_time": "2023-06-19T12:55:06.078Z"
   },
   {
    "duration": 2575,
    "start_time": "2023-06-19T12:55:06.285Z"
   },
   {
    "duration": 7,
    "start_time": "2023-06-19T12:55:08.954Z"
   },
   {
    "duration": 26086,
    "start_time": "2023-06-19T12:55:08.963Z"
   },
   {
    "duration": 6,
    "start_time": "2023-06-19T12:55:35.050Z"
   },
   {
    "duration": 5397,
    "start_time": "2023-06-19T12:55:35.058Z"
   },
   {
    "duration": 3,
    "start_time": "2023-06-19T12:55:40.457Z"
   },
   {
    "duration": 11,
    "start_time": "2023-06-19T12:55:40.462Z"
   },
   {
    "duration": 7034,
    "start_time": "2023-06-19T12:55:40.475Z"
   },
   {
    "duration": 21,
    "start_time": "2023-06-19T12:55:47.511Z"
   },
   {
    "duration": 23,
    "start_time": "2023-06-19T12:55:47.534Z"
   },
   {
    "duration": 121,
    "start_time": "2023-06-19T15:48:02.319Z"
   },
   {
    "duration": 1796,
    "start_time": "2023-06-19T15:48:08.845Z"
   },
   {
    "duration": 3,
    "start_time": "2023-06-19T15:48:10.643Z"
   },
   {
    "duration": 3536,
    "start_time": "2023-06-19T15:48:10.648Z"
   },
   {
    "duration": 8,
    "start_time": "2023-06-19T15:48:14.187Z"
   },
   {
    "duration": 16,
    "start_time": "2023-06-19T15:48:14.198Z"
   },
   {
    "duration": 27,
    "start_time": "2023-06-19T15:48:14.216Z"
   },
   {
    "duration": 6,
    "start_time": "2023-06-19T15:48:14.246Z"
   },
   {
    "duration": 15,
    "start_time": "2023-06-19T15:48:14.254Z"
   },
   {
    "duration": 10,
    "start_time": "2023-06-19T15:48:14.271Z"
   },
   {
    "duration": 8,
    "start_time": "2023-06-19T15:48:14.285Z"
   },
   {
    "duration": 6,
    "start_time": "2023-06-19T15:48:14.295Z"
   },
   {
    "duration": 69,
    "start_time": "2023-06-19T15:48:14.303Z"
   },
   {
    "duration": 3,
    "start_time": "2023-06-19T15:48:14.374Z"
   },
   {
    "duration": 6,
    "start_time": "2023-06-19T15:48:14.379Z"
   },
   {
    "duration": 7,
    "start_time": "2023-06-19T15:48:14.386Z"
   },
   {
    "duration": 8,
    "start_time": "2023-06-19T15:48:14.395Z"
   },
   {
    "duration": 18,
    "start_time": "2023-06-19T15:48:14.405Z"
   },
   {
    "duration": 115,
    "start_time": "2023-06-19T15:48:14.428Z"
   },
   {
    "duration": 4,
    "start_time": "2023-06-19T15:48:14.546Z"
   },
   {
    "duration": 211,
    "start_time": "2023-06-19T15:48:14.551Z"
   },
   {
    "duration": 198,
    "start_time": "2023-06-19T15:48:14.764Z"
   },
   {
    "duration": 282,
    "start_time": "2023-06-19T15:48:14.968Z"
   },
   {
    "duration": 6,
    "start_time": "2023-06-19T15:48:15.252Z"
   },
   {
    "duration": 26,
    "start_time": "2023-06-19T15:48:15.268Z"
   },
   {
    "duration": 916,
    "start_time": "2023-06-19T15:48:15.297Z"
   },
   {
    "duration": 4,
    "start_time": "2023-06-19T15:48:16.215Z"
   },
   {
    "duration": 22,
    "start_time": "2023-06-19T15:48:16.221Z"
   },
   {
    "duration": 346,
    "start_time": "2023-06-19T15:48:16.246Z"
   },
   {
    "duration": 88,
    "start_time": "2023-06-19T15:48:16.595Z"
   },
   {
    "duration": 8,
    "start_time": "2023-06-19T15:48:28.120Z"
   },
   {
    "duration": 145,
    "start_time": "2023-06-19T15:49:22.447Z"
   },
   {
    "duration": 5,
    "start_time": "2023-06-19T15:49:25.602Z"
   },
   {
    "duration": 4,
    "start_time": "2023-06-19T15:49:25.889Z"
   },
   {
    "duration": 42,
    "start_time": "2023-06-19T15:50:09.381Z"
   },
   {
    "duration": 11,
    "start_time": "2023-06-19T15:50:13.737Z"
   },
   {
    "duration": 10,
    "start_time": "2023-06-19T15:50:17.217Z"
   },
   {
    "duration": 4,
    "start_time": "2023-06-19T15:50:27.889Z"
   },
   {
    "duration": 12,
    "start_time": "2023-06-19T15:54:10.509Z"
   },
   {
    "duration": 27,
    "start_time": "2023-06-19T15:54:16.246Z"
   },
   {
    "duration": 1477,
    "start_time": "2023-06-19T15:54:32.175Z"
   },
   {
    "duration": 6,
    "start_time": "2023-06-19T15:54:46.979Z"
   },
   {
    "duration": 6,
    "start_time": "2023-06-19T15:54:53.546Z"
   },
   {
    "duration": 6,
    "start_time": "2023-06-19T15:55:09.685Z"
   },
   {
    "duration": 5,
    "start_time": "2023-06-19T15:55:17.680Z"
   },
   {
    "duration": 7,
    "start_time": "2023-06-19T15:55:20.268Z"
   },
   {
    "duration": 11,
    "start_time": "2023-06-19T15:55:32.044Z"
   },
   {
    "duration": 9,
    "start_time": "2023-06-19T15:55:53.529Z"
   },
   {
    "duration": 7,
    "start_time": "2023-06-19T15:56:13.307Z"
   },
   {
    "duration": 9,
    "start_time": "2023-06-19T15:56:18.130Z"
   },
   {
    "duration": 5,
    "start_time": "2023-06-19T15:58:43.419Z"
   },
   {
    "duration": 15,
    "start_time": "2023-06-19T15:58:44.051Z"
   },
   {
    "duration": 12,
    "start_time": "2023-06-19T16:00:20.489Z"
   },
   {
    "duration": 11,
    "start_time": "2023-06-19T16:00:30.883Z"
   },
   {
    "duration": 15,
    "start_time": "2023-06-19T16:00:35.766Z"
   },
   {
    "duration": 116,
    "start_time": "2023-06-19T16:01:34.977Z"
   },
   {
    "duration": 13,
    "start_time": "2023-06-19T16:01:47.179Z"
   },
   {
    "duration": 1227,
    "start_time": "2023-06-19T16:01:56.911Z"
   },
   {
    "duration": 12,
    "start_time": "2023-06-19T16:02:34.292Z"
   },
   {
    "duration": 13,
    "start_time": "2023-06-19T16:03:23.722Z"
   },
   {
    "duration": 374,
    "start_time": "2023-06-19T16:04:02.142Z"
   },
   {
    "duration": 7,
    "start_time": "2023-06-19T16:04:57.798Z"
   },
   {
    "duration": 27,
    "start_time": "2023-06-19T16:04:58.572Z"
   },
   {
    "duration": 308,
    "start_time": "2023-06-19T16:04:59.425Z"
   },
   {
    "duration": 5,
    "start_time": "2023-06-19T16:05:00.121Z"
   },
   {
    "duration": 10,
    "start_time": "2023-06-19T16:05:02.851Z"
   },
   {
    "duration": 6,
    "start_time": "2023-06-19T16:05:03.408Z"
   },
   {
    "duration": 335,
    "start_time": "2023-06-19T16:05:43.835Z"
   },
   {
    "duration": 10,
    "start_time": "2023-06-19T16:05:47.036Z"
   },
   {
    "duration": 551,
    "start_time": "2023-06-19T16:05:47.427Z"
   },
   {
    "duration": 9,
    "start_time": "2023-06-19T16:09:25.334Z"
   },
   {
    "duration": 84,
    "start_time": "2023-06-19T16:09:29.686Z"
   },
   {
    "duration": 10,
    "start_time": "2023-06-19T16:09:30.044Z"
   },
   {
    "duration": 3,
    "start_time": "2023-06-19T16:09:42.229Z"
   },
   {
    "duration": 16,
    "start_time": "2023-06-19T16:09:43.328Z"
   },
   {
    "duration": 5,
    "start_time": "2023-06-19T16:10:22.787Z"
   },
   {
    "duration": 14,
    "start_time": "2023-06-19T16:10:58.583Z"
   },
   {
    "duration": 16,
    "start_time": "2023-06-19T16:11:25.614Z"
   },
   {
    "duration": 1789,
    "start_time": "2023-06-19T16:12:39.994Z"
   },
   {
    "duration": 7,
    "start_time": "2023-06-19T16:12:41.787Z"
   },
   {
    "duration": 1031,
    "start_time": "2023-06-19T16:12:41.801Z"
   },
   {
    "duration": 7,
    "start_time": "2023-06-19T16:12:42.834Z"
   },
   {
    "duration": 5,
    "start_time": "2023-06-19T16:12:42.844Z"
   },
   {
    "duration": 23,
    "start_time": "2023-06-19T16:12:42.869Z"
   },
   {
    "duration": 5,
    "start_time": "2023-06-19T16:12:42.894Z"
   },
   {
    "duration": 12,
    "start_time": "2023-06-19T16:12:42.901Z"
   },
   {
    "duration": 13,
    "start_time": "2023-06-19T16:12:42.915Z"
   },
   {
    "duration": 45,
    "start_time": "2023-06-19T16:12:42.930Z"
   },
   {
    "duration": 11,
    "start_time": "2023-06-19T16:12:42.976Z"
   },
   {
    "duration": 37,
    "start_time": "2023-06-19T16:12:42.989Z"
   },
   {
    "duration": 4,
    "start_time": "2023-06-19T16:12:43.028Z"
   },
   {
    "duration": 4,
    "start_time": "2023-06-19T16:12:43.037Z"
   },
   {
    "duration": 5,
    "start_time": "2023-06-19T16:12:43.070Z"
   },
   {
    "duration": 14,
    "start_time": "2023-06-19T16:12:43.077Z"
   },
   {
    "duration": 4,
    "start_time": "2023-06-19T16:12:43.094Z"
   },
   {
    "duration": 128,
    "start_time": "2023-06-19T16:12:43.100Z"
   },
   {
    "duration": 6,
    "start_time": "2023-06-19T16:12:43.230Z"
   },
   {
    "duration": 308,
    "start_time": "2023-06-19T16:12:43.238Z"
   },
   {
    "duration": 275,
    "start_time": "2023-06-19T16:12:43.548Z"
   },
   {
    "duration": 299,
    "start_time": "2023-06-19T16:12:43.827Z"
   },
   {
    "duration": 8,
    "start_time": "2023-06-19T16:12:44.128Z"
   },
   {
    "duration": 32,
    "start_time": "2023-06-19T16:12:44.138Z"
   },
   {
    "duration": 1495,
    "start_time": "2023-06-19T16:12:44.173Z"
   },
   {
    "duration": 4,
    "start_time": "2023-06-19T16:12:45.670Z"
   },
   {
    "duration": 40,
    "start_time": "2023-06-19T16:12:45.676Z"
   },
   {
    "duration": 547,
    "start_time": "2023-06-19T16:12:45.719Z"
   },
   {
    "duration": 5,
    "start_time": "2023-06-19T16:12:46.268Z"
   },
   {
    "duration": 17,
    "start_time": "2023-06-19T16:12:46.323Z"
   },
   {
    "duration": 4,
    "start_time": "2023-06-19T16:13:21.136Z"
   },
   {
    "duration": 13,
    "start_time": "2023-06-19T16:13:21.555Z"
   },
   {
    "duration": 14,
    "start_time": "2023-06-19T16:14:07.395Z"
   },
   {
    "duration": 18,
    "start_time": "2023-06-19T16:14:27.486Z"
   },
   {
    "duration": 15,
    "start_time": "2023-06-19T16:14:37.231Z"
   },
   {
    "duration": 16,
    "start_time": "2023-06-19T16:14:39.813Z"
   },
   {
    "duration": 18,
    "start_time": "2023-06-19T16:14:42.757Z"
   },
   {
    "duration": 15,
    "start_time": "2023-06-19T16:14:46.215Z"
   },
   {
    "duration": 16,
    "start_time": "2023-06-19T16:15:07.137Z"
   },
   {
    "duration": 15,
    "start_time": "2023-06-19T16:15:17.423Z"
   },
   {
    "duration": 19,
    "start_time": "2023-06-19T16:15:20.586Z"
   },
   {
    "duration": 20,
    "start_time": "2023-06-19T16:16:30.417Z"
   },
   {
    "duration": 9,
    "start_time": "2023-06-19T16:16:55.731Z"
   },
   {
    "duration": 7,
    "start_time": "2023-06-19T16:16:56.929Z"
   },
   {
    "duration": 5,
    "start_time": "2023-06-19T16:17:10.631Z"
   },
   {
    "duration": 19,
    "start_time": "2023-06-19T16:17:41.353Z"
   },
   {
    "duration": 9,
    "start_time": "2023-06-19T16:17:41.928Z"
   },
   {
    "duration": 16,
    "start_time": "2023-06-19T16:17:53.128Z"
   },
   {
    "duration": 14,
    "start_time": "2023-06-19T16:18:03.579Z"
   },
   {
    "duration": 17,
    "start_time": "2023-06-19T16:18:06.937Z"
   },
   {
    "duration": 16,
    "start_time": "2023-06-19T16:18:10.783Z"
   },
   {
    "duration": 103,
    "start_time": "2023-06-19T16:20:57.093Z"
   },
   {
    "duration": 10,
    "start_time": "2023-06-19T16:21:01.476Z"
   },
   {
    "duration": 8,
    "start_time": "2023-06-19T16:21:02.289Z"
   },
   {
    "duration": 7,
    "start_time": "2023-06-19T16:21:46.393Z"
   },
   {
    "duration": 4,
    "start_time": "2023-06-19T16:22:44.761Z"
   },
   {
    "duration": 385,
    "start_time": "2023-06-19T16:22:46.352Z"
   },
   {
    "duration": 381,
    "start_time": "2023-06-19T16:23:07.179Z"
   },
   {
    "duration": 5,
    "start_time": "2023-06-19T16:23:17.982Z"
   },
   {
    "duration": 5,
    "start_time": "2023-06-19T16:23:39.159Z"
   },
   {
    "duration": 43,
    "start_time": "2023-06-19T16:24:11.679Z"
   },
   {
    "duration": 3,
    "start_time": "2023-06-19T16:25:56.048Z"
   },
   {
    "duration": 4,
    "start_time": "2023-06-19T16:25:58.833Z"
   },
   {
    "duration": 11,
    "start_time": "2023-06-19T16:27:19.045Z"
   },
   {
    "duration": 3,
    "start_time": "2023-06-19T16:27:21.014Z"
   },
   {
    "duration": 9,
    "start_time": "2023-06-19T16:27:21.477Z"
   },
   {
    "duration": 7,
    "start_time": "2023-06-19T16:27:29.148Z"
   },
   {
    "duration": 7,
    "start_time": "2023-06-19T16:27:34.241Z"
   },
   {
    "duration": 7,
    "start_time": "2023-06-19T16:27:38.396Z"
   },
   {
    "duration": 13,
    "start_time": "2023-06-19T16:28:20.556Z"
   },
   {
    "duration": 1027,
    "start_time": "2023-06-19T16:28:43.623Z"
   },
   {
    "duration": 12,
    "start_time": "2023-06-19T16:29:33.197Z"
   },
   {
    "duration": 6,
    "start_time": "2023-06-19T16:29:38.613Z"
   },
   {
    "duration": 6,
    "start_time": "2023-06-19T16:29:42.379Z"
   },
   {
    "duration": 4,
    "start_time": "2023-06-19T16:29:55.598Z"
   },
   {
    "duration": 15,
    "start_time": "2023-06-19T16:30:12.365Z"
   },
   {
    "duration": 6,
    "start_time": "2023-06-19T16:30:12.879Z"
   },
   {
    "duration": 5,
    "start_time": "2023-06-19T16:30:14.994Z"
   },
   {
    "duration": 5,
    "start_time": "2023-06-19T16:30:15.482Z"
   },
   {
    "duration": 11,
    "start_time": "2023-06-19T16:30:16.039Z"
   },
   {
    "duration": 5,
    "start_time": "2023-06-19T16:30:17.229Z"
   },
   {
    "duration": 14,
    "start_time": "2023-06-19T16:30:52.357Z"
   },
   {
    "duration": 7,
    "start_time": "2023-06-19T16:31:08.054Z"
   },
   {
    "duration": 5,
    "start_time": "2023-06-19T16:31:13.507Z"
   },
   {
    "duration": 8,
    "start_time": "2023-06-19T16:31:16.748Z"
   },
   {
    "duration": 10,
    "start_time": "2023-06-19T16:31:24.504Z"
   },
   {
    "duration": 1474,
    "start_time": "2023-06-19T16:31:51.885Z"
   },
   {
    "duration": 3,
    "start_time": "2023-06-19T16:31:53.361Z"
   },
   {
    "duration": 761,
    "start_time": "2023-06-19T16:31:53.367Z"
   },
   {
    "duration": 8,
    "start_time": "2023-06-19T16:31:54.131Z"
   },
   {
    "duration": 7,
    "start_time": "2023-06-19T16:31:54.143Z"
   },
   {
    "duration": 37,
    "start_time": "2023-06-19T16:31:54.152Z"
   },
   {
    "duration": 5,
    "start_time": "2023-06-19T16:31:54.193Z"
   },
   {
    "duration": 18,
    "start_time": "2023-06-19T16:31:54.200Z"
   },
   {
    "duration": 12,
    "start_time": "2023-06-19T16:31:54.221Z"
   },
   {
    "duration": 32,
    "start_time": "2023-06-19T16:31:54.236Z"
   },
   {
    "duration": 6,
    "start_time": "2023-06-19T16:31:54.271Z"
   },
   {
    "duration": 31,
    "start_time": "2023-06-19T16:31:54.279Z"
   },
   {
    "duration": 3,
    "start_time": "2023-06-19T16:31:54.312Z"
   },
   {
    "duration": 4,
    "start_time": "2023-06-19T16:31:54.320Z"
   },
   {
    "duration": 10,
    "start_time": "2023-06-19T16:31:54.326Z"
   },
   {
    "duration": 34,
    "start_time": "2023-06-19T16:31:54.338Z"
   },
   {
    "duration": 9,
    "start_time": "2023-06-19T16:31:54.374Z"
   },
   {
    "duration": 83,
    "start_time": "2023-06-19T16:31:54.385Z"
   },
   {
    "duration": 4,
    "start_time": "2023-06-19T16:31:54.471Z"
   },
   {
    "duration": 183,
    "start_time": "2023-06-19T16:31:54.477Z"
   },
   {
    "duration": 173,
    "start_time": "2023-06-19T16:31:54.668Z"
   },
   {
    "duration": 184,
    "start_time": "2023-06-19T16:31:54.842Z"
   },
   {
    "duration": 6,
    "start_time": "2023-06-19T16:31:55.028Z"
   },
   {
    "duration": 37,
    "start_time": "2023-06-19T16:31:55.036Z"
   },
   {
    "duration": 926,
    "start_time": "2023-06-19T16:31:55.076Z"
   },
   {
    "duration": 3,
    "start_time": "2023-06-19T16:31:56.005Z"
   },
   {
    "duration": 41,
    "start_time": "2023-06-19T16:31:56.010Z"
   },
   {
    "duration": 327,
    "start_time": "2023-06-19T16:31:56.053Z"
   },
   {
    "duration": 3,
    "start_time": "2023-06-19T16:31:56.382Z"
   },
   {
    "duration": 14,
    "start_time": "2023-06-19T16:31:56.387Z"
   },
   {
    "duration": 6,
    "start_time": "2023-06-19T16:31:56.403Z"
   },
   {
    "duration": 21,
    "start_time": "2023-06-19T16:31:56.411Z"
   },
   {
    "duration": 13,
    "start_time": "2023-06-19T16:31:56.434Z"
   },
   {
    "duration": 15,
    "start_time": "2023-06-19T16:31:59.456Z"
   },
   {
    "duration": 7,
    "start_time": "2023-06-19T16:32:00.266Z"
   },
   {
    "duration": 5,
    "start_time": "2023-06-19T16:32:01.718Z"
   },
   {
    "duration": 3,
    "start_time": "2023-06-19T16:32:19.879Z"
   },
   {
    "duration": 367,
    "start_time": "2023-06-19T16:32:20.796Z"
   },
   {
    "duration": 144,
    "start_time": "2023-06-19T16:34:28.785Z"
   },
   {
    "duration": 4,
    "start_time": "2023-06-19T16:34:34.870Z"
   },
   {
    "duration": 8,
    "start_time": "2023-06-19T16:34:53.991Z"
   },
   {
    "duration": 1486,
    "start_time": "2023-06-19T16:35:32.520Z"
   },
   {
    "duration": 4,
    "start_time": "2023-06-19T16:35:34.009Z"
   },
   {
    "duration": 846,
    "start_time": "2023-06-19T16:35:34.015Z"
   },
   {
    "duration": 7,
    "start_time": "2023-06-19T16:35:34.863Z"
   },
   {
    "duration": 4,
    "start_time": "2023-06-19T16:35:34.872Z"
   },
   {
    "duration": 28,
    "start_time": "2023-06-19T16:35:34.878Z"
   },
   {
    "duration": 5,
    "start_time": "2023-06-19T16:35:34.908Z"
   },
   {
    "duration": 20,
    "start_time": "2023-06-19T16:35:34.915Z"
   },
   {
    "duration": 44,
    "start_time": "2023-06-19T16:35:34.937Z"
   },
   {
    "duration": 10,
    "start_time": "2023-06-19T16:35:34.986Z"
   },
   {
    "duration": 8,
    "start_time": "2023-06-19T16:35:34.998Z"
   },
   {
    "duration": 56,
    "start_time": "2023-06-19T16:35:35.008Z"
   },
   {
    "duration": 9,
    "start_time": "2023-06-19T16:35:35.067Z"
   },
   {
    "duration": 25,
    "start_time": "2023-06-19T16:35:35.078Z"
   },
   {
    "duration": 32,
    "start_time": "2023-06-19T16:35:35.105Z"
   },
   {
    "duration": 17,
    "start_time": "2023-06-19T16:35:35.138Z"
   },
   {
    "duration": 10,
    "start_time": "2023-06-19T16:35:35.158Z"
   },
   {
    "duration": 126,
    "start_time": "2023-06-19T16:35:35.170Z"
   },
   {
    "duration": 5,
    "start_time": "2023-06-19T16:35:35.298Z"
   },
   {
    "duration": 216,
    "start_time": "2023-06-19T16:35:35.304Z"
   },
   {
    "duration": 236,
    "start_time": "2023-06-19T16:35:35.522Z"
   },
   {
    "duration": 205,
    "start_time": "2023-06-19T16:35:35.768Z"
   },
   {
    "duration": 6,
    "start_time": "2023-06-19T16:35:35.975Z"
   },
   {
    "duration": 25,
    "start_time": "2023-06-19T16:35:35.983Z"
   },
   {
    "duration": 963,
    "start_time": "2023-06-19T16:35:36.010Z"
   },
   {
    "duration": 3,
    "start_time": "2023-06-19T16:35:36.975Z"
   },
   {
    "duration": 25,
    "start_time": "2023-06-19T16:35:36.980Z"
   },
   {
    "duration": 679,
    "start_time": "2023-06-19T16:35:37.009Z"
   },
   {
    "duration": 339,
    "start_time": "2023-06-19T16:35:39.262Z"
   },
   {
    "duration": 3,
    "start_time": "2023-06-19T16:35:40.564Z"
   },
   {
    "duration": 14,
    "start_time": "2023-06-19T16:35:41.235Z"
   },
   {
    "duration": 7,
    "start_time": "2023-06-19T16:35:41.694Z"
   },
   {
    "duration": 4,
    "start_time": "2023-06-19T16:35:42.649Z"
   },
   {
    "duration": 9,
    "start_time": "2023-06-19T16:35:43.160Z"
   },
   {
    "duration": 3,
    "start_time": "2023-06-19T16:35:43.575Z"
   },
   {
    "duration": 5,
    "start_time": "2023-06-19T16:35:44.085Z"
   },
   {
    "duration": 16,
    "start_time": "2023-06-19T16:35:44.528Z"
   },
   {
    "duration": 11,
    "start_time": "2023-06-19T16:35:47.164Z"
   },
   {
    "duration": 3,
    "start_time": "2023-06-19T16:35:47.620Z"
   },
   {
    "duration": 458,
    "start_time": "2023-06-19T16:35:48.122Z"
   },
   {
    "duration": 333,
    "start_time": "2023-06-19T16:36:08.947Z"
   },
   {
    "duration": 28,
    "start_time": "2023-06-19T16:36:10.051Z"
   },
   {
    "duration": 38,
    "start_time": "2023-06-19T16:36:10.920Z"
   },
   {
    "duration": 94,
    "start_time": "2023-06-19T16:36:11.348Z"
   },
   {
    "duration": 4,
    "start_time": "2023-06-19T16:36:15.079Z"
   },
   {
    "duration": 4,
    "start_time": "2023-06-19T16:36:15.892Z"
   },
   {
    "duration": 31,
    "start_time": "2023-06-19T16:36:17.059Z"
   },
   {
    "duration": 10,
    "start_time": "2023-06-19T16:36:17.442Z"
   },
   {
    "duration": 14,
    "start_time": "2023-06-19T16:36:17.836Z"
   },
   {
    "duration": 3,
    "start_time": "2023-06-19T16:36:18.620Z"
   },
   {
    "duration": 2413,
    "start_time": "2023-06-19T16:36:19.002Z"
   },
   {
    "duration": 2002,
    "start_time": "2023-06-19T16:36:21.417Z"
   },
   {
    "duration": 3,
    "start_time": "2023-06-19T16:36:23.421Z"
   },
   {
    "duration": 4,
    "start_time": "2023-06-19T16:36:23.427Z"
   },
   {
    "duration": 2644,
    "start_time": "2023-06-19T16:36:23.433Z"
   },
   {
    "duration": 97,
    "start_time": "2023-06-19T16:36:26.079Z"
   },
   {
    "duration": 20672,
    "start_time": "2023-06-19T16:36:26.179Z"
   },
   {
    "duration": 6,
    "start_time": "2023-06-19T16:36:46.854Z"
   },
   {
    "duration": 4033,
    "start_time": "2023-06-19T16:36:46.868Z"
   },
   {
    "duration": 5332,
    "start_time": "2023-06-19T16:36:50.903Z"
   },
   {
    "duration": 17,
    "start_time": "2023-06-19T16:36:56.236Z"
   },
   {
    "duration": 16,
    "start_time": "2023-06-19T16:36:56.255Z"
   },
   {
    "duration": 3,
    "start_time": "2023-06-19T17:23:18.588Z"
   },
   {
    "duration": 4,
    "start_time": "2023-06-19T17:23:19.653Z"
   },
   {
    "duration": 3,
    "start_time": "2023-06-19T17:23:19.984Z"
   },
   {
    "duration": 1502,
    "start_time": "2023-06-20T06:05:56.740Z"
   },
   {
    "duration": 3,
    "start_time": "2023-06-20T06:05:58.244Z"
   },
   {
    "duration": 2887,
    "start_time": "2023-06-20T06:05:58.248Z"
   },
   {
    "duration": 5,
    "start_time": "2023-06-20T06:06:01.137Z"
   },
   {
    "duration": 105,
    "start_time": "2023-06-20T06:06:01.143Z"
   },
   {
    "duration": 146,
    "start_time": "2023-06-20T06:06:01.250Z"
   },
   {
    "duration": 55,
    "start_time": "2023-06-20T06:06:01.398Z"
   },
   {
    "duration": 44,
    "start_time": "2023-06-20T06:06:01.454Z"
   },
   {
    "duration": 161,
    "start_time": "2023-06-20T06:06:01.514Z"
   },
   {
    "duration": 87,
    "start_time": "2023-06-20T06:06:01.677Z"
   },
   {
    "duration": 30,
    "start_time": "2023-06-20T06:06:01.765Z"
   },
   {
    "duration": 132,
    "start_time": "2023-06-20T06:06:01.797Z"
   },
   {
    "duration": 26,
    "start_time": "2023-06-20T06:06:01.931Z"
   },
   {
    "duration": 71,
    "start_time": "2023-06-20T06:06:01.959Z"
   },
   {
    "duration": 62,
    "start_time": "2023-06-20T06:06:02.032Z"
   },
   {
    "duration": 59,
    "start_time": "2023-06-20T06:06:02.096Z"
   },
   {
    "duration": 38,
    "start_time": "2023-06-20T06:06:02.156Z"
   },
   {
    "duration": 140,
    "start_time": "2023-06-20T06:06:02.195Z"
   },
   {
    "duration": 4,
    "start_time": "2023-06-20T06:06:02.336Z"
   },
   {
    "duration": 208,
    "start_time": "2023-06-20T06:06:02.342Z"
   },
   {
    "duration": 178,
    "start_time": "2023-06-20T06:06:02.552Z"
   },
   {
    "duration": 216,
    "start_time": "2023-06-20T06:06:02.732Z"
   },
   {
    "duration": 6,
    "start_time": "2023-06-20T06:06:02.950Z"
   },
   {
    "duration": 22,
    "start_time": "2023-06-20T06:06:02.957Z"
   },
   {
    "duration": 897,
    "start_time": "2023-06-20T06:06:02.981Z"
   },
   {
    "duration": 3,
    "start_time": "2023-06-20T06:06:03.879Z"
   },
   {
    "duration": 38,
    "start_time": "2023-06-20T06:06:03.883Z"
   },
   {
    "duration": 322,
    "start_time": "2023-06-20T06:06:03.928Z"
   },
   {
    "duration": 3,
    "start_time": "2023-06-20T06:06:04.251Z"
   },
   {
    "duration": 28,
    "start_time": "2023-06-20T06:06:04.256Z"
   },
   {
    "duration": 6,
    "start_time": "2023-06-20T06:06:04.286Z"
   },
   {
    "duration": 89,
    "start_time": "2023-06-20T06:06:04.294Z"
   },
   {
    "duration": 53,
    "start_time": "2023-06-20T06:06:04.384Z"
   },
   {
    "duration": 32,
    "start_time": "2023-06-20T06:06:04.438Z"
   },
   {
    "duration": 6,
    "start_time": "2023-06-20T06:06:04.471Z"
   },
   {
    "duration": 15,
    "start_time": "2023-06-20T06:06:04.479Z"
   },
   {
    "duration": 40,
    "start_time": "2023-06-20T06:06:04.495Z"
   },
   {
    "duration": 7,
    "start_time": "2023-06-20T06:06:04.537Z"
   },
   {
    "duration": 316,
    "start_time": "2023-06-20T06:06:04.545Z"
   },
   {
    "duration": 26,
    "start_time": "2023-06-20T06:06:04.862Z"
   },
   {
    "duration": 42,
    "start_time": "2023-06-20T06:06:04.904Z"
   },
   {
    "duration": 121,
    "start_time": "2023-06-20T06:06:04.948Z"
   },
   {
    "duration": 4,
    "start_time": "2023-06-20T06:06:05.070Z"
   },
   {
    "duration": 9,
    "start_time": "2023-06-20T06:06:05.075Z"
   },
   {
    "duration": 43,
    "start_time": "2023-06-20T06:06:05.086Z"
   },
   {
    "duration": 25,
    "start_time": "2023-06-20T06:06:05.131Z"
   },
   {
    "duration": 8,
    "start_time": "2023-06-20T06:06:05.157Z"
   },
   {
    "duration": 11,
    "start_time": "2023-06-20T06:06:05.166Z"
   },
   {
    "duration": 8,
    "start_time": "2023-06-20T06:06:05.178Z"
   },
   {
    "duration": 2450,
    "start_time": "2023-06-20T06:06:05.187Z"
   },
   {
    "duration": 3,
    "start_time": "2023-06-20T06:06:07.639Z"
   },
   {
    "duration": 27,
    "start_time": "2023-06-20T06:06:07.643Z"
   },
   {
    "duration": 4746,
    "start_time": "2023-06-20T06:06:07.673Z"
   },
   {
    "duration": 10,
    "start_time": "2023-06-20T06:06:12.424Z"
   },
   {
    "duration": 22627,
    "start_time": "2023-06-20T06:06:12.435Z"
   },
   {
    "duration": 5,
    "start_time": "2023-06-20T06:06:35.064Z"
   },
   {
    "duration": 4575,
    "start_time": "2023-06-20T06:06:35.070Z"
   },
   {
    "duration": 6377,
    "start_time": "2023-06-20T06:06:39.647Z"
   },
   {
    "duration": 24,
    "start_time": "2023-06-20T06:06:46.032Z"
   },
   {
    "duration": 19,
    "start_time": "2023-06-20T06:06:46.058Z"
   },
   {
    "duration": 74,
    "start_time": "2023-06-20T06:23:52.411Z"
   },
   {
    "duration": 2,
    "start_time": "2023-06-20T06:31:38.541Z"
   },
   {
    "duration": 2,
    "start_time": "2023-06-20T06:31:38.950Z"
   },
   {
    "duration": 50,
    "start_time": "2023-06-20T06:37:39.358Z"
   },
   {
    "duration": 3,
    "start_time": "2023-06-20T06:37:41.184Z"
   },
   {
    "duration": 69,
    "start_time": "2023-06-20T06:37:41.434Z"
   },
   {
    "duration": 5367,
    "start_time": "2023-06-20T06:37:46.942Z"
   },
   {
    "duration": 3012,
    "start_time": "2023-06-20T06:38:25.496Z"
   },
   {
    "duration": 2068,
    "start_time": "2023-06-20T06:41:37.675Z"
   },
   {
    "duration": 3,
    "start_time": "2023-06-20T06:41:59.102Z"
   },
   {
    "duration": 3,
    "start_time": "2023-06-20T06:43:46.431Z"
   },
   {
    "duration": 1859,
    "start_time": "2023-06-20T06:43:49.208Z"
   },
   {
    "duration": 3,
    "start_time": "2023-06-20T06:43:51.069Z"
   },
   {
    "duration": 4,
    "start_time": "2023-06-20T06:44:15.233Z"
   },
   {
    "duration": 2,
    "start_time": "2023-06-20T06:46:03.308Z"
   },
   {
    "duration": 3,
    "start_time": "2023-06-20T06:46:03.750Z"
   },
   {
    "duration": 2796,
    "start_time": "2023-06-20T06:46:04.104Z"
   },
   {
    "duration": 8,
    "start_time": "2023-06-20T06:46:06.902Z"
   },
   {
    "duration": 21511,
    "start_time": "2023-06-20T06:46:06.911Z"
   },
   {
    "duration": 5,
    "start_time": "2023-06-20T06:46:28.425Z"
   },
   {
    "duration": 4192,
    "start_time": "2023-06-20T06:46:28.432Z"
   },
   {
    "duration": 5461,
    "start_time": "2023-06-20T06:46:32.626Z"
   },
   {
    "duration": 17,
    "start_time": "2023-06-20T06:46:38.089Z"
   },
   {
    "duration": 6,
    "start_time": "2023-06-20T06:46:38.107Z"
   },
   {
    "duration": 2623,
    "start_time": "2023-06-20T06:47:33.836Z"
   },
   {
    "duration": 2,
    "start_time": "2023-06-20T06:47:36.461Z"
   },
   {
    "duration": 1519,
    "start_time": "2023-06-20T06:47:36.465Z"
   },
   {
    "duration": 5,
    "start_time": "2023-06-20T06:47:37.986Z"
   },
   {
    "duration": 29,
    "start_time": "2023-06-20T06:47:37.992Z"
   },
   {
    "duration": 35,
    "start_time": "2023-06-20T06:47:38.023Z"
   },
   {
    "duration": 4,
    "start_time": "2023-06-20T06:47:38.060Z"
   },
   {
    "duration": 35,
    "start_time": "2023-06-20T06:47:38.065Z"
   },
   {
    "duration": 21,
    "start_time": "2023-06-20T06:47:38.102Z"
   },
   {
    "duration": 75,
    "start_time": "2023-06-20T06:47:38.126Z"
   },
   {
    "duration": 63,
    "start_time": "2023-06-20T06:47:38.202Z"
   },
   {
    "duration": 36,
    "start_time": "2023-06-20T06:47:38.266Z"
   },
   {
    "duration": 3,
    "start_time": "2023-06-20T06:47:38.304Z"
   },
   {
    "duration": 22,
    "start_time": "2023-06-20T06:47:38.309Z"
   },
   {
    "duration": 10,
    "start_time": "2023-06-20T06:47:38.333Z"
   },
   {
    "duration": 29,
    "start_time": "2023-06-20T06:47:38.345Z"
   },
   {
    "duration": 84,
    "start_time": "2023-06-20T06:47:38.375Z"
   },
   {
    "duration": 91,
    "start_time": "2023-06-20T06:47:38.461Z"
   },
   {
    "duration": 4,
    "start_time": "2023-06-20T06:47:38.553Z"
   },
   {
    "duration": 191,
    "start_time": "2023-06-20T06:47:38.558Z"
   },
   {
    "duration": 153,
    "start_time": "2023-06-20T06:47:38.750Z"
   },
   {
    "duration": 324,
    "start_time": "2023-06-20T06:47:38.904Z"
   },
   {
    "duration": 6,
    "start_time": "2023-06-20T06:47:39.229Z"
   },
   {
    "duration": 22,
    "start_time": "2023-06-20T06:47:39.236Z"
   },
   {
    "duration": 1307,
    "start_time": "2023-06-20T06:47:39.259Z"
   },
   {
    "duration": 3,
    "start_time": "2023-06-20T06:47:40.567Z"
   },
   {
    "duration": 40,
    "start_time": "2023-06-20T06:47:40.571Z"
   },
   {
    "duration": 277,
    "start_time": "2023-06-20T06:47:40.615Z"
   },
   {
    "duration": 3,
    "start_time": "2023-06-20T06:47:40.899Z"
   },
   {
    "duration": 17,
    "start_time": "2023-06-20T06:47:40.903Z"
   },
   {
    "duration": 11,
    "start_time": "2023-06-20T06:47:40.921Z"
   },
   {
    "duration": 22,
    "start_time": "2023-06-20T06:47:40.933Z"
   },
   {
    "duration": 40,
    "start_time": "2023-06-20T06:47:40.956Z"
   },
   {
    "duration": 21,
    "start_time": "2023-06-20T06:47:40.997Z"
   },
   {
    "duration": 13,
    "start_time": "2023-06-20T06:47:41.019Z"
   },
   {
    "duration": 13,
    "start_time": "2023-06-20T06:47:41.033Z"
   },
   {
    "duration": 6,
    "start_time": "2023-06-20T06:47:41.047Z"
   },
   {
    "duration": 288,
    "start_time": "2023-06-20T06:47:41.055Z"
   },
   {
    "duration": 26,
    "start_time": "2023-06-20T06:47:41.345Z"
   },
   {
    "duration": 91,
    "start_time": "2023-06-20T06:47:41.372Z"
   },
   {
    "duration": 111,
    "start_time": "2023-06-20T06:47:41.465Z"
   },
   {
    "duration": 2,
    "start_time": "2023-06-20T06:47:41.578Z"
   },
   {
    "duration": 33,
    "start_time": "2023-06-20T06:47:41.582Z"
   },
   {
    "duration": 23,
    "start_time": "2023-06-20T06:47:41.617Z"
   },
   {
    "duration": 49,
    "start_time": "2023-06-20T06:47:41.641Z"
   },
   {
    "duration": 27,
    "start_time": "2023-06-20T06:47:41.691Z"
   },
   {
    "duration": 40,
    "start_time": "2023-06-20T06:47:41.719Z"
   },
   {
    "duration": 19,
    "start_time": "2023-06-20T06:47:41.760Z"
   },
   {
    "duration": 1947,
    "start_time": "2023-06-20T06:47:41.781Z"
   },
   {
    "duration": 1812,
    "start_time": "2023-06-20T06:47:43.729Z"
   },
   {
    "duration": 3,
    "start_time": "2023-06-20T06:47:45.542Z"
   },
   {
    "duration": 17,
    "start_time": "2023-06-20T06:47:45.546Z"
   },
   {
    "duration": 7,
    "start_time": "2023-06-20T06:47:45.565Z"
   },
   {
    "duration": 2828,
    "start_time": "2023-06-20T06:47:45.573Z"
   },
   {
    "duration": 208174,
    "start_time": "2023-06-20T06:47:48.403Z"
   },
   {
    "duration": 23911,
    "start_time": "2023-06-20T06:51:16.578Z"
   },
   {
    "duration": 50472,
    "start_time": "2023-06-20T06:51:40.490Z"
   },
   {
    "duration": 3488,
    "start_time": "2023-06-20T06:52:30.964Z"
   },
   {
    "duration": 6130,
    "start_time": "2023-06-20T06:52:34.453Z"
   },
   {
    "duration": 18,
    "start_time": "2023-06-20T06:52:40.584Z"
   },
   {
    "duration": 18,
    "start_time": "2023-06-20T06:52:40.604Z"
   },
   {
    "duration": 1631,
    "start_time": "2023-06-20T07:07:05.788Z"
   },
   {
    "duration": 3,
    "start_time": "2023-06-20T07:07:07.422Z"
   },
   {
    "duration": 737,
    "start_time": "2023-06-20T07:07:07.427Z"
   },
   {
    "duration": 6,
    "start_time": "2023-06-20T07:07:08.166Z"
   },
   {
    "duration": 55,
    "start_time": "2023-06-20T07:07:08.173Z"
   },
   {
    "duration": 31,
    "start_time": "2023-06-20T07:07:08.230Z"
   },
   {
    "duration": 4,
    "start_time": "2023-06-20T07:07:08.262Z"
   },
   {
    "duration": 14,
    "start_time": "2023-06-20T07:07:08.268Z"
   },
   {
    "duration": 14,
    "start_time": "2023-06-20T07:07:08.284Z"
   },
   {
    "duration": 24,
    "start_time": "2023-06-20T07:07:08.311Z"
   },
   {
    "duration": 10,
    "start_time": "2023-06-20T07:07:08.337Z"
   },
   {
    "duration": 32,
    "start_time": "2023-06-20T07:07:08.348Z"
   },
   {
    "duration": 2,
    "start_time": "2023-06-20T07:07:08.382Z"
   },
   {
    "duration": 8,
    "start_time": "2023-06-20T07:07:08.386Z"
   },
   {
    "duration": 20,
    "start_time": "2023-06-20T07:07:08.396Z"
   },
   {
    "duration": 21,
    "start_time": "2023-06-20T07:07:08.417Z"
   },
   {
    "duration": 23,
    "start_time": "2023-06-20T07:07:08.439Z"
   },
   {
    "duration": 68,
    "start_time": "2023-06-20T07:07:08.464Z"
   },
   {
    "duration": 3,
    "start_time": "2023-06-20T07:07:08.534Z"
   },
   {
    "duration": 199,
    "start_time": "2023-06-20T07:07:08.539Z"
   },
   {
    "duration": 166,
    "start_time": "2023-06-20T07:07:08.739Z"
   },
   {
    "duration": 171,
    "start_time": "2023-06-20T07:07:08.906Z"
   },
   {
    "duration": 5,
    "start_time": "2023-06-20T07:07:09.078Z"
   },
   {
    "duration": 59,
    "start_time": "2023-06-20T07:07:09.084Z"
   },
   {
    "duration": 1052,
    "start_time": "2023-06-20T07:07:09.144Z"
   },
   {
    "duration": 9,
    "start_time": "2023-06-20T07:07:10.197Z"
   },
   {
    "duration": 64,
    "start_time": "2023-06-20T07:07:10.207Z"
   },
   {
    "duration": 551,
    "start_time": "2023-06-20T07:07:10.276Z"
   },
   {
    "duration": 3,
    "start_time": "2023-06-20T07:07:10.828Z"
   },
   {
    "duration": 36,
    "start_time": "2023-06-20T07:07:10.832Z"
   },
   {
    "duration": 24,
    "start_time": "2023-06-20T07:07:10.869Z"
   },
   {
    "duration": 29,
    "start_time": "2023-06-20T07:07:10.895Z"
   },
   {
    "duration": 55,
    "start_time": "2023-06-20T07:07:10.925Z"
   },
   {
    "duration": 23,
    "start_time": "2023-06-20T07:07:10.982Z"
   },
   {
    "duration": 33,
    "start_time": "2023-06-20T07:07:11.014Z"
   },
   {
    "duration": 19,
    "start_time": "2023-06-20T07:07:11.048Z"
   },
   {
    "duration": 14,
    "start_time": "2023-06-20T07:07:11.068Z"
   },
   {
    "duration": 310,
    "start_time": "2023-06-20T07:07:11.083Z"
   },
   {
    "duration": 34,
    "start_time": "2023-06-20T07:07:11.394Z"
   },
   {
    "duration": 69,
    "start_time": "2023-06-20T07:07:11.429Z"
   },
   {
    "duration": 118,
    "start_time": "2023-06-20T07:07:11.511Z"
   },
   {
    "duration": 3,
    "start_time": "2023-06-20T07:07:11.631Z"
   },
   {
    "duration": 12,
    "start_time": "2023-06-20T07:07:11.636Z"
   },
   {
    "duration": 4,
    "start_time": "2023-06-20T07:07:11.650Z"
   },
   {
    "duration": 54,
    "start_time": "2023-06-20T07:07:11.656Z"
   },
   {
    "duration": 13,
    "start_time": "2023-06-20T07:07:11.717Z"
   },
   {
    "duration": 24,
    "start_time": "2023-06-20T07:07:11.732Z"
   },
   {
    "duration": 6,
    "start_time": "2023-06-20T07:07:11.758Z"
   },
   {
    "duration": 9016,
    "start_time": "2023-06-20T07:07:11.766Z"
   },
   {
    "duration": 3461,
    "start_time": "2023-06-20T07:07:20.783Z"
   },
   {
    "duration": 3,
    "start_time": "2023-06-20T07:07:24.245Z"
   },
   {
    "duration": 25,
    "start_time": "2023-06-20T07:07:24.250Z"
   },
   {
    "duration": 16,
    "start_time": "2023-06-20T07:07:24.277Z"
   },
   {
    "duration": 4324,
    "start_time": "2023-06-20T07:07:24.295Z"
   },
   {
    "duration": 94,
    "start_time": "2023-06-20T07:07:28.623Z"
   },
   {
    "duration": 26417,
    "start_time": "2023-06-20T07:07:28.718Z"
   },
   {
    "duration": 5,
    "start_time": "2023-06-20T07:07:55.137Z"
   },
   {
    "duration": 4076,
    "start_time": "2023-06-20T07:07:55.144Z"
   },
   {
    "duration": 6356,
    "start_time": "2023-06-20T07:07:59.221Z"
   },
   {
    "duration": 31,
    "start_time": "2023-06-20T07:08:05.579Z"
   },
   {
    "duration": 32,
    "start_time": "2023-06-20T07:08:05.611Z"
   }
  ],
  "kernelspec": {
   "display_name": "Python 3 (ipykernel)",
   "language": "python",
   "name": "python3"
  },
  "language_info": {
   "codemirror_mode": {
    "name": "ipython",
    "version": 3
   },
   "file_extension": ".py",
   "mimetype": "text/x-python",
   "name": "python",
   "nbconvert_exporter": "python",
   "pygments_lexer": "ipython3",
   "version": "3.11.5"
  },
  "toc": {
   "base_numbering": 1,
   "nav_menu": {},
   "number_sections": true,
   "sideBar": true,
   "skip_h1_title": true,
   "title_cell": "Содержание",
   "title_sidebar": "Contents",
   "toc_cell": true,
   "toc_position": {
    "height": "calc(100% - 180px)",
    "left": "10px",
    "top": "150px",
    "width": "165px"
   },
   "toc_section_display": true,
   "toc_window_display": true
  }
 },
 "nbformat": 4,
 "nbformat_minor": 4
}
