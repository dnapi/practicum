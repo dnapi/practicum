{
 "cells": [
  {
   "cell_type": "markdown",
   "id": "069277f0",
   "metadata": {
    "deletable": false,
    "editable": false,
    "id": "c81daeeb"
   },
   "source": [
    "# Исследование надежности заемщиков\n"
   ]
  },
  {
   "cell_type": "markdown",
   "id": "4eccfcb9",
   "metadata": {
    "deletable": false,
    "editable": false,
    "id": "827c20bf"
   },
   "source": [
    "Во второй части проекта вы выполните шаги 3 и 4. Их вручную проверит ревьюер.\n",
    "Чтобы вам не пришлось писать код заново для шагов 1 и 2, мы добавили авторские решения в ячейки с кодом. \n",
    "\n"
   ]
  },
  {
   "cell_type": "markdown",
   "id": "fb028d43",
   "metadata": {
    "deletable": false,
    "editable": false,
    "id": "744d7639"
   },
   "source": [
    "## Откройте таблицу и изучите общую информацию о данных"
   ]
  },
  {
   "cell_type": "markdown",
   "id": "aecb454f",
   "metadata": {
    "deletable": false,
    "editable": false,
    "id": "e7a14c31"
   },
   "source": [
    "**Задание 1. Импортируйте библиотеку pandas. Считайте данные из csv-файла в датафрейм и сохраните в переменную `data`. Путь к файлу:**\n",
    "\n",
    "`/datasets/data.csv`"
   ]
  },
  {
   "cell_type": "code",
   "execution_count": 1,
   "id": "2d2fab9f",
   "metadata": {
    "deletable": false,
    "id": "7bcf75c9"
   },
   "outputs": [],
   "source": [
    "import pandas as pd\n",
    "\n",
    "try:\n",
    "    data = pd.read_csv('/datasets/data.csv')\n",
    "except:\n",
    "    data = pd.read_csv('https://code.s3.yandex.net/datasets/data.csv')"
   ]
  },
  {
   "cell_type": "markdown",
   "id": "4571d6a8",
   "metadata": {
    "deletable": false,
    "editable": false,
    "id": "b8038fe3"
   },
   "source": [
    "**Задание 2. Выведите первые 20 строчек датафрейма `data` на экран.**"
   ]
  },
  {
   "cell_type": "code",
   "execution_count": 2,
   "id": "1c538a43",
   "metadata": {
    "deletable": false,
    "id": "2a7cab99",
    "outputId": "1a8f3ef2-d323-4ec2-ddf7-89670b5944c4"
   },
   "outputs": [
    {
     "data": {
      "text/html": [
       "<div>\n",
       "<style scoped>\n",
       "    .dataframe tbody tr th:only-of-type {\n",
       "        vertical-align: middle;\n",
       "    }\n",
       "\n",
       "    .dataframe tbody tr th {\n",
       "        vertical-align: top;\n",
       "    }\n",
       "\n",
       "    .dataframe thead th {\n",
       "        text-align: right;\n",
       "    }\n",
       "</style>\n",
       "<table border=\"1\" class=\"dataframe\">\n",
       "  <thead>\n",
       "    <tr style=\"text-align: right;\">\n",
       "      <th></th>\n",
       "      <th>children</th>\n",
       "      <th>days_employed</th>\n",
       "      <th>dob_years</th>\n",
       "      <th>education</th>\n",
       "      <th>education_id</th>\n",
       "      <th>family_status</th>\n",
       "      <th>family_status_id</th>\n",
       "      <th>gender</th>\n",
       "      <th>income_type</th>\n",
       "      <th>debt</th>\n",
       "      <th>total_income</th>\n",
       "      <th>purpose</th>\n",
       "    </tr>\n",
       "  </thead>\n",
       "  <tbody>\n",
       "    <tr>\n",
       "      <th>0</th>\n",
       "      <td>1</td>\n",
       "      <td>-8437.673028</td>\n",
       "      <td>42</td>\n",
       "      <td>высшее</td>\n",
       "      <td>0</td>\n",
       "      <td>женат / замужем</td>\n",
       "      <td>0</td>\n",
       "      <td>F</td>\n",
       "      <td>сотрудник</td>\n",
       "      <td>0</td>\n",
       "      <td>253875.639453</td>\n",
       "      <td>покупка жилья</td>\n",
       "    </tr>\n",
       "    <tr>\n",
       "      <th>1</th>\n",
       "      <td>1</td>\n",
       "      <td>-4024.803754</td>\n",
       "      <td>36</td>\n",
       "      <td>среднее</td>\n",
       "      <td>1</td>\n",
       "      <td>женат / замужем</td>\n",
       "      <td>0</td>\n",
       "      <td>F</td>\n",
       "      <td>сотрудник</td>\n",
       "      <td>0</td>\n",
       "      <td>112080.014102</td>\n",
       "      <td>приобретение автомобиля</td>\n",
       "    </tr>\n",
       "    <tr>\n",
       "      <th>2</th>\n",
       "      <td>0</td>\n",
       "      <td>-5623.422610</td>\n",
       "      <td>33</td>\n",
       "      <td>Среднее</td>\n",
       "      <td>1</td>\n",
       "      <td>женат / замужем</td>\n",
       "      <td>0</td>\n",
       "      <td>M</td>\n",
       "      <td>сотрудник</td>\n",
       "      <td>0</td>\n",
       "      <td>145885.952297</td>\n",
       "      <td>покупка жилья</td>\n",
       "    </tr>\n",
       "    <tr>\n",
       "      <th>3</th>\n",
       "      <td>3</td>\n",
       "      <td>-4124.747207</td>\n",
       "      <td>32</td>\n",
       "      <td>среднее</td>\n",
       "      <td>1</td>\n",
       "      <td>женат / замужем</td>\n",
       "      <td>0</td>\n",
       "      <td>M</td>\n",
       "      <td>сотрудник</td>\n",
       "      <td>0</td>\n",
       "      <td>267628.550329</td>\n",
       "      <td>дополнительное образование</td>\n",
       "    </tr>\n",
       "    <tr>\n",
       "      <th>4</th>\n",
       "      <td>0</td>\n",
       "      <td>340266.072047</td>\n",
       "      <td>53</td>\n",
       "      <td>среднее</td>\n",
       "      <td>1</td>\n",
       "      <td>гражданский брак</td>\n",
       "      <td>1</td>\n",
       "      <td>F</td>\n",
       "      <td>пенсионер</td>\n",
       "      <td>0</td>\n",
       "      <td>158616.077870</td>\n",
       "      <td>сыграть свадьбу</td>\n",
       "    </tr>\n",
       "    <tr>\n",
       "      <th>5</th>\n",
       "      <td>0</td>\n",
       "      <td>-926.185831</td>\n",
       "      <td>27</td>\n",
       "      <td>высшее</td>\n",
       "      <td>0</td>\n",
       "      <td>гражданский брак</td>\n",
       "      <td>1</td>\n",
       "      <td>M</td>\n",
       "      <td>компаньон</td>\n",
       "      <td>0</td>\n",
       "      <td>255763.565419</td>\n",
       "      <td>покупка жилья</td>\n",
       "    </tr>\n",
       "    <tr>\n",
       "      <th>6</th>\n",
       "      <td>0</td>\n",
       "      <td>-2879.202052</td>\n",
       "      <td>43</td>\n",
       "      <td>высшее</td>\n",
       "      <td>0</td>\n",
       "      <td>женат / замужем</td>\n",
       "      <td>0</td>\n",
       "      <td>F</td>\n",
       "      <td>компаньон</td>\n",
       "      <td>0</td>\n",
       "      <td>240525.971920</td>\n",
       "      <td>операции с жильем</td>\n",
       "    </tr>\n",
       "    <tr>\n",
       "      <th>7</th>\n",
       "      <td>0</td>\n",
       "      <td>-152.779569</td>\n",
       "      <td>50</td>\n",
       "      <td>СРЕДНЕЕ</td>\n",
       "      <td>1</td>\n",
       "      <td>женат / замужем</td>\n",
       "      <td>0</td>\n",
       "      <td>M</td>\n",
       "      <td>сотрудник</td>\n",
       "      <td>0</td>\n",
       "      <td>135823.934197</td>\n",
       "      <td>образование</td>\n",
       "    </tr>\n",
       "    <tr>\n",
       "      <th>8</th>\n",
       "      <td>2</td>\n",
       "      <td>-6929.865299</td>\n",
       "      <td>35</td>\n",
       "      <td>ВЫСШЕЕ</td>\n",
       "      <td>0</td>\n",
       "      <td>гражданский брак</td>\n",
       "      <td>1</td>\n",
       "      <td>F</td>\n",
       "      <td>сотрудник</td>\n",
       "      <td>0</td>\n",
       "      <td>95856.832424</td>\n",
       "      <td>на проведение свадьбы</td>\n",
       "    </tr>\n",
       "    <tr>\n",
       "      <th>9</th>\n",
       "      <td>0</td>\n",
       "      <td>-2188.756445</td>\n",
       "      <td>41</td>\n",
       "      <td>среднее</td>\n",
       "      <td>1</td>\n",
       "      <td>женат / замужем</td>\n",
       "      <td>0</td>\n",
       "      <td>M</td>\n",
       "      <td>сотрудник</td>\n",
       "      <td>0</td>\n",
       "      <td>144425.938277</td>\n",
       "      <td>покупка жилья для семьи</td>\n",
       "    </tr>\n",
       "    <tr>\n",
       "      <th>10</th>\n",
       "      <td>2</td>\n",
       "      <td>-4171.483647</td>\n",
       "      <td>36</td>\n",
       "      <td>высшее</td>\n",
       "      <td>0</td>\n",
       "      <td>женат / замужем</td>\n",
       "      <td>0</td>\n",
       "      <td>M</td>\n",
       "      <td>компаньон</td>\n",
       "      <td>0</td>\n",
       "      <td>113943.491460</td>\n",
       "      <td>покупка недвижимости</td>\n",
       "    </tr>\n",
       "    <tr>\n",
       "      <th>11</th>\n",
       "      <td>0</td>\n",
       "      <td>-792.701887</td>\n",
       "      <td>40</td>\n",
       "      <td>среднее</td>\n",
       "      <td>1</td>\n",
       "      <td>женат / замужем</td>\n",
       "      <td>0</td>\n",
       "      <td>F</td>\n",
       "      <td>сотрудник</td>\n",
       "      <td>0</td>\n",
       "      <td>77069.234271</td>\n",
       "      <td>покупка коммерческой недвижимости</td>\n",
       "    </tr>\n",
       "    <tr>\n",
       "      <th>12</th>\n",
       "      <td>0</td>\n",
       "      <td>NaN</td>\n",
       "      <td>65</td>\n",
       "      <td>среднее</td>\n",
       "      <td>1</td>\n",
       "      <td>гражданский брак</td>\n",
       "      <td>1</td>\n",
       "      <td>M</td>\n",
       "      <td>пенсионер</td>\n",
       "      <td>0</td>\n",
       "      <td>NaN</td>\n",
       "      <td>сыграть свадьбу</td>\n",
       "    </tr>\n",
       "    <tr>\n",
       "      <th>13</th>\n",
       "      <td>0</td>\n",
       "      <td>-1846.641941</td>\n",
       "      <td>54</td>\n",
       "      <td>неоконченное высшее</td>\n",
       "      <td>2</td>\n",
       "      <td>женат / замужем</td>\n",
       "      <td>0</td>\n",
       "      <td>F</td>\n",
       "      <td>сотрудник</td>\n",
       "      <td>0</td>\n",
       "      <td>130458.228857</td>\n",
       "      <td>приобретение автомобиля</td>\n",
       "    </tr>\n",
       "    <tr>\n",
       "      <th>14</th>\n",
       "      <td>0</td>\n",
       "      <td>-1844.956182</td>\n",
       "      <td>56</td>\n",
       "      <td>высшее</td>\n",
       "      <td>0</td>\n",
       "      <td>гражданский брак</td>\n",
       "      <td>1</td>\n",
       "      <td>F</td>\n",
       "      <td>компаньон</td>\n",
       "      <td>1</td>\n",
       "      <td>165127.911772</td>\n",
       "      <td>покупка жилой недвижимости</td>\n",
       "    </tr>\n",
       "    <tr>\n",
       "      <th>15</th>\n",
       "      <td>1</td>\n",
       "      <td>-972.364419</td>\n",
       "      <td>26</td>\n",
       "      <td>среднее</td>\n",
       "      <td>1</td>\n",
       "      <td>женат / замужем</td>\n",
       "      <td>0</td>\n",
       "      <td>F</td>\n",
       "      <td>сотрудник</td>\n",
       "      <td>0</td>\n",
       "      <td>116820.904450</td>\n",
       "      <td>строительство собственной недвижимости</td>\n",
       "    </tr>\n",
       "    <tr>\n",
       "      <th>16</th>\n",
       "      <td>0</td>\n",
       "      <td>-1719.934226</td>\n",
       "      <td>35</td>\n",
       "      <td>среднее</td>\n",
       "      <td>1</td>\n",
       "      <td>женат / замужем</td>\n",
       "      <td>0</td>\n",
       "      <td>F</td>\n",
       "      <td>сотрудник</td>\n",
       "      <td>0</td>\n",
       "      <td>289202.704229</td>\n",
       "      <td>недвижимость</td>\n",
       "    </tr>\n",
       "    <tr>\n",
       "      <th>17</th>\n",
       "      <td>0</td>\n",
       "      <td>-2369.999720</td>\n",
       "      <td>33</td>\n",
       "      <td>высшее</td>\n",
       "      <td>0</td>\n",
       "      <td>гражданский брак</td>\n",
       "      <td>1</td>\n",
       "      <td>M</td>\n",
       "      <td>сотрудник</td>\n",
       "      <td>0</td>\n",
       "      <td>90410.586745</td>\n",
       "      <td>строительство недвижимости</td>\n",
       "    </tr>\n",
       "    <tr>\n",
       "      <th>18</th>\n",
       "      <td>0</td>\n",
       "      <td>400281.136913</td>\n",
       "      <td>53</td>\n",
       "      <td>среднее</td>\n",
       "      <td>1</td>\n",
       "      <td>вдовец / вдова</td>\n",
       "      <td>2</td>\n",
       "      <td>F</td>\n",
       "      <td>пенсионер</td>\n",
       "      <td>0</td>\n",
       "      <td>56823.777243</td>\n",
       "      <td>на покупку подержанного автомобиля</td>\n",
       "    </tr>\n",
       "    <tr>\n",
       "      <th>19</th>\n",
       "      <td>0</td>\n",
       "      <td>-10038.818549</td>\n",
       "      <td>48</td>\n",
       "      <td>СРЕДНЕЕ</td>\n",
       "      <td>1</td>\n",
       "      <td>в разводе</td>\n",
       "      <td>3</td>\n",
       "      <td>F</td>\n",
       "      <td>сотрудник</td>\n",
       "      <td>0</td>\n",
       "      <td>242831.107982</td>\n",
       "      <td>на покупку своего автомобиля</td>\n",
       "    </tr>\n",
       "  </tbody>\n",
       "</table>\n",
       "</div>"
      ],
      "text/plain": [
       "    children  days_employed  dob_years            education  education_id  \\\n",
       "0          1   -8437.673028         42               высшее             0   \n",
       "1          1   -4024.803754         36              среднее             1   \n",
       "2          0   -5623.422610         33              Среднее             1   \n",
       "3          3   -4124.747207         32              среднее             1   \n",
       "4          0  340266.072047         53              среднее             1   \n",
       "5          0    -926.185831         27               высшее             0   \n",
       "6          0   -2879.202052         43               высшее             0   \n",
       "7          0    -152.779569         50              СРЕДНЕЕ             1   \n",
       "8          2   -6929.865299         35               ВЫСШЕЕ             0   \n",
       "9          0   -2188.756445         41              среднее             1   \n",
       "10         2   -4171.483647         36               высшее             0   \n",
       "11         0    -792.701887         40              среднее             1   \n",
       "12         0            NaN         65              среднее             1   \n",
       "13         0   -1846.641941         54  неоконченное высшее             2   \n",
       "14         0   -1844.956182         56               высшее             0   \n",
       "15         1    -972.364419         26              среднее             1   \n",
       "16         0   -1719.934226         35              среднее             1   \n",
       "17         0   -2369.999720         33               высшее             0   \n",
       "18         0  400281.136913         53              среднее             1   \n",
       "19         0  -10038.818549         48              СРЕДНЕЕ             1   \n",
       "\n",
       "       family_status  family_status_id gender income_type  debt  \\\n",
       "0    женат / замужем                 0      F   сотрудник     0   \n",
       "1    женат / замужем                 0      F   сотрудник     0   \n",
       "2    женат / замужем                 0      M   сотрудник     0   \n",
       "3    женат / замужем                 0      M   сотрудник     0   \n",
       "4   гражданский брак                 1      F   пенсионер     0   \n",
       "5   гражданский брак                 1      M   компаньон     0   \n",
       "6    женат / замужем                 0      F   компаньон     0   \n",
       "7    женат / замужем                 0      M   сотрудник     0   \n",
       "8   гражданский брак                 1      F   сотрудник     0   \n",
       "9    женат / замужем                 0      M   сотрудник     0   \n",
       "10   женат / замужем                 0      M   компаньон     0   \n",
       "11   женат / замужем                 0      F   сотрудник     0   \n",
       "12  гражданский брак                 1      M   пенсионер     0   \n",
       "13   женат / замужем                 0      F   сотрудник     0   \n",
       "14  гражданский брак                 1      F   компаньон     1   \n",
       "15   женат / замужем                 0      F   сотрудник     0   \n",
       "16   женат / замужем                 0      F   сотрудник     0   \n",
       "17  гражданский брак                 1      M   сотрудник     0   \n",
       "18    вдовец / вдова                 2      F   пенсионер     0   \n",
       "19         в разводе                 3      F   сотрудник     0   \n",
       "\n",
       "     total_income                                 purpose  \n",
       "0   253875.639453                           покупка жилья  \n",
       "1   112080.014102                 приобретение автомобиля  \n",
       "2   145885.952297                           покупка жилья  \n",
       "3   267628.550329              дополнительное образование  \n",
       "4   158616.077870                         сыграть свадьбу  \n",
       "5   255763.565419                           покупка жилья  \n",
       "6   240525.971920                       операции с жильем  \n",
       "7   135823.934197                             образование  \n",
       "8    95856.832424                   на проведение свадьбы  \n",
       "9   144425.938277                 покупка жилья для семьи  \n",
       "10  113943.491460                    покупка недвижимости  \n",
       "11   77069.234271       покупка коммерческой недвижимости  \n",
       "12            NaN                         сыграть свадьбу  \n",
       "13  130458.228857                 приобретение автомобиля  \n",
       "14  165127.911772              покупка жилой недвижимости  \n",
       "15  116820.904450  строительство собственной недвижимости  \n",
       "16  289202.704229                            недвижимость  \n",
       "17   90410.586745              строительство недвижимости  \n",
       "18   56823.777243      на покупку подержанного автомобиля  \n",
       "19  242831.107982            на покупку своего автомобиля  "
      ]
     },
     "execution_count": 2,
     "metadata": {},
     "output_type": "execute_result"
    }
   ],
   "source": [
    "data.head(20)"
   ]
  },
  {
   "cell_type": "markdown",
   "id": "a15fba89",
   "metadata": {
    "deletable": false,
    "editable": false,
    "id": "1c12e233"
   },
   "source": [
    "**Задание 3. Выведите основную информацию о датафрейме с помощью метода `info()`.**"
   ]
  },
  {
   "cell_type": "code",
   "execution_count": 3,
   "id": "07f2c0ea",
   "metadata": {
    "deletable": false,
    "id": "2b757bca",
    "outputId": "15376089-8dad-46c9-b520-c05248d43158"
   },
   "outputs": [
    {
     "name": "stdout",
     "output_type": "stream",
     "text": [
      "<class 'pandas.core.frame.DataFrame'>\n",
      "RangeIndex: 21525 entries, 0 to 21524\n",
      "Data columns (total 12 columns):\n",
      " #   Column            Non-Null Count  Dtype  \n",
      "---  ------            --------------  -----  \n",
      " 0   children          21525 non-null  int64  \n",
      " 1   days_employed     19351 non-null  float64\n",
      " 2   dob_years         21525 non-null  int64  \n",
      " 3   education         21525 non-null  object \n",
      " 4   education_id      21525 non-null  int64  \n",
      " 5   family_status     21525 non-null  object \n",
      " 6   family_status_id  21525 non-null  int64  \n",
      " 7   gender            21525 non-null  object \n",
      " 8   income_type       21525 non-null  object \n",
      " 9   debt              21525 non-null  int64  \n",
      " 10  total_income      19351 non-null  float64\n",
      " 11  purpose           21525 non-null  object \n",
      "dtypes: float64(2), int64(5), object(5)\n",
      "memory usage: 2.0+ MB\n"
     ]
    }
   ],
   "source": [
    "data.info()"
   ]
  },
  {
   "cell_type": "markdown",
   "id": "bd693b4c",
   "metadata": {
    "deletable": false,
    "editable": false,
    "id": "333ec665"
   },
   "source": [
    "## Предобработка данных"
   ]
  },
  {
   "cell_type": "markdown",
   "id": "3cc2dbbe",
   "metadata": {
    "deletable": false,
    "editable": false,
    "id": "02d92d53"
   },
   "source": [
    "### Удаление пропусков"
   ]
  },
  {
   "cell_type": "markdown",
   "id": "286694b6",
   "metadata": {
    "deletable": false,
    "editable": false,
    "id": "cd84967c"
   },
   "source": [
    "**Задание 4. Выведите количество пропущенных значений для каждого столбца. Используйте комбинацию двух методов.**"
   ]
  },
  {
   "cell_type": "code",
   "execution_count": 4,
   "id": "044c2556",
   "metadata": {
    "deletable": false,
    "id": "7f9b2309",
    "outputId": "81f4d817-781c-465c-ed15-91ce4446810d"
   },
   "outputs": [
    {
     "data": {
      "text/plain": [
       "children               0\n",
       "days_employed       2174\n",
       "dob_years              0\n",
       "education              0\n",
       "education_id           0\n",
       "family_status          0\n",
       "family_status_id       0\n",
       "gender                 0\n",
       "income_type            0\n",
       "debt                   0\n",
       "total_income        2174\n",
       "purpose                0\n",
       "dtype: int64"
      ]
     },
     "execution_count": 4,
     "metadata": {},
     "output_type": "execute_result"
    }
   ],
   "source": [
    "data.isna().sum()"
   ]
  },
  {
   "cell_type": "markdown",
   "id": "5de8ff74",
   "metadata": {
    "deletable": false,
    "editable": false,
    "id": "db86e27b"
   },
   "source": [
    "**Задание 5. В двух столбцах есть пропущенные значения. Один из них — `days_employed`. Пропуски в этом столбце вы обработаете на следующем этапе. Другой столбец с пропущенными значениями — `total_income` — хранит данные о доходах. На сумму дохода сильнее всего влияет тип занятости, поэтому заполнить пропуски в этом столбце нужно медианным значением по каждому типу из столбца `income_type`. Например, у человека с типом занятости `сотрудник` пропуск в столбце `total_income` должен быть заполнен медианным доходом среди всех записей с тем же типом.**"
   ]
  },
  {
   "cell_type": "code",
   "execution_count": 5,
   "id": "10757c9f",
   "metadata": {
    "deletable": false,
    "id": "42006a93"
   },
   "outputs": [],
   "source": [
    "for t in data['income_type'].unique():\n",
    "    data.loc[(data['income_type'] == t) & (data['total_income'].isna()), 'total_income'] = \\\n",
    "    data.loc[(data['income_type'] == t), 'total_income'].median()"
   ]
  },
  {
   "cell_type": "markdown",
   "id": "d1a95987",
   "metadata": {
    "deletable": false,
    "editable": false,
    "id": "89da5ece"
   },
   "source": [
    "### Обработка аномальных значений"
   ]
  },
  {
   "cell_type": "markdown",
   "id": "3c4789f5",
   "metadata": {
    "deletable": false,
    "editable": false,
    "id": "57964554"
   },
   "source": [
    "**Задание 6. В данных могут встречаться артефакты (аномалии) — значения, которые не отражают действительность и появились по какой-то ошибке. таким артефактом будет отрицательное количество дней трудового стажа в столбце `days_employed`. Для реальных данных это нормально. Обработайте значения в этом столбце: замените все отрицательные значения положительными с помощью метода `abs()`.**"
   ]
  },
  {
   "cell_type": "code",
   "execution_count": 6,
   "id": "c3b5f6a8",
   "metadata": {
    "deletable": false,
    "id": "f6f055bf"
   },
   "outputs": [],
   "source": [
    "data['days_employed'] = data['days_employed'].abs()"
   ]
  },
  {
   "cell_type": "markdown",
   "id": "561475f0",
   "metadata": {
    "deletable": false,
    "editable": false,
    "id": "6107dd2f"
   },
   "source": [
    "**Задание 7. Для каждого типа занятости выведите медианное значение трудового стажа `days_employed` в днях.**"
   ]
  },
  {
   "cell_type": "code",
   "execution_count": 7,
   "id": "3e49f43f",
   "metadata": {
    "deletable": false,
    "id": "85a5faf6",
    "outputId": "801ef80e-522b-4668-f34e-565af7432bcf"
   },
   "outputs": [
    {
     "data": {
      "text/plain": [
       "income_type\n",
       "безработный        366413.652744\n",
       "в декрете            3296.759962\n",
       "госслужащий          2689.368353\n",
       "компаньон            1547.382223\n",
       "пенсионер          365213.306266\n",
       "предприниматель       520.848083\n",
       "сотрудник            1574.202821\n",
       "студент               578.751554\n",
       "Name: days_employed, dtype: float64"
      ]
     },
     "execution_count": 7,
     "metadata": {},
     "output_type": "execute_result"
    }
   ],
   "source": [
    "data.groupby('income_type')['days_employed'].agg('median')"
   ]
  },
  {
   "cell_type": "markdown",
   "id": "0cd63ab8",
   "metadata": {
    "deletable": false,
    "editable": false,
    "id": "38d1a030"
   },
   "source": [
    "У двух типов (безработные и пенсионеры) получатся аномально большие значения. Исправить такие значения сложно, поэтому оставьте их как есть. Тем более этот столбец не понадобится вам для исследования."
   ]
  },
  {
   "cell_type": "markdown",
   "id": "f7b1f4ad",
   "metadata": {
    "deletable": false,
    "editable": false,
    "id": "d8a9f147"
   },
   "source": [
    "**Задание 8. Выведите перечень уникальных значений столбца `children`.**"
   ]
  },
  {
   "cell_type": "code",
   "execution_count": 8,
   "id": "ccfcbeff",
   "metadata": {
    "deletable": false,
    "id": "ef5056eb",
    "outputId": "6975b15c-7f95-4697-d16d-a0c79b657b03"
   },
   "outputs": [
    {
     "data": {
      "text/plain": [
       "array([ 1,  0,  3,  2, -1,  4, 20,  5])"
      ]
     },
     "execution_count": 8,
     "metadata": {},
     "output_type": "execute_result"
    }
   ],
   "source": [
    "data['children'].unique()"
   ]
  },
  {
   "cell_type": "markdown",
   "id": "442a2219",
   "metadata": {
    "deletable": false,
    "editable": false,
    "id": "40b9ebf2"
   },
   "source": [
    "**Задание 9. В столбце `children` есть два аномальных значения. Удалите строки, в которых встречаются такие аномальные значения из датафрейма `data`.**"
   ]
  },
  {
   "cell_type": "code",
   "execution_count": 9,
   "id": "9c52713a",
   "metadata": {
    "deletable": false,
    "id": "3ff9801d"
   },
   "outputs": [],
   "source": [
    "data = data[(data['children'] != -1) & (data['children'] != 20)]"
   ]
  },
  {
   "cell_type": "markdown",
   "id": "4c5e278c",
   "metadata": {
    "deletable": false,
    "editable": false,
    "id": "bbc4d0ce"
   },
   "source": [
    "**Задание 10. Ещё раз выведите перечень уникальных значений столбца `children`, чтобы убедиться, что артефакты удалены.**"
   ]
  },
  {
   "cell_type": "code",
   "execution_count": 10,
   "id": "f72eec9e",
   "metadata": {
    "deletable": false,
    "id": "ad4fa8b7",
    "outputId": "b2097101-d49d-44d9-901b-32a65c9463d1"
   },
   "outputs": [
    {
     "data": {
      "text/plain": [
       "array([1, 0, 3, 2, 4, 5])"
      ]
     },
     "execution_count": 10,
     "metadata": {},
     "output_type": "execute_result"
    }
   ],
   "source": [
    "data['children'].unique()"
   ]
  },
  {
   "cell_type": "markdown",
   "id": "5d05814b",
   "metadata": {
    "deletable": false,
    "editable": false,
    "id": "75440b63"
   },
   "source": [
    "### Удаление пропусков (продолжение)"
   ]
  },
  {
   "cell_type": "markdown",
   "id": "29deb769",
   "metadata": {
    "deletable": false,
    "editable": false,
    "id": "f4ea573f"
   },
   "source": [
    "**Задание 11. Заполните пропуски в столбце `days_employed` медианными значениями по каждого типа занятости `income_type`.**"
   ]
  },
  {
   "cell_type": "code",
   "execution_count": 11,
   "id": "a084063c",
   "metadata": {
    "deletable": false,
    "id": "af6b1a7e"
   },
   "outputs": [],
   "source": [
    "for t in data['income_type'].unique():\n",
    "    data.loc[(data['income_type'] == t) & (data['days_employed'].isna()), 'days_employed'] = \\\n",
    "    data.loc[(data['income_type'] == t), 'days_employed'].median()"
   ]
  },
  {
   "cell_type": "markdown",
   "id": "4f4eff18",
   "metadata": {
    "deletable": false,
    "editable": false,
    "id": "2753f40d"
   },
   "source": [
    "**Задание 12. Убедитесь, что все пропуски заполнены. Проверьте себя и ещё раз выведите количество пропущенных значений для каждого столбца с помощью двух методов.**"
   ]
  },
  {
   "cell_type": "code",
   "execution_count": 12,
   "id": "9a3cfc43",
   "metadata": {
    "deletable": false,
    "id": "55f78bc2",
    "outputId": "8da1e4e1-358e-4e87-98c9-f261bce0a7b2"
   },
   "outputs": [
    {
     "data": {
      "text/plain": [
       "children            0\n",
       "days_employed       0\n",
       "dob_years           0\n",
       "education           0\n",
       "education_id        0\n",
       "family_status       0\n",
       "family_status_id    0\n",
       "gender              0\n",
       "income_type         0\n",
       "debt                0\n",
       "total_income        0\n",
       "purpose             0\n",
       "dtype: int64"
      ]
     },
     "execution_count": 12,
     "metadata": {},
     "output_type": "execute_result"
    }
   ],
   "source": [
    "data.isna().sum()"
   ]
  },
  {
   "cell_type": "markdown",
   "id": "c2d61c4a",
   "metadata": {
    "deletable": false,
    "editable": false,
    "id": "ddc81e43"
   },
   "source": [
    "### Изменение типов данных"
   ]
  },
  {
   "cell_type": "markdown",
   "id": "b65f2b9f",
   "metadata": {
    "deletable": false,
    "editable": false,
    "id": "42d19d24"
   },
   "source": [
    "**Задание 13. Замените вещественный тип данных в столбце `total_income` на целочисленный с помощью метода `astype()`.**"
   ]
  },
  {
   "cell_type": "code",
   "execution_count": 13,
   "id": "add556cf",
   "metadata": {
    "deletable": false,
    "id": "920b65ad"
   },
   "outputs": [],
   "source": [
    "data['total_income'] = data['total_income'].astype(int)"
   ]
  },
  {
   "cell_type": "markdown",
   "id": "cb3a784d",
   "metadata": {
    "deletable": false,
    "editable": false,
    "id": "80c420ba"
   },
   "source": [
    "### Обработка дубликатов"
   ]
  },
  {
   "cell_type": "markdown",
   "id": "8d2f02f9",
   "metadata": {
    "deletable": false,
    "editable": false
   },
   "source": [
    "**Задание 14. Обработайте неявные дубликаты в столбце `education`. В этом столбце есть одни и те же значения, но записанные по-разному: с использованием заглавных и строчных букв. Приведите их к нижнему регистру. Проверьте остальные столбцы.**"
   ]
  },
  {
   "cell_type": "code",
   "execution_count": 14,
   "id": "6d17f72d",
   "metadata": {
    "deletable": false
   },
   "outputs": [],
   "source": [
    "data['education'] = data['education'].str.lower()"
   ]
  },
  {
   "cell_type": "markdown",
   "id": "2031319d",
   "metadata": {
    "deletable": false,
    "editable": false,
    "id": "dc587695"
   },
   "source": [
    "**Задание 15. Выведите на экран количество строк-дубликатов в данных. Если такие строки присутствуют, удалите их.**"
   ]
  },
  {
   "cell_type": "code",
   "execution_count": 15,
   "id": "7b87ac48",
   "metadata": {
    "deletable": false,
    "id": "3ee445e4",
    "outputId": "9684deba-1934-42d1-99e1-cda61740f822"
   },
   "outputs": [
    {
     "data": {
      "text/plain": [
       "71"
      ]
     },
     "execution_count": 15,
     "metadata": {},
     "output_type": "execute_result"
    }
   ],
   "source": [
    "data.duplicated().sum()"
   ]
  },
  {
   "cell_type": "code",
   "execution_count": 16,
   "id": "9c601111",
   "metadata": {
    "deletable": false,
    "id": "8575fe05"
   },
   "outputs": [],
   "source": [
    "data = data.drop_duplicates()"
   ]
  },
  {
   "cell_type": "markdown",
   "id": "09667edd",
   "metadata": {
    "deletable": false,
    "editable": false,
    "id": "9904cf55"
   },
   "source": [
    "### Категоризация данных"
   ]
  },
  {
   "cell_type": "markdown",
   "id": "0b3d26c4",
   "metadata": {
    "deletable": false,
    "editable": false,
    "id": "72fcc8a2"
   },
   "source": [
    "**Задание 16. На основании диапазонов, указанных ниже, создайте в датафрейме `data` столбец `total_income_category` с категориями:**\n",
    "\n",
    "- 0–30000 — `'E'`;\n",
    "- 30001–50000 — `'D'`;\n",
    "- 50001–200000 — `'C'`;\n",
    "- 200001–1000000 — `'B'`;\n",
    "- 1000001 и выше — `'A'`.\n",
    "\n",
    "\n",
    "**Например, кредитополучателю с доходом 25000 нужно назначить категорию `'E'`, а клиенту, получающему 235000, — `'B'`. Используйте собственную функцию с именем `categorize_income()` и метод `apply()`.**"
   ]
  },
  {
   "cell_type": "code",
   "execution_count": 17,
   "id": "c140f815",
   "metadata": {
    "deletable": false,
    "id": "e1771346"
   },
   "outputs": [],
   "source": [
    "def categorize_income(income):\n",
    "    try:\n",
    "        if 0 <= income <= 30000:\n",
    "            return 'E'\n",
    "        elif 30001 <= income <= 50000:\n",
    "            return 'D'\n",
    "        elif 50001 <= income <= 200000:\n",
    "            return 'C'\n",
    "        elif 200001 <= income <= 1000000:\n",
    "            return 'B'\n",
    "        elif income >= 1000001:\n",
    "            return 'A'\n",
    "    except:\n",
    "        pass"
   ]
  },
  {
   "cell_type": "code",
   "execution_count": 18,
   "id": "94d273ec",
   "metadata": {
    "deletable": false,
    "id": "d5f3586d"
   },
   "outputs": [],
   "source": [
    "data['total_income_category'] = data['total_income'].apply(categorize_income)"
   ]
  },
  {
   "cell_type": "markdown",
   "id": "18f2a8d4",
   "metadata": {
    "deletable": false,
    "editable": false,
    "id": "dde49b5c"
   },
   "source": [
    "**Задание 17. Выведите на экран перечень уникальных целей взятия кредита из столбца `purpose`.**"
   ]
  },
  {
   "cell_type": "code",
   "execution_count": 19,
   "id": "354dd422",
   "metadata": {
    "deletable": false,
    "id": "f67ce9b3",
    "outputId": "673c12d9-7d7e-4ae0-9812-c622c89dd244"
   },
   "outputs": [
    {
     "data": {
      "text/plain": [
       "array(['покупка жилья', 'приобретение автомобиля',\n",
       "       'дополнительное образование', 'сыграть свадьбу',\n",
       "       'операции с жильем', 'образование', 'на проведение свадьбы',\n",
       "       'покупка жилья для семьи', 'покупка недвижимости',\n",
       "       'покупка коммерческой недвижимости', 'покупка жилой недвижимости',\n",
       "       'строительство собственной недвижимости', 'недвижимость',\n",
       "       'строительство недвижимости', 'на покупку подержанного автомобиля',\n",
       "       'на покупку своего автомобиля',\n",
       "       'операции с коммерческой недвижимостью',\n",
       "       'строительство жилой недвижимости', 'жилье',\n",
       "       'операции со своей недвижимостью', 'автомобили',\n",
       "       'заняться образованием', 'сделка с подержанным автомобилем',\n",
       "       'получение образования', 'автомобиль', 'свадьба',\n",
       "       'получение дополнительного образования', 'покупка своего жилья',\n",
       "       'операции с недвижимостью', 'получение высшего образования',\n",
       "       'свой автомобиль', 'сделка с автомобилем',\n",
       "       'профильное образование', 'высшее образование',\n",
       "       'покупка жилья для сдачи', 'на покупку автомобиля', 'ремонт жилью',\n",
       "       'заняться высшим образованием'], dtype=object)"
      ]
     },
     "execution_count": 19,
     "metadata": {},
     "output_type": "execute_result"
    }
   ],
   "source": [
    "data['purpose'].unique()"
   ]
  },
  {
   "cell_type": "markdown",
   "id": "20e968e7",
   "metadata": {
    "deletable": false,
    "editable": false,
    "id": "85d0aef0"
   },
   "source": [
    "**Задание 18. Создайте функцию, которая на основании данных из столбца `purpose` сформирует новый столбец `purpose_category`, в который войдут следующие категории:**\n",
    "\n",
    "- `'операции с автомобилем'`,\n",
    "- `'операции с недвижимостью'`,\n",
    "- `'проведение свадьбы'`,\n",
    "- `'получение образования'`.\n",
    "\n",
    "**Например, если в столбце `purpose` находится подстрока `'на покупку автомобиля'`, то в столбце `purpose_category` должна появиться строка `'операции с автомобилем'`.**\n",
    "\n",
    "**Используйте собственную функцию с именем `categorize_purpose()` и метод `apply()`. Изучите данные в столбце `purpose` и определите, какие подстроки помогут вам правильно определить категорию.**"
   ]
  },
  {
   "cell_type": "code",
   "execution_count": 20,
   "id": "7fb121cd",
   "metadata": {
    "deletable": false,
    "id": "e149fab4"
   },
   "outputs": [],
   "source": [
    "def categorize_purpose(row):\n",
    "    try:\n",
    "        if 'автом' in row:\n",
    "            return 'операции с автомобилем'\n",
    "        elif 'жил' in row or 'недвиж' in row:\n",
    "            return 'операции с недвижимостью'\n",
    "        elif 'свад' in row:\n",
    "            return 'проведение свадьбы'\n",
    "        elif 'образов' in row:\n",
    "            return 'получение образования'\n",
    "    except:\n",
    "        return 'нет категории'"
   ]
  },
  {
   "cell_type": "code",
   "execution_count": 21,
   "id": "15a10bf6",
   "metadata": {
    "deletable": false,
    "id": "bf36e69b"
   },
   "outputs": [],
   "source": [
    "data['purpose_category'] = data['purpose'].apply(categorize_purpose)"
   ]
  },
  {
   "cell_type": "markdown",
   "id": "648f6fc4",
   "metadata": {
    "deletable": false,
    "editable": false,
    "id": "09b242bf"
   },
   "source": [
    "### Шаг 3. Исследуйте данные и ответьте на вопросы"
   ]
  },
  {
   "cell_type": "markdown",
   "id": "65226351",
   "metadata": {
    "deletable": false,
    "editable": false,
    "id": "c5d66278"
   },
   "source": [
    "#### 3.1 Есть ли зависимость между количеством детей и возвратом кредита в срок?"
   ]
  },
  {
   "cell_type": "code",
   "execution_count": 22,
   "id": "42e86114",
   "metadata": {
    "deletable": false,
    "id": "2cacfc4a"
   },
   "outputs": [
    {
     "data": {
      "text/html": [
       "<div>\n",
       "<style scoped>\n",
       "    .dataframe tbody tr th:only-of-type {\n",
       "        vertical-align: middle;\n",
       "    }\n",
       "\n",
       "    .dataframe tbody tr th {\n",
       "        vertical-align: top;\n",
       "    }\n",
       "\n",
       "    .dataframe thead tr th {\n",
       "        text-align: left;\n",
       "    }\n",
       "\n",
       "    .dataframe thead tr:last-of-type th {\n",
       "        text-align: right;\n",
       "    }\n",
       "</style>\n",
       "<table border=\"1\" class=\"dataframe\">\n",
       "  <thead>\n",
       "    <tr>\n",
       "      <th></th>\n",
       "      <th colspan=\"3\" halign=\"left\">debt</th>\n",
       "    </tr>\n",
       "    <tr>\n",
       "      <th></th>\n",
       "      <th>count</th>\n",
       "      <th>sum</th>\n",
       "      <th>mean</th>\n",
       "    </tr>\n",
       "    <tr>\n",
       "      <th>children</th>\n",
       "      <th></th>\n",
       "      <th></th>\n",
       "      <th></th>\n",
       "    </tr>\n",
       "  </thead>\n",
       "  <tbody>\n",
       "    <tr>\n",
       "      <th>0</th>\n",
       "      <td>14091</td>\n",
       "      <td>1063</td>\n",
       "      <td>0.075438</td>\n",
       "    </tr>\n",
       "    <tr>\n",
       "      <th>1</th>\n",
       "      <td>4808</td>\n",
       "      <td>444</td>\n",
       "      <td>0.092346</td>\n",
       "    </tr>\n",
       "    <tr>\n",
       "      <th>2</th>\n",
       "      <td>2052</td>\n",
       "      <td>194</td>\n",
       "      <td>0.094542</td>\n",
       "    </tr>\n",
       "    <tr>\n",
       "      <th>3</th>\n",
       "      <td>330</td>\n",
       "      <td>27</td>\n",
       "      <td>0.081818</td>\n",
       "    </tr>\n",
       "    <tr>\n",
       "      <th>4</th>\n",
       "      <td>41</td>\n",
       "      <td>4</td>\n",
       "      <td>0.097561</td>\n",
       "    </tr>\n",
       "    <tr>\n",
       "      <th>5</th>\n",
       "      <td>9</td>\n",
       "      <td>0</td>\n",
       "      <td>0.000000</td>\n",
       "    </tr>\n",
       "  </tbody>\n",
       "</table>\n",
       "</div>"
      ],
      "text/plain": [
       "           debt                \n",
       "          count   sum      mean\n",
       "children                       \n",
       "0         14091  1063  0.075438\n",
       "1          4808   444  0.092346\n",
       "2          2052   194  0.094542\n",
       "3           330    27  0.081818\n",
       "4            41     4  0.097561\n",
       "5             9     0  0.000000"
      ]
     },
     "execution_count": 22,
     "metadata": {},
     "output_type": "execute_result"
    }
   ],
   "source": [
    "# Ваш код будет здесь. Вы можете создавать новые ячейки.\n",
    "data.groupby('children').agg({'debt':['count','sum','mean']})"
   ]
  },
  {
   "cell_type": "markdown",
   "id": "5f8409a4",
   "metadata": {
    "deletable": false,
    "id": "3a6b99ec"
   },
   "source": [
    "**Вывод:** "
   ]
  },
  {
   "cell_type": "markdown",
   "id": "71d082d0",
   "metadata": {},
   "source": [
    "Можно сказать, что наличие детей уменьшает вероятность возврата кредита в срок. Зависимость между количеством детей и возвратом кредита слабая. Выявлении зависимоти осложнено малым число займов с числом детей больше двух. "
   ]
  },
  {
   "cell_type": "markdown",
   "id": "d0f961ce",
   "metadata": {
    "deletable": false,
    "editable": false,
    "id": "97be82ca"
   },
   "source": [
    "#### 3.2 Есть ли зависимость между семейным положением и возвратом кредита в срок?"
   ]
  },
  {
   "cell_type": "code",
   "execution_count": 23,
   "id": "ae31965a",
   "metadata": {
    "deletable": false,
    "id": "dc3f7ee8"
   },
   "outputs": [
    {
     "data": {
      "text/html": [
       "<div>\n",
       "<style scoped>\n",
       "    .dataframe tbody tr th:only-of-type {\n",
       "        vertical-align: middle;\n",
       "    }\n",
       "\n",
       "    .dataframe tbody tr th {\n",
       "        vertical-align: top;\n",
       "    }\n",
       "\n",
       "    .dataframe thead tr th {\n",
       "        text-align: left;\n",
       "    }\n",
       "\n",
       "    .dataframe thead tr:last-of-type th {\n",
       "        text-align: right;\n",
       "    }\n",
       "</style>\n",
       "<table border=\"1\" class=\"dataframe\">\n",
       "  <thead>\n",
       "    <tr>\n",
       "      <th></th>\n",
       "      <th colspan=\"3\" halign=\"left\">debt</th>\n",
       "    </tr>\n",
       "    <tr>\n",
       "      <th></th>\n",
       "      <th>count</th>\n",
       "      <th>sum</th>\n",
       "      <th>mean</th>\n",
       "    </tr>\n",
       "    <tr>\n",
       "      <th>family_status</th>\n",
       "      <th></th>\n",
       "      <th></th>\n",
       "      <th></th>\n",
       "    </tr>\n",
       "  </thead>\n",
       "  <tbody>\n",
       "    <tr>\n",
       "      <th>Не женат / не замужем</th>\n",
       "      <td>2796</td>\n",
       "      <td>273</td>\n",
       "      <td>0.097639</td>\n",
       "    </tr>\n",
       "    <tr>\n",
       "      <th>в разводе</th>\n",
       "      <td>1189</td>\n",
       "      <td>84</td>\n",
       "      <td>0.070648</td>\n",
       "    </tr>\n",
       "    <tr>\n",
       "      <th>вдовец / вдова</th>\n",
       "      <td>951</td>\n",
       "      <td>63</td>\n",
       "      <td>0.066246</td>\n",
       "    </tr>\n",
       "    <tr>\n",
       "      <th>гражданский брак</th>\n",
       "      <td>4134</td>\n",
       "      <td>385</td>\n",
       "      <td>0.093130</td>\n",
       "    </tr>\n",
       "    <tr>\n",
       "      <th>женат / замужем</th>\n",
       "      <td>12261</td>\n",
       "      <td>927</td>\n",
       "      <td>0.075606</td>\n",
       "    </tr>\n",
       "  </tbody>\n",
       "</table>\n",
       "</div>"
      ],
      "text/plain": [
       "                        debt               \n",
       "                       count  sum      mean\n",
       "family_status                              \n",
       "Не женат / не замужем   2796  273  0.097639\n",
       "в разводе               1189   84  0.070648\n",
       "вдовец / вдова           951   63  0.066246\n",
       "гражданский брак        4134  385  0.093130\n",
       "женат / замужем        12261  927  0.075606"
      ]
     },
     "execution_count": 23,
     "metadata": {},
     "output_type": "execute_result"
    }
   ],
   "source": [
    "# Ваш код будет здесь. Вы можете создавать новые ячейки.\n",
    "#print(data.columns)\n",
    "data.groupby('family_status').agg({'debt':['count','sum','mean']})"
   ]
  },
  {
   "cell_type": "markdown",
   "id": "0aa728b4",
   "metadata": {
    "deletable": false,
    "id": "1cef7837"
   },
   "source": [
    "**Вывод:** "
   ]
  },
  {
   "cell_type": "markdown",
   "id": "9719854c",
   "metadata": {},
   "source": [
    "В таблице выше первый столбец отражает семейный статус, а последний долю просроченных платежей от числа займов. Зависимость между семейным положением и возвратом кредита в срок выражена хорошо. Можно отметить два категории лиц. Первая это те кто в не женаты либо имеют гражданский брак. Вторая это лица в разводе, вдовы/вдовцы и лица в браке. Вторая группа возращает в срок с большей вероятностью чем первая. "
   ]
  },
  {
   "cell_type": "markdown",
   "id": "ab41447f",
   "metadata": {
    "deletable": false,
    "editable": false,
    "id": "1e8b2fca"
   },
   "source": [
    "#### 3.3 Есть ли зависимость между уровнем дохода и возвратом кредита в срок?"
   ]
  },
  {
   "cell_type": "code",
   "execution_count": 24,
   "id": "69b0e34c",
   "metadata": {},
   "outputs": [
    {
     "data": {
      "text/html": [
       "<div>\n",
       "<style scoped>\n",
       "    .dataframe tbody tr th:only-of-type {\n",
       "        vertical-align: middle;\n",
       "    }\n",
       "\n",
       "    .dataframe tbody tr th {\n",
       "        vertical-align: top;\n",
       "    }\n",
       "\n",
       "    .dataframe thead tr th {\n",
       "        text-align: left;\n",
       "    }\n",
       "\n",
       "    .dataframe thead tr:last-of-type th {\n",
       "        text-align: right;\n",
       "    }\n",
       "</style>\n",
       "<table border=\"1\" class=\"dataframe\">\n",
       "  <thead>\n",
       "    <tr>\n",
       "      <th></th>\n",
       "      <th colspan=\"3\" halign=\"left\">debt</th>\n",
       "    </tr>\n",
       "    <tr>\n",
       "      <th></th>\n",
       "      <th>count</th>\n",
       "      <th>sum</th>\n",
       "      <th>mean</th>\n",
       "    </tr>\n",
       "    <tr>\n",
       "      <th>total_income_qcut4</th>\n",
       "      <th></th>\n",
       "      <th></th>\n",
       "      <th></th>\n",
       "    </tr>\n",
       "  </thead>\n",
       "  <tbody>\n",
       "    <tr>\n",
       "      <th>(20666.999, 107507.0]</th>\n",
       "      <td>5333</td>\n",
       "      <td>427</td>\n",
       "      <td>0.080068</td>\n",
       "    </tr>\n",
       "    <tr>\n",
       "      <th>(107507.0, 142594.0]</th>\n",
       "      <td>5450</td>\n",
       "      <td>480</td>\n",
       "      <td>0.088073</td>\n",
       "    </tr>\n",
       "    <tr>\n",
       "      <th>(142594.0, 195842.0]</th>\n",
       "      <td>5216</td>\n",
       "      <td>444</td>\n",
       "      <td>0.085123</td>\n",
       "    </tr>\n",
       "    <tr>\n",
       "      <th>(195842.0, 2265604.0]</th>\n",
       "      <td>5332</td>\n",
       "      <td>381</td>\n",
       "      <td>0.071455</td>\n",
       "    </tr>\n",
       "  </tbody>\n",
       "</table>\n",
       "</div>"
      ],
      "text/plain": [
       "                       debt               \n",
       "                      count  sum      mean\n",
       "total_income_qcut4                        \n",
       "(20666.999, 107507.0]  5333  427  0.080068\n",
       "(107507.0, 142594.0]   5450  480  0.088073\n",
       "(142594.0, 195842.0]   5216  444  0.085123\n",
       "(195842.0, 2265604.0]  5332  381  0.071455"
      ]
     },
     "execution_count": 24,
     "metadata": {},
     "output_type": "execute_result"
    }
   ],
   "source": [
    "# Ваш код будет здесь. Вы можете создавать новые ячейки.\n",
    "data['total_income_qcut4']=pd.qcut(data['total_income'], 4)\n",
    "data.groupby('total_income_qcut4').agg({'debt':['count','sum','mean']})"
   ]
  },
  {
   "cell_type": "code",
   "execution_count": 25,
   "id": "734aa69d",
   "metadata": {
    "deletable": false,
    "id": "cd7e3720"
   },
   "outputs": [
    {
     "data": {
      "text/html": [
       "<div>\n",
       "<style scoped>\n",
       "    .dataframe tbody tr th:only-of-type {\n",
       "        vertical-align: middle;\n",
       "    }\n",
       "\n",
       "    .dataframe tbody tr th {\n",
       "        vertical-align: top;\n",
       "    }\n",
       "\n",
       "    .dataframe thead tr th {\n",
       "        text-align: left;\n",
       "    }\n",
       "\n",
       "    .dataframe thead tr:last-of-type th {\n",
       "        text-align: right;\n",
       "    }\n",
       "</style>\n",
       "<table border=\"1\" class=\"dataframe\">\n",
       "  <thead>\n",
       "    <tr>\n",
       "      <th></th>\n",
       "      <th colspan=\"3\" halign=\"left\">debt</th>\n",
       "    </tr>\n",
       "    <tr>\n",
       "      <th></th>\n",
       "      <th>count</th>\n",
       "      <th>sum</th>\n",
       "      <th>mean</th>\n",
       "    </tr>\n",
       "    <tr>\n",
       "      <th>total_income_category</th>\n",
       "      <th></th>\n",
       "      <th></th>\n",
       "      <th></th>\n",
       "    </tr>\n",
       "  </thead>\n",
       "  <tbody>\n",
       "    <tr>\n",
       "      <th>A</th>\n",
       "      <td>25</td>\n",
       "      <td>2</td>\n",
       "      <td>0.080000</td>\n",
       "    </tr>\n",
       "    <tr>\n",
       "      <th>B</th>\n",
       "      <td>5014</td>\n",
       "      <td>354</td>\n",
       "      <td>0.070602</td>\n",
       "    </tr>\n",
       "    <tr>\n",
       "      <th>C</th>\n",
       "      <td>15921</td>\n",
       "      <td>1353</td>\n",
       "      <td>0.084982</td>\n",
       "    </tr>\n",
       "    <tr>\n",
       "      <th>D</th>\n",
       "      <td>349</td>\n",
       "      <td>21</td>\n",
       "      <td>0.060172</td>\n",
       "    </tr>\n",
       "    <tr>\n",
       "      <th>E</th>\n",
       "      <td>22</td>\n",
       "      <td>2</td>\n",
       "      <td>0.090909</td>\n",
       "    </tr>\n",
       "  </tbody>\n",
       "</table>\n",
       "</div>"
      ],
      "text/plain": [
       "                        debt                \n",
       "                       count   sum      mean\n",
       "total_income_category                       \n",
       "A                         25     2  0.080000\n",
       "B                       5014   354  0.070602\n",
       "C                      15921  1353  0.084982\n",
       "D                        349    21  0.060172\n",
       "E                         22     2  0.090909"
      ]
     },
     "execution_count": 25,
     "metadata": {},
     "output_type": "execute_result"
    }
   ],
   "source": [
    "# Ваш код будет здесь. Вы можете создавать новые ячейки.\n",
    "data.groupby('total_income_category').agg({'debt':['count','sum','mean']})"
   ]
  },
  {
   "cell_type": "markdown",
   "id": "79e28d7a",
   "metadata": {
    "deletable": false,
    "id": "e8593def"
   },
   "source": [
    "**Вывод:** "
   ]
  },
  {
   "cell_type": "markdown",
   "id": "bf2baf69",
   "metadata": {},
   "source": [
    "В таблице выше первый столбец отражает категорию дохода, а последний долю просроченных платежей от числа займов в данной категории.  Можно было сказать, что наименее и наиболее обеспеченные категории граждан более склонны  просрочкам ппо займам, но число таких данных не позволяет сделать достоверное заключение.  "
   ]
  },
  {
   "cell_type": "markdown",
   "id": "0d8e9034",
   "metadata": {
    "deletable": false,
    "editable": false,
    "id": "99ecbd1f"
   },
   "source": [
    "#### 3.4 Как разные цели кредита влияют на его возврат в срок?"
   ]
  },
  {
   "cell_type": "code",
   "execution_count": 26,
   "id": "f96a2751",
   "metadata": {
    "deletable": false,
    "id": "2b687290"
   },
   "outputs": [
    {
     "data": {
      "text/html": [
       "<div>\n",
       "<style scoped>\n",
       "    .dataframe tbody tr th:only-of-type {\n",
       "        vertical-align: middle;\n",
       "    }\n",
       "\n",
       "    .dataframe tbody tr th {\n",
       "        vertical-align: top;\n",
       "    }\n",
       "\n",
       "    .dataframe thead tr th {\n",
       "        text-align: left;\n",
       "    }\n",
       "\n",
       "    .dataframe thead tr:last-of-type th {\n",
       "        text-align: right;\n",
       "    }\n",
       "</style>\n",
       "<table border=\"1\" class=\"dataframe\">\n",
       "  <thead>\n",
       "    <tr>\n",
       "      <th></th>\n",
       "      <th colspan=\"3\" halign=\"left\">debt</th>\n",
       "    </tr>\n",
       "    <tr>\n",
       "      <th></th>\n",
       "      <th>count</th>\n",
       "      <th>sum</th>\n",
       "      <th>mean</th>\n",
       "    </tr>\n",
       "    <tr>\n",
       "      <th>purpose_category</th>\n",
       "      <th></th>\n",
       "      <th></th>\n",
       "      <th></th>\n",
       "    </tr>\n",
       "  </thead>\n",
       "  <tbody>\n",
       "    <tr>\n",
       "      <th>операции с автомобилем</th>\n",
       "      <td>4279</td>\n",
       "      <td>400</td>\n",
       "      <td>0.093480</td>\n",
       "    </tr>\n",
       "    <tr>\n",
       "      <th>операции с недвижимостью</th>\n",
       "      <td>10751</td>\n",
       "      <td>780</td>\n",
       "      <td>0.072551</td>\n",
       "    </tr>\n",
       "    <tr>\n",
       "      <th>получение образования</th>\n",
       "      <td>3988</td>\n",
       "      <td>369</td>\n",
       "      <td>0.092528</td>\n",
       "    </tr>\n",
       "    <tr>\n",
       "      <th>проведение свадьбы</th>\n",
       "      <td>2313</td>\n",
       "      <td>183</td>\n",
       "      <td>0.079118</td>\n",
       "    </tr>\n",
       "  </tbody>\n",
       "</table>\n",
       "</div>"
      ],
      "text/plain": [
       "                           debt               \n",
       "                          count  sum      mean\n",
       "purpose_category                              \n",
       "операции с автомобилем     4279  400  0.093480\n",
       "операции с недвижимостью  10751  780  0.072551\n",
       "получение образования      3988  369  0.092528\n",
       "проведение свадьбы         2313  183  0.079118"
      ]
     },
     "execution_count": 26,
     "metadata": {},
     "output_type": "execute_result"
    }
   ],
   "source": [
    "# Ваш код будет здесь. Вы можете создавать новые ячейки.\n",
    "data.groupby('purpose_category').agg({'debt':['count','sum','mean']})"
   ]
  },
  {
   "cell_type": "markdown",
   "id": "a42dd56a",
   "metadata": {
    "deletable": false,
    "id": "b4bb2ce6"
   },
   "source": [
    "**Вывод:** "
   ]
  },
  {
   "cell_type": "markdown",
   "id": "e58930e6",
   "metadata": {},
   "source": [
    "В таблице выше первый столбец отражает цель займа, а последний долю просроченных платежей от числа займов с данной целью. \n",
    "Можно отметить что займы для операций с недвижимостью и проведения свадьбы позращаются чаще чем займы для получения образования или покупки автомобиля. "
   ]
  },
  {
   "cell_type": "markdown",
   "id": "0c447729",
   "metadata": {
    "deletable": false,
    "editable": false,
    "id": "09c3ac4c"
   },
   "source": [
    "#### 3.5 Приведите возможные причины появления пропусков в исходных данных."
   ]
  },
  {
   "cell_type": "code",
   "execution_count": 27,
   "id": "2e13752f",
   "metadata": {},
   "outputs": [
    {
     "data": {
      "text/html": [
       "<div>\n",
       "<style scoped>\n",
       "    .dataframe tbody tr th:only-of-type {\n",
       "        vertical-align: middle;\n",
       "    }\n",
       "\n",
       "    .dataframe tbody tr th {\n",
       "        vertical-align: top;\n",
       "    }\n",
       "\n",
       "    .dataframe thead th {\n",
       "        text-align: right;\n",
       "    }\n",
       "</style>\n",
       "<table border=\"1\" class=\"dataframe\">\n",
       "  <thead>\n",
       "    <tr style=\"text-align: right;\">\n",
       "      <th></th>\n",
       "      <th>children</th>\n",
       "      <th>days_employed</th>\n",
       "      <th>dob_years</th>\n",
       "      <th>education</th>\n",
       "      <th>education_id</th>\n",
       "      <th>family_status</th>\n",
       "      <th>family_status_id</th>\n",
       "      <th>gender</th>\n",
       "      <th>income_type</th>\n",
       "      <th>debt</th>\n",
       "      <th>total_income</th>\n",
       "      <th>purpose</th>\n",
       "    </tr>\n",
       "  </thead>\n",
       "  <tbody>\n",
       "    <tr>\n",
       "      <th>12</th>\n",
       "      <td>0</td>\n",
       "      <td>NaN</td>\n",
       "      <td>65</td>\n",
       "      <td>среднее</td>\n",
       "      <td>1</td>\n",
       "      <td>гражданский брак</td>\n",
       "      <td>1</td>\n",
       "      <td>M</td>\n",
       "      <td>пенсионер</td>\n",
       "      <td>0</td>\n",
       "      <td>NaN</td>\n",
       "      <td>сыграть свадьбу</td>\n",
       "    </tr>\n",
       "    <tr>\n",
       "      <th>26</th>\n",
       "      <td>0</td>\n",
       "      <td>NaN</td>\n",
       "      <td>41</td>\n",
       "      <td>среднее</td>\n",
       "      <td>1</td>\n",
       "      <td>женат / замужем</td>\n",
       "      <td>0</td>\n",
       "      <td>M</td>\n",
       "      <td>госслужащий</td>\n",
       "      <td>0</td>\n",
       "      <td>NaN</td>\n",
       "      <td>образование</td>\n",
       "    </tr>\n",
       "    <tr>\n",
       "      <th>29</th>\n",
       "      <td>0</td>\n",
       "      <td>NaN</td>\n",
       "      <td>63</td>\n",
       "      <td>среднее</td>\n",
       "      <td>1</td>\n",
       "      <td>Не женат / не замужем</td>\n",
       "      <td>4</td>\n",
       "      <td>F</td>\n",
       "      <td>пенсионер</td>\n",
       "      <td>0</td>\n",
       "      <td>NaN</td>\n",
       "      <td>строительство жилой недвижимости</td>\n",
       "    </tr>\n",
       "    <tr>\n",
       "      <th>41</th>\n",
       "      <td>0</td>\n",
       "      <td>NaN</td>\n",
       "      <td>50</td>\n",
       "      <td>среднее</td>\n",
       "      <td>1</td>\n",
       "      <td>женат / замужем</td>\n",
       "      <td>0</td>\n",
       "      <td>F</td>\n",
       "      <td>госслужащий</td>\n",
       "      <td>0</td>\n",
       "      <td>NaN</td>\n",
       "      <td>сделка с подержанным автомобилем</td>\n",
       "    </tr>\n",
       "    <tr>\n",
       "      <th>55</th>\n",
       "      <td>0</td>\n",
       "      <td>NaN</td>\n",
       "      <td>54</td>\n",
       "      <td>среднее</td>\n",
       "      <td>1</td>\n",
       "      <td>гражданский брак</td>\n",
       "      <td>1</td>\n",
       "      <td>F</td>\n",
       "      <td>пенсионер</td>\n",
       "      <td>1</td>\n",
       "      <td>NaN</td>\n",
       "      <td>сыграть свадьбу</td>\n",
       "    </tr>\n",
       "    <tr>\n",
       "      <th>...</th>\n",
       "      <td>...</td>\n",
       "      <td>...</td>\n",
       "      <td>...</td>\n",
       "      <td>...</td>\n",
       "      <td>...</td>\n",
       "      <td>...</td>\n",
       "      <td>...</td>\n",
       "      <td>...</td>\n",
       "      <td>...</td>\n",
       "      <td>...</td>\n",
       "      <td>...</td>\n",
       "      <td>...</td>\n",
       "    </tr>\n",
       "    <tr>\n",
       "      <th>959</th>\n",
       "      <td>0</td>\n",
       "      <td>NaN</td>\n",
       "      <td>25</td>\n",
       "      <td>среднее</td>\n",
       "      <td>1</td>\n",
       "      <td>гражданский брак</td>\n",
       "      <td>1</td>\n",
       "      <td>M</td>\n",
       "      <td>сотрудник</td>\n",
       "      <td>0</td>\n",
       "      <td>NaN</td>\n",
       "      <td>образование</td>\n",
       "    </tr>\n",
       "    <tr>\n",
       "      <th>973</th>\n",
       "      <td>0</td>\n",
       "      <td>NaN</td>\n",
       "      <td>49</td>\n",
       "      <td>среднее</td>\n",
       "      <td>1</td>\n",
       "      <td>женат / замужем</td>\n",
       "      <td>0</td>\n",
       "      <td>F</td>\n",
       "      <td>сотрудник</td>\n",
       "      <td>0</td>\n",
       "      <td>NaN</td>\n",
       "      <td>операции с жильем</td>\n",
       "    </tr>\n",
       "    <tr>\n",
       "      <th>974</th>\n",
       "      <td>0</td>\n",
       "      <td>NaN</td>\n",
       "      <td>60</td>\n",
       "      <td>среднее</td>\n",
       "      <td>1</td>\n",
       "      <td>женат / замужем</td>\n",
       "      <td>0</td>\n",
       "      <td>M</td>\n",
       "      <td>сотрудник</td>\n",
       "      <td>0</td>\n",
       "      <td>NaN</td>\n",
       "      <td>высшее образование</td>\n",
       "    </tr>\n",
       "    <tr>\n",
       "      <th>978</th>\n",
       "      <td>3</td>\n",
       "      <td>NaN</td>\n",
       "      <td>28</td>\n",
       "      <td>среднее</td>\n",
       "      <td>1</td>\n",
       "      <td>гражданский брак</td>\n",
       "      <td>1</td>\n",
       "      <td>F</td>\n",
       "      <td>сотрудник</td>\n",
       "      <td>0</td>\n",
       "      <td>NaN</td>\n",
       "      <td>ремонт жилью</td>\n",
       "    </tr>\n",
       "    <tr>\n",
       "      <th>980</th>\n",
       "      <td>0</td>\n",
       "      <td>NaN</td>\n",
       "      <td>53</td>\n",
       "      <td>высшее</td>\n",
       "      <td>0</td>\n",
       "      <td>женат / замужем</td>\n",
       "      <td>0</td>\n",
       "      <td>F</td>\n",
       "      <td>сотрудник</td>\n",
       "      <td>0</td>\n",
       "      <td>NaN</td>\n",
       "      <td>получение образования</td>\n",
       "    </tr>\n",
       "  </tbody>\n",
       "</table>\n",
       "<p>100 rows × 12 columns</p>\n",
       "</div>"
      ],
      "text/plain": [
       "     children  days_employed  dob_years education  education_id  \\\n",
       "12          0            NaN         65   среднее             1   \n",
       "26          0            NaN         41   среднее             1   \n",
       "29          0            NaN         63   среднее             1   \n",
       "41          0            NaN         50   среднее             1   \n",
       "55          0            NaN         54   среднее             1   \n",
       "..        ...            ...        ...       ...           ...   \n",
       "959         0            NaN         25   среднее             1   \n",
       "973         0            NaN         49   среднее             1   \n",
       "974         0            NaN         60   среднее             1   \n",
       "978         3            NaN         28   среднее             1   \n",
       "980         0            NaN         53    высшее             0   \n",
       "\n",
       "             family_status  family_status_id gender  income_type  debt  \\\n",
       "12        гражданский брак                 1      M    пенсионер     0   \n",
       "26         женат / замужем                 0      M  госслужащий     0   \n",
       "29   Не женат / не замужем                 4      F    пенсионер     0   \n",
       "41         женат / замужем                 0      F  госслужащий     0   \n",
       "55        гражданский брак                 1      F    пенсионер     1   \n",
       "..                     ...               ...    ...          ...   ...   \n",
       "959       гражданский брак                 1      M    сотрудник     0   \n",
       "973        женат / замужем                 0      F    сотрудник     0   \n",
       "974        женат / замужем                 0      M    сотрудник     0   \n",
       "978       гражданский брак                 1      F    сотрудник     0   \n",
       "980        женат / замужем                 0      F    сотрудник     0   \n",
       "\n",
       "     total_income                           purpose  \n",
       "12            NaN                   сыграть свадьбу  \n",
       "26            NaN                       образование  \n",
       "29            NaN  строительство жилой недвижимости  \n",
       "41            NaN  сделка с подержанным автомобилем  \n",
       "55            NaN                   сыграть свадьбу  \n",
       "..            ...                               ...  \n",
       "959           NaN                       образование  \n",
       "973           NaN                 операции с жильем  \n",
       "974           NaN                высшее образование  \n",
       "978           NaN                      ремонт жилью  \n",
       "980           NaN             получение образования  \n",
       "\n",
       "[100 rows x 12 columns]"
      ]
     },
     "execution_count": 27,
     "metadata": {},
     "output_type": "execute_result"
    }
   ],
   "source": [
    "data_org = pd.read_csv('/datasets/data.csv')\n",
    "#data_org.info() \n",
    "data_org.loc[data_org['days_employed'].isna()].head(100)"
   ]
  },
  {
   "cell_type": "markdown",
   "id": "9d35c8cf",
   "metadata": {
    "deletable": false,
    "id": "9da2ceda"
   },
   "source": [
    "*Ответ:* \n",
    "\n",
    "Пропуски в столбце days_employed и total_income могли появится как случайность либо когда заемщик не знал что указать например если он пенсионер или компаньен, либо не хотел указывать нулевые значения. "
   ]
  },
  {
   "cell_type": "markdown",
   "id": "2cfa6956",
   "metadata": {
    "deletable": false,
    "editable": false,
    "id": "7b0487d6"
   },
   "source": [
    "#### 3.6 Объясните, почему заполнить пропуски медианным значением — лучшее решение для количественных переменных."
   ]
  },
  {
   "cell_type": "markdown",
   "id": "0402ee92",
   "metadata": {
    "deletable": false,
    "id": "7ecf2b8e"
   },
   "source": [
    "*Ответ:* \n",
    "\n",
    "Заполнение медианными значениями не влияет на медианное значение столбца, но при этом сохраняет другие данные которые могут оказать важными. \n"
   ]
  },
  {
   "cell_type": "markdown",
   "id": "9291c509",
   "metadata": {},
   "source": [
    "<div style=\"background-color:black; color:#ffffff; text-align:center; padding:2%\">\n",
    "    \n",
    "**Александр:** Медиана отличается от среднего математическим определением и совпадает только в случае симметричного распределения. В контексте замены для количественных переменных заполнение пропущенных значений медианным значением является предпочтичельным по следующим причинам \n",
    "\n",
    "1. медиана устойчива к выбросам. среднее значение может быть сильно искажено выбросами, \n",
    " тогда как медиана менее чувствительна к выбросам и таким более репрезентативна для центральной части данных.\n",
    "\n",
    "2. Заполнение пропусков медианным значением не искажает распределение данных. \n",
    "  Если бы мы заполнили пропуски средним значением, это могло бы привести к смещению распределения и повлиять на результаты анализа.\n",
    "\n",
    "3. Заполнение медианными значениеми вычислительно более эффективно чем замена на среднии.\n"
   ]
  },
  {
   "cell_type": "markdown",
   "id": "c4afacde",
   "metadata": {
    "deletable": false,
    "editable": false,
    "id": "6db5255a"
   },
   "source": [
    "### Шаг 4: общий вывод."
   ]
  },
  {
   "cell_type": "markdown",
   "id": "eccc50da",
   "metadata": {
    "deletable": false,
    "id": "bad65432"
   },
   "source": [
    "**Вывод** \n",
    "\n",
    "Проведен анализ базы данны по заемщикам на предмет зависимости целевого значения (задержки/возрата по займу) от:\n",
    "* количества дней трудоустройства, \n",
    "* кол-ва детей в семье\n",
    "* семейного статуса \n",
    "* дохода заемщика \n",
    "* цели займа\n",
    "\n",
    "Выявлены следущее недостатки в исходных данных\n",
    "\n",
    "* пропуски в доходе и кол-ва дней трудоустройства\n",
    "* одна и таже цель займа встречается в разных вариантах\n",
    "* образование встречается в разных регистрах\n",
    "* число дней трудоустройства -- встречаются отрицательные значения\n",
    "* отрицательные значения и черезмерно высокие кол-во детей\n",
    "\n",
    "    \n",
    "При анализе исходной таблице были выялены пропуски в столбце total_income пропуски \n",
    "Полученые значения доли задержек покредиту в зависимости от кол-ва детей представлены на следующей таблице \n",
    "\n",
    "|  кол-во детей |   кол-во задержек в % |\n",
    "|:-----------:|:------|\n",
    "|          0 |   7.5% |\n",
    "|          1 |   9.2% |\n",
    "|          2 |   9.4% |\n",
    "|          3 |   8.2% |\n",
    "|          4 |   9.8% |\n",
    "|          5 |    0%  |\n",
    "\n",
    "Можно сказать, что наличие детей уменьшает вероятность возврата кредита в срок. Зависимость между количеством детей и возвратом кредита слабая. Выявлении зависимоти осложнено малым число займов с числом детей больше двух."
   ]
  },
  {
   "cell_type": "markdown",
   "id": "df3e0e1d",
   "metadata": {},
   "source": [
    "Полученые значения доли задержек покредиту в семейного статуса представлены на следующей таблице \n",
    "\n",
    "| семейный статус   |   кол-во задержек в %  |\n",
    "|:----------------------|--------------:|\n",
    "| Не женат / не замужем |          9.8% |\n",
    "| в разводе             |          7.1% |\n",
    "| вдовец / вдова        |          6.6% |\n",
    "| гражданский брак      |          9.3% |\n",
    "| женат / замужем       |          7.6% |\n",
    "\n",
    "Зависимость между семейным положением и возвратом кредита в срок выражена хорошо. Можно отметить два категории лиц. Первая это те кто в не женаты либо имеют гражданский брак. Вторая это лица в разводе, вдовы/вдовцы и лица в браке. Вторая группа возращает в срок с большей вероятностью чем первая.\n",
    "\n",
    "\n",
    "Проезведен расчет долей задержек по кредиту в зависимости от дохода заемщика. Результаты преведены на следующей таблице \n",
    "\n",
    "| интервал дохода   |   кол-во задержек в % |\n",
    "|:----------------------|-------------------:|\n",
    "| (20666.999, 107507.0] |     8.0% |\n",
    "| (107507.0, 142594.0]  |     8.8% |\n",
    "| (142594.0, 195842.0]  |     8.5% |\n",
    "| (195842.0, 2265604.0] |     7.1% |\n",
    "\n",
    "Из таблицы видно, что наименее и наиболее обеспеченные категории граждан более склонны просрочкам ппо займам.\n",
    "\n",
    "| цель заема     | кол-во задержек в % |\n",
    "|:-------------------------|-------------------:|\n",
    "| операции с автомобилем   |          9.3% |\n",
    "| получение образования    |          9.3% |\n",
    "| операции с недвижимостью |          7.3% |\n",
    "| проведение свадьбы       |          7.9% |\n",
    "\n",
    "\n",
    "Разделяя заемщиком на категории по доходу, семейному положению, и кол-ву детей в семье можно получить оценку на вероятность возвата займа в срок. \n",
    "\n",
    "Наибольшую долю возвата наблюдается для\n",
    "\n",
    "* операций с недвижимостью либо для свадьбы\n",
    "* при среднем уровне дохода\n",
    "* лиц в разводе, вдовы/вдовцы или в браке\n",
    "* лиц без детей\n",
    "\n",
    "Наименьшая доля возвата наблюдается для\n",
    "\n",
    "* цели займа для операций с автомобилем либо для получения образования \n",
    "* при низком и высоком заработке заемщика \n",
    "* лиц которые не женаты либо в гражданском браке\n",
    "* лиц с детьми\n",
    "\n",
    "\n",
    "Важно отметить, что статистическая значимость вариаций доли задержек не изучалась в проведенном исследовании. "
   ]
  }
 ],
 "metadata": {
  "ExecuteTimeLog": [
   {
    "duration": 451,
    "start_time": "2023-03-22T13:10:14.603Z"
   },
   {
    "duration": 21,
    "start_time": "2023-03-22T13:10:15.620Z"
   },
   {
    "duration": 16,
    "start_time": "2023-03-22T13:10:17.720Z"
   },
   {
    "duration": 13,
    "start_time": "2023-03-22T13:10:20.711Z"
   },
   {
    "duration": 36,
    "start_time": "2023-03-22T13:10:21.910Z"
   },
   {
    "duration": 36,
    "start_time": "2023-03-22T13:10:37.391Z"
   },
   {
    "duration": 3,
    "start_time": "2023-03-22T13:10:38.991Z"
   },
   {
    "duration": 7,
    "start_time": "2023-03-22T13:10:43.978Z"
   },
   {
    "duration": 4,
    "start_time": "2023-03-22T13:10:54.842Z"
   },
   {
    "duration": 6,
    "start_time": "2023-03-22T13:10:56.460Z"
   },
   {
    "duration": 4,
    "start_time": "2023-03-22T13:11:02.011Z"
   },
   {
    "duration": 33,
    "start_time": "2023-03-22T13:11:06.073Z"
   },
   {
    "duration": 12,
    "start_time": "2023-03-22T13:11:11.948Z"
   },
   {
    "duration": 4,
    "start_time": "2023-03-22T13:11:13.661Z"
   },
   {
    "duration": 14,
    "start_time": "2023-03-22T13:11:15.409Z"
   },
   {
    "duration": 22,
    "start_time": "2023-03-22T13:11:17.403Z"
   },
   {
    "duration": 17,
    "start_time": "2023-03-22T13:11:18.117Z"
   },
   {
    "duration": 4,
    "start_time": "2023-03-22T13:11:20.014Z"
   },
   {
    "duration": 4,
    "start_time": "2023-03-22T13:11:24.441Z"
   },
   {
    "duration": 12,
    "start_time": "2023-03-22T13:11:25.209Z"
   },
   {
    "duration": 6,
    "start_time": "2023-03-22T13:11:26.969Z"
   },
   {
    "duration": 4,
    "start_time": "2023-03-22T13:11:30.008Z"
   },
   {
    "duration": 8,
    "start_time": "2023-03-22T13:11:31.235Z"
   },
   {
    "duration": 12,
    "start_time": "2023-03-22T13:11:56.156Z"
   },
   {
    "duration": 4,
    "start_time": "2023-03-22T13:12:21.484Z"
   },
   {
    "duration": 5,
    "start_time": "2023-03-22T13:12:39.727Z"
   },
   {
    "duration": 67,
    "start_time": "2023-03-22T13:13:14.894Z"
   },
   {
    "duration": 5,
    "start_time": "2023-03-22T13:13:24.996Z"
   },
   {
    "duration": 87,
    "start_time": "2023-03-22T13:14:32.922Z"
   },
   {
    "duration": 14,
    "start_time": "2023-03-22T13:14:37.751Z"
   },
   {
    "duration": 13,
    "start_time": "2023-03-22T13:14:48.665Z"
   },
   {
    "duration": 13,
    "start_time": "2023-03-22T13:15:20.806Z"
   },
   {
    "duration": 17,
    "start_time": "2023-03-22T13:20:28.418Z"
   },
   {
    "duration": 13,
    "start_time": "2023-03-22T13:22:39.323Z"
   },
   {
    "duration": 14,
    "start_time": "2023-03-22T13:22:44.797Z"
   },
   {
    "duration": 14,
    "start_time": "2023-03-22T13:22:57.758Z"
   },
   {
    "duration": 16,
    "start_time": "2023-03-22T13:54:55.723Z"
   },
   {
    "duration": 13,
    "start_time": "2023-03-22T13:55:03.025Z"
   },
   {
    "duration": 578,
    "start_time": "2023-03-22T19:27:42.144Z"
   },
   {
    "duration": 23,
    "start_time": "2023-03-22T19:27:42.724Z"
   },
   {
    "duration": 17,
    "start_time": "2023-03-22T19:27:42.750Z"
   },
   {
    "duration": 10,
    "start_time": "2023-03-22T19:27:42.769Z"
   },
   {
    "duration": 32,
    "start_time": "2023-03-22T19:27:42.782Z"
   },
   {
    "duration": 3,
    "start_time": "2023-03-22T19:27:42.841Z"
   },
   {
    "duration": 9,
    "start_time": "2023-03-22T19:27:42.846Z"
   },
   {
    "duration": 4,
    "start_time": "2023-03-22T19:27:42.857Z"
   },
   {
    "duration": 9,
    "start_time": "2023-03-22T19:27:42.862Z"
   },
   {
    "duration": 5,
    "start_time": "2023-03-22T19:27:42.872Z"
   },
   {
    "duration": 63,
    "start_time": "2023-03-22T19:27:42.878Z"
   },
   {
    "duration": 10,
    "start_time": "2023-03-22T19:27:42.943Z"
   },
   {
    "duration": 4,
    "start_time": "2023-03-22T19:27:42.955Z"
   },
   {
    "duration": 12,
    "start_time": "2023-03-22T19:27:42.962Z"
   },
   {
    "duration": 21,
    "start_time": "2023-03-22T19:27:42.976Z"
   },
   {
    "duration": 44,
    "start_time": "2023-03-22T19:27:42.999Z"
   },
   {
    "duration": 4,
    "start_time": "2023-03-22T19:27:43.044Z"
   },
   {
    "duration": 11,
    "start_time": "2023-03-22T19:27:43.049Z"
   },
   {
    "duration": 8,
    "start_time": "2023-03-22T19:27:43.062Z"
   },
   {
    "duration": 4,
    "start_time": "2023-03-22T19:27:43.071Z"
   },
   {
    "duration": 13,
    "start_time": "2023-03-22T19:27:43.076Z"
   },
   {
    "duration": 14,
    "start_time": "2023-03-22T19:27:43.091Z"
   },
   {
    "duration": 14,
    "start_time": "2023-03-22T19:27:46.754Z"
   },
   {
    "duration": 20,
    "start_time": "2023-03-22T19:29:27.730Z"
   },
   {
    "duration": 16,
    "start_time": "2023-03-22T19:30:11.351Z"
   },
   {
    "duration": 14,
    "start_time": "2023-03-22T19:37:02.298Z"
   },
   {
    "duration": 95,
    "start_time": "2023-03-22T19:39:56.190Z"
   },
   {
    "duration": 86,
    "start_time": "2023-03-22T19:41:36.199Z"
   },
   {
    "duration": 100,
    "start_time": "2023-03-22T19:41:44.132Z"
   },
   {
    "duration": 111,
    "start_time": "2023-03-22T19:41:58.938Z"
   },
   {
    "duration": 164,
    "start_time": "2023-03-22T19:42:12.933Z"
   },
   {
    "duration": 92,
    "start_time": "2023-03-22T19:42:24.890Z"
   },
   {
    "duration": 100,
    "start_time": "2023-03-22T19:43:02.575Z"
   },
   {
    "duration": 87,
    "start_time": "2023-03-22T19:43:08.298Z"
   },
   {
    "duration": 107,
    "start_time": "2023-03-22T19:43:23.829Z"
   },
   {
    "duration": 102,
    "start_time": "2023-03-22T19:44:13.873Z"
   },
   {
    "duration": 450,
    "start_time": "2023-03-25T17:24:18.881Z"
   },
   {
    "duration": 19,
    "start_time": "2023-03-25T17:24:19.333Z"
   },
   {
    "duration": 11,
    "start_time": "2023-03-25T17:24:19.354Z"
   },
   {
    "duration": 7,
    "start_time": "2023-03-25T17:24:19.367Z"
   },
   {
    "duration": 30,
    "start_time": "2023-03-25T17:24:19.375Z"
   },
   {
    "duration": 3,
    "start_time": "2023-03-25T17:24:19.406Z"
   },
   {
    "duration": 9,
    "start_time": "2023-03-25T17:24:19.410Z"
   },
   {
    "duration": 3,
    "start_time": "2023-03-25T17:24:19.420Z"
   },
   {
    "duration": 11,
    "start_time": "2023-03-25T17:24:19.425Z"
   },
   {
    "duration": 5,
    "start_time": "2023-03-25T17:24:19.437Z"
   },
   {
    "duration": 47,
    "start_time": "2023-03-25T17:24:19.444Z"
   },
   {
    "duration": 7,
    "start_time": "2023-03-25T17:24:19.492Z"
   },
   {
    "duration": 3,
    "start_time": "2023-03-25T17:24:19.500Z"
   },
   {
    "duration": 11,
    "start_time": "2023-03-25T17:24:19.505Z"
   },
   {
    "duration": 21,
    "start_time": "2023-03-25T17:24:19.517Z"
   },
   {
    "duration": 14,
    "start_time": "2023-03-25T17:24:19.539Z"
   },
   {
    "duration": 20,
    "start_time": "2023-03-25T17:24:19.554Z"
   },
   {
    "duration": 8,
    "start_time": "2023-03-25T17:24:19.575Z"
   },
   {
    "duration": 9,
    "start_time": "2023-03-25T17:24:19.584Z"
   },
   {
    "duration": 4,
    "start_time": "2023-03-25T17:24:19.594Z"
   },
   {
    "duration": 9,
    "start_time": "2023-03-25T17:24:19.599Z"
   },
   {
    "duration": 14,
    "start_time": "2023-03-25T17:24:19.609Z"
   },
   {
    "duration": 11,
    "start_time": "2023-03-25T17:24:19.625Z"
   },
   {
    "duration": 9,
    "start_time": "2023-03-25T17:24:19.638Z"
   },
   {
    "duration": 11,
    "start_time": "2023-03-25T17:24:19.671Z"
   },
   {
    "duration": 57,
    "start_time": "2023-03-25T17:24:19.684Z"
   },
   {
    "duration": 306,
    "start_time": "2023-03-27T09:32:47.704Z"
   },
   {
    "duration": 70,
    "start_time": "2023-03-27T09:34:14.250Z"
   },
   {
    "duration": 49,
    "start_time": "2023-03-27T09:51:47.524Z"
   },
   {
    "duration": 733,
    "start_time": "2023-03-27T09:51:52.685Z"
   },
   {
    "duration": 24,
    "start_time": "2023-03-27T09:51:53.420Z"
   },
   {
    "duration": 22,
    "start_time": "2023-03-27T09:51:53.446Z"
   },
   {
    "duration": 13,
    "start_time": "2023-03-27T09:51:53.470Z"
   },
   {
    "duration": 42,
    "start_time": "2023-03-27T09:51:53.484Z"
   },
   {
    "duration": 4,
    "start_time": "2023-03-27T09:51:53.528Z"
   },
   {
    "duration": 14,
    "start_time": "2023-03-27T09:51:53.533Z"
   },
   {
    "duration": 13,
    "start_time": "2023-03-27T09:51:53.549Z"
   },
   {
    "duration": 11,
    "start_time": "2023-03-27T09:51:53.564Z"
   },
   {
    "duration": 12,
    "start_time": "2023-03-27T09:51:53.578Z"
   },
   {
    "duration": 41,
    "start_time": "2023-03-27T09:51:53.592Z"
   },
   {
    "duration": 10,
    "start_time": "2023-03-27T09:51:53.635Z"
   },
   {
    "duration": 26,
    "start_time": "2023-03-27T09:51:53.646Z"
   },
   {
    "duration": 17,
    "start_time": "2023-03-27T09:51:53.674Z"
   },
   {
    "duration": 41,
    "start_time": "2023-03-27T09:51:53.693Z"
   },
   {
    "duration": 19,
    "start_time": "2023-03-27T09:51:53.736Z"
   },
   {
    "duration": 4,
    "start_time": "2023-03-27T09:51:53.757Z"
   },
   {
    "duration": 40,
    "start_time": "2023-03-27T09:51:53.762Z"
   },
   {
    "duration": 6,
    "start_time": "2023-03-27T09:51:53.803Z"
   },
   {
    "duration": 8,
    "start_time": "2023-03-27T09:51:53.811Z"
   },
   {
    "duration": 15,
    "start_time": "2023-03-27T09:51:53.821Z"
   },
   {
    "duration": 16,
    "start_time": "2023-03-27T09:51:53.837Z"
   },
   {
    "duration": 15,
    "start_time": "2023-03-27T09:51:53.855Z"
   },
   {
    "duration": 34,
    "start_time": "2023-03-27T09:51:57.414Z"
   },
   {
    "duration": 7,
    "start_time": "2023-03-27T09:52:02.815Z"
   },
   {
    "duration": 27,
    "start_time": "2023-03-27T09:52:12.515Z"
   },
   {
    "duration": 20,
    "start_time": "2023-03-27T09:52:20.527Z"
   },
   {
    "duration": 12,
    "start_time": "2023-03-27T09:52:37.402Z"
   },
   {
    "duration": 20,
    "start_time": "2023-03-27T09:53:49.109Z"
   },
   {
    "duration": 19,
    "start_time": "2023-03-27T09:57:51.263Z"
   },
   {
    "duration": 15,
    "start_time": "2023-03-27T09:57:59.599Z"
   },
   {
    "duration": 15,
    "start_time": "2023-03-27T09:58:05.727Z"
   },
   {
    "duration": 13,
    "start_time": "2023-03-27T09:58:19.719Z"
   },
   {
    "duration": 12,
    "start_time": "2023-03-27T09:58:52.651Z"
   },
   {
    "duration": 12,
    "start_time": "2023-03-27T09:58:59.011Z"
   },
   {
    "duration": 64,
    "start_time": "2023-03-27T10:09:21.637Z"
   },
   {
    "duration": 25,
    "start_time": "2023-03-27T10:15:00.971Z"
   },
   {
    "duration": 118,
    "start_time": "2023-03-27T10:15:15.129Z"
   },
   {
    "duration": 249,
    "start_time": "2023-03-27T10:17:33.305Z"
   },
   {
    "duration": 68,
    "start_time": "2023-03-27T10:22:45.499Z"
   },
   {
    "duration": 12,
    "start_time": "2023-03-27T11:43:38.145Z"
   },
   {
    "duration": 469,
    "start_time": "2023-03-27T19:12:09.797Z"
   },
   {
    "duration": 22,
    "start_time": "2023-03-27T19:12:10.268Z"
   },
   {
    "duration": 21,
    "start_time": "2023-03-27T19:12:10.292Z"
   },
   {
    "duration": 9,
    "start_time": "2023-03-27T19:12:10.317Z"
   },
   {
    "duration": 59,
    "start_time": "2023-03-27T19:12:10.328Z"
   },
   {
    "duration": 3,
    "start_time": "2023-03-27T19:12:10.389Z"
   },
   {
    "duration": 42,
    "start_time": "2023-03-27T19:12:10.393Z"
   },
   {
    "duration": 3,
    "start_time": "2023-03-27T19:12:10.437Z"
   },
   {
    "duration": 13,
    "start_time": "2023-03-27T19:12:10.442Z"
   },
   {
    "duration": 3,
    "start_time": "2023-03-27T19:12:10.456Z"
   },
   {
    "duration": 36,
    "start_time": "2023-03-27T19:12:10.461Z"
   },
   {
    "duration": 18,
    "start_time": "2023-03-27T19:12:10.498Z"
   },
   {
    "duration": 19,
    "start_time": "2023-03-27T19:12:10.517Z"
   },
   {
    "duration": 23,
    "start_time": "2023-03-27T19:12:10.538Z"
   },
   {
    "duration": 37,
    "start_time": "2023-03-27T19:12:10.562Z"
   },
   {
    "duration": 20,
    "start_time": "2023-03-27T19:12:10.601Z"
   },
   {
    "duration": 3,
    "start_time": "2023-03-27T19:12:10.623Z"
   },
   {
    "duration": 13,
    "start_time": "2023-03-27T19:12:10.628Z"
   },
   {
    "duration": 19,
    "start_time": "2023-03-27T19:12:10.642Z"
   },
   {
    "duration": 26,
    "start_time": "2023-03-27T19:12:10.663Z"
   },
   {
    "duration": 34,
    "start_time": "2023-03-27T19:12:10.690Z"
   },
   {
    "duration": 21,
    "start_time": "2023-03-27T19:12:10.726Z"
   },
   {
    "duration": 12,
    "start_time": "2023-03-27T19:12:10.749Z"
   },
   {
    "duration": 18,
    "start_time": "2023-03-27T19:12:10.762Z"
   },
   {
    "duration": 12,
    "start_time": "2023-03-27T19:12:10.782Z"
   },
   {
    "duration": 22,
    "start_time": "2023-03-27T19:12:10.796Z"
   },
   {
    "duration": 65,
    "start_time": "2023-03-27T19:12:10.820Z"
   }
  ],
  "colab": {
   "name": "dpp_template_part2.ipynb",
   "provenance": []
  },
  "kernelspec": {
   "display_name": "Python 3 (ipykernel)",
   "language": "python",
   "name": "python3"
  },
  "language_info": {
   "codemirror_mode": {
    "name": "ipython",
    "version": 3
   },
   "file_extension": ".py",
   "mimetype": "text/x-python",
   "name": "python",
   "nbconvert_exporter": "python",
   "pygments_lexer": "ipython3",
   "version": "3.11.3"
  },
  "toc": {
   "base_numbering": 1,
   "nav_menu": {},
   "number_sections": true,
   "sideBar": true,
   "skip_h1_title": true,
   "title_cell": "Table of Contents",
   "title_sidebar": "Contents",
   "toc_cell": false,
   "toc_position": {},
   "toc_section_display": true,
   "toc_window_display": true
  }
 },
 "nbformat": 4,
 "nbformat_minor": 5
}
