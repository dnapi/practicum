{
 "cells": [
  {
   "cell_type": "markdown",
   "metadata": {
    "toc": true
   },
   "source": [
    "<h1>Содержание<span class=\"tocSkip\"></span></h1>\n",
    "<div class=\"toc\"><ul class=\"toc-item\"><li><span><a href=\"#Загрузка-данных\" data-toc-modified-id=\"Загрузка-данных-1\"><span class=\"toc-item-num\">1&nbsp;&nbsp;</span>Загрузка данных</a></span></li><li><span><a href=\"#Умножение-матриц\" data-toc-modified-id=\"Умножение-матриц-2\"><span class=\"toc-item-num\">2&nbsp;&nbsp;</span>Умножение матриц</a></span></li><li><span><a href=\"#Алгоритм-преобразования\" data-toc-modified-id=\"Алгоритм-преобразования-3\"><span class=\"toc-item-num\">3&nbsp;&nbsp;</span>Алгоритм преобразования</a></span></li><li><span><a href=\"#Проверка-алгоритма\" data-toc-modified-id=\"Проверка-алгоритма-4\"><span class=\"toc-item-num\">4&nbsp;&nbsp;</span>Проверка алгоритма</a></span></li><li><span><a href=\"#Чек-лист-проверки\" data-toc-modified-id=\"Чек-лист-проверки-5\"><span class=\"toc-item-num\">5&nbsp;&nbsp;</span>Чек-лист проверки</a></span></li></ul></div>"
   ]
  },
  {
   "cell_type": "markdown",
   "metadata": {},
   "source": [
    "# Защита персональных данных клиентов"
   ]
  },
  {
   "cell_type": "markdown",
   "metadata": {},
   "source": [
    "Требуется защитить данные клиентов страховой компании «Хоть потоп». Разрабатывается такой метод преобразования данных, чтобы по ним было сложно восстановить персональную информацию. Обосновыется корректность предложенного работы.\n",
    "\n",
    "Важным условием при преобразовании явяется не ухучшение качества моделей машинного обучения. Исспользуется линейная модель. "
   ]
  },
  {
   "cell_type": "markdown",
   "metadata": {},
   "source": [
    "## Загрузка данных"
   ]
  },
  {
   "cell_type": "code",
   "execution_count": 1,
   "metadata": {},
   "outputs": [],
   "source": [
    "import pandas as pd\n",
    "import numpy as np\n",
    "\n",
    "from sklearn.linear_model import LinearRegression\n",
    "from sklearn.preprocessing import StandardScaler\n",
    "\n",
    "from sklearn.metrics import r2_score"
   ]
  },
  {
   "cell_type": "code",
   "execution_count": 2,
   "metadata": {},
   "outputs": [],
   "source": [
    "data=pd.read_csv('/datasets/insurance.csv')"
   ]
  },
  {
   "cell_type": "code",
   "execution_count": 3,
   "metadata": {},
   "outputs": [
    {
     "data": {
      "text/html": [
       "<div>\n",
       "<style scoped>\n",
       "    .dataframe tbody tr th:only-of-type {\n",
       "        vertical-align: middle;\n",
       "    }\n",
       "\n",
       "    .dataframe tbody tr th {\n",
       "        vertical-align: top;\n",
       "    }\n",
       "\n",
       "    .dataframe thead th {\n",
       "        text-align: right;\n",
       "    }\n",
       "</style>\n",
       "<table border=\"1\" class=\"dataframe\">\n",
       "  <thead>\n",
       "    <tr style=\"text-align: right;\">\n",
       "      <th></th>\n",
       "      <th>Пол</th>\n",
       "      <th>Возраст</th>\n",
       "      <th>Зарплата</th>\n",
       "      <th>Члены семьи</th>\n",
       "      <th>Страховые выплаты</th>\n",
       "    </tr>\n",
       "  </thead>\n",
       "  <tbody>\n",
       "    <tr>\n",
       "      <th>0</th>\n",
       "      <td>1</td>\n",
       "      <td>41.0</td>\n",
       "      <td>49600.0</td>\n",
       "      <td>1</td>\n",
       "      <td>0</td>\n",
       "    </tr>\n",
       "    <tr>\n",
       "      <th>1</th>\n",
       "      <td>0</td>\n",
       "      <td>46.0</td>\n",
       "      <td>38000.0</td>\n",
       "      <td>1</td>\n",
       "      <td>1</td>\n",
       "    </tr>\n",
       "    <tr>\n",
       "      <th>2</th>\n",
       "      <td>0</td>\n",
       "      <td>29.0</td>\n",
       "      <td>21000.0</td>\n",
       "      <td>0</td>\n",
       "      <td>0</td>\n",
       "    </tr>\n",
       "    <tr>\n",
       "      <th>3</th>\n",
       "      <td>0</td>\n",
       "      <td>21.0</td>\n",
       "      <td>41700.0</td>\n",
       "      <td>2</td>\n",
       "      <td>0</td>\n",
       "    </tr>\n",
       "    <tr>\n",
       "      <th>4</th>\n",
       "      <td>1</td>\n",
       "      <td>28.0</td>\n",
       "      <td>26100.0</td>\n",
       "      <td>0</td>\n",
       "      <td>0</td>\n",
       "    </tr>\n",
       "  </tbody>\n",
       "</table>\n",
       "</div>"
      ],
      "text/plain": [
       "   Пол  Возраст  Зарплата  Члены семьи  Страховые выплаты\n",
       "0    1     41.0   49600.0            1                  0\n",
       "1    0     46.0   38000.0            1                  1\n",
       "2    0     29.0   21000.0            0                  0\n",
       "3    0     21.0   41700.0            2                  0\n",
       "4    1     28.0   26100.0            0                  0"
      ]
     },
     "execution_count": 3,
     "metadata": {},
     "output_type": "execute_result"
    }
   ],
   "source": [
    "data.head()"
   ]
  },
  {
   "cell_type": "code",
   "execution_count": 24,
   "metadata": {},
   "outputs": [
    {
     "name": "stdout",
     "output_type": "stream",
     "text": [
      "<class 'pandas.core.frame.DataFrame'>\n",
      "RangeIndex: 5000 entries, 0 to 4999\n",
      "Data columns (total 5 columns):\n",
      " #   Column             Non-Null Count  Dtype  \n",
      "---  ------             --------------  -----  \n",
      " 0   Пол                5000 non-null   int64  \n",
      " 1   Возраст            5000 non-null   float64\n",
      " 2   Зарплата           5000 non-null   float64\n",
      " 3   Члены семьи        5000 non-null   int64  \n",
      " 4   Страховые выплаты  5000 non-null   int64  \n",
      "dtypes: float64(2), int64(3)\n",
      "memory usage: 195.4 KB\n"
     ]
    }
   ],
   "source": [
    "data.info()"
   ]
  },
  {
   "cell_type": "code",
   "execution_count": 25,
   "metadata": {},
   "outputs": [
    {
     "data": {
      "text/html": [
       "<div>\n",
       "<style scoped>\n",
       "    .dataframe tbody tr th:only-of-type {\n",
       "        vertical-align: middle;\n",
       "    }\n",
       "\n",
       "    .dataframe tbody tr th {\n",
       "        vertical-align: top;\n",
       "    }\n",
       "\n",
       "    .dataframe thead th {\n",
       "        text-align: right;\n",
       "    }\n",
       "</style>\n",
       "<table border=\"1\" class=\"dataframe\">\n",
       "  <thead>\n",
       "    <tr style=\"text-align: right;\">\n",
       "      <th></th>\n",
       "      <th>Пол</th>\n",
       "      <th>Возраст</th>\n",
       "      <th>Зарплата</th>\n",
       "      <th>Члены семьи</th>\n",
       "      <th>Страховые выплаты</th>\n",
       "    </tr>\n",
       "  </thead>\n",
       "  <tbody>\n",
       "    <tr>\n",
       "      <th>count</th>\n",
       "      <td>5000.000000</td>\n",
       "      <td>5000.000000</td>\n",
       "      <td>5000.000000</td>\n",
       "      <td>5000.000000</td>\n",
       "      <td>5000.000000</td>\n",
       "    </tr>\n",
       "    <tr>\n",
       "      <th>mean</th>\n",
       "      <td>0.499000</td>\n",
       "      <td>30.952800</td>\n",
       "      <td>39916.360000</td>\n",
       "      <td>1.194200</td>\n",
       "      <td>0.148000</td>\n",
       "    </tr>\n",
       "    <tr>\n",
       "      <th>std</th>\n",
       "      <td>0.500049</td>\n",
       "      <td>8.440807</td>\n",
       "      <td>9900.083569</td>\n",
       "      <td>1.091387</td>\n",
       "      <td>0.463183</td>\n",
       "    </tr>\n",
       "    <tr>\n",
       "      <th>min</th>\n",
       "      <td>0.000000</td>\n",
       "      <td>18.000000</td>\n",
       "      <td>5300.000000</td>\n",
       "      <td>0.000000</td>\n",
       "      <td>0.000000</td>\n",
       "    </tr>\n",
       "    <tr>\n",
       "      <th>25%</th>\n",
       "      <td>0.000000</td>\n",
       "      <td>24.000000</td>\n",
       "      <td>33300.000000</td>\n",
       "      <td>0.000000</td>\n",
       "      <td>0.000000</td>\n",
       "    </tr>\n",
       "    <tr>\n",
       "      <th>50%</th>\n",
       "      <td>0.000000</td>\n",
       "      <td>30.000000</td>\n",
       "      <td>40200.000000</td>\n",
       "      <td>1.000000</td>\n",
       "      <td>0.000000</td>\n",
       "    </tr>\n",
       "    <tr>\n",
       "      <th>75%</th>\n",
       "      <td>1.000000</td>\n",
       "      <td>37.000000</td>\n",
       "      <td>46600.000000</td>\n",
       "      <td>2.000000</td>\n",
       "      <td>0.000000</td>\n",
       "    </tr>\n",
       "    <tr>\n",
       "      <th>max</th>\n",
       "      <td>1.000000</td>\n",
       "      <td>65.000000</td>\n",
       "      <td>79000.000000</td>\n",
       "      <td>6.000000</td>\n",
       "      <td>5.000000</td>\n",
       "    </tr>\n",
       "  </tbody>\n",
       "</table>\n",
       "</div>"
      ],
      "text/plain": [
       "               Пол      Возраст      Зарплата  Члены семьи  Страховые выплаты\n",
       "count  5000.000000  5000.000000   5000.000000  5000.000000        5000.000000\n",
       "mean      0.499000    30.952800  39916.360000     1.194200           0.148000\n",
       "std       0.500049     8.440807   9900.083569     1.091387           0.463183\n",
       "min       0.000000    18.000000   5300.000000     0.000000           0.000000\n",
       "25%       0.000000    24.000000  33300.000000     0.000000           0.000000\n",
       "50%       0.000000    30.000000  40200.000000     1.000000           0.000000\n",
       "75%       1.000000    37.000000  46600.000000     2.000000           0.000000\n",
       "max       1.000000    65.000000  79000.000000     6.000000           5.000000"
      ]
     },
     "execution_count": 25,
     "metadata": {},
     "output_type": "execute_result"
    }
   ],
   "source": [
    "data.describe()"
   ]
  },
  {
   "cell_type": "code",
   "execution_count": 29,
   "metadata": {},
   "outputs": [
    {
     "data": {
      "text/plain": [
       "153"
      ]
     },
     "execution_count": 29,
     "metadata": {},
     "output_type": "execute_result"
    }
   ],
   "source": [
    "data.duplicated().sum()"
   ]
  },
  {
   "cell_type": "markdown",
   "metadata": {},
   "source": [
    "**Вывод** по предварительному анализу данных. \n",
    "Пропусков и аномалий в данных не обнаружено. Типы данных соответсвующие. Есть дубликаты но это может быть вполне случайностью, а не ошибкой. Поэтому дубликаты оставляем.\n"
   ]
  },
  {
   "cell_type": "markdown",
   "metadata": {},
   "source": [
    "## Умножение матриц"
   ]
  },
  {
   "cell_type": "markdown",
   "metadata": {},
   "source": [
    "Обозначения:\n",
    "\n",
    "- $X$ — матрица признаков (нулевой столбец состоит из единиц)\n",
    "\n",
    "- $y$ — вектор целевого признака\n",
    "\n",
    "- $P$ — матрица, на которую умножаются признаки\n",
    "\n",
    "- $w$ — вектор весов линейной регрессии (нулевой элемент равен сдвигу)"
   ]
  },
  {
   "cell_type": "markdown",
   "metadata": {},
   "source": [
    "Предсказания:\n",
    "\n",
    "$$\n",
    "a = Xw\n",
    "$$\n",
    "\n",
    "Задача обучения:\n",
    "\n",
    "$$\n",
    "w = \\arg\\min_w MSE(Xw, y)\n",
    "$$\n",
    "\n",
    "Формула обучения:\n",
    "\n",
    "$$\n",
    "w = (X^T X)^{-1} X^T y\n",
    "$$"
   ]
  },
  {
   "cell_type": "markdown",
   "metadata": {},
   "source": [
    "**Ответ:**\n",
    "Нет, неизменится. Но нужно убедится, что численные погрешности операции не приводят к значимой погрешности.\n",
    "При малых ненулевых значениях признаков $\\ll 1$ либо сушественно большиз $\\gg 1$ неоходимо провести масштабирование перед кодированием. В рассматриваевом примере это делать не нужно.\n",
    "\n",
    "**Обоснование:**  \n",
    "Обозначим за матрицу кодирующию признаки как $k$. Размер матрицы на единицу больше количества признаков.\n",
    "В качестве такой матрицы подойдет любая случайная матрица $k$, но необходимо убедится в ее обратимости. \n",
    "Тогда закодированая матрица признаков равна\n",
    "$$\\tilde X=X\\cdot k\\,, \\label{eq:X} \\tag{1}$$  \n",
    "исходя из того что бы хотим что бы предсказания были теми же новые параметры линейной регрессии\n",
    "$$\\tilde w =k^{-1}\\cdot w\\,.  \\label{eq:tw} \\tag{2}$$   \n",
    "Таким образом предсказание модели будет алгебраически индентично исходному:\n",
    "$$\\tilde a=\\tilde X\\cdot\\tilde w=X\\cdot k\\cdot k^{-1}\\cdot w=X\\cdot w=a$$\n",
    "\n",
    "С другой стороны использую закодированные данные \\eqref{eq:X} и тот же целевой признак мы получим туже  связь \\eqref{eq:tw} на новые и старые параметры:\n",
    "$$\n",
    "\\tilde w = \\arg\\min_\\tilde w MSE(\\tilde X \\tilde w, y) = \\arg\\min_{k^{-1}w} MSE(X w, y)= k^{-1}\\arg\\min_{w} MSE(X w, y)=k^{-1}w\n",
    "$$\n"
   ]
  },
  {
   "cell_type": "code",
   "execution_count": 4,
   "metadata": {},
   "outputs": [
    {
     "name": "stdout",
     "output_type": "stream",
     "text": [
      "[[0.5488135  0.71518937 0.60276338 0.54488318 0.4236548 ]\n",
      " [0.64589411 0.43758721 0.891773   0.96366276 0.38344152]\n",
      " [0.79172504 0.52889492 0.56804456 0.92559664 0.07103606]\n",
      " [0.0871293  0.0202184  0.83261985 0.77815675 0.87001215]\n",
      " [0.97861834 0.79915856 0.46147936 0.78052918 0.11827443]]\n"
     ]
    }
   ],
   "source": [
    "np.random.seed(0)\n",
    "key_size=data.shape[1]\n",
    "key=np.random.rand(key_size,key_size)\n",
    "print(key)"
   ]
  },
  {
   "cell_type": "markdown",
   "metadata": {},
   "source": [
    "проверка на обратимость"
   ]
  },
  {
   "cell_type": "code",
   "execution_count": 5,
   "metadata": {},
   "outputs": [
    {
     "name": "stdout",
     "output_type": "stream",
     "text": [
      "[[ 1.00000000e+00 -4.51121570e-17  1.19367574e-16  1.68874368e-16\n",
      "  -6.16633644e-16]\n",
      " [-3.80775728e-16  1.00000000e+00  7.80229454e-16 -3.14226001e-16\n",
      "   8.85933895e-17]\n",
      " [-6.03713657e-16 -4.94948315e-18  1.00000000e+00 -1.61628958e-16\n",
      "  -2.06518729e-17]\n",
      " [-4.96469687e-17  3.03691958e-16 -6.43896092e-16  1.00000000e+00\n",
      "   6.20775396e-17]\n",
      " [-7.99806765e-16 -1.37004457e-16  2.28906265e-16  3.52666888e-17\n",
      "   1.00000000e+00]]\n",
      "[[0 0 0 0 0]\n",
      " [0 1 0 0 0]\n",
      " [0 0 1 0 0]\n",
      " [0 0 0 0 0]\n",
      " [0 0 0 0 1]]\n"
     ]
    }
   ],
   "source": [
    "unit=key@np.linalg.inv(key)\n",
    "print(unit)\n",
    "print(unit.astype('int'))"
   ]
  },
  {
   "cell_type": "code",
   "execution_count": 6,
   "metadata": {},
   "outputs": [
    {
     "name": "stdout",
     "output_type": "stream",
     "text": [
      "[-3.65224517e-11 -2.36610731e-12  0.00000000e+00  2.63877808e-12\n",
      "  1.38462701e-11]\n",
      "[1.00000000e+00 4.10000000e+01 4.96000000e+04 1.00000000e+00\n",
      " 1.38462701e-11]\n",
      "Отличие от исходных данных c с точностью до 10**(-10)\n"
     ]
    },
    {
     "data": {
      "text/plain": [
       "array([[0, 0, 0, 0, 0],\n",
       "       [0, 0, 0, 0, 0],\n",
       "       [0, 0, 0, 0, 0],\n",
       "       [0, 0, 0, 0, 0],\n",
       "       [0, 0, 0, 0, 0]])"
      ]
     },
     "execution_count": 6,
     "metadata": {},
     "output_type": "execute_result"
    }
   ],
   "source": [
    "encoded=data.head(5).values@key\n",
    "print((encoded@np.linalg.inv(key)-data.head(5).values)[0])\n",
    "print((encoded@np.linalg.inv(key))[0])\n",
    "print('Отличие от исходных данных c с точностью до 10**(-10)')\n",
    "((encoded@np.linalg.inv(key)-data.head(5).values)>10**(-10)).astype('int')"
   ]
  },
  {
   "cell_type": "markdown",
   "metadata": {},
   "source": [
    "## Алгоритм преобразования"
   ]
  },
  {
   "cell_type": "markdown",
   "metadata": {},
   "source": [
    "**Алгоритм**\n",
    "\n",
    "1. Кодируем только признаки  $\\tilde F = F\\kappa$ без единичного элемента. Учитывая, что полная матрица признаков содержит единичный столбц:$$X_{ij}=\\delta_{j0}+(1-\\delta_{j0})F_{i,j+1}$$\n",
    "для матрицы $X$ будет другой ключ  $\\tilde X = Xk$,\n",
    "где ключ может быть представлен в блочном виде и связан с ключем $\\kappa$:\n",
    "$$\n",
    "k=\\begin{pmatrix} 1 & 0 \\\\ 0 & \\kappa \\end{pmatrix} \\,.\n",
    "$$\n",
    "При генерации ключа $\\kappa$ используем нормальное распределения $\\sim {\\cal N}(0,1)$, но можно использовать и унимодальное распределение с интервалом $[-1,1]$.\n",
    "\n",
    "2. Проверям, что детерминант матрицы не нулевой $\\det \\kappa=\\det k \\neq 0$, что гарантирует обратимость ключа и как следствие работу алгоритма. Если матрица не обратима, геренируем новый ключ.\n",
    "3. Обучаем линейную модель $\\tilde w = (\\tilde X^T \\tilde X)^{-1} \\tilde X^T y$\n",
    "4. Использыуем модель для получения предсказаний  $a=\\tilde X \\tilde w$ на основе закодированных данных $\\tilde X$"
   ]
  },
  {
   "cell_type": "markdown",
   "metadata": {},
   "source": [
    "**Обоснование**\n",
    "\n",
    "Качество регрессии не изменится, т.к. Предсказание модели алгебраически индентично исходному если обе модели обучены на одних и тех же данных:\n",
    "$$\\tilde a=\\tilde X\\cdot\\tilde w=X\\cdot k\\cdot k^{-1}\\cdot w=X\\cdot w=a$$\n"
   ]
  },
  {
   "cell_type": "markdown",
   "metadata": {},
   "source": [
    "## Проверка алгоритма"
   ]
  },
  {
   "cell_type": "code",
   "execution_count": 7,
   "metadata": {},
   "outputs": [
    {
     "name": "stdout",
     "output_type": "stream",
     "text": [
      "Ключ кодирования\n",
      "[[-0.46820879 -0.82282485 -0.0653801  -0.71336192]\n",
      " [ 0.90635089  0.76623673  0.82605407 -1.32368279]\n",
      " [-1.75244452  1.00244907  0.54480945  1.8951609 ]\n",
      " [-0.76935745 -1.40309592 -0.63246751 -0.55887367]]\n"
     ]
    }
   ],
   "source": [
    "np.random.seed(777)\n",
    "key_size=data.shape[1]-1\n",
    "#key=np.random.rand(key_size,key_size)\n",
    "key=np.random.normal(0, 1, (key_size,key_size))\n",
    "print('Ключ кодирования')\n",
    "print(key)"
   ]
  },
  {
   "cell_type": "code",
   "execution_count": 8,
   "metadata": {},
   "outputs": [
    {
     "name": "stdout",
     "output_type": "stream",
     "text": [
      "Ключ можно использовать\n"
     ]
    }
   ],
   "source": [
    "if np.linalg.det(key)!=0:\n",
    "    print('Ключ можно использовать')\n",
    "else:\n",
    "    print('Выбирите другой ключ')"
   ]
  },
  {
   "cell_type": "markdown",
   "metadata": {},
   "source": [
    "Для ключа исспользуем диагонально (строго) доминнантную матрицу для генирации обратимой матрицицы."
   ]
  },
  {
   "cell_type": "code",
   "execution_count": 13,
   "metadata": {},
   "outputs": [],
   "source": [
    "np.random.seed(777)\n",
    "key_size=data.shape[1]-1\n",
    "m = np.random.rand(key_size, key_size)\n",
    "mx = np.sum(np.abs(m), axis=1)\n",
    "np.fill_diagonal(m, mx)\n",
    "assert np.linalg.det(m)!=0, \"Ошибка ключа. Ключ не обратим\""
   ]
  },
  {
   "cell_type": "code",
   "execution_count": 14,
   "metadata": {},
   "outputs": [],
   "source": [
    "features=data.drop(['Страховые выплаты'], axis=1).values\n",
    "target=data[['Страховые выплаты']].values"
   ]
  },
  {
   "cell_type": "code",
   "execution_count": 15,
   "metadata": {},
   "outputs": [],
   "source": [
    "model = LinearRegression()\n",
    "model.fit(features, target)\n",
    "predictions = model.predict(features)"
   ]
  },
  {
   "cell_type": "code",
   "execution_count": 16,
   "metadata": {},
   "outputs": [],
   "source": [
    "features_encoded=features@key\n",
    "model_encoded = LinearRegression()\n",
    "model_encoded.fit(features_encoded, target)\n",
    "predictions_encoded = model_encoded.predict(features_encoded)"
   ]
  },
  {
   "cell_type": "code",
   "execution_count": 17,
   "metadata": {},
   "outputs": [],
   "source": [
    "r2=r2_score(target,predictions)"
   ]
  },
  {
   "cell_type": "code",
   "execution_count": 18,
   "metadata": {},
   "outputs": [],
   "source": [
    "r2_encoded=r2_score(target,predictions_encoded)"
   ]
  },
  {
   "cell_type": "code",
   "execution_count": 19,
   "metadata": {},
   "outputs": [
    {
     "data": {
      "text/plain": [
       "0.4249455028666801"
      ]
     },
     "execution_count": 19,
     "metadata": {},
     "output_type": "execute_result"
    }
   ],
   "source": [
    "r2"
   ]
  },
  {
   "cell_type": "code",
   "execution_count": 20,
   "metadata": {},
   "outputs": [
    {
     "data": {
      "text/plain": [
       "1.6764367671839864e-12"
      ]
     },
     "execution_count": 20,
     "metadata": {},
     "output_type": "execute_result"
    }
   ],
   "source": [
    "(1-r2_encoded/r2)*100"
   ]
  },
  {
   "cell_type": "markdown",
   "metadata": {},
   "source": [
    "в общем случае желательно использовать масштобирование но в данном случае в этом нет необходимости"
   ]
  },
  {
   "cell_type": "code",
   "execution_count": 21,
   "metadata": {},
   "outputs": [
    {
     "name": "stdout",
     "output_type": "stream",
     "text": [
      "0.42494550286668\n"
     ]
    }
   ],
   "source": [
    "scaler=StandardScaler()\n",
    "scaler.fit(features)\n",
    "features_scaled=scaler.transform(features)\n",
    "model.fit(features_scaled, target)\n",
    "predictions = model.predict(features_scaled)\n",
    "r2=r2_score(target,predictions)\n",
    "print(r2)"
   ]
  },
  {
   "cell_type": "code",
   "execution_count": 22,
   "metadata": {},
   "outputs": [
    {
     "name": "stdout",
     "output_type": "stream",
     "text": [
      "0.4249455028666679\n"
     ]
    }
   ],
   "source": [
    "scaler_encoded=StandardScaler()\n",
    "scaler_encoded.fit(features_scaled@key)\n",
    "features_encoded=scaler_encoded.transform(features@key)\n",
    "model_encoded.fit(features_encoded, target)\n",
    "predictions_encoded = model_encoded.predict(features_encoded)\n",
    "r2_encoded=r2_score(target,predictions_encoded)\n",
    "print(r2_encoded)"
   ]
  },
  {
   "cell_type": "code",
   "execution_count": 23,
   "metadata": {},
   "outputs": [
    {
     "data": {
      "text/plain": [
       "2.8532731732866523e-12"
      ]
     },
     "execution_count": 23,
     "metadata": {},
     "output_type": "execute_result"
    }
   ],
   "source": [
    "(1-r2_encoded/r2)*100"
   ]
  },
  {
   "cell_type": "markdown",
   "metadata": {},
   "source": [
    "**Вывод** \n",
    "\n",
    "В проекте рассмотрен варинт кодирования персональных данных посредством умножения вектора признаков каждой записи на квадратную матрицую. Квадратная матрица выбирается случайным образом и проверяется ее обратимость.  Такой варинт кодирования позволяет обучить линейную модель на закодированных данных. На рассмотренных данных такое кодирование и модель позволяют получить описание даннх с тойже точностью что и модель построенная на основе исходных данных. Малые отклонения в точности возможны в обе стороны в связи с численными погрешностями вычислений. Алгебраически оба подхода имеют индентичное предсказания и как следствие точность. \n",
    "\n",
    "Использование маштабирования данных перед обучением модели важно в общем случаее, но для представленных данных значения не имеет. "
   ]
  }
 ],
 "metadata": {
  "ExecuteTimeLog": [
   {
    "duration": 61,
    "start_time": "2023-06-29T10:49:52.836Z"
   },
   {
    "duration": 466,
    "start_time": "2023-06-29T10:49:54.119Z"
   },
   {
    "duration": 34,
    "start_time": "2023-06-29T10:49:54.588Z"
   },
   {
    "duration": 81,
    "start_time": "2023-06-29T10:49:59.744Z"
   },
   {
    "duration": 17,
    "start_time": "2023-06-29T10:50:06.875Z"
   },
   {
    "duration": 4,
    "start_time": "2023-06-29T10:54:50.888Z"
   },
   {
    "duration": 3,
    "start_time": "2023-06-29T10:55:10.391Z"
   },
   {
    "duration": 233,
    "start_time": "2023-06-29T10:55:19.987Z"
   },
   {
    "duration": 16244,
    "start_time": "2023-06-29T10:55:39.667Z"
   },
   {
    "duration": 25242,
    "start_time": "2023-06-29T10:56:17.368Z"
   },
   {
    "duration": 97,
    "start_time": "2023-06-29T10:56:42.613Z"
   },
   {
    "duration": 8,
    "start_time": "2023-06-29T10:57:07.388Z"
   },
   {
    "duration": 9,
    "start_time": "2023-06-29T10:58:00.716Z"
   },
   {
    "duration": 234,
    "start_time": "2023-06-29T10:58:08.443Z"
   },
   {
    "duration": 5,
    "start_time": "2023-06-29T10:58:15.089Z"
   },
   {
    "duration": 232,
    "start_time": "2023-06-29T10:58:27.667Z"
   },
   {
    "duration": 24890,
    "start_time": "2023-06-29T10:58:28.619Z"
   },
   {
    "duration": 5,
    "start_time": "2023-06-29T10:58:54.233Z"
   },
   {
    "duration": 5,
    "start_time": "2023-06-29T10:59:00.082Z"
   },
   {
    "duration": 8,
    "start_time": "2023-06-29T10:59:11.023Z"
   },
   {
    "duration": 5,
    "start_time": "2023-06-29T10:59:29.364Z"
   },
   {
    "duration": 8,
    "start_time": "2023-06-29T10:59:36.084Z"
   },
   {
    "duration": 5,
    "start_time": "2023-06-29T10:59:47.021Z"
   },
   {
    "duration": 9,
    "start_time": "2023-06-29T10:59:53.561Z"
   },
   {
    "duration": 6,
    "start_time": "2023-06-29T11:00:02.428Z"
   },
   {
    "duration": 4,
    "start_time": "2023-06-29T11:00:13.622Z"
   },
   {
    "duration": 4,
    "start_time": "2023-06-29T11:00:18.924Z"
   },
   {
    "duration": 197,
    "start_time": "2023-06-29T11:15:13.911Z"
   },
   {
    "duration": 236,
    "start_time": "2023-06-29T11:15:23.372Z"
   },
   {
    "duration": 232,
    "start_time": "2023-06-29T11:15:44.015Z"
   },
   {
    "duration": 25154,
    "start_time": "2023-06-29T11:15:44.357Z"
   },
   {
    "duration": 203,
    "start_time": "2023-06-29T11:16:09.514Z"
   },
   {
    "duration": 1305,
    "start_time": "2023-06-30T06:37:23.073Z"
   },
   {
    "duration": 132,
    "start_time": "2023-06-30T06:37:24.382Z"
   },
   {
    "duration": 18,
    "start_time": "2023-06-30T06:37:24.516Z"
   },
   {
    "duration": 82,
    "start_time": "2023-06-30T06:37:46.903Z"
   },
   {
    "duration": 9,
    "start_time": "2023-06-30T06:37:49.252Z"
   },
   {
    "duration": 6,
    "start_time": "2023-06-30T06:37:49.847Z"
   },
   {
    "duration": 6,
    "start_time": "2023-06-30T06:37:56.413Z"
   },
   {
    "duration": 9,
    "start_time": "2023-06-30T06:38:07.592Z"
   },
   {
    "duration": 111,
    "start_time": "2023-06-30T06:38:20.791Z"
   },
   {
    "duration": 5,
    "start_time": "2023-06-30T06:38:23.331Z"
   },
   {
    "duration": 4,
    "start_time": "2023-06-30T06:38:38.448Z"
   },
   {
    "duration": 6,
    "start_time": "2023-06-30T06:47:05.431Z"
   },
   {
    "duration": 5,
    "start_time": "2023-06-30T07:03:00.926Z"
   },
   {
    "duration": 14,
    "start_time": "2023-06-30T07:04:28.201Z"
   },
   {
    "duration": 8,
    "start_time": "2023-06-30T07:05:11.544Z"
   },
   {
    "duration": 21,
    "start_time": "2023-06-30T07:05:43.982Z"
   },
   {
    "duration": 7,
    "start_time": "2023-06-30T07:08:57.845Z"
   },
   {
    "duration": 133,
    "start_time": "2023-06-30T07:09:30.406Z"
   },
   {
    "duration": 11,
    "start_time": "2023-06-30T07:09:36.108Z"
   },
   {
    "duration": 18,
    "start_time": "2023-06-30T07:09:58.595Z"
   },
   {
    "duration": 18,
    "start_time": "2023-06-30T07:10:12.893Z"
   },
   {
    "duration": 18,
    "start_time": "2023-06-30T08:02:01.139Z"
   },
   {
    "duration": 26,
    "start_time": "2023-06-30T08:02:16.290Z"
   },
   {
    "duration": 38,
    "start_time": "2023-06-30T08:02:22.081Z"
   },
   {
    "duration": 12,
    "start_time": "2023-06-30T08:02:28.031Z"
   },
   {
    "duration": 19,
    "start_time": "2023-06-30T08:02:35.904Z"
   },
   {
    "duration": 31,
    "start_time": "2023-06-30T08:02:58.774Z"
   },
   {
    "duration": 8,
    "start_time": "2023-06-30T08:03:44.591Z"
   },
   {
    "duration": 9,
    "start_time": "2023-06-30T08:04:16.057Z"
   },
   {
    "duration": 10,
    "start_time": "2023-06-30T08:04:46.025Z"
   },
   {
    "duration": 8,
    "start_time": "2023-06-30T08:04:48.319Z"
   },
   {
    "duration": 8,
    "start_time": "2023-06-30T08:04:54.630Z"
   },
   {
    "duration": 4,
    "start_time": "2023-06-30T08:04:56.608Z"
   },
   {
    "duration": 5,
    "start_time": "2023-06-30T08:16:08.321Z"
   },
   {
    "duration": 11,
    "start_time": "2023-06-30T08:16:08.778Z"
   },
   {
    "duration": 10,
    "start_time": "2023-06-30T08:16:10.186Z"
   },
   {
    "duration": 7,
    "start_time": "2023-06-30T08:16:50.688Z"
   },
   {
    "duration": 17,
    "start_time": "2023-06-30T08:17:07.621Z"
   },
   {
    "duration": 5,
    "start_time": "2023-06-30T08:18:21.641Z"
   },
   {
    "duration": 16,
    "start_time": "2023-06-30T08:18:31.152Z"
   },
   {
    "duration": 6,
    "start_time": "2023-06-30T08:22:38.540Z"
   },
   {
    "duration": 5,
    "start_time": "2023-06-30T08:22:39.103Z"
   },
   {
    "duration": 5,
    "start_time": "2023-06-30T08:22:39.479Z"
   },
   {
    "duration": 30,
    "start_time": "2023-06-30T08:22:39.850Z"
   },
   {
    "duration": 5,
    "start_time": "2023-06-30T08:23:24.044Z"
   },
   {
    "duration": 11,
    "start_time": "2023-06-30T08:23:26.812Z"
   },
   {
    "duration": 7,
    "start_time": "2023-06-30T08:24:52.889Z"
   },
   {
    "duration": 7,
    "start_time": "2023-06-30T08:24:54.079Z"
   },
   {
    "duration": 5,
    "start_time": "2023-06-30T08:25:04.807Z"
   },
   {
    "duration": 7,
    "start_time": "2023-06-30T08:25:05.182Z"
   },
   {
    "duration": 52,
    "start_time": "2023-06-30T08:25:09.653Z"
   },
   {
    "duration": 934,
    "start_time": "2023-06-30T08:26:05.594Z"
   },
   {
    "duration": 26,
    "start_time": "2023-06-30T08:26:24.307Z"
   },
   {
    "duration": 3,
    "start_time": "2023-06-30T08:49:16.109Z"
   },
   {
    "duration": 3,
    "start_time": "2023-06-30T08:49:24.207Z"
   },
   {
    "duration": 4,
    "start_time": "2023-06-30T08:49:29.509Z"
   },
   {
    "duration": 141,
    "start_time": "2023-06-30T08:50:22.546Z"
   },
   {
    "duration": 13,
    "start_time": "2023-06-30T08:50:28.124Z"
   },
   {
    "duration": 11,
    "start_time": "2023-06-30T08:50:29.018Z"
   },
   {
    "duration": 13,
    "start_time": "2023-06-30T08:50:34.807Z"
   },
   {
    "duration": 9,
    "start_time": "2023-06-30T08:50:36.828Z"
   },
   {
    "duration": 6,
    "start_time": "2023-06-30T08:51:44.420Z"
   },
   {
    "duration": 8,
    "start_time": "2023-06-30T08:51:47.924Z"
   },
   {
    "duration": 14,
    "start_time": "2023-06-30T08:51:48.192Z"
   },
   {
    "duration": 9,
    "start_time": "2023-06-30T08:51:48.500Z"
   },
   {
    "duration": 12,
    "start_time": "2023-06-30T08:51:48.805Z"
   },
   {
    "duration": 17,
    "start_time": "2023-06-30T08:51:49.168Z"
   },
   {
    "duration": 5,
    "start_time": "2023-06-30T08:52:11.229Z"
   },
   {
    "duration": 1193,
    "start_time": "2023-07-03T05:42:28.732Z"
   },
   {
    "duration": 88,
    "start_time": "2023-07-03T05:42:29.927Z"
   },
   {
    "duration": 18,
    "start_time": "2023-07-03T05:42:30.017Z"
   },
   {
    "duration": 10,
    "start_time": "2023-07-03T05:42:30.972Z"
   },
   {
    "duration": 5,
    "start_time": "2023-07-03T05:42:31.952Z"
   },
   {
    "duration": 11,
    "start_time": "2023-07-03T05:42:32.316Z"
   },
   {
    "duration": 5,
    "start_time": "2023-07-03T05:42:34.415Z"
   },
   {
    "duration": 4,
    "start_time": "2023-07-03T05:42:34.864Z"
   },
   {
    "duration": 5,
    "start_time": "2023-07-03T05:42:35.360Z"
   },
   {
    "duration": 5,
    "start_time": "2023-07-03T05:42:36.011Z"
   },
   {
    "duration": 101,
    "start_time": "2023-07-03T05:42:36.657Z"
   },
   {
    "duration": 132,
    "start_time": "2023-07-03T05:42:37.290Z"
   },
   {
    "duration": 11,
    "start_time": "2023-07-03T05:42:37.726Z"
   },
   {
    "duration": 14,
    "start_time": "2023-07-03T05:43:25.800Z"
   },
   {
    "duration": 6,
    "start_time": "2023-07-03T06:05:50.404Z"
   },
   {
    "duration": 9,
    "start_time": "2023-07-03T06:05:52.892Z"
   },
   {
    "duration": 9,
    "start_time": "2023-07-03T06:05:53.711Z"
   },
   {
    "duration": 12,
    "start_time": "2023-07-03T06:07:32.297Z"
   },
   {
    "duration": 9,
    "start_time": "2023-07-03T06:07:33.713Z"
   },
   {
    "duration": 6,
    "start_time": "2023-07-03T06:07:46.491Z"
   },
   {
    "duration": 175,
    "start_time": "2023-07-03T06:07:47.282Z"
   },
   {
    "duration": 14,
    "start_time": "2023-07-03T06:07:48.539Z"
   },
   {
    "duration": 14,
    "start_time": "2023-07-03T06:07:53.283Z"
   },
   {
    "duration": 5,
    "start_time": "2023-07-03T06:08:01.611Z"
   },
   {
    "duration": 7,
    "start_time": "2023-07-03T06:08:07.147Z"
   },
   {
    "duration": 5,
    "start_time": "2023-07-03T06:08:11.430Z"
   },
   {
    "duration": 9,
    "start_time": "2023-07-03T06:08:31.551Z"
   },
   {
    "duration": 12,
    "start_time": "2023-07-03T06:08:32.351Z"
   },
   {
    "duration": 9,
    "start_time": "2023-07-03T06:08:32.831Z"
   },
   {
    "duration": 212,
    "start_time": "2023-07-03T06:08:33.253Z"
   },
   {
    "duration": 6,
    "start_time": "2023-07-03T06:08:33.703Z"
   },
   {
    "duration": 22,
    "start_time": "2023-07-03T06:08:34.146Z"
   },
   {
    "duration": 14,
    "start_time": "2023-07-03T06:08:34.684Z"
   },
   {
    "duration": 13,
    "start_time": "2023-07-03T06:08:42.890Z"
   },
   {
    "duration": 29,
    "start_time": "2023-07-03T06:08:56.593Z"
   },
   {
    "duration": 17,
    "start_time": "2023-07-03T06:09:04.278Z"
   },
   {
    "duration": 15,
    "start_time": "2023-07-03T06:09:04.518Z"
   },
   {
    "duration": 10,
    "start_time": "2023-07-03T06:17:24.675Z"
   },
   {
    "duration": 113,
    "start_time": "2023-07-03T06:17:25.053Z"
   },
   {
    "duration": 39,
    "start_time": "2023-07-03T06:17:27.283Z"
   },
   {
    "duration": 6,
    "start_time": "2023-07-03T06:18:09.914Z"
   },
   {
    "duration": 16,
    "start_time": "2023-07-03T06:18:20.160Z"
   },
   {
    "duration": 14,
    "start_time": "2023-07-03T06:18:29.711Z"
   },
   {
    "duration": 5,
    "start_time": "2023-07-03T06:18:50.833Z"
   },
   {
    "duration": 8,
    "start_time": "2023-07-03T06:18:58.112Z"
   },
   {
    "duration": 23,
    "start_time": "2023-07-03T06:20:12.276Z"
   },
   {
    "duration": 6,
    "start_time": "2023-07-03T06:20:24.443Z"
   },
   {
    "duration": 8,
    "start_time": "2023-07-03T06:20:24.980Z"
   },
   {
    "duration": 82,
    "start_time": "2023-07-03T06:21:27.011Z"
   },
   {
    "duration": 4,
    "start_time": "2023-07-03T06:25:47.811Z"
   },
   {
    "duration": 5,
    "start_time": "2023-07-03T06:29:59.604Z"
   },
   {
    "duration": 29,
    "start_time": "2023-07-03T06:30:01.152Z"
   },
   {
    "duration": 5,
    "start_time": "2023-07-03T06:30:05.840Z"
   },
   {
    "duration": 8,
    "start_time": "2023-07-03T06:30:14.098Z"
   },
   {
    "duration": 5,
    "start_time": "2023-07-03T06:33:21.474Z"
   },
   {
    "duration": 6,
    "start_time": "2023-07-03T06:33:26.733Z"
   },
   {
    "duration": 13,
    "start_time": "2023-07-03T06:33:33.549Z"
   },
   {
    "duration": 40,
    "start_time": "2023-07-03T06:33:34.526Z"
   },
   {
    "duration": 24,
    "start_time": "2023-07-03T06:34:10.544Z"
   },
   {
    "duration": 10,
    "start_time": "2023-07-03T06:34:16.715Z"
   },
   {
    "duration": 8,
    "start_time": "2023-07-03T06:34:20.484Z"
   },
   {
    "duration": 33,
    "start_time": "2023-07-03T06:34:33.144Z"
   },
   {
    "duration": 10,
    "start_time": "2023-07-03T06:34:34.415Z"
   },
   {
    "duration": 10,
    "start_time": "2023-07-03T06:34:49.884Z"
   },
   {
    "duration": 6,
    "start_time": "2023-07-03T06:34:50.483Z"
   },
   {
    "duration": 7,
    "start_time": "2023-07-03T06:34:51.183Z"
   },
   {
    "duration": 14,
    "start_time": "2023-07-03T06:35:01.811Z"
   },
   {
    "duration": 6,
    "start_time": "2023-07-03T06:35:02.316Z"
   },
   {
    "duration": 7,
    "start_time": "2023-07-03T06:35:03.037Z"
   },
   {
    "duration": 15,
    "start_time": "2023-07-03T06:35:43.890Z"
   },
   {
    "duration": 7,
    "start_time": "2023-07-03T06:35:44.626Z"
   },
   {
    "duration": 8,
    "start_time": "2023-07-03T06:35:44.909Z"
   },
   {
    "duration": 10,
    "start_time": "2023-07-03T06:35:49.203Z"
   },
   {
    "duration": 10,
    "start_time": "2023-07-03T06:35:49.543Z"
   },
   {
    "duration": 6,
    "start_time": "2023-07-03T06:35:50.225Z"
   },
   {
    "duration": 12,
    "start_time": "2023-07-03T06:35:50.782Z"
   },
   {
    "duration": 5,
    "start_time": "2023-07-03T06:36:15.115Z"
   },
   {
    "duration": 33,
    "start_time": "2023-07-03T06:36:17.134Z"
   },
   {
    "duration": 8,
    "start_time": "2023-07-03T06:36:25.543Z"
   },
   {
    "duration": 16,
    "start_time": "2023-07-03T06:36:25.961Z"
   },
   {
    "duration": 7,
    "start_time": "2023-07-03T06:36:26.415Z"
   },
   {
    "duration": 6,
    "start_time": "2023-07-03T06:37:40.193Z"
   },
   {
    "duration": 14,
    "start_time": "2023-07-03T06:37:55.594Z"
   },
   {
    "duration": 6,
    "start_time": "2023-07-03T06:37:56.115Z"
   },
   {
    "duration": 5,
    "start_time": "2023-07-03T06:37:56.416Z"
   },
   {
    "duration": 11,
    "start_time": "2023-07-03T06:38:28.202Z"
   },
   {
    "duration": 8,
    "start_time": "2023-07-03T06:38:28.665Z"
   },
   {
    "duration": 5,
    "start_time": "2023-07-03T06:38:28.944Z"
   },
   {
    "duration": 7,
    "start_time": "2023-07-03T06:38:46.488Z"
   },
   {
    "duration": 3,
    "start_time": "2023-07-03T06:39:11.727Z"
   },
   {
    "duration": 8,
    "start_time": "2023-07-03T06:39:14.033Z"
   },
   {
    "duration": 4,
    "start_time": "2023-07-03T06:39:14.902Z"
   },
   {
    "duration": 6,
    "start_time": "2023-07-03T06:39:15.247Z"
   },
   {
    "duration": 8,
    "start_time": "2023-07-03T06:39:52.548Z"
   },
   {
    "duration": 39,
    "start_time": "2023-07-03T06:39:57.434Z"
   },
   {
    "duration": 3,
    "start_time": "2023-07-03T06:39:59.837Z"
   },
   {
    "duration": 10,
    "start_time": "2023-07-03T06:40:08.309Z"
   },
   {
    "duration": 6,
    "start_time": "2023-07-03T06:40:09.200Z"
   },
   {
    "duration": 6,
    "start_time": "2023-07-03T06:40:09.785Z"
   },
   {
    "duration": 4,
    "start_time": "2023-07-03T06:40:25.937Z"
   },
   {
    "duration": 8,
    "start_time": "2023-07-03T06:40:27.301Z"
   },
   {
    "duration": 6,
    "start_time": "2023-07-03T06:40:36.403Z"
   },
   {
    "duration": 4,
    "start_time": "2023-07-03T06:40:42.920Z"
   },
   {
    "duration": 5,
    "start_time": "2023-07-03T06:41:44.390Z"
   },
   {
    "duration": 5,
    "start_time": "2023-07-03T06:41:51.332Z"
   },
   {
    "duration": 47,
    "start_time": "2023-07-03T06:42:11.330Z"
   },
   {
    "duration": 8,
    "start_time": "2023-07-03T06:42:12.176Z"
   },
   {
    "duration": 9,
    "start_time": "2023-07-03T06:42:12.567Z"
   },
   {
    "duration": 5,
    "start_time": "2023-07-03T06:42:12.941Z"
   },
   {
    "duration": 5,
    "start_time": "2023-07-03T06:42:13.638Z"
   },
   {
    "duration": 6,
    "start_time": "2023-07-03T07:01:36.950Z"
   },
   {
    "duration": 8,
    "start_time": "2023-07-03T07:01:37.195Z"
   },
   {
    "duration": 5,
    "start_time": "2023-07-03T07:01:37.527Z"
   },
   {
    "duration": 5,
    "start_time": "2023-07-03T07:01:37.968Z"
   },
   {
    "duration": 33,
    "start_time": "2023-07-03T07:03:19.449Z"
   },
   {
    "duration": 20,
    "start_time": "2023-07-03T07:03:45.555Z"
   },
   {
    "duration": 14,
    "start_time": "2023-07-03T07:04:56.496Z"
   },
   {
    "duration": 12,
    "start_time": "2023-07-03T07:05:08.810Z"
   },
   {
    "duration": 5,
    "start_time": "2023-07-03T07:05:13.643Z"
   },
   {
    "duration": 25,
    "start_time": "2023-07-03T07:08:43.548Z"
   },
   {
    "duration": 13,
    "start_time": "2023-07-03T07:08:44.507Z"
   },
   {
    "duration": 4,
    "start_time": "2023-07-03T07:14:57.149Z"
   },
   {
    "duration": 44,
    "start_time": "2023-07-03T07:14:57.555Z"
   },
   {
    "duration": 9,
    "start_time": "2023-07-03T07:14:57.898Z"
   },
   {
    "duration": 1362,
    "start_time": "2023-07-03T07:15:05.821Z"
   },
   {
    "duration": 44,
    "start_time": "2023-07-03T07:15:07.185Z"
   },
   {
    "duration": 20,
    "start_time": "2023-07-03T07:15:07.231Z"
   },
   {
    "duration": 14,
    "start_time": "2023-07-03T07:15:09.073Z"
   },
   {
    "duration": 12,
    "start_time": "2023-07-03T07:15:09.905Z"
   },
   {
    "duration": 13,
    "start_time": "2023-07-03T07:15:10.347Z"
   },
   {
    "duration": 5,
    "start_time": "2023-07-03T07:15:12.336Z"
   },
   {
    "duration": 5,
    "start_time": "2023-07-03T07:15:12.753Z"
   },
   {
    "duration": 12,
    "start_time": "2023-07-03T07:15:13.152Z"
   },
   {
    "duration": 34,
    "start_time": "2023-07-03T07:15:13.548Z"
   },
   {
    "duration": 13,
    "start_time": "2023-07-03T07:15:13.974Z"
   },
   {
    "duration": 8,
    "start_time": "2023-07-03T07:15:14.361Z"
   },
   {
    "duration": 6,
    "start_time": "2023-07-03T07:15:14.750Z"
   },
   {
    "duration": 5,
    "start_time": "2023-07-03T07:15:15.205Z"
   },
   {
    "duration": 4,
    "start_time": "2023-07-03T07:15:15.622Z"
   },
   {
    "duration": 75,
    "start_time": "2023-07-03T07:15:16.480Z"
   },
   {
    "duration": 17,
    "start_time": "2023-07-03T07:15:17.350Z"
   },
   {
    "duration": 4,
    "start_time": "2023-07-03T07:15:17.774Z"
   },
   {
    "duration": 6,
    "start_time": "2023-07-03T07:21:46.298Z"
   },
   {
    "duration": 4,
    "start_time": "2023-07-03T07:21:47.202Z"
   },
   {
    "duration": 5,
    "start_time": "2023-07-03T07:21:48.016Z"
   },
   {
    "duration": 54,
    "start_time": "2023-07-03T07:21:48.404Z"
   },
   {
    "duration": 13,
    "start_time": "2023-07-03T07:21:48.791Z"
   },
   {
    "duration": 5,
    "start_time": "2023-07-03T07:21:49.200Z"
   },
   {
    "duration": 7,
    "start_time": "2023-07-03T07:21:49.561Z"
   },
   {
    "duration": 3,
    "start_time": "2023-07-03T07:21:49.949Z"
   },
   {
    "duration": 4,
    "start_time": "2023-07-03T07:21:50.648Z"
   },
   {
    "duration": 17,
    "start_time": "2023-07-03T07:21:51.600Z"
   },
   {
    "duration": 11,
    "start_time": "2023-07-03T07:21:51.988Z"
   },
   {
    "duration": 5,
    "start_time": "2023-07-03T07:21:52.390Z"
   },
   {
    "duration": 3663,
    "start_time": "2023-07-03T07:22:04.649Z"
   },
   {
    "duration": 38,
    "start_time": "2023-07-03T07:22:08.314Z"
   },
   {
    "duration": 29,
    "start_time": "2023-07-03T07:22:08.353Z"
   },
   {
    "duration": 5,
    "start_time": "2023-07-03T07:22:08.384Z"
   },
   {
    "duration": 65,
    "start_time": "2023-07-03T07:22:08.392Z"
   },
   {
    "duration": 24,
    "start_time": "2023-07-03T07:22:08.461Z"
   },
   {
    "duration": 11,
    "start_time": "2023-07-03T07:22:08.555Z"
   },
   {
    "duration": 93,
    "start_time": "2023-07-03T07:22:08.568Z"
   },
   {
    "duration": 8,
    "start_time": "2023-07-03T07:22:08.663Z"
   },
   {
    "duration": 10,
    "start_time": "2023-07-03T07:22:08.673Z"
   },
   {
    "duration": 78,
    "start_time": "2023-07-03T07:22:08.686Z"
   },
   {
    "duration": 102,
    "start_time": "2023-07-03T07:22:08.767Z"
   },
   {
    "duration": 9,
    "start_time": "2023-07-03T07:22:08.872Z"
   },
   {
    "duration": 14,
    "start_time": "2023-07-03T07:22:08.953Z"
   },
   {
    "duration": 26,
    "start_time": "2023-07-03T07:22:08.968Z"
   },
   {
    "duration": 61,
    "start_time": "2023-07-03T07:22:08.996Z"
   },
   {
    "duration": 94,
    "start_time": "2023-07-03T07:22:09.061Z"
   },
   {
    "duration": 82,
    "start_time": "2023-07-03T07:22:09.177Z"
   },
   {
    "duration": 5,
    "start_time": "2023-07-03T07:22:38.070Z"
   },
   {
    "duration": 4,
    "start_time": "2023-07-03T07:22:38.745Z"
   },
   {
    "duration": 7,
    "start_time": "2023-07-03T07:22:39.116Z"
   },
   {
    "duration": 11,
    "start_time": "2023-07-03T07:22:39.411Z"
   },
   {
    "duration": 7,
    "start_time": "2023-07-03T07:22:39.816Z"
   },
   {
    "duration": 4,
    "start_time": "2023-07-03T07:22:40.209Z"
   },
   {
    "duration": 8,
    "start_time": "2023-07-03T07:22:40.598Z"
   },
   {
    "duration": 4,
    "start_time": "2023-07-03T07:22:41.001Z"
   },
   {
    "duration": 5,
    "start_time": "2023-07-03T07:22:41.548Z"
   },
   {
    "duration": 14,
    "start_time": "2023-07-03T07:22:42.601Z"
   },
   {
    "duration": 11,
    "start_time": "2023-07-03T07:22:43.049Z"
   },
   {
    "duration": 4,
    "start_time": "2023-07-03T07:22:43.542Z"
   },
   {
    "duration": 5,
    "start_time": "2023-07-03T07:26:38.846Z"
   },
   {
    "duration": 7,
    "start_time": "2023-07-03T07:26:41.118Z"
   },
   {
    "duration": 2956,
    "start_time": "2023-07-03T08:03:40.435Z"
   },
   {
    "duration": 89,
    "start_time": "2023-07-03T08:03:43.393Z"
   },
   {
    "duration": 14,
    "start_time": "2023-07-03T08:03:43.484Z"
   },
   {
    "duration": 4,
    "start_time": "2023-07-03T08:03:43.501Z"
   },
   {
    "duration": 13,
    "start_time": "2023-07-03T08:03:43.506Z"
   },
   {
    "duration": 57,
    "start_time": "2023-07-03T08:03:43.521Z"
   },
   {
    "duration": 106,
    "start_time": "2023-07-03T08:03:43.580Z"
   },
   {
    "duration": 5,
    "start_time": "2023-07-03T08:03:43.769Z"
   },
   {
    "duration": 7,
    "start_time": "2023-07-03T08:03:43.776Z"
   },
   {
    "duration": 12,
    "start_time": "2023-07-03T08:03:43.785Z"
   },
   {
    "duration": 79,
    "start_time": "2023-07-03T08:03:43.799Z"
   },
   {
    "duration": 97,
    "start_time": "2023-07-03T08:03:43.880Z"
   },
   {
    "duration": 90,
    "start_time": "2023-07-03T08:03:43.980Z"
   },
   {
    "duration": 13,
    "start_time": "2023-07-03T08:03:44.072Z"
   },
   {
    "duration": 9,
    "start_time": "2023-07-03T08:03:44.087Z"
   },
   {
    "duration": 69,
    "start_time": "2023-07-03T08:03:44.098Z"
   },
   {
    "duration": 103,
    "start_time": "2023-07-03T08:03:44.173Z"
   },
   {
    "duration": 92,
    "start_time": "2023-07-03T08:03:44.278Z"
   },
   {
    "duration": 50,
    "start_time": "2023-07-03T10:41:39.401Z"
   },
   {
    "duration": 1243,
    "start_time": "2023-07-03T10:41:56.564Z"
   },
   {
    "duration": 89,
    "start_time": "2023-07-03T10:41:57.809Z"
   },
   {
    "duration": 15,
    "start_time": "2023-07-03T10:41:57.900Z"
   },
   {
    "duration": 24,
    "start_time": "2023-07-03T10:41:57.917Z"
   },
   {
    "duration": 33,
    "start_time": "2023-07-03T10:41:57.943Z"
   },
   {
    "duration": 88,
    "start_time": "2023-07-03T10:41:57.978Z"
   },
   {
    "duration": 89,
    "start_time": "2023-07-03T10:41:58.069Z"
   },
   {
    "duration": 16,
    "start_time": "2023-07-03T10:41:58.161Z"
   },
   {
    "duration": 3,
    "start_time": "2023-07-03T10:42:04.147Z"
   },
   {
    "duration": 8,
    "start_time": "2023-07-03T10:42:13.055Z"
   },
   {
    "duration": 4,
    "start_time": "2023-07-03T10:42:41.365Z"
   },
   {
    "duration": 3,
    "start_time": "2023-07-03T10:47:12.131Z"
   },
   {
    "duration": 5,
    "start_time": "2023-07-03T10:48:22.569Z"
   },
   {
    "duration": 6,
    "start_time": "2023-07-03T10:48:32.439Z"
   },
   {
    "duration": 6,
    "start_time": "2023-07-03T10:48:34.837Z"
   },
   {
    "duration": 6,
    "start_time": "2023-07-03T10:48:35.289Z"
   },
   {
    "duration": 4,
    "start_time": "2023-07-03T10:48:35.610Z"
   },
   {
    "duration": 6,
    "start_time": "2023-07-03T10:48:35.965Z"
   },
   {
    "duration": 4,
    "start_time": "2023-07-03T10:48:36.438Z"
   },
   {
    "duration": 4,
    "start_time": "2023-07-03T10:48:37.408Z"
   },
   {
    "duration": 7,
    "start_time": "2023-07-03T10:48:38.598Z"
   },
   {
    "duration": 16,
    "start_time": "2023-07-03T10:48:39.150Z"
   },
   {
    "duration": 6,
    "start_time": "2023-07-03T10:48:39.509Z"
   },
   {
    "duration": 12,
    "start_time": "2023-07-03T11:21:17.863Z"
   },
   {
    "duration": 29,
    "start_time": "2023-07-03T11:21:20.334Z"
   },
   {
    "duration": 103,
    "start_time": "2023-07-03T11:25:05.207Z"
   },
   {
    "duration": 10,
    "start_time": "2023-07-03T11:25:07.499Z"
   },
   {
    "duration": 7,
    "start_time": "2023-07-03T11:26:33.026Z"
   },
   {
    "duration": 6,
    "start_time": "2023-07-03T11:26:37.637Z"
   },
   {
    "duration": 10,
    "start_time": "2023-07-03T11:27:59.446Z"
   },
   {
    "duration": 16,
    "start_time": "2023-07-03T11:28:05.388Z"
   }
  ],
  "kernelspec": {
   "display_name": "Python 3 (ipykernel)",
   "language": "python",
   "name": "python3"
  },
  "language_info": {
   "codemirror_mode": {
    "name": "ipython",
    "version": 3
   },
   "file_extension": ".py",
   "mimetype": "text/x-python",
   "name": "python",
   "nbconvert_exporter": "python",
   "pygments_lexer": "ipython3",
   "version": "3.11.3"
  },
  "toc": {
   "base_numbering": 1,
   "nav_menu": {},
   "number_sections": true,
   "sideBar": true,
   "skip_h1_title": true,
   "title_cell": "Содержание",
   "title_sidebar": "Contents",
   "toc_cell": true,
   "toc_position": {},
   "toc_section_display": true,
   "toc_window_display": false
  }
 },
 "nbformat": 4,
 "nbformat_minor": 2
}
