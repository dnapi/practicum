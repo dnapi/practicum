{
 "cells": [
  {
   "cell_type": "markdown",
   "metadata": {
    "toc": true
   },
   "source": [
    "<h1>Содержание<span class=\"tocSkip\"></span></h1>\n",
    "<div class=\"toc\"><ul class=\"toc-item\"><li><span><a href=\"#Подготовка\" data-toc-modified-id=\"Подготовка-1\"><span class=\"toc-item-num\">1&nbsp;&nbsp;</span>Подготовка</a></span></li><li><span><a href=\"#Анализ\" data-toc-modified-id=\"Анализ-2\"><span class=\"toc-item-num\">2&nbsp;&nbsp;</span>Анализ</a></span></li><li><span><a href=\"#Обучение\" data-toc-modified-id=\"Обучение-3\"><span class=\"toc-item-num\">3&nbsp;&nbsp;</span>Обучение</a></span><ul class=\"toc-item\"><li><span><a href=\"#создание-признаков\" data-toc-modified-id=\"создание-признаков-3.1\"><span class=\"toc-item-num\">3.1&nbsp;&nbsp;</span>создание признаков</a></span></li><li><span><a href=\"#Разбивка-данных\" data-toc-modified-id=\"Разбивка-данных-3.2\"><span class=\"toc-item-num\">3.2&nbsp;&nbsp;</span>Разбивка данных</a></span></li><li><span><a href=\"#Маштабирование\" data-toc-modified-id=\"Маштабирование-3.3\"><span class=\"toc-item-num\">3.3&nbsp;&nbsp;</span>Маштабирование</a></span></li><li><span><a href=\"#Dummy-model\" data-toc-modified-id=\"Dummy-model-3.4\"><span class=\"toc-item-num\">3.4&nbsp;&nbsp;</span>Dummy model</a></span></li><li><span><a href=\"#Linear-model\" data-toc-modified-id=\"Linear-model-3.5\"><span class=\"toc-item-num\">3.5&nbsp;&nbsp;</span>Linear model</a></span></li><li><span><a href=\"#Decision-tree\" data-toc-modified-id=\"Decision-tree-3.6\"><span class=\"toc-item-num\">3.6&nbsp;&nbsp;</span>Decision tree</a></span></li><li><span><a href=\"#Random-forest\" data-toc-modified-id=\"Random-forest-3.7\"><span class=\"toc-item-num\">3.7&nbsp;&nbsp;</span>Random forest</a></span></li><li><span><a href=\"#Вывод\" data-toc-modified-id=\"Вывод-3.8\"><span class=\"toc-item-num\">3.8&nbsp;&nbsp;</span>Вывод</a></span></li></ul></li><li><span><a href=\"#Тестирование\" data-toc-modified-id=\"Тестирование-4\"><span class=\"toc-item-num\">4&nbsp;&nbsp;</span>Тестирование</a></span></li></ul></div>"
   ]
  },
  {
   "cell_type": "markdown",
   "metadata": {},
   "source": [
    "#  Прогнозирование заказов такси"
   ]
  },
  {
   "cell_type": "markdown",
   "metadata": {},
   "source": [
    "Компания «Чётенькое такси» собрала исторические данные о заказах такси в аэропортах. \n",
    "Cтроится модель для такого предсказания количество заказов такси на следующий час для привлечения больше водителей в период пиковой нагрузки.\n",
    "\n",
    "Значение метрики *RMSE* на тестовой выборке должно быть не больше 48.\n",
    "\n",
    "Загружаются данные и выполняется их ресемплирование по одному часу. Проводится анализ данных. Рассматривается ряд моделей с подбором гиперпараметров.  Данные проверяются на тестовой выборке (10%)."
   ]
  },
  {
   "cell_type": "markdown",
   "metadata": {},
   "source": [
    "## Подготовка"
   ]
  },
  {
   "cell_type": "code",
   "execution_count": 1,
   "metadata": {},
   "outputs": [],
   "source": [
    "import pandas as pd\n",
    "import numpy as np\n",
    "import matplotlib.pyplot as plt\n",
    "\n",
    "from statsmodels.tsa.seasonal import seasonal_decompose\n",
    "\n",
    "# data preparation\n",
    "from sklearn.model_selection import train_test_split\n",
    "from sklearn.preprocessing import StandardScaler\n",
    "\n",
    "# models\n",
    "from sklearn.linear_model import LinearRegression\n",
    "from sklearn.dummy import DummyRegressor\n",
    "from sklearn.ensemble import RandomForestRegressor\n",
    "from sklearn.tree import DecisionTreeRegressor\n",
    "\n",
    "from sklearn.metrics import mean_squared_error\n",
    "from sklearn.model_selection import GridSearchCV\n",
    "from sklearn.model_selection import StratifiedKFold\n",
    "\n",
    "from catboost import CatBoostRegressor\n",
    "from catboost import cv, Pool"
   ]
  },
  {
   "cell_type": "code",
   "execution_count": 2,
   "metadata": {},
   "outputs": [],
   "source": [
    "try:\n",
    "    data = pd.read_csv('taxi.csv',index_col=[0], parse_dates=[0])\n",
    "except:\n",
    "    data=pd.read_csv('https://code.s3.yandex.net/datasets/taxi.csv', index_col=[0], parse_dates=[0])"
   ]
  },
  {
   "cell_type": "code",
   "execution_count": 3,
   "metadata": {},
   "outputs": [],
   "source": [
    "data = data.resample('1H').sum()"
   ]
  },
  {
   "cell_type": "code",
   "execution_count": 4,
   "metadata": {},
   "outputs": [
    {
     "name": "stdout",
     "output_type": "stream",
     "text": [
      "<class 'pandas.core.frame.DataFrame'>\n",
      "DatetimeIndex: 4416 entries, 2018-03-01 00:00:00 to 2018-08-31 23:00:00\n",
      "Freq: H\n",
      "Data columns (total 1 columns):\n",
      " #   Column      Non-Null Count  Dtype\n",
      "---  ------      --------------  -----\n",
      " 0   num_orders  4416 non-null   int64\n",
      "dtypes: int64(1)\n",
      "memory usage: 69.0 KB\n"
     ]
    }
   ],
   "source": [
    "data.info()"
   ]
  },
  {
   "cell_type": "code",
   "execution_count": 5,
   "metadata": {},
   "outputs": [
    {
     "data": {
      "text/html": [
       "<div>\n",
       "<style scoped>\n",
       "    .dataframe tbody tr th:only-of-type {\n",
       "        vertical-align: middle;\n",
       "    }\n",
       "\n",
       "    .dataframe tbody tr th {\n",
       "        vertical-align: top;\n",
       "    }\n",
       "\n",
       "    .dataframe thead th {\n",
       "        text-align: right;\n",
       "    }\n",
       "</style>\n",
       "<table border=\"1\" class=\"dataframe\">\n",
       "  <thead>\n",
       "    <tr style=\"text-align: right;\">\n",
       "      <th></th>\n",
       "      <th>num_orders</th>\n",
       "    </tr>\n",
       "    <tr>\n",
       "      <th>datetime</th>\n",
       "      <th></th>\n",
       "    </tr>\n",
       "  </thead>\n",
       "  <tbody>\n",
       "    <tr>\n",
       "      <th>2018-03-01 00:00:00</th>\n",
       "      <td>124</td>\n",
       "    </tr>\n",
       "    <tr>\n",
       "      <th>2018-03-01 01:00:00</th>\n",
       "      <td>85</td>\n",
       "    </tr>\n",
       "    <tr>\n",
       "      <th>2018-03-01 02:00:00</th>\n",
       "      <td>71</td>\n",
       "    </tr>\n",
       "    <tr>\n",
       "      <th>2018-03-01 03:00:00</th>\n",
       "      <td>66</td>\n",
       "    </tr>\n",
       "    <tr>\n",
       "      <th>2018-03-01 04:00:00</th>\n",
       "      <td>43</td>\n",
       "    </tr>\n",
       "  </tbody>\n",
       "</table>\n",
       "</div>"
      ],
      "text/plain": [
       "                     num_orders\n",
       "datetime                       \n",
       "2018-03-01 00:00:00         124\n",
       "2018-03-01 01:00:00          85\n",
       "2018-03-01 02:00:00          71\n",
       "2018-03-01 03:00:00          66\n",
       "2018-03-01 04:00:00          43"
      ]
     },
     "execution_count": 5,
     "metadata": {},
     "output_type": "execute_result"
    }
   ],
   "source": [
    "data.head(5)"
   ]
  },
  {
   "cell_type": "code",
   "execution_count": 6,
   "metadata": {},
   "outputs": [
    {
     "data": {
      "text/plain": [
       "0.0"
      ]
     },
     "execution_count": 6,
     "metadata": {},
     "output_type": "execute_result"
    }
   ],
   "source": [
    "data.index.duplicated().mean()"
   ]
  },
  {
   "cell_type": "code",
   "execution_count": 7,
   "metadata": {},
   "outputs": [
    {
     "data": {
      "text/html": [
       "<div>\n",
       "<style scoped>\n",
       "    .dataframe tbody tr th:only-of-type {\n",
       "        vertical-align: middle;\n",
       "    }\n",
       "\n",
       "    .dataframe tbody tr th {\n",
       "        vertical-align: top;\n",
       "    }\n",
       "\n",
       "    .dataframe thead th {\n",
       "        text-align: right;\n",
       "    }\n",
       "</style>\n",
       "<table border=\"1\" class=\"dataframe\">\n",
       "  <thead>\n",
       "    <tr style=\"text-align: right;\">\n",
       "      <th></th>\n",
       "      <th>num_orders</th>\n",
       "    </tr>\n",
       "  </thead>\n",
       "  <tbody>\n",
       "    <tr>\n",
       "      <th>count</th>\n",
       "      <td>4416.000000</td>\n",
       "    </tr>\n",
       "    <tr>\n",
       "      <th>mean</th>\n",
       "      <td>84.422781</td>\n",
       "    </tr>\n",
       "    <tr>\n",
       "      <th>std</th>\n",
       "      <td>45.023853</td>\n",
       "    </tr>\n",
       "    <tr>\n",
       "      <th>min</th>\n",
       "      <td>0.000000</td>\n",
       "    </tr>\n",
       "    <tr>\n",
       "      <th>25%</th>\n",
       "      <td>54.000000</td>\n",
       "    </tr>\n",
       "    <tr>\n",
       "      <th>50%</th>\n",
       "      <td>78.000000</td>\n",
       "    </tr>\n",
       "    <tr>\n",
       "      <th>75%</th>\n",
       "      <td>107.000000</td>\n",
       "    </tr>\n",
       "    <tr>\n",
       "      <th>max</th>\n",
       "      <td>462.000000</td>\n",
       "    </tr>\n",
       "  </tbody>\n",
       "</table>\n",
       "</div>"
      ],
      "text/plain": [
       "        num_orders\n",
       "count  4416.000000\n",
       "mean     84.422781\n",
       "std      45.023853\n",
       "min       0.000000\n",
       "25%      54.000000\n",
       "50%      78.000000\n",
       "75%     107.000000\n",
       "max     462.000000"
      ]
     },
     "execution_count": 7,
     "metadata": {},
     "output_type": "execute_result"
    }
   ],
   "source": [
    "data.describe()"
   ]
  },
  {
   "cell_type": "code",
   "execution_count": 8,
   "metadata": {},
   "outputs": [
    {
     "data": {
      "text/plain": [
       "True"
      ]
     },
     "execution_count": 8,
     "metadata": {},
     "output_type": "execute_result"
    }
   ],
   "source": [
    "data.index.is_monotonic"
   ]
  },
  {
   "cell_type": "code",
   "execution_count": 9,
   "metadata": {},
   "outputs": [
    {
     "data": {
      "text/plain": [
       "True"
      ]
     },
     "execution_count": 9,
     "metadata": {},
     "output_type": "execute_result"
    }
   ],
   "source": [
    "data.index.is_unique "
   ]
  },
  {
   "cell_type": "markdown",
   "metadata": {},
   "source": [
    "**Вывод**\n",
    "\n",
    "при подговке данных анамалий не обнаружено. "
   ]
  },
  {
   "cell_type": "markdown",
   "metadata": {},
   "source": [
    "## Анализ"
   ]
  },
  {
   "cell_type": "code",
   "execution_count": 10,
   "metadata": {},
   "outputs": [
    {
     "data": {
      "image/png": "[encoded data removed]",
      "text/plain": [
       "<Figure size 432x288 with 1 Axes>"
      ]
     },
     "metadata": {
      "needs_background": "light"
     },
     "output_type": "display_data"
    }
   ],
   "source": [
    "data.plot()\n",
    "#plt.title('Тренд')\n",
    "plt.xlabel('Дата')\n",
    "plt.ylabel('Количесво заказов такси');"
   ]
  },
  {
   "cell_type": "code",
   "execution_count": 11,
   "metadata": {},
   "outputs": [
    {
     "data": {
      "image/png": "[encoded data removed]",
      "text/plain": [
       "<Figure size 432x288 with 1 Axes>"
      ]
     },
     "metadata": {
      "needs_background": "light"
     },
     "output_type": "display_data"
    }
   ],
   "source": [
    "data['2018-07-01':'2018-07-14'].plot()\n",
    "#plt.title('Тренд')\n",
    "plt.xlabel('Дата')\n",
    "plt.ylabel('Количесво заказов такси');"
   ]
  },
  {
   "cell_type": "markdown",
   "metadata": {},
   "source": [
    "Визуализация основного ряда показывет, что общая динамика показывает небольшой рост."
   ]
  },
  {
   "cell_type": "code",
   "execution_count": 12,
   "metadata": {},
   "outputs": [
    {
     "data": {
      "image/png": "[encoded data removed]",
      "text/plain": [
       "<Figure size 864x1296 with 3 Axes>"
      ]
     },
     "metadata": {
      "needs_background": "light"
     },
     "output_type": "display_data"
    }
   ],
   "source": [
    "decomposed = seasonal_decompose(data)\n",
    "\n",
    "#plt.figure(figsize=(6, 8))\n",
    "plt.figure(figsize=(12, 18))\n",
    "\n",
    "plt.subplot(3,1,1)\n",
    "decomposed.trend.plot(ax=plt.gca())\n",
    "plt.title('Тренд')\n",
    "plt.xlabel('Дата')\n",
    "plt.ylabel('Количесво заказов такси')\n",
    "\n",
    "plt.subplot(3,1,2)\n",
    "decomposed.seasonal['2018-07-01':'2018-07-3'].plot(ax=plt.gca())\n",
    "plt.title('Сезонность')\n",
    "plt.xlabel('Дата')\n",
    "plt.ylabel('Количесво заказов такси')\n",
    "\n",
    "plt.subplot(3,1,3)\n",
    "decomposed.resid['2018-07-01':'2018-07-3'].plot(ax=plt.gca())\n",
    "plt.title('Остатки')\n",
    "plt.xlabel('Дата')\n",
    "plt.ylabel('Количесво заказов такси')\n",
    "plt.tight_layout()"
   ]
  },
  {
   "cell_type": "code",
   "execution_count": 13,
   "metadata": {},
   "outputs": [
    {
     "data": {
      "image/png": "[encoded data removed]",
      "text/plain": [
       "<Figure size 432x288 with 1 Axes>"
      ]
     },
     "metadata": {
      "needs_background": "light"
     },
     "output_type": "display_data"
    }
   ],
   "source": [
    "data['rolling']=decomposed.trend.shift().rolling(24*14).mean();\n",
    "data[['num_orders','rolling']].plot();\n",
    "plt.title('Скользащее среднее и исходные данные');\n",
    "plt.xlabel('Дата');\n",
    "plt.ylabel('Количесво заказов такси');"
   ]
  },
  {
   "cell_type": "code",
   "execution_count": 14,
   "metadata": {},
   "outputs": [],
   "source": [
    "from statsmodels.tsa.stattools import adfuller"
   ]
  },
  {
   "cell_type": "code",
   "execution_count": 15,
   "metadata": {},
   "outputs": [
    {
     "name": "stdout",
     "output_type": "stream",
     "text": [
      "Критерий ADF: -3.068924\n",
      "P-значение: 0.028940\n"
     ]
    }
   ],
   "source": [
    "result = adfuller(data['num_orders'], autolag='AIC')\n",
    "print('Критерий ADF: %f' % result[0])\n",
    "print('P-значение: %f' % result[1])"
   ]
  },
  {
   "cell_type": "code",
   "execution_count": 16,
   "metadata": {},
   "outputs": [
    {
     "name": "stdout",
     "output_type": "stream",
     "text": [
      "Критические значения:\n",
      "\t1%: -3.432\n",
      "\t5%: -2.862\n",
      "\t10%: -2.567\n",
      "Нулевая гипотеза отвергнута – Временной ряд стационарен\n",
      "Нулевая гипотеза не отвергнута – Временной ряд не стационарен\n"
     ]
    }
   ],
   "source": [
    "print('Критические значения:')\n",
    "for key, value in result[4].items():\n",
    "    print('\\t%s: %.3f' % (key, value))\n",
    "if result[0] < result[4][\"5%\"]:\n",
    "    print (\"Нулевая гипотеза отвергнута – Временной ряд стационарен\")\n",
    "else:\n",
    "    print (\"Нулевая гипотеза не отвергнута – Временной ряд не стационарен\")\n",
    "if result[0] < result[4][\"1%\"]:\n",
    "    print (\"Нулевая гипотеза отвергнута – Временной ряд стационарен\")\n",
    "else:\n",
    "    print (\"Нулевая гипотеза не отвергнута – Временной ряд не стационарен\")"
   ]
  },
  {
   "cell_type": "markdown",
   "metadata": {},
   "source": [
    "**Выводы**\n",
    "\n",
    "Визуализация основного ряда показывет, что общая динамика показывает рост. \n",
    "\n",
    "Анализ данных показывает что тренд ростущий и сезонностью с периодом в один день.\n",
    "К вечеру наблюдается рост заказов с пиком в полночь и просадкой в 6 утра. \n",
    "Возможное объяснение, это частота рейсов высокая вечером и минимальная ночью.\n",
    "\n",
    "Стационарность ряда проанализирована с  помощью сглаживания скользящим средним и последующей визуализацией сглаженного ряда в сравнении с исходным временным рядом. Скользящее среднее растет со временем и требует дополнительной проверки на стационарнотсь. Тест Дики-Фуллера опровергает нулевою гипотизу нестационарности  на уровне достоверности 5%, но на уровне достоверности 1% ряд нестационарен. "
   ]
  },
  {
   "cell_type": "markdown",
   "metadata": {},
   "source": [
    "## Обучение"
   ]
  },
  {
   "cell_type": "markdown",
   "metadata": {},
   "source": [
    "### создание признаков"
   ]
  },
  {
   "cell_type": "code",
   "execution_count": 17,
   "metadata": {},
   "outputs": [],
   "source": [
    "data['rolling_7'] = data['num_orders'].shift().rolling(7).mean()"
   ]
  },
  {
   "cell_type": "code",
   "execution_count": 18,
   "metadata": {},
   "outputs": [],
   "source": [
    "data['rolling_12'] = data['num_orders'].shift().rolling(12).mean()"
   ]
  },
  {
   "cell_type": "code",
   "execution_count": 19,
   "metadata": {},
   "outputs": [],
   "source": [
    "def add_lag(data,num):\n",
    "    for i in range(1,num+1):\n",
    "        data['lag_'+str(i)] = data['num_orders'].shift(i)"
   ]
  },
  {
   "cell_type": "code",
   "execution_count": 20,
   "metadata": {
    "scrolled": true
   },
   "outputs": [
    {
     "data": {
      "text/plain": [
       "Int64Index([2018], dtype='int64', name='datetime')"
      ]
     },
     "execution_count": 20,
     "metadata": {},
     "output_type": "execute_result"
    }
   ],
   "source": [
    "data.index.year.unique()"
   ]
  },
  {
   "cell_type": "code",
   "execution_count": 21,
   "metadata": {},
   "outputs": [],
   "source": [
    "data['hour'] = data.index.hour\n",
    "data['day']=data.index.day\n",
    "#data['month']=data.index.month\n",
    "data['dayofweek'] = data.index.dayofweek\n",
    "add_lag(data,24)\n",
    "data = data.dropna()"
   ]
  },
  {
   "cell_type": "code",
   "execution_count": 22,
   "metadata": {},
   "outputs": [
    {
     "data": {
      "text/html": [
       "<div>\n",
       "<style scoped>\n",
       "    .dataframe tbody tr th:only-of-type {\n",
       "        vertical-align: middle;\n",
       "    }\n",
       "\n",
       "    .dataframe tbody tr th {\n",
       "        vertical-align: top;\n",
       "    }\n",
       "\n",
       "    .dataframe thead th {\n",
       "        text-align: right;\n",
       "    }\n",
       "</style>\n",
       "<table border=\"1\" class=\"dataframe\">\n",
       "  <thead>\n",
       "    <tr style=\"text-align: right;\">\n",
       "      <th></th>\n",
       "      <th>num_orders</th>\n",
       "      <th>rolling</th>\n",
       "      <th>rolling_7</th>\n",
       "      <th>rolling_12</th>\n",
       "      <th>hour</th>\n",
       "      <th>day</th>\n",
       "      <th>dayofweek</th>\n",
       "      <th>lag_1</th>\n",
       "      <th>lag_2</th>\n",
       "      <th>lag_3</th>\n",
       "      <th>...</th>\n",
       "      <th>lag_15</th>\n",
       "      <th>lag_16</th>\n",
       "      <th>lag_17</th>\n",
       "      <th>lag_18</th>\n",
       "      <th>lag_19</th>\n",
       "      <th>lag_20</th>\n",
       "      <th>lag_21</th>\n",
       "      <th>lag_22</th>\n",
       "      <th>lag_23</th>\n",
       "      <th>lag_24</th>\n",
       "    </tr>\n",
       "    <tr>\n",
       "      <th>datetime</th>\n",
       "      <th></th>\n",
       "      <th></th>\n",
       "      <th></th>\n",
       "      <th></th>\n",
       "      <th></th>\n",
       "      <th></th>\n",
       "      <th></th>\n",
       "      <th></th>\n",
       "      <th></th>\n",
       "      <th></th>\n",
       "      <th></th>\n",
       "      <th></th>\n",
       "      <th></th>\n",
       "      <th></th>\n",
       "      <th></th>\n",
       "      <th></th>\n",
       "      <th></th>\n",
       "      <th></th>\n",
       "      <th></th>\n",
       "      <th></th>\n",
       "      <th></th>\n",
       "    </tr>\n",
       "  </thead>\n",
       "  <tbody>\n",
       "    <tr>\n",
       "      <th>2018-03-15 12:00:00</th>\n",
       "      <td>57</td>\n",
       "      <td>56.368924</td>\n",
       "      <td>36.000000</td>\n",
       "      <td>47.666667</td>\n",
       "      <td>12</td>\n",
       "      <td>15</td>\n",
       "      <td>3</td>\n",
       "      <td>58.0</td>\n",
       "      <td>54.0</td>\n",
       "      <td>65.0</td>\n",
       "      <td>...</td>\n",
       "      <td>77.0</td>\n",
       "      <td>83.0</td>\n",
       "      <td>46.0</td>\n",
       "      <td>65.0</td>\n",
       "      <td>57.0</td>\n",
       "      <td>59.0</td>\n",
       "      <td>51.0</td>\n",
       "      <td>72.0</td>\n",
       "      <td>67.0</td>\n",
       "      <td>41.0</td>\n",
       "    </tr>\n",
       "    <tr>\n",
       "      <th>2018-03-15 13:00:00</th>\n",
       "      <td>46</td>\n",
       "      <td>56.372706</td>\n",
       "      <td>41.285714</td>\n",
       "      <td>42.166667</td>\n",
       "      <td>13</td>\n",
       "      <td>15</td>\n",
       "      <td>3</td>\n",
       "      <td>57.0</td>\n",
       "      <td>58.0</td>\n",
       "      <td>54.0</td>\n",
       "      <td>...</td>\n",
       "      <td>81.0</td>\n",
       "      <td>77.0</td>\n",
       "      <td>83.0</td>\n",
       "      <td>46.0</td>\n",
       "      <td>65.0</td>\n",
       "      <td>57.0</td>\n",
       "      <td>59.0</td>\n",
       "      <td>51.0</td>\n",
       "      <td>72.0</td>\n",
       "      <td>67.0</td>\n",
       "    </tr>\n",
       "    <tr>\n",
       "      <th>2018-03-15 14:00:00</th>\n",
       "      <td>64</td>\n",
       "      <td>56.378658</td>\n",
       "      <td>47.142857</td>\n",
       "      <td>38.916667</td>\n",
       "      <td>14</td>\n",
       "      <td>15</td>\n",
       "      <td>3</td>\n",
       "      <td>46.0</td>\n",
       "      <td>57.0</td>\n",
       "      <td>58.0</td>\n",
       "      <td>...</td>\n",
       "      <td>65.0</td>\n",
       "      <td>81.0</td>\n",
       "      <td>77.0</td>\n",
       "      <td>83.0</td>\n",
       "      <td>46.0</td>\n",
       "      <td>65.0</td>\n",
       "      <td>57.0</td>\n",
       "      <td>59.0</td>\n",
       "      <td>51.0</td>\n",
       "      <td>72.0</td>\n",
       "    </tr>\n",
       "    <tr>\n",
       "      <th>2018-03-15 15:00:00</th>\n",
       "      <td>67</td>\n",
       "      <td>56.384239</td>\n",
       "      <td>53.857143</td>\n",
       "      <td>39.666667</td>\n",
       "      <td>15</td>\n",
       "      <td>15</td>\n",
       "      <td>3</td>\n",
       "      <td>64.0</td>\n",
       "      <td>46.0</td>\n",
       "      <td>57.0</td>\n",
       "      <td>...</td>\n",
       "      <td>123.0</td>\n",
       "      <td>65.0</td>\n",
       "      <td>81.0</td>\n",
       "      <td>77.0</td>\n",
       "      <td>83.0</td>\n",
       "      <td>46.0</td>\n",
       "      <td>65.0</td>\n",
       "      <td>57.0</td>\n",
       "      <td>59.0</td>\n",
       "      <td>51.0</td>\n",
       "    </tr>\n",
       "    <tr>\n",
       "      <th>2018-03-15 16:00:00</th>\n",
       "      <td>60</td>\n",
       "      <td>56.387773</td>\n",
       "      <td>58.714286</td>\n",
       "      <td>41.750000</td>\n",
       "      <td>16</td>\n",
       "      <td>15</td>\n",
       "      <td>3</td>\n",
       "      <td>67.0</td>\n",
       "      <td>64.0</td>\n",
       "      <td>46.0</td>\n",
       "      <td>...</td>\n",
       "      <td>85.0</td>\n",
       "      <td>123.0</td>\n",
       "      <td>65.0</td>\n",
       "      <td>81.0</td>\n",
       "      <td>77.0</td>\n",
       "      <td>83.0</td>\n",
       "      <td>46.0</td>\n",
       "      <td>65.0</td>\n",
       "      <td>57.0</td>\n",
       "      <td>59.0</td>\n",
       "    </tr>\n",
       "  </tbody>\n",
       "</table>\n",
       "<p>5 rows × 31 columns</p>\n",
       "</div>"
      ],
      "text/plain": [
       "                     num_orders    rolling  rolling_7  rolling_12  hour  day  \\\n",
       "datetime                                                                       \n",
       "2018-03-15 12:00:00          57  56.368924  36.000000   47.666667    12   15   \n",
       "2018-03-15 13:00:00          46  56.372706  41.285714   42.166667    13   15   \n",
       "2018-03-15 14:00:00          64  56.378658  47.142857   38.916667    14   15   \n",
       "2018-03-15 15:00:00          67  56.384239  53.857143   39.666667    15   15   \n",
       "2018-03-15 16:00:00          60  56.387773  58.714286   41.750000    16   15   \n",
       "\n",
       "                     dayofweek  lag_1  lag_2  lag_3  ...  lag_15  lag_16  \\\n",
       "datetime                                             ...                   \n",
       "2018-03-15 12:00:00          3   58.0   54.0   65.0  ...    77.0    83.0   \n",
       "2018-03-15 13:00:00          3   57.0   58.0   54.0  ...    81.0    77.0   \n",
       "2018-03-15 14:00:00          3   46.0   57.0   58.0  ...    65.0    81.0   \n",
       "2018-03-15 15:00:00          3   64.0   46.0   57.0  ...   123.0    65.0   \n",
       "2018-03-15 16:00:00          3   67.0   64.0   46.0  ...    85.0   123.0   \n",
       "\n",
       "                     lag_17  lag_18  lag_19  lag_20  lag_21  lag_22  lag_23  \\\n",
       "datetime                                                                      \n",
       "2018-03-15 12:00:00    46.0    65.0    57.0    59.0    51.0    72.0    67.0   \n",
       "2018-03-15 13:00:00    83.0    46.0    65.0    57.0    59.0    51.0    72.0   \n",
       "2018-03-15 14:00:00    77.0    83.0    46.0    65.0    57.0    59.0    51.0   \n",
       "2018-03-15 15:00:00    81.0    77.0    83.0    46.0    65.0    57.0    59.0   \n",
       "2018-03-15 16:00:00    65.0    81.0    77.0    83.0    46.0    65.0    57.0   \n",
       "\n",
       "                     lag_24  \n",
       "datetime                     \n",
       "2018-03-15 12:00:00    41.0  \n",
       "2018-03-15 13:00:00    67.0  \n",
       "2018-03-15 14:00:00    72.0  \n",
       "2018-03-15 15:00:00    51.0  \n",
       "2018-03-15 16:00:00    59.0  \n",
       "\n",
       "[5 rows x 31 columns]"
      ]
     },
     "execution_count": 22,
     "metadata": {},
     "output_type": "execute_result"
    }
   ],
   "source": [
    "data.head(5)"
   ]
  },
  {
   "cell_type": "code",
   "execution_count": 23,
   "metadata": {},
   "outputs": [
    {
     "name": "stdout",
     "output_type": "stream",
     "text": [
      "<class 'pandas.core.frame.DataFrame'>\n",
      "DatetimeIndex: 4057 entries, 2018-03-15 12:00:00 to 2018-08-31 12:00:00\n",
      "Freq: H\n",
      "Data columns (total 31 columns):\n",
      " #   Column      Non-Null Count  Dtype  \n",
      "---  ------      --------------  -----  \n",
      " 0   num_orders  4057 non-null   int64  \n",
      " 1   rolling     4057 non-null   float64\n",
      " 2   rolling_7   4057 non-null   float64\n",
      " 3   rolling_12  4057 non-null   float64\n",
      " 4   hour        4057 non-null   int64  \n",
      " 5   day         4057 non-null   int64  \n",
      " 6   dayofweek   4057 non-null   int64  \n",
      " 7   lag_1       4057 non-null   float64\n",
      " 8   lag_2       4057 non-null   float64\n",
      " 9   lag_3       4057 non-null   float64\n",
      " 10  lag_4       4057 non-null   float64\n",
      " 11  lag_5       4057 non-null   float64\n",
      " 12  lag_6       4057 non-null   float64\n",
      " 13  lag_7       4057 non-null   float64\n",
      " 14  lag_8       4057 non-null   float64\n",
      " 15  lag_9       4057 non-null   float64\n",
      " 16  lag_10      4057 non-null   float64\n",
      " 17  lag_11      4057 non-null   float64\n",
      " 18  lag_12      4057 non-null   float64\n",
      " 19  lag_13      4057 non-null   float64\n",
      " 20  lag_14      4057 non-null   float64\n",
      " 21  lag_15      4057 non-null   float64\n",
      " 22  lag_16      4057 non-null   float64\n",
      " 23  lag_17      4057 non-null   float64\n",
      " 24  lag_18      4057 non-null   float64\n",
      " 25  lag_19      4057 non-null   float64\n",
      " 26  lag_20      4057 non-null   float64\n",
      " 27  lag_21      4057 non-null   float64\n",
      " 28  lag_22      4057 non-null   float64\n",
      " 29  lag_23      4057 non-null   float64\n",
      " 30  lag_24      4057 non-null   float64\n",
      "dtypes: float64(27), int64(4)\n",
      "memory usage: 1014.2 KB\n"
     ]
    }
   ],
   "source": [
    "data.info()"
   ]
  },
  {
   "cell_type": "markdown",
   "metadata": {},
   "source": [
    "### Разбивка данных"
   ]
  },
  {
   "cell_type": "code",
   "execution_count": 24,
   "metadata": {},
   "outputs": [],
   "source": [
    "train_valid, test = train_test_split(data, shuffle=False, test_size=0.1)\n",
    "train, valid = train_test_split(train_valid, shuffle=False, test_size=0.1)"
   ]
  },
  {
   "cell_type": "code",
   "execution_count": 25,
   "metadata": {},
   "outputs": [
    {
     "data": {
      "text/plain": [
       "['rolling',\n",
       " 'rolling_7',\n",
       " 'rolling_12',\n",
       " 'hour',\n",
       " 'day',\n",
       " 'dayofweek',\n",
       " 'lag_1',\n",
       " 'lag_2',\n",
       " 'lag_3',\n",
       " 'lag_4',\n",
       " 'lag_5',\n",
       " 'lag_6',\n",
       " 'lag_7',\n",
       " 'lag_8',\n",
       " 'lag_9',\n",
       " 'lag_10',\n",
       " 'lag_11',\n",
       " 'lag_12',\n",
       " 'lag_13',\n",
       " 'lag_14',\n",
       " 'lag_15',\n",
       " 'lag_16',\n",
       " 'lag_17',\n",
       " 'lag_18',\n",
       " 'lag_19',\n",
       " 'lag_20',\n",
       " 'lag_21',\n",
       " 'lag_22',\n",
       " 'lag_23',\n",
       " 'lag_24']"
      ]
     },
     "execution_count": 25,
     "metadata": {},
     "output_type": "execute_result"
    }
   ],
   "source": [
    "y='num_orders'\n",
    "X=list(train.columns.drop(y))\n",
    "X"
   ]
  },
  {
   "cell_type": "markdown",
   "metadata": {},
   "source": [
    "### Маштабирование"
   ]
  },
  {
   "cell_type": "code",
   "execution_count": 26,
   "metadata": {},
   "outputs": [],
   "source": [
    "scalar= StandardScaler()\n",
    "pd.options.mode.chained_assignment = None\n",
    "train[X] = scalar.fit_transform(train[X], train[y])\n",
    "valid[X] = scalar.transform(valid[X])\n",
    "test[X] = scalar.transform(test[X])"
   ]
  },
  {
   "cell_type": "code",
   "execution_count": 27,
   "metadata": {},
   "outputs": [],
   "source": [
    "rmse_list_valid={}"
   ]
  },
  {
   "cell_type": "markdown",
   "metadata": {},
   "source": [
    "### Dummy model"
   ]
  },
  {
   "cell_type": "code",
   "execution_count": 28,
   "metadata": {},
   "outputs": [
    {
     "data": {
      "text/plain": [
       "DummyRegressor()"
      ]
     },
     "execution_count": 28,
     "metadata": {},
     "output_type": "execute_result"
    }
   ],
   "source": [
    "model_dummy = DummyRegressor(strategy='mean')\n",
    "model_dummy.fit(train[X],train[y])"
   ]
  },
  {
   "cell_type": "code",
   "execution_count": 29,
   "metadata": {},
   "outputs": [],
   "source": [
    "prediction=model_dummy.predict(valid[X])\n",
    "rmse=mean_squared_error(valid[y],prediction,squared=False)"
   ]
  },
  {
   "cell_type": "code",
   "execution_count": 30,
   "metadata": {},
   "outputs": [
    {
     "data": {
      "text/plain": [
       "56.816768687618506"
      ]
     },
     "execution_count": 30,
     "metadata": {},
     "output_type": "execute_result"
    }
   ],
   "source": [
    "rmse_list_valid['dummy']=rmse.round(2)\n",
    "rmse"
   ]
  },
  {
   "cell_type": "code",
   "execution_count": 31,
   "metadata": {},
   "outputs": [
    {
     "data": {
      "text/plain": [
       "{'dummy': 56.82}"
      ]
     },
     "execution_count": 31,
     "metadata": {},
     "output_type": "execute_result"
    }
   ],
   "source": [
    "rmse_list_valid"
   ]
  },
  {
   "cell_type": "markdown",
   "metadata": {},
   "source": [
    "### Linear model"
   ]
  },
  {
   "cell_type": "code",
   "execution_count": 32,
   "metadata": {},
   "outputs": [
    {
     "data": {
      "text/plain": [
       "LinearRegression()"
      ]
     },
     "execution_count": 32,
     "metadata": {},
     "output_type": "execute_result"
    }
   ],
   "source": [
    "model = LinearRegression()\n",
    "model.fit(train[X],train[y])"
   ]
  },
  {
   "cell_type": "code",
   "execution_count": 33,
   "metadata": {},
   "outputs": [],
   "source": [
    "prediction=model.predict(valid[X])\n",
    "rmse=mean_squared_error(valid[y],prediction,squared=False)"
   ]
  },
  {
   "cell_type": "code",
   "execution_count": 34,
   "metadata": {},
   "outputs": [
    {
     "data": {
      "text/plain": [
       "34.924840686786474"
      ]
     },
     "execution_count": 34,
     "metadata": {},
     "output_type": "execute_result"
    }
   ],
   "source": [
    "rmse_list_valid['linear']=rmse.round(2)\n",
    "rmse"
   ]
  },
  {
   "cell_type": "code",
   "execution_count": 35,
   "metadata": {},
   "outputs": [
    {
     "data": {
      "text/plain": [
       "{'dummy': 56.82, 'linear': 34.92}"
      ]
     },
     "execution_count": 35,
     "metadata": {},
     "output_type": "execute_result"
    }
   ],
   "source": [
    "rmse_list_valid"
   ]
  },
  {
   "cell_type": "markdown",
   "metadata": {},
   "source": [
    "### Decision tree"
   ]
  },
  {
   "cell_type": "code",
   "execution_count": 36,
   "metadata": {},
   "outputs": [],
   "source": [
    "fitting=True"
   ]
  },
  {
   "cell_type": "code",
   "execution_count": 37,
   "metadata": {},
   "outputs": [],
   "source": [
    "cv_none=[(slice(None), slice(None))]"
   ]
  },
  {
   "cell_type": "code",
   "execution_count": 38,
   "metadata": {},
   "outputs": [
    {
     "name": "stdout",
     "output_type": "stream",
     "text": [
      "Количество моделей 24\n",
      "Fitting 1 folds for each of 24 candidates, totalling 24 fits\n",
      "[CV] END .................max_depth=None, min_samples_leaf=2; total time=   0.1s\n",
      "[CV] END .................max_depth=None, min_samples_leaf=5; total time=   0.1s\n",
      "[CV] END .................max_depth=None, min_samples_leaf=7; total time=   0.1s\n",
      "[CV] END .................max_depth=None, min_samples_leaf=9; total time=   0.1s\n",
      "[CV] END ....................max_depth=2, min_samples_leaf=2; total time=   0.0s\n",
      "[CV] END ....................max_depth=2, min_samples_leaf=5; total time=   0.0s\n",
      "[CV] END ....................max_depth=2, min_samples_leaf=7; total time=   0.0s\n",
      "[CV] END ....................max_depth=2, min_samples_leaf=9; total time=   0.0s\n",
      "[CV] END ....................max_depth=3, min_samples_leaf=2; total time=   0.0s\n",
      "[CV] END ....................max_depth=3, min_samples_leaf=5; total time=   0.0s\n",
      "[CV] END ....................max_depth=3, min_samples_leaf=7; total time=   0.0s\n",
      "[CV] END ....................max_depth=3, min_samples_leaf=9; total time=   0.0s\n",
      "[CV] END ....................max_depth=4, min_samples_leaf=2; total time=   0.0s\n",
      "[CV] END ....................max_depth=4, min_samples_leaf=5; total time=   0.0s\n",
      "[CV] END ....................max_depth=4, min_samples_leaf=7; total time=   0.0s\n",
      "[CV] END ....................max_depth=4, min_samples_leaf=9; total time=   0.0s\n",
      "[CV] END ....................max_depth=5, min_samples_leaf=2; total time=   0.0s\n",
      "[CV] END ....................max_depth=5, min_samples_leaf=5; total time=   0.0s\n",
      "[CV] END ....................max_depth=5, min_samples_leaf=7; total time=   0.0s\n",
      "[CV] END ....................max_depth=5, min_samples_leaf=9; total time=   0.0s\n",
      "[CV] END ....................max_depth=6, min_samples_leaf=2; total time=   0.0s\n",
      "[CV] END ....................max_depth=6, min_samples_leaf=5; total time=   0.0s\n",
      "[CV] END ....................max_depth=6, min_samples_leaf=7; total time=   0.0s\n",
      "[CV] END ....................max_depth=6, min_samples_leaf=9; total time=   0.0s\n",
      "parameters= {'max_depth': None, 'min_samples_leaf': 2}\n",
      "RMSE on validation set  41.65842177078125\n",
      "CPU times: user 971 ms, sys: 0 ns, total: 971 ms\n",
      "Wall time: 977 ms\n"
     ]
    }
   ],
   "source": [
    "%%time \n",
    "\n",
    "if fitting:\n",
    "    parameters_grid = { \n",
    "        #'max_depth':[8,12,16,20], \n",
    "        'max_depth':[None] + [i for i in range(2, 7)],\n",
    "        'min_samples_leaf':[2,5,7,9]\n",
    "        }\n",
    "    print('Количество моделей', np.prod([len(i) for i in parameters_grid.values()]))\n",
    "    model = DecisionTreeRegressor(random_state=12345)\n",
    "    cv_tree = GridSearchCV(estimator=model, param_grid=parameters_grid , cv= cv_none, scoring='neg_mean_squared_error',verbose=2)    \n",
    "    cv_tree.fit(train[X],train[y])\n",
    "    parameters=cv_tree.best_params_\n",
    "    print('parameters=',parameters)\n",
    "    #print('лучший MSE =',np.sqrt(-cv_tree.best_score_))\n",
    "    \n",
    "    prediction_tree=cv_tree.best_estimator_.predict(valid[X])\n",
    "    rmse_tree=mean_squared_error(valid[y],prediction_tree, squared=False)\n",
    "    print('RMSE on validation set ', rmse_tree)\n",
    "    \n",
    "else:\n",
    "    parameters= {'max_depth': 20, 'min_samples_leaf': 2}\n",
    "    rmse_tree=41.66\n",
    "    print('лучший RMSE =', rmse_tree)"
   ]
  },
  {
   "cell_type": "code",
   "execution_count": 39,
   "metadata": {},
   "outputs": [
    {
     "data": {
      "text/plain": [
       "{'max_depth': None, 'min_samples_leaf': 2}"
      ]
     },
     "execution_count": 39,
     "metadata": {},
     "output_type": "execute_result"
    }
   ],
   "source": [
    "parameters"
   ]
  },
  {
   "cell_type": "code",
   "execution_count": 40,
   "metadata": {},
   "outputs": [
    {
     "name": "stdout",
     "output_type": "stream",
     "text": [
      "RMSE  41.65842177078125\n"
     ]
    }
   ],
   "source": [
    "model = DecisionTreeRegressor(random_state=12345,**parameters)\n",
    "model.fit(train[X],train[y])\n",
    "prediction_tree=model.predict(valid[X])\n",
    "rmse_tree=mean_squared_error(valid[y],prediction_tree, squared=False)\n",
    "print('RMSE ', rmse_tree)"
   ]
  },
  {
   "cell_type": "code",
   "execution_count": 41,
   "metadata": {},
   "outputs": [],
   "source": [
    "rmse_list_valid['tree']=rmse_tree.round(2)"
   ]
  },
  {
   "cell_type": "markdown",
   "metadata": {},
   "source": [
    "### Random forest"
   ]
  },
  {
   "cell_type": "code",
   "execution_count": 42,
   "metadata": {},
   "outputs": [],
   "source": [
    "fitting=True"
   ]
  },
  {
   "cell_type": "code",
   "execution_count": 43,
   "metadata": {},
   "outputs": [],
   "source": [
    "cv_none=[(slice(None), slice(None))]"
   ]
  },
  {
   "cell_type": "code",
   "execution_count": 44,
   "metadata": {},
   "outputs": [
    {
     "name": "stdout",
     "output_type": "stream",
     "text": [
      "Количество моделей 54\n",
      "Fitting 1 folds for each of 54 candidates, totalling 54 fits\n",
      "parameters= {'max_depth': None, 'min_samples_split': 2, 'n_estimators': 40}\n",
      "valid set: rmse= 31.04932782197903\n",
      "CPU times: user 36.9 s, sys: 0 ns, total: 36.9 s\n",
      "Wall time: 36.9 s\n"
     ]
    }
   ],
   "source": [
    "%%time\n",
    "\n",
    "if fitting:\n",
    "    parameters_grid = {\n",
    "        'n_estimators': [20,30,40], \n",
    "        #'max_depth': [12,14,16,20], \n",
    "        'max_depth':[None] + [i for i in range(2, 7)],\n",
    "        'min_samples_split': [2, 3, 5]\n",
    "        }\n",
    "    print('Количество моделей', np.prod([len(i) for i in parameters_grid.values()]))\n",
    "    model = RandomForestRegressor(random_state=12345)\n",
    "    cv_forest = GridSearchCV(\n",
    "        estimator=model, \n",
    "        param_grid=parameters_grid , \n",
    "        cv=cv_none, \n",
    "        scoring='neg_mean_squared_error',\n",
    "        verbose=1)\n",
    "    cv_forest.fit(train[X],train[y])\n",
    "    parameters=cv_forest.best_params_\n",
    "    print('parameters=',parameters)\n",
    "    #rmse=np.sqrt(-cv_forest.best_score_)\n",
    "    #print('mean rmse=',rmse)\n",
    "    prediction_forest=cv_forest.best_estimator_.predict(valid[X])\n",
    "    rmse=mean_squared_error(valid[y],prediction_forest, squared=False)\n",
    "    print('valid set: rmse=',rmse)\n",
    "\n",
    "else:\n",
    "    parameters= {'max_depth': None, 'min_samples_split': 2, 'n_estimators': 40}\n",
    "    rmse=31.05"
   ]
  },
  {
   "cell_type": "code",
   "execution_count": 45,
   "metadata": {},
   "outputs": [
    {
     "name": "stdout",
     "output_type": "stream",
     "text": [
      "valid set rmse= 31.04932782197903\n"
     ]
    }
   ],
   "source": [
    "model_forest = RandomForestRegressor(**parameters,random_state=12345)\n",
    "model_forest.fit(train[X],train[y])\n",
    "prediction_forest=model_forest.predict(valid[X])\n",
    "rmse=mean_squared_error(valid[y],prediction_forest, squared=False)\n",
    "print('valid set rmse=',rmse)"
   ]
  },
  {
   "cell_type": "code",
   "execution_count": 46,
   "metadata": {},
   "outputs": [],
   "source": [
    "rmse_list_valid['forest']=rmse.round(2)"
   ]
  },
  {
   "cell_type": "code",
   "execution_count": 47,
   "metadata": {},
   "outputs": [
    {
     "data": {
      "text/plain": [
       "{'dummy': 56.82, 'linear': 34.92, 'tree': 41.66, 'forest': 31.05}"
      ]
     },
     "execution_count": 47,
     "metadata": {},
     "output_type": "execute_result"
    }
   ],
   "source": [
    "rmse_list_valid"
   ]
  },
  {
   "cell_type": "markdown",
   "metadata": {},
   "source": [
    "### Вывод"
   ]
  },
  {
   "cell_type": "code",
   "execution_count": 48,
   "metadata": {},
   "outputs": [
    {
     "data": {
      "text/plain": [
       "{'dummy': 56.82, 'linear': 34.92, 'tree': 41.66, 'forest': 31.05}"
      ]
     },
     "execution_count": 48,
     "metadata": {},
     "output_type": "execute_result"
    }
   ],
   "source": [
    "rmse_list_valid"
   ]
  },
  {
   "cell_type": "markdown",
   "metadata": {},
   "source": [
    "Рассмотрены четыре модели:\n",
    "- модель среднего значения\n",
    "- линейная модель\n",
    "- дерево решений\n",
    "- случайный лес\n",
    "\n",
    "Модель случайного леса показала лучший результ на валидационной метрики RMSE. Выбираем ее для дальнейшего тестирования и использования."
   ]
  },
  {
   "cell_type": "markdown",
   "metadata": {},
   "source": [
    "## Тестирование"
   ]
  },
  {
   "cell_type": "code",
   "execution_count": 49,
   "metadata": {},
   "outputs": [
    {
     "name": "stdout",
     "output_type": "stream",
     "text": [
      "test set rmse= 44.229779880342456\n"
     ]
    }
   ],
   "source": [
    "model_forest = RandomForestRegressor(**parameters,random_state=12345)\n",
    "model_forest.fit(train[X],train[y])\n",
    "prediction_forest=model_forest.predict(test[X])\n",
    "rmse=mean_squared_error(test[y],prediction_forest, squared=False)\n",
    "print('test set rmse=',rmse)"
   ]
  },
  {
   "cell_type": "code",
   "execution_count": 50,
   "metadata": {},
   "outputs": [
    {
     "data": {
      "text/plain": [
       "86.10399028680766"
      ]
     },
     "execution_count": 50,
     "metadata": {},
     "output_type": "execute_result"
    }
   ],
   "source": [
    "prediction=model_dummy.predict(test[X])\n",
    "rmse=mean_squared_error(test[y],prediction,squared=False)\n",
    "rmse"
   ]
  },
  {
   "cell_type": "code",
   "execution_count": 51,
   "metadata": {},
   "outputs": [],
   "source": [
    "test['prediction']=prediction_forest"
   ]
  },
  {
   "cell_type": "code",
   "execution_count": 52,
   "metadata": {},
   "outputs": [
    {
     "data": {
      "image/png": "[encoded data removed]",
      "text/plain": [
       "<Figure size 432x288 with 1 Axes>"
      ]
     },
     "metadata": {
      "needs_background": "light"
     },
     "output_type": "display_data"
    }
   ],
   "source": [
    "test[[y,'prediction']].plot()\n",
    "plt.title('Случайный лес')\n",
    "plt.xlabel('Дата')\n",
    "plt.ylabel('Количесво заказов такси');"
   ]
  },
  {
   "cell_type": "code",
   "execution_count": 53,
   "metadata": {},
   "outputs": [
    {
     "data": {
      "text/plain": [
       "<Figure size 864x720 with 0 Axes>"
      ]
     },
     "metadata": {},
     "output_type": "display_data"
    },
    {
     "data": {
      "image/png": "[encoded data removed]",
      "text/plain": [
       "<Figure size 432x288 with 1 Axes>"
      ]
     },
     "metadata": {
      "needs_background": "light"
     },
     "output_type": "display_data"
    }
   ],
   "source": [
    "plt.figure(figsize=(12, 10))\n",
    "test['2018-08-15':'2018-08-17'][[y,'prediction']].plot()\n",
    "plt.title('Случайный лес')\n",
    "plt.xlabel('Дата')\n",
    "plt.ylabel('Количесво заказов такси');"
   ]
  },
  {
   "cell_type": "code",
   "execution_count": 54,
   "metadata": {},
   "outputs": [
    {
     "name": "stdout",
     "output_type": "stream",
     "text": [
      "full set rmse= 81.186786458806\n"
     ]
    }
   ],
   "source": [
    "prediction_forest=model_forest.predict(data[X])\n",
    "rmse=mean_squared_error(data[y],prediction_forest, squared=False)\n",
    "print('full set rmse=',rmse)"
   ]
  },
  {
   "cell_type": "code",
   "execution_count": 55,
   "metadata": {},
   "outputs": [
    {
     "data": {
      "image/png": "[encoded data removed]",
      "text/plain": [
       "<Figure size 432x288 with 1 Axes>"
      ]
     },
     "metadata": {
      "needs_background": "light"
     },
     "output_type": "display_data"
    }
   ],
   "source": [
    "difference=(-data[y]+prediction_forest)\n",
    "difference.plot()\n",
    "plt.title('Ошибка предсказания модели')\n",
    "plt.xlabel('Дата')\n",
    "plt.ylabel('Количесво заказов такси');"
   ]
  },
  {
   "cell_type": "code",
   "execution_count": 56,
   "metadata": {},
   "outputs": [
    {
     "data": {
      "image/png": "[encoded data removed]",
      "text/plain": [
       "<Figure size 864x1296 with 4 Axes>"
      ]
     },
     "metadata": {
      "needs_background": "light"
     },
     "output_type": "display_data"
    }
   ],
   "source": [
    "decomposed_diff = seasonal_decompose(difference)\n",
    "\n",
    "plt.figure(figsize=(12, 18))\n",
    "\n",
    "plt.subplot(4,1,1)\n",
    "decomposed_diff.trend.plot(ax=plt.gca())\n",
    "plt.title('Тренд')\n",
    "plt.xlabel('Дата')\n",
    "plt.ylabel('Абсолютная ошибка предсказания')\n",
    "\n",
    "plt.subplot(4,1,2)\n",
    "decomposed_diff.seasonal['2018-08-01':'2018-08-3'].plot(ax=plt.gca())\n",
    "plt.title('Сезонность')\n",
    "plt.xlabel('Дата')\n",
    "plt.ylabel('Абсолютная ошибка предсказания')\n",
    "\n",
    "plt.subplot(4,1,3)\n",
    "decomposed_diff.resid.plot(ax=plt.gca())\n",
    "plt.title('Остатки')\n",
    "plt.xlabel('Дата')\n",
    "plt.ylabel('Абсолютная ошибка предсказания')\n",
    "plt.tight_layout()\n",
    "\n",
    "plt.subplot(4,1,4)\n",
    "decomposed_diff.resid['2018-08-01':'2018-08-3'].plot(ax=plt.gca())\n",
    "plt.title('Остатки')\n",
    "plt.xlabel('Дата')\n",
    "plt.ylabel('Абсолютная ошибка предсказания')\n",
    "plt.tight_layout()"
   ]
  },
  {
   "cell_type": "markdown",
   "metadata": {},
   "source": [
    "**Выводы**\n",
    "\n",
    "Предподговка данных не выявила аномалий. Анализ данных показал, что есть слабо растущий тренд с недельной переодичностью в сезонности. Тест Дики-Фуллера не опровергает нулевою гипотизу нестационарности, т.е. ряд нестационарен на уровне достоверности 1%.\n",
    "\n",
    "Были рассмотрены четыре модели:\n",
    "- модель среднего значения\n",
    "- линейная модель\n",
    "- дерево решений\n",
    "- случайный лес\n",
    "Модель случайного леса показала лучший результ на валидационной метрики RMSE и выбрана для тестирования. \n",
    "\n",
    "Проведен анализ абсолютной ошибки предсказания. Самое высокая ошибка в предсказании наблюдается в часы пик (в полночь) и самые тихие часы (6 утра). Тренд ошибки нисходящий с меньшими значениями в области тестовой выборки, но при этом разброс значений ошибки гораздова выше на тестовом наборе. \n",
    "\n",
    "Результат метрики на тестовой выборке составил 44.2, что лучше целевого значения и два раза ниже чем значение метрики для модели среднего значения. \n",
    "\n",
    "\n",
    "\n",
    "Построенная модель рекоменнована для использования. "
   ]
  }
 ],
 "metadata": {
  "ExecuteTimeLog": [
   {
    "duration": 425,
    "start_time": "2023-07-30T16:57:59.349Z"
   },
   {
    "duration": 119,
    "start_time": "2023-07-30T16:58:00.520Z"
   },
   {
    "duration": 13,
    "start_time": "2023-07-30T16:58:26.734Z"
   },
   {
    "duration": 15,
    "start_time": "2023-07-30T16:58:35.187Z"
   },
   {
    "duration": 115,
    "start_time": "2023-07-30T16:59:24.017Z"
   },
   {
    "duration": 11,
    "start_time": "2023-07-30T16:59:26.747Z"
   },
   {
    "duration": 10,
    "start_time": "2023-07-30T16:59:35.798Z"
   },
   {
    "duration": 21,
    "start_time": "2023-07-30T16:59:38.316Z"
   },
   {
    "duration": 14,
    "start_time": "2023-07-30T16:59:43.182Z"
   },
   {
    "duration": 9,
    "start_time": "2023-07-30T16:59:55.697Z"
   },
   {
    "duration": 14,
    "start_time": "2023-07-30T16:59:59.239Z"
   },
   {
    "duration": 4,
    "start_time": "2023-07-30T17:01:34.495Z"
   },
   {
    "duration": 4,
    "start_time": "2023-07-30T17:03:24.520Z"
   },
   {
    "duration": 9,
    "start_time": "2023-07-30T17:03:25.507Z"
   },
   {
    "duration": 7,
    "start_time": "2023-07-30T17:03:42.715Z"
   },
   {
    "duration": 10,
    "start_time": "2023-07-30T17:03:47.745Z"
   },
   {
    "duration": 5,
    "start_time": "2023-07-30T17:04:00.442Z"
   },
   {
    "duration": 5,
    "start_time": "2023-07-30T17:04:07.477Z"
   },
   {
    "duration": 14,
    "start_time": "2023-07-30T17:04:15.880Z"
   },
   {
    "duration": 7,
    "start_time": "2023-07-30T17:04:29.865Z"
   },
   {
    "duration": 10,
    "start_time": "2023-07-30T17:05:31.272Z"
   },
   {
    "duration": 9,
    "start_time": "2023-07-30T17:07:10.087Z"
   },
   {
    "duration": 9,
    "start_time": "2023-07-30T17:12:40.484Z"
   },
   {
    "duration": 5,
    "start_time": "2023-07-30T17:12:53.461Z"
   },
   {
    "duration": 4,
    "start_time": "2023-07-30T17:13:05.952Z"
   },
   {
    "duration": 5,
    "start_time": "2023-07-30T17:13:13.044Z"
   },
   {
    "duration": 426,
    "start_time": "2023-07-30T17:14:08.853Z"
   },
   {
    "duration": 81,
    "start_time": "2023-07-30T17:14:11.137Z"
   },
   {
    "duration": 11,
    "start_time": "2023-07-30T17:14:12.443Z"
   },
   {
    "duration": 12,
    "start_time": "2023-07-30T17:14:13.700Z"
   },
   {
    "duration": 6,
    "start_time": "2023-07-30T17:14:14.396Z"
   },
   {
    "duration": 7,
    "start_time": "2023-07-30T17:14:32.537Z"
   },
   {
    "duration": 5,
    "start_time": "2023-07-30T17:16:43.753Z"
   },
   {
    "duration": 4,
    "start_time": "2023-07-30T17:16:48.145Z"
   },
   {
    "duration": 6,
    "start_time": "2023-07-30T17:16:53.283Z"
   },
   {
    "duration": 5,
    "start_time": "2023-07-30T17:16:53.672Z"
   },
   {
    "duration": 15,
    "start_time": "2023-07-30T17:16:54.438Z"
   },
   {
    "duration": 8,
    "start_time": "2023-07-30T17:17:37.615Z"
   },
   {
    "duration": 3,
    "start_time": "2023-07-30T17:17:50.391Z"
   },
   {
    "duration": 1207,
    "start_time": "2023-07-30T17:18:05.096Z"
   },
   {
    "duration": 5,
    "start_time": "2023-07-30T17:18:18.750Z"
   },
   {
    "duration": 7,
    "start_time": "2023-07-30T17:18:22.776Z"
   },
   {
    "duration": 4,
    "start_time": "2023-07-30T17:18:28.338Z"
   },
   {
    "duration": 4,
    "start_time": "2023-07-30T17:18:28.852Z"
   },
   {
    "duration": 8,
    "start_time": "2023-07-30T17:18:34.952Z"
   },
   {
    "duration": 14,
    "start_time": "2023-07-30T17:19:09.768Z"
   },
   {
    "duration": 9,
    "start_time": "2023-07-30T17:19:27.823Z"
   },
   {
    "duration": 13,
    "start_time": "2023-07-30T17:19:35.022Z"
   },
   {
    "duration": 5,
    "start_time": "2023-07-30T17:19:46.441Z"
   },
   {
    "duration": 4,
    "start_time": "2023-07-30T17:19:46.956Z"
   },
   {
    "duration": 7,
    "start_time": "2023-07-30T17:20:30.216Z"
   },
   {
    "duration": 15,
    "start_time": "2023-07-30T17:20:30.789Z"
   },
   {
    "duration": 431,
    "start_time": "2023-07-30T17:20:48.457Z"
   },
   {
    "duration": 95,
    "start_time": "2023-07-30T17:20:48.891Z"
   },
   {
    "duration": 16,
    "start_time": "2023-07-30T17:20:48.989Z"
   },
   {
    "duration": 18,
    "start_time": "2023-07-30T17:20:49.008Z"
   },
   {
    "duration": 20,
    "start_time": "2023-07-30T17:20:49.028Z"
   },
   {
    "duration": 24,
    "start_time": "2023-07-30T17:20:49.050Z"
   },
   {
    "duration": 4,
    "start_time": "2023-07-30T17:20:49.081Z"
   },
   {
    "duration": 32,
    "start_time": "2023-07-30T17:20:49.087Z"
   },
   {
    "duration": 31,
    "start_time": "2023-07-30T17:20:49.121Z"
   },
   {
    "duration": 21,
    "start_time": "2023-07-30T17:20:49.154Z"
   },
   {
    "duration": 27,
    "start_time": "2023-07-30T17:20:49.177Z"
   },
   {
    "duration": 10,
    "start_time": "2023-07-30T17:20:58.041Z"
   },
   {
    "duration": 1226,
    "start_time": "2023-07-30T17:24:04.369Z"
   },
   {
    "duration": 1033,
    "start_time": "2023-07-30T17:24:25.378Z"
   },
   {
    "duration": 4,
    "start_time": "2023-07-30T17:24:34.994Z"
   },
   {
    "duration": 25,
    "start_time": "2023-07-30T17:24:45.850Z"
   },
   {
    "duration": 385,
    "start_time": "2023-07-30T17:25:19.334Z"
   },
   {
    "duration": 82,
    "start_time": "2023-07-30T17:25:19.721Z"
   },
   {
    "duration": 11,
    "start_time": "2023-07-30T17:25:19.805Z"
   },
   {
    "duration": 14,
    "start_time": "2023-07-30T17:25:19.818Z"
   },
   {
    "duration": 4,
    "start_time": "2023-07-30T17:25:19.834Z"
   },
   {
    "duration": 16,
    "start_time": "2023-07-30T17:25:19.839Z"
   },
   {
    "duration": 4,
    "start_time": "2023-07-30T17:25:19.863Z"
   },
   {
    "duration": 5,
    "start_time": "2023-07-30T17:25:19.870Z"
   },
   {
    "duration": 12,
    "start_time": "2023-07-30T17:25:19.876Z"
   },
   {
    "duration": 11,
    "start_time": "2023-07-30T17:25:19.889Z"
   },
   {
    "duration": 10,
    "start_time": "2023-07-30T17:25:19.901Z"
   },
   {
    "duration": 90,
    "start_time": "2023-07-30T17:25:19.912Z"
   },
   {
    "duration": 0,
    "start_time": "2023-07-30T17:25:20.004Z"
   },
   {
    "duration": 9,
    "start_time": "2023-07-30T17:25:30.516Z"
   },
   {
    "duration": 8,
    "start_time": "2023-07-30T17:25:37.634Z"
   },
   {
    "duration": 466,
    "start_time": "2023-07-30T17:26:41.770Z"
   },
   {
    "duration": 39,
    "start_time": "2023-07-30T17:26:59.462Z"
   },
   {
    "duration": 26,
    "start_time": "2023-07-30T17:27:32.089Z"
   },
   {
    "duration": 16,
    "start_time": "2023-07-30T17:27:43.086Z"
   },
   {
    "duration": 20,
    "start_time": "2023-07-30T17:27:54.616Z"
   },
   {
    "duration": 20,
    "start_time": "2023-07-30T17:28:28.839Z"
   },
   {
    "duration": 890,
    "start_time": "2023-07-30T17:28:40.539Z"
   },
   {
    "duration": 69,
    "start_time": "2023-07-30T17:28:41.431Z"
   },
   {
    "duration": 32,
    "start_time": "2023-07-30T17:28:41.501Z"
   },
   {
    "duration": 96,
    "start_time": "2023-07-30T17:28:41.535Z"
   },
   {
    "duration": 54,
    "start_time": "2023-07-30T17:28:41.633Z"
   },
   {
    "duration": 12,
    "start_time": "2023-07-30T17:28:41.690Z"
   },
   {
    "duration": 4,
    "start_time": "2023-07-30T17:28:41.704Z"
   },
   {
    "duration": 4,
    "start_time": "2023-07-30T17:28:41.709Z"
   },
   {
    "duration": 22,
    "start_time": "2023-07-30T17:28:41.714Z"
   },
   {
    "duration": 13,
    "start_time": "2023-07-30T17:28:41.739Z"
   },
   {
    "duration": 6,
    "start_time": "2023-07-30T17:28:41.753Z"
   },
   {
    "duration": 9,
    "start_time": "2023-07-30T17:28:41.760Z"
   },
   {
    "duration": 98,
    "start_time": "2023-07-30T17:28:41.770Z"
   },
   {
    "duration": 137,
    "start_time": "2023-07-30T17:34:25.342Z"
   },
   {
    "duration": 5,
    "start_time": "2023-07-30T17:35:24.343Z"
   },
   {
    "duration": 12,
    "start_time": "2023-07-30T17:35:25.749Z"
   },
   {
    "duration": 3,
    "start_time": "2023-07-30T17:35:30.838Z"
   },
   {
    "duration": 110,
    "start_time": "2023-07-30T17:35:31.209Z"
   },
   {
    "duration": 16,
    "start_time": "2023-07-30T17:35:31.617Z"
   },
   {
    "duration": 7,
    "start_time": "2023-07-30T17:35:32.018Z"
   },
   {
    "duration": 5,
    "start_time": "2023-07-30T17:35:32.412Z"
   },
   {
    "duration": 13,
    "start_time": "2023-07-30T17:35:32.889Z"
   },
   {
    "duration": 4,
    "start_time": "2023-07-30T17:35:33.289Z"
   },
   {
    "duration": 12,
    "start_time": "2023-07-30T17:35:33.702Z"
   },
   {
    "duration": 820,
    "start_time": "2023-07-30T17:36:28.715Z"
   },
   {
    "duration": 119,
    "start_time": "2023-07-30T17:36:29.537Z"
   },
   {
    "duration": 13,
    "start_time": "2023-07-30T17:36:30.842Z"
   },
   {
    "duration": 13,
    "start_time": "2023-07-30T17:36:32.661Z"
   },
   {
    "duration": 5,
    "start_time": "2023-07-30T17:36:33.092Z"
   },
   {
    "duration": 16,
    "start_time": "2023-07-30T17:36:34.796Z"
   },
   {
    "duration": 4,
    "start_time": "2023-07-30T17:36:35.742Z"
   },
   {
    "duration": 96,
    "start_time": "2023-07-30T17:36:37.736Z"
   },
   {
    "duration": 8,
    "start_time": "2023-07-30T17:38:03.393Z"
   },
   {
    "duration": 14,
    "start_time": "2023-07-30T17:38:05.296Z"
   },
   {
    "duration": 8,
    "start_time": "2023-07-30T17:38:07.689Z"
   },
   {
    "duration": 5,
    "start_time": "2023-07-30T17:38:08.484Z"
   },
   {
    "duration": 12,
    "start_time": "2023-07-30T17:38:09.534Z"
   },
   {
    "duration": 4,
    "start_time": "2023-07-30T17:38:10.341Z"
   },
   {
    "duration": 11,
    "start_time": "2023-07-30T17:38:11.451Z"
   },
   {
    "duration": 7,
    "start_time": "2023-07-30T17:38:44.341Z"
   },
   {
    "duration": 6,
    "start_time": "2023-07-30T17:38:51.121Z"
   },
   {
    "duration": 4,
    "start_time": "2023-07-30T17:38:56.793Z"
   },
   {
    "duration": 5,
    "start_time": "2023-07-30T17:39:05.420Z"
   },
   {
    "duration": 4,
    "start_time": "2023-07-30T17:39:13.100Z"
   },
   {
    "duration": 762,
    "start_time": "2023-07-30T17:39:41.797Z"
   },
   {
    "duration": 211,
    "start_time": "2023-07-30T17:40:03.600Z"
   },
   {
    "duration": 213,
    "start_time": "2023-07-30T17:40:14.689Z"
   },
   {
    "duration": 1086,
    "start_time": "2023-07-30T17:41:02.444Z"
   },
   {
    "duration": 225,
    "start_time": "2023-07-30T17:41:26.241Z"
   },
   {
    "duration": 72,
    "start_time": "2023-07-30T17:41:49.442Z"
   },
   {
    "duration": 210,
    "start_time": "2023-07-30T17:41:53.642Z"
   },
   {
    "duration": 1148,
    "start_time": "2023-07-30T17:42:01.093Z"
   },
   {
    "duration": 277,
    "start_time": "2023-07-30T17:42:02.881Z"
   },
   {
    "duration": 162,
    "start_time": "2023-07-30T17:42:06.844Z"
   },
   {
    "duration": 139,
    "start_time": "2023-07-30T17:42:11.446Z"
   },
   {
    "duration": 141,
    "start_time": "2023-07-30T17:42:21.040Z"
   },
   {
    "duration": 19,
    "start_time": "2023-07-30T17:43:47.768Z"
   },
   {
    "duration": 4,
    "start_time": "2023-07-30T17:44:19.417Z"
   },
   {
    "duration": 853,
    "start_time": "2023-07-30T17:44:24.045Z"
   },
   {
    "duration": 628,
    "start_time": "2023-07-30T17:44:58.809Z"
   },
   {
    "duration": 695,
    "start_time": "2023-07-30T17:59:09.534Z"
   },
   {
    "duration": 1478,
    "start_time": "2023-07-31T06:53:13.071Z"
   },
   {
    "duration": 179,
    "start_time": "2023-07-31T06:53:14.551Z"
   },
   {
    "duration": 11,
    "start_time": "2023-07-31T06:53:14.731Z"
   },
   {
    "duration": 11,
    "start_time": "2023-07-31T06:53:14.744Z"
   },
   {
    "duration": 16,
    "start_time": "2023-07-31T06:53:14.758Z"
   },
   {
    "duration": 8,
    "start_time": "2023-07-31T06:53:14.775Z"
   },
   {
    "duration": 11,
    "start_time": "2023-07-31T06:53:14.883Z"
   },
   {
    "duration": 5,
    "start_time": "2023-07-31T06:53:15.209Z"
   },
   {
    "duration": 675,
    "start_time": "2023-07-31T06:53:15.516Z"
   },
   {
    "duration": 9,
    "start_time": "2023-07-31T06:53:16.216Z"
   },
   {
    "duration": 5,
    "start_time": "2023-07-31T06:53:46.649Z"
   },
   {
    "duration": 11,
    "start_time": "2023-07-31T06:53:50.683Z"
   },
   {
    "duration": 169,
    "start_time": "2023-07-31T06:54:00.459Z"
   },
   {
    "duration": 3,
    "start_time": "2023-07-31T06:54:11.344Z"
   },
   {
    "duration": 111,
    "start_time": "2023-07-31T06:54:44.266Z"
   },
   {
    "duration": 5,
    "start_time": "2023-07-31T06:54:50.460Z"
   },
   {
    "duration": 7,
    "start_time": "2023-07-31T06:54:51.799Z"
   },
   {
    "duration": 8,
    "start_time": "2023-07-31T06:54:56.245Z"
   },
   {
    "duration": 8,
    "start_time": "2023-07-31T06:55:20.244Z"
   },
   {
    "duration": 12,
    "start_time": "2023-07-31T06:55:21.289Z"
   },
   {
    "duration": 11,
    "start_time": "2023-07-31T06:55:34.415Z"
   },
   {
    "duration": 10,
    "start_time": "2023-07-31T07:39:05.621Z"
   },
   {
    "duration": 3068,
    "start_time": "2023-07-31T07:39:23.956Z"
   },
   {
    "duration": 2027,
    "start_time": "2023-07-31T07:39:29.514Z"
   },
   {
    "duration": 145,
    "start_time": "2023-07-31T07:39:33.451Z"
   },
   {
    "duration": 257,
    "start_time": "2023-07-31T07:39:34.513Z"
   },
   {
    "duration": 6,
    "start_time": "2023-07-31T07:39:36.985Z"
   },
   {
    "duration": 10,
    "start_time": "2023-07-31T07:39:36.993Z"
   },
   {
    "duration": 8,
    "start_time": "2023-07-31T07:39:37.004Z"
   },
   {
    "duration": 7,
    "start_time": "2023-07-31T07:39:37.013Z"
   },
   {
    "duration": 12,
    "start_time": "2023-07-31T07:39:37.022Z"
   },
   {
    "duration": 7,
    "start_time": "2023-07-31T07:39:37.036Z"
   },
   {
    "duration": 584,
    "start_time": "2023-07-31T07:39:37.044Z"
   },
   {
    "duration": 5,
    "start_time": "2023-07-31T07:39:37.629Z"
   },
   {
    "duration": 44,
    "start_time": "2023-07-31T07:39:37.635Z"
   },
   {
    "duration": 24,
    "start_time": "2023-07-31T07:39:37.680Z"
   },
   {
    "duration": 18,
    "start_time": "2023-07-31T07:39:37.705Z"
   },
   {
    "duration": 14,
    "start_time": "2023-07-31T07:39:37.724Z"
   },
   {
    "duration": 20,
    "start_time": "2023-07-31T07:39:37.739Z"
   },
   {
    "duration": 6,
    "start_time": "2023-07-31T07:39:37.884Z"
   },
   {
    "duration": 7,
    "start_time": "2023-07-31T07:40:47.725Z"
   },
   {
    "duration": 11,
    "start_time": "2023-07-31T07:42:38.512Z"
   },
   {
    "duration": 4,
    "start_time": "2023-07-31T07:42:41.858Z"
   },
   {
    "duration": 4,
    "start_time": "2023-07-31T07:42:47.863Z"
   },
   {
    "duration": 9,
    "start_time": "2023-07-31T07:43:08.862Z"
   },
   {
    "duration": 9,
    "start_time": "2023-07-31T07:43:18.222Z"
   },
   {
    "duration": 8,
    "start_time": "2023-07-31T07:43:46.115Z"
   },
   {
    "duration": 2,
    "start_time": "2023-07-31T07:44:03.283Z"
   },
   {
    "duration": 4,
    "start_time": "2023-07-31T07:44:08.584Z"
   },
   {
    "duration": 13,
    "start_time": "2023-07-31T07:44:25.411Z"
   },
   {
    "duration": 6,
    "start_time": "2023-07-31T07:44:45.718Z"
   },
   {
    "duration": 8,
    "start_time": "2023-07-31T07:44:52.363Z"
   },
   {
    "duration": 22,
    "start_time": "2023-07-31T07:44:52.780Z"
   },
   {
    "duration": 18,
    "start_time": "2023-07-31T07:44:57.075Z"
   },
   {
    "duration": 10,
    "start_time": "2023-07-31T07:45:02.216Z"
   },
   {
    "duration": 9,
    "start_time": "2023-07-31T07:51:41.267Z"
   },
   {
    "duration": 9,
    "start_time": "2023-07-31T07:52:18.968Z"
   },
   {
    "duration": 3,
    "start_time": "2023-07-31T07:52:28.504Z"
   },
   {
    "duration": 27,
    "start_time": "2023-07-31T07:52:34.764Z"
   },
   {
    "duration": 9,
    "start_time": "2023-07-31T07:53:59.312Z"
   },
   {
    "duration": 8,
    "start_time": "2023-07-31T07:54:01.800Z"
   },
   {
    "duration": 4,
    "start_time": "2023-07-31T07:54:29.380Z"
   },
   {
    "duration": 3,
    "start_time": "2023-07-31T07:54:47.296Z"
   },
   {
    "duration": 4,
    "start_time": "2023-07-31T07:55:32.685Z"
   },
   {
    "duration": 8,
    "start_time": "2023-07-31T07:55:37.504Z"
   },
   {
    "duration": 11,
    "start_time": "2023-07-31T07:56:04.246Z"
   },
   {
    "duration": 4,
    "start_time": "2023-07-31T07:56:16.827Z"
   },
   {
    "duration": 6,
    "start_time": "2023-07-31T07:56:34.465Z"
   },
   {
    "duration": 7,
    "start_time": "2023-07-31T07:56:49.472Z"
   },
   {
    "duration": 2,
    "start_time": "2023-07-31T07:57:30.113Z"
   },
   {
    "duration": 9,
    "start_time": "2023-07-31T07:58:02.976Z"
   },
   {
    "duration": 4,
    "start_time": "2023-07-31T07:58:04.713Z"
   },
   {
    "duration": 4,
    "start_time": "2023-07-31T07:58:04.997Z"
   },
   {
    "duration": 5,
    "start_time": "2023-07-31T07:58:09.652Z"
   },
   {
    "duration": 3,
    "start_time": "2023-07-31T07:58:57.585Z"
   },
   {
    "duration": 3,
    "start_time": "2023-07-31T07:59:04.167Z"
   },
   {
    "duration": 4,
    "start_time": "2023-07-31T07:59:13.005Z"
   },
   {
    "duration": 3,
    "start_time": "2023-07-31T07:59:14.254Z"
   },
   {
    "duration": 9,
    "start_time": "2023-07-31T08:00:05.000Z"
   },
   {
    "duration": 4,
    "start_time": "2023-07-31T08:00:15.749Z"
   },
   {
    "duration": 10,
    "start_time": "2023-07-31T08:00:27.146Z"
   },
   {
    "duration": 21,
    "start_time": "2023-07-31T08:00:46.218Z"
   },
   {
    "duration": 12,
    "start_time": "2023-07-31T08:01:23.342Z"
   },
   {
    "duration": 16,
    "start_time": "2023-07-31T08:01:34.553Z"
   },
   {
    "duration": 20,
    "start_time": "2023-07-31T08:01:47.925Z"
   },
   {
    "duration": 17,
    "start_time": "2023-07-31T08:02:02.764Z"
   },
   {
    "duration": 17,
    "start_time": "2023-07-31T08:02:07.024Z"
   },
   {
    "duration": 14,
    "start_time": "2023-07-31T08:03:16.346Z"
   },
   {
    "duration": 14,
    "start_time": "2023-07-31T08:03:19.022Z"
   },
   {
    "duration": 6,
    "start_time": "2023-07-31T08:03:33.942Z"
   },
   {
    "duration": 11,
    "start_time": "2023-07-31T08:03:41.226Z"
   },
   {
    "duration": 8,
    "start_time": "2023-07-31T08:03:47.912Z"
   },
   {
    "duration": 38,
    "start_time": "2023-07-31T08:03:55.822Z"
   },
   {
    "duration": 8,
    "start_time": "2023-07-31T08:05:10.996Z"
   },
   {
    "duration": 1521,
    "start_time": "2023-07-31T08:05:18.052Z"
   },
   {
    "duration": 399,
    "start_time": "2023-07-31T08:05:19.575Z"
   },
   {
    "duration": 9,
    "start_time": "2023-07-31T08:05:19.976Z"
   },
   {
    "duration": 10,
    "start_time": "2023-07-31T08:05:19.987Z"
   },
   {
    "duration": 13,
    "start_time": "2023-07-31T08:05:19.999Z"
   },
   {
    "duration": 13,
    "start_time": "2023-07-31T08:05:20.013Z"
   },
   {
    "duration": 26,
    "start_time": "2023-07-31T08:05:20.028Z"
   },
   {
    "duration": 16,
    "start_time": "2023-07-31T08:05:20.056Z"
   },
   {
    "duration": 556,
    "start_time": "2023-07-31T08:05:20.074Z"
   },
   {
    "duration": 4,
    "start_time": "2023-07-31T08:05:20.632Z"
   },
   {
    "duration": 13,
    "start_time": "2023-07-31T08:05:20.638Z"
   },
   {
    "duration": 17,
    "start_time": "2023-07-31T08:05:20.653Z"
   },
   {
    "duration": 14,
    "start_time": "2023-07-31T08:05:20.672Z"
   },
   {
    "duration": 24,
    "start_time": "2023-07-31T08:05:20.689Z"
   },
   {
    "duration": 11,
    "start_time": "2023-07-31T08:05:20.715Z"
   },
   {
    "duration": 7,
    "start_time": "2023-07-31T08:05:20.727Z"
   },
   {
    "duration": 5,
    "start_time": "2023-07-31T08:05:20.736Z"
   },
   {
    "duration": 34,
    "start_time": "2023-07-31T08:05:20.743Z"
   },
   {
    "duration": 3,
    "start_time": "2023-07-31T08:05:20.779Z"
   },
   {
    "duration": 21,
    "start_time": "2023-07-31T08:05:20.784Z"
   },
   {
    "duration": 9,
    "start_time": "2023-07-31T08:05:20.807Z"
   },
   {
    "duration": 9,
    "start_time": "2023-07-31T08:05:20.817Z"
   },
   {
    "duration": 13,
    "start_time": "2023-07-31T08:05:20.828Z"
   },
   {
    "duration": 43,
    "start_time": "2023-07-31T08:05:20.843Z"
   },
   {
    "duration": 14,
    "start_time": "2023-07-31T08:05:20.888Z"
   },
   {
    "duration": 5,
    "start_time": "2023-07-31T08:05:20.904Z"
   },
   {
    "duration": 8,
    "start_time": "2023-07-31T08:05:20.910Z"
   },
   {
    "duration": 4,
    "start_time": "2023-07-31T08:05:20.921Z"
   },
   {
    "duration": 19,
    "start_time": "2023-07-31T08:05:43.715Z"
   },
   {
    "duration": 5,
    "start_time": "2023-07-31T08:05:51.015Z"
   },
   {
    "duration": 4,
    "start_time": "2023-07-31T08:05:53.117Z"
   },
   {
    "duration": 5,
    "start_time": "2023-07-31T08:06:15.586Z"
   },
   {
    "duration": 4,
    "start_time": "2023-07-31T08:06:17.347Z"
   },
   {
    "duration": 4,
    "start_time": "2023-07-31T08:06:26.356Z"
   },
   {
    "duration": 1463,
    "start_time": "2023-07-31T08:07:00.885Z"
   },
   {
    "duration": 168,
    "start_time": "2023-07-31T08:07:02.350Z"
   },
   {
    "duration": 8,
    "start_time": "2023-07-31T08:07:02.520Z"
   },
   {
    "duration": 29,
    "start_time": "2023-07-31T08:07:02.529Z"
   },
   {
    "duration": 40,
    "start_time": "2023-07-31T08:07:02.560Z"
   },
   {
    "duration": 46,
    "start_time": "2023-07-31T08:07:02.602Z"
   },
   {
    "duration": 41,
    "start_time": "2023-07-31T08:07:02.649Z"
   },
   {
    "duration": 4,
    "start_time": "2023-07-31T08:07:02.692Z"
   },
   {
    "duration": 660,
    "start_time": "2023-07-31T08:07:02.698Z"
   },
   {
    "duration": 5,
    "start_time": "2023-07-31T08:07:03.360Z"
   },
   {
    "duration": 10,
    "start_time": "2023-07-31T08:07:03.367Z"
   },
   {
    "duration": 16,
    "start_time": "2023-07-31T08:07:03.378Z"
   },
   {
    "duration": 45,
    "start_time": "2023-07-31T08:07:03.396Z"
   },
   {
    "duration": 24,
    "start_time": "2023-07-31T08:07:03.444Z"
   },
   {
    "duration": 30,
    "start_time": "2023-07-31T08:07:03.469Z"
   },
   {
    "duration": 36,
    "start_time": "2023-07-31T08:07:03.500Z"
   },
   {
    "duration": 21,
    "start_time": "2023-07-31T08:07:03.538Z"
   },
   {
    "duration": 27,
    "start_time": "2023-07-31T08:07:03.561Z"
   },
   {
    "duration": 2,
    "start_time": "2023-07-31T08:07:03.590Z"
   },
   {
    "duration": 24,
    "start_time": "2023-07-31T08:07:03.593Z"
   },
   {
    "duration": 26,
    "start_time": "2023-07-31T08:07:03.619Z"
   },
   {
    "duration": 18,
    "start_time": "2023-07-31T08:07:03.647Z"
   },
   {
    "duration": 21,
    "start_time": "2023-07-31T08:07:03.666Z"
   },
   {
    "duration": 40,
    "start_time": "2023-07-31T08:07:03.689Z"
   },
   {
    "duration": 19,
    "start_time": "2023-07-31T08:07:03.731Z"
   },
   {
    "duration": 169,
    "start_time": "2023-07-31T08:07:03.751Z"
   },
   {
    "duration": 27,
    "start_time": "2023-07-31T08:07:03.922Z"
   },
   {
    "duration": 20,
    "start_time": "2023-07-31T08:07:03.951Z"
   },
   {
    "duration": 3,
    "start_time": "2023-07-31T08:07:13.625Z"
   },
   {
    "duration": 2352,
    "start_time": "2023-07-31T08:11:01.015Z"
   },
   {
    "duration": 6,
    "start_time": "2023-07-31T08:11:17.215Z"
   },
   {
    "duration": 14,
    "start_time": "2023-07-31T08:11:52.107Z"
   },
   {
    "duration": 14,
    "start_time": "2023-07-31T08:11:52.659Z"
   },
   {
    "duration": 1427,
    "start_time": "2023-07-31T08:12:01.523Z"
   },
   {
    "duration": 142,
    "start_time": "2023-07-31T08:12:02.952Z"
   },
   {
    "duration": 10,
    "start_time": "2023-07-31T08:12:03.095Z"
   },
   {
    "duration": 60,
    "start_time": "2023-07-31T08:12:03.106Z"
   },
   {
    "duration": 40,
    "start_time": "2023-07-31T08:12:03.168Z"
   },
   {
    "duration": 31,
    "start_time": "2023-07-31T08:12:03.210Z"
   },
   {
    "duration": 42,
    "start_time": "2023-07-31T08:12:03.244Z"
   },
   {
    "duration": 13,
    "start_time": "2023-07-31T08:12:03.288Z"
   },
   {
    "duration": 687,
    "start_time": "2023-07-31T08:12:03.303Z"
   },
   {
    "duration": 5,
    "start_time": "2023-07-31T08:12:03.992Z"
   },
   {
    "duration": 38,
    "start_time": "2023-07-31T08:12:03.998Z"
   },
   {
    "duration": 16,
    "start_time": "2023-07-31T08:12:04.037Z"
   },
   {
    "duration": 29,
    "start_time": "2023-07-31T08:12:04.055Z"
   },
   {
    "duration": 18,
    "start_time": "2023-07-31T08:12:04.087Z"
   },
   {
    "duration": 34,
    "start_time": "2023-07-31T08:12:04.107Z"
   },
   {
    "duration": 23,
    "start_time": "2023-07-31T08:12:04.143Z"
   },
   {
    "duration": 31,
    "start_time": "2023-07-31T08:12:04.167Z"
   },
   {
    "duration": 57,
    "start_time": "2023-07-31T08:12:04.199Z"
   },
   {
    "duration": 42,
    "start_time": "2023-07-31T08:12:04.258Z"
   },
   {
    "duration": 3,
    "start_time": "2023-07-31T08:12:04.302Z"
   },
   {
    "duration": 36,
    "start_time": "2023-07-31T08:12:04.306Z"
   },
   {
    "duration": 13,
    "start_time": "2023-07-31T08:12:04.344Z"
   },
   {
    "duration": 77,
    "start_time": "2023-07-31T08:12:04.358Z"
   },
   {
    "duration": 18,
    "start_time": "2023-07-31T08:12:04.437Z"
   },
   {
    "duration": 25,
    "start_time": "2023-07-31T08:12:04.456Z"
   },
   {
    "duration": 117,
    "start_time": "2023-07-31T08:12:04.483Z"
   },
   {
    "duration": 115,
    "start_time": "2023-07-31T08:12:04.609Z"
   },
   {
    "duration": 5,
    "start_time": "2023-07-31T08:12:04.726Z"
   },
   {
    "duration": 8,
    "start_time": "2023-07-31T08:12:04.733Z"
   },
   {
    "duration": 7,
    "start_time": "2023-07-31T08:13:01.165Z"
   },
   {
    "duration": 1578,
    "start_time": "2023-07-31T08:13:10.680Z"
   },
   {
    "duration": 132,
    "start_time": "2023-07-31T08:13:12.260Z"
   },
   {
    "duration": 10,
    "start_time": "2023-07-31T08:13:12.394Z"
   },
   {
    "duration": 53,
    "start_time": "2023-07-31T08:13:12.407Z"
   },
   {
    "duration": 26,
    "start_time": "2023-07-31T08:13:12.462Z"
   },
   {
    "duration": 5,
    "start_time": "2023-07-31T08:13:12.490Z"
   },
   {
    "duration": 34,
    "start_time": "2023-07-31T08:13:12.496Z"
   },
   {
    "duration": 17,
    "start_time": "2023-07-31T08:13:12.532Z"
   },
   {
    "duration": 632,
    "start_time": "2023-07-31T08:13:12.550Z"
   },
   {
    "duration": 5,
    "start_time": "2023-07-31T08:13:13.185Z"
   },
   {
    "duration": 8,
    "start_time": "2023-07-31T08:13:13.191Z"
   },
   {
    "duration": 35,
    "start_time": "2023-07-31T08:13:13.201Z"
   },
   {
    "duration": 33,
    "start_time": "2023-07-31T08:13:13.238Z"
   },
   {
    "duration": 19,
    "start_time": "2023-07-31T08:13:13.273Z"
   },
   {
    "duration": 49,
    "start_time": "2023-07-31T08:13:13.293Z"
   },
   {
    "duration": 19,
    "start_time": "2023-07-31T08:13:13.345Z"
   },
   {
    "duration": 20,
    "start_time": "2023-07-31T08:13:13.366Z"
   },
   {
    "duration": 67,
    "start_time": "2023-07-31T08:13:13.387Z"
   },
   {
    "duration": 56,
    "start_time": "2023-07-31T08:13:13.456Z"
   },
   {
    "duration": 2,
    "start_time": "2023-07-31T08:13:13.513Z"
   },
   {
    "duration": 6,
    "start_time": "2023-07-31T08:13:13.516Z"
   },
   {
    "duration": 54,
    "start_time": "2023-07-31T08:13:13.524Z"
   },
   {
    "duration": 15,
    "start_time": "2023-07-31T08:13:13.580Z"
   },
   {
    "duration": 41,
    "start_time": "2023-07-31T08:13:13.597Z"
   },
   {
    "duration": 16,
    "start_time": "2023-07-31T08:13:13.640Z"
   },
   {
    "duration": 174,
    "start_time": "2023-07-31T08:13:13.657Z"
   },
   {
    "duration": 4,
    "start_time": "2023-07-31T08:13:13.834Z"
   },
   {
    "duration": 34,
    "start_time": "2023-07-31T08:13:13.900Z"
   },
   {
    "duration": 29,
    "start_time": "2023-07-31T08:13:13.936Z"
   },
   {
    "duration": 2,
    "start_time": "2023-07-31T08:15:27.688Z"
   },
   {
    "duration": 394,
    "start_time": "2023-07-31T08:16:55.926Z"
   },
   {
    "duration": 3,
    "start_time": "2023-07-31T08:17:14.966Z"
   },
   {
    "duration": 122,
    "start_time": "2023-07-31T08:17:15.565Z"
   },
   {
    "duration": 4,
    "start_time": "2023-07-31T08:17:30.214Z"
   },
   {
    "duration": 2,
    "start_time": "2023-07-31T08:17:40.326Z"
   },
   {
    "duration": 164,
    "start_time": "2023-07-31T08:17:40.608Z"
   },
   {
    "duration": 4,
    "start_time": "2023-07-31T08:18:39.972Z"
   },
   {
    "duration": 238,
    "start_time": "2023-07-31T08:18:45.887Z"
   },
   {
    "duration": 10162,
    "start_time": "2023-07-31T08:22:13.708Z"
   },
   {
    "duration": 9523,
    "start_time": "2023-07-31T08:23:22.164Z"
   },
   {
    "duration": 10154,
    "start_time": "2023-07-31T08:24:38.752Z"
   },
   {
    "duration": 4,
    "start_time": "2023-07-31T08:24:48.908Z"
   },
   {
    "duration": 7,
    "start_time": "2023-07-31T08:24:48.913Z"
   },
   {
    "duration": 5,
    "start_time": "2023-07-31T08:25:04.486Z"
   },
   {
    "duration": 4,
    "start_time": "2023-07-31T08:25:05.582Z"
   },
   {
    "duration": 5,
    "start_time": "2023-07-31T08:25:18.910Z"
   },
   {
    "duration": 5,
    "start_time": "2023-07-31T08:25:19.227Z"
   },
   {
    "duration": 4,
    "start_time": "2023-07-31T08:25:19.573Z"
   },
   {
    "duration": 5,
    "start_time": "2023-07-31T08:25:19.899Z"
   },
   {
    "duration": 10,
    "start_time": "2023-07-31T08:25:20.687Z"
   },
   {
    "duration": 11,
    "start_time": "2023-07-31T08:25:21.056Z"
   },
   {
    "duration": 4,
    "start_time": "2023-07-31T08:25:21.465Z"
   },
   {
    "duration": 4,
    "start_time": "2023-07-31T08:25:21.890Z"
   },
   {
    "duration": 3,
    "start_time": "2023-07-31T08:25:23.061Z"
   },
   {
    "duration": 9736,
    "start_time": "2023-07-31T08:25:23.393Z"
   },
   {
    "duration": 4,
    "start_time": "2023-07-31T08:25:33.130Z"
   },
   {
    "duration": 9,
    "start_time": "2023-07-31T08:25:33.136Z"
   },
   {
    "duration": 2,
    "start_time": "2023-07-31T08:27:20.915Z"
   },
   {
    "duration": 10,
    "start_time": "2023-07-31T08:27:21.380Z"
   },
   {
    "duration": 48,
    "start_time": "2023-07-31T08:27:49.304Z"
   },
   {
    "duration": 17,
    "start_time": "2023-07-31T08:27:59.963Z"
   },
   {
    "duration": 14,
    "start_time": "2023-07-31T08:28:11.930Z"
   },
   {
    "duration": 12,
    "start_time": "2023-07-31T08:28:41.878Z"
   },
   {
    "duration": 3,
    "start_time": "2023-07-31T08:29:01.108Z"
   },
   {
    "duration": 4438,
    "start_time": "2023-07-31T08:29:10.122Z"
   },
   {
    "duration": 8,
    "start_time": "2023-07-31T08:30:50.360Z"
   },
   {
    "duration": 3,
    "start_time": "2023-07-31T08:30:51.254Z"
   },
   {
    "duration": 8,
    "start_time": "2023-07-31T08:31:01.184Z"
   },
   {
    "duration": 3,
    "start_time": "2023-07-31T08:31:01.520Z"
   },
   {
    "duration": 4780,
    "start_time": "2023-07-31T08:31:02.381Z"
   },
   {
    "duration": 11,
    "start_time": "2023-07-31T08:31:13.598Z"
   },
   {
    "duration": 4267,
    "start_time": "2023-07-31T08:31:18.129Z"
   },
   {
    "duration": 4920,
    "start_time": "2023-07-31T08:32:22.608Z"
   },
   {
    "duration": 9,
    "start_time": "2023-07-31T08:34:17.407Z"
   },
   {
    "duration": 11,
    "start_time": "2023-07-31T08:34:45.868Z"
   },
   {
    "duration": 3,
    "start_time": "2023-07-31T08:35:03.388Z"
   },
   {
    "duration": 10117,
    "start_time": "2023-07-31T08:35:03.901Z"
   },
   {
    "duration": 11,
    "start_time": "2023-07-31T08:35:24.662Z"
   },
   {
    "duration": 8,
    "start_time": "2023-07-31T08:35:25.229Z"
   },
   {
    "duration": 4,
    "start_time": "2023-07-31T08:35:33.961Z"
   },
   {
    "duration": 11277,
    "start_time": "2023-07-31T08:35:34.624Z"
   },
   {
    "duration": 12,
    "start_time": "2023-07-31T08:36:03.583Z"
   },
   {
    "duration": 12,
    "start_time": "2023-07-31T08:36:04.054Z"
   },
   {
    "duration": 9,
    "start_time": "2023-07-31T08:36:50.267Z"
   },
   {
    "duration": 3,
    "start_time": "2023-07-31T08:37:17.619Z"
   },
   {
    "duration": 20720,
    "start_time": "2023-07-31T08:37:18.406Z"
   },
   {
    "duration": 8,
    "start_time": "2023-07-31T08:37:39.128Z"
   },
   {
    "duration": 17,
    "start_time": "2023-07-31T08:37:39.137Z"
   },
   {
    "duration": 9,
    "start_time": "2023-07-31T08:37:59.927Z"
   },
   {
    "duration": 1569,
    "start_time": "2023-07-31T08:51:39.089Z"
   },
   {
    "duration": 104,
    "start_time": "2023-07-31T08:51:40.660Z"
   },
   {
    "duration": 9,
    "start_time": "2023-07-31T08:51:40.766Z"
   },
   {
    "duration": 10,
    "start_time": "2023-07-31T08:51:40.776Z"
   },
   {
    "duration": 28,
    "start_time": "2023-07-31T08:51:40.788Z"
   },
   {
    "duration": 6,
    "start_time": "2023-07-31T08:51:40.818Z"
   },
   {
    "duration": 15,
    "start_time": "2023-07-31T08:51:40.825Z"
   },
   {
    "duration": 14,
    "start_time": "2023-07-31T08:51:40.842Z"
   },
   {
    "duration": 580,
    "start_time": "2023-07-31T08:51:40.858Z"
   },
   {
    "duration": 6,
    "start_time": "2023-07-31T08:51:41.440Z"
   },
   {
    "duration": 7,
    "start_time": "2023-07-31T08:51:41.447Z"
   },
   {
    "duration": 11,
    "start_time": "2023-07-31T08:51:41.456Z"
   },
   {
    "duration": 17,
    "start_time": "2023-07-31T08:51:41.469Z"
   },
   {
    "duration": 14,
    "start_time": "2023-07-31T08:51:41.570Z"
   },
   {
    "duration": 30,
    "start_time": "2023-07-31T08:51:41.585Z"
   },
   {
    "duration": 17,
    "start_time": "2023-07-31T08:51:41.618Z"
   },
   {
    "duration": 7,
    "start_time": "2023-07-31T08:51:41.637Z"
   },
   {
    "duration": 47,
    "start_time": "2023-07-31T08:51:41.645Z"
   },
   {
    "duration": 65,
    "start_time": "2023-07-31T08:51:41.693Z"
   },
   {
    "duration": 2,
    "start_time": "2023-07-31T08:51:41.760Z"
   },
   {
    "duration": 12,
    "start_time": "2023-07-31T08:51:41.764Z"
   },
   {
    "duration": 6,
    "start_time": "2023-07-31T08:51:41.778Z"
   },
   {
    "duration": 11,
    "start_time": "2023-07-31T08:51:41.786Z"
   },
   {
    "duration": 35,
    "start_time": "2023-07-31T08:51:41.799Z"
   },
   {
    "duration": 20,
    "start_time": "2023-07-31T08:51:41.836Z"
   },
   {
    "duration": 70,
    "start_time": "2023-07-31T08:51:41.859Z"
   },
   {
    "duration": 99,
    "start_time": "2023-07-31T08:51:42.003Z"
   },
   {
    "duration": 19,
    "start_time": "2023-07-31T08:51:42.104Z"
   },
   {
    "duration": 21,
    "start_time": "2023-07-31T08:51:42.125Z"
   },
   {
    "duration": 11271,
    "start_time": "2023-07-31T08:51:42.148Z"
   },
   {
    "duration": 5,
    "start_time": "2023-07-31T08:51:53.421Z"
   },
   {
    "duration": 10,
    "start_time": "2023-07-31T08:51:53.428Z"
   },
   {
    "duration": 24,
    "start_time": "2023-07-31T08:51:53.440Z"
   },
   {
    "duration": 6,
    "start_time": "2023-07-31T08:51:53.466Z"
   },
   {
    "duration": 27520,
    "start_time": "2023-07-31T08:51:53.474Z"
   },
   {
    "duration": 26,
    "start_time": "2023-07-31T08:52:20.996Z"
   },
   {
    "duration": 18,
    "start_time": "2023-07-31T08:52:21.026Z"
   },
   {
    "duration": 5,
    "start_time": "2023-07-31T08:52:31.449Z"
   },
   {
    "duration": 1582,
    "start_time": "2023-07-31T08:52:42.446Z"
   },
   {
    "duration": 126,
    "start_time": "2023-07-31T08:52:44.030Z"
   },
   {
    "duration": 9,
    "start_time": "2023-07-31T08:52:44.158Z"
   },
   {
    "duration": 28,
    "start_time": "2023-07-31T08:52:44.168Z"
   },
   {
    "duration": 33,
    "start_time": "2023-07-31T08:52:44.198Z"
   },
   {
    "duration": 12,
    "start_time": "2023-07-31T08:52:44.233Z"
   },
   {
    "duration": 25,
    "start_time": "2023-07-31T08:52:44.248Z"
   },
   {
    "duration": 4,
    "start_time": "2023-07-31T08:52:44.275Z"
   },
   {
    "duration": 602,
    "start_time": "2023-07-31T08:52:44.280Z"
   },
   {
    "duration": 5,
    "start_time": "2023-07-31T08:52:44.884Z"
   },
   {
    "duration": 7,
    "start_time": "2023-07-31T08:52:44.891Z"
   },
   {
    "duration": 42,
    "start_time": "2023-07-31T08:52:44.902Z"
   },
   {
    "duration": 15,
    "start_time": "2023-07-31T08:52:44.946Z"
   },
   {
    "duration": 15,
    "start_time": "2023-07-31T08:52:45.035Z"
   },
   {
    "duration": 36,
    "start_time": "2023-07-31T08:52:45.052Z"
   },
   {
    "duration": 44,
    "start_time": "2023-07-31T08:52:45.090Z"
   },
   {
    "duration": 6,
    "start_time": "2023-07-31T08:52:45.136Z"
   },
   {
    "duration": 11,
    "start_time": "2023-07-31T08:52:45.144Z"
   },
   {
    "duration": 32,
    "start_time": "2023-07-31T08:52:45.157Z"
   },
   {
    "duration": 3,
    "start_time": "2023-07-31T08:52:45.190Z"
   },
   {
    "duration": 39,
    "start_time": "2023-07-31T08:52:45.195Z"
   },
   {
    "duration": 10,
    "start_time": "2023-07-31T08:52:45.236Z"
   },
   {
    "duration": 10,
    "start_time": "2023-07-31T08:52:45.248Z"
   },
   {
    "duration": 4,
    "start_time": "2023-07-31T08:52:45.260Z"
   },
   {
    "duration": 29,
    "start_time": "2023-07-31T08:52:45.266Z"
   },
   {
    "duration": 120,
    "start_time": "2023-07-31T08:52:45.297Z"
   },
   {
    "duration": 91,
    "start_time": "2023-07-31T08:52:45.430Z"
   },
   {
    "duration": 22,
    "start_time": "2023-07-31T08:52:45.525Z"
   },
   {
    "duration": 15,
    "start_time": "2023-07-31T08:52:45.549Z"
   },
   {
    "duration": 9416,
    "start_time": "2023-07-31T08:52:45.565Z"
   },
   {
    "duration": 4,
    "start_time": "2023-07-31T08:52:54.983Z"
   },
   {
    "duration": 44,
    "start_time": "2023-07-31T08:52:54.988Z"
   },
   {
    "duration": 36,
    "start_time": "2023-07-31T08:52:55.034Z"
   },
   {
    "duration": 7,
    "start_time": "2023-07-31T08:52:55.072Z"
   },
   {
    "duration": 23556,
    "start_time": "2023-07-31T08:52:55.081Z"
   },
   {
    "duration": 10,
    "start_time": "2023-07-31T08:53:18.638Z"
   },
   {
    "duration": 77,
    "start_time": "2023-07-31T08:53:18.650Z"
   },
   {
    "duration": 8706,
    "start_time": "2023-07-31T08:53:18.732Z"
   },
   {
    "duration": 10,
    "start_time": "2023-07-31T08:53:27.441Z"
   },
   {
    "duration": 15,
    "start_time": "2023-07-31T08:53:27.452Z"
   },
   {
    "duration": 20,
    "start_time": "2023-07-31T08:53:27.469Z"
   },
   {
    "duration": 10703,
    "start_time": "2023-07-31T08:56:56.273Z"
   },
   {
    "duration": 10548,
    "start_time": "2023-07-31T08:57:32.477Z"
   },
   {
    "duration": 5,
    "start_time": "2023-07-31T08:57:43.027Z"
   },
   {
    "duration": 9,
    "start_time": "2023-07-31T08:57:43.033Z"
   },
   {
    "duration": 10,
    "start_time": "2023-07-31T08:57:54.157Z"
   },
   {
    "duration": 7,
    "start_time": "2023-07-31T08:58:00.228Z"
   },
   {
    "duration": 8,
    "start_time": "2023-07-31T08:58:01.816Z"
   },
   {
    "duration": 22435,
    "start_time": "2023-07-31T08:58:02.576Z"
   },
   {
    "duration": 12,
    "start_time": "2023-07-31T08:58:25.020Z"
   },
   {
    "duration": 24,
    "start_time": "2023-07-31T08:58:25.034Z"
   },
   {
    "duration": 6,
    "start_time": "2023-07-31T08:58:54.575Z"
   },
   {
    "duration": 6,
    "start_time": "2023-07-31T08:59:12.589Z"
   },
   {
    "duration": 5,
    "start_time": "2023-07-31T08:59:18.889Z"
   },
   {
    "duration": 13,
    "start_time": "2023-07-31T08:59:20.796Z"
   },
   {
    "duration": 4,
    "start_time": "2023-07-31T08:59:23.766Z"
   },
   {
    "duration": 11,
    "start_time": "2023-07-31T09:01:20.287Z"
   },
   {
    "duration": 3482,
    "start_time": "2023-07-31T09:01:31.961Z"
   },
   {
    "duration": 3622,
    "start_time": "2023-07-31T09:01:44.361Z"
   },
   {
    "duration": 4319,
    "start_time": "2023-07-31T09:02:59.252Z"
   },
   {
    "duration": 29,
    "start_time": "2023-07-31T09:05:05.192Z"
   },
   {
    "duration": 4,
    "start_time": "2023-07-31T09:06:02.192Z"
   },
   {
    "duration": 5,
    "start_time": "2023-07-31T09:06:02.556Z"
   },
   {
    "duration": 18,
    "start_time": "2023-07-31T09:06:02.997Z"
   },
   {
    "duration": 3507,
    "start_time": "2023-07-31T09:06:03.757Z"
   },
   {
    "duration": 14,
    "start_time": "2023-07-31T09:06:07.266Z"
   },
   {
    "duration": 16,
    "start_time": "2023-07-31T09:06:21.155Z"
   },
   {
    "duration": 7,
    "start_time": "2023-07-31T09:06:55.072Z"
   },
   {
    "duration": 6,
    "start_time": "2023-07-31T09:07:05.394Z"
   },
   {
    "duration": 4,
    "start_time": "2023-07-31T09:07:09.776Z"
   },
   {
    "duration": 10,
    "start_time": "2023-07-31T09:08:02.820Z"
   },
   {
    "duration": 7,
    "start_time": "2023-07-31T09:08:05.521Z"
   },
   {
    "duration": 4,
    "start_time": "2023-07-31T09:08:05.852Z"
   },
   {
    "duration": 4,
    "start_time": "2023-07-31T09:08:07.421Z"
   },
   {
    "duration": 3236,
    "start_time": "2023-07-31T09:08:52.793Z"
   },
   {
    "duration": 9,
    "start_time": "2023-07-31T09:09:18.780Z"
   },
   {
    "duration": 20,
    "start_time": "2023-07-31T09:09:38.197Z"
   },
   {
    "duration": 476,
    "start_time": "2023-07-31T09:10:18.592Z"
   },
   {
    "duration": 1675,
    "start_time": "2023-08-01T05:56:39.838Z"
   },
   {
    "duration": 236,
    "start_time": "2023-08-01T05:56:41.515Z"
   },
   {
    "duration": 8,
    "start_time": "2023-08-01T05:56:41.752Z"
   },
   {
    "duration": 9,
    "start_time": "2023-08-01T05:56:41.762Z"
   },
   {
    "duration": 11,
    "start_time": "2023-08-01T05:56:41.772Z"
   },
   {
    "duration": 4,
    "start_time": "2023-08-01T05:56:41.784Z"
   },
   {
    "duration": 10,
    "start_time": "2023-08-01T05:56:42.419Z"
   },
   {
    "duration": 4,
    "start_time": "2023-08-01T05:56:42.903Z"
   },
   {
    "duration": 582,
    "start_time": "2023-08-01T05:56:43.906Z"
   },
   {
    "duration": 2,
    "start_time": "2023-08-01T05:58:26.298Z"
   },
   {
    "duration": 324,
    "start_time": "2023-08-01T05:59:04.968Z"
   },
   {
    "duration": 1518,
    "start_time": "2023-08-01T05:59:14.902Z"
   },
   {
    "duration": 110,
    "start_time": "2023-08-01T05:59:16.422Z"
   },
   {
    "duration": 9,
    "start_time": "2023-08-01T05:59:16.534Z"
   },
   {
    "duration": 10,
    "start_time": "2023-08-01T05:59:16.546Z"
   },
   {
    "duration": 9,
    "start_time": "2023-08-01T05:59:16.558Z"
   },
   {
    "duration": 5,
    "start_time": "2023-08-01T05:59:16.569Z"
   },
   {
    "duration": 12,
    "start_time": "2023-08-01T05:59:16.575Z"
   },
   {
    "duration": 32,
    "start_time": "2023-08-01T05:59:16.589Z"
   },
   {
    "duration": 584,
    "start_time": "2023-08-01T05:59:16.623Z"
   },
   {
    "duration": 6,
    "start_time": "2023-08-01T05:59:17.210Z"
   },
   {
    "duration": 10,
    "start_time": "2023-08-01T05:59:17.218Z"
   },
   {
    "duration": 11,
    "start_time": "2023-08-01T05:59:17.230Z"
   },
   {
    "duration": 80,
    "start_time": "2023-08-01T05:59:17.243Z"
   },
   {
    "duration": 14,
    "start_time": "2023-08-01T05:59:17.325Z"
   },
   {
    "duration": 30,
    "start_time": "2023-08-01T05:59:17.340Z"
   },
   {
    "duration": 18,
    "start_time": "2023-08-01T05:59:17.371Z"
   },
   {
    "duration": 5,
    "start_time": "2023-08-01T05:59:17.391Z"
   },
   {
    "duration": 10,
    "start_time": "2023-08-01T05:59:17.397Z"
   },
   {
    "duration": 30,
    "start_time": "2023-08-01T05:59:17.408Z"
   },
   {
    "duration": 3,
    "start_time": "2023-08-01T05:59:17.439Z"
   },
   {
    "duration": 9,
    "start_time": "2023-08-01T05:59:17.443Z"
   },
   {
    "duration": 9,
    "start_time": "2023-08-01T05:59:17.453Z"
   },
   {
    "duration": 9,
    "start_time": "2023-08-01T05:59:17.463Z"
   },
   {
    "duration": 9,
    "start_time": "2023-08-01T05:59:17.473Z"
   },
   {
    "duration": 14,
    "start_time": "2023-08-01T05:59:17.483Z"
   },
   {
    "duration": 14,
    "start_time": "2023-08-01T05:59:17.520Z"
   },
   {
    "duration": 100,
    "start_time": "2023-08-01T05:59:17.621Z"
   },
   {
    "duration": 6,
    "start_time": "2023-08-01T05:59:17.724Z"
   },
   {
    "duration": 6,
    "start_time": "2023-08-01T05:59:17.731Z"
   },
   {
    "duration": 5,
    "start_time": "2023-08-01T05:59:17.738Z"
   },
   {
    "duration": 2213,
    "start_time": "2023-08-01T05:59:17.745Z"
   },
   {
    "duration": 4,
    "start_time": "2023-08-01T05:59:19.960Z"
   },
   {
    "duration": 4,
    "start_time": "2023-08-01T05:59:19.966Z"
   },
   {
    "duration": 13,
    "start_time": "2023-08-01T05:59:19.972Z"
   },
   {
    "duration": 32,
    "start_time": "2023-08-01T05:59:19.987Z"
   },
   {
    "duration": 20796,
    "start_time": "2023-08-01T05:59:20.021Z"
   },
   {
    "duration": 10,
    "start_time": "2023-08-01T05:59:40.819Z"
   },
   {
    "duration": 41,
    "start_time": "2023-08-01T05:59:40.831Z"
   },
   {
    "duration": 4,
    "start_time": "2023-08-01T05:59:40.873Z"
   },
   {
    "duration": 7,
    "start_time": "2023-08-01T05:59:40.878Z"
   },
   {
    "duration": 35,
    "start_time": "2023-08-01T05:59:40.886Z"
   },
   {
    "duration": 2994,
    "start_time": "2023-08-01T05:59:40.922Z"
   },
   {
    "duration": 8,
    "start_time": "2023-08-01T05:59:43.917Z"
   },
   {
    "duration": 7,
    "start_time": "2023-08-01T05:59:43.926Z"
   },
   {
    "duration": 5,
    "start_time": "2023-08-01T05:59:43.935Z"
   },
   {
    "duration": 4,
    "start_time": "2023-08-01T05:59:43.941Z"
   },
   {
    "duration": 2,
    "start_time": "2023-08-01T06:00:17.284Z"
   },
   {
    "duration": 167,
    "start_time": "2023-08-01T06:02:15.801Z"
   },
   {
    "duration": 5,
    "start_time": "2023-08-01T06:02:18.458Z"
   },
   {
    "duration": 2,
    "start_time": "2023-08-01T06:02:21.965Z"
   },
   {
    "duration": 4,
    "start_time": "2023-08-01T06:02:24.033Z"
   },
   {
    "duration": 6125,
    "start_time": "2023-08-01T06:03:06.545Z"
   },
   {
    "duration": 6090,
    "start_time": "2023-08-01T06:03:27.643Z"
   },
   {
    "duration": 203,
    "start_time": "2023-08-01T06:03:33.735Z"
   },
   {
    "duration": 3,
    "start_time": "2023-08-01T06:03:35.135Z"
   },
   {
    "duration": 2,
    "start_time": "2023-08-01T06:03:37.195Z"
   },
   {
    "duration": 3,
    "start_time": "2023-08-01T06:03:38.321Z"
   },
   {
    "duration": 8,
    "start_time": "2023-08-01T06:03:55.956Z"
   },
   {
    "duration": 3,
    "start_time": "2023-08-01T06:03:56.314Z"
   },
   {
    "duration": 1700,
    "start_time": "2023-08-01T06:03:56.629Z"
   },
   {
    "duration": 12697,
    "start_time": "2023-08-01T06:07:51.372Z"
   },
   {
    "duration": 1799,
    "start_time": "2023-08-01T06:08:09.486Z"
   },
   {
    "duration": 1470,
    "start_time": "2023-08-01T06:08:21.236Z"
   },
   {
    "duration": 8,
    "start_time": "2023-08-01T06:10:06.477Z"
   },
   {
    "duration": 2,
    "start_time": "2023-08-01T06:10:07.039Z"
   },
   {
    "duration": 2579,
    "start_time": "2023-08-01T06:10:14.030Z"
   },
   {
    "duration": 3792,
    "start_time": "2023-08-01T06:12:12.850Z"
   },
   {
    "duration": 8,
    "start_time": "2023-08-01T06:12:20.203Z"
   },
   {
    "duration": 8,
    "start_time": "2023-08-01T06:12:30.755Z"
   },
   {
    "duration": 100,
    "start_time": "2023-08-01T06:13:06.625Z"
   },
   {
    "duration": 3183,
    "start_time": "2023-08-01T06:13:09.855Z"
   },
   {
    "duration": 7,
    "start_time": "2023-08-01T06:13:13.040Z"
   },
   {
    "duration": 14,
    "start_time": "2023-08-01T06:13:13.048Z"
   },
   {
    "duration": 4,
    "start_time": "2023-08-01T06:13:13.268Z"
   },
   {
    "duration": 8,
    "start_time": "2023-08-01T06:13:14.162Z"
   },
   {
    "duration": 4,
    "start_time": "2023-08-01T06:13:32.672Z"
   },
   {
    "duration": 7,
    "start_time": "2023-08-01T06:13:37.808Z"
   },
   {
    "duration": 4,
    "start_time": "2023-08-01T06:13:45.384Z"
   },
   {
    "duration": 4,
    "start_time": "2023-08-01T06:13:47.619Z"
   },
   {
    "duration": 1533,
    "start_time": "2023-08-01T06:14:06.749Z"
   },
   {
    "duration": 7,
    "start_time": "2023-08-01T06:14:09.085Z"
   },
   {
    "duration": 4,
    "start_time": "2023-08-01T06:14:09.853Z"
   },
   {
    "duration": 1240,
    "start_time": "2023-08-01T06:14:16.203Z"
   },
   {
    "duration": 8,
    "start_time": "2023-08-01T06:14:18.261Z"
   },
   {
    "duration": 3,
    "start_time": "2023-08-01T06:14:19.558Z"
   },
   {
    "duration": 128,
    "start_time": "2023-08-01T06:14:28.683Z"
   },
   {
    "duration": 1867,
    "start_time": "2023-08-01T06:14:30.493Z"
   },
   {
    "duration": 7,
    "start_time": "2023-08-01T06:14:32.362Z"
   },
   {
    "duration": 3,
    "start_time": "2023-08-01T06:14:33.518Z"
   },
   {
    "duration": 7144,
    "start_time": "2023-08-01T06:16:21.759Z"
   },
   {
    "duration": 11,
    "start_time": "2023-08-01T06:16:29.914Z"
   },
   {
    "duration": 33075,
    "start_time": "2023-08-01T06:19:08.007Z"
   },
   {
    "duration": 0,
    "start_time": "2023-08-01T06:19:41.084Z"
   },
   {
    "duration": 15251,
    "start_time": "2023-08-01T06:20:43.012Z"
   },
   {
    "duration": 3,
    "start_time": "2023-08-01T06:20:58.265Z"
   },
   {
    "duration": 15590,
    "start_time": "2023-08-01T06:21:15.869Z"
   },
   {
    "duration": 3,
    "start_time": "2023-08-01T06:21:40.412Z"
   },
   {
    "duration": 18446,
    "start_time": "2023-08-01T06:22:20.355Z"
   },
   {
    "duration": 4,
    "start_time": "2023-08-01T06:22:38.802Z"
   },
   {
    "duration": 6,
    "start_time": "2023-08-01T06:23:48.982Z"
   },
   {
    "duration": 1377,
    "start_time": "2023-08-01T06:23:58.194Z"
   },
   {
    "duration": 113,
    "start_time": "2023-08-01T06:23:59.573Z"
   },
   {
    "duration": 9,
    "start_time": "2023-08-01T06:23:59.688Z"
   },
   {
    "duration": 15,
    "start_time": "2023-08-01T06:23:59.699Z"
   },
   {
    "duration": 12,
    "start_time": "2023-08-01T06:23:59.716Z"
   },
   {
    "duration": 4,
    "start_time": "2023-08-01T06:23:59.730Z"
   },
   {
    "duration": 17,
    "start_time": "2023-08-01T06:23:59.735Z"
   },
   {
    "duration": 3,
    "start_time": "2023-08-01T06:23:59.754Z"
   },
   {
    "duration": 601,
    "start_time": "2023-08-01T06:23:59.758Z"
   },
   {
    "duration": 5,
    "start_time": "2023-08-01T06:24:00.361Z"
   },
   {
    "duration": 132,
    "start_time": "2023-08-01T06:24:00.367Z"
   },
   {
    "duration": 66,
    "start_time": "2023-08-01T06:24:00.500Z"
   },
   {
    "duration": 77,
    "start_time": "2023-08-01T06:24:00.567Z"
   },
   {
    "duration": 66,
    "start_time": "2023-08-01T06:24:00.646Z"
   },
   {
    "duration": 46,
    "start_time": "2023-08-01T06:24:00.713Z"
   },
   {
    "duration": 44,
    "start_time": "2023-08-01T06:24:00.760Z"
   },
   {
    "duration": 31,
    "start_time": "2023-08-01T06:24:00.805Z"
   },
   {
    "duration": 33,
    "start_time": "2023-08-01T06:24:00.837Z"
   },
   {
    "duration": 70,
    "start_time": "2023-08-01T06:24:00.871Z"
   },
   {
    "duration": 7,
    "start_time": "2023-08-01T06:24:00.943Z"
   },
   {
    "duration": 24,
    "start_time": "2023-08-01T06:24:00.951Z"
   },
   {
    "duration": 24,
    "start_time": "2023-08-01T06:24:00.977Z"
   },
   {
    "duration": 39,
    "start_time": "2023-08-01T06:24:01.002Z"
   },
   {
    "duration": 28,
    "start_time": "2023-08-01T06:24:01.043Z"
   },
   {
    "duration": 31,
    "start_time": "2023-08-01T06:24:01.073Z"
   },
   {
    "duration": 34,
    "start_time": "2023-08-01T06:24:01.106Z"
   },
   {
    "duration": 82,
    "start_time": "2023-08-01T06:24:01.141Z"
   },
   {
    "duration": 39,
    "start_time": "2023-08-01T06:24:01.228Z"
   },
   {
    "duration": 35,
    "start_time": "2023-08-01T06:24:01.268Z"
   },
   {
    "duration": 39,
    "start_time": "2023-08-01T06:24:01.305Z"
   },
   {
    "duration": 7999,
    "start_time": "2023-08-01T06:24:01.345Z"
   },
   {
    "duration": 271,
    "start_time": "2023-08-01T06:24:09.346Z"
   },
   {
    "duration": 3,
    "start_time": "2023-08-01T06:24:09.620Z"
   },
   {
    "duration": 9,
    "start_time": "2023-08-01T06:24:09.624Z"
   },
   {
    "duration": 16,
    "start_time": "2023-08-01T06:24:09.634Z"
   },
   {
    "duration": 12,
    "start_time": "2023-08-01T06:24:09.651Z"
   },
   {
    "duration": 1037,
    "start_time": "2023-08-01T06:24:09.665Z"
   },
   {
    "duration": 0,
    "start_time": "2023-08-01T06:24:10.703Z"
   },
   {
    "duration": 0,
    "start_time": "2023-08-01T06:24:10.704Z"
   },
   {
    "duration": 0,
    "start_time": "2023-08-01T06:24:10.705Z"
   },
   {
    "duration": 0,
    "start_time": "2023-08-01T06:24:10.706Z"
   },
   {
    "duration": 0,
    "start_time": "2023-08-01T06:24:10.707Z"
   },
   {
    "duration": 0,
    "start_time": "2023-08-01T06:24:10.708Z"
   },
   {
    "duration": 0,
    "start_time": "2023-08-01T06:24:10.710Z"
   },
   {
    "duration": 0,
    "start_time": "2023-08-01T06:24:10.710Z"
   },
   {
    "duration": 0,
    "start_time": "2023-08-01T06:24:10.711Z"
   },
   {
    "duration": 0,
    "start_time": "2023-08-01T06:24:10.712Z"
   },
   {
    "duration": 19914,
    "start_time": "2023-08-01T06:24:19.825Z"
   },
   {
    "duration": 4,
    "start_time": "2023-08-01T06:24:39.740Z"
   },
   {
    "duration": 10,
    "start_time": "2023-08-01T06:24:39.745Z"
   },
   {
    "duration": 3,
    "start_time": "2023-08-01T06:24:43.672Z"
   },
   {
    "duration": 15,
    "start_time": "2023-08-01T06:28:11.661Z"
   },
   {
    "duration": 20832,
    "start_time": "2023-08-01T06:29:26.369Z"
   },
   {
    "duration": 56627,
    "start_time": "2023-08-01T06:30:25.389Z"
   },
   {
    "duration": 4,
    "start_time": "2023-08-01T06:31:25.932Z"
   },
   {
    "duration": 56438,
    "start_time": "2023-08-01T06:31:55.991Z"
   },
   {
    "duration": 3,
    "start_time": "2023-08-01T06:35:06.836Z"
   },
   {
    "duration": 135,
    "start_time": "2023-08-01T06:35:08.601Z"
   },
   {
    "duration": 3,
    "start_time": "2023-08-01T06:35:13.581Z"
   },
   {
    "duration": 306,
    "start_time": "2023-08-01T06:36:34.908Z"
   },
   {
    "duration": 300,
    "start_time": "2023-08-01T06:37:17.248Z"
   },
   {
    "duration": 1532,
    "start_time": "2023-08-01T06:37:34.781Z"
   },
   {
    "duration": 203,
    "start_time": "2023-08-01T06:37:36.315Z"
   },
   {
    "duration": 16,
    "start_time": "2023-08-01T06:37:36.522Z"
   },
   {
    "duration": 18,
    "start_time": "2023-08-01T06:37:36.540Z"
   },
   {
    "duration": 18,
    "start_time": "2023-08-01T06:37:36.560Z"
   },
   {
    "duration": 8,
    "start_time": "2023-08-01T06:37:36.580Z"
   },
   {
    "duration": 13,
    "start_time": "2023-08-01T06:37:36.590Z"
   },
   {
    "duration": 5,
    "start_time": "2023-08-01T06:37:36.605Z"
   },
   {
    "duration": 645,
    "start_time": "2023-08-01T06:37:36.612Z"
   },
   {
    "duration": 6,
    "start_time": "2023-08-01T06:37:37.259Z"
   },
   {
    "duration": 3,
    "start_time": "2023-08-01T06:37:37.267Z"
   },
   {
    "duration": 7,
    "start_time": "2023-08-01T06:37:37.272Z"
   },
   {
    "duration": 18,
    "start_time": "2023-08-01T06:37:37.280Z"
   },
   {
    "duration": 13,
    "start_time": "2023-08-01T06:37:37.370Z"
   },
   {
    "duration": 32,
    "start_time": "2023-08-01T06:37:37.385Z"
   },
   {
    "duration": 35,
    "start_time": "2023-08-01T06:37:37.419Z"
   },
   {
    "duration": 28,
    "start_time": "2023-08-01T06:37:37.456Z"
   },
   {
    "duration": 9,
    "start_time": "2023-08-01T06:37:37.485Z"
   },
   {
    "duration": 44,
    "start_time": "2023-08-01T06:37:37.495Z"
   },
   {
    "duration": 3,
    "start_time": "2023-08-01T06:37:37.540Z"
   },
   {
    "duration": 20,
    "start_time": "2023-08-01T06:37:37.545Z"
   },
   {
    "duration": 7,
    "start_time": "2023-08-01T06:37:37.567Z"
   },
   {
    "duration": 7,
    "start_time": "2023-08-01T06:37:37.576Z"
   },
   {
    "duration": 8,
    "start_time": "2023-08-01T06:37:37.585Z"
   },
   {
    "duration": 14,
    "start_time": "2023-08-01T06:37:37.594Z"
   },
   {
    "duration": 37,
    "start_time": "2023-08-01T06:37:37.610Z"
   },
   {
    "duration": 74,
    "start_time": "2023-08-01T06:37:37.649Z"
   },
   {
    "duration": 8,
    "start_time": "2023-08-01T06:37:37.725Z"
   },
   {
    "duration": 19,
    "start_time": "2023-08-01T06:37:37.735Z"
   },
   {
    "duration": 10,
    "start_time": "2023-08-01T06:37:37.755Z"
   },
   {
    "duration": 8662,
    "start_time": "2023-08-01T06:37:37.767Z"
   },
   {
    "duration": 261,
    "start_time": "2023-08-01T06:37:46.430Z"
   },
   {
    "duration": 3,
    "start_time": "2023-08-01T06:37:46.693Z"
   },
   {
    "duration": 6,
    "start_time": "2023-08-01T06:37:46.698Z"
   },
   {
    "duration": 152,
    "start_time": "2023-08-01T06:37:46.706Z"
   },
   {
    "duration": 0,
    "start_time": "2023-08-01T06:37:46.859Z"
   },
   {
    "duration": 0,
    "start_time": "2023-08-01T06:37:46.861Z"
   },
   {
    "duration": 0,
    "start_time": "2023-08-01T06:37:46.862Z"
   },
   {
    "duration": 10,
    "start_time": "2023-08-01T06:41:01.771Z"
   },
   {
    "duration": 14,
    "start_time": "2023-08-01T06:41:02.341Z"
   },
   {
    "duration": 17,
    "start_time": "2023-08-01T06:41:23.432Z"
   },
   {
    "duration": 62606,
    "start_time": "2023-08-01T06:41:24.371Z"
   },
   {
    "duration": 5,
    "start_time": "2023-08-01T06:42:38.196Z"
   },
   {
    "duration": 3,
    "start_time": "2023-08-01T06:42:51.416Z"
   },
   {
    "duration": 11,
    "start_time": "2023-08-01T06:43:15.730Z"
   },
   {
    "duration": 4,
    "start_time": "2023-08-01T06:43:16.936Z"
   },
   {
    "duration": 290,
    "start_time": "2023-08-01T06:43:17.367Z"
   },
   {
    "duration": 137,
    "start_time": "2023-08-01T06:45:29.699Z"
   },
   {
    "duration": 12,
    "start_time": "2023-08-01T06:45:45.119Z"
   },
   {
    "duration": 2,
    "start_time": "2023-08-01T06:45:46.238Z"
   },
   {
    "duration": 3886,
    "start_time": "2023-08-01T06:46:45.080Z"
   },
   {
    "duration": 4303,
    "start_time": "2023-08-01T06:47:54.615Z"
   },
   {
    "duration": 33552,
    "start_time": "2023-08-01T06:50:04.359Z"
   },
   {
    "duration": 33439,
    "start_time": "2023-08-01T06:51:37.441Z"
   },
   {
    "duration": 306,
    "start_time": "2023-08-01T06:52:29.732Z"
   },
   {
    "duration": 3172,
    "start_time": "2023-08-01T06:56:04.272Z"
   },
   {
    "duration": 3,
    "start_time": "2023-08-01T07:09:58.444Z"
   },
   {
    "duration": 3,
    "start_time": "2023-08-01T07:09:59.635Z"
   },
   {
    "duration": 336,
    "start_time": "2023-08-01T07:12:11.133Z"
   },
   {
    "duration": 202,
    "start_time": "2023-08-01T07:12:32.794Z"
   },
   {
    "duration": 261,
    "start_time": "2023-08-01T07:12:53.399Z"
   },
   {
    "duration": 430,
    "start_time": "2023-08-01T07:14:08.193Z"
   },
   {
    "duration": 428,
    "start_time": "2023-08-01T07:14:57.462Z"
   },
   {
    "duration": 3,
    "start_time": "2023-08-01T07:15:31.122Z"
   },
   {
    "duration": 39,
    "start_time": "2023-08-01T07:17:24.967Z"
   },
   {
    "duration": 37,
    "start_time": "2023-08-01T07:17:32.195Z"
   },
   {
    "duration": 5,
    "start_time": "2023-08-01T07:17:56.125Z"
   },
   {
    "duration": 3,
    "start_time": "2023-08-01T07:17:59.275Z"
   },
   {
    "duration": 1666,
    "start_time": "2023-08-01T07:18:10.465Z"
   },
   {
    "duration": 133,
    "start_time": "2023-08-01T07:18:12.133Z"
   },
   {
    "duration": 9,
    "start_time": "2023-08-01T07:18:12.268Z"
   },
   {
    "duration": 11,
    "start_time": "2023-08-01T07:18:12.279Z"
   },
   {
    "duration": 18,
    "start_time": "2023-08-01T07:18:12.291Z"
   },
   {
    "duration": 9,
    "start_time": "2023-08-01T07:18:12.311Z"
   },
   {
    "duration": 15,
    "start_time": "2023-08-01T07:18:12.321Z"
   },
   {
    "duration": 7,
    "start_time": "2023-08-01T07:18:12.337Z"
   },
   {
    "duration": 598,
    "start_time": "2023-08-01T07:18:12.345Z"
   },
   {
    "duration": 5,
    "start_time": "2023-08-01T07:18:12.945Z"
   },
   {
    "duration": 8,
    "start_time": "2023-08-01T07:18:12.952Z"
   },
   {
    "duration": 10,
    "start_time": "2023-08-01T07:18:12.961Z"
   },
   {
    "duration": 75,
    "start_time": "2023-08-01T07:18:12.972Z"
   },
   {
    "duration": 12,
    "start_time": "2023-08-01T07:18:13.049Z"
   },
   {
    "duration": 22,
    "start_time": "2023-08-01T07:18:13.062Z"
   },
   {
    "duration": 15,
    "start_time": "2023-08-01T07:18:13.085Z"
   },
   {
    "duration": 11,
    "start_time": "2023-08-01T07:18:13.101Z"
   },
   {
    "duration": 10,
    "start_time": "2023-08-01T07:18:13.113Z"
   },
   {
    "duration": 37,
    "start_time": "2023-08-01T07:18:13.125Z"
   },
   {
    "duration": 3,
    "start_time": "2023-08-01T07:18:13.164Z"
   },
   {
    "duration": 21,
    "start_time": "2023-08-01T07:18:13.168Z"
   },
   {
    "duration": 28,
    "start_time": "2023-08-01T07:18:13.191Z"
   },
   {
    "duration": 6,
    "start_time": "2023-08-01T07:18:13.221Z"
   },
   {
    "duration": 10,
    "start_time": "2023-08-01T07:18:13.228Z"
   },
   {
    "duration": 9,
    "start_time": "2023-08-01T07:18:13.239Z"
   },
   {
    "duration": 7,
    "start_time": "2023-08-01T07:18:13.250Z"
   },
   {
    "duration": 63,
    "start_time": "2023-08-01T07:18:13.258Z"
   },
   {
    "duration": 7,
    "start_time": "2023-08-01T07:18:13.324Z"
   },
   {
    "duration": 6,
    "start_time": "2023-08-01T07:18:13.332Z"
   },
   {
    "duration": 8,
    "start_time": "2023-08-01T07:18:13.340Z"
   },
   {
    "duration": 451,
    "start_time": "2023-08-01T07:18:13.419Z"
   },
   {
    "duration": 3,
    "start_time": "2023-08-01T07:18:13.872Z"
   },
   {
    "duration": 50,
    "start_time": "2023-08-01T07:18:13.877Z"
   },
   {
    "duration": 3,
    "start_time": "2023-08-01T07:18:13.929Z"
   },
   {
    "duration": 7,
    "start_time": "2023-08-01T07:18:13.933Z"
   },
   {
    "duration": 20,
    "start_time": "2023-08-01T07:18:13.941Z"
   },
   {
    "duration": 8169,
    "start_time": "2023-08-01T07:18:13.962Z"
   },
   {
    "duration": 255,
    "start_time": "2023-08-01T07:18:22.132Z"
   },
   {
    "duration": 3,
    "start_time": "2023-08-01T07:18:22.388Z"
   },
   {
    "duration": 8,
    "start_time": "2023-08-01T07:18:22.392Z"
   },
   {
    "duration": 24,
    "start_time": "2023-08-01T07:18:22.402Z"
   },
   {
    "duration": 5,
    "start_time": "2023-08-01T07:18:22.427Z"
   },
   {
    "duration": 60445,
    "start_time": "2023-08-01T07:18:22.433Z"
   },
   {
    "duration": 2,
    "start_time": "2023-08-01T07:19:22.880Z"
   },
   {
    "duration": 7,
    "start_time": "2023-08-01T07:19:22.883Z"
   },
   {
    "duration": 270,
    "start_time": "2023-08-01T07:19:22.892Z"
   },
   {
    "duration": 294,
    "start_time": "2023-08-01T07:19:23.164Z"
   },
   {
    "duration": 3533,
    "start_time": "2023-08-01T07:19:23.460Z"
   },
   {
    "duration": 2892,
    "start_time": "2023-08-01T07:19:26.995Z"
   },
   {
    "duration": 2850,
    "start_time": "2023-08-01T07:20:59.397Z"
   },
   {
    "duration": 298,
    "start_time": "2023-08-01T07:21:02.249Z"
   },
   {
    "duration": 11,
    "start_time": "2023-08-01T07:21:02.549Z"
   },
   {
    "duration": 61,
    "start_time": "2023-08-01T07:21:02.562Z"
   },
   {
    "duration": 75,
    "start_time": "2023-08-01T07:21:02.625Z"
   },
   {
    "duration": 75,
    "start_time": "2023-08-01T07:21:02.701Z"
   },
   {
    "duration": 43,
    "start_time": "2023-08-01T07:21:02.778Z"
   },
   {
    "duration": 61,
    "start_time": "2023-08-01T07:21:02.823Z"
   },
   {
    "duration": 586,
    "start_time": "2023-08-01T07:21:02.885Z"
   },
   {
    "duration": 5,
    "start_time": "2023-08-01T07:21:03.473Z"
   },
   {
    "duration": 84,
    "start_time": "2023-08-01T07:21:03.480Z"
   },
   {
    "duration": 95,
    "start_time": "2023-08-01T07:21:03.566Z"
   },
   {
    "duration": 87,
    "start_time": "2023-08-01T07:21:03.663Z"
   },
   {
    "duration": 21,
    "start_time": "2023-08-01T07:21:03.752Z"
   },
   {
    "duration": 46,
    "start_time": "2023-08-01T07:21:03.775Z"
   },
   {
    "duration": 14,
    "start_time": "2023-08-01T07:21:03.823Z"
   },
   {
    "duration": 12,
    "start_time": "2023-08-01T07:21:03.839Z"
   },
   {
    "duration": 8,
    "start_time": "2023-08-01T07:21:03.853Z"
   },
   {
    "duration": 36,
    "start_time": "2023-08-01T07:21:03.862Z"
   },
   {
    "duration": 3,
    "start_time": "2023-08-01T07:21:03.899Z"
   },
   {
    "duration": 22,
    "start_time": "2023-08-01T07:21:03.903Z"
   },
   {
    "duration": 6,
    "start_time": "2023-08-01T07:21:03.926Z"
   },
   {
    "duration": 6,
    "start_time": "2023-08-01T07:21:03.933Z"
   },
   {
    "duration": 41,
    "start_time": "2023-08-01T07:21:03.940Z"
   },
   {
    "duration": 31,
    "start_time": "2023-08-01T07:21:03.982Z"
   },
   {
    "duration": 105,
    "start_time": "2023-08-01T07:21:04.015Z"
   },
   {
    "duration": 193,
    "start_time": "2023-08-01T07:21:04.122Z"
   },
   {
    "duration": 20,
    "start_time": "2023-08-01T07:21:04.318Z"
   },
   {
    "duration": 10,
    "start_time": "2023-08-01T07:21:04.340Z"
   },
   {
    "duration": 13,
    "start_time": "2023-08-01T07:21:04.352Z"
   },
   {
    "duration": 691,
    "start_time": "2023-08-01T07:21:04.366Z"
   },
   {
    "duration": 4,
    "start_time": "2023-08-01T07:21:05.058Z"
   },
   {
    "duration": 88,
    "start_time": "2023-08-01T07:21:05.063Z"
   },
   {
    "duration": 5,
    "start_time": "2023-08-01T07:21:05.153Z"
   },
   {
    "duration": 33,
    "start_time": "2023-08-01T07:21:05.160Z"
   },
   {
    "duration": 26,
    "start_time": "2023-08-01T07:21:05.195Z"
   },
   {
    "duration": 13376,
    "start_time": "2023-08-01T07:21:05.223Z"
   },
   {
    "duration": 418,
    "start_time": "2023-08-01T07:21:18.600Z"
   },
   {
    "duration": 3,
    "start_time": "2023-08-01T07:21:19.020Z"
   },
   {
    "duration": 25,
    "start_time": "2023-08-01T07:21:19.024Z"
   },
   {
    "duration": 14,
    "start_time": "2023-08-01T07:21:19.051Z"
   },
   {
    "duration": 15,
    "start_time": "2023-08-01T07:21:19.066Z"
   },
   {
    "duration": 83389,
    "start_time": "2023-08-01T07:21:19.083Z"
   },
   {
    "duration": 2,
    "start_time": "2023-08-01T07:22:42.474Z"
   },
   {
    "duration": 85,
    "start_time": "2023-08-01T07:22:42.478Z"
   },
   {
    "duration": 438,
    "start_time": "2023-08-01T07:22:42.565Z"
   },
   {
    "duration": 469,
    "start_time": "2023-08-01T07:22:43.005Z"
   },
   {
    "duration": 4466,
    "start_time": "2023-08-01T07:22:43.476Z"
   },
   {
    "duration": 4783,
    "start_time": "2023-08-01T07:22:47.944Z"
   },
   {
    "duration": 5,
    "start_time": "2023-08-01T07:32:46.840Z"
   },
   {
    "duration": 454,
    "start_time": "2023-08-01T07:32:47.821Z"
   },
   {
    "duration": 6595,
    "start_time": "2023-08-01T07:32:48.277Z"
   },
   {
    "duration": 1508,
    "start_time": "2023-08-01T07:32:58.787Z"
   },
   {
    "duration": 164,
    "start_time": "2023-08-01T07:33:00.297Z"
   },
   {
    "duration": 8,
    "start_time": "2023-08-01T07:33:00.463Z"
   },
   {
    "duration": 39,
    "start_time": "2023-08-01T07:33:00.473Z"
   },
   {
    "duration": 51,
    "start_time": "2023-08-01T07:33:00.514Z"
   },
   {
    "duration": 74,
    "start_time": "2023-08-01T07:33:00.567Z"
   },
   {
    "duration": 39,
    "start_time": "2023-08-01T07:33:00.643Z"
   },
   {
    "duration": 26,
    "start_time": "2023-08-01T07:33:00.683Z"
   },
   {
    "duration": 652,
    "start_time": "2023-08-01T07:33:00.711Z"
   },
   {
    "duration": 5,
    "start_time": "2023-08-01T07:33:01.365Z"
   },
   {
    "duration": 46,
    "start_time": "2023-08-01T07:33:01.372Z"
   },
   {
    "duration": 130,
    "start_time": "2023-08-01T07:33:01.419Z"
   },
   {
    "duration": 202,
    "start_time": "2023-08-01T07:33:01.551Z"
   },
   {
    "duration": 128,
    "start_time": "2023-08-01T07:33:01.755Z"
   },
   {
    "duration": 97,
    "start_time": "2023-08-01T07:33:01.886Z"
   },
   {
    "duration": 47,
    "start_time": "2023-08-01T07:33:01.985Z"
   },
   {
    "duration": 96,
    "start_time": "2023-08-01T07:33:02.038Z"
   },
   {
    "duration": 106,
    "start_time": "2023-08-01T07:33:02.136Z"
   },
   {
    "duration": 91,
    "start_time": "2023-08-01T07:33:02.243Z"
   },
   {
    "duration": 33,
    "start_time": "2023-08-01T07:33:02.336Z"
   },
   {
    "duration": 64,
    "start_time": "2023-08-01T07:33:02.372Z"
   },
   {
    "duration": 70,
    "start_time": "2023-08-01T07:33:02.437Z"
   },
   {
    "duration": 45,
    "start_time": "2023-08-01T07:33:02.508Z"
   },
   {
    "duration": 61,
    "start_time": "2023-08-01T07:33:02.555Z"
   },
   {
    "duration": 73,
    "start_time": "2023-08-01T07:33:02.618Z"
   },
   {
    "duration": 133,
    "start_time": "2023-08-01T07:33:02.693Z"
   },
   {
    "duration": 104,
    "start_time": "2023-08-01T07:33:02.834Z"
   },
   {
    "duration": 141,
    "start_time": "2023-08-01T07:33:02.941Z"
   },
   {
    "duration": 11,
    "start_time": "2023-08-01T07:33:03.084Z"
   },
   {
    "duration": 42,
    "start_time": "2023-08-01T07:33:03.096Z"
   },
   {
    "duration": 714,
    "start_time": "2023-08-01T07:33:03.140Z"
   },
   {
    "duration": 3,
    "start_time": "2023-08-01T07:33:03.856Z"
   },
   {
    "duration": 183,
    "start_time": "2023-08-01T07:33:03.861Z"
   },
   {
    "duration": 2,
    "start_time": "2023-08-01T07:33:04.046Z"
   },
   {
    "duration": 9,
    "start_time": "2023-08-01T07:33:04.050Z"
   },
   {
    "duration": 13,
    "start_time": "2023-08-01T07:33:04.060Z"
   },
   {
    "duration": 14083,
    "start_time": "2023-08-01T07:33:04.075Z"
   },
   {
    "duration": 499,
    "start_time": "2023-08-01T07:33:18.163Z"
   },
   {
    "duration": 3,
    "start_time": "2023-08-01T07:33:18.664Z"
   },
   {
    "duration": 26,
    "start_time": "2023-08-01T07:33:18.669Z"
   },
   {
    "duration": 39,
    "start_time": "2023-08-01T07:33:18.696Z"
   },
   {
    "duration": 40,
    "start_time": "2023-08-01T07:33:18.737Z"
   },
   {
    "duration": 123703,
    "start_time": "2023-08-01T07:33:18.779Z"
   },
   {
    "duration": 3,
    "start_time": "2023-08-01T07:35:22.483Z"
   },
   {
    "duration": 17,
    "start_time": "2023-08-01T07:35:22.488Z"
   },
   {
    "duration": 452,
    "start_time": "2023-08-01T07:35:22.507Z"
   },
   {
    "duration": 5430,
    "start_time": "2023-08-01T07:35:22.961Z"
   },
   {
    "duration": 3,
    "start_time": "2023-08-01T07:35:49.645Z"
   },
   {
    "duration": 4,
    "start_time": "2023-08-01T07:35:50.499Z"
   },
   {
    "duration": 457,
    "start_time": "2023-08-01T07:35:54.304Z"
   },
   {
    "duration": 6724,
    "start_time": "2023-08-01T07:35:55.378Z"
   },
   {
    "duration": 1573,
    "start_time": "2023-08-01T07:36:48.172Z"
   },
   {
    "duration": 131,
    "start_time": "2023-08-01T07:36:49.748Z"
   },
   {
    "duration": 10,
    "start_time": "2023-08-01T07:36:49.880Z"
   },
   {
    "duration": 12,
    "start_time": "2023-08-01T07:36:49.892Z"
   },
   {
    "duration": 18,
    "start_time": "2023-08-01T07:36:49.906Z"
   },
   {
    "duration": 25,
    "start_time": "2023-08-01T07:36:49.925Z"
   },
   {
    "duration": 16,
    "start_time": "2023-08-01T07:36:49.951Z"
   },
   {
    "duration": 4,
    "start_time": "2023-08-01T07:36:49.969Z"
   },
   {
    "duration": 624,
    "start_time": "2023-08-01T07:36:49.975Z"
   },
   {
    "duration": 6,
    "start_time": "2023-08-01T07:36:50.601Z"
   },
   {
    "duration": 17,
    "start_time": "2023-08-01T07:36:50.609Z"
   },
   {
    "duration": 11,
    "start_time": "2023-08-01T07:36:50.641Z"
   },
   {
    "duration": 18,
    "start_time": "2023-08-01T07:36:50.653Z"
   },
   {
    "duration": 11,
    "start_time": "2023-08-01T07:36:50.734Z"
   },
   {
    "duration": 29,
    "start_time": "2023-08-01T07:36:50.747Z"
   },
   {
    "duration": 15,
    "start_time": "2023-08-01T07:36:50.778Z"
   },
   {
    "duration": 6,
    "start_time": "2023-08-01T07:36:50.794Z"
   },
   {
    "duration": 38,
    "start_time": "2023-08-01T07:36:50.801Z"
   },
   {
    "duration": 33,
    "start_time": "2023-08-01T07:36:50.841Z"
   },
   {
    "duration": 2,
    "start_time": "2023-08-01T07:36:50.877Z"
   },
   {
    "duration": 19,
    "start_time": "2023-08-01T07:36:50.881Z"
   },
   {
    "duration": 41,
    "start_time": "2023-08-01T07:36:50.901Z"
   },
   {
    "duration": 24,
    "start_time": "2023-08-01T07:36:50.944Z"
   },
   {
    "duration": 15,
    "start_time": "2023-08-01T07:36:50.970Z"
   },
   {
    "duration": 13,
    "start_time": "2023-08-01T07:36:50.987Z"
   },
   {
    "duration": 22,
    "start_time": "2023-08-01T07:36:51.002Z"
   },
   {
    "duration": 32,
    "start_time": "2023-08-01T07:36:51.025Z"
   },
   {
    "duration": 39,
    "start_time": "2023-08-01T07:36:51.059Z"
   },
   {
    "duration": 46,
    "start_time": "2023-08-01T07:36:51.101Z"
   },
   {
    "duration": 19,
    "start_time": "2023-08-01T07:36:51.149Z"
   },
   {
    "duration": 338,
    "start_time": "2023-08-01T07:36:51.170Z"
   },
   {
    "duration": 28,
    "start_time": "2023-08-01T07:36:51.510Z"
   },
   {
    "duration": 44,
    "start_time": "2023-08-01T07:36:51.541Z"
   },
   {
    "duration": 3,
    "start_time": "2023-08-01T07:36:51.587Z"
   },
   {
    "duration": 19,
    "start_time": "2023-08-01T07:36:51.592Z"
   },
   {
    "duration": 39,
    "start_time": "2023-08-01T07:36:51.613Z"
   },
   {
    "duration": 5759,
    "start_time": "2023-08-01T07:36:51.654Z"
   },
   {
    "duration": 255,
    "start_time": "2023-08-01T07:36:57.415Z"
   },
   {
    "duration": 3,
    "start_time": "2023-08-01T07:36:57.672Z"
   },
   {
    "duration": 26,
    "start_time": "2023-08-01T07:36:57.677Z"
   },
   {
    "duration": 36,
    "start_time": "2023-08-01T07:36:57.707Z"
   },
   {
    "duration": 28,
    "start_time": "2023-08-01T07:36:57.745Z"
   },
   {
    "duration": 60518,
    "start_time": "2023-08-01T07:36:57.775Z"
   },
   {
    "duration": 3,
    "start_time": "2023-08-01T07:37:58.295Z"
   },
   {
    "duration": 43,
    "start_time": "2023-08-01T07:37:58.299Z"
   },
   {
    "duration": 220,
    "start_time": "2023-08-01T07:37:58.344Z"
   },
   {
    "duration": 3039,
    "start_time": "2023-08-01T07:37:58.566Z"
   },
   {
    "duration": 834,
    "start_time": "2023-08-01T07:41:28.410Z"
   },
   {
    "duration": 6,
    "start_time": "2023-08-01T07:41:31.545Z"
   },
   {
    "duration": 2690,
    "start_time": "2023-08-01T07:44:06.049Z"
   },
   {
    "duration": 1504,
    "start_time": "2023-08-01T07:44:27.178Z"
   },
   {
    "duration": 301,
    "start_time": "2023-08-01T07:44:28.684Z"
   },
   {
    "duration": 11,
    "start_time": "2023-08-01T07:44:28.988Z"
   },
   {
    "duration": 14,
    "start_time": "2023-08-01T07:44:29.002Z"
   },
   {
    "duration": 60,
    "start_time": "2023-08-01T07:44:29.018Z"
   },
   {
    "duration": 10,
    "start_time": "2023-08-01T07:44:29.080Z"
   },
   {
    "duration": 27,
    "start_time": "2023-08-01T07:44:29.092Z"
   },
   {
    "duration": 19,
    "start_time": "2023-08-01T07:44:29.128Z"
   },
   {
    "duration": 93,
    "start_time": "2023-08-01T07:44:29.148Z"
   },
   {
    "duration": 723,
    "start_time": "2023-08-01T07:44:29.244Z"
   },
   {
    "duration": 4012,
    "start_time": "2023-08-01T07:44:29.969Z"
   },
   {
    "duration": 0,
    "start_time": "2023-08-01T07:44:34.045Z"
   },
   {
    "duration": 0,
    "start_time": "2023-08-01T07:44:34.046Z"
   },
   {
    "duration": 0,
    "start_time": "2023-08-01T07:44:34.047Z"
   },
   {
    "duration": 0,
    "start_time": "2023-08-01T07:44:34.048Z"
   },
   {
    "duration": 0,
    "start_time": "2023-08-01T07:44:34.048Z"
   },
   {
    "duration": 0,
    "start_time": "2023-08-01T07:44:34.049Z"
   },
   {
    "duration": 0,
    "start_time": "2023-08-01T07:44:34.051Z"
   },
   {
    "duration": 0,
    "start_time": "2023-08-01T07:44:34.052Z"
   },
   {
    "duration": 0,
    "start_time": "2023-08-01T07:44:34.053Z"
   },
   {
    "duration": 0,
    "start_time": "2023-08-01T07:44:34.054Z"
   },
   {
    "duration": 0,
    "start_time": "2023-08-01T07:44:34.055Z"
   },
   {
    "duration": 0,
    "start_time": "2023-08-01T07:44:34.056Z"
   },
   {
    "duration": 0,
    "start_time": "2023-08-01T07:44:34.057Z"
   },
   {
    "duration": 0,
    "start_time": "2023-08-01T07:44:34.059Z"
   },
   {
    "duration": 0,
    "start_time": "2023-08-01T07:44:34.061Z"
   },
   {
    "duration": 0,
    "start_time": "2023-08-01T07:44:34.062Z"
   },
   {
    "duration": 0,
    "start_time": "2023-08-01T07:44:34.063Z"
   },
   {
    "duration": 0,
    "start_time": "2023-08-01T07:44:34.064Z"
   },
   {
    "duration": 0,
    "start_time": "2023-08-01T07:44:34.065Z"
   },
   {
    "duration": 0,
    "start_time": "2023-08-01T07:44:34.067Z"
   },
   {
    "duration": 0,
    "start_time": "2023-08-01T07:44:34.068Z"
   },
   {
    "duration": 0,
    "start_time": "2023-08-01T07:44:34.070Z"
   },
   {
    "duration": 0,
    "start_time": "2023-08-01T07:44:34.071Z"
   },
   {
    "duration": 0,
    "start_time": "2023-08-01T07:44:34.072Z"
   },
   {
    "duration": 0,
    "start_time": "2023-08-01T07:44:34.073Z"
   },
   {
    "duration": 0,
    "start_time": "2023-08-01T07:44:34.075Z"
   },
   {
    "duration": 0,
    "start_time": "2023-08-01T07:44:34.076Z"
   },
   {
    "duration": 0,
    "start_time": "2023-08-01T07:44:34.121Z"
   },
   {
    "duration": 0,
    "start_time": "2023-08-01T07:44:34.122Z"
   },
   {
    "duration": 0,
    "start_time": "2023-08-01T07:44:34.123Z"
   },
   {
    "duration": 0,
    "start_time": "2023-08-01T07:44:34.123Z"
   },
   {
    "duration": 0,
    "start_time": "2023-08-01T07:44:34.124Z"
   },
   {
    "duration": 0,
    "start_time": "2023-08-01T07:44:34.124Z"
   },
   {
    "duration": 0,
    "start_time": "2023-08-01T07:44:34.124Z"
   },
   {
    "duration": 0,
    "start_time": "2023-08-01T07:44:34.125Z"
   },
   {
    "duration": 0,
    "start_time": "2023-08-01T07:44:34.125Z"
   },
   {
    "duration": 0,
    "start_time": "2023-08-01T07:44:34.126Z"
   },
   {
    "duration": 1572,
    "start_time": "2023-08-01T07:45:51.249Z"
   },
   {
    "duration": 223,
    "start_time": "2023-08-01T07:45:52.823Z"
   },
   {
    "duration": 10,
    "start_time": "2023-08-01T07:45:53.048Z"
   },
   {
    "duration": 37,
    "start_time": "2023-08-01T07:45:53.059Z"
   },
   {
    "duration": 16,
    "start_time": "2023-08-01T07:45:53.099Z"
   },
   {
    "duration": 36,
    "start_time": "2023-08-01T07:45:53.117Z"
   },
   {
    "duration": 22,
    "start_time": "2023-08-01T07:45:53.155Z"
   },
   {
    "duration": 5,
    "start_time": "2023-08-01T07:45:53.179Z"
   },
   {
    "duration": 12,
    "start_time": "2023-08-01T07:45:53.186Z"
   },
   {
    "duration": 587,
    "start_time": "2023-08-01T07:45:53.200Z"
   },
   {
    "duration": 3258,
    "start_time": "2023-08-01T07:45:53.789Z"
   },
   {
    "duration": 0,
    "start_time": "2023-08-01T07:45:57.118Z"
   },
   {
    "duration": 0,
    "start_time": "2023-08-01T07:45:57.120Z"
   },
   {
    "duration": 0,
    "start_time": "2023-08-01T07:45:57.120Z"
   },
   {
    "duration": 0,
    "start_time": "2023-08-01T07:45:57.121Z"
   },
   {
    "duration": 0,
    "start_time": "2023-08-01T07:45:57.122Z"
   },
   {
    "duration": 0,
    "start_time": "2023-08-01T07:45:57.123Z"
   },
   {
    "duration": 0,
    "start_time": "2023-08-01T07:45:57.124Z"
   },
   {
    "duration": 0,
    "start_time": "2023-08-01T07:45:57.125Z"
   },
   {
    "duration": 0,
    "start_time": "2023-08-01T07:45:57.126Z"
   },
   {
    "duration": 0,
    "start_time": "2023-08-01T07:45:57.127Z"
   },
   {
    "duration": 0,
    "start_time": "2023-08-01T07:45:57.134Z"
   },
   {
    "duration": 0,
    "start_time": "2023-08-01T07:45:57.135Z"
   },
   {
    "duration": 0,
    "start_time": "2023-08-01T07:45:57.136Z"
   },
   {
    "duration": 0,
    "start_time": "2023-08-01T07:45:57.136Z"
   },
   {
    "duration": 0,
    "start_time": "2023-08-01T07:45:57.137Z"
   },
   {
    "duration": 0,
    "start_time": "2023-08-01T07:45:57.138Z"
   },
   {
    "duration": 0,
    "start_time": "2023-08-01T07:45:57.139Z"
   },
   {
    "duration": 0,
    "start_time": "2023-08-01T07:45:57.142Z"
   },
   {
    "duration": 0,
    "start_time": "2023-08-01T07:45:57.143Z"
   },
   {
    "duration": 0,
    "start_time": "2023-08-01T07:45:57.144Z"
   },
   {
    "duration": 0,
    "start_time": "2023-08-01T07:45:57.146Z"
   },
   {
    "duration": 0,
    "start_time": "2023-08-01T07:45:57.147Z"
   },
   {
    "duration": 0,
    "start_time": "2023-08-01T07:45:57.148Z"
   },
   {
    "duration": 0,
    "start_time": "2023-08-01T07:45:57.148Z"
   },
   {
    "duration": 0,
    "start_time": "2023-08-01T07:45:57.149Z"
   },
   {
    "duration": 0,
    "start_time": "2023-08-01T07:45:57.158Z"
   },
   {
    "duration": 0,
    "start_time": "2023-08-01T07:45:57.159Z"
   },
   {
    "duration": 0,
    "start_time": "2023-08-01T07:45:57.160Z"
   },
   {
    "duration": 0,
    "start_time": "2023-08-01T07:45:57.161Z"
   },
   {
    "duration": 0,
    "start_time": "2023-08-01T07:45:57.162Z"
   },
   {
    "duration": 0,
    "start_time": "2023-08-01T07:45:57.163Z"
   },
   {
    "duration": 0,
    "start_time": "2023-08-01T07:45:57.164Z"
   },
   {
    "duration": 0,
    "start_time": "2023-08-01T07:45:57.165Z"
   },
   {
    "duration": 0,
    "start_time": "2023-08-01T07:45:57.165Z"
   },
   {
    "duration": 0,
    "start_time": "2023-08-01T07:45:57.166Z"
   },
   {
    "duration": 0,
    "start_time": "2023-08-01T07:45:57.167Z"
   },
   {
    "duration": 0,
    "start_time": "2023-08-01T07:45:57.168Z"
   },
   {
    "duration": 12,
    "start_time": "2023-08-01T07:46:25.638Z"
   },
   {
    "duration": 4447,
    "start_time": "2023-08-01T07:46:39.859Z"
   },
   {
    "duration": 14,
    "start_time": "2023-08-01T07:47:07.334Z"
   },
   {
    "duration": 15,
    "start_time": "2023-08-01T07:47:42.941Z"
   },
   {
    "duration": 5,
    "start_time": "2023-08-01T07:47:56.954Z"
   },
   {
    "duration": 4,
    "start_time": "2023-08-01T07:48:05.945Z"
   },
   {
    "duration": 6,
    "start_time": "2023-08-01T07:48:06.344Z"
   },
   {
    "duration": 18,
    "start_time": "2023-08-01T07:48:06.683Z"
   },
   {
    "duration": 13,
    "start_time": "2023-08-01T07:48:07.152Z"
   },
   {
    "duration": 22,
    "start_time": "2023-08-01T07:48:07.639Z"
   },
   {
    "duration": 2096,
    "start_time": "2023-08-01T07:48:23.218Z"
   },
   {
    "duration": 367,
    "start_time": "2023-08-01T07:48:25.320Z"
   },
   {
    "duration": 10,
    "start_time": "2023-08-01T07:48:25.689Z"
   },
   {
    "duration": 18,
    "start_time": "2023-08-01T07:48:25.701Z"
   },
   {
    "duration": 36,
    "start_time": "2023-08-01T07:48:25.722Z"
   },
   {
    "duration": 11,
    "start_time": "2023-08-01T07:48:25.761Z"
   },
   {
    "duration": 18,
    "start_time": "2023-08-01T07:48:25.775Z"
   },
   {
    "duration": 8,
    "start_time": "2023-08-01T07:48:25.795Z"
   },
   {
    "duration": 24,
    "start_time": "2023-08-01T07:48:25.805Z"
   },
   {
    "duration": 649,
    "start_time": "2023-08-01T07:48:25.838Z"
   },
   {
    "duration": 6,
    "start_time": "2023-08-01T07:48:26.489Z"
   },
   {
    "duration": 19,
    "start_time": "2023-08-01T07:48:26.497Z"
   },
   {
    "duration": 27,
    "start_time": "2023-08-01T07:48:26.517Z"
   },
   {
    "duration": 93,
    "start_time": "2023-08-01T07:48:26.548Z"
   },
   {
    "duration": 12,
    "start_time": "2023-08-01T07:48:26.643Z"
   },
   {
    "duration": 14,
    "start_time": "2023-08-01T07:48:26.657Z"
   },
   {
    "duration": 17,
    "start_time": "2023-08-01T07:48:26.673Z"
   },
   {
    "duration": 19,
    "start_time": "2023-08-01T07:48:26.691Z"
   },
   {
    "duration": 30,
    "start_time": "2023-08-01T07:48:26.711Z"
   },
   {
    "duration": 38,
    "start_time": "2023-08-01T07:48:26.743Z"
   },
   {
    "duration": 3,
    "start_time": "2023-08-01T07:48:26.783Z"
   },
   {
    "duration": 18,
    "start_time": "2023-08-01T07:48:26.787Z"
   },
   {
    "duration": 29,
    "start_time": "2023-08-01T07:48:26.808Z"
   },
   {
    "duration": 12,
    "start_time": "2023-08-01T07:48:26.840Z"
   },
   {
    "duration": 14,
    "start_time": "2023-08-01T07:48:26.853Z"
   },
   {
    "duration": 21,
    "start_time": "2023-08-01T07:48:26.869Z"
   },
   {
    "duration": 45,
    "start_time": "2023-08-01T07:48:26.892Z"
   },
   {
    "duration": 22,
    "start_time": "2023-08-01T07:48:26.942Z"
   },
   {
    "duration": 62,
    "start_time": "2023-08-01T07:48:26.965Z"
   },
   {
    "duration": 7,
    "start_time": "2023-08-01T07:48:27.029Z"
   },
   {
    "duration": 14,
    "start_time": "2023-08-01T07:48:27.038Z"
   },
   {
    "duration": 441,
    "start_time": "2023-08-01T07:48:27.053Z"
   },
   {
    "duration": 4,
    "start_time": "2023-08-01T07:48:27.496Z"
   },
   {
    "duration": 50,
    "start_time": "2023-08-01T07:48:27.502Z"
   },
   {
    "duration": 8,
    "start_time": "2023-08-01T07:48:27.553Z"
   },
   {
    "duration": 14,
    "start_time": "2023-08-01T07:48:27.563Z"
   },
   {
    "duration": 12,
    "start_time": "2023-08-01T07:48:27.579Z"
   },
   {
    "duration": 7555,
    "start_time": "2023-08-01T07:48:27.593Z"
   },
   {
    "duration": 282,
    "start_time": "2023-08-01T07:48:35.151Z"
   },
   {
    "duration": 9,
    "start_time": "2023-08-01T07:48:35.438Z"
   },
   {
    "duration": 26,
    "start_time": "2023-08-01T07:48:35.452Z"
   },
   {
    "duration": 58,
    "start_time": "2023-08-01T07:48:35.481Z"
   },
   {
    "duration": 33,
    "start_time": "2023-08-01T07:48:35.542Z"
   },
   {
    "duration": 82199,
    "start_time": "2023-08-01T07:48:35.578Z"
   },
   {
    "duration": 3,
    "start_time": "2023-08-01T07:49:57.778Z"
   },
   {
    "duration": 25,
    "start_time": "2023-08-01T07:49:57.783Z"
   },
   {
    "duration": 265,
    "start_time": "2023-08-01T07:49:57.810Z"
   },
   {
    "duration": 3734,
    "start_time": "2023-08-01T07:49:58.076Z"
   },
   {
    "duration": 160,
    "start_time": "2023-08-01T07:50:01.813Z"
   },
   {
    "duration": 1760,
    "start_time": "2023-08-01T07:51:31.299Z"
   },
   {
    "duration": 200,
    "start_time": "2023-08-01T07:51:33.061Z"
   },
   {
    "duration": 8,
    "start_time": "2023-08-01T07:51:33.262Z"
   },
   {
    "duration": 12,
    "start_time": "2023-08-01T07:51:33.272Z"
   },
   {
    "duration": 13,
    "start_time": "2023-08-01T07:51:33.286Z"
   },
   {
    "duration": 5,
    "start_time": "2023-08-01T07:51:33.301Z"
   },
   {
    "duration": 27,
    "start_time": "2023-08-01T07:51:33.308Z"
   },
   {
    "duration": 4,
    "start_time": "2023-08-01T07:51:33.336Z"
   },
   {
    "duration": 17,
    "start_time": "2023-08-01T07:51:33.342Z"
   },
   {
    "duration": 605,
    "start_time": "2023-08-01T07:51:33.362Z"
   },
   {
    "duration": 6,
    "start_time": "2023-08-01T07:51:33.969Z"
   },
   {
    "duration": 14,
    "start_time": "2023-08-01T07:51:33.977Z"
   },
   {
    "duration": 5,
    "start_time": "2023-08-01T07:51:33.993Z"
   },
   {
    "duration": 8,
    "start_time": "2023-08-01T07:51:34.000Z"
   },
   {
    "duration": 131,
    "start_time": "2023-08-01T07:51:34.010Z"
   },
   {
    "duration": 33,
    "start_time": "2023-08-01T07:51:34.143Z"
   },
   {
    "duration": 16,
    "start_time": "2023-08-01T07:51:34.177Z"
   },
   {
    "duration": 13,
    "start_time": "2023-08-01T07:51:34.195Z"
   },
   {
    "duration": 6,
    "start_time": "2023-08-01T07:51:34.211Z"
   },
   {
    "duration": 67,
    "start_time": "2023-08-01T07:51:34.218Z"
   },
   {
    "duration": 2,
    "start_time": "2023-08-01T07:51:34.287Z"
   },
   {
    "duration": 48,
    "start_time": "2023-08-01T07:51:34.291Z"
   },
   {
    "duration": 10,
    "start_time": "2023-08-01T07:51:34.341Z"
   },
   {
    "duration": 13,
    "start_time": "2023-08-01T07:51:34.352Z"
   },
   {
    "duration": 19,
    "start_time": "2023-08-01T07:51:34.366Z"
   },
   {
    "duration": 24,
    "start_time": "2023-08-01T07:51:34.387Z"
   },
   {
    "duration": 130,
    "start_time": "2023-08-01T07:51:34.419Z"
   },
   {
    "duration": 172,
    "start_time": "2023-08-01T07:51:34.553Z"
   },
   {
    "duration": 5,
    "start_time": "2023-08-01T07:51:34.735Z"
   },
   {
    "duration": 4,
    "start_time": "2023-08-01T07:51:34.742Z"
   },
   {
    "duration": 8,
    "start_time": "2023-08-01T07:51:34.747Z"
   },
   {
    "duration": 1228,
    "start_time": "2023-08-01T07:51:34.756Z"
   },
   {
    "duration": 4,
    "start_time": "2023-08-01T07:51:35.986Z"
   },
   {
    "duration": 137,
    "start_time": "2023-08-01T07:51:35.991Z"
   },
   {
    "duration": 4,
    "start_time": "2023-08-01T07:51:36.138Z"
   },
   {
    "duration": 24,
    "start_time": "2023-08-01T07:51:36.143Z"
   },
   {
    "duration": 45,
    "start_time": "2023-08-01T07:51:36.169Z"
   },
   {
    "duration": 21624,
    "start_time": "2023-08-01T07:51:36.216Z"
   },
   {
    "duration": 700,
    "start_time": "2023-08-01T07:51:57.846Z"
   },
   {
    "duration": 3,
    "start_time": "2023-08-01T07:51:58.547Z"
   },
   {
    "duration": 12,
    "start_time": "2023-08-01T07:51:58.552Z"
   },
   {
    "duration": 26,
    "start_time": "2023-08-01T07:51:58.574Z"
   },
   {
    "duration": 17,
    "start_time": "2023-08-01T07:51:58.602Z"
   },
   {
    "duration": 83909,
    "start_time": "2023-08-01T07:51:58.633Z"
   },
   {
    "duration": 0,
    "start_time": "2023-08-01T07:53:22.544Z"
   },
   {
    "duration": 0,
    "start_time": "2023-08-01T07:53:22.546Z"
   },
   {
    "duration": 0,
    "start_time": "2023-08-01T07:53:22.547Z"
   },
   {
    "duration": 0,
    "start_time": "2023-08-01T07:53:22.548Z"
   },
   {
    "duration": 0,
    "start_time": "2023-08-01T07:53:22.549Z"
   },
   {
    "duration": 4,
    "start_time": "2023-08-01T07:53:23.384Z"
   },
   {
    "duration": 699,
    "start_time": "2023-08-01T07:53:23.863Z"
   },
   {
    "duration": 7938,
    "start_time": "2023-08-01T07:53:32.789Z"
   },
   {
    "duration": 170624,
    "start_time": "2023-08-01T07:54:00.842Z"
   },
   {
    "duration": 2,
    "start_time": "2023-08-01T07:56:51.468Z"
   },
   {
    "duration": 36,
    "start_time": "2023-08-01T07:56:51.472Z"
   },
   {
    "duration": 679,
    "start_time": "2023-08-01T07:56:51.510Z"
   },
   {
    "duration": 7419,
    "start_time": "2023-08-01T07:56:52.191Z"
   },
   {
    "duration": 8037,
    "start_time": "2023-08-01T07:56:59.893Z"
   },
   {
    "duration": 735,
    "start_time": "2023-08-01T07:57:29.185Z"
   },
   {
    "duration": 691,
    "start_time": "2023-08-01T07:58:15.313Z"
   },
   {
    "duration": 6053,
    "start_time": "2023-08-01T07:58:16.680Z"
   },
   {
    "duration": 5,
    "start_time": "2023-08-01T08:01:10.446Z"
   },
   {
    "duration": 250,
    "start_time": "2023-08-01T08:01:11.246Z"
   },
   {
    "duration": 6,
    "start_time": "2023-08-01T08:01:11.668Z"
   },
   {
    "duration": 10,
    "start_time": "2023-08-01T08:01:12.138Z"
   },
   {
    "duration": 6,
    "start_time": "2023-08-01T08:01:13.175Z"
   },
   {
    "duration": 4,
    "start_time": "2023-08-01T08:01:13.641Z"
   },
   {
    "duration": 11,
    "start_time": "2023-08-01T08:01:14.235Z"
   },
   {
    "duration": 4,
    "start_time": "2023-08-01T08:01:14.577Z"
   },
   {
    "duration": 4,
    "start_time": "2023-08-01T08:01:15.089Z"
   },
   {
    "duration": 2,
    "start_time": "2023-08-01T08:01:26.484Z"
   },
   {
    "duration": 9,
    "start_time": "2023-08-01T08:05:11.411Z"
   },
   {
    "duration": 11,
    "start_time": "2023-08-01T08:05:16.592Z"
   },
   {
    "duration": 10,
    "start_time": "2023-08-01T08:05:28.262Z"
   },
   {
    "duration": 4,
    "start_time": "2023-08-01T08:05:33.710Z"
   },
   {
    "duration": 229,
    "start_time": "2023-08-01T08:05:42.815Z"
   },
   {
    "duration": 4,
    "start_time": "2023-08-01T08:07:02.541Z"
   },
   {
    "duration": 473,
    "start_time": "2023-08-01T08:07:12.425Z"
   },
   {
    "duration": 387,
    "start_time": "2023-08-01T08:07:25.282Z"
   },
   {
    "duration": 6,
    "start_time": "2023-08-01T08:09:27.998Z"
   },
   {
    "duration": 21,
    "start_time": "2023-08-01T08:09:45.878Z"
   },
   {
    "duration": 14,
    "start_time": "2023-08-01T08:09:50.403Z"
   },
   {
    "duration": 205,
    "start_time": "2023-08-01T08:10:00.284Z"
   },
   {
    "duration": 259,
    "start_time": "2023-08-01T08:10:18.938Z"
   },
   {
    "duration": 7,
    "start_time": "2023-08-01T08:10:27.589Z"
   },
   {
    "duration": 6,
    "start_time": "2023-08-01T08:10:40.912Z"
   },
   {
    "duration": 6,
    "start_time": "2023-08-01T08:10:41.599Z"
   },
   {
    "duration": 3,
    "start_time": "2023-08-01T08:10:55.038Z"
   },
   {
    "duration": 12,
    "start_time": "2023-08-01T08:11:02.637Z"
   },
   {
    "duration": 4,
    "start_time": "2023-08-01T08:11:20.203Z"
   },
   {
    "duration": 9,
    "start_time": "2023-08-01T08:11:27.396Z"
   },
   {
    "duration": 222,
    "start_time": "2023-08-01T08:11:30.647Z"
   },
   {
    "duration": 287,
    "start_time": "2023-08-01T08:11:44.414Z"
   },
   {
    "duration": 302,
    "start_time": "2023-08-01T08:11:55.398Z"
   },
   {
    "duration": 257,
    "start_time": "2023-08-01T08:12:58.838Z"
   },
   {
    "duration": 265,
    "start_time": "2023-08-01T08:13:14.497Z"
   },
   {
    "duration": 285,
    "start_time": "2023-08-01T08:13:25.192Z"
   },
   {
    "duration": 302,
    "start_time": "2023-08-01T08:13:29.400Z"
   },
   {
    "duration": 232,
    "start_time": "2023-08-01T08:14:12.441Z"
   },
   {
    "duration": 217,
    "start_time": "2023-08-01T08:14:53.811Z"
   },
   {
    "duration": 237,
    "start_time": "2023-08-01T08:15:20.382Z"
   },
   {
    "duration": 323,
    "start_time": "2023-08-01T08:15:28.855Z"
   },
   {
    "duration": 257,
    "start_time": "2023-08-01T08:15:47.754Z"
   },
   {
    "duration": 5,
    "start_time": "2023-08-01T08:17:46.638Z"
   },
   {
    "duration": 3,
    "start_time": "2023-08-01T08:18:00.572Z"
   },
   {
    "duration": 4,
    "start_time": "2023-08-01T08:18:05.837Z"
   },
   {
    "duration": 3,
    "start_time": "2023-08-01T08:19:09.728Z"
   },
   {
    "duration": 657,
    "start_time": "2023-08-01T08:22:45.284Z"
   },
   {
    "duration": 653,
    "start_time": "2023-08-01T08:31:00.074Z"
   },
   {
    "duration": 3,
    "start_time": "2023-08-01T08:31:00.866Z"
   },
   {
    "duration": 359,
    "start_time": "2023-08-01T08:31:01.739Z"
   },
   {
    "duration": 174,
    "start_time": "2023-08-01T08:31:02.570Z"
   },
   {
    "duration": 48,
    "start_time": "2023-08-02T07:01:57.776Z"
   },
   {
    "duration": 1611,
    "start_time": "2023-08-02T07:02:07.380Z"
   },
   {
    "duration": 208,
    "start_time": "2023-08-02T07:02:08.993Z"
   },
   {
    "duration": 9,
    "start_time": "2023-08-02T07:02:09.203Z"
   },
   {
    "duration": 23,
    "start_time": "2023-08-02T07:02:09.213Z"
   },
   {
    "duration": 44,
    "start_time": "2023-08-02T07:02:09.238Z"
   },
   {
    "duration": 17,
    "start_time": "2023-08-02T07:02:09.284Z"
   },
   {
    "duration": 26,
    "start_time": "2023-08-02T07:02:09.303Z"
   },
   {
    "duration": 14,
    "start_time": "2023-08-02T07:02:09.331Z"
   },
   {
    "duration": 26,
    "start_time": "2023-08-02T07:02:09.346Z"
   },
   {
    "duration": 242,
    "start_time": "2023-08-02T07:02:09.374Z"
   },
   {
    "duration": 273,
    "start_time": "2023-08-02T07:02:13.076Z"
   },
   {
    "duration": 218,
    "start_time": "2023-08-02T07:02:50.188Z"
   },
   {
    "duration": 225,
    "start_time": "2023-08-02T07:04:27.572Z"
   },
   {
    "duration": 212,
    "start_time": "2023-08-02T07:04:40.531Z"
   },
   {
    "duration": 218,
    "start_time": "2023-08-02T07:05:04.485Z"
   },
   {
    "duration": 296,
    "start_time": "2023-08-02T07:05:54.284Z"
   },
   {
    "duration": 277,
    "start_time": "2023-08-02T07:06:07.829Z"
   },
   {
    "duration": 186,
    "start_time": "2023-08-02T07:08:24.553Z"
   },
   {
    "duration": 163,
    "start_time": "2023-08-02T07:08:29.115Z"
   },
   {
    "duration": 184,
    "start_time": "2023-08-02T07:09:17.695Z"
   },
   {
    "duration": 115,
    "start_time": "2023-08-02T07:15:33.178Z"
   },
   {
    "duration": 625,
    "start_time": "2023-08-02T07:15:39.542Z"
   },
   {
    "duration": 6,
    "start_time": "2023-08-02T07:15:40.169Z"
   },
   {
    "duration": 205,
    "start_time": "2023-08-02T07:16:03.401Z"
   },
   {
    "duration": 14,
    "start_time": "2023-08-02T07:16:33.975Z"
   },
   {
    "duration": 204,
    "start_time": "2023-08-02T07:16:48.257Z"
   },
   {
    "duration": 280,
    "start_time": "2023-08-02T07:16:56.927Z"
   },
   {
    "duration": 191,
    "start_time": "2023-08-02T07:17:00.624Z"
   },
   {
    "duration": 18,
    "start_time": "2023-08-02T07:19:07.765Z"
   },
   {
    "duration": 238,
    "start_time": "2023-08-02T07:19:20.435Z"
   },
   {
    "duration": 244,
    "start_time": "2023-08-02T07:19:41.213Z"
   },
   {
    "duration": 261,
    "start_time": "2023-08-02T07:19:56.400Z"
   },
   {
    "duration": 344,
    "start_time": "2023-08-02T07:20:52.872Z"
   },
   {
    "duration": 261,
    "start_time": "2023-08-02T07:21:01.910Z"
   },
   {
    "duration": 270,
    "start_time": "2023-08-02T07:21:20.757Z"
   },
   {
    "duration": 281,
    "start_time": "2023-08-02T07:21:31.395Z"
   },
   {
    "duration": 290,
    "start_time": "2023-08-02T07:21:38.364Z"
   },
   {
    "duration": 371,
    "start_time": "2023-08-02T07:21:43.484Z"
   },
   {
    "duration": 259,
    "start_time": "2023-08-02T07:21:47.326Z"
   },
   {
    "duration": 23,
    "start_time": "2023-08-02T07:29:47.030Z"
   },
   {
    "duration": 2019,
    "start_time": "2023-08-02T07:30:08.559Z"
   },
   {
    "duration": 1851,
    "start_time": "2023-08-02T07:30:21.524Z"
   },
   {
    "duration": 6,
    "start_time": "2023-08-02T07:31:26.274Z"
   },
   {
    "duration": 6,
    "start_time": "2023-08-02T07:34:46.817Z"
   },
   {
    "duration": 5,
    "start_time": "2023-08-02T07:34:55.995Z"
   },
   {
    "duration": 4,
    "start_time": "2023-08-02T07:35:10.967Z"
   },
   {
    "duration": 13,
    "start_time": "2023-08-02T07:45:48.144Z"
   },
   {
    "duration": 1531,
    "start_time": "2023-08-02T07:46:35.643Z"
   },
   {
    "duration": 366,
    "start_time": "2023-08-02T07:46:37.176Z"
   },
   {
    "duration": 8,
    "start_time": "2023-08-02T07:46:37.544Z"
   },
   {
    "duration": 12,
    "start_time": "2023-08-02T07:46:37.554Z"
   },
   {
    "duration": 17,
    "start_time": "2023-08-02T07:46:37.567Z"
   },
   {
    "duration": 4,
    "start_time": "2023-08-02T07:46:37.586Z"
   },
   {
    "duration": 17,
    "start_time": "2023-08-02T07:46:37.592Z"
   },
   {
    "duration": 4,
    "start_time": "2023-08-02T07:46:37.611Z"
   },
   {
    "duration": 6,
    "start_time": "2023-08-02T07:46:37.617Z"
   },
   {
    "duration": 252,
    "start_time": "2023-08-02T07:46:37.626Z"
   },
   {
    "duration": 219,
    "start_time": "2023-08-02T07:46:37.880Z"
   },
   {
    "duration": 678,
    "start_time": "2023-08-02T07:46:38.101Z"
   },
   {
    "duration": 327,
    "start_time": "2023-08-02T07:46:38.781Z"
   },
   {
    "duration": 26,
    "start_time": "2023-08-02T07:46:39.110Z"
   },
   {
    "duration": 3336,
    "start_time": "2023-08-02T07:46:39.138Z"
   },
   {
    "duration": 96,
    "start_time": "2023-08-02T07:46:42.477Z"
   },
   {
    "duration": 4241,
    "start_time": "2023-08-02T07:46:42.575Z"
   },
   {
    "duration": 0,
    "start_time": "2023-08-02T07:46:46.819Z"
   },
   {
    "duration": 0,
    "start_time": "2023-08-02T07:46:46.822Z"
   },
   {
    "duration": 0,
    "start_time": "2023-08-02T07:46:46.824Z"
   },
   {
    "duration": 0,
    "start_time": "2023-08-02T07:46:46.825Z"
   },
   {
    "duration": 0,
    "start_time": "2023-08-02T07:46:46.826Z"
   },
   {
    "duration": 0,
    "start_time": "2023-08-02T07:46:46.827Z"
   },
   {
    "duration": 0,
    "start_time": "2023-08-02T07:46:46.828Z"
   },
   {
    "duration": 0,
    "start_time": "2023-08-02T07:46:46.828Z"
   },
   {
    "duration": 0,
    "start_time": "2023-08-02T07:46:46.829Z"
   },
   {
    "duration": 0,
    "start_time": "2023-08-02T07:46:46.833Z"
   },
   {
    "duration": 0,
    "start_time": "2023-08-02T07:46:46.834Z"
   },
   {
    "duration": 0,
    "start_time": "2023-08-02T07:46:46.836Z"
   },
   {
    "duration": 0,
    "start_time": "2023-08-02T07:46:46.837Z"
   },
   {
    "duration": 1,
    "start_time": "2023-08-02T07:46:46.838Z"
   },
   {
    "duration": 0,
    "start_time": "2023-08-02T07:46:46.840Z"
   },
   {
    "duration": 0,
    "start_time": "2023-08-02T07:46:46.841Z"
   },
   {
    "duration": 0,
    "start_time": "2023-08-02T07:46:46.843Z"
   },
   {
    "duration": 0,
    "start_time": "2023-08-02T07:46:46.844Z"
   },
   {
    "duration": 0,
    "start_time": "2023-08-02T07:46:46.846Z"
   },
   {
    "duration": 0,
    "start_time": "2023-08-02T07:46:46.847Z"
   },
   {
    "duration": 0,
    "start_time": "2023-08-02T07:46:46.848Z"
   },
   {
    "duration": 0,
    "start_time": "2023-08-02T07:46:46.850Z"
   },
   {
    "duration": 0,
    "start_time": "2023-08-02T07:46:46.855Z"
   },
   {
    "duration": 0,
    "start_time": "2023-08-02T07:46:46.856Z"
   },
   {
    "duration": 0,
    "start_time": "2023-08-02T07:46:46.858Z"
   },
   {
    "duration": 0,
    "start_time": "2023-08-02T07:46:46.859Z"
   },
   {
    "duration": 0,
    "start_time": "2023-08-02T07:46:46.861Z"
   },
   {
    "duration": 0,
    "start_time": "2023-08-02T07:46:46.862Z"
   },
   {
    "duration": 0,
    "start_time": "2023-08-02T07:46:46.864Z"
   },
   {
    "duration": 0,
    "start_time": "2023-08-02T07:46:46.865Z"
   },
   {
    "duration": 0,
    "start_time": "2023-08-02T07:46:46.871Z"
   },
   {
    "duration": 0,
    "start_time": "2023-08-02T07:46:46.873Z"
   },
   {
    "duration": 0,
    "start_time": "2023-08-02T07:46:46.875Z"
   },
   {
    "duration": 0,
    "start_time": "2023-08-02T07:46:46.876Z"
   },
   {
    "duration": 0,
    "start_time": "2023-08-02T07:46:46.878Z"
   },
   {
    "duration": 0,
    "start_time": "2023-08-02T07:46:46.879Z"
   },
   {
    "duration": 2,
    "start_time": "2023-08-02T07:47:23.484Z"
   },
   {
    "duration": 1723,
    "start_time": "2023-08-02T07:47:42.100Z"
   },
   {
    "duration": 146,
    "start_time": "2023-08-02T07:47:43.825Z"
   },
   {
    "duration": 9,
    "start_time": "2023-08-02T07:47:43.973Z"
   },
   {
    "duration": 10,
    "start_time": "2023-08-02T07:47:43.984Z"
   },
   {
    "duration": 11,
    "start_time": "2023-08-02T07:47:43.995Z"
   },
   {
    "duration": 4,
    "start_time": "2023-08-02T07:47:44.008Z"
   },
   {
    "duration": 16,
    "start_time": "2023-08-02T07:47:44.013Z"
   },
   {
    "duration": 3,
    "start_time": "2023-08-02T07:47:44.031Z"
   },
   {
    "duration": 8,
    "start_time": "2023-08-02T07:47:44.035Z"
   },
   {
    "duration": 246,
    "start_time": "2023-08-02T07:47:44.045Z"
   },
   {
    "duration": 199,
    "start_time": "2023-08-02T07:47:44.293Z"
   },
   {
    "duration": 653,
    "start_time": "2023-08-02T07:47:44.494Z"
   },
   {
    "duration": 246,
    "start_time": "2023-08-02T07:47:45.148Z"
   },
   {
    "duration": 23,
    "start_time": "2023-08-02T07:47:45.396Z"
   },
   {
    "duration": 1957,
    "start_time": "2023-08-02T07:47:45.421Z"
   },
   {
    "duration": 93,
    "start_time": "2023-08-02T07:47:47.380Z"
   },
   {
    "duration": 110,
    "start_time": "2023-08-02T07:47:47.476Z"
   },
   {
    "duration": 9,
    "start_time": "2023-08-02T07:47:47.587Z"
   },
   {
    "duration": 10,
    "start_time": "2023-08-02T07:47:47.597Z"
   },
   {
    "duration": 11,
    "start_time": "2023-08-02T07:47:47.608Z"
   },
   {
    "duration": 30,
    "start_time": "2023-08-02T07:47:47.620Z"
   },
   {
    "duration": 25,
    "start_time": "2023-08-02T07:47:47.652Z"
   },
   {
    "duration": 25,
    "start_time": "2023-08-02T07:47:47.679Z"
   },
   {
    "duration": 33,
    "start_time": "2023-08-02T07:47:47.706Z"
   },
   {
    "duration": 113,
    "start_time": "2023-08-02T07:47:47.741Z"
   },
   {
    "duration": 106,
    "start_time": "2023-08-02T07:47:47.856Z"
   },
   {
    "duration": 2,
    "start_time": "2023-08-02T07:47:47.964Z"
   },
   {
    "duration": 8,
    "start_time": "2023-08-02T07:47:47.970Z"
   },
   {
    "duration": 6,
    "start_time": "2023-08-02T07:47:47.980Z"
   },
   {
    "duration": 7,
    "start_time": "2023-08-02T07:47:47.987Z"
   },
   {
    "duration": 8,
    "start_time": "2023-08-02T07:47:47.996Z"
   },
   {
    "duration": 14,
    "start_time": "2023-08-02T07:47:48.005Z"
   },
   {
    "duration": 101,
    "start_time": "2023-08-02T07:47:48.072Z"
   },
   {
    "duration": 98,
    "start_time": "2023-08-02T07:47:48.174Z"
   },
   {
    "duration": 5,
    "start_time": "2023-08-02T07:47:48.274Z"
   },
   {
    "duration": 105,
    "start_time": "2023-08-02T07:47:48.281Z"
   },
   {
    "duration": 7,
    "start_time": "2023-08-02T07:47:48.388Z"
   },
   {
    "duration": 1036,
    "start_time": "2023-08-02T07:47:48.396Z"
   },
   {
    "duration": 5,
    "start_time": "2023-08-02T07:47:49.433Z"
   },
   {
    "duration": 97,
    "start_time": "2023-08-02T07:47:49.439Z"
   },
   {
    "duration": 3,
    "start_time": "2023-08-02T07:47:49.538Z"
   },
   {
    "duration": 19,
    "start_time": "2023-08-02T07:47:49.542Z"
   },
   {
    "duration": 7,
    "start_time": "2023-08-02T07:47:49.563Z"
   },
   {
    "duration": 8,
    "start_time": "2023-08-02T07:47:49.572Z"
   },
   {
    "duration": 613,
    "start_time": "2023-08-02T07:47:49.582Z"
   },
   {
    "duration": 3,
    "start_time": "2023-08-02T07:47:50.197Z"
   },
   {
    "duration": 13,
    "start_time": "2023-08-02T07:47:50.201Z"
   },
   {
    "duration": 10,
    "start_time": "2023-08-02T07:47:50.215Z"
   },
   {
    "duration": 642,
    "start_time": "2023-08-02T07:47:50.226Z"
   },
   {
    "duration": 6,
    "start_time": "2023-08-02T07:47:50.871Z"
   },
   {
    "duration": 35,
    "start_time": "2023-08-02T07:47:50.878Z"
   },
   {
    "duration": 253,
    "start_time": "2023-08-02T07:47:50.915Z"
   },
   {
    "duration": 253,
    "start_time": "2023-08-02T07:47:51.170Z"
   },
   {
    "duration": 56,
    "start_time": "2023-08-02T07:54:25.841Z"
   },
   {
    "duration": 6,
    "start_time": "2023-08-02T07:54:36.252Z"
   },
   {
    "duration": 2,
    "start_time": "2023-08-02T07:54:48.235Z"
   },
   {
    "duration": 3,
    "start_time": "2023-08-02T07:54:48.606Z"
   },
   {
    "duration": 880,
    "start_time": "2023-08-02T07:54:49.891Z"
   },
   {
    "duration": 1024,
    "start_time": "2023-08-02T07:55:17.032Z"
   },
   {
    "duration": 6,
    "start_time": "2023-08-02T07:56:39.390Z"
   },
   {
    "duration": 892,
    "start_time": "2023-08-02T07:56:42.938Z"
   },
   {
    "duration": 3,
    "start_time": "2023-08-02T07:57:18.465Z"
   },
   {
    "duration": 3,
    "start_time": "2023-08-02T07:57:18.826Z"
   },
   {
    "duration": 1483,
    "start_time": "2023-08-02T07:57:34.924Z"
   },
   {
    "duration": 151,
    "start_time": "2023-08-02T07:57:36.410Z"
   },
   {
    "duration": 9,
    "start_time": "2023-08-02T07:57:36.563Z"
   },
   {
    "duration": 122,
    "start_time": "2023-08-02T07:57:36.574Z"
   },
   {
    "duration": 104,
    "start_time": "2023-08-02T07:57:36.699Z"
   },
   {
    "duration": 41,
    "start_time": "2023-08-02T07:57:36.805Z"
   },
   {
    "duration": 46,
    "start_time": "2023-08-02T07:57:36.848Z"
   },
   {
    "duration": 23,
    "start_time": "2023-08-02T07:57:36.896Z"
   },
   {
    "duration": 37,
    "start_time": "2023-08-02T07:57:36.921Z"
   },
   {
    "duration": 257,
    "start_time": "2023-08-02T07:57:36.959Z"
   },
   {
    "duration": 199,
    "start_time": "2023-08-02T07:57:37.218Z"
   },
   {
    "duration": 640,
    "start_time": "2023-08-02T07:57:37.419Z"
   },
   {
    "duration": 247,
    "start_time": "2023-08-02T07:57:38.060Z"
   },
   {
    "duration": 22,
    "start_time": "2023-08-02T07:57:38.311Z"
   },
   {
    "duration": 2147,
    "start_time": "2023-08-02T07:57:38.334Z"
   },
   {
    "duration": 99,
    "start_time": "2023-08-02T07:57:40.573Z"
   },
   {
    "duration": 29,
    "start_time": "2023-08-02T07:57:40.674Z"
   },
   {
    "duration": 13,
    "start_time": "2023-08-02T07:57:40.704Z"
   },
   {
    "duration": 8,
    "start_time": "2023-08-02T07:57:40.719Z"
   },
   {
    "duration": 11,
    "start_time": "2023-08-02T07:57:40.728Z"
   },
   {
    "duration": 34,
    "start_time": "2023-08-02T07:57:40.741Z"
   },
   {
    "duration": 32,
    "start_time": "2023-08-02T07:57:40.777Z"
   },
   {
    "duration": 13,
    "start_time": "2023-08-02T07:57:40.811Z"
   },
   {
    "duration": 8,
    "start_time": "2023-08-02T07:57:40.826Z"
   },
   {
    "duration": 34,
    "start_time": "2023-08-02T07:57:40.836Z"
   },
   {
    "duration": 62,
    "start_time": "2023-08-02T07:57:40.871Z"
   },
   {
    "duration": 60,
    "start_time": "2023-08-02T07:57:40.935Z"
   },
   {
    "duration": 10,
    "start_time": "2023-08-02T07:57:40.997Z"
   },
   {
    "duration": 8,
    "start_time": "2023-08-02T07:57:41.008Z"
   },
   {
    "duration": 6,
    "start_time": "2023-08-02T07:57:41.018Z"
   },
   {
    "duration": 7,
    "start_time": "2023-08-02T07:57:41.025Z"
   },
   {
    "duration": 36,
    "start_time": "2023-08-02T07:57:41.034Z"
   },
   {
    "duration": 200,
    "start_time": "2023-08-02T07:57:41.073Z"
   },
   {
    "duration": 101,
    "start_time": "2023-08-02T07:57:41.277Z"
   },
   {
    "duration": 23,
    "start_time": "2023-08-02T07:57:41.380Z"
   },
   {
    "duration": 18,
    "start_time": "2023-08-02T07:57:41.404Z"
   },
   {
    "duration": 21,
    "start_time": "2023-08-02T07:57:41.424Z"
   },
   {
    "duration": 926,
    "start_time": "2023-08-02T07:57:41.447Z"
   },
   {
    "duration": 3,
    "start_time": "2023-08-02T07:57:42.375Z"
   },
   {
    "duration": 99,
    "start_time": "2023-08-02T07:57:42.380Z"
   },
   {
    "duration": 3,
    "start_time": "2023-08-02T07:57:42.482Z"
   },
   {
    "duration": 11,
    "start_time": "2023-08-02T07:57:42.486Z"
   },
   {
    "duration": 13,
    "start_time": "2023-08-02T07:57:42.499Z"
   },
   {
    "duration": 69742,
    "start_time": "2023-08-02T07:57:42.514Z"
   },
   {
    "duration": 2035,
    "start_time": "2023-08-02T07:58:52.258Z"
   },
   {
    "duration": 2,
    "start_time": "2023-08-02T07:58:54.295Z"
   },
   {
    "duration": 22,
    "start_time": "2023-08-02T07:58:54.299Z"
   },
   {
    "duration": 23,
    "start_time": "2023-08-02T07:58:54.323Z"
   },
   {
    "duration": 1975,
    "start_time": "2023-08-02T07:58:54.348Z"
   },
   {
    "duration": 7,
    "start_time": "2023-08-02T07:58:56.326Z"
   },
   {
    "duration": 14,
    "start_time": "2023-08-02T07:58:56.335Z"
   },
   {
    "duration": 257,
    "start_time": "2023-08-02T07:58:56.351Z"
   },
   {
    "duration": 202,
    "start_time": "2023-08-02T07:58:56.610Z"
   },
   {
    "duration": 34316,
    "start_time": "2023-08-02T08:01:44.181Z"
   },
   {
    "duration": 2126,
    "start_time": "2023-08-02T08:09:17.735Z"
   },
   {
    "duration": 1929,
    "start_time": "2023-08-02T08:09:25.310Z"
   },
   {
    "duration": 7,
    "start_time": "2023-08-02T08:09:28.390Z"
   },
   {
    "duration": 1926,
    "start_time": "2023-08-02T08:09:57.230Z"
   },
   {
    "duration": 7,
    "start_time": "2023-08-02T08:09:59.587Z"
   },
   {
    "duration": 218,
    "start_time": "2023-08-02T08:10:34.800Z"
   },
   {
    "duration": 10,
    "start_time": "2023-08-02T08:11:09.177Z"
   },
   {
    "duration": 4,
    "start_time": "2023-08-02T08:11:20.166Z"
   },
   {
    "duration": 474,
    "start_time": "2023-08-02T08:11:47.936Z"
   },
   {
    "duration": 203,
    "start_time": "2023-08-02T08:12:15.768Z"
   },
   {
    "duration": 18,
    "start_time": "2023-08-02T08:13:25.004Z"
   },
   {
    "duration": 1826,
    "start_time": "2023-08-02T08:13:38.300Z"
   },
   {
    "duration": 195,
    "start_time": "2023-08-02T08:14:22.152Z"
   },
   {
    "duration": 539,
    "start_time": "2023-08-02T08:14:34.496Z"
   },
   {
    "duration": 210,
    "start_time": "2023-08-02T08:15:51.064Z"
   },
   {
    "duration": 18,
    "start_time": "2023-08-02T08:16:08.397Z"
   },
   {
    "duration": 196,
    "start_time": "2023-08-02T08:16:37.809Z"
   },
   {
    "duration": 306,
    "start_time": "2023-08-02T08:16:49.947Z"
   },
   {
    "duration": 203,
    "start_time": "2023-08-02T08:17:15.449Z"
   },
   {
    "duration": 13,
    "start_time": "2023-08-02T08:17:18.478Z"
   },
   {
    "duration": 210,
    "start_time": "2023-08-02T08:17:23.267Z"
   },
   {
    "duration": 589,
    "start_time": "2023-08-02T08:17:23.918Z"
   },
   {
    "duration": 206,
    "start_time": "2023-08-02T08:18:00.280Z"
   },
   {
    "duration": 544,
    "start_time": "2023-08-02T08:18:01.678Z"
   },
   {
    "duration": 313,
    "start_time": "2023-08-02T08:18:12.945Z"
   },
   {
    "duration": 189,
    "start_time": "2023-08-02T08:18:19.244Z"
   },
   {
    "duration": 202,
    "start_time": "2023-08-02T08:18:33.905Z"
   },
   {
    "duration": 557,
    "start_time": "2023-08-02T08:18:51.887Z"
   },
   {
    "duration": 604,
    "start_time": "2023-08-02T08:20:27.420Z"
   },
   {
    "duration": 14,
    "start_time": "2023-08-02T08:23:42.159Z"
   },
   {
    "duration": 197,
    "start_time": "2023-08-02T08:23:49.859Z"
   },
   {
    "duration": 189,
    "start_time": "2023-08-02T08:23:57.142Z"
   },
   {
    "duration": 397,
    "start_time": "2023-08-02T08:23:57.502Z"
   },
   {
    "duration": 16,
    "start_time": "2023-08-02T08:25:55.059Z"
   },
   {
    "duration": 188,
    "start_time": "2023-08-02T08:25:55.513Z"
   },
   {
    "duration": 592,
    "start_time": "2023-08-02T08:26:03.712Z"
   },
   {
    "duration": 644,
    "start_time": "2023-08-02T08:26:54.811Z"
   },
   {
    "duration": 788,
    "start_time": "2023-08-02T08:27:42.543Z"
   },
   {
    "duration": 811,
    "start_time": "2023-08-02T08:28:17.339Z"
   },
   {
    "duration": 744,
    "start_time": "2023-08-02T08:28:34.070Z"
   },
   {
    "duration": 802,
    "start_time": "2023-08-02T08:28:42.800Z"
   },
   {
    "duration": 918,
    "start_time": "2023-08-02T08:29:06.455Z"
   },
   {
    "duration": 51,
    "start_time": "2023-08-03T07:06:17.676Z"
   },
   {
    "duration": 3167,
    "start_time": "2023-08-03T07:06:28.843Z"
   },
   {
    "duration": 174,
    "start_time": "2023-08-03T07:06:32.012Z"
   },
   {
    "duration": 9,
    "start_time": "2023-08-03T07:06:32.187Z"
   },
   {
    "duration": 26,
    "start_time": "2023-08-03T07:06:32.197Z"
   },
   {
    "duration": 33,
    "start_time": "2023-08-03T07:06:32.225Z"
   },
   {
    "duration": 20,
    "start_time": "2023-08-03T07:06:32.260Z"
   },
   {
    "duration": 24,
    "start_time": "2023-08-03T07:06:32.282Z"
   },
   {
    "duration": 48,
    "start_time": "2023-08-03T07:06:32.308Z"
   },
   {
    "duration": 22,
    "start_time": "2023-08-03T07:06:32.358Z"
   },
   {
    "duration": 233,
    "start_time": "2023-08-03T07:06:32.382Z"
   },
   {
    "duration": 183,
    "start_time": "2023-08-03T07:06:32.616Z"
   },
   {
    "duration": 686,
    "start_time": "2023-08-03T07:06:32.801Z"
   },
   {
    "duration": 232,
    "start_time": "2023-08-03T07:06:33.488Z"
   },
   {
    "duration": 22,
    "start_time": "2023-08-03T07:06:33.724Z"
   },
   {
    "duration": 2756,
    "start_time": "2023-08-03T07:06:33.748Z"
   },
   {
    "duration": 95,
    "start_time": "2023-08-03T07:06:36.507Z"
   },
   {
    "duration": 453,
    "start_time": "2023-08-03T07:13:28.997Z"
   },
   {
    "duration": 5,
    "start_time": "2023-08-03T07:13:38.596Z"
   },
   {
    "duration": 111,
    "start_time": "2023-08-03T07:13:38.603Z"
   },
   {
    "duration": 6,
    "start_time": "2023-08-03T07:13:38.716Z"
   },
   {
    "duration": 13,
    "start_time": "2023-08-03T07:13:38.724Z"
   },
   {
    "duration": 9,
    "start_time": "2023-08-03T07:13:38.738Z"
   },
   {
    "duration": 9,
    "start_time": "2023-08-03T07:13:38.749Z"
   },
   {
    "duration": 26,
    "start_time": "2023-08-03T07:13:38.759Z"
   },
   {
    "duration": 14,
    "start_time": "2023-08-03T07:13:38.786Z"
   },
   {
    "duration": 8,
    "start_time": "2023-08-03T07:13:38.802Z"
   },
   {
    "duration": 223,
    "start_time": "2023-08-03T07:13:38.814Z"
   },
   {
    "duration": 219,
    "start_time": "2023-08-03T07:13:39.039Z"
   },
   {
    "duration": 553,
    "start_time": "2023-08-03T07:13:39.260Z"
   },
   {
    "duration": 297,
    "start_time": "2023-08-03T07:13:39.814Z"
   },
   {
    "duration": 2,
    "start_time": "2023-08-03T07:13:40.113Z"
   },
   {
    "duration": 1896,
    "start_time": "2023-08-03T07:13:40.116Z"
   },
   {
    "duration": 88,
    "start_time": "2023-08-03T07:13:42.014Z"
   },
   {
    "duration": 107,
    "start_time": "2023-08-03T07:13:42.103Z"
   },
   {
    "duration": 6,
    "start_time": "2023-08-03T07:13:42.212Z"
   },
   {
    "duration": 6,
    "start_time": "2023-08-03T07:13:42.220Z"
   },
   {
    "duration": 12,
    "start_time": "2023-08-03T07:13:42.227Z"
   },
   {
    "duration": 21,
    "start_time": "2023-08-03T07:13:42.240Z"
   },
   {
    "duration": 37,
    "start_time": "2023-08-03T07:13:42.263Z"
   },
   {
    "duration": 14,
    "start_time": "2023-08-03T07:13:42.301Z"
   },
   {
    "duration": 5,
    "start_time": "2023-08-03T07:13:42.317Z"
   },
   {
    "duration": 15,
    "start_time": "2023-08-03T07:13:42.324Z"
   },
   {
    "duration": 46,
    "start_time": "2023-08-03T07:13:42.341Z"
   },
   {
    "duration": 3,
    "start_time": "2023-08-03T07:13:42.388Z"
   },
   {
    "duration": 7,
    "start_time": "2023-08-03T07:13:42.400Z"
   },
   {
    "duration": 11,
    "start_time": "2023-08-03T07:13:42.408Z"
   },
   {
    "duration": 8,
    "start_time": "2023-08-03T07:13:42.420Z"
   },
   {
    "duration": 6,
    "start_time": "2023-08-03T07:13:42.429Z"
   },
   {
    "duration": 68,
    "start_time": "2023-08-03T07:13:42.437Z"
   },
   {
    "duration": 208,
    "start_time": "2023-08-03T07:13:42.507Z"
   },
   {
    "duration": 200,
    "start_time": "2023-08-03T07:13:42.716Z"
   },
   {
    "duration": 14,
    "start_time": "2023-08-03T07:13:42.917Z"
   },
   {
    "duration": 20,
    "start_time": "2023-08-03T07:13:42.933Z"
   },
   {
    "duration": 8,
    "start_time": "2023-08-03T07:13:42.955Z"
   },
   {
    "duration": 928,
    "start_time": "2023-08-03T07:13:42.965Z"
   },
   {
    "duration": 947,
    "start_time": "2023-08-03T07:14:14.514Z"
   },
   {
    "duration": 890,
    "start_time": "2023-08-03T07:14:21.869Z"
   },
   {
    "duration": 922,
    "start_time": "2023-08-03T07:15:19.146Z"
   },
   {
    "duration": 10,
    "start_time": "2023-08-03T07:16:01.583Z"
   },
   {
    "duration": 1447,
    "start_time": "2023-08-03T07:16:15.254Z"
   },
   {
    "duration": 111,
    "start_time": "2023-08-03T07:16:16.702Z"
   },
   {
    "duration": 7,
    "start_time": "2023-08-03T07:16:16.815Z"
   },
   {
    "duration": 11,
    "start_time": "2023-08-03T07:16:16.824Z"
   },
   {
    "duration": 12,
    "start_time": "2023-08-03T07:16:16.837Z"
   },
   {
    "duration": 8,
    "start_time": "2023-08-03T07:16:16.850Z"
   },
   {
    "duration": 27,
    "start_time": "2023-08-03T07:16:16.859Z"
   },
   {
    "duration": 8,
    "start_time": "2023-08-03T07:16:16.888Z"
   },
   {
    "duration": 16,
    "start_time": "2023-08-03T07:16:16.899Z"
   },
   {
    "duration": 229,
    "start_time": "2023-08-03T07:16:16.919Z"
   },
   {
    "duration": 191,
    "start_time": "2023-08-03T07:16:17.150Z"
   },
   {
    "duration": 588,
    "start_time": "2023-08-03T07:16:17.342Z"
   },
   {
    "duration": 253,
    "start_time": "2023-08-03T07:16:17.932Z"
   },
   {
    "duration": 33,
    "start_time": "2023-08-03T07:16:18.187Z"
   },
   {
    "duration": 1880,
    "start_time": "2023-08-03T07:16:18.222Z"
   },
   {
    "duration": 6,
    "start_time": "2023-08-03T07:16:20.104Z"
   },
   {
    "duration": 116,
    "start_time": "2023-08-03T07:16:20.112Z"
   },
   {
    "duration": 59,
    "start_time": "2023-08-03T07:16:20.229Z"
   },
   {
    "duration": 17,
    "start_time": "2023-08-03T07:16:20.290Z"
   },
   {
    "duration": 31,
    "start_time": "2023-08-03T07:16:20.308Z"
   },
   {
    "duration": 48,
    "start_time": "2023-08-03T07:16:20.340Z"
   },
   {
    "duration": 32,
    "start_time": "2023-08-03T07:16:20.390Z"
   },
   {
    "duration": 29,
    "start_time": "2023-08-03T07:16:20.424Z"
   },
   {
    "duration": 21,
    "start_time": "2023-08-03T07:16:20.454Z"
   },
   {
    "duration": 48,
    "start_time": "2023-08-03T07:16:20.477Z"
   },
   {
    "duration": 58,
    "start_time": "2023-08-03T07:16:20.527Z"
   },
   {
    "duration": 2,
    "start_time": "2023-08-03T07:16:20.587Z"
   },
   {
    "duration": 19,
    "start_time": "2023-08-03T07:16:20.593Z"
   },
   {
    "duration": 46,
    "start_time": "2023-08-03T07:16:20.614Z"
   },
   {
    "duration": 35,
    "start_time": "2023-08-03T07:16:20.661Z"
   },
   {
    "duration": 27,
    "start_time": "2023-08-03T07:16:20.698Z"
   },
   {
    "duration": 41,
    "start_time": "2023-08-03T07:16:20.727Z"
   },
   {
    "duration": 131,
    "start_time": "2023-08-03T07:16:20.769Z"
   },
   {
    "duration": 99,
    "start_time": "2023-08-03T07:16:20.902Z"
   },
   {
    "duration": 18,
    "start_time": "2023-08-03T07:16:21.003Z"
   },
   {
    "duration": 28,
    "start_time": "2023-08-03T07:16:21.023Z"
   },
   {
    "duration": 6,
    "start_time": "2023-08-03T07:16:21.053Z"
   },
   {
    "duration": 1096,
    "start_time": "2023-08-03T07:16:21.061Z"
   },
   {
    "duration": 4,
    "start_time": "2023-08-03T07:16:22.158Z"
   },
   {
    "duration": 120,
    "start_time": "2023-08-03T07:16:22.163Z"
   },
   {
    "duration": 3,
    "start_time": "2023-08-03T07:16:22.285Z"
   },
   {
    "duration": 17,
    "start_time": "2023-08-03T07:16:22.299Z"
   },
   {
    "duration": 15,
    "start_time": "2023-08-03T07:16:22.317Z"
   },
   {
    "duration": 6312,
    "start_time": "2023-08-03T07:16:22.334Z"
   },
   {
    "duration": 4459,
    "start_time": "2023-08-03T07:16:28.647Z"
   },
   {
    "duration": 3,
    "start_time": "2023-08-03T07:16:33.108Z"
   },
   {
    "duration": 23,
    "start_time": "2023-08-03T07:16:33.112Z"
   },
   {
    "duration": 12,
    "start_time": "2023-08-03T07:16:33.137Z"
   },
   {
    "duration": 4446,
    "start_time": "2023-08-03T07:16:33.151Z"
   },
   {
    "duration": 6,
    "start_time": "2023-08-03T07:16:37.598Z"
   },
   {
    "duration": 8,
    "start_time": "2023-08-03T07:16:37.606Z"
   },
   {
    "duration": 192,
    "start_time": "2023-08-03T07:16:37.616Z"
   },
   {
    "duration": 195,
    "start_time": "2023-08-03T07:16:37.810Z"
   },
   {
    "duration": 22,
    "start_time": "2023-08-03T07:16:38.007Z"
   },
   {
    "duration": 203,
    "start_time": "2023-08-03T07:16:38.031Z"
   },
   {
    "duration": 696,
    "start_time": "2023-08-03T07:16:38.236Z"
   },
   {
    "duration": 2,
    "start_time": "2023-08-03T07:16:38.937Z"
   },
   {
    "duration": 43,
    "start_time": "2023-08-03T07:16:38.940Z"
   },
   {
    "duration": 19,
    "start_time": "2023-08-03T07:16:38.985Z"
   },
   {
    "duration": 638,
    "start_time": "2023-08-03T07:16:39.005Z"
   },
   {
    "duration": 3,
    "start_time": "2023-08-03T07:16:39.644Z"
   },
   {
    "duration": 26,
    "start_time": "2023-08-03T07:16:39.649Z"
   },
   {
    "duration": 16,
    "start_time": "2023-08-03T07:16:39.677Z"
   },
   {
    "duration": 2,
    "start_time": "2023-08-03T07:17:04.349Z"
   },
   {
    "duration": 2,
    "start_time": "2023-08-03T07:17:04.672Z"
   },
   {
    "duration": 35557,
    "start_time": "2023-08-03T07:17:05.000Z"
   },
   {
    "duration": 3801,
    "start_time": "2023-08-03T07:18:40.160Z"
   },
   {
    "duration": 1974,
    "start_time": "2023-08-03T07:18:47.074Z"
   },
   {
    "duration": 3,
    "start_time": "2023-08-03T07:18:49.788Z"
   },
   {
    "duration": 4,
    "start_time": "2023-08-03T07:18:50.749Z"
   },
   {
    "duration": 4,
    "start_time": "2023-08-03T07:18:54.622Z"
   },
   {
    "duration": 2189,
    "start_time": "2023-08-03T07:18:56.991Z"
   },
   {
    "duration": 7,
    "start_time": "2023-08-03T07:18:59.182Z"
   },
   {
    "duration": 15,
    "start_time": "2023-08-03T07:18:59.199Z"
   },
   {
    "duration": 213,
    "start_time": "2023-08-03T07:18:59.286Z"
   },
   {
    "duration": 198,
    "start_time": "2023-08-03T07:18:59.868Z"
   },
   {
    "duration": 16,
    "start_time": "2023-08-03T07:19:00.619Z"
   },
   {
    "duration": 173,
    "start_time": "2023-08-03T07:19:01.149Z"
   },
   {
    "duration": 787,
    "start_time": "2023-08-03T07:20:22.919Z"
   },
   {
    "duration": 1095,
    "start_time": "2023-08-03T07:20:31.345Z"
   },
   {
    "duration": 839,
    "start_time": "2023-08-03T07:20:39.951Z"
   },
   {
    "duration": 29,
    "start_time": "2023-08-03T07:21:17.249Z"
   },
   {
    "duration": 5,
    "start_time": "2023-08-03T07:21:28.879Z"
   },
   {
    "duration": 115,
    "start_time": "2023-08-03T07:21:28.886Z"
   },
   {
    "duration": 6,
    "start_time": "2023-08-03T07:21:29.003Z"
   },
   {
    "duration": 17,
    "start_time": "2023-08-03T07:21:29.011Z"
   },
   {
    "duration": 21,
    "start_time": "2023-08-03T07:21:29.030Z"
   },
   {
    "duration": 11,
    "start_time": "2023-08-03T07:21:29.053Z"
   },
   {
    "duration": 19,
    "start_time": "2023-08-03T07:21:29.066Z"
   },
   {
    "duration": 9,
    "start_time": "2023-08-03T07:21:29.087Z"
   },
   {
    "duration": 14,
    "start_time": "2023-08-03T07:21:29.098Z"
   },
   {
    "duration": 192,
    "start_time": "2023-08-03T07:21:29.114Z"
   },
   {
    "duration": 182,
    "start_time": "2023-08-03T07:21:29.307Z"
   },
   {
    "duration": 803,
    "start_time": "2023-08-03T07:21:30.447Z"
   },
   {
    "duration": 242,
    "start_time": "2023-08-03T07:21:40.623Z"
   },
   {
    "duration": 249,
    "start_time": "2023-08-03T07:21:48.107Z"
   },
   {
    "duration": 220,
    "start_time": "2023-08-03T07:22:50.486Z"
   },
   {
    "duration": 1507,
    "start_time": "2023-08-03T07:27:06.649Z"
   },
   {
    "duration": 408,
    "start_time": "2023-08-03T07:27:08.158Z"
   },
   {
    "duration": 9,
    "start_time": "2023-08-03T07:27:08.568Z"
   },
   {
    "duration": 17,
    "start_time": "2023-08-03T07:27:08.578Z"
   },
   {
    "duration": 33,
    "start_time": "2023-08-03T07:27:08.598Z"
   },
   {
    "duration": 34,
    "start_time": "2023-08-03T07:27:08.633Z"
   },
   {
    "duration": 26,
    "start_time": "2023-08-03T07:27:08.669Z"
   },
   {
    "duration": 5,
    "start_time": "2023-08-03T07:27:08.697Z"
   },
   {
    "duration": 28,
    "start_time": "2023-08-03T07:27:08.703Z"
   },
   {
    "duration": 217,
    "start_time": "2023-08-03T07:27:08.732Z"
   },
   {
    "duration": 187,
    "start_time": "2023-08-03T07:27:08.951Z"
   },
   {
    "duration": 772,
    "start_time": "2023-08-03T07:27:09.140Z"
   },
   {
    "duration": 231,
    "start_time": "2023-08-03T07:27:09.914Z"
   },
   {
    "duration": 21,
    "start_time": "2023-08-03T07:27:10.148Z"
   },
   {
    "duration": 4546,
    "start_time": "2023-08-03T07:27:10.171Z"
   },
   {
    "duration": 6,
    "start_time": "2023-08-03T07:27:14.718Z"
   },
   {
    "duration": 199,
    "start_time": "2023-08-03T07:27:14.726Z"
   },
   {
    "duration": 7,
    "start_time": "2023-08-03T07:27:14.926Z"
   },
   {
    "duration": 5,
    "start_time": "2023-08-03T07:27:14.935Z"
   },
   {
    "duration": 7,
    "start_time": "2023-08-03T07:27:14.942Z"
   },
   {
    "duration": 27,
    "start_time": "2023-08-03T07:27:14.952Z"
   },
   {
    "duration": 37,
    "start_time": "2023-08-03T07:27:14.980Z"
   },
   {
    "duration": 44,
    "start_time": "2023-08-03T07:27:15.019Z"
   },
   {
    "duration": 6,
    "start_time": "2023-08-03T07:27:15.065Z"
   },
   {
    "duration": 24,
    "start_time": "2023-08-03T07:27:15.073Z"
   },
   {
    "duration": 64,
    "start_time": "2023-08-03T07:27:15.099Z"
   },
   {
    "duration": 3,
    "start_time": "2023-08-03T07:27:15.164Z"
   },
   {
    "duration": 10,
    "start_time": "2023-08-03T07:27:15.169Z"
   },
   {
    "duration": 6,
    "start_time": "2023-08-03T07:27:15.181Z"
   },
   {
    "duration": 23,
    "start_time": "2023-08-03T07:27:15.188Z"
   },
   {
    "duration": 20,
    "start_time": "2023-08-03T07:27:15.213Z"
   },
   {
    "duration": 15,
    "start_time": "2023-08-03T07:27:15.235Z"
   },
   {
    "duration": 161,
    "start_time": "2023-08-03T07:27:15.252Z"
   },
   {
    "duration": 203,
    "start_time": "2023-08-03T07:27:15.415Z"
   },
   {
    "duration": 9,
    "start_time": "2023-08-03T07:27:15.619Z"
   },
   {
    "duration": 12,
    "start_time": "2023-08-03T07:27:15.629Z"
   },
   {
    "duration": 5,
    "start_time": "2023-08-03T07:27:15.642Z"
   },
   {
    "duration": 985,
    "start_time": "2023-08-03T07:27:15.648Z"
   },
   {
    "duration": 4,
    "start_time": "2023-08-03T07:27:16.634Z"
   },
   {
    "duration": 113,
    "start_time": "2023-08-03T07:27:16.639Z"
   },
   {
    "duration": 2,
    "start_time": "2023-08-03T07:27:16.757Z"
   },
   {
    "duration": 26,
    "start_time": "2023-08-03T07:27:16.760Z"
   },
   {
    "duration": 41,
    "start_time": "2023-08-03T07:27:16.787Z"
   },
   {
    "duration": 36903,
    "start_time": "2023-08-03T07:27:16.830Z"
   },
   {
    "duration": 2239,
    "start_time": "2023-08-03T07:27:53.735Z"
   },
   {
    "duration": 4,
    "start_time": "2023-08-03T07:27:55.976Z"
   },
   {
    "duration": 39,
    "start_time": "2023-08-03T07:27:55.982Z"
   },
   {
    "duration": 14,
    "start_time": "2023-08-03T07:27:56.023Z"
   },
   {
    "duration": 2318,
    "start_time": "2023-08-03T07:27:56.038Z"
   },
   {
    "duration": 6,
    "start_time": "2023-08-03T07:27:58.357Z"
   },
   {
    "duration": 24,
    "start_time": "2023-08-03T07:27:58.365Z"
   },
   {
    "duration": 248,
    "start_time": "2023-08-03T07:27:58.391Z"
   },
   {
    "duration": 192,
    "start_time": "2023-08-03T07:27:58.640Z"
   },
   {
    "duration": 15,
    "start_time": "2023-08-03T07:27:58.834Z"
   },
   {
    "duration": 202,
    "start_time": "2023-08-03T07:27:58.851Z"
   },
   {
    "duration": 936,
    "start_time": "2023-08-03T07:27:59.055Z"
   }
  ],
  "kernelspec": {
   "display_name": "Python 3 (ipykernel)",
   "language": "python",
   "name": "python3"
  },
  "language_info": {
   "codemirror_mode": {
    "name": "ipython",
    "version": 3
   },
   "file_extension": ".py",
   "mimetype": "text/x-python",
   "name": "python",
   "nbconvert_exporter": "python",
   "pygments_lexer": "ipython3",
   "version": "3.11.5"
  },
  "toc": {
   "base_numbering": 1,
   "nav_menu": {},
   "number_sections": true,
   "sideBar": true,
   "skip_h1_title": true,
   "title_cell": "Содержание",
   "title_sidebar": "Contents",
   "toc_cell": true,
   "toc_position": {
    "height": "calc(100% - 180px)",
    "left": "10px",
    "top": "150px",
    "width": "294.237px"
   },
   "toc_section_display": true,
   "toc_window_display": true
  }
 },
 "nbformat": 4,
 "nbformat_minor": 4
}
