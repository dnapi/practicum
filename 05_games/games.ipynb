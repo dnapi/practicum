{
 "cells": [
  {
   "cell_type": "markdown",
   "metadata": {},
   "source": [
    "# Сборный проект 'Исследование популярности компьютерных игр'\n",
    "\n",
    "**Описание проекта**\n",
    "\n",
    "Вы работаете в интернет-магазине «Стримчик», который продаёт по всему миру компьютерные игры. Из открытых источников доступны исторические данные о продажах игр, оценки пользователей и экспертов, жанры и платформы (например, Xbox или PlayStation). Вам нужно выявить определяющие успешность игры закономерности. Это позволит сделать ставку на потенциально популярный продукт и спланировать рекламные кампании.\n",
    "Перед вами данные до 2016 года. Представим, что сейчас декабрь 2016 г., и вы планируете кампанию на 2017-й. Нужно отработать принцип работы с данными. Неважно, прогнозируете ли вы продажи на 2017 год по данным 2016-го или же 2027-й — по данным 2026 года.\n",
    "В наборе данных попадается аббревиатура ESRB (Entertainment Software Rating Board) — это ассоциация, определяющая возрастной рейтинг компьютерных игр. ESRB оценивает игровой контент и присваивает ему подходящую возрастную категорию, например, «Для взрослых», «Для детей младшего возраста» или «Для подростков».\n",
    "\n",
    "Описание данных\n",
    "- Name — название игры\n",
    "- Platform — платформа\n",
    "- Year_of_Release — год выпуска\n",
    "- Genre — жанр игры\n",
    "- NA_sales — продажи в Северной Америке (миллионы проданных копий)\n",
    "- EU_sales — продажи в Европе (миллионы проданных копий)\n",
    "- JP_sales — продажи в Японии (миллионы проданных копий)\n",
    "- Other_sales — продажи в других странах (миллионы проданных копий)\n",
    "- Critic_Score — оценка критиков (максимум 100)\n",
    "- User_Score — оценка пользователей (максимум 10)\n",
    "- Rating — рейтинг от организации ESRB (англ. Entertainment Software Rating Board). Эта ассоциация определяет рейтинг компьютерных игр и присваивает им подходящую возрастную категорию.\n",
    "\n",
    "Данные за 2016 год могут быть неполными."
   ]
  },
  {
   "cell_type": "code",
   "execution_count": 1,
   "metadata": {},
   "outputs": [],
   "source": [
    "import pandas as pd\n",
    "import numpy as np\n",
    "import matplotlib.pyplot as plt\n",
    "import statistics as stas\n",
    "from scipy import stats as st"
   ]
  },
  {
   "cell_type": "markdown",
   "metadata": {},
   "source": [
    "## Открытие файла и изучение общей информации"
   ]
  },
  {
   "cell_type": "code",
   "execution_count": 2,
   "metadata": {},
   "outputs": [],
   "source": [
    "try:\n",
    "    games = pd.read_csv('games.csv')  # Локальный путь\n",
    "except:\n",
    "    games = pd.read_csv('/datasets/games.csv')  # Серверный путь    "
   ]
  },
  {
   "cell_type": "code",
   "execution_count": 3,
   "metadata": {},
   "outputs": [
    {
     "data": {
      "text/html": [
       "<div>\n",
       "<style scoped>\n",
       "    .dataframe tbody tr th:only-of-type {\n",
       "        vertical-align: middle;\n",
       "    }\n",
       "\n",
       "    .dataframe tbody tr th {\n",
       "        vertical-align: top;\n",
       "    }\n",
       "\n",
       "    .dataframe thead th {\n",
       "        text-align: right;\n",
       "    }\n",
       "</style>\n",
       "<table border=\"1\" class=\"dataframe\">\n",
       "  <thead>\n",
       "    <tr style=\"text-align: right;\">\n",
       "      <th></th>\n",
       "      <th>Name</th>\n",
       "      <th>Platform</th>\n",
       "      <th>Year_of_Release</th>\n",
       "      <th>Genre</th>\n",
       "      <th>NA_sales</th>\n",
       "      <th>EU_sales</th>\n",
       "      <th>JP_sales</th>\n",
       "      <th>Other_sales</th>\n",
       "      <th>Critic_Score</th>\n",
       "      <th>User_Score</th>\n",
       "      <th>Rating</th>\n",
       "    </tr>\n",
       "  </thead>\n",
       "  <tbody>\n",
       "    <tr>\n",
       "      <th>0</th>\n",
       "      <td>Wii Sports</td>\n",
       "      <td>Wii</td>\n",
       "      <td>2006.0</td>\n",
       "      <td>Sports</td>\n",
       "      <td>41.36</td>\n",
       "      <td>28.96</td>\n",
       "      <td>3.77</td>\n",
       "      <td>8.45</td>\n",
       "      <td>76.0</td>\n",
       "      <td>8</td>\n",
       "      <td>E</td>\n",
       "    </tr>\n",
       "    <tr>\n",
       "      <th>1</th>\n",
       "      <td>Super Mario Bros.</td>\n",
       "      <td>NES</td>\n",
       "      <td>1985.0</td>\n",
       "      <td>Platform</td>\n",
       "      <td>29.08</td>\n",
       "      <td>3.58</td>\n",
       "      <td>6.81</td>\n",
       "      <td>0.77</td>\n",
       "      <td>NaN</td>\n",
       "      <td>NaN</td>\n",
       "      <td>NaN</td>\n",
       "    </tr>\n",
       "    <tr>\n",
       "      <th>2</th>\n",
       "      <td>Mario Kart Wii</td>\n",
       "      <td>Wii</td>\n",
       "      <td>2008.0</td>\n",
       "      <td>Racing</td>\n",
       "      <td>15.68</td>\n",
       "      <td>12.76</td>\n",
       "      <td>3.79</td>\n",
       "      <td>3.29</td>\n",
       "      <td>82.0</td>\n",
       "      <td>8.3</td>\n",
       "      <td>E</td>\n",
       "    </tr>\n",
       "    <tr>\n",
       "      <th>3</th>\n",
       "      <td>Wii Sports Resort</td>\n",
       "      <td>Wii</td>\n",
       "      <td>2009.0</td>\n",
       "      <td>Sports</td>\n",
       "      <td>15.61</td>\n",
       "      <td>10.93</td>\n",
       "      <td>3.28</td>\n",
       "      <td>2.95</td>\n",
       "      <td>80.0</td>\n",
       "      <td>8</td>\n",
       "      <td>E</td>\n",
       "    </tr>\n",
       "    <tr>\n",
       "      <th>4</th>\n",
       "      <td>Pokemon Red/Pokemon Blue</td>\n",
       "      <td>GB</td>\n",
       "      <td>1996.0</td>\n",
       "      <td>Role-Playing</td>\n",
       "      <td>11.27</td>\n",
       "      <td>8.89</td>\n",
       "      <td>10.22</td>\n",
       "      <td>1.00</td>\n",
       "      <td>NaN</td>\n",
       "      <td>NaN</td>\n",
       "      <td>NaN</td>\n",
       "    </tr>\n",
       "    <tr>\n",
       "      <th>5</th>\n",
       "      <td>Tetris</td>\n",
       "      <td>GB</td>\n",
       "      <td>1989.0</td>\n",
       "      <td>Puzzle</td>\n",
       "      <td>23.20</td>\n",
       "      <td>2.26</td>\n",
       "      <td>4.22</td>\n",
       "      <td>0.58</td>\n",
       "      <td>NaN</td>\n",
       "      <td>NaN</td>\n",
       "      <td>NaN</td>\n",
       "    </tr>\n",
       "    <tr>\n",
       "      <th>6</th>\n",
       "      <td>New Super Mario Bros.</td>\n",
       "      <td>DS</td>\n",
       "      <td>2006.0</td>\n",
       "      <td>Platform</td>\n",
       "      <td>11.28</td>\n",
       "      <td>9.14</td>\n",
       "      <td>6.50</td>\n",
       "      <td>2.88</td>\n",
       "      <td>89.0</td>\n",
       "      <td>8.5</td>\n",
       "      <td>E</td>\n",
       "    </tr>\n",
       "    <tr>\n",
       "      <th>7</th>\n",
       "      <td>Wii Play</td>\n",
       "      <td>Wii</td>\n",
       "      <td>2006.0</td>\n",
       "      <td>Misc</td>\n",
       "      <td>13.96</td>\n",
       "      <td>9.18</td>\n",
       "      <td>2.93</td>\n",
       "      <td>2.84</td>\n",
       "      <td>58.0</td>\n",
       "      <td>6.6</td>\n",
       "      <td>E</td>\n",
       "    </tr>\n",
       "    <tr>\n",
       "      <th>8</th>\n",
       "      <td>New Super Mario Bros. Wii</td>\n",
       "      <td>Wii</td>\n",
       "      <td>2009.0</td>\n",
       "      <td>Platform</td>\n",
       "      <td>14.44</td>\n",
       "      <td>6.94</td>\n",
       "      <td>4.70</td>\n",
       "      <td>2.24</td>\n",
       "      <td>87.0</td>\n",
       "      <td>8.4</td>\n",
       "      <td>E</td>\n",
       "    </tr>\n",
       "    <tr>\n",
       "      <th>9</th>\n",
       "      <td>Duck Hunt</td>\n",
       "      <td>NES</td>\n",
       "      <td>1984.0</td>\n",
       "      <td>Shooter</td>\n",
       "      <td>26.93</td>\n",
       "      <td>0.63</td>\n",
       "      <td>0.28</td>\n",
       "      <td>0.47</td>\n",
       "      <td>NaN</td>\n",
       "      <td>NaN</td>\n",
       "      <td>NaN</td>\n",
       "    </tr>\n",
       "  </tbody>\n",
       "</table>\n",
       "</div>"
      ],
      "text/plain": [
       "                        Name Platform  Year_of_Release         Genre  \\\n",
       "0                 Wii Sports      Wii           2006.0        Sports   \n",
       "1          Super Mario Bros.      NES           1985.0      Platform   \n",
       "2             Mario Kart Wii      Wii           2008.0        Racing   \n",
       "3          Wii Sports Resort      Wii           2009.0        Sports   \n",
       "4   Pokemon Red/Pokemon Blue       GB           1996.0  Role-Playing   \n",
       "5                     Tetris       GB           1989.0        Puzzle   \n",
       "6      New Super Mario Bros.       DS           2006.0      Platform   \n",
       "7                   Wii Play      Wii           2006.0          Misc   \n",
       "8  New Super Mario Bros. Wii      Wii           2009.0      Platform   \n",
       "9                  Duck Hunt      NES           1984.0       Shooter   \n",
       "\n",
       "   NA_sales  EU_sales  JP_sales  Other_sales  Critic_Score User_Score Rating  \n",
       "0     41.36     28.96      3.77         8.45          76.0          8      E  \n",
       "1     29.08      3.58      6.81         0.77           NaN        NaN    NaN  \n",
       "2     15.68     12.76      3.79         3.29          82.0        8.3      E  \n",
       "3     15.61     10.93      3.28         2.95          80.0          8      E  \n",
       "4     11.27      8.89     10.22         1.00           NaN        NaN    NaN  \n",
       "5     23.20      2.26      4.22         0.58           NaN        NaN    NaN  \n",
       "6     11.28      9.14      6.50         2.88          89.0        8.5      E  \n",
       "7     13.96      9.18      2.93         2.84          58.0        6.6      E  \n",
       "8     14.44      6.94      4.70         2.24          87.0        8.4      E  \n",
       "9     26.93      0.63      0.28         0.47           NaN        NaN    NaN  "
      ]
     },
     "execution_count": 3,
     "metadata": {},
     "output_type": "execute_result"
    }
   ],
   "source": [
    "games.head(10)"
   ]
  },
  {
   "cell_type": "code",
   "execution_count": 4,
   "metadata": {},
   "outputs": [
    {
     "name": "stdout",
     "output_type": "stream",
     "text": [
      "<class 'pandas.core.frame.DataFrame'>\n",
      "RangeIndex: 16715 entries, 0 to 16714\n",
      "Data columns (total 11 columns):\n",
      " #   Column           Non-Null Count  Dtype  \n",
      "---  ------           --------------  -----  \n",
      " 0   Name             16713 non-null  object \n",
      " 1   Platform         16715 non-null  object \n",
      " 2   Year_of_Release  16446 non-null  float64\n",
      " 3   Genre            16713 non-null  object \n",
      " 4   NA_sales         16715 non-null  float64\n",
      " 5   EU_sales         16715 non-null  float64\n",
      " 6   JP_sales         16715 non-null  float64\n",
      " 7   Other_sales      16715 non-null  float64\n",
      " 8   Critic_Score     8137 non-null   float64\n",
      " 9   User_Score       10014 non-null  object \n",
      " 10  Rating           9949 non-null   object \n",
      "dtypes: float64(6), object(5)\n",
      "memory usage: 1.4+ MB\n"
     ]
    }
   ],
   "source": [
    "games.info()"
   ]
  },
  {
   "cell_type": "code",
   "execution_count": 5,
   "metadata": {
    "scrolled": true
   },
   "outputs": [
    {
     "data": {
      "text/html": [
       "<div>\n",
       "<style scoped>\n",
       "    .dataframe tbody tr th:only-of-type {\n",
       "        vertical-align: middle;\n",
       "    }\n",
       "\n",
       "    .dataframe tbody tr th {\n",
       "        vertical-align: top;\n",
       "    }\n",
       "\n",
       "    .dataframe thead th {\n",
       "        text-align: right;\n",
       "    }\n",
       "</style>\n",
       "<table border=\"1\" class=\"dataframe\">\n",
       "  <thead>\n",
       "    <tr style=\"text-align: right;\">\n",
       "      <th></th>\n",
       "      <th>Year_of_Release</th>\n",
       "      <th>NA_sales</th>\n",
       "      <th>EU_sales</th>\n",
       "      <th>JP_sales</th>\n",
       "      <th>Other_sales</th>\n",
       "      <th>Critic_Score</th>\n",
       "    </tr>\n",
       "  </thead>\n",
       "  <tbody>\n",
       "    <tr>\n",
       "      <th>count</th>\n",
       "      <td>16446.000000</td>\n",
       "      <td>16715.000000</td>\n",
       "      <td>16715.000000</td>\n",
       "      <td>16715.000000</td>\n",
       "      <td>16715.000000</td>\n",
       "      <td>8137.000000</td>\n",
       "    </tr>\n",
       "    <tr>\n",
       "      <th>mean</th>\n",
       "      <td>2006.484616</td>\n",
       "      <td>0.263377</td>\n",
       "      <td>0.145060</td>\n",
       "      <td>0.077617</td>\n",
       "      <td>0.047342</td>\n",
       "      <td>68.967679</td>\n",
       "    </tr>\n",
       "    <tr>\n",
       "      <th>std</th>\n",
       "      <td>5.877050</td>\n",
       "      <td>0.813604</td>\n",
       "      <td>0.503339</td>\n",
       "      <td>0.308853</td>\n",
       "      <td>0.186731</td>\n",
       "      <td>13.938165</td>\n",
       "    </tr>\n",
       "    <tr>\n",
       "      <th>min</th>\n",
       "      <td>1980.000000</td>\n",
       "      <td>0.000000</td>\n",
       "      <td>0.000000</td>\n",
       "      <td>0.000000</td>\n",
       "      <td>0.000000</td>\n",
       "      <td>13.000000</td>\n",
       "    </tr>\n",
       "    <tr>\n",
       "      <th>25%</th>\n",
       "      <td>2003.000000</td>\n",
       "      <td>0.000000</td>\n",
       "      <td>0.000000</td>\n",
       "      <td>0.000000</td>\n",
       "      <td>0.000000</td>\n",
       "      <td>60.000000</td>\n",
       "    </tr>\n",
       "    <tr>\n",
       "      <th>50%</th>\n",
       "      <td>2007.000000</td>\n",
       "      <td>0.080000</td>\n",
       "      <td>0.020000</td>\n",
       "      <td>0.000000</td>\n",
       "      <td>0.010000</td>\n",
       "      <td>71.000000</td>\n",
       "    </tr>\n",
       "    <tr>\n",
       "      <th>75%</th>\n",
       "      <td>2010.000000</td>\n",
       "      <td>0.240000</td>\n",
       "      <td>0.110000</td>\n",
       "      <td>0.040000</td>\n",
       "      <td>0.030000</td>\n",
       "      <td>79.000000</td>\n",
       "    </tr>\n",
       "    <tr>\n",
       "      <th>max</th>\n",
       "      <td>2016.000000</td>\n",
       "      <td>41.360000</td>\n",
       "      <td>28.960000</td>\n",
       "      <td>10.220000</td>\n",
       "      <td>10.570000</td>\n",
       "      <td>98.000000</td>\n",
       "    </tr>\n",
       "  </tbody>\n",
       "</table>\n",
       "</div>"
      ],
      "text/plain": [
       "       Year_of_Release      NA_sales      EU_sales      JP_sales  \\\n",
       "count     16446.000000  16715.000000  16715.000000  16715.000000   \n",
       "mean       2006.484616      0.263377      0.145060      0.077617   \n",
       "std           5.877050      0.813604      0.503339      0.308853   \n",
       "min        1980.000000      0.000000      0.000000      0.000000   \n",
       "25%        2003.000000      0.000000      0.000000      0.000000   \n",
       "50%        2007.000000      0.080000      0.020000      0.000000   \n",
       "75%        2010.000000      0.240000      0.110000      0.040000   \n",
       "max        2016.000000     41.360000     28.960000     10.220000   \n",
       "\n",
       "        Other_sales  Critic_Score  \n",
       "count  16715.000000   8137.000000  \n",
       "mean       0.047342     68.967679  \n",
       "std        0.186731     13.938165  \n",
       "min        0.000000     13.000000  \n",
       "25%        0.000000     60.000000  \n",
       "50%        0.010000     71.000000  \n",
       "75%        0.030000     79.000000  \n",
       "max       10.570000     98.000000  "
      ]
     },
     "execution_count": 5,
     "metadata": {},
     "output_type": "execute_result"
    }
   ],
   "source": [
    "games.describe()"
   ]
  },
  {
   "cell_type": "markdown",
   "metadata": {},
   "source": [
    "## Подготовка данных"
   ]
  },
  {
   "cell_type": "markdown",
   "metadata": {},
   "source": [
    "### Приведение названия столбцов к нижниму регистру"
   ]
  },
  {
   "cell_type": "code",
   "execution_count": 6,
   "metadata": {},
   "outputs": [],
   "source": [
    "games.columns=games.columns.str.lower()"
   ]
  },
  {
   "cell_type": "markdown",
   "metadata": {},
   "source": [
    "### Преобразование данных в нужные типы"
   ]
  },
  {
   "cell_type": "code",
   "execution_count": 7,
   "metadata": {},
   "outputs": [
    {
     "data": {
      "text/plain": [
       "array([76., nan, 82., 80., 89., 58., 87., 91., 61., 97., 95., 77., 88.,\n",
       "       83., 94., 93., 85., 86., 98., 96., 90., 84., 73., 74., 78., 92.,\n",
       "       71., 72., 68., 62., 49., 67., 81., 66., 56., 79., 70., 59., 64.,\n",
       "       75., 60., 63., 69., 50., 25., 42., 44., 55., 48., 57., 29., 47.,\n",
       "       65., 54., 20., 53., 37., 38., 33., 52., 30., 32., 43., 45., 51.,\n",
       "       40., 46., 39., 34., 35., 41., 36., 28., 31., 27., 26., 19., 23.,\n",
       "       24., 21., 17., 22., 13.])"
      ]
     },
     "execution_count": 7,
     "metadata": {},
     "output_type": "execute_result"
    }
   ],
   "source": [
    "games['critic_score'].unique()"
   ]
  },
  {
   "cell_type": "code",
   "execution_count": 8,
   "metadata": {},
   "outputs": [
    {
     "data": {
      "text/plain": [
       "array([2006., 1985., 2008., 2009., 1996., 1989., 1984., 2005., 1999.,\n",
       "       2007., 2010., 2013., 2004., 1990., 1988., 2002., 2001., 2011.,\n",
       "       1998., 2015., 2012., 2014., 1992., 1997., 1993., 1994., 1982.,\n",
       "       2016., 2003., 1986., 2000.,   nan, 1995., 1991., 1981., 1987.,\n",
       "       1980., 1983.])"
      ]
     },
     "execution_count": 8,
     "metadata": {},
     "output_type": "execute_result"
    }
   ],
   "source": [
    "games['year_of_release'].unique()"
   ]
  },
  {
   "cell_type": "code",
   "execution_count": 9,
   "metadata": {},
   "outputs": [],
   "source": [
    "games['year_of_release']=games['year_of_release'].astype('Int64')\n",
    "games['critic_score']=games['critic_score'].astype('Int64')"
   ]
  },
  {
   "cell_type": "markdown",
   "metadata": {},
   "source": [
    "Collumn  `year_of_release` and  `critic_score` contain only integer numbers and `nan` therefore we change the type to `Int64`."
   ]
  },
  {
   "cell_type": "markdown",
   "metadata": {},
   "source": [
    "### Обработка пропусков"
   ]
  },
  {
   "cell_type": "code",
   "execution_count": 10,
   "metadata": {},
   "outputs": [
    {
     "name": "stdout",
     "output_type": "stream",
     "text": [
      "<class 'pandas.core.frame.DataFrame'>\n",
      "RangeIndex: 16715 entries, 0 to 16714\n",
      "Data columns (total 11 columns):\n",
      " #   Column           Non-Null Count  Dtype  \n",
      "---  ------           --------------  -----  \n",
      " 0   name             16713 non-null  object \n",
      " 1   platform         16715 non-null  object \n",
      " 2   year_of_release  16446 non-null  Int64  \n",
      " 3   genre            16713 non-null  object \n",
      " 4   na_sales         16715 non-null  float64\n",
      " 5   eu_sales         16715 non-null  float64\n",
      " 6   jp_sales         16715 non-null  float64\n",
      " 7   other_sales      16715 non-null  float64\n",
      " 8   critic_score     8137 non-null   Int64  \n",
      " 9   user_score       10014 non-null  object \n",
      " 10  rating           9949 non-null   object \n",
      "dtypes: Int64(2), float64(4), object(5)\n",
      "memory usage: 1.4+ MB\n"
     ]
    }
   ],
   "source": [
    "games.info()"
   ]
  },
  {
   "cell_type": "code",
   "execution_count": 11,
   "metadata": {},
   "outputs": [
    {
     "data": {
      "text/plain": [
       "name               0.000120\n",
       "genre              0.000120\n",
       "rating             0.404786\n",
       "user_score         0.400897\n",
       "critic_score       0.513192\n",
       "year_of_release    0.016093\n",
       "dtype: float64"
      ]
     },
     "execution_count": 11,
     "metadata": {},
     "output_type": "execute_result"
    }
   ],
   "source": [
    "games[['name', 'genre', 'rating','user_score', 'critic_score','year_of_release']].isna().sum()/games.shape[0]"
   ]
  },
  {
   "cell_type": "markdown",
   "metadata": {},
   "source": [
    "Доля пропуска в столбцах `year_of_release`, `name` и `genre` очень низкая - возможно это случайные пропуски возникшие из за ошибки при заполнении форм. Доля пропусков в столбце `rating` составляет 40 % - возможно это связано с отсутвием данных. \n",
    "\n",
    "Заменяем `None` на `unknown` в колонках с типом object (`name`, `genre`, `rating`)\n",
    "\n",
    "Пропуски в `year_of_release` составляют 1.6% поэтому их можно удалить. "
   ]
  },
  {
   "cell_type": "code",
   "execution_count": 12,
   "metadata": {},
   "outputs": [],
   "source": [
    "games[['name', 'genre', 'rating']] = games[['name', 'genre', 'rating']].fillna('unknown')\n",
    "games = games.dropna(subset = ['year_of_release'])"
   ]
  },
  {
   "cell_type": "code",
   "execution_count": 13,
   "metadata": {},
   "outputs": [
    {
     "data": {
      "text/plain": [
       "Series([], dtype: float64)"
      ]
     },
     "execution_count": 13,
     "metadata": {},
     "output_type": "execute_result"
    }
   ],
   "source": [
    "games[[]].isna().sum()/games.shape[0]"
   ]
  },
  {
   "cell_type": "markdown",
   "metadata": {},
   "source": [
    "TBD скорее всего обозначает to be determined, что может быть заменено на `None`. Что позволит перести тип в числа с плавающей точкой и сделать возможным количественный анализ."
   ]
  },
  {
   "cell_type": "code",
   "execution_count": 14,
   "metadata": {},
   "outputs": [],
   "source": [
    "games['user_score'] = games['user_score'].replace('tbd',np.NaN)\n",
    "games['user_score'] = games['user_score'].astype(float)"
   ]
  },
  {
   "cell_type": "code",
   "execution_count": 15,
   "metadata": {},
   "outputs": [
    {
     "data": {
      "text/plain": [
       "array([8. , nan, 8.3, 8.5, 6.6, 8.4, 8.6, 7.7, 6.3, 7.4, 8.2, 9. , 7.9,\n",
       "       8.1, 8.7, 7.1, 3.4, 5.3, 4.8, 3.2, 8.9, 6.4, 7.8, 7.5, 2.6, 7.2,\n",
       "       9.2, 7. , 7.3, 4.3, 7.6, 5.7, 5. , 9.1, 6.5, 8.8, 6.9, 9.4, 6.8,\n",
       "       6.1, 6.7, 5.4, 4. , 4.9, 4.5, 9.3, 6.2, 4.2, 6. , 3.7, 4.1, 5.8,\n",
       "       5.6, 5.5, 4.4, 4.6, 5.9, 3.9, 3.1, 2.9, 5.2, 3.3, 4.7, 5.1, 3.5,\n",
       "       2.5, 1.9, 3. , 2.7, 2.2, 2. , 9.5, 2.1, 3.6, 2.8, 1.8, 3.8, 0. ,\n",
       "       1.6, 9.6, 2.4, 1.7, 1.1, 0.3, 1.5, 0.7, 1.2, 2.3, 0.5, 1.3, 0.2,\n",
       "       0.6, 1.4, 0.9, 1. , 9.7])"
      ]
     },
     "execution_count": 15,
     "metadata": {},
     "output_type": "execute_result"
    }
   ],
   "source": [
    "games['user_score'].unique()"
   ]
  },
  {
   "cell_type": "code",
   "execution_count": 16,
   "metadata": {},
   "outputs": [
    {
     "data": {
      "text/plain": [
       "name                  0\n",
       "platform              0\n",
       "year_of_release       0\n",
       "genre                 0\n",
       "na_sales              0\n",
       "eu_sales              0\n",
       "jp_sales              0\n",
       "other_sales           0\n",
       "critic_score       8463\n",
       "user_score         8983\n",
       "rating                0\n",
       "dtype: int64"
      ]
     },
     "execution_count": 16,
     "metadata": {},
     "output_type": "execute_result"
    }
   ],
   "source": [
    "games.isna().sum()"
   ]
  },
  {
   "cell_type": "code",
   "execution_count": 17,
   "metadata": {},
   "outputs": [
    {
     "data": {
      "text/plain": [
       "1658"
      ]
     },
     "execution_count": 17,
     "metadata": {},
     "output_type": "execute_result"
    }
   ],
   "source": [
    "(\n",
    "    games[(games['critic_score'].isna()) & (games['user_score'].isna()==False)].shape[0]+\n",
    "    games[(games['critic_score'].isna()==False) & (games['user_score'].isna()==True)].shape[0]\n",
    ")"
   ]
  },
  {
   "cell_type": "code",
   "execution_count": 18,
   "metadata": {},
   "outputs": [
    {
     "data": {
      "text/plain": [
       "7894"
      ]
     },
     "execution_count": 18,
     "metadata": {},
     "output_type": "execute_result"
    }
   ],
   "source": [
    "games[(games['critic_score'].isna()) & (games['user_score'].isna())].shape[0]"
   ]
  },
  {
   "cell_type": "code",
   "execution_count": 19,
   "metadata": {},
   "outputs": [
    {
     "data": {
      "text/plain": [
       "6894"
      ]
     },
     "execution_count": 19,
     "metadata": {},
     "output_type": "execute_result"
    }
   ],
   "source": [
    "games[(games['critic_score'].isna()==False) & (games['user_score'].isna()==False)].shape[0]"
   ]
  },
  {
   "cell_type": "code",
   "execution_count": 20,
   "metadata": {},
   "outputs": [
    {
     "data": {
      "text/plain": [
       "16446"
      ]
     },
     "execution_count": 20,
     "metadata": {},
     "output_type": "execute_result"
    }
   ],
   "source": [
    "games.shape[0]"
   ]
  },
  {
   "cell_type": "code",
   "execution_count": 21,
   "metadata": {},
   "outputs": [
    {
     "data": {
      "text/html": [
       "<div>\n",
       "<style scoped>\n",
       "    .dataframe tbody tr th:only-of-type {\n",
       "        vertical-align: middle;\n",
       "    }\n",
       "\n",
       "    .dataframe tbody tr th {\n",
       "        vertical-align: top;\n",
       "    }\n",
       "\n",
       "    .dataframe thead th {\n",
       "        text-align: right;\n",
       "    }\n",
       "</style>\n",
       "<table border=\"1\" class=\"dataframe\">\n",
       "  <thead>\n",
       "    <tr style=\"text-align: right;\">\n",
       "      <th></th>\n",
       "      <th>user_score</th>\n",
       "      <th>critic_score</th>\n",
       "    </tr>\n",
       "  </thead>\n",
       "  <tbody>\n",
       "    <tr>\n",
       "      <th>user_score</th>\n",
       "      <td>1.000000</td>\n",
       "      <td>0.579671</td>\n",
       "    </tr>\n",
       "    <tr>\n",
       "      <th>critic_score</th>\n",
       "      <td>0.579671</td>\n",
       "      <td>1.000000</td>\n",
       "    </tr>\n",
       "  </tbody>\n",
       "</table>\n",
       "</div>"
      ],
      "text/plain": [
       "              user_score  critic_score\n",
       "user_score      1.000000      0.579671\n",
       "critic_score    0.579671      1.000000"
      ]
     },
     "execution_count": 21,
     "metadata": {},
     "output_type": "execute_result"
    }
   ],
   "source": [
    "games[['user_score','critic_score']].corr()"
   ]
  },
  {
   "cell_type": "code",
   "execution_count": 22,
   "metadata": {},
   "outputs": [
    {
     "data": {
      "text/plain": [
       "count    7983.000000\n",
       "mean       68.994363\n",
       "std        13.920060\n",
       "min        13.000000\n",
       "25%        60.000000\n",
       "50%        71.000000\n",
       "75%        79.000000\n",
       "max        98.000000\n",
       "Name: critic_score, dtype: float64"
      ]
     },
     "execution_count": 22,
     "metadata": {},
     "output_type": "execute_result"
    }
   ],
   "source": [
    "games['critic_score'].describe()"
   ]
  },
  {
   "cell_type": "code",
   "execution_count": 23,
   "metadata": {},
   "outputs": [
    {
     "data": {
      "text/plain": [
       "<IntegerArray>\n",
       "[  76, <NA>,   82,   80,   89,   58,   87,   91,   61,   97,   95,   77,   88,\n",
       "   83,   94,   93,   85,   86,   98,   96,   90,   84,   73,   74,   78,   92,\n",
       "   71,   72,   68,   62,   49,   67,   81,   66,   56,   79,   70,   59,   64,\n",
       "   75,   60,   63,   69,   50,   25,   42,   44,   55,   48,   57,   29,   47,\n",
       "   65,   54,   20,   53,   37,   38,   33,   52,   30,   32,   43,   45,   51,\n",
       "   40,   46,   39,   34,   41,   36,   31,   27,   35,   26,   19,   28,   23,\n",
       "   24,   21,   17,   13]\n",
       "Length: 82, dtype: Int64"
      ]
     },
     "execution_count": 23,
     "metadata": {},
     "output_type": "execute_result"
    }
   ],
   "source": [
    "games['critic_score'].unique()"
   ]
  },
  {
   "cell_type": "markdown",
   "metadata": {},
   "source": [
    "Имеется корреляция между 'user_score' и 'critic_score' как в значениях так и в пропусках. Доля пропусков существенная. На данном этапе мы не видем необходимости заменять пропуски для этих столбцов. "
   ]
  },
  {
   "cell_type": "code",
   "execution_count": 24,
   "metadata": {},
   "outputs": [
    {
     "name": "stdout",
     "output_type": "stream",
     "text": [
      "Количесво дубликатов в games 0\n"
     ]
    }
   ],
   "source": [
    "print('Количесво дубликатов в games',games.duplicated().sum() )"
   ]
  },
  {
   "cell_type": "markdown",
   "metadata": {},
   "source": [
    "Действительно, имеются еще и не явные дубликаты"
   ]
  },
  {
   "cell_type": "code",
   "execution_count": 25,
   "metadata": {},
   "outputs": [
    {
     "data": {
      "text/plain": [
       "2"
      ]
     },
     "execution_count": 25,
     "metadata": {},
     "output_type": "execute_result"
    }
   ],
   "source": [
    "games.duplicated(subset=['name','platform','year_of_release']).sum()"
   ]
  },
  {
   "cell_type": "code",
   "execution_count": 26,
   "metadata": {},
   "outputs": [
    {
     "data": {
      "text/html": [
       "<div>\n",
       "<style scoped>\n",
       "    .dataframe tbody tr th:only-of-type {\n",
       "        vertical-align: middle;\n",
       "    }\n",
       "\n",
       "    .dataframe tbody tr th {\n",
       "        vertical-align: top;\n",
       "    }\n",
       "\n",
       "    .dataframe thead th {\n",
       "        text-align: right;\n",
       "    }\n",
       "</style>\n",
       "<table border=\"1\" class=\"dataframe\">\n",
       "  <thead>\n",
       "    <tr style=\"text-align: right;\">\n",
       "      <th></th>\n",
       "      <th>name</th>\n",
       "      <th>platform</th>\n",
       "      <th>year_of_release</th>\n",
       "      <th>genre</th>\n",
       "      <th>na_sales</th>\n",
       "      <th>eu_sales</th>\n",
       "      <th>jp_sales</th>\n",
       "      <th>other_sales</th>\n",
       "      <th>critic_score</th>\n",
       "      <th>user_score</th>\n",
       "      <th>rating</th>\n",
       "    </tr>\n",
       "  </thead>\n",
       "  <tbody>\n",
       "    <tr>\n",
       "      <th>14244</th>\n",
       "      <td>unknown</td>\n",
       "      <td>GEN</td>\n",
       "      <td>1993</td>\n",
       "      <td>unknown</td>\n",
       "      <td>0.0</td>\n",
       "      <td>0.00</td>\n",
       "      <td>0.03</td>\n",
       "      <td>0.0</td>\n",
       "      <td>&lt;NA&gt;</td>\n",
       "      <td>NaN</td>\n",
       "      <td>unknown</td>\n",
       "    </tr>\n",
       "    <tr>\n",
       "      <th>16230</th>\n",
       "      <td>Madden NFL 13</td>\n",
       "      <td>PS3</td>\n",
       "      <td>2012</td>\n",
       "      <td>Sports</td>\n",
       "      <td>0.0</td>\n",
       "      <td>0.01</td>\n",
       "      <td>0.00</td>\n",
       "      <td>0.0</td>\n",
       "      <td>83</td>\n",
       "      <td>5.5</td>\n",
       "      <td>E</td>\n",
       "    </tr>\n",
       "  </tbody>\n",
       "</table>\n",
       "</div>"
      ],
      "text/plain": [
       "                name platform  year_of_release    genre  na_sales  eu_sales  \\\n",
       "14244        unknown      GEN             1993  unknown       0.0      0.00   \n",
       "16230  Madden NFL 13      PS3             2012   Sports       0.0      0.01   \n",
       "\n",
       "       jp_sales  other_sales  critic_score  user_score   rating  \n",
       "14244      0.03          0.0          <NA>         NaN  unknown  \n",
       "16230      0.00          0.0            83         5.5        E  "
      ]
     },
     "execution_count": 26,
     "metadata": {},
     "output_type": "execute_result"
    }
   ],
   "source": [
    "games[games.duplicated(subset=['name','platform','year_of_release'])]"
   ]
  },
  {
   "cell_type": "markdown",
   "metadata": {},
   "source": [
    "Удаляем дубликаты"
   ]
  },
  {
   "cell_type": "code",
   "execution_count": 27,
   "metadata": {},
   "outputs": [
    {
     "data": {
      "text/plain": [
       "0"
      ]
     },
     "execution_count": 27,
     "metadata": {},
     "output_type": "execute_result"
    }
   ],
   "source": [
    "games=games[~games.duplicated(subset=['name','platform','year_of_release'])]\n",
    "games.duplicated(subset=['name','platform','year_of_release']).sum()"
   ]
  },
  {
   "cell_type": "markdown",
   "metadata": {},
   "source": [
    "### Суммарные продажи по регионам"
   ]
  },
  {
   "cell_type": "code",
   "execution_count": 28,
   "metadata": {},
   "outputs": [],
   "source": [
    "games['sum_sales']=games[['na_sales', 'eu_sales','jp_sales', 'other_sales']].sum(axis=1)"
   ]
  },
  {
   "cell_type": "markdown",
   "metadata": {},
   "source": [
    "На втором этапе проекты преобазовали типы столбцов, заполнили пропуски, и добавили новый столбец для суммы продаж во всех регионах. Таким образом мы подготовили данных для анализа данных который будет проведен в следущем разделе."
   ]
  },
  {
   "cell_type": "markdown",
   "metadata": {},
   "source": [
    "## Исследовательский анализ данных "
   ]
  },
  {
   "cell_type": "markdown",
   "metadata": {},
   "source": [
    "### Кол-во игр по годам"
   ]
  },
  {
   "cell_type": "code",
   "execution_count": 29,
   "metadata": {},
   "outputs": [
    {
     "data": {
      "image/png": "[encoded data removed]",
      "text/plain": [
       "<Figure size 576x432 with 1 Axes>"
      ]
     },
     "metadata": {
      "needs_background": "light"
     },
     "output_type": "display_data"
    }
   ],
   "source": [
    "games.groupby('year_of_release')['name'].count().plot(kind='bar',figsize=(8,6))\n",
    "plt.ylabel(\"Кол-во игр\");\n",
    "plt.xlabel(\"Год выпуска\");\n",
    "plt.title('Количесво выпущенных игр по годам');"
   ]
  },
  {
   "cell_type": "markdown",
   "metadata": {},
   "source": [
    "Данные за период до 1994 года включительно мало значимы для анализа  из-за малого числа выпущеных игр как в абсолютном выражение, так и в относительном в сравнении с более поздними годами. "
   ]
  },
  {
   "cell_type": "markdown",
   "metadata": {},
   "source": [
    "### Продажи по платформам"
   ]
  },
  {
   "cell_type": "code",
   "execution_count": 30,
   "metadata": {},
   "outputs": [],
   "source": [
    "#games.groupby(['year_of_release','platform']).agg(new=('sum_sales','sum'))"
   ]
  },
  {
   "cell_type": "code",
   "execution_count": 31,
   "metadata": {},
   "outputs": [
    {
     "data": {
      "image/png": "[encoded data removed]",
      "text/plain": [
       "<Figure size 576x432 with 1 Axes>"
      ]
     },
     "metadata": {
      "needs_background": "light"
     },
     "output_type": "display_data"
    }
   ],
   "source": [
    "games.groupby('platform')['sum_sales'].sum().sort_values(ascending=False).plot(kind='bar',figsize=(8,6));\n",
    "\n",
    "plt.title(\"Cуммарные продажи за все время по платформам\");\n",
    "plt.ylabel(\"Sum sales\");\n",
    "plt.xlabel(\"Platform name\");"
   ]
  },
  {
   "cell_type": "code",
   "execution_count": 32,
   "metadata": {},
   "outputs": [
    {
     "data": {
      "text/plain": [
       "Index(['PS2', 'X360', 'PS3', 'Wii', 'DS', 'PS', 'PS4', 'GBA', 'PSP', '3DS',\n",
       "       'PC', 'GB', 'XB', 'NES', 'N64', 'SNES', 'GC', 'XOne', '2600', 'WiiU',\n",
       "       'PSV', 'SAT', 'GEN', 'DC', 'SCD', 'NG', 'WS', 'TG16', '3DO', 'GG',\n",
       "       'PCFX'],\n",
       "      dtype='object', name='platform')"
      ]
     },
     "execution_count": 32,
     "metadata": {},
     "output_type": "execute_result"
    }
   ],
   "source": [
    "list_all_platforms=(games.groupby('platform')['sum_sales'].\n",
    "                        sum().sort_values(ascending=False).\n",
    "                        index\n",
    "                   )\n",
    "list_all_platforms"
   ]
  },
  {
   "cell_type": "code",
   "execution_count": 33,
   "metadata": {},
   "outputs": [
    {
     "data": {
      "image/png": "[encoded data removed]",
      "text/plain": [
       "<Figure size 576x432 with 1 Axes>"
      ]
     },
     "metadata": {
      "needs_background": "light"
     },
     "output_type": "display_data"
    }
   ],
   "source": [
    "ax=(games[\n",
    "        (games['platform']==list_all_platforms[0]) & \n",
    "        (games['year_of_release']>1995)].\n",
    "        groupby('year_of_release')['sum_sales'].sum().\n",
    "        plot(#kind='bar',figsize=(8,6),alpha=0.25,\n",
    "             kind='area',stacked=False,figsize=(8,6),alpha=0.25,\n",
    "             xlim=(1995,2016),\n",
    "             label=list_all_platforms[0],legend=True))\n",
    "for platform in list_all_platforms[1:7]:\n",
    "    ax=(games[(games['platform']==platform)&\n",
    "             (games['year_of_release']>1995)].\n",
    "        groupby('year_of_release')['sum_sales'].sum().\n",
    "        plot(#kind='bar',figsize=(8,6),alpha=0.25,\n",
    "             kind='area',stacked=False,figsize=(8,6),alpha=0.25,\n",
    "             ax=ax,label=platform,legend=True)\n",
    ")\n",
    "\n",
    "plt.title(\"Распределение суммарных продаж по годам для топ-%i платформ\" %len(list_all_platforms));\n",
    "plt.xlabel(\"Years\");\n",
    "plt.ylabel(\"Sum_sales\");"
   ]
  },
  {
   "cell_type": "code",
   "execution_count": 34,
   "metadata": {},
   "outputs": [
    {
     "name": "stdout",
     "output_type": "stream",
     "text": [
      "DS     28 years\n",
      "PC     31 years\n",
      "GB     13 years\n",
      "Медианное значение жизни платформы равно : 6\n"
     ]
    },
    {
     "data": {
      "image/png": "[encoded data removed]",
      "text/plain": [
       "<Figure size 432x288 with 1 Axes>"
      ]
     },
     "metadata": {
      "needs_background": "light"
     },
     "output_type": "display_data"
    }
   ],
   "source": [
    "duration_list=[]\n",
    "for plat in list_all_platforms:\n",
    "    years= (games[games['platform']==plat].\n",
    "                groupby('year_of_release')['sum_sales'].\n",
    "            sum().index\n",
    "           )\n",
    "    delta = (years.max())-(years.min())\n",
    "    if delta > 12:\n",
    "        print(plat,'   ', delta, 'years')\n",
    "    duration_list.append(delta)\n",
    "plt.hist(duration_list,bins=30);\n",
    "plt.title(\"Распределение длительности продаж\")\n",
    "plt.xlabel(\"Duration of platform's live\")\n",
    "plt.ylabel(\"Number of platforms\")\n",
    "from statistics import median\n",
    "print('Медианное значение жизни платформы равно :', median(duration_list))"
   ]
  },
  {
   "cell_type": "code",
   "execution_count": 35,
   "metadata": {},
   "outputs": [
    {
     "data": {
      "text/plain": [
       "year_of_release\n",
       "1985      1\n",
       "2004     23\n",
       "2005    118\n",
       "2006    201\n",
       "2007    376\n",
       "2008    492\n",
       "2009    403\n",
       "2010    323\n",
       "2011    153\n",
       "2012     23\n",
       "2013      8\n",
       "Name: name, dtype: int64"
      ]
     },
     "execution_count": 35,
     "metadata": {},
     "output_type": "execute_result"
    }
   ],
   "source": [
    "games.query('platform == \"DS\" ').groupby('year_of_release')['name'].count()"
   ]
  },
  {
   "cell_type": "code",
   "execution_count": 36,
   "metadata": {},
   "outputs": [
    {
     "data": {
      "text/plain": [
       "[11, 11, 13, 28, 31]"
      ]
     },
     "execution_count": 36,
     "metadata": {},
     "output_type": "execute_result"
    }
   ],
   "source": [
    "sorted(duration_list)[-5:]"
   ]
  },
  {
   "cell_type": "markdown",
   "metadata": {},
   "source": [
    "Медианное значение жизни платформ равно 6. Платформы крайне редко живут больше 11 лет. Cлучай платформы`DS` прожившей 28 лет связан с ошибкой в данных имется лишь одна игра вышедшая в 1985 годы, следущий выпуск был лишь через 19 лет в 2004 году. Год выпуска платформы 2004. "
   ]
  },
  {
   "cell_type": "code",
   "execution_count": 37,
   "metadata": {},
   "outputs": [
    {
     "data": {
      "text/html": [
       "<div>\n",
       "<style scoped>\n",
       "    .dataframe tbody tr th:only-of-type {\n",
       "        vertical-align: middle;\n",
       "    }\n",
       "\n",
       "    .dataframe tbody tr th {\n",
       "        vertical-align: top;\n",
       "    }\n",
       "\n",
       "    .dataframe thead th {\n",
       "        text-align: right;\n",
       "    }\n",
       "</style>\n",
       "<table border=\"1\" class=\"dataframe\">\n",
       "  <thead>\n",
       "    <tr style=\"text-align: right;\">\n",
       "      <th></th>\n",
       "      <th>name</th>\n",
       "      <th>platform</th>\n",
       "      <th>year_of_release</th>\n",
       "      <th>genre</th>\n",
       "      <th>na_sales</th>\n",
       "      <th>eu_sales</th>\n",
       "      <th>jp_sales</th>\n",
       "      <th>other_sales</th>\n",
       "      <th>critic_score</th>\n",
       "      <th>user_score</th>\n",
       "      <th>rating</th>\n",
       "      <th>sum_sales</th>\n",
       "    </tr>\n",
       "  </thead>\n",
       "  <tbody>\n",
       "    <tr>\n",
       "      <th>15957</th>\n",
       "      <td>Strongest Tokyo University Shogi DS</td>\n",
       "      <td>DS</td>\n",
       "      <td>1985</td>\n",
       "      <td>Action</td>\n",
       "      <td>0.0</td>\n",
       "      <td>0.0</td>\n",
       "      <td>0.02</td>\n",
       "      <td>0.0</td>\n",
       "      <td>&lt;NA&gt;</td>\n",
       "      <td>NaN</td>\n",
       "      <td>unknown</td>\n",
       "      <td>0.02</td>\n",
       "    </tr>\n",
       "  </tbody>\n",
       "</table>\n",
       "</div>"
      ],
      "text/plain": [
       "                                      name platform  year_of_release   genre  \\\n",
       "15957  Strongest Tokyo University Shogi DS       DS             1985  Action   \n",
       "\n",
       "       na_sales  eu_sales  jp_sales  other_sales  critic_score  user_score  \\\n",
       "15957       0.0       0.0      0.02          0.0          <NA>         NaN   \n",
       "\n",
       "        rating  sum_sales  \n",
       "15957  unknown       0.02  "
      ]
     },
     "execution_count": 37,
     "metadata": {},
     "output_type": "execute_result"
    }
   ],
   "source": [
    "games.query('platform == \"DS\" and year_of_release == 1985')"
   ]
  },
  {
   "cell_type": "markdown",
   "metadata": {},
   "source": [
    "Видимо, игра на самом деле была выпущена в 2007 году https://www.nintendo.co.jp/ds/software/a4qj/index.html"
   ]
  },
  {
   "cell_type": "markdown",
   "metadata": {},
   "source": [
    "### Опредление актуального периода"
   ]
  },
  {
   "cell_type": "code",
   "execution_count": 38,
   "metadata": {},
   "outputs": [
    {
     "name": "stdout",
     "output_type": "stream",
     "text": [
      "Медианное значение жизни платформы равно : 6\n"
     ]
    }
   ],
   "source": [
    "print('Медианное значение жизни платформы равно :', median(duration_list))"
   ]
  },
  {
   "cell_type": "markdown",
   "metadata": {},
   "source": [
    "Определяем **актуальный период** по медианной длительности жизни платформы 6 лет. т.е. с **2011 по 2016** года."
   ]
  },
  {
   "cell_type": "markdown",
   "metadata": {},
   "source": [
    "### Исключение данных до актуального периода"
   ]
  },
  {
   "cell_type": "code",
   "execution_count": 39,
   "metadata": {},
   "outputs": [],
   "source": [
    "games_actual=games[games['year_of_release']>2010]"
   ]
  },
  {
   "cell_type": "markdown",
   "metadata": {},
   "source": [
    "Изключаем платформы у которых нет продаж в 2016 году"
   ]
  },
  {
   "cell_type": "code",
   "execution_count": 40,
   "metadata": {},
   "outputs": [
    {
     "data": {
      "text/plain": [
       "array(['PS4', '3DS', 'XOne', 'WiiU', 'PS3', 'PC', 'X360', 'PSV', 'Wii'],\n",
       "      dtype=object)"
      ]
     },
     "execution_count": 40,
     "metadata": {},
     "output_type": "execute_result"
    }
   ],
   "source": [
    "actual_platforms=games_actual[games_actual['year_of_release']==2016]['platform'].unique()\n",
    "actual_platforms"
   ]
  },
  {
   "cell_type": "code",
   "execution_count": 41,
   "metadata": {},
   "outputs": [],
   "source": [
    "games_actual=games_actual[games_actual['platform'].isin(actual_platforms)]"
   ]
  },
  {
   "cell_type": "code",
   "execution_count": 42,
   "metadata": {},
   "outputs": [
    {
     "data": {
      "text/plain": [
       "0.2139382145463391"
      ]
     },
     "execution_count": 42,
     "metadata": {},
     "output_type": "execute_result"
    }
   ],
   "source": [
    "len(games_actual)/len(games)"
   ]
  },
  {
   "cell_type": "markdown",
   "metadata": {},
   "source": [
    "### Платформы лидирующие по продажам"
   ]
  },
  {
   "cell_type": "code",
   "execution_count": 43,
   "metadata": {},
   "outputs": [],
   "source": [
    "games_actual_top3=games_actual.query('platform in [\"PS4\",\"XOne\",\"3DS\"]')"
   ]
  },
  {
   "cell_type": "code",
   "execution_count": 44,
   "metadata": {},
   "outputs": [
    {
     "data": {
      "text/html": [
       "<div>\n",
       "<style scoped>\n",
       "    .dataframe tbody tr th:only-of-type {\n",
       "        vertical-align: middle;\n",
       "    }\n",
       "\n",
       "    .dataframe tbody tr th {\n",
       "        vertical-align: top;\n",
       "    }\n",
       "\n",
       "    .dataframe thead th {\n",
       "        text-align: right;\n",
       "    }\n",
       "</style>\n",
       "<table border=\"1\" class=\"dataframe\">\n",
       "  <thead>\n",
       "    <tr style=\"text-align: right;\">\n",
       "      <th>platform</th>\n",
       "      <th>3DS</th>\n",
       "      <th>PS4</th>\n",
       "      <th>XOne</th>\n",
       "    </tr>\n",
       "    <tr>\n",
       "      <th>year_of_release</th>\n",
       "      <th></th>\n",
       "      <th></th>\n",
       "      <th></th>\n",
       "    </tr>\n",
       "  </thead>\n",
       "  <tbody>\n",
       "    <tr>\n",
       "      <th>2011</th>\n",
       "      <td>63.20</td>\n",
       "      <td>NaN</td>\n",
       "      <td>NaN</td>\n",
       "    </tr>\n",
       "    <tr>\n",
       "      <th>2012</th>\n",
       "      <td>51.36</td>\n",
       "      <td>NaN</td>\n",
       "      <td>NaN</td>\n",
       "    </tr>\n",
       "    <tr>\n",
       "      <th>2013</th>\n",
       "      <td>56.57</td>\n",
       "      <td>25.99</td>\n",
       "      <td>18.96</td>\n",
       "    </tr>\n",
       "    <tr>\n",
       "      <th>2014</th>\n",
       "      <td>43.76</td>\n",
       "      <td>100.00</td>\n",
       "      <td>54.07</td>\n",
       "    </tr>\n",
       "    <tr>\n",
       "      <th>2015</th>\n",
       "      <td>27.78</td>\n",
       "      <td>118.90</td>\n",
       "      <td>60.14</td>\n",
       "    </tr>\n",
       "    <tr>\n",
       "      <th>2016</th>\n",
       "      <td>15.14</td>\n",
       "      <td>69.25</td>\n",
       "      <td>26.15</td>\n",
       "    </tr>\n",
       "  </tbody>\n",
       "</table>\n",
       "</div>"
      ],
      "text/plain": [
       "platform           3DS     PS4   XOne\n",
       "year_of_release                      \n",
       "2011             63.20     NaN    NaN\n",
       "2012             51.36     NaN    NaN\n",
       "2013             56.57   25.99  18.96\n",
       "2014             43.76  100.00  54.07\n",
       "2015             27.78  118.90  60.14\n",
       "2016             15.14   69.25  26.15"
      ]
     },
     "execution_count": 44,
     "metadata": {},
     "output_type": "execute_result"
    }
   ],
   "source": [
    "pd.pivot_table(\n",
    "    games_actual_top3, values='sum_sales', index=['year_of_release'],\n",
    "    columns=['platform'], aggfunc=np.sum)"
   ]
  },
  {
   "cell_type": "code",
   "execution_count": 45,
   "metadata": {},
   "outputs": [
    {
     "data": {
      "image/png": "[encoded data removed]",
      "text/plain": [
       "<Figure size 432x288 with 1 Axes>"
      ]
     },
     "metadata": {
      "needs_background": "light"
     },
     "output_type": "display_data"
    }
   ],
   "source": [
    "(pd.pivot_table(\n",
    "    games_actual_top3, values='sum_sales', index=['year_of_release'],\n",
    "    columns=['platform'], aggfunc=np.sum).\n",
    "    #fillna(0).\n",
    "     plot(kind='line',xticks=[2012,2013,2014,2015,2016])\n",
    ");\n",
    "\n",
    "plt.ylabel(\"Sales\");\n",
    "#plt.xlabel(\"Platform name\");"
   ]
  },
  {
   "cell_type": "code",
   "execution_count": 46,
   "metadata": {},
   "outputs": [
    {
     "data": {
      "text/plain": [
       "platform\n",
       "3DS     15.14\n",
       "PS4     69.25\n",
       "XOne    26.15\n",
       "Name: sum_sales, dtype: float64"
      ]
     },
     "execution_count": 46,
     "metadata": {},
     "output_type": "execute_result"
    }
   ],
   "source": [
    "games_actual_top3[games_actual_top3['year_of_release']==2016].groupby('platform')['sum_sales'].sum()"
   ]
  },
  {
   "cell_type": "markdown",
   "metadata": {},
   "source": [
    "Три платформы: *PS4,XOne,3DS* лидируют по продажам в 2015 и на начало 2016 года. Однако все платформы уже прошли пик своей популярности и их продажи падают.\n",
    "Платформы *PS4* и *XOne* можно назвать потенциально прибыльными на 2017."
   ]
  },
  {
   "cell_type": "markdown",
   "metadata": {},
   "source": [
    "### ''Ящик с усами'', глобальные продажи по платформам"
   ]
  },
  {
   "cell_type": "code",
   "execution_count": 47,
   "metadata": {},
   "outputs": [
    {
     "data": {
      "image/png": "[encoded data removed]",
      "text/plain": [
       "<Figure size 720x576 with 1 Axes>"
      ]
     },
     "metadata": {
      "needs_background": "light"
     },
     "output_type": "display_data"
    }
   ],
   "source": [
    "games_actual.boxplot(column='sum_sales',by='platform',grid=True,figsize=(10,8));\n",
    "\n",
    "plt.ylabel(\"Sales\");\n",
    "plt.xlabel(\"Platform name\");"
   ]
  },
  {
   "cell_type": "code",
   "execution_count": 48,
   "metadata": {},
   "outputs": [
    {
     "data": {
      "text/plain": [
       "platform\n",
       "3DS     14.60\n",
       "PC       5.14\n",
       "PS3     21.05\n",
       "PS4     14.63\n",
       "PSV      1.96\n",
       "Wii     10.12\n",
       "WiiU     7.09\n",
       "X360    16.27\n",
       "XOne     7.39\n",
       "Name: sum_sales, dtype: float64"
      ]
     },
     "execution_count": 48,
     "metadata": {},
     "output_type": "execute_result"
    }
   ],
   "source": [
    "games_actual.groupby('platform')['sum_sales'].max()"
   ]
  },
  {
   "cell_type": "code",
   "execution_count": 49,
   "metadata": {},
   "outputs": [
    {
     "data": {
      "image/png": "[encoded data removed]",
      "text/plain": [
       "<Figure size 720x576 with 1 Axes>"
      ]
     },
     "metadata": {
      "needs_background": "light"
     },
     "output_type": "display_data"
    }
   ],
   "source": [
    "games_actual.boxplot(column='sum_sales',by='platform',figsize=(10,8),grid=True);\n",
    "plt.ylim(0, 2);\n",
    "plt.title(\"Диаграмма размаха продаж для наиболее популярных платформ\");\n",
    "plt.ylabel(\"Sales\");\n",
    "plt.xlabel(\"Platform name\");"
   ]
  },
  {
   "cell_type": "code",
   "execution_count": 50,
   "metadata": {},
   "outputs": [
    {
     "data": {
      "text/plain": [
       "platform\n",
       "3DS     0.503535\n",
       "PC      0.251105\n",
       "PS3     0.630212\n",
       "PS4     0.801378\n",
       "PSV     0.125431\n",
       "Wii     0.482335\n",
       "WiiU    0.559116\n",
       "X360    0.763815\n",
       "XOne    0.645020\n",
       "Name: sum_sales, dtype: float64"
      ]
     },
     "execution_count": 50,
     "metadata": {},
     "output_type": "execute_result"
    }
   ],
   "source": [
    "games_actual.groupby('platform')['sum_sales'].mean()"
   ]
  },
  {
   "cell_type": "markdown",
   "metadata": {},
   "source": [
    "Для каждой платформы распределение имеет выбросы в сторону больших значений, что говорит о большом разбросе популярности игр.\n",
    "Самое высокое значение медианной доходности у платформы X360. Самая доходная игра была выпущена на протформе PS3. \n",
    "В среднем медианное значение продаж находится около 0.18, т.е. большая часть игр не пользуется популярностью. "
   ]
  },
  {
   "cell_type": "markdown",
   "metadata": {},
   "source": [
    "### Влияние отзывов на продажи "
   ]
  },
  {
   "cell_type": "code",
   "execution_count": 51,
   "metadata": {},
   "outputs": [
    {
     "data": {
      "text/plain": [
       "platform\n",
       "PS3    1305\n",
       "DS     2121\n",
       "PS2    2127\n",
       "Name: name, dtype: int64"
      ]
     },
     "execution_count": 51,
     "metadata": {},
     "output_type": "execute_result"
    }
   ],
   "source": [
    "games.groupby('platform')['name'].count().sort_values()[-3:]"
   ]
  },
  {
   "cell_type": "markdown",
   "metadata": {},
   "source": [
    "Для анализа мы выбираем 'PS2', поскольку по этой платформе больше всего данных"
   ]
  },
  {
   "cell_type": "code",
   "execution_count": 52,
   "metadata": {},
   "outputs": [],
   "source": [
    "data_corr=games[games['platform']=='PS2'][['sum_sales','user_score','critic_score']]"
   ]
  },
  {
   "cell_type": "code",
   "execution_count": 53,
   "metadata": {},
   "outputs": [
    {
     "data": {
      "text/html": [
       "<div>\n",
       "<style scoped>\n",
       "    .dataframe tbody tr th:only-of-type {\n",
       "        vertical-align: middle;\n",
       "    }\n",
       "\n",
       "    .dataframe tbody tr th {\n",
       "        vertical-align: top;\n",
       "    }\n",
       "\n",
       "    .dataframe thead th {\n",
       "        text-align: right;\n",
       "    }\n",
       "</style>\n",
       "<table border=\"1\" class=\"dataframe\">\n",
       "  <thead>\n",
       "    <tr style=\"text-align: right;\">\n",
       "      <th></th>\n",
       "      <th>sum_sales</th>\n",
       "      <th>user_score</th>\n",
       "      <th>critic_score</th>\n",
       "    </tr>\n",
       "  </thead>\n",
       "  <tbody>\n",
       "    <tr>\n",
       "      <th>sum_sales</th>\n",
       "      <td>1.000000</td>\n",
       "      <td>0.175055</td>\n",
       "      <td>0.392536</td>\n",
       "    </tr>\n",
       "    <tr>\n",
       "      <th>user_score</th>\n",
       "      <td>0.175055</td>\n",
       "      <td>1.000000</td>\n",
       "      <td>0.565841</td>\n",
       "    </tr>\n",
       "    <tr>\n",
       "      <th>critic_score</th>\n",
       "      <td>0.392536</td>\n",
       "      <td>0.565841</td>\n",
       "      <td>1.000000</td>\n",
       "    </tr>\n",
       "  </tbody>\n",
       "</table>\n",
       "</div>"
      ],
      "text/plain": [
       "              sum_sales  user_score  critic_score\n",
       "sum_sales      1.000000    0.175055      0.392536\n",
       "user_score     0.175055    1.000000      0.565841\n",
       "critic_score   0.392536    0.565841      1.000000"
      ]
     },
     "execution_count": 53,
     "metadata": {},
     "output_type": "execute_result"
    }
   ],
   "source": [
    "data_corr.corr()"
   ]
  },
  {
   "cell_type": "code",
   "execution_count": 54,
   "metadata": {},
   "outputs": [
    {
     "data": {
      "image/png": "[encoded data removed]",
      "text/plain": [
       "<Figure size 432x288 with 1 Axes>"
      ]
     },
     "metadata": {
      "needs_background": "light"
     },
     "output_type": "display_data"
    }
   ],
   "source": [
    "data_corr.plot(x='critic_score',\n",
    "                      y='sum_sales',\n",
    "                      kind='scatter',\n",
    "                      grid=True);\n",
    "\n",
    "plt.title('График разброса продаж от оценки критиков');"
   ]
  },
  {
   "cell_type": "code",
   "execution_count": 55,
   "metadata": {},
   "outputs": [
    {
     "data": {
      "image/png": "[encoded data removed]",
      "text/plain": [
       "<Figure size 432x288 with 1 Axes>"
      ]
     },
     "metadata": {
      "needs_background": "light"
     },
     "output_type": "display_data"
    }
   ],
   "source": [
    "data_corr.plot(x='user_score',\n",
    "                      y='sum_sales',\n",
    "                      kind='scatter',\n",
    "                      grid=True);\n",
    "\n",
    "plt.title('График разброса продаж от оценки пользователей');"
   ]
  },
  {
   "cell_type": "markdown",
   "metadata": {},
   "source": [
    "### Влияние отзывов на продажи "
   ]
  },
  {
   "cell_type": "code",
   "execution_count": 56,
   "metadata": {},
   "outputs": [],
   "source": [
    "def scores_by_platform(platform):\n",
    "    user = games[games['platform']==platform][['sum_sales','user_score']].corr().loc['sum_sales','user_score']\n",
    "    crit= games[games['platform']==platform][['sum_sales','critic_score']].corr().loc['sum_sales','critic_score']\n",
    "    return f\"{platform}  {np.around(user, decimals=2)} ,  {np.around(crit, decimals=2)}\" "
   ]
  },
  {
   "cell_type": "code",
   "execution_count": 57,
   "metadata": {},
   "outputs": [
    {
     "name": "stdout",
     "output_type": "stream",
     "text": [
      "platform user critic\n",
      "PS4  -0.03 ,  0.41\n",
      "3DS  0.22 ,  0.35\n",
      "XOne  -0.07 ,  0.42\n",
      "WiiU  0.4 ,  0.35\n",
      "PS3  0.13 ,  0.43\n",
      "PC  0.01 ,  0.26\n",
      "X360  0.11 ,  0.39\n",
      "PSV  0.01 ,  0.13\n",
      "Wii  0.11 ,  0.18\n"
     ]
    }
   ],
   "source": [
    "print('platform user critic')\n",
    "for p in actual_platforms:\n",
    "    print(scores_by_platform(p))"
   ]
  },
  {
   "cell_type": "markdown",
   "metadata": {},
   "source": [
    "Для всех расмотренных игровых платформ наблюдается положительная зависимость продаж от оценки критиков с уровнем корреляци 0.3-0.4. \n",
    "\n",
    "Корреляция с отзывами критиков выше чем с отзывами пользователей. Для некоторых платформ зависимости (корреляции) от отзывов пользователей нет, т.к. значение корреляции близко к нулю. "
   ]
  },
  {
   "cell_type": "markdown",
   "metadata": {},
   "source": [
    "### Жанры ирг. Порулярность и прибыльность."
   ]
  },
  {
   "cell_type": "code",
   "execution_count": 58,
   "metadata": {},
   "outputs": [
    {
     "data": {
      "text/plain": [
       "genre\n",
       "Action          1144\n",
       "Role-Playing     392\n",
       "Sports           357\n",
       "Shooter          326\n",
       "Misc             314\n",
       "Adventure        291\n",
       "Racing           176\n",
       "Fighting         145\n",
       "Simulation       122\n",
       "Platform         111\n",
       "Strategy          97\n",
       "Puzzle            43\n",
       "Name: name, dtype: int64"
      ]
     },
     "execution_count": 58,
     "metadata": {},
     "output_type": "execute_result"
    }
   ],
   "source": [
    "games_actual.groupby('genre')['name'].count().sort_values(ascending=False)"
   ]
  },
  {
   "cell_type": "code",
   "execution_count": 59,
   "metadata": {},
   "outputs": [
    {
     "data": {
      "text/plain": [
       "genre\n",
       "Shooter         0.415\n",
       "Sports          0.230\n",
       "Platform        0.210\n",
       "Fighting        0.180\n",
       "Role-Playing    0.170\n",
       "Racing          0.160\n",
       "Misc            0.145\n",
       "Action          0.140\n",
       "Simulation      0.110\n",
       "Strategy        0.070\n",
       "Puzzle          0.060\n",
       "Adventure       0.040\n",
       "Name: sum_sales, dtype: float64"
      ]
     },
     "execution_count": 59,
     "metadata": {},
     "output_type": "execute_result"
    }
   ],
   "source": [
    "games_actual.groupby('genre')['sum_sales'].median().sort_values(ascending=False)"
   ]
  },
  {
   "cell_type": "markdown",
   "metadata": {},
   "source": [
    "Больше все игр было выпущено в жанре Action (953) и ролевых игр (339). \n",
    "Самые доходный жанр Shooter имеет медианное значение доходности 0.44, за ним идут Sport с медианной доходностью 0.27. Наименьшая доходность в жанрах Adventure и Puzzle. "
   ]
  },
  {
   "cell_type": "markdown",
   "metadata": {},
   "source": [
    "## Портрет пользователя"
   ]
  },
  {
   "cell_type": "markdown",
   "metadata": {},
   "source": [
    "### Топ-5 популярные платформы"
   ]
  },
  {
   "cell_type": "code",
   "execution_count": 60,
   "metadata": {},
   "outputs": [
    {
     "data": {
      "text/html": [
       "<div>\n",
       "<style scoped>\n",
       "    .dataframe tbody tr th:only-of-type {\n",
       "        vertical-align: middle;\n",
       "    }\n",
       "\n",
       "    .dataframe tbody tr th {\n",
       "        vertical-align: top;\n",
       "    }\n",
       "\n",
       "    .dataframe thead th {\n",
       "        text-align: right;\n",
       "    }\n",
       "</style>\n",
       "<table border=\"1\" class=\"dataframe\">\n",
       "  <thead>\n",
       "    <tr style=\"text-align: right;\">\n",
       "      <th></th>\n",
       "      <th>name</th>\n",
       "      <th>platform</th>\n",
       "      <th>year_of_release</th>\n",
       "      <th>genre</th>\n",
       "      <th>na_sales</th>\n",
       "      <th>eu_sales</th>\n",
       "      <th>jp_sales</th>\n",
       "      <th>other_sales</th>\n",
       "      <th>critic_score</th>\n",
       "      <th>user_score</th>\n",
       "      <th>rating</th>\n",
       "      <th>sum_sales</th>\n",
       "    </tr>\n",
       "  </thead>\n",
       "  <tbody>\n",
       "    <tr>\n",
       "      <th>0</th>\n",
       "      <td>Wii Sports</td>\n",
       "      <td>Wii</td>\n",
       "      <td>2006</td>\n",
       "      <td>Sports</td>\n",
       "      <td>41.36</td>\n",
       "      <td>28.96</td>\n",
       "      <td>3.77</td>\n",
       "      <td>8.45</td>\n",
       "      <td>76</td>\n",
       "      <td>8.0</td>\n",
       "      <td>E</td>\n",
       "      <td>82.54</td>\n",
       "    </tr>\n",
       "  </tbody>\n",
       "</table>\n",
       "</div>"
      ],
      "text/plain": [
       "         name platform  year_of_release   genre  na_sales  eu_sales  jp_sales  \\\n",
       "0  Wii Sports      Wii             2006  Sports     41.36     28.96      3.77   \n",
       "\n",
       "   other_sales  critic_score  user_score rating  sum_sales  \n",
       "0         8.45            76         8.0      E      82.54  "
      ]
     },
     "execution_count": 60,
     "metadata": {},
     "output_type": "execute_result"
    }
   ],
   "source": [
    "games.head(1)"
   ]
  },
  {
   "cell_type": "code",
   "execution_count": 61,
   "metadata": {},
   "outputs": [
    {
     "data": {
      "text/plain": [
       "platform\n",
       "3DS      82.65\n",
       "PC       29.88\n",
       "PS3     168.26\n",
       "PS4     108.74\n",
       "PSV      12.47\n",
       "Wii      48.56\n",
       "WiiU     38.10\n",
       "X360    226.80\n",
       "XOne     93.12\n",
       "Name: na_sales, dtype: float64"
      ]
     },
     "execution_count": 61,
     "metadata": {},
     "output_type": "execute_result"
    }
   ],
   "source": [
    "games_actual.groupby('platform')['na_sales'].sum()"
   ]
  },
  {
   "cell_type": "code",
   "execution_count": 62,
   "metadata": {},
   "outputs": [
    {
     "data": {
      "image/png": "[encoded data removed]",
      "text/plain": [
       "<Figure size 864x432 with 3 Axes>"
      ]
     },
     "metadata": {
      "needs_background": "light"
     },
     "output_type": "display_data"
    }
   ],
   "source": [
    "n_top=5\n",
    "\n",
    "figsize = (12,6)\n",
    "\n",
    "plt.subplot(1,3,1)\n",
    "games_actual.groupby('platform')['na_sales'].sum().sort_values(ascending=False)[:n_top] \\\n",
    "    .plot(kind='bar',figsize=figsize)\n",
    "plt.title('Северной Америка')\n",
    "plt.ylabel(\"Sales\")\n",
    "plt.xlabel(\"Platform name\")\n",
    "\n",
    "plt.subplot(1,3,2)\n",
    "games_actual.groupby('platform')['eu_sales'].sum().sort_values(ascending=False)[:n_top] \\\n",
    "    .plot(kind='bar',figsize=figsize)\n",
    "plt.title('Евросоюз')\n",
    "plt.xlabel(\"Platform name\")\n",
    "\n",
    "plt.subplot(1,3,3)\n",
    "games_actual.groupby('platform')['jp_sales'].sum().sort_values(ascending=False)[:n_top] \\\n",
    "    .plot(kind='bar',figsize=figsize)\n",
    "plt.title('Япония')\n",
    "plt.xlabel(\"Platform name\")\n",
    "\n",
    "plt.suptitle(f'Топ-{n_top} популярных платформ по регионам')\n",
    "plt.show()"
   ]
  },
  {
   "cell_type": "markdown",
   "metadata": {},
   "source": [
    "В северной америке по продажам лидируем платформа X360, в европе PS4, а в Японии 3DS. В европе и северной амереке 3DS находится на 5 месте. Европейский рынок и рынок северной америке похожи между собой, но отличаются от японского.  В японии PS4 только на 4 месте, а X360 не входит в топ-5.Еще одна особенность японского рынка в том что в топ-5 вошла платформа WiiU, которой нет ни в американском, ни в европейском рейтенге топ-5.  "
   ]
  },
  {
   "cell_type": "markdown",
   "metadata": {},
   "source": [
    "### Топ-5 популярные жанры"
   ]
  },
  {
   "cell_type": "code",
   "execution_count": 63,
   "metadata": {},
   "outputs": [
    {
     "data": {
      "image/png": "[encoded data removed]",
      "text/plain": [
       "<Figure size 576x432 with 3 Axes>"
      ]
     },
     "metadata": {
      "needs_background": "light"
     },
     "output_type": "display_data"
    }
   ],
   "source": [
    "n_top=5\n",
    "\n",
    "figsize = (8,6)\n",
    "\n",
    "plt.subplot(1,3,1)\n",
    "games_actual.groupby('genre')['na_sales'].sum().sort_values(ascending=False)[:n_top] \\\n",
    "    .plot(kind='bar',figsize=figsize)\n",
    "plt.title('Северная Америка')\n",
    "plt.ylabel(\"Sales\")\n",
    "plt.xlabel(\"Platform name\")\n",
    "\n",
    "plt.subplot(1,3,2)\n",
    "games_actual.groupby('genre')['eu_sales'].sum().sort_values(ascending=False)[:n_top] \\\n",
    "    .plot(kind='bar',figsize=figsize)\n",
    "plt.title('Евросоюз')\n",
    "plt.xlabel(\"Platform name\")\n",
    "\n",
    "plt.subplot(1,3,3)\n",
    "games_actual.groupby('genre')['jp_sales'].sum().sort_values(ascending=False)[:n_top] \\\n",
    "    .plot(kind='bar',figsize=figsize)\n",
    "plt.title('Япония')\n",
    "plt.xlabel(\"Platform name\")\n",
    "\n",
    "plt.suptitle(f'Топ-{n_top} популярных платформ по регионам')\n",
    "plt.show()"
   ]
  },
  {
   "cell_type": "markdown",
   "metadata": {},
   "source": [
    "Распределения по жанрам на рынках северной америки и европы похожи между собой и сущесвенно отличаются от расспределения на рынке Японии.\n",
    "\n",
    "Наиболее популярные жанры в Северной америке и Европе:\n",
    " - Action\n",
    " - Shooter\n",
    " - Sports\n",
    " \n",
    "в Японии первое место у Role-Playing. Затем идут Action, Simulation.  Жанр Simulation встречается только в японском рейтенге.\n"
   ]
  },
  {
   "cell_type": "markdown",
   "metadata": {},
   "source": [
    "### Влияние рейтинга на продажи"
   ]
  },
  {
   "cell_type": "code",
   "execution_count": 64,
   "metadata": {},
   "outputs": [],
   "source": [
    "rating=games_actual.groupby('rating')[['na_sales','eu_sales','jp_sales']].sum()"
   ]
  },
  {
   "cell_type": "code",
   "execution_count": 65,
   "metadata": {},
   "outputs": [
    {
     "data": {
      "text/html": [
       "<div>\n",
       "<style scoped>\n",
       "    .dataframe tbody tr th:only-of-type {\n",
       "        vertical-align: middle;\n",
       "    }\n",
       "\n",
       "    .dataframe tbody tr th {\n",
       "        vertical-align: top;\n",
       "    }\n",
       "\n",
       "    .dataframe thead th {\n",
       "        text-align: right;\n",
       "    }\n",
       "</style>\n",
       "<table border=\"1\" class=\"dataframe\">\n",
       "  <thead>\n",
       "    <tr style=\"text-align: right;\">\n",
       "      <th></th>\n",
       "      <th>na_sales</th>\n",
       "      <th>eu_sales</th>\n",
       "      <th>jp_sales</th>\n",
       "    </tr>\n",
       "    <tr>\n",
       "      <th>rating</th>\n",
       "      <th></th>\n",
       "      <th></th>\n",
       "      <th></th>\n",
       "    </tr>\n",
       "  </thead>\n",
       "  <tbody>\n",
       "    <tr>\n",
       "      <th>E</th>\n",
       "      <td>0.198719</td>\n",
       "      <td>0.208323</td>\n",
       "      <td>0.164137</td>\n",
       "    </tr>\n",
       "    <tr>\n",
       "      <th>E10+</th>\n",
       "      <td>0.141297</td>\n",
       "      <td>0.115344</td>\n",
       "      <td>0.051340</td>\n",
       "    </tr>\n",
       "    <tr>\n",
       "      <th>M</th>\n",
       "      <td>0.381471</td>\n",
       "      <td>0.379965</td>\n",
       "      <td>0.122260</td>\n",
       "    </tr>\n",
       "    <tr>\n",
       "      <th>RP</th>\n",
       "      <td>0.000000</td>\n",
       "      <td>0.000046</td>\n",
       "      <td>0.000000</td>\n",
       "    </tr>\n",
       "    <tr>\n",
       "      <th>T</th>\n",
       "      <td>0.134186</td>\n",
       "      <td>0.125729</td>\n",
       "      <td>0.150459</td>\n",
       "    </tr>\n",
       "    <tr>\n",
       "      <th>unknown</th>\n",
       "      <td>0.144327</td>\n",
       "      <td>0.170594</td>\n",
       "      <td>0.511804</td>\n",
       "    </tr>\n",
       "  </tbody>\n",
       "</table>\n",
       "</div>"
      ],
      "text/plain": [
       "         na_sales  eu_sales  jp_sales\n",
       "rating                               \n",
       "E        0.198719  0.208323  0.164137\n",
       "E10+     0.141297  0.115344  0.051340\n",
       "M        0.381471  0.379965  0.122260\n",
       "RP       0.000000  0.000046  0.000000\n",
       "T        0.134186  0.125729  0.150459\n",
       "unknown  0.144327  0.170594  0.511804"
      ]
     },
     "execution_count": 65,
     "metadata": {},
     "output_type": "execute_result"
    }
   ],
   "source": [
    "rating/rating.sum()"
   ]
  },
  {
   "cell_type": "markdown",
   "metadata": {},
   "source": [
    "В Северной Америке и Европе наибольшей популярность у игры с рейтингом M и E и большая доля игр с неизвестным рейтингом. Важно отметить что у у игр с неизвестным рейтингом большой вклад в доходности на всех рынках. Особенно это проявляеся на рынках Японии, где на такие игры приходится 53% продаж. Можно предположить что игры популярные (и возможно выпущенные) в Японии не участвуют в рейтенге ESRB."
   ]
  },
  {
   "cell_type": "code",
   "execution_count": 66,
   "metadata": {},
   "outputs": [],
   "source": [
    "import seaborn as sns"
   ]
  },
  {
   "cell_type": "code",
   "execution_count": 67,
   "metadata": {},
   "outputs": [
    {
     "data": {
      "text/plain": [
       "<AxesSubplot:ylabel='rating'>"
      ]
     },
     "execution_count": 67,
     "metadata": {},
     "output_type": "execute_result"
    },
    {
     "data": {
      "image/png": "[encoded data removed]",
      "text/plain": [
       "<Figure size 432x288 with 2 Axes>"
      ]
     },
     "metadata": {
      "needs_background": "light"
     },
     "output_type": "display_data"
    }
   ],
   "source": [
    "sns.heatmap(rating, annot=False)"
   ]
  },
  {
   "cell_type": "markdown",
   "metadata": {},
   "source": [
    "## Проверка гипотиз"
   ]
  },
  {
   "cell_type": "markdown",
   "metadata": {},
   "source": [
    "### Тест 1"
   ]
  },
  {
   "cell_type": "markdown",
   "metadata": {},
   "source": [
    "Проверяем следующую гипотезу:\n",
    "\n",
    "- Средние пользовательские рейтинги платформ Xbox One и PC одинаковые;\n",
    "    \n",
    "Нулевая гипотеза формулируется с использованием знака равенства, поэтому нулевая и альтернативная гипотезы будут звучать следующим образом:\n",
    "\n",
    "- H_0: средние пользовательские рейтинги платформ Xbox One и PC одинаковые\n",
    "- H_1: средние пользовательские рейтинги платформ Xbox One и PC не равны друг другу"
   ]
  },
  {
   "cell_type": "code",
   "execution_count": 68,
   "metadata": {},
   "outputs": [],
   "source": [
    "data_xo=games_actual.query('platform == \"XOne\" and user_score == user_score')['user_score']\n",
    "data_pc=games_actual.query('platform == \"PC\" and user_score == user_score')['user_score']"
   ]
  },
  {
   "cell_type": "code",
   "execution_count": 69,
   "metadata": {},
   "outputs": [
    {
     "data": {
      "image/png": "[encoded data removed]",
      "text/plain": [
       "<Figure size 432x288 with 1 Axes>"
      ]
     },
     "metadata": {
      "needs_background": "light"
     },
     "output_type": "display_data"
    }
   ],
   "source": [
    "data_xo.hist(bins=35, alpha=0.5, color='green')\n",
    "data_pc.hist(bins=35, alpha=0.5, color='blue');\n",
    "\n",
    "plt.ylabel(\"Number of games\");\n",
    "plt.xlabel(\"Score\");"
   ]
  },
  {
   "cell_type": "code",
   "execution_count": 70,
   "metadata": {},
   "outputs": [
    {
     "data": {
      "text/plain": [
       "(182, 307)"
      ]
     },
     "execution_count": 70,
     "metadata": {},
     "output_type": "execute_result"
    }
   ],
   "source": [
    "(len(data_xo),len(data_pc))"
   ]
  },
  {
   "cell_type": "markdown",
   "metadata": {},
   "source": [
    "версия 3\n",
    "\n",
    "Размеры выборок близки поэтому используем **t-критерий Стьюдента**, т.е. используем `equal_var=True`. Пороговое значение `alpha` задаем 0.05 посколько стандартная величена в соц. науках и бизнесе. это более мягкое условие на опровержение нулевой гипотизы. Гипотиза двустороння поэтому значение `alternative='two-sided'` можно не указывать посколько это значение по умолчанию."
   ]
  },
  {
   "cell_type": "code",
   "execution_count": 71,
   "metadata": {},
   "outputs": [
    {
     "name": "stdout",
     "output_type": "stream",
     "text": [
      "p-value=  0.6267602271422398\n",
      "Не получилось отвергнуть нулевую гипотезу\n"
     ]
    }
   ],
   "source": [
    "results = st.ttest_ind(data_xo,data_pc,equal_var=True) #вызов метода для проверки гипотезы\n",
    "\n",
    "alpha = .05 # задайте значение уровня значимости\n",
    "\n",
    "print('p-value= ', results.pvalue) # вывод значения p-value на экран \n",
    "# условный оператор с выводом строки с ответом\n",
    "if results.pvalue< alpha:\n",
    "    print('Отвергаем нулевую гипотезу')\n",
    "else:\n",
    "    print('Не получилось отвергнуть нулевую гипотезу')"
   ]
  },
  {
   "cell_type": "markdown",
   "metadata": {},
   "source": [
    "Т.е. у нас не получилось отвергнуть гипотизу, что средние пользовательские рейтинги платформ Xbox One и PC одинаковые."
   ]
  },
  {
   "cell_type": "markdown",
   "metadata": {},
   "source": [
    "### Тест 2"
   ]
  },
  {
   "cell_type": "markdown",
   "metadata": {},
   "source": [
    "Проверяем следующию гипотезу:\n",
    "- Средние пользовательские рейтинги жанров Action (англ. «действие», экшен-игры) и Sports (англ. «спортивные соревнования») разные.\n",
    "\n",
    "Нулевая гипотеза формулируется с использованием знака равенства, поэтому нулевая и альтернативная гипотезы будут звучать следующим образом:\n",
    "\n",
    "- H_0: средние пользовательские рейтинги жанров Action и Sports равны друг другу\n",
    "- H_1: средние пользовательские рейтинги жанров Action и Sports не равны друг другу"
   ]
  },
  {
   "cell_type": "code",
   "execution_count": 72,
   "metadata": {},
   "outputs": [],
   "source": [
    "data_action=games_actual.query('genre == \"Action\" and user_score == user_score')['user_score']\n",
    "data_sport=games_actual.query('genre == \"Sports\" and user_score == user_score')['user_score']"
   ]
  },
  {
   "cell_type": "code",
   "execution_count": 73,
   "metadata": {},
   "outputs": [
    {
     "data": {
      "image/png": "[encoded data removed]",
      "text/plain": [
       "<Figure size 432x288 with 1 Axes>"
      ]
     },
     "metadata": {
      "needs_background": "light"
     },
     "output_type": "display_data"
    }
   ],
   "source": [
    "data_action.hist(bins=35, alpha=0.5, color='green')\n",
    "data_sport.hist(bins=35, alpha=0.5, color='blue');\n",
    "\n",
    "plt.ylabel(\"Number of games\");\n",
    "plt.xlabel(\"Score\");"
   ]
  },
  {
   "cell_type": "code",
   "execution_count": 79,
   "metadata": {},
   "outputs": [
    {
     "data": {
      "text/plain": [
       "(656, 241)"
      ]
     },
     "execution_count": 79,
     "metadata": {},
     "output_type": "execute_result"
    }
   ],
   "source": [
    "(len(data_action),len(data_sport))"
   ]
  },
  {
   "cell_type": "markdown",
   "metadata": {},
   "source": [
    "Размеры выборок отличаются поэтому вместо t-критерия Стюдента мы используем **t-критерий Уэлча**, для этого устанавливаем `equal_var=False`. Пороговое значение `alpha` задаем общепринятое значее 0.05. Доп. мотивацией для выбора этого значения служит предпочтение более мягких условий на подтверждение целевой гипотизы, чем `alpha = 0.01`.  Гипотиза двустороння поэтому значение `alternative='two-sided'` можно не указывать посколько это значение по умолчанию."
   ]
  },
  {
   "cell_type": "code",
   "execution_count": 75,
   "metadata": {},
   "outputs": [
    {
     "name": "stdout",
     "output_type": "stream",
     "text": [
      "p-value=  3.2930114707043448e-18\n",
      "Отвергаем нулевую гипотезу\n"
     ]
    }
   ],
   "source": [
    "results = st.ttest_ind(data_action,data_sport,equal_var=False) #вызов метода для проверки гипотезы\n",
    "\n",
    "alpha = .01 # задайте значение уровня значимости\n",
    "\n",
    "print('p-value= ', results.pvalue) # вывод значения p-value на экран \n",
    "# условный оператор с выводом строки с ответом\n",
    "if results.pvalue< alpha:\n",
    "    print('Отвергаем нулевую гипотезу')\n",
    "else:\n",
    "    print('Не получилось отвергнуть нулевую гипотезу')"
   ]
  },
  {
   "cell_type": "markdown",
   "metadata": {},
   "source": [
    "Т.е. мы отвергаем нулевую гипотизу и делаем вывод, что данные указывают, на то что средние пользовательские рейтинги жанров Action и Sports не равны друг другу с высокой долей вероятности. "
   ]
  },
  {
   "cell_type": "markdown",
   "metadata": {},
   "source": [
    "## Общий вывод"
   ]
  },
  {
   "cell_type": "markdown",
   "metadata": {},
   "source": [
    "Входе выполнения проекта была проведена предработка данных, проведен исседовательский анализ, составлен потрет пользователя, и проверены две гипотезы об пользовательских рейтегах игр. \n",
    "\n",
    "Анализ данных показал:\n",
    "\n",
    "- медианное значение жизни платформ равно 6. Платформы крайне редко живут больше 11 лет.\n",
    "\n",
    "- для получения актуальных результатов исследования был выбран и рассмотрен временной интервал с 2011 по 2016 года.\n",
    "\n",
    "- лидирующие по продажам в 2015 и на начало 2016 года платформы: PS4,XOne,3DS. Платформы PS4 и XOne можно назвать потенциально прибыльными на 2016 и 2017 году.\n",
    "\n",
    "- для каждой платформы распределение по продажам имеет выбросы в сторону больших значений, что говорит о большом разбросе популярности игр. Самое высокое значение медианной доходности у платформы X360. Самая доходная игра была выпущена на протформе PS3.\n",
    "\n",
    "- наблюдается положительная зависимость продаж от оценки критиков с уровнем корреляции 0.3-0.4. \n",
    "\n",
    "- больше все игр было выпущено в жанре Action (953) и ролевых игр (339). Самый доходный жанр Shooter имеет медианное значение доходности 0.44, за ним идут Sport с медианной доходностью 0.27. Наименьшая доходность в жанрах Adventure и Puzzle. \n",
    "\n",
    "- в отношении продаж и жанров игр выявлено сходсво рынков Северной Америки и Европы и их отличее от рынка Японии. В северной америке по продажам лидируем платформа X360, в европе PS4, а в Японии 3DS. Одна особенность японского рынка в том что в топ-5 вошла платформа WiiU, которой нет ни в американском, ни в европейском рейтенге топ-5.\n",
    "\n",
    "\n",
    "Исспользование t-критерия мы пришли к следущим заключениям: \n",
    "- у нас не получилось отвергнуть гипотизу, что средние пользовательские рейтинги платформ Xbox One и PC одинаковые.\n",
    "\n",
    "- Средние пользовательские рейтинги игр жанров Action и Sports отличаются. Пользователи в среднем оценивают Action выше, чем Sports, что также отражается в уровне продаж.\n"
   ]
  }
 ],
 "metadata": {
  "ExecuteTimeLog": [
   {
    "duration": 473,
    "start_time": "2023-04-19T12:15:27.513Z"
   },
   {
    "duration": 124,
    "start_time": "2023-04-19T12:15:28.624Z"
   },
   {
    "duration": 32,
    "start_time": "2023-04-19T12:15:43.616Z"
   },
   {
    "duration": 90,
    "start_time": "2023-04-19T12:16:01.455Z"
   },
   {
    "duration": 9,
    "start_time": "2023-04-19T12:16:03.646Z"
   },
   {
    "duration": 7,
    "start_time": "2023-04-19T12:16:11.589Z"
   },
   {
    "duration": 5,
    "start_time": "2023-04-19T12:16:16.472Z"
   },
   {
    "duration": 4,
    "start_time": "2023-04-19T14:51:50.446Z"
   },
   {
    "duration": 15,
    "start_time": "2023-04-19T14:51:54.452Z"
   },
   {
    "duration": 4,
    "start_time": "2023-04-19T14:52:19.594Z"
   },
   {
    "duration": 14,
    "start_time": "2023-04-19T14:52:20.278Z"
   },
   {
    "duration": 32,
    "start_time": "2023-04-19T14:52:26.009Z"
   },
   {
    "duration": 10,
    "start_time": "2023-04-19T14:55:22.700Z"
   },
   {
    "duration": 6,
    "start_time": "2023-04-19T14:55:29.880Z"
   },
   {
    "duration": 7,
    "start_time": "2023-04-19T14:55:37.745Z"
   },
   {
    "duration": 11,
    "start_time": "2023-04-19T14:55:42.135Z"
   },
   {
    "duration": 7,
    "start_time": "2023-04-19T14:57:44.267Z"
   },
   {
    "duration": 11,
    "start_time": "2023-04-19T14:58:03.740Z"
   },
   {
    "duration": 23,
    "start_time": "2023-04-19T14:59:22.054Z"
   },
   {
    "duration": 7,
    "start_time": "2023-04-19T14:59:30.275Z"
   },
   {
    "duration": 8,
    "start_time": "2023-04-19T14:59:47.232Z"
   },
   {
    "duration": 5,
    "start_time": "2023-04-19T15:00:06.486Z"
   },
   {
    "duration": 11,
    "start_time": "2023-04-19T15:04:35.346Z"
   },
   {
    "duration": 16,
    "start_time": "2023-04-19T15:04:37.645Z"
   },
   {
    "duration": 15,
    "start_time": "2023-04-19T15:04:44.878Z"
   },
   {
    "duration": 11,
    "start_time": "2023-04-19T15:04:55.077Z"
   },
   {
    "duration": 15,
    "start_time": "2023-04-19T15:04:58.944Z"
   },
   {
    "duration": 11,
    "start_time": "2023-04-19T15:05:02.670Z"
   },
   {
    "duration": 2,
    "start_time": "2023-04-19T15:07:08.901Z"
   },
   {
    "duration": 66,
    "start_time": "2023-04-19T15:07:55.001Z"
   },
   {
    "duration": 13,
    "start_time": "2023-04-19T15:08:08.198Z"
   },
   {
    "duration": 3,
    "start_time": "2023-04-19T15:08:35.145Z"
   },
   {
    "duration": 3,
    "start_time": "2023-04-19T15:09:21.047Z"
   },
   {
    "duration": 5,
    "start_time": "2023-04-19T15:09:46.800Z"
   },
   {
    "duration": 5,
    "start_time": "2023-04-19T15:09:51.209Z"
   },
   {
    "duration": 3,
    "start_time": "2023-04-19T15:10:30.376Z"
   },
   {
    "duration": 78,
    "start_time": "2023-04-19T15:11:02.971Z"
   },
   {
    "duration": 7,
    "start_time": "2023-04-19T15:11:54.337Z"
   },
   {
    "duration": 22,
    "start_time": "2023-04-19T15:12:16.870Z"
   },
   {
    "duration": 6,
    "start_time": "2023-04-19T15:13:01.471Z"
   },
   {
    "duration": 9,
    "start_time": "2023-04-19T15:13:07.841Z"
   },
   {
    "duration": 48,
    "start_time": "2023-04-19T15:13:53.854Z"
   },
   {
    "duration": 27,
    "start_time": "2023-04-19T15:13:56.940Z"
   },
   {
    "duration": 14,
    "start_time": "2023-04-19T15:17:01.643Z"
   },
   {
    "duration": 83,
    "start_time": "2023-04-19T15:19:11.108Z"
   },
   {
    "duration": 341,
    "start_time": "2023-04-19T15:19:49.708Z"
   },
   {
    "duration": 82,
    "start_time": "2023-04-19T15:23:57.193Z"
   },
   {
    "duration": 89,
    "start_time": "2023-04-19T15:24:01.850Z"
   },
   {
    "duration": 7,
    "start_time": "2023-04-19T15:24:33.994Z"
   },
   {
    "duration": 27,
    "start_time": "2023-04-19T15:24:38.721Z"
   },
   {
    "duration": 12,
    "start_time": "2023-04-19T15:26:20.889Z"
   },
   {
    "duration": 14,
    "start_time": "2023-04-19T15:27:05.685Z"
   },
   {
    "duration": 8,
    "start_time": "2023-04-19T15:27:15.407Z"
   },
   {
    "duration": 4,
    "start_time": "2023-04-19T15:27:23.692Z"
   },
   {
    "duration": 430,
    "start_time": "2023-04-19T15:27:36.992Z"
   },
   {
    "duration": 79,
    "start_time": "2023-04-19T15:27:37.424Z"
   },
   {
    "duration": 16,
    "start_time": "2023-04-19T15:27:37.505Z"
   },
   {
    "duration": 36,
    "start_time": "2023-04-19T15:27:37.523Z"
   },
   {
    "duration": 3,
    "start_time": "2023-04-19T15:27:37.561Z"
   },
   {
    "duration": 17,
    "start_time": "2023-04-19T15:27:37.566Z"
   },
   {
    "duration": 10,
    "start_time": "2023-04-19T15:27:37.584Z"
   },
   {
    "duration": 12,
    "start_time": "2023-04-19T15:27:37.595Z"
   },
   {
    "duration": 12,
    "start_time": "2023-04-19T15:27:37.609Z"
   },
   {
    "duration": 22,
    "start_time": "2023-04-19T15:27:37.623Z"
   },
   {
    "duration": 7,
    "start_time": "2023-04-19T15:27:37.647Z"
   },
   {
    "duration": 26,
    "start_time": "2023-04-19T15:27:37.656Z"
   },
   {
    "duration": 13,
    "start_time": "2023-04-19T15:27:37.684Z"
   },
   {
    "duration": 24,
    "start_time": "2023-04-19T15:27:37.699Z"
   },
   {
    "duration": 17,
    "start_time": "2023-04-19T15:27:37.724Z"
   },
   {
    "duration": 35,
    "start_time": "2023-04-19T15:27:37.743Z"
   },
   {
    "duration": 67,
    "start_time": "2023-04-19T15:29:25.927Z"
   },
   {
    "duration": 2,
    "start_time": "2023-04-19T15:29:45.396Z"
   },
   {
    "duration": 7,
    "start_time": "2023-04-19T15:30:02.816Z"
   },
   {
    "duration": 7,
    "start_time": "2023-04-19T15:30:57.256Z"
   },
   {
    "duration": 10,
    "start_time": "2023-04-19T15:31:00.512Z"
   },
   {
    "duration": 16,
    "start_time": "2023-04-19T15:31:19.497Z"
   },
   {
    "duration": 14,
    "start_time": "2023-04-19T15:31:28.007Z"
   },
   {
    "duration": 5,
    "start_time": "2023-04-19T15:31:28.947Z"
   },
   {
    "duration": 5,
    "start_time": "2023-04-19T15:31:29.234Z"
   },
   {
    "duration": 10,
    "start_time": "2023-04-19T15:31:30.749Z"
   },
   {
    "duration": 9,
    "start_time": "2023-04-19T15:31:31.590Z"
   },
   {
    "duration": 23,
    "start_time": "2023-04-19T15:34:14.190Z"
   },
   {
    "duration": 10,
    "start_time": "2023-04-19T15:34:43.803Z"
   },
   {
    "duration": 24,
    "start_time": "2023-04-19T15:34:53.430Z"
   },
   {
    "duration": 10,
    "start_time": "2023-04-19T15:35:05.730Z"
   },
   {
    "duration": 6,
    "start_time": "2023-04-19T15:35:08.990Z"
   },
   {
    "duration": 7,
    "start_time": "2023-04-19T15:35:29.504Z"
   },
   {
    "duration": 8,
    "start_time": "2023-04-19T15:35:37.814Z"
   },
   {
    "duration": 9,
    "start_time": "2023-04-19T15:35:43.513Z"
   },
   {
    "duration": 56,
    "start_time": "2023-04-19T15:35:47.045Z"
   },
   {
    "duration": 8,
    "start_time": "2023-04-19T15:35:55.819Z"
   },
   {
    "duration": 7,
    "start_time": "2023-04-19T15:36:25.626Z"
   },
   {
    "duration": 9,
    "start_time": "2023-04-19T15:36:40.757Z"
   },
   {
    "duration": 5,
    "start_time": "2023-04-19T15:37:06.333Z"
   },
   {
    "duration": 8,
    "start_time": "2023-04-19T15:37:50.778Z"
   },
   {
    "duration": 6,
    "start_time": "2023-04-19T15:38:00.504Z"
   },
   {
    "duration": 46,
    "start_time": "2023-04-19T15:38:21.489Z"
   },
   {
    "duration": 14,
    "start_time": "2023-04-19T15:38:23.221Z"
   },
   {
    "duration": 9,
    "start_time": "2023-04-19T15:38:46.120Z"
   },
   {
    "duration": 9,
    "start_time": "2023-04-19T15:39:25.732Z"
   },
   {
    "duration": 14,
    "start_time": "2023-04-19T15:39:30.810Z"
   },
   {
    "duration": 10,
    "start_time": "2023-04-19T15:42:38.996Z"
   },
   {
    "duration": 8,
    "start_time": "2023-04-19T15:42:40.943Z"
   },
   {
    "duration": 9,
    "start_time": "2023-04-19T15:42:45.888Z"
   },
   {
    "duration": 17,
    "start_time": "2023-04-19T15:42:53.113Z"
   },
   {
    "duration": 7,
    "start_time": "2023-04-19T15:44:02.652Z"
   },
   {
    "duration": 10,
    "start_time": "2023-04-19T15:44:04.059Z"
   },
   {
    "duration": 8,
    "start_time": "2023-04-19T15:44:04.606Z"
   },
   {
    "duration": 11,
    "start_time": "2023-04-19T15:44:05.023Z"
   },
   {
    "duration": 4,
    "start_time": "2023-04-19T15:44:05.356Z"
   },
   {
    "duration": 10,
    "start_time": "2023-04-19T15:44:05.928Z"
   },
   {
    "duration": 14,
    "start_time": "2023-04-19T15:44:06.730Z"
   },
   {
    "duration": 6,
    "start_time": "2023-04-19T15:46:57.942Z"
   },
   {
    "duration": 428,
    "start_time": "2023-04-20T20:49:22.190Z"
   },
   {
    "duration": 126,
    "start_time": "2023-04-20T20:49:22.620Z"
   },
   {
    "duration": 16,
    "start_time": "2023-04-20T20:49:22.748Z"
   },
   {
    "duration": 45,
    "start_time": "2023-04-20T20:49:22.766Z"
   },
   {
    "duration": 4,
    "start_time": "2023-04-20T20:49:22.814Z"
   },
   {
    "duration": 15,
    "start_time": "2023-04-20T20:49:22.820Z"
   },
   {
    "duration": 10,
    "start_time": "2023-04-20T20:49:22.838Z"
   },
   {
    "duration": 7,
    "start_time": "2023-04-20T20:49:22.850Z"
   },
   {
    "duration": 11,
    "start_time": "2023-04-20T20:49:22.859Z"
   },
   {
    "duration": 28,
    "start_time": "2023-04-20T20:49:22.871Z"
   },
   {
    "duration": 5,
    "start_time": "2023-04-20T20:49:22.901Z"
   },
   {
    "duration": 23,
    "start_time": "2023-04-20T20:49:22.908Z"
   },
   {
    "duration": 29,
    "start_time": "2023-04-20T20:49:22.933Z"
   },
   {
    "duration": 13,
    "start_time": "2023-04-20T20:49:22.965Z"
   },
   {
    "duration": 28,
    "start_time": "2023-04-20T20:49:22.980Z"
   },
   {
    "duration": 24,
    "start_time": "2023-04-20T20:49:23.010Z"
   },
   {
    "duration": 12,
    "start_time": "2023-04-20T20:49:23.036Z"
   },
   {
    "duration": 33,
    "start_time": "2023-04-20T20:49:23.050Z"
   },
   {
    "duration": 18,
    "start_time": "2023-04-20T20:49:23.085Z"
   },
   {
    "duration": 24,
    "start_time": "2023-04-20T20:49:23.105Z"
   },
   {
    "duration": 23,
    "start_time": "2023-04-20T20:49:23.131Z"
   },
   {
    "duration": 19,
    "start_time": "2023-04-20T20:49:23.156Z"
   },
   {
    "duration": 9,
    "start_time": "2023-04-20T20:49:23.178Z"
   },
   {
    "duration": 46,
    "start_time": "2023-04-20T20:49:23.189Z"
   },
   {
    "duration": 31,
    "start_time": "2023-04-21T07:36:26.636Z"
   },
   {
    "duration": 88,
    "start_time": "2023-04-21T07:40:53.014Z"
   },
   {
    "duration": 4,
    "start_time": "2023-04-21T07:40:56.024Z"
   },
   {
    "duration": 25,
    "start_time": "2023-04-21T07:42:41.380Z"
   },
   {
    "duration": 10,
    "start_time": "2023-04-21T07:45:09.420Z"
   },
   {
    "duration": 12,
    "start_time": "2023-04-21T07:45:40.513Z"
   },
   {
    "duration": 34,
    "start_time": "2023-04-21T07:45:47.607Z"
   },
   {
    "duration": 6,
    "start_time": "2023-04-21T07:53:23.215Z"
   },
   {
    "duration": 16,
    "start_time": "2023-04-21T07:58:24.328Z"
   },
   {
    "duration": 2,
    "start_time": "2023-04-21T07:59:55.918Z"
   },
   {
    "duration": 8,
    "start_time": "2023-04-21T08:04:44.143Z"
   },
   {
    "duration": 25,
    "start_time": "2023-04-21T08:04:49.055Z"
   },
   {
    "duration": 8,
    "start_time": "2023-04-21T08:05:48.400Z"
   },
   {
    "duration": 835,
    "start_time": "2023-04-21T08:08:06.700Z"
   },
   {
    "duration": 3,
    "start_time": "2023-04-21T08:12:37.892Z"
   },
   {
    "duration": 26,
    "start_time": "2023-04-21T08:13:14.719Z"
   },
   {
    "duration": 338,
    "start_time": "2023-04-21T08:26:29.142Z"
   },
   {
    "duration": 5,
    "start_time": "2023-04-21T08:27:45.901Z"
   },
   {
    "duration": 29,
    "start_time": "2023-04-21T08:28:33.032Z"
   },
   {
    "duration": 63,
    "start_time": "2023-04-21T08:28:46.687Z"
   },
   {
    "duration": 24,
    "start_time": "2023-04-21T08:28:51.831Z"
   },
   {
    "duration": 3,
    "start_time": "2023-04-21T08:30:02.243Z"
   },
   {
    "duration": 347,
    "start_time": "2023-04-21T08:30:32.270Z"
   },
   {
    "duration": 286,
    "start_time": "2023-04-21T08:30:45.243Z"
   },
   {
    "duration": 11,
    "start_time": "2023-04-21T08:30:56.770Z"
   },
   {
    "duration": 282,
    "start_time": "2023-04-21T08:31:00.315Z"
   },
   {
    "duration": 298,
    "start_time": "2023-04-21T08:31:07.383Z"
   },
   {
    "duration": 267,
    "start_time": "2023-04-21T08:33:00.158Z"
   },
   {
    "duration": 8,
    "start_time": "2023-04-21T08:33:01.782Z"
   },
   {
    "duration": 8,
    "start_time": "2023-04-21T08:33:34.927Z"
   },
   {
    "duration": 186,
    "start_time": "2023-04-21T08:33:54.979Z"
   },
   {
    "duration": 357,
    "start_time": "2023-04-21T08:34:48.964Z"
   },
   {
    "duration": 3,
    "start_time": "2023-04-21T08:35:29.283Z"
   },
   {
    "duration": 310,
    "start_time": "2023-04-21T08:36:21.053Z"
   },
   {
    "duration": 312,
    "start_time": "2023-04-21T08:36:25.257Z"
   },
   {
    "duration": 305,
    "start_time": "2023-04-21T08:36:34.534Z"
   },
   {
    "duration": 333,
    "start_time": "2023-04-21T08:36:47.703Z"
   },
   {
    "duration": 183,
    "start_time": "2023-04-21T08:37:57.698Z"
   },
   {
    "duration": 214,
    "start_time": "2023-04-21T08:44:05.125Z"
   },
   {
    "duration": 296,
    "start_time": "2023-04-21T08:44:26.455Z"
   },
   {
    "duration": 232,
    "start_time": "2023-04-21T08:44:57.356Z"
   },
   {
    "duration": 230,
    "start_time": "2023-04-21T08:45:15.964Z"
   },
   {
    "duration": 207,
    "start_time": "2023-04-21T08:46:57.618Z"
   },
   {
    "duration": 206,
    "start_time": "2023-04-21T08:47:16.065Z"
   },
   {
    "duration": 206,
    "start_time": "2023-04-21T08:48:30.045Z"
   },
   {
    "duration": 133,
    "start_time": "2023-04-21T08:49:19.806Z"
   },
   {
    "duration": 134,
    "start_time": "2023-04-21T08:49:30.023Z"
   },
   {
    "duration": 227,
    "start_time": "2023-04-21T08:49:35.517Z"
   },
   {
    "duration": 236,
    "start_time": "2023-04-21T08:50:29.116Z"
   },
   {
    "duration": 55,
    "start_time": "2023-04-21T08:51:37.690Z"
   },
   {
    "duration": 261,
    "start_time": "2023-04-21T08:51:45.022Z"
   },
   {
    "duration": 341,
    "start_time": "2023-04-21T08:52:07.930Z"
   },
   {
    "duration": 10,
    "start_time": "2023-04-21T08:52:27.487Z"
   },
   {
    "duration": 9,
    "start_time": "2023-04-21T08:52:36.231Z"
   },
   {
    "duration": 8,
    "start_time": "2023-04-21T08:52:42.048Z"
   },
   {
    "duration": 7,
    "start_time": "2023-04-21T08:53:08.033Z"
   },
   {
    "duration": 7,
    "start_time": "2023-04-21T08:53:13.998Z"
   },
   {
    "duration": 8,
    "start_time": "2023-04-21T08:53:38.886Z"
   },
   {
    "duration": 5,
    "start_time": "2023-04-21T08:54:36.894Z"
   },
   {
    "duration": 8,
    "start_time": "2023-04-21T08:54:42.428Z"
   },
   {
    "duration": 401,
    "start_time": "2023-04-21T08:55:40.737Z"
   },
   {
    "duration": 446,
    "start_time": "2023-04-21T08:55:54.588Z"
   },
   {
    "duration": 369,
    "start_time": "2023-04-21T08:56:08.433Z"
   },
   {
    "duration": 300,
    "start_time": "2023-04-21T08:59:08.612Z"
   },
   {
    "duration": 81,
    "start_time": "2023-04-21T09:01:02.588Z"
   },
   {
    "duration": 287,
    "start_time": "2023-04-21T09:01:06.143Z"
   },
   {
    "duration": 314,
    "start_time": "2023-04-21T09:01:38.493Z"
   },
   {
    "duration": 9,
    "start_time": "2023-04-21T09:05:00.460Z"
   },
   {
    "duration": 321,
    "start_time": "2023-04-21T09:05:01.238Z"
   },
   {
    "duration": 114,
    "start_time": "2023-04-21T09:05:39.395Z"
   },
   {
    "duration": 348,
    "start_time": "2023-04-21T09:05:52.063Z"
   },
   {
    "duration": 493,
    "start_time": "2023-04-21T09:06:23.920Z"
   },
   {
    "duration": 349,
    "start_time": "2023-04-21T09:06:35.677Z"
   },
   {
    "duration": 377,
    "start_time": "2023-04-21T09:06:57.023Z"
   },
   {
    "duration": 331,
    "start_time": "2023-04-21T09:09:25.133Z"
   },
   {
    "duration": 385,
    "start_time": "2023-04-21T09:10:02.464Z"
   },
   {
    "duration": 335,
    "start_time": "2023-04-21T09:10:18.429Z"
   },
   {
    "duration": 12,
    "start_time": "2023-04-21T09:12:30.850Z"
   },
   {
    "duration": 11,
    "start_time": "2023-04-21T09:12:45.095Z"
   },
   {
    "duration": 6,
    "start_time": "2023-04-21T09:13:30.951Z"
   },
   {
    "duration": 16,
    "start_time": "2023-04-21T09:14:17.573Z"
   },
   {
    "duration": 12,
    "start_time": "2023-04-21T09:14:19.526Z"
   },
   {
    "duration": 11,
    "start_time": "2023-04-21T09:15:02.074Z"
   },
   {
    "duration": 17,
    "start_time": "2023-04-21T09:15:07.889Z"
   },
   {
    "duration": 358,
    "start_time": "2023-04-21T09:17:20.194Z"
   },
   {
    "duration": 7,
    "start_time": "2023-04-21T09:17:23.047Z"
   },
   {
    "duration": 373,
    "start_time": "2023-04-21T09:17:32.906Z"
   },
   {
    "duration": 12,
    "start_time": "2023-04-21T09:18:03.384Z"
   },
   {
    "duration": 372,
    "start_time": "2023-04-21T09:18:14.626Z"
   },
   {
    "duration": 12,
    "start_time": "2023-04-21T09:18:17.586Z"
   },
   {
    "duration": 8,
    "start_time": "2023-04-21T09:18:27.615Z"
   },
   {
    "duration": 367,
    "start_time": "2023-04-21T09:18:28.217Z"
   },
   {
    "duration": 397,
    "start_time": "2023-04-21T09:18:56.152Z"
   },
   {
    "duration": 370,
    "start_time": "2023-04-21T09:19:08.194Z"
   },
   {
    "duration": 9,
    "start_time": "2023-04-21T09:19:30.667Z"
   },
   {
    "duration": 21,
    "start_time": "2023-04-21T09:20:10.359Z"
   },
   {
    "duration": 462,
    "start_time": "2023-04-21T09:20:44.181Z"
   },
   {
    "duration": 77,
    "start_time": "2023-04-21T09:20:47.752Z"
   },
   {
    "duration": 392,
    "start_time": "2023-04-21T09:21:07.552Z"
   },
   {
    "duration": 14,
    "start_time": "2023-04-21T09:21:09.934Z"
   },
   {
    "duration": 105,
    "start_time": "2023-04-21T09:21:18.776Z"
   },
   {
    "duration": 102,
    "start_time": "2023-04-21T09:21:28.939Z"
   },
   {
    "duration": 108,
    "start_time": "2023-04-21T09:21:43.148Z"
   },
   {
    "duration": 107,
    "start_time": "2023-04-21T09:21:52.774Z"
   },
   {
    "duration": 219,
    "start_time": "2023-04-21T09:22:38.204Z"
   },
   {
    "duration": 475,
    "start_time": "2023-04-21T09:26:10.321Z"
   },
   {
    "duration": 226,
    "start_time": "2023-04-21T09:26:29.415Z"
   },
   {
    "duration": 234,
    "start_time": "2023-04-21T09:26:37.574Z"
   },
   {
    "duration": 37,
    "start_time": "2023-04-21T09:26:59.699Z"
   },
   {
    "duration": 10,
    "start_time": "2023-04-21T09:28:03.353Z"
   },
   {
    "duration": 3,
    "start_time": "2023-04-21T09:28:06.323Z"
   },
   {
    "duration": 11,
    "start_time": "2023-04-21T09:28:06.392Z"
   },
   {
    "duration": 1157,
    "start_time": "2023-04-21T09:28:51.962Z"
   },
   {
    "duration": 144,
    "start_time": "2023-04-21T09:28:53.121Z"
   },
   {
    "duration": 17,
    "start_time": "2023-04-21T09:28:53.267Z"
   },
   {
    "duration": 53,
    "start_time": "2023-04-21T09:28:53.286Z"
   },
   {
    "duration": 3,
    "start_time": "2023-04-21T09:28:53.342Z"
   },
   {
    "duration": 24,
    "start_time": "2023-04-21T09:28:53.347Z"
   },
   {
    "duration": 24,
    "start_time": "2023-04-21T09:28:53.373Z"
   },
   {
    "duration": 14,
    "start_time": "2023-04-21T09:28:53.399Z"
   },
   {
    "duration": 19,
    "start_time": "2023-04-21T09:28:53.415Z"
   },
   {
    "duration": 15,
    "start_time": "2023-04-21T09:28:53.436Z"
   },
   {
    "duration": 5,
    "start_time": "2023-04-21T09:28:53.452Z"
   },
   {
    "duration": 15,
    "start_time": "2023-04-21T09:28:53.458Z"
   },
   {
    "duration": 20,
    "start_time": "2023-04-21T09:28:53.475Z"
   },
   {
    "duration": 11,
    "start_time": "2023-04-21T09:28:53.499Z"
   },
   {
    "duration": 11,
    "start_time": "2023-04-21T09:28:53.512Z"
   },
   {
    "duration": 16,
    "start_time": "2023-04-21T09:28:53.525Z"
   },
   {
    "duration": 11,
    "start_time": "2023-04-21T09:28:53.543Z"
   },
   {
    "duration": 8,
    "start_time": "2023-04-21T09:28:53.556Z"
   },
   {
    "duration": 35,
    "start_time": "2023-04-21T09:28:53.567Z"
   },
   {
    "duration": 11,
    "start_time": "2023-04-21T09:28:53.604Z"
   },
   {
    "duration": 19,
    "start_time": "2023-04-21T09:28:53.617Z"
   },
   {
    "duration": 18,
    "start_time": "2023-04-21T09:28:53.638Z"
   },
   {
    "duration": 246,
    "start_time": "2023-04-21T09:28:53.657Z"
   },
   {
    "duration": 38,
    "start_time": "2023-04-21T09:28:53.905Z"
   },
   {
    "duration": 52,
    "start_time": "2023-04-21T09:28:53.945Z"
   },
   {
    "duration": 359,
    "start_time": "2023-04-21T09:28:54.000Z"
   },
   {
    "duration": 3,
    "start_time": "2023-04-21T09:28:54.361Z"
   },
   {
    "duration": 306,
    "start_time": "2023-04-21T09:28:54.366Z"
   },
   {
    "duration": 25,
    "start_time": "2023-04-21T09:28:54.674Z"
   },
   {
    "duration": 124,
    "start_time": "2023-04-21T09:28:54.704Z"
   },
   {
    "duration": 0,
    "start_time": "2023-04-21T09:28:54.830Z"
   },
   {
    "duration": 0,
    "start_time": "2023-04-21T09:28:54.831Z"
   },
   {
    "duration": 0,
    "start_time": "2023-04-21T09:28:54.833Z"
   },
   {
    "duration": 359,
    "start_time": "2023-04-21T09:29:15.042Z"
   },
   {
    "duration": 348,
    "start_time": "2023-04-21T09:29:31.441Z"
   },
   {
    "duration": 354,
    "start_time": "2023-04-21T09:29:43.198Z"
   },
   {
    "duration": 206,
    "start_time": "2023-04-21T09:29:47.126Z"
   },
   {
    "duration": 6,
    "start_time": "2023-04-21T09:29:48.086Z"
   },
   {
    "duration": 9,
    "start_time": "2023-04-21T09:29:48.911Z"
   },
   {
    "duration": 5,
    "start_time": "2023-04-21T09:29:53.970Z"
   },
   {
    "duration": 56,
    "start_time": "2023-04-21T09:30:47.335Z"
   },
   {
    "duration": 3,
    "start_time": "2023-04-21T09:30:49.974Z"
   },
   {
    "duration": 310,
    "start_time": "2023-04-21T09:31:02.871Z"
   },
   {
    "duration": 72,
    "start_time": "2023-04-21T09:33:45.213Z"
   },
   {
    "duration": 259,
    "start_time": "2023-04-21T09:34:04.455Z"
   },
   {
    "duration": 255,
    "start_time": "2023-04-21T09:36:25.128Z"
   },
   {
    "duration": 278,
    "start_time": "2023-04-21T09:36:33.475Z"
   },
   {
    "duration": 281,
    "start_time": "2023-04-21T09:37:00.475Z"
   },
   {
    "duration": 259,
    "start_time": "2023-04-21T09:37:08.445Z"
   },
   {
    "duration": 266,
    "start_time": "2023-04-21T09:37:11.079Z"
   },
   {
    "duration": 286,
    "start_time": "2023-04-21T09:37:16.115Z"
   },
   {
    "duration": 15,
    "start_time": "2023-04-21T09:38:19.185Z"
   },
   {
    "duration": 5,
    "start_time": "2023-04-21T09:38:28.615Z"
   },
   {
    "duration": 5,
    "start_time": "2023-04-21T09:38:53.107Z"
   },
   {
    "duration": 7,
    "start_time": "2023-04-21T09:43:43.584Z"
   },
   {
    "duration": 5,
    "start_time": "2023-04-21T09:50:18.253Z"
   },
   {
    "duration": 3,
    "start_time": "2023-04-21T09:50:50.883Z"
   },
   {
    "duration": 5,
    "start_time": "2023-04-21T09:50:55.239Z"
   },
   {
    "duration": 27,
    "start_time": "2023-04-21T09:51:26.930Z"
   },
   {
    "duration": 5,
    "start_time": "2023-04-21T09:53:18.761Z"
   },
   {
    "duration": 14,
    "start_time": "2023-04-21T09:53:38.485Z"
   },
   {
    "duration": 164,
    "start_time": "2023-04-21T09:53:58.586Z"
   },
   {
    "duration": 10,
    "start_time": "2023-04-21T09:54:05.242Z"
   },
   {
    "duration": 48,
    "start_time": "2023-04-21T11:22:20.396Z"
   },
   {
    "duration": 21,
    "start_time": "2023-04-21T11:22:47.341Z"
   },
   {
    "duration": 20,
    "start_time": "2023-04-21T11:22:53.017Z"
   },
   {
    "duration": 21,
    "start_time": "2023-04-21T11:23:10.323Z"
   },
   {
    "duration": 17,
    "start_time": "2023-04-21T11:23:22.432Z"
   },
   {
    "duration": 17,
    "start_time": "2023-04-21T11:23:34.851Z"
   },
   {
    "duration": 26,
    "start_time": "2023-04-21T11:23:53.386Z"
   },
   {
    "duration": 31,
    "start_time": "2023-04-21T11:23:59.266Z"
   },
   {
    "duration": 6,
    "start_time": "2023-04-21T11:25:51.060Z"
   },
   {
    "duration": 37,
    "start_time": "2023-04-21T11:25:53.623Z"
   },
   {
    "duration": 51,
    "start_time": "2023-04-21T11:27:10.483Z"
   },
   {
    "duration": 32,
    "start_time": "2023-04-21T11:27:18.670Z"
   },
   {
    "duration": 9,
    "start_time": "2023-04-21T11:27:30.755Z"
   },
   {
    "duration": 7,
    "start_time": "2023-04-21T11:27:36.702Z"
   },
   {
    "duration": 10,
    "start_time": "2023-04-21T11:27:51.118Z"
   },
   {
    "duration": 8,
    "start_time": "2023-04-21T11:27:59.287Z"
   },
   {
    "duration": 8,
    "start_time": "2023-04-21T11:27:59.784Z"
   },
   {
    "duration": 6,
    "start_time": "2023-04-21T11:28:14.579Z"
   },
   {
    "duration": 8,
    "start_time": "2023-04-21T11:28:18.701Z"
   },
   {
    "duration": 1807,
    "start_time": "2023-04-21T11:28:49.793Z"
   },
   {
    "duration": 15,
    "start_time": "2023-04-21T11:29:04.713Z"
   },
   {
    "duration": 32,
    "start_time": "2023-04-21T11:29:16.439Z"
   },
   {
    "duration": 8,
    "start_time": "2023-04-21T11:32:50.839Z"
   },
   {
    "duration": 35,
    "start_time": "2023-04-21T11:33:20.902Z"
   },
   {
    "duration": 6,
    "start_time": "2023-04-21T11:33:52.420Z"
   },
   {
    "duration": 9,
    "start_time": "2023-04-21T11:33:53.343Z"
   },
   {
    "duration": 7,
    "start_time": "2023-04-21T11:33:55.293Z"
   },
   {
    "duration": 12,
    "start_time": "2023-04-21T11:34:06.396Z"
   },
   {
    "duration": 4,
    "start_time": "2023-04-21T11:34:12.053Z"
   },
   {
    "duration": 29,
    "start_time": "2023-04-21T11:35:05.548Z"
   },
   {
    "duration": 21,
    "start_time": "2023-04-21T11:35:27.616Z"
   },
   {
    "duration": 16,
    "start_time": "2023-04-21T11:36:10.906Z"
   },
   {
    "duration": 6,
    "start_time": "2023-04-21T11:41:44.351Z"
   },
   {
    "duration": 9,
    "start_time": "2023-04-21T11:42:00.675Z"
   },
   {
    "duration": 6,
    "start_time": "2023-04-21T11:42:08.040Z"
   },
   {
    "duration": 4,
    "start_time": "2023-04-21T11:42:09.721Z"
   },
   {
    "duration": 13,
    "start_time": "2023-04-21T11:44:08.804Z"
   },
   {
    "duration": 887,
    "start_time": "2023-04-21T11:44:48.147Z"
   },
   {
    "duration": 1429,
    "start_time": "2023-04-21T11:45:21.462Z"
   },
   {
    "duration": 277,
    "start_time": "2023-04-21T11:45:23.191Z"
   },
   {
    "duration": 1073,
    "start_time": "2023-04-21T11:46:12.822Z"
   },
   {
    "duration": 21,
    "start_time": "2023-04-21T11:46:43.229Z"
   },
   {
    "duration": 12,
    "start_time": "2023-04-21T11:47:35.234Z"
   },
   {
    "duration": 14,
    "start_time": "2023-04-21T11:47:48.278Z"
   },
   {
    "duration": 9,
    "start_time": "2023-04-21T11:47:53.254Z"
   },
   {
    "duration": 12,
    "start_time": "2023-04-21T11:47:57.393Z"
   },
   {
    "duration": 348,
    "start_time": "2023-04-21T11:49:35.411Z"
   },
   {
    "duration": 13,
    "start_time": "2023-04-21T11:50:12.819Z"
   },
   {
    "duration": 11,
    "start_time": "2023-04-21T11:50:17.335Z"
   },
   {
    "duration": 11,
    "start_time": "2023-04-21T11:50:22.935Z"
   },
   {
    "duration": 186,
    "start_time": "2023-04-21T11:50:58.866Z"
   },
   {
    "duration": 420,
    "start_time": "2023-04-21T11:51:40.507Z"
   },
   {
    "duration": 322,
    "start_time": "2023-04-21T11:53:04.281Z"
   },
   {
    "duration": 338,
    "start_time": "2023-04-21T11:53:14.986Z"
   },
   {
    "duration": 445,
    "start_time": "2023-04-21T11:54:48.511Z"
   },
   {
    "duration": 366,
    "start_time": "2023-04-21T11:55:21.467Z"
   },
   {
    "duration": 344,
    "start_time": "2023-04-21T11:55:28.965Z"
   },
   {
    "duration": 178,
    "start_time": "2023-04-21T11:56:10.768Z"
   },
   {
    "duration": 149,
    "start_time": "2023-04-21T11:56:14.571Z"
   },
   {
    "duration": 9,
    "start_time": "2023-04-21T11:56:24.464Z"
   },
   {
    "duration": 156,
    "start_time": "2023-04-21T11:56:34.248Z"
   },
   {
    "duration": 135,
    "start_time": "2023-04-21T11:56:37.643Z"
   },
   {
    "duration": 165,
    "start_time": "2023-04-21T11:57:46.405Z"
   },
   {
    "duration": 140,
    "start_time": "2023-04-21T11:57:53.914Z"
   },
   {
    "duration": 156,
    "start_time": "2023-04-21T12:03:15.736Z"
   },
   {
    "duration": 29,
    "start_time": "2023-04-21T12:03:32.671Z"
   },
   {
    "duration": 24,
    "start_time": "2023-04-21T12:03:50.130Z"
   },
   {
    "duration": 420,
    "start_time": "2023-04-21T12:04:12.247Z"
   },
   {
    "duration": 276,
    "start_time": "2023-04-21T12:04:49.679Z"
   },
   {
    "duration": 323,
    "start_time": "2023-04-21T12:05:43.225Z"
   },
   {
    "duration": 259,
    "start_time": "2023-04-21T12:06:07.611Z"
   },
   {
    "duration": 955,
    "start_time": "2023-04-21T12:08:12.924Z"
   },
   {
    "duration": 27,
    "start_time": "2023-04-21T12:08:33.515Z"
   },
   {
    "duration": 12,
    "start_time": "2023-04-21T12:09:36.342Z"
   },
   {
    "duration": 8,
    "start_time": "2023-04-21T12:15:43.628Z"
   },
   {
    "duration": 187,
    "start_time": "2023-04-21T12:17:50.351Z"
   },
   {
    "duration": 147,
    "start_time": "2023-04-21T12:17:55.649Z"
   },
   {
    "duration": 140,
    "start_time": "2023-04-21T12:17:58.910Z"
   },
   {
    "duration": 150,
    "start_time": "2023-04-21T12:18:02.671Z"
   },
   {
    "duration": 7,
    "start_time": "2023-04-21T12:18:17.756Z"
   },
   {
    "duration": 13,
    "start_time": "2023-04-21T12:18:26.614Z"
   },
   {
    "duration": 21,
    "start_time": "2023-04-21T12:22:53.391Z"
   },
   {
    "duration": 29,
    "start_time": "2023-04-21T12:22:56.857Z"
   },
   {
    "duration": 28,
    "start_time": "2023-04-21T12:23:08.838Z"
   },
   {
    "duration": 232,
    "start_time": "2023-04-21T12:24:23.838Z"
   },
   {
    "duration": 269,
    "start_time": "2023-04-21T12:24:28.754Z"
   },
   {
    "duration": 501,
    "start_time": "2023-04-21T12:24:41.930Z"
   },
   {
    "duration": 385,
    "start_time": "2023-04-21T12:24:54.477Z"
   },
   {
    "duration": 241,
    "start_time": "2023-04-21T12:26:11.516Z"
   },
   {
    "duration": 29,
    "start_time": "2023-04-21T12:28:46.650Z"
   },
   {
    "duration": 25,
    "start_time": "2023-04-21T12:29:10.331Z"
   },
   {
    "duration": 10,
    "start_time": "2023-04-21T12:30:52.268Z"
   },
   {
    "duration": 11,
    "start_time": "2023-04-21T12:31:09.983Z"
   },
   {
    "duration": 9,
    "start_time": "2023-04-21T12:31:21.250Z"
   },
   {
    "duration": 20,
    "start_time": "2023-04-21T12:32:23.327Z"
   },
   {
    "duration": 18,
    "start_time": "2023-04-21T12:32:45.077Z"
   },
   {
    "duration": 12,
    "start_time": "2023-04-21T12:33:07.760Z"
   },
   {
    "duration": 16,
    "start_time": "2023-04-21T12:34:05.334Z"
   },
   {
    "duration": 162,
    "start_time": "2023-04-21T12:34:11.757Z"
   },
   {
    "duration": 15,
    "start_time": "2023-04-21T12:36:06.711Z"
   },
   {
    "duration": 23,
    "start_time": "2023-04-21T12:36:28.427Z"
   },
   {
    "duration": 23,
    "start_time": "2023-04-21T12:37:16.539Z"
   },
   {
    "duration": 22,
    "start_time": "2023-04-21T12:38:14.473Z"
   },
   {
    "duration": 22,
    "start_time": "2023-04-21T12:38:23.770Z"
   },
   {
    "duration": 168,
    "start_time": "2023-04-21T12:38:49.095Z"
   },
   {
    "duration": 154,
    "start_time": "2023-04-21T12:38:58.202Z"
   },
   {
    "duration": 1037,
    "start_time": "2023-04-21T12:39:05.701Z"
   },
   {
    "duration": 24,
    "start_time": "2023-04-21T12:39:11.821Z"
   },
   {
    "duration": 171,
    "start_time": "2023-04-21T12:39:13.475Z"
   },
   {
    "duration": 1156,
    "start_time": "2023-04-21T12:39:14.549Z"
   },
   {
    "duration": 163,
    "start_time": "2023-04-21T12:39:28.189Z"
   },
   {
    "duration": 8,
    "start_time": "2023-04-21T12:39:51.318Z"
   },
   {
    "duration": 167,
    "start_time": "2023-04-21T12:40:00.944Z"
   },
   {
    "duration": 158,
    "start_time": "2023-04-21T12:40:06.623Z"
   },
   {
    "duration": 10,
    "start_time": "2023-04-21T12:40:28.027Z"
   },
   {
    "duration": 7,
    "start_time": "2023-04-21T12:40:29.214Z"
   },
   {
    "duration": 20,
    "start_time": "2023-04-21T12:40:29.804Z"
   },
   {
    "duration": 191,
    "start_time": "2023-04-21T12:40:31.019Z"
   },
   {
    "duration": 170,
    "start_time": "2023-04-21T12:40:32.150Z"
   },
   {
    "duration": 164,
    "start_time": "2023-04-21T12:41:18.073Z"
   },
   {
    "duration": 189,
    "start_time": "2023-04-21T12:41:28.738Z"
   },
   {
    "duration": 167,
    "start_time": "2023-04-21T12:41:29.828Z"
   },
   {
    "duration": 10,
    "start_time": "2023-04-21T12:43:47.647Z"
   },
   {
    "duration": 10,
    "start_time": "2023-04-21T12:43:50.084Z"
   },
   {
    "duration": 14,
    "start_time": "2023-04-21T12:43:50.608Z"
   },
   {
    "duration": 14,
    "start_time": "2023-04-21T12:44:47.455Z"
   },
   {
    "duration": 15,
    "start_time": "2023-04-21T12:44:53.949Z"
   },
   {
    "duration": 15,
    "start_time": "2023-04-21T12:45:09.304Z"
   },
   {
    "duration": 14,
    "start_time": "2023-04-21T12:45:29.153Z"
   },
   {
    "duration": 18,
    "start_time": "2023-04-21T12:45:31.578Z"
   },
   {
    "duration": 18,
    "start_time": "2023-04-21T12:45:32.386Z"
   },
   {
    "duration": 36,
    "start_time": "2023-04-21T12:55:13.578Z"
   },
   {
    "duration": 427,
    "start_time": "2023-04-21T13:05:30.241Z"
   },
   {
    "duration": 36,
    "start_time": "2023-04-21T13:09:34.655Z"
   },
   {
    "duration": 16,
    "start_time": "2023-04-21T13:09:55.504Z"
   },
   {
    "duration": 21,
    "start_time": "2023-04-21T13:10:34.682Z"
   },
   {
    "duration": 22,
    "start_time": "2023-04-21T13:10:58.740Z"
   },
   {
    "duration": 30,
    "start_time": "2023-04-21T13:11:04.525Z"
   },
   {
    "duration": 16,
    "start_time": "2023-04-21T13:14:10.038Z"
   },
   {
    "duration": 17,
    "start_time": "2023-04-21T13:14:16.371Z"
   },
   {
    "duration": 20,
    "start_time": "2023-04-21T13:17:07.636Z"
   },
   {
    "duration": 12,
    "start_time": "2023-04-21T13:17:31.150Z"
   },
   {
    "duration": 14,
    "start_time": "2023-04-21T13:17:54.506Z"
   },
   {
    "duration": 14,
    "start_time": "2023-04-21T13:17:59.457Z"
   },
   {
    "duration": 17,
    "start_time": "2023-04-21T13:18:11.332Z"
   },
   {
    "duration": 1017,
    "start_time": "2023-04-21T13:18:14.666Z"
   },
   {
    "duration": 14,
    "start_time": "2023-04-21T13:18:19.901Z"
   },
   {
    "duration": 1031,
    "start_time": "2023-04-21T13:18:26.474Z"
   },
   {
    "duration": 12,
    "start_time": "2023-04-21T13:18:38.341Z"
   },
   {
    "duration": 863,
    "start_time": "2023-04-21T13:18:54.779Z"
   },
   {
    "duration": 9,
    "start_time": "2023-04-21T13:19:04.614Z"
   },
   {
    "duration": 4,
    "start_time": "2023-04-21T13:20:59.957Z"
   },
   {
    "duration": 189,
    "start_time": "2023-04-21T13:21:54.067Z"
   },
   {
    "duration": 67,
    "start_time": "2023-04-21T13:22:27.952Z"
   },
   {
    "duration": 19,
    "start_time": "2023-04-21T13:22:36.045Z"
   },
   {
    "duration": 50,
    "start_time": "2023-04-21T13:22:38.623Z"
   },
   {
    "duration": 17,
    "start_time": "2023-04-21T13:22:41.007Z"
   },
   {
    "duration": 61,
    "start_time": "2023-04-21T13:22:44.284Z"
   },
   {
    "duration": 17,
    "start_time": "2023-04-21T13:22:46.344Z"
   },
   {
    "duration": 62,
    "start_time": "2023-04-21T13:22:48.805Z"
   },
   {
    "duration": 4,
    "start_time": "2023-04-21T13:23:58.623Z"
   },
   {
    "duration": 21,
    "start_time": "2023-04-21T13:23:59.169Z"
   },
   {
    "duration": 4,
    "start_time": "2023-04-21T13:24:04.564Z"
   },
   {
    "duration": 67,
    "start_time": "2023-04-21T13:24:05.268Z"
   },
   {
    "duration": 5,
    "start_time": "2023-04-21T13:24:16.331Z"
   },
   {
    "duration": 60,
    "start_time": "2023-04-21T13:24:16.815Z"
   },
   {
    "duration": 61,
    "start_time": "2023-04-21T13:24:26.661Z"
   },
   {
    "duration": 4,
    "start_time": "2023-04-21T13:29:32.856Z"
   },
   {
    "duration": 18,
    "start_time": "2023-04-21T13:29:33.272Z"
   },
   {
    "duration": 54,
    "start_time": "2023-04-21T13:29:44.420Z"
   },
   {
    "duration": 61,
    "start_time": "2023-04-21T13:29:47.789Z"
   },
   {
    "duration": 3,
    "start_time": "2023-04-21T13:31:44.353Z"
   },
   {
    "duration": 56,
    "start_time": "2023-04-21T13:31:44.913Z"
   },
   {
    "duration": 56,
    "start_time": "2023-04-21T13:32:09.623Z"
   },
   {
    "duration": 4,
    "start_time": "2023-04-21T13:32:15.869Z"
   },
   {
    "duration": 64,
    "start_time": "2023-04-21T13:32:16.362Z"
   },
   {
    "duration": 4,
    "start_time": "2023-04-21T13:32:30.019Z"
   },
   {
    "duration": 68,
    "start_time": "2023-04-21T13:32:30.714Z"
   },
   {
    "duration": 5,
    "start_time": "2023-04-21T13:32:36.240Z"
   },
   {
    "duration": 57,
    "start_time": "2023-04-21T13:32:36.707Z"
   },
   {
    "duration": 56,
    "start_time": "2023-04-21T13:32:45.394Z"
   },
   {
    "duration": 1396,
    "start_time": "2023-04-22T07:18:14.731Z"
   },
   {
    "duration": 157,
    "start_time": "2023-04-22T07:18:16.129Z"
   },
   {
    "duration": 25,
    "start_time": "2023-04-22T07:18:16.288Z"
   },
   {
    "duration": 56,
    "start_time": "2023-04-22T07:18:16.315Z"
   },
   {
    "duration": 4,
    "start_time": "2023-04-22T07:18:16.372Z"
   },
   {
    "duration": 41,
    "start_time": "2023-04-22T07:18:16.378Z"
   },
   {
    "duration": 22,
    "start_time": "2023-04-22T07:18:16.420Z"
   },
   {
    "duration": 13,
    "start_time": "2023-04-22T07:18:16.444Z"
   },
   {
    "duration": 25,
    "start_time": "2023-04-22T07:18:16.458Z"
   },
   {
    "duration": 56,
    "start_time": "2023-04-22T07:18:16.486Z"
   },
   {
    "duration": 16,
    "start_time": "2023-04-22T07:18:16.544Z"
   },
   {
    "duration": 29,
    "start_time": "2023-04-22T07:18:16.562Z"
   },
   {
    "duration": 40,
    "start_time": "2023-04-22T07:18:16.596Z"
   },
   {
    "duration": 21,
    "start_time": "2023-04-22T07:18:16.638Z"
   },
   {
    "duration": 61,
    "start_time": "2023-04-22T07:18:16.661Z"
   },
   {
    "duration": 29,
    "start_time": "2023-04-22T07:18:16.724Z"
   },
   {
    "duration": 27,
    "start_time": "2023-04-22T07:18:16.755Z"
   },
   {
    "duration": 49,
    "start_time": "2023-04-22T07:18:16.784Z"
   },
   {
    "duration": 16,
    "start_time": "2023-04-22T07:18:16.835Z"
   },
   {
    "duration": 8,
    "start_time": "2023-04-22T07:18:16.852Z"
   },
   {
    "duration": 12,
    "start_time": "2023-04-22T07:18:16.862Z"
   },
   {
    "duration": 14,
    "start_time": "2023-04-22T07:18:16.875Z"
   },
   {
    "duration": 37,
    "start_time": "2023-04-22T07:18:16.891Z"
   },
   {
    "duration": 18,
    "start_time": "2023-04-22T07:18:16.930Z"
   },
   {
    "duration": 6,
    "start_time": "2023-04-22T07:18:16.950Z"
   },
   {
    "duration": 377,
    "start_time": "2023-04-22T07:18:16.957Z"
   },
   {
    "duration": 2,
    "start_time": "2023-04-22T07:18:17.336Z"
   },
   {
    "duration": 318,
    "start_time": "2023-04-22T07:18:17.342Z"
   },
   {
    "duration": 7,
    "start_time": "2023-04-22T07:18:17.662Z"
   },
   {
    "duration": 396,
    "start_time": "2023-04-22T07:18:17.671Z"
   },
   {
    "duration": 291,
    "start_time": "2023-04-22T07:18:18.069Z"
   },
   {
    "duration": 4,
    "start_time": "2023-04-22T07:18:18.362Z"
   },
   {
    "duration": 27,
    "start_time": "2023-04-22T07:18:18.368Z"
   },
   {
    "duration": 29,
    "start_time": "2023-04-22T07:18:18.400Z"
   },
   {
    "duration": 17,
    "start_time": "2023-04-22T07:18:18.431Z"
   },
   {
    "duration": 8,
    "start_time": "2023-04-22T07:18:18.450Z"
   },
   {
    "duration": 32,
    "start_time": "2023-04-22T07:18:18.460Z"
   },
   {
    "duration": 271,
    "start_time": "2023-04-22T07:18:18.494Z"
   },
   {
    "duration": 10,
    "start_time": "2023-04-22T07:18:18.767Z"
   },
   {
    "duration": 451,
    "start_time": "2023-04-22T07:18:18.778Z"
   },
   {
    "duration": 8,
    "start_time": "2023-04-22T07:18:19.230Z"
   },
   {
    "duration": 6,
    "start_time": "2023-04-22T07:18:19.240Z"
   },
   {
    "duration": 22,
    "start_time": "2023-04-22T07:18:19.248Z"
   },
   {
    "duration": 175,
    "start_time": "2023-04-22T07:18:19.272Z"
   },
   {
    "duration": 190,
    "start_time": "2023-04-22T07:18:19.449Z"
   },
   {
    "duration": 4,
    "start_time": "2023-04-22T07:18:19.641Z"
   },
   {
    "duration": 86,
    "start_time": "2023-04-22T07:18:19.647Z"
   },
   {
    "duration": 56,
    "start_time": "2023-04-22T07:20:27.824Z"
   },
   {
    "duration": 64,
    "start_time": "2023-04-22T07:23:14.911Z"
   },
   {
    "duration": 29,
    "start_time": "2023-04-22T07:24:33.264Z"
   },
   {
    "duration": 6,
    "start_time": "2023-04-22T07:24:49.145Z"
   },
   {
    "duration": 25,
    "start_time": "2023-04-22T07:24:59.948Z"
   },
   {
    "duration": 14,
    "start_time": "2023-04-22T07:25:07.954Z"
   },
   {
    "duration": 10,
    "start_time": "2023-04-22T07:25:17.626Z"
   },
   {
    "duration": 11,
    "start_time": "2023-04-22T07:25:30.562Z"
   },
   {
    "duration": 10,
    "start_time": "2023-04-22T07:25:38.767Z"
   },
   {
    "duration": 9,
    "start_time": "2023-04-22T07:25:43.756Z"
   },
   {
    "duration": 13,
    "start_time": "2023-04-22T07:26:18.926Z"
   },
   {
    "duration": 24,
    "start_time": "2023-04-22T07:26:28.989Z"
   },
   {
    "duration": 170,
    "start_time": "2023-04-22T07:29:06.653Z"
   },
   {
    "duration": 12,
    "start_time": "2023-04-22T07:29:11.225Z"
   },
   {
    "duration": 17,
    "start_time": "2023-04-22T07:30:48.381Z"
   },
   {
    "duration": 9,
    "start_time": "2023-04-22T07:31:22.034Z"
   },
   {
    "duration": 9,
    "start_time": "2023-04-22T07:31:33.752Z"
   },
   {
    "duration": 3,
    "start_time": "2023-04-22T07:33:29.638Z"
   },
   {
    "duration": 3,
    "start_time": "2023-04-22T07:34:03.245Z"
   },
   {
    "duration": 15,
    "start_time": "2023-04-22T07:34:28.059Z"
   },
   {
    "duration": 43,
    "start_time": "2023-04-22T07:35:18.671Z"
   },
   {
    "duration": 8,
    "start_time": "2023-04-22T07:36:53.023Z"
   },
   {
    "duration": 8,
    "start_time": "2023-04-22T07:37:08.315Z"
   },
   {
    "duration": 326,
    "start_time": "2023-04-22T07:38:20.570Z"
   },
   {
    "duration": 138,
    "start_time": "2023-04-22T07:38:42.885Z"
   },
   {
    "duration": 412,
    "start_time": "2023-04-22T07:39:41.843Z"
   },
   {
    "duration": 395,
    "start_time": "2023-04-22T07:40:03.065Z"
   },
   {
    "duration": 504,
    "start_time": "2023-04-22T07:46:56.057Z"
   },
   {
    "duration": 327,
    "start_time": "2023-04-22T07:48:25.328Z"
   },
   {
    "duration": 366,
    "start_time": "2023-04-22T07:48:29.134Z"
   },
   {
    "duration": 17,
    "start_time": "2023-04-22T07:52:36.514Z"
   },
   {
    "duration": 17,
    "start_time": "2023-04-22T07:52:43.308Z"
   },
   {
    "duration": 7,
    "start_time": "2023-04-22T07:56:37.329Z"
   },
   {
    "duration": 15,
    "start_time": "2023-04-22T07:56:47.550Z"
   },
   {
    "duration": 17,
    "start_time": "2023-04-22T07:56:56.013Z"
   },
   {
    "duration": 18,
    "start_time": "2023-04-22T07:57:08.814Z"
   },
   {
    "duration": 8,
    "start_time": "2023-04-22T07:58:21.973Z"
   },
   {
    "duration": 14,
    "start_time": "2023-04-22T07:58:23.521Z"
   },
   {
    "duration": 11,
    "start_time": "2023-04-22T07:58:35.887Z"
   },
   {
    "duration": 15,
    "start_time": "2023-04-22T07:58:51.288Z"
   },
   {
    "duration": 6,
    "start_time": "2023-04-22T07:59:06.057Z"
   },
   {
    "duration": 10,
    "start_time": "2023-04-22T07:59:19.365Z"
   },
   {
    "duration": 12,
    "start_time": "2023-04-22T07:59:29.654Z"
   },
   {
    "duration": 3,
    "start_time": "2023-04-22T08:00:52.787Z"
   },
   {
    "duration": 25,
    "start_time": "2023-04-22T08:01:41.646Z"
   },
   {
    "duration": 30,
    "start_time": "2023-04-22T08:02:46.411Z"
   },
   {
    "duration": 34,
    "start_time": "2023-04-22T08:03:59.578Z"
   },
   {
    "duration": 15,
    "start_time": "2023-04-22T08:04:18.448Z"
   },
   {
    "duration": 5,
    "start_time": "2023-04-22T08:04:23.138Z"
   },
   {
    "duration": 21,
    "start_time": "2023-04-22T08:04:33.136Z"
   },
   {
    "duration": 17,
    "start_time": "2023-04-22T08:05:31.057Z"
   },
   {
    "duration": 5,
    "start_time": "2023-04-22T08:05:57.178Z"
   },
   {
    "duration": 17,
    "start_time": "2023-04-22T08:06:04.006Z"
   },
   {
    "duration": 5,
    "start_time": "2023-04-22T08:06:17.072Z"
   },
   {
    "duration": 39,
    "start_time": "2023-04-22T08:06:34.572Z"
   },
   {
    "duration": 42,
    "start_time": "2023-04-22T08:06:44.215Z"
   },
   {
    "duration": 54,
    "start_time": "2023-04-22T08:06:48.882Z"
   },
   {
    "duration": 28,
    "start_time": "2023-04-22T08:06:55.161Z"
   },
   {
    "duration": 11,
    "start_time": "2023-04-22T08:10:59.066Z"
   },
   {
    "duration": 11,
    "start_time": "2023-04-22T08:13:37.217Z"
   },
   {
    "duration": 10,
    "start_time": "2023-04-22T08:13:53.220Z"
   },
   {
    "duration": 12,
    "start_time": "2023-04-22T08:13:59.139Z"
   },
   {
    "duration": 9,
    "start_time": "2023-04-22T08:14:04.724Z"
   },
   {
    "duration": 14,
    "start_time": "2023-04-22T08:14:08.309Z"
   },
   {
    "duration": 13,
    "start_time": "2023-04-22T08:14:54.382Z"
   },
   {
    "duration": 397,
    "start_time": "2023-04-22T08:15:46.560Z"
   },
   {
    "duration": 4,
    "start_time": "2023-04-22T08:16:45.160Z"
   },
   {
    "duration": 6,
    "start_time": "2023-04-22T08:17:20.671Z"
   },
   {
    "duration": 3,
    "start_time": "2023-04-22T08:18:35.065Z"
   },
   {
    "duration": 6,
    "start_time": "2023-04-22T08:19:28.704Z"
   },
   {
    "duration": 11,
    "start_time": "2023-04-22T08:19:44.641Z"
   },
   {
    "duration": 305,
    "start_time": "2023-04-22T08:19:45.426Z"
   },
   {
    "duration": 5,
    "start_time": "2023-04-22T08:19:48.747Z"
   },
   {
    "duration": 10,
    "start_time": "2023-04-22T08:22:25.333Z"
   },
   {
    "duration": 16,
    "start_time": "2023-04-22T08:22:36.766Z"
   },
   {
    "duration": 265,
    "start_time": "2023-04-22T08:22:46.008Z"
   },
   {
    "duration": 4,
    "start_time": "2023-04-22T08:23:01.681Z"
   },
   {
    "duration": 6,
    "start_time": "2023-04-22T08:23:10.315Z"
   },
   {
    "duration": 6,
    "start_time": "2023-04-22T08:23:26.524Z"
   },
   {
    "duration": 5,
    "start_time": "2023-04-22T08:24:35.023Z"
   },
   {
    "duration": 6,
    "start_time": "2023-04-22T08:24:56.832Z"
   },
   {
    "duration": 91,
    "start_time": "2023-04-22T08:24:59.020Z"
   },
   {
    "duration": 24,
    "start_time": "2023-04-22T08:25:06.868Z"
   },
   {
    "duration": 1022,
    "start_time": "2023-04-22T08:26:47.914Z"
   },
   {
    "duration": 950,
    "start_time": "2023-04-22T08:26:49.117Z"
   },
   {
    "duration": 1037,
    "start_time": "2023-04-22T08:26:55.680Z"
   },
   {
    "duration": 1307,
    "start_time": "2023-04-22T08:27:12.186Z"
   },
   {
    "duration": 100,
    "start_time": "2023-04-22T08:27:13.495Z"
   },
   {
    "duration": 26,
    "start_time": "2023-04-22T08:27:13.597Z"
   },
   {
    "duration": 45,
    "start_time": "2023-04-22T08:27:13.625Z"
   },
   {
    "duration": 3,
    "start_time": "2023-04-22T08:27:13.673Z"
   },
   {
    "duration": 33,
    "start_time": "2023-04-22T08:27:13.687Z"
   },
   {
    "duration": 25,
    "start_time": "2023-04-22T08:27:13.722Z"
   },
   {
    "duration": 24,
    "start_time": "2023-04-22T08:27:13.748Z"
   },
   {
    "duration": 56,
    "start_time": "2023-04-22T08:27:13.774Z"
   },
   {
    "duration": 5,
    "start_time": "2023-04-22T08:27:13.834Z"
   },
   {
    "duration": 22,
    "start_time": "2023-04-22T08:27:13.840Z"
   },
   {
    "duration": 21,
    "start_time": "2023-04-22T08:27:13.863Z"
   },
   {
    "duration": 34,
    "start_time": "2023-04-22T08:27:13.886Z"
   },
   {
    "duration": 22,
    "start_time": "2023-04-22T08:27:13.922Z"
   },
   {
    "duration": 40,
    "start_time": "2023-04-22T08:27:13.946Z"
   },
   {
    "duration": 45,
    "start_time": "2023-04-22T08:27:13.988Z"
   },
   {
    "duration": 19,
    "start_time": "2023-04-22T08:27:14.035Z"
   },
   {
    "duration": 9,
    "start_time": "2023-04-22T08:27:14.056Z"
   },
   {
    "duration": 18,
    "start_time": "2023-04-22T08:27:14.066Z"
   },
   {
    "duration": 43,
    "start_time": "2023-04-22T08:27:14.086Z"
   },
   {
    "duration": 20,
    "start_time": "2023-04-22T08:27:14.131Z"
   },
   {
    "duration": 24,
    "start_time": "2023-04-22T08:27:14.153Z"
   },
   {
    "duration": 47,
    "start_time": "2023-04-22T08:27:14.179Z"
   },
   {
    "duration": 5,
    "start_time": "2023-04-22T08:27:14.228Z"
   },
   {
    "duration": 399,
    "start_time": "2023-04-22T08:27:14.235Z"
   },
   {
    "duration": 3,
    "start_time": "2023-04-22T08:27:14.635Z"
   },
   {
    "duration": 359,
    "start_time": "2023-04-22T08:27:14.640Z"
   },
   {
    "duration": 15,
    "start_time": "2023-04-22T08:27:15.004Z"
   },
   {
    "duration": 425,
    "start_time": "2023-04-22T08:27:15.023Z"
   },
   {
    "duration": 297,
    "start_time": "2023-04-22T08:27:15.450Z"
   },
   {
    "duration": 4,
    "start_time": "2023-04-22T08:27:15.749Z"
   },
   {
    "duration": 10,
    "start_time": "2023-04-22T08:27:15.754Z"
   },
   {
    "duration": 31,
    "start_time": "2023-04-22T08:27:15.765Z"
   },
   {
    "duration": 35,
    "start_time": "2023-04-22T08:27:15.798Z"
   },
   {
    "duration": 7,
    "start_time": "2023-04-22T08:27:15.835Z"
   },
   {
    "duration": 28,
    "start_time": "2023-04-22T08:27:15.844Z"
   },
   {
    "duration": 292,
    "start_time": "2023-04-22T08:27:15.874Z"
   },
   {
    "duration": 8,
    "start_time": "2023-04-22T08:27:16.168Z"
   },
   {
    "duration": 460,
    "start_time": "2023-04-22T08:27:16.177Z"
   },
   {
    "duration": 10,
    "start_time": "2023-04-22T08:27:16.639Z"
   },
   {
    "duration": 18,
    "start_time": "2023-04-22T08:27:16.651Z"
   },
   {
    "duration": 21,
    "start_time": "2023-04-22T08:27:16.671Z"
   },
   {
    "duration": 222,
    "start_time": "2023-04-22T08:27:16.694Z"
   },
   {
    "duration": 169,
    "start_time": "2023-04-22T08:27:16.918Z"
   },
   {
    "duration": 5,
    "start_time": "2023-04-22T08:27:17.089Z"
   },
   {
    "duration": 81,
    "start_time": "2023-04-22T08:27:17.097Z"
   },
   {
    "duration": 8,
    "start_time": "2023-04-22T08:27:17.180Z"
   },
   {
    "duration": 44,
    "start_time": "2023-04-22T08:27:17.189Z"
   },
   {
    "duration": 14,
    "start_time": "2023-04-22T08:27:17.235Z"
   },
   {
    "duration": 9,
    "start_time": "2023-04-22T08:27:17.251Z"
   },
   {
    "duration": 384,
    "start_time": "2023-04-22T08:27:17.262Z"
   },
   {
    "duration": 415,
    "start_time": "2023-04-22T08:27:17.648Z"
   },
   {
    "duration": 6,
    "start_time": "2023-04-22T08:27:18.065Z"
   },
   {
    "duration": 65,
    "start_time": "2023-04-22T08:27:18.073Z"
   },
   {
    "duration": 22,
    "start_time": "2023-04-22T08:27:18.140Z"
   },
   {
    "duration": 334,
    "start_time": "2023-04-22T08:27:18.163Z"
   },
   {
    "duration": 18,
    "start_time": "2023-04-22T08:27:18.502Z"
   },
   {
    "duration": 31,
    "start_time": "2023-04-22T08:27:18.522Z"
   },
   {
    "duration": 20,
    "start_time": "2023-04-22T08:27:18.555Z"
   },
   {
    "duration": 281,
    "start_time": "2023-04-22T08:27:18.577Z"
   },
   {
    "duration": 4,
    "start_time": "2023-04-22T08:27:18.860Z"
   },
   {
    "duration": 11,
    "start_time": "2023-04-22T08:27:18.866Z"
   },
   {
    "duration": 13,
    "start_time": "2023-04-22T08:31:37.622Z"
   },
   {
    "duration": 511,
    "start_time": "2023-04-22T08:33:24.249Z"
   },
   {
    "duration": 17,
    "start_time": "2023-04-22T08:33:30.918Z"
   },
   {
    "duration": 15,
    "start_time": "2023-04-22T08:33:43.758Z"
   },
   {
    "duration": 14,
    "start_time": "2023-04-22T08:33:48.843Z"
   },
   {
    "duration": 1333,
    "start_time": "2023-04-22T08:34:11.715Z"
   },
   {
    "duration": 102,
    "start_time": "2023-04-22T08:34:13.051Z"
   },
   {
    "duration": 17,
    "start_time": "2023-04-22T08:34:13.156Z"
   },
   {
    "duration": 63,
    "start_time": "2023-04-22T08:34:13.175Z"
   },
   {
    "duration": 17,
    "start_time": "2023-04-22T08:34:13.242Z"
   },
   {
    "duration": 24,
    "start_time": "2023-04-22T08:34:13.261Z"
   },
   {
    "duration": 55,
    "start_time": "2023-04-22T08:34:13.287Z"
   },
   {
    "duration": 26,
    "start_time": "2023-04-22T08:34:13.344Z"
   },
   {
    "duration": 65,
    "start_time": "2023-04-22T08:34:13.372Z"
   },
   {
    "duration": 15,
    "start_time": "2023-04-22T08:34:16.587Z"
   },
   {
    "duration": 19,
    "start_time": "2023-04-22T08:34:17.718Z"
   },
   {
    "duration": 24,
    "start_time": "2023-04-22T08:46:37.984Z"
   },
   {
    "duration": 14,
    "start_time": "2023-04-22T08:46:46.612Z"
   },
   {
    "duration": 1641,
    "start_time": "2023-04-22T08:46:56.074Z"
   },
   {
    "duration": 88,
    "start_time": "2023-04-22T08:46:57.717Z"
   },
   {
    "duration": 18,
    "start_time": "2023-04-22T08:46:57.810Z"
   },
   {
    "duration": 64,
    "start_time": "2023-04-22T08:46:57.830Z"
   },
   {
    "duration": 13,
    "start_time": "2023-04-22T08:46:57.899Z"
   },
   {
    "duration": 18,
    "start_time": "2023-04-22T08:46:57.917Z"
   },
   {
    "duration": 24,
    "start_time": "2023-04-22T08:46:57.937Z"
   },
   {
    "duration": 18,
    "start_time": "2023-04-22T08:46:57.964Z"
   },
   {
    "duration": 94,
    "start_time": "2023-04-22T08:46:57.984Z"
   },
   {
    "duration": 13,
    "start_time": "2023-04-22T08:47:01.410Z"
   },
   {
    "duration": 1462,
    "start_time": "2023-04-22T08:51:27.824Z"
   },
   {
    "duration": 109,
    "start_time": "2023-04-22T08:51:29.292Z"
   },
   {
    "duration": 23,
    "start_time": "2023-04-22T08:51:29.403Z"
   },
   {
    "duration": 74,
    "start_time": "2023-04-22T08:51:29.429Z"
   },
   {
    "duration": 6,
    "start_time": "2023-04-22T08:51:29.506Z"
   },
   {
    "duration": 21,
    "start_time": "2023-04-22T08:51:29.514Z"
   },
   {
    "duration": 28,
    "start_time": "2023-04-22T08:51:29.538Z"
   },
   {
    "duration": 13,
    "start_time": "2023-04-22T08:51:29.569Z"
   },
   {
    "duration": 86,
    "start_time": "2023-04-22T08:51:29.584Z"
   },
   {
    "duration": 19,
    "start_time": "2023-04-22T08:51:31.962Z"
   },
   {
    "duration": 14,
    "start_time": "2023-04-22T08:52:46.342Z"
   },
   {
    "duration": 19,
    "start_time": "2023-04-22T08:53:01.828Z"
   },
   {
    "duration": 18,
    "start_time": "2023-04-22T08:53:23.741Z"
   },
   {
    "duration": 416,
    "start_time": "2023-04-22T08:58:57.522Z"
   },
   {
    "duration": 3,
    "start_time": "2023-04-22T08:59:35.222Z"
   },
   {
    "duration": 3,
    "start_time": "2023-04-22T08:59:47.311Z"
   },
   {
    "duration": 131,
    "start_time": "2023-04-22T08:59:47.768Z"
   },
   {
    "duration": 1479,
    "start_time": "2023-04-22T09:00:01.823Z"
   },
   {
    "duration": 177,
    "start_time": "2023-04-22T09:00:03.306Z"
   },
   {
    "duration": 38,
    "start_time": "2023-04-22T09:00:03.485Z"
   },
   {
    "duration": 92,
    "start_time": "2023-04-22T09:00:03.526Z"
   },
   {
    "duration": 15,
    "start_time": "2023-04-22T09:00:03.620Z"
   },
   {
    "duration": 20,
    "start_time": "2023-04-22T09:00:03.637Z"
   },
   {
    "duration": 16,
    "start_time": "2023-04-22T09:00:03.660Z"
   },
   {
    "duration": 57,
    "start_time": "2023-04-22T09:00:03.679Z"
   },
   {
    "duration": 36,
    "start_time": "2023-04-22T09:00:03.739Z"
   },
   {
    "duration": 53,
    "start_time": "2023-04-22T09:00:03.779Z"
   },
   {
    "duration": 64,
    "start_time": "2023-04-22T09:00:03.834Z"
   },
   {
    "duration": 48,
    "start_time": "2023-04-22T09:00:03.901Z"
   },
   {
    "duration": 40,
    "start_time": "2023-04-22T09:00:03.952Z"
   },
   {
    "duration": 54,
    "start_time": "2023-04-22T09:00:03.995Z"
   },
   {
    "duration": 21,
    "start_time": "2023-04-22T09:00:04.051Z"
   },
   {
    "duration": 44,
    "start_time": "2023-04-22T09:00:04.074Z"
   },
   {
    "duration": 18,
    "start_time": "2023-04-22T09:00:04.120Z"
   },
   {
    "duration": 75,
    "start_time": "2023-04-22T09:00:04.141Z"
   },
   {
    "duration": 5,
    "start_time": "2023-04-22T09:00:04.218Z"
   },
   {
    "duration": 30,
    "start_time": "2023-04-22T09:00:04.225Z"
   },
   {
    "duration": 45,
    "start_time": "2023-04-22T09:00:04.258Z"
   },
   {
    "duration": 22,
    "start_time": "2023-04-22T09:00:04.310Z"
   },
   {
    "duration": 34,
    "start_time": "2023-04-22T09:00:04.334Z"
   },
   {
    "duration": 6,
    "start_time": "2023-04-22T09:00:04.370Z"
   },
   {
    "duration": 402,
    "start_time": "2023-04-22T09:00:04.378Z"
   },
   {
    "duration": 11,
    "start_time": "2023-04-22T09:00:04.787Z"
   },
   {
    "duration": 326,
    "start_time": "2023-04-22T09:00:06.322Z"
   },
   {
    "duration": 329,
    "start_time": "2023-04-22T09:01:07.017Z"
   },
   {
    "duration": 10,
    "start_time": "2023-04-22T09:01:08.649Z"
   },
   {
    "duration": 132,
    "start_time": "2023-04-22T09:04:02.742Z"
   },
   {
    "duration": 303,
    "start_time": "2023-04-22T09:04:06.777Z"
   },
   {
    "duration": 4,
    "start_time": "2023-04-22T09:04:07.976Z"
   },
   {
    "duration": 5,
    "start_time": "2023-04-22T09:04:27.274Z"
   },
   {
    "duration": 5,
    "start_time": "2023-04-22T09:04:50.677Z"
   },
   {
    "duration": 16,
    "start_time": "2023-04-22T09:05:15.713Z"
   },
   {
    "duration": 17,
    "start_time": "2023-04-22T09:05:23.200Z"
   },
   {
    "duration": 9,
    "start_time": "2023-04-22T09:05:25.458Z"
   },
   {
    "duration": 9,
    "start_time": "2023-04-22T09:05:32.016Z"
   },
   {
    "duration": 5,
    "start_time": "2023-04-22T09:07:37.322Z"
   },
   {
    "duration": 47,
    "start_time": "2023-04-22T09:09:11.175Z"
   },
   {
    "duration": 327,
    "start_time": "2023-04-22T09:10:12.480Z"
   },
   {
    "duration": 295,
    "start_time": "2023-04-22T09:10:34.378Z"
   },
   {
    "duration": 39,
    "start_time": "2023-04-22T09:10:52.107Z"
   },
   {
    "duration": 49,
    "start_time": "2023-04-22T09:10:55.674Z"
   },
   {
    "duration": 9,
    "start_time": "2023-04-22T09:11:17.669Z"
   },
   {
    "duration": 22,
    "start_time": "2023-04-22T09:11:42.961Z"
   },
   {
    "duration": 14,
    "start_time": "2023-04-22T09:12:00.032Z"
   },
   {
    "duration": 525,
    "start_time": "2023-04-22T09:12:32.861Z"
   },
   {
    "duration": 14,
    "start_time": "2023-04-22T09:12:45.827Z"
   },
   {
    "duration": 33,
    "start_time": "2023-04-22T09:13:35.420Z"
   },
   {
    "duration": 9,
    "start_time": "2023-04-22T09:13:48.332Z"
   },
   {
    "duration": 12,
    "start_time": "2023-04-22T09:14:02.151Z"
   },
   {
    "duration": 460,
    "start_time": "2023-04-22T09:15:38.081Z"
   },
   {
    "duration": 367,
    "start_time": "2023-04-22T09:15:57.166Z"
   },
   {
    "duration": 11,
    "start_time": "2023-04-22T09:16:01.868Z"
   },
   {
    "duration": 21,
    "start_time": "2023-04-22T09:19:54.434Z"
   },
   {
    "duration": 19,
    "start_time": "2023-04-22T09:58:07.922Z"
   },
   {
    "duration": 6,
    "start_time": "2023-04-22T17:13:32.032Z"
   },
   {
    "duration": 3,
    "start_time": "2023-04-22T17:15:09.924Z"
   },
   {
    "duration": 6,
    "start_time": "2023-04-22T17:16:19.971Z"
   },
   {
    "duration": 8,
    "start_time": "2023-04-22T17:16:21.033Z"
   },
   {
    "duration": 6,
    "start_time": "2023-04-22T17:16:22.046Z"
   },
   {
    "duration": 5,
    "start_time": "2023-04-22T17:16:22.553Z"
   },
   {
    "duration": 247,
    "start_time": "2023-04-22T17:22:07.633Z"
   },
   {
    "duration": 14,
    "start_time": "2023-04-23T07:50:45.271Z"
   },
   {
    "duration": 12,
    "start_time": "2023-04-23T07:50:49.453Z"
   },
   {
    "duration": 12,
    "start_time": "2023-04-23T07:50:52.277Z"
   },
   {
    "duration": 12,
    "start_time": "2023-04-23T07:51:02.623Z"
   },
   {
    "duration": 10,
    "start_time": "2023-04-23T07:51:09.889Z"
   },
   {
    "duration": 8,
    "start_time": "2023-04-23T07:51:28.179Z"
   },
   {
    "duration": 9,
    "start_time": "2023-04-23T07:52:02.287Z"
   },
   {
    "duration": 9,
    "start_time": "2023-04-23T07:52:10.864Z"
   },
   {
    "duration": 11,
    "start_time": "2023-04-23T07:55:34.673Z"
   },
   {
    "duration": 360,
    "start_time": "2023-04-23T07:55:41.695Z"
   },
   {
    "duration": 312,
    "start_time": "2023-04-23T07:55:50.345Z"
   },
   {
    "duration": 245,
    "start_time": "2023-04-23T07:55:59.475Z"
   },
   {
    "duration": 245,
    "start_time": "2023-04-23T07:56:03.998Z"
   },
   {
    "duration": 246,
    "start_time": "2023-04-23T07:56:14.066Z"
   },
   {
    "duration": 8,
    "start_time": "2023-04-23T07:59:06.755Z"
   },
   {
    "duration": 7,
    "start_time": "2023-04-23T07:59:18.103Z"
   },
   {
    "duration": 8,
    "start_time": "2023-04-23T07:59:33.085Z"
   },
   {
    "duration": 8,
    "start_time": "2023-04-23T08:00:58.091Z"
   },
   {
    "duration": 11,
    "start_time": "2023-04-23T08:02:37.087Z"
   },
   {
    "duration": 7,
    "start_time": "2023-04-23T08:02:38.717Z"
   },
   {
    "duration": 11,
    "start_time": "2023-04-23T08:02:39.145Z"
   },
   {
    "duration": 153,
    "start_time": "2023-04-23T08:02:40.132Z"
   },
   {
    "duration": 150,
    "start_time": "2023-04-23T08:02:41.561Z"
   },
   {
    "duration": 7,
    "start_time": "2023-04-23T08:10:04.720Z"
   },
   {
    "duration": 8,
    "start_time": "2023-04-23T08:10:07.222Z"
   },
   {
    "duration": 323,
    "start_time": "2023-04-23T08:18:42.686Z"
   },
   {
    "duration": 468,
    "start_time": "2023-04-23T08:18:51.758Z"
   },
   {
    "duration": 85,
    "start_time": "2023-04-23T08:43:37.430Z"
   },
   {
    "duration": 10,
    "start_time": "2023-04-23T09:22:51.619Z"
   },
   {
    "duration": 1215,
    "start_time": "2023-04-23T09:23:05.383Z"
   },
   {
    "duration": 130,
    "start_time": "2023-04-23T09:23:06.600Z"
   },
   {
    "duration": 17,
    "start_time": "2023-04-23T09:23:06.732Z"
   },
   {
    "duration": 38,
    "start_time": "2023-04-23T09:23:06.751Z"
   },
   {
    "duration": 5,
    "start_time": "2023-04-23T09:23:06.791Z"
   },
   {
    "duration": 21,
    "start_time": "2023-04-23T09:23:06.798Z"
   },
   {
    "duration": 14,
    "start_time": "2023-04-23T09:23:06.821Z"
   },
   {
    "duration": 14,
    "start_time": "2023-04-23T09:23:06.836Z"
   },
   {
    "duration": 27,
    "start_time": "2023-04-23T09:23:06.853Z"
   },
   {
    "duration": 31,
    "start_time": "2023-04-23T09:23:06.882Z"
   },
   {
    "duration": 15,
    "start_time": "2023-04-23T09:23:06.915Z"
   },
   {
    "duration": 11,
    "start_time": "2023-04-23T09:23:06.932Z"
   },
   {
    "duration": 16,
    "start_time": "2023-04-23T09:23:06.945Z"
   },
   {
    "duration": 25,
    "start_time": "2023-04-23T09:23:06.964Z"
   },
   {
    "duration": 15,
    "start_time": "2023-04-23T09:23:06.991Z"
   },
   {
    "duration": 13,
    "start_time": "2023-04-23T09:23:07.008Z"
   },
   {
    "duration": 10,
    "start_time": "2023-04-23T09:23:07.023Z"
   },
   {
    "duration": 10,
    "start_time": "2023-04-23T09:23:07.035Z"
   },
   {
    "duration": 9,
    "start_time": "2023-04-23T09:23:07.047Z"
   },
   {
    "duration": 15,
    "start_time": "2023-04-23T09:23:07.089Z"
   },
   {
    "duration": 39,
    "start_time": "2023-04-23T09:23:07.106Z"
   },
   {
    "duration": 11,
    "start_time": "2023-04-23T09:23:07.147Z"
   },
   {
    "duration": 27,
    "start_time": "2023-04-23T09:23:07.160Z"
   },
   {
    "duration": 6,
    "start_time": "2023-04-23T09:23:07.189Z"
   },
   {
    "duration": 365,
    "start_time": "2023-04-23T09:23:07.196Z"
   },
   {
    "duration": 3,
    "start_time": "2023-04-23T09:23:07.564Z"
   },
   {
    "duration": 320,
    "start_time": "2023-04-23T09:23:07.569Z"
   },
   {
    "duration": 8,
    "start_time": "2023-04-23T09:23:07.893Z"
   },
   {
    "duration": 373,
    "start_time": "2023-04-23T09:23:07.903Z"
   },
   {
    "duration": 265,
    "start_time": "2023-04-23T09:23:08.278Z"
   },
   {
    "duration": 13,
    "start_time": "2023-04-23T09:23:08.544Z"
   },
   {
    "duration": 17,
    "start_time": "2023-04-23T09:23:08.559Z"
   },
   {
    "duration": 30,
    "start_time": "2023-04-23T09:23:08.578Z"
   },
   {
    "duration": 4,
    "start_time": "2023-04-23T09:23:08.610Z"
   },
   {
    "duration": 7,
    "start_time": "2023-04-23T09:23:08.617Z"
   },
   {
    "duration": 8,
    "start_time": "2023-04-23T09:23:08.625Z"
   },
   {
    "duration": 10,
    "start_time": "2023-04-23T09:23:08.635Z"
   },
   {
    "duration": 11,
    "start_time": "2023-04-23T09:23:08.646Z"
   },
   {
    "duration": 49,
    "start_time": "2023-04-23T09:23:08.658Z"
   },
   {
    "duration": 255,
    "start_time": "2023-04-23T09:23:08.709Z"
   },
   {
    "duration": 21,
    "start_time": "2023-04-23T09:23:08.966Z"
   },
   {
    "duration": 345,
    "start_time": "2023-04-23T09:23:08.989Z"
   },
   {
    "duration": 7,
    "start_time": "2023-04-23T09:23:09.335Z"
   },
   {
    "duration": 282,
    "start_time": "2023-04-23T09:23:09.344Z"
   },
   {
    "duration": 8,
    "start_time": "2023-04-23T09:23:09.628Z"
   },
   {
    "duration": 21,
    "start_time": "2023-04-23T09:23:09.637Z"
   },
   {
    "duration": 25,
    "start_time": "2023-04-23T09:23:09.660Z"
   },
   {
    "duration": 15,
    "start_time": "2023-04-23T09:23:09.688Z"
   },
   {
    "duration": 154,
    "start_time": "2023-04-23T09:23:09.705Z"
   },
   {
    "duration": 195,
    "start_time": "2023-04-23T09:23:09.862Z"
   },
   {
    "duration": 5,
    "start_time": "2023-04-23T09:23:10.060Z"
   },
   {
    "duration": 70,
    "start_time": "2023-04-23T09:23:10.068Z"
   },
   {
    "duration": 7,
    "start_time": "2023-04-23T09:23:10.140Z"
   },
   {
    "duration": 23,
    "start_time": "2023-04-23T09:23:10.149Z"
   },
   {
    "duration": 16,
    "start_time": "2023-04-23T09:23:10.187Z"
   },
   {
    "duration": 12,
    "start_time": "2023-04-23T09:23:10.204Z"
   },
   {
    "duration": 426,
    "start_time": "2023-04-23T09:23:10.218Z"
   },
   {
    "duration": 425,
    "start_time": "2023-04-23T09:23:10.647Z"
   },
   {
    "duration": 13,
    "start_time": "2023-04-23T09:23:11.074Z"
   },
   {
    "duration": 18,
    "start_time": "2023-04-23T09:23:11.089Z"
   },
   {
    "duration": 53,
    "start_time": "2023-04-23T09:23:11.109Z"
   },
   {
    "duration": 293,
    "start_time": "2023-04-23T09:23:11.164Z"
   },
   {
    "duration": 7,
    "start_time": "2023-04-23T09:23:11.459Z"
   },
   {
    "duration": 20,
    "start_time": "2023-04-23T09:23:11.468Z"
   },
   {
    "duration": 26,
    "start_time": "2023-04-23T09:23:11.490Z"
   },
   {
    "duration": 313,
    "start_time": "2023-04-23T09:23:11.518Z"
   },
   {
    "duration": 5,
    "start_time": "2023-04-23T09:23:11.833Z"
   },
   {
    "duration": 13,
    "start_time": "2023-04-23T09:23:11.840Z"
   },
   {
    "duration": 5,
    "start_time": "2023-04-23T09:23:19.328Z"
   },
   {
    "duration": 3,
    "start_time": "2023-04-23T09:33:35.455Z"
   },
   {
    "duration": 1195,
    "start_time": "2023-04-23T09:56:16.917Z"
   },
   {
    "duration": 84,
    "start_time": "2023-04-23T09:56:18.115Z"
   },
   {
    "duration": 17,
    "start_time": "2023-04-23T09:56:18.201Z"
   },
   {
    "duration": 42,
    "start_time": "2023-04-23T09:56:18.221Z"
   },
   {
    "duration": 3,
    "start_time": "2023-04-23T09:56:18.266Z"
   },
   {
    "duration": 17,
    "start_time": "2023-04-23T09:56:18.271Z"
   },
   {
    "duration": 26,
    "start_time": "2023-04-23T09:56:18.290Z"
   },
   {
    "duration": 26,
    "start_time": "2023-04-23T09:56:18.318Z"
   },
   {
    "duration": 32,
    "start_time": "2023-04-23T09:56:18.347Z"
   },
   {
    "duration": 36,
    "start_time": "2023-04-23T09:56:18.382Z"
   },
   {
    "duration": 18,
    "start_time": "2023-04-23T09:56:18.420Z"
   },
   {
    "duration": 7,
    "start_time": "2023-04-23T09:56:18.440Z"
   },
   {
    "duration": 12,
    "start_time": "2023-04-23T09:56:18.449Z"
   },
   {
    "duration": 10,
    "start_time": "2023-04-23T09:56:18.463Z"
   },
   {
    "duration": 12,
    "start_time": "2023-04-23T09:56:18.475Z"
   },
   {
    "duration": 17,
    "start_time": "2023-04-23T09:56:18.489Z"
   },
   {
    "duration": 9,
    "start_time": "2023-04-23T09:56:18.508Z"
   },
   {
    "duration": 31,
    "start_time": "2023-04-23T09:56:18.518Z"
   },
   {
    "duration": 26,
    "start_time": "2023-04-23T09:56:18.550Z"
   },
   {
    "duration": 16,
    "start_time": "2023-04-23T09:56:18.578Z"
   },
   {
    "duration": 30,
    "start_time": "2023-04-23T09:56:18.596Z"
   },
   {
    "duration": 12,
    "start_time": "2023-04-23T09:56:18.628Z"
   },
   {
    "duration": 36,
    "start_time": "2023-04-23T09:56:18.643Z"
   },
   {
    "duration": 26,
    "start_time": "2023-04-23T09:56:18.681Z"
   },
   {
    "duration": 371,
    "start_time": "2023-04-23T09:56:18.709Z"
   },
   {
    "duration": 5,
    "start_time": "2023-04-23T09:56:19.082Z"
   },
   {
    "duration": 305,
    "start_time": "2023-04-23T09:56:19.091Z"
   },
   {
    "duration": 7,
    "start_time": "2023-04-23T09:56:19.400Z"
   },
   {
    "duration": 378,
    "start_time": "2023-04-23T09:56:19.410Z"
   },
   {
    "duration": 276,
    "start_time": "2023-04-23T09:56:19.790Z"
   },
   {
    "duration": 21,
    "start_time": "2023-04-23T09:56:20.067Z"
   },
   {
    "duration": 5,
    "start_time": "2023-04-23T09:56:20.090Z"
   },
   {
    "duration": 33,
    "start_time": "2023-04-23T09:56:20.097Z"
   },
   {
    "duration": 4,
    "start_time": "2023-04-23T09:56:20.133Z"
   },
   {
    "duration": 7,
    "start_time": "2023-04-23T09:56:20.139Z"
   },
   {
    "duration": 8,
    "start_time": "2023-04-23T09:56:20.148Z"
   },
   {
    "duration": 34,
    "start_time": "2023-04-23T09:56:20.158Z"
   },
   {
    "duration": 24,
    "start_time": "2023-04-23T09:56:20.195Z"
   },
   {
    "duration": 44,
    "start_time": "2023-04-23T09:56:20.221Z"
   },
   {
    "duration": 307,
    "start_time": "2023-04-23T09:56:20.267Z"
   },
   {
    "duration": 21,
    "start_time": "2023-04-23T09:56:20.578Z"
   },
   {
    "duration": 409,
    "start_time": "2023-04-23T09:56:20.601Z"
   },
   {
    "duration": 7,
    "start_time": "2023-04-23T09:56:21.012Z"
   },
   {
    "duration": 309,
    "start_time": "2023-04-23T09:56:21.021Z"
   },
   {
    "duration": 8,
    "start_time": "2023-04-23T09:56:21.332Z"
   },
   {
    "duration": 12,
    "start_time": "2023-04-23T09:56:21.341Z"
   },
   {
    "duration": 35,
    "start_time": "2023-04-23T09:56:21.355Z"
   },
   {
    "duration": 12,
    "start_time": "2023-04-23T09:56:21.392Z"
   },
   {
    "duration": 174,
    "start_time": "2023-04-23T09:56:21.407Z"
   },
   {
    "duration": 167,
    "start_time": "2023-04-23T09:56:21.587Z"
   },
   {
    "duration": 4,
    "start_time": "2023-04-23T09:56:21.757Z"
   },
   {
    "duration": 75,
    "start_time": "2023-04-23T09:56:21.763Z"
   },
   {
    "duration": 8,
    "start_time": "2023-04-23T09:56:21.840Z"
   },
   {
    "duration": 9,
    "start_time": "2023-04-23T09:56:21.851Z"
   },
   {
    "duration": 37,
    "start_time": "2023-04-23T09:56:21.862Z"
   },
   {
    "duration": 24,
    "start_time": "2023-04-23T09:56:21.901Z"
   },
   {
    "duration": 353,
    "start_time": "2023-04-23T09:56:21.927Z"
   },
   {
    "duration": 377,
    "start_time": "2023-04-23T09:56:22.287Z"
   },
   {
    "duration": 7,
    "start_time": "2023-04-23T09:56:22.666Z"
   },
   {
    "duration": 22,
    "start_time": "2023-04-23T09:56:22.675Z"
   },
   {
    "duration": 14,
    "start_time": "2023-04-23T09:56:22.699Z"
   },
   {
    "duration": 308,
    "start_time": "2023-04-23T09:56:22.715Z"
   },
   {
    "duration": 5,
    "start_time": "2023-04-23T09:56:23.025Z"
   },
   {
    "duration": 22,
    "start_time": "2023-04-23T09:56:23.033Z"
   },
   {
    "duration": 16,
    "start_time": "2023-04-23T09:56:23.058Z"
   },
   {
    "duration": 324,
    "start_time": "2023-04-23T09:56:23.076Z"
   },
   {
    "duration": 4,
    "start_time": "2023-04-23T09:56:23.402Z"
   },
   {
    "duration": 7,
    "start_time": "2023-04-23T09:56:23.408Z"
   },
   {
    "duration": 44,
    "start_time": "2023-04-23T17:08:38.335Z"
   },
   {
    "duration": 1284,
    "start_time": "2023-04-23T17:08:46.516Z"
   },
   {
    "duration": 117,
    "start_time": "2023-04-23T17:08:47.802Z"
   },
   {
    "duration": 18,
    "start_time": "2023-04-23T17:08:48.061Z"
   },
   {
    "duration": 25,
    "start_time": "2023-04-23T17:08:49.620Z"
   },
   {
    "duration": 4,
    "start_time": "2023-04-23T17:09:00.032Z"
   },
   {
    "duration": 5,
    "start_time": "2023-04-23T17:09:01.421Z"
   },
   {
    "duration": 5,
    "start_time": "2023-04-23T17:09:08.238Z"
   },
   {
    "duration": 5,
    "start_time": "2023-04-23T17:09:09.171Z"
   },
   {
    "duration": 13,
    "start_time": "2023-04-23T17:09:10.804Z"
   },
   {
    "duration": 12,
    "start_time": "2023-04-23T17:09:11.193Z"
   },
   {
    "duration": 3,
    "start_time": "2023-04-23T17:14:28.710Z"
   },
   {
    "duration": 90,
    "start_time": "2023-04-23T17:14:28.714Z"
   },
   {
    "duration": 14,
    "start_time": "2023-04-23T17:14:28.806Z"
   },
   {
    "duration": 20,
    "start_time": "2023-04-23T17:14:28.821Z"
   },
   {
    "duration": 43,
    "start_time": "2023-04-23T17:14:28.843Z"
   },
   {
    "duration": 3,
    "start_time": "2023-04-23T17:14:28.888Z"
   },
   {
    "duration": 14,
    "start_time": "2023-04-23T17:14:28.892Z"
   },
   {
    "duration": 13,
    "start_time": "2023-04-23T17:14:28.908Z"
   },
   {
    "duration": 9,
    "start_time": "2023-04-23T17:14:28.922Z"
   },
   {
    "duration": 13,
    "start_time": "2023-04-23T17:14:28.932Z"
   },
   {
    "duration": 9,
    "start_time": "2023-04-23T17:14:28.947Z"
   },
   {
    "duration": 11,
    "start_time": "2023-04-23T17:14:28.958Z"
   },
   {
    "duration": 6,
    "start_time": "2023-04-23T17:14:28.971Z"
   },
   {
    "duration": 7,
    "start_time": "2023-04-23T17:14:28.979Z"
   },
   {
    "duration": 8,
    "start_time": "2023-04-23T17:14:28.987Z"
   },
   {
    "duration": 23,
    "start_time": "2023-04-23T17:14:28.996Z"
   },
   {
    "duration": 24,
    "start_time": "2023-04-23T17:14:29.021Z"
   },
   {
    "duration": 19,
    "start_time": "2023-04-23T17:14:29.047Z"
   },
   {
    "duration": 26,
    "start_time": "2023-04-23T17:14:29.068Z"
   },
   {
    "duration": 41,
    "start_time": "2023-04-23T17:14:29.095Z"
   },
   {
    "duration": 38,
    "start_time": "2023-04-23T17:14:29.137Z"
   },
   {
    "duration": 25,
    "start_time": "2023-04-23T17:14:29.176Z"
   },
   {
    "duration": 11,
    "start_time": "2023-04-23T17:14:29.203Z"
   },
   {
    "duration": 9,
    "start_time": "2023-04-23T17:15:30.512Z"
   },
   {
    "duration": 9,
    "start_time": "2023-04-23T17:15:48.439Z"
   },
   {
    "duration": 9,
    "start_time": "2023-04-23T17:15:53.706Z"
   },
   {
    "duration": 59,
    "start_time": "2023-04-23T17:16:00.233Z"
   },
   {
    "duration": 9,
    "start_time": "2023-04-23T17:16:07.148Z"
   },
   {
    "duration": 17,
    "start_time": "2023-04-23T17:18:12.704Z"
   },
   {
    "duration": 24,
    "start_time": "2023-04-23T17:18:37.000Z"
   },
   {
    "duration": 9,
    "start_time": "2023-04-23T17:19:03.305Z"
   },
   {
    "duration": 10,
    "start_time": "2023-04-23T17:19:14.079Z"
   },
   {
    "duration": 15,
    "start_time": "2023-04-23T17:19:33.570Z"
   },
   {
    "duration": 298,
    "start_time": "2023-04-23T17:23:30.477Z"
   },
   {
    "duration": 11,
    "start_time": "2023-04-23T17:25:08.548Z"
   },
   {
    "duration": 1094,
    "start_time": "2023-04-23T17:25:30.105Z"
   },
   {
    "duration": 84,
    "start_time": "2023-04-23T17:25:31.201Z"
   },
   {
    "duration": 21,
    "start_time": "2023-04-23T17:25:31.287Z"
   },
   {
    "duration": 43,
    "start_time": "2023-04-23T17:25:31.309Z"
   },
   {
    "duration": 37,
    "start_time": "2023-04-23T17:25:31.354Z"
   },
   {
    "duration": 25,
    "start_time": "2023-04-23T17:25:31.393Z"
   },
   {
    "duration": 29,
    "start_time": "2023-04-23T17:25:31.420Z"
   },
   {
    "duration": 32,
    "start_time": "2023-04-23T17:25:31.450Z"
   },
   {
    "duration": 51,
    "start_time": "2023-04-23T17:25:31.484Z"
   },
   {
    "duration": 69,
    "start_time": "2023-04-23T17:25:31.537Z"
   },
   {
    "duration": 26,
    "start_time": "2023-04-23T17:25:31.608Z"
   },
   {
    "duration": 51,
    "start_time": "2023-04-23T17:25:31.636Z"
   },
   {
    "duration": 40,
    "start_time": "2023-04-23T17:25:31.689Z"
   },
   {
    "duration": 24,
    "start_time": "2023-04-23T17:25:31.733Z"
   },
   {
    "duration": 16,
    "start_time": "2023-04-23T17:25:31.758Z"
   },
   {
    "duration": 26,
    "start_time": "2023-04-23T17:25:31.776Z"
   },
   {
    "duration": 24,
    "start_time": "2023-04-23T17:25:31.804Z"
   },
   {
    "duration": 13,
    "start_time": "2023-04-23T17:25:31.829Z"
   },
   {
    "duration": 21,
    "start_time": "2023-04-23T17:25:31.843Z"
   },
   {
    "duration": 30,
    "start_time": "2023-04-23T17:25:31.865Z"
   },
   {
    "duration": 49,
    "start_time": "2023-04-23T17:25:31.896Z"
   },
   {
    "duration": 32,
    "start_time": "2023-04-23T17:25:31.946Z"
   },
   {
    "duration": 15,
    "start_time": "2023-04-23T17:25:31.979Z"
   },
   {
    "duration": 44,
    "start_time": "2023-04-23T17:25:31.995Z"
   },
   {
    "duration": 0,
    "start_time": "2023-04-23T17:25:32.040Z"
   },
   {
    "duration": 0,
    "start_time": "2023-04-23T17:25:32.041Z"
   },
   {
    "duration": 0,
    "start_time": "2023-04-23T17:25:32.043Z"
   },
   {
    "duration": 0,
    "start_time": "2023-04-23T17:25:32.044Z"
   },
   {
    "duration": 0,
    "start_time": "2023-04-23T17:25:32.046Z"
   },
   {
    "duration": 0,
    "start_time": "2023-04-23T17:25:32.047Z"
   },
   {
    "duration": 0,
    "start_time": "2023-04-23T17:25:32.048Z"
   },
   {
    "duration": 0,
    "start_time": "2023-04-23T17:25:32.050Z"
   },
   {
    "duration": 0,
    "start_time": "2023-04-23T17:25:32.050Z"
   },
   {
    "duration": 0,
    "start_time": "2023-04-23T17:25:32.051Z"
   },
   {
    "duration": 0,
    "start_time": "2023-04-23T17:25:32.053Z"
   },
   {
    "duration": 0,
    "start_time": "2023-04-23T17:25:32.054Z"
   },
   {
    "duration": 0,
    "start_time": "2023-04-23T17:25:32.055Z"
   },
   {
    "duration": 0,
    "start_time": "2023-04-23T17:25:32.056Z"
   },
   {
    "duration": 0,
    "start_time": "2023-04-23T17:25:32.057Z"
   },
   {
    "duration": 0,
    "start_time": "2023-04-23T17:25:32.058Z"
   },
   {
    "duration": 0,
    "start_time": "2023-04-23T17:25:32.059Z"
   },
   {
    "duration": 0,
    "start_time": "2023-04-23T17:25:32.060Z"
   },
   {
    "duration": 0,
    "start_time": "2023-04-23T17:25:32.061Z"
   },
   {
    "duration": 96,
    "start_time": "2023-04-23T17:25:32.232Z"
   },
   {
    "duration": 13,
    "start_time": "2023-04-23T17:25:49.129Z"
   },
   {
    "duration": 9,
    "start_time": "2023-04-23T17:25:59.006Z"
   },
   {
    "duration": 25,
    "start_time": "2023-04-23T17:25:59.017Z"
   },
   {
    "duration": 13,
    "start_time": "2023-04-23T17:25:59.043Z"
   },
   {
    "duration": 5,
    "start_time": "2023-04-23T17:25:59.058Z"
   },
   {
    "duration": 323,
    "start_time": "2023-04-23T17:25:59.064Z"
   },
   {
    "duration": 2,
    "start_time": "2023-04-23T17:25:59.388Z"
   },
   {
    "duration": 253,
    "start_time": "2023-04-23T17:25:59.391Z"
   },
   {
    "duration": 7,
    "start_time": "2023-04-23T17:25:59.646Z"
   },
   {
    "duration": 307,
    "start_time": "2023-04-23T17:25:59.656Z"
   },
   {
    "duration": 236,
    "start_time": "2023-04-23T17:25:59.965Z"
   },
   {
    "duration": 9,
    "start_time": "2023-04-23T17:26:00.202Z"
   },
   {
    "duration": 22,
    "start_time": "2023-04-23T17:26:00.213Z"
   },
   {
    "duration": 24,
    "start_time": "2023-04-23T17:26:00.236Z"
   },
   {
    "duration": 14,
    "start_time": "2023-04-23T17:26:00.261Z"
   },
   {
    "duration": 20,
    "start_time": "2023-04-23T17:26:00.277Z"
   },
   {
    "duration": 15,
    "start_time": "2023-04-23T17:26:00.299Z"
   },
   {
    "duration": 21,
    "start_time": "2023-04-23T17:26:00.315Z"
   },
   {
    "duration": 26,
    "start_time": "2023-04-23T17:26:00.338Z"
   },
   {
    "duration": 38,
    "start_time": "2023-04-23T17:26:00.366Z"
   },
   {
    "duration": 266,
    "start_time": "2023-04-23T17:26:00.406Z"
   },
   {
    "duration": 9,
    "start_time": "2023-04-23T17:26:06.765Z"
   },
   {
    "duration": 265,
    "start_time": "2023-04-23T17:26:37.904Z"
   },
   {
    "duration": 238,
    "start_time": "2023-04-23T17:26:47.665Z"
   },
   {
    "duration": 219,
    "start_time": "2023-04-23T17:27:03.067Z"
   },
   {
    "duration": 12,
    "start_time": "2023-04-23T17:28:16.734Z"
   },
   {
    "duration": 3,
    "start_time": "2023-04-23T17:28:25.391Z"
   },
   {
    "duration": 84,
    "start_time": "2023-04-23T17:28:25.395Z"
   },
   {
    "duration": 16,
    "start_time": "2023-04-23T17:28:25.481Z"
   },
   {
    "duration": 16,
    "start_time": "2023-04-23T17:28:25.498Z"
   },
   {
    "duration": 42,
    "start_time": "2023-04-23T17:28:25.516Z"
   },
   {
    "duration": 3,
    "start_time": "2023-04-23T17:28:25.559Z"
   },
   {
    "duration": 13,
    "start_time": "2023-04-23T17:28:25.564Z"
   },
   {
    "duration": 6,
    "start_time": "2023-04-23T17:28:25.578Z"
   },
   {
    "duration": 7,
    "start_time": "2023-04-23T17:28:25.585Z"
   },
   {
    "duration": 15,
    "start_time": "2023-04-23T17:28:25.593Z"
   },
   {
    "duration": 10,
    "start_time": "2023-04-23T17:28:25.634Z"
   },
   {
    "duration": 11,
    "start_time": "2023-04-23T17:28:25.645Z"
   },
   {
    "duration": 5,
    "start_time": "2023-04-23T17:28:25.658Z"
   },
   {
    "duration": 8,
    "start_time": "2023-04-23T17:28:25.665Z"
   },
   {
    "duration": 10,
    "start_time": "2023-04-23T17:28:25.674Z"
   },
   {
    "duration": 15,
    "start_time": "2023-04-23T17:28:25.685Z"
   },
   {
    "duration": 9,
    "start_time": "2023-04-23T17:28:25.701Z"
   },
   {
    "duration": 26,
    "start_time": "2023-04-23T17:28:25.711Z"
   },
   {
    "duration": 7,
    "start_time": "2023-04-23T17:28:25.738Z"
   },
   {
    "duration": 4,
    "start_time": "2023-04-23T17:28:25.746Z"
   },
   {
    "duration": 11,
    "start_time": "2023-04-23T17:28:25.751Z"
   },
   {
    "duration": 10,
    "start_time": "2023-04-23T17:28:25.763Z"
   },
   {
    "duration": 8,
    "start_time": "2023-04-23T17:28:25.774Z"
   },
   {
    "duration": 31,
    "start_time": "2023-04-23T17:28:25.783Z"
   },
   {
    "duration": 24,
    "start_time": "2023-04-23T17:28:25.815Z"
   },
   {
    "duration": 17,
    "start_time": "2023-04-23T17:28:25.840Z"
   },
   {
    "duration": 14,
    "start_time": "2023-04-23T17:28:25.858Z"
   },
   {
    "duration": 4,
    "start_time": "2023-04-23T17:28:25.874Z"
   },
   {
    "duration": 282,
    "start_time": "2023-04-23T17:28:25.881Z"
   },
   {
    "duration": 2,
    "start_time": "2023-04-23T17:28:26.165Z"
   },
   {
    "duration": 240,
    "start_time": "2023-04-23T17:28:26.168Z"
   },
   {
    "duration": 7,
    "start_time": "2023-04-23T17:28:26.409Z"
   },
   {
    "duration": 290,
    "start_time": "2023-04-23T17:28:26.427Z"
   },
   {
    "duration": 306,
    "start_time": "2023-04-23T17:28:26.719Z"
   },
   {
    "duration": 15,
    "start_time": "2023-04-23T17:28:27.026Z"
   },
   {
    "duration": 4,
    "start_time": "2023-04-23T17:28:27.042Z"
   },
   {
    "duration": 24,
    "start_time": "2023-04-23T17:28:27.047Z"
   },
   {
    "duration": 3,
    "start_time": "2023-04-23T17:28:27.073Z"
   },
   {
    "duration": 6,
    "start_time": "2023-04-23T17:28:27.077Z"
   },
   {
    "duration": 7,
    "start_time": "2023-04-23T17:28:27.084Z"
   },
   {
    "duration": 5,
    "start_time": "2023-04-23T17:28:27.093Z"
   },
   {
    "duration": 7,
    "start_time": "2023-04-23T17:28:27.100Z"
   },
   {
    "duration": 37,
    "start_time": "2023-04-23T17:28:27.108Z"
   },
   {
    "duration": 213,
    "start_time": "2023-04-23T17:28:27.146Z"
   },
   {
    "duration": 8,
    "start_time": "2023-04-23T17:28:27.361Z"
   },
   {
    "duration": 218,
    "start_time": "2023-04-23T17:28:27.371Z"
   },
   {
    "duration": 7,
    "start_time": "2023-04-23T17:28:27.591Z"
   },
   {
    "duration": 230,
    "start_time": "2023-04-23T17:28:27.600Z"
   },
   {
    "duration": 6,
    "start_time": "2023-04-23T17:28:27.834Z"
   },
   {
    "duration": 10,
    "start_time": "2023-04-23T17:28:27.842Z"
   },
   {
    "duration": 9,
    "start_time": "2023-04-23T17:28:27.854Z"
   },
   {
    "duration": 17,
    "start_time": "2023-04-23T17:28:27.864Z"
   },
   {
    "duration": 136,
    "start_time": "2023-04-23T17:28:27.883Z"
   },
   {
    "duration": 130,
    "start_time": "2023-04-23T17:28:28.021Z"
   },
   {
    "duration": 3,
    "start_time": "2023-04-23T17:28:28.153Z"
   },
   {
    "duration": 60,
    "start_time": "2023-04-23T17:28:28.158Z"
   },
   {
    "duration": 6,
    "start_time": "2023-04-23T17:28:28.219Z"
   },
   {
    "duration": 7,
    "start_time": "2023-04-23T17:28:28.234Z"
   },
   {
    "duration": 14,
    "start_time": "2023-04-23T17:28:28.242Z"
   },
   {
    "duration": 8,
    "start_time": "2023-04-23T17:28:28.257Z"
   },
   {
    "duration": 294,
    "start_time": "2023-04-23T17:28:28.267Z"
   },
   {
    "duration": 381,
    "start_time": "2023-04-23T17:28:28.563Z"
   },
   {
    "duration": 6,
    "start_time": "2023-04-23T17:28:28.946Z"
   },
   {
    "duration": 21,
    "start_time": "2023-04-23T17:28:28.953Z"
   },
   {
    "duration": 34,
    "start_time": "2023-04-23T17:28:28.975Z"
   },
   {
    "duration": 207,
    "start_time": "2023-04-23T17:28:29.013Z"
   },
   {
    "duration": 10,
    "start_time": "2023-04-23T17:28:40.875Z"
   },
   {
    "duration": 12,
    "start_time": "2023-04-23T17:28:45.667Z"
   },
   {
    "duration": 191,
    "start_time": "2023-04-23T17:28:45.972Z"
   },
   {
    "duration": 5,
    "start_time": "2023-04-23T17:28:48.064Z"
   },
   {
    "duration": 8,
    "start_time": "2023-04-23T17:35:28.893Z"
   },
   {
    "duration": 50,
    "start_time": "2023-04-23T17:35:40.683Z"
   },
   {
    "duration": 272,
    "start_time": "2023-04-23T17:35:41.265Z"
   },
   {
    "duration": 279,
    "start_time": "2023-04-23T17:36:05.185Z"
   },
   {
    "duration": 5,
    "start_time": "2023-04-23T17:42:03.176Z"
   },
   {
    "duration": 6,
    "start_time": "2023-04-23T17:42:11.394Z"
   },
   {
    "duration": 9,
    "start_time": "2023-04-23T17:48:40.691Z"
   },
   {
    "duration": 206,
    "start_time": "2023-04-23T17:48:41.146Z"
   },
   {
    "duration": 46,
    "start_time": "2023-04-23T17:49:48.272Z"
   },
   {
    "duration": 5,
    "start_time": "2023-04-23T17:50:07.281Z"
   },
   {
    "duration": 47,
    "start_time": "2023-04-23T17:56:07.888Z"
   },
   {
    "duration": 6,
    "start_time": "2023-04-23T17:56:12.065Z"
   },
   {
    "duration": 5,
    "start_time": "2023-04-23T18:01:54.824Z"
   },
   {
    "duration": 5,
    "start_time": "2023-04-23T18:02:23.897Z"
   },
   {
    "duration": 1024,
    "start_time": "2023-04-23T18:02:31.241Z"
   },
   {
    "duration": 82,
    "start_time": "2023-04-23T18:02:32.267Z"
   },
   {
    "duration": 17,
    "start_time": "2023-04-23T18:02:32.351Z"
   },
   {
    "duration": 18,
    "start_time": "2023-04-23T18:02:32.369Z"
   },
   {
    "duration": 69,
    "start_time": "2023-04-23T18:02:32.389Z"
   },
   {
    "duration": 3,
    "start_time": "2023-04-23T18:02:32.460Z"
   },
   {
    "duration": 38,
    "start_time": "2023-04-23T18:02:32.464Z"
   },
   {
    "duration": 27,
    "start_time": "2023-04-23T18:02:32.504Z"
   },
   {
    "duration": 16,
    "start_time": "2023-04-23T18:02:32.533Z"
   },
   {
    "duration": 29,
    "start_time": "2023-04-23T18:02:32.550Z"
   },
   {
    "duration": 26,
    "start_time": "2023-04-23T18:02:32.580Z"
   },
   {
    "duration": 21,
    "start_time": "2023-04-23T18:02:32.607Z"
   },
   {
    "duration": 29,
    "start_time": "2023-04-23T18:02:32.629Z"
   },
   {
    "duration": 15,
    "start_time": "2023-04-23T18:02:32.660Z"
   },
   {
    "duration": 18,
    "start_time": "2023-04-23T18:02:32.677Z"
   },
   {
    "duration": 15,
    "start_time": "2023-04-23T18:02:32.696Z"
   },
   {
    "duration": 14,
    "start_time": "2023-04-23T18:02:32.713Z"
   },
   {
    "duration": 11,
    "start_time": "2023-04-23T18:02:32.729Z"
   },
   {
    "duration": 7,
    "start_time": "2023-04-23T18:02:32.742Z"
   },
   {
    "duration": 23,
    "start_time": "2023-04-23T18:02:32.750Z"
   },
   {
    "duration": 22,
    "start_time": "2023-04-23T18:02:32.775Z"
   },
   {
    "duration": 29,
    "start_time": "2023-04-23T18:02:32.799Z"
   },
   {
    "duration": 7,
    "start_time": "2023-04-23T18:02:32.830Z"
   },
   {
    "duration": 35,
    "start_time": "2023-04-23T18:02:32.839Z"
   },
   {
    "duration": 8,
    "start_time": "2023-04-23T18:02:32.876Z"
   },
   {
    "duration": 22,
    "start_time": "2023-04-23T18:02:32.886Z"
   },
   {
    "duration": 15,
    "start_time": "2023-04-23T18:02:32.909Z"
   },
   {
    "duration": 5,
    "start_time": "2023-04-23T18:02:32.925Z"
   },
   {
    "duration": 328,
    "start_time": "2023-04-23T18:02:32.934Z"
   },
   {
    "duration": 3,
    "start_time": "2023-04-23T18:02:33.264Z"
   },
   {
    "duration": 275,
    "start_time": "2023-04-23T18:02:33.269Z"
   },
   {
    "duration": 8,
    "start_time": "2023-04-23T18:02:33.545Z"
   },
   {
    "duration": 317,
    "start_time": "2023-04-23T18:02:33.554Z"
   },
   {
    "duration": 223,
    "start_time": "2023-04-23T18:02:33.872Z"
   },
   {
    "duration": 10,
    "start_time": "2023-04-23T18:02:34.097Z"
   },
   {
    "duration": 64,
    "start_time": "2023-04-23T18:02:34.108Z"
   },
   {
    "duration": 24,
    "start_time": "2023-04-23T18:02:34.173Z"
   },
   {
    "duration": 3,
    "start_time": "2023-04-23T18:02:34.199Z"
   },
   {
    "duration": 6,
    "start_time": "2023-04-23T18:02:34.204Z"
   },
   {
    "duration": 15,
    "start_time": "2023-04-23T18:02:34.212Z"
   },
   {
    "duration": 5,
    "start_time": "2023-04-23T18:02:34.231Z"
   },
   {
    "duration": 11,
    "start_time": "2023-04-23T18:02:34.237Z"
   },
   {
    "duration": 5,
    "start_time": "2023-04-23T18:02:34.249Z"
   },
   {
    "duration": 27,
    "start_time": "2023-04-23T18:02:34.255Z"
   },
   {
    "duration": 236,
    "start_time": "2023-04-23T18:02:34.283Z"
   },
   {
    "duration": 14,
    "start_time": "2023-04-23T18:02:34.521Z"
   },
   {
    "duration": 328,
    "start_time": "2023-04-23T18:02:34.537Z"
   },
   {
    "duration": 7,
    "start_time": "2023-04-23T18:02:34.866Z"
   },
   {
    "duration": 239,
    "start_time": "2023-04-23T18:02:34.874Z"
   },
   {
    "duration": 7,
    "start_time": "2023-04-23T18:02:35.114Z"
   },
   {
    "duration": 15,
    "start_time": "2023-04-23T18:02:35.122Z"
   },
   {
    "duration": 5,
    "start_time": "2023-04-23T18:02:35.138Z"
   },
   {
    "duration": 12,
    "start_time": "2023-04-23T18:02:35.144Z"
   },
   {
    "duration": 150,
    "start_time": "2023-04-23T18:02:35.158Z"
   },
   {
    "duration": 159,
    "start_time": "2023-04-23T18:02:35.310Z"
   },
   {
    "duration": 3,
    "start_time": "2023-04-23T18:02:35.471Z"
   },
   {
    "duration": 60,
    "start_time": "2023-04-23T18:02:35.475Z"
   },
   {
    "duration": 6,
    "start_time": "2023-04-23T18:02:35.536Z"
   },
   {
    "duration": 7,
    "start_time": "2023-04-23T18:02:35.544Z"
   },
   {
    "duration": 11,
    "start_time": "2023-04-23T18:02:35.553Z"
   },
   {
    "duration": 7,
    "start_time": "2023-04-23T18:02:35.566Z"
   },
   {
    "duration": 307,
    "start_time": "2023-04-23T18:02:35.575Z"
   },
   {
    "duration": 299,
    "start_time": "2023-04-23T18:02:35.884Z"
   },
   {
    "duration": 5,
    "start_time": "2023-04-23T18:02:36.185Z"
   },
   {
    "duration": 15,
    "start_time": "2023-04-23T18:02:36.192Z"
   },
   {
    "duration": 68,
    "start_time": "2023-04-23T18:02:36.208Z"
   },
   {
    "duration": 280,
    "start_time": "2023-04-23T18:02:36.277Z"
   },
   {
    "duration": 10,
    "start_time": "2023-04-23T18:02:36.558Z"
   },
   {
    "duration": 282,
    "start_time": "2023-04-23T18:02:36.569Z"
   },
   {
    "duration": 4,
    "start_time": "2023-04-23T18:02:36.852Z"
   },
   {
    "duration": 12,
    "start_time": "2023-04-23T18:02:36.857Z"
   },
   {
    "duration": 10,
    "start_time": "2023-04-23T18:02:36.871Z"
   },
   {
    "duration": 189,
    "start_time": "2023-04-23T18:02:36.883Z"
   },
   {
    "duration": 3,
    "start_time": "2023-04-23T18:02:37.074Z"
   },
   {
    "duration": 44,
    "start_time": "2023-04-23T18:02:37.078Z"
   },
   {
    "duration": 109,
    "start_time": "2023-04-23T18:08:26.208Z"
   },
   {
    "duration": 5,
    "start_time": "2023-04-23T18:09:24.574Z"
   },
   {
    "duration": 17,
    "start_time": "2023-04-23T18:09:34.404Z"
   },
   {
    "duration": 153,
    "start_time": "2023-04-23T18:09:54.723Z"
   },
   {
    "duration": 8,
    "start_time": "2023-04-23T18:10:06.735Z"
   },
   {
    "duration": 55,
    "start_time": "2023-04-24T06:50:32.899Z"
   },
   {
    "duration": 1370,
    "start_time": "2023-04-24T06:50:43.188Z"
   },
   {
    "duration": 145,
    "start_time": "2023-04-24T06:50:44.561Z"
   },
   {
    "duration": 24,
    "start_time": "2023-04-24T06:50:44.707Z"
   },
   {
    "duration": 16,
    "start_time": "2023-04-24T06:50:44.734Z"
   },
   {
    "duration": 43,
    "start_time": "2023-04-24T06:50:44.752Z"
   },
   {
    "duration": 4,
    "start_time": "2023-04-24T06:50:44.797Z"
   },
   {
    "duration": 10,
    "start_time": "2023-04-24T06:50:44.802Z"
   },
   {
    "duration": 10,
    "start_time": "2023-04-24T06:50:44.814Z"
   },
   {
    "duration": 6,
    "start_time": "2023-04-24T06:50:44.841Z"
   },
   {
    "duration": 21,
    "start_time": "2023-04-24T06:50:44.850Z"
   },
   {
    "duration": 15,
    "start_time": "2023-04-24T06:50:44.873Z"
   },
   {
    "duration": 21,
    "start_time": "2023-04-24T06:50:44.890Z"
   },
   {
    "duration": 29,
    "start_time": "2023-04-24T06:50:44.913Z"
   },
   {
    "duration": 13,
    "start_time": "2023-04-24T06:50:44.944Z"
   },
   {
    "duration": 12,
    "start_time": "2023-04-24T06:50:44.959Z"
   },
   {
    "duration": 23,
    "start_time": "2023-04-24T06:50:44.973Z"
   },
   {
    "duration": 41,
    "start_time": "2023-04-24T06:50:44.998Z"
   },
   {
    "duration": 35,
    "start_time": "2023-04-24T06:50:45.040Z"
   },
   {
    "duration": 47,
    "start_time": "2023-04-24T06:50:45.077Z"
   },
   {
    "duration": 54,
    "start_time": "2023-04-24T06:50:45.126Z"
   },
   {
    "duration": 18,
    "start_time": "2023-04-24T06:50:45.182Z"
   },
   {
    "duration": 18,
    "start_time": "2023-04-24T06:50:45.202Z"
   },
   {
    "duration": 9,
    "start_time": "2023-04-24T06:50:45.222Z"
   },
   {
    "duration": 26,
    "start_time": "2023-04-24T06:50:45.234Z"
   },
   {
    "duration": 14,
    "start_time": "2023-04-24T06:50:45.262Z"
   },
   {
    "duration": 35,
    "start_time": "2023-04-24T06:50:45.278Z"
   },
   {
    "duration": 32,
    "start_time": "2023-04-24T06:50:45.315Z"
   },
   {
    "duration": 11,
    "start_time": "2023-04-24T06:50:45.352Z"
   },
   {
    "duration": 396,
    "start_time": "2023-04-24T06:50:45.365Z"
   },
   {
    "duration": 3,
    "start_time": "2023-04-24T06:50:45.762Z"
   },
   {
    "duration": 379,
    "start_time": "2023-04-24T06:50:45.767Z"
   },
   {
    "duration": 12,
    "start_time": "2023-04-24T06:50:46.148Z"
   },
   {
    "duration": 411,
    "start_time": "2023-04-24T06:50:46.162Z"
   },
   {
    "duration": 306,
    "start_time": "2023-04-24T06:50:46.576Z"
   },
   {
    "duration": 12,
    "start_time": "2023-04-24T06:50:46.885Z"
   },
   {
    "duration": 30,
    "start_time": "2023-04-24T06:50:46.900Z"
   },
   {
    "duration": 27,
    "start_time": "2023-04-24T06:50:46.932Z"
   },
   {
    "duration": 18,
    "start_time": "2023-04-24T06:50:46.962Z"
   },
   {
    "duration": 23,
    "start_time": "2023-04-24T06:50:46.983Z"
   },
   {
    "duration": 31,
    "start_time": "2023-04-24T06:50:47.008Z"
   },
   {
    "duration": 24,
    "start_time": "2023-04-24T06:50:47.042Z"
   },
   {
    "duration": 35,
    "start_time": "2023-04-24T06:50:47.068Z"
   },
   {
    "duration": 55,
    "start_time": "2023-04-24T06:50:47.106Z"
   },
   {
    "duration": 31,
    "start_time": "2023-04-24T06:50:47.163Z"
   },
   {
    "duration": 179,
    "start_time": "2023-04-24T06:50:47.197Z"
   },
   {
    "duration": 10,
    "start_time": "2023-04-24T06:50:47.378Z"
   },
   {
    "duration": 357,
    "start_time": "2023-04-24T06:50:47.390Z"
   },
   {
    "duration": 8,
    "start_time": "2023-04-24T06:50:47.749Z"
   },
   {
    "duration": 314,
    "start_time": "2023-04-24T06:50:47.759Z"
   },
   {
    "duration": 10,
    "start_time": "2023-04-24T06:50:48.075Z"
   },
   {
    "duration": 25,
    "start_time": "2023-04-24T06:50:48.087Z"
   },
   {
    "duration": 18,
    "start_time": "2023-04-24T06:50:48.114Z"
   },
   {
    "duration": 36,
    "start_time": "2023-04-24T06:50:48.134Z"
   },
   {
    "duration": 161,
    "start_time": "2023-04-24T06:50:48.172Z"
   },
   {
    "duration": 160,
    "start_time": "2023-04-24T06:50:48.335Z"
   },
   {
    "duration": 4,
    "start_time": "2023-04-24T06:50:48.497Z"
   },
   {
    "duration": 77,
    "start_time": "2023-04-24T06:50:48.503Z"
   },
   {
    "duration": 8,
    "start_time": "2023-04-24T06:50:48.582Z"
   },
   {
    "duration": 31,
    "start_time": "2023-04-24T06:50:48.592Z"
   },
   {
    "duration": 25,
    "start_time": "2023-04-24T06:50:48.625Z"
   },
   {
    "duration": 32,
    "start_time": "2023-04-24T06:50:48.653Z"
   },
   {
    "duration": 388,
    "start_time": "2023-04-24T06:50:48.687Z"
   },
   {
    "duration": 373,
    "start_time": "2023-04-24T06:50:49.077Z"
   },
   {
    "duration": 6,
    "start_time": "2023-04-24T06:50:49.452Z"
   },
   {
    "duration": 30,
    "start_time": "2023-04-24T06:50:49.460Z"
   },
   {
    "duration": 68,
    "start_time": "2023-04-24T06:50:49.492Z"
   },
   {
    "duration": 330,
    "start_time": "2023-04-24T06:50:49.563Z"
   },
   {
    "duration": 11,
    "start_time": "2023-04-24T06:50:49.894Z"
   },
   {
    "duration": 352,
    "start_time": "2023-04-24T06:50:49.906Z"
   },
   {
    "duration": 5,
    "start_time": "2023-04-24T06:50:50.260Z"
   },
   {
    "duration": 8,
    "start_time": "2023-04-24T06:50:50.267Z"
   },
   {
    "duration": 24,
    "start_time": "2023-04-24T06:50:50.277Z"
   },
   {
    "duration": 275,
    "start_time": "2023-04-24T06:50:50.303Z"
   },
   {
    "duration": 4,
    "start_time": "2023-04-24T06:50:50.580Z"
   },
   {
    "duration": 21,
    "start_time": "2023-04-24T06:50:50.586Z"
   },
   {
    "duration": 7,
    "start_time": "2023-04-24T06:51:46.243Z"
   },
   {
    "duration": 5,
    "start_time": "2023-04-24T06:51:49.514Z"
   },
   {
    "duration": 5,
    "start_time": "2023-04-24T06:51:55.186Z"
   },
   {
    "duration": 4,
    "start_time": "2023-04-24T06:51:58.286Z"
   }
  ],
  "kernelspec": {
   "display_name": "Python 3 (ipykernel)",
   "language": "python",
   "name": "python3"
  },
  "language_info": {
   "codemirror_mode": {
    "name": "ipython",
    "version": 3
   },
   "file_extension": ".py",
   "mimetype": "text/x-python",
   "name": "python",
   "nbconvert_exporter": "python",
   "pygments_lexer": "ipython3",
   "version": "3.11.5"
  },
  "toc": {
   "base_numbering": 1,
   "nav_menu": {},
   "number_sections": true,
   "sideBar": true,
   "skip_h1_title": true,
   "title_cell": "Table of Contents",
   "title_sidebar": "Contents",
   "toc_cell": false,
   "toc_position": {},
   "toc_section_display": true,
   "toc_window_display": false
  }
 },
 "nbformat": 4,
 "nbformat_minor": 4
}
